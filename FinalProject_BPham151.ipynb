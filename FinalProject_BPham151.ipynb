{
 "cells": [
  {
   "cell_type": "markdown",
   "metadata": {},
   "source": [
    "# COGS 108 - Final Project "
   ]
  },
  {
   "cell_type": "markdown",
   "metadata": {},
   "source": [
    "# Overview"
   ]
  },
  {
   "cell_type": "markdown",
   "metadata": {},
   "source": [
    "In this project, I aim to see if dog parks in San Diego have higher ratings on the website 'Yelp' than other types of parks. Using a dataset from Yelp, I will compare scores using Linear and Multivariate Regression models (Ordinary Least Squares) between general parks, dog parks, and parks overall where dogs are allowed. If dog parks do score a higher rating on average, San Diego City could aim to improve dog parks to increase population attitude and involvement in outdoor activities."
   ]
  },
  {
   "cell_type": "markdown",
   "metadata": {},
   "source": [
    "# Name & GitHub\n",
    "\n",
    "- Name: Bomed Pham\n",
    "- GitHub Username: BPham151"
   ]
  },
  {
   "cell_type": "markdown",
   "metadata": {},
   "source": [
    "# Research Question"
   ]
  },
  {
   "cell_type": "markdown",
   "metadata": {},
   "source": [
    "Do dog parks in San Diego on average score a higher rating (on a scale from one to five, five being the highest) than other general types of parks on the website 'Yelp'? If not, do parks where dogs are allowed score a higher rating on 'Yelp'?"
   ]
  },
  {
   "cell_type": "markdown",
   "metadata": {},
   "source": [
    "## Background and Prior Work"
   ]
  },
  {
   "cell_type": "markdown",
   "metadata": {},
   "source": [
    "One way to make walks in parks more entertaining and fun is to have a dog buddy to help you pass the time. From looking at San Diego online news articles, one can see that dog parks are highly regarded for a good place to relax for both the walker and the dog. \n",
    "\n",
    "At a glance, the Fiesta Island Off Leash Dog Park has high regards for being a great dog park based on a local article and the park's 'Yelp' reviews.\n",
    "\n",
    "References:\n",
    "- 1) https://www.nbcsandiego.com/news/local/clear-the-shelters-2019-dog-parks-top-five-balboa-park-coronado-animals-pets-adopt/129799/\n",
    "- 2) https://www.nbcsandiego.com/news/local/city-council-approves-dog-friendly-makeover-for-fiesta-island/79566/\n",
    "- 3) https://www.yelp.com/biz/fiesta-island-off-leash-dog-park-san-diego"
   ]
  },
  {
   "cell_type": "markdown",
   "metadata": {},
   "source": [
    "# Hypothesis\n"
   ]
  },
  {
   "cell_type": "markdown",
   "metadata": {},
   "source": [
    "I hypothesize that designated dog parks have higher ratings than other parks in San Diego on the website 'Yelp'. Higher ratings could benefit the city of San Diego through community involvement and happiness, thus improving upon dog parks will then increase ratings and benefits. "
   ]
  },
  {
   "cell_type": "markdown",
   "metadata": {},
   "source": [
    "# Dataset(s)"
   ]
  },
  {
   "cell_type": "markdown",
   "metadata": {},
   "source": [
    "- Dataset Name: yelp_SD_reviews.csv\n",
    "- Link to the dataset:\n",
    "        https://www.yelp.com/developers/documentation/v3/business_reviews\n",
    "        and\n",
    "        https://github.com/COGS108/individual_fa20/blob/master/data/yelp_SD_reviews.csv\n",
    "- Number of observations: 2333 Observations (2333, 3)\n",
    "\n",
    "This provided dataset has three columns of information: id (name of the business place in San Diego), rating (rating of one person's review on the website 'Yelp'), and text (the one person's review of the place)."
   ]
  },
  {
   "cell_type": "markdown",
   "metadata": {},
   "source": [
    "# Setup"
   ]
  },
  {
   "cell_type": "code",
   "execution_count": 1,
   "metadata": {},
   "outputs": [],
   "source": [
    "import pandas as pd\n",
    "\n",
    "import warnings\n",
    "warnings.filterwarnings('ignore')\n",
    "\n",
    "import patsy\n",
    "import statsmodels.api as sm\n",
    "import scipy.stats as stats\n",
    "from scipy.stats import ttest_ind"
   ]
  },
  {
   "cell_type": "code",
   "execution_count": 2,
   "metadata": {},
   "outputs": [],
   "source": [
    "df = pd.read_csv('yelp_SD_reviews.csv', names=['park', 'rating', 'review'], header = 0)"
   ]
  },
  {
   "cell_type": "markdown",
   "metadata": {},
   "source": [
    "# Data Cleaning"
   ]
  },
  {
   "cell_type": "code",
   "execution_count": 3,
   "metadata": {},
   "outputs": [],
   "source": [
    "def has_park(str_in):\n",
    "    str_in = str_in.lower()\n",
    "    str_in = str_in.strip()\n",
    "    \n",
    "    if 'park' in str_in:\n",
    "        output = True\n",
    "    else:\n",
    "        output = False\n",
    "    \n",
    "    return output"
   ]
  },
  {
   "cell_type": "code",
   "execution_count": 4,
   "metadata": {},
   "outputs": [],
   "source": [
    "def has_dog(str_in):\n",
    "    str_in = str_in.lower()\n",
    "    str_in = str_in.strip()\n",
    "    \n",
    "    if 'dog' in str_in:\n",
    "        output = True\n",
    "    else:\n",
    "        output = False\n",
    "        \n",
    "    return output"
   ]
  },
  {
   "cell_type": "code",
   "execution_count": 5,
   "metadata": {},
   "outputs": [],
   "source": [
    "def dogs_allowed(s):\n",
    "    if (s['is_dog_park'] == True) or (s['mentions_dog'] == True):\n",
    "        return True\n",
    "    else:\n",
    "        return False"
   ]
  },
  {
   "cell_type": "markdown",
   "metadata": {},
   "source": [
    "These three functions allow us to clean up the dataset to only use what is relevant to the question. \n",
    "\n",
    "- The 'has_park' function determines if a string contains \"park\" in it. Used to determine if the place is a park.\n",
    "- The 'has_dog' function determines if a string contains \"dog\" in it. Used to determine if the park is a dog park or if the review mentions \"dog\".\n",
    "- The 'dogs_allowed' function determines if a dataframe's data is a dog park or mentions dog."
   ]
  },
  {
   "cell_type": "code",
   "execution_count": 6,
   "metadata": {},
   "outputs": [],
   "source": [
    "df['is_park'] = df['park'].apply(has_park)"
   ]
  },
  {
   "cell_type": "code",
   "execution_count": 7,
   "metadata": {},
   "outputs": [],
   "source": [
    "sd_parks = df[df['is_park'] == True]\n",
    "sd_parks = sd_parks.drop(columns = ['is_park'])\n",
    "\n",
    "sd_parks['is_dog_park'] = sd_parks['park'].apply(has_dog)\n",
    "sd_parks['mentions_dog'] = sd_parks['review'].apply(has_dog)\n",
    "sd_parks['dogs_allowed'] = sd_parks.apply(dogs_allowed, axis = 1)"
   ]
  },
  {
   "cell_type": "markdown",
   "metadata": {},
   "source": [
    "Create a new dataframe, 'sd_parks', from the previous dataframe with new columns 'is_dog_park', 'mentions_dog', and 'dogs_allowed' while removing the column 'is_park'.\n",
    "\n",
    "- 'is_dog_park' = Is this park a dog park based on if Dog Park is in the name of the place?\n",
    "- 'mentions_dog' = Do reviews of this place mention a dog(s)?\n",
    "- 'dogs_allowed' = Does this place allow dogs based on if a dog is mentioned in the reviews of the place?"
   ]
  },
  {
   "cell_type": "markdown",
   "metadata": {},
   "source": [
    "# Data Analysis & Results"
   ]
  },
  {
   "cell_type": "markdown",
   "metadata": {},
   "source": [
    "Include cells that describe the steps in your data analysis."
   ]
  },
  {
   "cell_type": "code",
   "execution_count": 8,
   "metadata": {},
   "outputs": [],
   "source": [
    "dogs_only = sd_parks[(sd_parks['is_dog_park'] == True)]\n",
    "allows_dogs = sd_parks[(sd_parks['mentions_dog'] == True) | (sd_parks['is_dog_park'] == True)]\n",
    "no_dogs = sd_parks[(sd_parks['mentions_dog'] == False) & (sd_parks['is_dog_park'] == False)]"
   ]
  },
  {
   "cell_type": "markdown",
   "metadata": {},
   "source": [
    "Create three new dataframes to be used for data analysis.\n",
    "\n",
    "- 'dogs_only' is a Dataframe containing all the places that are considered a dog park.\n",
    "- 'allows_dogs' is a Dataframe containing all the places that are considered a dog park or where reviews mention a dog.\n",
    "- 'no_dogs' is a Dataframe containing all the places that are not considered a dog park and where reviews do not mention a dog.\n"
   ]
  },
  {
   "cell_type": "code",
   "execution_count": 9,
   "metadata": {},
   "outputs": [
    {
     "name": "stdout",
     "output_type": "stream",
     "text": [
      "Average rating of dog park reviews is: \t\t\t 3.83\n",
      "Average rating of dogs-allowed park reviews is: \t 3.90\n",
      "Average rating of park reviews is: \t\t\t 4.14\n"
     ]
    }
   ],
   "source": [
    "y_dog_1 = dogs_only['rating']\n",
    "y_dog_2 = allows_dogs['rating']\n",
    "n_dog = no_dogs['rating']\n",
    "\n",
    "avg_y_dog_1 = y_dog_1.mean()\n",
    "avg_y_dog_2 = y_dog_2.mean()\n",
    "avg_n_dog = n_dog.mean()\n",
    "\n",
    "print('Average rating of dog park reviews is: \\t\\t\\t {:2.2f}'.format(avg_y_dog_1))\n",
    "print('Average rating of dogs-allowed park reviews is: \\t {:2.2f}'.format(avg_y_dog_2))\n",
    "print('Average rating of park reviews is: \\t\\t\\t {:2.2f}'.format(avg_n_dog))"
   ]
  },
  {
   "cell_type": "markdown",
   "metadata": {},
   "source": [
    "Calculate the mean of the ratings from reviews of dog parks, parks where dogs are mentioned, and the rest of the parks."
   ]
  },
  {
   "cell_type": "code",
   "execution_count": 11,
   "metadata": {},
   "outputs": [
    {
     "data": {
      "text/plain": [
       "0.04696576726470643"
      ]
     },
     "execution_count": 11,
     "metadata": {},
     "output_type": "execute_result"
    }
   ],
   "source": [
    "t_val_1, p_val_1 = stats.ttest_ind(y_dog_1, n_dog)\n",
    "p_val_1"
   ]
  },
  {
   "cell_type": "markdown",
   "metadata": {},
   "source": [
    "Test to see if the p-value of the ratings of dog parks compared to the other parks is less than 0.05 to be considered significant."
   ]
  },
  {
   "cell_type": "code",
   "execution_count": 12,
   "metadata": {},
   "outputs": [
    {
     "data": {
      "text/plain": [
       "0.034890754855247404"
      ]
     },
     "execution_count": 12,
     "metadata": {},
     "output_type": "execute_result"
    }
   ],
   "source": [
    "t_val_2, p_val_2 = stats.ttest_ind(y_dog_2, n_dog)\n",
    "p_val_2"
   ]
  },
  {
   "cell_type": "markdown",
   "metadata": {},
   "source": [
    "Test to see if the p-value of the ratings of parks where dogs are allowed compared to the other parks is less than 0.05 to be considered significant."
   ]
  },
  {
   "cell_type": "code",
   "execution_count": 13,
   "metadata": {},
   "outputs": [],
   "source": [
    "outcome_1, predictors_1 = patsy.dmatrices('rating ~ is_dog_park', sd_parks)\n",
    "mod_1 = sm.OLS(outcome_1, predictors_1)\n",
    "\n",
    "res_1 = mod_1.fit()"
   ]
  },
  {
   "cell_type": "code",
   "execution_count": 14,
   "metadata": {},
   "outputs": [
    {
     "name": "stdout",
     "output_type": "stream",
     "text": [
      "                            OLS Regression Results                            \n",
      "==============================================================================\n",
      "Dep. Variable:                 rating   R-squared:                       0.005\n",
      "Model:                            OLS   Adj. R-squared:                  0.003\n",
      "Method:                 Least Squares   F-statistic:                     3.577\n",
      "Date:                Wed, 16 Dec 2020   Prob (F-statistic):             0.0590\n",
      "Time:                        09:08:32   Log-Likelihood:                -1214.4\n",
      "No. Observations:                 781   AIC:                             2433.\n",
      "Df Residuals:                     779   BIC:                             2442.\n",
      "Df Model:                           1                                         \n",
      "Covariance Type:            nonrobust                                         \n",
      "=======================================================================================\n",
      "                          coef    std err          t      P>|t|      [0.025      0.975]\n",
      "---------------------------------------------------------------------------------------\n",
      "Intercept               4.1248      0.043     96.552      0.000       4.041       4.209\n",
      "is_dog_park[T.True]    -0.2915      0.154     -1.891      0.059      -0.594       0.011\n",
      "==============================================================================\n",
      "Omnibus:                      178.377   Durbin-Watson:                   1.592\n",
      "Prob(Omnibus):                  0.000   Jarque-Bera (JB):              315.418\n",
      "Skew:                          -1.410   Prob(JB):                     3.22e-69\n",
      "Kurtosis:                       4.321   Cond. No.                         3.78\n",
      "==============================================================================\n",
      "\n",
      "Notes:\n",
      "[1] Standard Errors assume that the covariance matrix of the errors is correctly specified.\n"
     ]
    }
   ],
   "source": [
    "print(res_1.summary())"
   ]
  },
  {
   "cell_type": "markdown",
   "metadata": {},
   "source": [
    "First linear model using Ordinary Least Squares showing that dog parks do not have a significant effect on the reviews' ratings. (P-value was not less than 0.05)"
   ]
  },
  {
   "cell_type": "code",
   "execution_count": 15,
   "metadata": {},
   "outputs": [],
   "source": [
    "outcome_2, predictors_2 = patsy.dmatrices('rating ~ dogs_allowed', sd_parks)\n",
    "mod_2 = sm.OLS(outcome_2, predictors_2)\n",
    "\n",
    "res_2 = mod_2.fit()"
   ]
  },
  {
   "cell_type": "code",
   "execution_count": 16,
   "metadata": {},
   "outputs": [
    {
     "name": "stdout",
     "output_type": "stream",
     "text": [
      "                            OLS Regression Results                            \n",
      "==============================================================================\n",
      "Dep. Variable:                 rating   R-squared:                       0.006\n",
      "Model:                            OLS   Adj. R-squared:                  0.004\n",
      "Method:                 Least Squares   F-statistic:                     4.466\n",
      "Date:                Wed, 16 Dec 2020   Prob (F-statistic):             0.0349\n",
      "Time:                        09:08:35   Log-Likelihood:                -1214.0\n",
      "No. Observations:                 781   AIC:                             2432.\n",
      "Df Residuals:                     779   BIC:                             2441.\n",
      "Df Model:                           1                                         \n",
      "Covariance Type:            nonrobust                                         \n",
      "========================================================================================\n",
      "                           coef    std err          t      P>|t|      [0.025      0.975]\n",
      "----------------------------------------------------------------------------------------\n",
      "Intercept                4.1405      0.045     92.428      0.000       4.053       4.228\n",
      "dogs_allowed[T.True]    -0.2357      0.112     -2.113      0.035      -0.455      -0.017\n",
      "==============================================================================\n",
      "Omnibus:                      179.085   Durbin-Watson:                   1.603\n",
      "Prob(Omnibus):                  0.000   Jarque-Bera (JB):              317.452\n",
      "Skew:                          -1.413   Prob(JB):                     1.16e-69\n",
      "Kurtosis:                       4.329   Cond. No.                         2.80\n",
      "==============================================================================\n",
      "\n",
      "Notes:\n",
      "[1] Standard Errors assume that the covariance matrix of the errors is correctly specified.\n"
     ]
    }
   ],
   "source": [
    "print(res_2.summary())"
   ]
  },
  {
   "cell_type": "markdown",
   "metadata": {},
   "source": [
    "Second linear model using Ordinary Least Squares showing that parks where dogs are allowed/mentioned do have a significant effect on the reviews' ratings. (P-value was less than 0.05)"
   ]
  },
  {
   "cell_type": "code",
   "execution_count": 17,
   "metadata": {},
   "outputs": [],
   "source": [
    "outcome_3, predictors_3 = patsy.dmatrices('rating ~ is_dog_park + dogs_allowed', sd_parks)\n",
    "mod_3 = sm.OLS(outcome_3, predictors_3)\n",
    "\n",
    "res_3 = mod_3.fit()"
   ]
  },
  {
   "cell_type": "code",
   "execution_count": 18,
   "metadata": {},
   "outputs": [
    {
     "name": "stdout",
     "output_type": "stream",
     "text": [
      "                            OLS Regression Results                            \n",
      "==============================================================================\n",
      "Dep. Variable:                 rating   R-squared:                       0.006\n",
      "Model:                            OLS   Adj. R-squared:                  0.004\n",
      "Method:                 Least Squares   F-statistic:                     2.454\n",
      "Date:                Wed, 16 Dec 2020   Prob (F-statistic):             0.0866\n",
      "Time:                        09:08:37   Log-Likelihood:                -1213.7\n",
      "No. Observations:                 781   AIC:                             2433.\n",
      "Df Residuals:                     778   BIC:                             2447.\n",
      "Df Model:                           2                                         \n",
      "Covariance Type:            nonrobust                                         \n",
      "========================================================================================\n",
      "                           coef    std err          t      P>|t|      [0.025      0.975]\n",
      "----------------------------------------------------------------------------------------\n",
      "Intercept                4.1405      0.045     92.395      0.000       4.052       4.228\n",
      "is_dog_park[T.True]     -0.1364      0.205     -0.667      0.505      -0.538       0.265\n",
      "dogs_allowed[T.True]    -0.1708      0.148     -1.153      0.249      -0.462       0.120\n",
      "==============================================================================\n",
      "Omnibus:                      178.703   Durbin-Watson:                   1.601\n",
      "Prob(Omnibus):                  0.000   Jarque-Bera (JB):              316.467\n",
      "Skew:                          -1.411   Prob(JB):                     1.91e-69\n",
      "Kurtosis:                       4.329   Cond. No.                         5.78\n",
      "==============================================================================\n",
      "\n",
      "Notes:\n",
      "[1] Standard Errors assume that the covariance matrix of the errors is correctly specified.\n"
     ]
    }
   ],
   "source": [
    "print(res_3.summary())"
   ]
  },
  {
   "cell_type": "markdown",
   "metadata": {},
   "source": [
    "Multivariate Regression model using Ordinary Least Squares to predict the reviews' ratings from dog parks and parks where dogs are allowed. Dog parks do not have a significant effect on the reviews' ratings."
   ]
  },
  {
   "cell_type": "markdown",
   "metadata": {},
   "source": [
    "# Ethics & Privacy"
   ]
  },
  {
   "cell_type": "markdown",
   "metadata": {},
   "source": [
    "In this data analysis, the dataset is purely just the name of the park, the rating of the park, and the review from the person. The reviewer's personal information such as name is not included in the data. On this regards, privacy of the users will not be a major concern.\n",
    "\n",
    "One problem that arises is that the dataset used only comes from one review website which could include bias thus making the analysis bias. \n",
    "\n",
    "Another source of concern for bias is the reviewers' thoughts, emotions, and experiences for a certain place, potentially skewing the score that they provided. With only using one dataset, this will have to be taken in account when viewing the results."
   ]
  },
  {
   "cell_type": "markdown",
   "metadata": {},
   "source": [
    "# Conclusion & Discussion"
   ]
  },
  {
   "cell_type": "markdown",
   "metadata": {},
   "source": [
    "From the data analysis using Linear and Multivariate Regression, the alternative hypothesis is rejected since the P-values returned are not less than 0.05; this indicates that a park being a dog park does not have a higher likelihood to have higher ratings on the website 'Yelp'. From the analysis, it would not be recommended to use the analysis as evidence to improve dog parks.\n",
    "\n",
    "One large limitation to this project is the use of only one dataset used for data analysis. This brings with it bias that derives from the use of only one source of data and the data itself (people will be bias in reviews based on many different factors).\n",
    "\n",
    "With that being said, there may be an effect on ratings where dogs are allowed in parks as the data analysis yielded a P-value less than 0.05. More research can be conducted to see if this is the case."
   ]
  }
 ],
 "metadata": {
  "kernelspec": {
   "display_name": "Python 3",
   "language": "python",
   "name": "python3"
  },
  "language_info": {
   "codemirror_mode": {
    "name": "ipython",
    "version": 3
   },
   "file_extension": ".py",
   "mimetype": "text/x-python",
   "name": "python",
   "nbconvert_exporter": "python",
   "pygments_lexer": "ipython3",
   "version": "3.8.5"
  }
 },
 "nbformat": 4,
 "nbformat_minor": 2
}
