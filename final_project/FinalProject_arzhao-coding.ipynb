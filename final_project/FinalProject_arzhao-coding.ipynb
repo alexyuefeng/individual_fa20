{
 "cells": [
  {
   "cell_type": "markdown",
   "metadata": {
    "id": "cSJGDUoqxAj_"
   },
   "source": [
    "# **COGS 108 - Final Project** "
   ]
  },
  {
   "cell_type": "markdown",
   "metadata": {
    "id": "QRjsIEnPxAkD"
   },
   "source": [
    "# **Overview**\n",
    "\n",
    "---\n",
    "\n",
    "\n",
    "\n"
   ]
  },
  {
   "cell_type": "markdown",
   "metadata": {
    "id": "vj_iSTUBxAkE"
   },
   "source": [
    "This project takes advantage of naturalized language processing and unsuperivsed machine learning to examine the potential topics within Yelp reviews toward San Diego parks. After preprocessing and deploying a vanilla Latent Dirichlet Allocation (or LDA) topic generating model, it seems there are three aspects to parks Yelp reviewers are interested in. These revolve around park location, time of year, and opportunities to engage with others, like kids, pets, or friends/family. My interest in conducting this text as data analysis stems from my intention to use these methods in graduate school to earn a Ph.D. in political science and ultimately identify the relation between legislation and racial/ethnic identity. "
   ]
  },
  {
   "cell_type": "markdown",
   "metadata": {
    "id": "BPJuBMvSxAkE"
   },
   "source": [
    "# **Name & GitHub ID**\n",
    "\n",
    "---\n",
    "\n",
    "\n",
    "\n",
    "- Name: Alex Richard Zhao [A15571627]\n",
    "- GitHub Username: arzhao-coding"
   ]
  },
  {
   "cell_type": "markdown",
   "metadata": {
    "id": "-i3WDUpkxAkE"
   },
   "source": [
    "# **Research Question**\n",
    "\n",
    "---\n",
    "\n"
   ]
  },
  {
   "cell_type": "markdown",
   "metadata": {
    "id": "EThw58G9xAkE"
   },
   "source": [
    "Based on recent Yelp reviews of San Diego parks, what aspects of parks do reviewers focus on?"
   ]
  },
  {
   "cell_type": "markdown",
   "metadata": {
    "id": "7XjL-DTBxAkF"
   },
   "source": [
    "## **Background and Prior Work**\n",
    "\n",
    "---\n",
    "\n"
   ]
  },
  {
   "cell_type": "markdown",
   "metadata": {
    "id": "GTVPYCsTxAkF"
   },
   "source": [
    "Considering many people infer the quality of a product based on its ratings and additional information provided in reviews, different companies have started using natural language processing to identify trends and sentiments. Amazon is one such corporation who uses a similar approach to analyzing the reviews of their products (Amazon). This project does not modify their code, but instead relies on the concept of investigating reviews to conduct an LDA topic generation to identify what aspects reviewers focus on. Most of the code was developed during my time in CSS 100 (Computational Social Science), an upper division coding course dedicated to machine learning in python (hosted by the Department of Pyschology at UCSD). \n",
    "\n",
    "Automated text analysis and natural language processing are increasingly fruitful methods for unsupervised machine learning. The LDA method itself was presented to academia in 2003 and relies on word frequency and distances calculated from a document-term matrix. The process inputs these features into a poisson and dirichlet distribution to calculate the probability a document lies within one of a prescribed number of topics (Biel et. al.). \n",
    "\n",
    "An example much more pertinent to my own interests is the work by Professor Margaret Roberts on structural topic modeling. Her 2014 paper expands upon how LDA was a foundational finding for automated text analysis and new methods in structural topic modeling to find allow additional inputs like feature correlation to improve topic generation (Roberts). \n",
    "\n",
    "Overall, the Amazon example is most applicable for this project and the results of the LDA topic generation will reveal insights regarding what topics Yelp reviewers revolve around. Furthermore, this should provide insights into what aspects of parks are being most discussed about and can be valuable knowledge for improving parks if social scientists uncover the aspects people are most interested in (proxied by what they're reviews are). \n",
    "\n",
    "References (include links):\n",
    "- 1) https://www.scrapehero.com/how-to-analyse-product-reviews-using-lda-topic-modelling/\n",
    "- 2) https://dl.acm.org/doi/10.5555/944919.944937\n",
    "- 3) https://scholar.harvard.edu/dtingley/files/topicmodelsopenendedexperiments.pdf"
   ]
  },
  {
   "cell_type": "markdown",
   "metadata": {
    "id": "uXL_1jybxAkF"
   },
   "source": [
    "# **Hypothesis**\n",
    "\n",
    "---\n",
    "\n",
    "\n"
   ]
  },
  {
   "cell_type": "markdown",
   "metadata": {
    "id": "gAmHTEG3xAkF"
   },
   "source": [
    "Null: Yelp reviewers do not focus on any aspect of parks in particular, therefore any topics generated will be highly similar or nonsensical. Highly similar topics will appear similar on intertopic distance maps (via multidimensional scaling). Meanwhile nonsensical topics will contain terms that do not seem sensible to infer the topics meaning. \n",
    "\n",
    "Alternative Hypothesis: Yelp reviewers do focus on particular aspects of parks and a vanilla LDA topic generation model will generate at least two topics of interest to examine and infer their meaning. There could be more topics generated and it will depend if the LDA model is splitting topics if forced to coerce results to acheive the prescribed number of topics (which is changeable). All writing has patterns toward something, especially if it is on the same subject, so I believe that there are at least three or four topics that people generally focus on. It is too incongruous to hypothesize what those particular topics may be but I am confident the reviews do focus on a few aspects of parks that would be worth noting for the city of San Diego's department of parks and recreation. "
   ]
  },
  {
   "cell_type": "markdown",
   "metadata": {
    "id": "KezQBleRxAkF"
   },
   "source": [
    "# **Dataset(s)**\n",
    "\n",
    "---\n",
    "\n"
   ]
  },
  {
   "cell_type": "markdown",
   "metadata": {
    "id": "LM11BX4kxAkG"
   },
   "source": [
    "- Dataset Name: San Diego Parks Yelp Data (yelp_SD_reviews.csv)\n",
    "- Link to the dataset: https://github.com/COGS108/individual_fa20/blob/master/data/yelp_SD_reviews.csv\n",
    "- Number of observations: This dataset contains 2333 observations and 3 features. \n",
    "\n",
    "Yelp is an American company that publishes crowd-sourced reviews about businesses. Sometimes the company is used for reservations or other services. The dataset used are the reviews pertaining to San Diego parks which have been curated by Professor Ellis of the Cognitive Science Department at UC San Diego. \n",
    "\n",
    "Originally, I had plans to aggregate datasets and sort topic generation per location or reviews, however time constraints have left me with only generating topics. In short, I did not combine any datasets for this project."
   ]
  },
  {
   "cell_type": "markdown",
   "metadata": {
    "id": "n9TI8rypxAkG"
   },
   "source": [
    "# **Setup**\n",
    "\n",
    "---\n",
    "\n",
    "Importing Modules"
   ]
  },
  {
   "cell_type": "code",
   "execution_count": 1,
   "metadata": {
    "id": "gqyMIEiJxAkG"
   },
   "outputs": [
    {
     "name": "stdout",
     "output_type": "stream",
     "text": [
      "Requirement already satisfied: pyLDAvis in c:\\users\\alex richard zhao\\anaconda3\\lib\\site-packages (2.1.2)\n",
      "Requirement already satisfied: wheel>=0.23.0 in c:\\users\\alex richard zhao\\anaconda3\\lib\\site-packages (from pyLDAvis) (0.36.2)\n",
      "Requirement already satisfied: funcy in c:\\users\\alex richard zhao\\anaconda3\\lib\\site-packages (from pyLDAvis) (1.15)\n",
      "Requirement already satisfied: numexpr in c:\\users\\alex richard zhao\\anaconda3\\lib\\site-packages (from pyLDAvis) (2.7.1)\n",
      "Requirement already satisfied: joblib>=0.8.4 in c:\\users\\alex richard zhao\\anaconda3\\lib\\site-packages (from pyLDAvis) (1.0.0)\n",
      "Requirement already satisfied: pytest in c:\\users\\alex richard zhao\\anaconda3\\lib\\site-packages (from pyLDAvis) (0.0.0)\n",
      "Requirement already satisfied: numpy>=1.9.2 in c:\\users\\alex richard zhao\\anaconda3\\lib\\site-packages (from pyLDAvis) (1.19.2)\n",
      "Requirement already satisfied: scipy>=0.18.0 in c:\\users\\alex richard zhao\\anaconda3\\lib\\site-packages (from pyLDAvis) (1.5.2)\n",
      "Requirement already satisfied: jinja2>=2.7.2 in c:\\users\\alex richard zhao\\anaconda3\\lib\\site-packages (from pyLDAvis) (2.11.2)\n",
      "Requirement already satisfied: future in c:\\users\\alex richard zhao\\anaconda3\\lib\\site-packages (from pyLDAvis) (0.18.2)\n",
      "Requirement already satisfied: pandas>=0.17.0 in c:\\users\\alex richard zhao\\anaconda3\\lib\\site-packages (from pyLDAvis) (1.1.3)\n",
      "Requirement already satisfied: MarkupSafe>=0.23 in c:\\users\\alex richard zhao\\anaconda3\\lib\\site-packages (from jinja2>=2.7.2->pyLDAvis) (1.1.1)\n",
      "Requirement already satisfied: numpy>=1.9.2 in c:\\users\\alex richard zhao\\anaconda3\\lib\\site-packages (from pyLDAvis) (1.19.2)\n",
      "Requirement already satisfied: python-dateutil>=2.7.3 in c:\\users\\alex richard zhao\\anaconda3\\lib\\site-packages (from pandas>=0.17.0->pyLDAvis) (2.8.1)\n",
      "Requirement already satisfied: pytz>=2017.2 in c:\\users\\alex richard zhao\\anaconda3\\lib\\site-packages (from pandas>=0.17.0->pyLDAvis) (2020.4)\n",
      "Requirement already satisfied: numpy>=1.9.2 in c:\\users\\alex richard zhao\\anaconda3\\lib\\site-packages (from pyLDAvis) (1.19.2)\n",
      "Requirement already satisfied: attrs>=19.2.0 in c:\\users\\alex richard zhao\\anaconda3\\lib\\site-packages (from pytest->pyLDAvis) (20.3.0)\n",
      "Requirement already satisfied: iniconfig in c:\\users\\alex richard zhao\\anaconda3\\lib\\site-packages (from pytest->pyLDAvis) (1.1.1)\n",
      "Requirement already satisfied: packaging in c:\\users\\alex richard zhao\\anaconda3\\lib\\site-packages (from pytest->pyLDAvis) (20.8)\n",
      "Requirement already satisfied: pluggy<1.0.0a1,>=0.12 in c:\\users\\alex richard zhao\\anaconda3\\lib\\site-packages (from pytest->pyLDAvis) (0.13.1)\n",
      "Requirement already satisfied: py>=1.8.2 in c:\\users\\alex richard zhao\\anaconda3\\lib\\site-packages (from pytest->pyLDAvis) (1.10.0)\n",
      "Requirement already satisfied: toml in c:\\users\\alex richard zhao\\anaconda3\\lib\\site-packages (from pytest->pyLDAvis) (0.10.1)\n",
      "Requirement already satisfied: importlib-metadata>=0.12 in c:\\users\\alex richard zhao\\anaconda3\\lib\\site-packages (from pytest->pyLDAvis) (2.0.0)\n",
      "Requirement already satisfied: atomicwrites>=1.0 in c:\\users\\alex richard zhao\\anaconda3\\lib\\site-packages (from pytest->pyLDAvis) (1.4.0)\n",
      "Requirement already satisfied: colorama in c:\\users\\alex richard zhao\\anaconda3\\lib\\site-packages (from pytest->pyLDAvis) (0.4.4)\n",
      "Requirement already satisfied: zipp>=0.5 in c:\\users\\alex richard zhao\\anaconda3\\lib\\site-packages (from importlib-metadata>=0.12->pytest->pyLDAvis) (3.4.0)\n",
      "Requirement already satisfied: pyparsing>=2.0.2 in c:\\users\\alex richard zhao\\anaconda3\\lib\\site-packages (from packaging->pytest->pyLDAvis) (2.4.7)\n",
      "Requirement already satisfied: importlib-metadata>=0.12 in c:\\users\\alex richard zhao\\anaconda3\\lib\\site-packages (from pytest->pyLDAvis) (2.0.0)\n",
      "Requirement already satisfied: six>=1.5 in c:\\users\\alex richard zhao\\anaconda3\\lib\\site-packages (from python-dateutil>=2.7.3->pandas>=0.17.0->pyLDAvis) (1.15.0)\n",
      "Requirement already satisfied: numpy>=1.9.2 in c:\\users\\alex richard zhao\\anaconda3\\lib\\site-packages (from pyLDAvis) (1.19.2)\n"
     ]
    }
   ],
   "source": [
    "# Regular Modules\n",
    "import numpy as np\n",
    "import pandas as pd\n",
    "import matplotlib.pyplot as plt\n",
    "\n",
    "# Natural Language Processing Modules\n",
    "import re\n",
    "import string\n",
    "import nltk\n",
    "from nltk.stem.porter import *\n",
    "from nltk.corpus import stopwords\n",
    "from sklearn.feature_extraction.text import CountVectorizer\n",
    "from collections import defaultdict \n",
    "\n",
    "# Topic Generation and Visualization\n",
    "from sklearn.decomposition import LatentDirichletAllocation as LDA\n",
    "import pylab as py \n",
    "!pip install pyLDAvis\n",
    "import pyLDAvis\n",
    "from pyLDAvis import sklearn as sklearn_lda"
   ]
  },
  {
   "cell_type": "code",
   "execution_count": 2,
   "metadata": {},
   "outputs": [
    {
     "name": "stderr",
     "output_type": "stream",
     "text": [
      "C:\\Users\\Alex Richard Zhao\\anaconda3\\lib\\site-packages\\ipykernel\\ipkernel.py:287: DeprecationWarning: `should_run_async` will not call `transform_cell` automatically in the future. Please pass the result to `transformed_cell` argument and any exception that happen during thetransform in `preprocessing_exc_tuple` in IPython 7.17 and above.\n",
      "  and should_run_async(code)\n"
     ]
    }
   ],
   "source": [
    "# Removing Warning Messages\n",
    "import warnings\n",
    "warnings.filterwarnings(\"ignore\", category=DeprecationWarning)"
   ]
  },
  {
   "cell_type": "markdown",
   "metadata": {
    "id": "bJlFVizoVbIm"
   },
   "source": [
    "Downloading Stopwords from the NLTK library for Natural Language Processing"
   ]
  },
  {
   "cell_type": "code",
   "execution_count": 3,
   "metadata": {
    "colab": {
     "base_uri": "https://localhost:8080/"
    },
    "executionInfo": {
     "elapsed": 3942,
     "status": "ok",
     "timestamp": 1608066643001,
     "user": {
      "displayName": "Alex Zhao",
      "photoUrl": "https://lh3.googleusercontent.com/a-/AOh14Gh9y1MKHYau8bzpWFSBLOEpz2unRxz8sJAdQz1_=s64",
      "userId": "01860394617001739367"
     },
     "user_tz": 480
    },
    "id": "MtgPJ6JyU-LM",
    "outputId": "5e9a92a2-8bff-4305-b4ad-8f851c6ebce3"
   },
   "outputs": [
    {
     "name": "stderr",
     "output_type": "stream",
     "text": [
      "[nltk_data] Downloading package stopwords to C:\\Users\\Alex Richard\n",
      "[nltk_data]     Zhao\\AppData\\Roaming\\nltk_data...\n",
      "[nltk_data]   Package stopwords is already up-to-date!\n"
     ]
    },
    {
     "data": {
      "text/plain": [
       "True"
      ]
     },
     "execution_count": 3,
     "metadata": {},
     "output_type": "execute_result"
    }
   ],
   "source": [
    "# Stopwords\n",
    "nltk.download('stopwords')"
   ]
  },
  {
   "cell_type": "markdown",
   "metadata": {
    "id": "2P81e6IfxAkL"
   },
   "source": [
    "# Data Cleaning\n",
    "\n",
    "---\n",
    "\n"
   ]
  },
  {
   "cell_type": "markdown",
   "metadata": {
    "id": "ZiOtcNTYxAkL"
   },
   "source": [
    "Data Cleaning and Preprocessing consisted of removing punctuation, lowercasing the text, removing stop words, and stemming the reviews. Each step will be discussed below. \n",
    "\n",
    "Fortunately, I did not have to perform any data merging so I just loaded the raw data from github. "
   ]
  },
  {
   "cell_type": "code",
   "execution_count": 4,
   "metadata": {
    "colab": {
     "base_uri": "https://localhost:8080/",
     "height": 204
    },
    "executionInfo": {
     "elapsed": 4255,
     "status": "ok",
     "timestamp": 1608066643317,
     "user": {
      "displayName": "Alex Zhao",
      "photoUrl": "https://lh3.googleusercontent.com/a-/AOh14Gh9y1MKHYau8bzpWFSBLOEpz2unRxz8sJAdQz1_=s64",
      "userId": "01860394617001739367"
     },
     "user_tz": 480
    },
    "id": "CFIIUUkQxAkG",
    "outputId": "d809ff94-bdc3-4b98-aeac-42c956a1fc3a"
   },
   "outputs": [
    {
     "data": {
      "text/html": [
       "<div>\n",
       "<style scoped>\n",
       "    .dataframe tbody tr th:only-of-type {\n",
       "        vertical-align: middle;\n",
       "    }\n",
       "\n",
       "    .dataframe tbody tr th {\n",
       "        vertical-align: top;\n",
       "    }\n",
       "\n",
       "    .dataframe thead th {\n",
       "        text-align: right;\n",
       "    }\n",
       "</style>\n",
       "<table border=\"1\" class=\"dataframe\">\n",
       "  <thead>\n",
       "    <tr style=\"text-align: right;\">\n",
       "      <th></th>\n",
       "      <th>id</th>\n",
       "      <th>rating</th>\n",
       "      <th>text</th>\n",
       "    </tr>\n",
       "  </thead>\n",
       "  <tbody>\n",
       "    <tr>\n",
       "      <th>0</th>\n",
       "      <td>Balboa Park</td>\n",
       "      <td>5</td>\n",
       "      <td>Balboa Park is a must see when coming to San D...</td>\n",
       "    </tr>\n",
       "    <tr>\n",
       "      <th>1</th>\n",
       "      <td>Balboa Park</td>\n",
       "      <td>5</td>\n",
       "      <td>Beautiful grounds even to take a stroll during...</td>\n",
       "    </tr>\n",
       "    <tr>\n",
       "      <th>2</th>\n",
       "      <td>Balboa Park</td>\n",
       "      <td>5</td>\n",
       "      <td>Beautiful sightseeing in San Diego. Lots of wa...</td>\n",
       "    </tr>\n",
       "    <tr>\n",
       "      <th>3</th>\n",
       "      <td>Civita Park</td>\n",
       "      <td>5</td>\n",
       "      <td>Was invited to child's B-Day party pre Covid-1...</td>\n",
       "    </tr>\n",
       "    <tr>\n",
       "      <th>4</th>\n",
       "      <td>Civita Park</td>\n",
       "      <td>5</td>\n",
       "      <td>Pretty nice park, beautiful design.  Anyone is...</td>\n",
       "    </tr>\n",
       "  </tbody>\n",
       "</table>\n",
       "</div>"
      ],
      "text/plain": [
       "            id  rating                                               text\n",
       "0  Balboa Park       5  Balboa Park is a must see when coming to San D...\n",
       "1  Balboa Park       5  Beautiful grounds even to take a stroll during...\n",
       "2  Balboa Park       5  Beautiful sightseeing in San Diego. Lots of wa...\n",
       "3  Civita Park       5  Was invited to child's B-Day party pre Covid-1...\n",
       "4  Civita Park       5  Pretty nice park, beautiful design.  Anyone is..."
      ]
     },
     "execution_count": 4,
     "metadata": {},
     "output_type": "execute_result"
    }
   ],
   "source": [
    "url = \"https://raw.githubusercontent.com/COGS108/individual_fa20/master/data/yelp_SD_reviews.csv\"\n",
    "reviews = pd.read_csv(url)\n",
    "reviews.head()"
   ]
  },
  {
   "cell_type": "code",
   "execution_count": 5,
   "metadata": {
    "colab": {
     "base_uri": "https://localhost:8080/"
    },
    "executionInfo": {
     "elapsed": 4252,
     "status": "ok",
     "timestamp": 1608066643318,
     "user": {
      "displayName": "Alex Zhao",
      "photoUrl": "https://lh3.googleusercontent.com/a-/AOh14Gh9y1MKHYau8bzpWFSBLOEpz2unRxz8sJAdQz1_=s64",
      "userId": "01860394617001739367"
     },
     "user_tz": 480
    },
    "id": "B1SuZfaFVq7M",
    "outputId": "e6747fbe-bc4a-4ee9-ef26-2e506e313228"
   },
   "outputs": [
    {
     "name": "stdout",
     "output_type": "stream",
     "text": [
      "The data contains 2333 rows and 3 columns\n"
     ]
    }
   ],
   "source": [
    "print(f'The data contains', reviews.shape[0], \"rows and\", reviews.shape[1], \"columns\")"
   ]
  },
  {
   "cell_type": "markdown",
   "metadata": {
    "id": "fRgtV14iF4Lx"
   },
   "source": [
    "**Preprocessing**\n",
    "\n",
    "All preprocessing takes place with the text column itself. \n",
    "\n",
    "First, I removed the punctuation by using a regular expression (\"re\" library) and line comprehension. The code takes each text (after converting the text column into a list) and replace the punctuation marks with an empty space."
   ]
  },
  {
   "cell_type": "code",
   "execution_count": 6,
   "metadata": {
    "executionInfo": {
     "elapsed": 4517,
     "status": "ok",
     "timestamp": 1608066643587,
     "user": {
      "displayName": "Alex Zhao",
      "photoUrl": "https://lh3.googleusercontent.com/a-/AOh14Gh9y1MKHYau8bzpWFSBLOEpz2unRxz8sJAdQz1_=s64",
      "userId": "01860394617001739367"
     },
     "user_tz": 480
    },
    "id": "-MXtREykxAkH"
   },
   "outputs": [],
   "source": [
    "## Removing Punctuation\n",
    "reviews.text = [re.sub(r'[^\\w\\s]', '', str(x)) for x in reviews.text.tolist()]"
   ]
  },
  {
   "cell_type": "markdown",
   "metadata": {
    "id": "io5MaygRGD4p"
   },
   "source": [
    "Lowercased each text in a similar process"
   ]
  },
  {
   "cell_type": "code",
   "execution_count": 7,
   "metadata": {
    "executionInfo": {
     "elapsed": 4513,
     "status": "ok",
     "timestamp": 1608066643588,
     "user": {
      "displayName": "Alex Zhao",
      "photoUrl": "https://lh3.googleusercontent.com/a-/AOh14Gh9y1MKHYau8bzpWFSBLOEpz2unRxz8sJAdQz1_=s64",
      "userId": "01860394617001739367"
     },
     "user_tz": 480
    },
    "id": "XTyeYSKTxAkI"
   },
   "outputs": [],
   "source": [
    "## Lowercasing\n",
    "reviews.text = [str(x).lower() for x in reviews.text.tolist()]"
   ]
  },
  {
   "cell_type": "markdown",
   "metadata": {
    "id": "v4G0fRvtGTf_"
   },
   "source": [
    "Removed the stop words. However, I also removed the frequent occurring words of \"san diego\", \"park\", \"place\", and \"la jolla\" since the dataset would naturally have these words frequently. Removing these stopwords would assist in extracting meaning and assist the LDA process without thinking these meaningless words have extraordinary value because they're incredibly frequent\n",
    "\n",
    "To achieve this, I created a function to remove stop words"
   ]
  },
  {
   "cell_type": "code",
   "execution_count": 8,
   "metadata": {
    "executionInfo": {
     "elapsed": 4509,
     "status": "ok",
     "timestamp": 1608066643588,
     "user": {
      "displayName": "Alex Zhao",
      "photoUrl": "https://lh3.googleusercontent.com/a-/AOh14Gh9y1MKHYau8bzpWFSBLOEpz2unRxz8sJAdQz1_=s64",
      "userId": "01860394617001739367"
     },
     "user_tz": 480
    },
    "id": "YEgkI8bxxAkI"
   },
   "outputs": [],
   "source": [
    "## Removing Stopwords\n",
    "# Initializing stop words\n",
    "stop_words = set(stopwords.words('english')) \n",
    "stop_words.update([\"san\", \"diego\", \"park\", \"la\", \"jolla\", \"place\"])\n",
    "\n",
    "# Define a function of removing stop words\n",
    "def remove_stopwords(texts):\n",
    "    return [' '.join([word for word in str(doc).split() if word not in stop_words]) for doc in texts]"
   ]
  },
  {
   "cell_type": "code",
   "execution_count": 9,
   "metadata": {
    "executionInfo": {
     "elapsed": 4506,
     "status": "ok",
     "timestamp": 1608066643589,
     "user": {
      "displayName": "Alex Zhao",
      "photoUrl": "https://lh3.googleusercontent.com/a-/AOh14Gh9y1MKHYau8bzpWFSBLOEpz2unRxz8sJAdQz1_=s64",
      "userId": "01860394617001739367"
     },
     "user_tz": 480
    },
    "id": "0YRWiuwdxAkI"
   },
   "outputs": [],
   "source": [
    "# Applying Function\n",
    "reviews.text = remove_stopwords(reviews.text.tolist())"
   ]
  },
  {
   "cell_type": "markdown",
   "metadata": {
    "id": "UHdBC1rdGvBQ"
   },
   "source": [
    "To stem the texts I followed a similar process and created another function to take advantage of the Porter Stemmer. "
   ]
  },
  {
   "cell_type": "code",
   "execution_count": 10,
   "metadata": {
    "executionInfo": {
     "elapsed": 4502,
     "status": "ok",
     "timestamp": 1608066643589,
     "user": {
      "displayName": "Alex Zhao",
      "photoUrl": "https://lh3.googleusercontent.com/a-/AOh14Gh9y1MKHYau8bzpWFSBLOEpz2unRxz8sJAdQz1_=s64",
      "userId": "01860394617001739367"
     },
     "user_tz": 480
    },
    "id": "BtwgH3WZxAkI"
   },
   "outputs": [],
   "source": [
    "## Stemming/Lemitizing Text\n",
    "# Initialize stemmer\n",
    "stemmer = PorterStemmer()\n",
    "\n",
    "# Define a function to stem the texts\n",
    "def stem(texts):\n",
    "  token = str(texts).strip().split()\n",
    "  stem_list = []\n",
    "  for word in token:\n",
    "    stem_list.append(stemmer.stem(word))\n",
    "    stem_list.append(\" \")\n",
    "\n",
    "  return \"\".join(stem_list)"
   ]
  },
  {
   "cell_type": "markdown",
   "metadata": {
    "id": "5L6EuTUcG5CE"
   },
   "source": [
    "Before Stemming Example"
   ]
  },
  {
   "cell_type": "code",
   "execution_count": 11,
   "metadata": {
    "colab": {
     "base_uri": "https://localhost:8080/",
     "height": 35
    },
    "executionInfo": {
     "elapsed": 4499,
     "status": "ok",
     "timestamp": 1608066643589,
     "user": {
      "displayName": "Alex Zhao",
      "photoUrl": "https://lh3.googleusercontent.com/a-/AOh14Gh9y1MKHYau8bzpWFSBLOEpz2unRxz8sJAdQz1_=s64",
      "userId": "01860394617001739367"
     },
     "user_tz": 480
    },
    "id": "w3JdKuKBxAkI",
    "outputId": "098d60f4-0cea-4646-d703-159558e746e5"
   },
   "outputs": [
    {
     "data": {
      "text/plain": [
       "'balboa must see coming resident nice realize every time come different things'"
      ]
     },
     "execution_count": 11,
     "metadata": {},
     "output_type": "execute_result"
    }
   ],
   "source": [
    "reviews.text[0]"
   ]
  },
  {
   "cell_type": "code",
   "execution_count": 12,
   "metadata": {
    "executionInfo": {
     "elapsed": 5304,
     "status": "ok",
     "timestamp": 1608066644399,
     "user": {
      "displayName": "Alex Zhao",
      "photoUrl": "https://lh3.googleusercontent.com/a-/AOh14Gh9y1MKHYau8bzpWFSBLOEpz2unRxz8sJAdQz1_=s64",
      "userId": "01860394617001739367"
     },
     "user_tz": 480
    },
    "id": "v8hrgALUxAkJ"
   },
   "outputs": [],
   "source": [
    "# Applying\n",
    "reviews.text = reviews.text.apply(stem)"
   ]
  },
  {
   "cell_type": "markdown",
   "metadata": {
    "id": "67c7nNhLG6gX"
   },
   "source": [
    "After Stemming Results\n"
   ]
  },
  {
   "cell_type": "code",
   "execution_count": 13,
   "metadata": {
    "colab": {
     "base_uri": "https://localhost:8080/",
     "height": 35
    },
    "executionInfo": {
     "elapsed": 5302,
     "status": "ok",
     "timestamp": 1608066644401,
     "user": {
      "displayName": "Alex Zhao",
      "photoUrl": "https://lh3.googleusercontent.com/a-/AOh14Gh9y1MKHYau8bzpWFSBLOEpz2unRxz8sJAdQz1_=s64",
      "userId": "01860394617001739367"
     },
     "user_tz": 480
    },
    "id": "p-tSdDDwxAkJ",
    "outputId": "7ebcad5c-8389-419e-d013-53bd7b69656f"
   },
   "outputs": [
    {
     "data": {
      "text/plain": [
       "'balboa must see come resid nice realiz everi time come differ thing '"
      ]
     },
     "execution_count": 13,
     "metadata": {},
     "output_type": "execute_result"
    }
   ],
   "source": [
    "reviews.text[0]"
   ]
  },
  {
   "cell_type": "markdown",
   "metadata": {
    "id": "ObSBg4dCxAkL"
   },
   "source": [
    "# Data Analysis & Results\n",
    "\n",
    "---\n",
    "\n"
   ]
  },
  {
   "cell_type": "markdown",
   "metadata": {
    "id": "hxQmjEmDV4W0"
   },
   "source": [
    "#### **EDA: Identifying Most Frequent Terms**"
   ]
  },
  {
   "cell_type": "code",
   "execution_count": 14,
   "metadata": {
    "executionInfo": {
     "elapsed": 1206,
     "status": "ok",
     "timestamp": 1608068695642,
     "user": {
      "displayName": "Alex Zhao",
      "photoUrl": "https://lh3.googleusercontent.com/a-/AOh14Gh9y1MKHYau8bzpWFSBLOEpz2unRxz8sJAdQz1_=s64",
      "userId": "01860394617001739367"
     },
     "user_tz": 480
    },
    "id": "FXd7CiWtW6gu"
   },
   "outputs": [],
   "source": [
    "ReviewCount = defaultdict(int)\n",
    "review_totalWords = 0\n",
    "\n",
    "for t in reviews.text:\n",
    "    words = t.strip().split() # tokenizes\n",
    "    for w in words:\n",
    "        w = stemmer.stem(w)\n",
    "        review_totalWords += 1\n",
    "        ReviewCount[w] += 1"
   ]
  },
  {
   "cell_type": "code",
   "execution_count": 15,
   "metadata": {
    "colab": {
     "base_uri": "https://localhost:8080/"
    },
    "executionInfo": {
     "elapsed": 614,
     "status": "ok",
     "timestamp": 1608068735567,
     "user": {
      "displayName": "Alex Zhao",
      "photoUrl": "https://lh3.googleusercontent.com/a-/AOh14Gh9y1MKHYau8bzpWFSBLOEpz2unRxz8sJAdQz1_=s64",
      "userId": "01860394617001739367"
     },
     "user_tz": 480
    },
    "id": "7F6MrIN1W6mv",
    "outputId": "1b588713-f2b9-4525-efdb-c2132f121444"
   },
   "outputs": [
    {
     "name": "stdout",
     "output_type": "stream",
     "text": [
      "Least Common Words:\n",
      "[(1, '07281946'), (1, '1000th'), (1, '10022020'), (1, '101'), (1, '1015'), (1, '1015qthere'), (1, '102'), (1, '10719'), (1, '10month'), (1, '10yr'), (1, '110'), (1, '1100'), (1, '115'), (1, '115pm'), (1, '11am')]\n",
      "\n",
      "Most Common Words:\n",
      "[(359, 'great'), (301, 'time'), (263, 'love'), (237, 'one'), (236, 'nice'), (215, 'dog'), (210, 'area'), (208, 'lot'), (206, 'park'), (202, 'year'), (201, 'go'), (199, 'get'), (184, 'walk'), (171, 'littl'), (168, 'live')]\n"
     ]
    }
   ],
   "source": [
    "review_counts = [(ReviewCount[w], w) for w in ReviewCount]\n",
    "review_counts.sort(reverse=False)\n",
    "print(\"Least Common Words:\")\n",
    "print(review_counts[:15])\n",
    "print()\n",
    "print(\"Most Common Words:\")\n",
    "review_counts.sort(reverse=True)\n",
    "print(review_counts[:15])"
   ]
  },
  {
   "cell_type": "code",
   "execution_count": 16,
   "metadata": {
    "colab": {
     "base_uri": "https://localhost:8080/"
    },
    "executionInfo": {
     "elapsed": 513,
     "status": "ok",
     "timestamp": 1608068786912,
     "user": {
      "displayName": "Alex Zhao",
      "photoUrl": "https://lh3.googleusercontent.com/a-/AOh14Gh9y1MKHYau8bzpWFSBLOEpz2unRxz8sJAdQz1_=s64",
      "userId": "01860394617001739367"
     },
     "user_tz": 480
    },
    "id": "-O0kCEOKW6sx",
    "outputId": "dfd040ff-7051-4ba0-a8e3-01904ddaf8cb"
   },
   "outputs": [],
   "source": [
    "# Storign the Top 20 Words\n",
    "top20 = review_counts[0:21]"
   ]
  },
  {
   "cell_type": "code",
   "execution_count": 17,
   "metadata": {
    "colab": {
     "base_uri": "https://localhost:8080/",
     "height": 458
    },
    "executionInfo": {
     "elapsed": 798,
     "status": "ok",
     "timestamp": 1608068988383,
     "user": {
      "displayName": "Alex Zhao",
      "photoUrl": "https://lh3.googleusercontent.com/a-/AOh14Gh9y1MKHYau8bzpWFSBLOEpz2unRxz8sJAdQz1_=s64",
      "userId": "01860394617001739367"
     },
     "user_tz": 480
    },
    "id": "TsjrHDjoW6yn",
    "outputId": "f6e0053f-2698-4e7a-be06-8b5dfb411304"
   },
   "outputs": [
    {
     "data": {
      "image/png": "[encoded data removed]",
      "text/plain": [
       "<Figure size 1080x504 with 1 Axes>"
      ]
     },
     "metadata": {
      "needs_background": "light"
     },
     "output_type": "display_data"
    }
   ],
   "source": [
    "## Vizualization\n",
    "# Enlarging the Figure Size\n",
    "plt.figure(figsize=(15,7))\n",
    "# Making a Barplot\n",
    "plt.barh([it[1] for it in top20], [it[0] for it in top20])\n",
    "# Title\n",
    "plt.title('Term Frequency for San Diego Park Yelp Reviews');\n",
    "# Xlabel\n",
    "plt.xlabel('Frequency');"
   ]
  },
  {
   "cell_type": "markdown",
   "metadata": {
    "id": "f56SqBW9Yf6u"
   },
   "source": [
    "From the exploratory data analysis, it seems that the reviews are mostly positive since terms like \"great\", \"time\", and \"love\" are the most frequent. However, the resuls are not particularly helpful and what would be is finding out recurring topics which a vanilla LDA can do. "
   ]
  },
  {
   "cell_type": "markdown",
   "metadata": {
    "id": "KsvPY9UZxAkJ"
   },
   "source": [
    "#### **Analysis: LDA Topic Generation**"
   ]
  },
  {
   "cell_type": "markdown",
   "metadata": {
    "id": "EeuZmROgxAkM"
   },
   "source": [
    "The first step to using an LDA topic generator is creating a document-term matrix from the corpus, which is the \"text\" column of the reviews dataframe. \n",
    "\n",
    "The \"reviews_count\" object is the document-term matrix. Each row corresponds to a specific document and each column pertains to a word. This matrix is crucial for the LDA to compute document similarily and split into topics. This process starts with initializing a count vectorizer and applying it to the \"text\" column of the reviews dataframe. The final shape is 2333 x 4843 which means there are 2333 documents with 4843 unique words (after preprocessing). "
   ]
  },
  {
   "cell_type": "code",
   "execution_count": 18,
   "metadata": {
    "executionInfo": {
     "elapsed": 5299,
     "status": "ok",
     "timestamp": 1608066644402,
     "user": {
      "displayName": "Alex Zhao",
      "photoUrl": "https://lh3.googleusercontent.com/a-/AOh14Gh9y1MKHYau8bzpWFSBLOEpz2unRxz8sJAdQz1_=s64",
      "userId": "01860394617001739367"
     },
     "user_tz": 480
    },
    "id": "C1xGUP-DxAkJ"
   },
   "outputs": [],
   "source": [
    "# Initialise the count vectorizer\n",
    "count_vectorizer = CountVectorizer()"
   ]
  },
  {
   "cell_type": "code",
   "execution_count": 19,
   "metadata": {
    "colab": {
     "base_uri": "https://localhost:8080/"
    },
    "executionInfo": {
     "elapsed": 5296,
     "status": "ok",
     "timestamp": 1608066644403,
     "user": {
      "displayName": "Alex Zhao",
      "photoUrl": "https://lh3.googleusercontent.com/a-/AOh14Gh9y1MKHYau8bzpWFSBLOEpz2unRxz8sJAdQz1_=s64",
      "userId": "01860394617001739367"
     },
     "user_tz": 480
    },
    "id": "Axm2Y7bHxAkJ",
    "outputId": "03dc0c20-a6f6-4515-b301-2ddfb5e5e323"
   },
   "outputs": [
    {
     "name": "stdout",
     "output_type": "stream",
     "text": [
      "(2333,)\n",
      "(2333, 4843)\n"
     ]
    }
   ],
   "source": [
    "reviews_count = count_vectorizer.fit_transform(reviews[\"text\"])\n",
    "\n",
    "print(reviews[\"text\"].shape)\n",
    "print(reviews_count.shape)"
   ]
  },
  {
   "cell_type": "markdown",
   "metadata": {
    "id": "sFSXECbhHel4"
   },
   "source": [
    "Next is to intialize the LDA model. There are three parameters to take not of:\n",
    "\n",
    "n_components refers to the number of topics the model is to produce\n",
    "\n",
    "n_jobs set to -1 takes in all processors for consideration\n",
    "\n",
    "random_state ensures results are replicable"
   ]
  },
  {
   "cell_type": "code",
   "execution_count": 20,
   "metadata": {
    "executionInfo": {
     "elapsed": 5293,
     "status": "ok",
     "timestamp": 1608066644403,
     "user": {
      "displayName": "Alex Zhao",
      "photoUrl": "https://lh3.googleusercontent.com/a-/AOh14Gh9y1MKHYau8bzpWFSBLOEpz2unRxz8sJAdQz1_=s64",
      "userId": "01860394617001739367"
     },
     "user_tz": 480
    },
    "id": "gekTsom2xAkJ"
   },
   "outputs": [],
   "source": [
    "lda = LDA(n_components = 3, n_jobs = -1, random_state = 13)"
   ]
  },
  {
   "cell_type": "markdown",
   "metadata": {
    "id": "DjN61PE2JTfK"
   },
   "source": [
    "Fitting the model to the document-term matrix"
   ]
  },
  {
   "cell_type": "code",
   "execution_count": 21,
   "metadata": {
    "colab": {
     "base_uri": "https://localhost:8080/"
    },
    "executionInfo": {
     "elapsed": 13433,
     "status": "ok",
     "timestamp": 1608066652548,
     "user": {
      "displayName": "Alex Zhao",
      "photoUrl": "https://lh3.googleusercontent.com/a-/AOh14Gh9y1MKHYau8bzpWFSBLOEpz2unRxz8sJAdQz1_=s64",
      "userId": "01860394617001739367"
     },
     "user_tz": 480
    },
    "id": "MRP_wezbxAkK",
    "outputId": "b3026e06-9436-496c-9730-648d0200cabb"
   },
   "outputs": [
    {
     "data": {
      "text/plain": [
       "LatentDirichletAllocation(n_components=3, n_jobs=-1, random_state=13)"
      ]
     },
     "execution_count": 21,
     "metadata": {},
     "output_type": "execute_result"
    }
   ],
   "source": [
    "lda.fit(reviews_count)"
   ]
  },
  {
   "cell_type": "markdown",
   "metadata": {
    "id": "Bmxqt7o0JSY0"
   },
   "source": [
    "Now, I tested the results with multiple topics ranging from 2 to 5 and found that 3 topics works best. The results are below in an additional \"**Appendix**\" section. \n",
    "\n",
    "To examine the results, I start by printing the top words from the lda model. The details for the function are below. "
   ]
  },
  {
   "cell_type": "code",
   "execution_count": 22,
   "metadata": {
    "colab": {
     "base_uri": "https://localhost:8080/"
    },
    "executionInfo": {
     "elapsed": 13431,
     "status": "ok",
     "timestamp": 1608066652549,
     "user": {
      "displayName": "Alex Zhao",
      "photoUrl": "https://lh3.googleusercontent.com/a-/AOh14Gh9y1MKHYau8bzpWFSBLOEpz2unRxz8sJAdQz1_=s64",
      "userId": "01860394617001739367"
     },
     "user_tz": 480
    },
    "id": "kAJ8SRIOxAkK",
    "outputId": "9fe8a035-e6e5-49ce-9fe5-79dca7c1f47c"
   },
   "outputs": [
    {
     "name": "stdout",
     "output_type": "stream",
     "text": [
      "Topics found via LDA:\n",
      "\n",
      "Topic #0:\n",
      "love great one time area lot dog beach live nice year park go walk come ive well around get alway play peopl like playground even visit beauti best littl famili\n",
      "\n",
      "Topic #1:\n",
      "nice littl park locat great trail realli kid dog field one take get small lot area time walk good go hike easi play see pretti beauti live street busi like\n",
      "\n",
      "Topic #2:\n",
      "time review us good work first help trail get look go great covid take back year servic like want day use amaz move experi manag need beauti sinc came walk\n"
     ]
    }
   ],
   "source": [
    "# Defining a function to print the top-n words in each Topic\n",
    "def print_topics(model, count_vectorizer, n_top_words):\n",
    "    '''\n",
    "    model = LDA model to be examined\n",
    "    count_vectorizer = document-term matrix\n",
    "    n_top_words = How many words to display\n",
    "    '''\n",
    "    # Extracting feature names\n",
    "    words = count_vectorizer.get_feature_names()\n",
    "    for topic_idx, topic in enumerate(model.components_):\n",
    "        print(\"\\nTopic #%d:\" % topic_idx)\n",
    "        # Select the ith word with top n largest weights\n",
    "        print(\" \".join([words[i] for i in topic.argsort()[:-n_top_words - 1:-1]]))\n",
    "        \n",
    "# Printing the topics found by the LDA model\n",
    "print(\"Topics found via LDA:\")\n",
    "print_topics(model=lda, count_vectorizer=count_vectorizer, n_top_words=30)"
   ]
  },
  {
   "cell_type": "markdown",
   "metadata": {
    "id": "ykK2LF8fJ_Yk"
   },
   "source": [
    "My interpretation of the results and the inferred topics are below after visualization. It makes it much easier to discern meaning with an interactive experience. \n",
    "\n",
    "An additional benefit to the LDA library is extracting the theta matrix which provides the probability a document pertains to a specific topic. Each column of the matrix is each constructed topic and the values are the probability a given document belongs to that topic. "
   ]
  },
  {
   "cell_type": "code",
   "execution_count": 23,
   "metadata": {
    "colab": {
     "base_uri": "https://localhost:8080/"
    },
    "executionInfo": {
     "elapsed": 21452,
     "status": "ok",
     "timestamp": 1608066660575,
     "user": {
      "displayName": "Alex Zhao",
      "photoUrl": "https://lh3.googleusercontent.com/a-/AOh14Gh9y1MKHYau8bzpWFSBLOEpz2unRxz8sJAdQz1_=s64",
      "userId": "01860394617001739367"
     },
     "user_tz": 480
    },
    "id": "l_uEjmoyxAkK",
    "outputId": "f70e4d6d-2369-4719-909c-26bb6b57c148"
   },
   "outputs": [
    {
     "name": "stdout",
     "output_type": "stream",
     "text": [
      "(2333, 3)\n",
      "\n",
      "[[0.94054559 0.03118607 0.02826834]\n",
      " [0.94230946 0.02993257 0.02775797]\n",
      " [0.94836312 0.02610466 0.02553223]\n",
      " [0.94908888 0.02212461 0.02878651]\n",
      " [0.94178205 0.03027025 0.0279477 ]\n",
      " [0.95513634 0.02204649 0.02281718]\n",
      " [0.02742814 0.34193987 0.63063199]\n",
      " [0.53913046 0.03205386 0.42881568]\n",
      " [0.94000188 0.02898436 0.03101376]\n",
      " [0.54194459 0.02552713 0.43252828]]\n"
     ]
    }
   ],
   "source": [
    "theta_matrix = lda.fit_transform(reviews_count)\n",
    "\n",
    "print(theta_matrix.shape)\n",
    "print()\n",
    "print(theta_matrix[:10])"
   ]
  },
  {
   "cell_type": "markdown",
   "metadata": {
    "id": "nduv6Vp7cG56"
   },
   "source": [
    "Therefore with this theta matrix and directing attention to the first document (row 1), the model suggests there is a 94% probability document one pertains to topic 1. The same logic can be applied to the rest of the documents."
   ]
  },
  {
   "cell_type": "markdown",
   "metadata": {
    "id": "sRtTGdCmKv4R"
   },
   "source": [
    "#### **Visualizing Results**"
   ]
  },
  {
   "cell_type": "markdown",
   "metadata": {
    "id": "G_9lq6CvK0U4"
   },
   "source": [
    "Loading in object to display and dispaying it"
   ]
  },
  {
   "cell_type": "code",
   "execution_count": 24,
   "metadata": {
    "executionInfo": {
     "elapsed": 23279,
     "status": "ok",
     "timestamp": 1608066662405,
     "user": {
      "displayName": "Alex Zhao",
      "photoUrl": "https://lh3.googleusercontent.com/a-/AOh14Gh9y1MKHYau8bzpWFSBLOEpz2unRxz8sJAdQz1_=s64",
      "userId": "01860394617001739367"
     },
     "user_tz": 480
    },
    "id": "p42g9FvsxAkK"
   },
   "outputs": [],
   "source": [
    "LDAvis_prepared = sklearn_lda.prepare(lda, reviews_count, count_vectorizer)"
   ]
  },
  {
   "cell_type": "code",
   "execution_count": 25,
   "metadata": {
    "colab": {
     "base_uri": "https://localhost:8080/",
     "height": 861
    },
    "executionInfo": {
     "elapsed": 23277,
     "status": "ok",
     "timestamp": 1608066662407,
     "user": {
      "displayName": "Alex Zhao",
      "photoUrl": "https://lh3.googleusercontent.com/a-/AOh14Gh9y1MKHYau8bzpWFSBLOEpz2unRxz8sJAdQz1_=s64",
      "userId": "01860394617001739367"
     },
     "user_tz": 480
    },
    "id": "QS-Zk5DK2DEJ",
    "outputId": "f058a08c-55c9-4885-c1ea-92406693edab"
   },
   "outputs": [
    {
     "data": {
      "text/html": [
       "\n",
       "<link rel=\"stylesheet\" type=\"text/css\" href=\"https://cdn.rawgit.com/bmabey/pyLDAvis/files/ldavis.v1.0.0.css\">\n",
       "\n",
       "\n",
       "<div id=\"ldavis_el134882393788853960191504599\"></div>\n",
       "<script type=\"text/javascript\">\n",
       "\n",
       "var ldavis_el134882393788853960191504599_data = {\"mdsDat\": {\"x\": [-0.053593087860752, -0.07227315051945617, 0.12586623838020816], \"y\": [0.08087546708541934, -0.07325073986133052, -0.007624727224088876], \"topics\": [1, 2, 3], \"cluster\": [1, 1, 1], \"Freq\": [45.41566337363864, 29.685520618441117, 24.898816007920246]}, \"tinfo\": {\"Term\": [\"love\", \"field\", \"locat\", \"one\", \"park\", \"realli\", \"us\", \"beach\", \"littl\", \"review\", \"nice\", \"lot\", \"live\", \"trail\", \"dog\", \"kid\", \"help\", \"easi\", \"alway\", \"small\", \"weekend\", \"along\", \"around\", \"work\", \"basebal\", \"area\", \"pretti\", \"head\", \"look\", \"hair\", \"shade\", \"outdoor\", \"favorit\", \"bridg\", \"coronado\", \"summer\", \"restroom\", \"five\", \"grassi\", \"tree\", \"picnic\", \"island\", \"coast\", \"separ\", \"bbq\", \"race\", \"corner\", \"ghetto\", \"interact\", \"appreci\", \"church\", \"fanci\", \"white\", \"volleybal\", \"diego\", \"current\", \"surf\", \"gather\", \"appropri\", \"case\", \"love\", \"alway\", \"beach\", \"quit\", \"around\", \"high\", \"even\", \"ive\", \"tabl\", \"daughter\", \"say\", \"live\", \"one\", \"covid19\", \"lot\", \"area\", \"playground\", \"new\", \"plenti\", \"dog\", \"come\", \"great\", \"well\", \"clean\", \"year\", \"spot\", \"close\", \"im\", \"play\", \"peopl\", \"time\", \"nice\", \"park\", \"walk\", \"go\", \"best\", \"get\", \"visit\", \"like\", \"famili\", \"beauti\", \"littl\", \"field\", \"weekend\", \"basebal\", \"path\", \"soccer\", \"either\", \"mall\", \"workout\", \"guid\", \"softbal\", \"someon\", \"sweet\", \"valley\", \"along\", \"navig\", \"control\", \"anim\", \"pro\", \"mom\", \"suck\", \"footbal\", \"blast\", \"waterfal\", \"access\", \"younger\", \"stretch\", \"tini\", \"sister\", \"desert\", \"rose\", \"road\", \"swing\", \"locat\", \"train\", \"easi\", \"citi\", \"littl\", \"busi\", \"small\", \"realli\", \"pretti\", \"skate\", \"kid\", \"trail\", \"way\", \"nice\", \"park\", \"street\", \"court\", \"take\", \"hike\", \"see\", \"perfect\", \"dog\", \"great\", \"get\", \"one\", \"play\", \"lot\", \"walk\", \"area\", \"good\", \"go\", \"time\", \"beauti\", \"live\", \"like\", \"hair\", \"head\", \"torrey\", \"contact\", \"surpris\", \"admiss\", \"captain\", \"celebr\", \"met\", \"except\", \"color\", \"condo\", \"phone\", \"pine\", \"john\", \"crew\", \"incred\", \"tijuana\", \"atmospher\", \"dam\", \"question\", \"ash\", \"de\", \"cut\", \"ysidro\", \"june\", \"100\", \"april\", \"cross\", \"hoa\", \"appoint\", \"profession\", \"answer\", \"buy\", \"us\", \"felt\", \"custom\", \"today\", \"help\", \"job\", \"mission\", \"ask\", \"review\", \"price\", \"wait\", \"recommend\", \"work\", \"look\", \"time\", \"back\", \"servic\", \"covid\", \"first\", \"properti\", \"good\", \"need\", \"trail\", \"want\", \"amaz\", \"use\", \"take\", \"get\", \"experi\", \"took\", \"go\", \"manag\", \"move\", \"day\", \"like\", \"year\", \"great\", \"sinc\", \"friend\", \"came\", \"beauti\", \"walk\"], \"Freq\": [233.0, 56.0, 94.0, 209.0, 180.0, 117.0, 67.0, 131.0, 149.0, 106.0, 207.0, 183.0, 148.0, 143.0, 189.0, 114.0, 68.0, 54.0, 85.0, 86.0, 29.0, 35.0, 92.0, 85.0, 25.0, 185.0, 55.0, 21.0, 90.0, 20.0, 30.346010726573258, 23.293869329445208, 41.985462523796265, 17.135211832834436, 15.355325502800184, 16.14773238690065, 13.568945684165566, 12.672570137166192, 16.0006690875238, 28.61348345619026, 41.11996156048997, 10.040968299880271, 9.99411379533675, 9.978106845220942, 9.144445020020228, 9.127029872423165, 9.108129535291276, 8.259808151173361, 8.246951905672109, 11.517316695856723, 9.857462467706684, 7.387469133531421, 7.378829451593834, 7.372665214234599, 7.371010897697389, 16.36868518088925, 6.500328798842511, 7.3009519145174275, 6.483879271512592, 6.48125504882111, 206.29659398925924, 75.87473551906682, 114.70124348284024, 22.867905059695058, 78.43962040730723, 15.086173587992239, 63.06689532652728, 88.82319056555002, 29.441331537700968, 30.752280089248337, 53.746107354100715, 113.3030952280975, 153.2554521415043, 21.50728507681571, 132.17648841065696, 132.1958101570491, 64.7110551094034, 44.036254519450274, 45.8064077504708, 129.44982288077716, 90.88544273648058, 199.108893798217, 82.083167780448, 54.9520773931461, 109.67530233576261, 58.12939026013432, 46.47972606944819, 50.89606195690533, 73.7248808841255, 70.82420636718618, 133.19482841142715, 111.68777348541506, 99.95603352655155, 91.99025797603201, 93.34323024845179, 59.994113514173975, 78.05432514466423, 60.75277528842469, 68.94145710406603, 58.42067637507047, 60.37431086830119, 58.999050059866406, 56.07752639678535, 28.47108366622678, 25.095584084443697, 23.343635459772383, 18.322964560044912, 11.409326417989623, 10.592961903091116, 9.722464338892287, 10.504218323198765, 8.018733294721455, 8.015037406128634, 8.001144276492964, 12.752522554336117, 32.231942169212324, 6.2874232645651995, 6.286515360931583, 6.285755350576049, 7.855573357655793, 7.849095883704112, 6.2601784150781725, 6.2517794490924095, 10.912402477833403, 5.4430001391682055, 14.785565558923357, 5.43502857781741, 5.434427421705732, 5.429011664736104, 5.415692892289397, 6.13784243113787, 6.90854775045732, 15.930931455756717, 25.028276752130076, 76.54471045377183, 9.686774025112875, 40.6724441516635, 32.84949168772738, 84.60624250546888, 33.703288319785095, 51.765963650011635, 65.70165381741306, 35.54796731352457, 8.80211694190481, 63.03253212451239, 75.00885941537996, 32.10765403762103, 89.32207937639338, 79.95269225013551, 34.74196350793455, 27.518561954206287, 54.52950412134604, 42.331753041564596, 37.336208987119484, 27.65843222952215, 57.235942923675694, 76.43283722370215, 53.75362572991139, 55.66169292211732, 40.1427078092999, 49.54429141739594, 45.10035823589191, 47.46338035988732, 42.801617010079084, 42.64312716131456, 45.919239647939754, 35.12789225890889, 34.91127590035852, 33.01153570400519, 19.959612114735037, 20.56128054840398, 14.761675948522218, 12.197300754566516, 11.369505152222704, 11.3661791222144, 9.68721058466805, 10.492941029971844, 9.672871647190256, 9.648242462296432, 8.82631480056374, 8.82130927383628, 9.618472660321986, 9.60798780962062, 7.112916934740995, 7.107635537477606, 12.631740472292345, 7.10084712523426, 7.084158062687313, 7.078525564625254, 10.19543408296433, 6.271374070012495, 6.270615572863774, 7.045663059774367, 6.2622910605310285, 6.232691578685621, 5.419854486162715, 5.417857851105026, 5.417542437417468, 5.409547337232302, 12.915338510128175, 14.775660506974711, 8.26947917255831, 13.022260484962281, 49.02154466927436, 14.175883538657196, 18.439981701729952, 20.792656383976887, 43.94938800535001, 17.081596472687337, 24.260175289156535, 11.377143231752195, 60.898547852506674, 20.234864260186683, 14.863379915465936, 24.12824815011084, 45.28872243823282, 42.245932282822935, 84.15806725789938, 35.29854707292131, 34.889421482203616, 37.80566943200593, 44.051213062943816, 22.264834970567456, 46.9394947293272, 25.775866284701713, 42.60418199917695, 33.727253450026225, 31.0124005555231, 31.056816882336104, 35.9519655657743, 42.29174880920874, 26.815326614157048, 23.751420763570774, 40.3081387785431, 25.887784275090976, 27.774290106417098, 31.478887960014834, 34.08639891782433, 35.00715950362898, 39.78519864532053, 25.16738730123262, 24.523463388115264, 24.864127006755826, 25.700200248699296, 24.618740093245695], \"Total\": [233.0, 56.0, 94.0, 209.0, 180.0, 117.0, 67.0, 131.0, 149.0, 106.0, 207.0, 183.0, 148.0, 143.0, 189.0, 114.0, 68.0, 54.0, 85.0, 86.0, 29.0, 35.0, 92.0, 85.0, 25.0, 185.0, 55.0, 21.0, 90.0, 20.0, 31.00779131739651, 23.91655810674452, 43.396472475253574, 17.712068341526923, 15.938709417618727, 16.822349914329347, 14.16510602220522, 13.27827461366348, 16.81790816671833, 30.091717745176616, 43.36998876912282, 10.619411589781755, 10.617954291661938, 10.617242591505253, 9.732529187390586, 9.731976739836767, 9.731304046906912, 8.846014133817395, 8.845569708778118, 12.38343457083671, 10.61375925138433, 7.959873498593287, 7.959595854456328, 7.959376133229926, 7.959351322065411, 17.68828078450572, 7.073277696916087, 7.957195047852633, 7.07272512236948, 7.0726796062164174, 233.16553510479878, 85.6478423489445, 131.56438551621414, 25.622220750959755, 92.640648970124, 16.78650723360297, 75.84135569092726, 110.95330928868434, 34.418159919854624, 36.1566306441919, 66.05396723855117, 148.71268742794317, 209.23853407765154, 24.71215845517377, 183.6624500845616, 185.3658399485913, 85.34597923370737, 55.44538574153749, 58.12387774822783, 189.59130393999968, 127.32495838515102, 315.32692966723965, 117.61350070584629, 74.73130174329407, 177.67593566141733, 81.68903176150053, 62.428099331358666, 70.25239333389732, 115.69657172659684, 110.37954791066132, 263.27213531726625, 207.08378513641517, 180.9624304892376, 161.70935630516962, 176.29449618830947, 93.74359574039619, 174.09969968378437, 102.3606084149771, 136.03939172589557, 95.43680995673769, 121.20240337590937, 149.60760035390388, 56.73380907122882, 29.229960169646006, 25.795737487902024, 24.073085866800785, 18.916534481794134, 12.040906497190987, 11.181059672540938, 10.322005173864932, 11.181324327766045, 8.602660829959735, 8.602564471477491, 8.603156014727352, 13.76891871386682, 35.25608670622786, 6.884043605805346, 6.884070117848496, 6.883778219015055, 8.604441471493463, 8.606633940461258, 6.884605383328436, 6.883834045878408, 12.055638675073151, 6.024148126766714, 16.36808862347701, 6.02432356110984, 6.024337202139581, 6.02444683250317, 6.024958234547823, 6.88300813659246, 7.750731189855873, 18.08938812980389, 29.343902635360557, 94.66771119219368, 11.178221034146983, 54.5606501899424, 44.081916644261945, 149.60760035390388, 50.96323161635119, 86.0621514787963, 117.60408992240586, 55.60850074659556, 10.345181425719185, 114.95615782212255, 143.27468444376677, 52.79256150542672, 207.08378513641517, 180.9624304892376, 60.05804567879696, 44.29129177582972, 120.22204276718189, 95.88412787489192, 83.27818887799685, 53.09832061293381, 189.59130393999968, 315.32692966723965, 174.09969968378437, 209.23853407765154, 115.69657172659684, 183.6624500845616, 161.70935630516962, 185.3658399485913, 141.47458753683887, 176.29449618830947, 263.27213531726625, 121.20240337590937, 148.71268742794317, 136.03939172589557, 20.551009135249952, 21.415242969186927, 15.418120533106096, 12.850046661949463, 11.99357137411532, 11.993771268799161, 10.281403379072847, 11.138532046928365, 10.282003533320394, 10.281699846966921, 9.425790358075236, 9.425796677482259, 10.281973090155972, 10.282666008472637, 7.714104484753929, 7.714499573682756, 13.721777146329808, 7.714260793588978, 7.715422026618103, 7.71395854968438, 11.13853044057696, 6.858050474546507, 6.85794438184103, 7.7141329685007625, 6.858021247152392, 6.858816552931447, 6.002117517913117, 6.002188719160127, 6.002127324556344, 6.002323135739092, 14.590242985065586, 17.190583683103732, 9.429764802030173, 15.469943923677675, 67.24221066082885, 17.138065544390997, 23.26474814123311, 27.61264972412104, 68.29285641268373, 22.311155082149707, 34.29695334503974, 13.725158231569996, 106.48875226039311, 28.475987418723697, 19.72426725654786, 36.94540620015332, 85.672210818282, 90.42441498170038, 263.27213531726625, 72.6822256509939, 72.92760363358573, 87.05009686543912, 113.32299613112161, 38.653498529555414, 141.47458753683887, 54.46726363227944, 143.27468444376677, 94.5463206753958, 83.72034964928363, 84.9977840046858, 120.22204276718189, 174.09969968378437, 66.17467898078209, 51.328937699623665, 176.29449618830947, 63.29375590354945, 77.44749210066102, 108.07515106935094, 136.03939172589557, 177.67593566141733, 315.32692966723965, 71.56581499282707, 67.04090137349422, 78.167117597842, 121.20240337590937, 161.70935630516962], \"Category\": [\"Default\", \"Default\", \"Default\", \"Default\", \"Default\", \"Default\", \"Default\", \"Default\", \"Default\", \"Default\", \"Default\", \"Default\", \"Default\", \"Default\", \"Default\", \"Default\", \"Default\", \"Default\", \"Default\", \"Default\", \"Default\", \"Default\", \"Default\", \"Default\", \"Default\", \"Default\", \"Default\", \"Default\", \"Default\", \"Default\", \"Topic1\", \"Topic1\", \"Topic1\", \"Topic1\", \"Topic1\", \"Topic1\", \"Topic1\", \"Topic1\", \"Topic1\", \"Topic1\", \"Topic1\", \"Topic1\", \"Topic1\", \"Topic1\", \"Topic1\", \"Topic1\", \"Topic1\", \"Topic1\", \"Topic1\", \"Topic1\", \"Topic1\", \"Topic1\", \"Topic1\", \"Topic1\", \"Topic1\", \"Topic1\", \"Topic1\", \"Topic1\", \"Topic1\", \"Topic1\", \"Topic1\", \"Topic1\", \"Topic1\", \"Topic1\", \"Topic1\", \"Topic1\", \"Topic1\", \"Topic1\", \"Topic1\", \"Topic1\", \"Topic1\", \"Topic1\", \"Topic1\", \"Topic1\", \"Topic1\", \"Topic1\", \"Topic1\", \"Topic1\", \"Topic1\", \"Topic1\", \"Topic1\", \"Topic1\", \"Topic1\", \"Topic1\", \"Topic1\", \"Topic1\", \"Topic1\", \"Topic1\", \"Topic1\", \"Topic1\", \"Topic1\", \"Topic1\", \"Topic1\", \"Topic1\", \"Topic1\", \"Topic1\", \"Topic1\", \"Topic1\", \"Topic1\", \"Topic1\", \"Topic1\", \"Topic1\", \"Topic2\", \"Topic2\", \"Topic2\", \"Topic2\", \"Topic2\", \"Topic2\", \"Topic2\", \"Topic2\", \"Topic2\", \"Topic2\", \"Topic2\", \"Topic2\", \"Topic2\", \"Topic2\", \"Topic2\", \"Topic2\", \"Topic2\", \"Topic2\", \"Topic2\", \"Topic2\", \"Topic2\", \"Topic2\", \"Topic2\", \"Topic2\", \"Topic2\", \"Topic2\", \"Topic2\", \"Topic2\", \"Topic2\", \"Topic2\", \"Topic2\", \"Topic2\", \"Topic2\", \"Topic2\", \"Topic2\", \"Topic2\", \"Topic2\", \"Topic2\", \"Topic2\", \"Topic2\", \"Topic2\", \"Topic2\", \"Topic2\", \"Topic2\", \"Topic2\", \"Topic2\", \"Topic2\", \"Topic2\", \"Topic2\", \"Topic2\", \"Topic2\", \"Topic2\", \"Topic2\", \"Topic2\", \"Topic2\", \"Topic2\", \"Topic2\", \"Topic2\", \"Topic2\", \"Topic2\", \"Topic2\", \"Topic2\", \"Topic2\", \"Topic2\", \"Topic2\", \"Topic2\", \"Topic2\", \"Topic3\", \"Topic3\", \"Topic3\", \"Topic3\", \"Topic3\", \"Topic3\", \"Topic3\", \"Topic3\", \"Topic3\", \"Topic3\", \"Topic3\", \"Topic3\", \"Topic3\", \"Topic3\", \"Topic3\", \"Topic3\", \"Topic3\", \"Topic3\", \"Topic3\", \"Topic3\", \"Topic3\", \"Topic3\", \"Topic3\", \"Topic3\", \"Topic3\", \"Topic3\", \"Topic3\", \"Topic3\", \"Topic3\", \"Topic3\", \"Topic3\", \"Topic3\", \"Topic3\", \"Topic3\", \"Topic3\", \"Topic3\", \"Topic3\", \"Topic3\", \"Topic3\", \"Topic3\", \"Topic3\", \"Topic3\", \"Topic3\", \"Topic3\", \"Topic3\", \"Topic3\", \"Topic3\", \"Topic3\", \"Topic3\", \"Topic3\", \"Topic3\", \"Topic3\", \"Topic3\", \"Topic3\", \"Topic3\", \"Topic3\", \"Topic3\", \"Topic3\", \"Topic3\", \"Topic3\", \"Topic3\", \"Topic3\", \"Topic3\", \"Topic3\", \"Topic3\", \"Topic3\", \"Topic3\", \"Topic3\", \"Topic3\", \"Topic3\", \"Topic3\", \"Topic3\", \"Topic3\", \"Topic3\", \"Topic3\", \"Topic3\"], \"logprob\": [30.0, 29.0, 28.0, 27.0, 26.0, 25.0, 24.0, 23.0, 22.0, 21.0, 20.0, 19.0, 18.0, 17.0, 16.0, 15.0, 14.0, 13.0, 12.0, 11.0, 10.0, 9.0, 8.0, 7.0, 6.0, 5.0, 4.0, 3.0, 2.0, 1.0, -6.1899, -6.4543, -5.8652, -6.7614, -6.8711, -6.8208, -6.9948, -7.0631, -6.8299, -6.2487, -5.886, -7.2959, -7.3005, -7.3021, -7.3894, -7.3913, -7.3934, -7.4911, -7.4927, -7.1587, -7.3143, -7.6028, -7.6039, -7.6048, -7.605, -6.8072, -7.7307, -7.6145, -7.7332, -7.7336, -4.2732, -5.2735, -4.8602, -6.4728, -5.2402, -6.8888, -5.4583, -5.1159, -6.2201, -6.1766, -5.6183, -4.8725, -4.5704, -6.5341, -4.7184, -4.7183, -5.4326, -5.8175, -5.7781, -4.7392, -5.0929, -4.3087, -5.1948, -5.5961, -4.905, -5.5399, -5.7635, -5.6728, -5.3022, -5.3423, -4.7107, -4.8868, -4.9978, -5.0809, -5.0663, -5.5083, -5.2451, -5.4957, -5.3693, -5.5349, -5.502, -5.525, -5.1506, -5.8285, -5.9547, -6.027, -6.2692, -6.7429, -6.8172, -6.9029, -6.8256, -7.0956, -7.096, -7.0978, -6.6316, -5.7044, -7.3388, -7.3389, -7.3391, -7.1161, -7.1169, -7.3431, -7.3445, -6.7874, -7.483, -6.4837, -7.4845, -7.4846, -7.4856, -7.488, -7.3629, -7.2446, -6.4091, -5.9573, -4.8395, -6.9066, -5.4718, -5.6854, -4.7393, -5.6597, -5.2306, -4.9922, -5.6065, -7.0023, -5.0337, -4.8597, -5.7082, -4.6851, -4.7959, -5.6294, -5.8625, -5.1786, -5.4318, -5.5574, -5.8574, -5.1302, -4.8409, -5.1929, -5.158, -5.4849, -5.2745, -5.3685, -5.3174, -5.4208, -5.4245, -5.3505, -5.6183, -5.6245, -5.6805, -6.0078, -5.9781, -6.3095, -6.5003, -6.5706, -6.5709, -6.7307, -6.6508, -6.7322, -6.7347, -6.8238, -6.8243, -6.7378, -6.7389, -7.0396, -7.0403, -6.4653, -7.0413, -7.0436, -7.0444, -6.6796, -7.1655, -7.1656, -7.0491, -7.167, -7.1717, -7.3114, -7.3118, -7.3119, -7.3133, -6.4431, -6.3085, -6.8889, -6.4348, -5.1092, -6.35, -6.087, -5.9669, -5.2185, -6.1635, -5.8127, -6.5699, -4.8923, -5.9941, -6.3026, -5.8181, -5.1884, -5.258, -4.5688, -5.4377, -5.4493, -5.369, -5.2161, -5.8985, -5.1526, -5.7521, -5.2496, -5.4832, -5.5671, -5.5657, -5.4193, -5.2569, -5.7125, -5.8339, -5.3049, -5.7477, -5.6774, -5.5522, -5.4726, -5.446, -5.318, -5.776, -5.8019, -5.7881, -5.755, -5.798], \"loglift\": [30.0, 29.0, 28.0, 27.0, 26.0, 25.0, 24.0, 23.0, 22.0, 21.0, 20.0, 19.0, 18.0, 17.0, 16.0, 15.0, 14.0, 13.0, 12.0, 11.0, 10.0, 9.0, 8.0, 7.0, 6.0, 5.0, 4.0, 3.0, 2.0, 1.0, 0.7677, 0.7629, 0.7563, 0.7562, 0.752, 0.7484, 0.7463, 0.7426, 0.7395, 0.7389, 0.736, 0.7333, 0.7288, 0.7272, 0.727, 0.7251, 0.7231, 0.7207, 0.7192, 0.7168, 0.7154, 0.7147, 0.7135, 0.7127, 0.7125, 0.7118, 0.7048, 0.7032, 0.7024, 0.702, 0.6669, 0.6682, 0.6521, 0.6756, 0.6229, 0.6825, 0.6049, 0.5669, 0.6331, 0.6274, 0.5831, 0.5174, 0.4779, 0.6504, 0.4604, 0.4513, 0.5125, 0.5589, 0.5512, 0.4077, 0.4522, 0.3296, 0.4296, 0.4819, 0.3069, 0.4491, 0.4943, 0.467, 0.3387, 0.3456, 0.1079, 0.1719, 0.1958, 0.2252, 0.1534, 0.343, -0.0129, 0.2676, 0.1096, 0.2985, 0.0924, -0.1412, 1.2029, 1.1882, 1.187, 1.1837, 1.1826, 1.1606, 1.1605, 1.1547, 1.152, 1.1442, 1.1438, 1.142, 1.1378, 1.1248, 1.1239, 1.1237, 1.1236, 1.1235, 1.1224, 1.1194, 1.1182, 1.1149, 1.1131, 1.1128, 1.1116, 1.1115, 1.1104, 1.1079, 1.0999, 1.0995, 1.0874, 1.0554, 1.002, 1.0713, 0.9207, 0.9204, 0.6445, 0.801, 0.7062, 0.6323, 0.7671, 1.053, 0.6136, 0.5674, 0.7172, 0.3736, 0.3977, 0.6671, 0.7386, 0.4239, 0.3969, 0.4123, 0.5623, 0.0168, -0.2027, 0.0393, -0.1097, 0.156, -0.0957, -0.0624, -0.1479, 0.019, -0.2048, -0.5318, -0.024, -0.2347, -0.2016, 1.3612, 1.3497, 1.3468, 1.3382, 1.3369, 1.3366, 1.3308, 1.3306, 1.3293, 1.3268, 1.3246, 1.3241, 1.3236, 1.3225, 1.3092, 1.3084, 1.3076, 1.3075, 1.305, 1.3044, 1.3019, 1.3009, 1.3008, 1.2997, 1.2995, 1.2946, 1.2883, 1.2879, 1.2879, 1.2864, 1.2684, 1.239, 1.2591, 1.2181, 1.0743, 1.2006, 1.1579, 1.1067, 0.9496, 1.1233, 1.0441, 1.2027, 0.8315, 1.0487, 1.1074, 0.9643, 0.7529, 0.6293, 0.2499, 0.6681, 0.6531, 0.5563, 0.4455, 0.8387, 0.2871, 0.6422, 0.1775, 0.3596, 0.3973, 0.3835, 0.1832, -0.0247, 0.487, 0.6197, -0.0853, 0.4963, 0.3649, 0.1568, 0.0063, -0.2341, -0.6798, 0.3453, 0.3847, 0.2449, -0.1606, -0.4919]}, \"token.table\": {\"Topic\": [3, 1, 2, 3, 1, 2, 3, 1, 3, 1, 2, 3, 2, 2, 3, 1, 2, 3, 1, 2, 1, 3, 1, 2, 3, 1, 2, 3, 1, 2, 3, 3, 1, 2, 3, 2, 1, 1, 2, 3, 1, 2, 3, 1, 2, 3, 1, 2, 1, 1, 2, 3, 1, 2, 3, 1, 2, 3, 3, 1, 3, 1, 1, 2, 3, 1, 2, 3, 1, 2, 3, 1, 3, 1, 2, 3, 3, 3, 2, 1, 1, 1, 2, 3, 1, 2, 3, 1, 2, 3, 3, 3, 1, 2, 1, 3, 3, 3, 1, 3, 1, 2, 3, 3, 2, 1, 1, 2, 3, 1, 2, 2, 1, 2, 3, 1, 2, 3, 1, 2, 3, 1, 1, 2, 2, 3, 2, 1, 2, 3, 1, 2, 1, 2, 3, 1, 1, 2, 3, 1, 1, 2, 3, 1, 2, 3, 1, 2, 1, 2, 3, 2, 3, 1, 3, 1, 2, 3, 1, 2, 3, 1, 2, 3, 3, 1, 2, 3, 1, 3, 1, 1, 1, 2, 3, 1, 2, 3, 3, 3, 1, 2, 3, 1, 2, 3, 1, 2, 3, 1, 2, 1, 2, 3, 1, 2, 3, 1, 2, 3, 1, 2, 3, 2, 1, 2, 3, 3, 1, 2, 3, 2, 1, 2, 3, 2, 1, 2, 3, 1, 3, 1, 2, 3, 1, 2, 1, 1, 2, 3, 2, 1, 2, 3, 1, 2, 3, 3, 1, 2, 3, 1, 2, 3, 1, 2, 1, 2, 1, 2, 1, 2, 3, 2, 1, 3, 1, 2, 3, 2, 3, 1, 2, 1, 1, 2, 1, 2, 3, 1, 1, 2, 3, 1, 2, 3, 1, 2, 1, 2, 3, 1, 2, 3, 1, 1, 2, 3, 1, 1, 2, 3, 2, 1, 2, 1, 2, 3, 2, 2, 2, 1, 2, 3, 1, 2, 3, 2, 2, 1, 1, 3, 2, 1, 2, 1, 2, 1, 2, 3, 3, 1, 2, 3, 2, 1, 3, 1, 2, 3, 3, 1, 2, 3, 2, 3, 1, 3, 1, 2, 3, 1, 2, 3, 1, 2, 1, 2, 3, 1, 1, 2, 3, 1, 2, 3, 1, 2, 3, 2, 1, 2, 3, 2, 1, 2, 3, 1, 1, 2, 3, 2, 1, 2, 3, 2, 3], \"Freq\": [0.8330393373801277, 0.06109448836718076, 0.9164173255077114, 0.917142719622778, 0.02836389666080988, 0.9076446931459161, 0.05672779332161976, 0.8873545195728636, 0.10508145626520753, 0.5255592001744165, 0.10750074549022157, 0.37028034557742984, 0.8716143677357595, 0.10604718367786924, 0.8483774694229539, 0.06853895449332743, 0.06853895449332743, 0.8910064084132566, 0.969036492368627, 0.08075304103071891, 0.8483293067651272, 0.8330294554116651, 0.7121053158263055, 0.2535526503320936, 0.03236842344665025, 0.8419630137214872, 0.15112156656539513, 0.8748841995650015, 0.07285890502157161, 0.14571781004314321, 0.8014479552372876, 0.9072737662113742, 0.28892896181850525, 0.2338948738530757, 0.48154826969750875, 0.9691523652589806, 0.9247339336685836, 0.8740967363529187, 0.12161345897084087, 0.007600841185677555, 0.4950396883955341, 0.2887731515640615, 0.21451719830473143, 0.6400437227323538, 0.22401530295632383, 0.13867613992534333, 0.08294873684856287, 0.9124361053341916, 0.9597975613126198, 0.17659790626606212, 0.6671476458940124, 0.1569759166809441, 0.12928295085406744, 0.06464147542703372, 0.8403391805514383, 0.38379309512659104, 0.29424137293038644, 0.3198275792721592, 0.9726298668870802, 0.8483347661791999, 0.8977843721119128, 0.9421732454215712, 0.2041653513532405, 0.7486062882952151, 0.06805511711774682, 0.7359700515980289, 0.2542441996429554, 0.013381273665418707, 0.7368476774511288, 0.19222113324812057, 0.06407371108270685, 0.9418010028403301, 0.9548270922755614, 0.714706693441281, 0.14137055474662702, 0.14137055474662702, 0.9548264521237271, 0.9338487490114293, 0.8715774094810066, 0.9248503547539082, 0.9411050548056875, 0.33866702456814946, 0.6321784458605456, 0.04515560327575326, 0.4709931576914527, 0.09190110393979566, 0.4365302437140294, 0.8902500378470198, 0.040465910811228176, 0.08093182162245635, 0.907382252489818, 0.8330379763094383, 0.9045537095959832, 0.05653460684974895, 0.2149174351532431, 0.7737027665516752, 0.9074253747742238, 0.9074458923928763, 0.8573807749140959, 0.13828722176033806, 0.49039949956665185, 0.21281487717043382, 0.28683744314275866, 0.874897734062592, 0.8717118854039875, 0.8794686547626266, 0.6804109540848186, 0.3006467006421291, 0.01582351056011206, 0.2565951826318362, 0.7514573205646632, 0.913552480667978, 0.8306813535446408, 0.1582250197227887, 0.9726018215703873, 0.4835686472962442, 0.12089216182406105, 0.40801104615620604, 0.6077319644934893, 0.31434411956559793, 0.07334696123197285, 0.8794109606436684, 0.9678205993344298, 0.02304334760320071, 0.1750489279101777, 0.8168949969141626, 0.9870657535032148, 0.5118113885101526, 0.09706767713123583, 0.38827070852494333, 0.979042863492435, 0.8716072990737495, 0.4773205512515939, 0.1640789394927354, 0.37290668066530774, 0.8797069768811377, 0.44801915305810786, 0.31016710596330543, 0.24124108241590422, 0.9043621091918483, 0.5275263948153083, 0.24391005351675543, 0.22689307303884226, 0.36755717691320083, 0.30394151167822375, 0.3322151406715469, 0.951366831200986, 0.05946042695006162, 0.6310910400516762, 0.24101969368807732, 0.12685247036214595, 0.9837832869836561, 0.9731882200224982, 0.04669571115484603, 0.9806099342517666, 0.27821357896037885, 0.07321409972641549, 0.6442840775924562, 0.8935748092952436, 0.059571653953016244, 0.059571653953016244, 0.4693164655855793, 0.43802870121320736, 0.08343403832632522, 0.833010800473062, 0.7259539153008772, 0.07117195248047815, 0.19928146694533883, 0.07287685766471379, 0.9473991496412792, 0.9044075467588033, 0.9416717598197467, 0.8021392112643975, 0.08111520113909637, 0.11716640164536143, 0.044820628798374555, 0.17928251519349822, 0.7619506895723674, 0.9074287253737258, 0.8747864815593602, 0.4349484268373645, 0.5480350178150794, 0.01739793707349458, 0.5072060314635001, 0.24257679765645657, 0.2499276097066522, 0.394364991219916, 0.5681529534524213, 0.04010491436134739, 0.7598544680644864, 0.23535315382528343, 0.06337958237755263, 0.8133713071785921, 0.12675916475510526, 0.442358405172928, 0.08847168103458561, 0.4644763254315744, 0.7187097849300428, 0.2722385548977435, 0.01088954219590974, 0.8834924934656877, 0.07290957470347909, 0.04288798511969358, 0.9838065730938191, 0.3475856296713506, 0.2527895488518913, 0.4107830168843234, 0.9725730950775772, 0.029157108794464592, 0.26241397915018133, 0.6997706110671502, 0.9295155406099743, 0.4519190880255924, 0.19367960915382532, 0.3615352704204739, 0.8715807661270728, 0.2570351265398075, 0.275394778435508, 0.47735094928821387, 0.7935737016080842, 0.19839342540202104, 0.5408438904389384, 0.42977773436665645, 0.02897377984494313, 0.731222863295436, 0.2676371264349308, 0.9616768390061089, 0.5526008891991938, 0.44208071135935506, 0.005526008891991938, 0.9554238342047923, 0.6432351041831208, 0.19025263644852866, 0.16307368838445316, 0.41432572153028113, 0.5273236455839941, 0.05649896202685652, 0.9725759747002319, 0.9453541760930746, 0.04611483785819876, 0.9725104356944272, 0.6396040858917563, 0.3457319383198683, 0.017286596915993414, 0.7616058844671182, 0.23434027214372866, 0.7914131297167716, 0.2064555990565491, 0.3596572418152171, 0.6473830352673908, 0.24582115089000633, 0.07023461454000181, 0.702346145400018, 0.9297523873576247, 0.11634276280948846, 0.8725707210711634, 0.05174175885969936, 0.36219231201789553, 0.5691593474566929, 0.089778450158655, 0.89778450158655, 0.8976583342854256, 0.07805724645960223, 0.9247864273205153, 0.44216149314457637, 0.5612049720681161, 0.08120089365772219, 0.27066964552574063, 0.6496071492617775, 0.988344173213642, 0.3192825465440803, 0.11268795760379305, 0.5728304511526147, 0.055281029564090686, 0.884496473025451, 0.055281029564090686, 0.1290200853964328, 0.9031405977750296, 0.8175133494250426, 0.015139136100463753, 0.18166963320556503, 0.33622248967277857, 0.4442940042104574, 0.21614302907535765, 0.941864134102097, 0.3976546404254051, 0.12341006082167744, 0.4799280143065234, 0.9674987712900692, 0.544952922060748, 0.09781206293398041, 0.34932879619278717, 0.8298812714301336, 0.09666336034609284, 0.8699702431148355, 0.37182430894589075, 0.6042145020370724, 0.02323901930911817, 0.9515484994000231, 0.9299448342934896, 0.929955250730716, 0.7100096395968668, 0.23258936469552535, 0.04896618204116323, 0.41626396126349585, 0.5827695457688942, 0.016650558450539834, 0.8299668216155329, 0.871509645931113, 0.951115633754065, 0.9896402064140596, 0.917158005474528, 0.9298913080624324, 0.13631451990914947, 0.8519657494321842, 0.8425784547322915, 0.14527214736763647, 0.24953826527550382, 0.45748681967175703, 0.2994459183306046, 0.9074103387608347, 0.505180693884384, 0.1747241497645238, 0.31906149087434776, 0.8299517182264666, 0.21729171448398513, 0.7605210006939479, 0.467572505405191, 0.07792875090086517, 0.467572505405191, 0.9728812255548075, 0.18146960226043715, 0.5234700065204918, 0.3001228037384153, 0.8945967313986922, 0.08945967313986922, 0.9637203248275314, 0.033231735338880394, 0.208202554056652, 0.07435805502023286, 0.7287089391982821, 0.35295037807510543, 0.2823603024600843, 0.36471539067760894, 0.0726273442948639, 0.9441554758332306, 0.5959323703186846, 0.28331211047937466, 0.12700198055971967, 0.8794659132611428, 0.05069896828071168, 0.20279587312284672, 0.7604845242106751, 0.5689219356385434, 0.2782770337362441, 0.15459835207569114, 0.3490352640299807, 0.2961511331163473, 0.3596120902127074, 0.8299928711553122, 0.24624681260566772, 0.6061460002601051, 0.15153650006502628, 0.9579212505762063, 0.6971988717952, 0.17004850531590246, 0.12753637898692685, 0.8794416359821736, 0.2918099085014523, 0.17508594510087136, 0.5252578353026142, 0.9688040096433742, 0.6191046614754747, 0.18573139844264241, 0.19698784683310558, 0.8299687009306099, 0.8748879281310681], \"Term\": [\"100\", \"access\", \"access\", \"admiss\", \"along\", \"along\", \"along\", \"alway\", \"alway\", \"amaz\", \"amaz\", \"amaz\", \"anim\", \"answer\", \"answer\", \"appoint\", \"appoint\", \"appoint\", \"appreci\", \"appreci\", \"appropri\", \"april\", \"area\", \"area\", \"area\", \"around\", \"around\", \"ash\", \"ask\", \"ask\", \"ask\", \"atmospher\", \"back\", \"back\", \"back\", \"basebal\", \"bbq\", \"beach\", \"beach\", \"beach\", \"beauti\", \"beauti\", \"beauti\", \"best\", \"best\", \"best\", \"blast\", \"blast\", \"bridg\", \"busi\", \"busi\", \"busi\", \"buy\", \"buy\", \"buy\", \"came\", \"came\", \"came\", \"captain\", \"case\", \"celebr\", \"church\", \"citi\", \"citi\", \"citi\", \"clean\", \"clean\", \"clean\", \"close\", \"close\", \"close\", \"coast\", \"color\", \"come\", \"come\", \"come\", \"condo\", \"contact\", \"control\", \"corner\", \"coronado\", \"court\", \"court\", \"court\", \"covid\", \"covid\", \"covid\", \"covid19\", \"covid19\", \"covid19\", \"crew\", \"cross\", \"current\", \"current\", \"custom\", \"custom\", \"cut\", \"dam\", \"daughter\", \"daughter\", \"day\", \"day\", \"day\", \"de\", \"desert\", \"diego\", \"dog\", \"dog\", \"dog\", \"easi\", \"easi\", \"either\", \"even\", \"even\", \"except\", \"experi\", \"experi\", \"experi\", \"famili\", \"famili\", \"famili\", \"fanci\", \"favorit\", \"favorit\", \"felt\", \"felt\", \"field\", \"first\", \"first\", \"first\", \"five\", \"footbal\", \"friend\", \"friend\", \"friend\", \"gather\", \"get\", \"get\", \"get\", \"ghetto\", \"go\", \"go\", \"go\", \"good\", \"good\", \"good\", \"grassi\", \"grassi\", \"great\", \"great\", \"great\", \"guid\", \"hair\", \"head\", \"head\", \"help\", \"help\", \"help\", \"high\", \"high\", \"high\", \"hike\", \"hike\", \"hike\", \"hoa\", \"im\", \"im\", \"im\", \"incred\", \"incred\", \"interact\", \"island\", \"ive\", \"ive\", \"ive\", \"job\", \"job\", \"job\", \"john\", \"june\", \"kid\", \"kid\", \"kid\", \"like\", \"like\", \"like\", \"littl\", \"littl\", \"littl\", \"live\", \"live\", \"locat\", \"locat\", \"locat\", \"look\", \"look\", \"look\", \"lot\", \"lot\", \"lot\", \"love\", \"love\", \"love\", \"mall\", \"manag\", \"manag\", \"manag\", \"met\", \"mission\", \"mission\", \"mission\", \"mom\", \"move\", \"move\", \"move\", \"navig\", \"need\", \"need\", \"need\", \"new\", \"new\", \"nice\", \"nice\", \"nice\", \"one\", \"one\", \"outdoor\", \"park\", \"park\", \"park\", \"path\", \"peopl\", \"peopl\", \"peopl\", \"perfect\", \"perfect\", \"perfect\", \"phone\", \"picnic\", \"picnic\", \"pine\", \"play\", \"play\", \"play\", \"playground\", \"playground\", \"plenti\", \"plenti\", \"pretti\", \"pretti\", \"price\", \"price\", \"price\", \"pro\", \"profession\", \"profession\", \"properti\", \"properti\", \"properti\", \"question\", \"question\", \"quit\", \"quit\", \"race\", \"realli\", \"realli\", \"recommend\", \"recommend\", \"recommend\", \"restroom\", \"review\", \"review\", \"review\", \"road\", \"road\", \"road\", \"rose\", \"rose\", \"say\", \"say\", \"say\", \"see\", \"see\", \"see\", \"separ\", \"servic\", \"servic\", \"servic\", \"shade\", \"sinc\", \"sinc\", \"sinc\", \"sister\", \"skate\", \"skate\", \"small\", \"small\", \"small\", \"soccer\", \"softbal\", \"someon\", \"spot\", \"spot\", \"spot\", \"street\", \"street\", \"street\", \"stretch\", \"suck\", \"summer\", \"surf\", \"surpris\", \"sweet\", \"swing\", \"swing\", \"tabl\", \"tabl\", \"take\", \"take\", \"take\", \"tijuana\", \"time\", \"time\", \"time\", \"tini\", \"today\", \"today\", \"took\", \"took\", \"took\", \"torrey\", \"trail\", \"trail\", \"trail\", \"train\", \"train\", \"tree\", \"tree\", \"us\", \"us\", \"us\", \"use\", \"use\", \"use\", \"valley\", \"valley\", \"visit\", \"visit\", \"visit\", \"volleybal\", \"wait\", \"wait\", \"wait\", \"walk\", \"walk\", \"walk\", \"want\", \"want\", \"want\", \"waterfal\", \"way\", \"way\", \"way\", \"weekend\", \"well\", \"well\", \"well\", \"white\", \"work\", \"work\", \"work\", \"workout\", \"year\", \"year\", \"year\", \"younger\", \"ysidro\"]}, \"R\": 30, \"lambda.step\": 0.01, \"plot.opts\": {\"xlab\": \"PC1\", \"ylab\": \"PC2\"}, \"topic.order\": [1, 2, 3]};\n",
       "\n",
       "function LDAvis_load_lib(url, callback){\n",
       "  var s = document.createElement('script');\n",
       "  s.src = url;\n",
       "  s.async = true;\n",
       "  s.onreadystatechange = s.onload = callback;\n",
       "  s.onerror = function(){console.warn(\"failed to load library \" + url);};\n",
       "  document.getElementsByTagName(\"head\")[0].appendChild(s);\n",
       "}\n",
       "\n",
       "if(typeof(LDAvis) !== \"undefined\"){\n",
       "   // already loaded: just create the visualization\n",
       "   !function(LDAvis){\n",
       "       new LDAvis(\"#\" + \"ldavis_el134882393788853960191504599\", ldavis_el134882393788853960191504599_data);\n",
       "   }(LDAvis);\n",
       "}else if(typeof define === \"function\" && define.amd){\n",
       "   // require.js is available: use it to load d3/LDAvis\n",
       "   require.config({paths: {d3: \"https://cdnjs.cloudflare.com/ajax/libs/d3/3.5.5/d3.min\"}});\n",
       "   require([\"d3\"], function(d3){\n",
       "      window.d3 = d3;\n",
       "      LDAvis_load_lib(\"https://cdn.rawgit.com/bmabey/pyLDAvis/files/ldavis.v1.0.0.js\", function(){\n",
       "        new LDAvis(\"#\" + \"ldavis_el134882393788853960191504599\", ldavis_el134882393788853960191504599_data);\n",
       "      });\n",
       "    });\n",
       "}else{\n",
       "    // require.js not available: dynamically load d3 & LDAvis\n",
       "    LDAvis_load_lib(\"https://cdnjs.cloudflare.com/ajax/libs/d3/3.5.5/d3.min.js\", function(){\n",
       "         LDAvis_load_lib(\"https://cdn.rawgit.com/bmabey/pyLDAvis/files/ldavis.v1.0.0.js\", function(){\n",
       "                 new LDAvis(\"#\" + \"ldavis_el134882393788853960191504599\", ldavis_el134882393788853960191504599_data);\n",
       "            })\n",
       "         });\n",
       "}\n",
       "</script>"
      ],
      "text/plain": [
       "<IPython.core.display.HTML object>"
      ]
     },
     "execution_count": 25,
     "metadata": {},
     "output_type": "execute_result"
    }
   ],
   "source": [
    "pyLDAvis.display(LDAvis_prepared)\n"
   ]
  },
  {
   "cell_type": "markdown",
   "metadata": {
    "id": "k8zLKdUAMcTZ"
   },
   "source": [
    "This interactive vizualization provides two plots. The left side is the intertopic distance map after using PCA to reduce the topics into two dimensions. The distances show that each topic is their own entity and occupy a different space without overlap. Meanwhile, the right side shows the most salient (noteworthy or frequent) terms in each topic, which helps infer what Yelp reviewers are focusing on. \n",
    "\n",
    "This is the exact results needed to reject the null hypothesis since it seems the text pertains to one of three topics. \n",
    "\n",
    "Assuming this project imported correctly, then a user can investigate each topic closer by either using the UI at the top or highlighting one of the topic nodes. "
   ]
  },
  {
   "cell_type": "markdown",
   "metadata": {
    "id": "TNSa5h2wLtki"
   },
   "source": [
    "Inferred Results:\n",
    "\n",
    "Topic 1: Location/Geography of Park\n",
    "- The salient terms of this topic revolve around the location and geography of the park. The salient terms \"love\", \"great\", \"area\", \"beach\", \"spot\", \"beautiful\" indicate this. \n",
    "\n",
    "\n",
    "Topic 2: Interaction Potential\n",
    "- The salient terms of this topic revolve around the interaction potential visitors can have while at the park. There are plenty of topics focused on friends, family, and pets alongside playing, hiking, and similar verbs. \n",
    "\n",
    "Topic 3: Context of Park\n",
    "- The salient terms of this topic revolve around the context of the park for the review. There are plenty of time indicating terms alongside the idea of \"service this time of year\" and \"covid\". It does seem that reviews are being driven by the context the reviewer attends the park and their experience at the time. "
   ]
  },
  {
   "cell_type": "markdown",
   "metadata": {
    "id": "VdvlmaSQK5_b"
   },
   "source": [
    "# Appendix\n",
    "\n",
    "---\n",
    "Here are the results for the other potential topics ranging from 2 to 5. By the fifth topic I noticed results were becoming increasingly similar and fragmenting existing topics into their own identities, which does not help meaning too much. It is interesting to see how topics split into other groups but sometimes the splits are random (hence setting a random_state). "
   ]
  },
  {
   "cell_type": "code",
   "execution_count": 26,
   "metadata": {
    "colab": {
     "base_uri": "https://localhost:8080/"
    },
    "executionInfo": {
     "elapsed": 50880,
     "status": "ok",
     "timestamp": 1608066690014,
     "user": {
      "displayName": "Alex Zhao",
      "photoUrl": "https://lh3.googleusercontent.com/a-/AOh14Gh9y1MKHYau8bzpWFSBLOEpz2unRxz8sJAdQz1_=s64",
      "userId": "01860394617001739367"
     },
     "user_tz": 480
    },
    "id": "D4mSRw-4IUOj",
    "outputId": "5c988e3a-94a5-48dd-ce2a-313eed6ac0b9"
   },
   "outputs": [
    {
     "name": "stdout",
     "output_type": "stream",
     "text": [
      "LDA results for 2 topics\n",
      "\n",
      "Topic #0:\n",
      "great love time year one live ive dog come first lot area go beach walk covid get alway peopl good nice amaz around like visit review move day best beauti\n",
      "\n",
      "Topic #1:\n",
      "trail park nice littl kid great locat get take time area dog lot hike small go realli walk play one like good field well beauti see want easi neighborhood busi\n",
      "\n",
      "LDA results for 3 topics\n",
      "\n",
      "Topic #0:\n",
      "love great one time area lot dog beach live nice year park go walk come ive well around get alway play peopl like playground even visit beauti best littl famili\n",
      "\n",
      "Topic #1:\n",
      "nice littl park locat great trail realli kid dog field one take get small lot area time walk good go hike easi play see pretti beauti live street busi like\n",
      "\n",
      "Topic #2:\n",
      "time review us good work first help trail get look go great covid take back year servic like want day use amaz move experi manag need beauti sinc came walk\n",
      "\n",
      "LDA results for 4 topics\n",
      "\n",
      "Topic #0:\n",
      "love great time live year one ive beach come go dog alway first get best visit nice apart walk around peopl covid area im spot beauti even like say realli\n",
      "\n",
      "Topic #1:\n",
      "littl realli great locat take time good year live one go get manag properti definit would love want home work nice best see start famili came dog view trail way\n",
      "\n",
      "Topic #2:\n",
      "review time good go like look trail first walk get help want take amaz us year use covid work beauti back servic sinc move came hair day need home great\n",
      "\n",
      "Topic #3:\n",
      "park lot area nice play great dog trail kid playground walk one littl hike well time small get field day there neighborhood beach open larg love big clean famili enjoy\n",
      "\n",
      "LDA results for 5 topics\n",
      "\n",
      "Topic #0:\n",
      "love great live year one ive time come apart get alway best visit go im even beach nice first spot like dog area say food around new good amaz staff\n",
      "\n",
      "Topic #1:\n",
      "live dog littl one love take trail realli time get go year great famili locat see definit like good bring beauti home dont part mani view busi best nice absolut\n",
      "\n",
      "Topic #2:\n",
      "trail time review go walk good like first sinc great beauti year mission covid want hair use look servic work back came us order would took get love north hike\n",
      "\n",
      "Topic #3:\n",
      "park lot area nice dog play great walk kid playground littl well beach trail time get field small there hike love larg one clean go around plenti open peopl famili\n",
      "\n",
      "Topic #4:\n",
      "time great help one first take come us covid day daughter go school get amaz back best properti want class move year need good manag look nice art work realli\n",
      "\n"
     ]
    }
   ],
   "source": [
    "lda_list = []\n",
    "\n",
    "for i in range(2,6):\n",
    "  lda = LDA(n_components = i, n_jobs = -1, random_state = 13)\n",
    "  output = lda.fit(reviews_count)\n",
    "  print(f\"LDA results for\", str(i), \"topics\")\n",
    "  print_topics(model=lda, count_vectorizer=count_vectorizer, n_top_words=30)\n",
    "  lda_list.append(output)\n",
    "  print()"
   ]
  },
  {
   "cell_type": "code",
   "execution_count": 27,
   "metadata": {
    "colab": {
     "base_uri": "https://localhost:8080/",
     "height": 861
    },
    "executionInfo": {
     "elapsed": 52204,
     "status": "ok",
     "timestamp": 1608066691342,
     "user": {
      "displayName": "Alex Zhao",
      "photoUrl": "https://lh3.googleusercontent.com/a-/AOh14Gh9y1MKHYau8bzpWFSBLOEpz2unRxz8sJAdQz1_=s64",
      "userId": "01860394617001739367"
     },
     "user_tz": 480
    },
    "id": "WYOz8ulDJJtI",
    "outputId": "cdfc6610-9e07-4b3d-a7b3-a74fd461b117"
   },
   "outputs": [
    {
     "data": {
      "text/html": [
       "\n",
       "<link rel=\"stylesheet\" type=\"text/css\" href=\"https://cdn.rawgit.com/bmabey/pyLDAvis/files/ldavis.v1.0.0.css\">\n",
       "\n",
       "\n",
       "<div id=\"ldavis_el1348823937866995925541283453\"></div>\n",
       "<script type=\"text/javascript\">\n",
       "\n",
       "var ldavis_el1348823937866995925541283453_data = {\"mdsDat\": {\"x\": [0.08170259038587638, -0.08170259038587638], \"y\": [0.0, 0.0], \"topics\": [1, 2], \"cluster\": [1, 1], \"Freq\": [54.57087802336507, 45.42912197663493]}, \"tinfo\": {\"Term\": [\"trail\", \"kid\", \"locat\", \"small\", \"alway\", \"covid\", \"field\", \"ive\", \"live\", \"hike\", \"park\", \"say\", \"busi\", \"love\", \"easi\", \"littl\", \"citi\", \"year\", \"im\", \"along\", \"pretti\", \"take\", \"first\", \"across\", \"awesom\", \"amaz\", \"swing\", \"weekend\", \"mission\", \"favorit\", \"alway\", \"say\", \"order\", \"covid\", \"tree\", \"awesom\", \"seat\", \"night\", \"outdoor\", \"complex\", \"leas\", \"due\", \"give\", \"unit\", \"pizza\", \"quit\", \"second\", \"bridg\", \"favorit\", \"current\", \"beer\", \"dress\", \"ok\", \"updat\", \"fan\", \"contact\", \"restroom\", \"reserv\", \"mainten\", \"covid19\", \"ive\", \"cant\", \"im\", \"room\", \"hous\", \"live\", \"staff\", \"found\", \"new\", \"offer\", \"amaz\", \"love\", \"year\", \"first\", \"food\", \"close\", \"thing\", \"move\", \"come\", \"help\", \"servic\", \"around\", \"great\", \"time\", \"one\", \"apart\", \"peopl\", \"beach\", \"even\", \"sinc\", \"dog\", \"go\", \"lot\", \"area\", \"walk\", \"best\", \"visit\", \"good\", \"get\", \"review\", \"like\", \"nice\", \"day\", \"beauti\", \"field\", \"trail\", \"along\", \"swing\", \"basebal\", \"path\", \"across\", \"weekend\", \"border\", \"soccer\", \"busi\", \"line\", \"hair\", \"entranc\", \"road\", \"access\", \"citi\", \"learn\", \"valley\", \"residenti\", \"sand\", \"conveni\", \"store\", \"said\", \"amount\", \"happen\", \"interest\", \"easi\", \"either\", \"mall\", \"kid\", \"locat\", \"small\", \"mission\", \"hike\", \"pretti\", \"life\", \"stop\", \"bathroom\", \"park\", \"littl\", \"way\", \"take\", \"nice\", \"find\", \"street\", \"neighborhood\", \"big\", \"play\", \"realli\", \"get\", \"see\", \"area\", \"lot\", \"dog\", \"go\", \"great\", \"dont\", \"walk\", \"time\", \"like\", \"good\", \"want\", \"one\", \"well\", \"beauti\"], \"Freq\": [144.0, 114.0, 95.0, 85.0, 84.0, 87.0, 57.0, 109.0, 147.0, 95.0, 179.0, 65.0, 51.0, 230.0, 54.0, 149.0, 44.0, 177.0, 69.0, 35.0, 55.0, 120.0, 113.0, 31.0, 41.0, 83.0, 29.0, 29.0, 34.0, 42.0, 84.02187106879475, 64.82405853460891, 33.571789216636546, 85.8539993697155, 29.157619624131947, 41.136588818249564, 24.85107189999964, 29.96274619690699, 23.083782614396974, 27.34088947758256, 20.492823546559837, 21.332868607719497, 31.558290021490677, 20.446957270696164, 16.135136464134586, 24.54919603424984, 15.23220345952779, 16.907128418581127, 41.392639819031, 16.88112002146659, 14.342553709747312, 12.647728881634572, 13.488377014749556, 16.016688513230473, 14.321223963729933, 12.635359377048866, 13.444572979299338, 13.434098768867974, 18.465827535252938, 23.491137010963076, 104.16437267514068, 35.09073527461166, 65.8603628893981, 25.83973337818679, 46.4315740311814, 132.5121709784302, 50.90466094199404, 51.35224654799264, 50.307768639029995, 28.771659441321656, 74.8658318298898, 191.9419587576283, 148.84753974958883, 98.0796074672736, 52.96293389636042, 54.65615691010397, 41.16488617660921, 66.75121499514653, 101.0515388360098, 58.88667819188923, 61.601654971782345, 74.13419038630244, 210.25836126870206, 175.39028593258482, 141.0405944947915, 59.461693878470285, 82.47369255025859, 93.45384617664592, 60.28006596967751, 57.840822309170015, 103.57665740100016, 96.76556028842771, 97.6294582072159, 96.86614856656153, 89.83228189329326, 66.5671403358916, 69.39354468269387, 79.15745429256349, 84.96608114370545, 67.78168380850703, 72.25289383496215, 79.03576272218092, 66.63290467060956, 66.43236057641406, 56.735235493490435, 142.54794567898256, 35.05802393511482, 28.986348491898347, 25.546708698881602, 23.832108644250916, 30.634695055369857, 28.87501708671649, 19.50877875312451, 18.632051349630885, 49.93672122420557, 19.459533171137437, 20.261956550936763, 16.029125742605387, 17.690558413229184, 16.000771815561638, 42.913358084688376, 15.932411811549809, 13.413667460047575, 13.403142661786436, 20.099092694284924, 15.911742884254956, 15.889030778638098, 17.516283531113142, 14.173434381136966, 12.504071228981337, 10.825696721710244, 52.38606843788326, 11.639535598508262, 10.807994439537596, 108.79562653032309, 90.03217198332284, 80.7459432194009, 32.691279327588326, 81.90991354039733, 49.046241424653786, 21.874753180567417, 35.05555364278686, 32.001089824094635, 132.0361231174612, 112.10008686504501, 44.336620854331954, 87.72857846650848, 127.13175103928572, 48.41554508075839, 45.386176394103494, 50.202382802307774, 38.472195995469455, 70.90448522166402, 71.68185187590751, 89.10877721210883, 54.059867706123335, 86.81994582944776, 84.32417211227924, 84.48486480933289, 79.10628689204539, 103.37078662239571, 48.7194070245758, 71.24468585355626, 87.70462063630865, 63.5562067049756, 62.76445531826567, 52.92165661455466, 66.31357954772224, 54.65136437070227, 54.58757578953831], \"Total\": [144.0, 114.0, 95.0, 85.0, 84.0, 87.0, 57.0, 109.0, 147.0, 95.0, 179.0, 65.0, 51.0, 230.0, 54.0, 149.0, 44.0, 177.0, 69.0, 35.0, 55.0, 120.0, 113.0, 31.0, 41.0, 83.0, 29.0, 29.0, 34.0, 42.0, 84.64620324169722, 65.44736951845137, 34.0319299247508, 87.26019024163351, 29.668296522779197, 41.8845146753644, 25.305215886128686, 30.540624084235443, 23.55975419728765, 27.922580896762913, 20.941869705724013, 21.81437661483184, 32.28520365742416, 20.941634128261082, 16.578526408108488, 25.30366539725499, 15.705696495183808, 17.450683784189806, 42.75402208568994, 17.45055020037306, 14.832934807451135, 13.087845309129785, 13.960355315723866, 16.57791803807611, 14.832825254029599, 13.087781777123823, 13.960130330299622, 13.960076532866278, 19.195074116315755, 24.430038729131176, 109.92723506189412, 36.644308364221146, 69.79365359556573, 27.046678402169555, 49.72544125005392, 147.4051027723774, 54.95756954821639, 55.828060714806014, 54.95450380173397, 30.53450644791699, 83.73098388720206, 230.18861206815694, 177.00754190305966, 113.36875175565623, 59.30910264030927, 61.92237619764557, 45.357429160588495, 77.61195974859666, 126.40690042431582, 68.88964320745193, 73.24454924878957, 91.54095662084372, 313.6291478910978, 263.09490656889346, 207.35417404251373, 71.49717345035562, 109.81582781816341, 129.8406464499214, 74.97414590185083, 71.48884836174886, 188.06152221033307, 175.87184718047308, 181.95363031949515, 183.6860943960093, 161.0769677468495, 93.23847545996892, 101.93491524449335, 141.92190961082915, 174.07485835581429, 107.13579015377786, 135.80910053993776, 206.16751376146664, 107.99808210323513, 121.01993636595236, 57.30361016548284, 144.1280351373014, 35.5986605422122, 29.521285263269448, 26.04834508157887, 24.311848042272576, 31.25812434926483, 29.521860033560923, 19.970795584863613, 19.10264736286356, 51.2299873350432, 19.971049824872868, 20.839581656019337, 16.49806197928377, 18.23483350567448, 16.498208362012537, 44.28485083136654, 16.49856128398751, 13.893541298107934, 13.893595634450591, 20.840422472736694, 16.498667991393667, 16.498785247108465, 18.235733234054212, 14.76229335161835, 13.025562767899272, 11.288878707075266, 54.70804009709551, 12.157351603471525, 11.288970098590951, 114.6313551356345, 95.52938616763642, 85.97790865378587, 34.738204827310206, 95.57131892556525, 55.597957111222186, 23.449278775332463, 39.089371294732665, 35.61444256626028, 179.9619589816387, 149.5212752002528, 53.00424795505414, 120.8488394164379, 206.16751376146664, 65.20063270290595, 59.98022541629825, 69.55478030040248, 49.543826203539886, 114.82697561081099, 117.44098580181193, 174.07485835581429, 83.49765727191934, 183.6860943960093, 181.95363031949515, 188.06152221033307, 175.87184718047308, 313.6291478910978, 75.67115795326703, 161.0769677468495, 263.09490656889346, 135.80910053993776, 141.92190961082915, 94.84830200795912, 207.35417404251373, 116.65623454590657, 121.01993636595236], \"Category\": [\"Default\", \"Default\", \"Default\", \"Default\", \"Default\", \"Default\", \"Default\", \"Default\", \"Default\", \"Default\", \"Default\", \"Default\", \"Default\", \"Default\", \"Default\", \"Default\", \"Default\", \"Default\", \"Default\", \"Default\", \"Default\", \"Default\", \"Default\", \"Default\", \"Default\", \"Default\", \"Default\", \"Default\", \"Default\", \"Default\", \"Topic1\", \"Topic1\", \"Topic1\", \"Topic1\", \"Topic1\", \"Topic1\", \"Topic1\", \"Topic1\", \"Topic1\", \"Topic1\", \"Topic1\", \"Topic1\", \"Topic1\", \"Topic1\", \"Topic1\", \"Topic1\", \"Topic1\", \"Topic1\", \"Topic1\", \"Topic1\", \"Topic1\", \"Topic1\", \"Topic1\", \"Topic1\", \"Topic1\", \"Topic1\", \"Topic1\", \"Topic1\", \"Topic1\", \"Topic1\", \"Topic1\", \"Topic1\", \"Topic1\", \"Topic1\", \"Topic1\", \"Topic1\", \"Topic1\", \"Topic1\", \"Topic1\", \"Topic1\", \"Topic1\", \"Topic1\", \"Topic1\", \"Topic1\", \"Topic1\", \"Topic1\", \"Topic1\", \"Topic1\", \"Topic1\", \"Topic1\", \"Topic1\", \"Topic1\", \"Topic1\", \"Topic1\", \"Topic1\", \"Topic1\", \"Topic1\", \"Topic1\", \"Topic1\", \"Topic1\", \"Topic1\", \"Topic1\", \"Topic1\", \"Topic1\", \"Topic1\", \"Topic1\", \"Topic1\", \"Topic1\", \"Topic1\", \"Topic1\", \"Topic1\", \"Topic1\", \"Topic1\", \"Topic1\", \"Topic2\", \"Topic2\", \"Topic2\", \"Topic2\", \"Topic2\", \"Topic2\", \"Topic2\", \"Topic2\", \"Topic2\", \"Topic2\", \"Topic2\", \"Topic2\", \"Topic2\", \"Topic2\", \"Topic2\", \"Topic2\", \"Topic2\", \"Topic2\", \"Topic2\", \"Topic2\", \"Topic2\", \"Topic2\", \"Topic2\", \"Topic2\", \"Topic2\", \"Topic2\", \"Topic2\", \"Topic2\", \"Topic2\", \"Topic2\", \"Topic2\", \"Topic2\", \"Topic2\", \"Topic2\", \"Topic2\", \"Topic2\", \"Topic2\", \"Topic2\", \"Topic2\", \"Topic2\", \"Topic2\", \"Topic2\", \"Topic2\", \"Topic2\", \"Topic2\", \"Topic2\", \"Topic2\", \"Topic2\", \"Topic2\", \"Topic2\", \"Topic2\", \"Topic2\", \"Topic2\", \"Topic2\", \"Topic2\", \"Topic2\", \"Topic2\", \"Topic2\", \"Topic2\", \"Topic2\", \"Topic2\", \"Topic2\", \"Topic2\", \"Topic2\", \"Topic2\", \"Topic2\"], \"logprob\": [30.0, 29.0, 28.0, 27.0, 26.0, 25.0, 24.0, 23.0, 22.0, 21.0, 20.0, 19.0, 18.0, 17.0, 16.0, 15.0, 14.0, 13.0, 12.0, 11.0, 10.0, 9.0, 8.0, 7.0, 6.0, 5.0, 4.0, 3.0, 2.0, 1.0, -5.3551, -5.6145, -6.2725, -5.3335, -6.4135, -6.0693, -6.5733, -6.3862, -6.6471, -6.4778, -6.7661, -6.7259, -6.3343, -6.7683, -7.0052, -6.5855, -7.0628, -6.9584, -6.0631, -6.96, -7.123, -7.2487, -7.1844, -7.0126, -7.1244, -7.2497, -7.1876, -7.1884, -6.8703, -6.6296, -5.1402, -6.2282, -5.5986, -6.5343, -5.9482, -4.8995, -5.8562, -5.8475, -5.868, -6.4268, -5.4705, -4.529, -4.7833, -5.2004, -5.8166, -5.7851, -6.0686, -5.5852, -5.1706, -5.7106, -5.6655, -5.4803, -4.4378, -4.6192, -4.8371, -5.7009, -5.3737, -5.2487, -5.6872, -5.7285, -5.1459, -5.2139, -5.205, -5.2129, -5.2882, -5.588, -5.5464, -5.4147, -5.3439, -5.5699, -5.506, -5.4163, -5.587, -5.59, -5.5644, -4.6432, -6.0458, -6.236, -6.3623, -6.4318, -6.1807, -6.2399, -6.632, -6.678, -5.6921, -6.6345, -6.5941, -6.8284, -6.7298, -6.8302, -5.8437, -6.8345, -7.0066, -7.0073, -6.6022, -6.8358, -6.8372, -6.7397, -6.9515, -7.0768, -7.2209, -5.6442, -7.1484, -7.2225, -4.9134, -5.1027, -5.2115, -6.1157, -5.1972, -5.7101, -6.5175, -6.0459, -6.1371, -4.7198, -4.8834, -5.811, -5.1286, -4.7576, -5.723, -5.7876, -5.6868, -5.9529, -5.3415, -5.3306, -5.113, -5.6127, -5.139, -5.1682, -5.1663, -5.232, -4.9645, -5.7168, -5.3367, -5.1289, -5.4509, -5.4634, -5.634, -5.4084, -5.6019, -5.603], \"loglift\": [30.0, 29.0, 28.0, 27.0, 26.0, 25.0, 24.0, 23.0, 22.0, 21.0, 20.0, 19.0, 18.0, 17.0, 16.0, 15.0, 14.0, 13.0, 12.0, 11.0, 10.0, 9.0, 8.0, 7.0, 6.0, 5.0, 4.0, 3.0, 2.0, 1.0, 0.5983, 0.5961, 0.5921, 0.5894, 0.5883, 0.5877, 0.5876, 0.5866, 0.5853, 0.5846, 0.584, 0.5833, 0.5829, 0.5818, 0.5786, 0.5754, 0.5751, 0.574, 0.5733, 0.5725, 0.5721, 0.5715, 0.5713, 0.5712, 0.5706, 0.5705, 0.568, 0.5673, 0.5669, 0.5665, 0.5518, 0.5623, 0.5477, 0.56, 0.5371, 0.4992, 0.5291, 0.5221, 0.5173, 0.5462, 0.4938, 0.424, 0.4324, 0.4608, 0.4925, 0.4809, 0.5087, 0.4549, 0.3818, 0.4488, 0.4326, 0.3948, 0.2058, 0.2002, 0.2203, 0.4213, 0.3193, 0.2768, 0.3875, 0.3938, 0.0092, 0.0082, -0.0169, -0.0342, 0.0217, 0.2687, 0.2211, 0.0218, -0.1116, 0.1479, -0.0254, -0.3531, 0.1228, 0.0059, 0.779, 0.778, 0.7737, 0.7707, 0.7696, 0.7691, 0.7689, 0.7669, 0.7656, 0.7641, 0.7634, 0.7631, 0.7609, 0.7602, 0.7587, 0.7584, 0.7576, 0.7541, 0.7539, 0.7531, 0.7528, 0.7528, 0.7514, 0.7488, 0.7483, 0.7482, 0.7471, 0.7456, 0.7455, 0.7455, 0.7368, 0.7297, 0.7262, 0.7283, 0.6348, 0.6636, 0.7195, 0.6801, 0.682, 0.4793, 0.501, 0.6105, 0.4687, 0.3056, 0.4914, 0.5102, 0.463, 0.5361, 0.3069, 0.2953, 0.1194, 0.3543, 0.0396, 0.0199, -0.0112, -0.0099, -0.3209, 0.3487, -0.0267, -0.3095, 0.0297, -0.0269, 0.2056, -0.351, 0.0308, -0.0071]}, \"token.table\": {\"Topic\": [2, 1, 2, 1, 2, 1, 2, 1, 2, 1, 2, 1, 2, 1, 2, 1, 2, 1, 2, 1, 2, 1, 2, 1, 2, 1, 2, 1, 1, 2, 1, 2, 2, 1, 2, 1, 2, 1, 2, 1, 2, 1, 2, 1, 2, 1, 2, 1, 1, 2, 1, 2, 1, 2, 1, 2, 1, 2, 1, 2, 1, 2, 1, 1, 1, 2, 1, 2, 2, 1, 2, 1, 2, 1, 2, 1, 2, 1, 2, 1, 2, 1, 2, 1, 2, 1, 2, 1, 2, 1, 2, 1, 2, 1, 2, 1, 2, 1, 2, 1, 2, 1, 2, 1, 2, 1, 2, 2, 1, 2, 1, 2, 1, 2, 1, 1, 2, 1, 2, 1, 2, 1, 2, 1, 2, 1, 2, 1, 2, 1, 2, 1, 2, 2, 1, 2, 1, 2, 1, 2, 1, 2, 1, 2, 1, 2, 1, 2, 1, 1, 2, 1, 1, 1, 2, 2, 1, 2, 1, 1, 2, 1, 2, 1, 2, 1, 2, 1, 2, 2, 1, 2, 1, 2, 1, 2, 1, 2, 1, 2, 1, 2, 1, 2, 1, 1, 1, 2, 1, 2, 1, 2, 1, 2, 2, 1, 2, 1, 2, 1, 2, 1, 2, 1, 2, 1, 2, 1, 2, 1, 2, 1, 2, 1, 2, 1, 1, 2, 2, 1, 2, 1, 2, 1, 2, 1, 2, 1, 2, 1, 2, 1, 2], \"Freq\": [0.9698022748239941, 0.031991682828644175, 0.9917421676879694, 0.028090944568383954, 0.9831830598934383, 0.9923658331153724, 0.011813878965659195, 0.8957257698182076, 0.1074870923781849, 0.06774015230434184, 0.9483621322607858, 0.8252074474100283, 0.16783880286305658, 0.5280748132783392, 0.4736341108785104, 0.8083813271310115, 0.18570922380036753, 0.9788820598204364, 0.02387517219074235, 0.038390154801319416, 0.9981440248343048, 0.1123139858937296, 0.8985118871498368, 0.7162626076100863, 0.27726294488132375, 0.5453646893386433, 0.45447057444886946, 0.9438455829366471, 0.7185874679897124, 0.2895800244137647, 0.22202564563360377, 0.7669976849160858, 1.001462356119579, 0.9741738610496099, 0.05730434476762411, 0.019519817435441043, 0.9759908717720521, 0.95512786466379, 0.05457873512364514, 0.02258108543275728, 0.970986673608563, 0.8882088087906941, 0.11304475748245198, 0.7990070135488544, 0.19777401325466692, 0.9669593258526518, 0.03581330836491303, 0.9932928452950479, 0.06061095359465613, 0.9697752575144981, 0.9855582455396453, 0.011459979599298202, 0.9414639188669828, 0.04093321386378186, 0.9741813183424196, 0.057304783431907036, 0.6203813872912562, 0.3796363713274851, 0.553010518992203, 0.44666234226293317, 0.35680701512027413, 0.6475386570701271, 0.9932880235779906, 0.9626678942419039, 0.03655769785301048, 0.9505001441782726, 0.08225475684313108, 0.9870570821175729, 0.969810879610637, 0.8002758721459317, 0.2000689680364829, 0.9438525540639436, 0.06741803957599597, 0.9589741034849438, 0.023389612280120584, 0.017450907492777057, 0.9947017270882923, 0.26073366615110044, 0.7361891750148718, 0.8644357327953957, 0.1323115917543973, 0.8936233670812395, 0.10116490948089503, 0.913519103959748, 0.07164855717331357, 0.48829567234952115, 0.5112742922247927, 0.9911661186824021, 0.030973941208825066, 0.5515379610499129, 0.44919071054580534, 0.556644144773909, 0.44390609013615523, 0.6695806222479003, 0.3284133528168273, 0.047985608180918474, 0.9597121636183694, 0.0767721147883484, 0.9980374922485292, 0.8564422350443798, 0.14515970085497962, 0.146487462529462, 0.8579979948154202, 0.9250797749321152, 0.060331289669485776, 0.9456447198258331, 0.05731180120156564, 0.9744103276710545, 0.9460803770916569, 0.05458156021682636, 0.05234169999037925, 0.9508742164918896, 0.06061134560687656, 0.969781529710025, 0.9550245647136955, 0.08529046966271328, 0.9381951662898461, 0.530155930005786, 0.47124971556069867, 0.05007248035376457, 0.9513771267215269, 0.2474564235119461, 0.7490572819821071, 0.9022754131203875, 0.10176038493838957, 0.052339915502292916, 0.9421184790412725, 0.5385987618269573, 0.4616560815659634, 0.8340986040749505, 0.16508201538983394, 0.9377405833874877, 0.05209669907708265, 0.9744024391891144, 0.0575734989744679, 0.9499627330787204, 0.8632690144280433, 0.1417307337120668, 0.2731659839617099, 0.7188578525308155, 0.9098435349428514, 0.09098435349428513, 0.3831835508837831, 0.6160039362308918, 0.9822981978775442, 0.032743273262584804, 0.9497451694352941, 0.06549966685760648, 0.9312083901874477, 0.679995956922916, 0.31829597983625857, 0.9990617656764867, 0.9762410850045247, 0.2667230356438684, 0.7334883480206381, 0.9871730013394973, 0.7467047476596748, 0.2458661974001368, 0.9651038702797172, 0.3831852207719158, 0.6183216062455914, 0.12590390661291193, 0.8813273462903835, 0.9879991537792019, 0.039519966151168075, 0.3916860854491422, 0.6130738728769182, 0.9312269864276198, 0.0716328451098169, 0.9356829104602102, 0.9312233978062714, 0.07163256906202088, 0.6347085311304083, 0.36402401050126354, 0.054840094903461055, 0.9871217082622991, 0.9613010371696661, 0.03697311681421793, 0.054837389161438044, 0.9870730049058848, 0.04798367217882428, 0.9596734435764855, 0.9931644385138314, 0.015279452900212792, 0.9879386175758337, 0.9550674817000181, 0.34731513371157585, 0.6467247317387964, 0.8464793713100037, 0.16383471702774266, 0.8113153495844218, 0.19583473955486044, 0.05815447337913161, 0.942102468741932, 0.9946265373111001, 0.9279886359467868, 0.07278342242719897, 0.10232960693688631, 0.8953840606977551, 0.06061052283684082, 0.9697683653894531, 0.25008242126285996, 0.7502472637885799, 0.03387386392841797, 0.9823420539241212, 0.2730684064435569, 0.7281824171828183, 0.9039313020770872, 0.08818841971483778, 0.6651592092079323, 0.3344800594874174, 0.013876550791070802, 0.9921733815615623, 0.9774743884514542, 0.03370601339487773, 0.9550353080139848, 0.9651392872887447, 0.06032120545554654, 0.9356865698287002, 0.6769025101409251, 0.3237359831108772, 0.5587391000645423, 0.4407830678286945, 0.44281235521196366, 0.5587870196722399, 0.169797711451952, 0.8301221448762098, 0.03387320442760666, 0.9823229284005932, 0.5314760950526116, 0.4714707294821555, 0.8417720420161626, 0.1581853501775339], \"Term\": [\"access\", \"across\", \"across\", \"along\", \"along\", \"alway\", \"alway\", \"amaz\", \"amaz\", \"amount\", \"amount\", \"apart\", \"apart\", \"area\", \"area\", \"around\", \"around\", \"awesom\", \"awesom\", \"basebal\", \"basebal\", \"bathroom\", \"bathroom\", \"beach\", \"beach\", \"beauti\", \"beauti\", \"beer\", \"best\", \"best\", \"big\", \"big\", \"border\", \"bridg\", \"bridg\", \"busi\", \"busi\", \"cant\", \"cant\", \"citi\", \"citi\", \"close\", \"close\", \"come\", \"come\", \"complex\", \"complex\", \"contact\", \"conveni\", \"conveni\", \"covid\", \"covid\", \"covid19\", \"covid19\", \"current\", \"current\", \"day\", \"day\", \"dog\", \"dog\", \"dont\", \"dont\", \"dress\", \"due\", \"easi\", \"easi\", \"either\", \"either\", \"entranc\", \"even\", \"even\", \"fan\", \"fan\", \"favorit\", \"favorit\", \"field\", \"field\", \"find\", \"find\", \"first\", \"first\", \"food\", \"food\", \"found\", \"found\", \"get\", \"get\", \"give\", \"give\", \"go\", \"go\", \"good\", \"good\", \"great\", \"great\", \"hair\", \"hair\", \"happen\", \"happen\", \"help\", \"help\", \"hike\", \"hike\", \"hous\", \"hous\", \"im\", \"im\", \"interest\", \"ive\", \"ive\", \"kid\", \"kid\", \"learn\", \"learn\", \"leas\", \"life\", \"life\", \"like\", \"like\", \"line\", \"line\", \"littl\", \"littl\", \"live\", \"live\", \"locat\", \"locat\", \"lot\", \"lot\", \"love\", \"love\", \"mainten\", \"mainten\", \"mall\", \"mission\", \"mission\", \"move\", \"move\", \"neighborhood\", \"neighborhood\", \"new\", \"new\", \"nice\", \"nice\", \"night\", \"night\", \"offer\", \"offer\", \"ok\", \"one\", \"one\", \"order\", \"outdoor\", \"park\", \"park\", \"path\", \"peopl\", \"peopl\", \"pizza\", \"play\", \"play\", \"pretti\", \"pretti\", \"quit\", \"quit\", \"realli\", \"realli\", \"reserv\", \"reserv\", \"residenti\", \"restroom\", \"restroom\", \"review\", \"review\", \"road\", \"road\", \"room\", \"room\", \"said\", \"said\", \"sand\", \"sand\", \"say\", \"say\", \"seat\", \"second\", \"see\", \"see\", \"servic\", \"servic\", \"sinc\", \"sinc\", \"small\", \"small\", \"soccer\", \"staff\", \"staff\", \"stop\", \"stop\", \"store\", \"store\", \"street\", \"street\", \"swing\", \"swing\", \"take\", \"take\", \"thing\", \"thing\", \"time\", \"time\", \"trail\", \"trail\", \"tree\", \"tree\", \"unit\", \"updat\", \"updat\", \"valley\", \"visit\", \"visit\", \"walk\", \"walk\", \"want\", \"want\", \"way\", \"way\", \"weekend\", \"weekend\", \"well\", \"well\", \"year\", \"year\"]}, \"R\": 30, \"lambda.step\": 0.01, \"plot.opts\": {\"xlab\": \"PC1\", \"ylab\": \"PC2\"}, \"topic.order\": [1, 2]};\n",
       "\n",
       "function LDAvis_load_lib(url, callback){\n",
       "  var s = document.createElement('script');\n",
       "  s.src = url;\n",
       "  s.async = true;\n",
       "  s.onreadystatechange = s.onload = callback;\n",
       "  s.onerror = function(){console.warn(\"failed to load library \" + url);};\n",
       "  document.getElementsByTagName(\"head\")[0].appendChild(s);\n",
       "}\n",
       "\n",
       "if(typeof(LDAvis) !== \"undefined\"){\n",
       "   // already loaded: just create the visualization\n",
       "   !function(LDAvis){\n",
       "       new LDAvis(\"#\" + \"ldavis_el1348823937866995925541283453\", ldavis_el1348823937866995925541283453_data);\n",
       "   }(LDAvis);\n",
       "}else if(typeof define === \"function\" && define.amd){\n",
       "   // require.js is available: use it to load d3/LDAvis\n",
       "   require.config({paths: {d3: \"https://cdnjs.cloudflare.com/ajax/libs/d3/3.5.5/d3.min\"}});\n",
       "   require([\"d3\"], function(d3){\n",
       "      window.d3 = d3;\n",
       "      LDAvis_load_lib(\"https://cdn.rawgit.com/bmabey/pyLDAvis/files/ldavis.v1.0.0.js\", function(){\n",
       "        new LDAvis(\"#\" + \"ldavis_el1348823937866995925541283453\", ldavis_el1348823937866995925541283453_data);\n",
       "      });\n",
       "    });\n",
       "}else{\n",
       "    // require.js not available: dynamically load d3 & LDAvis\n",
       "    LDAvis_load_lib(\"https://cdnjs.cloudflare.com/ajax/libs/d3/3.5.5/d3.min.js\", function(){\n",
       "         LDAvis_load_lib(\"https://cdn.rawgit.com/bmabey/pyLDAvis/files/ldavis.v1.0.0.js\", function(){\n",
       "                 new LDAvis(\"#\" + \"ldavis_el1348823937866995925541283453\", ldavis_el1348823937866995925541283453_data);\n",
       "            })\n",
       "         });\n",
       "}\n",
       "</script>"
      ],
      "text/plain": [
       "<IPython.core.display.HTML object>"
      ]
     },
     "execution_count": 27,
     "metadata": {},
     "output_type": "execute_result"
    }
   ],
   "source": [
    "LDAvis_prepared = sklearn_lda.prepare(lda_list[0], reviews_count, count_vectorizer)\n",
    "pyLDAvis.display(LDAvis_prepared)"
   ]
  },
  {
   "cell_type": "code",
   "execution_count": 28,
   "metadata": {
    "colab": {
     "base_uri": "https://localhost:8080/",
     "height": 861
    },
    "executionInfo": {
     "elapsed": 53595,
     "status": "ok",
     "timestamp": 1608066692738,
     "user": {
      "displayName": "Alex Zhao",
      "photoUrl": "https://lh3.googleusercontent.com/a-/AOh14Gh9y1MKHYau8bzpWFSBLOEpz2unRxz8sJAdQz1_=s64",
      "userId": "01860394617001739367"
     },
     "user_tz": 480
    },
    "id": "F-t-hCieKPOH",
    "outputId": "2670c0d7-711d-4d04-c2b3-765d71e7a411"
   },
   "outputs": [
    {
     "data": {
      "text/html": [
       "\n",
       "<link rel=\"stylesheet\" type=\"text/css\" href=\"https://cdn.rawgit.com/bmabey/pyLDAvis/files/ldavis.v1.0.0.css\">\n",
       "\n",
       "\n",
       "<div id=\"ldavis_el1348823937892334804477034502\"></div>\n",
       "<script type=\"text/javascript\">\n",
       "\n",
       "var ldavis_el1348823937892334804477034502_data = {\"mdsDat\": {\"x\": [-0.053593087860752, -0.07227315051945617, 0.12586623838020816], \"y\": [0.08087546708541934, -0.07325073986133052, -0.007624727224088876], \"topics\": [1, 2, 3], \"cluster\": [1, 1, 1], \"Freq\": [45.41566337363864, 29.685520618441117, 24.898816007920246]}, \"tinfo\": {\"Term\": [\"love\", \"field\", \"locat\", \"one\", \"park\", \"realli\", \"us\", \"beach\", \"littl\", \"review\", \"nice\", \"lot\", \"live\", \"trail\", \"dog\", \"kid\", \"help\", \"easi\", \"alway\", \"small\", \"weekend\", \"along\", \"around\", \"work\", \"basebal\", \"area\", \"pretti\", \"head\", \"look\", \"hair\", \"shade\", \"outdoor\", \"favorit\", \"bridg\", \"coronado\", \"summer\", \"restroom\", \"five\", \"grassi\", \"tree\", \"picnic\", \"island\", \"coast\", \"separ\", \"bbq\", \"race\", \"corner\", \"ghetto\", \"interact\", \"appreci\", \"church\", \"fanci\", \"white\", \"volleybal\", \"diego\", \"current\", \"surf\", \"gather\", \"appropri\", \"case\", \"love\", \"alway\", \"beach\", \"quit\", \"around\", \"high\", \"even\", \"ive\", \"tabl\", \"daughter\", \"say\", \"live\", \"one\", \"covid19\", \"lot\", \"area\", \"playground\", \"new\", \"plenti\", \"dog\", \"come\", \"great\", \"well\", \"clean\", \"year\", \"spot\", \"close\", \"im\", \"play\", \"peopl\", \"time\", \"nice\", \"park\", \"walk\", \"go\", \"best\", \"get\", \"visit\", \"like\", \"famili\", \"beauti\", \"littl\", \"field\", \"weekend\", \"basebal\", \"path\", \"soccer\", \"either\", \"mall\", \"workout\", \"guid\", \"softbal\", \"someon\", \"sweet\", \"valley\", \"along\", \"navig\", \"control\", \"anim\", \"pro\", \"mom\", \"suck\", \"footbal\", \"blast\", \"waterfal\", \"access\", \"younger\", \"stretch\", \"tini\", \"sister\", \"desert\", \"rose\", \"road\", \"swing\", \"locat\", \"train\", \"easi\", \"citi\", \"littl\", \"busi\", \"small\", \"realli\", \"pretti\", \"skate\", \"kid\", \"trail\", \"way\", \"nice\", \"park\", \"street\", \"court\", \"take\", \"hike\", \"see\", \"perfect\", \"dog\", \"great\", \"get\", \"one\", \"play\", \"lot\", \"walk\", \"area\", \"good\", \"go\", \"time\", \"beauti\", \"live\", \"like\", \"hair\", \"head\", \"torrey\", \"contact\", \"surpris\", \"admiss\", \"captain\", \"celebr\", \"met\", \"except\", \"color\", \"condo\", \"phone\", \"pine\", \"john\", \"crew\", \"incred\", \"tijuana\", \"atmospher\", \"dam\", \"question\", \"ash\", \"de\", \"cut\", \"ysidro\", \"june\", \"100\", \"april\", \"cross\", \"hoa\", \"appoint\", \"profession\", \"answer\", \"buy\", \"us\", \"felt\", \"custom\", \"today\", \"help\", \"job\", \"mission\", \"ask\", \"review\", \"price\", \"wait\", \"recommend\", \"work\", \"look\", \"time\", \"back\", \"servic\", \"covid\", \"first\", \"properti\", \"good\", \"need\", \"trail\", \"want\", \"amaz\", \"use\", \"take\", \"get\", \"experi\", \"took\", \"go\", \"manag\", \"move\", \"day\", \"like\", \"year\", \"great\", \"sinc\", \"friend\", \"came\", \"beauti\", \"walk\"], \"Freq\": [233.0, 56.0, 94.0, 209.0, 180.0, 117.0, 67.0, 131.0, 149.0, 106.0, 207.0, 183.0, 148.0, 143.0, 189.0, 114.0, 68.0, 54.0, 85.0, 86.0, 29.0, 35.0, 92.0, 85.0, 25.0, 185.0, 55.0, 21.0, 90.0, 20.0, 30.346010726573258, 23.293869329445208, 41.985462523796265, 17.135211832834436, 15.355325502800184, 16.14773238690065, 13.568945684165566, 12.672570137166192, 16.0006690875238, 28.61348345619026, 41.11996156048997, 10.040968299880271, 9.99411379533675, 9.978106845220942, 9.144445020020228, 9.127029872423165, 9.108129535291276, 8.259808151173361, 8.246951905672109, 11.517316695856723, 9.857462467706684, 7.387469133531421, 7.378829451593834, 7.372665214234599, 7.371010897697389, 16.36868518088925, 6.500328798842511, 7.3009519145174275, 6.483879271512592, 6.48125504882111, 206.29659398925924, 75.87473551906682, 114.70124348284024, 22.867905059695058, 78.43962040730723, 15.086173587992239, 63.06689532652728, 88.82319056555002, 29.441331537700968, 30.752280089248337, 53.746107354100715, 113.3030952280975, 153.2554521415043, 21.50728507681571, 132.17648841065696, 132.1958101570491, 64.7110551094034, 44.036254519450274, 45.8064077504708, 129.44982288077716, 90.88544273648058, 199.108893798217, 82.083167780448, 54.9520773931461, 109.67530233576261, 58.12939026013432, 46.47972606944819, 50.89606195690533, 73.7248808841255, 70.82420636718618, 133.19482841142715, 111.68777348541506, 99.95603352655155, 91.99025797603201, 93.34323024845179, 59.994113514173975, 78.05432514466423, 60.75277528842469, 68.94145710406603, 58.42067637507047, 60.37431086830119, 58.999050059866406, 56.07752639678535, 28.47108366622678, 25.095584084443697, 23.343635459772383, 18.322964560044912, 11.409326417989623, 10.592961903091116, 9.722464338892287, 10.504218323198765, 8.018733294721455, 8.015037406128634, 8.001144276492964, 12.752522554336117, 32.231942169212324, 6.2874232645651995, 6.286515360931583, 6.285755350576049, 7.855573357655793, 7.849095883704112, 6.2601784150781725, 6.2517794490924095, 10.912402477833403, 5.4430001391682055, 14.785565558923357, 5.43502857781741, 5.434427421705732, 5.429011664736104, 5.415692892289397, 6.13784243113787, 6.90854775045732, 15.930931455756717, 25.028276752130076, 76.54471045377183, 9.686774025112875, 40.6724441516635, 32.84949168772738, 84.60624250546888, 33.703288319785095, 51.765963650011635, 65.70165381741306, 35.54796731352457, 8.80211694190481, 63.03253212451239, 75.00885941537996, 32.10765403762103, 89.32207937639338, 79.95269225013551, 34.74196350793455, 27.518561954206287, 54.52950412134604, 42.331753041564596, 37.336208987119484, 27.65843222952215, 57.235942923675694, 76.43283722370215, 53.75362572991139, 55.66169292211732, 40.1427078092999, 49.54429141739594, 45.10035823589191, 47.46338035988732, 42.801617010079084, 42.64312716131456, 45.919239647939754, 35.12789225890889, 34.91127590035852, 33.01153570400519, 19.959612114735037, 20.56128054840398, 14.761675948522218, 12.197300754566516, 11.369505152222704, 11.3661791222144, 9.68721058466805, 10.492941029971844, 9.672871647190256, 9.648242462296432, 8.82631480056374, 8.82130927383628, 9.618472660321986, 9.60798780962062, 7.112916934740995, 7.107635537477606, 12.631740472292345, 7.10084712523426, 7.084158062687313, 7.078525564625254, 10.19543408296433, 6.271374070012495, 6.270615572863774, 7.045663059774367, 6.2622910605310285, 6.232691578685621, 5.419854486162715, 5.417857851105026, 5.417542437417468, 5.409547337232302, 12.915338510128175, 14.775660506974711, 8.26947917255831, 13.022260484962281, 49.02154466927436, 14.175883538657196, 18.439981701729952, 20.792656383976887, 43.94938800535001, 17.081596472687337, 24.260175289156535, 11.377143231752195, 60.898547852506674, 20.234864260186683, 14.863379915465936, 24.12824815011084, 45.28872243823282, 42.245932282822935, 84.15806725789938, 35.29854707292131, 34.889421482203616, 37.80566943200593, 44.051213062943816, 22.264834970567456, 46.9394947293272, 25.775866284701713, 42.60418199917695, 33.727253450026225, 31.0124005555231, 31.056816882336104, 35.9519655657743, 42.29174880920874, 26.815326614157048, 23.751420763570774, 40.3081387785431, 25.887784275090976, 27.774290106417098, 31.478887960014834, 34.08639891782433, 35.00715950362898, 39.78519864532053, 25.16738730123262, 24.523463388115264, 24.864127006755826, 25.700200248699296, 24.618740093245695], \"Total\": [233.0, 56.0, 94.0, 209.0, 180.0, 117.0, 67.0, 131.0, 149.0, 106.0, 207.0, 183.0, 148.0, 143.0, 189.0, 114.0, 68.0, 54.0, 85.0, 86.0, 29.0, 35.0, 92.0, 85.0, 25.0, 185.0, 55.0, 21.0, 90.0, 20.0, 31.00779131739651, 23.91655810674452, 43.396472475253574, 17.712068341526923, 15.938709417618727, 16.822349914329347, 14.16510602220522, 13.27827461366348, 16.81790816671833, 30.091717745176616, 43.36998876912282, 10.619411589781755, 10.617954291661938, 10.617242591505253, 9.732529187390586, 9.731976739836767, 9.731304046906912, 8.846014133817395, 8.845569708778118, 12.38343457083671, 10.61375925138433, 7.959873498593287, 7.959595854456328, 7.959376133229926, 7.959351322065411, 17.68828078450572, 7.073277696916087, 7.957195047852633, 7.07272512236948, 7.0726796062164174, 233.16553510479878, 85.6478423489445, 131.56438551621414, 25.622220750959755, 92.640648970124, 16.78650723360297, 75.84135569092726, 110.95330928868434, 34.418159919854624, 36.1566306441919, 66.05396723855117, 148.71268742794317, 209.23853407765154, 24.71215845517377, 183.6624500845616, 185.3658399485913, 85.34597923370737, 55.44538574153749, 58.12387774822783, 189.59130393999968, 127.32495838515102, 315.32692966723965, 117.61350070584629, 74.73130174329407, 177.67593566141733, 81.68903176150053, 62.428099331358666, 70.25239333389732, 115.69657172659684, 110.37954791066132, 263.27213531726625, 207.08378513641517, 180.9624304892376, 161.70935630516962, 176.29449618830947, 93.74359574039619, 174.09969968378437, 102.3606084149771, 136.03939172589557, 95.43680995673769, 121.20240337590937, 149.60760035390388, 56.73380907122882, 29.229960169646006, 25.795737487902024, 24.073085866800785, 18.916534481794134, 12.040906497190987, 11.181059672540938, 10.322005173864932, 11.181324327766045, 8.602660829959735, 8.602564471477491, 8.603156014727352, 13.76891871386682, 35.25608670622786, 6.884043605805346, 6.884070117848496, 6.883778219015055, 8.604441471493463, 8.606633940461258, 6.884605383328436, 6.883834045878408, 12.055638675073151, 6.024148126766714, 16.36808862347701, 6.02432356110984, 6.024337202139581, 6.02444683250317, 6.024958234547823, 6.88300813659246, 7.750731189855873, 18.08938812980389, 29.343902635360557, 94.66771119219368, 11.178221034146983, 54.5606501899424, 44.081916644261945, 149.60760035390388, 50.96323161635119, 86.0621514787963, 117.60408992240586, 55.60850074659556, 10.345181425719185, 114.95615782212255, 143.27468444376677, 52.79256150542672, 207.08378513641517, 180.9624304892376, 60.05804567879696, 44.29129177582972, 120.22204276718189, 95.88412787489192, 83.27818887799685, 53.09832061293381, 189.59130393999968, 315.32692966723965, 174.09969968378437, 209.23853407765154, 115.69657172659684, 183.6624500845616, 161.70935630516962, 185.3658399485913, 141.47458753683887, 176.29449618830947, 263.27213531726625, 121.20240337590937, 148.71268742794317, 136.03939172589557, 20.551009135249952, 21.415242969186927, 15.418120533106096, 12.850046661949463, 11.99357137411532, 11.993771268799161, 10.281403379072847, 11.138532046928365, 10.282003533320394, 10.281699846966921, 9.425790358075236, 9.425796677482259, 10.281973090155972, 10.282666008472637, 7.714104484753929, 7.714499573682756, 13.721777146329808, 7.714260793588978, 7.715422026618103, 7.71395854968438, 11.13853044057696, 6.858050474546507, 6.85794438184103, 7.7141329685007625, 6.858021247152392, 6.858816552931447, 6.002117517913117, 6.002188719160127, 6.002127324556344, 6.002323135739092, 14.590242985065586, 17.190583683103732, 9.429764802030173, 15.469943923677675, 67.24221066082885, 17.138065544390997, 23.26474814123311, 27.61264972412104, 68.29285641268373, 22.311155082149707, 34.29695334503974, 13.725158231569996, 106.48875226039311, 28.475987418723697, 19.72426725654786, 36.94540620015332, 85.672210818282, 90.42441498170038, 263.27213531726625, 72.6822256509939, 72.92760363358573, 87.05009686543912, 113.32299613112161, 38.653498529555414, 141.47458753683887, 54.46726363227944, 143.27468444376677, 94.5463206753958, 83.72034964928363, 84.9977840046858, 120.22204276718189, 174.09969968378437, 66.17467898078209, 51.328937699623665, 176.29449618830947, 63.29375590354945, 77.44749210066102, 108.07515106935094, 136.03939172589557, 177.67593566141733, 315.32692966723965, 71.56581499282707, 67.04090137349422, 78.167117597842, 121.20240337590937, 161.70935630516962], \"Category\": [\"Default\", \"Default\", \"Default\", \"Default\", \"Default\", \"Default\", \"Default\", \"Default\", \"Default\", \"Default\", \"Default\", \"Default\", \"Default\", \"Default\", \"Default\", \"Default\", \"Default\", \"Default\", \"Default\", \"Default\", \"Default\", \"Default\", \"Default\", \"Default\", \"Default\", \"Default\", \"Default\", \"Default\", \"Default\", \"Default\", \"Topic1\", \"Topic1\", \"Topic1\", \"Topic1\", \"Topic1\", \"Topic1\", \"Topic1\", \"Topic1\", \"Topic1\", \"Topic1\", \"Topic1\", \"Topic1\", \"Topic1\", \"Topic1\", \"Topic1\", \"Topic1\", \"Topic1\", \"Topic1\", \"Topic1\", \"Topic1\", \"Topic1\", \"Topic1\", \"Topic1\", \"Topic1\", \"Topic1\", \"Topic1\", \"Topic1\", \"Topic1\", \"Topic1\", \"Topic1\", \"Topic1\", \"Topic1\", \"Topic1\", \"Topic1\", \"Topic1\", \"Topic1\", \"Topic1\", \"Topic1\", \"Topic1\", \"Topic1\", \"Topic1\", \"Topic1\", \"Topic1\", \"Topic1\", \"Topic1\", \"Topic1\", \"Topic1\", \"Topic1\", \"Topic1\", \"Topic1\", \"Topic1\", \"Topic1\", \"Topic1\", \"Topic1\", \"Topic1\", \"Topic1\", \"Topic1\", \"Topic1\", \"Topic1\", \"Topic1\", \"Topic1\", \"Topic1\", \"Topic1\", \"Topic1\", \"Topic1\", \"Topic1\", \"Topic1\", \"Topic1\", \"Topic1\", \"Topic1\", \"Topic1\", \"Topic1\", \"Topic2\", \"Topic2\", \"Topic2\", \"Topic2\", \"Topic2\", \"Topic2\", \"Topic2\", \"Topic2\", \"Topic2\", \"Topic2\", \"Topic2\", \"Topic2\", \"Topic2\", \"Topic2\", \"Topic2\", \"Topic2\", \"Topic2\", \"Topic2\", \"Topic2\", \"Topic2\", \"Topic2\", \"Topic2\", \"Topic2\", \"Topic2\", \"Topic2\", \"Topic2\", \"Topic2\", \"Topic2\", \"Topic2\", \"Topic2\", \"Topic2\", \"Topic2\", \"Topic2\", \"Topic2\", \"Topic2\", \"Topic2\", \"Topic2\", \"Topic2\", \"Topic2\", \"Topic2\", \"Topic2\", \"Topic2\", \"Topic2\", \"Topic2\", \"Topic2\", \"Topic2\", \"Topic2\", \"Topic2\", \"Topic2\", \"Topic2\", \"Topic2\", \"Topic2\", \"Topic2\", \"Topic2\", \"Topic2\", \"Topic2\", \"Topic2\", \"Topic2\", \"Topic2\", \"Topic2\", \"Topic2\", \"Topic2\", \"Topic2\", \"Topic2\", \"Topic2\", \"Topic2\", \"Topic2\", \"Topic3\", \"Topic3\", \"Topic3\", \"Topic3\", \"Topic3\", \"Topic3\", \"Topic3\", \"Topic3\", \"Topic3\", \"Topic3\", \"Topic3\", \"Topic3\", \"Topic3\", \"Topic3\", \"Topic3\", \"Topic3\", \"Topic3\", \"Topic3\", \"Topic3\", \"Topic3\", \"Topic3\", \"Topic3\", \"Topic3\", \"Topic3\", \"Topic3\", \"Topic3\", \"Topic3\", \"Topic3\", \"Topic3\", \"Topic3\", \"Topic3\", \"Topic3\", \"Topic3\", \"Topic3\", \"Topic3\", \"Topic3\", \"Topic3\", \"Topic3\", \"Topic3\", \"Topic3\", \"Topic3\", \"Topic3\", \"Topic3\", \"Topic3\", \"Topic3\", \"Topic3\", \"Topic3\", \"Topic3\", \"Topic3\", \"Topic3\", \"Topic3\", \"Topic3\", \"Topic3\", \"Topic3\", \"Topic3\", \"Topic3\", \"Topic3\", \"Topic3\", \"Topic3\", \"Topic3\", \"Topic3\", \"Topic3\", \"Topic3\", \"Topic3\", \"Topic3\", \"Topic3\", \"Topic3\", \"Topic3\", \"Topic3\", \"Topic3\", \"Topic3\", \"Topic3\", \"Topic3\", \"Topic3\", \"Topic3\", \"Topic3\"], \"logprob\": [30.0, 29.0, 28.0, 27.0, 26.0, 25.0, 24.0, 23.0, 22.0, 21.0, 20.0, 19.0, 18.0, 17.0, 16.0, 15.0, 14.0, 13.0, 12.0, 11.0, 10.0, 9.0, 8.0, 7.0, 6.0, 5.0, 4.0, 3.0, 2.0, 1.0, -6.1899, -6.4543, -5.8652, -6.7614, -6.8711, -6.8208, -6.9948, -7.0631, -6.8299, -6.2487, -5.886, -7.2959, -7.3005, -7.3021, -7.3894, -7.3913, -7.3934, -7.4911, -7.4927, -7.1587, -7.3143, -7.6028, -7.6039, -7.6048, -7.605, -6.8072, -7.7307, -7.6145, -7.7332, -7.7336, -4.2732, -5.2735, -4.8602, -6.4728, -5.2402, -6.8888, -5.4583, -5.1159, -6.2201, -6.1766, -5.6183, -4.8725, -4.5704, -6.5341, -4.7184, -4.7183, -5.4326, -5.8175, -5.7781, -4.7392, -5.0929, -4.3087, -5.1948, -5.5961, -4.905, -5.5399, -5.7635, -5.6728, -5.3022, -5.3423, -4.7107, -4.8868, -4.9978, -5.0809, -5.0663, -5.5083, -5.2451, -5.4957, -5.3693, -5.5349, -5.502, -5.525, -5.1506, -5.8285, -5.9547, -6.027, -6.2692, -6.7429, -6.8172, -6.9029, -6.8256, -7.0956, -7.096, -7.0978, -6.6316, -5.7044, -7.3388, -7.3389, -7.3391, -7.1161, -7.1169, -7.3431, -7.3445, -6.7874, -7.483, -6.4837, -7.4845, -7.4846, -7.4856, -7.488, -7.3629, -7.2446, -6.4091, -5.9573, -4.8395, -6.9066, -5.4718, -5.6854, -4.7393, -5.6597, -5.2306, -4.9922, -5.6065, -7.0023, -5.0337, -4.8597, -5.7082, -4.6851, -4.7959, -5.6294, -5.8625, -5.1786, -5.4318, -5.5574, -5.8574, -5.1302, -4.8409, -5.1929, -5.158, -5.4849, -5.2745, -5.3685, -5.3174, -5.4208, -5.4245, -5.3505, -5.6183, -5.6245, -5.6805, -6.0078, -5.9781, -6.3095, -6.5003, -6.5706, -6.5709, -6.7307, -6.6508, -6.7322, -6.7347, -6.8238, -6.8243, -6.7378, -6.7389, -7.0396, -7.0403, -6.4653, -7.0413, -7.0436, -7.0444, -6.6796, -7.1655, -7.1656, -7.0491, -7.167, -7.1717, -7.3114, -7.3118, -7.3119, -7.3133, -6.4431, -6.3085, -6.8889, -6.4348, -5.1092, -6.35, -6.087, -5.9669, -5.2185, -6.1635, -5.8127, -6.5699, -4.8923, -5.9941, -6.3026, -5.8181, -5.1884, -5.258, -4.5688, -5.4377, -5.4493, -5.369, -5.2161, -5.8985, -5.1526, -5.7521, -5.2496, -5.4832, -5.5671, -5.5657, -5.4193, -5.2569, -5.7125, -5.8339, -5.3049, -5.7477, -5.6774, -5.5522, -5.4726, -5.446, -5.318, -5.776, -5.8019, -5.7881, -5.755, -5.798], \"loglift\": [30.0, 29.0, 28.0, 27.0, 26.0, 25.0, 24.0, 23.0, 22.0, 21.0, 20.0, 19.0, 18.0, 17.0, 16.0, 15.0, 14.0, 13.0, 12.0, 11.0, 10.0, 9.0, 8.0, 7.0, 6.0, 5.0, 4.0, 3.0, 2.0, 1.0, 0.7677, 0.7629, 0.7563, 0.7562, 0.752, 0.7484, 0.7463, 0.7426, 0.7395, 0.7389, 0.736, 0.7333, 0.7288, 0.7272, 0.727, 0.7251, 0.7231, 0.7207, 0.7192, 0.7168, 0.7154, 0.7147, 0.7135, 0.7127, 0.7125, 0.7118, 0.7048, 0.7032, 0.7024, 0.702, 0.6669, 0.6682, 0.6521, 0.6756, 0.6229, 0.6825, 0.6049, 0.5669, 0.6331, 0.6274, 0.5831, 0.5174, 0.4779, 0.6504, 0.4604, 0.4513, 0.5125, 0.5589, 0.5512, 0.4077, 0.4522, 0.3296, 0.4296, 0.4819, 0.3069, 0.4491, 0.4943, 0.467, 0.3387, 0.3456, 0.1079, 0.1719, 0.1958, 0.2252, 0.1534, 0.343, -0.0129, 0.2676, 0.1096, 0.2985, 0.0924, -0.1412, 1.2029, 1.1882, 1.187, 1.1837, 1.1826, 1.1606, 1.1605, 1.1547, 1.152, 1.1442, 1.1438, 1.142, 1.1378, 1.1248, 1.1239, 1.1237, 1.1236, 1.1235, 1.1224, 1.1194, 1.1182, 1.1149, 1.1131, 1.1128, 1.1116, 1.1115, 1.1104, 1.1079, 1.0999, 1.0995, 1.0874, 1.0554, 1.002, 1.0713, 0.9207, 0.9204, 0.6445, 0.801, 0.7062, 0.6323, 0.7671, 1.053, 0.6136, 0.5674, 0.7172, 0.3736, 0.3977, 0.6671, 0.7386, 0.4239, 0.3969, 0.4123, 0.5623, 0.0168, -0.2027, 0.0393, -0.1097, 0.156, -0.0957, -0.0624, -0.1479, 0.019, -0.2048, -0.5318, -0.024, -0.2347, -0.2016, 1.3612, 1.3497, 1.3468, 1.3382, 1.3369, 1.3366, 1.3308, 1.3306, 1.3293, 1.3268, 1.3246, 1.3241, 1.3236, 1.3225, 1.3092, 1.3084, 1.3076, 1.3075, 1.305, 1.3044, 1.3019, 1.3009, 1.3008, 1.2997, 1.2995, 1.2946, 1.2883, 1.2879, 1.2879, 1.2864, 1.2684, 1.239, 1.2591, 1.2181, 1.0743, 1.2006, 1.1579, 1.1067, 0.9496, 1.1233, 1.0441, 1.2027, 0.8315, 1.0487, 1.1074, 0.9643, 0.7529, 0.6293, 0.2499, 0.6681, 0.6531, 0.5563, 0.4455, 0.8387, 0.2871, 0.6422, 0.1775, 0.3596, 0.3973, 0.3835, 0.1832, -0.0247, 0.487, 0.6197, -0.0853, 0.4963, 0.3649, 0.1568, 0.0063, -0.2341, -0.6798, 0.3453, 0.3847, 0.2449, -0.1606, -0.4919]}, \"token.table\": {\"Topic\": [3, 1, 2, 3, 1, 2, 3, 1, 3, 1, 2, 3, 2, 2, 3, 1, 2, 3, 1, 2, 1, 3, 1, 2, 3, 1, 2, 3, 1, 2, 3, 3, 1, 2, 3, 2, 1, 1, 2, 3, 1, 2, 3, 1, 2, 3, 1, 2, 1, 1, 2, 3, 1, 2, 3, 1, 2, 3, 3, 1, 3, 1, 1, 2, 3, 1, 2, 3, 1, 2, 3, 1, 3, 1, 2, 3, 3, 3, 2, 1, 1, 1, 2, 3, 1, 2, 3, 1, 2, 3, 3, 3, 1, 2, 1, 3, 3, 3, 1, 3, 1, 2, 3, 3, 2, 1, 1, 2, 3, 1, 2, 2, 1, 2, 3, 1, 2, 3, 1, 2, 3, 1, 1, 2, 2, 3, 2, 1, 2, 3, 1, 2, 1, 2, 3, 1, 1, 2, 3, 1, 1, 2, 3, 1, 2, 3, 1, 2, 1, 2, 3, 2, 3, 1, 3, 1, 2, 3, 1, 2, 3, 1, 2, 3, 3, 1, 2, 3, 1, 3, 1, 1, 1, 2, 3, 1, 2, 3, 3, 3, 1, 2, 3, 1, 2, 3, 1, 2, 3, 1, 2, 1, 2, 3, 1, 2, 3, 1, 2, 3, 1, 2, 3, 2, 1, 2, 3, 3, 1, 2, 3, 2, 1, 2, 3, 2, 1, 2, 3, 1, 3, 1, 2, 3, 1, 2, 1, 1, 2, 3, 2, 1, 2, 3, 1, 2, 3, 3, 1, 2, 3, 1, 2, 3, 1, 2, 1, 2, 1, 2, 1, 2, 3, 2, 1, 3, 1, 2, 3, 2, 3, 1, 2, 1, 1, 2, 1, 2, 3, 1, 1, 2, 3, 1, 2, 3, 1, 2, 1, 2, 3, 1, 2, 3, 1, 1, 2, 3, 1, 1, 2, 3, 2, 1, 2, 1, 2, 3, 2, 2, 2, 1, 2, 3, 1, 2, 3, 2, 2, 1, 1, 3, 2, 1, 2, 1, 2, 1, 2, 3, 3, 1, 2, 3, 2, 1, 3, 1, 2, 3, 3, 1, 2, 3, 2, 3, 1, 3, 1, 2, 3, 1, 2, 3, 1, 2, 1, 2, 3, 1, 1, 2, 3, 1, 2, 3, 1, 2, 3, 2, 1, 2, 3, 2, 1, 2, 3, 1, 1, 2, 3, 2, 1, 2, 3, 2, 3], \"Freq\": [0.8330393373801277, 0.06109448836718076, 0.9164173255077114, 0.917142719622778, 0.02836389666080988, 0.9076446931459161, 0.05672779332161976, 0.8873545195728636, 0.10508145626520753, 0.5255592001744165, 0.10750074549022157, 0.37028034557742984, 0.8716143677357595, 0.10604718367786924, 0.8483774694229539, 0.06853895449332743, 0.06853895449332743, 0.8910064084132566, 0.969036492368627, 0.08075304103071891, 0.8483293067651272, 0.8330294554116651, 0.7121053158263055, 0.2535526503320936, 0.03236842344665025, 0.8419630137214872, 0.15112156656539513, 0.8748841995650015, 0.07285890502157161, 0.14571781004314321, 0.8014479552372876, 0.9072737662113742, 0.28892896181850525, 0.2338948738530757, 0.48154826969750875, 0.9691523652589806, 0.9247339336685836, 0.8740967363529187, 0.12161345897084087, 0.007600841185677555, 0.4950396883955341, 0.2887731515640615, 0.21451719830473143, 0.6400437227323538, 0.22401530295632383, 0.13867613992534333, 0.08294873684856287, 0.9124361053341916, 0.9597975613126198, 0.17659790626606212, 0.6671476458940124, 0.1569759166809441, 0.12928295085406744, 0.06464147542703372, 0.8403391805514383, 0.38379309512659104, 0.29424137293038644, 0.3198275792721592, 0.9726298668870802, 0.8483347661791999, 0.8977843721119128, 0.9421732454215712, 0.2041653513532405, 0.7486062882952151, 0.06805511711774682, 0.7359700515980289, 0.2542441996429554, 0.013381273665418707, 0.7368476774511288, 0.19222113324812057, 0.06407371108270685, 0.9418010028403301, 0.9548270922755614, 0.714706693441281, 0.14137055474662702, 0.14137055474662702, 0.9548264521237271, 0.9338487490114293, 0.8715774094810066, 0.9248503547539082, 0.9411050548056875, 0.33866702456814946, 0.6321784458605456, 0.04515560327575326, 0.4709931576914527, 0.09190110393979566, 0.4365302437140294, 0.8902500378470198, 0.040465910811228176, 0.08093182162245635, 0.907382252489818, 0.8330379763094383, 0.9045537095959832, 0.05653460684974895, 0.2149174351532431, 0.7737027665516752, 0.9074253747742238, 0.9074458923928763, 0.8573807749140959, 0.13828722176033806, 0.49039949956665185, 0.21281487717043382, 0.28683744314275866, 0.874897734062592, 0.8717118854039875, 0.8794686547626266, 0.6804109540848186, 0.3006467006421291, 0.01582351056011206, 0.2565951826318362, 0.7514573205646632, 0.913552480667978, 0.8306813535446408, 0.1582250197227887, 0.9726018215703873, 0.4835686472962442, 0.12089216182406105, 0.40801104615620604, 0.6077319644934893, 0.31434411956559793, 0.07334696123197285, 0.8794109606436684, 0.9678205993344298, 0.02304334760320071, 0.1750489279101777, 0.8168949969141626, 0.9870657535032148, 0.5118113885101526, 0.09706767713123583, 0.38827070852494333, 0.979042863492435, 0.8716072990737495, 0.4773205512515939, 0.1640789394927354, 0.37290668066530774, 0.8797069768811377, 0.44801915305810786, 0.31016710596330543, 0.24124108241590422, 0.9043621091918483, 0.5275263948153083, 0.24391005351675543, 0.22689307303884226, 0.36755717691320083, 0.30394151167822375, 0.3322151406715469, 0.951366831200986, 0.05946042695006162, 0.6310910400516762, 0.24101969368807732, 0.12685247036214595, 0.9837832869836561, 0.9731882200224982, 0.04669571115484603, 0.9806099342517666, 0.27821357896037885, 0.07321409972641549, 0.6442840775924562, 0.8935748092952436, 0.059571653953016244, 0.059571653953016244, 0.4693164655855793, 0.43802870121320736, 0.08343403832632522, 0.833010800473062, 0.7259539153008772, 0.07117195248047815, 0.19928146694533883, 0.07287685766471379, 0.9473991496412792, 0.9044075467588033, 0.9416717598197467, 0.8021392112643975, 0.08111520113909637, 0.11716640164536143, 0.044820628798374555, 0.17928251519349822, 0.7619506895723674, 0.9074287253737258, 0.8747864815593602, 0.4349484268373645, 0.5480350178150794, 0.01739793707349458, 0.5072060314635001, 0.24257679765645657, 0.2499276097066522, 0.394364991219916, 0.5681529534524213, 0.04010491436134739, 0.7598544680644864, 0.23535315382528343, 0.06337958237755263, 0.8133713071785921, 0.12675916475510526, 0.442358405172928, 0.08847168103458561, 0.4644763254315744, 0.7187097849300428, 0.2722385548977435, 0.01088954219590974, 0.8834924934656877, 0.07290957470347909, 0.04288798511969358, 0.9838065730938191, 0.3475856296713506, 0.2527895488518913, 0.4107830168843234, 0.9725730950775772, 0.029157108794464592, 0.26241397915018133, 0.6997706110671502, 0.9295155406099743, 0.4519190880255924, 0.19367960915382532, 0.3615352704204739, 0.8715807661270728, 0.2570351265398075, 0.275394778435508, 0.47735094928821387, 0.7935737016080842, 0.19839342540202104, 0.5408438904389384, 0.42977773436665645, 0.02897377984494313, 0.731222863295436, 0.2676371264349308, 0.9616768390061089, 0.5526008891991938, 0.44208071135935506, 0.005526008891991938, 0.9554238342047923, 0.6432351041831208, 0.19025263644852866, 0.16307368838445316, 0.41432572153028113, 0.5273236455839941, 0.05649896202685652, 0.9725759747002319, 0.9453541760930746, 0.04611483785819876, 0.9725104356944272, 0.6396040858917563, 0.3457319383198683, 0.017286596915993414, 0.7616058844671182, 0.23434027214372866, 0.7914131297167716, 0.2064555990565491, 0.3596572418152171, 0.6473830352673908, 0.24582115089000633, 0.07023461454000181, 0.702346145400018, 0.9297523873576247, 0.11634276280948846, 0.8725707210711634, 0.05174175885969936, 0.36219231201789553, 0.5691593474566929, 0.089778450158655, 0.89778450158655, 0.8976583342854256, 0.07805724645960223, 0.9247864273205153, 0.44216149314457637, 0.5612049720681161, 0.08120089365772219, 0.27066964552574063, 0.6496071492617775, 0.988344173213642, 0.3192825465440803, 0.11268795760379305, 0.5728304511526147, 0.055281029564090686, 0.884496473025451, 0.055281029564090686, 0.1290200853964328, 0.9031405977750296, 0.8175133494250426, 0.015139136100463753, 0.18166963320556503, 0.33622248967277857, 0.4442940042104574, 0.21614302907535765, 0.941864134102097, 0.3976546404254051, 0.12341006082167744, 0.4799280143065234, 0.9674987712900692, 0.544952922060748, 0.09781206293398041, 0.34932879619278717, 0.8298812714301336, 0.09666336034609284, 0.8699702431148355, 0.37182430894589075, 0.6042145020370724, 0.02323901930911817, 0.9515484994000231, 0.9299448342934896, 0.929955250730716, 0.7100096395968668, 0.23258936469552535, 0.04896618204116323, 0.41626396126349585, 0.5827695457688942, 0.016650558450539834, 0.8299668216155329, 0.871509645931113, 0.951115633754065, 0.9896402064140596, 0.917158005474528, 0.9298913080624324, 0.13631451990914947, 0.8519657494321842, 0.8425784547322915, 0.14527214736763647, 0.24953826527550382, 0.45748681967175703, 0.2994459183306046, 0.9074103387608347, 0.505180693884384, 0.1747241497645238, 0.31906149087434776, 0.8299517182264666, 0.21729171448398513, 0.7605210006939479, 0.467572505405191, 0.07792875090086517, 0.467572505405191, 0.9728812255548075, 0.18146960226043715, 0.5234700065204918, 0.3001228037384153, 0.8945967313986922, 0.08945967313986922, 0.9637203248275314, 0.033231735338880394, 0.208202554056652, 0.07435805502023286, 0.7287089391982821, 0.35295037807510543, 0.2823603024600843, 0.36471539067760894, 0.0726273442948639, 0.9441554758332306, 0.5959323703186846, 0.28331211047937466, 0.12700198055971967, 0.8794659132611428, 0.05069896828071168, 0.20279587312284672, 0.7604845242106751, 0.5689219356385434, 0.2782770337362441, 0.15459835207569114, 0.3490352640299807, 0.2961511331163473, 0.3596120902127074, 0.8299928711553122, 0.24624681260566772, 0.6061460002601051, 0.15153650006502628, 0.9579212505762063, 0.6971988717952, 0.17004850531590246, 0.12753637898692685, 0.8794416359821736, 0.2918099085014523, 0.17508594510087136, 0.5252578353026142, 0.9688040096433742, 0.6191046614754747, 0.18573139844264241, 0.19698784683310558, 0.8299687009306099, 0.8748879281310681], \"Term\": [\"100\", \"access\", \"access\", \"admiss\", \"along\", \"along\", \"along\", \"alway\", \"alway\", \"amaz\", \"amaz\", \"amaz\", \"anim\", \"answer\", \"answer\", \"appoint\", \"appoint\", \"appoint\", \"appreci\", \"appreci\", \"appropri\", \"april\", \"area\", \"area\", \"area\", \"around\", \"around\", \"ash\", \"ask\", \"ask\", \"ask\", \"atmospher\", \"back\", \"back\", \"back\", \"basebal\", \"bbq\", \"beach\", \"beach\", \"beach\", \"beauti\", \"beauti\", \"beauti\", \"best\", \"best\", \"best\", \"blast\", \"blast\", \"bridg\", \"busi\", \"busi\", \"busi\", \"buy\", \"buy\", \"buy\", \"came\", \"came\", \"came\", \"captain\", \"case\", \"celebr\", \"church\", \"citi\", \"citi\", \"citi\", \"clean\", \"clean\", \"clean\", \"close\", \"close\", \"close\", \"coast\", \"color\", \"come\", \"come\", \"come\", \"condo\", \"contact\", \"control\", \"corner\", \"coronado\", \"court\", \"court\", \"court\", \"covid\", \"covid\", \"covid\", \"covid19\", \"covid19\", \"covid19\", \"crew\", \"cross\", \"current\", \"current\", \"custom\", \"custom\", \"cut\", \"dam\", \"daughter\", \"daughter\", \"day\", \"day\", \"day\", \"de\", \"desert\", \"diego\", \"dog\", \"dog\", \"dog\", \"easi\", \"easi\", \"either\", \"even\", \"even\", \"except\", \"experi\", \"experi\", \"experi\", \"famili\", \"famili\", \"famili\", \"fanci\", \"favorit\", \"favorit\", \"felt\", \"felt\", \"field\", \"first\", \"first\", \"first\", \"five\", \"footbal\", \"friend\", \"friend\", \"friend\", \"gather\", \"get\", \"get\", \"get\", \"ghetto\", \"go\", \"go\", \"go\", \"good\", \"good\", \"good\", \"grassi\", \"grassi\", \"great\", \"great\", \"great\", \"guid\", \"hair\", \"head\", \"head\", \"help\", \"help\", \"help\", \"high\", \"high\", \"high\", \"hike\", \"hike\", \"hike\", \"hoa\", \"im\", \"im\", \"im\", \"incred\", \"incred\", \"interact\", \"island\", \"ive\", \"ive\", \"ive\", \"job\", \"job\", \"job\", \"john\", \"june\", \"kid\", \"kid\", \"kid\", \"like\", \"like\", \"like\", \"littl\", \"littl\", \"littl\", \"live\", \"live\", \"locat\", \"locat\", \"locat\", \"look\", \"look\", \"look\", \"lot\", \"lot\", \"lot\", \"love\", \"love\", \"love\", \"mall\", \"manag\", \"manag\", \"manag\", \"met\", \"mission\", \"mission\", \"mission\", \"mom\", \"move\", \"move\", \"move\", \"navig\", \"need\", \"need\", \"need\", \"new\", \"new\", \"nice\", \"nice\", \"nice\", \"one\", \"one\", \"outdoor\", \"park\", \"park\", \"park\", \"path\", \"peopl\", \"peopl\", \"peopl\", \"perfect\", \"perfect\", \"perfect\", \"phone\", \"picnic\", \"picnic\", \"pine\", \"play\", \"play\", \"play\", \"playground\", \"playground\", \"plenti\", \"plenti\", \"pretti\", \"pretti\", \"price\", \"price\", \"price\", \"pro\", \"profession\", \"profession\", \"properti\", \"properti\", \"properti\", \"question\", \"question\", \"quit\", \"quit\", \"race\", \"realli\", \"realli\", \"recommend\", \"recommend\", \"recommend\", \"restroom\", \"review\", \"review\", \"review\", \"road\", \"road\", \"road\", \"rose\", \"rose\", \"say\", \"say\", \"say\", \"see\", \"see\", \"see\", \"separ\", \"servic\", \"servic\", \"servic\", \"shade\", \"sinc\", \"sinc\", \"sinc\", \"sister\", \"skate\", \"skate\", \"small\", \"small\", \"small\", \"soccer\", \"softbal\", \"someon\", \"spot\", \"spot\", \"spot\", \"street\", \"street\", \"street\", \"stretch\", \"suck\", \"summer\", \"surf\", \"surpris\", \"sweet\", \"swing\", \"swing\", \"tabl\", \"tabl\", \"take\", \"take\", \"take\", \"tijuana\", \"time\", \"time\", \"time\", \"tini\", \"today\", \"today\", \"took\", \"took\", \"took\", \"torrey\", \"trail\", \"trail\", \"trail\", \"train\", \"train\", \"tree\", \"tree\", \"us\", \"us\", \"us\", \"use\", \"use\", \"use\", \"valley\", \"valley\", \"visit\", \"visit\", \"visit\", \"volleybal\", \"wait\", \"wait\", \"wait\", \"walk\", \"walk\", \"walk\", \"want\", \"want\", \"want\", \"waterfal\", \"way\", \"way\", \"way\", \"weekend\", \"well\", \"well\", \"well\", \"white\", \"work\", \"work\", \"work\", \"workout\", \"year\", \"year\", \"year\", \"younger\", \"ysidro\"]}, \"R\": 30, \"lambda.step\": 0.01, \"plot.opts\": {\"xlab\": \"PC1\", \"ylab\": \"PC2\"}, \"topic.order\": [1, 2, 3]};\n",
       "\n",
       "function LDAvis_load_lib(url, callback){\n",
       "  var s = document.createElement('script');\n",
       "  s.src = url;\n",
       "  s.async = true;\n",
       "  s.onreadystatechange = s.onload = callback;\n",
       "  s.onerror = function(){console.warn(\"failed to load library \" + url);};\n",
       "  document.getElementsByTagName(\"head\")[0].appendChild(s);\n",
       "}\n",
       "\n",
       "if(typeof(LDAvis) !== \"undefined\"){\n",
       "   // already loaded: just create the visualization\n",
       "   !function(LDAvis){\n",
       "       new LDAvis(\"#\" + \"ldavis_el1348823937892334804477034502\", ldavis_el1348823937892334804477034502_data);\n",
       "   }(LDAvis);\n",
       "}else if(typeof define === \"function\" && define.amd){\n",
       "   // require.js is available: use it to load d3/LDAvis\n",
       "   require.config({paths: {d3: \"https://cdnjs.cloudflare.com/ajax/libs/d3/3.5.5/d3.min\"}});\n",
       "   require([\"d3\"], function(d3){\n",
       "      window.d3 = d3;\n",
       "      LDAvis_load_lib(\"https://cdn.rawgit.com/bmabey/pyLDAvis/files/ldavis.v1.0.0.js\", function(){\n",
       "        new LDAvis(\"#\" + \"ldavis_el1348823937892334804477034502\", ldavis_el1348823937892334804477034502_data);\n",
       "      });\n",
       "    });\n",
       "}else{\n",
       "    // require.js not available: dynamically load d3 & LDAvis\n",
       "    LDAvis_load_lib(\"https://cdnjs.cloudflare.com/ajax/libs/d3/3.5.5/d3.min.js\", function(){\n",
       "         LDAvis_load_lib(\"https://cdn.rawgit.com/bmabey/pyLDAvis/files/ldavis.v1.0.0.js\", function(){\n",
       "                 new LDAvis(\"#\" + \"ldavis_el1348823937892334804477034502\", ldavis_el1348823937892334804477034502_data);\n",
       "            })\n",
       "         });\n",
       "}\n",
       "</script>"
      ],
      "text/plain": [
       "<IPython.core.display.HTML object>"
      ]
     },
     "execution_count": 28,
     "metadata": {},
     "output_type": "execute_result"
    }
   ],
   "source": [
    "LDAvis_prepared = sklearn_lda.prepare(lda_list[1], reviews_count, count_vectorizer)\n",
    "pyLDAvis.display(LDAvis_prepared)"
   ]
  },
  {
   "cell_type": "code",
   "execution_count": 29,
   "metadata": {
    "colab": {
     "base_uri": "https://localhost:8080/",
     "height": 861
    },
    "executionInfo": {
     "elapsed": 55041,
     "status": "ok",
     "timestamp": 1608066694189,
     "user": {
      "displayName": "Alex Zhao",
      "photoUrl": "https://lh3.googleusercontent.com/a-/AOh14Gh9y1MKHYau8bzpWFSBLOEpz2unRxz8sJAdQz1_=s64",
      "userId": "01860394617001739367"
     },
     "user_tz": 480
    },
    "id": "21gQFZU0KPbT",
    "outputId": "820f6e9b-8ee4-465c-9cf4-2590527b347e"
   },
   "outputs": [
    {
     "data": {
      "text/html": [
       "\n",
       "<link rel=\"stylesheet\" type=\"text/css\" href=\"https://cdn.rawgit.com/bmabey/pyLDAvis/files/ldavis.v1.0.0.css\">\n",
       "\n",
       "\n",
       "<div id=\"ldavis_el134882393789234248272117452\"></div>\n",
       "<script type=\"text/javascript\">\n",
       "\n",
       "var ldavis_el134882393789234248272117452_data = {\"mdsDat\": {\"x\": [0.007237387389508011, -0.1529969888730865, 0.0473782712442748, 0.09838133023930368], \"y\": [-0.006508138467704671, 0.021800267862074365, -0.0958165527147185, 0.0805244233203488], \"topics\": [1, 2, 3, 4], \"cluster\": [1, 1, 1, 1], \"Freq\": [33.08360365213968, 30.491170401577605, 18.24047590981541, 18.1847500364673]}, \"tinfo\": {\"Term\": [\"lot\", \"park\", \"play\", \"area\", \"live\", \"playground\", \"field\", \"kid\", \"trail\", \"court\", \"grass\", \"big\", \"ive\", \"nice\", \"larg\", \"locat\", \"love\", \"realli\", \"small\", \"help\", \"there\", \"picnic\", \"plenti\", \"littl\", \"review\", \"basketbal\", \"structur\", \"manag\", \"hair\", \"shade\", \"outsid\", \"race\", \"spaciou\", \"fanci\", \"white\", \"comfort\", \"surf\", \"appropri\", \"ad\", \"god\", \"govern\", \"wear\", \"hors\", \"complex\", \"solana\", \"fill\", \"terribl\", \"youv\", \"pickup\", \"websit\", \"ob\", \"2019\", \"dine\", \"teacher\", \"church\", \"massag\", \"pb\", \"break\", \"tourmalin\", \"wash\", \"leas\", \"though\", \"stroll\", \"museum\", \"live\", \"ive\", \"alway\", \"unit\", \"love\", \"due\", \"apart\", \"seat\", \"high\", \"im\", \"year\", \"mainten\", \"never\", \"say\", \"come\", \"beach\", \"favorit\", \"staff\", \"great\", \"food\", \"time\", \"one\", \"best\", \"even\", \"first\", \"found\", \"covid\", \"spot\", \"around\", \"visit\", \"go\", \"star\", \"dog\", \"peopl\", \"move\", \"get\", \"beauti\", \"walk\", \"nice\", \"realli\", \"like\", \"area\", \"field\", \"court\", \"grass\", \"swing\", \"basketbal\", \"structur\", \"basebal\", \"shade\", \"sand\", \"tenni\", \"soccer\", \"bridg\", \"birthday\", \"grassi\", \"conveni\", \"play\", \"bench\", \"surround\", \"leagu\", \"big\", \"babi\", \"softbal\", \"playground\", \"wide\", \"support\", \"rec\", \"privat\", \"dam\", \"ranch\", \"golf\", \"picnic\", \"tabl\", \"park\", \"equip\", \"green\", \"lot\", \"larg\", \"kid\", \"area\", \"there\", \"small\", \"plenti\", \"nice\", \"hike\", \"trail\", \"neighborhood\", \"space\", \"dog\", \"well\", \"walk\", \"littl\", \"open\", \"great\", \"clean\", \"day\", \"one\", \"get\", \"street\", \"enjoy\", \"time\", \"beach\", \"love\", \"famili\", \"librari\", \"someon\", \"afford\", \"sweet\", \"couldnt\", \"joy\", \"potteri\", \"tini\", \"alley\", \"younger\", \"unprofession\", \"rais\", \"form\", \"per\", \"pro\", \"pete\", \"kayak\", \"coordin\", \"melroy\", \"fifth\", \"cater\", \"dad\", \"leg\", \"lorrain\", \"crush\", \"inland\", \"dri\", \"rubber\", \"luck\", \"either\", \"lack\", \"clay\", \"guid\", \"piec\", \"jen\", \"properti\", \"store\", \"teach\", \"environ\", \"class\", \"skill\", \"neighbor\", \"patch\", \"disappoint\", \"definit\", \"locat\", \"happen\", \"bird\", \"manag\", \"could\", \"hour\", \"realli\", \"start\", \"would\", \"littl\", \"take\", \"home\", \"way\", \"local\", \"rent\", \"good\", \"citi\", \"easi\", \"perfect\", \"live\", \"came\", \"year\", \"great\", \"see\", \"work\", \"time\", \"want\", \"best\", \"one\", \"go\", \"get\", \"famili\", \"view\", \"love\", \"nice\", \"dog\", \"trail\", \"hair\", \"contact\", \"color\", \"cut\", \"tux\", \"ash\", \"ysidro\", \"appear\", \"serious\", \"cross\", \"fool\", \"creek\", \"rang\", \"burial\", \"googl\", \"sanit\", \"river\", \"pictur\", \"sausag\", \"hubbi\", \"decis\", \"estudillo\", \"ir\", \"michael\", \"charter\", \"lighthous\", \"waterfront\", \"scatter\", \"cuvier\", \"biker\", \"share\", \"mexico\", \"friday\", \"captain\", \"torrey\", \"pine\", \"surpris\", \"question\", \"compani\", \"sea\", \"today\", \"review\", \"help\", \"custom\", \"look\", \"knowledg\", \"felt\", \"us\", \"good\", \"amaz\", \"want\", \"first\", \"like\", \"use\", \"covid\", \"back\", \"servic\", \"sinc\", \"go\", \"trail\", \"time\", \"work\", \"take\", \"walk\", \"move\", \"get\", \"north\", \"came\", \"need\", \"beauti\", \"year\", \"day\", \"took\", \"home\", \"would\", \"great\"], \"Freq\": [186.0, 184.0, 117.0, 187.0, 147.0, 86.0, 58.0, 116.0, 145.0, 45.0, 46.0, 50.0, 110.0, 209.0, 57.0, 95.0, 232.0, 117.0, 87.0, 68.0, 65.0, 43.0, 58.0, 150.0, 106.0, 32.0, 32.0, 62.0, 20.0, 31.0, 14.914206915593326, 9.040143272115921, 8.13527131118965, 7.27784900545588, 7.275368590182761, 7.199329225659607, 6.393824323994137, 6.387662906453664, 6.3769318048469685, 6.374092333930362, 5.5139910635371, 5.510796364277681, 5.508557935666175, 25.19391405546876, 6.263727265539434, 5.479368958133132, 10.1650986404757, 5.450377383244546, 4.631736564485639, 4.630976175626471, 4.6201902652728295, 10.722868964299733, 13.012254718942575, 9.059283001283704, 9.046552582925479, 3.7494944891229114, 3.7494892111034495, 8.986426792328963, 3.7485990949785792, 3.7481624006021113, 17.49929281452291, 13.23060667170527, 11.01485031030843, 18.20924171887508, 116.48633166354703, 86.75680858956447, 64.21415172153134, 16.94342713592283, 153.89892701434167, 17.3996497000811, 50.161792112616006, 19.641755029235316, 13.555093817134136, 46.92995661383629, 105.24204998031826, 15.243310544835762, 33.86067730049312, 42.597326473817596, 72.63126313446558, 74.6608634347983, 29.516907573770947, 35.9563121621303, 149.37379254751662, 37.17224775617166, 121.45698387091826, 100.92485509239496, 52.70689139271114, 44.206036222098255, 58.0679569627598, 34.08030471558061, 47.0798076660652, 44.76483040860419, 49.09120180347436, 51.112002317140735, 68.11489467082427, 26.340813362848085, 67.22077001109773, 48.28107926666803, 38.45267732977647, 55.297962233904805, 44.52947322851558, 49.34032380060515, 51.05188131856697, 42.589088769123194, 44.01526722535581, 47.07073770863683, 58.279342770700126, 44.91300535148164, 45.570144248613424, 29.721056288001265, 31.45560359387812, 31.40048246515437, 26.151817123522985, 30.406927331693826, 20.77748921881798, 18.093842765008453, 18.935751795769637, 17.206985679171318, 24.91559267330912, 16.313384749507296, 16.31154691604201, 113.35714403867166, 14.444885251862257, 11.840675317355348, 10.946613603290835, 47.8571430244394, 9.151366199793538, 8.266902582689347, 80.35224036160179, 8.266352213102675, 8.256522311850068, 7.373668931226159, 7.373621840893303, 7.372931149626358, 6.470815421974085, 6.462482274469713, 39.256843643083485, 31.14986138849506, 157.56672876868024, 21.17718635465348, 18.899520401389985, 150.3170579254117, 48.53891707049494, 90.85110924565578, 136.34225680109014, 51.08876943014596, 65.8658664071489, 45.8047117372001, 130.91977821633304, 68.64593231535079, 94.4070879410063, 50.928934249049696, 37.18034829215277, 99.33850061157732, 66.84516058155779, 80.24251414791246, 72.73368514499404, 49.79807700128182, 111.40384442175916, 47.42588763998994, 56.42715021209484, 73.14362509230845, 63.295398173411996, 40.9220152894021, 46.13840372322278, 66.2441795404173, 50.47375742942151, 48.37410552025202, 46.19311245519457, 11.917651684081957, 7.743133546561019, 7.742850728000393, 7.73720014077613, 8.250572018583693, 5.224314306371274, 5.194409558264903, 5.186515190575614, 4.39264271667445, 5.05984351628883, 3.5598198149788938, 3.555722032788854, 3.553666755143015, 3.537185852371439, 6.913199168200675, 2.7222119382134378, 2.721552400668396, 2.7213832035455994, 2.720674532724269, 2.720598217780482, 2.7184666460281415, 2.7177506988755313, 2.7170223780630245, 2.7161951318770505, 2.7146877579955104, 2.7127841578649243, 2.7115749310946544, 2.710441280238073, 2.7028009842253216, 9.413796861009878, 5.980577642899117, 5.274244780657055, 8.367003327375434, 5.202481871360155, 3.936023128783041, 23.423634058372553, 10.822832115246154, 4.419515575125901, 4.416892528804664, 17.64092374260442, 4.9274030765611565, 8.017372972712561, 4.398154974583448, 6.901166310841385, 23.244318188922172, 38.61044929206516, 7.939944342683381, 5.836229160791518, 25.69071803574928, 13.980409441479733, 17.81375618782628, 39.20651475613537, 20.75564564270232, 22.96627579867071, 42.38371536709523, 34.42670057084148, 21.406791473482564, 18.917862709919895, 15.044361072038335, 13.448102865910545, 30.47415833091457, 15.764238214416071, 17.68347379260703, 17.32126786946896, 29.65947832504917, 20.57977605106702, 29.968344238177004, 38.91959508175761, 21.00936347687167, 21.221639067302554, 33.548610096426316, 21.622800661419067, 21.0144142549947, 28.41660083199437, 26.342641834285224, 26.088537079109578, 20.595780146473484, 19.303062432985584, 22.22598988155608, 21.06139207925669, 19.626782077060987, 19.230689995943614, 19.674308794691825, 12.052738360560245, 8.668850965838635, 6.970037842768232, 6.132520147194904, 6.1324197726166245, 6.126748248363071, 6.1248120376865645, 7.600038928168215, 5.289913685689734, 5.280983077941857, 5.280579132429079, 4.440798661832355, 4.439660437970842, 4.4384223406028935, 4.437466447765773, 4.430376093396731, 4.428850444859991, 3.597414702189226, 3.596707357303304, 3.5959510588758326, 3.5959280669963043, 3.5950301977909653, 3.5946785774176098, 3.5917967391437378, 3.591966005956619, 3.5912793612897667, 4.3057781317809, 3.5841314945924454, 3.580915386729086, 8.524057166457496, 7.751382417543377, 6.984954992398726, 8.341463173530592, 11.78948865269384, 8.149833757805641, 8.615390426825266, 7.777526530281289, 13.688217083933475, 7.735358165024378, 15.626551235474883, 44.42562916989501, 28.901979471525895, 13.138185860656282, 33.58195650659394, 8.81820914296377, 10.351859069832177, 26.221867470135322, 38.553256465242036, 27.18875911652893, 28.38672508967338, 30.745885632690605, 34.12197706031493, 25.291692190882838, 25.226737174356412, 22.735211530017036, 22.434490452616593, 22.03147091277898, 35.89134462820136, 31.376448072515913, 42.48873169882332, 23.8198038102267, 27.82359744277928, 30.708565971840905, 21.412502419249197, 29.955194385828904, 15.535486499639369, 20.132841887083377, 17.279210786700634, 22.992269582146317, 26.157565266166507, 19.598063376764618, 16.462038181360654, 16.746881925110607, 16.573957360483067, 16.62146416765887], \"Total\": [186.0, 184.0, 117.0, 187.0, 147.0, 86.0, 58.0, 116.0, 145.0, 45.0, 46.0, 50.0, 110.0, 209.0, 57.0, 95.0, 232.0, 117.0, 87.0, 68.0, 65.0, 43.0, 58.0, 150.0, 106.0, 32.0, 32.0, 62.0, 20.0, 31.0, 15.848853950476782, 9.687622588506699, 8.805577511519608, 7.92310023226676, 7.923132770736268, 7.920068243523865, 7.040913532771018, 7.040725694975024, 7.04089984772952, 7.041148546050102, 6.158629904102096, 6.158672730245274, 6.1587023965352685, 28.215523190847016, 7.0346441353567295, 6.158886168779205, 11.458062933057459, 6.156058870265435, 5.276378328375243, 5.27638875862561, 5.276190974835972, 12.288632205275215, 14.98050766260245, 10.53472725249648, 10.525591906948511, 4.394127338723735, 4.39412708491889, 10.533108896725244, 4.3941391371196765, 4.394144819501562, 21.03470237179039, 15.843130234814693, 13.142907284754664, 21.951371968453987, 147.49475073954952, 110.91349068796073, 85.32885239849571, 21.01209961916168, 232.05528229819092, 21.877905380497797, 71.2849496470926, 25.42673484661475, 16.778962254378378, 69.61942484606706, 176.59694968460724, 19.250227384604624, 49.89034168159922, 65.80450106902977, 127.47101231275433, 131.8169837048553, 43.30060816435106, 54.98412625596114, 316.31869621869225, 59.00702290108111, 263.7385052065852, 209.15453673006942, 92.87483652261666, 75.57022703304393, 113.20781023597586, 55.98321708017212, 86.72617711607633, 81.46502437947989, 93.07621720306302, 102.71459233955208, 175.90050691727035, 40.71743183086985, 190.65561396054608, 110.40243956072635, 76.73132511746498, 174.63709187225527, 121.3030715747888, 162.85119294737578, 209.44528051756063, 117.47824395870761, 136.06252763920668, 187.78518732006862, 58.982226072785856, 45.573123192544706, 46.46408045781264, 30.372306707567468, 32.16009353732756, 32.15494733116118, 26.795957912114908, 31.263878721199703, 21.43046781057587, 18.747823747112953, 19.638604392016507, 17.854122033795818, 25.883611120780042, 16.96007434694791, 16.959954262754337, 117.93599007558797, 15.169620923798053, 12.489146938627767, 11.59490235459014, 50.784707426789275, 9.806288696872347, 8.912398843817497, 86.62932043964095, 8.91254465313832, 8.911907430108524, 8.01831749479093, 8.01829218834778, 8.018278986806164, 7.1237422130876125, 7.123880473753706, 43.733421614101545, 34.80105501235475, 184.385579651909, 23.990803840939122, 21.357680807035578, 186.37345003029543, 57.972636871853275, 116.78545152984994, 187.78518732006862, 65.00528597103383, 87.33616884796093, 58.80917391522614, 209.44528051756063, 97.46348618147468, 145.36061581769354, 70.53983423362077, 50.34777945209017, 190.65561396054608, 118.32270676497691, 162.85119294737578, 150.15956482521588, 81.54061705545263, 316.31869621869225, 75.33482127126065, 108.99626319768046, 209.15453673006942, 174.63709187225527, 60.939891180586365, 87.27530307590992, 263.7385052065852, 131.8169837048553, 232.05528229819092, 95.39782731786916, 12.592830285298847, 8.403771583361186, 8.403925723844186, 8.404137790418527, 9.262823662527575, 5.891335647421139, 5.893564203923885, 5.894051446320278, 5.053469534017475, 5.902565780058215, 4.215588817891254, 4.215865167699208, 4.21595614103031, 4.2168859198432, 8.412935917591401, 3.37797264241904, 3.378017386060411, 3.3780168108369546, 3.3780546186995686, 3.3780586523919194, 3.378224569574356, 3.378020273463075, 3.378322919972502, 3.3780368183907394, 3.3784759797509696, 3.3785084657455347, 3.378690271258528, 3.378741159441308, 3.379245360644245, 11.77363838406625, 7.61558228349991, 6.7709062493770436, 11.017335489800734, 6.739934676671714, 5.077867561559511, 38.06533301549404, 16.064673672221534, 5.900371073597513, 5.93453671206857, 29.744886483444695, 6.740715052538657, 11.962021667348834, 5.935590727679477, 10.106124898199809, 44.39267569769389, 95.19146131002803, 12.634434139458644, 8.505433141443774, 62.39752814736815, 27.50469382445058, 38.31926803939111, 117.47824395870761, 49.75441863088897, 61.600491456428045, 150.15956482521588, 120.00816972577445, 63.5024434538128, 52.685158996746615, 36.20878754232643, 30.686519522105826, 141.06294701997854, 44.25884848340547, 55.051641593039484, 53.12882419768635, 147.49475073954952, 77.7557036637482, 176.59694968460724, 316.31869621869225, 83.15957095280946, 85.41710137514897, 263.7385052065852, 94.06955816902423, 92.87483652261666, 209.15453673006942, 175.90050691727035, 174.63709187225527, 95.39782731786916, 92.62704129727743, 232.05528229819092, 209.44528051756063, 190.65561396054608, 145.36061581769354, 20.33375813189863, 12.71589827790863, 9.329876689910494, 7.637253249616247, 6.790508357558902, 6.790403831306877, 6.790888707984539, 6.790946463362002, 8.48118258395658, 5.943893987014545, 5.943838937175791, 5.944259913501919, 5.0975857355739045, 5.097451003171298, 5.097586507691897, 5.097527716771283, 5.0976502182659456, 5.0980538687169705, 4.250955384391611, 4.250994672237145, 4.250961232510939, 4.251017963981863, 4.251058166992539, 4.2510706720143165, 4.2509895959084085, 4.25124915639991, 4.251295720084715, 5.103252044358775, 4.251115725700125, 4.251632311245824, 10.16582690610395, 9.369510025274238, 8.475140702136347, 10.225996065960897, 15.226524754828617, 10.253132313019885, 11.92941586168883, 10.998703517583582, 22.78426793829754, 11.107268329265779, 27.6462456264885, 106.31496600431765, 68.12349795544984, 23.116800458192476, 90.06903413108722, 13.565991587505877, 17.169703081743883, 67.11917126302204, 141.06294701997854, 82.87434056825697, 94.06955816902423, 113.20781023597586, 136.06252763920668, 85.02045607879148, 86.72617711607633, 72.3888347838399, 72.38169181801192, 71.00510302436624, 175.90050691727035, 145.36061581769354, 263.7385052065852, 85.41710137514897, 120.00816972577445, 162.85119294737578, 76.73132511746498, 174.63709187225527, 41.36214604635724, 77.7557036637482, 54.57506224657776, 121.3030715747888, 176.59694968460724, 108.99626319768046, 51.194844184406946, 63.5024434538128, 61.600491456428045, 316.31869621869225], \"Category\": [\"Default\", \"Default\", \"Default\", \"Default\", \"Default\", \"Default\", \"Default\", \"Default\", \"Default\", \"Default\", \"Default\", \"Default\", \"Default\", \"Default\", \"Default\", \"Default\", \"Default\", \"Default\", \"Default\", \"Default\", \"Default\", \"Default\", \"Default\", \"Default\", \"Default\", \"Default\", \"Default\", \"Default\", \"Default\", \"Default\", \"Topic1\", \"Topic1\", \"Topic1\", \"Topic1\", \"Topic1\", \"Topic1\", \"Topic1\", \"Topic1\", \"Topic1\", \"Topic1\", \"Topic1\", \"Topic1\", \"Topic1\", \"Topic1\", \"Topic1\", \"Topic1\", \"Topic1\", \"Topic1\", \"Topic1\", \"Topic1\", \"Topic1\", \"Topic1\", \"Topic1\", \"Topic1\", \"Topic1\", \"Topic1\", \"Topic1\", \"Topic1\", \"Topic1\", \"Topic1\", \"Topic1\", \"Topic1\", \"Topic1\", \"Topic1\", \"Topic1\", \"Topic1\", \"Topic1\", \"Topic1\", \"Topic1\", \"Topic1\", \"Topic1\", \"Topic1\", \"Topic1\", \"Topic1\", \"Topic1\", \"Topic1\", \"Topic1\", \"Topic1\", \"Topic1\", \"Topic1\", \"Topic1\", \"Topic1\", \"Topic1\", \"Topic1\", \"Topic1\", \"Topic1\", \"Topic1\", \"Topic1\", \"Topic1\", \"Topic1\", \"Topic1\", \"Topic1\", \"Topic1\", \"Topic1\", \"Topic1\", \"Topic1\", \"Topic1\", \"Topic1\", \"Topic1\", \"Topic1\", \"Topic1\", \"Topic1\", \"Topic1\", \"Topic1\", \"Topic1\", \"Topic1\", \"Topic2\", \"Topic2\", \"Topic2\", \"Topic2\", \"Topic2\", \"Topic2\", \"Topic2\", \"Topic2\", \"Topic2\", \"Topic2\", \"Topic2\", \"Topic2\", \"Topic2\", \"Topic2\", \"Topic2\", \"Topic2\", \"Topic2\", \"Topic2\", \"Topic2\", \"Topic2\", \"Topic2\", \"Topic2\", \"Topic2\", \"Topic2\", \"Topic2\", \"Topic2\", \"Topic2\", \"Topic2\", \"Topic2\", \"Topic2\", \"Topic2\", \"Topic2\", \"Topic2\", \"Topic2\", \"Topic2\", \"Topic2\", \"Topic2\", \"Topic2\", \"Topic2\", \"Topic2\", \"Topic2\", \"Topic2\", \"Topic2\", \"Topic2\", \"Topic2\", \"Topic2\", \"Topic2\", \"Topic2\", \"Topic2\", \"Topic2\", \"Topic2\", \"Topic2\", \"Topic2\", \"Topic2\", \"Topic2\", \"Topic2\", \"Topic2\", \"Topic2\", \"Topic2\", \"Topic2\", \"Topic2\", \"Topic2\", \"Topic2\", \"Topic3\", \"Topic3\", \"Topic3\", \"Topic3\", \"Topic3\", \"Topic3\", \"Topic3\", \"Topic3\", \"Topic3\", \"Topic3\", \"Topic3\", \"Topic3\", \"Topic3\", \"Topic3\", \"Topic3\", \"Topic3\", \"Topic3\", \"Topic3\", \"Topic3\", \"Topic3\", \"Topic3\", \"Topic3\", \"Topic3\", \"Topic3\", \"Topic3\", \"Topic3\", \"Topic3\", \"Topic3\", \"Topic3\", \"Topic3\", \"Topic3\", \"Topic3\", \"Topic3\", \"Topic3\", \"Topic3\", \"Topic3\", \"Topic3\", \"Topic3\", \"Topic3\", \"Topic3\", \"Topic3\", \"Topic3\", \"Topic3\", \"Topic3\", \"Topic3\", \"Topic3\", \"Topic3\", \"Topic3\", \"Topic3\", \"Topic3\", \"Topic3\", \"Topic3\", \"Topic3\", \"Topic3\", \"Topic3\", \"Topic3\", \"Topic3\", \"Topic3\", \"Topic3\", \"Topic3\", \"Topic3\", \"Topic3\", \"Topic3\", \"Topic3\", \"Topic3\", \"Topic3\", \"Topic3\", \"Topic3\", \"Topic3\", \"Topic3\", \"Topic3\", \"Topic3\", \"Topic3\", \"Topic3\", \"Topic3\", \"Topic3\", \"Topic3\", \"Topic3\", \"Topic3\", \"Topic3\", \"Topic3\", \"Topic3\", \"Topic4\", \"Topic4\", \"Topic4\", \"Topic4\", \"Topic4\", \"Topic4\", \"Topic4\", \"Topic4\", \"Topic4\", \"Topic4\", \"Topic4\", \"Topic4\", \"Topic4\", \"Topic4\", \"Topic4\", \"Topic4\", \"Topic4\", \"Topic4\", \"Topic4\", \"Topic4\", \"Topic4\", \"Topic4\", \"Topic4\", \"Topic4\", \"Topic4\", \"Topic4\", \"Topic4\", \"Topic4\", \"Topic4\", \"Topic4\", \"Topic4\", \"Topic4\", \"Topic4\", \"Topic4\", \"Topic4\", \"Topic4\", \"Topic4\", \"Topic4\", \"Topic4\", \"Topic4\", \"Topic4\", \"Topic4\", \"Topic4\", \"Topic4\", \"Topic4\", \"Topic4\", \"Topic4\", \"Topic4\", \"Topic4\", \"Topic4\", \"Topic4\", \"Topic4\", \"Topic4\", \"Topic4\", \"Topic4\", \"Topic4\", \"Topic4\", \"Topic4\", \"Topic4\", \"Topic4\", \"Topic4\", \"Topic4\", \"Topic4\", \"Topic4\", \"Topic4\", \"Topic4\", \"Topic4\", \"Topic4\", \"Topic4\", \"Topic4\", \"Topic4\", \"Topic4\", \"Topic4\", \"Topic4\", \"Topic4\", \"Topic4\"], \"logprob\": [30.0, 29.0, 28.0, 27.0, 26.0, 25.0, 24.0, 23.0, 22.0, 21.0, 20.0, 19.0, 18.0, 17.0, 16.0, 15.0, 14.0, 13.0, 12.0, 11.0, 10.0, 9.0, 8.0, 7.0, 6.0, 5.0, 4.0, 3.0, 2.0, 1.0, -6.5834, -7.084, -7.1895, -7.3009, -7.3012, -7.3117, -7.4304, -7.4314, -7.433, -7.4335, -7.5784, -7.579, -7.5794, -6.0591, -7.4509, -7.5847, -6.9668, -7.59, -7.7528, -7.753, -7.7553, -6.9133, -6.7198, -7.0819, -7.0833, -7.9641, -7.9641, -7.09, -7.9643, -7.9645, -6.4236, -6.7032, -6.8865, -6.3838, -4.5279, -4.8226, -5.1235, -6.4558, -4.2494, -6.4293, -5.3705, -6.3081, -6.679, -5.4371, -4.6295, -6.5616, -5.7635, -5.5339, -5.0003, -4.9728, -5.9008, -5.7034, -4.2793, -5.6702, -4.4862, -4.6713, -5.321, -5.4969, -5.2241, -5.757, -5.4339, -5.4843, -5.392, -5.3517, -5.0645, -6.0146, -5.0777, -5.4087, -5.6363, -5.273, -5.4896, -5.387, -5.3529, -5.5341, -5.5012, -5.4341, -5.1389, -5.3994, -5.3849, -5.8123, -5.7555, -5.7573, -5.9402, -5.7894, -6.1702, -6.3085, -6.2631, -6.3588, -5.9886, -6.4121, -6.4122, -4.4736, -6.5338, -6.7326, -6.8111, -5.3359, -6.9902, -7.0919, -4.8177, -7.0919, -7.0931, -7.2062, -7.2062, -7.2063, -7.3368, -7.3381, -5.534, -5.7653, -4.1443, -6.1512, -6.265, -4.1914, -5.3218, -4.6949, -4.289, -5.2706, -5.0165, -5.3797, -4.3295, -4.9752, -4.6565, -5.2737, -5.5883, -4.6056, -5.0017, -4.8191, -4.9173, -5.2961, -4.491, -5.345, -5.1712, -4.9117, -5.0563, -5.4925, -5.3725, -5.0108, -5.2827, -5.3252, -5.3713, -6.2123, -6.6435, -6.6436, -6.6443, -6.58, -7.037, -7.0427, -7.0443, -7.2104, -7.069, -7.4206, -7.4218, -7.4223, -7.427, -6.7569, -7.6889, -7.6891, -7.6892, -7.6894, -7.6895, -7.6903, -7.6905, -7.6908, -7.6911, -7.6916, -7.6924, -7.6928, -7.6932, -7.696, -6.4481, -6.9018, -7.0275, -6.566, -7.0412, -7.3202, -5.5366, -6.3087, -7.2043, -7.2049, -5.8201, -7.0955, -6.6087, -7.2091, -6.7586, -5.5443, -5.0368, -6.6184, -6.9262, -5.4442, -6.0527, -5.8104, -5.0215, -5.6575, -5.5563, -4.9436, -5.1515, -5.6266, -5.7502, -5.9793, -6.0915, -5.2734, -5.9326, -5.8177, -5.8384, -5.3005, -5.666, -5.2902, -5.0288, -5.6454, -5.6353, -5.1773, -5.6166, -5.6451, -5.3434, -5.4191, -5.4288, -5.6652, -5.7301, -5.5891, -5.6429, -5.7134, -5.7338, -5.708, -6.198, -6.5275, -6.7456, -6.8737, -6.8737, -6.8746, -6.8749, -6.6591, -7.0215, -7.0232, -7.0232, -7.1964, -7.1967, -7.197, -7.1972, -7.1988, -7.1991, -7.4071, -7.4072, -7.4075, -7.4075, -7.4077, -7.4078, -7.4086, -7.4086, -7.4088, -7.2273, -7.4107, -7.4116, -6.5444, -6.6394, -6.7435, -6.566, -6.2201, -6.5893, -6.5337, -6.636, -6.0707, -6.6415, -5.9383, -4.8934, -5.3234, -6.1117, -5.1733, -6.5104, -6.3501, -5.4207, -5.0352, -5.3845, -5.3413, -5.2615, -5.1573, -5.4568, -5.4594, -5.5634, -5.5767, -5.5948, -5.1068, -5.2412, -4.938, -5.5167, -5.3614, -5.2627, -5.6233, -5.2876, -5.9441, -5.6849, -5.8378, -5.5521, -5.4231, -5.7118, -5.8862, -5.8691, -5.8794, -5.8766], \"loglift\": [30.0, 29.0, 28.0, 27.0, 26.0, 25.0, 24.0, 23.0, 22.0, 21.0, 20.0, 19.0, 18.0, 17.0, 16.0, 15.0, 14.0, 13.0, 12.0, 11.0, 10.0, 9.0, 8.0, 7.0, 6.0, 5.0, 4.0, 3.0, 2.0, 1.0, 1.0453, 1.037, 1.027, 1.0212, 1.0208, 1.0107, 1.0097, 1.0088, 1.0071, 1.0066, 0.9956, 0.995, 0.9946, 0.9929, 0.9901, 0.9892, 0.9864, 0.9844, 0.9758, 0.9757, 0.9734, 0.9698, 0.9653, 0.9552, 0.9547, 0.9475, 0.9475, 0.9473, 0.9472, 0.9471, 0.9221, 0.9259, 0.9295, 0.9192, 0.8701, 0.8605, 0.8218, 0.8909, 0.6955, 0.8771, 0.7547, 0.848, 0.8928, 0.7117, 0.5885, 0.8728, 0.7186, 0.6712, 0.5436, 0.5377, 0.7229, 0.6814, 0.3558, 0.644, 0.3307, 0.3774, 0.5396, 0.5699, 0.4385, 0.6098, 0.4952, 0.5074, 0.4664, 0.4082, 0.1574, 0.6706, 0.0636, 0.279, 0.4153, -0.0438, 0.104, -0.088, -0.3055, 0.0915, -0.0224, -0.2775, 1.1757, 1.1731, 1.1683, 1.1661, 1.1656, 1.164, 1.1634, 1.1599, 1.1568, 1.1522, 1.1513, 1.1508, 1.1496, 1.1489, 1.1488, 1.1481, 1.1388, 1.1344, 1.1302, 1.1284, 1.1186, 1.1125, 1.1125, 1.1125, 1.1113, 1.1039, 1.1039, 1.1038, 1.0916, 1.0903, 1.0797, 1.0769, 1.0306, 1.063, 1.0655, 0.9727, 1.0101, 0.9366, 0.8676, 0.9468, 0.9056, 0.9378, 0.7179, 0.8372, 0.7561, 0.862, 0.8846, 0.5358, 0.6167, 0.4799, 0.4628, 0.6946, 0.1441, 0.725, 0.5294, 0.1371, 0.1728, 0.7895, 0.5503, -0.1939, 0.2278, -0.3803, 0.4625, 1.6464, 1.6197, 1.6196, 1.6188, 1.5858, 1.5814, 1.5752, 1.5736, 1.5614, 1.5475, 1.5324, 1.5312, 1.5306, 1.5258, 1.5052, 1.4857, 1.4854, 1.4854, 1.4851, 1.4851, 1.4842, 1.484, 1.4837, 1.4835, 1.4828, 1.4821, 1.4816, 1.4811, 1.4782, 1.4778, 1.4598, 1.4517, 1.4264, 1.4426, 1.4468, 1.216, 1.3066, 1.4125, 1.4062, 1.1791, 1.3882, 1.3014, 1.4017, 1.3201, 1.0545, 0.7992, 1.237, 1.3249, 0.8141, 1.0248, 0.9355, 0.6041, 0.8272, 0.7149, 0.4366, 0.4528, 0.6142, 0.6773, 0.8232, 0.8765, 0.1692, 0.6692, 0.5659, 0.5807, 0.0975, 0.3723, -0.0722, -0.3937, 0.3257, 0.309, -0.3604, 0.2312, 0.2155, -0.2946, -0.1972, -0.1997, 0.1686, 0.1332, -0.6442, -0.5955, -0.572, -0.3212, 1.6716, 1.651, 1.6311, 1.6132, 1.6027, 1.6027, 1.6017, 1.6013, 1.5949, 1.588, 1.5863, 1.5862, 1.5667, 1.5664, 1.5661, 1.5659, 1.5643, 1.5639, 1.5377, 1.5375, 1.5373, 1.5372, 1.537, 1.5369, 1.5361, 1.5361, 1.5359, 1.5347, 1.5339, 1.5329, 1.5284, 1.515, 1.5112, 1.5009, 1.4488, 1.475, 1.3791, 1.358, 1.1951, 1.3428, 1.1341, 0.832, 0.8472, 1.1396, 0.718, 1.2738, 1.1986, 0.7647, 0.4074, 0.5901, 0.5065, 0.4011, 0.3214, 0.4922, 0.4697, 0.5464, 0.5332, 0.5343, 0.1152, 0.1714, -0.1211, 0.4276, 0.2429, 0.0363, 0.4283, -0.0584, 0.7253, 0.3534, 0.5545, 0.0415, -0.2051, -0.0113, 0.57, 0.3717, 0.3917, -1.2415]}, \"token.table\": {\"Topic\": [1, 3, 1, 3, 3, 1, 2, 4, 1, 2, 3, 4, 1, 3, 4, 4, 1, 1, 2, 4, 1, 2, 3, 4, 4, 2, 1, 2, 3, 4, 2, 2, 1, 2, 3, 4, 1, 2, 3, 4, 2, 1, 2, 3, 4, 2, 3, 4, 1, 3, 2, 1, 4, 2, 4, 1, 2, 3, 4, 1, 4, 3, 4, 1, 3, 1, 2, 3, 4, 1, 2, 3, 4, 1, 3, 1, 2, 3, 4, 1, 2, 3, 4, 1, 3, 4, 1, 2, 3, 4, 2, 3, 1, 2, 3, 2, 3, 2, 1, 2, 3, 4, 4, 4, 3, 1, 3, 4, 4, 4, 3, 2, 1, 2, 3, 4, 4, 1, 3, 4, 1, 2, 4, 3, 4, 1, 2, 3, 4, 3, 1, 2, 3, 4, 1, 2, 3, 3, 4, 1, 2, 3, 4, 1, 3, 1, 2, 3, 4, 1, 2, 3, 4, 1, 2, 3, 4, 1, 1, 2, 3, 2, 3, 4, 2, 3, 1, 1, 2, 3, 4, 1, 3, 4, 4, 3, 1, 2, 3, 4, 3, 4, 1, 2, 3, 4, 1, 2, 3, 4, 1, 2, 1, 2, 3, 4, 4, 1, 2, 2, 1, 2, 3, 4, 1, 2, 4, 1, 3, 4, 3, 4, 1, 3, 4, 1, 2, 1, 2, 3, 4, 1, 2, 3, 4, 1, 1, 3, 4, 4, 1, 2, 3, 4, 3, 4, 1, 2, 3, 4, 1, 3, 3, 3, 1, 2, 3, 2, 3, 4, 1, 3, 1, 2, 2, 1, 4, 3, 3, 4, 1, 2, 3, 4, 1, 2, 3, 4, 1, 2, 3, 4, 1, 2, 3, 4, 1, 2, 3, 4, 1, 2, 3, 4, 3, 1, 2, 1, 2, 3, 4, 3, 1, 4, 1, 3, 4, 1, 3, 1, 4, 4, 1, 3, 4, 1, 2, 3, 4, 1, 2, 3, 4, 2, 3, 1, 2, 3, 4, 1, 2, 3, 1, 2, 3, 4, 1, 2, 3, 4, 1, 1, 2, 3, 4, 1, 2, 3, 1, 1, 2, 3, 1, 3, 1, 1, 2, 3, 4, 3, 1, 2, 3, 4, 3, 1, 1, 2, 4, 3, 4, 2, 4, 1, 2, 1, 2, 1, 2, 3, 2, 3, 4, 1, 3, 4, 3, 4, 1, 3, 2, 4, 1, 2, 3, 2, 1, 3, 4, 1, 2, 3, 4, 4, 3, 2, 4, 4, 1, 2, 3, 4, 4, 2, 3, 4, 1, 2, 4, 1, 2, 3, 4, 4, 1, 2, 3, 4, 2, 3, 4, 1, 2, 3, 4, 3, 4, 1, 2, 3, 4, 2, 2, 1, 3, 1, 2, 3, 4, 1, 1, 2, 3, 4, 1, 2, 3, 1, 3, 1, 2, 3, 4, 1, 3, 4, 1, 2, 3, 1, 3, 2, 2, 1, 1, 3, 4, 2, 3, 2, 1, 2, 1, 2, 3, 4, 3, 4, 1, 4, 2, 1, 2, 1, 2, 3, 1, 2, 4, 1, 2, 3, 4, 3, 1, 2, 4, 1, 2, 3, 4, 3, 4, 1, 2, 3, 4, 4, 1, 4, 3, 1, 2, 3, 4, 1, 2, 3, 4, 1, 2, 3, 4, 1, 2, 3, 4, 1, 2, 3, 4, 1, 2, 3, 4, 1, 4, 1, 2, 3, 4, 1, 1, 1, 2, 3, 4, 1, 2, 1, 2, 3, 4, 1, 3, 4, 1, 2, 3, 4, 3, 1, 4], \"Freq\": [0.8951362378050475, 0.08137602161864067, 0.8521638043090218, 0.9519360668909602, 0.7915353942620934, 0.7500393852845052, 0.14063238474084472, 0.10547428855563354, 0.4223261356894092, 0.08446522713788183, 0.16893045427576367, 0.32579444753182996, 0.7014103292144119, 0.22445130534861182, 0.0701410329214412, 0.883529274213947, 0.8521848826296711, 0.2502859819283366, 0.7242317774947613, 0.02130093463219886, 0.526450273468865, 0.45124309154474135, 0.021487766264035302, 0.010743883132017651, 0.8835998784545401, 0.9177784050831068, 0.37298569704326123, 0.08288571045405806, 0.22102856121082148, 0.3177285567405559, 0.9702955977642045, 0.9639275446764151, 0.5689706886931102, 0.3793137924620735, 0.02275882754772441, 0.03034510339696588, 0.3709716449534048, 0.3132649446273196, 0.13190102931676614, 0.18960772964285133, 0.9228971554613369, 0.5706604930291701, 0.07537025379630549, 0.22611076138891648, 0.1292061493650951, 0.9451664178472686, 0.03938193407696953, 0.9408151286788745, 0.23514381534019155, 0.7054314460205746, 0.9658621389165186, 0.8544485857160473, 0.09493873174622748, 0.9521610733824345, 0.7847059241003912, 0.18005110030953492, 0.2957982362228074, 0.27007665046430235, 0.2572158575850499, 0.09778998481416235, 0.7823198785132988, 0.8880404301772008, 0.9409573723374937, 0.8550588014018113, 0.09500653348909015, 0.11297175980244296, 0.45188703920977186, 0.3615096313678175, 0.09037740784195437, 0.10085767184452794, 0.10085767184452794, 0.6051460310671677, 0.2017153436890559, 0.14769071719048021, 0.7384535859524011, 0.29202963023943274, 0.6238814827842427, 0.06637037050896198, 0.9646429742991964, 0.5726792207540652, 0.2745722291286614, 0.07060428749022722, 0.08629412915472216, 0.8838307682163986, 0.3950093996600221, 0.6144590661378121, 0.8860370878435415, 0.07088296702748333, 0.03544148351374166, 0.9437005343812507, 0.9433987705460688, 0.8880950474774887, 0.3999317378411039, 0.1090722921384829, 0.5090040299795868, 0.10795844079872367, 0.8636675263897894, 0.9874240966518076, 0.5419355673557951, 0.05765271993146757, 0.10377489587664161, 0.28826359965733783, 0.8411476067260943, 0.8411993906559163, 0.8879743464155494, 0.302810071517455, 0.12977574493605215, 0.5623615613895593, 0.9165598902133738, 0.9409294543119575, 0.8880941371392255, 0.8730052934698691, 0.24771491432721507, 0.5137790815675571, 0.05504775873938113, 0.18349252913127043, 0.94096365062292, 0.33789357735828524, 0.5181034852827041, 0.13515743094331412, 0.867794356025289, 0.0667534120019453, 0.0667534120019453, 0.6926492667082416, 0.2968496857321035, 0.3514189727130975, 0.5192608701283083, 0.10490118588450673, 0.020980237176901347, 0.8879180271479962, 0.777039652760999, 0.04570821486829406, 0.09141642973658812, 0.09141642973658812, 0.10898857556971774, 0.5812724030384946, 0.3269657267091532, 0.7644196047485262, 0.16987102327745027, 0.3093658692484409, 0.5270677772380845, 0.10312195641614696, 0.05728997578674832, 0.16850515019418177, 0.6740206007767271, 0.04168263834051068, 0.8753354051507243, 0.08336527668102137, 0.9409510931008302, 0.5822398810679833, 0.2646544913945379, 0.07939634741836137, 0.07939634741836137, 0.23061321854527325, 0.48219127514011684, 0.2201307995204881, 0.07337693317349604, 0.8834925464520261, 0.6928309155874325, 0.277132366234973, 0.04618872770582883, 0.2912106270094079, 0.11648425080376318, 0.5824212540188158, 0.9833470837202082, 0.8880840472902312, 0.8118351050789244, 0.5123321428009426, 0.15016631771751768, 0.07066650245530244, 0.2738326970142969, 0.6270440056266946, 0.11862994701045573, 0.25420702930811945, 0.8412071815619797, 0.9487764735195907, 0.6073248693677157, 0.14289996926299192, 0.01786249615787399, 0.23221245005236188, 0.11799214138685955, 0.8259449897080169, 0.3149388220472188, 0.36074810525408696, 0.1488801704223216, 0.1717848120257557, 0.38658217188641647, 0.26151146921728174, 0.14781083042715926, 0.2046611498222205, 0.8521337052838974, 0.8422376009964816, 0.24102714935612843, 0.2693832845744965, 0.21267101413776038, 0.2764723183790885, 0.784685064974235, 0.974242663291646, 0.990012059783815, 0.9433920909007877, 0.471043924311658, 0.35091191676908745, 0.12329337616211182, 0.053743266532202585, 0.046821563119839454, 0.8896096992769497, 0.046821563119839454, 0.18153209565520576, 0.726128382620823, 0.9835860085610517, 0.633190209525504, 0.316595104762752, 0.4697351275315718, 0.10275455914753133, 0.42569745932548697, 0.8343781807094045, 0.17879532443772955, 0.18468454910882656, 0.7079574382505018, 0.030780758184804427, 0.08208202182614514, 0.3149485108324468, 0.0787371277081117, 0.33069593637406913, 0.2677062342075798, 0.9742311957427021, 0.2609653187978509, 0.46973757383613157, 0.2609653187978509, 0.9409562486924842, 0.6750989411923463, 0.028727614518823247, 0.1292742653347046, 0.17236568711293948, 0.8879658081123057, 0.9409421943595391, 0.7843951124463486, 0.12622450085343542, 0.009016035775245387, 0.09016035775245386, 0.1969330605567981, 0.7877322422271924, 0.8487039780510027, 0.8880948962488109, 0.07706439357045798, 0.7792066461012974, 0.13700336634748086, 0.07371374171579087, 0.2948549668631635, 0.6634236754421179, 0.13130972298291915, 0.7878583378975149, 0.1552456552889637, 0.8452263454621357, 0.9486927671836208, 0.8081882833197904, 0.14262146176231597, 0.8880145773703654, 0.9529231894762427, 0.9408999220801549, 0.32338073357474006, 0.32338073357474006, 0.09554430764708229, 0.24988511230775368, 0.1864683081133839, 0.48614951758132235, 0.2797024621700759, 0.04661707702834598, 0.7864686669753838, 0.006779902301511928, 0.20339706904535787, 0.006779902301511928, 0.16570563134670754, 0.30379365746896386, 0.4142640783667689, 0.11047042089780504, 0.06303086345590037, 0.4412160441913026, 0.40970061246335243, 0.09454629518385056, 0.3774882269806082, 0.15543632875672103, 0.08882075928955487, 0.3774882269806082, 0.8880897874372985, 0.1931605601234946, 0.8048356671812276, 0.6636349686800496, 0.20684726296521028, 0.09480499552572137, 0.034474543827535044, 0.8877721739116502, 0.7792115750277451, 0.20778975334073202, 0.336551793372375, 0.41668317274675004, 0.24039413812312502, 0.9103058904892345, 0.8880851077401744, 0.10672916697911648, 0.8538333358329319, 0.9409394264679797, 0.4952345074430461, 0.22155227964557325, 0.27368222779747287, 0.8199943049513055, 0.04555523916396142, 0.04555523916396142, 0.04555523916396142, 0.25652742156749253, 0.25652742156749253, 0.16491048529338806, 0.31149758333195526, 0.33439163640024805, 0.6687832728004961, 0.07088193577887507, 0.7229957449445257, 0.15594025871352515, 0.04252916146732504, 0.6814946311049226, 0.14030771816866053, 0.1803956376454207, 0.24350035424037153, 0.6254616942252681, 0.10026485174603533, 0.028647100498867237, 0.21759025728290587, 0.19341356202924967, 0.19341356202924967, 0.38682712405849934, 0.947653340041476, 0.4828965299009915, 0.34902422458190474, 0.13387230531908675, 0.03346807632977169, 0.3188594952907752, 0.6131913370976446, 0.06131913370976446, 0.9464406730524988, 0.10846835223099797, 0.856899982624884, 0.03254050566929939, 0.1684752278044869, 0.6739009112179476, 0.9103059430685162, 0.43477300131214786, 0.3260797509841109, 0.09963547946736721, 0.14492433377071595, 0.9485672783267363, 0.18822174499460276, 0.4517321879870466, 0.3199769664908247, 0.03764434899892055, 0.8881066596950397, 0.9476196907850715, 0.09146323000508672, 0.8917664925495954, 0.7846131294424086, 0.7418469525092013, 0.14836939050184025, 0.19506234182312374, 0.7802493672924949, 0.03391670343748592, 0.9581468721089773, 0.0692606148766976, 0.9234748650226348, 0.20404979701463055, 0.7821908885560838, 0.8483830542935363, 0.8730038561294178, 0.8320519814447939, 0.1188645687778277, 0.13135311328984853, 0.6042243211333032, 0.23643560392172733, 0.2727594207084419, 0.7273584552225117, 0.9290205019627326, 0.9487969469818183, 0.8422539475076606, 0.7846851838284316, 0.3660252192322015, 0.2979275040262105, 0.33197636162920596, 0.8730011008603145, 0.26070079385304656, 0.4236387900112007, 0.2932883930846774, 0.30099243034795703, 0.17871425551909947, 0.10346614793211023, 0.4138645917284409, 0.7846752579584932, 0.8879046539617332, 0.9799132798042124, 0.7846941149215674, 0.9409649451243235, 0.6534507412326164, 0.1823583463904976, 0.0607861154634992, 0.1063757020611236, 0.7838139220306923, 0.18006227460358884, 0.09003113730179442, 0.7202490984143554, 0.7865736643202046, 0.07865736643202047, 0.15731473286404093, 0.3126519257146506, 0.240501481318962, 0.2525265553849101, 0.1924011850551696, 0.9432646828206708, 0.44210074669789523, 0.04144694500292768, 0.20723472501463838, 0.30394426335480296, 0.9595738349527732, 0.09836878093995106, 0.8853190284595597, 0.492922318385896, 0.070417474055128, 0.1267514532992304, 0.3098368858425632, 0.7417610685259457, 0.14835221370518914, 0.04580003969447521, 0.755700654958841, 0.14885012900704442, 0.04580003969447521, 0.967482190726541, 0.8976258962590722, 0.8529216097575543, 0.9519535271329099, 0.07944739655909376, 0.7348884181716172, 0.07944739655909376, 0.11917109483864063, 0.908515084846424, 0.5523842942755565, 0.2332289242496794, 0.12275206539456811, 0.09820165231565449, 0.6547344197562299, 0.10912240329270498, 0.23643187380086078, 0.6385471487493999, 0.34383308009583075, 0.22108589151860544, 0.1607897392862585, 0.42207306562642855, 0.20098717410782313, 0.1244967710398207, 0.6847322407190138, 0.18674515655973106, 0.18050573748816068, 0.6727941124558716, 0.14768651249031328, 0.8369533286413452, 0.1521733324802446, 0.9640818154896517, 0.8976753924723588, 0.8521621480044853, 0.16765280238263594, 0.08382640119131797, 0.7544376107218618, 0.9608342394375327, 0.9519120461257452, 0.9877419021494767, 0.08620428314414513, 0.8907775924894996, 0.24165021486676, 0.24165021486676, 0.2833140450162014, 0.23331744883687175, 0.6779234644917276, 0.1694808661229319, 0.8543173244344996, 0.09492414715938884, 0.9601114370819646, 0.8727478683285264, 0.08727478683285264, 0.18460037242736177, 0.7845515828162876, 0.015383364368946814, 0.820544918038544, 0.06311883984911877, 0.06311883984911877, 0.45878776747150074, 0.2502478731662731, 0.1289155710250498, 0.15924864656035562, 0.8483129211777675, 0.1808563834508287, 0.21702766014099442, 0.5787404270426518, 0.3320646887558631, 0.23439860382766806, 0.11719930191383403, 0.31253147177022406, 0.19702460333561297, 0.7880984133424519, 0.9103034462904988, 0.6466675961107077, 0.13070940772450476, 0.21326271786629722, 0.8835862772072224, 0.8090576528819183, 0.19036650656045137, 0.9488591446641381, 0.3724718218291418, 0.05959549149266269, 0.17878647447798807, 0.3873706947023075, 0.27052313126484623, 0.2822850065372308, 0.15290437854100003, 0.29404688180961547, 0.36706343551318155, 0.3562674521157351, 0.20512368455148383, 0.07557188378212562, 0.49652146631128224, 0.32127859584847673, 0.13630001035995984, 0.04867857512855708, 0.3008881857920071, 0.49124601761960346, 0.01842172566073513, 0.19035783182759633, 0.2657607890012621, 0.2019781996409592, 0.23386949432111065, 0.29765208368141355, 0.9103022691122249, 0.9408896165708962, 0.20878745000426527, 0.28471015909672537, 0.36063286818918544, 0.1518454181849202, 0.9742358886085907, 0.9476178175511079, 0.2958012114236037, 0.5662480332966128, 0.06761170546825228, 0.07606316865178381, 0.8834889181529536, 0.897611211090315, 0.2809741798026232, 0.18731611986841545, 0.2458524073272953, 0.2809741798026232, 0.3571400078124586, 0.3733736445312067, 0.27597182421871796, 0.5945742561665104, 0.08493917945235861, 0.16987835890471722, 0.14722791105075494, 0.847089246661591, 0.8122079572940165, 0.8835367884832755], \"Term\": [\"2019\", \"2019\", \"ad\", \"afford\", \"alley\", \"alway\", \"alway\", \"alway\", \"amaz\", \"amaz\", \"amaz\", \"amaz\", \"apart\", \"apart\", \"apart\", \"appear\", \"appropri\", \"area\", \"area\", \"area\", \"around\", \"around\", \"around\", \"around\", \"ash\", \"babi\", \"back\", \"back\", \"back\", \"back\", \"basebal\", \"basketbal\", \"beach\", \"beach\", \"beach\", \"beach\", \"beauti\", \"beauti\", \"beauti\", \"beauti\", \"bench\", \"best\", \"best\", \"best\", \"best\", \"big\", \"big\", \"biker\", \"bird\", \"bird\", \"birthday\", \"break\", \"break\", \"bridg\", \"burial\", \"came\", \"came\", \"came\", \"came\", \"captain\", \"captain\", \"cater\", \"charter\", \"church\", \"church\", \"citi\", \"citi\", \"citi\", \"citi\", \"class\", \"class\", \"class\", \"class\", \"clay\", \"clay\", \"clean\", \"clean\", \"clean\", \"color\", \"come\", \"come\", \"come\", \"come\", \"comfort\", \"compani\", \"compani\", \"complex\", \"complex\", \"complex\", \"contact\", \"conveni\", \"coordin\", \"could\", \"could\", \"could\", \"couldnt\", \"couldnt\", \"court\", \"covid\", \"covid\", \"covid\", \"covid\", \"creek\", \"cross\", \"crush\", \"custom\", \"custom\", \"custom\", \"cut\", \"cuvier\", \"dad\", \"dam\", \"day\", \"day\", \"day\", \"day\", \"decis\", \"definit\", \"definit\", \"definit\", \"dine\", \"dine\", \"dine\", \"disappoint\", \"disappoint\", \"dog\", \"dog\", \"dog\", \"dog\", \"dri\", \"due\", \"due\", \"due\", \"due\", \"easi\", \"easi\", \"easi\", \"either\", \"either\", \"enjoy\", \"enjoy\", \"enjoy\", \"enjoy\", \"environ\", \"environ\", \"equip\", \"equip\", \"equip\", \"estudillo\", \"even\", \"even\", \"even\", \"even\", \"famili\", \"famili\", \"famili\", \"famili\", \"fanci\", \"favorit\", \"favorit\", \"favorit\", \"felt\", \"felt\", \"felt\", \"field\", \"fifth\", \"fill\", \"first\", \"first\", \"first\", \"first\", \"food\", \"food\", \"food\", \"fool\", \"form\", \"found\", \"found\", \"found\", \"found\", \"friday\", \"friday\", \"get\", \"get\", \"get\", \"get\", \"go\", \"go\", \"go\", \"go\", \"god\", \"golf\", \"good\", \"good\", \"good\", \"good\", \"googl\", \"govern\", \"grass\", \"grassi\", \"great\", \"great\", \"great\", \"great\", \"green\", \"green\", \"green\", \"guid\", \"guid\", \"hair\", \"happen\", \"happen\", \"help\", \"help\", \"help\", \"high\", \"high\", \"hike\", \"hike\", \"hike\", \"hike\", \"home\", \"home\", \"home\", \"home\", \"hors\", \"hour\", \"hour\", \"hour\", \"hubbi\", \"im\", \"im\", \"im\", \"im\", \"inland\", \"ir\", \"ive\", \"ive\", \"ive\", \"ive\", \"jen\", \"jen\", \"joy\", \"kayak\", \"kid\", \"kid\", \"kid\", \"knowledg\", \"knowledg\", \"knowledg\", \"lack\", \"lack\", \"larg\", \"larg\", \"leagu\", \"leas\", \"leas\", \"leg\", \"librari\", \"lighthous\", \"like\", \"like\", \"like\", \"like\", \"littl\", \"littl\", \"littl\", \"littl\", \"live\", \"live\", \"live\", \"live\", \"local\", \"local\", \"local\", \"local\", \"locat\", \"locat\", \"locat\", \"locat\", \"look\", \"look\", \"look\", \"look\", \"lorrain\", \"lot\", \"lot\", \"love\", \"love\", \"love\", \"love\", \"luck\", \"mainten\", \"mainten\", \"manag\", \"manag\", \"manag\", \"massag\", \"melroy\", \"mexico\", \"mexico\", \"michael\", \"move\", \"move\", \"move\", \"museum\", \"museum\", \"museum\", \"museum\", \"need\", \"need\", \"need\", \"need\", \"neighbor\", \"neighbor\", \"neighborhood\", \"neighborhood\", \"neighborhood\", \"neighborhood\", \"never\", \"never\", \"never\", \"nice\", \"nice\", \"nice\", \"nice\", \"north\", \"north\", \"north\", \"north\", \"ob\", \"one\", \"one\", \"one\", \"one\", \"open\", \"open\", \"open\", \"outsid\", \"park\", \"park\", \"park\", \"patch\", \"patch\", \"pb\", \"peopl\", \"peopl\", \"peopl\", \"peopl\", \"per\", \"perfect\", \"perfect\", \"perfect\", \"perfect\", \"pete\", \"pickup\", \"picnic\", \"picnic\", \"pictur\", \"piec\", \"piec\", \"pine\", \"pine\", \"play\", \"play\", \"playground\", \"playground\", \"plenti\", \"plenti\", \"potteri\", \"privat\", \"pro\", \"pro\", \"properti\", \"properti\", \"properti\", \"question\", \"question\", \"race\", \"rais\", \"ranch\", \"rang\", \"realli\", \"realli\", \"realli\", \"rec\", \"rent\", \"rent\", \"rent\", \"review\", \"review\", \"review\", \"review\", \"river\", \"rubber\", \"sand\", \"sanit\", \"sausag\", \"say\", \"say\", \"say\", \"say\", \"scatter\", \"sea\", \"sea\", \"sea\", \"seat\", \"seat\", \"seat\", \"see\", \"see\", \"see\", \"see\", \"serious\", \"servic\", \"servic\", \"servic\", \"servic\", \"shade\", \"share\", \"share\", \"sinc\", \"sinc\", \"sinc\", \"sinc\", \"skill\", \"skill\", \"small\", \"small\", \"small\", \"small\", \"soccer\", \"softbal\", \"solana\", \"someon\", \"space\", \"space\", \"space\", \"space\", \"spaciou\", \"spot\", \"spot\", \"spot\", \"spot\", \"staff\", \"staff\", \"staff\", \"star\", \"star\", \"start\", \"start\", \"start\", \"start\", \"store\", \"store\", \"store\", \"street\", \"street\", \"street\", \"stroll\", \"stroll\", \"structur\", \"support\", \"surf\", \"surpris\", \"surpris\", \"surpris\", \"surround\", \"sweet\", \"swing\", \"tabl\", \"tabl\", \"take\", \"take\", \"take\", \"take\", \"teach\", \"teach\", \"teacher\", \"teacher\", \"tenni\", \"terribl\", \"terribl\", \"there\", \"there\", \"there\", \"though\", \"though\", \"though\", \"time\", \"time\", \"time\", \"time\", \"tini\", \"today\", \"today\", \"today\", \"took\", \"took\", \"took\", \"took\", \"torrey\", \"torrey\", \"tourmalin\", \"trail\", \"trail\", \"trail\", \"tux\", \"unit\", \"unit\", \"unprofession\", \"us\", \"us\", \"us\", \"us\", \"use\", \"use\", \"use\", \"use\", \"view\", \"view\", \"view\", \"view\", \"visit\", \"visit\", \"visit\", \"visit\", \"walk\", \"walk\", \"walk\", \"walk\", \"want\", \"want\", \"want\", \"want\", \"wash\", \"waterfront\", \"way\", \"way\", \"way\", \"way\", \"wear\", \"websit\", \"well\", \"well\", \"well\", \"well\", \"white\", \"wide\", \"work\", \"work\", \"work\", \"work\", \"would\", \"would\", \"would\", \"year\", \"year\", \"year\", \"year\", \"younger\", \"youv\", \"ysidro\"]}, \"R\": 30, \"lambda.step\": 0.01, \"plot.opts\": {\"xlab\": \"PC1\", \"ylab\": \"PC2\"}, \"topic.order\": [1, 4, 2, 3]};\n",
       "\n",
       "function LDAvis_load_lib(url, callback){\n",
       "  var s = document.createElement('script');\n",
       "  s.src = url;\n",
       "  s.async = true;\n",
       "  s.onreadystatechange = s.onload = callback;\n",
       "  s.onerror = function(){console.warn(\"failed to load library \" + url);};\n",
       "  document.getElementsByTagName(\"head\")[0].appendChild(s);\n",
       "}\n",
       "\n",
       "if(typeof(LDAvis) !== \"undefined\"){\n",
       "   // already loaded: just create the visualization\n",
       "   !function(LDAvis){\n",
       "       new LDAvis(\"#\" + \"ldavis_el134882393789234248272117452\", ldavis_el134882393789234248272117452_data);\n",
       "   }(LDAvis);\n",
       "}else if(typeof define === \"function\" && define.amd){\n",
       "   // require.js is available: use it to load d3/LDAvis\n",
       "   require.config({paths: {d3: \"https://cdnjs.cloudflare.com/ajax/libs/d3/3.5.5/d3.min\"}});\n",
       "   require([\"d3\"], function(d3){\n",
       "      window.d3 = d3;\n",
       "      LDAvis_load_lib(\"https://cdn.rawgit.com/bmabey/pyLDAvis/files/ldavis.v1.0.0.js\", function(){\n",
       "        new LDAvis(\"#\" + \"ldavis_el134882393789234248272117452\", ldavis_el134882393789234248272117452_data);\n",
       "      });\n",
       "    });\n",
       "}else{\n",
       "    // require.js not available: dynamically load d3 & LDAvis\n",
       "    LDAvis_load_lib(\"https://cdnjs.cloudflare.com/ajax/libs/d3/3.5.5/d3.min.js\", function(){\n",
       "         LDAvis_load_lib(\"https://cdn.rawgit.com/bmabey/pyLDAvis/files/ldavis.v1.0.0.js\", function(){\n",
       "                 new LDAvis(\"#\" + \"ldavis_el134882393789234248272117452\", ldavis_el134882393789234248272117452_data);\n",
       "            })\n",
       "         });\n",
       "}\n",
       "</script>"
      ],
      "text/plain": [
       "<IPython.core.display.HTML object>"
      ]
     },
     "execution_count": 29,
     "metadata": {},
     "output_type": "execute_result"
    }
   ],
   "source": [
    "LDAvis_prepared = sklearn_lda.prepare(lda_list[2], reviews_count, count_vectorizer)\n",
    "pyLDAvis.display(LDAvis_prepared)"
   ]
  },
  {
   "cell_type": "code",
   "execution_count": 30,
   "metadata": {
    "colab": {
     "base_uri": "https://localhost:8080/",
     "height": 861
    },
    "executionInfo": {
     "elapsed": 56440,
     "status": "ok",
     "timestamp": 1608066695591,
     "user": {
      "displayName": "Alex Zhao",
      "photoUrl": "https://lh3.googleusercontent.com/a-/AOh14Gh9y1MKHYau8bzpWFSBLOEpz2unRxz8sJAdQz1_=s64",
      "userId": "01860394617001739367"
     },
     "user_tz": 480
    },
    "id": "rYuhS52rKPqb",
    "outputId": "f770cee5-543a-4942-8c2b-7136b8502b6c"
   },
   "outputs": [
    {
     "data": {
      "text/html": [
       "\n",
       "<link rel=\"stylesheet\" type=\"text/css\" href=\"https://cdn.rawgit.com/bmabey/pyLDAvis/files/ldavis.v1.0.0.css\">\n",
       "\n",
       "\n",
       "<div id=\"ldavis_el1348823937995858644830832447\"></div>\n",
       "<script type=\"text/javascript\">\n",
       "\n",
       "var ldavis_el1348823937995858644830832447_data = {\"mdsDat\": {\"x\": [-0.16925884228901597, 0.023894201512381183, 0.0024702441828456144, 0.06678387571823459, 0.07611052087555457], \"y\": [0.03817952969726526, -0.025618580459099684, -0.11503751943236036, 0.047285582837735124, 0.05519098735645964], \"topics\": [1, 2, 3, 4, 5], \"cluster\": [1, 1, 1, 1, 1], \"Freq\": [28.71057306430761, 26.08121014492847, 16.220916921833265, 14.973973725970682, 14.013326142959977]}, \"tinfo\": {\"Term\": [\"park\", \"lot\", \"live\", \"play\", \"trail\", \"playground\", \"area\", \"ive\", \"dog\", \"field\", \"help\", \"grass\", \"larg\", \"court\", \"there\", \"picnic\", \"walk\", \"daughter\", \"plenti\", \"school\", \"one\", \"hair\", \"bring\", \"kid\", \"best\", \"first\", \"shade\", \"sinc\", \"big\", \"order\", \"grass\", \"court\", \"basebal\", \"shade\", \"field\", \"soccer\", \"picnic\", \"grassi\", \"basketbal\", \"wide\", \"structur\", \"play\", \"entri\", \"rec\", \"privat\", \"larg\", \"green\", \"park\", \"conveni\", \"bridg\", \"4s\", \"etc\", \"empti\", \"fountain\", \"fairli\", \"bench\", \"lot\", \"pit\", \"playground\", \"tree\", \"plenti\", \"tabl\", \"there\", \"distanc\", \"big\", \"sand\", \"area\", \"space\", \"kid\", \"bathroom\", \"nice\", \"clean\", \"walk\", \"dog\", \"small\", \"street\", \"well\", \"open\", \"neighborhood\", \"beach\", \"hike\", \"littl\", \"great\", \"trail\", \"around\", \"get\", \"famili\", \"peopl\", \"time\", \"go\", \"love\", \"one\", \"complex\", \"spaciou\", \"fanci\", \"comfort\", \"govern\", \"alon\", \"hors\", \"replac\", \"pickup\", \"preserv\", \"honestli\", \"sushi\", \"phil\", \"landlord\", \"brian\", \"nativ\", \"melissa\", \"outstand\", \"wash\", \"popul\", \"remodel\", \"male\", \"naval\", \"leas\", \"welcom\", \"gay\", \"tap\", \"shift\", \"octob\", \"bartend\", \"ive\", \"decad\", \"though\", \"live\", \"apart\", \"unit\", \"museum\", \"current\", \"favorit\", \"break\", \"year\", \"new\", \"beer\", \"love\", \"im\", \"food\", \"pandem\", \"corner\", \"alway\", \"staff\", \"even\", \"say\", \"one\", \"place\", \"great\", \"best\", \"come\", \"found\", \"spot\", \"time\", \"visit\", \"feel\", \"would\", \"star\", \"sinc\", \"amaz\", \"around\", \"get\", \"first\", \"beach\", \"go\", \"like\", \"nice\", \"dog\", \"area\", \"good\", \"bird\", \"offleash\", \"unprofession\", \"america\", \"form\", \"flower\", \"doggi\", \"fenc\", \"kayak\", \"melroy\", \"tee\", \"crush\", \"kendra\", \"cater\", \"thin\", \"inland\", \"pete\", \"breather\", \"that\", \"control\", \"chill\", \"human\", \"eve\", \"pathway\", \"twin\", \"associ\", \"six\", \"tini\", \"environ\", \"patch\", \"skill\", \"mar\", \"sweet\", \"afford\", \"bring\", \"becom\", \"navig\", \"part\", \"definit\", \"neighbor\", \"joy\", \"hole\", \"round\", \"could\", \"absolut\", \"hour\", \"least\", \"del\", \"busi\", \"three\", \"live\", \"book\", \"littl\", \"learn\", \"home\", \"take\", \"realli\", \"see\", \"dog\", \"trail\", \"famili\", \"locat\", \"dont\", \"compani\", \"way\", \"one\", \"mani\", \"get\", \"love\", \"go\", \"year\", \"view\", \"time\", \"beauti\", \"like\", \"good\", \"great\", \"best\", \"nice\", \"secur\", \"mask\", \"lesson\", \"bed\", \"sanit\", \"draw\", \"suit\", \"teacher\", \"mr\", \"execut\", \"daniel\", \"14\", \"estat\", \"smoke\", \"jetti\", \"amanda\", \"scott\", \"globe\", \"sadli\", \"assaf\", \"dealt\", \"cousin\", \"mena\", \"decemb\", \"invit\", \"waterleaf\", \"vavi\", \"studi\", \"plate\", \"ice\", \"art\", \"daughter\", \"help\", \"class\", \"school\", \"paint\", \"store\", \"properti\", \"secret\", \"begin\", \"taken\", \"question\", \"chang\", \"wife\", \"us\", \"line\", \"knowledg\", \"respons\", \"first\", \"time\", \"everyon\", \"covid\", \"need\", \"take\", \"back\", \"great\", \"cours\", \"amaz\", \"come\", \"day\", \"manag\", \"safe\", \"best\", \"one\", \"move\", \"month\", \"want\", \"stay\", \"go\", \"get\", \"look\", \"work\", \"alway\", \"good\", \"realli\", \"year\", \"nice\", \"hair\", \"somewher\", \"ysidro\", \"cross\", \"singl\", \"googl\", \"river\", \"rang\", \"sausag\", \"estudillo\", \"juri\", \"lighthous\", \"deliv\", \"color\", \"borrego\", \"headshot\", \"exit\", \"linh\", \"1827\", \"favor\", \"emerald\", \"origin\", \"curli\", \"correct\", \"horton\", \"altern\", \"skateboard\", \"sceneri\", \"phone\", \"april\", \"torrey\", \"pizza\", \"mission\", \"card\", \"border\", \"chula\", \"order\", \"build\", \"cut\", \"surpris\", \"review\", \"trail\", \"sinc\", \"north\", \"husband\", \"town\", \"good\", \"first\", \"today\", \"took\", \"like\", \"event\", \"walk\", \"go\", \"covid\", \"time\", \"use\", \"servic\", \"want\", \"awesom\", \"look\", \"beauti\", \"would\", \"back\", \"us\", \"year\", \"came\", \"work\", \"great\", \"need\", \"hike\", \"get\", \"love\"], \"Freq\": [185.0, 187.0, 147.0, 118.0, 144.0, 86.0, 187.0, 110.0, 190.0, 59.0, 67.0, 46.0, 58.0, 45.0, 65.0, 43.0, 163.0, 35.0, 59.0, 36.0, 208.0, 20.0, 36.0, 116.0, 92.0, 112.0, 31.0, 70.0, 50.0, 33.0, 46.03325783650614, 45.12874383762838, 26.254788146744225, 30.595991136501723, 57.308667322754154, 19.05911055061321, 42.332519731652994, 16.364403418956623, 30.82636309281514, 8.269916903846081, 29.686677598016562, 108.80784922485914, 7.369749006067518, 7.369341565523511, 7.369247617714199, 53.22916312904541, 19.48486848176021, 167.6326815352932, 15.262243851029115, 15.92752245925192, 5.574149699034569, 5.573243284950748, 5.571272267309891, 5.570863220280031, 5.569616531697236, 13.460657211926323, 165.45883745320802, 6.313860466425876, 76.4455565943782, 26.69335016884559, 51.08639031836568, 30.11616978720967, 55.60821157218285, 22.31163253132402, 42.30861979714862, 18.324280599543272, 135.2886530368037, 40.05063711590478, 81.72231700742734, 28.268396971430807, 129.31433208738233, 52.827856606323905, 97.68016176028672, 109.55058412862533, 56.30002357106917, 42.222567922150866, 68.49224385465008, 50.594805426516544, 45.03590389587778, 68.14639188369789, 55.1546311945137, 69.94988958337152, 105.6172697239665, 68.12996610486658, 51.81801914767242, 60.41011375810154, 48.70281449409332, 50.45099195961872, 62.04484761390857, 52.58925962039945, 54.37249708773953, 53.133111944295635, 26.271405955219922, 8.087048641823497, 7.219076548857712, 7.216690434420635, 5.458921656315195, 5.457495032370565, 5.456533451453209, 5.400107206169331, 4.577579769916043, 4.5721933891012165, 8.962696995381757, 3.6979760513864117, 3.6979747595536825, 3.6979734035735836, 3.6979733552527, 3.697273395228737, 3.6970265688573933, 3.69645776305525, 3.69620084530526, 3.6943635026124513, 3.6922381948678087, 3.691185136158531, 3.687846284520892, 17.59919807625597, 11.361392868948684, 2.8175047473294343, 2.8175028664032222, 2.817502286057727, 2.817502048702664, 2.8175019673120647, 83.45360625390657, 4.216971639844156, 12.209343410087703, 102.0068728808448, 50.70115210287871, 15.641561493621982, 15.878738441023055, 12.89518731811312, 28.79456428948089, 8.034666094054076, 92.15962805128926, 33.50947019074623, 10.635044107759422, 111.53756795309847, 39.49869896269116, 34.33935849607557, 20.53483262997079, 7.217156887695636, 45.79126188642973, 31.5284558467784, 39.32450459862491, 35.080163478374786, 86.59035716654436, 21.138331200859817, 109.49877142900931, 42.879861111847774, 54.11284647086199, 28.68086778155973, 36.828258940432455, 81.87967379041058, 42.31972306904541, 20.360606238087, 29.396987997475726, 22.312513223903146, 30.336045398880298, 32.64666754006016, 34.20341242430688, 46.44880019876311, 37.0478375094099, 37.87719560405968, 40.56445561627554, 36.21384996885145, 37.38257225195178, 36.11676577262108, 35.8580362099138, 33.29378762092726, 7.820316002268395, 4.411593579507173, 3.571026848877445, 3.570046244488458, 3.5687450142027752, 3.566518246905996, 3.564029045493498, 6.970802673282886, 2.721292741967584, 2.720940089515683, 2.720883797413407, 2.7206778515117005, 2.720037889075108, 2.7194135471540353, 2.719210615806491, 2.719060150629613, 2.718225403426093, 2.6951892169151845, 10.748678563837883, 5.274289250842734, 5.268653943786291, 5.26607130069791, 2.5701758416503284, 2.5611425482050922, 2.539623852632891, 4.423468771760319, 4.420633325046376, 4.421896081562279, 4.4276695048866594, 4.422734695975344, 4.97563009110221, 9.783617473580678, 6.124511079858132, 6.130537073657975, 23.01139914377058, 7.822435689786139, 4.976717793596213, 21.784669189431987, 24.491146340569852, 7.82715468522118, 4.34144526688633, 4.31146553014572, 4.328004900847378, 14.412104458989793, 19.633591826273907, 18.42351510609659, 10.628914910633284, 11.12678356485734, 20.542902447126508, 10.027783739988184, 42.34165039627975, 9.891452583894353, 40.619224588611885, 8.963045612542098, 22.64244479004382, 33.95290032219536, 32.9372142564804, 24.9377634530157, 41.75879484802314, 33.73550370021926, 26.275588070303073, 25.626876035682997, 21.956593194702247, 10.818913524635757, 17.18019273887949, 36.445230916728924, 21.592786091940035, 30.656031179139564, 34.690541631905646, 29.944115016811487, 29.258081589775806, 21.139028874559003, 32.90437696645672, 22.93614947891092, 23.20887373895391, 23.0980701320244, 27.508132216431203, 19.913841479702945, 19.71394544670705, 8.65654325358327, 8.65466785858435, 5.260893619391491, 5.252599186811414, 4.4115037739939424, 4.408985994477636, 9.464842226674243, 8.661578322158341, 3.5639622849095063, 3.562207258512545, 3.559246388712635, 3.5577716931349905, 3.5494807507403907, 2.716083768221766, 2.716083641744903, 2.715473745276837, 2.715243711704709, 2.7150815998111653, 2.7145999581658136, 2.7142595989923635, 2.714133348021147, 2.7139252623236345, 2.7136883625258745, 2.71230387655877, 2.7059470555931573, 2.69172252208681, 2.6880183789141183, 4.015494734246694, 5.26464462973686, 4.415822721148848, 17.562738374743866, 23.807450813557683, 41.351614632121205, 18.879323219151413, 22.370910850557518, 6.085527980145439, 10.374954972800671, 19.84460660586648, 7.556200252798724, 6.962768380623459, 8.152352139375209, 6.846007324741917, 12.736038995006577, 9.076037937770483, 25.203122255305885, 10.020247824727429, 7.823740340370444, 7.35796292271847, 29.938844693962455, 50.42816769532543, 10.607894815137254, 24.469489113961703, 18.20345152004983, 29.633086446845983, 21.64545189834185, 49.918075357119335, 12.270132797611863, 22.173611998138995, 27.35817107103738, 24.26312253590609, 18.142136236178587, 11.503359959950174, 21.31934599822238, 31.829483730391058, 18.488921430780398, 15.488918997724841, 19.654976907503503, 14.079997671613391, 22.776979477824835, 22.224400834179757, 17.773037060198718, 17.204980344106964, 16.217943896997806, 18.15568162446136, 17.17631563492456, 18.39690366043007, 17.672070053290863, 19.592462750612796, 7.7652133641942696, 6.055680327916523, 5.235487553135538, 5.226413586393103, 4.390921136587233, 4.390311043728355, 4.388947200809179, 3.5472800753298386, 3.5464110834244797, 3.5446677909878175, 3.543019575836798, 3.542818340865712, 7.720037157027456, 2.7026883123963774, 2.702687402508128, 2.70236118906687, 2.702154454069261, 2.7020996436889644, 2.7018573610999743, 2.7018055249206423, 2.701291621555625, 2.700880754652583, 2.700808918805426, 2.7008314418532273, 2.7000558937525376, 3.3258401881028075, 5.236258324191812, 7.682049472040512, 4.394050742274051, 11.346783189878872, 11.147275136773166, 20.142267371883296, 4.3930995430555715, 10.8205489390516, 5.104843443470697, 15.487730898469406, 10.578514540233966, 4.993109302612594, 6.895132515351075, 34.6361186855395, 42.36255464764723, 24.23091396404024, 14.56723816814848, 13.244872947687108, 13.259216822224039, 28.785845244509698, 24.910435914438075, 10.84684400890479, 15.410779738603612, 26.84510255264607, 11.791990703981007, 28.837497621036952, 29.896267179137233, 19.918649042552982, 35.38766914181498, 19.321733944991234, 17.614040837604882, 19.80808010032866, 13.216138711315947, 18.68427001827839, 21.110391816816257, 15.415804961291144, 16.283603420224747, 15.753897248359642, 21.09623597142953, 16.081223929556607, 16.29321191048166, 22.82080642106414, 13.642098370586169, 14.509375772151039, 15.059401283999714, 15.044121180624797], \"Total\": [185.0, 187.0, 147.0, 118.0, 144.0, 86.0, 187.0, 110.0, 190.0, 59.0, 67.0, 46.0, 58.0, 45.0, 65.0, 43.0, 163.0, 35.0, 59.0, 36.0, 208.0, 20.0, 36.0, 116.0, 92.0, 112.0, 31.0, 70.0, 50.0, 33.0, 46.72332023555717, 45.82379464964723, 26.941229054880612, 31.43384792607657, 59.240733922333575, 19.74754440812531, 43.96477382387181, 17.050143303472577, 32.31919077448578, 8.957321948524958, 32.22406894751879, 118.20987868858205, 8.058052956175228, 8.058010041030053, 8.058028867786613, 58.319215164035995, 21.46257722808321, 185.37235672820097, 16.988323804981572, 17.874486130463396, 6.259832939369369, 6.259795961425573, 6.2596441185284215, 6.259702060330149, 6.259542745078429, 15.191788215717843, 187.09079444490206, 7.1503568010058745, 86.97787865206888, 30.437044620487125, 59.10842378014302, 34.79679405608635, 65.41172064911152, 25.884179417509927, 50.76918014786294, 21.408564514218945, 187.9835544364484, 50.623435104093396, 116.784473337981, 36.41498992868998, 209.76600466706557, 75.53973288496103, 163.31193113624585, 190.84227311471128, 87.19423036237583, 61.133660367303406, 118.62608823099501, 81.68877812685514, 70.69928209534791, 131.6512677697159, 97.21586893981424, 150.66524885699667, 315.3630551475905, 144.57810853546255, 93.24882465766396, 174.7987472541837, 95.82029505029394, 110.75184986544436, 262.64473520791626, 175.77107691044853, 231.13287406169056, 208.17416872167354, 28.184555341527407, 8.788950195871104, 7.908446880695884, 7.908479919851229, 6.147526689659043, 6.147468585778094, 6.147531054932629, 6.148714461097752, 5.2670192773712285, 5.267186077684788, 10.517534589915034, 4.386580519785921, 4.386580482756737, 4.386580445287911, 4.386580443107326, 4.3865953973657, 4.386559617494557, 4.386525901836555, 4.386589479385605, 4.3866568087762365, 4.386424420593719, 4.386464074755106, 4.386171601331441, 21.006695644773476, 13.999031021298297, 3.5061074732055535, 3.506107418646421, 3.5061074020765943, 3.5061073965818403, 3.50610739509312, 110.02670526327205, 5.274638902228457, 15.789721545287186, 147.2028355186324, 71.42046194796683, 20.9294089515972, 21.857481155640745, 17.507931416226025, 43.19229616361473, 10.481487356631485, 176.44169200571062, 55.371550953872585, 14.87406782284822, 231.13287406169056, 69.45781872128985, 58.94239788756388, 32.67453421411154, 9.597699618961785, 84.97132051590131, 54.90682523481673, 75.55422258257258, 65.56690891674249, 208.17416872167354, 35.929049270896854, 315.3630551475905, 92.88222708731772, 126.72642473044547, 55.70743270859739, 81.19701003222575, 262.64473520791626, 102.52256990716282, 34.94846710030741, 62.140521183733675, 40.70548102196398, 70.78029210666023, 82.95627972121531, 93.24882465766396, 174.7987472541837, 112.42631009005049, 131.6512677697159, 175.77107691044853, 136.2373188098326, 209.76600466706557, 190.84227311471128, 187.9835544364484, 141.59615270603067, 8.518436706835619, 5.116899533113641, 4.2663103195476175, 4.2663766591849095, 4.266435974456533, 4.26649280448118, 4.266661452400861, 8.517281171864605, 3.4159058025774125, 3.4159182469553477, 3.415929212723458, 3.415940959842717, 3.4159775875754583, 3.4160132208585208, 3.4160187839962535, 3.415984659394966, 3.4158999895805415, 3.4174020607797724, 13.689962983614926, 6.815937384756703, 6.811900359458716, 6.817179236200314, 3.4211930174440432, 3.4158763438193556, 3.4206113292380373, 5.961344767967732, 5.961430058340573, 5.965621220612047, 5.997047654656383, 5.997229967974373, 6.825298642785739, 13.731874814943152, 8.515126112110622, 8.5609773385222, 36.1333548858173, 11.159799875711311, 6.883285900744284, 38.736582871926906, 44.54907823421913, 12.11487421568079, 5.965432221060173, 5.9657217883942835, 6.021309063606816, 27.576501810334562, 41.18259579407086, 38.47553292386906, 18.961735307267215, 21.54169758913303, 51.266127164835304, 18.839829379841888, 147.2028355186324, 18.79585600059232, 150.66524885699667, 16.35561704460358, 63.913118617262185, 120.1175703711445, 117.77794311003433, 83.24156819219215, 190.84227311471128, 144.57810853546255, 95.82029505029394, 95.96948362226898, 75.78786501611305, 22.944426641359247, 52.987874206679166, 208.17416872167354, 86.35156618193106, 174.7987472541837, 231.13287406169056, 175.77107691044853, 176.44169200571062, 92.55267790681228, 262.64473520791626, 121.16605642419582, 136.2373188098326, 141.59615270603067, 315.3630551475905, 92.88222708731772, 209.76600466706557, 9.352512816212595, 9.35257392654006, 5.957389783193918, 5.957864525779666, 5.108572137730748, 5.108830365470434, 11.083264709603858, 10.20289111787661, 4.259854072706097, 4.259852061535487, 4.259884232124896, 4.259861871513174, 4.259918817115743, 3.411022648525837, 3.4110226501871335, 3.4110588294515547, 3.4110539766262336, 3.4110245951691107, 3.4110934926809784, 3.4110509203079884, 3.4110635614010314, 3.411025555110362, 3.411027267718961, 3.4111717950855462, 3.4114466345529877, 3.411069420511171, 3.4126884442543033, 5.131543425995025, 6.807757740315151, 6.007602331315914, 23.894030587833242, 35.42302826205131, 67.71886423413497, 29.724786431759817, 36.41238074940468, 8.57514408314422, 16.16687849619322, 38.47800372057469, 12.00512450619221, 11.176637255520593, 13.666097888548196, 11.120947480392399, 24.784129037650743, 16.29924192768707, 66.88032075189982, 19.628114455824942, 13.654438981498588, 12.92162196655393, 112.42631009005049, 262.64473520791626, 23.14442339978514, 86.21703109267241, 54.09271871654946, 120.1175703711445, 72.1828734253168, 315.3630551475905, 29.596885603751613, 82.95627972121531, 126.72642473044547, 108.58151541496576, 62.89921737689499, 26.932606430136907, 92.88222708731772, 208.17416872167354, 76.5627828331778, 53.721461521246304, 94.32428694571499, 43.50862997794452, 175.77107691044853, 174.7987472541837, 90.20914512931805, 85.4512645804943, 84.97132051590131, 141.59615270603067, 117.77794311003433, 176.44169200571062, 209.76600466706557, 20.29034571133466, 8.466165265590071, 6.778218962015884, 5.93227683402586, 5.932364363631744, 5.087673597636713, 5.087723872195518, 5.087801896393343, 4.243054849009378, 4.2430917200997555, 4.243165746269614, 4.2432889104069895, 4.243228100253964, 9.34858154916408, 3.3984632759532816, 3.398463299076701, 3.3984843713277364, 3.3984929910896993, 3.3984882550465567, 3.3984985025519197, 3.3985007183841627, 3.398553377342477, 3.3985398324179013, 3.3985391872009325, 3.3985831707252467, 3.398552559124518, 4.244186277028845, 6.812560613296075, 10.208704413438525, 5.938043735107904, 15.428214243424039, 16.24658254392801, 34.091142081018134, 5.938073883460673, 19.958164106545773, 7.668778188678981, 33.65884759713025, 20.599612750825408, 7.631182790322894, 11.93522133044911, 106.34721499685723, 144.57810853546255, 70.78029210666023, 41.50608025007756, 35.90083861148332, 36.127220524003505, 141.59615270603067, 112.42631009005049, 27.649730017360355, 50.85487882141807, 136.2373188098326, 32.96070246350286, 163.31193113624585, 175.77107691044853, 86.21703109267241, 262.64473520791626, 84.98717894630738, 72.31681871472225, 94.32428694571499, 41.60031531264621, 90.20914512931805, 121.16605642419582, 62.140521183733675, 72.1828734253168, 66.88032075189982, 176.44169200571062, 78.20828825815991, 85.4512645804943, 315.3630551475905, 54.09271871654946, 97.21586893981424, 174.7987472541837, 231.13287406169056], \"Category\": [\"Default\", \"Default\", \"Default\", \"Default\", \"Default\", \"Default\", \"Default\", \"Default\", \"Default\", \"Default\", \"Default\", \"Default\", \"Default\", \"Default\", \"Default\", \"Default\", \"Default\", \"Default\", \"Default\", \"Default\", \"Default\", \"Default\", \"Default\", \"Default\", \"Default\", \"Default\", \"Default\", \"Default\", \"Default\", \"Default\", \"Topic1\", \"Topic1\", \"Topic1\", \"Topic1\", \"Topic1\", \"Topic1\", \"Topic1\", \"Topic1\", \"Topic1\", \"Topic1\", \"Topic1\", \"Topic1\", \"Topic1\", \"Topic1\", \"Topic1\", \"Topic1\", \"Topic1\", \"Topic1\", \"Topic1\", \"Topic1\", \"Topic1\", \"Topic1\", \"Topic1\", \"Topic1\", \"Topic1\", \"Topic1\", \"Topic1\", \"Topic1\", \"Topic1\", \"Topic1\", \"Topic1\", \"Topic1\", \"Topic1\", \"Topic1\", \"Topic1\", \"Topic1\", \"Topic1\", \"Topic1\", \"Topic1\", \"Topic1\", \"Topic1\", \"Topic1\", \"Topic1\", \"Topic1\", \"Topic1\", \"Topic1\", \"Topic1\", \"Topic1\", \"Topic1\", \"Topic1\", \"Topic1\", \"Topic1\", \"Topic1\", \"Topic1\", \"Topic1\", \"Topic1\", \"Topic1\", \"Topic1\", \"Topic1\", \"Topic1\", \"Topic1\", \"Topic1\", \"Topic2\", \"Topic2\", \"Topic2\", \"Topic2\", \"Topic2\", \"Topic2\", \"Topic2\", \"Topic2\", \"Topic2\", \"Topic2\", \"Topic2\", \"Topic2\", \"Topic2\", \"Topic2\", \"Topic2\", \"Topic2\", \"Topic2\", \"Topic2\", \"Topic2\", \"Topic2\", \"Topic2\", \"Topic2\", \"Topic2\", \"Topic2\", \"Topic2\", \"Topic2\", \"Topic2\", \"Topic2\", \"Topic2\", \"Topic2\", \"Topic2\", \"Topic2\", \"Topic2\", \"Topic2\", \"Topic2\", \"Topic2\", \"Topic2\", \"Topic2\", \"Topic2\", \"Topic2\", \"Topic2\", \"Topic2\", \"Topic2\", \"Topic2\", \"Topic2\", \"Topic2\", \"Topic2\", \"Topic2\", \"Topic2\", \"Topic2\", \"Topic2\", \"Topic2\", \"Topic2\", \"Topic2\", \"Topic2\", \"Topic2\", \"Topic2\", \"Topic2\", \"Topic2\", \"Topic2\", \"Topic2\", \"Topic2\", \"Topic2\", \"Topic2\", \"Topic2\", \"Topic2\", \"Topic2\", \"Topic2\", \"Topic2\", \"Topic2\", \"Topic2\", \"Topic2\", \"Topic2\", \"Topic2\", \"Topic2\", \"Topic2\", \"Topic3\", \"Topic3\", \"Topic3\", \"Topic3\", \"Topic3\", \"Topic3\", \"Topic3\", \"Topic3\", \"Topic3\", \"Topic3\", \"Topic3\", \"Topic3\", \"Topic3\", \"Topic3\", \"Topic3\", \"Topic3\", \"Topic3\", \"Topic3\", \"Topic3\", \"Topic3\", \"Topic3\", \"Topic3\", \"Topic3\", \"Topic3\", \"Topic3\", \"Topic3\", \"Topic3\", \"Topic3\", \"Topic3\", \"Topic3\", \"Topic3\", \"Topic3\", \"Topic3\", \"Topic3\", \"Topic3\", \"Topic3\", \"Topic3\", \"Topic3\", \"Topic3\", \"Topic3\", \"Topic3\", \"Topic3\", \"Topic3\", \"Topic3\", \"Topic3\", \"Topic3\", \"Topic3\", \"Topic3\", \"Topic3\", \"Topic3\", \"Topic3\", \"Topic3\", \"Topic3\", \"Topic3\", \"Topic3\", \"Topic3\", \"Topic3\", \"Topic3\", \"Topic3\", \"Topic3\", \"Topic3\", \"Topic3\", \"Topic3\", \"Topic3\", \"Topic3\", \"Topic3\", \"Topic3\", \"Topic3\", \"Topic3\", \"Topic3\", \"Topic3\", \"Topic3\", \"Topic3\", \"Topic3\", \"Topic3\", \"Topic3\", \"Topic3\", \"Topic3\", \"Topic3\", \"Topic4\", \"Topic4\", \"Topic4\", \"Topic4\", \"Topic4\", \"Topic4\", \"Topic4\", \"Topic4\", \"Topic4\", \"Topic4\", \"Topic4\", \"Topic4\", \"Topic4\", \"Topic4\", \"Topic4\", \"Topic4\", \"Topic4\", \"Topic4\", \"Topic4\", \"Topic4\", \"Topic4\", \"Topic4\", \"Topic4\", \"Topic4\", \"Topic4\", \"Topic4\", \"Topic4\", \"Topic4\", \"Topic4\", \"Topic4\", \"Topic4\", \"Topic4\", \"Topic4\", \"Topic4\", \"Topic4\", \"Topic4\", \"Topic4\", \"Topic4\", \"Topic4\", \"Topic4\", \"Topic4\", \"Topic4\", \"Topic4\", \"Topic4\", \"Topic4\", \"Topic4\", \"Topic4\", \"Topic4\", \"Topic4\", \"Topic4\", \"Topic4\", \"Topic4\", \"Topic4\", \"Topic4\", \"Topic4\", \"Topic4\", \"Topic4\", \"Topic4\", \"Topic4\", \"Topic4\", \"Topic4\", \"Topic4\", \"Topic4\", \"Topic4\", \"Topic4\", \"Topic4\", \"Topic4\", \"Topic4\", \"Topic4\", \"Topic4\", \"Topic4\", \"Topic4\", \"Topic4\", \"Topic4\", \"Topic4\", \"Topic4\", \"Topic4\", \"Topic5\", \"Topic5\", \"Topic5\", \"Topic5\", \"Topic5\", \"Topic5\", \"Topic5\", \"Topic5\", \"Topic5\", \"Topic5\", \"Topic5\", \"Topic5\", \"Topic5\", \"Topic5\", \"Topic5\", \"Topic5\", \"Topic5\", \"Topic5\", \"Topic5\", \"Topic5\", \"Topic5\", \"Topic5\", \"Topic5\", \"Topic5\", \"Topic5\", \"Topic5\", \"Topic5\", \"Topic5\", \"Topic5\", \"Topic5\", \"Topic5\", \"Topic5\", \"Topic5\", \"Topic5\", \"Topic5\", \"Topic5\", \"Topic5\", \"Topic5\", \"Topic5\", \"Topic5\", \"Topic5\", \"Topic5\", \"Topic5\", \"Topic5\", \"Topic5\", \"Topic5\", \"Topic5\", \"Topic5\", \"Topic5\", \"Topic5\", \"Topic5\", \"Topic5\", \"Topic5\", \"Topic5\", \"Topic5\", \"Topic5\", \"Topic5\", \"Topic5\", \"Topic5\", \"Topic5\", \"Topic5\", \"Topic5\", \"Topic5\", \"Topic5\", \"Topic5\", \"Topic5\", \"Topic5\", \"Topic5\", \"Topic5\", \"Topic5\", \"Topic5\", \"Topic5\", \"Topic5\"], \"logprob\": [30.0, 29.0, 28.0, 27.0, 26.0, 25.0, 24.0, 23.0, 22.0, 21.0, 20.0, 19.0, 18.0, 17.0, 16.0, 15.0, 14.0, 13.0, 12.0, 11.0, 10.0, 9.0, 8.0, 7.0, 6.0, 5.0, 4.0, 3.0, 2.0, 1.0, -5.3146, -5.3344, -5.8761, -5.7231, -5.0955, -6.1964, -5.3984, -6.3488, -5.7156, -7.0313, -5.7532, -4.4544, -7.1466, -7.1466, -7.1466, -5.1693, -6.1743, -4.0222, -6.4186, -6.3759, -7.4258, -7.426, -7.4263, -7.4264, -7.4266, -6.5442, -4.0352, -7.3012, -4.8074, -5.8595, -5.2104, -5.7389, -5.1256, -6.0388, -5.399, -6.2357, -4.2365, -5.4538, -4.7406, -5.8022, -4.2817, -5.1769, -4.5622, -4.4476, -5.1133, -5.401, -4.9172, -5.2201, -5.3365, -4.9223, -5.1338, -4.8962, -4.4841, -4.9225, -5.1962, -5.0428, -5.2582, -5.2229, -5.0161, -5.1814, -5.1481, -5.1711, -5.7794, -6.9576, -7.0712, -7.0715, -7.3506, -7.3509, -7.3511, -7.3615, -7.5267, -7.5279, -6.8548, -7.7401, -7.7401, -7.7401, -7.7401, -7.7403, -7.7404, -7.7405, -7.7406, -7.7411, -7.7417, -7.742, -7.7429, -6.18, -6.6177, -8.012, -8.012, -8.012, -8.012, -8.012, -4.6236, -7.6088, -6.5457, -4.4229, -5.1219, -6.298, -6.2829, -6.491, -5.6877, -6.9641, -4.5244, -5.5361, -6.6837, -4.3335, -5.3716, -5.5116, -6.0258, -7.0714, -5.2238, -5.597, -5.376, -5.4903, -4.5867, -5.9968, -4.352, -5.2895, -5.0568, -5.6917, -5.4416, -4.6426, -5.3026, -6.0343, -5.667, -5.9428, -5.6356, -5.5622, -5.5156, -5.2095, -5.4357, -5.4135, -5.345, -5.4585, -5.4267, -5.4611, -5.4683, -5.5425, -6.5163, -7.0887, -7.3001, -7.3004, -7.3008, -7.3014, -7.3021, -6.6313, -7.5719, -7.572, -7.572, -7.5721, -7.5723, -7.5726, -7.5726, -7.5727, -7.573, -7.5815, -6.1982, -6.9101, -6.9112, -6.9117, -7.629, -7.6325, -7.641, -7.0861, -7.0867, -7.0864, -7.0851, -7.0862, -6.9684, -6.2923, -6.7607, -6.7597, -5.437, -6.516, -6.9682, -5.4918, -5.3747, -6.5154, -7.1048, -7.1117, -7.1079, -5.9049, -5.5957, -5.6594, -6.2094, -6.1636, -5.5505, -6.2676, -4.8272, -6.2813, -4.8687, -6.3799, -5.4532, -5.048, -5.0784, -5.3566, -4.8411, -5.0544, -5.3043, -5.3293, -5.4839, -6.1917, -5.7292, -4.9772, -5.5006, -5.1502, -5.0265, -5.1737, -5.1968, -5.5219, -5.0794, -5.4403, -5.4284, -5.4332, -5.2585, -5.5816, -5.5917, -6.3347, -6.3349, -6.8327, -6.8343, -7.0088, -7.0094, -6.2454, -6.3341, -7.2221, -7.2226, -7.2234, -7.2239, -7.2262, -7.4938, -7.4938, -7.494, -7.4941, -7.4942, -7.4944, -7.4945, -7.4945, -7.4946, -7.4947, -7.4952, -7.4975, -7.5028, -7.5042, -7.1028, -6.832, -7.0078, -5.6272, -5.323, -4.7709, -5.5549, -5.3852, -6.6871, -6.1536, -5.5051, -6.4706, -6.5524, -6.3947, -6.5693, -5.9486, -6.2874, -5.266, -6.1884, -6.4358, -6.4972, -5.0938, -4.5724, -6.1314, -5.2956, -5.5914, -5.1041, -5.4182, -4.5826, -5.9858, -5.3941, -5.184, -5.304, -5.5948, -6.0504, -5.4334, -5.0326, -5.5758, -5.7529, -5.5147, -5.8482, -5.3672, -5.3918, -5.6153, -5.6478, -5.7069, -5.594, -5.6495, -5.5808, -5.621, -5.4515, -6.377, -6.6257, -6.7712, -6.773, -6.9472, -6.9473, -6.9476, -7.1605, -7.1608, -7.1612, -7.1617, -7.1618, -6.3829, -7.4324, -7.4324, -7.4326, -7.4326, -7.4327, -7.4328, -7.4328, -7.433, -7.4331, -7.4331, -7.4331, -7.4334, -7.225, -6.7711, -6.3878, -6.9464, -5.9978, -6.0155, -5.4239, -6.9467, -6.0452, -6.7965, -5.6866, -6.0679, -6.8186, -6.4959, -4.8818, -4.6804, -5.2391, -5.7479, -5.8431, -5.842, -5.0668, -5.2114, -6.0428, -5.6916, -5.1366, -5.9593, -5.065, -5.029, -5.435, -4.8603, -5.4655, -5.558, -5.4406, -5.8453, -5.499, -5.3769, -5.6913, -5.6365, -5.6696, -5.3776, -5.649, -5.6359, -5.299, -5.8135, -5.7519, -5.7147, -5.7157], \"loglift\": [30.0, 29.0, 28.0, 27.0, 26.0, 25.0, 24.0, 23.0, 22.0, 21.0, 20.0, 19.0, 18.0, 17.0, 16.0, 15.0, 14.0, 13.0, 12.0, 11.0, 10.0, 9.0, 8.0, 7.0, 6.0, 5.0, 4.0, 3.0, 2.0, 1.0, 1.233, 1.2326, 1.2221, 1.2209, 1.2147, 1.2124, 1.2101, 1.2069, 1.2006, 1.1681, 1.1659, 1.165, 1.1586, 1.1586, 1.1586, 1.1566, 1.1512, 1.1473, 1.1408, 1.1326, 1.1319, 1.1317, 1.1314, 1.1313, 1.1311, 1.1269, 1.125, 1.1235, 1.1188, 1.1167, 1.102, 1.1034, 1.0855, 1.0994, 1.0656, 1.0923, 0.919, 1.0136, 0.8909, 0.9947, 0.7642, 0.8903, 0.7339, 0.6928, 0.8105, 0.8778, 0.6986, 0.7688, 0.7969, 0.5894, 0.6811, 0.4806, 0.154, 0.4955, 0.6604, 0.1854, 0.5712, 0.4616, -0.195, 0.0412, -0.1992, -0.1177, 1.2737, 1.2607, 1.2528, 1.2524, 1.2252, 1.2249, 1.2247, 1.2141, 1.2037, 1.2025, 1.184, 1.1732, 1.1732, 1.1732, 1.1732, 1.173, 1.1729, 1.1728, 1.1727, 1.1722, 1.1717, 1.1714, 1.1705, 1.167, 1.1352, 1.1253, 1.1253, 1.1253, 1.1253, 1.1253, 1.0675, 1.1202, 1.0868, 0.9772, 1.0013, 1.0527, 1.0244, 1.0382, 0.9385, 1.0781, 0.6945, 0.8417, 1.0085, 0.6153, 0.7795, 0.8037, 0.8795, 1.0589, 0.7257, 0.7892, 0.691, 0.7185, 0.4668, 0.8135, 0.2861, 0.571, 0.493, 0.6801, 0.5533, 0.1784, 0.4591, 0.8037, 0.5954, 0.7427, 0.4967, 0.4114, 0.341, 0.0187, 0.2339, 0.0981, -0.1223, 0.019, -0.3808, -0.3207, -0.3128, -0.1037, 1.7334, 1.6706, 1.641, 1.6407, 1.6403, 1.6397, 1.6389, 1.6185, 1.5915, 1.5914, 1.5914, 1.5913, 1.5911, 1.5908, 1.5907, 1.5907, 1.5904, 1.5815, 1.577, 1.5624, 1.562, 1.5607, 1.5329, 1.5309, 1.5211, 1.5205, 1.5198, 1.5194, 1.5155, 1.5143, 1.5028, 1.4799, 1.4893, 1.4849, 1.3676, 1.4635, 1.4945, 1.2433, 1.2206, 1.382, 1.5011, 1.4941, 1.4887, 1.17, 1.0781, 1.0825, 1.24, 1.1582, 0.9044, 1.1883, 0.5728, 1.1769, 0.508, 1.2174, 0.7812, 0.5554, 0.5447, 0.6135, 0.2993, 0.3636, 0.525, 0.4985, 0.58, 1.0671, 0.6926, 0.0763, 0.4328, 0.0781, -0.0777, 0.049, 0.022, 0.3422, -0.2583, 0.1544, 0.049, 0.0056, -0.6204, 0.279, -0.5458, 1.8215, 1.8213, 1.7745, 1.7729, 1.7522, 1.7515, 1.741, 1.7351, 1.7205, 1.72, 1.7192, 1.7188, 1.7164, 1.671, 1.671, 1.6708, 1.6707, 1.6707, 1.6705, 1.6704, 1.6703, 1.6702, 1.6702, 1.6696, 1.6672, 1.662, 1.6602, 1.6536, 1.6418, 1.591, 1.591, 1.5015, 1.4056, 1.4449, 1.4117, 1.5559, 1.4553, 1.2367, 1.4359, 1.4256, 1.3822, 1.4137, 1.2331, 1.3134, 0.9229, 1.2265, 1.342, 1.3357, 0.5757, 0.2486, 1.1187, 0.6394, 0.8098, 0.4993, 0.6944, 0.0555, 1.0184, 0.5794, 0.3658, 0.4003, 0.6556, 1.0482, 0.4271, 0.0209, 0.4779, 0.6552, 0.3304, 0.7707, -0.1446, -0.1636, 0.2744, 0.2961, 0.2427, -0.1551, -0.0264, -0.362, -0.5752, 1.9302, 1.8787, 1.8524, 1.8402, 1.8385, 1.8179, 1.8177, 1.8174, 1.7861, 1.7858, 1.7853, 1.7848, 1.7848, 1.7738, 1.7361, 1.7361, 1.736, 1.7359, 1.7359, 1.7358, 1.7357, 1.7355, 1.7354, 1.7354, 1.7354, 1.7351, 1.7213, 1.702, 1.6808, 1.664, 1.6579, 1.5885, 1.4389, 1.6638, 1.353, 1.5582, 1.1889, 1.2987, 1.541, 1.4165, 0.8433, 0.7376, 0.8932, 0.9181, 0.968, 0.9628, 0.3721, 0.4582, 1.0294, 0.7713, 0.3408, 0.9373, 0.2312, 0.1937, 0.5, -0.0393, 0.4839, 0.5528, 0.4045, 0.8185, 0.3907, 0.2178, 0.5712, 0.4761, 0.5193, -0.1587, 0.3834, 0.308, -0.6609, 0.5876, 0.063, -0.4865, -0.7668]}, \"token.table\": {\"Topic\": [4, 5, 1, 2, 3, 4, 5, 1, 3, 5, 2, 5, 1, 2, 4, 5, 4, 1, 2, 3, 4, 5, 3, 2, 3, 4, 5, 3, 5, 1, 2, 3, 4, 1, 2, 3, 5, 2, 3, 4, 5, 4, 3, 5, 1, 2, 3, 4, 5, 1, 2, 3, 4, 5, 2, 1, 1, 2, 1, 2, 3, 4, 1, 2, 3, 5, 1, 2, 3, 4, 5, 2, 3, 4, 1, 2, 4, 5, 2, 4, 1, 3, 1, 2, 3, 4, 1, 3, 4, 3, 2, 3, 4, 5, 1, 5, 5, 2, 3, 5, 3, 2, 1, 4, 2, 3, 5, 2, 4, 5, 1, 2, 3, 4, 5, 1, 2, 3, 4, 5, 3, 5, 3, 1, 3, 4, 5, 3, 5, 2, 3, 5, 3, 4, 5, 1, 2, 3, 2, 5, 1, 2, 3, 4, 5, 2, 3, 4, 5, 1, 2, 3, 4, 1, 4, 2, 5, 5, 1, 2, 3, 5, 1, 2, 3, 4, 1, 4, 1, 2, 3, 4, 5, 5, 3, 5, 1, 2, 4, 4, 5, 4, 1, 4, 1, 2, 3, 4, 5, 4, 1, 2, 4, 2, 3, 4, 5, 2, 3, 4, 5, 1, 3, 4, 1, 2, 3, 5, 3, 1, 2, 3, 4, 5, 4, 5, 1, 1, 2, 3, 4, 5, 1, 3, 1, 2, 3, 5, 1, 2, 4, 5, 2, 4, 5, 4, 5, 1, 1, 2, 3, 5, 2, 5, 1, 2, 3, 1, 2, 3, 4, 5, 3, 4, 1, 3, 1, 2, 3, 4, 5, 3, 2, 3, 4, 5, 3, 1, 2, 3, 4, 5, 1, 2, 1, 2, 3, 4, 5, 4, 1, 2, 3, 4, 5, 1, 2, 3, 4, 5, 5, 2, 1, 1, 1, 2, 3, 4, 5, 1, 5, 5, 5, 2, 3, 4, 5, 1, 2, 3, 5, 3, 4, 1, 2, 3, 4, 5, 2, 4, 2, 5, 2, 3, 4, 5, 3, 4, 1, 2, 3, 4, 5, 1, 4, 1, 2, 3, 4, 5, 3, 4, 1, 2, 4, 5, 4, 3, 4, 5, 3, 3, 1, 2, 3, 4, 5, 2, 3, 4, 5, 2, 1, 2, 1, 3, 4, 5, 2, 4, 5, 1, 2, 3, 4, 4, 5, 1, 2, 3, 4, 5, 1, 3, 4, 5, 5, 1, 2, 3, 4, 5, 2, 3, 4, 5, 1, 2, 3, 4, 5, 1, 2, 3, 4, 5, 1, 2, 3, 4, 1, 2, 3, 4, 5, 2, 2, 3, 4, 5, 1, 2, 3, 4, 5, 2, 3, 4, 2, 3, 4, 1, 2, 3, 4, 5, 1, 2, 3, 4, 5, 2, 3, 4, 5, 4, 1, 2, 3, 4, 2, 2, 1, 3, 1, 2, 3, 4, 5, 1, 3, 1, 2, 3, 4, 5, 1, 2, 4, 5, 1, 2, 3, 4, 5, 1, 2, 3, 4, 5, 2, 3, 1, 2, 3, 4, 1, 2, 4, 5, 2, 4, 5, 5, 2, 1, 4, 5, 1, 2, 3, 4, 1, 2, 3, 1, 2, 3, 4, 5, 2, 3, 3, 1, 2, 3, 4, 5, 3, 2, 1, 3, 5, 2, 1, 5, 1, 2, 5, 1, 2, 3, 5, 3, 4, 1, 2, 3, 4, 5, 1, 2, 1, 2, 4, 2, 2, 1, 2, 3, 4, 5, 2, 3, 4, 5, 1, 2, 3, 4, 5, 1, 2, 2, 1, 2, 4, 5, 1, 2, 3, 4, 5, 5, 1, 3, 4, 1, 2, 4, 5, 1, 3, 4, 5, 1, 2, 3, 4, 5, 2, 5, 1, 4, 4, 2, 3, 4, 4, 1, 2, 3, 4, 5, 1, 2, 3, 4, 5, 1, 2, 1, 2, 3, 4, 5, 5, 3, 5, 5, 3, 4, 1, 3, 4, 5, 4, 1, 5, 1, 3, 4, 5, 2, 1, 2, 3, 4, 5, 1, 2, 3, 4, 2, 3, 4, 5, 1, 2, 4, 5, 2, 3, 4, 5, 1, 2, 3, 4, 5, 1, 3, 5, 1, 4, 2, 4, 2, 3, 4, 5, 2, 3, 4, 1, 4, 1, 2, 3, 4, 5, 2, 4, 5, 2, 3, 4, 3, 2, 3, 1, 2, 3, 1, 2, 4, 5, 1, 2, 3, 4, 5, 1, 2, 3, 4, 5, 3, 4, 1, 2, 3, 4, 5, 1, 2, 3, 4, 5, 1, 5, 1, 2, 3, 4, 5, 1, 3, 5, 1, 2, 4, 3, 2, 4, 5, 3, 1, 2, 3, 4, 5, 1, 2, 3, 4, 5, 4, 1, 2, 3, 4, 5, 1, 2, 3, 4, 5, 1, 2, 3, 4, 5, 1, 2, 3, 4, 5, 2, 4, 1, 2, 3, 4, 5, 2, 4, 1, 2, 3, 4, 5, 1, 2, 3, 4, 1, 2, 3, 4, 5, 2, 3, 4, 5, 1, 2, 3, 4, 5, 5], \"Freq\": [0.9389975827031061, 0.8827454370469502, 0.9584920329526325, 0.29138522641954645, 0.48564204403257744, 0.04856420440325774, 0.1699747154114021, 0.11680909322119763, 0.7008545593271858, 0.11680909322119763, 0.8133429118397264, 0.8827287346036553, 0.21183618061615891, 0.5413591282412951, 0.18829882721436347, 0.05884338350448859, 0.8794923072265961, 0.07232725503317809, 0.3977999026824795, 0.1325999675608265, 0.265199935121653, 0.1325999675608265, 0.9375637266786002, 0.7140810715724004, 0.12601430674807065, 0.07000794819337258, 0.09801112747072162, 0.16840563064357902, 0.6736225225743161, 0.7181479273796765, 0.19150611396791373, 0.04255691421509194, 0.04255691421509194, 0.5576477793784848, 0.3646158557474708, 0.04289598302911421, 0.03217198727183566, 0.1255543717905672, 0.0418514572635224, 0.7533262307434032, 0.0837029145270448, 0.8794943464898864, 0.6709895427443346, 0.16774738568608366, 0.16826795536023373, 0.33653591072046746, 0.09615311734870499, 0.07211483801152874, 0.31249763138329123, 0.08312221050894895, 0.23551292977535537, 0.1523907192664064, 0.3047814385328128, 0.22165922802386387, 0.8556497739340703, 0.9650636185541765, 0.9591824317727902, 0.0309413687668642, 0.7689141217622546, 0.027461218634366236, 0.16476731180619741, 0.05492243726873247, 0.5165161046450798, 0.2886413525957799, 0.13672485122957995, 0.05317077547816998, 0.33012545906389956, 0.2393409578213272, 0.18982213896174224, 0.0742782282893774, 0.17331586600854726, 0.268822024893953, 0.7168587330505414, 0.8392268703601788, 0.06723110395287353, 0.7395421434816088, 0.13446220790574706, 0.06723110395287353, 0.3578893998751045, 0.6263064497814329, 0.8557254626910769, 0.0658250355916213, 0.09689690140116024, 0.46295186224998786, 0.21532644755813388, 0.22609276993604058, 0.827273552136885, 0.118181936019555, 0.039393978673185004, 0.939139454259301, 0.10640643341473638, 0.532032167073682, 0.266016083536841, 0.05320321670736819, 0.4509432807523728, 0.5511528986973445, 0.8827519253267461, 0.7632504555699833, 0.09540630694624791, 0.09540630694624791, 0.8778598323064946, 0.9118720269419056, 0.8951306282719524, 0.05594566426699703, 0.3321031229433423, 0.6365309856414061, 0.027675260245278523, 0.3883568150901015, 0.09708920377252538, 0.5339906207488896, 0.3706150835016179, 0.05851817107920283, 0.40962719755441984, 0.05851817107920283, 0.09753028513200472, 0.31965921460238084, 0.16622279159323802, 0.15343642300914279, 0.15343642300914279, 0.20458189734552373, 0.16840477562687486, 0.6736191025074995, 0.8782167415751491, 0.12104520580257462, 0.2017420096709577, 0.5245292251444901, 0.16139360773676617, 0.7340095621124599, 0.14680191242249196, 0.13039886868500747, 0.13039886868500747, 0.6519943434250374, 0.26913565950644813, 0.6391971913278144, 0.10092587231491805, 0.7016175193618087, 0.14561873043358295, 0.14561873043358295, 0.1069680993572139, 0.8557447948577112, 0.23673042196062705, 0.4261147595291287, 0.11047419691495929, 0.21305737976456435, 0.007891014065354234, 0.8851258485754214, 0.4794192581902038, 0.43583568926382166, 0.08716713785276434, 0.035480424930692096, 0.9224910481979944, 0.7335748141087826, 0.14671496282175653, 0.8829593885890893, 0.058863959239272616, 0.7293414336671242, 0.20838326676203547, 0.882732207796264, 0.07252551515618563, 0.32636481820283536, 0.5076786060932995, 0.10878827273427846, 0.37166072630985447, 0.10136201626632395, 0.10136201626632395, 0.4054480650652958, 0.9820225571464415, 0.8795008866191084, 0.06959181873881459, 0.3479590936940729, 0.06959181873881459, 0.27836727495525837, 0.23197272912938197, 0.8428467079151493, 0.8782353194237091, 0.8827320402084683, 0.05711697037339423, 0.742520614854125, 0.1713509111201827, 0.2620825702846747, 0.6552064257116867, 0.9389926537991241, 0.3105324569831964, 0.6775253606906104, 0.44206419312309736, 0.18419341380129056, 0.04604835345032264, 0.22103209656154868, 0.11051604828077434, 0.8794910871633848, 0.18958643777065284, 0.7583457510826114, 0.8794631816322125, 0.2469186891402538, 0.5387316853969174, 0.06734146067461468, 0.13468292134922935, 0.37137277444817984, 0.5106375648662472, 0.09284319361204496, 0.9426785234007556, 0.8499400210893923, 0.07726727464449021, 0.038633637322245104, 0.576392212295026, 0.18863745129655396, 0.2200770265126463, 0.015719787608046164, 0.9375011457141017, 0.32986811272074784, 0.21111559214127862, 0.2902839391942581, 0.052778898035319655, 0.11875252057946922, 0.7829580772607372, 0.8827421997504734, 0.9585209456620897, 0.8686962021806525, 0.16674871663285087, 0.6669948665314035, 0.9389850304021226, 0.9427088226850678, 0.9584976949685738, 0.8768870930998467, 0.2647105524531361, 0.5161855772836155, 0.15882633147188166, 0.039706582867970415, 0.2730524329681879, 0.24271327374950033, 0.1516957960934377, 0.3640699106242505, 0.30244866675161947, 0.47527647632397346, 0.2160347619654425, 0.9389997451127863, 0.8827464458304822, 0.9585364689325758, 0.5113739210913616, 0.15654303706878417, 0.2713412642525592, 0.05218101235626139, 0.885129546369799, 0.8827427753013019, 0.23152276883172557, 0.6714160296120042, 0.09260910753269024, 0.14306779137549125, 0.572271165501965, 0.057227116550196494, 0.028613558275098247, 0.17168134965058948, 0.8218585084549415, 0.11740835835070593, 0.9621757906431199, 0.016880277028826666, 0.1334207267674746, 0.3291044593597707, 0.0444735755891582, 0.2668414535349492, 0.22236787794579102, 0.9375382036971263, 0.5768343538526719, 0.13572573031827573, 0.1526914466080602, 0.11876001402849126, 0.9375506919471651, 0.12565648172330302, 0.5205768528536839, 0.05385277788141558, 0.14360740768377486, 0.16155833364424674, 0.9585120732860485, 0.8556497548710819, 0.34325188791399613, 0.2631597807340637, 0.17734680875556466, 0.12585902556846526, 0.08581297197849903, 0.8795011341310094, 0.3015285616472745, 0.23325794391581609, 0.17067654432864593, 0.13085201731862853, 0.17067654432864593, 0.2683688735448358, 0.2330571796573574, 0.1624337918824006, 0.12712209799492222, 0.20480782454737467, 0.786213958744926, 0.813335224458751, 0.9845190745882244, 0.9384085350614797, 0.33612053875617043, 0.3456333841926658, 0.0887865574072903, 0.15854742394158983, 0.07293181501313131, 0.8852618116681257, 0.04659272692990135, 0.9856904502532716, 0.8827519193204304, 0.2658048123454315, 0.0738346700959532, 0.6054442947868163, 0.04430080205757192, 0.5657512564543363, 0.2365868890627225, 0.05143193240493967, 0.154295797214819, 0.6704972410516362, 0.16762431026290905, 0.06258496043595731, 0.3755097626157438, 0.3598635225067545, 0.10952368076292528, 0.09387744065393595, 0.855713848436481, 0.09507931649294234, 0.8133346469210793, 0.8827207837199434, 0.2079243454750705, 0.4678297773189086, 0.02599054318438381, 0.28589597502822195, 0.7334411824540565, 0.1466882364908113, 0.08356350759562517, 0.11141801012750023, 0.22283602025500046, 0.22283602025500046, 0.3621085329143757, 0.16645575802966947, 0.6658230321186779, 0.04319168173187183, 0.5614918625143338, 0.14397227243957275, 0.1295750451956155, 0.11517781795165821, 0.878224084452228, 0.8793923286427429, 0.018177405160087246, 0.7543623141436208, 0.13633053870065434, 0.08179832322039261, 0.8795016356269038, 0.6705297875782624, 0.1676324468945656, 0.942692376209109, 0.8782443584177297, 0.8782259025678489, 0.7021481337051311, 0.03425112847342103, 0.13700451389368412, 0.09419060330190783, 0.03425112847342103, 0.1464725136426292, 0.1464725136426292, 0.5858900545705168, 0.1464725136426292, 0.9118720264886108, 0.9087913794951715, 0.08573503580143128, 0.24456429794678836, 0.5502696703802739, 0.18342322346009127, 0.06114107448669709, 0.8568696526280396, 0.04760386959044664, 0.09520773918089329, 0.15821336767897132, 0.15821336767897132, 0.5801156814895615, 0.10547557845264754, 0.8392937480950533, 0.9426650139682206, 0.3449862373290327, 0.2642447775286208, 0.16882305230995218, 0.022020398127385064, 0.1981835831464656, 0.1018946575077908, 0.25473664376947697, 0.5094732875389539, 0.1018946575077908, 0.882744206878024, 0.46460614196735056, 0.13274461199067158, 0.27212645458087675, 0.08628399779393654, 0.05309784479626864, 0.692921434839407, 0.2853205908162264, 0.013586694800772688, 0.006793347400386344, 0.406379179380625, 0.1146197685432532, 0.2709194529204167, 0.1146197685432532, 0.09377981062629807, 0.21062166117152334, 0.2882191152873477, 0.09976815529177421, 0.19953631058354843, 0.21062166117152334, 0.8819247386786432, 0.06413998099481041, 0.005344998416234201, 0.04810498574610781, 0.23363184583421534, 0.484569754322817, 0.15142804822588032, 0.06489773495394871, 0.06489773495394871, 0.9118962179630566, 0.41335967416266584, 0.19078138807507652, 0.2861720821126148, 0.09539069403753826, 0.39373923952191675, 0.13896679041950002, 0.2547724491024167, 0.08106396107804169, 0.13896679041950002, 0.21846980404564803, 0.7282326801521601, 0.9623019364177864, 0.9118763561418674, 0.8782411589252579, 0.8795004450392959, 0.05866626571931702, 0.08799939857897553, 0.14666566429829256, 0.11733253143863404, 0.5866626571931702, 0.22337441425070165, 0.22337441425070165, 0.1303017416462426, 0.279218017813377, 0.11168720712535082, 0.3787741109565979, 0.1959176435982403, 0.23510117231788835, 0.18285646735835762, 0.938999301790396, 0.045750925867408594, 0.7320148138785375, 0.09150185173481719, 0.1372527776022258, 0.9118689182964392, 0.9119570239307973, 0.1452794514741674, 0.726397257370837, 0.14789421182397383, 0.11092065886798037, 0.14789421182397383, 0.33276197660394113, 0.2588148706919542, 0.3301726397474794, 0.6603452794949588, 0.6364986838099881, 0.1131553215662201, 0.1131553215662201, 0.08486649117466508, 0.05657766078311005, 0.23477760286739455, 0.6140337305762626, 0.05417944681555259, 0.10835889363110518, 0.6149709539672312, 0.1763870178045547, 0.09534433394840795, 0.08580990055356716, 0.028603300184522385, 0.1927428451879662, 0.2650214121334535, 0.0963714225939831, 0.12046427824247886, 0.3613928347274366, 0.8556497735707547, 0.7817233803623254, 0.2545945076925485, 0.41791928621229657, 0.17293211843267445, 0.15371743860682172, 0.6243207594659049, 0.26931483741666484, 0.061207917594696556, 0.04896633407575725, 0.5050677968383391, 0.029709870402255246, 0.4456480560338287, 0.882728522082496, 0.9118833649939866, 0.11661611633624391, 0.6996966980174635, 0.11661611633624391, 0.27544386527514947, 0.6427023523086821, 0.03060487391946105, 0.03060487391946105, 0.9062839949018241, 0.03776183312090933, 0.05394547588701334, 0.05163078030430598, 0.2839692916736829, 0.5679385833473658, 0.02581539015215299, 0.07744617045645896, 0.16674364754062623, 0.6669745901625049, 0.8782519324589027, 0.45145972785778704, 0.243788253043205, 0.1715546965859591, 0.05417516734293445, 0.07223355645724593, 0.878245852967255, 0.9118720186996794, 0.09795562291759774, 0.09795562291759774, 0.7836449833407819, 0.9493035314075217, 0.955310271087873, 0.022745482644949355, 0.8391189652460352, 0.30775703053124226, 0.677065467168733, 0.16699579092008157, 0.5844852682202855, 0.19482842274009515, 0.027832631820013595, 0.14689124351151, 0.7344562175575501, 0.9220887561111114, 0.01691905974515801, 0.008459529872579004, 0.05075717923547402, 0.008459529872579004, 0.8737853943761623, 0.1149717624179161, 0.8628211807795325, 0.10150837420935677, 0.016918062368226128, 0.9118561525025926, 0.9492734690318306, 0.8686987990305831, 0.18192211973452793, 0.23389986823010733, 0.5197774849557941, 0.05197774849557941, 0.17984079176043646, 0.17984079176043646, 0.6294427711615276, 0.7861941328406541, 0.33113161064091734, 0.2207544070939449, 0.28018828592693007, 0.14433942002296396, 0.01698110823799576, 0.8687008286608181, 0.9119044616887723, 0.8131781092835676, 0.1547793307354727, 0.1547793307354727, 0.5417276575741544, 0.07738966536773635, 0.16925690062059393, 0.28209483436765653, 0.08462845031029696, 0.1316442560382397, 0.3291106400955993, 0.7862061897384125, 0.1660768429981555, 0.664307371992622, 0.8794833699038029, 0.3712971496442413, 0.07425942992884826, 0.44555657957308964, 0.11138914489327241, 0.840785003966283, 0.1401308339943805, 0.7829976541697263, 0.9427170145900603, 0.18301915094453697, 0.5338058569215661, 0.07625797956022373, 0.10676117138431322, 0.09150957547226848, 0.14678768480214327, 0.7339384240107163, 0.3844846096812522, 0.604190100927682, 0.8794935584593727, 0.24989328502612432, 0.08329776167537477, 0.6663820934029981, 0.9623082242024289, 0.2522778036991589, 0.20422488870884292, 0.30033071868947486, 0.08409260123305297, 0.15617197371852695, 0.041484125730620124, 0.3595290896653744, 0.19359258674289392, 0.1659365029224805, 0.24890475438372076, 0.9861980649936064, 0.8556497722297847, 0.056512906078041054, 0.4238467955853079, 0.04238467955853079, 0.12715403867559238, 0.33907743646824634, 0.8428342720572615, 0.6709799428752238, 0.16774498571880594, 0.706849276676932, 0.7325686774577903, 0.14651373549155805, 0.6422443293239263, 0.19496702854476336, 0.08028054116549078, 0.06881189242756354, 0.8795016360552542, 0.9621449435597812, 0.9449378495498126, 0.790147881465389, 0.05926109110990417, 0.05926109110990417, 0.09876848518317362, 0.9102338529302693, 0.20936731528972535, 0.4556818038658728, 0.17242014200330322, 0.08621007100165161, 0.07389434657284424, 0.0910633601308544, 0.5828055048374682, 0.0910633601308544, 0.23676473634022144, 0.5404677563723955, 0.17196701339121676, 0.19653372958996201, 0.07370014859623575, 0.27580735146298707, 0.27580735146298707, 0.3217752433734849, 0.11491972977624461, 0.06185485962769299, 0.12370971925538599, 0.6185485962769299, 0.18556457888307898, 0.6870192255404878, 0.09814560364864111, 0.09814560364864111, 0.06543040243242741, 0.049072801824320555, 0.930981126215284, 0.03103270420717613, 0.03103270420717613, 0.19487314380587092, 0.7794925752234837, 0.09022612255516023, 0.812035102996442, 0.16757125357177954, 0.16757125357177954, 0.08378562678588977, 0.5864993875012284, 0.9118720110021399, 0.704628436620159, 0.23487614554005298, 0.8621483907869572, 0.11495311877159428, 0.22477977132383067, 0.14152800416685635, 0.2830560083337127, 0.24975530147092298, 0.0999021205883692, 0.14634755409413125, 0.585390216376525, 0.21952133114119687, 0.8556497681859928, 0.09801143503804405, 0.8821029153423964, 0.8782383396077914, 0.14609243300319624, 0.8035083815175793, 0.8561156845330692, 0.13759002072852897, 0.8782153113603284, 0.06333233915062128, 0.7599880698074554, 0.06333233915062128, 0.06333233915062128, 0.05307903696144792, 0.10615807392289583, 0.5307903696144792, 0.15923711088434375, 0.10615807392289583, 0.23606031908813715, 0.3122088091165685, 0.1256450085469117, 0.19037122507107834, 0.13325985754975483, 0.6705085442199122, 0.16762713605497806, 0.2170003105358641, 0.1808335921132201, 0.03616671842264402, 0.14466687369057607, 0.3978339026490842, 0.09831898366247208, 0.2949569509874162, 0.09831898366247208, 0.19663796732494415, 0.2949569509874162, 0.2592652614805967, 0.712979469071641, 0.16607975684189444, 0.16607975684189444, 0.16607975684189444, 0.13839979736824537, 0.3598394731574379, 0.47033399930889785, 0.23516699965444893, 0.29050041133784865, 0.8870769267074748, 0.06570940197833147, 0.032854700989165736, 0.8770362111465815, 0.7644745265861405, 0.09555931582326756, 0.14333897373490134, 0.9375783054675085, 0.04485624420266826, 0.23923330241423074, 0.10466456980622595, 0.3738020350222355, 0.23923330241423074, 0.28239553656866945, 0.1764972103554184, 0.15296424897469596, 0.16473072966505717, 0.22356313311686332, 0.8790723351997991, 0.3241397297029681, 0.2809210990759057, 0.2268978107920777, 0.032413972970296814, 0.14046054953795284, 0.3023724437269901, 0.4096658915010834, 0.10729344777409326, 0.09753949797644842, 0.08778554817880359, 0.600078630619105, 0.1592045346540483, 0.018369753998544035, 0.04898601066278409, 0.17757428865259234, 0.24383963817544507, 0.1696275743829183, 0.1696275743829183, 0.2120344679786479, 0.2120344679786479, 0.9118701485054965, 0.8794895764831518, 0.2830836342196426, 0.18872242281309506, 0.32082811878226164, 0.13210569596916655, 0.07548896912523803, 0.7857686709361859, 0.14286703107930654, 0.5732297255523321, 0.25289546715544065, 0.05057909343108812, 0.02528954671554406, 0.0927283379569949, 0.893124088424375, 0.24541018642132742, 0.12270509321066371, 0.5521729194479866, 0.16383607742647424, 0.22234896222164363, 0.22234896222164363, 0.19894380830357586, 0.187241231344542, 0.4666842093946138, 0.25748094311426967, 0.016092558944641854, 0.24138838416962782, 0.0906815153386885, 0.5214187131974589, 0.1643602465513729, 0.10201670475602456, 0.11901948888202865, 0.8851882822940798], \"Term\": [\"14\", \"1827\", \"4s\", \"absolut\", \"absolut\", \"absolut\", \"absolut\", \"afford\", \"afford\", \"afford\", \"alon\", \"altern\", \"alway\", \"alway\", \"alway\", \"alway\", \"amanda\", \"amaz\", \"amaz\", \"amaz\", \"amaz\", \"amaz\", \"america\", \"apart\", \"apart\", \"apart\", \"apart\", \"april\", \"april\", \"area\", \"area\", \"area\", \"area\", \"around\", \"around\", \"around\", \"around\", \"art\", \"art\", \"art\", \"art\", \"assaf\", \"associ\", \"associ\", \"awesom\", \"awesom\", \"awesom\", \"awesom\", \"awesom\", \"back\", \"back\", \"back\", \"back\", \"back\", \"bartend\", \"basebal\", \"basketbal\", \"basketbal\", \"bathroom\", \"bathroom\", \"bathroom\", \"bathroom\", \"beach\", \"beach\", \"beach\", \"beach\", \"beauti\", \"beauti\", \"beauti\", \"beauti\", \"beauti\", \"becom\", \"becom\", \"bed\", \"beer\", \"beer\", \"beer\", \"beer\", \"begin\", \"begin\", \"bench\", \"bench\", \"best\", \"best\", \"best\", \"best\", \"big\", \"big\", \"big\", \"bird\", \"book\", \"book\", \"book\", \"book\", \"border\", \"border\", \"borrego\", \"break\", \"break\", \"break\", \"breather\", \"brian\", \"bridg\", \"bridg\", \"bring\", \"bring\", \"bring\", \"build\", \"build\", \"build\", \"busi\", \"busi\", \"busi\", \"busi\", \"busi\", \"came\", \"came\", \"came\", \"came\", \"came\", \"card\", \"card\", \"cater\", \"chang\", \"chang\", \"chang\", \"chang\", \"chill\", \"chill\", \"chula\", \"chula\", \"chula\", \"class\", \"class\", \"class\", \"clean\", \"clean\", \"clean\", \"color\", \"color\", \"come\", \"come\", \"come\", \"come\", \"come\", \"comfort\", \"compani\", \"compani\", \"compani\", \"complex\", \"complex\", \"control\", \"control\", \"conveni\", \"conveni\", \"corner\", \"corner\", \"correct\", \"could\", \"could\", \"could\", \"could\", \"cours\", \"cours\", \"cours\", \"cours\", \"court\", \"cousin\", \"covid\", \"covid\", \"covid\", \"covid\", \"covid\", \"cross\", \"crush\", \"curli\", \"current\", \"current\", \"current\", \"cut\", \"cut\", \"daniel\", \"daughter\", \"daughter\", \"day\", \"day\", \"day\", \"day\", \"day\", \"dealt\", \"decad\", \"decad\", \"decemb\", \"definit\", \"definit\", \"definit\", \"definit\", \"del\", \"del\", \"del\", \"deliv\", \"distanc\", \"distanc\", \"distanc\", \"dog\", \"dog\", \"dog\", \"dog\", \"doggi\", \"dont\", \"dont\", \"dont\", \"dont\", \"dont\", \"draw\", \"emerald\", \"empti\", \"entri\", \"environ\", \"environ\", \"estat\", \"estudillo\", \"etc\", \"eve\", \"even\", \"even\", \"even\", \"even\", \"event\", \"event\", \"event\", \"event\", \"everyon\", \"everyon\", \"everyon\", \"execut\", \"exit\", \"fairli\", \"famili\", \"famili\", \"famili\", \"famili\", \"fanci\", \"favor\", \"favorit\", \"favorit\", \"favorit\", \"feel\", \"feel\", \"feel\", \"feel\", \"feel\", \"fenc\", \"fenc\", \"field\", \"field\", \"first\", \"first\", \"first\", \"first\", \"first\", \"flower\", \"food\", \"food\", \"food\", \"food\", \"form\", \"found\", \"found\", \"found\", \"found\", \"found\", \"fountain\", \"gay\", \"get\", \"get\", \"get\", \"get\", \"get\", \"globe\", \"go\", \"go\", \"go\", \"go\", \"go\", \"good\", \"good\", \"good\", \"good\", \"good\", \"googl\", \"govern\", \"grass\", \"grassi\", \"great\", \"great\", \"great\", \"great\", \"great\", \"green\", \"green\", \"hair\", \"headshot\", \"help\", \"help\", \"help\", \"help\", \"hike\", \"hike\", \"hike\", \"hike\", \"hole\", \"hole\", \"home\", \"home\", \"home\", \"home\", \"home\", \"honestli\", \"honestli\", \"hors\", \"horton\", \"hour\", \"hour\", \"hour\", \"hour\", \"human\", \"human\", \"husband\", \"husband\", \"husband\", \"husband\", \"husband\", \"ice\", \"ice\", \"im\", \"im\", \"im\", \"im\", \"im\", \"inland\", \"invit\", \"ive\", \"ive\", \"ive\", \"ive\", \"jetti\", \"joy\", \"joy\", \"juri\", \"kayak\", \"kendra\", \"kid\", \"kid\", \"kid\", \"kid\", \"kid\", \"knowledg\", \"knowledg\", \"knowledg\", \"knowledg\", \"landlord\", \"larg\", \"larg\", \"learn\", \"learn\", \"learn\", \"learn\", \"leas\", \"leas\", \"leas\", \"least\", \"least\", \"least\", \"least\", \"lesson\", \"lighthous\", \"like\", \"like\", \"like\", \"like\", \"like\", \"line\", \"line\", \"line\", \"line\", \"linh\", \"littl\", \"littl\", \"littl\", \"littl\", \"littl\", \"live\", \"live\", \"live\", \"live\", \"locat\", \"locat\", \"locat\", \"locat\", \"locat\", \"look\", \"look\", \"look\", \"look\", \"look\", \"lot\", \"lot\", \"lot\", \"lot\", \"love\", \"love\", \"love\", \"love\", \"love\", \"male\", \"manag\", \"manag\", \"manag\", \"manag\", \"mani\", \"mani\", \"mani\", \"mani\", \"mani\", \"mar\", \"mar\", \"mask\", \"melissa\", \"melroy\", \"mena\", \"mission\", \"mission\", \"mission\", \"mission\", \"mission\", \"month\", \"month\", \"month\", \"month\", \"month\", \"move\", \"move\", \"move\", \"move\", \"mr\", \"museum\", \"museum\", \"museum\", \"museum\", \"nativ\", \"naval\", \"navig\", \"navig\", \"need\", \"need\", \"need\", \"need\", \"need\", \"neighbor\", \"neighbor\", \"neighborhood\", \"neighborhood\", \"neighborhood\", \"neighborhood\", \"neighborhood\", \"new\", \"new\", \"new\", \"new\", \"nice\", \"nice\", \"nice\", \"nice\", \"nice\", \"north\", \"north\", \"north\", \"north\", \"north\", \"octob\", \"offleash\", \"one\", \"one\", \"one\", \"one\", \"open\", \"open\", \"open\", \"open\", \"order\", \"order\", \"order\", \"origin\", \"outstand\", \"paint\", \"paint\", \"paint\", \"pandem\", \"pandem\", \"pandem\", \"pandem\", \"park\", \"park\", \"park\", \"part\", \"part\", \"part\", \"part\", \"part\", \"patch\", \"patch\", \"pathway\", \"peopl\", \"peopl\", \"peopl\", \"peopl\", \"peopl\", \"pete\", \"phil\", \"phone\", \"phone\", \"phone\", \"pickup\", \"picnic\", \"picnic\", \"pit\", \"pizza\", \"pizza\", \"place\", \"place\", \"place\", \"place\", \"plate\", \"plate\", \"play\", \"play\", \"play\", \"play\", \"play\", \"playground\", \"playground\", \"plenti\", \"plenti\", \"plenti\", \"popul\", \"preserv\", \"privat\", \"properti\", \"properti\", \"properti\", \"properti\", \"question\", \"question\", \"question\", \"rang\", \"realli\", \"realli\", \"realli\", \"realli\", \"realli\", \"rec\", \"remodel\", \"replac\", \"respons\", \"respons\", \"respons\", \"respons\", \"review\", \"review\", \"review\", \"review\", \"review\", \"river\", \"round\", \"round\", \"sadli\", \"safe\", \"safe\", \"safe\", \"safe\", \"sand\", \"sand\", \"sanit\", \"sausag\", \"say\", \"say\", \"say\", \"say\", \"say\", \"sceneri\", \"sceneri\", \"school\", \"school\", \"scott\", \"secret\", \"secret\", \"secret\", \"secur\", \"see\", \"see\", \"see\", \"see\", \"see\", \"servic\", \"servic\", \"servic\", \"servic\", \"servic\", \"shade\", \"shift\", \"sinc\", \"sinc\", \"sinc\", \"sinc\", \"sinc\", \"singl\", \"six\", \"six\", \"skateboard\", \"skill\", \"skill\", \"small\", \"small\", \"small\", \"small\", \"smoke\", \"soccer\", \"somewher\", \"space\", \"space\", \"space\", \"space\", \"spaciou\", \"spot\", \"spot\", \"spot\", \"spot\", \"spot\", \"staff\", \"staff\", \"staff\", \"staff\", \"star\", \"star\", \"star\", \"star\", \"stay\", \"stay\", \"stay\", \"stay\", \"store\", \"store\", \"store\", \"store\", \"street\", \"street\", \"street\", \"street\", \"street\", \"structur\", \"structur\", \"structur\", \"studi\", \"studi\", \"suit\", \"suit\", \"surpris\", \"surpris\", \"surpris\", \"surpris\", \"sushi\", \"sweet\", \"sweet\", \"tabl\", \"tabl\", \"take\", \"take\", \"take\", \"take\", \"take\", \"taken\", \"taken\", \"taken\", \"tap\", \"teacher\", \"teacher\", \"tee\", \"that\", \"that\", \"there\", \"there\", \"thin\", \"though\", \"though\", \"though\", \"though\", \"three\", \"three\", \"three\", \"three\", \"three\", \"time\", \"time\", \"time\", \"time\", \"time\", \"tini\", \"tini\", \"today\", \"today\", \"today\", \"today\", \"today\", \"took\", \"took\", \"took\", \"took\", \"took\", \"torrey\", \"torrey\", \"town\", \"town\", \"town\", \"town\", \"town\", \"trail\", \"trail\", \"trail\", \"tree\", \"tree\", \"tree\", \"twin\", \"unit\", \"unit\", \"unit\", \"unprofession\", \"us\", \"us\", \"us\", \"us\", \"us\", \"use\", \"use\", \"use\", \"use\", \"use\", \"vavi\", \"view\", \"view\", \"view\", \"view\", \"view\", \"visit\", \"visit\", \"visit\", \"visit\", \"visit\", \"walk\", \"walk\", \"walk\", \"walk\", \"walk\", \"want\", \"want\", \"want\", \"want\", \"want\", \"wash\", \"waterleaf\", \"way\", \"way\", \"way\", \"way\", \"way\", \"welcom\", \"welcom\", \"well\", \"well\", \"well\", \"well\", \"well\", \"wide\", \"wife\", \"wife\", \"wife\", \"work\", \"work\", \"work\", \"work\", \"work\", \"would\", \"would\", \"would\", \"would\", \"year\", \"year\", \"year\", \"year\", \"year\", \"ysidro\"]}, \"R\": 30, \"lambda.step\": 0.01, \"plot.opts\": {\"xlab\": \"PC1\", \"ylab\": \"PC2\"}, \"topic.order\": [4, 1, 2, 5, 3]};\n",
       "\n",
       "function LDAvis_load_lib(url, callback){\n",
       "  var s = document.createElement('script');\n",
       "  s.src = url;\n",
       "  s.async = true;\n",
       "  s.onreadystatechange = s.onload = callback;\n",
       "  s.onerror = function(){console.warn(\"failed to load library \" + url);};\n",
       "  document.getElementsByTagName(\"head\")[0].appendChild(s);\n",
       "}\n",
       "\n",
       "if(typeof(LDAvis) !== \"undefined\"){\n",
       "   // already loaded: just create the visualization\n",
       "   !function(LDAvis){\n",
       "       new LDAvis(\"#\" + \"ldavis_el1348823937995858644830832447\", ldavis_el1348823937995858644830832447_data);\n",
       "   }(LDAvis);\n",
       "}else if(typeof define === \"function\" && define.amd){\n",
       "   // require.js is available: use it to load d3/LDAvis\n",
       "   require.config({paths: {d3: \"https://cdnjs.cloudflare.com/ajax/libs/d3/3.5.5/d3.min\"}});\n",
       "   require([\"d3\"], function(d3){\n",
       "      window.d3 = d3;\n",
       "      LDAvis_load_lib(\"https://cdn.rawgit.com/bmabey/pyLDAvis/files/ldavis.v1.0.0.js\", function(){\n",
       "        new LDAvis(\"#\" + \"ldavis_el1348823937995858644830832447\", ldavis_el1348823937995858644830832447_data);\n",
       "      });\n",
       "    });\n",
       "}else{\n",
       "    // require.js not available: dynamically load d3 & LDAvis\n",
       "    LDAvis_load_lib(\"https://cdnjs.cloudflare.com/ajax/libs/d3/3.5.5/d3.min.js\", function(){\n",
       "         LDAvis_load_lib(\"https://cdn.rawgit.com/bmabey/pyLDAvis/files/ldavis.v1.0.0.js\", function(){\n",
       "                 new LDAvis(\"#\" + \"ldavis_el1348823937995858644830832447\", ldavis_el1348823937995858644830832447_data);\n",
       "            })\n",
       "         });\n",
       "}\n",
       "</script>"
      ],
      "text/plain": [
       "<IPython.core.display.HTML object>"
      ]
     },
     "execution_count": 30,
     "metadata": {},
     "output_type": "execute_result"
    }
   ],
   "source": [
    "LDAvis_prepared = sklearn_lda.prepare(lda_list[3], reviews_count, count_vectorizer)\n",
    "pyLDAvis.display(LDAvis_prepared)"
   ]
  },
  {
   "cell_type": "markdown",
   "metadata": {
    "id": "xiu8BszLtTEq"
   },
   "source": [
    "As we can see in the above LDA results with 5 topics, topics 4 and 5 overlap which means both results are highly similar. Furthermore, it is much more difficult to infer topic meaning with the given splits. This is an example of LDA overfitting and producing topics for the sake of doing so when the results does not have any underlying meaning with this many topics. "
   ]
  },
  {
   "cell_type": "markdown",
   "metadata": {
    "id": "mRQdkw_NxAkM"
   },
   "source": [
    "# Ethics & Privacy"
   ]
  },
  {
   "cell_type": "markdown",
   "metadata": {
    "id": "4LdXMJ1axAkM"
   },
   "source": [
    "The dataset was provided for use in this COGS 108 final project, therefore I have received permission to use these yelp reviews. Furthermore, Yelp reviews are accessible to the public and could be webscraped through an API. Fortunately, Professor Ellis curated the data used. Therefore, there are no major privacy concerns regarding the data. \n",
    "\n",
    "The dataframe does identify which park is targeted by the review and their ratings, which means parks are susceptible to bias. This means that a specific park may be targeted by the reviewers for whatever reason but this would be an unintended consequence of the review process rather than the methods of this project. \n",
    "\n",
    "Fortunately, since the data was not grouped based on the review scores, the topics pertain to the overall corpus. There are pros and cons to this approach but at least with a general overview of the reviews as a whole, the results \n",
    "\n",
    "Lastly, reviewer privacy is guaranteed since the reviews are not tied to an id other than the park they pertain to. Unfortunately, the topics are not generalizable to the populace of San Diego and their sentiments toward their local parks as the only responses come from Yelp reviewers. Overall, the topic generation process relies entirely on the inputted data and the results pertain to those that Yelp reviewers are writing. "
   ]
  },
  {
   "cell_type": "markdown",
   "metadata": {
    "id": "feLQIzjOxAkM"
   },
   "source": [
    "# Conclusion & Discussion"
   ]
  },
  {
   "cell_type": "markdown",
   "metadata": {
    "id": "I8i_YPCVxAkM"
   },
   "source": [
    "I can successfully reject the null hypothesis that Yelp reviews toward San Diego parks petain to specific aspects of the parks. The Vanilla LDA deployed with potential topic numbers ranging from two to five performed best with three topics. Those topics were inferred to revolve around the (1) the location and geography of the park, (2) the interaction potential of the park, and (3) the context for which the review was writing about the park. \n",
    "\n",
    "Unfortunately, the analysis did not aggregate the texts based on review. It would have been interesting to target and identify what reviewers were writing about at the high and low ratings, however this is susceptible to bias. If a reviewer is very inclined to write a great or criticizing review, then they are likely to and be biased enough to attach a corresponding great or criticizing rating. \n",
    "\n",
    "All in all, the LDA worked well and provided a great overview of what Yelp reviewers and potentially the San Diego populace focuses on when writing about parks. This is great information for the department of parks and recreation who can use it to potentially improve parks in the future. Now, a parks location or geography cannot be significantly altered, however adjusting the space and potential interaction effects for visitors is a great measure for people, especially yelp reviewers, to discuss the parks in a further positive light. "
   ]
  }
 ],
 "metadata": {
  "colab": {
   "collapsed_sections": [],
   "name": "FinalProject_arzhao-coding.ipynb",
   "provenance": []
  },
  "kernelspec": {
   "display_name": "Python 3",
   "language": "python",
   "name": "python3"
  },
  "language_info": {
   "codemirror_mode": {
    "name": "ipython",
    "version": 3
   },
   "file_extension": ".py",
   "mimetype": "text/x-python",
   "name": "python",
   "nbconvert_exporter": "python",
   "pygments_lexer": "ipython3",
   "version": "3.7.9"
  }
 },
 "nbformat": 4,
 "nbformat_minor": 1
}
