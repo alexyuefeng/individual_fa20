{
 "cells": [
  {
   "cell_type": "markdown",
   "metadata": {},
   "source": [
    "# COGS 108 - Final Project "
   ]
  },
  {
   "cell_type": "markdown",
   "metadata": {},
   "source": [
    "# Overview"
   ]
  },
  {
   "cell_type": "markdown",
   "metadata": {},
   "source": [
    "I intended to see if higher yelp scores correlated with more reviews and this correlated to more park visitations. I concluded that it did not due to there being a poor correlation between the number of reviews and the yelp score."
   ]
  },
  {
   "cell_type": "markdown",
   "metadata": {},
   "source": [
    "# Name & GitHub\n",
    "\n",
    "- Name: Allen Do\n",
    "- GitHub Username: ald031"
   ]
  },
  {
   "cell_type": "markdown",
   "metadata": {},
   "source": [
    "# Research Question"
   ]
  },
  {
   "cell_type": "markdown",
   "metadata": {},
   "source": [
    "Do higher yelp scores yield more reviews and thus affect the number of visits to San Diego parks?"
   ]
  },
  {
   "cell_type": "markdown",
   "metadata": {},
   "source": [
    "## Background and Prior Work"
   ]
  },
  {
   "cell_type": "markdown",
   "metadata": {},
   "source": [
    "Studies have found that people are more likely to use a park if it offers specific qualities which are desired (1). They tend to favor this over something like a general park or space. Reference 1 found that residents near certain parks avoided them due to concerns about safety and a lack of desired programs at that park. It ultimately concluded that the most important correlate of park use and park-based physical activity was park programming.\n",
    "\n",
    "The city of San Diego uses a similar idea of surveying and analyzing demographic data in order to determine what attracts park goers as outlined in its 2016 master plan (2). They go over the 2016 San Diego demographic makeup, projected demographic makeup, activity frequency, facility usage, and population density. Using this data they were able to find that walking and family gatherings were the most popular activity for parks. They also found that sightseeing and fishing were slowly growing in popularity. The population is projected to be comprised of more older people, and younger generations were less likely to use the park. They also found that the Hispanic population, which was projected to grow, was having trouble accessing facilities as there were none near their communities. They were able to come up with plans in order to address these qualities due to this.\n",
    "\n",
    "In short, Reference 2 found that the popularity and usage of a park was heavily related to the demographics of an area and that demographic's preferences. In order to retain or attain more of that demographic, the park plans were drafted to enhance or grow qualities that those demographics favored. \n",
    "\n",
    "References (include links):\n",
    "- 1)https://www.ncbi.nlm.nih.gov/pmc/articles/PMC3667219/\n",
    "- 2)https://www.sandiegocounty.gov/content/dam/sdc/parks/CAPRA/2.0%20EXHIBITS/2.4A%20Master%20Plan.pdf"
   ]
  },
  {
   "cell_type": "markdown",
   "metadata": {},
   "source": [
    "# Hypothesis\n"
   ]
  },
  {
   "cell_type": "markdown",
   "metadata": {},
   "source": [
    "Positive yelp scores will tend to cause higher park usage, and thus there will be more reviews and visits for certain parks. \n",
    "\n",
    "People will look at positive scores for parks first and filter them out for qualities that they desire. This means that poor Yelp reviews will reinforce poor visitation counts and thus there will not be a lot of reviews for low score parks at all. This means that those parks are less likely to get further support, they are less likely to ever change their poor visitation counts."
   ]
  },
  {
   "cell_type": "markdown",
   "metadata": {},
   "source": [
    "# Dataset(s)"
   ]
  },
  {
   "cell_type": "markdown",
   "metadata": {},
   "source": [
    "- Dataset Name: yelp_SD_parks\n",
    "- Link to the dataset: https://github.com/COGS108/individual_fa20/blob/master/data/yelp_SD_parks.csv\n",
    "- Number of observations: 833 observations\n",
    "\n",
    "This is a csv file containing parks, their location, the park's longitude and latitude, their overall yelp score, number of yelp reviews, closed status, phone number of the park if applicable, and the link to their respective yelp pages.\n"
   ]
  },
  {
   "cell_type": "markdown",
   "metadata": {},
   "source": [
    "# Setup"
   ]
  },
  {
   "cell_type": "code",
   "execution_count": 1,
   "metadata": {},
   "outputs": [],
   "source": [
    "#imports\n",
    "import numpy as np\n",
    "import pandas as pd\n",
    "import matplotlib.pyplot as plt\n",
    "   \n",
    "import seaborn as sns\n",
    "sns.set()\n",
    "sns.set_context('talk')\n",
    "\n",
    "import warnings\n",
    "warnings.filterwarnings('ignore')\n",
    "\n",
    "import patsy\n",
    "import statsmodels.api as sm\n",
    "import scipy.stats as stats\n",
    "from scipy.stats import ttest_ind, chisquare, normaltest\n",
    "# Note: the statsmodels import may print out a 'FutureWarning'. Thats fine."
   ]
  },
  {
   "cell_type": "code",
   "execution_count": 2,
   "metadata": {},
   "outputs": [],
   "source": [
    "df_yelp = pd.read_csv(\"yelp_SD_parks.csv\")"
   ]
  },
  {
   "cell_type": "markdown",
   "metadata": {},
   "source": [
    "# Data Cleaning"
   ]
  },
  {
   "cell_type": "markdown",
   "metadata": {},
   "source": [
    "Describe your data cleaning steps here."
   ]
  },
  {
   "cell_type": "code",
   "execution_count": 3,
   "metadata": {},
   "outputs": [],
   "source": [
    "#Removing uncessary info and columns. Also rearranging to sort by review_count.\n",
    "df_yelp = df_yelp.sort_values(by=['review_count'], ascending = False)\n",
    "\n",
    "\n",
    "#filter to kick out weird places not in San Diego\n",
    "df_yelp = df_yelp[df_yelp['latitude']<33]\n",
    "df_yelp = df_yelp[df_yelp['latitude']>32.7]\n",
    "\n",
    "\n",
    "df_yelp = df_yelp.drop(columns = ['phone', 'longitude', 'latitude', 'is_closed'])\n"
   ]
  },
  {
   "cell_type": "code",
   "execution_count": 4,
   "metadata": {},
   "outputs": [],
   "source": [
    "#rearranging the order of the columns for easier viewing.\n",
    "df_yelp = df_yelp[['name','rating','review_count', 'address','url','id']]\n",
    "\n"
   ]
  },
  {
   "cell_type": "code",
   "execution_count": 5,
   "metadata": {},
   "outputs": [],
   "source": [
    "#filtering for things that have park or preserve in the name to remove most restaurants, businesses, \n",
    "#or redundant things that are not parks.\n",
    "df_yelp = df_yelp[df_yelp['name'].str.contains('Park|Preserve')]\n",
    "\n",
    "\n",
    "df_yelp.shape\n",
    "#removing odd outlier entries that got past the filter. They are apartments,streets,restaurants or something else with weird \n",
    "#names that include park/preserve\n",
    "#Also removing redundant things like the playground/rec centre inside of a park that already has an entry.\n",
    "\n",
    "df_yelp = df_yelp.drop(145)\n",
    "df_yelp = df_yelp.drop(726)\n",
    "df_yelp = df_yelp.drop(670)\n",
    "df_yelp = df_yelp.drop(116)\n",
    "df_yelp = df_yelp.drop(674)\n",
    "df_yelp = df_yelp.drop(778)\n",
    "df_yelp = df_yelp.drop(672)\n",
    "df_yelp = df_yelp.drop(608)\n",
    "df_yelp = df_yelp.drop(164)\n",
    "df_yelp = df_yelp.drop(182)\n",
    "df_yelp = df_yelp.drop(140)\n",
    "df_yelp = df_yelp.drop(772)\n",
    "df_yelp = df_yelp.drop(673)\n",
    "df_yelp = df_yelp.drop(136)\n",
    "df_yelp = df_yelp.drop(21)\n",
    "df_yelp = df_yelp.drop(163)\n",
    "df_yelp = df_yelp.drop(169)\n",
    "df_yelp = df_yelp.drop(353)\n",
    "df_yelp = df_yelp.drop(492)\n",
    "df_yelp = df_yelp.drop(355)\n",
    "df_yelp = df_yelp.drop(64)\n",
    "df_yelp = df_yelp.drop(131)\n",
    "df_yelp = df_yelp.drop(362)\n",
    "\n",
    "\n",
    "\n"
   ]
  },
  {
   "cell_type": "code",
   "execution_count": 6,
   "metadata": {},
   "outputs": [],
   "source": [
    "df_yelp.rename({'name': 'Park Name', 'rating': \"Yelp Rating\", 'review_count': \"Number of Reviews\"}, axis=1, inplace=True)"
   ]
  },
  {
   "cell_type": "code",
   "execution_count": 7,
   "metadata": {},
   "outputs": [
    {
     "data": {
      "text/html": [
       "<div>\n",
       "<style scoped>\n",
       "    .dataframe tbody tr th:only-of-type {\n",
       "        vertical-align: middle;\n",
       "    }\n",
       "\n",
       "    .dataframe tbody tr th {\n",
       "        vertical-align: top;\n",
       "    }\n",
       "\n",
       "    .dataframe thead th {\n",
       "        text-align: right;\n",
       "    }\n",
       "</style>\n",
       "<table border=\"1\" class=\"dataframe\">\n",
       "  <thead>\n",
       "    <tr style=\"text-align: right;\">\n",
       "      <th></th>\n",
       "      <th>Park Name</th>\n",
       "      <th>Yelp Rating</th>\n",
       "      <th>Number of Reviews</th>\n",
       "      <th>address</th>\n",
       "      <th>url</th>\n",
       "      <th>id</th>\n",
       "    </tr>\n",
       "  </thead>\n",
       "  <tbody>\n",
       "    <tr>\n",
       "      <th>0</th>\n",
       "      <td>Balboa Park</td>\n",
       "      <td>5.0</td>\n",
       "      <td>2105</td>\n",
       "      <td>1549 El Prado San Diego, CA 92101</td>\n",
       "      <td>https://www.yelp.com/biz/balboa-park-san-diego...</td>\n",
       "      <td>9M_FW_-Ipx93I36w-_ykBg</td>\n",
       "    </tr>\n",
       "    <tr>\n",
       "      <th>1</th>\n",
       "      <td>Petco Park</td>\n",
       "      <td>4.0</td>\n",
       "      <td>1667</td>\n",
       "      <td>100 Park Blvd San Diego, CA 92101</td>\n",
       "      <td>https://www.yelp.com/biz/petco-park-san-diego?...</td>\n",
       "      <td>HkgSbRLVMRHExsRkImIK5A</td>\n",
       "    </tr>\n",
       "    <tr>\n",
       "      <th>2</th>\n",
       "      <td>Encontro North Park</td>\n",
       "      <td>4.5</td>\n",
       "      <td>1127</td>\n",
       "      <td>3001 University Ave San Diego, CA 92104</td>\n",
       "      <td>https://www.yelp.com/biz/encontro-north-park-s...</td>\n",
       "      <td>ah1wsendgkhUtTSR-MVDZw</td>\n",
       "    </tr>\n",
       "    <tr>\n",
       "      <th>3</th>\n",
       "      <td>Sunset Cliffs Natural Park</td>\n",
       "      <td>5.0</td>\n",
       "      <td>935</td>\n",
       "      <td>1253 Sunset Cliffs Blvd San Diego, CA 92107</td>\n",
       "      <td>https://www.yelp.com/biz/sunset-cliffs-natural...</td>\n",
       "      <td>uSImc0RtxHPMh7CO0BDUmw</td>\n",
       "    </tr>\n",
       "    <tr>\n",
       "      <th>4</th>\n",
       "      <td>Belmont Park</td>\n",
       "      <td>4.0</td>\n",
       "      <td>669</td>\n",
       "      <td>3146 Mission Blvd San Diego, CA 92109</td>\n",
       "      <td>https://www.yelp.com/biz/belmont-park-san-dieg...</td>\n",
       "      <td>#NAME?</td>\n",
       "    </tr>\n",
       "  </tbody>\n",
       "</table>\n",
       "</div>"
      ],
      "text/plain": [
       "                    Park Name  Yelp Rating  Number of Reviews  \\\n",
       "0                 Balboa Park          5.0               2105   \n",
       "1                  Petco Park          4.0               1667   \n",
       "2         Encontro North Park          4.5               1127   \n",
       "3  Sunset Cliffs Natural Park          5.0                935   \n",
       "4                Belmont Park          4.0                669   \n",
       "\n",
       "                                       address  \\\n",
       "0            1549 El Prado San Diego, CA 92101   \n",
       "1            100 Park Blvd San Diego, CA 92101   \n",
       "2      3001 University Ave San Diego, CA 92104   \n",
       "3  1253 Sunset Cliffs Blvd San Diego, CA 92107   \n",
       "4        3146 Mission Blvd San Diego, CA 92109   \n",
       "\n",
       "                                                 url                      id  \n",
       "0  https://www.yelp.com/biz/balboa-park-san-diego...  9M_FW_-Ipx93I36w-_ykBg  \n",
       "1  https://www.yelp.com/biz/petco-park-san-diego?...  HkgSbRLVMRHExsRkImIK5A  \n",
       "2  https://www.yelp.com/biz/encontro-north-park-s...  ah1wsendgkhUtTSR-MVDZw  \n",
       "3  https://www.yelp.com/biz/sunset-cliffs-natural...  uSImc0RtxHPMh7CO0BDUmw  \n",
       "4  https://www.yelp.com/biz/belmont-park-san-dieg...                  #NAME?  "
      ]
     },
     "execution_count": 7,
     "metadata": {},
     "output_type": "execute_result"
    }
   ],
   "source": [
    "df_yelp = df_yelp.reset_index(drop = True)\n",
    "df_yelp.head()"
   ]
  },
  {
   "cell_type": "markdown",
   "metadata": {},
   "source": [
    "Clean Up Summary:\n",
    "1. I filtered the entries to get an approximately correct range for longitude and latitude that would give me entries only inside of San Diego.\n",
    "2. I removed columns that had no further use or importance, and I rearranged the columns for easier viewing.\n",
    "3. I manually filtered out entries that got past the filter; these were entries that were not parks or preserves"
   ]
  },
  {
   "cell_type": "markdown",
   "metadata": {},
   "source": [
    "# Data Analysis & Results"
   ]
  },
  {
   "cell_type": "code",
   "execution_count": 8,
   "metadata": {},
   "outputs": [
    {
     "data": {
      "image/png": "[encoded data removed]",
      "text/plain": [
       "<Figure size 432x288 with 1 Axes>"
      ]
     },
     "metadata": {},
     "output_type": "display_data"
    }
   ],
   "source": [
    "#Show distribution of overall ratings.\n",
    "ax = df_yelp[\"Yelp Rating\"].value_counts().plot.bar()\n",
    "ax.axes.set_title('Frequency of Yelp Scores', fontsize= 18,)\n",
    "ax.set_xlabel(\"Yelp Ratings\",fontsize=15)\n",
    "ax.set_ylabel(\"Frequency\",fontsize=15)\n",
    "ax.tick_params(labelsize=10)"
   ]
  },
  {
   "cell_type": "code",
   "execution_count": 9,
   "metadata": {},
   "outputs": [
    {
     "name": "stdout",
     "output_type": "stream",
     "text": [
      "             Number of Reviews\n",
      "Yelp Rating                   \n",
      "4.0                       4412\n",
      "4.5                       4236\n",
      "5.0                       3209\n",
      "3.5                       1190\n",
      "3.0                        307\n",
      "2.5                         23\n",
      "1.5                         20\n",
      "2.0                          8\n"
     ]
    }
   ],
   "source": [
    "#show the number reviews in each rating.\n",
    "score = df_yelp.groupby(df_yelp[\"Yelp Rating\"]).sum()\n",
    "score = score.sort_values(by=['Number of Reviews'], ascending=False)\n",
    "print(score)"
   ]
  },
  {
   "cell_type": "code",
   "execution_count": 10,
   "metadata": {},
   "outputs": [
    {
     "data": {
      "image/png": "[encoded data removed]",
      "text/plain": [
       "<Figure size 432x288 with 1 Axes>"
      ]
     },
     "metadata": {},
     "output_type": "display_data"
    }
   ],
   "source": [
    "#Show rating relative to review count of parks\n",
    "score = df_yelp.groupby(df_yelp[\"Yelp Rating\"])\n",
    "ax = sns.scatterplot(x=df_yelp[\"Yelp Rating\"], y=df_yelp[\"Number of Reviews\"])\n",
    "ax.axes.set_title('Individual Parks with their Yelp Ratings and Number of Reviews', fontsize= 18,)\n",
    "ax.set_xlabel(\"Yelp Ratings\",fontsize=15)\n",
    "ax.set_ylabel(\"Number of Reviews\",fontsize=15)\n",
    "ax.tick_params(labelsize=10)"
   ]
  },
  {
   "cell_type": "code",
   "execution_count": 11,
   "metadata": {},
   "outputs": [
    {
     "name": "stdout",
     "output_type": "stream",
     "text": [
      "                   Yelp Rating  Number of Reviews\n",
      "Yelp Rating           1.000000           0.126508\n",
      "Number of Reviews     0.126508           1.000000\n"
     ]
    }
   ],
   "source": [
    "corrs = df_yelp.corr()\n",
    "print(corrs)"
   ]
  },
  {
   "cell_type": "markdown",
   "metadata": {},
   "source": [
    "There appears to be a fairly low correlation between yelp ratings and the number of reviews that it gets"
   ]
  },
  {
   "cell_type": "markdown",
   "metadata": {},
   "source": [
    "# Ethics & Privacy"
   ]
  },
  {
   "cell_type": "markdown",
   "metadata": {},
   "source": [
    "Privacy: The information from the dataset has public information that doesn't identify anyone. The phone numbers that were removed were for public offices that maintained the parks. They did not need to be removed, but they did not provide any relevant information so I mainly removed them for readability.\n",
    "\n",
    "Ethics: The information gathered is centered on San Diego parks, and these review numbers are not necessarily up to date as a quick google search shows for some of these parks. These results should not be applied to other parks in other areas. In addition, these results should not apply to other types of businesses or things in other areas or things in San Diego. I must also state that there is a heavy bias in how Yelp works. Anyone can post their review of the place on Yelp. This data thus does not accurately represent how all denizens of San Diego or a San Diego neighbordhood view their parks. In addition, it is not an accurate measure of how many people visit a park as not everyone that goes will post to yelp. Additionally, not every individual that goes to a park in a group will post a review "
   ]
  },
  {
   "cell_type": "markdown",
   "metadata": {},
   "source": [
    "# Conclusion & Discussion"
   ]
  },
  {
   "cell_type": "markdown",
   "metadata": {},
   "source": [
    "Based on this analysis, I can conclude that my hypothesis cannot be supported. There isn't a very strong correlation between the yelp scores and the number of reviews. I cannot support my claim that more positive yelp scores mean higher park usage or even more reviews and visits to a park. I also cannot conclude or support that yelp causes poor visitation of parks with low ratings.\n",
    "\n",
    "A limitation of my data set was that I did not know who or from where the yelp reviews were coming from. I thus cannot address some of the bias that the yelp system presents. I cannot conclude anything about who is visiting, what time they are visiting, or how many people are visiting. I do not know when the yelp reviews were made, so I also cannot conclude anything about the popularity of a park."
   ]
  },
  {
   "cell_type": "code",
   "execution_count": null,
   "metadata": {},
   "outputs": [],
   "source": []
  }
 ],
 "metadata": {
  "kernelspec": {
   "display_name": "Python 3",
   "language": "python",
   "name": "python3"
  },
  "language_info": {
   "codemirror_mode": {
    "name": "ipython",
    "version": 3
   },
   "file_extension": ".py",
   "mimetype": "text/x-python",
   "name": "python",
   "nbconvert_exporter": "python",
   "pygments_lexer": "ipython3",
   "version": "3.7.6"
  }
 },
 "nbformat": 4,
 "nbformat_minor": 2
}
