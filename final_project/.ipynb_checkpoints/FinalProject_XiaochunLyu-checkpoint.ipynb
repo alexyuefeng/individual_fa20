{
 "cells": [
  {
   "cell_type": "markdown",
   "metadata": {},
   "source": [
    "# COGS 108 - Final Project "
   ]
  },
  {
   "cell_type": "markdown",
   "metadata": {},
   "source": [
    "# Overview"
   ]
  },
  {
   "cell_type": "markdown",
   "metadata": {},
   "source": [
    "It is no news that San Diego is facing a homeless crisis that is affecting the public spaces of the city. Assuming the role of a SD Parks and Rec analyst, I tried to find out if the presence of homeless people is a significant factor in negative Yelp reviews of the parks in San Diego. By applying TF-IDF to two sets of documents which respectively contains good and bad Yelp reviews of parks in San Diego, I was able to find out that the homeless population in parks is indeed a significant reason for bad reviews."
   ]
  },
  {
   "cell_type": "markdown",
   "metadata": {},
   "source": [
    "# Name & GitHub\n",
    "\n",
    "- Name: Xiaochun Lyu\n",
    "- GitHub Username: XiaochunLyu"
   ]
  },
  {
   "cell_type": "markdown",
   "metadata": {},
   "source": [
    "# Research Question"
   ]
  },
  {
   "cell_type": "markdown",
   "metadata": {},
   "source": [
    "Is the presence of homeless people a significant contributing factor to negative Yelp reviews of parks in San Diego?"
   ]
  },
  {
   "cell_type": "markdown",
   "metadata": {},
   "source": [
    "## Background and Prior Work"
   ]
  },
  {
   "cell_type": "markdown",
   "metadata": {},
   "source": [
    "Sasn Diego has had the problem of homelessness for a long time, and parks in San Diego are suffering from this problem too. In Sep, 2017, a large crackdown on homeless camps \"has forced people without shelter into Balboa Park and other parts of the city\"(1). Another report by KPBS in Jan, 2020 detailed the deteriorating at Lamar Park in Spring Valley: \"Everyday there's a new tent that comes, everyday new people, new people. Sometimes it's families. Sometimes it's just single people. It's out of control,” Greer, a homeless person, said. She says she has asked the county for help in finding a place to stay. But she hasn't been offered assistance.(2)\n",
    "\n",
    "Taking the public opinion into account, the situation doesn't look good for everyone, people visiting the parks are being put off by the presence of homeless people, and the homeless themselves also admit that they are in the parks because they have no choice: Chapman, a homeless person at Larmar park told KPBS reporter that \"To me it's embarrassing to have to be there to be on top of a park...I can only imagine what parents are feeling. But for us homeless who are elderly, it's the safest place that we feel, it's on a main drag, there's a restroom here.\"(2)\n",
    "\n",
    "Efforts have been made to alleviate the situation to some effect: Accoridng to another KPBS report, San Diego County's homeless population dropped 6% from 2019, with a 12% reduction in the number of unsheltered homeless people, according to figures released by the Regional Task Force on the Homeless.(3) However, more remains to be done in order to fully address the homeless crisis in San Diego, especially in parks around the city.\n",
    "\n",
    "References (include links):\n",
    "- 1) Homeless move to new parks, streets after camp crackdown, The San Diego Union Tribune, \n",
    "https://www.sandiegouniontribune.com/news/hepatitis-crisis/sd-me-homeless-camp-20170928-story.html\n",
    "- 2) Homeless Encampment In Spring Valley Shows Spread Of San Diego's Homeless Crisis, KPBS, \n",
    "https://www.kpbs.org/news/2020/jan/07/growing-homeless-encampment-spring-valley-shows-sp/\n",
    "- 3) Homelessness Drops In San Diego County, KPBS, \n",
    "https://www.kpbs.org/news/2020/apr/29/homelessness-drops-san-diego-county/#:~:text=San%20Diego%20County's%20homeless%20population,3%2C971%20unsheltered%20and%203%2C648%20sheltered.&text=Total%20homeless%20dropped%204%25%20in%20San%20Diego."
   ]
  },
  {
   "cell_type": "markdown",
   "metadata": {},
   "source": [
    "# Hypothesis\n"
   ]
  },
  {
   "cell_type": "markdown",
   "metadata": {},
   "source": [
    "I think homelessness is likely a significant factor that prompts people to write negative reviews of the parks. My hypothesis comes from skimming the Yelp review dataset, where it seems like a bad review of a park is more likely to mention homeless in the park. Having visited several parks in San Diego my self, I also think that the parks are well maintained and have good facilities. Therefore, I speculate that when people are writing bad reviews, they are more likely to focus on external issues such as homeless people rather than the parks themselves. "
   ]
  },
  {
   "cell_type": "markdown",
   "metadata": {},
   "source": [
    "# Dataset(s)"
   ]
  },
  {
   "cell_type": "markdown",
   "metadata": {},
   "source": [
    "- Dataset Name: SD Parks & Recreation Location Data: Park Locations Data\n",
    "- Link to the dataset: https://github.com/COGS108/individual_fa20/blob/master/data/parks_datasd.geojson\n",
    "- Number of observations: 2769\n",
    "\n",
    "Description: The Park Locations Data is a geojson dataset that contains the location, size, category and owner information of parks under SD Parks and Rec.\n",
    "\n",
    "- Dataset Name: San Diego Parks Yelp Data: Reviews\n",
    "- Link to the dataset: https://github.com/COGS108/individual_fa20/blob/master/data/yelp_SD_reviews.csv\n",
    "- Number of observations: 2333\n",
    "\n",
    "Description: The Yelp review data is a csv dataset that contains Yelp reviews of parks under SD Parks and Rec. The dataset includes up to three reviews (review score from 1-5 and review text) for each park and is curated by Professor Ellis with the Yelp API. \n",
    "\n",
    "Since there are reviews for other locations in the Yelp review dataset, I will be extracting the names of all parks under SD Parks and Rec from the Park Locations dataset and using this list of names to filter out all review entries in the Yelp review dataset so that I am only working with reviews of parks.\n",
    "\n",
    "Additionally, I would like to explain the limitations on the Yelp review dataset: Because of the limitation of the Yelp API, each location in the dataset is capped at three reviews only, meaning that for locations with more than three reviews, I could not get every review to form the whole picture. Another limitation of the Yelp API is that the API will decide which review is included in the dataset if there are more than three reviews for a location, and the exact rules of selecting the reviews is unknown. Therefore, The three reviews for a location in the Yelp dataset may not realistically reflect people's thoughts on that location. A third limitation of the Yelp API is that it will truncate review text if it is too long, resulting in loss of information in many entries of the Yelp review dataset. This has the similar implication as the second limitation since it prevents me from accessing and interpreting whole review texts from the dataset.\n",
    "\n",
    "A final limitation on the datasets is that the park names in the Park Locations dataset sometimes do not match up with the park names in the Yelp review dataset, resulting in me not being able to find all parks and their reviews in the Yelp review dataset. To alleviate the problem, I will be matching locations using both the \"name\" and the \"alias\" feature of the Park Location dataset so that I can get as many reviews about parks as I can in the Yelp review dataset.\n"
   ]
  },
  {
   "cell_type": "markdown",
   "metadata": {},
   "source": [
    "# Setup"
   ]
  },
  {
   "cell_type": "code",
   "execution_count": 145,
   "metadata": {},
   "outputs": [],
   "source": [
    "%matplotlib inline\n",
    "\n",
    "import numpy as np\n",
    "import pandas as pd\n",
    "import matplotlib.pyplot as plt\n",
    "\n",
    "import nltk\n",
    "from nltk.tokenize import word_tokenize\n",
    "from nltk.corpus import stopwords\n",
    "\n",
    "import warnings\n",
    "warnings.filterwarnings('ignore')"
   ]
  },
  {
   "cell_type": "code",
   "execution_count": 146,
   "metadata": {},
   "outputs": [
    {
     "name": "stderr",
     "output_type": "stream",
     "text": [
      "[nltk_data] Downloading package punkt to /home/xil536/nltk_data...\n",
      "[nltk_data]   Package punkt is already up-to-date!\n",
      "[nltk_data] Downloading package stopwords to /home/xil536/nltk_data...\n",
      "[nltk_data]   Package stopwords is already up-to-date!\n"
     ]
    },
    {
     "data": {
      "text/plain": [
       "True"
      ]
     },
     "execution_count": 146,
     "metadata": {},
     "output_type": "execute_result"
    }
   ],
   "source": [
    "# Download the NLTK English tokenizer and the stopwords of all languages\n",
    "nltk.download('punkt')\n",
    "nltk.download('stopwords')"
   ]
  },
  {
   "cell_type": "code",
   "execution_count": 147,
   "metadata": {},
   "outputs": [
    {
     "data": {
      "text/html": [
       "<div>\n",
       "<style scoped>\n",
       "    .dataframe tbody tr th:only-of-type {\n",
       "        vertical-align: middle;\n",
       "    }\n",
       "\n",
       "    .dataframe tbody tr th {\n",
       "        vertical-align: top;\n",
       "    }\n",
       "\n",
       "    .dataframe thead th {\n",
       "        text-align: right;\n",
       "    }\n",
       "</style>\n",
       "<table border=\"1\" class=\"dataframe\">\n",
       "  <thead>\n",
       "    <tr style=\"text-align: right;\">\n",
       "      <th></th>\n",
       "      <th>id</th>\n",
       "      <th>rating</th>\n",
       "      <th>review</th>\n",
       "    </tr>\n",
       "  </thead>\n",
       "  <tbody>\n",
       "    <tr>\n",
       "      <th>0</th>\n",
       "      <td>Balboa Park</td>\n",
       "      <td>5</td>\n",
       "      <td>Balboa Park is a must see when coming to San D...</td>\n",
       "    </tr>\n",
       "    <tr>\n",
       "      <th>1</th>\n",
       "      <td>Balboa Park</td>\n",
       "      <td>5</td>\n",
       "      <td>Beautiful grounds even to take a stroll during...</td>\n",
       "    </tr>\n",
       "    <tr>\n",
       "      <th>2</th>\n",
       "      <td>Balboa Park</td>\n",
       "      <td>5</td>\n",
       "      <td>Beautiful sightseeing in San Diego. Lots of wa...</td>\n",
       "    </tr>\n",
       "    <tr>\n",
       "      <th>3</th>\n",
       "      <td>Civita Park</td>\n",
       "      <td>5</td>\n",
       "      <td>Was invited to child's B-Day party pre Covid-1...</td>\n",
       "    </tr>\n",
       "    <tr>\n",
       "      <th>4</th>\n",
       "      <td>Civita Park</td>\n",
       "      <td>5</td>\n",
       "      <td>Pretty nice park, beautiful design.  Anyone is...</td>\n",
       "    </tr>\n",
       "  </tbody>\n",
       "</table>\n",
       "</div>"
      ],
      "text/plain": [
       "            id rating                                             review\n",
       "0  Balboa Park      5  Balboa Park is a must see when coming to San D...\n",
       "1  Balboa Park      5  Beautiful grounds even to take a stroll during...\n",
       "2  Balboa Park      5  Beautiful sightseeing in San Diego. Lots of wa...\n",
       "3  Civita Park      5  Was invited to child's B-Day party pre Covid-1...\n",
       "4  Civita Park      5  Pretty nice park, beautiful design.  Anyone is..."
      ]
     },
     "execution_count": 147,
     "metadata": {},
     "output_type": "execute_result"
    }
   ],
   "source": [
    "# import reviews data\n",
    "YR_filepath='../data/yelp_SD_reviews.csv'\n",
    "YR_df = pd.read_csv( YR_filepath, header = None )\n",
    "YR_df = YR_df.rename(columns={0: 'id', 1: 'rating', 2:'review'})\n",
    "YR_df = YR_df.drop([0])\n",
    "YR_df = YR_df.reset_index(drop=True)\n",
    "YR_df.head()"
   ]
  },
  {
   "cell_type": "code",
   "execution_count": 148,
   "metadata": {},
   "outputs": [
    {
     "data": {
      "text/html": [
       "<div>\n",
       "<style scoped>\n",
       "    .dataframe tbody tr th:only-of-type {\n",
       "        vertical-align: middle;\n",
       "    }\n",
       "\n",
       "    .dataframe tbody tr th {\n",
       "        vertical-align: top;\n",
       "    }\n",
       "\n",
       "    .dataframe thead th {\n",
       "        text-align: right;\n",
       "    }\n",
       "</style>\n",
       "<table border=\"1\" class=\"dataframe\">\n",
       "  <thead>\n",
       "    <tr style=\"text-align: right;\">\n",
       "      <th></th>\n",
       "      <th>type</th>\n",
       "      <th>features</th>\n",
       "    </tr>\n",
       "  </thead>\n",
       "  <tbody>\n",
       "    <tr>\n",
       "      <th>0</th>\n",
       "      <td>FeatureCollection</td>\n",
       "      <td>{'type': 'Feature', 'geometry': {'type': 'Mult...</td>\n",
       "    </tr>\n",
       "    <tr>\n",
       "      <th>1</th>\n",
       "      <td>FeatureCollection</td>\n",
       "      <td>{'type': 'Feature', 'geometry': {'type': 'Poly...</td>\n",
       "    </tr>\n",
       "    <tr>\n",
       "      <th>2</th>\n",
       "      <td>FeatureCollection</td>\n",
       "      <td>{'type': 'Feature', 'geometry': {'type': 'Poly...</td>\n",
       "    </tr>\n",
       "    <tr>\n",
       "      <th>3</th>\n",
       "      <td>FeatureCollection</td>\n",
       "      <td>{'type': 'Feature', 'geometry': {'type': 'Poly...</td>\n",
       "    </tr>\n",
       "    <tr>\n",
       "      <th>4</th>\n",
       "      <td>FeatureCollection</td>\n",
       "      <td>{'type': 'Feature', 'geometry': {'type': 'Mult...</td>\n",
       "    </tr>\n",
       "  </tbody>\n",
       "</table>\n",
       "</div>"
      ],
      "text/plain": [
       "                type                                           features\n",
       "0  FeatureCollection  {'type': 'Feature', 'geometry': {'type': 'Mult...\n",
       "1  FeatureCollection  {'type': 'Feature', 'geometry': {'type': 'Poly...\n",
       "2  FeatureCollection  {'type': 'Feature', 'geometry': {'type': 'Poly...\n",
       "3  FeatureCollection  {'type': 'Feature', 'geometry': {'type': 'Poly...\n",
       "4  FeatureCollection  {'type': 'Feature', 'geometry': {'type': 'Mult..."
      ]
     },
     "execution_count": 148,
     "metadata": {},
     "output_type": "execute_result"
    }
   ],
   "source": [
    "#import parks location geodata\n",
    "PL_filepath='../data/parks_datasd.geojson'\n",
    "PL_df = pd.read_json( PL_filepath)\n",
    "PL_df.head()"
   ]
  },
  {
   "cell_type": "markdown",
   "metadata": {},
   "source": [
    "# Data Cleaning"
   ]
  },
  {
   "cell_type": "markdown",
   "metadata": {},
   "source": [
    "Describe your data cleaning steps here."
   ]
  },
  {
   "cell_type": "code",
   "execution_count": 149,
   "metadata": {},
   "outputs": [
    {
     "data": {
      "text/html": [
       "<div>\n",
       "<style scoped>\n",
       "    .dataframe tbody tr th:only-of-type {\n",
       "        vertical-align: middle;\n",
       "    }\n",
       "\n",
       "    .dataframe tbody tr th {\n",
       "        vertical-align: top;\n",
       "    }\n",
       "\n",
       "    .dataframe thead th {\n",
       "        text-align: right;\n",
       "    }\n",
       "</style>\n",
       "<table border=\"1\" class=\"dataframe\">\n",
       "  <thead>\n",
       "    <tr style=\"text-align: right;\">\n",
       "      <th></th>\n",
       "      <th>features</th>\n",
       "    </tr>\n",
       "  </thead>\n",
       "  <tbody>\n",
       "    <tr>\n",
       "      <th>0</th>\n",
       "      <td>{'type': 'Feature', 'geometry': {'type': 'Mult...</td>\n",
       "    </tr>\n",
       "    <tr>\n",
       "      <th>1</th>\n",
       "      <td>{'type': 'Feature', 'geometry': {'type': 'Poly...</td>\n",
       "    </tr>\n",
       "    <tr>\n",
       "      <th>2</th>\n",
       "      <td>{'type': 'Feature', 'geometry': {'type': 'Poly...</td>\n",
       "    </tr>\n",
       "    <tr>\n",
       "      <th>3</th>\n",
       "      <td>{'type': 'Feature', 'geometry': {'type': 'Poly...</td>\n",
       "    </tr>\n",
       "    <tr>\n",
       "      <th>4</th>\n",
       "      <td>{'type': 'Feature', 'geometry': {'type': 'Mult...</td>\n",
       "    </tr>\n",
       "  </tbody>\n",
       "</table>\n",
       "</div>"
      ],
      "text/plain": [
       "                                            features\n",
       "0  {'type': 'Feature', 'geometry': {'type': 'Mult...\n",
       "1  {'type': 'Feature', 'geometry': {'type': 'Poly...\n",
       "2  {'type': 'Feature', 'geometry': {'type': 'Poly...\n",
       "3  {'type': 'Feature', 'geometry': {'type': 'Poly...\n",
       "4  {'type': 'Feature', 'geometry': {'type': 'Mult..."
      ]
     },
     "execution_count": 149,
     "metadata": {},
     "output_type": "execute_result"
    }
   ],
   "source": [
    "# Goal 1: remove all entries on yelp review that is not about a park\n",
    "# Step 1: remove the useless \"type\" attrbute of the park location dataset\n",
    "PL_df = PL_df.drop(['type'], axis=1)\n",
    "PL_df.head()"
   ]
  },
  {
   "cell_type": "code",
   "execution_count": 150,
   "metadata": {},
   "outputs": [],
   "source": [
    "# helper function to extract park names from the dict object that holds the geodata\n",
    "def convert_features(feature):\n",
    "    out_name = feature['properties']['name']\n",
    "    return out_name\n",
    "def convert_alias(feature):\n",
    "    out_alias = feature['properties']['alias']\n",
    "    return out_alias"
   ]
  },
  {
   "cell_type": "code",
   "execution_count": 151,
   "metadata": {},
   "outputs": [
    {
     "data": {
      "text/html": [
       "<div>\n",
       "<style scoped>\n",
       "    .dataframe tbody tr th:only-of-type {\n",
       "        vertical-align: middle;\n",
       "    }\n",
       "\n",
       "    .dataframe tbody tr th {\n",
       "        vertical-align: top;\n",
       "    }\n",
       "\n",
       "    .dataframe thead th {\n",
       "        text-align: right;\n",
       "    }\n",
       "</style>\n",
       "<table border=\"1\" class=\"dataframe\">\n",
       "  <thead>\n",
       "    <tr style=\"text-align: right;\">\n",
       "      <th></th>\n",
       "      <th>name</th>\n",
       "      <th>alias</th>\n",
       "    </tr>\n",
       "  </thead>\n",
       "  <tbody>\n",
       "    <tr>\n",
       "      <th>0</th>\n",
       "      <td>South Carlsbad SB</td>\n",
       "      <td>South Carlsbad State Beach</td>\n",
       "    </tr>\n",
       "    <tr>\n",
       "      <th>1</th>\n",
       "      <td>Torrey Pines SB</td>\n",
       "      <td>Torrey Pines State Beach</td>\n",
       "    </tr>\n",
       "    <tr>\n",
       "      <th>2</th>\n",
       "      <td>Ruocco Park</td>\n",
       "      <td>Ruocco Park</td>\n",
       "    </tr>\n",
       "    <tr>\n",
       "      <th>3</th>\n",
       "      <td>Tuna Harbor Park</td>\n",
       "      <td>Tuna Harbor Park</td>\n",
       "    </tr>\n",
       "    <tr>\n",
       "      <th>4</th>\n",
       "      <td>San Diego Bayfront Park</td>\n",
       "      <td>San Diego Bayfront Park</td>\n",
       "    </tr>\n",
       "  </tbody>\n",
       "</table>\n",
       "</div>"
      ],
      "text/plain": [
       "                      name                       alias\n",
       "0        South Carlsbad SB  South Carlsbad State Beach\n",
       "1          Torrey Pines SB    Torrey Pines State Beach\n",
       "2              Ruocco Park                 Ruocco Park\n",
       "3         Tuna Harbor Park            Tuna Harbor Park\n",
       "4  San Diego Bayfront Park     San Diego Bayfront Park"
      ]
     },
     "execution_count": 151,
     "metadata": {},
     "output_type": "execute_result"
    }
   ],
   "source": [
    "# Step 2: apply the function to get the name of all locations that is a \"park\" under SD Park and Rec and drop the now useless geodata\n",
    "# Since in the geodata provided parks have \"name\" and \"alias\", I include them both to catch as many parks as posssible \n",
    "PL_df['name'] = PL_df['features'].apply(convert_features)\n",
    "PL_df['alias'] =PL_df['features'].apply(convert_alias)\n",
    "PL_df = PL_df.drop(['features'], axis=1)\n",
    "PL_df.head()"
   ]
  },
  {
   "cell_type": "code",
   "execution_count": 152,
   "metadata": {},
   "outputs": [
    {
     "data": {
      "text/html": [
       "<div>\n",
       "<style scoped>\n",
       "    .dataframe tbody tr th:only-of-type {\n",
       "        vertical-align: middle;\n",
       "    }\n",
       "\n",
       "    .dataframe tbody tr th {\n",
       "        vertical-align: top;\n",
       "    }\n",
       "\n",
       "    .dataframe thead th {\n",
       "        text-align: right;\n",
       "    }\n",
       "</style>\n",
       "<table border=\"1\" class=\"dataframe\">\n",
       "  <thead>\n",
       "    <tr style=\"text-align: right;\">\n",
       "      <th></th>\n",
       "      <th>id</th>\n",
       "      <th>rating</th>\n",
       "      <th>review</th>\n",
       "    </tr>\n",
       "  </thead>\n",
       "  <tbody>\n",
       "    <tr>\n",
       "      <th>0</th>\n",
       "      <td>Balboa Park</td>\n",
       "      <td>5</td>\n",
       "      <td>Balboa Park is a must see when coming to San D...</td>\n",
       "    </tr>\n",
       "    <tr>\n",
       "      <th>1</th>\n",
       "      <td>Balboa Park</td>\n",
       "      <td>5</td>\n",
       "      <td>Beautiful grounds even to take a stroll during...</td>\n",
       "    </tr>\n",
       "    <tr>\n",
       "      <th>2</th>\n",
       "      <td>Balboa Park</td>\n",
       "      <td>5</td>\n",
       "      <td>Beautiful sightseeing in San Diego. Lots of wa...</td>\n",
       "    </tr>\n",
       "    <tr>\n",
       "      <th>6</th>\n",
       "      <td>Waterfront Park</td>\n",
       "      <td>5</td>\n",
       "      <td>After eating brunch in Little Italy, we decide...</td>\n",
       "    </tr>\n",
       "    <tr>\n",
       "      <th>7</th>\n",
       "      <td>Waterfront Park</td>\n",
       "      <td>5</td>\n",
       "      <td>Definitely worth the price of admission.\\n\\nIf...</td>\n",
       "    </tr>\n",
       "  </tbody>\n",
       "</table>\n",
       "</div>"
      ],
      "text/plain": [
       "                id rating                                             review\n",
       "0      Balboa Park      5  Balboa Park is a must see when coming to San D...\n",
       "1      Balboa Park      5  Beautiful grounds even to take a stroll during...\n",
       "2      Balboa Park      5  Beautiful sightseeing in San Diego. Lots of wa...\n",
       "6  Waterfront Park      5  After eating brunch in Little Italy, we decide...\n",
       "7  Waterfront Park      5  Definitely worth the price of admission.\\n\\nIf..."
      ]
     },
     "execution_count": 152,
     "metadata": {},
     "output_type": "execute_result"
    }
   ],
   "source": [
    "# Step 3: compare the list of parks (PL_df) with the list of yelp reviews to find out all entries about parks in the yelp review dataset \n",
    "#Df1.name.isin(Df2.IDs).astype(int)\n",
    "YR_df['on_name_list'] = YR_df.id.isin(PL_df.name).astype(int)\n",
    "YR_df['on_alias_list'] = YR_df.id.isin(PL_df.alias).astype(int)\n",
    "#YR_df\n",
    "Park_YR_df = YR_df.loc[(YR_df['on_name_list'] == 1 ) | (YR_df['on_alias_list'] == 1)]\n",
    "Park_YR_df\n",
    "# Remove the now useless on_name_list and on_alias_list column\n",
    "Park_YR_df = Park_YR_df.drop(['on_name_list', 'on_alias_list'], axis=1)\n",
    "Park_YR_df.head()\n",
    "# Now I have a dataframe that contains 352 entries of reviews on parks under SD Parks and Rec."
   ]
  },
  {
   "cell_type": "code",
   "execution_count": 153,
   "metadata": {},
   "outputs": [
    {
     "data": {
      "text/plain": [
       "Rolling Hills Park              6\n",
       "Lakeview Park                   6\n",
       "Mesa Verde Park                 6\n",
       "Mission Trails Regional Park    6\n",
       "Memorial Park                   6\n",
       "                               ..\n",
       "Villa Monserate Park            2\n",
       "Ashley Falls Park               2\n",
       "Vista Pacifica Park             1\n",
       "Teralta Park                    1\n",
       "Sunnyslope Park                 1\n",
       "Name: id, Length: 112, dtype: int64"
      ]
     },
     "execution_count": 153,
     "metadata": {},
     "output_type": "execute_result"
    }
   ],
   "source": [
    "# Step 4: Sanity checks to ensure the dataset is ready to go\n",
    "# Checking unique values of id:\n",
    "Park_YR_df['id'].value_counts()\n",
    "# Notice that there park names that has 6 (!) entries of review, while the yelp review dataset only has a max of 3 reviews\n",
    "# per location. This is due to more than one location having the same name. For example, there are two Lakeview Parks and \n",
    "# three Rolling Hills Park all in different locations.Since my analysis is only concerned with good/bad reviews of parks in\n",
    "# general and the number of times \"homeless\" is mentioned in the reviews, the bias caused by duplicate park names should not\n",
    "# be too concerning."
   ]
  },
  {
   "cell_type": "code",
   "execution_count": 154,
   "metadata": {},
   "outputs": [
    {
     "name": "stdout",
     "output_type": "stream",
     "text": [
      "number of NaNs in id: \n",
      "0\n",
      "number of NaNs in rating: \n",
      "0\n",
      "number of NaNs in review: \n",
      "0\n"
     ]
    }
   ],
   "source": [
    "# Goal 2: Ensuring cleanliness of data\n",
    "# Step 1: Checking NaN values:\n",
    "print('number of NaNs in id: ')\n",
    "print(Park_YR_df['id'].isna().sum())\n",
    "print('number of NaNs in rating: ')\n",
    "print(Park_YR_df['rating'].isna().sum())\n",
    "print('number of NaNs in review: ')\n",
    "print(Park_YR_df['review'].isna().sum())"
   ]
  },
  {
   "cell_type": "markdown",
   "metadata": {},
   "source": [
    "There are no NaN values anywhere! This is a good sign that my data is clean. I did not check whether there are other illegal entries because they should have been already taken care of: My process of only finding reviews about parks under SD Parks and Rec by matching names should eliminate all illegal entries in the \"id\" column; The \"rating\" column should not have any illegal values to begin with because the data is obtained by using the Yelp API, and I can assume with confidence that Yelp will not generate a rating with illegal values in the first place; Since the \"review\" column is also obtained via Yelp API, I can still only assume (albeit with less confidence) that there are no gibberish in the \"review\" column. Since I am doing TF-IDF on the reviews, even if there are a few gibberish reviews, the resulting bias would not be too big since: 1) a few meaningless words will not rank too high on the TF-IDF scale. 2) I am looking at words individually so the context is already removed in the process."
   ]
  },
  {
   "cell_type": "code",
   "execution_count": 155,
   "metadata": {},
   "outputs": [],
   "source": [
    "# Step 2: convert the rating from strings into int values\n",
    "def convert_rating(rating):\n",
    "    if rating == '5':\n",
    "        out = 5\n",
    "    elif rating == '4':\n",
    "        out = 4\n",
    "    elif rating == '3':\n",
    "        out = 3\n",
    "    elif rating == '2':\n",
    "        out = 2\n",
    "    else:\n",
    "        out = 1\n",
    "    return out"
   ]
  },
  {
   "cell_type": "code",
   "execution_count": 156,
   "metadata": {},
   "outputs": [
    {
     "data": {
      "text/html": [
       "<div>\n",
       "<style scoped>\n",
       "    .dataframe tbody tr th:only-of-type {\n",
       "        vertical-align: middle;\n",
       "    }\n",
       "\n",
       "    .dataframe tbody tr th {\n",
       "        vertical-align: top;\n",
       "    }\n",
       "\n",
       "    .dataframe thead th {\n",
       "        text-align: right;\n",
       "    }\n",
       "</style>\n",
       "<table border=\"1\" class=\"dataframe\">\n",
       "  <thead>\n",
       "    <tr style=\"text-align: right;\">\n",
       "      <th></th>\n",
       "      <th>id</th>\n",
       "      <th>rating</th>\n",
       "      <th>review</th>\n",
       "      <th>numrating</th>\n",
       "    </tr>\n",
       "  </thead>\n",
       "  <tbody>\n",
       "    <tr>\n",
       "      <th>0</th>\n",
       "      <td>Balboa Park</td>\n",
       "      <td>5</td>\n",
       "      <td>Balboa Park is a must see when coming to San D...</td>\n",
       "      <td>5</td>\n",
       "    </tr>\n",
       "    <tr>\n",
       "      <th>1</th>\n",
       "      <td>Balboa Park</td>\n",
       "      <td>5</td>\n",
       "      <td>Beautiful grounds even to take a stroll during...</td>\n",
       "      <td>5</td>\n",
       "    </tr>\n",
       "    <tr>\n",
       "      <th>2</th>\n",
       "      <td>Balboa Park</td>\n",
       "      <td>5</td>\n",
       "      <td>Beautiful sightseeing in San Diego. Lots of wa...</td>\n",
       "      <td>5</td>\n",
       "    </tr>\n",
       "    <tr>\n",
       "      <th>6</th>\n",
       "      <td>Waterfront Park</td>\n",
       "      <td>5</td>\n",
       "      <td>After eating brunch in Little Italy, we decide...</td>\n",
       "      <td>5</td>\n",
       "    </tr>\n",
       "    <tr>\n",
       "      <th>7</th>\n",
       "      <td>Waterfront Park</td>\n",
       "      <td>5</td>\n",
       "      <td>Definitely worth the price of admission.\\n\\nIf...</td>\n",
       "      <td>5</td>\n",
       "    </tr>\n",
       "    <tr>\n",
       "      <th>...</th>\n",
       "      <td>...</td>\n",
       "      <td>...</td>\n",
       "      <td>...</td>\n",
       "      <td>...</td>\n",
       "    </tr>\n",
       "    <tr>\n",
       "      <th>2207</th>\n",
       "      <td>Ashley Falls Park</td>\n",
       "      <td>5</td>\n",
       "      <td>New playground for my 4 yo and 10month old. Bu...</td>\n",
       "      <td>5</td>\n",
       "    </tr>\n",
       "    <tr>\n",
       "      <th>2208</th>\n",
       "      <td>Ashley Falls Park</td>\n",
       "      <td>4</td>\n",
       "      <td>came here for a kids birthday party...not my f...</td>\n",
       "      <td>4</td>\n",
       "    </tr>\n",
       "    <tr>\n",
       "      <th>2239</th>\n",
       "      <td>Cuvier Park</td>\n",
       "      <td>5</td>\n",
       "      <td>Cuvier Park also known as The Wedding Bowl. Th...</td>\n",
       "      <td>5</td>\n",
       "    </tr>\n",
       "    <tr>\n",
       "      <th>2240</th>\n",
       "      <td>Cuvier Park</td>\n",
       "      <td>5</td>\n",
       "      <td>I cannot think of an ugly beach in La Jolla or...</td>\n",
       "      <td>5</td>\n",
       "    </tr>\n",
       "    <tr>\n",
       "      <th>2241</th>\n",
       "      <td>Cuvier Park</td>\n",
       "      <td>5</td>\n",
       "      <td>I paid under $200 for a park permit to host my...</td>\n",
       "      <td>5</td>\n",
       "    </tr>\n",
       "  </tbody>\n",
       "</table>\n",
       "<p>352 rows × 4 columns</p>\n",
       "</div>"
      ],
      "text/plain": [
       "                     id rating  \\\n",
       "0           Balboa Park      5   \n",
       "1           Balboa Park      5   \n",
       "2           Balboa Park      5   \n",
       "6       Waterfront Park      5   \n",
       "7       Waterfront Park      5   \n",
       "...                 ...    ...   \n",
       "2207  Ashley Falls Park      5   \n",
       "2208  Ashley Falls Park      4   \n",
       "2239        Cuvier Park      5   \n",
       "2240        Cuvier Park      5   \n",
       "2241        Cuvier Park      5   \n",
       "\n",
       "                                                 review  numrating  \n",
       "0     Balboa Park is a must see when coming to San D...          5  \n",
       "1     Beautiful grounds even to take a stroll during...          5  \n",
       "2     Beautiful sightseeing in San Diego. Lots of wa...          5  \n",
       "6     After eating brunch in Little Italy, we decide...          5  \n",
       "7     Definitely worth the price of admission.\\n\\nIf...          5  \n",
       "...                                                 ...        ...  \n",
       "2207  New playground for my 4 yo and 10month old. Bu...          5  \n",
       "2208  came here for a kids birthday party...not my f...          4  \n",
       "2239  Cuvier Park also known as The Wedding Bowl. Th...          5  \n",
       "2240  I cannot think of an ugly beach in La Jolla or...          5  \n",
       "2241  I paid under $200 for a park permit to host my...          5  \n",
       "\n",
       "[352 rows x 4 columns]"
      ]
     },
     "execution_count": 156,
     "metadata": {},
     "output_type": "execute_result"
    }
   ],
   "source": [
    "Park_YR_df['numrating'] = Park_YR_df['rating'].apply(convert_rating)\n",
    "Park_YR_df"
   ]
  },
  {
   "cell_type": "markdown",
   "metadata": {},
   "source": [
    "# Data Analysis & Results"
   ]
  },
  {
   "cell_type": "markdown",
   "metadata": {},
   "source": [
    "Here I seperate the Yelp review dataset on parks into two groups. Because I want to use TF-IDF to see if homeless people is a significant factor in negative reviews, I seperate the dataset into good reviews (with rating 3-5) and bad reviews (with rating 1-2)."
   ]
  },
  {
   "cell_type": "code",
   "execution_count": 157,
   "metadata": {},
   "outputs": [],
   "source": [
    "# Seperate Yelp review data into 2 sets of documents for TF-IDF\n",
    "good_review_df = Park_YR_df.loc[(Park_YR_df['numrating'] >= 3 )]\n",
    "bad_review_df = Park_YR_df.loc[(Park_YR_df['numrating'] < 3)]"
   ]
  },
  {
   "cell_type": "code",
   "execution_count": 158,
   "metadata": {},
   "outputs": [
    {
     "data": {
      "text/html": [
       "<div>\n",
       "<style scoped>\n",
       "    .dataframe tbody tr th:only-of-type {\n",
       "        vertical-align: middle;\n",
       "    }\n",
       "\n",
       "    .dataframe tbody tr th {\n",
       "        vertical-align: top;\n",
       "    }\n",
       "\n",
       "    .dataframe thead th {\n",
       "        text-align: right;\n",
       "    }\n",
       "</style>\n",
       "<table border=\"1\" class=\"dataframe\">\n",
       "  <thead>\n",
       "    <tr style=\"text-align: right;\">\n",
       "      <th></th>\n",
       "      <th>id</th>\n",
       "      <th>rating</th>\n",
       "      <th>review</th>\n",
       "      <th>numrating</th>\n",
       "    </tr>\n",
       "  </thead>\n",
       "  <tbody>\n",
       "    <tr>\n",
       "      <th>0</th>\n",
       "      <td>Balboa Park</td>\n",
       "      <td>5</td>\n",
       "      <td>Balboa Park is a must see when coming to San D...</td>\n",
       "      <td>5</td>\n",
       "    </tr>\n",
       "    <tr>\n",
       "      <th>1</th>\n",
       "      <td>Balboa Park</td>\n",
       "      <td>5</td>\n",
       "      <td>Beautiful grounds even to take a stroll during...</td>\n",
       "      <td>5</td>\n",
       "    </tr>\n",
       "    <tr>\n",
       "      <th>2</th>\n",
       "      <td>Balboa Park</td>\n",
       "      <td>5</td>\n",
       "      <td>Beautiful sightseeing in San Diego. Lots of wa...</td>\n",
       "      <td>5</td>\n",
       "    </tr>\n",
       "    <tr>\n",
       "      <th>6</th>\n",
       "      <td>Waterfront Park</td>\n",
       "      <td>5</td>\n",
       "      <td>After eating brunch in Little Italy, we decide...</td>\n",
       "      <td>5</td>\n",
       "    </tr>\n",
       "    <tr>\n",
       "      <th>7</th>\n",
       "      <td>Waterfront Park</td>\n",
       "      <td>5</td>\n",
       "      <td>Definitely worth the price of admission.\\n\\nIf...</td>\n",
       "      <td>5</td>\n",
       "    </tr>\n",
       "  </tbody>\n",
       "</table>\n",
       "</div>"
      ],
      "text/plain": [
       "                id rating                                             review  \\\n",
       "0      Balboa Park      5  Balboa Park is a must see when coming to San D...   \n",
       "1      Balboa Park      5  Beautiful grounds even to take a stroll during...   \n",
       "2      Balboa Park      5  Beautiful sightseeing in San Diego. Lots of wa...   \n",
       "6  Waterfront Park      5  After eating brunch in Little Italy, we decide...   \n",
       "7  Waterfront Park      5  Definitely worth the price of admission.\\n\\nIf...   \n",
       "\n",
       "   numrating  \n",
       "0          5  \n",
       "1          5  \n",
       "2          5  \n",
       "6          5  \n",
       "7          5  "
      ]
     },
     "execution_count": 158,
     "metadata": {},
     "output_type": "execute_result"
    }
   ],
   "source": [
    "good_review_df.head()"
   ]
  },
  {
   "cell_type": "code",
   "execution_count": 159,
   "metadata": {},
   "outputs": [
    {
     "data": {
      "text/html": [
       "<div>\n",
       "<style scoped>\n",
       "    .dataframe tbody tr th:only-of-type {\n",
       "        vertical-align: middle;\n",
       "    }\n",
       "\n",
       "    .dataframe tbody tr th {\n",
       "        vertical-align: top;\n",
       "    }\n",
       "\n",
       "    .dataframe thead th {\n",
       "        text-align: right;\n",
       "    }\n",
       "</style>\n",
       "<table border=\"1\" class=\"dataframe\">\n",
       "  <thead>\n",
       "    <tr style=\"text-align: right;\">\n",
       "      <th></th>\n",
       "      <th>id</th>\n",
       "      <th>rating</th>\n",
       "      <th>review</th>\n",
       "      <th>numrating</th>\n",
       "    </tr>\n",
       "  </thead>\n",
       "  <tbody>\n",
       "    <tr>\n",
       "      <th>287</th>\n",
       "      <td>Edward Tyler Cramer Park</td>\n",
       "      <td>1</td>\n",
       "      <td>There is NO PARKING. This is a taxpayer mainta...</td>\n",
       "      <td>1</td>\n",
       "    </tr>\n",
       "    <tr>\n",
       "      <th>318</th>\n",
       "      <td>Western Hills Park</td>\n",
       "      <td>2</td>\n",
       "      <td>I almost got a ticket there for having my dog ...</td>\n",
       "      <td>2</td>\n",
       "    </tr>\n",
       "    <tr>\n",
       "      <th>352</th>\n",
       "      <td>Kearny Mesa Park</td>\n",
       "      <td>1</td>\n",
       "      <td>This park is a good alternative to Lindbergh P...</td>\n",
       "      <td>1</td>\n",
       "    </tr>\n",
       "    <tr>\n",
       "      <th>377</th>\n",
       "      <td>Parkside Park</td>\n",
       "      <td>1</td>\n",
       "      <td>Wow fuck the city and its park and rec departm...</td>\n",
       "      <td>1</td>\n",
       "    </tr>\n",
       "    <tr>\n",
       "      <th>428</th>\n",
       "      <td>Lamar Park</td>\n",
       "      <td>1</td>\n",
       "      <td>This park had huge potential until the very la...</td>\n",
       "      <td>1</td>\n",
       "    </tr>\n",
       "  </tbody>\n",
       "</table>\n",
       "</div>"
      ],
      "text/plain": [
       "                           id rating  \\\n",
       "287  Edward Tyler Cramer Park      1   \n",
       "318        Western Hills Park      2   \n",
       "352          Kearny Mesa Park      1   \n",
       "377             Parkside Park      1   \n",
       "428                Lamar Park      1   \n",
       "\n",
       "                                                review  numrating  \n",
       "287  There is NO PARKING. This is a taxpayer mainta...          1  \n",
       "318  I almost got a ticket there for having my dog ...          2  \n",
       "352  This park is a good alternative to Lindbergh P...          1  \n",
       "377  Wow fuck the city and its park and rec departm...          1  \n",
       "428  This park had huge potential until the very la...          1  "
      ]
     },
     "execution_count": 159,
     "metadata": {},
     "output_type": "execute_result"
    }
   ],
   "source": [
    "bad_review_df.head()"
   ]
  },
  {
   "cell_type": "markdown",
   "metadata": {},
   "source": [
    "Here I am doing a bit of EDA to see the frequency of the word \"homeless\" and other words to get an understanding of the frequency distribution of the words."
   ]
  },
  {
   "cell_type": "code",
   "execution_count": 160,
   "metadata": {},
   "outputs": [],
   "source": [
    "## import word tokenizer\n",
    "from nltk.tokenize import word_tokenize"
   ]
  },
  {
   "cell_type": "code",
   "execution_count": 161,
   "metadata": {},
   "outputs": [],
   "source": [
    "good_review_df['review_token'] = good_review_df['review'].apply(word_tokenize) \n",
    "bad_review_df['review_token'] = bad_review_df['review'].apply(word_tokenize) \n"
   ]
  },
  {
   "cell_type": "code",
   "execution_count": 162,
   "metadata": {},
   "outputs": [
    {
     "data": {
      "text/html": [
       "<div>\n",
       "<style scoped>\n",
       "    .dataframe tbody tr th:only-of-type {\n",
       "        vertical-align: middle;\n",
       "    }\n",
       "\n",
       "    .dataframe tbody tr th {\n",
       "        vertical-align: top;\n",
       "    }\n",
       "\n",
       "    .dataframe thead th {\n",
       "        text-align: right;\n",
       "    }\n",
       "</style>\n",
       "<table border=\"1\" class=\"dataframe\">\n",
       "  <thead>\n",
       "    <tr style=\"text-align: right;\">\n",
       "      <th></th>\n",
       "      <th>id</th>\n",
       "      <th>rating</th>\n",
       "      <th>review</th>\n",
       "      <th>numrating</th>\n",
       "      <th>review_token</th>\n",
       "    </tr>\n",
       "  </thead>\n",
       "  <tbody>\n",
       "    <tr>\n",
       "      <th>0</th>\n",
       "      <td>Balboa Park</td>\n",
       "      <td>5</td>\n",
       "      <td>Balboa Park is a must see when coming to San D...</td>\n",
       "      <td>5</td>\n",
       "      <td>[Balboa, Park, is, a, must, see, when, coming,...</td>\n",
       "    </tr>\n",
       "    <tr>\n",
       "      <th>1</th>\n",
       "      <td>Balboa Park</td>\n",
       "      <td>5</td>\n",
       "      <td>Beautiful grounds even to take a stroll during...</td>\n",
       "      <td>5</td>\n",
       "      <td>[Beautiful, grounds, even, to, take, a, stroll...</td>\n",
       "    </tr>\n",
       "    <tr>\n",
       "      <th>2</th>\n",
       "      <td>Balboa Park</td>\n",
       "      <td>5</td>\n",
       "      <td>Beautiful sightseeing in San Diego. Lots of wa...</td>\n",
       "      <td>5</td>\n",
       "      <td>[Beautiful, sightseeing, in, San, Diego, ., Lo...</td>\n",
       "    </tr>\n",
       "    <tr>\n",
       "      <th>6</th>\n",
       "      <td>Waterfront Park</td>\n",
       "      <td>5</td>\n",
       "      <td>After eating brunch in Little Italy, we decide...</td>\n",
       "      <td>5</td>\n",
       "      <td>[After, eating, brunch, in, Little, Italy, ,, ...</td>\n",
       "    </tr>\n",
       "    <tr>\n",
       "      <th>7</th>\n",
       "      <td>Waterfront Park</td>\n",
       "      <td>5</td>\n",
       "      <td>Definitely worth the price of admission.\\n\\nIf...</td>\n",
       "      <td>5</td>\n",
       "      <td>[Definitely, worth, the, price, of, admission,...</td>\n",
       "    </tr>\n",
       "  </tbody>\n",
       "</table>\n",
       "</div>"
      ],
      "text/plain": [
       "                id rating                                             review  \\\n",
       "0      Balboa Park      5  Balboa Park is a must see when coming to San D...   \n",
       "1      Balboa Park      5  Beautiful grounds even to take a stroll during...   \n",
       "2      Balboa Park      5  Beautiful sightseeing in San Diego. Lots of wa...   \n",
       "6  Waterfront Park      5  After eating brunch in Little Italy, we decide...   \n",
       "7  Waterfront Park      5  Definitely worth the price of admission.\\n\\nIf...   \n",
       "\n",
       "   numrating                                       review_token  \n",
       "0          5  [Balboa, Park, is, a, must, see, when, coming,...  \n",
       "1          5  [Beautiful, grounds, even, to, take, a, stroll...  \n",
       "2          5  [Beautiful, sightseeing, in, San, Diego, ., Lo...  \n",
       "6          5  [After, eating, brunch, in, Little, Italy, ,, ...  \n",
       "7          5  [Definitely, worth, the, price, of, admission,...  "
      ]
     },
     "execution_count": 162,
     "metadata": {},
     "output_type": "execute_result"
    }
   ],
   "source": [
    "good_review_df.head()"
   ]
  },
  {
   "cell_type": "code",
   "execution_count": 163,
   "metadata": {},
   "outputs": [
    {
     "data": {
      "text/html": [
       "<div>\n",
       "<style scoped>\n",
       "    .dataframe tbody tr th:only-of-type {\n",
       "        vertical-align: middle;\n",
       "    }\n",
       "\n",
       "    .dataframe tbody tr th {\n",
       "        vertical-align: top;\n",
       "    }\n",
       "\n",
       "    .dataframe thead th {\n",
       "        text-align: right;\n",
       "    }\n",
       "</style>\n",
       "<table border=\"1\" class=\"dataframe\">\n",
       "  <thead>\n",
       "    <tr style=\"text-align: right;\">\n",
       "      <th></th>\n",
       "      <th>id</th>\n",
       "      <th>rating</th>\n",
       "      <th>review</th>\n",
       "      <th>numrating</th>\n",
       "      <th>review_token</th>\n",
       "    </tr>\n",
       "  </thead>\n",
       "  <tbody>\n",
       "    <tr>\n",
       "      <th>287</th>\n",
       "      <td>Edward Tyler Cramer Park</td>\n",
       "      <td>1</td>\n",
       "      <td>There is NO PARKING. This is a taxpayer mainta...</td>\n",
       "      <td>1</td>\n",
       "      <td>[There, is, NO, PARKING, ., This, is, a, taxpa...</td>\n",
       "    </tr>\n",
       "    <tr>\n",
       "      <th>318</th>\n",
       "      <td>Western Hills Park</td>\n",
       "      <td>2</td>\n",
       "      <td>I almost got a ticket there for having my dog ...</td>\n",
       "      <td>2</td>\n",
       "      <td>[I, almost, got, a, ticket, there, for, having...</td>\n",
       "    </tr>\n",
       "    <tr>\n",
       "      <th>352</th>\n",
       "      <td>Kearny Mesa Park</td>\n",
       "      <td>1</td>\n",
       "      <td>This park is a good alternative to Lindbergh P...</td>\n",
       "      <td>1</td>\n",
       "      <td>[This, park, is, a, good, alternative, to, Lin...</td>\n",
       "    </tr>\n",
       "    <tr>\n",
       "      <th>377</th>\n",
       "      <td>Parkside Park</td>\n",
       "      <td>1</td>\n",
       "      <td>Wow fuck the city and its park and rec departm...</td>\n",
       "      <td>1</td>\n",
       "      <td>[Wow, fuck, the, city, and, its, park, and, re...</td>\n",
       "    </tr>\n",
       "    <tr>\n",
       "      <th>428</th>\n",
       "      <td>Lamar Park</td>\n",
       "      <td>1</td>\n",
       "      <td>This park had huge potential until the very la...</td>\n",
       "      <td>1</td>\n",
       "      <td>[This, park, had, huge, potential, until, the,...</td>\n",
       "    </tr>\n",
       "  </tbody>\n",
       "</table>\n",
       "</div>"
      ],
      "text/plain": [
       "                           id rating  \\\n",
       "287  Edward Tyler Cramer Park      1   \n",
       "318        Western Hills Park      2   \n",
       "352          Kearny Mesa Park      1   \n",
       "377             Parkside Park      1   \n",
       "428                Lamar Park      1   \n",
       "\n",
       "                                                review  numrating  \\\n",
       "287  There is NO PARKING. This is a taxpayer mainta...          1   \n",
       "318  I almost got a ticket there for having my dog ...          2   \n",
       "352  This park is a good alternative to Lindbergh P...          1   \n",
       "377  Wow fuck the city and its park and rec departm...          1   \n",
       "428  This park had huge potential until the very la...          1   \n",
       "\n",
       "                                          review_token  \n",
       "287  [There, is, NO, PARKING, ., This, is, a, taxpa...  \n",
       "318  [I, almost, got, a, ticket, there, for, having...  \n",
       "352  [This, park, is, a, good, alternative, to, Lin...  \n",
       "377  [Wow, fuck, the, city, and, its, park, and, re...  \n",
       "428  [This, park, had, huge, potential, until, the,...  "
      ]
     },
     "execution_count": 163,
     "metadata": {},
     "output_type": "execute_result"
    }
   ],
   "source": [
    "bad_review_df.head()"
   ]
  },
  {
   "cell_type": "code",
   "execution_count": 164,
   "metadata": {},
   "outputs": [],
   "source": [
    "# Import stop words and clean stopwords from tokenized data\n",
    "from nltk.corpus import stopwords\n",
    "stop_words = set(stopwords.words('english'))\n",
    "good_review_df['review_stop'] = good_review_df['review_token'].apply(lambda x: [item for item in x if item not in stop_words])\n",
    "bad_review_df['review_stop'] = bad_review_df['review_token'].apply(lambda x: [item for item in x if item not in stop_words])"
   ]
  },
  {
   "cell_type": "code",
   "execution_count": 165,
   "metadata": {},
   "outputs": [
    {
     "data": {
      "text/html": [
       "<div>\n",
       "<style scoped>\n",
       "    .dataframe tbody tr th:only-of-type {\n",
       "        vertical-align: middle;\n",
       "    }\n",
       "\n",
       "    .dataframe tbody tr th {\n",
       "        vertical-align: top;\n",
       "    }\n",
       "\n",
       "    .dataframe thead th {\n",
       "        text-align: right;\n",
       "    }\n",
       "</style>\n",
       "<table border=\"1\" class=\"dataframe\">\n",
       "  <thead>\n",
       "    <tr style=\"text-align: right;\">\n",
       "      <th></th>\n",
       "      <th>id</th>\n",
       "      <th>rating</th>\n",
       "      <th>review</th>\n",
       "      <th>numrating</th>\n",
       "      <th>review_token</th>\n",
       "      <th>review_stop</th>\n",
       "    </tr>\n",
       "  </thead>\n",
       "  <tbody>\n",
       "    <tr>\n",
       "      <th>0</th>\n",
       "      <td>Balboa Park</td>\n",
       "      <td>5</td>\n",
       "      <td>Balboa Park is a must see when coming to San D...</td>\n",
       "      <td>5</td>\n",
       "      <td>[Balboa, Park, is, a, must, see, when, coming,...</td>\n",
       "      <td>[Balboa, Park, must, see, coming, San, Diego, ...</td>\n",
       "    </tr>\n",
       "    <tr>\n",
       "      <th>1</th>\n",
       "      <td>Balboa Park</td>\n",
       "      <td>5</td>\n",
       "      <td>Beautiful grounds even to take a stroll during...</td>\n",
       "      <td>5</td>\n",
       "      <td>[Beautiful, grounds, even, to, take, a, stroll...</td>\n",
       "      <td>[Beautiful, grounds, even, take, stroll, Covid...</td>\n",
       "    </tr>\n",
       "    <tr>\n",
       "      <th>2</th>\n",
       "      <td>Balboa Park</td>\n",
       "      <td>5</td>\n",
       "      <td>Beautiful sightseeing in San Diego. Lots of wa...</td>\n",
       "      <td>5</td>\n",
       "      <td>[Beautiful, sightseeing, in, San, Diego, ., Lo...</td>\n",
       "      <td>[Beautiful, sightseeing, San, Diego, ., Lots, ...</td>\n",
       "    </tr>\n",
       "    <tr>\n",
       "      <th>6</th>\n",
       "      <td>Waterfront Park</td>\n",
       "      <td>5</td>\n",
       "      <td>After eating brunch in Little Italy, we decide...</td>\n",
       "      <td>5</td>\n",
       "      <td>[After, eating, brunch, in, Little, Italy, ,, ...</td>\n",
       "      <td>[After, eating, brunch, Little, Italy, ,, deci...</td>\n",
       "    </tr>\n",
       "    <tr>\n",
       "      <th>7</th>\n",
       "      <td>Waterfront Park</td>\n",
       "      <td>5</td>\n",
       "      <td>Definitely worth the price of admission.\\n\\nIf...</td>\n",
       "      <td>5</td>\n",
       "      <td>[Definitely, worth, the, price, of, admission,...</td>\n",
       "      <td>[Definitely, worth, price, admission, ., If, l...</td>\n",
       "    </tr>\n",
       "  </tbody>\n",
       "</table>\n",
       "</div>"
      ],
      "text/plain": [
       "                id rating                                             review  \\\n",
       "0      Balboa Park      5  Balboa Park is a must see when coming to San D...   \n",
       "1      Balboa Park      5  Beautiful grounds even to take a stroll during...   \n",
       "2      Balboa Park      5  Beautiful sightseeing in San Diego. Lots of wa...   \n",
       "6  Waterfront Park      5  After eating brunch in Little Italy, we decide...   \n",
       "7  Waterfront Park      5  Definitely worth the price of admission.\\n\\nIf...   \n",
       "\n",
       "   numrating                                       review_token  \\\n",
       "0          5  [Balboa, Park, is, a, must, see, when, coming,...   \n",
       "1          5  [Beautiful, grounds, even, to, take, a, stroll...   \n",
       "2          5  [Beautiful, sightseeing, in, San, Diego, ., Lo...   \n",
       "6          5  [After, eating, brunch, in, Little, Italy, ,, ...   \n",
       "7          5  [Definitely, worth, the, price, of, admission,...   \n",
       "\n",
       "                                         review_stop  \n",
       "0  [Balboa, Park, must, see, coming, San, Diego, ...  \n",
       "1  [Beautiful, grounds, even, take, stroll, Covid...  \n",
       "2  [Beautiful, sightseeing, San, Diego, ., Lots, ...  \n",
       "6  [After, eating, brunch, Little, Italy, ,, deci...  \n",
       "7  [Definitely, worth, price, admission, ., If, l...  "
      ]
     },
     "execution_count": 165,
     "metadata": {},
     "output_type": "execute_result"
    }
   ],
   "source": [
    "good_review_df.head()"
   ]
  },
  {
   "cell_type": "code",
   "execution_count": 166,
   "metadata": {},
   "outputs": [
    {
     "data": {
      "text/html": [
       "<div>\n",
       "<style scoped>\n",
       "    .dataframe tbody tr th:only-of-type {\n",
       "        vertical-align: middle;\n",
       "    }\n",
       "\n",
       "    .dataframe tbody tr th {\n",
       "        vertical-align: top;\n",
       "    }\n",
       "\n",
       "    .dataframe thead th {\n",
       "        text-align: right;\n",
       "    }\n",
       "</style>\n",
       "<table border=\"1\" class=\"dataframe\">\n",
       "  <thead>\n",
       "    <tr style=\"text-align: right;\">\n",
       "      <th></th>\n",
       "      <th>id</th>\n",
       "      <th>rating</th>\n",
       "      <th>review</th>\n",
       "      <th>numrating</th>\n",
       "      <th>review_token</th>\n",
       "      <th>review_stop</th>\n",
       "    </tr>\n",
       "  </thead>\n",
       "  <tbody>\n",
       "    <tr>\n",
       "      <th>287</th>\n",
       "      <td>Edward Tyler Cramer Park</td>\n",
       "      <td>1</td>\n",
       "      <td>There is NO PARKING. This is a taxpayer mainta...</td>\n",
       "      <td>1</td>\n",
       "      <td>[There, is, NO, PARKING, ., This, is, a, taxpa...</td>\n",
       "      <td>[There, NO, PARKING, ., This, taxpayer, mainta...</td>\n",
       "    </tr>\n",
       "    <tr>\n",
       "      <th>318</th>\n",
       "      <td>Western Hills Park</td>\n",
       "      <td>2</td>\n",
       "      <td>I almost got a ticket there for having my dog ...</td>\n",
       "      <td>2</td>\n",
       "      <td>[I, almost, got, a, ticket, there, for, having...</td>\n",
       "      <td>[I, almost, got, ticket, dog, leash, ., It, 's...</td>\n",
       "    </tr>\n",
       "    <tr>\n",
       "      <th>352</th>\n",
       "      <td>Kearny Mesa Park</td>\n",
       "      <td>1</td>\n",
       "      <td>This park is a good alternative to Lindbergh P...</td>\n",
       "      <td>1</td>\n",
       "      <td>[This, park, is, a, good, alternative, to, Lin...</td>\n",
       "      <td>[This, park, good, alternative, Lindbergh, Par...</td>\n",
       "    </tr>\n",
       "    <tr>\n",
       "      <th>377</th>\n",
       "      <td>Parkside Park</td>\n",
       "      <td>1</td>\n",
       "      <td>Wow fuck the city and its park and rec departm...</td>\n",
       "      <td>1</td>\n",
       "      <td>[Wow, fuck, the, city, and, its, park, and, re...</td>\n",
       "      <td>[Wow, fuck, city, park, rec, department, ., Yo...</td>\n",
       "    </tr>\n",
       "    <tr>\n",
       "      <th>428</th>\n",
       "      <td>Lamar Park</td>\n",
       "      <td>1</td>\n",
       "      <td>This park had huge potential until the very la...</td>\n",
       "      <td>1</td>\n",
       "      <td>[This, park, had, huge, potential, until, the,...</td>\n",
       "      <td>[This, park, huge, potential, large, homeless,...</td>\n",
       "    </tr>\n",
       "  </tbody>\n",
       "</table>\n",
       "</div>"
      ],
      "text/plain": [
       "                           id rating  \\\n",
       "287  Edward Tyler Cramer Park      1   \n",
       "318        Western Hills Park      2   \n",
       "352          Kearny Mesa Park      1   \n",
       "377             Parkside Park      1   \n",
       "428                Lamar Park      1   \n",
       "\n",
       "                                                review  numrating  \\\n",
       "287  There is NO PARKING. This is a taxpayer mainta...          1   \n",
       "318  I almost got a ticket there for having my dog ...          2   \n",
       "352  This park is a good alternative to Lindbergh P...          1   \n",
       "377  Wow fuck the city and its park and rec departm...          1   \n",
       "428  This park had huge potential until the very la...          1   \n",
       "\n",
       "                                          review_token  \\\n",
       "287  [There, is, NO, PARKING, ., This, is, a, taxpa...   \n",
       "318  [I, almost, got, a, ticket, there, for, having...   \n",
       "352  [This, park, is, a, good, alternative, to, Lin...   \n",
       "377  [Wow, fuck, the, city, and, its, park, and, re...   \n",
       "428  [This, park, had, huge, potential, until, the,...   \n",
       "\n",
       "                                           review_stop  \n",
       "287  [There, NO, PARKING, ., This, taxpayer, mainta...  \n",
       "318  [I, almost, got, ticket, dog, leash, ., It, 's...  \n",
       "352  [This, park, good, alternative, Lindbergh, Par...  \n",
       "377  [Wow, fuck, city, park, rec, department, ., Yo...  \n",
       "428  [This, park, huge, potential, large, homeless,...  "
      ]
     },
     "execution_count": 166,
     "metadata": {},
     "output_type": "execute_result"
    }
   ],
   "source": [
    "bad_review_df.head()"
   ]
  },
  {
   "cell_type": "code",
   "execution_count": 167,
   "metadata": {},
   "outputs": [],
   "source": [
    "# Stemming\n",
    "from nltk.stem import PorterStemmer\n",
    "ps = PorterStemmer()\n",
    "\n",
    "good_review_df['review_stem'] = good_review_df['review_stop'].apply(lambda x: [ps.stem(y) for y in x])\n",
    "bad_review_df['review_stem'] = bad_review_df['review_stop'].apply(lambda x: [ps.stem(y) for y in x])"
   ]
  },
  {
   "cell_type": "code",
   "execution_count": 168,
   "metadata": {},
   "outputs": [
    {
     "data": {
      "text/html": [
       "<div>\n",
       "<style scoped>\n",
       "    .dataframe tbody tr th:only-of-type {\n",
       "        vertical-align: middle;\n",
       "    }\n",
       "\n",
       "    .dataframe tbody tr th {\n",
       "        vertical-align: top;\n",
       "    }\n",
       "\n",
       "    .dataframe thead th {\n",
       "        text-align: right;\n",
       "    }\n",
       "</style>\n",
       "<table border=\"1\" class=\"dataframe\">\n",
       "  <thead>\n",
       "    <tr style=\"text-align: right;\">\n",
       "      <th></th>\n",
       "      <th>id</th>\n",
       "      <th>rating</th>\n",
       "      <th>review</th>\n",
       "      <th>numrating</th>\n",
       "      <th>review_token</th>\n",
       "      <th>review_stop</th>\n",
       "      <th>review_stem</th>\n",
       "    </tr>\n",
       "  </thead>\n",
       "  <tbody>\n",
       "    <tr>\n",
       "      <th>0</th>\n",
       "      <td>Balboa Park</td>\n",
       "      <td>5</td>\n",
       "      <td>Balboa Park is a must see when coming to San D...</td>\n",
       "      <td>5</td>\n",
       "      <td>[Balboa, Park, is, a, must, see, when, coming,...</td>\n",
       "      <td>[Balboa, Park, must, see, coming, San, Diego, ...</td>\n",
       "      <td>[balboa, park, must, see, come, san, diego, .,...</td>\n",
       "    </tr>\n",
       "    <tr>\n",
       "      <th>1</th>\n",
       "      <td>Balboa Park</td>\n",
       "      <td>5</td>\n",
       "      <td>Beautiful grounds even to take a stroll during...</td>\n",
       "      <td>5</td>\n",
       "      <td>[Beautiful, grounds, even, to, take, a, stroll...</td>\n",
       "      <td>[Beautiful, grounds, even, take, stroll, Covid...</td>\n",
       "      <td>[beauti, ground, even, take, stroll, covid, 's...</td>\n",
       "    </tr>\n",
       "    <tr>\n",
       "      <th>2</th>\n",
       "      <td>Balboa Park</td>\n",
       "      <td>5</td>\n",
       "      <td>Beautiful sightseeing in San Diego. Lots of wa...</td>\n",
       "      <td>5</td>\n",
       "      <td>[Beautiful, sightseeing, in, San, Diego, ., Lo...</td>\n",
       "      <td>[Beautiful, sightseeing, San, Diego, ., Lots, ...</td>\n",
       "      <td>[beauti, sightse, san, diego, ., lot, walkway,...</td>\n",
       "    </tr>\n",
       "    <tr>\n",
       "      <th>6</th>\n",
       "      <td>Waterfront Park</td>\n",
       "      <td>5</td>\n",
       "      <td>After eating brunch in Little Italy, we decide...</td>\n",
       "      <td>5</td>\n",
       "      <td>[After, eating, brunch, in, Little, Italy, ,, ...</td>\n",
       "      <td>[After, eating, brunch, Little, Italy, ,, deci...</td>\n",
       "      <td>[after, eat, brunch, littl, itali, ,, decid, w...</td>\n",
       "    </tr>\n",
       "    <tr>\n",
       "      <th>7</th>\n",
       "      <td>Waterfront Park</td>\n",
       "      <td>5</td>\n",
       "      <td>Definitely worth the price of admission.\\n\\nIf...</td>\n",
       "      <td>5</td>\n",
       "      <td>[Definitely, worth, the, price, of, admission,...</td>\n",
       "      <td>[Definitely, worth, price, admission, ., If, l...</td>\n",
       "      <td>[definit, worth, price, admiss, ., If, love, s...</td>\n",
       "    </tr>\n",
       "  </tbody>\n",
       "</table>\n",
       "</div>"
      ],
      "text/plain": [
       "                id rating                                             review  \\\n",
       "0      Balboa Park      5  Balboa Park is a must see when coming to San D...   \n",
       "1      Balboa Park      5  Beautiful grounds even to take a stroll during...   \n",
       "2      Balboa Park      5  Beautiful sightseeing in San Diego. Lots of wa...   \n",
       "6  Waterfront Park      5  After eating brunch in Little Italy, we decide...   \n",
       "7  Waterfront Park      5  Definitely worth the price of admission.\\n\\nIf...   \n",
       "\n",
       "   numrating                                       review_token  \\\n",
       "0          5  [Balboa, Park, is, a, must, see, when, coming,...   \n",
       "1          5  [Beautiful, grounds, even, to, take, a, stroll...   \n",
       "2          5  [Beautiful, sightseeing, in, San, Diego, ., Lo...   \n",
       "6          5  [After, eating, brunch, in, Little, Italy, ,, ...   \n",
       "7          5  [Definitely, worth, the, price, of, admission,...   \n",
       "\n",
       "                                         review_stop  \\\n",
       "0  [Balboa, Park, must, see, coming, San, Diego, ...   \n",
       "1  [Beautiful, grounds, even, take, stroll, Covid...   \n",
       "2  [Beautiful, sightseeing, San, Diego, ., Lots, ...   \n",
       "6  [After, eating, brunch, Little, Italy, ,, deci...   \n",
       "7  [Definitely, worth, price, admission, ., If, l...   \n",
       "\n",
       "                                         review_stem  \n",
       "0  [balboa, park, must, see, come, san, diego, .,...  \n",
       "1  [beauti, ground, even, take, stroll, covid, 's...  \n",
       "2  [beauti, sightse, san, diego, ., lot, walkway,...  \n",
       "6  [after, eat, brunch, littl, itali, ,, decid, w...  \n",
       "7  [definit, worth, price, admiss, ., If, love, s...  "
      ]
     },
     "execution_count": 168,
     "metadata": {},
     "output_type": "execute_result"
    }
   ],
   "source": [
    "good_review_df.head()"
   ]
  },
  {
   "cell_type": "code",
   "execution_count": 169,
   "metadata": {},
   "outputs": [
    {
     "data": {
      "text/html": [
       "<div>\n",
       "<style scoped>\n",
       "    .dataframe tbody tr th:only-of-type {\n",
       "        vertical-align: middle;\n",
       "    }\n",
       "\n",
       "    .dataframe tbody tr th {\n",
       "        vertical-align: top;\n",
       "    }\n",
       "\n",
       "    .dataframe thead th {\n",
       "        text-align: right;\n",
       "    }\n",
       "</style>\n",
       "<table border=\"1\" class=\"dataframe\">\n",
       "  <thead>\n",
       "    <tr style=\"text-align: right;\">\n",
       "      <th></th>\n",
       "      <th>id</th>\n",
       "      <th>rating</th>\n",
       "      <th>review</th>\n",
       "      <th>numrating</th>\n",
       "      <th>review_token</th>\n",
       "      <th>review_stop</th>\n",
       "      <th>review_stem</th>\n",
       "    </tr>\n",
       "  </thead>\n",
       "  <tbody>\n",
       "    <tr>\n",
       "      <th>287</th>\n",
       "      <td>Edward Tyler Cramer Park</td>\n",
       "      <td>1</td>\n",
       "      <td>There is NO PARKING. This is a taxpayer mainta...</td>\n",
       "      <td>1</td>\n",
       "      <td>[There, is, NO, PARKING, ., This, is, a, taxpa...</td>\n",
       "      <td>[There, NO, PARKING, ., This, taxpayer, mainta...</td>\n",
       "      <td>[there, NO, park, ., thi, taxpay, maintain, pa...</td>\n",
       "    </tr>\n",
       "    <tr>\n",
       "      <th>318</th>\n",
       "      <td>Western Hills Park</td>\n",
       "      <td>2</td>\n",
       "      <td>I almost got a ticket there for having my dog ...</td>\n",
       "      <td>2</td>\n",
       "      <td>[I, almost, got, a, ticket, there, for, having...</td>\n",
       "      <td>[I, almost, got, ticket, dog, leash, ., It, 's...</td>\n",
       "      <td>[I, almost, got, ticket, dog, leash, ., It, 's...</td>\n",
       "    </tr>\n",
       "    <tr>\n",
       "      <th>352</th>\n",
       "      <td>Kearny Mesa Park</td>\n",
       "      <td>1</td>\n",
       "      <td>This park is a good alternative to Lindbergh P...</td>\n",
       "      <td>1</td>\n",
       "      <td>[This, park, is, a, good, alternative, to, Lin...</td>\n",
       "      <td>[This, park, good, alternative, Lindbergh, Par...</td>\n",
       "      <td>[thi, park, good, altern, lindbergh, park, wan...</td>\n",
       "    </tr>\n",
       "    <tr>\n",
       "      <th>377</th>\n",
       "      <td>Parkside Park</td>\n",
       "      <td>1</td>\n",
       "      <td>Wow fuck the city and its park and rec departm...</td>\n",
       "      <td>1</td>\n",
       "      <td>[Wow, fuck, the, city, and, its, park, and, re...</td>\n",
       "      <td>[Wow, fuck, city, park, rec, department, ., Yo...</td>\n",
       "      <td>[wow, fuck, citi, park, rec, depart, ., you, '...</td>\n",
       "    </tr>\n",
       "    <tr>\n",
       "      <th>428</th>\n",
       "      <td>Lamar Park</td>\n",
       "      <td>1</td>\n",
       "      <td>This park had huge potential until the very la...</td>\n",
       "      <td>1</td>\n",
       "      <td>[This, park, had, huge, potential, until, the,...</td>\n",
       "      <td>[This, park, huge, potential, large, homeless,...</td>\n",
       "      <td>[thi, park, huge, potenti, larg, homeless, enc...</td>\n",
       "    </tr>\n",
       "  </tbody>\n",
       "</table>\n",
       "</div>"
      ],
      "text/plain": [
       "                           id rating  \\\n",
       "287  Edward Tyler Cramer Park      1   \n",
       "318        Western Hills Park      2   \n",
       "352          Kearny Mesa Park      1   \n",
       "377             Parkside Park      1   \n",
       "428                Lamar Park      1   \n",
       "\n",
       "                                                review  numrating  \\\n",
       "287  There is NO PARKING. This is a taxpayer mainta...          1   \n",
       "318  I almost got a ticket there for having my dog ...          2   \n",
       "352  This park is a good alternative to Lindbergh P...          1   \n",
       "377  Wow fuck the city and its park and rec departm...          1   \n",
       "428  This park had huge potential until the very la...          1   \n",
       "\n",
       "                                          review_token  \\\n",
       "287  [There, is, NO, PARKING, ., This, is, a, taxpa...   \n",
       "318  [I, almost, got, a, ticket, there, for, having...   \n",
       "352  [This, park, is, a, good, alternative, to, Lin...   \n",
       "377  [Wow, fuck, the, city, and, its, park, and, re...   \n",
       "428  [This, park, had, huge, potential, until, the,...   \n",
       "\n",
       "                                           review_stop  \\\n",
       "287  [There, NO, PARKING, ., This, taxpayer, mainta...   \n",
       "318  [I, almost, got, ticket, dog, leash, ., It, 's...   \n",
       "352  [This, park, good, alternative, Lindbergh, Par...   \n",
       "377  [Wow, fuck, city, park, rec, department, ., Yo...   \n",
       "428  [This, park, huge, potential, large, homeless,...   \n",
       "\n",
       "                                           review_stem  \n",
       "287  [there, NO, park, ., thi, taxpay, maintain, pa...  \n",
       "318  [I, almost, got, ticket, dog, leash, ., It, 's...  \n",
       "352  [thi, park, good, altern, lindbergh, park, wan...  \n",
       "377  [wow, fuck, citi, park, rec, depart, ., you, '...  \n",
       "428  [thi, park, huge, potenti, larg, homeless, enc...  "
      ]
     },
     "execution_count": 169,
     "metadata": {},
     "output_type": "execute_result"
    }
   ],
   "source": [
    "bad_review_df.head()"
   ]
  },
  {
   "cell_type": "markdown",
   "metadata": {},
   "source": [
    "Quick analysis: word frequency\n",
    "Here I can visulize word frequencies by using a FreqDict"
   ]
  },
  {
   "cell_type": "code",
   "execution_count": 170,
   "metadata": {},
   "outputs": [],
   "source": [
    "good_review_words = good_review_df['review_stem'].apply(pd.Series).stack()\n",
    "bad_review_words = bad_review_df['review_stem'].apply(pd.Series).stack()\n",
    "# import and using FreqDist\n",
    "from nltk.probability import FreqDist\n",
    "import string\n",
    "\n",
    "# calculation word frequency\n",
    "fdist_good = FreqDist(good_review_words)\n",
    "fdist_bad = FreqDist(bad_review_words)\n",
    "\n",
    "# remove punctuation counts\n",
    "for punc in string.punctuation:\n",
    "    del fdist_good[punc]\n",
    "    del fdist_bad[punc]"
   ]
  },
  {
   "cell_type": "code",
   "execution_count": 171,
   "metadata": {},
   "outputs": [
    {
     "data": {
      "image/png": "[encoded data removed]",
      "text/plain": [
       "<Figure size 432x288 with 1 Axes>"
      ]
     },
     "metadata": {
      "needs_background": "light"
     },
     "output_type": "display_data"
    },
    {
     "data": {
      "text/plain": [
       "<matplotlib.axes._subplots.AxesSubplot at 0x7f782e6e1f10>"
      ]
     },
     "execution_count": 171,
     "metadata": {},
     "output_type": "execute_result"
    }
   ],
   "source": [
    "# Visualization:\n",
    "# Frequency Distribution Plot - top 20\n",
    "# for words in \"good\" reviews (rated 3-5)\n",
    "fdist_good.plot(20, title='Frequency distribution for 20 most common words in good reviews', cumulative=False)"
   ]
  },
  {
   "cell_type": "code",
   "execution_count": 172,
   "metadata": {},
   "outputs": [
    {
     "data": {
      "image/png": "[encoded data removed]",
      "text/plain": [
       "<Figure size 432x288 with 1 Axes>"
      ]
     },
     "metadata": {
      "needs_background": "light"
     },
     "output_type": "display_data"
    },
    {
     "data": {
      "text/plain": [
       "<matplotlib.axes._subplots.AxesSubplot at 0x7f780660cad0>"
      ]
     },
     "execution_count": 172,
     "metadata": {},
     "output_type": "execute_result"
    }
   ],
   "source": [
    "# Visualization:\n",
    "# Frequency Distribution Plot - top 20\n",
    "# for words in \"bad\" reviews (rated 1-2)\n",
    "fdist_bad.plot(20, title='Frequency distribution for 20 most common words in bad reviews', cumulative=False)"
   ]
  },
  {
   "cell_type": "markdown",
   "metadata": {},
   "source": [
    "The result above already seems to indicate something, as \"homeless\" ranks pretty high on the frequency distribution of words in negative reviews. Notice that the words that ranked higher than homeless: \"park\", \"I\", \"...\" and \"'s\" are all relatively common (meaningless) for the analysis, which further reinforced my guess that homeless people in parks is an important factor in negative reviews. Still, further analysis with TF-IDF needs to be conducted in order to reach a solid conclusion.\n"
   ]
  },
  {
   "cell_type": "code",
   "execution_count": 173,
   "metadata": {},
   "outputs": [],
   "source": [
    "# get a list of words from good reviews and bad reviews\n",
    "good_list = list(good_review_df['review'].values)\n",
    "bad_list = list(bad_review_df['review'].values)"
   ]
  },
  {
   "cell_type": "code",
   "execution_count": 174,
   "metadata": {},
   "outputs": [],
   "source": [
    "# Prepare for TF-IDF by constructing the corpus\n",
    "import string \n",
    "\n",
    "# lowercase text\n",
    "good = list(map(str.lower, good_list))\n",
    "bad = list(map(str.lower, bad_list))\n",
    "\n",
    "# remove punctuation\n",
    "for c in string.punctuation:\n",
    "    good = str(good).replace(c, \"\")\n",
    "    bad = str(bad).replace(c, \"\")\n",
    "\n",
    "# get list of two documents together\n",
    "corpus = [str(good), str(bad)]"
   ]
  },
  {
   "cell_type": "code",
   "execution_count": 175,
   "metadata": {},
   "outputs": [],
   "source": [
    "# Import and create vectorizer\n",
    "from sklearn.feature_extraction.text import TfidfVectorizer\n",
    "# create vectorizer\n",
    "tfidf = TfidfVectorizer(sublinear_tf=True,\n",
    "                        analyzer='word',\n",
    "                        max_features=2000,\n",
    "                        tokenizer=word_tokenize,\n",
    "                        stop_words=stop_words)"
   ]
  },
  {
   "cell_type": "code",
   "execution_count": 176,
   "metadata": {},
   "outputs": [],
   "source": [
    "# calculate TF-IDF\n",
    "reviews_tfidf = pd.DataFrame(tfidf.fit_transform(corpus).toarray())\n",
    "reviews_tfidf.columns = tfidf.get_feature_names()\n",
    "reviews_tfidf = reviews_tfidf.rename(index={0:'good', 1:'bad'})"
   ]
  },
  {
   "cell_type": "code",
   "execution_count": 177,
   "metadata": {
    "scrolled": true
   },
   "outputs": [
    {
     "data": {
      "text/html": [
       "<div>\n",
       "<style scoped>\n",
       "    .dataframe tbody tr th:only-of-type {\n",
       "        vertical-align: middle;\n",
       "    }\n",
       "\n",
       "    .dataframe tbody tr th {\n",
       "        vertical-align: top;\n",
       "    }\n",
       "\n",
       "    .dataframe thead th {\n",
       "        text-align: right;\n",
       "    }\n",
       "</style>\n",
       "<table border=\"1\" class=\"dataframe\">\n",
       "  <thead>\n",
       "    <tr style=\"text-align: right;\">\n",
       "      <th></th>\n",
       "      <th>park</th>\n",
       "      <th>homeless</th>\n",
       "      <th>dog</th>\n",
       "      <th>people</th>\n",
       "      <th>go</th>\n",
       "      <th>like</th>\n",
       "      <th>used</th>\n",
       "      <th>kids</th>\n",
       "      <th>come</th>\n",
       "      <th>n</th>\n",
       "      <th>...</th>\n",
       "      <th>guests</th>\n",
       "      <th>guess</th>\n",
       "      <th>guards</th>\n",
       "      <th>growing</th>\n",
       "      <th>groups</th>\n",
       "      <th>grounds</th>\n",
       "      <th>grossmont</th>\n",
       "      <th>gripe</th>\n",
       "      <th>grey</th>\n",
       "      <th>youre</th>\n",
       "    </tr>\n",
       "  </thead>\n",
       "  <tbody>\n",
       "    <tr>\n",
       "      <th>good</th>\n",
       "      <td>0.071569</td>\n",
       "      <td>0.018235</td>\n",
       "      <td>0.049363</td>\n",
       "      <td>0.044996</td>\n",
       "      <td>0.042480</td>\n",
       "      <td>0.044996</td>\n",
       "      <td>0.030066</td>\n",
       "      <td>0.049945</td>\n",
       "      <td>0.043558</td>\n",
       "      <td>0.000000</td>\n",
       "      <td>...</td>\n",
       "      <td>0.025628</td>\n",
       "      <td>0.015136</td>\n",
       "      <td>0.015136</td>\n",
       "      <td>0.015136</td>\n",
       "      <td>0.015136</td>\n",
       "      <td>0.031765</td>\n",
       "      <td>0.015136</td>\n",
       "      <td>0.015136</td>\n",
       "      <td>0.015136</td>\n",
       "      <td>0.031765</td>\n",
       "    </tr>\n",
       "    <tr>\n",
       "      <th>bad</th>\n",
       "      <td>0.178575</td>\n",
       "      <td>0.135331</td>\n",
       "      <td>0.130346</td>\n",
       "      <td>0.118169</td>\n",
       "      <td>0.110451</td>\n",
       "      <td>0.110451</td>\n",
       "      <td>0.110451</td>\n",
       "      <td>0.101006</td>\n",
       "      <td>0.101006</td>\n",
       "      <td>0.100725</td>\n",
       "      <td>...</td>\n",
       "      <td>0.000000</td>\n",
       "      <td>0.000000</td>\n",
       "      <td>0.000000</td>\n",
       "      <td>0.000000</td>\n",
       "      <td>0.000000</td>\n",
       "      <td>0.000000</td>\n",
       "      <td>0.000000</td>\n",
       "      <td>0.000000</td>\n",
       "      <td>0.000000</td>\n",
       "      <td>0.000000</td>\n",
       "    </tr>\n",
       "  </tbody>\n",
       "</table>\n",
       "<p>2 rows × 1764 columns</p>\n",
       "</div>"
      ],
      "text/plain": [
       "          park  homeless       dog    people        go      like      used  \\\n",
       "good  0.071569  0.018235  0.049363  0.044996  0.042480  0.044996  0.030066   \n",
       "bad   0.178575  0.135331  0.130346  0.118169  0.110451  0.110451  0.110451   \n",
       "\n",
       "          kids      come         n  ...    guests     guess    guards  \\\n",
       "good  0.049945  0.043558  0.000000  ...  0.025628  0.015136  0.015136   \n",
       "bad   0.101006  0.101006  0.100725  ...  0.000000  0.000000  0.000000   \n",
       "\n",
       "       growing    groups   grounds  grossmont     gripe      grey     youre  \n",
       "good  0.015136  0.015136  0.031765   0.015136  0.015136  0.015136  0.031765  \n",
       "bad   0.000000  0.000000  0.000000   0.000000  0.000000  0.000000  0.000000  \n",
       "\n",
       "[2 rows x 1764 columns]"
      ]
     },
     "execution_count": 177,
     "metadata": {},
     "output_type": "execute_result"
    }
   ],
   "source": [
    "# Sorting the result and find out how unique the word is to each document based on TF-IDF values\n",
    "reviews_tfidf.sort_values(by='bad', axis=1, ascending=False)"
   ]
  },
  {
   "cell_type": "code",
   "execution_count": 178,
   "metadata": {},
   "outputs": [
    {
     "data": {
      "text/html": [
       "<div>\n",
       "<style scoped>\n",
       "    .dataframe tbody tr th:only-of-type {\n",
       "        vertical-align: middle;\n",
       "    }\n",
       "\n",
       "    .dataframe tbody tr th {\n",
       "        vertical-align: top;\n",
       "    }\n",
       "\n",
       "    .dataframe thead th {\n",
       "        text-align: right;\n",
       "    }\n",
       "</style>\n",
       "<table border=\"1\" class=\"dataframe\">\n",
       "  <thead>\n",
       "    <tr style=\"text-align: right;\">\n",
       "      <th></th>\n",
       "      <th>great</th>\n",
       "      <th>park</th>\n",
       "      <th>area</th>\n",
       "      <th>little</th>\n",
       "      <th>san</th>\n",
       "      <th>diego</th>\n",
       "      <th>well</th>\n",
       "      <th>beach</th>\n",
       "      <th>beautiful</th>\n",
       "      <th>love</th>\n",
       "      <th>...</th>\n",
       "      <th>fine</th>\n",
       "      <th>permanently</th>\n",
       "      <th>caters</th>\n",
       "      <th>load</th>\n",
       "      <th>concern</th>\n",
       "      <th>listen</th>\n",
       "      <th>lindbergh</th>\n",
       "      <th>lil</th>\n",
       "      <th>bombarded</th>\n",
       "      <th>periodically</th>\n",
       "    </tr>\n",
       "  </thead>\n",
       "  <tbody>\n",
       "    <tr>\n",
       "      <th>good</th>\n",
       "      <td>0.076065</td>\n",
       "      <td>0.071569</td>\n",
       "      <td>0.071346</td>\n",
       "      <td>0.070972</td>\n",
       "      <td>0.068061</td>\n",
       "      <td>0.066618</td>\n",
       "      <td>0.066105</td>\n",
       "      <td>0.066105</td>\n",
       "      <td>0.065023</td>\n",
       "      <td>0.06324</td>\n",
       "      <td>...</td>\n",
       "      <td>0.00000</td>\n",
       "      <td>0.00000</td>\n",
       "      <td>0.00000</td>\n",
       "      <td>0.00000</td>\n",
       "      <td>0.00000</td>\n",
       "      <td>0.00000</td>\n",
       "      <td>0.00000</td>\n",
       "      <td>0.000000</td>\n",
       "      <td>0.00000</td>\n",
       "      <td>0.00000</td>\n",
       "    </tr>\n",
       "    <tr>\n",
       "      <th>bad</th>\n",
       "      <td>0.000000</td>\n",
       "      <td>0.178575</td>\n",
       "      <td>0.000000</td>\n",
       "      <td>0.000000</td>\n",
       "      <td>0.000000</td>\n",
       "      <td>0.000000</td>\n",
       "      <td>0.000000</td>\n",
       "      <td>0.000000</td>\n",
       "      <td>0.000000</td>\n",
       "      <td>0.00000</td>\n",
       "      <td>...</td>\n",
       "      <td>0.05949</td>\n",
       "      <td>0.05949</td>\n",
       "      <td>0.05949</td>\n",
       "      <td>0.05949</td>\n",
       "      <td>0.05949</td>\n",
       "      <td>0.05949</td>\n",
       "      <td>0.05949</td>\n",
       "      <td>0.100725</td>\n",
       "      <td>0.05949</td>\n",
       "      <td>0.05949</td>\n",
       "    </tr>\n",
       "  </tbody>\n",
       "</table>\n",
       "<p>2 rows × 1764 columns</p>\n",
       "</div>"
      ],
      "text/plain": [
       "         great      park      area    little       san     diego      well  \\\n",
       "good  0.076065  0.071569  0.071346  0.070972  0.068061  0.066618  0.066105   \n",
       "bad   0.000000  0.178575  0.000000  0.000000  0.000000  0.000000  0.000000   \n",
       "\n",
       "         beach  beautiful     love  ...     fine  permanently   caters  \\\n",
       "good  0.066105   0.065023  0.06324  ...  0.00000      0.00000  0.00000   \n",
       "bad   0.000000   0.000000  0.00000  ...  0.05949      0.05949  0.05949   \n",
       "\n",
       "         load  concern   listen  lindbergh       lil  bombarded  periodically  \n",
       "good  0.00000  0.00000  0.00000    0.00000  0.000000    0.00000       0.00000  \n",
       "bad   0.05949  0.05949  0.05949    0.05949  0.100725    0.05949       0.05949  \n",
       "\n",
       "[2 rows x 1764 columns]"
      ]
     },
     "execution_count": 178,
     "metadata": {},
     "output_type": "execute_result"
    }
   ],
   "source": [
    "reviews_tfidf.sort_values(by='good', axis=1, ascending=False)"
   ]
  },
  {
   "cell_type": "markdown",
   "metadata": {},
   "source": [
    "In bad reviews, \"homeless\" has a TF-IDF score of 0.135, while in good reviews \"homeless\" only have a TF-IDF score of 0.018. The large difference in TF-IDF scores suggests that the word \"homeless\" is significantly more important to the set of document that contains bad reviews than to the set that contains good reviews."
   ]
  },
  {
   "cell_type": "code",
   "execution_count": 179,
   "metadata": {},
   "outputs": [],
   "source": [
    "# Visualizing data by plotting bar graph\n",
    "# Find the top 10 words that has highest TF-IDF values in each set of documents\n",
    "bad_reviews_tfidf = reviews_tfidf.sort_values(by='bad', axis=1, ascending=False)\n",
    "bad_reviews_tfidf = bad_reviews_tfidf.iloc[1:2, 0:10]\n",
    "good_reviews_tfidf = reviews_tfidf.sort_values(by='good', axis=1, ascending=False)\n",
    "good_reviews_tfidf = good_reviews_tfidf.iloc[0:1, 0:10]\n",
    "\n",
    "# Prepare dataframe for visualization by transposing the dataframe\n",
    "bad_tfidf_viz = bad_reviews_tfidf.T\n",
    "bad_tfidf_viz = bad_tfidf_viz.rename(columns={\"bad\": \"TF-IDF score\"})\n",
    "good_tfidf_viz = good_reviews_tfidf.T\n",
    "good_tfidf_viz = good_tfidf_viz.rename(columns={\"good\": \"TF-IDF score\"})"
   ]
  },
  {
   "cell_type": "code",
   "execution_count": 180,
   "metadata": {},
   "outputs": [
    {
     "data": {
      "text/plain": [
       "Text(0, 0.5, 'TF-IDF score')"
      ]
     },
     "execution_count": 180,
     "metadata": {},
     "output_type": "execute_result"
    },
    {
     "data": {
      "image/png": "[encoded data removed]",
      "text/plain": [
       "<Figure size 1080x576 with 1 Axes>"
      ]
     },
     "metadata": {
      "needs_background": "light"
     },
     "output_type": "display_data"
    }
   ],
   "source": [
    "# Plot the bar graph\n",
    "bad_viz_bar = bad_tfidf_viz.plot.bar(x=None, y=None, rot=0, title = 'TF-IDF scores for top 10 words in bad reviews', figsize=(15,8))\n",
    "bad_viz_bar.set_xlabel(\"Words\")\n",
    "bad_viz_bar.set_ylabel(\"TF-IDF score\")\n"
   ]
  },
  {
   "cell_type": "markdown",
   "metadata": {},
   "source": [
    "As the above bar graph shows, the word \"homeless\" is extremely revelant to the set of document that contains bad reviews. In fact, it sits at second place in TF-IDF scores, only behind \"park\" which is the subject matter of these reviews."
   ]
  },
  {
   "cell_type": "code",
   "execution_count": 181,
   "metadata": {},
   "outputs": [
    {
     "data": {
      "text/plain": [
       "Text(0, 0.5, 'TF-IDF score')"
      ]
     },
     "execution_count": 181,
     "metadata": {},
     "output_type": "execute_result"
    },
    {
     "data": {
      "image/png": "[encoded data removed]",
      "text/plain": [
       "<Figure size 1080x576 with 1 Axes>"
      ]
     },
     "metadata": {
      "needs_background": "light"
     },
     "output_type": "display_data"
    }
   ],
   "source": [
    "# Plot the bar graph\n",
    "good_viz_bar = good_tfidf_viz.plot.bar(x=None, y=None, rot=0, title = 'TF-IDF scores for top 10 words in good reviews', figsize=(15,8))\n",
    "good_viz_bar.set_xlabel(\"Words\")\n",
    "good_viz_bar.set_ylabel(\"TF-IDF score\")"
   ]
  },
  {
   "cell_type": "markdown",
   "metadata": {},
   "source": [
    "As the above bar graph shows, the words that are most revelant in positive reviews are all positive words that one would expect, and \"homeless\" is not one of them."
   ]
  },
  {
   "cell_type": "code",
   "execution_count": 182,
   "metadata": {},
   "outputs": [
    {
     "data": {
      "text/plain": [
       "Text(0, 0.5, 'TF-IDF score')"
      ]
     },
     "execution_count": 182,
     "metadata": {},
     "output_type": "execute_result"
    },
    {
     "data": {
      "image/png": "[encoded data removed]",
      "text/plain": [
       "<Figure size 1080x576 with 1 Axes>"
      ]
     },
     "metadata": {
      "needs_background": "light"
     },
     "output_type": "display_data"
    }
   ],
   "source": [
    "tfidf_comparison_df = reviews_tfidf.sort_values(by='bad', axis=1, ascending=False)\n",
    "tfidf_comparison_df = tfidf_comparison_df.iloc[0:2, 1:2]\n",
    "tfidf_comparison_df = tfidf_comparison_df.rename(columns={\"homeless\": \"TF-IDF score for the word homeless\"})\n",
    "comparison_viz_bar = tfidf_comparison_df.plot.bar(x=None, y=None, rot=0, title = 'Comparison of TF-IDF scores of the word homeless in good and bad reviews', figsize=(15,8))\n",
    "comparison_viz_bar.set_xlabel(\"Review type\")\n",
    "comparison_viz_bar.set_ylabel(\"TF-IDF score\")"
   ]
  },
  {
   "cell_type": "markdown",
   "metadata": {},
   "source": [
    "The above bar graph shows the huge difference in TF-IDF scores for the word \"homeless\" in good and bad Yelp reviews. The nearly tenfold difference shows that the word \"homeless\" is much more revelant in bad reviews than in good reviews, thus being a big factor in bad reviews of the parks in San Diego."
   ]
  },
  {
   "cell_type": "markdown",
   "metadata": {},
   "source": [
    "# Ethics & Privacy"
   ]
  },
  {
   "cell_type": "markdown",
   "metadata": {},
   "source": [
    "Ethics:\n",
    "Since I am basing my project on the Yelp review dataset that comes with a lot of limitations, I would like to detail my concern on ethics of this project. I do have the permission to use the data, as the Park Location data is public accessible and the Yelp review data is curated by Professor Ellis. However, the numerous limitations on my project and the ethics concerns they pose is worth discussing here. Since the Yelp review datset cannot realistically reflect what people think about the parks due to the limitation of three comments only and review truncating, my data is likely to contain bias that affects my text analysis. Additionally, because I am employing word frequency analysis in my EDA and IF-IDF in my formal analysis, I am removing the context of individual words in the comments, thus introducing additional bias into my analysis. This is expecially true for the word \"homeless\". Since I am only comparing the TF-IDF scores of this word in good comments and bad comments, I can only know how important this word is to the set of good reviews and bad reviews, but can never fully grasp what people want to say when they mentioned \"homeless\" in the reviews. In short, given the limitations in both the dataset and my methods, my research is prone to paint a wrong picture about homeless people and park reviews. Finally, my research is only directed at Yelp reviews of parks in SD, therefore the results is can neither represent the parks and homeless people elsewhere, nor represent the thoughts of people who wrote reviews on a platform other than Yelp, as well as the thoughts of people who didn't write any reviews at all. I would like to make it clear that my research is not to be misused in anyway that paints a skewed picture of the homeless poputation in San Diego and park reviews/reviewers.\n",
    "\n",
    "Privacy:\n",
    "The two datasets I used in my project contain little privacy concerns due to the following reasons: \n",
    "1) The Park Location dataset simply does not contain any personal information since it only contains the locations and ther information of parks.\n",
    "2) The Yelp review dataset is retrieved using the Yelp API, and the API already stripped all information about the Yelp users that posted these reviews.\n",
    "3) The only place where personal information can be present is in the review themselves, as there is a non-zero chance that a reviewer accidentally revealed personal information in his/her reviews. However, such case is not only rare, but has less impact because when a person writes a review and posts it online, the person is already consenting to release the review to a public domain for everyone to view.\n",
    "Although the data I used contains little privacy concern, I would still insist on keeping the data and my project undisclosed because there is a chance that the review section contains personally identifiable information, and it is out of my ability to identify and delete these information since I will have to manually read through all review entries."
   ]
  },
  {
   "cell_type": "markdown",
   "metadata": {},
   "source": [
    "# Conclusion & Discussion"
   ]
  },
  {
   "cell_type": "markdown",
   "metadata": {},
   "source": [
    "Based on the analysis which revealed a huge difference in TF-IDF scores for the word \"homeless\" in good reviews and bad reviews of parks in San Diego, I conclude my hypothesis that the presence of homeless population is a significant factor that contributes to negative Yelp reviews of parks under SD Parks and Rec is right. And this conclusion may provide more incentive for the city to provide shelter/housing to its homeless population as it creates a win-win scenario: the homeless people are provided with housing, and people will have more positive opinions on parks in San Diego since the homeless population, a significant factor contributing to nagative reviews, is no longer in the parks. \n",
    "\n",
    "I would like to reiterate that my project contains numerous limitations introduced by the dataset and my methodology, and in no way representative of the whole situation regarding the homeless population and parks in San Diego. Apart from the data-introduced limitations which I cannot work around, my method of using TF-IDF only also introduced limitations to my analysis since TF-IDF only looks at the relevancy of individual words and removes all context. "
   ]
  }
 ],
 "metadata": {
  "kernelspec": {
   "display_name": "Python 3",
   "language": "python",
   "name": "python3"
  },
  "language_info": {
   "codemirror_mode": {
    "name": "ipython",
    "version": 3
   },
   "file_extension": ".py",
   "mimetype": "text/x-python",
   "name": "python",
   "nbconvert_exporter": "python",
   "pygments_lexer": "ipython3",
   "version": "3.7.6"
  }
 },
 "nbformat": 4,
 "nbformat_minor": 2
}
