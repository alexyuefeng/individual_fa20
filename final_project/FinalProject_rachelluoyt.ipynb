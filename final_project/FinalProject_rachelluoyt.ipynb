{
 "cells": [
  {
   "cell_type": "markdown",
   "metadata": {},
   "source": [
    "# COGS 108 - Final Project "
   ]
  },
  {
   "cell_type": "markdown",
   "metadata": {},
   "source": [
    "# Overview"
   ]
  },
  {
   "cell_type": "markdown",
   "metadata": {},
   "source": [
    "I'm curious about what features will birng parks higher ratings. Based on the data provided for individual project, I analyzed the Yelp Park Data and CA Environment Screening Data, to explore if parks with less PM2.5 concentration receive higher rating from park vistors. The result of my analysis is that PM2.5 concentration does not impact park rating in San Diego, which is not as I expected. After reflection, I attribute this to the overall high air quality in San Diego area, which makes PM2.5 concentration a similar and thus weak factor for rating. The result may vary if we change to a broader scope, such as nationally."
   ]
  },
  {
   "cell_type": "markdown",
   "metadata": {},
   "source": [
    "# Name & GitHub\n",
    "\n",
    "- Name: Yutong Luo\n",
    "- GitHub Username: rachelluoyt"
   ]
  },
  {
   "cell_type": "markdown",
   "metadata": {},
   "source": [
    "# Research Question"
   ]
  },
  {
   "cell_type": "markdown",
   "metadata": {},
   "source": [
    "Is air quality a factor that influences vistors' rating on parks in San Diego? That being said, do parks in higher air quality areas, more specifically, in areas with less PM2.5 concentration, receive higher ratings from visitors?"
   ]
  },
  {
   "cell_type": "markdown",
   "metadata": {},
   "source": [
    "## Background and Prior Work"
   ]
  },
  {
   "cell_type": "markdown",
   "metadata": {},
   "source": [
    "In this project, I'm intersted in the relation between air quality and park ratings. Based on my personal experience and research online, clean air is important for a park. Because park is a place for hiking, sporting or just relaxing, and visitors expect a healthy environment. \"It is essential for the health of our visitors and employees, clean clear views of park scenery, and a healthy natural environment\" according to the National Park Service website. \n",
    "\n",
    "However, PM2.5 gradually becomes a really harmful factor of air pollution with industrialization. According to Department of Health, \"exposure to fine particles can cause short-term health effects such as eye, nose, throat and lung irritation, coughing, sneezing, runny nose and shortness of breath.\" Due to this fact, I decide to use PM2.5 concentration as a represemtative measurement of air quality in this project. More importantly, the air quality decreased in San Diego based on IQAir, : \"In 2019, San Diego PM2.5 varied from concentrations from a low of 6 μg/m3, “good,” in March, to a high of 15.9 μg/m3, “moderate,” in November.\" With this change, I assume air quality will become a more important factor for vistors' feedbacks on parks in San Diego.\n",
    "\n",
    "As to other related works, National Park Service Air Quality Analysis Methods 2020 includes PM2.5 as an important evaluation of air quality. This supports my use of PM2.5 as representative assessment of air quality. Yale Environment 360 provides that air pollution in 88 percent of parks impacts the habitat, which will influence visitor's experience. This adds credits to my project.\n",
    "\n",
    "\n",
    "References (include links):\n",
    "- 1) National Park Service https://www.nps.gov/subjects/air/airqualityparks.htm#:~:text=Over%20the%20last%2030%20years,and%20a%20healthy%20natural%20environment.\n",
    "\n",
    "- 2) Department of Health\n",
    "https://www.health.ny.gov/environmental/indoors/air/pmq_a.htm#:~:text=Fine%20particulate%20matter%20\n",
    "\n",
    "- 3) IQAir\n",
    "https://www.iqair.com/us/usa/california/san-diego#:~:text=In%202019%2C%20San%20Diego%20PM2,5%20pollution.\n",
    "\n",
    "- 4) National Park Service Air Quality Analysis Methods 2020\n",
    "    https://www.nps.gov/articles/analysis-methods2020.htm\n",
    "    \n",
    "- 5) Yale Environment 360\n",
    "https://e360.yale.edu/digest/dangerously-high-air-pollution-levels-found-in-most-u-s-national-parks#:~:text=In%2088%20percent%20of%20parks,in%20the%20Lower%2048%20states."
   ]
  },
  {
   "cell_type": "markdown",
   "metadata": {},
   "source": [
    "# Hypothesis\n"
   ]
  },
  {
   "cell_type": "markdown",
   "metadata": {},
   "source": [
    "Based on my background information research, my hypothesis is that parks with lower PM2.5 concentration will receive higher rating from visitors on Yelp. Because I want to analyze the relationship between air quality and park ratings, and PM2.5 concentration is a good representative of air quality. More over, intuitively and after research, air quality does impact the park habitat, which greatly influences visitor's rating for a park. Thus, I make this assumption that PM2.5 concentration and park rating is inversely related."
   ]
  },
  {
   "cell_type": "markdown",
   "metadata": {},
   "source": [
    "# Dataset(s)"
   ]
  },
  {
   "cell_type": "markdown",
   "metadata": {},
   "source": [
    "## Dataset 1 \n",
    "- Dataset Name: Yelp Data for San Diego Parks\n",
    "- Link to the dataset: https://www.yelp.com/ (Prof Ellis curated these data for individual projects) \n",
    "- Number of observations: 833\n",
    "- The variables I will use: name, rating, longitude, latitude\n",
    "- The format I will store these variables: string, float from 1-5, float, float that represents geospatial data\n",
    "- Varisbales: \n",
    "\n",
    "'name', 'address', 'phone', 'id', 'url', 'rating', 'review_count',\n",
    "       'longitude', 'latitude', 'is_closed'\n",
    "\n",
    "This dataset includes San Diego park information based on Yelp data. Each observation represents information about a park in San Diego, including name, address, phone, id, url, rating, number of reviews, latitude, longitude and if it is closed. It provides rating of each park, a critical feature that I want to analyze. And I will use the longitude and latitude to locate each park.\n",
    "\n",
    "## Dataset 2  \n",
    "- Dataset Name: California Environmental Health Screening Data\n",
    "- Link to the dataset: https://data.ca.gov/dataset/calenviroscreen-2-0\n",
    "- Number of observations: 8035\n",
    "- The variables I will use: PM2.5, PM2.5 Pctl, Location 1\n",
    "- The format I will store these variables: float, float, string that seperates latitude and longitude extracted from Lacation 1 data\n",
    "- Variables: \n",
    "\n",
    "'Census Tract', 'Total Population', 'California County','Click for interactive map', 'CES 2.0 Score',\n",
    "       'CES 2.0 Percentile Range', 'Hyperlink', 'Ozone', 'Ozone Pctl', 'PM2.5',\n",
    "       'PM2.5 Pctl', 'Diesel PM', 'Diesel PM Pctl', 'Drinking Water',\n",
    "       'Drinking Water Pctl', 'Pesticides', 'Pesticides Pctl', 'Tox. Release',\n",
    "       'Tox. Release Pctl', 'Traffic', 'Traffic Pctl', 'Cleanup Sites',\n",
    "       'Cleanup Sites Pctl', 'Groundwater Threats', 'Groundwater Threats Pctl',\n",
    "       'Haz. Waste', 'Haz. Waste Pctl', 'Imp. Water Bodies',\n",
    "       'Imp. Water Bodies Pctl', 'Solid Waste', 'Solid Waste Pctl',\n",
    "       'Pollution Burden', 'Pollution Burden Score', 'Pollution Burden Pctl',\n",
    "       'Age', 'Age Pctl', 'Asthma', 'Asthma Pctl', 'Low Birth Weight',\n",
    "       'Low Birth Weight Pctl', 'Education', 'Education Pctl',\n",
    "       'Linguistic Isolation', 'Linguistic Isolation Pctl', 'Poverty',\n",
    "       'Poverty Pctl', 'Unemployment', 'Unemployment Pctl', 'Pop. Char. ',\n",
    "       'Pop. Char. Score', 'Pop. Char. Pctl', 'Location 1'\n",
    "\n",
    "This dataset includes California Environmental Health Screening Data. Each observation represents information about a location in California. It provides PM2.5 concentration and percentage of many locations in San Diego, another critical feature that I want to analyze. \n",
    "\n",
    "## Combine\n",
    "I will match parks in dataset 1 with locations in dataset 2 based on the latitude and longitude. Thus, I can get corresponding PM2.5 concentration in each park. Then I can start analysis on rating & PM2.5 concentration."
   ]
  },
  {
   "cell_type": "markdown",
   "metadata": {},
   "source": [
    "# Setup\n",
    "* Import two dataset that I will use, look at their size. One is Yelp data about park informstion in San Diego, the other is California environmental and health data."
   ]
  },
  {
   "cell_type": "code",
   "execution_count": 1,
   "metadata": {},
   "outputs": [],
   "source": [
    "## YOUR CODE HERE\n",
    "import numpy as np\n",
    "import pandas as pd\n",
    "import geopandas\n",
    "import matplotlib.pyplot as plt"
   ]
  },
  {
   "cell_type": "code",
   "execution_count": 66,
   "metadata": {},
   "outputs": [],
   "source": [
    "parks = pd.read_csv('data/yelp_SD_parks.csv')\n"
   ]
  },
  {
   "cell_type": "code",
   "execution_count": 3,
   "metadata": {},
   "outputs": [
    {
     "data": {
      "text/plain": [
       "(833, 10)"
      ]
     },
     "execution_count": 3,
     "metadata": {},
     "output_type": "execute_result"
    }
   ],
   "source": [
    "parks.shape"
   ]
  },
  {
   "cell_type": "code",
   "execution_count": 4,
   "metadata": {},
   "outputs": [],
   "source": [
    "cali = pd.read_csv('data/calenviroscreen-final-report.csv')"
   ]
  },
  {
   "cell_type": "code",
   "execution_count": 5,
   "metadata": {},
   "outputs": [
    {
     "data": {
      "text/plain": [
       "(8035, 52)"
      ]
     },
     "execution_count": 5,
     "metadata": {},
     "output_type": "execute_result"
    }
   ],
   "source": [
    "cali.shape"
   ]
  },
  {
   "cell_type": "markdown",
   "metadata": {},
   "source": [
    "# Data Cleaning"
   ]
  },
  {
   "cell_type": "markdown",
   "metadata": {},
   "source": [
    "### 1. yelp_SD_parks:\n",
    "* I first checked and deal with missingness in this dataset. \n",
    " * I found that 254 phone numbers are missing. Since I only consider the location and rating of parks, this is not a problem. Another missingness is the missing of latitude and longitude of Officer Christopher Wilson Memorial Park. Since there is only one review for it, I considered this park to be a less common one. Thus the deletion of it will not influence our overall result, so I dropped this row\n",
    "* Check required data information and reformat when needed\n",
    "    * Since the data I need -- rating and geospatial inforamtion -- do not have missingness, I checked their type and range to make sure they are in correct form, and make adjustment in case any of these is in inconsistent format. Luckily, all three columns are in correct and consistent formats. Thus, no other cleaning is needed on this dataset. \n",
    "* Extract the columns that needed for further analysis\n",
    "    * including name, rating, longitude and latitude\n",
    "* Plot and see the distribution of data\n",
    "    * For parks, there are repitition of the same park in the dataset, not sure why this happens. I will deal with it in the next part after combining both tables together. \n",
    "    * For ratings, we can see most parks have high ratings. This is important to take into consideration when link this to the level of PM2.5 in that district\n",
    "\n",
    "\n",
    "### 2. calenviroscreen-final-report:\n",
    "* I took subset which only includes San Diego data from the whole CA dataset since we are analyzing parks in San Diego here.\n",
    "* I check and deal with null values.\n",
    "    * There is a few missingness in the dataset, but only one is missing considering the data I need, i.e. the PM2.5 data. I checked this and there was not much information about it. So I dropped this row.\n",
    "* Reformat the columns I need \n",
    "    * The geospatial data is not in a convenient format, so I extract longitude and latitude info from strings in location column\n",
    "* I extract the columns that needed for further analysis\n",
    "    * PM2.5, PM2.5 percentile, longitude and latitude I just extracted from location column\n",
    "\n",
    "**In this section, I cleaned the two datasets seperately. I will combine the two tables in the Data Analysis part, because it needs deeper exploration on each dataset then relate them together."
   ]
  },
  {
   "cell_type": "markdown",
   "metadata": {},
   "source": [
    "### 1. Yelp Park Data\n",
    "#### Check missingness"
   ]
  },
  {
   "cell_type": "code",
   "execution_count": 6,
   "metadata": {},
   "outputs": [
    {
     "data": {
      "text/html": [
       "<div>\n",
       "<style scoped>\n",
       "    .dataframe tbody tr th:only-of-type {\n",
       "        vertical-align: middle;\n",
       "    }\n",
       "\n",
       "    .dataframe tbody tr th {\n",
       "        vertical-align: top;\n",
       "    }\n",
       "\n",
       "    .dataframe thead th {\n",
       "        text-align: right;\n",
       "    }\n",
       "</style>\n",
       "<table border=\"1\" class=\"dataframe\">\n",
       "  <thead>\n",
       "    <tr style=\"text-align: right;\">\n",
       "      <th></th>\n",
       "      <th>name</th>\n",
       "      <th>address</th>\n",
       "      <th>phone</th>\n",
       "      <th>id</th>\n",
       "      <th>url</th>\n",
       "      <th>rating</th>\n",
       "      <th>review_count</th>\n",
       "      <th>longitude</th>\n",
       "      <th>latitude</th>\n",
       "      <th>is_closed</th>\n",
       "    </tr>\n",
       "  </thead>\n",
       "  <tbody>\n",
       "    <tr>\n",
       "      <th>0</th>\n",
       "      <td>Balboa Park</td>\n",
       "      <td>1549 El Prado San Diego, CA 92101</td>\n",
       "      <td>1.619239e+10</td>\n",
       "      <td>9M_FW_-Ipx93I36w-_ykBg</td>\n",
       "      <td>https://www.yelp.com/biz/balboa-park-san-diego...</td>\n",
       "      <td>5.0</td>\n",
       "      <td>2105</td>\n",
       "      <td>-117.153150</td>\n",
       "      <td>32.734502</td>\n",
       "      <td>False</td>\n",
       "    </tr>\n",
       "    <tr>\n",
       "      <th>1</th>\n",
       "      <td>Civita Park</td>\n",
       "      <td>7960 Civita Blvd San Diego, CA 92108</td>\n",
       "      <td>NaN</td>\n",
       "      <td>3AEHjqNrTmggA6G9VdhQfg</td>\n",
       "      <td>https://www.yelp.com/biz/civita-park-san-diego...</td>\n",
       "      <td>4.5</td>\n",
       "      <td>46</td>\n",
       "      <td>-117.147278</td>\n",
       "      <td>32.778315</td>\n",
       "      <td>False</td>\n",
       "    </tr>\n",
       "    <tr>\n",
       "      <th>2</th>\n",
       "      <td>Waterfront Park</td>\n",
       "      <td>1600 Pacific Hwy San Diego, CA 92101</td>\n",
       "      <td>1.619233e+10</td>\n",
       "      <td>3unbJeYrn1RmInZGmjp80g</td>\n",
       "      <td>https://www.yelp.com/biz/waterfront-park-san-d...</td>\n",
       "      <td>4.5</td>\n",
       "      <td>242</td>\n",
       "      <td>-117.172479</td>\n",
       "      <td>32.721952</td>\n",
       "      <td>False</td>\n",
       "    </tr>\n",
       "    <tr>\n",
       "      <th>3</th>\n",
       "      <td>Trolley Barn Park</td>\n",
       "      <td>Adams Ave And Florida St San Diego, CA 92116</td>\n",
       "      <td>NaN</td>\n",
       "      <td>PvHxIYrmaiFKdWUDTMDzcg</td>\n",
       "      <td>https://www.yelp.com/biz/trolley-barn-park-san...</td>\n",
       "      <td>4.5</td>\n",
       "      <td>102</td>\n",
       "      <td>-117.143789</td>\n",
       "      <td>32.762463</td>\n",
       "      <td>False</td>\n",
       "    </tr>\n",
       "    <tr>\n",
       "      <th>4</th>\n",
       "      <td>Bay View Park</td>\n",
       "      <td>413 1st St Coronado, CA 92118</td>\n",
       "      <td>NaN</td>\n",
       "      <td>6IF4VB9-fkv_F-LBvG8ppQ</td>\n",
       "      <td>https://www.yelp.com/biz/bay-view-park-coronad...</td>\n",
       "      <td>5.0</td>\n",
       "      <td>42</td>\n",
       "      <td>-117.178967</td>\n",
       "      <td>32.701785</td>\n",
       "      <td>False</td>\n",
       "    </tr>\n",
       "  </tbody>\n",
       "</table>\n",
       "</div>"
      ],
      "text/plain": [
       "                name                                       address  \\\n",
       "0        Balboa Park             1549 El Prado San Diego, CA 92101   \n",
       "1        Civita Park          7960 Civita Blvd San Diego, CA 92108   \n",
       "2    Waterfront Park          1600 Pacific Hwy San Diego, CA 92101   \n",
       "3  Trolley Barn Park  Adams Ave And Florida St San Diego, CA 92116   \n",
       "4      Bay View Park                 413 1st St Coronado, CA 92118   \n",
       "\n",
       "          phone                      id  \\\n",
       "0  1.619239e+10  9M_FW_-Ipx93I36w-_ykBg   \n",
       "1           NaN  3AEHjqNrTmggA6G9VdhQfg   \n",
       "2  1.619233e+10  3unbJeYrn1RmInZGmjp80g   \n",
       "3           NaN  PvHxIYrmaiFKdWUDTMDzcg   \n",
       "4           NaN  6IF4VB9-fkv_F-LBvG8ppQ   \n",
       "\n",
       "                                                 url  rating  review_count  \\\n",
       "0  https://www.yelp.com/biz/balboa-park-san-diego...     5.0          2105   \n",
       "1  https://www.yelp.com/biz/civita-park-san-diego...     4.5            46   \n",
       "2  https://www.yelp.com/biz/waterfront-park-san-d...     4.5           242   \n",
       "3  https://www.yelp.com/biz/trolley-barn-park-san...     4.5           102   \n",
       "4  https://www.yelp.com/biz/bay-view-park-coronad...     5.0            42   \n",
       "\n",
       "    longitude   latitude  is_closed  \n",
       "0 -117.153150  32.734502      False  \n",
       "1 -117.147278  32.778315      False  \n",
       "2 -117.172479  32.721952      False  \n",
       "3 -117.143789  32.762463      False  \n",
       "4 -117.178967  32.701785      False  "
      ]
     },
     "execution_count": 6,
     "metadata": {},
     "output_type": "execute_result"
    }
   ],
   "source": [
    "parks.head()"
   ]
  },
  {
   "cell_type": "code",
   "execution_count": 7,
   "metadata": {
    "scrolled": true
   },
   "outputs": [
    {
     "data": {
      "text/plain": [
       "name              0\n",
       "address           0\n",
       "phone           254\n",
       "id                0\n",
       "url               0\n",
       "rating            0\n",
       "review_count      0\n",
       "longitude         1\n",
       "latitude          1\n",
       "is_closed         0\n",
       "dtype: int64"
      ]
     },
     "execution_count": 7,
     "metadata": {},
     "output_type": "execute_result"
    }
   ],
   "source": [
    "# check missingness of each col\n",
    "parks.isnull().sum()"
   ]
  },
  {
   "cell_type": "code",
   "execution_count": 8,
   "metadata": {},
   "outputs": [
    {
     "data": {
      "text/html": [
       "<div>\n",
       "<style scoped>\n",
       "    .dataframe tbody tr th:only-of-type {\n",
       "        vertical-align: middle;\n",
       "    }\n",
       "\n",
       "    .dataframe tbody tr th {\n",
       "        vertical-align: top;\n",
       "    }\n",
       "\n",
       "    .dataframe thead th {\n",
       "        text-align: right;\n",
       "    }\n",
       "</style>\n",
       "<table border=\"1\" class=\"dataframe\">\n",
       "  <thead>\n",
       "    <tr style=\"text-align: right;\">\n",
       "      <th></th>\n",
       "      <th>name</th>\n",
       "      <th>address</th>\n",
       "      <th>phone</th>\n",
       "      <th>id</th>\n",
       "      <th>url</th>\n",
       "      <th>rating</th>\n",
       "      <th>review_count</th>\n",
       "      <th>longitude</th>\n",
       "      <th>latitude</th>\n",
       "      <th>is_closed</th>\n",
       "    </tr>\n",
       "  </thead>\n",
       "  <tbody>\n",
       "    <tr>\n",
       "      <th>226</th>\n",
       "      <td>Officer Christopher Wilson Memorial Park</td>\n",
       "      <td>San Diego, CA</td>\n",
       "      <td>NaN</td>\n",
       "      <td>fg97iBKVfgNgf3ehS6Rkvw</td>\n",
       "      <td>https://www.yelp.com/biz/officer-christopher-w...</td>\n",
       "      <td>4.0</td>\n",
       "      <td>1</td>\n",
       "      <td>NaN</td>\n",
       "      <td>NaN</td>\n",
       "      <td>False</td>\n",
       "    </tr>\n",
       "  </tbody>\n",
       "</table>\n",
       "</div>"
      ],
      "text/plain": [
       "                                         name        address  phone  \\\n",
       "226  Officer Christopher Wilson Memorial Park  San Diego, CA    NaN   \n",
       "\n",
       "                         id  \\\n",
       "226  fg97iBKVfgNgf3ehS6Rkvw   \n",
       "\n",
       "                                                   url  rating  review_count  \\\n",
       "226  https://www.yelp.com/biz/officer-christopher-w...     4.0             1   \n",
       "\n",
       "     longitude  latitude  is_closed  \n",
       "226        NaN       NaN      False  "
      ]
     },
     "execution_count": 8,
     "metadata": {},
     "output_type": "execute_result"
    }
   ],
   "source": [
    "# look at the row with missing longitude and latitude\n",
    "parks.loc[parks['longitude'].isnull()]"
   ]
  },
  {
   "cell_type": "code",
   "execution_count": 9,
   "metadata": {},
   "outputs": [],
   "source": [
    "# drop row with missing longitude and latitude\n",
    "parks = parks.loc[parks['longitude'].isnull() == False]"
   ]
  },
  {
   "cell_type": "code",
   "execution_count": 10,
   "metadata": {},
   "outputs": [
    {
     "data": {
      "text/plain": [
       "name              0\n",
       "address           0\n",
       "phone           253\n",
       "id                0\n",
       "url               0\n",
       "rating            0\n",
       "review_count      0\n",
       "longitude         0\n",
       "latitude          0\n",
       "is_closed         0\n",
       "dtype: int64"
      ]
     },
     "execution_count": 10,
     "metadata": {},
     "output_type": "execute_result"
    }
   ],
   "source": [
    "parks.isnull().sum()"
   ]
  },
  {
   "cell_type": "markdown",
   "metadata": {},
   "source": [
    "#### Check the format of related data"
   ]
  },
  {
   "cell_type": "code",
   "execution_count": 11,
   "metadata": {},
   "outputs": [
    {
     "data": {
      "text/plain": [
       "dtype('float64')"
      ]
     },
     "execution_count": 11,
     "metadata": {},
     "output_type": "execute_result"
    }
   ],
   "source": [
    "parks.latitude.dtype"
   ]
  },
  {
   "cell_type": "code",
   "execution_count": 12,
   "metadata": {},
   "outputs": [
    {
     "data": {
      "text/plain": [
       "dtype('float64')"
      ]
     },
     "execution_count": 12,
     "metadata": {},
     "output_type": "execute_result"
    }
   ],
   "source": [
    "parks.longitude.dtype"
   ]
  },
  {
   "cell_type": "code",
   "execution_count": 13,
   "metadata": {},
   "outputs": [
    {
     "data": {
      "text/plain": [
       "(32.53267536, 34.29715665)"
      ]
     },
     "execution_count": 13,
     "metadata": {},
     "output_type": "execute_result"
    }
   ],
   "source": [
    "min(parks.latitude), max(parks.latitude)"
   ]
  },
  {
   "cell_type": "code",
   "execution_count": 14,
   "metadata": {},
   "outputs": [
    {
     "data": {
      "text/plain": [
       "(-118.64188, -116.3776179)"
      ]
     },
     "execution_count": 14,
     "metadata": {},
     "output_type": "execute_result"
    }
   ],
   "source": [
    "min(parks.longitude), max(parks.longitude)"
   ]
  },
  {
   "cell_type": "code",
   "execution_count": 15,
   "metadata": {},
   "outputs": [
    {
     "data": {
      "text/plain": [
       "array([5. , 4.5, 3.5, 4. , 3. , 2.5, 1. , 1.5, 2. ])"
      ]
     },
     "execution_count": 15,
     "metadata": {},
     "output_type": "execute_result"
    }
   ],
   "source": [
    "parks.rating.unique()"
   ]
  },
  {
   "cell_type": "markdown",
   "metadata": {},
   "source": [
    "#### Remove irrelevant information"
   ]
  },
  {
   "cell_type": "code",
   "execution_count": 16,
   "metadata": {},
   "outputs": [],
   "source": [
    "parks = parks[['name','rating','latitude','longitude']]"
   ]
  },
  {
   "cell_type": "markdown",
   "metadata": {},
   "source": [
    "#### Analyze the distribution of data"
   ]
  },
  {
   "cell_type": "code",
   "execution_count": 17,
   "metadata": {},
   "outputs": [
    {
     "data": {
      "text/plain": [
       "Rolling Hills Park         3\n",
       "Zeglio Custom Clothiers    2\n",
       "Horton Plaza Park          2\n",
       "Sunset Park                2\n",
       "San Dieguito River Park    2\n",
       "                          ..\n",
       "Inn at the Park            1\n",
       "ALX                        1\n",
       "Dog Park at Doyle Park     1\n",
       "Robinson Realty            1\n",
       "Mt Olivet Cemetery         1\n",
       "Name: name, Length: 817, dtype: int64"
      ]
     },
     "execution_count": 17,
     "metadata": {},
     "output_type": "execute_result"
    }
   ],
   "source": [
    "# notice we have repition in data, we will deal with it in the next analysis part after combination\n",
    "parks.name.value_counts()"
   ]
  },
  {
   "cell_type": "code",
   "execution_count": 18,
   "metadata": {},
   "outputs": [
    {
     "data": {
      "text/html": [
       "<div>\n",
       "<style scoped>\n",
       "    .dataframe tbody tr th:only-of-type {\n",
       "        vertical-align: middle;\n",
       "    }\n",
       "\n",
       "    .dataframe tbody tr th {\n",
       "        vertical-align: top;\n",
       "    }\n",
       "\n",
       "    .dataframe thead th {\n",
       "        text-align: right;\n",
       "    }\n",
       "</style>\n",
       "<table border=\"1\" class=\"dataframe\">\n",
       "  <thead>\n",
       "    <tr style=\"text-align: right;\">\n",
       "      <th></th>\n",
       "      <th>name</th>\n",
       "      <th>rating</th>\n",
       "      <th>latitude</th>\n",
       "      <th>longitude</th>\n",
       "    </tr>\n",
       "  </thead>\n",
       "  <tbody>\n",
       "    <tr>\n",
       "      <th>467</th>\n",
       "      <td>Rolling Hills Park</td>\n",
       "      <td>5.0</td>\n",
       "      <td>32.991300</td>\n",
       "      <td>-117.092192</td>\n",
       "    </tr>\n",
       "    <tr>\n",
       "      <th>468</th>\n",
       "      <td>Rolling Hills Park</td>\n",
       "      <td>4.0</td>\n",
       "      <td>32.659447</td>\n",
       "      <td>-116.969218</td>\n",
       "    </tr>\n",
       "    <tr>\n",
       "      <th>469</th>\n",
       "      <td>Rolling Hills Park</td>\n",
       "      <td>5.0</td>\n",
       "      <td>33.900170</td>\n",
       "      <td>-117.899939</td>\n",
       "    </tr>\n",
       "  </tbody>\n",
       "</table>\n",
       "</div>"
      ],
      "text/plain": [
       "                   name  rating   latitude   longitude\n",
       "467  Rolling Hills Park     5.0  32.991300 -117.092192\n",
       "468  Rolling Hills Park     4.0  32.659447 -116.969218\n",
       "469  Rolling Hills Park     5.0  33.900170 -117.899939"
      ]
     },
     "execution_count": 18,
     "metadata": {},
     "output_type": "execute_result"
    }
   ],
   "source": [
    "parks[parks.name == 'Rolling Hills Park']"
   ]
  },
  {
   "cell_type": "code",
   "execution_count": 19,
   "metadata": {},
   "outputs": [
    {
     "data": {
      "text/plain": [
       "Text(0.5, 1.0, 'Distribution of Yelp Park Ratings')"
      ]
     },
     "execution_count": 19,
     "metadata": {},
     "output_type": "execute_result"
    },
    {
     "data": {
      "image/png": "[encoded data removed]",
      "text/plain": [
       "<Figure size 432x288 with 1 Axes>"
      ]
     },
     "metadata": {
      "needs_background": "light"
     },
     "output_type": "display_data"
    }
   ],
   "source": [
    "r = parks.rating.value_counts().plot(kind='bar',x='rating')\n",
    "r.set_xlabel('rating')\n",
    "r.set_ylabel('counts')\n",
    "r.set_title(\"Distribution of Yelp Park Ratings\")"
   ]
  },
  {
   "cell_type": "markdown",
   "metadata": {},
   "source": [
    "### 2. Enviromental Data\n",
    "#### Take subset from the overall dataset which include information about all California counties"
   ]
  },
  {
   "cell_type": "code",
   "execution_count": 20,
   "metadata": {},
   "outputs": [
    {
     "data": {
      "text/html": [
       "<div>\n",
       "<style scoped>\n",
       "    .dataframe tbody tr th:only-of-type {\n",
       "        vertical-align: middle;\n",
       "    }\n",
       "\n",
       "    .dataframe tbody tr th {\n",
       "        vertical-align: top;\n",
       "    }\n",
       "\n",
       "    .dataframe thead th {\n",
       "        text-align: right;\n",
       "    }\n",
       "</style>\n",
       "<table border=\"1\" class=\"dataframe\">\n",
       "  <thead>\n",
       "    <tr style=\"text-align: right;\">\n",
       "      <th></th>\n",
       "      <th>Census Tract</th>\n",
       "      <th>Total Population</th>\n",
       "      <th>California County</th>\n",
       "      <th>Click for interactive map</th>\n",
       "      <th>CES 2.0 Score</th>\n",
       "      <th>CES 2.0 Percentile Range</th>\n",
       "      <th>Hyperlink</th>\n",
       "      <th>Ozone</th>\n",
       "      <th>Ozone Pctl</th>\n",
       "      <th>PM2.5</th>\n",
       "      <th>...</th>\n",
       "      <th>Linguistic Isolation</th>\n",
       "      <th>Linguistic Isolation Pctl</th>\n",
       "      <th>Poverty</th>\n",
       "      <th>Poverty Pctl</th>\n",
       "      <th>Unemployment</th>\n",
       "      <th>Unemployment Pctl</th>\n",
       "      <th>Pop. Char.</th>\n",
       "      <th>Pop. Char. Score</th>\n",
       "      <th>Pop. Char. Pctl</th>\n",
       "      <th>Location 1</th>\n",
       "    </tr>\n",
       "  </thead>\n",
       "  <tbody>\n",
       "    <tr>\n",
       "      <th>0</th>\n",
       "      <td>6019001100</td>\n",
       "      <td>3174</td>\n",
       "      <td>Fresno</td>\n",
       "      <td>NaN</td>\n",
       "      <td>89.22</td>\n",
       "      <td>96-100% (highest scores)</td>\n",
       "      <td>http://oehha.maps.arcgis.com/apps/Viewer/index...</td>\n",
       "      <td>0.255228</td>\n",
       "      <td>80.87</td>\n",
       "      <td>14.746087</td>\n",
       "      <td>...</td>\n",
       "      <td>21.6</td>\n",
       "      <td>83.66</td>\n",
       "      <td>77.500865</td>\n",
       "      <td>97.78</td>\n",
       "      <td>19.30</td>\n",
       "      <td>92.05</td>\n",
       "      <td>90.072268</td>\n",
       "      <td>9.360658</td>\n",
       "      <td>99.60</td>\n",
       "      <td>Fresno 93706\\n(36.709695199999999, -119.7816961)</td>\n",
       "    </tr>\n",
       "    <tr>\n",
       "      <th>1</th>\n",
       "      <td>6019000300</td>\n",
       "      <td>3609</td>\n",
       "      <td>Fresno</td>\n",
       "      <td>NaN</td>\n",
       "      <td>83.71</td>\n",
       "      <td>96-100% (highest scores)</td>\n",
       "      <td>http://oehha.maps.arcgis.com/apps/Viewer/index...</td>\n",
       "      <td>0.287130</td>\n",
       "      <td>83.28</td>\n",
       "      <td>14.619618</td>\n",
       "      <td>...</td>\n",
       "      <td>18.3</td>\n",
       "      <td>78.34</td>\n",
       "      <td>81.204032</td>\n",
       "      <td>98.93</td>\n",
       "      <td>NaN</td>\n",
       "      <td>NaN</td>\n",
       "      <td>92.323243</td>\n",
       "      <td>9.594592</td>\n",
       "      <td>99.90</td>\n",
       "      <td>Fresno 93706\\n(36.726461999999998, -119.8010347)</td>\n",
       "    </tr>\n",
       "    <tr>\n",
       "      <th>2</th>\n",
       "      <td>6019000200</td>\n",
       "      <td>3167</td>\n",
       "      <td>Fresno</td>\n",
       "      <td>NaN</td>\n",
       "      <td>83.47</td>\n",
       "      <td>96-100% (highest scores)</td>\n",
       "      <td>http://oehha.maps.arcgis.com/apps/Viewer/index...</td>\n",
       "      <td>0.304446</td>\n",
       "      <td>84.40</td>\n",
       "      <td>14.554656</td>\n",
       "      <td>...</td>\n",
       "      <td>16.2</td>\n",
       "      <td>74.04</td>\n",
       "      <td>86.828423</td>\n",
       "      <td>99.66</td>\n",
       "      <td>25.27</td>\n",
       "      <td>98.14</td>\n",
       "      <td>91.499039</td>\n",
       "      <td>9.508958</td>\n",
       "      <td>99.80</td>\n",
       "      <td>Fresno 93706\\n(36.735491400000001, -119.8055044)</td>\n",
       "    </tr>\n",
       "    <tr>\n",
       "      <th>3</th>\n",
       "      <td>6019001500</td>\n",
       "      <td>2206</td>\n",
       "      <td>Fresno</td>\n",
       "      <td>NaN</td>\n",
       "      <td>83.08</td>\n",
       "      <td>96-100% (highest scores)</td>\n",
       "      <td>http://oehha.maps.arcgis.com/apps/Viewer/index...</td>\n",
       "      <td>0.225687</td>\n",
       "      <td>78.25</td>\n",
       "      <td>14.937649</td>\n",
       "      <td>...</td>\n",
       "      <td>19.5</td>\n",
       "      <td>80.68</td>\n",
       "      <td>62.746088</td>\n",
       "      <td>88.32</td>\n",
       "      <td>18.30</td>\n",
       "      <td>89.60</td>\n",
       "      <td>83.474281</td>\n",
       "      <td>8.674967</td>\n",
       "      <td>97.74</td>\n",
       "      <td>Fresno 93725\\n(36.681600000000003, -119.717842...</td>\n",
       "    </tr>\n",
       "    <tr>\n",
       "      <th>4</th>\n",
       "      <td>6019000600</td>\n",
       "      <td>6161</td>\n",
       "      <td>Fresno</td>\n",
       "      <td>NaN</td>\n",
       "      <td>82.95</td>\n",
       "      <td>96-100% (highest scores)</td>\n",
       "      <td>http://oehha.maps.arcgis.com/apps/Viewer/index...</td>\n",
       "      <td>0.327935</td>\n",
       "      <td>85.81</td>\n",
       "      <td>14.506413</td>\n",
       "      <td>...</td>\n",
       "      <td>16.9</td>\n",
       "      <td>75.49</td>\n",
       "      <td>88.680993</td>\n",
       "      <td>99.79</td>\n",
       "      <td>26.69</td>\n",
       "      <td>98.61</td>\n",
       "      <td>92.246260</td>\n",
       "      <td>9.586590</td>\n",
       "      <td>99.89</td>\n",
       "      <td>Fresno 93721\\n(36.743062999999999, -119.7933565)</td>\n",
       "    </tr>\n",
       "  </tbody>\n",
       "</table>\n",
       "<p>5 rows × 52 columns</p>\n",
       "</div>"
      ],
      "text/plain": [
       "   Census Tract  Total Population California County  \\\n",
       "0    6019001100              3174           Fresno    \n",
       "1    6019000300              3609           Fresno    \n",
       "2    6019000200              3167           Fresno    \n",
       "3    6019001500              2206           Fresno    \n",
       "4    6019000600              6161           Fresno    \n",
       "\n",
       "   Click for interactive map  CES 2.0 Score  CES 2.0 Percentile Range  \\\n",
       "0                        NaN          89.22  96-100% (highest scores)   \n",
       "1                        NaN          83.71  96-100% (highest scores)   \n",
       "2                        NaN          83.47  96-100% (highest scores)   \n",
       "3                        NaN          83.08  96-100% (highest scores)   \n",
       "4                        NaN          82.95  96-100% (highest scores)   \n",
       "\n",
       "                                           Hyperlink     Ozone  Ozone Pctl  \\\n",
       "0  http://oehha.maps.arcgis.com/apps/Viewer/index...  0.255228       80.87   \n",
       "1  http://oehha.maps.arcgis.com/apps/Viewer/index...  0.287130       83.28   \n",
       "2  http://oehha.maps.arcgis.com/apps/Viewer/index...  0.304446       84.40   \n",
       "3  http://oehha.maps.arcgis.com/apps/Viewer/index...  0.225687       78.25   \n",
       "4  http://oehha.maps.arcgis.com/apps/Viewer/index...  0.327935       85.81   \n",
       "\n",
       "       PM2.5  ...  Linguistic Isolation  Linguistic Isolation Pctl    Poverty  \\\n",
       "0  14.746087  ...                  21.6                      83.66  77.500865   \n",
       "1  14.619618  ...                  18.3                      78.34  81.204032   \n",
       "2  14.554656  ...                  16.2                      74.04  86.828423   \n",
       "3  14.937649  ...                  19.5                      80.68  62.746088   \n",
       "4  14.506413  ...                  16.9                      75.49  88.680993   \n",
       "\n",
       "   Poverty Pctl  Unemployment  Unemployment Pctl  Pop. Char.   \\\n",
       "0         97.78         19.30              92.05    90.072268   \n",
       "1         98.93           NaN                NaN    92.323243   \n",
       "2         99.66         25.27              98.14    91.499039   \n",
       "3         88.32         18.30              89.60    83.474281   \n",
       "4         99.79         26.69              98.61    92.246260   \n",
       "\n",
       "   Pop. Char. Score  Pop. Char. Pctl  \\\n",
       "0          9.360658            99.60   \n",
       "1          9.594592            99.90   \n",
       "2          9.508958            99.80   \n",
       "3          8.674967            97.74   \n",
       "4          9.586590            99.89   \n",
       "\n",
       "                                          Location 1  \n",
       "0   Fresno 93706\\n(36.709695199999999, -119.7816961)  \n",
       "1   Fresno 93706\\n(36.726461999999998, -119.8010347)  \n",
       "2   Fresno 93706\\n(36.735491400000001, -119.8055044)  \n",
       "3  Fresno 93725\\n(36.681600000000003, -119.717842...  \n",
       "4   Fresno 93721\\n(36.743062999999999, -119.7933565)  \n",
       "\n",
       "[5 rows x 52 columns]"
      ]
     },
     "execution_count": 20,
     "metadata": {},
     "output_type": "execute_result"
    }
   ],
   "source": [
    "cali.head()"
   ]
  },
  {
   "cell_type": "code",
   "execution_count": 21,
   "metadata": {},
   "outputs": [],
   "source": [
    "#only include data about San Diego\n",
    "sd = cali[cali['California County'] == 'San Diego']"
   ]
  },
  {
   "cell_type": "markdown",
   "metadata": {},
   "source": [
    "####  Check dataset and deal with missingness"
   ]
  },
  {
   "cell_type": "code",
   "execution_count": 22,
   "metadata": {},
   "outputs": [
    {
     "data": {
      "text/html": [
       "<div>\n",
       "<style scoped>\n",
       "    .dataframe tbody tr th:only-of-type {\n",
       "        vertical-align: middle;\n",
       "    }\n",
       "\n",
       "    .dataframe tbody tr th {\n",
       "        vertical-align: top;\n",
       "    }\n",
       "\n",
       "    .dataframe thead th {\n",
       "        text-align: right;\n",
       "    }\n",
       "</style>\n",
       "<table border=\"1\" class=\"dataframe\">\n",
       "  <thead>\n",
       "    <tr style=\"text-align: right;\">\n",
       "      <th></th>\n",
       "      <th>Census Tract</th>\n",
       "      <th>Total Population</th>\n",
       "      <th>California County</th>\n",
       "      <th>Click for interactive map</th>\n",
       "      <th>CES 2.0 Score</th>\n",
       "      <th>CES 2.0 Percentile Range</th>\n",
       "      <th>Hyperlink</th>\n",
       "      <th>Ozone</th>\n",
       "      <th>Ozone Pctl</th>\n",
       "      <th>PM2.5</th>\n",
       "      <th>...</th>\n",
       "      <th>Linguistic Isolation</th>\n",
       "      <th>Linguistic Isolation Pctl</th>\n",
       "      <th>Poverty</th>\n",
       "      <th>Poverty Pctl</th>\n",
       "      <th>Unemployment</th>\n",
       "      <th>Unemployment Pctl</th>\n",
       "      <th>Pop. Char.</th>\n",
       "      <th>Pop. Char. Score</th>\n",
       "      <th>Pop. Char. Pctl</th>\n",
       "      <th>Location 1</th>\n",
       "    </tr>\n",
       "  </thead>\n",
       "  <tbody>\n",
       "    <tr>\n",
       "      <th>165</th>\n",
       "      <td>6073005000</td>\n",
       "      <td>2227</td>\n",
       "      <td>San Diego</td>\n",
       "      <td>NaN</td>\n",
       "      <td>59.91</td>\n",
       "      <td>96-100% (highest scores)</td>\n",
       "      <td>http://oehha.maps.arcgis.com/apps/Viewer/index...</td>\n",
       "      <td>0.000812</td>\n",
       "      <td>5.05</td>\n",
       "      <td>10.404164</td>\n",
       "      <td>...</td>\n",
       "      <td>32.9</td>\n",
       "      <td>94.47</td>\n",
       "      <td>74.855946</td>\n",
       "      <td>96.65</td>\n",
       "      <td>NaN</td>\n",
       "      <td>NaN</td>\n",
       "      <td>80.024629</td>\n",
       "      <td>8.316532</td>\n",
       "      <td>95.15</td>\n",
       "      <td>San Diego 92113\\n(32.694850199999998, -117.141...</td>\n",
       "    </tr>\n",
       "    <tr>\n",
       "      <th>299</th>\n",
       "      <td>6073003601</td>\n",
       "      <td>3250</td>\n",
       "      <td>San Diego</td>\n",
       "      <td>NaN</td>\n",
       "      <td>55.61</td>\n",
       "      <td>96-100% (highest scores)</td>\n",
       "      <td>http://oehha.maps.arcgis.com/apps/Viewer/index...</td>\n",
       "      <td>0.001435</td>\n",
       "      <td>7.59</td>\n",
       "      <td>10.460384</td>\n",
       "      <td>...</td>\n",
       "      <td>27.3</td>\n",
       "      <td>90.59</td>\n",
       "      <td>76.636392</td>\n",
       "      <td>97.50</td>\n",
       "      <td>17.84</td>\n",
       "      <td>88.59</td>\n",
       "      <td>80.518487</td>\n",
       "      <td>8.367767</td>\n",
       "      <td>95.74</td>\n",
       "      <td>San Diego 92113\\n(32.690986199999998, -117.116...</td>\n",
       "    </tr>\n",
       "    <tr>\n",
       "      <th>370</th>\n",
       "      <td>6073004900</td>\n",
       "      <td>5028</td>\n",
       "      <td>San Diego</td>\n",
       "      <td>NaN</td>\n",
       "      <td>54.23</td>\n",
       "      <td>96-100% (highest scores)</td>\n",
       "      <td>http://oehha.maps.arcgis.com/apps/Viewer/index...</td>\n",
       "      <td>0.000923</td>\n",
       "      <td>5.37</td>\n",
       "      <td>10.430966</td>\n",
       "      <td>...</td>\n",
       "      <td>37.3</td>\n",
       "      <td>96.44</td>\n",
       "      <td>70.019802</td>\n",
       "      <td>94.09</td>\n",
       "      <td>13.77</td>\n",
       "      <td>72.61</td>\n",
       "      <td>77.443988</td>\n",
       "      <td>8.048304</td>\n",
       "      <td>92.80</td>\n",
       "      <td>San Diego 92113\\n(32.701852600000002, -117.138...</td>\n",
       "    </tr>\n",
       "    <tr>\n",
       "      <th>466</th>\n",
       "      <td>6073003902</td>\n",
       "      <td>4927</td>\n",
       "      <td>San Diego</td>\n",
       "      <td>NaN</td>\n",
       "      <td>52.48</td>\n",
       "      <td>91-95%</td>\n",
       "      <td>http://oehha.maps.arcgis.com/apps/Viewer/index...</td>\n",
       "      <td>0.001166</td>\n",
       "      <td>6.44</td>\n",
       "      <td>10.449528</td>\n",
       "      <td>...</td>\n",
       "      <td>37.2</td>\n",
       "      <td>96.43</td>\n",
       "      <td>76.470588</td>\n",
       "      <td>97.38</td>\n",
       "      <td>19.39</td>\n",
       "      <td>92.23</td>\n",
       "      <td>81.570728</td>\n",
       "      <td>8.477199</td>\n",
       "      <td>96.54</td>\n",
       "      <td>San Diego 92113\\n(32.696748999999997, -117.126...</td>\n",
       "    </tr>\n",
       "    <tr>\n",
       "      <th>805</th>\n",
       "      <td>6073003901</td>\n",
       "      <td>4241</td>\n",
       "      <td>San Diego</td>\n",
       "      <td>NaN</td>\n",
       "      <td>47.82</td>\n",
       "      <td>86-90%</td>\n",
       "      <td>http://oehha.maps.arcgis.com/apps/Viewer/index...</td>\n",
       "      <td>0.001217</td>\n",
       "      <td>6.66</td>\n",
       "      <td>10.469327</td>\n",
       "      <td>...</td>\n",
       "      <td>28.4</td>\n",
       "      <td>91.74</td>\n",
       "      <td>79.242069</td>\n",
       "      <td>98.29</td>\n",
       "      <td>28.52</td>\n",
       "      <td>99.12</td>\n",
       "      <td>81.980043</td>\n",
       "      <td>8.519704</td>\n",
       "      <td>96.81</td>\n",
       "      <td>San Diego 92113\\n(32.703556800000001, -117.126...</td>\n",
       "    </tr>\n",
       "  </tbody>\n",
       "</table>\n",
       "<p>5 rows × 52 columns</p>\n",
       "</div>"
      ],
      "text/plain": [
       "     Census Tract  Total Population California County  \\\n",
       "165    6073005000              2227         San Diego   \n",
       "299    6073003601              3250         San Diego   \n",
       "370    6073004900              5028         San Diego   \n",
       "466    6073003902              4927         San Diego   \n",
       "805    6073003901              4241         San Diego   \n",
       "\n",
       "     Click for interactive map  CES 2.0 Score  CES 2.0 Percentile Range  \\\n",
       "165                        NaN          59.91  96-100% (highest scores)   \n",
       "299                        NaN          55.61  96-100% (highest scores)   \n",
       "370                        NaN          54.23  96-100% (highest scores)   \n",
       "466                        NaN          52.48                    91-95%   \n",
       "805                        NaN          47.82                    86-90%   \n",
       "\n",
       "                                             Hyperlink     Ozone  Ozone Pctl  \\\n",
       "165  http://oehha.maps.arcgis.com/apps/Viewer/index...  0.000812        5.05   \n",
       "299  http://oehha.maps.arcgis.com/apps/Viewer/index...  0.001435        7.59   \n",
       "370  http://oehha.maps.arcgis.com/apps/Viewer/index...  0.000923        5.37   \n",
       "466  http://oehha.maps.arcgis.com/apps/Viewer/index...  0.001166        6.44   \n",
       "805  http://oehha.maps.arcgis.com/apps/Viewer/index...  0.001217        6.66   \n",
       "\n",
       "         PM2.5  ...  Linguistic Isolation  Linguistic Isolation Pctl  \\\n",
       "165  10.404164  ...                  32.9                      94.47   \n",
       "299  10.460384  ...                  27.3                      90.59   \n",
       "370  10.430966  ...                  37.3                      96.44   \n",
       "466  10.449528  ...                  37.2                      96.43   \n",
       "805  10.469327  ...                  28.4                      91.74   \n",
       "\n",
       "       Poverty  Poverty Pctl  Unemployment  Unemployment Pctl  Pop. Char.   \\\n",
       "165  74.855946         96.65           NaN                NaN    80.024629   \n",
       "299  76.636392         97.50         17.84              88.59    80.518487   \n",
       "370  70.019802         94.09         13.77              72.61    77.443988   \n",
       "466  76.470588         97.38         19.39              92.23    81.570728   \n",
       "805  79.242069         98.29         28.52              99.12    81.980043   \n",
       "\n",
       "     Pop. Char. Score  Pop. Char. Pctl  \\\n",
       "165          8.316532            95.15   \n",
       "299          8.367767            95.74   \n",
       "370          8.048304            92.80   \n",
       "466          8.477199            96.54   \n",
       "805          8.519704            96.81   \n",
       "\n",
       "                                            Location 1  \n",
       "165  San Diego 92113\\n(32.694850199999998, -117.141...  \n",
       "299  San Diego 92113\\n(32.690986199999998, -117.116...  \n",
       "370  San Diego 92113\\n(32.701852600000002, -117.138...  \n",
       "466  San Diego 92113\\n(32.696748999999997, -117.126...  \n",
       "805  San Diego 92113\\n(32.703556800000001, -117.126...  \n",
       "\n",
       "[5 rows x 52 columns]"
      ]
     },
     "execution_count": 22,
     "metadata": {},
     "output_type": "execute_result"
    }
   ],
   "source": [
    "sd.head()"
   ]
  },
  {
   "cell_type": "code",
   "execution_count": 23,
   "metadata": {},
   "outputs": [
    {
     "data": {
      "text/plain": [
       "Census Tract                   0\n",
       "Total Population               0\n",
       "California County              0\n",
       "Click for interactive map    627\n",
       "CES 2.0 Score                  4\n",
       "CES 2.0 Percentile Range       4\n",
       "Hyperlink                      0\n",
       "Ozone                          1\n",
       "Ozone Pctl                     1\n",
       "PM2.5                          1\n",
       "PM2.5 Pctl                     1\n",
       "Diesel PM                      0\n",
       "Diesel PM Pctl                 0\n",
       "Drinking Water                 1\n",
       "Drinking Water Pctl            1\n",
       "Pesticides                     0\n",
       "Pesticides Pctl                0\n",
       "Tox. Release                   0\n",
       "Tox. Release Pctl              0\n",
       "Traffic                        0\n",
       "Traffic Pctl                   0\n",
       "Cleanup Sites                  0\n",
       "Cleanup Sites Pctl             0\n",
       "Groundwater Threats            0\n",
       "Groundwater Threats Pctl       0\n",
       "Haz. Waste                     0\n",
       "Haz. Waste Pctl                0\n",
       "Imp. Water Bodies              0\n",
       "Imp. Water Bodies Pctl         0\n",
       "Solid Waste                    0\n",
       "Solid Waste Pctl               0\n",
       "Pollution Burden               0\n",
       "Pollution Burden Score         0\n",
       "Pollution Burden Pctl          0\n",
       "Age                            0\n",
       "Age Pctl                       0\n",
       "Asthma                         0\n",
       "Asthma Pctl                    0\n",
       "Low Birth Weight               0\n",
       "Low Birth Weight Pctl          0\n",
       "Education                      6\n",
       "Education Pctl                 6\n",
       "Linguistic Isolation          22\n",
       "Linguistic Isolation Pctl     22\n",
       "Poverty                       10\n",
       "Poverty Pctl                  10\n",
       "Unemployment                   9\n",
       "Unemployment Pctl              9\n",
       "Pop. Char.                     4\n",
       "Pop. Char. Score               4\n",
       "Pop. Char. Pctl                4\n",
       "Location 1                     0\n",
       "dtype: int64"
      ]
     },
     "execution_count": 23,
     "metadata": {},
     "output_type": "execute_result"
    }
   ],
   "source": [
    "sd.isnull().sum()"
   ]
  },
  {
   "cell_type": "code",
   "execution_count": 24,
   "metadata": {},
   "outputs": [
    {
     "data": {
      "text/html": [
       "<div>\n",
       "<style scoped>\n",
       "    .dataframe tbody tr th:only-of-type {\n",
       "        vertical-align: middle;\n",
       "    }\n",
       "\n",
       "    .dataframe tbody tr th {\n",
       "        vertical-align: top;\n",
       "    }\n",
       "\n",
       "    .dataframe thead th {\n",
       "        text-align: right;\n",
       "    }\n",
       "</style>\n",
       "<table border=\"1\" class=\"dataframe\">\n",
       "  <thead>\n",
       "    <tr style=\"text-align: right;\">\n",
       "      <th></th>\n",
       "      <th>Census Tract</th>\n",
       "      <th>Total Population</th>\n",
       "      <th>California County</th>\n",
       "      <th>Click for interactive map</th>\n",
       "      <th>CES 2.0 Score</th>\n",
       "      <th>CES 2.0 Percentile Range</th>\n",
       "      <th>Hyperlink</th>\n",
       "      <th>Ozone</th>\n",
       "      <th>Ozone Pctl</th>\n",
       "      <th>PM2.5</th>\n",
       "      <th>...</th>\n",
       "      <th>Linguistic Isolation</th>\n",
       "      <th>Linguistic Isolation Pctl</th>\n",
       "      <th>Poverty</th>\n",
       "      <th>Poverty Pctl</th>\n",
       "      <th>Unemployment</th>\n",
       "      <th>Unemployment Pctl</th>\n",
       "      <th>Pop. Char.</th>\n",
       "      <th>Pop. Char. Score</th>\n",
       "      <th>Pop. Char. Pctl</th>\n",
       "      <th>Location 1</th>\n",
       "    </tr>\n",
       "  </thead>\n",
       "  <tbody>\n",
       "    <tr>\n",
       "      <th>4098</th>\n",
       "      <td>6073021000</td>\n",
       "      <td>4440</td>\n",
       "      <td>San Diego</td>\n",
       "      <td>NaN</td>\n",
       "      <td>23.11</td>\n",
       "      <td>46-50%</td>\n",
       "      <td>http://oehha.maps.arcgis.com/apps/Viewer/index...</td>\n",
       "      <td>NaN</td>\n",
       "      <td>NaN</td>\n",
       "      <td>NaN</td>\n",
       "      <td>...</td>\n",
       "      <td>NaN</td>\n",
       "      <td>NaN</td>\n",
       "      <td>47.287341</td>\n",
       "      <td>71.44</td>\n",
       "      <td>13.46</td>\n",
       "      <td>70.94</td>\n",
       "      <td>57.725638</td>\n",
       "      <td>5.999127</td>\n",
       "      <td>64.3</td>\n",
       "      <td>Borrego Springs 92004\\n(33.1112185, -116.27356)</td>\n",
       "    </tr>\n",
       "  </tbody>\n",
       "</table>\n",
       "<p>1 rows × 52 columns</p>\n",
       "</div>"
      ],
      "text/plain": [
       "      Census Tract  Total Population California County  \\\n",
       "4098    6073021000              4440         San Diego   \n",
       "\n",
       "      Click for interactive map  CES 2.0 Score CES 2.0 Percentile Range  \\\n",
       "4098                        NaN          23.11                   46-50%   \n",
       "\n",
       "                                              Hyperlink  Ozone  Ozone Pctl  \\\n",
       "4098  http://oehha.maps.arcgis.com/apps/Viewer/index...    NaN         NaN   \n",
       "\n",
       "      PM2.5  ...  Linguistic Isolation  Linguistic Isolation Pctl    Poverty  \\\n",
       "4098    NaN  ...                   NaN                        NaN  47.287341   \n",
       "\n",
       "      Poverty Pctl  Unemployment  Unemployment Pctl  Pop. Char.   \\\n",
       "4098         71.44         13.46              70.94    57.725638   \n",
       "\n",
       "      Pop. Char. Score  Pop. Char. Pctl  \\\n",
       "4098          5.999127             64.3   \n",
       "\n",
       "                                           Location 1  \n",
       "4098  Borrego Springs 92004\\n(33.1112185, -116.27356)  \n",
       "\n",
       "[1 rows x 52 columns]"
      ]
     },
     "execution_count": 24,
     "metadata": {},
     "output_type": "execute_result"
    }
   ],
   "source": [
    "# check the important missingness that relates to my analysis\n",
    "sd[sd['PM2.5'].isnull()]"
   ]
  },
  {
   "cell_type": "code",
   "execution_count": 25,
   "metadata": {},
   "outputs": [],
   "source": [
    "#drop this null value in PM2.5 column\n",
    "sd = sd[sd['PM2.5'].isnull() == False]"
   ]
  },
  {
   "cell_type": "code",
   "execution_count": 26,
   "metadata": {
    "scrolled": true
   },
   "outputs": [
    {
     "data": {
      "text/html": [
       "<div>\n",
       "<style scoped>\n",
       "    .dataframe tbody tr th:only-of-type {\n",
       "        vertical-align: middle;\n",
       "    }\n",
       "\n",
       "    .dataframe tbody tr th {\n",
       "        vertical-align: top;\n",
       "    }\n",
       "\n",
       "    .dataframe thead th {\n",
       "        text-align: right;\n",
       "    }\n",
       "</style>\n",
       "<table border=\"1\" class=\"dataframe\">\n",
       "  <thead>\n",
       "    <tr style=\"text-align: right;\">\n",
       "      <th></th>\n",
       "      <th>Census Tract</th>\n",
       "      <th>Total Population</th>\n",
       "      <th>California County</th>\n",
       "      <th>Click for interactive map</th>\n",
       "      <th>CES 2.0 Score</th>\n",
       "      <th>CES 2.0 Percentile Range</th>\n",
       "      <th>Hyperlink</th>\n",
       "      <th>Ozone</th>\n",
       "      <th>Ozone Pctl</th>\n",
       "      <th>PM2.5</th>\n",
       "      <th>...</th>\n",
       "      <th>Linguistic Isolation</th>\n",
       "      <th>Linguistic Isolation Pctl</th>\n",
       "      <th>Poverty</th>\n",
       "      <th>Poverty Pctl</th>\n",
       "      <th>Unemployment</th>\n",
       "      <th>Unemployment Pctl</th>\n",
       "      <th>Pop. Char.</th>\n",
       "      <th>Pop. Char. Score</th>\n",
       "      <th>Pop. Char. Pctl</th>\n",
       "      <th>Location 1</th>\n",
       "    </tr>\n",
       "  </thead>\n",
       "  <tbody>\n",
       "    <tr>\n",
       "      <th>165</th>\n",
       "      <td>6073005000</td>\n",
       "      <td>2227</td>\n",
       "      <td>San Diego</td>\n",
       "      <td>NaN</td>\n",
       "      <td>59.91</td>\n",
       "      <td>96-100% (highest scores)</td>\n",
       "      <td>http://oehha.maps.arcgis.com/apps/Viewer/index...</td>\n",
       "      <td>0.000812</td>\n",
       "      <td>5.05</td>\n",
       "      <td>10.404164</td>\n",
       "      <td>...</td>\n",
       "      <td>32.9</td>\n",
       "      <td>94.47</td>\n",
       "      <td>74.855946</td>\n",
       "      <td>96.65</td>\n",
       "      <td>NaN</td>\n",
       "      <td>NaN</td>\n",
       "      <td>80.024629</td>\n",
       "      <td>8.316532</td>\n",
       "      <td>95.15</td>\n",
       "      <td>San Diego 92113\\n(32.694850199999998, -117.141...</td>\n",
       "    </tr>\n",
       "    <tr>\n",
       "      <th>299</th>\n",
       "      <td>6073003601</td>\n",
       "      <td>3250</td>\n",
       "      <td>San Diego</td>\n",
       "      <td>NaN</td>\n",
       "      <td>55.61</td>\n",
       "      <td>96-100% (highest scores)</td>\n",
       "      <td>http://oehha.maps.arcgis.com/apps/Viewer/index...</td>\n",
       "      <td>0.001435</td>\n",
       "      <td>7.59</td>\n",
       "      <td>10.460384</td>\n",
       "      <td>...</td>\n",
       "      <td>27.3</td>\n",
       "      <td>90.59</td>\n",
       "      <td>76.636392</td>\n",
       "      <td>97.50</td>\n",
       "      <td>17.84</td>\n",
       "      <td>88.59</td>\n",
       "      <td>80.518487</td>\n",
       "      <td>8.367767</td>\n",
       "      <td>95.74</td>\n",
       "      <td>San Diego 92113\\n(32.690986199999998, -117.116...</td>\n",
       "    </tr>\n",
       "  </tbody>\n",
       "</table>\n",
       "<p>2 rows × 52 columns</p>\n",
       "</div>"
      ],
      "text/plain": [
       "     Census Tract  Total Population California County  \\\n",
       "165    6073005000              2227         San Diego   \n",
       "299    6073003601              3250         San Diego   \n",
       "\n",
       "     Click for interactive map  CES 2.0 Score  CES 2.0 Percentile Range  \\\n",
       "165                        NaN          59.91  96-100% (highest scores)   \n",
       "299                        NaN          55.61  96-100% (highest scores)   \n",
       "\n",
       "                                             Hyperlink     Ozone  Ozone Pctl  \\\n",
       "165  http://oehha.maps.arcgis.com/apps/Viewer/index...  0.000812        5.05   \n",
       "299  http://oehha.maps.arcgis.com/apps/Viewer/index...  0.001435        7.59   \n",
       "\n",
       "         PM2.5  ...  Linguistic Isolation  Linguistic Isolation Pctl  \\\n",
       "165  10.404164  ...                  32.9                      94.47   \n",
       "299  10.460384  ...                  27.3                      90.59   \n",
       "\n",
       "       Poverty  Poverty Pctl  Unemployment  Unemployment Pctl  Pop. Char.   \\\n",
       "165  74.855946         96.65           NaN                NaN    80.024629   \n",
       "299  76.636392         97.50         17.84              88.59    80.518487   \n",
       "\n",
       "     Pop. Char. Score  Pop. Char. Pctl  \\\n",
       "165          8.316532            95.15   \n",
       "299          8.367767            95.74   \n",
       "\n",
       "                                            Location 1  \n",
       "165  San Diego 92113\\n(32.694850199999998, -117.141...  \n",
       "299  San Diego 92113\\n(32.690986199999998, -117.116...  \n",
       "\n",
       "[2 rows x 52 columns]"
      ]
     },
     "execution_count": 26,
     "metadata": {},
     "output_type": "execute_result"
    }
   ],
   "source": [
    "sd.head(2)"
   ]
  },
  {
   "cell_type": "markdown",
   "metadata": {},
   "source": [
    "#### Reformat and store geospatial data "
   ]
  },
  {
   "cell_type": "code",
   "execution_count": 27,
   "metadata": {},
   "outputs": [],
   "source": [
    "# split string about location info to longitude and latitude"
   ]
  },
  {
   "cell_type": "code",
   "execution_count": 28,
   "metadata": {},
   "outputs": [],
   "source": [
    "def longtitude(s):\n",
    "    i1 = s.find('(')\n",
    "    i2 = s.find(',')\n",
    "    i3 = s.find(')')\n",
    "    latitude = s[i1+1:i2]\n",
    "    longitude = s[i2+ 2: i3]\n",
    "    return longitude\n",
    "\n",
    "def latitude(s):\n",
    "    i1 = s.find('(')\n",
    "    i2 = s.find(',')\n",
    "    i3 = s.find(')')\n",
    "    latitude = s[i1+1:i2]\n",
    "    longitude = s[i2+ 2: i3]\n",
    "    return latitude"
   ]
  },
  {
   "cell_type": "code",
   "execution_count": 29,
   "metadata": {},
   "outputs": [],
   "source": [
    "sd['longitude'] = sd['Location 1'].apply(longtitude)\n",
    "sd['latitude'] = sd['Location 1'].apply(latitude)"
   ]
  },
  {
   "cell_type": "code",
   "execution_count": 30,
   "metadata": {},
   "outputs": [
    {
     "data": {
      "text/plain": [
       "Index(['Census Tract', 'Total Population', 'California County',\n",
       "       'Click for interactive map', 'CES 2.0 Score',\n",
       "       'CES 2.0 Percentile Range', 'Hyperlink', 'Ozone', 'Ozone Pctl', 'PM2.5',\n",
       "       'PM2.5 Pctl', 'Diesel PM', 'Diesel PM Pctl', 'Drinking Water',\n",
       "       'Drinking Water Pctl', 'Pesticides', 'Pesticides Pctl', 'Tox. Release',\n",
       "       'Tox. Release Pctl', 'Traffic', 'Traffic Pctl', 'Cleanup Sites',\n",
       "       'Cleanup Sites Pctl', 'Groundwater Threats', 'Groundwater Threats Pctl',\n",
       "       'Haz. Waste', 'Haz. Waste Pctl', 'Imp. Water Bodies',\n",
       "       'Imp. Water Bodies Pctl', 'Solid Waste', 'Solid Waste Pctl',\n",
       "       'Pollution Burden', 'Pollution Burden Score', 'Pollution Burden Pctl',\n",
       "       'Age', 'Age Pctl', 'Asthma', 'Asthma Pctl', 'Low Birth Weight',\n",
       "       'Low Birth Weight Pctl', 'Education', 'Education Pctl',\n",
       "       'Linguistic Isolation', 'Linguistic Isolation Pctl', 'Poverty',\n",
       "       'Poverty Pctl', 'Unemployment', 'Unemployment Pctl', 'Pop. Char. ',\n",
       "       'Pop. Char. Score', 'Pop. Char. Pctl', 'Location 1', 'longitude',\n",
       "       'latitude'],\n",
       "      dtype='object')"
      ]
     },
     "execution_count": 30,
     "metadata": {},
     "output_type": "execute_result"
    }
   ],
   "source": [
    "sd.columns"
   ]
  },
  {
   "cell_type": "code",
   "execution_count": 31,
   "metadata": {},
   "outputs": [
    {
     "data": {
      "text/html": [
       "<div>\n",
       "<style scoped>\n",
       "    .dataframe tbody tr th:only-of-type {\n",
       "        vertical-align: middle;\n",
       "    }\n",
       "\n",
       "    .dataframe tbody tr th {\n",
       "        vertical-align: top;\n",
       "    }\n",
       "\n",
       "    .dataframe thead th {\n",
       "        text-align: right;\n",
       "    }\n",
       "</style>\n",
       "<table border=\"1\" class=\"dataframe\">\n",
       "  <thead>\n",
       "    <tr style=\"text-align: right;\">\n",
       "      <th></th>\n",
       "      <th>Census Tract</th>\n",
       "      <th>Total Population</th>\n",
       "      <th>California County</th>\n",
       "      <th>Click for interactive map</th>\n",
       "      <th>CES 2.0 Score</th>\n",
       "      <th>CES 2.0 Percentile Range</th>\n",
       "      <th>Hyperlink</th>\n",
       "      <th>Ozone</th>\n",
       "      <th>Ozone Pctl</th>\n",
       "      <th>PM2.5</th>\n",
       "      <th>...</th>\n",
       "      <th>Poverty</th>\n",
       "      <th>Poverty Pctl</th>\n",
       "      <th>Unemployment</th>\n",
       "      <th>Unemployment Pctl</th>\n",
       "      <th>Pop. Char.</th>\n",
       "      <th>Pop. Char. Score</th>\n",
       "      <th>Pop. Char. Pctl</th>\n",
       "      <th>Location 1</th>\n",
       "      <th>longitude</th>\n",
       "      <th>latitude</th>\n",
       "    </tr>\n",
       "  </thead>\n",
       "  <tbody>\n",
       "    <tr>\n",
       "      <th>165</th>\n",
       "      <td>6073005000</td>\n",
       "      <td>2227</td>\n",
       "      <td>San Diego</td>\n",
       "      <td>NaN</td>\n",
       "      <td>59.91</td>\n",
       "      <td>96-100% (highest scores)</td>\n",
       "      <td>http://oehha.maps.arcgis.com/apps/Viewer/index...</td>\n",
       "      <td>0.000812</td>\n",
       "      <td>5.05</td>\n",
       "      <td>10.404164</td>\n",
       "      <td>...</td>\n",
       "      <td>74.855946</td>\n",
       "      <td>96.65</td>\n",
       "      <td>NaN</td>\n",
       "      <td>NaN</td>\n",
       "      <td>80.024629</td>\n",
       "      <td>8.316532</td>\n",
       "      <td>95.15</td>\n",
       "      <td>San Diego 92113\\n(32.694850199999998, -117.141...</td>\n",
       "      <td>-117.1411746</td>\n",
       "      <td>32.694850199999998</td>\n",
       "    </tr>\n",
       "    <tr>\n",
       "      <th>299</th>\n",
       "      <td>6073003601</td>\n",
       "      <td>3250</td>\n",
       "      <td>San Diego</td>\n",
       "      <td>NaN</td>\n",
       "      <td>55.61</td>\n",
       "      <td>96-100% (highest scores)</td>\n",
       "      <td>http://oehha.maps.arcgis.com/apps/Viewer/index...</td>\n",
       "      <td>0.001435</td>\n",
       "      <td>7.59</td>\n",
       "      <td>10.460384</td>\n",
       "      <td>...</td>\n",
       "      <td>76.636392</td>\n",
       "      <td>97.50</td>\n",
       "      <td>17.84</td>\n",
       "      <td>88.59</td>\n",
       "      <td>80.518487</td>\n",
       "      <td>8.367767</td>\n",
       "      <td>95.74</td>\n",
       "      <td>San Diego 92113\\n(32.690986199999998, -117.116...</td>\n",
       "      <td>-117.1165151</td>\n",
       "      <td>32.690986199999998</td>\n",
       "    </tr>\n",
       "    <tr>\n",
       "      <th>370</th>\n",
       "      <td>6073004900</td>\n",
       "      <td>5028</td>\n",
       "      <td>San Diego</td>\n",
       "      <td>NaN</td>\n",
       "      <td>54.23</td>\n",
       "      <td>96-100% (highest scores)</td>\n",
       "      <td>http://oehha.maps.arcgis.com/apps/Viewer/index...</td>\n",
       "      <td>0.000923</td>\n",
       "      <td>5.37</td>\n",
       "      <td>10.430966</td>\n",
       "      <td>...</td>\n",
       "      <td>70.019802</td>\n",
       "      <td>94.09</td>\n",
       "      <td>13.77</td>\n",
       "      <td>72.61</td>\n",
       "      <td>77.443988</td>\n",
       "      <td>8.048304</td>\n",
       "      <td>92.80</td>\n",
       "      <td>San Diego 92113\\n(32.701852600000002, -117.138...</td>\n",
       "      <td>-117.138677</td>\n",
       "      <td>32.701852600000002</td>\n",
       "    </tr>\n",
       "    <tr>\n",
       "      <th>466</th>\n",
       "      <td>6073003902</td>\n",
       "      <td>4927</td>\n",
       "      <td>San Diego</td>\n",
       "      <td>NaN</td>\n",
       "      <td>52.48</td>\n",
       "      <td>91-95%</td>\n",
       "      <td>http://oehha.maps.arcgis.com/apps/Viewer/index...</td>\n",
       "      <td>0.001166</td>\n",
       "      <td>6.44</td>\n",
       "      <td>10.449528</td>\n",
       "      <td>...</td>\n",
       "      <td>76.470588</td>\n",
       "      <td>97.38</td>\n",
       "      <td>19.39</td>\n",
       "      <td>92.23</td>\n",
       "      <td>81.570728</td>\n",
       "      <td>8.477199</td>\n",
       "      <td>96.54</td>\n",
       "      <td>San Diego 92113\\n(32.696748999999997, -117.126...</td>\n",
       "      <td>-117.1263197</td>\n",
       "      <td>32.696748999999997</td>\n",
       "    </tr>\n",
       "    <tr>\n",
       "      <th>805</th>\n",
       "      <td>6073003901</td>\n",
       "      <td>4241</td>\n",
       "      <td>San Diego</td>\n",
       "      <td>NaN</td>\n",
       "      <td>47.82</td>\n",
       "      <td>86-90%</td>\n",
       "      <td>http://oehha.maps.arcgis.com/apps/Viewer/index...</td>\n",
       "      <td>0.001217</td>\n",
       "      <td>6.66</td>\n",
       "      <td>10.469327</td>\n",
       "      <td>...</td>\n",
       "      <td>79.242069</td>\n",
       "      <td>98.29</td>\n",
       "      <td>28.52</td>\n",
       "      <td>99.12</td>\n",
       "      <td>81.980043</td>\n",
       "      <td>8.519704</td>\n",
       "      <td>96.81</td>\n",
       "      <td>San Diego 92113\\n(32.703556800000001, -117.126...</td>\n",
       "      <td>-117.12673770000001</td>\n",
       "      <td>32.703556800000001</td>\n",
       "    </tr>\n",
       "  </tbody>\n",
       "</table>\n",
       "<p>5 rows × 54 columns</p>\n",
       "</div>"
      ],
      "text/plain": [
       "     Census Tract  Total Population California County  \\\n",
       "165    6073005000              2227         San Diego   \n",
       "299    6073003601              3250         San Diego   \n",
       "370    6073004900              5028         San Diego   \n",
       "466    6073003902              4927         San Diego   \n",
       "805    6073003901              4241         San Diego   \n",
       "\n",
       "     Click for interactive map  CES 2.0 Score  CES 2.0 Percentile Range  \\\n",
       "165                        NaN          59.91  96-100% (highest scores)   \n",
       "299                        NaN          55.61  96-100% (highest scores)   \n",
       "370                        NaN          54.23  96-100% (highest scores)   \n",
       "466                        NaN          52.48                    91-95%   \n",
       "805                        NaN          47.82                    86-90%   \n",
       "\n",
       "                                             Hyperlink     Ozone  Ozone Pctl  \\\n",
       "165  http://oehha.maps.arcgis.com/apps/Viewer/index...  0.000812        5.05   \n",
       "299  http://oehha.maps.arcgis.com/apps/Viewer/index...  0.001435        7.59   \n",
       "370  http://oehha.maps.arcgis.com/apps/Viewer/index...  0.000923        5.37   \n",
       "466  http://oehha.maps.arcgis.com/apps/Viewer/index...  0.001166        6.44   \n",
       "805  http://oehha.maps.arcgis.com/apps/Viewer/index...  0.001217        6.66   \n",
       "\n",
       "         PM2.5  ...    Poverty  Poverty Pctl  Unemployment  Unemployment Pctl  \\\n",
       "165  10.404164  ...  74.855946         96.65           NaN                NaN   \n",
       "299  10.460384  ...  76.636392         97.50         17.84              88.59   \n",
       "370  10.430966  ...  70.019802         94.09         13.77              72.61   \n",
       "466  10.449528  ...  76.470588         97.38         19.39              92.23   \n",
       "805  10.469327  ...  79.242069         98.29         28.52              99.12   \n",
       "\n",
       "     Pop. Char.   Pop. Char. Score  Pop. Char. Pctl  \\\n",
       "165    80.024629          8.316532            95.15   \n",
       "299    80.518487          8.367767            95.74   \n",
       "370    77.443988          8.048304            92.80   \n",
       "466    81.570728          8.477199            96.54   \n",
       "805    81.980043          8.519704            96.81   \n",
       "\n",
       "                                            Location 1            longitude  \\\n",
       "165  San Diego 92113\\n(32.694850199999998, -117.141...         -117.1411746   \n",
       "299  San Diego 92113\\n(32.690986199999998, -117.116...         -117.1165151   \n",
       "370  San Diego 92113\\n(32.701852600000002, -117.138...          -117.138677   \n",
       "466  San Diego 92113\\n(32.696748999999997, -117.126...         -117.1263197   \n",
       "805  San Diego 92113\\n(32.703556800000001, -117.126...  -117.12673770000001   \n",
       "\n",
       "               latitude  \n",
       "165  32.694850199999998  \n",
       "299  32.690986199999998  \n",
       "370  32.701852600000002  \n",
       "466  32.696748999999997  \n",
       "805  32.703556800000001  \n",
       "\n",
       "[5 rows x 54 columns]"
      ]
     },
     "execution_count": 31,
     "metadata": {},
     "output_type": "execute_result"
    }
   ],
   "source": [
    "sd.head()"
   ]
  },
  {
   "cell_type": "markdown",
   "metadata": {},
   "source": [
    "#### Extract columns needed"
   ]
  },
  {
   "cell_type": "code",
   "execution_count": 32,
   "metadata": {},
   "outputs": [],
   "source": [
    "#take subset that only include info we want\n",
    "sd = sd[['PM2.5','PM2.5 Pctl','longitude','latitude']]"
   ]
  },
  {
   "cell_type": "code",
   "execution_count": 33,
   "metadata": {},
   "outputs": [
    {
     "data": {
      "text/html": [
       "<div>\n",
       "<style scoped>\n",
       "    .dataframe tbody tr th:only-of-type {\n",
       "        vertical-align: middle;\n",
       "    }\n",
       "\n",
       "    .dataframe tbody tr th {\n",
       "        vertical-align: top;\n",
       "    }\n",
       "\n",
       "    .dataframe thead th {\n",
       "        text-align: right;\n",
       "    }\n",
       "</style>\n",
       "<table border=\"1\" class=\"dataframe\">\n",
       "  <thead>\n",
       "    <tr style=\"text-align: right;\">\n",
       "      <th></th>\n",
       "      <th>PM2.5</th>\n",
       "      <th>PM2.5 Pctl</th>\n",
       "      <th>longitude</th>\n",
       "      <th>latitude</th>\n",
       "    </tr>\n",
       "  </thead>\n",
       "  <tbody>\n",
       "    <tr>\n",
       "      <th>165</th>\n",
       "      <td>10.404164</td>\n",
       "      <td>53.69</td>\n",
       "      <td>-117.1411746</td>\n",
       "      <td>32.694850199999998</td>\n",
       "    </tr>\n",
       "    <tr>\n",
       "      <th>299</th>\n",
       "      <td>10.460384</td>\n",
       "      <td>54.46</td>\n",
       "      <td>-117.1165151</td>\n",
       "      <td>32.690986199999998</td>\n",
       "    </tr>\n",
       "    <tr>\n",
       "      <th>370</th>\n",
       "      <td>10.430966</td>\n",
       "      <td>54.04</td>\n",
       "      <td>-117.138677</td>\n",
       "      <td>32.701852600000002</td>\n",
       "    </tr>\n",
       "    <tr>\n",
       "      <th>466</th>\n",
       "      <td>10.449528</td>\n",
       "      <td>54.23</td>\n",
       "      <td>-117.1263197</td>\n",
       "      <td>32.696748999999997</td>\n",
       "    </tr>\n",
       "    <tr>\n",
       "      <th>805</th>\n",
       "      <td>10.469327</td>\n",
       "      <td>54.63</td>\n",
       "      <td>-117.12673770000001</td>\n",
       "      <td>32.703556800000001</td>\n",
       "    </tr>\n",
       "  </tbody>\n",
       "</table>\n",
       "</div>"
      ],
      "text/plain": [
       "         PM2.5  PM2.5 Pctl            longitude            latitude\n",
       "165  10.404164       53.69         -117.1411746  32.694850199999998\n",
       "299  10.460384       54.46         -117.1165151  32.690986199999998\n",
       "370  10.430966       54.04          -117.138677  32.701852600000002\n",
       "466  10.449528       54.23         -117.1263197  32.696748999999997\n",
       "805  10.469327       54.63  -117.12673770000001  32.703556800000001"
      ]
     },
     "execution_count": 33,
     "metadata": {},
     "output_type": "execute_result"
    }
   ],
   "source": [
    "sd.head()"
   ]
  },
  {
   "cell_type": "code",
   "execution_count": 34,
   "metadata": {},
   "outputs": [
    {
     "data": {
      "text/html": [
       "<div>\n",
       "<style scoped>\n",
       "    .dataframe tbody tr th:only-of-type {\n",
       "        vertical-align: middle;\n",
       "    }\n",
       "\n",
       "    .dataframe tbody tr th {\n",
       "        vertical-align: top;\n",
       "    }\n",
       "\n",
       "    .dataframe thead th {\n",
       "        text-align: right;\n",
       "    }\n",
       "</style>\n",
       "<table border=\"1\" class=\"dataframe\">\n",
       "  <thead>\n",
       "    <tr style=\"text-align: right;\">\n",
       "      <th></th>\n",
       "      <th>PM2.5</th>\n",
       "      <th>PM2.5 Pctl</th>\n",
       "    </tr>\n",
       "  </thead>\n",
       "  <tbody>\n",
       "    <tr>\n",
       "      <th>count</th>\n",
       "      <td>626.000000</td>\n",
       "      <td>626.000000</td>\n",
       "    </tr>\n",
       "    <tr>\n",
       "      <th>mean</th>\n",
       "      <td>10.029734</td>\n",
       "      <td>49.600863</td>\n",
       "    </tr>\n",
       "    <tr>\n",
       "      <th>std</th>\n",
       "      <td>0.894758</td>\n",
       "      <td>11.059488</td>\n",
       "    </tr>\n",
       "    <tr>\n",
       "      <th>min</th>\n",
       "      <td>6.977767</td>\n",
       "      <td>11.330000</td>\n",
       "    </tr>\n",
       "    <tr>\n",
       "      <th>25%</th>\n",
       "      <td>9.904120</td>\n",
       "      <td>48.877500</td>\n",
       "    </tr>\n",
       "    <tr>\n",
       "      <th>50%</th>\n",
       "      <td>10.386608</td>\n",
       "      <td>53.415000</td>\n",
       "    </tr>\n",
       "    <tr>\n",
       "      <th>75%</th>\n",
       "      <td>10.610759</td>\n",
       "      <td>56.665000</td>\n",
       "    </tr>\n",
       "    <tr>\n",
       "      <th>max</th>\n",
       "      <td>10.890265</td>\n",
       "      <td>60.700000</td>\n",
       "    </tr>\n",
       "  </tbody>\n",
       "</table>\n",
       "</div>"
      ],
      "text/plain": [
       "            PM2.5  PM2.5 Pctl\n",
       "count  626.000000  626.000000\n",
       "mean    10.029734   49.600863\n",
       "std      0.894758   11.059488\n",
       "min      6.977767   11.330000\n",
       "25%      9.904120   48.877500\n",
       "50%     10.386608   53.415000\n",
       "75%     10.610759   56.665000\n",
       "max     10.890265   60.700000"
      ]
     },
     "execution_count": 34,
     "metadata": {},
     "output_type": "execute_result"
    }
   ],
   "source": [
    "# get a sense about the distribution of data\n",
    "sd.describe()"
   ]
  },
  {
   "cell_type": "markdown",
   "metadata": {},
   "source": [
    "#### Plot the distribution"
   ]
  },
  {
   "cell_type": "code",
   "execution_count": 35,
   "metadata": {},
   "outputs": [
    {
     "data": {
      "text/plain": [
       "<matplotlib.axes._subplots.AxesSubplot at 0x123b08610>"
      ]
     },
     "execution_count": 35,
     "metadata": {},
     "output_type": "execute_result"
    },
    {
     "data": {
      "image/png": "[encoded data removed]",
      "text/plain": [
       "<Figure size 432x288 with 1 Axes>"
      ]
     },
     "metadata": {
      "needs_background": "light"
     },
     "output_type": "display_data"
    }
   ],
   "source": [
    "sd['PM2.5'].plot(kind='box')"
   ]
  },
  {
   "cell_type": "code",
   "execution_count": 36,
   "metadata": {},
   "outputs": [
    {
     "data": {
      "text/plain": [
       "<matplotlib.axes._subplots.AxesSubplot at 0x123cc8990>"
      ]
     },
     "execution_count": 36,
     "metadata": {},
     "output_type": "execute_result"
    },
    {
     "data": {
      "image/png": "[encoded data removed]",
      "text/plain": [
       "<Figure size 432x288 with 1 Axes>"
      ]
     },
     "metadata": {
      "needs_background": "light"
     },
     "output_type": "display_data"
    }
   ],
   "source": [
    "sd['PM2.5 Pctl'].plot(kind='box')"
   ]
  },
  {
   "cell_type": "markdown",
   "metadata": {},
   "source": [
    "Based on this distribution, we can use the median of PM2.5 concentration as a cutoff to decide the air quality"
   ]
  },
  {
   "cell_type": "markdown",
   "metadata": {},
   "source": [
    "# Data Analysis & Results"
   ]
  },
  {
   "cell_type": "markdown",
   "metadata": {},
   "source": [
    "## EDA\n",
    "\n",
    "Visualize all park locations in San Diego, to get a sense of the geospatial distribution"
   ]
  },
  {
   "cell_type": "code",
   "execution_count": 37,
   "metadata": {},
   "outputs": [],
   "source": [
    "gpark = geopandas.GeoDataFrame(\n",
    "    parks, geometry=geopandas.points_from_xy(parks.longitude, parks.latitude))"
   ]
  },
  {
   "cell_type": "code",
   "execution_count": 38,
   "metadata": {
    "scrolled": false
   },
   "outputs": [
    {
     "data": {
      "text/plain": [
       "Text(0.5, 1, 'Yelp Parks Location')"
      ]
     },
     "execution_count": 38,
     "metadata": {},
     "output_type": "execute_result"
    },
    {
     "data": {
      "image/png": "[encoded data removed]",
      "text/plain": [
       "<Figure size 432x288 with 1 Axes>"
      ]
     },
     "metadata": {
      "needs_background": "light"
     },
     "output_type": "display_data"
    }
   ],
   "source": [
    "p = gpark.plot()\n",
    "p.set_xlabel('longitude')\n",
    "p.set_ylabel('latitude')\n",
    "p.set_title('Yelp Parks Location')"
   ]
  },
  {
   "cell_type": "markdown",
   "metadata": {},
   "source": [
    "Visualize the SD locations in report, to get a sense of the geospatial distribution of these locations in San Diego"
   ]
  },
  {
   "cell_type": "code",
   "execution_count": 39,
   "metadata": {},
   "outputs": [],
   "source": [
    "gsd = geopandas.GeoDataFrame(\n",
    "    sd, geometry=geopandas.points_from_xy(sd.longitude,sd.latitude))"
   ]
  },
  {
   "cell_type": "code",
   "execution_count": 40,
   "metadata": {},
   "outputs": [
    {
     "data": {
      "text/plain": [
       "Text(0.5, 1, 'San Diego Environmental Data Location')"
      ]
     },
     "execution_count": 40,
     "metadata": {},
     "output_type": "execute_result"
    },
    {
     "data": {
      "image/png": "[encoded data removed]",
      "text/plain": [
       "<Figure size 432x288 with 1 Axes>"
      ]
     },
     "metadata": {
      "needs_background": "light"
     },
     "output_type": "display_data"
    }
   ],
   "source": [
    "s = gsd.plot()\n",
    "s.set_xlabel('longitude')\n",
    "s.set_ylabel('latitude')\n",
    "s.set_title('San Diego Environmental Data Location')"
   ]
  },
  {
   "cell_type": "markdown",
   "metadata": {},
   "source": [
    "Layer two maps together to see any overlap, this helps us to decide the air quality in each park\n"
   ]
  },
  {
   "cell_type": "code",
   "execution_count": 41,
   "metadata": {
    "scrolled": false
   },
   "outputs": [
    {
     "data": {
      "image/png": "[encoded data removed]",
      "text/plain": [
       "<Figure size 432x288 with 1 Axes>"
      ]
     },
     "metadata": {
      "needs_background": "light"
     },
     "output_type": "display_data"
    }
   ],
   "source": [
    "fig, ax = plt.subplots()\n",
    "\n",
    "ax.set_aspect('equal')\n",
    "ax.set_title('Park and Location Matchup')\n",
    "ax.set_xlabel('longitude')\n",
    "ax.set_ylabel('latitude')\n",
    "\n",
    "gsd.plot(ax=ax, marker='o', color='blue', markersize=4)\n",
    "\n",
    "gpark.plot(ax=ax, marker='o', color='red', markersize=5)\n",
    "\n",
    "plt.show();"
   ]
  },
  {
   "cell_type": "markdown",
   "metadata": {},
   "source": [
    "We can see there are many overlaps, so try to merge the two tables based on geospatial info, to extract parks that we can decide their air quality.\n",
    "\n",
    "Extract the overlap based roughly based on the map"
   ]
  },
  {
   "cell_type": "code",
   "execution_count": 42,
   "metadata": {
    "scrolled": true
   },
   "outputs": [
    {
     "data": {
      "text/html": [
       "<div>\n",
       "<style scoped>\n",
       "    .dataframe tbody tr th:only-of-type {\n",
       "        vertical-align: middle;\n",
       "    }\n",
       "\n",
       "    .dataframe tbody tr th {\n",
       "        vertical-align: top;\n",
       "    }\n",
       "\n",
       "    .dataframe thead th {\n",
       "        text-align: right;\n",
       "    }\n",
       "</style>\n",
       "<table border=\"1\" class=\"dataframe\">\n",
       "  <thead>\n",
       "    <tr style=\"text-align: right;\">\n",
       "      <th></th>\n",
       "      <th>name</th>\n",
       "      <th>rating</th>\n",
       "      <th>latitude</th>\n",
       "      <th>longitude</th>\n",
       "      <th>geometry</th>\n",
       "    </tr>\n",
       "  </thead>\n",
       "  <tbody>\n",
       "    <tr>\n",
       "      <th>0</th>\n",
       "      <td>Balboa Park</td>\n",
       "      <td>5.0</td>\n",
       "      <td>32.734502</td>\n",
       "      <td>-117.153150</td>\n",
       "      <td>POINT (-117.15315 32.73450)</td>\n",
       "    </tr>\n",
       "    <tr>\n",
       "      <th>1</th>\n",
       "      <td>Civita Park</td>\n",
       "      <td>4.5</td>\n",
       "      <td>32.778315</td>\n",
       "      <td>-117.147278</td>\n",
       "      <td>POINT (-117.14728 32.77831)</td>\n",
       "    </tr>\n",
       "    <tr>\n",
       "      <th>2</th>\n",
       "      <td>Waterfront Park</td>\n",
       "      <td>4.5</td>\n",
       "      <td>32.721952</td>\n",
       "      <td>-117.172479</td>\n",
       "      <td>POINT (-117.17248 32.72195)</td>\n",
       "    </tr>\n",
       "    <tr>\n",
       "      <th>3</th>\n",
       "      <td>Trolley Barn Park</td>\n",
       "      <td>4.5</td>\n",
       "      <td>32.762463</td>\n",
       "      <td>-117.143789</td>\n",
       "      <td>POINT (-117.14379 32.76246)</td>\n",
       "    </tr>\n",
       "    <tr>\n",
       "      <th>4</th>\n",
       "      <td>Bay View Park</td>\n",
       "      <td>5.0</td>\n",
       "      <td>32.701785</td>\n",
       "      <td>-117.178967</td>\n",
       "      <td>POINT (-117.17897 32.70179)</td>\n",
       "    </tr>\n",
       "    <tr>\n",
       "      <th>...</th>\n",
       "      <td>...</td>\n",
       "      <td>...</td>\n",
       "      <td>...</td>\n",
       "      <td>...</td>\n",
       "      <td>...</td>\n",
       "    </tr>\n",
       "    <tr>\n",
       "      <th>828</th>\n",
       "      <td>Del Cerro - San Diego</td>\n",
       "      <td>4.5</td>\n",
       "      <td>32.792626</td>\n",
       "      <td>-117.073524</td>\n",
       "      <td>POINT (-117.07352 32.79263)</td>\n",
       "    </tr>\n",
       "    <tr>\n",
       "      <th>829</th>\n",
       "      <td>San Diego Metropolitan Transit System</td>\n",
       "      <td>2.5</td>\n",
       "      <td>32.705760</td>\n",
       "      <td>-117.153400</td>\n",
       "      <td>POINT (-117.15340 32.70576)</td>\n",
       "    </tr>\n",
       "    <tr>\n",
       "      <th>830</th>\n",
       "      <td>Petco Park</td>\n",
       "      <td>4.0</td>\n",
       "      <td>32.707246</td>\n",
       "      <td>-117.157054</td>\n",
       "      <td>POINT (-117.15705 32.70725)</td>\n",
       "    </tr>\n",
       "    <tr>\n",
       "      <th>831</th>\n",
       "      <td>Ann D. L'Heureux Memorial Dog Park</td>\n",
       "      <td>3.0</td>\n",
       "      <td>33.171137</td>\n",
       "      <td>-117.316419</td>\n",
       "      <td>POINT (-117.31642 33.17114)</td>\n",
       "    </tr>\n",
       "    <tr>\n",
       "      <th>832</th>\n",
       "      <td>Fairbrook Farm</td>\n",
       "      <td>5.0</td>\n",
       "      <td>33.302164</td>\n",
       "      <td>-117.227747</td>\n",
       "      <td>POINT (-117.22775 33.30216)</td>\n",
       "    </tr>\n",
       "  </tbody>\n",
       "</table>\n",
       "<p>809 rows × 5 columns</p>\n",
       "</div>"
      ],
      "text/plain": [
       "                                      name  rating   latitude   longitude  \\\n",
       "0                              Balboa Park     5.0  32.734502 -117.153150   \n",
       "1                              Civita Park     4.5  32.778315 -117.147278   \n",
       "2                          Waterfront Park     4.5  32.721952 -117.172479   \n",
       "3                        Trolley Barn Park     4.5  32.762463 -117.143789   \n",
       "4                            Bay View Park     5.0  32.701785 -117.178967   \n",
       "..                                     ...     ...        ...         ...   \n",
       "828                  Del Cerro - San Diego     4.5  32.792626 -117.073524   \n",
       "829  San Diego Metropolitan Transit System     2.5  32.705760 -117.153400   \n",
       "830                             Petco Park     4.0  32.707246 -117.157054   \n",
       "831     Ann D. L'Heureux Memorial Dog Park     3.0  33.171137 -117.316419   \n",
       "832                         Fairbrook Farm     5.0  33.302164 -117.227747   \n",
       "\n",
       "                        geometry  \n",
       "0    POINT (-117.15315 32.73450)  \n",
       "1    POINT (-117.14728 32.77831)  \n",
       "2    POINT (-117.17248 32.72195)  \n",
       "3    POINT (-117.14379 32.76246)  \n",
       "4    POINT (-117.17897 32.70179)  \n",
       "..                           ...  \n",
       "828  POINT (-117.07352 32.79263)  \n",
       "829  POINT (-117.15340 32.70576)  \n",
       "830  POINT (-117.15705 32.70725)  \n",
       "831  POINT (-117.31642 33.17114)  \n",
       "832  POINT (-117.22775 33.30216)  \n",
       "\n",
       "[809 rows x 5 columns]"
      ]
     },
     "execution_count": 42,
     "metadata": {},
     "output_type": "execute_result"
    }
   ],
   "source": [
    "parks[(parks.longitude>-117.5) & (parks.longitude<-116.8)]"
   ]
  },
  {
   "cell_type": "markdown",
   "metadata": {},
   "source": [
    "Try join two tables directly on exsiting geospatial data"
   ]
  },
  {
   "cell_type": "code",
   "execution_count": 43,
   "metadata": {},
   "outputs": [
    {
     "data": {
      "text/html": [
       "<div>\n",
       "<style scoped>\n",
       "    .dataframe tbody tr th:only-of-type {\n",
       "        vertical-align: middle;\n",
       "    }\n",
       "\n",
       "    .dataframe tbody tr th {\n",
       "        vertical-align: top;\n",
       "    }\n",
       "\n",
       "    .dataframe thead th {\n",
       "        text-align: right;\n",
       "    }\n",
       "</style>\n",
       "<table border=\"1\" class=\"dataframe\">\n",
       "  <thead>\n",
       "    <tr style=\"text-align: right;\">\n",
       "      <th></th>\n",
       "      <th>PM2.5</th>\n",
       "      <th>PM2.5 Pctl</th>\n",
       "      <th>longitude_left</th>\n",
       "      <th>latitude_left</th>\n",
       "      <th>geometry</th>\n",
       "      <th>index_right</th>\n",
       "      <th>name</th>\n",
       "      <th>rating</th>\n",
       "      <th>latitude_right</th>\n",
       "      <th>longitude_right</th>\n",
       "    </tr>\n",
       "  </thead>\n",
       "  <tbody>\n",
       "  </tbody>\n",
       "</table>\n",
       "</div>"
      ],
      "text/plain": [
       "Empty GeoDataFrame\n",
       "Columns: [PM2.5, PM2.5 Pctl, longitude_left, latitude_left, geometry, index_right, name, rating, latitude_right, longitude_right]\n",
       "Index: []"
      ]
     },
     "execution_count": 43,
     "metadata": {},
     "output_type": "execute_result"
    }
   ],
   "source": [
    "geopandas.sjoin(gsd, gpark, how=\"inner\", op='intersects')"
   ]
  },
  {
   "cell_type": "markdown",
   "metadata": {},
   "source": [
    "We can see there are no joint locations using exsiting geospatial data\n",
    "\n",
    "So we buffer the locations in Dan Diego data with diameters to make them intersect with park locations. Then we are able to match up locations. \n",
    "\n",
    "\n",
    "After a few trials of diameter, 0.0072 is the best to represent the match up on map"
   ]
  },
  {
   "cell_type": "code",
   "execution_count": 44,
   "metadata": {},
   "outputs": [],
   "source": [
    "g1 = gsd.copy()\n",
    "g1.geometry = g1.geometry.buffer(0.0072)"
   ]
  },
  {
   "cell_type": "markdown",
   "metadata": {},
   "source": [
    "Match up San Diego Environmantal data with park locations"
   ]
  },
  {
   "cell_type": "code",
   "execution_count": 45,
   "metadata": {},
   "outputs": [],
   "source": [
    "df = geopandas.sjoin(g1, gpark, how=\"inner\", op='intersects')"
   ]
  },
  {
   "cell_type": "code",
   "execution_count": 46,
   "metadata": {},
   "outputs": [
    {
     "data": {
      "text/plain": [
       "(791, 10)"
      ]
     },
     "execution_count": 46,
     "metadata": {},
     "output_type": "execute_result"
    }
   ],
   "source": [
    "df.shape"
   ]
  },
  {
   "cell_type": "code",
   "execution_count": 47,
   "metadata": {},
   "outputs": [
    {
     "data": {
      "text/html": [
       "<div>\n",
       "<style scoped>\n",
       "    .dataframe tbody tr th:only-of-type {\n",
       "        vertical-align: middle;\n",
       "    }\n",
       "\n",
       "    .dataframe tbody tr th {\n",
       "        vertical-align: top;\n",
       "    }\n",
       "\n",
       "    .dataframe thead th {\n",
       "        text-align: right;\n",
       "    }\n",
       "</style>\n",
       "<table border=\"1\" class=\"dataframe\">\n",
       "  <thead>\n",
       "    <tr style=\"text-align: right;\">\n",
       "      <th></th>\n",
       "      <th>PM2.5</th>\n",
       "      <th>PM2.5 Pctl</th>\n",
       "      <th>longitude_left</th>\n",
       "      <th>latitude_left</th>\n",
       "      <th>geometry</th>\n",
       "      <th>index_right</th>\n",
       "      <th>name</th>\n",
       "      <th>rating</th>\n",
       "      <th>latitude_right</th>\n",
       "      <th>longitude_right</th>\n",
       "    </tr>\n",
       "  </thead>\n",
       "  <tbody>\n",
       "    <tr>\n",
       "      <th>165</th>\n",
       "      <td>10.404164</td>\n",
       "      <td>53.69</td>\n",
       "      <td>-117.1411746</td>\n",
       "      <td>32.694850199999998</td>\n",
       "      <td>POLYGON ((-117.13397 32.69485, -117.13401 32.6...</td>\n",
       "      <td>167</td>\n",
       "      <td>Chicano Park</td>\n",
       "      <td>4.5</td>\n",
       "      <td>32.69837</td>\n",
       "      <td>-117.141790</td>\n",
       "    </tr>\n",
       "    <tr>\n",
       "      <th>370</th>\n",
       "      <td>10.430966</td>\n",
       "      <td>54.04</td>\n",
       "      <td>-117.138677</td>\n",
       "      <td>32.701852600000002</td>\n",
       "      <td>POLYGON ((-117.13148 32.70185, -117.13151 32.7...</td>\n",
       "      <td>167</td>\n",
       "      <td>Chicano Park</td>\n",
       "      <td>4.5</td>\n",
       "      <td>32.69837</td>\n",
       "      <td>-117.141790</td>\n",
       "    </tr>\n",
       "    <tr>\n",
       "      <th>299</th>\n",
       "      <td>10.460384</td>\n",
       "      <td>54.46</td>\n",
       "      <td>-117.1165151</td>\n",
       "      <td>32.690986199999998</td>\n",
       "      <td>POLYGON ((-117.10932 32.69099, -117.10935 32.6...</td>\n",
       "      <td>702</td>\n",
       "      <td>Dorothy Petway Neighborhood Park</td>\n",
       "      <td>1.5</td>\n",
       "      <td>32.69297</td>\n",
       "      <td>-117.118942</td>\n",
       "    </tr>\n",
       "    <tr>\n",
       "      <th>370</th>\n",
       "      <td>10.430966</td>\n",
       "      <td>54.04</td>\n",
       "      <td>-117.138677</td>\n",
       "      <td>32.701852600000002</td>\n",
       "      <td>POLYGON ((-117.13148 32.70185, -117.13151 32.7...</td>\n",
       "      <td>543</td>\n",
       "      <td>Guadalupana Memorial Chapel</td>\n",
       "      <td>5.0</td>\n",
       "      <td>32.70607</td>\n",
       "      <td>-117.137980</td>\n",
       "    </tr>\n",
       "    <tr>\n",
       "      <th>2056</th>\n",
       "      <td>10.450206</td>\n",
       "      <td>54.25</td>\n",
       "      <td>-117.1381401</td>\n",
       "      <td>32.708455999999998</td>\n",
       "      <td>POLYGON ((-117.13094 32.70846, -117.13097 32.7...</td>\n",
       "      <td>543</td>\n",
       "      <td>Guadalupana Memorial Chapel</td>\n",
       "      <td>5.0</td>\n",
       "      <td>32.70607</td>\n",
       "      <td>-117.137980</td>\n",
       "    </tr>\n",
       "  </tbody>\n",
       "</table>\n",
       "</div>"
      ],
      "text/plain": [
       "          PM2.5  PM2.5 Pctl longitude_left       latitude_left  \\\n",
       "165   10.404164       53.69   -117.1411746  32.694850199999998   \n",
       "370   10.430966       54.04    -117.138677  32.701852600000002   \n",
       "299   10.460384       54.46   -117.1165151  32.690986199999998   \n",
       "370   10.430966       54.04    -117.138677  32.701852600000002   \n",
       "2056  10.450206       54.25   -117.1381401  32.708455999999998   \n",
       "\n",
       "                                               geometry  index_right  \\\n",
       "165   POLYGON ((-117.13397 32.69485, -117.13401 32.6...          167   \n",
       "370   POLYGON ((-117.13148 32.70185, -117.13151 32.7...          167   \n",
       "299   POLYGON ((-117.10932 32.69099, -117.10935 32.6...          702   \n",
       "370   POLYGON ((-117.13148 32.70185, -117.13151 32.7...          543   \n",
       "2056  POLYGON ((-117.13094 32.70846, -117.13097 32.7...          543   \n",
       "\n",
       "                                  name  rating  latitude_right  \\\n",
       "165                       Chicano Park     4.5        32.69837   \n",
       "370                       Chicano Park     4.5        32.69837   \n",
       "299   Dorothy Petway Neighborhood Park     1.5        32.69297   \n",
       "370        Guadalupana Memorial Chapel     5.0        32.70607   \n",
       "2056       Guadalupana Memorial Chapel     5.0        32.70607   \n",
       "\n",
       "      longitude_right  \n",
       "165       -117.141790  \n",
       "370       -117.141790  \n",
       "299       -117.118942  \n",
       "370       -117.137980  \n",
       "2056      -117.137980  "
      ]
     },
     "execution_count": 47,
     "metadata": {},
     "output_type": "execute_result"
    }
   ],
   "source": [
    "df.head()"
   ]
  },
  {
   "cell_type": "markdown",
   "metadata": {},
   "source": [
    "Drop redundant columns"
   ]
  },
  {
   "cell_type": "code",
   "execution_count": 48,
   "metadata": {},
   "outputs": [],
   "source": [
    "df = df[['PM2.5','PM2.5 Pctl','name','rating']]\n",
    "df = df.set_index('name')"
   ]
  },
  {
   "cell_type": "code",
   "execution_count": 49,
   "metadata": {},
   "outputs": [
    {
     "data": {
      "text/html": [
       "<div>\n",
       "<style scoped>\n",
       "    .dataframe tbody tr th:only-of-type {\n",
       "        vertical-align: middle;\n",
       "    }\n",
       "\n",
       "    .dataframe tbody tr th {\n",
       "        vertical-align: top;\n",
       "    }\n",
       "\n",
       "    .dataframe thead th {\n",
       "        text-align: right;\n",
       "    }\n",
       "</style>\n",
       "<table border=\"1\" class=\"dataframe\">\n",
       "  <thead>\n",
       "    <tr style=\"text-align: right;\">\n",
       "      <th></th>\n",
       "      <th>PM2.5</th>\n",
       "      <th>PM2.5 Pctl</th>\n",
       "      <th>rating</th>\n",
       "    </tr>\n",
       "    <tr>\n",
       "      <th>name</th>\n",
       "      <th></th>\n",
       "      <th></th>\n",
       "      <th></th>\n",
       "    </tr>\n",
       "  </thead>\n",
       "  <tbody>\n",
       "    <tr>\n",
       "      <th>Chicano Park</th>\n",
       "      <td>10.404164</td>\n",
       "      <td>53.69</td>\n",
       "      <td>4.5</td>\n",
       "    </tr>\n",
       "    <tr>\n",
       "      <th>Chicano Park</th>\n",
       "      <td>10.430966</td>\n",
       "      <td>54.04</td>\n",
       "      <td>4.5</td>\n",
       "    </tr>\n",
       "    <tr>\n",
       "      <th>Dorothy Petway Neighborhood Park</th>\n",
       "      <td>10.460384</td>\n",
       "      <td>54.46</td>\n",
       "      <td>1.5</td>\n",
       "    </tr>\n",
       "    <tr>\n",
       "      <th>Guadalupana Memorial Chapel</th>\n",
       "      <td>10.430966</td>\n",
       "      <td>54.04</td>\n",
       "      <td>5.0</td>\n",
       "    </tr>\n",
       "    <tr>\n",
       "      <th>Guadalupana Memorial Chapel</th>\n",
       "      <td>10.450206</td>\n",
       "      <td>54.25</td>\n",
       "      <td>5.0</td>\n",
       "    </tr>\n",
       "    <tr>\n",
       "      <th>...</th>\n",
       "      <td>...</td>\n",
       "      <td>...</td>\n",
       "      <td>...</td>\n",
       "    </tr>\n",
       "    <tr>\n",
       "      <th>Scripps Ranch Villages Butterfly Park</th>\n",
       "      <td>10.598320</td>\n",
       "      <td>56.46</td>\n",
       "      <td>5.0</td>\n",
       "    </tr>\n",
       "    <tr>\n",
       "      <th>Bird Rock</th>\n",
       "      <td>10.053453</td>\n",
       "      <td>49.79</td>\n",
       "      <td>4.5</td>\n",
       "    </tr>\n",
       "    <tr>\n",
       "      <th>Zeglio Custom Clothiers</th>\n",
       "      <td>10.053453</td>\n",
       "      <td>49.79</td>\n",
       "      <td>5.0</td>\n",
       "    </tr>\n",
       "    <tr>\n",
       "      <th>Capt. John Grim \"The Salty Doc\"</th>\n",
       "      <td>10.330472</td>\n",
       "      <td>52.91</td>\n",
       "      <td>5.0</td>\n",
       "    </tr>\n",
       "    <tr>\n",
       "      <th>Sun Country Coastal - San Diego</th>\n",
       "      <td>10.330472</td>\n",
       "      <td>52.91</td>\n",
       "      <td>4.5</td>\n",
       "    </tr>\n",
       "  </tbody>\n",
       "</table>\n",
       "<p>791 rows × 3 columns</p>\n",
       "</div>"
      ],
      "text/plain": [
       "                                           PM2.5  PM2.5 Pctl  rating\n",
       "name                                                                \n",
       "Chicano Park                           10.404164       53.69     4.5\n",
       "Chicano Park                           10.430966       54.04     4.5\n",
       "Dorothy Petway Neighborhood Park       10.460384       54.46     1.5\n",
       "Guadalupana Memorial Chapel            10.430966       54.04     5.0\n",
       "Guadalupana Memorial Chapel            10.450206       54.25     5.0\n",
       "...                                          ...         ...     ...\n",
       "Scripps Ranch Villages Butterfly Park  10.598320       56.46     5.0\n",
       "Bird Rock                              10.053453       49.79     4.5\n",
       "Zeglio Custom Clothiers                10.053453       49.79     5.0\n",
       "Capt. John Grim \"The Salty Doc\"        10.330472       52.91     5.0\n",
       "Sun Country Coastal - San Diego        10.330472       52.91     4.5\n",
       "\n",
       "[791 rows x 3 columns]"
      ]
     },
     "execution_count": 49,
     "metadata": {},
     "output_type": "execute_result"
    }
   ],
   "source": [
    "df"
   ]
  },
  {
   "cell_type": "markdown",
   "metadata": {},
   "source": [
    "We can see from above that there are different information about one park. This happens for two reasons. \n",
    "* The first is that this duplicates existed in the source data as we see from the Data Cleaning Part. We cannot deal with this because we do not have enough information about the Yelp Parks Data to explain this. \n",
    "* The other is the same park intersets with different locations from the San Diego Environmental Data. We can solve by randomly take one of these to represent the information about each park.\n",
    "\n",
    "Based on the two reasoning, we will only take the first occurance of these repititions into analysis."
   ]
  },
  {
   "cell_type": "code",
   "execution_count": 50,
   "metadata": {},
   "outputs": [],
   "source": [
    "df = df[~df.index.duplicated(keep='first')]"
   ]
  },
  {
   "cell_type": "code",
   "execution_count": 51,
   "metadata": {},
   "outputs": [
    {
     "data": {
      "text/html": [
       "<div>\n",
       "<style scoped>\n",
       "    .dataframe tbody tr th:only-of-type {\n",
       "        vertical-align: middle;\n",
       "    }\n",
       "\n",
       "    .dataframe tbody tr th {\n",
       "        vertical-align: top;\n",
       "    }\n",
       "\n",
       "    .dataframe thead th {\n",
       "        text-align: right;\n",
       "    }\n",
       "</style>\n",
       "<table border=\"1\" class=\"dataframe\">\n",
       "  <thead>\n",
       "    <tr style=\"text-align: right;\">\n",
       "      <th></th>\n",
       "      <th>PM2.5</th>\n",
       "      <th>PM2.5 Pctl</th>\n",
       "      <th>rating</th>\n",
       "    </tr>\n",
       "    <tr>\n",
       "      <th>name</th>\n",
       "      <th></th>\n",
       "      <th></th>\n",
       "      <th></th>\n",
       "    </tr>\n",
       "  </thead>\n",
       "  <tbody>\n",
       "    <tr>\n",
       "      <th>Chicano Park</th>\n",
       "      <td>10.404164</td>\n",
       "      <td>53.69</td>\n",
       "      <td>4.5</td>\n",
       "    </tr>\n",
       "    <tr>\n",
       "      <th>Dorothy Petway Neighborhood Park</th>\n",
       "      <td>10.460384</td>\n",
       "      <td>54.46</td>\n",
       "      <td>1.5</td>\n",
       "    </tr>\n",
       "    <tr>\n",
       "      <th>Guadalupana Memorial Chapel</th>\n",
       "      <td>10.430966</td>\n",
       "      <td>54.04</td>\n",
       "      <td>5.0</td>\n",
       "    </tr>\n",
       "    <tr>\n",
       "      <th>Memorial Skate Park</th>\n",
       "      <td>10.449528</td>\n",
       "      <td>54.23</td>\n",
       "      <td>3.5</td>\n",
       "    </tr>\n",
       "    <tr>\n",
       "      <th>San Diego Trolley</th>\n",
       "      <td>10.393500</td>\n",
       "      <td>53.52</td>\n",
       "      <td>3.5</td>\n",
       "    </tr>\n",
       "  </tbody>\n",
       "</table>\n",
       "</div>"
      ],
      "text/plain": [
       "                                      PM2.5  PM2.5 Pctl  rating\n",
       "name                                                           \n",
       "Chicano Park                      10.404164       53.69     4.5\n",
       "Dorothy Petway Neighborhood Park  10.460384       54.46     1.5\n",
       "Guadalupana Memorial Chapel       10.430966       54.04     5.0\n",
       "Memorial Skate Park               10.449528       54.23     3.5\n",
       "San Diego Trolley                 10.393500       53.52     3.5"
      ]
     },
     "execution_count": 51,
     "metadata": {},
     "output_type": "execute_result"
    }
   ],
   "source": [
    "df.head()"
   ]
  },
  {
   "cell_type": "code",
   "execution_count": 52,
   "metadata": {},
   "outputs": [
    {
     "data": {
      "text/plain": [
       "Switzer Canyon Open Space Park           1\n",
       "Pernicano Realty & Management Company    1\n",
       "The Observatory North Park               1\n",
       "Kearny Mesa Park                         1\n",
       "Lake Miramar                             1\n",
       "                                        ..\n",
       "Thread Show                              1\n",
       "Van Dam Peak                             1\n",
       "Mountain View Mini Park                  1\n",
       "Villa Pacific Apartments                 1\n",
       "Mt Olivet Cemetery                       1\n",
       "Name: name, Length: 519, dtype: int64"
      ]
     },
     "execution_count": 52,
     "metadata": {},
     "output_type": "execute_result"
    }
   ],
   "source": [
    "df.index.value_counts()"
   ]
  },
  {
   "cell_type": "markdown",
   "metadata": {},
   "source": [
    "Now let's start analysis on relations between rating and PM2.5 concentration.\n",
    "\n",
    "First plot the distribution of Rating & PM2.5 concentration seperately to learn about their distributions"
   ]
  },
  {
   "cell_type": "code",
   "execution_count": 53,
   "metadata": {},
   "outputs": [
    {
     "data": {
      "text/plain": [
       "<matplotlib.axes._subplots.AxesSubplot at 0x12414b1d0>"
      ]
     },
     "execution_count": 53,
     "metadata": {},
     "output_type": "execute_result"
    },
    {
     "data": {
      "image/png": "[encoded data removed]",
      "text/plain": [
       "<Figure size 432x288 with 1 Axes>"
      ]
     },
     "metadata": {
      "needs_background": "light"
     },
     "output_type": "display_data"
    }
   ],
   "source": [
    "df.rating.plot(kind='hist')"
   ]
  },
  {
   "cell_type": "code",
   "execution_count": 54,
   "metadata": {},
   "outputs": [
    {
     "data": {
      "text/plain": [
       "<matplotlib.axes._subplots.AxesSubplot at 0x12433b650>"
      ]
     },
     "execution_count": 54,
     "metadata": {},
     "output_type": "execute_result"
    },
    {
     "data": {
      "image/png": "[encoded data removed]",
      "text/plain": [
       "<Figure size 432x288 with 1 Axes>"
      ]
     },
     "metadata": {
      "needs_background": "light"
     },
     "output_type": "display_data"
    }
   ],
   "source": [
    "df['PM2.5'].plot(kind='hist')"
   ]
  },
  {
   "cell_type": "markdown",
   "metadata": {},
   "source": [
    "There seems to be some relations. \n",
    "\n",
    "We plot them together to see if there is any relations between the two variables"
   ]
  },
  {
   "cell_type": "code",
   "execution_count": 70,
   "metadata": {},
   "outputs": [
    {
     "data": {
      "text/plain": [
       "<matplotlib.axes._subplots.AxesSubplot at 0x1a269818d0>"
      ]
     },
     "execution_count": 70,
     "metadata": {},
     "output_type": "execute_result"
    },
    {
     "data": {
      "image/png": "[encoded data removed]",
      "text/plain": [
       "<Figure size 432x288 with 1 Axes>"
      ]
     },
     "metadata": {
      "needs_background": "light"
     },
     "output_type": "display_data"
    }
   ],
   "source": [
    "df.plot(kind='scatter',x='rating',y='PM2.5')"
   ]
  },
  {
   "cell_type": "markdown",
   "metadata": {},
   "source": [
    "The relation is not straightforward based on the plot. The linear relation I expected does not come up. Even though it seems that points are more scattered around relative high ratings\n",
    "\n",
    "Assign two groups based on air qualities, one is above median while the other is below based on our analysis from Data Cleaning Section"
   ]
  },
  {
   "cell_type": "code",
   "execution_count": 56,
   "metadata": {},
   "outputs": [
    {
     "data": {
      "text/plain": [
       "10.41099557"
      ]
     },
     "execution_count": 56,
     "metadata": {},
     "output_type": "execute_result"
    }
   ],
   "source": [
    "med = np.median(df['PM2.5'])\n",
    "med"
   ]
  },
  {
   "cell_type": "code",
   "execution_count": 57,
   "metadata": {},
   "outputs": [
    {
     "name": "stderr",
     "output_type": "stream",
     "text": [
      "/opt/anaconda3/lib/python3.7/site-packages/ipykernel_launcher.py:6: SettingWithCopyWarning: \n",
      "A value is trying to be set on a copy of a slice from a DataFrame.\n",
      "Try using .loc[row_indexer,col_indexer] = value instead\n",
      "\n",
      "See the caveats in the documentation: https://pandas.pydata.org/pandas-docs/stable/user_guide/indexing.html#returning-a-view-versus-a-copy\n",
      "  \n"
     ]
    }
   ],
   "source": [
    "def quality(a):\n",
    "    if a <= med:\n",
    "        return 'below'\n",
    "    return 'above'\n",
    "\n",
    "df['Air Quality'] = df['PM2.5'].apply(quality)"
   ]
  },
  {
   "cell_type": "markdown",
   "metadata": {},
   "source": [
    "Plot rating distribution of two air quality groups"
   ]
  },
  {
   "cell_type": "code",
   "execution_count": 58,
   "metadata": {},
   "outputs": [
    {
     "data": {
      "image/png": "[encoded data removed]",
      "text/plain": [
       "<Figure size 432x288 with 1 Axes>"
      ]
     },
     "metadata": {
      "needs_background": "light"
     },
     "output_type": "display_data"
    }
   ],
   "source": [
    "title='Rating by whether higher air quality'\n",
    "(\n",
    "    df\n",
    "    .groupby('Air Quality')['rating']\n",
    "    .plot(kind='kde', legend=True, subplots=False, title=title)\n",
    ");   "
   ]
  },
  {
   "cell_type": "markdown",
   "metadata": {},
   "source": [
    "It seems that the two rating groups based on PM2.5 concentration have somewhat different distribution. If this is true, it can confirm my hypothesis that rating is influenced by PM2.5 concentration."
   ]
  },
  {
   "cell_type": "markdown",
   "metadata": {},
   "source": [
    "## Analysis\n",
    "\n",
    "### Test my hypothesis by permutation test\n",
    "* Null Hypothesis: the two rating groups based on PM2.5 concentration are from the same distribution\n",
    "* If this is true, we know PM2.5 has no effect on park rating"
   ]
  },
  {
   "cell_type": "code",
   "execution_count": 59,
   "metadata": {},
   "outputs": [],
   "source": [
    "df = df.reset_index()"
   ]
  },
  {
   "cell_type": "code",
   "execution_count": 60,
   "metadata": {},
   "outputs": [],
   "source": [
    "#code and idea borrowed from DSC80\n",
    "\n",
    "n_repetitions = 500\n",
    "\n",
    "differences = []\n",
    "for _ in range(n_repetitions):\n",
    "    \n",
    "    # shuffle the rating\n",
    "    shuffled_rating = (\n",
    "        df['rating']\n",
    "        .sample(replace=False, frac=1)\n",
    "        .reset_index(drop=True)\n",
    "    )\n",
    "    \n",
    "    \n",
    "    # put them in a table\n",
    "    shuffled = (\n",
    "        df\n",
    "        .assign(**{'Shuffled Rating': shuffled_rating})\n",
    "    )\n",
    "\n",
    "    \n",
    "    # compute the group differences (test statistic!)\n",
    "    group_means = (\n",
    "        shuffled\n",
    "        .groupby('Air Quality')\n",
    "        .mean()\n",
    "        .loc[:, 'Shuffled Rating']\n",
    "    )\n",
    "   \n",
    "    difference = group_means.diff().iloc[-1]\n",
    "    \n",
    "    # add it to the list of results\n",
    "    differences.append(difference)"
   ]
  },
  {
   "cell_type": "code",
   "execution_count": 61,
   "metadata": {},
   "outputs": [],
   "source": [
    "observed_difference = (\n",
    "    df\n",
    "    .groupby('Air Quality')['rating']\n",
    "    .mean()\n",
    "    .diff()\n",
    "    .iloc[-1]\n",
    ")"
   ]
  },
  {
   "cell_type": "markdown",
   "metadata": {},
   "source": [
    "Draw the test result and the original difference"
   ]
  },
  {
   "cell_type": "code",
   "execution_count": 62,
   "metadata": {},
   "outputs": [
    {
     "data": {
      "image/png": "[encoded data removed]",
      "text/plain": [
       "<Figure size 432x288 with 1 Axes>"
      ]
     },
     "metadata": {
      "needs_background": "light"
     },
     "output_type": "display_data"
    }
   ],
   "source": [
    "title = 'average differences in rating'\n",
    "pd.Series(differences).plot(kind='hist', density=True, title=title)\n",
    "plt.scatter(observed_difference, 0, color='red', s=40);"
   ]
  },
  {
   "cell_type": "markdown",
   "metadata": {},
   "source": [
    "Based on the data, it seems that the two groups are from the same distribution\n",
    "\n",
    "Calculte p-value to confirm"
   ]
  },
  {
   "cell_type": "code",
   "execution_count": 63,
   "metadata": {},
   "outputs": [
    {
     "data": {
      "text/plain": [
       "0.836"
      ]
     },
     "execution_count": 63,
     "metadata": {},
     "output_type": "execute_result"
    }
   ],
   "source": [
    "pval = np.count_nonzero(differences >= observed_difference) / n_repetitions\n",
    "pval"
   ]
  },
  {
   "cell_type": "markdown",
   "metadata": {},
   "source": [
    "#### Result\n",
    "* Since p value > 0.05, we **cannot** reject the null hypothesis that above/below PM2.5 median concentration have the similar rating.\n",
    "* Thus, the effect of air quality (PM2.5 concentration) on parking rating is trivial, contrary to what  I thaught.\n",
    "\n",
    "#### Interpretation\n",
    "After doing some research and carefully reflecting this unexpcted result, I realized that it is because all the PM2.5 concentrations are relatively low in San Diego. When all the parks have good air quality, this will not be considered as an influencial factor when visitors rate parks in San Diego"
   ]
  },
  {
   "cell_type": "markdown",
   "metadata": {},
   "source": [
    "# Ethics & Privacy"
   ]
  },
  {
   "cell_type": "markdown",
   "metadata": {},
   "source": [
    "Permission of use: These datasets are provided for individual projects, so I have permission to use them for my analysis\n",
    "\n",
    "Privacy concern: These data are about parks and environmental information in San Diego, and it does not include individual information. Thus, there will not be any privacy concerns. \n",
    "\n",
    "Issues: \n",
    "1. Since I need to match up park locations with locations in California Environmental Screening data, there exists inaccuracy in this matchup process. First of all, I used a buffer with diameter of 0.0072 to make PM2.5 location points big enough to intersect with park locations, and this is a rough estimation instead of exact match. Secondly, a single park can be mapped to different locations in the environmental data, and I decided to randomly take one from it. \n",
    "2. Another issue exsits in the original dataset. There exsits data of different ratings for the same park. This is problematic since a single location should not have various ratings. \n",
    "\n",
    "Deal with issues:\n",
    "1. After a few trials, I picked the diameter that can best simulate the match up between locations by comparing them to the range I got based on visualization. This is the best I can do to minimize the error in this process. Due to my limit of skills on this question, this is the farthest I can go. However, there might be other advanced ways to do it more precisely that I just do not know. \n",
    "2. There is only one park that have different ratings in Yelp Data, and I did not find more information about this from source data. Since there is just 1 review for this park, I assume this is a uncommon park that is not visited often by visitors. So I decided to drop this park assuming this outlier will not influence my result. If I can have more information regarding this, or popular parks have various ratings, I can deal with it in other ways, such as partition park into different parts or use the average rating for the park.\n",
    "\n",
    "Other issues:\n",
    "There exists bias too. Because my analysis of rating is based on Yelp data, I can only get the rating of Yelp users. Due to this, I cannot know feedback from other visitors who visited but did not rate on Yelp, who do not know how to use Yelp such elderly and who cannot afford a phone to use Yelp. And we are not sure if all racial groups can have access to Yelp. This limit the ratings for parks from some groups, which are important and cannot be ignored. We might want to deal with this by asking visitors about their ratings in each park and record their responses."
   ]
  },
  {
   "cell_type": "markdown",
   "metadata": {},
   "source": [
    "# Conclusion & Discussion"
   ]
  },
  {
   "cell_type": "markdown",
   "metadata": {},
   "source": [
    "My project analyzed if air quality can help park visitors to decide their rating for parking in San Diego. Based on my research, PM2.5 concentration is a good index to reflect air quality, thus I decide to narrow down my scope to find relationship between PM2.5 contentration and rating for each Park in San Diego. I utilized two datasets. One is the San Diego Park Yelp Data. This dataset includes park information from Yelp. The rating and location variables are crucial for my analysis. Another is the California Environmental Health Screening Data. This dataset includes environmental data about different locations in California. I will only take San Diego county into consideration since I'm looking at San Diego parks. This dataset includes many variables, but only PM2.5 concentration and location will be analyzed in my project. I combined the two dataset by mapping each park to a location point in the environmental data based on longitude and latitude. \n",
    "\n",
    "After cleaning the two datasets and extract the columns I needed seperately, I analyzed the distribution of PM2.5 concentration and park rating seperately. The correlation between them was not as strong and linear as I expected. So I divided rating into two groups based on if the PM2.5 concentration is above or below its median, and plotted the two distribution out to see if they are similar. It seemed that there was some difference, but we cannot decide based on plot. Consequently, I did a permutation test to test my hypothsis of inverse relation between the two features. The result was unexpected. It showed that the two rating groups are from the same distribution, that being that, the PM2.5 concentration has no effect on park ratings.\n",
    "\n",
    "After reflecting this unexpcted result, I realized that it was because the overall PM2.5 concentration in San Diego is low. Thus, when all the parks have good air qualities, this will mostly not be taken into consideration by visistors. Because when one feature is shared by everyone, that feature is not that important anymore. This result shows that the government do not need to worry about the PM2.5 in parks when improving parks. If this project is more generalized to a broader scope, such as national parks in United States, the results will probably vary because each state will have more various air qualities.\n",
    "\n",
    "My project has another limitation that it does not take ratings from all visitors. Because the park rating is derived from Yelp, this excludes some groups who did not rate on Yelp or do not have access to Yelp. This is a bias that needs to be addressed. A possible way is to survey visitors in parks and record their rating for each park while it is time consuming. Or we can get data from different sources to minimize this bias."
   ]
  }
 ],
 "metadata": {
  "kernelspec": {
   "display_name": "Python 3",
   "language": "python",
   "name": "python3"
  },
  "language_info": {
   "codemirror_mode": {
    "name": "ipython",
    "version": 3
   },
   "file_extension": ".py",
   "mimetype": "text/x-python",
   "name": "python",
   "nbconvert_exporter": "python",
   "pygments_lexer": "ipython3",
   "version": "3.7.6"
  }
 },
 "nbformat": 4,
 "nbformat_minor": 2
}
