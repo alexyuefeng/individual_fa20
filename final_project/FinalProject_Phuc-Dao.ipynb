{
 "cells": [
  {
   "cell_type": "markdown",
   "metadata": {},
   "source": [
    "# Cogs 108 - Final Project\n",
    "\n",
    "# Overview\n",
    "\n",
    "In this project I wanted to find the correlation between yelp reviews of parks in San Diego and the number of police incident calls. From the analysis I found zero correclation between the average park ratings by area and the number of police calls for that area."
   ]
  },
  {
   "cell_type": "markdown",
   "metadata": {},
   "source": [
    "# Name and Github\n",
    "* Name: Phuc Dao\n",
    "* Github Username: Phuc-Dao"
   ]
  },
  {
   "cell_type": "markdown",
   "metadata": {},
   "source": [
    "# Research Question\n",
    "What is the relationship between the average yelp review of parks in San Diego and the number of police calls in that area?"
   ]
  },
  {
   "cell_type": "markdown",
   "metadata": {},
   "source": [
    "# Background and Prior Work\n",
    "\n",
    "There have been many studies that show the benefits of having a park near a neighborhood such as a healthier and overall happier population. Strong evidence suggest that high-quality green spaces in residential enviorments promote public health. Howeever one one the largest barrier to park usage is crime and fear of crime, especially since some people see parks as a magnet for criminal activities. This is even worse in areas where parks are seen as deteriorated or not renovated, and get less people visiting them. In order to verify if areas with parks that are not renovated does indeed see more crime rate I will be doing analysis using yelp reviews of parks in San Diego and data on police calls.\n",
    "\n",
    "Reference\n",
    "* [Effects of Crime Type and Location on Park Use Behavior](https://www.cdc.gov/pcd/issues/2020/19_0434.htm)\n",
    "* [Violent Crime and Park Use in Low-Income Urban Neighborhoods](https://pubmed.ncbi.nlm.nih.gov/29338953/)\n",
    "* [Can Parks help cities fight crime?](https://theconversation.com/can-parks-help-cities-fight-crime-118322#:~:text=Examining%20four%20cities%20in%20different,in%20areas%20close%20to%20parks.)\n",
    "* [Why Are Parks Important](https://www.brec.org/index.cfm/page/1808/n/153#:~:text=Parks%20provide%20intrinsic%20environmental%2C%20aesthetic,and%20workers%2C%20and%20attract%20retirees.)\n",
    "* [The Benefits of Parks: Why America Needs More City Parks and Open Spaces](https://conservationtools.org/library_items/729-the-benefits-of-parks-why-america-needs-more-city-parks-and-open-space)"
   ]
  },
  {
   "cell_type": "markdown",
   "metadata": {},
   "source": [
    "# Hypothesis\n",
    "I hypothesize that there will be no correlation between parks with lower reviews on yelp and the number of police calls in the area. There are many factors that contribute to crime rate in an area and a park is not one of the reasons why. I predict that we will see parks with really high ratings and really high police calls as well as parks with really low ratings and low police calls as well."
   ]
  },
  {
   "cell_type": "markdown",
   "metadata": {},
   "source": [
    "# Dataset(s)\n",
    "The ideal dataset for the parks would include the number of people that visit that park, the reviews on yelp, the number of reviews, and the area that the park is located in. The ideal dataset for the police calls would include what type of call it was (ie what kind of offense) the area the call was in, and the date and time it was called in.\n",
    "\n",
    "The Dataset that I will be using in my analysis was provided by the professor. Of the different datasets i will be using the two datasets\n",
    "* pd_calls_for_service_2020_datasd.csv\n",
    "* yelp_SD_reviews.csv\n",
    "\n",
    "The first dataset contains 429304 obsercation and it contains the id of the police call, the data and time, the priority of the call, the street address, and the call type (i.e domestic violence, firearms etc)\n",
    "\n",
    "The second dataset contains 2334 observatiosn and conatins the Park name, park location, yelp review, and the most previous review comment left by the reviewer\n",
    "\n",
    "I will merge these two datasets by first taking the average park reviews by different areas, and then count the number of incidents for that area in the police data set"
   ]
  },
  {
   "cell_type": "markdown",
   "metadata": {},
   "source": [
    "# Setup"
   ]
  },
  {
   "cell_type": "code",
   "execution_count": 96,
   "metadata": {},
   "outputs": [],
   "source": [
    "import seaborn as sns\n",
    "import pandas as pd\n",
    "import numpy as np\n",
    "import patsy\n",
    "import statsmodels.api as sm\n",
    "from sklearn.linear_model import LinearRegression\n",
    "import matplotlib.pyplot as plt"
   ]
  },
  {
   "cell_type": "code",
   "execution_count": 97,
   "metadata": {},
   "outputs": [],
   "source": [
    "df_police = pd.read_csv(\"../data/pd_calls_for_service_2020_datasd.csv\")\n",
    "df_parks = pd.read_csv(\"../data/yelp_SD_parks.csv\")\n"
   ]
  },
  {
   "cell_type": "markdown",
   "metadata": {},
   "source": [
    "# Data Cleaning"
   ]
  },
  {
   "cell_type": "markdown",
   "metadata": {},
   "source": [
    "I had to get the general area of each park. Since the data set came with the entire street address I parsed the location. For exmaple 8958 Clairemont RD San Diego, CA 92123 would become Clairemont RD. I also only looked at parks in San Diego"
   ]
  },
  {
   "cell_type": "code",
   "execution_count": 98,
   "metadata": {
    "scrolled": true
   },
   "outputs": [],
   "source": [
    "def clean_address(string):\n",
    "    \"\"\"\n",
    "    cleans the data of the street adress by getting rid the zipcode and building number/suite if it has any\n",
    "    \"\"\"\n",
    "    string_lower = string.lower()\n",
    "    # Only look in san diego\n",
    "    if string_lower.find(\"san diego\") == -1 or string_lower.find(\" and \") != -1 or string_lower.find(\" & \") != -1:\n",
    "        return np.nan\n",
    "    # Remove the street address if it has one\n",
    "    prefix = string_lower.split(\" \")[0]\n",
    "    if prefix.isnumeric() or \"-\" in prefix:\n",
    "        string_lower = string_lower.split(\" \", 1)[1]\n",
    "\n",
    "    # remove san diego, ca 9xxxx\n",
    "    string_lower = string_lower[0: string_lower.find(\"san diego, ca\")]\n",
    "    \n",
    "    # Remove Suit or building number\n",
    "    street_type = [\" blvd\", \" ave\", \" way\", \" rd\", \" st\", \" dr\"]\n",
    "    for s in street_type:\n",
    "        if s in string_lower:\n",
    "            string_lower = string_lower[:string_lower.find(s) + len(s)]\n",
    "    return string_lower\n",
    "\n",
    "df_parks['area'] = df_parks['address'].apply(lambda row: clean_address(row))\n"
   ]
  },
  {
   "cell_type": "markdown",
   "metadata": {},
   "source": [
    "This helper method was needed because the police data was not consistent with how the used BLVD. Some times they would use BLVD and othertimes they would use BLV"
   ]
  },
  {
   "cell_type": "code",
   "execution_count": 99,
   "metadata": {},
   "outputs": [],
   "source": [
    "def clean_blvd(suffix):\n",
    "    if suffix is np.nan:\n",
    "        return \"\"\n",
    "    if suffix.strip() is \"BLV\":\n",
    "        return \"BLVD\"\n",
    "    else:\n",
    "        return suffix\n",
    "\n",
    "# df_police = df_police[(df_police.call_type == \"245\") | (df_police.call_type == \"245R\") | (df_police.call_type == \"245-SUSP\") | (df_police.call_type == \"AU245\")]\n",
    "df_police['address_sfx_primary'] = df_police['address_sfx_primary'].apply(lambda row: clean_blvd(row))"
   ]
  },
  {
   "cell_type": "markdown",
   "metadata": {},
   "source": [
    "Renamed some of the columns in the police to be more readable"
   ]
  },
  {
   "cell_type": "code",
   "execution_count": 100,
   "metadata": {},
   "outputs": [],
   "source": [
    "# Rename police columns\n",
    "df_police.rename(columns={df_police.columns[0]: 'inc', df_police.columns[5]: 'road', df_police.columns[6]: 'suffix'}, inplace=True)\n",
    "# Drop unused columns from df_parks\n",
    "df_parks = df_parks.drop(columns=['phone', 'longitude', 'latitude', 'is_closed', 'id', 'url', 'phone'])"
   ]
  },
  {
   "cell_type": "code",
   "execution_count": 101,
   "metadata": {},
   "outputs": [
    {
     "data": {
      "text/html": [
       "<div>\n",
       "<style scoped>\n",
       "    .dataframe tbody tr th:only-of-type {\n",
       "        vertical-align: middle;\n",
       "    }\n",
       "\n",
       "    .dataframe tbody tr th {\n",
       "        vertical-align: top;\n",
       "    }\n",
       "\n",
       "    .dataframe thead th {\n",
       "        text-align: right;\n",
       "    }\n",
       "</style>\n",
       "<table border=\"1\" class=\"dataframe\">\n",
       "  <thead>\n",
       "    <tr style=\"text-align: right;\">\n",
       "      <th></th>\n",
       "      <th>inc</th>\n",
       "      <th>date_time</th>\n",
       "      <th>day_of_week</th>\n",
       "      <th>address_number_primary</th>\n",
       "      <th>address_dir_primary</th>\n",
       "      <th>road</th>\n",
       "      <th>suffix</th>\n",
       "      <th>address_dir_intersecting</th>\n",
       "      <th>address_road_intersecting</th>\n",
       "      <th>address_sfx_intersecting</th>\n",
       "      <th>call_type</th>\n",
       "      <th>disposition</th>\n",
       "      <th>beat</th>\n",
       "      <th>priority</th>\n",
       "    </tr>\n",
       "  </thead>\n",
       "  <tbody>\n",
       "    <tr>\n",
       "      <th>0</th>\n",
       "      <td>E20010000001</td>\n",
       "      <td>2020-01-01 00:00:09</td>\n",
       "      <td>4</td>\n",
       "      <td>400</td>\n",
       "      <td>NaN</td>\n",
       "      <td>06TH</td>\n",
       "      <td>AVE</td>\n",
       "      <td>NaN</td>\n",
       "      <td>NaN</td>\n",
       "      <td>NaN</td>\n",
       "      <td>11-8</td>\n",
       "      <td>A</td>\n",
       "      <td>523.0</td>\n",
       "      <td>0.0</td>\n",
       "    </tr>\n",
       "    <tr>\n",
       "      <th>1</th>\n",
       "      <td>E20010000002</td>\n",
       "      <td>2020-01-01 00:00:20</td>\n",
       "      <td>4</td>\n",
       "      <td>5000</td>\n",
       "      <td>NaN</td>\n",
       "      <td>UNIVERSITY</td>\n",
       "      <td>AVE</td>\n",
       "      <td>NaN</td>\n",
       "      <td>NaN</td>\n",
       "      <td>NaN</td>\n",
       "      <td>FD</td>\n",
       "      <td>K</td>\n",
       "      <td>826.0</td>\n",
       "      <td>2.0</td>\n",
       "    </tr>\n",
       "    <tr>\n",
       "      <th>2</th>\n",
       "      <td>E20010000003</td>\n",
       "      <td>2020-01-01 00:00:21</td>\n",
       "      <td>4</td>\n",
       "      <td>800</td>\n",
       "      <td>NaN</td>\n",
       "      <td>SAWTELLE</td>\n",
       "      <td>AVE</td>\n",
       "      <td>NaN</td>\n",
       "      <td>NaN</td>\n",
       "      <td>NaN</td>\n",
       "      <td>AU1</td>\n",
       "      <td>W</td>\n",
       "      <td>434.0</td>\n",
       "      <td>1.0</td>\n",
       "    </tr>\n",
       "    <tr>\n",
       "      <th>3</th>\n",
       "      <td>E20010000004</td>\n",
       "      <td>2020-01-01 00:00:32</td>\n",
       "      <td>4</td>\n",
       "      <td>5000</td>\n",
       "      <td>NaN</td>\n",
       "      <td>UNIVERSITY</td>\n",
       "      <td>AVE</td>\n",
       "      <td>NaN</td>\n",
       "      <td>NaN</td>\n",
       "      <td>NaN</td>\n",
       "      <td>FD</td>\n",
       "      <td>K</td>\n",
       "      <td>826.0</td>\n",
       "      <td>2.0</td>\n",
       "    </tr>\n",
       "    <tr>\n",
       "      <th>4</th>\n",
       "      <td>E20010000005</td>\n",
       "      <td>2020-01-01 00:00:42</td>\n",
       "      <td>4</td>\n",
       "      <td>5200</td>\n",
       "      <td>NaN</td>\n",
       "      <td>CLAIREMONT MESA</td>\n",
       "      <td>BLV</td>\n",
       "      <td>NaN</td>\n",
       "      <td>NaN</td>\n",
       "      <td>NaN</td>\n",
       "      <td>415V</td>\n",
       "      <td>K</td>\n",
       "      <td>111.0</td>\n",
       "      <td>1.0</td>\n",
       "    </tr>\n",
       "    <tr>\n",
       "      <th>...</th>\n",
       "      <td>...</td>\n",
       "      <td>...</td>\n",
       "      <td>...</td>\n",
       "      <td>...</td>\n",
       "      <td>...</td>\n",
       "      <td>...</td>\n",
       "      <td>...</td>\n",
       "      <td>...</td>\n",
       "      <td>...</td>\n",
       "      <td>...</td>\n",
       "      <td>...</td>\n",
       "      <td>...</td>\n",
       "      <td>...</td>\n",
       "      <td>...</td>\n",
       "    </tr>\n",
       "    <tr>\n",
       "      <th>429299</th>\n",
       "      <td>E20100003085</td>\n",
       "      <td>2020-10-02 16:41:54</td>\n",
       "      <td>6</td>\n",
       "      <td>0</td>\n",
       "      <td>NaN</td>\n",
       "      <td>CAVE</td>\n",
       "      <td>ST</td>\n",
       "      <td>NaN</td>\n",
       "      <td>PROSPECT PL</td>\n",
       "      <td>NaN</td>\n",
       "      <td>HZRD</td>\n",
       "      <td>O</td>\n",
       "      <td>124.0</td>\n",
       "      <td>1.0</td>\n",
       "    </tr>\n",
       "    <tr>\n",
       "      <th>429300</th>\n",
       "      <td>E20100003086</td>\n",
       "      <td>2020-10-02 16:42:05</td>\n",
       "      <td>6</td>\n",
       "      <td>1600</td>\n",
       "      <td>NaN</td>\n",
       "      <td>EUCLID</td>\n",
       "      <td>AVE</td>\n",
       "      <td>NaN</td>\n",
       "      <td>NaN</td>\n",
       "      <td>NaN</td>\n",
       "      <td>415</td>\n",
       "      <td>K</td>\n",
       "      <td>451.0</td>\n",
       "      <td>2.0</td>\n",
       "    </tr>\n",
       "    <tr>\n",
       "      <th>429301</th>\n",
       "      <td>E20100003087</td>\n",
       "      <td>2020-10-02 16:42:57</td>\n",
       "      <td>6</td>\n",
       "      <td>9000</td>\n",
       "      <td>NaN</td>\n",
       "      <td>WOODLAWN</td>\n",
       "      <td>DR</td>\n",
       "      <td>NaN</td>\n",
       "      <td>NaN</td>\n",
       "      <td>NaN</td>\n",
       "      <td>459A</td>\n",
       "      <td>CAN</td>\n",
       "      <td>242.0</td>\n",
       "      <td>2.0</td>\n",
       "    </tr>\n",
       "    <tr>\n",
       "      <th>429302</th>\n",
       "      <td>E20100003088</td>\n",
       "      <td>2020-10-02 16:44:33</td>\n",
       "      <td>6</td>\n",
       "      <td>0</td>\n",
       "      <td>NaN</td>\n",
       "      <td>41ST</td>\n",
       "      <td>ST</td>\n",
       "      <td>NaN</td>\n",
       "      <td>MARKET</td>\n",
       "      <td>NaN</td>\n",
       "      <td>5150</td>\n",
       "      <td>K</td>\n",
       "      <td>444.0</td>\n",
       "      <td>2.0</td>\n",
       "    </tr>\n",
       "    <tr>\n",
       "      <th>429303</th>\n",
       "      <td>E20100003089</td>\n",
       "      <td>2020-10-02 16:46:22</td>\n",
       "      <td>6</td>\n",
       "      <td>4500</td>\n",
       "      <td>NaN</td>\n",
       "      <td>MISSION BAY</td>\n",
       "      <td>DR</td>\n",
       "      <td>NaN</td>\n",
       "      <td>NaN</td>\n",
       "      <td>NaN</td>\n",
       "      <td>NaN</td>\n",
       "      <td>NaN</td>\n",
       "      <td>NaN</td>\n",
       "      <td>NaN</td>\n",
       "    </tr>\n",
       "  </tbody>\n",
       "</table>\n",
       "<p>429304 rows × 14 columns</p>\n",
       "</div>"
      ],
      "text/plain": [
       "                 inc            date_time  day_of_week  \\\n",
       "0       E20010000001  2020-01-01 00:00:09            4   \n",
       "1       E20010000002  2020-01-01 00:00:20            4   \n",
       "2       E20010000003  2020-01-01 00:00:21            4   \n",
       "3       E20010000004  2020-01-01 00:00:32            4   \n",
       "4       E20010000005  2020-01-01 00:00:42            4   \n",
       "...              ...                  ...          ...   \n",
       "429299  E20100003085  2020-10-02 16:41:54            6   \n",
       "429300  E20100003086  2020-10-02 16:42:05            6   \n",
       "429301  E20100003087  2020-10-02 16:42:57            6   \n",
       "429302  E20100003088  2020-10-02 16:44:33            6   \n",
       "429303  E20100003089  2020-10-02 16:46:22            6   \n",
       "\n",
       "        address_number_primary address_dir_primary             road suffix  \\\n",
       "0                          400                 NaN             06TH    AVE   \n",
       "1                         5000                 NaN       UNIVERSITY    AVE   \n",
       "2                          800                 NaN         SAWTELLE    AVE   \n",
       "3                         5000                 NaN       UNIVERSITY    AVE   \n",
       "4                         5200                 NaN  CLAIREMONT MESA    BLV   \n",
       "...                        ...                 ...              ...    ...   \n",
       "429299                       0                 NaN             CAVE     ST   \n",
       "429300                    1600                 NaN           EUCLID    AVE   \n",
       "429301                    9000                 NaN         WOODLAWN     DR   \n",
       "429302                       0                 NaN             41ST     ST   \n",
       "429303                    4500                 NaN      MISSION BAY     DR   \n",
       "\n",
       "        address_dir_intersecting address_road_intersecting  \\\n",
       "0                            NaN                       NaN   \n",
       "1                            NaN                       NaN   \n",
       "2                            NaN                       NaN   \n",
       "3                            NaN                       NaN   \n",
       "4                            NaN                       NaN   \n",
       "...                          ...                       ...   \n",
       "429299                       NaN               PROSPECT PL   \n",
       "429300                       NaN                       NaN   \n",
       "429301                       NaN                       NaN   \n",
       "429302                       NaN                    MARKET   \n",
       "429303                       NaN                       NaN   \n",
       "\n",
       "        address_sfx_intersecting call_type disposition   beat  priority  \n",
       "0                            NaN      11-8           A  523.0       0.0  \n",
       "1                            NaN        FD           K  826.0       2.0  \n",
       "2                            NaN       AU1           W  434.0       1.0  \n",
       "3                            NaN        FD           K  826.0       2.0  \n",
       "4                            NaN      415V           K  111.0       1.0  \n",
       "...                          ...       ...         ...    ...       ...  \n",
       "429299                       NaN      HZRD           O  124.0       1.0  \n",
       "429300                       NaN       415           K  451.0       2.0  \n",
       "429301                       NaN      459A         CAN  242.0       2.0  \n",
       "429302                       NaN      5150           K  444.0       2.0  \n",
       "429303                       NaN       NaN         NaN    NaN       NaN  \n",
       "\n",
       "[429304 rows x 14 columns]"
      ]
     },
     "execution_count": 101,
     "metadata": {},
     "output_type": "execute_result"
    }
   ],
   "source": [
    "df_police"
   ]
  },
  {
   "cell_type": "markdown",
   "metadata": {},
   "source": [
    "Did the same thing with the police data to get the general location of the police call from the exact address. Also created a new df named inc_count_df which contained the count of all the incident calls by area"
   ]
  },
  {
   "cell_type": "code",
   "execution_count": 102,
   "metadata": {},
   "outputs": [],
   "source": [
    "# Create a new table with the count of police calls\n",
    "\n",
    "def get_full_addr(road, suffix):\n",
    "    \"\"\"\n",
    "    Combines the address road primary and the road sfx\n",
    "    \"\"\"\n",
    "    pre = \"\" if road is np.nan else road.strip()\n",
    "    suf = \"\" if suffix is np.nan else suffix.strip()\n",
    "\n",
    "    # Converts BLV to BLVD\n",
    "    if suf == 'BLV':\n",
    "        suf = 'BLVD'\n",
    "    \n",
    "    # remove leading 0\n",
    "    if len(pre) > 0 and pre[0] is \"0\":\n",
    "        pre = pre[1:]\n",
    "    full_addr = pre + \" \" + suf\n",
    "    full_addr = full_addr.strip()\n",
    "    return full_addr.lower()\n",
    "    \n",
    "df_police['full_addr'] = df_police.apply(lambda row: get_full_addr(row['road'], row['suffix']), axis=1)"
   ]
  },
  {
   "cell_type": "code",
   "execution_count": 103,
   "metadata": {},
   "outputs": [
    {
     "data": {
      "text/plain": [
       "imperial ave          7473\n",
       "el cajon blvd         7303\n",
       "university ave        6949\n",
       "5th ave               5307\n",
       "broadway              4390\n",
       "                      ... \n",
       "roxbury rd               1\n",
       "sencillo ct              1\n",
       "schraer 671q             1\n",
       "- sgt zingheim           1\n",
       "sunflower crest pl       1\n",
       "Name: full_addr, Length: 10767, dtype: int64"
      ]
     },
     "execution_count": 103,
     "metadata": {},
     "output_type": "execute_result"
    }
   ],
   "source": [
    "\n",
    "inc_count_df = df_police['full_addr'].value_counts()\n",
    "inc_count_df"
   ]
  },
  {
   "cell_type": "markdown",
   "metadata": {},
   "source": [
    "merged inc_count_df and df_police by there general area to create merged df"
   ]
  },
  {
   "cell_type": "code",
   "execution_count": 104,
   "metadata": {},
   "outputs": [],
   "source": [
    "def foo(x, inc_count_df):\n",
    "    query = inc_count_df.get(x)\n",
    "    query = 0 if not query else query\n",
    "    return query\n",
    "\n",
    "# Merge the two dataframes into one single one\n",
    "merged_df = df_parks.groupby('area').mean()\n",
    "merged_df['inc_count'] = merged_df.index.map(lambda x : foo(x, inc_count_df))\n",
    "merged_df['area'] = merged_df.index.map(lambda x : x)"
   ]
  },
  {
   "cell_type": "code",
   "execution_count": 105,
   "metadata": {},
   "outputs": [
    {
     "data": {
      "text/html": [
       "<div>\n",
       "<style scoped>\n",
       "    .dataframe tbody tr th:only-of-type {\n",
       "        vertical-align: middle;\n",
       "    }\n",
       "\n",
       "    .dataframe tbody tr th {\n",
       "        vertical-align: top;\n",
       "    }\n",
       "\n",
       "    .dataframe thead th {\n",
       "        text-align: right;\n",
       "    }\n",
       "</style>\n",
       "<table border=\"1\" class=\"dataframe\">\n",
       "  <thead>\n",
       "    <tr style=\"text-align: right;\">\n",
       "      <th></th>\n",
       "      <th>rating</th>\n",
       "      <th>review_count</th>\n",
       "      <th>inc_count</th>\n",
       "      <th>area</th>\n",
       "    </tr>\n",
       "    <tr>\n",
       "      <th>area</th>\n",
       "      <th></th>\n",
       "      <th></th>\n",
       "      <th></th>\n",
       "      <th></th>\n",
       "    </tr>\n",
       "  </thead>\n",
       "  <tbody>\n",
       "    <tr>\n",
       "      <th></th>\n",
       "      <td>4.308824</td>\n",
       "      <td>24.176471</td>\n",
       "      <td>76</td>\n",
       "      <td></td>\n",
       "    </tr>\n",
       "    <tr>\n",
       "      <th>1/2 india st</th>\n",
       "      <td>5.000000</td>\n",
       "      <td>4.000000</td>\n",
       "      <td>0</td>\n",
       "      <td>1/2 india st</td>\n",
       "    </tr>\n",
       "    <tr>\n",
       "      <th>13th st</th>\n",
       "      <td>3.000000</td>\n",
       "      <td>9.000000</td>\n",
       "      <td>1007</td>\n",
       "      <td>13th st</td>\n",
       "    </tr>\n",
       "    <tr>\n",
       "      <th>1407a shelter island dr</th>\n",
       "      <td>5.000000</td>\n",
       "      <td>1.000000</td>\n",
       "      <td>0</td>\n",
       "      <td>1407a shelter island dr</td>\n",
       "    </tr>\n",
       "    <tr>\n",
       "      <th>14th st</th>\n",
       "      <td>3.500000</td>\n",
       "      <td>34.000000</td>\n",
       "      <td>1719</td>\n",
       "      <td>14th st</td>\n",
       "    </tr>\n",
       "    <tr>\n",
       "      <th>...</th>\n",
       "      <td>...</td>\n",
       "      <td>...</td>\n",
       "      <td>...</td>\n",
       "      <td>...</td>\n",
       "    </tr>\n",
       "    <tr>\n",
       "      <th>wickerbay cv</th>\n",
       "      <td>4.500000</td>\n",
       "      <td>9.000000</td>\n",
       "      <td>0</td>\n",
       "      <td>wickerbay cv</td>\n",
       "    </tr>\n",
       "    <tr>\n",
       "      <th>wightman st</th>\n",
       "      <td>4.000000</td>\n",
       "      <td>1.000000</td>\n",
       "      <td>618</td>\n",
       "      <td>wightman st</td>\n",
       "    </tr>\n",
       "    <tr>\n",
       "      <th>willow creek rd</th>\n",
       "      <td>4.000000</td>\n",
       "      <td>5.000000</td>\n",
       "      <td>28</td>\n",
       "      <td>willow creek rd</td>\n",
       "    </tr>\n",
       "    <tr>\n",
       "      <th>wunderlin ave</th>\n",
       "      <td>3.500000</td>\n",
       "      <td>3.000000</td>\n",
       "      <td>70</td>\n",
       "      <td>wunderlin ave</td>\n",
       "    </tr>\n",
       "    <tr>\n",
       "      <th>zoo dr</th>\n",
       "      <td>4.250000</td>\n",
       "      <td>2275.500000</td>\n",
       "      <td>149</td>\n",
       "      <td>zoo dr</td>\n",
       "    </tr>\n",
       "  </tbody>\n",
       "</table>\n",
       "<p>374 rows × 4 columns</p>\n",
       "</div>"
      ],
      "text/plain": [
       "                           rating  review_count  inc_count  \\\n",
       "area                                                         \n",
       "                         4.308824     24.176471         76   \n",
       "1/2 india st             5.000000      4.000000          0   \n",
       "13th st                  3.000000      9.000000       1007   \n",
       "1407a shelter island dr  5.000000      1.000000          0   \n",
       "14th st                  3.500000     34.000000       1719   \n",
       "...                           ...           ...        ...   \n",
       "wickerbay cv             4.500000      9.000000          0   \n",
       "wightman st              4.000000      1.000000        618   \n",
       "willow creek rd          4.000000      5.000000         28   \n",
       "wunderlin ave            3.500000      3.000000         70   \n",
       "zoo dr                   4.250000   2275.500000        149   \n",
       "\n",
       "                                            area  \n",
       "area                                              \n",
       "                                                  \n",
       "1/2 india st                        1/2 india st  \n",
       "13th st                                  13th st  \n",
       "1407a shelter island dr  1407a shelter island dr  \n",
       "14th st                                  14th st  \n",
       "...                                          ...  \n",
       "wickerbay cv                       wickerbay cv   \n",
       "wightman st                          wightman st  \n",
       "willow creek rd                  willow creek rd  \n",
       "wunderlin ave                      wunderlin ave  \n",
       "zoo dr                                    zoo dr  \n",
       "\n",
       "[374 rows x 4 columns]"
      ]
     },
     "execution_count": 105,
     "metadata": {},
     "output_type": "execute_result"
    }
   ],
   "source": [
    "merged_df"
   ]
  },
  {
   "cell_type": "code",
   "execution_count": 106,
   "metadata": {},
   "outputs": [
    {
     "data": {
      "text/html": [
       "<div>\n",
       "<style scoped>\n",
       "    .dataframe tbody tr th:only-of-type {\n",
       "        vertical-align: middle;\n",
       "    }\n",
       "\n",
       "    .dataframe tbody tr th {\n",
       "        vertical-align: top;\n",
       "    }\n",
       "\n",
       "    .dataframe thead th {\n",
       "        text-align: right;\n",
       "    }\n",
       "</style>\n",
       "<table border=\"1\" class=\"dataframe\">\n",
       "  <thead>\n",
       "    <tr style=\"text-align: right;\">\n",
       "      <th></th>\n",
       "      <th>rating</th>\n",
       "      <th>review_count</th>\n",
       "      <th>inc_count</th>\n",
       "      <th>area</th>\n",
       "    </tr>\n",
       "    <tr>\n",
       "      <th>area</th>\n",
       "      <th></th>\n",
       "      <th></th>\n",
       "      <th></th>\n",
       "      <th></th>\n",
       "    </tr>\n",
       "  </thead>\n",
       "  <tbody>\n",
       "    <tr>\n",
       "      <th>elm st</th>\n",
       "      <td>1.000</td>\n",
       "      <td>1.0</td>\n",
       "      <td>273</td>\n",
       "      <td>elm st</td>\n",
       "    </tr>\n",
       "    <tr>\n",
       "      <th>twin trails dr</th>\n",
       "      <td>1.000</td>\n",
       "      <td>1.0</td>\n",
       "      <td>151</td>\n",
       "      <td>twin trails dr</td>\n",
       "    </tr>\n",
       "    <tr>\n",
       "      <th>54th st</th>\n",
       "      <td>1.000</td>\n",
       "      <td>2.0</td>\n",
       "      <td>1441</td>\n",
       "      <td>54th st</td>\n",
       "    </tr>\n",
       "    <tr>\n",
       "      <th>krenz st</th>\n",
       "      <td>1.500</td>\n",
       "      <td>25.0</td>\n",
       "      <td>4</td>\n",
       "      <td>krenz st</td>\n",
       "    </tr>\n",
       "    <tr>\n",
       "      <th>pavlov ave</th>\n",
       "      <td>1.500</td>\n",
       "      <td>8.0</td>\n",
       "      <td>25</td>\n",
       "      <td>pavlov ave</td>\n",
       "    </tr>\n",
       "    <tr>\n",
       "      <th>rigel st</th>\n",
       "      <td>1.500</td>\n",
       "      <td>3.0</td>\n",
       "      <td>129</td>\n",
       "      <td>rigel st</td>\n",
       "    </tr>\n",
       "    <tr>\n",
       "      <th>cargill ave</th>\n",
       "      <td>1.500</td>\n",
       "      <td>16.0</td>\n",
       "      <td>34</td>\n",
       "      <td>cargill ave</td>\n",
       "    </tr>\n",
       "    <tr>\n",
       "      <th>grove ave</th>\n",
       "      <td>2.000</td>\n",
       "      <td>1.0</td>\n",
       "      <td>124</td>\n",
       "      <td>grove ave</td>\n",
       "    </tr>\n",
       "    <tr>\n",
       "      <th>gill village way</th>\n",
       "      <td>2.000</td>\n",
       "      <td>133.0</td>\n",
       "      <td>69</td>\n",
       "      <td>gill village way</td>\n",
       "    </tr>\n",
       "    <tr>\n",
       "      <th>sorrento valley rd</th>\n",
       "      <td>2.000</td>\n",
       "      <td>26.0</td>\n",
       "      <td>288</td>\n",
       "      <td>sorrento valley rd</td>\n",
       "    </tr>\n",
       "    <tr>\n",
       "      <th>waples st</th>\n",
       "      <td>2.000</td>\n",
       "      <td>159.0</td>\n",
       "      <td>51</td>\n",
       "      <td>waples st</td>\n",
       "    </tr>\n",
       "    <tr>\n",
       "      <th>jutland dr</th>\n",
       "      <td>2.000</td>\n",
       "      <td>48.0</td>\n",
       "      <td>66</td>\n",
       "      <td>jutland dr</td>\n",
       "    </tr>\n",
       "    <tr>\n",
       "      <th>40th st</th>\n",
       "      <td>2.500</td>\n",
       "      <td>23.0</td>\n",
       "      <td>734</td>\n",
       "      <td>40th st</td>\n",
       "    </tr>\n",
       "    <tr>\n",
       "      <th>cauby st</th>\n",
       "      <td>2.500</td>\n",
       "      <td>23.0</td>\n",
       "      <td>129</td>\n",
       "      <td>cauby st</td>\n",
       "    </tr>\n",
       "    <tr>\n",
       "      <th>genesee ave</th>\n",
       "      <td>2.500</td>\n",
       "      <td>22.0</td>\n",
       "      <td>1640</td>\n",
       "      <td>genesee ave</td>\n",
       "    </tr>\n",
       "    <tr>\n",
       "      <th>parkside ave</th>\n",
       "      <td>2.500</td>\n",
       "      <td>8.0</td>\n",
       "      <td>111</td>\n",
       "      <td>parkside ave</td>\n",
       "    </tr>\n",
       "    <tr>\n",
       "      <th>shields st</th>\n",
       "      <td>2.500</td>\n",
       "      <td>7.0</td>\n",
       "      <td>16</td>\n",
       "      <td>shields st</td>\n",
       "    </tr>\n",
       "    <tr>\n",
       "      <th>essex st</th>\n",
       "      <td>2.500</td>\n",
       "      <td>15.0</td>\n",
       "      <td>195</td>\n",
       "      <td>essex st</td>\n",
       "    </tr>\n",
       "    <tr>\n",
       "      <th>kantor st</th>\n",
       "      <td>2.500</td>\n",
       "      <td>7.0</td>\n",
       "      <td>26</td>\n",
       "      <td>kantor st</td>\n",
       "    </tr>\n",
       "    <tr>\n",
       "      <th>montezuma rd</th>\n",
       "      <td>2.625</td>\n",
       "      <td>17.0</td>\n",
       "      <td>636</td>\n",
       "      <td>montezuma rd</td>\n",
       "    </tr>\n",
       "  </tbody>\n",
       "</table>\n",
       "</div>"
      ],
      "text/plain": [
       "                    rating  review_count  inc_count                area\n",
       "area                                                                   \n",
       "elm st               1.000           1.0        273              elm st\n",
       "twin trails dr       1.000           1.0        151      twin trails dr\n",
       "54th st              1.000           2.0       1441             54th st\n",
       "krenz st             1.500          25.0          4            krenz st\n",
       "pavlov ave           1.500           8.0         25          pavlov ave\n",
       "rigel st             1.500           3.0        129            rigel st\n",
       "cargill ave          1.500          16.0         34         cargill ave\n",
       "grove ave            2.000           1.0        124           grove ave\n",
       "gill village way     2.000         133.0         69    gill village way\n",
       "sorrento valley rd   2.000          26.0        288  sorrento valley rd\n",
       "waples st            2.000         159.0         51           waples st\n",
       "jutland dr           2.000          48.0         66          jutland dr\n",
       "40th st              2.500          23.0        734             40th st\n",
       "cauby st             2.500          23.0        129            cauby st\n",
       "genesee ave          2.500          22.0       1640         genesee ave\n",
       "parkside ave         2.500           8.0        111        parkside ave\n",
       "shields st           2.500           7.0         16          shields st\n",
       "essex st             2.500          15.0        195            essex st\n",
       "kantor st            2.500           7.0         26           kantor st\n",
       "montezuma rd         2.625          17.0        636        montezuma rd"
      ]
     },
     "execution_count": 106,
     "metadata": {},
     "output_type": "execute_result"
    }
   ],
   "source": [
    "merged_df[merged_df.inc_count > 0].sort_values(by=['rating'], ascending=True).head(20)"
   ]
  },
  {
   "cell_type": "markdown",
   "metadata": {},
   "source": [
    "# Data Analysis and Visualization\n"
   ]
  },
  {
   "cell_type": "markdown",
   "metadata": {},
   "source": [
    "First I wanted to visulize the distribution of my data so I plotted histograms of the incident count and the average rating from the merged df. From the visualization it seems that the majority of ratings are 3.5 or above and the majority of incident counts are zero"
   ]
  },
  {
   "cell_type": "code",
   "execution_count": 107,
   "metadata": {},
   "outputs": [
    {
     "data": {
      "text/plain": [
       "Text(0.5, 0, 'incident count')"
      ]
     },
     "execution_count": 107,
     "metadata": {},
     "output_type": "execute_result"
    },
    {
     "data": {
      "image/png": "[encoded data removed]",
      "text/plain": [
       "<Figure size 432x288 with 1 Axes>"
      ]
     },
     "metadata": {
      "needs_background": "light"
     },
     "output_type": "display_data"
    }
   ],
   "source": [
    "sn = merged_df['inc_count'].plot(kind='hist', bins=25, title='Police incident count distribution')\n",
    "sn.set_xlabel('incident count')"
   ]
  },
  {
   "cell_type": "code",
   "execution_count": 108,
   "metadata": {},
   "outputs": [
    {
     "data": {
      "text/plain": [
       "Text(0.5, 0, 'Average rating')"
      ]
     },
     "execution_count": 108,
     "metadata": {},
     "output_type": "execute_result"
    },
    {
     "data": {
      "image/png": "[encoded data removed]",
      "text/plain": [
       "<Figure size 432x288 with 1 Axes>"
      ]
     },
     "metadata": {
      "needs_background": "light"
     },
     "output_type": "display_data"
    }
   ],
   "source": [
    "sn = merged_df['rating'].plot(kind='hist', bins=25, title='Average yelp Park Reviews Distribution')\n",
    "sn.set_xlabel('Average rating')\n"
   ]
  },
  {
   "cell_type": "code",
   "execution_count": 109,
   "metadata": {},
   "outputs": [],
   "source": [
    "# Generate plot with differnt call types\n",
    "def create_df_list(df, df_parks):\n",
    "    call_types = df.call_type.unique()\n",
    "    df_list = []\n",
    "    for ct in call_types:\n",
    "        inc_count_df = df[df.call_type == ct]['full_addr'].value_counts()\n",
    "        merged_df = df_parks.groupby('area').mean()\n",
    "        merged_df['inc_count'] = merged_df.index.map(lambda x : foo(x, inc_count_df))\n",
    "        merged_df['area'] = merged_df.index.map(lambda x : x)\n",
    "        df_list.append((merged_df, ct))\n",
    "    return df_list\n",
    "    \n",
    "police_df_list = create_df_list(df_police, df_parks)"
   ]
  },
  {
   "cell_type": "markdown",
   "metadata": {},
   "source": [
    "I wanted to visualize the average rating and the incident count together so I decided to use a scatter plot with the independent variable being the average review and the dependent variable being the incident count. Since the dataset splits up the incident calls by types (ie manslaughter, drugs, and assault) I created different scatter plots for each different incident type"
   ]
  },
  {
   "cell_type": "code",
   "execution_count": 110,
   "metadata": {},
   "outputs": [],
   "source": [
    "merged_df_by_inc_type = []\n",
    "title_map = {'245R': 'Assault', '1130': 'Manslaughter', '1016': 'Drug' }\n",
    "\n",
    "for e in police_df_list:\n",
    "    title = \"\" if e[1] is np.nan else e[1]\n",
    "    if title in title_map:\n",
    "        merged_df_by_inc_type.append(e)"
   ]
  },
  {
   "cell_type": "code",
   "execution_count": 111,
   "metadata": {},
   "outputs": [
    {
     "data": {
      "image/png": "[encoded data removed]",
      "text/plain": [
       "<Figure size 432x288 with 1 Axes>"
      ]
     },
     "metadata": {
      "needs_background": "light"
     },
     "output_type": "display_data"
    },
    {
     "data": {
      "image/png": "[encoded data removed]",
      "text/plain": [
       "<Figure size 432x288 with 1 Axes>"
      ]
     },
     "metadata": {
      "needs_background": "light"
     },
     "output_type": "display_data"
    },
    {
     "data": {
      "image/png": "[encoded data removed]",
      "text/plain": [
       "<Figure size 432x288 with 1 Axes>"
      ]
     },
     "metadata": {
      "needs_background": "light"
     },
     "output_type": "display_data"
    }
   ],
   "source": [
    "for e in merged_df_by_inc_type:\n",
    "    e[0].plot.scatter(x='rating', y='inc_count', title='Relationship between average park ratings and {} police calls'.format(title_map[e[1]]))\n",
    "    "
   ]
  },
  {
   "cell_type": "code",
   "execution_count": 112,
   "metadata": {},
   "outputs": [],
   "source": [
    "## Linear Regression"
   ]
  },
  {
   "cell_type": "markdown",
   "metadata": {},
   "source": [
    "To see if there is a correlation between average rating and incident count I used linear regression to draw a regression line for the three different types of Police Calls. "
   ]
  },
  {
   "cell_type": "code",
   "execution_count": 119,
   "metadata": {},
   "outputs": [
    {
     "name": "stdout",
     "output_type": "stream",
     "text": [
      "                            OLS Regression Results                            \n",
      "==============================================================================\n",
      "Dep. Variable:              inc_count   R-squared:                       0.000\n",
      "Model:                            OLS   Adj. R-squared:                 -0.003\n",
      "Method:                 Least Squares   F-statistic:                   0.05289\n",
      "Date:                Mon, 14 Dec 2020   Prob (F-statistic):              0.818\n",
      "Time:                        23:58:20   Log-Likelihood:                -1601.2\n",
      "No. Observations:                 374   AIC:                             3206.\n",
      "Df Residuals:                     372   BIC:                             3214.\n",
      "Df Model:                           1                                         \n",
      "Covariance Type:            nonrobust                                         \n",
      "==============================================================================\n",
      "                 coef    std err          t      P>|t|      [0.025      0.975]\n",
      "------------------------------------------------------------------------------\n",
      "Intercept      4.8189      4.713      1.023      0.307      -4.448      14.086\n",
      "rating         0.2665      1.159      0.230      0.818      -2.013       2.546\n",
      "==============================================================================\n",
      "Omnibus:                      432.133   Durbin-Watson:                   1.839\n",
      "Prob(Omnibus):                  0.000   Jarque-Bera (JB):            22142.904\n",
      "Skew:                           5.334   Prob(JB):                         0.00\n",
      "Kurtosis:                      39.154   Cond. No.                         22.3\n",
      "==============================================================================\n",
      "\n",
      "Warnings:\n",
      "[1] Standard Errors assume that the covariance matrix of the errors is correctly specified.\n",
      "                            OLS Regression Results                            \n",
      "==============================================================================\n",
      "Dep. Variable:              inc_count   R-squared:                       0.000\n",
      "Model:                            OLS   Adj. R-squared:                 -0.002\n",
      "Method:                 Least Squares   F-statistic:                    0.1659\n",
      "Date:                Mon, 14 Dec 2020   Prob (F-statistic):              0.684\n",
      "Time:                        23:58:20   Log-Likelihood:                -1087.9\n",
      "No. Observations:                 374   AIC:                             2180.\n",
      "Df Residuals:                     372   BIC:                             2188.\n",
      "Df Model:                           1                                         \n",
      "Covariance Type:            nonrobust                                         \n",
      "==============================================================================\n",
      "                 coef    std err          t      P>|t|      [0.025      0.975]\n",
      "------------------------------------------------------------------------------\n",
      "Intercept      2.0042      1.195      1.678      0.094      -0.345       4.353\n",
      "rating        -0.1197      0.294     -0.407      0.684      -0.697       0.458\n",
      "==============================================================================\n",
      "Omnibus:                      457.206   Durbin-Watson:                   1.966\n",
      "Prob(Omnibus):                  0.000   Jarque-Bera (JB):            29716.297\n",
      "Skew:                           5.774   Prob(JB):                         0.00\n",
      "Kurtosis:                      45.114   Cond. No.                         22.3\n",
      "==============================================================================\n",
      "\n",
      "Warnings:\n",
      "[1] Standard Errors assume that the covariance matrix of the errors is correctly specified.\n",
      "                            OLS Regression Results                            \n",
      "==============================================================================\n",
      "Dep. Variable:              inc_count   R-squared:                       0.000\n",
      "Model:                            OLS   Adj. R-squared:                 -0.003\n",
      "Method:                 Least Squares   F-statistic:                   0.02268\n",
      "Date:                Mon, 14 Dec 2020   Prob (F-statistic):              0.880\n",
      "Time:                        23:58:20   Log-Likelihood:                -919.83\n",
      "No. Observations:                 374   AIC:                             1844.\n",
      "Df Residuals:                     372   BIC:                             1852.\n",
      "Df Model:                           1                                         \n",
      "Covariance Type:            nonrobust                                         \n",
      "==============================================================================\n",
      "                 coef    std err          t      P>|t|      [0.025      0.975]\n",
      "------------------------------------------------------------------------------\n",
      "Intercept      0.2751      0.762      0.361      0.718      -1.224       1.774\n",
      "rating         0.0282      0.187      0.151      0.880      -0.340       0.397\n",
      "==============================================================================\n",
      "Omnibus:                      789.903   Durbin-Watson:                   1.892\n",
      "Prob(Omnibus):                  0.000   Jarque-Bera (JB):           999930.679\n",
      "Skew:                          14.949   Prob(JB):                         0.00\n",
      "Kurtosis:                     254.541   Cond. No.                         22.3\n",
      "==============================================================================\n",
      "\n",
      "Warnings:\n",
      "[1] Standard Errors assume that the covariance matrix of the errors is correctly specified.\n"
     ]
    }
   ],
   "source": [
    "title_map = {'245R': 'Assault', '1130': 'Manslaughter', '1016': 'Drug' }\n",
    "\n",
    "for e in merged_df_by_inc_type:\n",
    "    outcome, predictors = patsy.dmatrices('inc_count ~ rating', e[0])\n",
    "    mod = sm.OLS(outcome, predictors)\n",
    "    res = mod.fit()\n",
    "    print(res.summary())\n",
    "    "
   ]
  },
  {
   "cell_type": "code",
   "execution_count": 141,
   "metadata": {},
   "outputs": [
    {
     "data": {
      "image/png": "[encoded data removed]",
      "text/plain": [
       "<Figure size 432x288 with 1 Axes>"
      ]
     },
     "metadata": {
      "needs_background": "light"
     },
     "output_type": "display_data"
    }
   ],
   "source": [
    "sns.scatterplot(x='rating',y='inc_count', data=merged_df_by_inc_type[1][0])\n",
    "xs = np.arange(merged_df_by_inc_type[1][0]['rating'].min(), merged_df_by_inc_type[1][0]['rating'].max())\n",
    "ys = 0.2665 * xs + 4.8189 \n",
    "\n",
    "plt.plot(xs, ys, '--k', linewidth=4, label='Model')\n",
    "plt.xlabel('Average Park Rating by Area')\n",
    "plt.ylabel('Number of Incidents')\n",
    "inc_type = title_map[merged_df_by_inc_type[0][1]]\n",
    "plt.title('Regression between Average yelp park rating and {} incident count'.format(inc_type))\n",
    "plt.legend();\n"
   ]
  },
  {
   "cell_type": "code",
   "execution_count": 142,
   "metadata": {},
   "outputs": [
    {
     "data": {
      "image/png": "[encoded data removed]",
      "text/plain": [
       "<Figure size 432x288 with 1 Axes>"
      ]
     },
     "metadata": {
      "needs_background": "light"
     },
     "output_type": "display_data"
    }
   ],
   "source": [
    "sns.scatterplot(x='rating',y='inc_count', data=merged_df_by_inc_type[1][0])\n",
    "xs = np.arange(merged_df_by_inc_type[1][0]['rating'].min(), merged_df_by_inc_type[1][0]['rating'].max())\n",
    "ys = -0.1197 * xs + 2.0042 \n",
    "plt.plot(xs, ys, '--k', linewidth=4, label='Model')\n",
    "plt.xlabel('Average Park Rating by Area')\n",
    "plt.ylabel('Number of Incidents')\n",
    "inc_type = title_map[merged_df_by_inc_type[1][1]]\n",
    "plt.title('Regression between Average yelp park rating and {} incident count'.format(inc_type))\n",
    "plt.legend();\n"
   ]
  },
  {
   "cell_type": "code",
   "execution_count": 143,
   "metadata": {},
   "outputs": [
    {
     "data": {
      "image/png": "[encoded data removed]",
      "text/plain": [
       "<Figure size 432x288 with 1 Axes>"
      ]
     },
     "metadata": {
      "needs_background": "light"
     },
     "output_type": "display_data"
    }
   ],
   "source": [
    "sns.scatterplot(x='rating',y='inc_count', data=merged_df_by_inc_type[2][0])\n",
    "xs = np.arange(merged_df_by_inc_type[2][0]['rating'].min(), merged_df_by_inc_type[2][0]['rating'].max())\n",
    "ys = -0.1197 * xs + 2.0042 \n",
    "plt.plot(xs, ys, '--k', linewidth=4, label='Model')\n",
    "plt.xlabel('Average Park Rating by Area')\n",
    "plt.ylabel('Number of Incidents')\n",
    "inc_type = title_map[merged_df_by_inc_type[2][1]]\n",
    "plt.title('Regression between Average yelp park rating and {} incident count'.format(inc_type))\n",
    "plt.legend();"
   ]
  },
  {
   "cell_type": "markdown",
   "metadata": {},
   "source": [
    "# Ethics and Privacy \n",
    "Since this data was provided to me I had coplete permission to use this data for this prupose. \n",
    "\n",
    "There are no privacy concerns regarding the dataset because it is all public data that is anonomyzed. No persons name or personal information was given out in these data sets.\n",
    "\n",
    "There are potential biases in my dataset regarding certain communities. For example the data set might expose that some general area might have a higher crime-rate which might lead to biases of people wanting to go to those areas. A possible unintended consequence of this analysis could be a decrease in people wanting to go to parks in areas where there might be higher rates of crimes.\n"
   ]
  },
  {
   "cell_type": "markdown",
   "metadata": {},
   "source": [
    "# Conclusion and Discussion\n",
    "The question I had at the beginning of this project was whether or not parks with bad reviews and crime rates were related. In my analysis I used two data sets one that had data on review of parks in san diego and the other had police calls in 2020. I seperated the parks in the first data set by general location and then I had the average review for each general area. Then I merged the new dataframe with the average review with the number of police calls by area. I then used simple linear regression to determine if there was any correlation between the the average review and the incident count. For each of the types of incidents, Assault, Manslaughter, and Drugs I did not find any corerelation between the average park ratings and the number of incident count which supports my original hypothesis.\n",
    "\n",
    "One limitation to this project was that the data was used strictly in San Diego. These results might be wildly different depending on the geolocation of the city. Another limitation is that the review of parks might be skewed by the number of reviewers. For example a park that is really good might have a single person put a bad review and that might cause the data to not be accurate. Also I am not sure what the year of the reviews in the yelp dataset. But parks that recently opened up might not be as established as older parks depending on the year the park opened up. There are also limitations in the technique I used for analysis. I used simple linear regression but there might be other methods that are more accurate but I could not get to due to the time constraint.\n",
    "\n",
    "This project can potentially have many positive impacts on society. First it promotes park safety and attempts to get more people to use parks, this results in an overall healthier and happier population. It also allow for more parks to be built by disproving the idea that crime activity occur more often near parks."
   ]
  },
  {
   "cell_type": "code",
   "execution_count": null,
   "metadata": {},
   "outputs": [],
   "source": []
  }
 ],
 "metadata": {
  "kernelspec": {
   "display_name": "Python 3",
   "language": "python",
   "name": "python3"
  },
  "language_info": {
   "codemirror_mode": {
    "name": "ipython",
    "version": 3
   },
   "file_extension": ".py",
   "mimetype": "text/x-python",
   "name": "python",
   "nbconvert_exporter": "python",
   "pygments_lexer": "ipython3",
   "version": "3.7.6"
  }
 },
 "nbformat": 4,
 "nbformat_minor": 4
}
