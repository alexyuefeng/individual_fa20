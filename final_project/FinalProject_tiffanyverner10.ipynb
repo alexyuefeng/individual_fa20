{
 "cells": [
  {
   "cell_type": "markdown",
   "metadata": {},
   "source": [
    "# COGS 108 - Final Project "
   ]
  },
  {
   "cell_type": "markdown",
   "metadata": {},
   "source": [
    "# Overview"
   ]
  },
  {
   "cell_type": "markdown",
   "metadata": {},
   "source": [
    "The goal of this project is to identify if there is a relationship between the number of amenities a recreation center has and their associated Yelp rating. To perform my analysis, I used a dataset that contained Yelp ratings on parks in San Diego and a dataset on the recreation centers in the city. Using a single linear regression model, I found that there is a negative correlation between the number of amenities a recreation center offers and the Yelp rating. That is, as the number of amenities increases, the Yelp rating decreases."
   ]
  },
  {
   "cell_type": "markdown",
   "metadata": {},
   "source": [
    "# Name & GitHub\n",
    "\n",
    "- Name: Tiffany Verner\n",
    "- GitHub Username: tiffanyverner10"
   ]
  },
  {
   "cell_type": "markdown",
   "metadata": {},
   "source": [
    "# Research Question"
   ]
  },
  {
   "cell_type": "markdown",
   "metadata": {},
   "source": [
    "What is the relationship between Yelp ratings and the number of amenities that a San Diego recreation center offers?"
   ]
  },
  {
   "cell_type": "markdown",
   "metadata": {},
   "source": [
    "## Background and Prior Work"
   ]
  },
  {
   "cell_type": "markdown",
   "metadata": {},
   "source": [
    "Recreation centers have been offering activities to the City of San Diego since the 1940's. From children to teenagers all the way to senior citizens, these centers provide ways for the community to interact with each other and have fun. Each of San Diego's 57 centers offer a variety of amenities for the community to enjoy, such as racquetball courts for the sports lovers, and stages for the theater lovers (2).\n",
    "\n",
    "Yelp is a platform used by millions that publishes crowd-sourced reviews of various businesses, restaurants and outdoor activity locations. A search through Yelp yields an list of results ordered by the amount of reviews and how high the ratings are. When searching for things to do or places to eat, many people rely on Yelp to help make their decision. When determining which San Diego recreation center they would like to visit, community members can perform a quick Yelp search that will provide a list of the top 10 recreation centers (1). The ratings and commentary left by fellow members of the community are likely to have some sort of influence on their decision of which center they would like to visit.\n",
    "\n",
    "References (include links):\n",
    "- 1) https://www.yelp.com/search?cflt=recreation&find_loc=San+Diego%2C+CA\n",
    "- 2) https://www.sandiego.gov/park-and-recreation/centers"
   ]
  },
  {
   "cell_type": "markdown",
   "metadata": {},
   "source": [
    "# Hypothesis\n"
   ]
  },
  {
   "cell_type": "markdown",
   "metadata": {},
   "source": [
    "I hypothesize that the recreation centers that have a larger number of amenities will have higher Yelp reviews than the centers that don't have as many amenities. The more that the rec center is able to offer to the community, I imagine the happier the community will be, which in turn will result to higher Yelp reviews."
   ]
  },
  {
   "cell_type": "markdown",
   "metadata": {},
   "source": [
    "# Datasets"
   ]
  },
  {
   "cell_type": "markdown",
   "metadata": {},
   "source": [
    "### Dataset #1\n",
    "- Dataset Name: yelp_sd_parks.csv\n",
    "- Link to the dataset: N/A\n",
    "- Number of observations: 834\n",
    "\n",
    "This dataset provides the Yelp information of various parks in San Diego. The Yelp information includes the rating, number of reviews, the park's address and more.   \n",
    "### Dataset #2\n",
    "- Dataset Name: rec_centers_datasd.geojson\n",
    "- Link to the dataset: N/A\n",
    "- Number of observations: 57\n",
    "\n",
    "This dataset provides information on the recreation centers that are in San Diego. The information includes the center's addres, size in square feet, the community it is in, as well as boolean values representing whether the park has various amenities. Some of these amenities are a kitchen, weight room, tiny tots room, teen center, and more.\n",
    "\n",
    "In order to complete my analysis on the potential relationship between Yelp ratings and recreation centers, I plan to merge these datasets by the park name. Combining these datasets into one will allow me to create a linear regression model which I will use to examine the effect various predictors have on a Yelp rating."
   ]
  },
  {
   "cell_type": "markdown",
   "metadata": {},
   "source": [
    "# Setup"
   ]
  },
  {
   "cell_type": "code",
   "execution_count": 1,
   "metadata": {},
   "outputs": [
    {
     "name": "stderr",
     "output_type": "stream",
     "text": [
      "/home/tverner/.local/lib/python3.7/site-packages/geopandas/_compat.py:88: UserWarning: The Shapely GEOS version (3.8.0-CAPI-1.13.1 ) is incompatible with the GEOS version PyGEOS was compiled with (3.8.1-CAPI-1.13.3). Conversions between both will be slow.\n",
      "  shapely_geos_version, geos_capi_version_string\n"
     ]
    }
   ],
   "source": [
    "import pandas as pd\n",
    "import numpy as np\n",
    "import geopandas as gpd\n",
    "\n",
    "import seaborn as sns\n",
    "import matplotlib\n",
    "import matplotlib.pyplot as plt\n",
    "\n",
    "# Statmodels & patsy\n",
    "import patsy\n",
    "import statsmodels.api as sm\n",
    "\n",
    "#ignore warnings\n",
    "import warnings\n",
    "warnings.filterwarnings('ignore')"
   ]
  },
  {
   "cell_type": "markdown",
   "metadata": {},
   "source": [
    "# Data Cleaning"
   ]
  },
  {
   "cell_type": "code",
   "execution_count": 2,
   "metadata": {},
   "outputs": [],
   "source": [
    "#load the datasets that will be used for analysis\n",
    "yelp = pd.read_csv('/home/tverner/individual_fa20/data/yelp_SD_parks.csv')\n",
    "rec_centers = gpd.read_file('/home/tverner/individual_fa20/data/rec_centers_datasd.geojson')"
   ]
  },
  {
   "cell_type": "markdown",
   "metadata": {},
   "source": [
    "### Narrowing Down the Data\n",
    "I began the process of narrowing down the data to only include what I need by merging the two datasets. Doing this first allows me to only have to remove unnecessary columns from one dataset instead of two. I merged the two datasets into one dataframe labeled df based off the park name. Afterwards, I removed all of the unnecessary columns from df."
   ]
  },
  {
   "cell_type": "code",
   "execution_count": 3,
   "metadata": {
    "scrolled": true
   },
   "outputs": [],
   "source": [
    "#merge the dataframes based on the park name\n",
    "df = pd.merge(yelp, rec_centers, how='inner', left_on='name', right_on='park_name')"
   ]
  },
  {
   "cell_type": "code",
   "execution_count": 4,
   "metadata": {},
   "outputs": [],
   "source": [
    "#remove unnecessary columns from df\n",
    "df.drop(columns={'phone', 'id', 'park_name', 'url', 'longitude', 'year_built','latitude', 'is_closed', \n",
    "                 'geometry', 'thomas_bro', 'facility_n', 'zip', 'objectid', 'name', 'community', \n",
    "                 'address_x', 'address_y', 'serv_dist', 'current_cd', 'comfort_st','fy13_cd'}, inplace=True)"
   ]
  },
  {
   "cell_type": "markdown",
   "metadata": {},
   "source": [
    "To simplify my dataframe and perform my analysis, I'm going to create a column that is a sum of the ammendities that each recreation center offers. The values in this column are going to be used along with the ratings in my regression model."
   ]
  },
  {
   "cell_type": "code",
   "execution_count": 5,
   "metadata": {},
   "outputs": [],
   "source": [
    "df['num_amenities'] = df.iloc[:,8:23].sum(axis=1)"
   ]
  },
  {
   "cell_type": "markdown",
   "metadata": {},
   "source": [
    "Finally, to ensure that this dataset is easy to understand and read, I'm going to change the titles of the columns. The majority of these columns that I am renaming represent the various amenities that are available at the recreation centers. If these columns have a '1' value in their rows, this means the associated recreation center offers that amenity. For example, as the dataset indicates below, the Linda Vista Rec Center has 1 kitchen and 3 multipurpose rooms. "
   ]
  },
  {
   "cell_type": "code",
   "execution_count": 6,
   "metadata": {},
   "outputs": [
    {
     "data": {
      "text/html": [
       "<div>\n",
       "<style scoped>\n",
       "    .dataframe tbody tr th:only-of-type {\n",
       "        vertical-align: middle;\n",
       "    }\n",
       "\n",
       "    .dataframe tbody tr th {\n",
       "        vertical-align: top;\n",
       "    }\n",
       "\n",
       "    .dataframe thead th {\n",
       "        text-align: right;\n",
       "    }\n",
       "</style>\n",
       "<table border=\"1\" class=\"dataframe\">\n",
       "  <thead>\n",
       "    <tr style=\"text-align: right;\">\n",
       "      <th></th>\n",
       "      <th>rating</th>\n",
       "      <th>num reviews</th>\n",
       "      <th>rec center</th>\n",
       "      <th>sq_ft</th>\n",
       "      <th>adult center</th>\n",
       "      <th>comp room</th>\n",
       "      <th>dance room</th>\n",
       "      <th>game room</th>\n",
       "      <th>gymnasium</th>\n",
       "      <th>kiln</th>\n",
       "      <th>kiln room</th>\n",
       "      <th>kitchen</th>\n",
       "      <th>multipurpose room</th>\n",
       "      <th>racquetball court</th>\n",
       "      <th>theater stage</th>\n",
       "      <th>teen center</th>\n",
       "      <th>tiny tot room</th>\n",
       "      <th>weight room</th>\n",
       "      <th>num_amenities</th>\n",
       "    </tr>\n",
       "  </thead>\n",
       "  <tbody>\n",
       "    <tr>\n",
       "      <th>0</th>\n",
       "      <td>5.0</td>\n",
       "      <td>2105</td>\n",
       "      <td>Municipal Gymnasium</td>\n",
       "      <td>24100</td>\n",
       "      <td>0</td>\n",
       "      <td>0</td>\n",
       "      <td>0</td>\n",
       "      <td>0</td>\n",
       "      <td>1</td>\n",
       "      <td>0</td>\n",
       "      <td>0</td>\n",
       "      <td>0</td>\n",
       "      <td>0</td>\n",
       "      <td>0</td>\n",
       "      <td>0</td>\n",
       "      <td>0</td>\n",
       "      <td>0</td>\n",
       "      <td>0</td>\n",
       "      <td>1</td>\n",
       "    </tr>\n",
       "    <tr>\n",
       "      <th>1</th>\n",
       "      <td>5.0</td>\n",
       "      <td>2105</td>\n",
       "      <td>Golden Hills Rec Center</td>\n",
       "      <td>10040</td>\n",
       "      <td>1</td>\n",
       "      <td>0</td>\n",
       "      <td>1</td>\n",
       "      <td>1</td>\n",
       "      <td>1</td>\n",
       "      <td>1</td>\n",
       "      <td>1</td>\n",
       "      <td>1</td>\n",
       "      <td>3</td>\n",
       "      <td>0</td>\n",
       "      <td>0</td>\n",
       "      <td>1</td>\n",
       "      <td>0</td>\n",
       "      <td>0</td>\n",
       "      <td>8</td>\n",
       "    </tr>\n",
       "    <tr>\n",
       "      <th>2</th>\n",
       "      <td>5.0</td>\n",
       "      <td>2105</td>\n",
       "      <td>Balboa Park Activity Center</td>\n",
       "      <td>37970</td>\n",
       "      <td>0</td>\n",
       "      <td>0</td>\n",
       "      <td>0</td>\n",
       "      <td>0</td>\n",
       "      <td>1</td>\n",
       "      <td>0</td>\n",
       "      <td>0</td>\n",
       "      <td>0</td>\n",
       "      <td>1</td>\n",
       "      <td>0</td>\n",
       "      <td>0</td>\n",
       "      <td>0</td>\n",
       "      <td>0</td>\n",
       "      <td>0</td>\n",
       "      <td>2</td>\n",
       "    </tr>\n",
       "    <tr>\n",
       "      <th>3</th>\n",
       "      <td>4.0</td>\n",
       "      <td>5</td>\n",
       "      <td>Linda Vista Rec Center</td>\n",
       "      <td>13710</td>\n",
       "      <td>0</td>\n",
       "      <td>0</td>\n",
       "      <td>0</td>\n",
       "      <td>0</td>\n",
       "      <td>1</td>\n",
       "      <td>0</td>\n",
       "      <td>0</td>\n",
       "      <td>1</td>\n",
       "      <td>3</td>\n",
       "      <td>0</td>\n",
       "      <td>0</td>\n",
       "      <td>0</td>\n",
       "      <td>0</td>\n",
       "      <td>1</td>\n",
       "      <td>6</td>\n",
       "    </tr>\n",
       "    <tr>\n",
       "      <th>4</th>\n",
       "      <td>4.5</td>\n",
       "      <td>18</td>\n",
       "      <td>Allied Gardens Rec Center</td>\n",
       "      <td>9190</td>\n",
       "      <td>0</td>\n",
       "      <td>0</td>\n",
       "      <td>0</td>\n",
       "      <td>1</td>\n",
       "      <td>1</td>\n",
       "      <td>1</td>\n",
       "      <td>1</td>\n",
       "      <td>1</td>\n",
       "      <td>3</td>\n",
       "      <td>0</td>\n",
       "      <td>0</td>\n",
       "      <td>0</td>\n",
       "      <td>0</td>\n",
       "      <td>0</td>\n",
       "      <td>7</td>\n",
       "    </tr>\n",
       "    <tr>\n",
       "      <th>5</th>\n",
       "      <td>4.0</td>\n",
       "      <td>21</td>\n",
       "      <td>Gil Johnson Mira Mesa Rec Center</td>\n",
       "      <td>10810</td>\n",
       "      <td>0</td>\n",
       "      <td>0</td>\n",
       "      <td>0</td>\n",
       "      <td>0</td>\n",
       "      <td>1</td>\n",
       "      <td>1</td>\n",
       "      <td>1</td>\n",
       "      <td>1</td>\n",
       "      <td>3</td>\n",
       "      <td>0</td>\n",
       "      <td>0</td>\n",
       "      <td>0</td>\n",
       "      <td>0</td>\n",
       "      <td>0</td>\n",
       "      <td>7</td>\n",
       "    </tr>\n",
       "    <tr>\n",
       "      <th>6</th>\n",
       "      <td>3.0</td>\n",
       "      <td>37</td>\n",
       "      <td>North Park Rec Center</td>\n",
       "      <td>11230</td>\n",
       "      <td>1</td>\n",
       "      <td>0</td>\n",
       "      <td>1</td>\n",
       "      <td>1</td>\n",
       "      <td>1</td>\n",
       "      <td>1</td>\n",
       "      <td>1</td>\n",
       "      <td>1</td>\n",
       "      <td>3</td>\n",
       "      <td>0</td>\n",
       "      <td>0</td>\n",
       "      <td>1</td>\n",
       "      <td>1</td>\n",
       "      <td>0</td>\n",
       "      <td>9</td>\n",
       "    </tr>\n",
       "    <tr>\n",
       "      <th>7</th>\n",
       "      <td>4.5</td>\n",
       "      <td>7</td>\n",
       "      <td>Canyonside Rec Center</td>\n",
       "      <td>15560</td>\n",
       "      <td>0</td>\n",
       "      <td>0</td>\n",
       "      <td>0</td>\n",
       "      <td>1</td>\n",
       "      <td>1</td>\n",
       "      <td>0</td>\n",
       "      <td>0</td>\n",
       "      <td>0</td>\n",
       "      <td>2</td>\n",
       "      <td>0</td>\n",
       "      <td>0</td>\n",
       "      <td>0</td>\n",
       "      <td>0</td>\n",
       "      <td>0</td>\n",
       "      <td>3</td>\n",
       "    </tr>\n",
       "    <tr>\n",
       "      <th>8</th>\n",
       "      <td>5.0</td>\n",
       "      <td>4</td>\n",
       "      <td>Silver Wing Rec Center</td>\n",
       "      <td>2030</td>\n",
       "      <td>0</td>\n",
       "      <td>0</td>\n",
       "      <td>0</td>\n",
       "      <td>0</td>\n",
       "      <td>0</td>\n",
       "      <td>0</td>\n",
       "      <td>0</td>\n",
       "      <td>1</td>\n",
       "      <td>1</td>\n",
       "      <td>0</td>\n",
       "      <td>0</td>\n",
       "      <td>1</td>\n",
       "      <td>0</td>\n",
       "      <td>0</td>\n",
       "      <td>3</td>\n",
       "    </tr>\n",
       "    <tr>\n",
       "      <th>9</th>\n",
       "      <td>4.0</td>\n",
       "      <td>4</td>\n",
       "      <td>Mountain View Rec Center</td>\n",
       "      <td>18100</td>\n",
       "      <td>0</td>\n",
       "      <td>1</td>\n",
       "      <td>1</td>\n",
       "      <td>0</td>\n",
       "      <td>1</td>\n",
       "      <td>1</td>\n",
       "      <td>1</td>\n",
       "      <td>1</td>\n",
       "      <td>3</td>\n",
       "      <td>0</td>\n",
       "      <td>1</td>\n",
       "      <td>1</td>\n",
       "      <td>0</td>\n",
       "      <td>1</td>\n",
       "      <td>10</td>\n",
       "    </tr>\n",
       "  </tbody>\n",
       "</table>\n",
       "</div>"
      ],
      "text/plain": [
       "   rating  num reviews                        rec center  sq_ft  adult center  \\\n",
       "0     5.0         2105               Municipal Gymnasium  24100             0   \n",
       "1     5.0         2105           Golden Hills Rec Center  10040             1   \n",
       "2     5.0         2105       Balboa Park Activity Center  37970             0   \n",
       "3     4.0            5            Linda Vista Rec Center  13710             0   \n",
       "4     4.5           18         Allied Gardens Rec Center   9190             0   \n",
       "5     4.0           21  Gil Johnson Mira Mesa Rec Center  10810             0   \n",
       "6     3.0           37             North Park Rec Center  11230             1   \n",
       "7     4.5            7             Canyonside Rec Center  15560             0   \n",
       "8     5.0            4            Silver Wing Rec Center   2030             0   \n",
       "9     4.0            4          Mountain View Rec Center  18100             0   \n",
       "\n",
       "   comp room  dance room  game room  gymnasium  kiln  kiln room  kitchen  \\\n",
       "0          0           0          0          1     0          0        0   \n",
       "1          0           1          1          1     1          1        1   \n",
       "2          0           0          0          1     0          0        0   \n",
       "3          0           0          0          1     0          0        1   \n",
       "4          0           0          1          1     1          1        1   \n",
       "5          0           0          0          1     1          1        1   \n",
       "6          0           1          1          1     1          1        1   \n",
       "7          0           0          1          1     0          0        0   \n",
       "8          0           0          0          0     0          0        1   \n",
       "9          1           1          0          1     1          1        1   \n",
       "\n",
       "   multipurpose room  racquetball court  theater stage  teen center  \\\n",
       "0                  0                  0              0            0   \n",
       "1                  3                  0              0            1   \n",
       "2                  1                  0              0            0   \n",
       "3                  3                  0              0            0   \n",
       "4                  3                  0              0            0   \n",
       "5                  3                  0              0            0   \n",
       "6                  3                  0              0            1   \n",
       "7                  2                  0              0            0   \n",
       "8                  1                  0              0            1   \n",
       "9                  3                  0              1            1   \n",
       "\n",
       "   tiny tot room  weight room  num_amenities  \n",
       "0              0            0              1  \n",
       "1              0            0              8  \n",
       "2              0            0              2  \n",
       "3              0            1              6  \n",
       "4              0            0              7  \n",
       "5              0            0              7  \n",
       "6              1            0              9  \n",
       "7              0            0              3  \n",
       "8              0            0              3  \n",
       "9              0            1             10  "
      ]
     },
     "execution_count": 6,
     "metadata": {},
     "output_type": "execute_result"
    }
   ],
   "source": [
    "df.rename(columns={'review_count':'num reviews'}, inplace=True)\n",
    "df.rename(columns={'park_name':'park name'}, inplace=True)\n",
    "df.rename(columns={'teen_ctr':'teen center'}, inplace=True)\n",
    "df.rename(columns={'stage':'theater stage'}, inplace=True)\n",
    "df.rename(columns={'dance_rm':'dance room'}, inplace=True)\n",
    "df.rename(columns={'adult_ctr':'adult center'}, inplace=True)\n",
    "df.rename(columns={'multp_rm':'multipurpose room'}, inplace=True)\n",
    "df.rename(columns={'tinytot_rm':'tiny tot room'}, inplace=True)\n",
    "df.rename(columns={'weight_rm':'weight room'}, inplace=True)\n",
    "df.rename(columns={'racqb_ct':'racquetball court'}, inplace=True)\n",
    "df.rename(columns={'rec_bldg':'rec center'}, inplace=True)\n",
    "df.rename(columns={'kiln_rm':'kiln room'}, inplace=True)\n",
    "df.rename(columns={'game_rm':'game room'}, inplace=True)\n",
    "df.rename(columns={'comp_rm':'comp room'}, inplace=True)\n",
    "df"
   ]
  },
  {
   "cell_type": "markdown",
   "metadata": {},
   "source": [
    "# Data Analysis & Results"
   ]
  },
  {
   "cell_type": "markdown",
   "metadata": {},
   "source": [
    "First, let's look at the distribution of the ratings of these parks and the number of amenities each recreation center offers. This will help me identify any potential outliers."
   ]
  },
  {
   "cell_type": "code",
   "execution_count": 7,
   "metadata": {},
   "outputs": [
    {
     "data": {
      "image/png": "[encoded data removed]",
      "text/plain": [
       "<Figure size 432x288 with 1 Axes>"
      ]
     },
     "metadata": {
      "needs_background": "light"
     },
     "output_type": "display_data"
    }
   ],
   "source": [
    "ax = sns.countplot(df['rating']);\n",
    "ax.set_ylabel('Frequency of Rating')\n",
    "ax.set_xlabel('Yelp Rating');"
   ]
  },
  {
   "cell_type": "markdown",
   "metadata": {},
   "source": [
    "Figure #1: There does not seem to be any outliers, and the ratings for the parks are all within 3.0 - 5.0\n",
    "\n",
    "Let's see the number of amenities the various recreation center offers."
   ]
  },
  {
   "cell_type": "code",
   "execution_count": 8,
   "metadata": {
    "scrolled": true
   },
   "outputs": [
    {
     "data": {
      "image/png": "[encoded data removed]",
      "text/plain": [
       "<Figure size 432x288 with 1 Axes>"
      ]
     },
     "metadata": {
      "needs_background": "light"
     },
     "output_type": "display_data"
    }
   ],
   "source": [
    "ax = sns.countplot(df['num_amenities']);\n",
    "ax.set_ylabel('Rec Centers with Amenities')\n",
    "ax.set_xlabel('Number of Amenities');"
   ]
  },
  {
   "cell_type": "markdown",
   "metadata": {},
   "source": [
    "Figure #2: Again there aren't any outliers. Interestingly, each recreation center has offers a different number of amenities, except for two.\n",
    "\n",
    "Now, let's plot the number of amenities versus the Yelp rating."
   ]
  },
  {
   "cell_type": "code",
   "execution_count": 9,
   "metadata": {},
   "outputs": [
    {
     "data": {
      "image/png": "[encoded data removed]",
      "text/plain": [
       "<Figure size 432x288 with 1 Axes>"
      ]
     },
     "metadata": {
      "needs_background": "light"
     },
     "output_type": "display_data"
    }
   ],
   "source": [
    "sns.scatterplot(x='num_amenities', y='rating', data=df, s=100)\n",
    "plt.xlabel('Number of Amenities')\n",
    "plt.ylabel('Yelp Rating');"
   ]
  },
  {
   "cell_type": "markdown",
   "metadata": {},
   "source": [
    "Figure #3: It looks like there might be a slight negative correlation suggesting that as the number of amenities increases, the Yelp reviews decrease.\n",
    "\n",
    "To get a better understanding of the relationship between these two variables, I am going to use a single linear regression model."
   ]
  },
  {
   "cell_type": "code",
   "execution_count": 10,
   "metadata": {},
   "outputs": [
    {
     "name": "stdout",
     "output_type": "stream",
     "text": [
      "                            OLS Regression Results                            \n",
      "==============================================================================\n",
      "Dep. Variable:                 rating   R-squared:                       0.446\n",
      "Model:                            OLS   Adj. R-squared:                  0.377\n",
      "Method:                 Least Squares   F-statistic:                     6.440\n",
      "Date:                Mon, 14 Dec 2020   Prob (F-statistic):             0.0348\n",
      "Time:                        17:22:40   Log-Likelihood:                -6.5285\n",
      "No. Observations:                  10   AIC:                             17.06\n",
      "Df Residuals:                       8   BIC:                             17.66\n",
      "Df Model:                           1                                         \n",
      "Covariance Type:            nonrobust                                         \n",
      "=================================================================================\n",
      "                    coef    std err          t      P>|t|      [0.025      0.975]\n",
      "---------------------------------------------------------------------------------\n",
      "Intercept         5.1855      0.350     14.797      0.000       4.377       5.994\n",
      "num_amenities    -0.1403      0.055     -2.538      0.035      -0.268      -0.013\n",
      "==============================================================================\n",
      "Omnibus:                        1.319   Durbin-Watson:                   1.725\n",
      "Prob(Omnibus):                  0.517   Jarque-Bera (JB):                0.032\n",
      "Skew:                           0.018   Prob(JB):                        0.984\n",
      "Kurtosis:                       3.276   Cond. No.                         13.8\n",
      "==============================================================================\n",
      "\n",
      "Warnings:\n",
      "[1] Standard Errors assume that the covariance matrix of the errors is correctly specified.\n"
     ]
    }
   ],
   "source": [
    "#predict ratings from num_amenities\n",
    "outcome, predictors = patsy.dmatrices('rating ~ num_amenities', df)\n",
    "mod = sm.OLS(outcome, predictors)\n",
    "res = mod.fit()\n",
    "\n",
    "print(res.summary())"
   ]
  },
  {
   "cell_type": "markdown",
   "metadata": {},
   "source": [
    "There are a few things that the model above indicates.\n",
    "\n",
    "If the number of amenities at the recreation center was 0, then the Yelp rating would be 5.1855. Since Yelp reviews are on a scale of 1.0 - 5.0, this makes me wonder if there were some outliers or unexpected data in my dataset. For every amenity that gets added to a recreation center, there is a -0.14 decrease in the Yelp rating. This contradicts my initial hypothesis that an increase an amenities would have an increase in the Yelp rating.\n",
    "\n",
    "The p-value associated with the num_amenities value is 0.035. For my analysis, I have decided to have my alpha level be 0.05. This means that since my p-value is 0.035, this value is statistically significant. "
   ]
  },
  {
   "cell_type": "code",
   "execution_count": 11,
   "metadata": {},
   "outputs": [
    {
     "data": {
      "image/png": "[encoded data removed]",
      "text/plain": [
       "<Figure size 432x288 with 1 Axes>"
      ]
     },
     "metadata": {
      "needs_background": "light"
     },
     "output_type": "display_data"
    }
   ],
   "source": [
    "#Plot the orginal data (as before)\n",
    "sns.scatterplot(x='num_amenities', y='rating', alpha=0.3, data=df, s=100, label='Data')\n",
    "\n",
    "# Generate and plot the model fit line\n",
    "xs = np.arange(df['num_amenities'].min(), df['num_amenities'].max())\n",
    "ys = -0.07 * xs + 5.16\n",
    "plt.plot(xs, ys, '--k', linewidth=4, label='Model')\n",
    "\n",
    "plt.xlabel('Number of Amenities')\n",
    "plt.ylabel('Yelp Rating')\n",
    "plt.legend();"
   ]
  },
  {
   "cell_type": "markdown",
   "metadata": {},
   "source": [
    "Figure #4: The graph above illustrates the model I just ran. As we can see from the dotted line, there is a slight decrease in the Yelp rating as the rec center has more amenities. \n",
    "\n",
    "To get another look at the data, I decided to add another predictor variable: the size of the park in square feet. I want to note that these size values come from the recreation center dataset, but it was not made explicitly clear whether these values represent the size of the park or the recreation center. For the rest of my analysis, I am going to assume that this variable represents the size of the entire park which includes the recreation center. I decided to include this size predictor in my analysis because a larger sized park and a recreation center can influence a user's Yelp rating, as a larger park implies more space for activities and people."
   ]
  },
  {
   "cell_type": "code",
   "execution_count": 12,
   "metadata": {},
   "outputs": [
    {
     "data": {
      "image/png": "[encoded data removed]",
      "text/plain": [
       "<Figure size 432x288 with 1 Axes>"
      ]
     },
     "metadata": {
      "needs_background": "light"
     },
     "output_type": "display_data"
    }
   ],
   "source": [
    "ax = sns.distplot(df['sq_ft'], kde=False)\n",
    "ax.set_xlabel('Park Size (sq ft)')\n",
    "ax.set_ylabel('Number of Rec Centers');"
   ]
  },
  {
   "cell_type": "markdown",
   "metadata": {},
   "source": [
    "Figure #5: The majority of the parks in this dataset are around 10,000 - 15,000 square feet big. There is one larger park that is around 35,000 feet. I ran a test OLS model to determine if this 35,000 value was an outlier that had a significant effect on the results of the model. The results were fairly the same with/without this value, so I decided to leave it in my dataset for the multiple linear regression model that I will perform below. "
   ]
  },
  {
   "cell_type": "code",
   "execution_count": 13,
   "metadata": {},
   "outputs": [
    {
     "data": {
      "image/png": "[encoded data removed]",
      "text/plain": [
       "<Figure size 432x288 with 1 Axes>"
      ]
     },
     "metadata": {
      "needs_background": "light"
     },
     "output_type": "display_data"
    }
   ],
   "source": [
    "#plot num_amenities vs. sq_ft\n",
    "sns.scatterplot(x='num_amenities', y='sq_ft', data=df, s=100)\n",
    "plt.xlabel('Number of Amenities')\n",
    "plt.ylabel('Size of Park (sq. ft)');"
   ]
  },
  {
   "cell_type": "markdown",
   "metadata": {},
   "source": [
    "Figure # 6: Above is a scatterplot illustrating the number of amenities of a recreation center and the size of park.\n",
    "Oddly enough, the two largest parks have the least amount of amenities in their rec centers. To get a better idea of how these predictors effect a Yelp rating, I will use a multiple linear regression model."
   ]
  },
  {
   "cell_type": "code",
   "execution_count": 14,
   "metadata": {},
   "outputs": [
    {
     "name": "stdout",
     "output_type": "stream",
     "text": [
      "                            OLS Regression Results                            \n",
      "==============================================================================\n",
      "Dep. Variable:                 rating   R-squared:                       0.448\n",
      "Model:                            OLS   Adj. R-squared:                  0.290\n",
      "Method:                 Least Squares   F-statistic:                     2.840\n",
      "Date:                Mon, 14 Dec 2020   Prob (F-statistic):              0.125\n",
      "Time:                        17:22:46   Log-Likelihood:                -6.5108\n",
      "No. Observations:                  10   AIC:                             19.02\n",
      "Df Residuals:                       7   BIC:                             19.93\n",
      "Df Model:                           2                                         \n",
      "Covariance Type:            nonrobust                                         \n",
      "=================================================================================\n",
      "                    coef    std err          t      P>|t|      [0.025      0.975]\n",
      "---------------------------------------------------------------------------------\n",
      "Intercept         5.2594      0.600      8.765      0.000       3.840       6.678\n",
      "num_amenities    -0.1446      0.065     -2.222      0.062      -0.299       0.009\n",
      "sq_ft         -3.249e-06   2.06e-05     -0.157      0.879    -5.2e-05    4.55e-05\n",
      "==============================================================================\n",
      "Omnibus:                        1.246   Durbin-Watson:                   1.655\n",
      "Prob(Omnibus):                  0.536   Jarque-Bera (JB):                0.025\n",
      "Skew:                          -0.003   Prob(JB):                        0.988\n",
      "Kurtosis:                       3.243   Cond. No.                     6.16e+04\n",
      "==============================================================================\n",
      "\n",
      "Warnings:\n",
      "[1] Standard Errors assume that the covariance matrix of the errors is correctly specified.\n",
      "[2] The condition number is large, 6.16e+04. This might indicate that there are\n",
      "strong multicollinearity or other numerical problems.\n"
     ]
    }
   ],
   "source": [
    "#predict ratings from num_amenities and sq_ft\n",
    "outcome_2, predictors_2 = patsy.dmatrices('rating ~ num_amenities + sq_ft', df)\n",
    "model_2 = sm.OLS(outcome_2, predictors_2)\n",
    "results_2 = model_2.fit()\n",
    "\n",
    "print(results_2.summary())"
   ]
  },
  {
   "cell_type": "markdown",
   "metadata": {},
   "source": [
    "Holding the sq_ft variable constant, there is a still -0.14 decrease in Yelp ratings for every 1 unit increase in num_amenities. The coefficient of the sq_ft variable is extremely small to the point where it can be removed from my interpretation of this model. Additionally, the p-value of the sq_ft variable is not significant, so it seems like this multiple linear regression model doesn't explain the variance better than the single linear regression model above."
   ]
  },
  {
   "cell_type": "markdown",
   "metadata": {},
   "source": [
    "# Ethics & Privacy"
   ]
  },
  {
   "cell_type": "markdown",
   "metadata": {},
   "source": [
    "The datasets that I used for this analysis were provided for me. Information on the parks and recreation centers of San Diego are public information that can be found on the San Diego government website. The information from the Yelp dataset, which I presume was taken directly from the Yelp website, is also public knowledge and accessible to anyone via Yelp's website. Both of my datasets did not contain information of any human individuals so I did not have to be concerned about anyone's privacy while conducting my analysis. A potential area of concern could have been of privacy of the individuals that are making the Yelp reviews. However, my dataset was more focused on the overall Yelp rating that results from peoples' reviews instead of the reviews themselves, and thus the individual reviews were not part of the dataset.\n",
    "\n",
    "The use of Yelp information in my analysis means that there is a huge amount of potential bias. Each review that is placed on Yelp is biased in its own way and not representative of a whole population. Many people have positive and negative experiences that may influence a business' Yelp rating but they do not write a review. Since I decided to use Yelp in this project, it is crucial for me to note that the biases that Yelp data propose are unavoidable but also potentially influential on the data. From my understanding, since the biased data is necessary for my analysis, the best way for me to handle this issue is by making it clear that I'm aware of the biases and acknowledging that my results may not be entirely accurate."
   ]
  },
  {
   "cell_type": "markdown",
   "metadata": {},
   "source": [
    "# Conclusion & Discussion"
   ]
  },
  {
   "cell_type": "markdown",
   "metadata": {},
   "source": [
    "In this project I set out to examine if there is a relationship between the number of amenities a recreation center has and the Yelp rating associated with the center. I began this process by merging the Yelp dataset with the recreation center dataset and removing all of the unnecessary data. Once my data was clean and easy to read, I started my analysis by looking at the distributions of the variables of interest and looking to see if there were interesting patterns. From there, I used a single linear regression model to create a line of best fit to help me visualize the correlation between the number of amenities and the Yelp rating. The results of this model contradicted my initial hypothesis and suggested that as the number of amenities of a recreation center increases, the Yelp reviews decrease.\n",
    "I decided to create a second linear regression model using a second predictor variable: the size of the park in square feet. My goal was to determine what effect the number of amenities combined with the size of the park had on the Yelp rating of the park. The results from the multiple linear regression model I ran indicated that the addition of the size variable did not have a significant effect on the the Yelp rating variable.\n",
    "\n",
    "There were quite a few limitations to my analysis. First, there were not nearly as many points in my dataset as I would have liked. Having a small amount of data points to work with means that each quality of the data point can have a significant impact on the entire dataset. Additionally, since the dataset was given to me, I feel like I did not have a complete understanding of the values in it. There were some columns where I did not understand what the header meant, even with researching on the San Diego parks and recreation website. Since I did not have a full understanding of the dataset, it is likely that I could have removed some columns that actually would have been useful for my analysis.\n",
    "\n",
    "The results of this project could potentially be used by the parks and recreation officials of San Diego. One interpretation of these results could be that the more amenities a recreation center has, the more poorly the recreation center is taken care of because the staff is spread more thin. This could explain the lower Yelp reviews, and therefore this can suggest to the San Diego officials that there needs to be more attention placed on the recreation centers with more amenities. "
   ]
  }
 ],
 "metadata": {
  "kernelspec": {
   "display_name": "Python 3",
   "language": "python",
   "name": "python3"
  },
  "language_info": {
   "codemirror_mode": {
    "name": "ipython",
    "version": 3
   },
   "file_extension": ".py",
   "mimetype": "text/x-python",
   "name": "python",
   "nbconvert_exporter": "python",
   "pygments_lexer": "ipython3",
   "version": "3.7.6"
  }
 },
 "nbformat": 4,
 "nbformat_minor": 2
}
