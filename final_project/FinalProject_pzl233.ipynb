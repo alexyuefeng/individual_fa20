{
 "cells": [
  {
   "cell_type": "markdown",
   "metadata": {},
   "source": [
    "# COGS 108 - Final Project"
   ]
  },
  {
   "cell_type": "markdown",
   "metadata": {},
   "source": [
    "\n",
    "# Names & GitHub ID\n",
    "- Name: Zhuoliang Pu <br>\n",
    "- GitHub Username: pzl233"
   ]
  },
  {
   "cell_type": "markdown",
   "metadata": {},
   "source": [
    "# Overview"
   ]
  },
  {
   "cell_type": "markdown",
   "metadata": {},
   "source": [
    "In this project, I intended to identify the relationship between the average yelp ratings for parks and the number of urgent police calls of different areas of San Diego. I looked at a dataset of police call records and yelp reviews for parks located in San Diego. From this analysis, I found a negative correlation of only reference value between the average yelp scores for parks and the number of urgent police calls in differernt areas of San Diego. The data seems to suggest that higher average yelp ratings are correlated with a lower number of urgent police calls."
   ]
  },
  {
   "cell_type": "markdown",
   "metadata": {},
   "source": [
    "# Research Question"
   ]
  },
  {
   "cell_type": "markdown",
   "metadata": {},
   "source": [
    "What is the relationship between the quality of parks and the safety of differernt area? Specifically, what is the relationship between the average yelp ratings for parks and the number of urgent police calls of different areas divided by zipcode? For this data analysis, we will specifically be looking at data in San Diego."
   ]
  },
  {
   "cell_type": "markdown",
   "metadata": {},
   "source": [
    "## Background and Prior Work"
   ]
  },
  {
   "cell_type": "markdown",
   "metadata": {},
   "source": [
    "2020 is a very different year. One of the most significant change is that we have never recived as many \"stay safe\" as before. Safety and health have really become top priority things for people. At the same time, parks and recreations departments have admitted to improve citizens' quality of life. It would be interesting to see if there is any relationship beteewen the quality of parks, in particular, measured by the average yelp ratings, and people's safety levels measured by the number of urgent police calls.\n",
    "\n",
    "According to some scholars, \"parks and other urban green Spaces can prevent violence. When vacant land and degraded urban space are transformed into more attractive and useful places for residents, rates of violence and crime generally decreases in the neighborhood.\"(1) One studies have suggests that \"park ratings were lower for parks with high violent crime rates.\" Besides, another studiy suggest that \"providing green spaces such as parks is an effective strategy to reduce crime\"(3) But there are also studies suggest that \"the property crime rate in neighborhoods near the park is two to four times higher. The violent crime rate is 11 times higher.\"(4) It seems that there is some relationship beween the quality of parks and public's safety level, but it is not certain. So, it would be interesting to see if there is any relation between the average yelp scores for parks and the number of urgent police calls in differernt areas.\n",
    "\n",
    "References (include links):<br>\n",
    "1)https://theconversation.com/can-parks-help-cities-fight-crime-118322\n",
    "2)https://www.cdc.gov/pcd/issues/2020/19_0434.htm#:~:text=Greater%20violent%20crime%20in%20all,with%20high%20violent%20crime%20rates.&text=Given%20the%20importance%20of%20parks,and%2C%20therefore%2C%20public%20health\n",
    "3)https://www.ncbi.nlm.nih.gov/pmc/articles/PMC6950486/#B97-ijerph-16-05119\n",
    "4)https://link.springer.com/article/10.1057/sj.2015.11\n"
   ]
  },
  {
   "cell_type": "markdown",
   "metadata": {},
   "source": [
    "# Hypothesis"
   ]
  },
  {
   "cell_type": "markdown",
   "metadata": {},
   "source": [
    "I hypothesize that higher average yelp ratings are associated with lower number of urgent police calls, because parks that are located in areas where police cars were barely heard would usually located in some safe areas. And the local government may have more funding on improving and maintaining the parks if they also have enough fundings to regulate public safety. On the other hand, parks in communities with high crime rates is likely to become places for drug dealings and etc, and therefore, have lower ratings from people."
   ]
  },
  {
   "cell_type": "markdown",
   "metadata": {},
   "source": [
    "# Data"
   ]
  },
  {
   "cell_type": "markdown",
   "metadata": {},
   "source": [
    "- For the ideal data sets,I'd like to have data sets:\n",
    "    - Yelp:\n",
    "       - the yelp ratings scores\n",
    "       - number of reviews\n",
    "       - the zipcode of each parks\n",
    "    - Police calls:\n",
    "       - the number of police calls\n",
    "       - the urgent level of each call\n",
    "       - the detailed address containing zipcode of each call<br>\n",
    "   And ideally, they should be nationally so that I could get result applicatble to a wider range of areas.\n",
    "- For the real data set:\n",
    "    My instructor has provided data sets that either contains these information, or I could use them to get what I need.\n",
    " - Data set1:\n",
    "      - Name:yelp_SD_parks\n",
    "      - Information used:\n",
    "        - Address:The address of the parks\n",
    "        - Rating:The yelp rating of the parks, ranged from 1 to 5\n",
    "        - Review_count:The number of reviews for each park.\n",
    "        - Is_closed:If the park is closed or not.\n",
    "      - Number of observations:832\n",
    "      - Link to the dataset:https://github.com/COGS108/individual_fa20/blob/master/data/yelp_SD_parks.csv<br>\n",
    "      - This dataset provide information on the yelp ratings of parks in San Diego\n",
    " - Data set2:\n",
    "      - Name:pd_calls_for_service_2019_datasd.csv\n",
    "      - Information used:\n",
    "         - address_number_primary: Street Number of Incident, Abstracted to block level\n",
    "         - address_road_primary: Name of Street\n",
    "         - address_sfx_primary: Street Type(ST, Av, etc)\n",
    "         - priority: Priority assigned by dispatcher\n",
    "      - Number of observations:107749\n",
    "      - Link to the dataset:\n",
    "      https://github.com/COGS108/individual_fa20/blob/master/data/pd_calls_for_service_2019_datasd.csv<br>\n",
    "      - This dataset provide information on the police calls of San Diego in 2019. However, it doesn't provide the detialed address, so I have to transform it myself. Also, its official description is not entirely consistent with what's in the actual data set, so I used only the priority 1,\"dispatch Immediately\", which occurred in both the actual dataset and offical document.\n",
    "        "
   ]
  },
  {
   "cell_type": "markdown",
   "metadata": {},
   "source": [
    "# Setup"
   ]
  },
  {
   "cell_type": "code",
   "execution_count": 1,
   "metadata": {},
   "outputs": [
    {
     "name": "stdout",
     "output_type": "stream",
     "text": [
      "Requirement already satisfied: geopy in c:\\programdata\\anaconda3\\lib\\site-packages (2.0.0)\n",
      "Requirement already satisfied: geographiclib<2,>=1.49 in c:\\programdata\\anaconda3\\lib\\site-packages (from geopy) (1.50)\n",
      "Note: you may need to restart the kernel to use updated packages.\n"
     ]
    }
   ],
   "source": [
    "pip install geopy"
   ]
  },
  {
   "cell_type": "code",
   "execution_count": 2,
   "metadata": {},
   "outputs": [],
   "source": [
    "import numpy as np\n",
    "import pandas as pd\n",
    "\n",
    "import matplotlib.pyplot as plt\n",
    "import matplotlib as mpl\n",
    "\n",
    "import seaborn as sns\n",
    "\n",
    "import patsy\n",
    "import statsmodels.api as sm\n",
    "from geopy.geocoders import Nominatim\n",
    "geolocator = Nominatim(user_agent=\"googlemap\")"
   ]
  },
  {
   "cell_type": "markdown",
   "metadata": {},
   "source": [
    "# Data Cleaning"
   ]
  },
  {
   "cell_type": "markdown",
   "metadata": {},
   "source": [
    "Import the data"
   ]
  },
  {
   "cell_type": "code",
   "execution_count": 3,
   "metadata": {},
   "outputs": [],
   "source": [
    "#Import datasets used for analysis\n",
    "police_df = pd.read_csv('data/pd_calls_for_service_2019_datasd.csv')\n",
    "yelp_df = pd.read_csv('data/yelp_SD_parks.csv')"
   ]
  },
  {
   "cell_type": "markdown",
   "metadata": {},
   "source": [
    "### Cutting Down Data\n"
   ]
  },
  {
   "cell_type": "markdown",
   "metadata": {},
   "source": [
    " To make the dataset more manageable I dropped the columns with information I won't be using. <br>\n",
    " - For the police call datasets:<br>\n",
    "    I dropped information that I won't be using in this project including \n",
    "           1.each police call's unique incident number\n",
    "           2.the date and time\n",
    "           3.the day of week\n",
    "           4.type of call\n",
    "           5.disposition\n",
    "           6.address information that we won't be accessing.\n",
    "As a result, I only kept the street number, name of the street, street type, and the priority of each call. <br>\n",
    "    After dropping those columns, I also dropped observations whose priority is not 1."
   ]
  },
  {
   "cell_type": "code",
   "execution_count": 4,
   "metadata": {},
   "outputs": [],
   "source": [
    "#Drop the columns and rows that we won't use\n",
    "police_df.drop([\"incident_num\",\"date_time\",\"day_of_week\",\"address_sfx_intersecting\",\"address_dir_primary\",\"address_dir_intersecting\",\"address_road_intersecting\",\"disposition\",\"beat\",\"call_type\",\"address_number_primary\"], axis=1,inplace=True)\n",
    "police_df = police_df.loc[police_df['priority'] == 1]"
   ]
  },
  {
   "cell_type": "markdown",
   "metadata": {},
   "source": [
    "#### Have a look at the cutted police call data set"
   ]
  },
  {
   "cell_type": "code",
   "execution_count": 5,
   "metadata": {
    "scrolled": true
   },
   "outputs": [
    {
     "data": {
      "text/html": [
       "<div>\n",
       "<style scoped>\n",
       "    .dataframe tbody tr th:only-of-type {\n",
       "        vertical-align: middle;\n",
       "    }\n",
       "\n",
       "    .dataframe tbody tr th {\n",
       "        vertical-align: top;\n",
       "    }\n",
       "\n",
       "    .dataframe thead th {\n",
       "        text-align: right;\n",
       "    }\n",
       "</style>\n",
       "<table border=\"1\" class=\"dataframe\">\n",
       "  <thead>\n",
       "    <tr style=\"text-align: right;\">\n",
       "      <th></th>\n",
       "      <th>address_road_primary</th>\n",
       "      <th>address_sfx_primary</th>\n",
       "      <th>priority</th>\n",
       "    </tr>\n",
       "  </thead>\n",
       "  <tbody>\n",
       "    <tr>\n",
       "      <th>0</th>\n",
       "      <td>NATIONAL</td>\n",
       "      <td>AVE</td>\n",
       "      <td>1</td>\n",
       "    </tr>\n",
       "    <tr>\n",
       "      <th>3</th>\n",
       "      <td>VESTA</td>\n",
       "      <td>ST</td>\n",
       "      <td>1</td>\n",
       "    </tr>\n",
       "    <tr>\n",
       "      <th>6</th>\n",
       "      <td>NEWTON</td>\n",
       "      <td>AVE</td>\n",
       "      <td>1</td>\n",
       "    </tr>\n",
       "    <tr>\n",
       "      <th>7</th>\n",
       "      <td>UNIVERSITY</td>\n",
       "      <td>AVE</td>\n",
       "      <td>1</td>\n",
       "    </tr>\n",
       "    <tr>\n",
       "      <th>10</th>\n",
       "      <td>BROOKLYN</td>\n",
       "      <td>AVE</td>\n",
       "      <td>1</td>\n",
       "    </tr>\n",
       "    <tr>\n",
       "      <th>...</th>\n",
       "      <td>...</td>\n",
       "      <td>...</td>\n",
       "      <td>...</td>\n",
       "    </tr>\n",
       "    <tr>\n",
       "      <th>590957</th>\n",
       "      <td>CAMINITO MAGNIFICA</td>\n",
       "      <td>NaN</td>\n",
       "      <td>1</td>\n",
       "    </tr>\n",
       "    <tr>\n",
       "      <th>590958</th>\n",
       "      <td>47TH</td>\n",
       "      <td>ST</td>\n",
       "      <td>1</td>\n",
       "    </tr>\n",
       "    <tr>\n",
       "      <th>590959</th>\n",
       "      <td>45TH</td>\n",
       "      <td>ST</td>\n",
       "      <td>1</td>\n",
       "    </tr>\n",
       "    <tr>\n",
       "      <th>590960</th>\n",
       "      <td>47TH</td>\n",
       "      <td>ST</td>\n",
       "      <td>1</td>\n",
       "    </tr>\n",
       "    <tr>\n",
       "      <th>590966</th>\n",
       "      <td>LAKE ATLIN</td>\n",
       "      <td>AVE</td>\n",
       "      <td>1</td>\n",
       "    </tr>\n",
       "  </tbody>\n",
       "</table>\n",
       "<p>107749 rows × 3 columns</p>\n",
       "</div>"
      ],
      "text/plain": [
       "       address_road_primary address_sfx_primary  priority\n",
       "0                  NATIONAL                 AVE         1\n",
       "3                     VESTA                  ST         1\n",
       "6                    NEWTON                 AVE         1\n",
       "7                UNIVERSITY                 AVE         1\n",
       "10                 BROOKLYN                 AVE         1\n",
       "...                     ...                 ...       ...\n",
       "590957   CAMINITO MAGNIFICA                 NaN         1\n",
       "590958                 47TH                  ST         1\n",
       "590959                 45TH                  ST         1\n",
       "590960                 47TH                  ST         1\n",
       "590966           LAKE ATLIN                 AVE         1\n",
       "\n",
       "[107749 rows x 3 columns]"
      ]
     },
     "execution_count": 5,
     "metadata": {},
     "output_type": "execute_result"
    }
   ],
   "source": [
    "police_df"
   ]
  },
  {
   "cell_type": "markdown",
   "metadata": {},
   "source": [
    "- For the yelp datasets:\n",
    "    I firstly dropped observations for parks that are closed(actually there's only one), and then dropped the \"is_closed\" column.\n",
    "    Then I dropped informations that we won't be accessing including:\n",
    "        1.phone number of the parks\n",
    "        2.their unique IDs\n",
    "        3.the name of the parks\n",
    "        4.the latitude and longtitude of the parks\n",
    "As a result, I only kept the rating, review count and address of those parks."
   ]
  },
  {
   "cell_type": "code",
   "execution_count": 6,
   "metadata": {},
   "outputs": [],
   "source": [
    "#Drop columns and rows that we won't use for yelp data\n",
    "yelp_df['is_closed'] = yelp_df['is_closed'].astype(str)\n",
    "yelp_df = yelp_df[yelp_df['is_closed'] == \"False\"]\n",
    "yelp_df = yelp_df.drop([\"is_closed\"], axis=1)\n",
    "yelp_df = yelp_df.drop([\"phone\",\"id\",\"url\",\"longitude\",\"latitude\",\"name\"], axis=1)\n"
   ]
  },
  {
   "cell_type": "markdown",
   "metadata": {},
   "source": [
    "#### Have a look at the cutted yelp data"
   ]
  },
  {
   "cell_type": "code",
   "execution_count": 7,
   "metadata": {},
   "outputs": [
    {
     "data": {
      "text/html": [
       "<div>\n",
       "<style scoped>\n",
       "    .dataframe tbody tr th:only-of-type {\n",
       "        vertical-align: middle;\n",
       "    }\n",
       "\n",
       "    .dataframe tbody tr th {\n",
       "        vertical-align: top;\n",
       "    }\n",
       "\n",
       "    .dataframe thead th {\n",
       "        text-align: right;\n",
       "    }\n",
       "</style>\n",
       "<table border=\"1\" class=\"dataframe\">\n",
       "  <thead>\n",
       "    <tr style=\"text-align: right;\">\n",
       "      <th></th>\n",
       "      <th>address</th>\n",
       "      <th>rating</th>\n",
       "      <th>review_count</th>\n",
       "    </tr>\n",
       "  </thead>\n",
       "  <tbody>\n",
       "    <tr>\n",
       "      <th>0</th>\n",
       "      <td>1549 El Prado San Diego, CA 92101</td>\n",
       "      <td>5.0</td>\n",
       "      <td>2105</td>\n",
       "    </tr>\n",
       "    <tr>\n",
       "      <th>1</th>\n",
       "      <td>7960 Civita Blvd San Diego, CA 92108</td>\n",
       "      <td>4.5</td>\n",
       "      <td>46</td>\n",
       "    </tr>\n",
       "    <tr>\n",
       "      <th>2</th>\n",
       "      <td>1600 Pacific Hwy San Diego, CA 92101</td>\n",
       "      <td>4.5</td>\n",
       "      <td>242</td>\n",
       "    </tr>\n",
       "    <tr>\n",
       "      <th>3</th>\n",
       "      <td>Adams Ave And Florida St San Diego, CA 92116</td>\n",
       "      <td>4.5</td>\n",
       "      <td>102</td>\n",
       "    </tr>\n",
       "    <tr>\n",
       "      <th>4</th>\n",
       "      <td>413 1st St Coronado, CA 92118</td>\n",
       "      <td>5.0</td>\n",
       "      <td>42</td>\n",
       "    </tr>\n",
       "    <tr>\n",
       "      <th>...</th>\n",
       "      <td>...</td>\n",
       "      <td>...</td>\n",
       "      <td>...</td>\n",
       "    </tr>\n",
       "    <tr>\n",
       "      <th>828</th>\n",
       "      <td>San Diego, CA 92120</td>\n",
       "      <td>4.5</td>\n",
       "      <td>12</td>\n",
       "    </tr>\n",
       "    <tr>\n",
       "      <th>829</th>\n",
       "      <td>1255 Imperial Ave Ste 1000 San Diego, CA 92101</td>\n",
       "      <td>2.5</td>\n",
       "      <td>268</td>\n",
       "    </tr>\n",
       "    <tr>\n",
       "      <th>830</th>\n",
       "      <td>100 Park Blvd San Diego, CA 92101</td>\n",
       "      <td>4.0</td>\n",
       "      <td>1667</td>\n",
       "    </tr>\n",
       "    <tr>\n",
       "      <th>831</th>\n",
       "      <td>2700 Carlsbad Village Dr Carlsbad, CA 92008</td>\n",
       "      <td>3.0</td>\n",
       "      <td>50</td>\n",
       "    </tr>\n",
       "    <tr>\n",
       "      <th>832</th>\n",
       "      <td>4949 S Mission Rd Fallbrook, CA 92028</td>\n",
       "      <td>5.0</td>\n",
       "      <td>1</td>\n",
       "    </tr>\n",
       "  </tbody>\n",
       "</table>\n",
       "<p>832 rows × 3 columns</p>\n",
       "</div>"
      ],
      "text/plain": [
       "                                            address  rating  review_count\n",
       "0                 1549 El Prado San Diego, CA 92101     5.0          2105\n",
       "1              7960 Civita Blvd San Diego, CA 92108     4.5            46\n",
       "2              1600 Pacific Hwy San Diego, CA 92101     4.5           242\n",
       "3      Adams Ave And Florida St San Diego, CA 92116     4.5           102\n",
       "4                     413 1st St Coronado, CA 92118     5.0            42\n",
       "..                                              ...     ...           ...\n",
       "828                             San Diego, CA 92120     4.5            12\n",
       "829  1255 Imperial Ave Ste 1000 San Diego, CA 92101     2.5           268\n",
       "830               100 Park Blvd San Diego, CA 92101     4.0          1667\n",
       "831     2700 Carlsbad Village Dr Carlsbad, CA 92008     3.0            50\n",
       "832           4949 S Mission Rd Fallbrook, CA 92028     5.0             1\n",
       "\n",
       "[832 rows x 3 columns]"
      ]
     },
     "execution_count": 7,
     "metadata": {},
     "output_type": "execute_result"
    }
   ],
   "source": [
    "yelp_df"
   ]
  },
  {
   "cell_type": "markdown",
   "metadata": {},
   "source": [
    "### Extract zipcode\n"
   ]
  },
  {
   "cell_type": "markdown",
   "metadata": {},
   "source": [
    "### For the police call data, we only have the raw address of each call, so I used geopy to get their detailed address using googlemap first."
   ]
  },
  {
   "cell_type": "markdown",
   "metadata": {},
   "source": [
    "In order to do this:<br>\n",
    " -  \n",
    "    1.I firstly filled the Nans with empty strings since there are many observations whose street number is Nan.\n",
    "    2.Then I noticed that the leading 0s in the address_road_primary column would make geopy unable to identify them, so I cleanned the leading 0s.\n",
    "    3.After that, I put the the address_road_primary and address_road_primary together in a column called \"full\", which represent the full address.\n",
    "     Also, to make geopy able to more accurately locate the address, I added key words \"CA San Diego\"\n",
    "    4.After that, I used geolocator.geocode function in geopy to get the detailed address including zipcode of each call.\n",
    "Since this step took more than 24 hours, I executed it in another file and saved the result into a csv file."
   ]
  },
  {
   "cell_type": "code",
   "execution_count": 8,
   "metadata": {},
   "outputs": [],
   "source": [
    "#Fill the Nans with empty strings\n",
    "police_df.fillna('', inplace=True)\n",
    "#Get the full raw address of each police call\n",
    "police_df['address_road_primary'] = [ i.lstrip('0') for i in police_df['address_road_primary'] ]\n",
    "police_df['full'] = police_df['address_road_primary'] + \" \" + police_df['address_sfx_primary'] + \" CA San Diego\"\n",
    "#Steps made in another notebook for generate detailed address containing zipcode\n",
    "##police_df['address'] = police_df['full'].apply(lambda x: geolocator.geocode(x,timeout=None ))\n",
    "##police_df.to_csv(\"./results.csv\", sep=',',index=False)"
   ]
  },
  {
   "cell_type": "code",
   "execution_count": 9,
   "metadata": {},
   "outputs": [
    {
     "data": {
      "text/html": [
       "<div>\n",
       "<style scoped>\n",
       "    .dataframe tbody tr th:only-of-type {\n",
       "        vertical-align: middle;\n",
       "    }\n",
       "\n",
       "    .dataframe tbody tr th {\n",
       "        vertical-align: top;\n",
       "    }\n",
       "\n",
       "    .dataframe thead th {\n",
       "        text-align: right;\n",
       "    }\n",
       "</style>\n",
       "<table border=\"1\" class=\"dataframe\">\n",
       "  <thead>\n",
       "    <tr style=\"text-align: right;\">\n",
       "      <th></th>\n",
       "      <th>full</th>\n",
       "      <th>address</th>\n",
       "    </tr>\n",
       "  </thead>\n",
       "  <tbody>\n",
       "    <tr>\n",
       "      <th>0</th>\n",
       "      <td>NATIONAL AVE CA San Diego</td>\n",
       "      <td>National Avenue, Mountain View, San Diego, San...</td>\n",
       "    </tr>\n",
       "    <tr>\n",
       "      <th>1</th>\n",
       "      <td>VESTA ST CA San Diego</td>\n",
       "      <td>Vesta Street, San Diego, San Diego County, Cal...</td>\n",
       "    </tr>\n",
       "    <tr>\n",
       "      <th>2</th>\n",
       "      <td>NEWTON AVE CA San Diego</td>\n",
       "      <td>Newton Avenue, San Diego, San Diego County, Ca...</td>\n",
       "    </tr>\n",
       "    <tr>\n",
       "      <th>3</th>\n",
       "      <td>UNIVERSITY AVE CA San Diego</td>\n",
       "      <td>University Avenue, Cherokee Point, Normal Heig...</td>\n",
       "    </tr>\n",
       "    <tr>\n",
       "      <th>4</th>\n",
       "      <td>BROOKLYN AVE CA San Diego</td>\n",
       "      <td>Brooklyn Avenue, Encanto, San Diego, San Diego...</td>\n",
       "    </tr>\n",
       "    <tr>\n",
       "      <th>...</th>\n",
       "      <td>...</td>\n",
       "      <td>...</td>\n",
       "    </tr>\n",
       "    <tr>\n",
       "      <th>107744</th>\n",
       "      <td>CAMINITO MAGNIFICA  CA San Diego</td>\n",
       "      <td>Caminito Magnifica, San Diego, San Diego Count...</td>\n",
       "    </tr>\n",
       "    <tr>\n",
       "      <th>107745</th>\n",
       "      <td>47TH ST CA San Diego</td>\n",
       "      <td>47th Street, Borner Street, Chollas View, San ...</td>\n",
       "    </tr>\n",
       "    <tr>\n",
       "      <th>107746</th>\n",
       "      <td>45TH ST CA San Diego</td>\n",
       "      <td>45th Street, Fox Canyon, City Heights, San Die...</td>\n",
       "    </tr>\n",
       "    <tr>\n",
       "      <th>107747</th>\n",
       "      <td>47TH ST CA San Diego</td>\n",
       "      <td>47th Street, Borner Street, Chollas View, San ...</td>\n",
       "    </tr>\n",
       "    <tr>\n",
       "      <th>107748</th>\n",
       "      <td>LAKE ATLIN AVE CA San Diego</td>\n",
       "      <td>Lake Atlin Avenue, San Diego, San Diego County...</td>\n",
       "    </tr>\n",
       "  </tbody>\n",
       "</table>\n",
       "<p>107749 rows × 2 columns</p>\n",
       "</div>"
      ],
      "text/plain": [
       "                                    full  \\\n",
       "0              NATIONAL AVE CA San Diego   \n",
       "1                  VESTA ST CA San Diego   \n",
       "2                NEWTON AVE CA San Diego   \n",
       "3            UNIVERSITY AVE CA San Diego   \n",
       "4              BROOKLYN AVE CA San Diego   \n",
       "...                                  ...   \n",
       "107744  CAMINITO MAGNIFICA  CA San Diego   \n",
       "107745              47TH ST CA San Diego   \n",
       "107746              45TH ST CA San Diego   \n",
       "107747              47TH ST CA San Diego   \n",
       "107748       LAKE ATLIN AVE CA San Diego   \n",
       "\n",
       "                                                  address  \n",
       "0       National Avenue, Mountain View, San Diego, San...  \n",
       "1       Vesta Street, San Diego, San Diego County, Cal...  \n",
       "2       Newton Avenue, San Diego, San Diego County, Ca...  \n",
       "3       University Avenue, Cherokee Point, Normal Heig...  \n",
       "4       Brooklyn Avenue, Encanto, San Diego, San Diego...  \n",
       "...                                                   ...  \n",
       "107744  Caminito Magnifica, San Diego, San Diego Count...  \n",
       "107745  47th Street, Borner Street, Chollas View, San ...  \n",
       "107746  45th Street, Fox Canyon, City Heights, San Die...  \n",
       "107747  47th Street, Borner Street, Chollas View, San ...  \n",
       "107748  Lake Atlin Avenue, San Diego, San Diego County...  \n",
       "\n",
       "[107749 rows x 2 columns]"
      ]
     },
     "execution_count": 9,
     "metadata": {},
     "output_type": "execute_result"
    }
   ],
   "source": [
    "#Import the generated csv containing detailed address with zipcode\n",
    "police_zip_df = pd.read_csv('./results.csv')\n",
    "police_zip_df\n"
   ]
  },
  {
   "cell_type": "markdown",
   "metadata": {},
   "source": [
    "Now we have the detialed address containing zipcode of each police call."
   ]
  },
  {
   "cell_type": "markdown",
   "metadata": {},
   "source": [
    "Then I extract the zipcode of the detailed address and saved them into a column called \"zip\"<br>\n",
    "Also, in order to make sure the address we got is actually in San Diego, I dropped those observations that don't have the keyword \"Diego\" in their address generated by geopy.<br>After that,I dropped unnecessary colmuns and kept only zip."
   ]
  },
  {
   "cell_type": "code",
   "execution_count": 10,
   "metadata": {},
   "outputs": [],
   "source": [
    "#Extract the zipcode from detailed address\n",
    "police_zip_df['zip'] = police_zip_df['address'].str.extract(r'(\\d{5}\\-?\\d{0,4})')\n",
    "police_zip_df.address = police_zip_df.address.astype(str)\n",
    "#Drop observations whose address don't belong to San Diego\n",
    "police_zip_df = police_zip_df[police_zip_df['address'].apply(lambda x: 'Diego' in x)]\n",
    "#Drop full and address colmuns that we won't be used anymore\n",
    "police_zip_df = police_zip_df.drop([\"full\",\"address\"], axis = 1)"
   ]
  },
  {
   "cell_type": "markdown",
   "metadata": {},
   "source": [
    "Let's have a look at the frequency of each zip code. During this step, we found that there are some code was not trimmed into 5 digit zip code, so we will do this."
   ]
  },
  {
   "cell_type": "code",
   "execution_count": 11,
   "metadata": {},
   "outputs": [
    {
     "name": "stdout",
     "output_type": "stream",
     "text": [
      "             zip\n",
      "92101       5809\n",
      "92102-4810  5098\n",
      "92105       4295\n",
      "92104       4063\n",
      "92110       3638\n",
      "...          ...\n",
      "92060          1\n",
      "21400          1\n",
      "92004          1\n",
      "66443          1\n",
      "91931          1\n",
      "\n",
      "[136 rows x 1 columns]\n"
     ]
    }
   ],
   "source": [
    "#Print the sum of each zipcode\n",
    "print(police_zip_df.apply(pd.value_counts))\n",
    "police_zip_df.zip = police_zip_df.zip.astype(str)\n",
    "#Trim the zipcode into 5 digits\n",
    "police_zip_df['zip'] = police_zip_df['zip'].apply(lambda x: x[:5])"
   ]
  },
  {
   "cell_type": "markdown",
   "metadata": {},
   "source": [
    "Also, we found that there are many observations whose address failled to be transformed to into zipcode. This actaully could be the limitation of this analysis. But for the analysis to be continued, we will drop them from our data."
   ]
  },
  {
   "cell_type": "code",
   "execution_count": 12,
   "metadata": {},
   "outputs": [
    {
     "name": "stdout",
     "output_type": "stream",
     "text": [
      "zip    0\n",
      "dtype: int64\n"
     ]
    }
   ],
   "source": [
    "#Drop rows with \"nan\" in their zip colmuns\n",
    "police_zip_df = police_zip_df[police_zip_df['zip'].apply(lambda x: 'nan' not in x)]\n",
    "police_zip_df.apply(pd.value_counts)\n",
    "#Check if there's still nan values\n",
    "print(police_zip_df.isnull().sum())"
   ]
  },
  {
   "cell_type": "markdown",
   "metadata": {},
   "source": [
    "Then, we will be generating a new dataframe containing the frequency of police calls in areas of each zipcode.\n"
   ]
  },
  {
   "cell_type": "code",
   "execution_count": 13,
   "metadata": {},
   "outputs": [
    {
     "data": {
      "text/html": [
       "<div>\n",
       "<style scoped>\n",
       "    .dataframe tbody tr th:only-of-type {\n",
       "        vertical-align: middle;\n",
       "    }\n",
       "\n",
       "    .dataframe tbody tr th {\n",
       "        vertical-align: top;\n",
       "    }\n",
       "\n",
       "    .dataframe thead th {\n",
       "        text-align: right;\n",
       "    }\n",
       "</style>\n",
       "<table border=\"1\" class=\"dataframe\">\n",
       "  <thead>\n",
       "    <tr style=\"text-align: right;\">\n",
       "      <th></th>\n",
       "      <th>zip</th>\n",
       "    </tr>\n",
       "  </thead>\n",
       "  <tbody>\n",
       "    <tr>\n",
       "      <th>92102</th>\n",
       "      <td>8731</td>\n",
       "    </tr>\n",
       "    <tr>\n",
       "      <th>92101</th>\n",
       "      <td>8725</td>\n",
       "    </tr>\n",
       "    <tr>\n",
       "      <th>92110</th>\n",
       "      <td>4764</td>\n",
       "    </tr>\n",
       "    <tr>\n",
       "      <th>92105</th>\n",
       "      <td>4295</td>\n",
       "    </tr>\n",
       "    <tr>\n",
       "      <th>92104</th>\n",
       "      <td>4063</td>\n",
       "    </tr>\n",
       "    <tr>\n",
       "      <th>...</th>\n",
       "      <td>...</td>\n",
       "    </tr>\n",
       "    <tr>\n",
       "      <th>10212</th>\n",
       "      <td>1</td>\n",
       "    </tr>\n",
       "    <tr>\n",
       "      <th>92060</th>\n",
       "      <td>1</td>\n",
       "    </tr>\n",
       "    <tr>\n",
       "      <th>92536</th>\n",
       "      <td>1</td>\n",
       "    </tr>\n",
       "    <tr>\n",
       "      <th>66443</th>\n",
       "      <td>1</td>\n",
       "    </tr>\n",
       "    <tr>\n",
       "      <th>91931</th>\n",
       "      <td>1</td>\n",
       "    </tr>\n",
       "  </tbody>\n",
       "</table>\n",
       "<p>118 rows × 1 columns</p>\n",
       "</div>"
      ],
      "text/plain": [
       "        zip\n",
       "92102  8731\n",
       "92101  8725\n",
       "92110  4764\n",
       "92105  4295\n",
       "92104  4063\n",
       "...     ...\n",
       "10212     1\n",
       "92060     1\n",
       "92536     1\n",
       "66443     1\n",
       "91931     1\n",
       "\n",
       "[118 rows x 1 columns]"
      ]
     },
     "execution_count": 13,
     "metadata": {},
     "output_type": "execute_result"
    }
   ],
   "source": [
    "#Save the police call frequency and corresponding zipcode into another dataframe\n",
    "police_zip_df_freq = police_zip_df.apply(pd.value_counts)\n",
    "police_zip_df_freq"
   ]
  },
  {
   "cell_type": "markdown",
   "metadata": {},
   "source": [
    "### Now, we have our desired data for the number of urgent police calls in each area of San Diego divided by zipcode."
   ]
  },
  {
   "cell_type": "markdown",
   "metadata": {},
   "source": [
    "### Then we will be getting the average ratings of parks divided by zipcode.\n",
    "First, we will get the zipcode data of each parks. Since the yelp data is well organized, each observation has their 5-digit zipcode in the end of their address colmun. We just need to extract that."
   ]
  },
  {
   "cell_type": "code",
   "execution_count": 14,
   "metadata": {},
   "outputs": [
    {
     "data": {
      "text/html": [
       "<div>\n",
       "<style scoped>\n",
       "    .dataframe tbody tr th:only-of-type {\n",
       "        vertical-align: middle;\n",
       "    }\n",
       "\n",
       "    .dataframe tbody tr th {\n",
       "        vertical-align: top;\n",
       "    }\n",
       "\n",
       "    .dataframe thead th {\n",
       "        text-align: right;\n",
       "    }\n",
       "</style>\n",
       "<table border=\"1\" class=\"dataframe\">\n",
       "  <thead>\n",
       "    <tr style=\"text-align: right;\">\n",
       "      <th></th>\n",
       "      <th>address</th>\n",
       "      <th>rating</th>\n",
       "      <th>review_count</th>\n",
       "      <th>zip</th>\n",
       "    </tr>\n",
       "  </thead>\n",
       "  <tbody>\n",
       "    <tr>\n",
       "      <th>0</th>\n",
       "      <td>1549 El Prado San Diego, CA 92101</td>\n",
       "      <td>5.0</td>\n",
       "      <td>2105</td>\n",
       "      <td>92101</td>\n",
       "    </tr>\n",
       "    <tr>\n",
       "      <th>1</th>\n",
       "      <td>7960 Civita Blvd San Diego, CA 92108</td>\n",
       "      <td>4.5</td>\n",
       "      <td>46</td>\n",
       "      <td>92108</td>\n",
       "    </tr>\n",
       "    <tr>\n",
       "      <th>2</th>\n",
       "      <td>1600 Pacific Hwy San Diego, CA 92101</td>\n",
       "      <td>4.5</td>\n",
       "      <td>242</td>\n",
       "      <td>92101</td>\n",
       "    </tr>\n",
       "    <tr>\n",
       "      <th>3</th>\n",
       "      <td>Adams Ave And Florida St San Diego, CA 92116</td>\n",
       "      <td>4.5</td>\n",
       "      <td>102</td>\n",
       "      <td>92116</td>\n",
       "    </tr>\n",
       "    <tr>\n",
       "      <th>4</th>\n",
       "      <td>413 1st St Coronado, CA 92118</td>\n",
       "      <td>5.0</td>\n",
       "      <td>42</td>\n",
       "      <td>92118</td>\n",
       "    </tr>\n",
       "    <tr>\n",
       "      <th>...</th>\n",
       "      <td>...</td>\n",
       "      <td>...</td>\n",
       "      <td>...</td>\n",
       "      <td>...</td>\n",
       "    </tr>\n",
       "    <tr>\n",
       "      <th>828</th>\n",
       "      <td>San Diego, CA 92120</td>\n",
       "      <td>4.5</td>\n",
       "      <td>12</td>\n",
       "      <td>92120</td>\n",
       "    </tr>\n",
       "    <tr>\n",
       "      <th>829</th>\n",
       "      <td>1255 Imperial Ave Ste 1000 San Diego, CA 92101</td>\n",
       "      <td>2.5</td>\n",
       "      <td>268</td>\n",
       "      <td>92101</td>\n",
       "    </tr>\n",
       "    <tr>\n",
       "      <th>830</th>\n",
       "      <td>100 Park Blvd San Diego, CA 92101</td>\n",
       "      <td>4.0</td>\n",
       "      <td>1667</td>\n",
       "      <td>92101</td>\n",
       "    </tr>\n",
       "    <tr>\n",
       "      <th>831</th>\n",
       "      <td>2700 Carlsbad Village Dr Carlsbad, CA 92008</td>\n",
       "      <td>3.0</td>\n",
       "      <td>50</td>\n",
       "      <td>92008</td>\n",
       "    </tr>\n",
       "    <tr>\n",
       "      <th>832</th>\n",
       "      <td>4949 S Mission Rd Fallbrook, CA 92028</td>\n",
       "      <td>5.0</td>\n",
       "      <td>1</td>\n",
       "      <td>92028</td>\n",
       "    </tr>\n",
       "  </tbody>\n",
       "</table>\n",
       "<p>832 rows × 4 columns</p>\n",
       "</div>"
      ],
      "text/plain": [
       "                                            address  rating  review_count  \\\n",
       "0                 1549 El Prado San Diego, CA 92101     5.0          2105   \n",
       "1              7960 Civita Blvd San Diego, CA 92108     4.5            46   \n",
       "2              1600 Pacific Hwy San Diego, CA 92101     4.5           242   \n",
       "3      Adams Ave And Florida St San Diego, CA 92116     4.5           102   \n",
       "4                     413 1st St Coronado, CA 92118     5.0            42   \n",
       "..                                              ...     ...           ...   \n",
       "828                             San Diego, CA 92120     4.5            12   \n",
       "829  1255 Imperial Ave Ste 1000 San Diego, CA 92101     2.5           268   \n",
       "830               100 Park Blvd San Diego, CA 92101     4.0          1667   \n",
       "831     2700 Carlsbad Village Dr Carlsbad, CA 92008     3.0            50   \n",
       "832           4949 S Mission Rd Fallbrook, CA 92028     5.0             1   \n",
       "\n",
       "       zip  \n",
       "0    92101  \n",
       "1    92108  \n",
       "2    92101  \n",
       "3    92116  \n",
       "4    92118  \n",
       "..     ...  \n",
       "828  92120  \n",
       "829  92101  \n",
       "830  92101  \n",
       "831  92008  \n",
       "832  92028  \n",
       "\n",
       "[832 rows x 4 columns]"
      ]
     },
     "execution_count": 14,
     "metadata": {},
     "output_type": "execute_result"
    }
   ],
   "source": [
    "#Extract zipcode from yelp data's address colmun\n",
    "yelp_df['zip'] = yelp_df['address'].apply(lambda x: x[-5:])\n",
    "#Drop observations with nan values\n",
    "yelp_df = yelp_df[yelp_df['zip'].apply(lambda x: 'nan' not in x)]\n",
    "yelp_df"
   ]
  },
  {
   "cell_type": "markdown",
   "metadata": {},
   "source": [
    "Then, we will drop the address column."
   ]
  },
  {
   "cell_type": "code",
   "execution_count": 15,
   "metadata": {},
   "outputs": [],
   "source": [
    "#Drop address column that we don't need anymore\n",
    "yelp_df = yelp_df.drop([\"address\"], axis=1)"
   ]
  },
  {
   "cell_type": "markdown",
   "metadata": {},
   "source": [
    "#### After that, we will calculate the average ratings of parks in areas divided by zipcode. "
   ]
  },
  {
   "cell_type": "code",
   "execution_count": 16,
   "metadata": {},
   "outputs": [],
   "source": [
    "#Calculate the total review count of each zipcode\n",
    "new_dict = {}\n",
    "for index, row in yelp_df.iterrows():\n",
    "    zipcode = row['zip']\n",
    "    if zipcode in new_dict:\n",
    "        num = new_dict[zipcode]\n",
    "        new_dict[zipcode] = num + row['review_count']\n",
    "    else:\n",
    "        new_dict[zipcode] = row['review_count']"
   ]
  },
  {
   "cell_type": "code",
   "execution_count": 17,
   "metadata": {},
   "outputs": [],
   "source": [
    "#Calculate the rating * review count of each observation,and save the sum of those with the same zipcode\n",
    "review_dict = {}\n",
    "for index, row in yelp_df.iterrows():\n",
    "    zipcode = row['zip']\n",
    "    if zipcode in review_dict:\n",
    "        num = review_dict[zipcode]\n",
    "        review_dict[zipcode] = num + row['rating'] * row['review_count']\n",
    "    else:\n",
    "        review_dict[zipcode] = row['rating'] * row['review_count']"
   ]
  },
  {
   "cell_type": "code",
   "execution_count": 18,
   "metadata": {},
   "outputs": [],
   "source": [
    "#Calculate the average ratings of each zipcode\n",
    "average_dict = {}\n",
    "for key in review_dict:\n",
    "    average_dict[key] = review_dict[key]/new_dict[key]"
   ]
  },
  {
   "cell_type": "code",
   "execution_count": 19,
   "metadata": {},
   "outputs": [
    {
     "data": {
      "text/html": [
       "<div>\n",
       "<style scoped>\n",
       "    .dataframe tbody tr th:only-of-type {\n",
       "        vertical-align: middle;\n",
       "    }\n",
       "\n",
       "    .dataframe tbody tr th {\n",
       "        vertical-align: top;\n",
       "    }\n",
       "\n",
       "    .dataframe thead th {\n",
       "        text-align: right;\n",
       "    }\n",
       "</style>\n",
       "<table border=\"1\" class=\"dataframe\">\n",
       "  <thead>\n",
       "    <tr style=\"text-align: right;\">\n",
       "      <th></th>\n",
       "      <th>average_review</th>\n",
       "    </tr>\n",
       "  </thead>\n",
       "  <tbody>\n",
       "    <tr>\n",
       "      <th>92101</th>\n",
       "      <td>4.065003</td>\n",
       "    </tr>\n",
       "    <tr>\n",
       "      <th>92108</th>\n",
       "      <td>3.498595</td>\n",
       "    </tr>\n",
       "    <tr>\n",
       "      <th>92116</th>\n",
       "      <td>4.234287</td>\n",
       "    </tr>\n",
       "    <tr>\n",
       "      <th>92118</th>\n",
       "      <td>4.377688</td>\n",
       "    </tr>\n",
       "    <tr>\n",
       "      <th>92123</th>\n",
       "      <td>3.495726</td>\n",
       "    </tr>\n",
       "    <tr>\n",
       "      <th>...</th>\n",
       "      <td>...</td>\n",
       "    </tr>\n",
       "    <tr>\n",
       "      <th>92036</th>\n",
       "      <td>4.000000</td>\n",
       "    </tr>\n",
       "    <tr>\n",
       "      <th>92019</th>\n",
       "      <td>4.500000</td>\n",
       "    </tr>\n",
       "    <tr>\n",
       "      <th>91765</th>\n",
       "      <td>4.500000</td>\n",
       "    </tr>\n",
       "    <tr>\n",
       "      <th>92004</th>\n",
       "      <td>5.000000</td>\n",
       "    </tr>\n",
       "    <tr>\n",
       "      <th>92028</th>\n",
       "      <td>5.000000</td>\n",
       "    </tr>\n",
       "  </tbody>\n",
       "</table>\n",
       "<p>106 rows × 1 columns</p>\n",
       "</div>"
      ],
      "text/plain": [
       "       average_review\n",
       "92101        4.065003\n",
       "92108        3.498595\n",
       "92116        4.234287\n",
       "92118        4.377688\n",
       "92123        3.495726\n",
       "...               ...\n",
       "92036        4.000000\n",
       "92019        4.500000\n",
       "91765        4.500000\n",
       "92004        5.000000\n",
       "92028        5.000000\n",
       "\n",
       "[106 rows x 1 columns]"
      ]
     },
     "execution_count": 19,
     "metadata": {},
     "output_type": "execute_result"
    }
   ],
   "source": [
    "#Formalize the average rating dictionary, and save it into a dataframe\n",
    "avg_df = pd.DataFrame.from_dict(average_dict, orient='index',columns=['average_review'])\n",
    "avg_df"
   ]
  },
  {
   "cell_type": "markdown",
   "metadata": {},
   "source": [
    "Now we have the average yelp ratings for parks in different zip zones of San Diego."
   ]
  },
  {
   "cell_type": "markdown",
   "metadata": {},
   "source": [
    "# Merging Dataframes\n",
    "After dropping the columns that were not needed for the analysis, and extract the data we need for our analysis, I merged the police call frequency data and average yelp park ratings data into one dataframe, and I renamed the merged dataset that resulted from these two datasets to merged_df."
   ]
  },
  {
   "cell_type": "code",
   "execution_count": 20,
   "metadata": {},
   "outputs": [
    {
     "data": {
      "text/html": [
       "<div>\n",
       "<style scoped>\n",
       "    .dataframe tbody tr th:only-of-type {\n",
       "        vertical-align: middle;\n",
       "    }\n",
       "\n",
       "    .dataframe tbody tr th {\n",
       "        vertical-align: top;\n",
       "    }\n",
       "\n",
       "    .dataframe thead th {\n",
       "        text-align: right;\n",
       "    }\n",
       "</style>\n",
       "<table border=\"1\" class=\"dataframe\">\n",
       "  <thead>\n",
       "    <tr style=\"text-align: right;\">\n",
       "      <th></th>\n",
       "      <th>average_review</th>\n",
       "      <th>police_call_count</th>\n",
       "    </tr>\n",
       "  </thead>\n",
       "  <tbody>\n",
       "    <tr>\n",
       "      <th>92101</th>\n",
       "      <td>4.065003</td>\n",
       "      <td>8725</td>\n",
       "    </tr>\n",
       "    <tr>\n",
       "      <th>92108</th>\n",
       "      <td>3.498595</td>\n",
       "      <td>1430</td>\n",
       "    </tr>\n",
       "    <tr>\n",
       "      <th>92116</th>\n",
       "      <td>4.234287</td>\n",
       "      <td>2555</td>\n",
       "    </tr>\n",
       "    <tr>\n",
       "      <th>92118</th>\n",
       "      <td>4.377688</td>\n",
       "      <td>9</td>\n",
       "    </tr>\n",
       "    <tr>\n",
       "      <th>92123</th>\n",
       "      <td>3.495726</td>\n",
       "      <td>1570</td>\n",
       "    </tr>\n",
       "    <tr>\n",
       "      <th>...</th>\n",
       "      <td>...</td>\n",
       "      <td>...</td>\n",
       "    </tr>\n",
       "    <tr>\n",
       "      <th>91916</th>\n",
       "      <td>4.500000</td>\n",
       "      <td>2</td>\n",
       "    </tr>\n",
       "    <tr>\n",
       "      <th>92036</th>\n",
       "      <td>4.000000</td>\n",
       "      <td>7</td>\n",
       "    </tr>\n",
       "    <tr>\n",
       "      <th>92019</th>\n",
       "      <td>4.500000</td>\n",
       "      <td>5</td>\n",
       "    </tr>\n",
       "    <tr>\n",
       "      <th>92004</th>\n",
       "      <td>5.000000</td>\n",
       "      <td>1</td>\n",
       "    </tr>\n",
       "    <tr>\n",
       "      <th>92028</th>\n",
       "      <td>5.000000</td>\n",
       "      <td>8</td>\n",
       "    </tr>\n",
       "  </tbody>\n",
       "</table>\n",
       "<p>79 rows × 2 columns</p>\n",
       "</div>"
      ],
      "text/plain": [
       "       average_review  police_call_count\n",
       "92101        4.065003               8725\n",
       "92108        3.498595               1430\n",
       "92116        4.234287               2555\n",
       "92118        4.377688                  9\n",
       "92123        3.495726               1570\n",
       "...               ...                ...\n",
       "91916        4.500000                  2\n",
       "92036        4.000000                  7\n",
       "92019        4.500000                  5\n",
       "92004        5.000000                  1\n",
       "92028        5.000000                  8\n",
       "\n",
       "[79 rows x 2 columns]"
      ]
     },
     "execution_count": 20,
     "metadata": {},
     "output_type": "execute_result"
    }
   ],
   "source": [
    "#Merge the police call frequency dataframe with the average rating dataframe\n",
    "merged_df = avg_df.join(police_zip_df_freq, how='inner')\n",
    "merged_df.rename(columns={'zip': 'police_call_count'}, inplace=True)\n",
    "merged_df"
   ]
  },
  {
   "cell_type": "markdown",
   "metadata": {},
   "source": [
    "As we can see there used to be 106 rows for the average yelp review dataframe, but after merging 27 rows which is around 25% were lost. This is actually another limitation of this analysis.Now let's have a look at the merged data before carrying out an analysis. As the summary shows, there seems to be no invalid data."
   ]
  },
  {
   "cell_type": "code",
   "execution_count": 21,
   "metadata": {},
   "outputs": [
    {
     "data": {
      "text/html": [
       "<div>\n",
       "<style scoped>\n",
       "    .dataframe tbody tr th:only-of-type {\n",
       "        vertical-align: middle;\n",
       "    }\n",
       "\n",
       "    .dataframe tbody tr th {\n",
       "        vertical-align: top;\n",
       "    }\n",
       "\n",
       "    .dataframe thead th {\n",
       "        text-align: right;\n",
       "    }\n",
       "</style>\n",
       "<table border=\"1\" class=\"dataframe\">\n",
       "  <thead>\n",
       "    <tr style=\"text-align: right;\">\n",
       "      <th></th>\n",
       "      <th>average_review</th>\n",
       "      <th>police_call_count</th>\n",
       "    </tr>\n",
       "  </thead>\n",
       "  <tbody>\n",
       "    <tr>\n",
       "      <th>count</th>\n",
       "      <td>79.000000</td>\n",
       "      <td>79.000000</td>\n",
       "    </tr>\n",
       "    <tr>\n",
       "      <th>mean</th>\n",
       "      <td>3.949438</td>\n",
       "      <td>1134.594937</td>\n",
       "    </tr>\n",
       "    <tr>\n",
       "      <th>std</th>\n",
       "      <td>0.684619</td>\n",
       "      <td>1683.354035</td>\n",
       "    </tr>\n",
       "    <tr>\n",
       "      <th>min</th>\n",
       "      <td>1.000000</td>\n",
       "      <td>1.000000</td>\n",
       "    </tr>\n",
       "    <tr>\n",
       "      <th>25%</th>\n",
       "      <td>3.755468</td>\n",
       "      <td>32.000000</td>\n",
       "    </tr>\n",
       "    <tr>\n",
       "      <th>50%</th>\n",
       "      <td>4.057143</td>\n",
       "      <td>536.000000</td>\n",
       "    </tr>\n",
       "    <tr>\n",
       "      <th>75%</th>\n",
       "      <td>4.390470</td>\n",
       "      <td>1585.000000</td>\n",
       "    </tr>\n",
       "    <tr>\n",
       "      <th>max</th>\n",
       "      <td>5.000000</td>\n",
       "      <td>8731.000000</td>\n",
       "    </tr>\n",
       "  </tbody>\n",
       "</table>\n",
       "</div>"
      ],
      "text/plain": [
       "       average_review  police_call_count\n",
       "count       79.000000          79.000000\n",
       "mean         3.949438        1134.594937\n",
       "std          0.684619        1683.354035\n",
       "min          1.000000           1.000000\n",
       "25%          3.755468          32.000000\n",
       "50%          4.057143         536.000000\n",
       "75%          4.390470        1585.000000\n",
       "max          5.000000        8731.000000"
      ]
     },
     "execution_count": 21,
     "metadata": {},
     "output_type": "execute_result"
    }
   ],
   "source": [
    "#Have a look at the details of the merged dataframe\n",
    "merged_df.describe()"
   ]
  },
  {
   "cell_type": "markdown",
   "metadata": {},
   "source": [
    "# Data Analysis & Results\n"
   ]
  },
  {
   "cell_type": "markdown",
   "metadata": {},
   "source": [
    "### Data Visualization\n",
    "\n",
    "First I wanted to get a general understanding of the data by looking at the average values and general trend of the data."
   ]
  },
  {
   "cell_type": "code",
   "execution_count": 22,
   "metadata": {},
   "outputs": [
    {
     "data": {
      "image/png": "[encoded data removed]",
      "text/plain": [
       "<Figure size 1080x720 with 4 Axes>"
      ]
     },
     "metadata": {
      "needs_background": "light"
     },
     "output_type": "display_data"
    }
   ],
   "source": [
    "#creates a scatter plot matrix for merged_df\n",
    "pd.plotting.scatter_matrix(merged_df[['average_review','police_call_count']], \n",
    "                           figsize=(15, 10));"
   ]
  },
  {
   "cell_type": "markdown",
   "metadata": {},
   "source": [
    "Figure 1: Scatterplot matrix of columns in merged_df"
   ]
  },
  {
   "cell_type": "markdown",
   "metadata": {},
   "source": [
    "It seems that there are outliers for both average_review and police_call_count, let's use boxplot to have a look."
   ]
  },
  {
   "cell_type": "code",
   "execution_count": 23,
   "metadata": {},
   "outputs": [
    {
     "name": "stdout",
     "output_type": "stream",
     "text": [
      "AxesSubplot(0.125,0.125;0.352273x0.755)\n",
      "AxesSubplot(0.547727,0.125;0.352273x0.755)\n"
     ]
    },
    {
     "data": {
      "image/png": "[encoded data removed]",
      "text/plain": [
       "<Figure size 432x288 with 2 Axes>"
      ]
     },
     "metadata": {
      "needs_background": "light"
     },
     "output_type": "display_data"
    }
   ],
   "source": [
    "#creates a box plot for colmuns in merged_df\n",
    "plt.subplot(1, 2, 1)\n",
    "print(merged_df.boxplot(column=['average_review']))\n",
    "plt.subplot(1, 2, 2)\n",
    "print(merged_df.boxplot(column=['police_call_count']))"
   ]
  },
  {
   "cell_type": "markdown",
   "metadata": {},
   "source": [
    "Figure 2: Boxplot of columns in merged_df"
   ]
  },
  {
   "cell_type": "markdown",
   "metadata": {},
   "source": [
    "It seems that the average_review below 3 and police_call_count above 3000 were all listed as outliers. Let's have a look at them."
   ]
  },
  {
   "cell_type": "code",
   "execution_count": 24,
   "metadata": {},
   "outputs": [
    {
     "name": "stdout",
     "output_type": "stream",
     "text": [
      "       average_review  police_call_count\n",
      "92139        2.500000                929\n",
      "91977        2.275000                 53\n",
      "92083        2.963592                 42\n",
      "92008        2.500000                 72\n",
      "92020        1.500000               2078\n",
      "91911        1.000000                353\n",
      "       average_review  police_call_count\n",
      "92101        4.065003               8725\n",
      "92110        4.251682               4764\n",
      "92109        3.658767               3058\n",
      "92111        4.124904               3975\n",
      "92104        4.039493               4063\n",
      "92102        4.500000               8731\n",
      "92105        4.401961               4295\n"
     ]
    }
   ],
   "source": [
    "#Print the outliers\n",
    "print(merged_df[merged_df['average_review'] < 3 ] )\n",
    "print(merged_df[merged_df['police_call_count'] > 3000 ] )\n"
   ]
  },
  {
   "cell_type": "markdown",
   "metadata": {},
   "source": [
    "- For average review lower than 3, personally I think people don't usually like to give extremely low reviews even if they are not satisfied. So I think it is possible that there are many other factors like if the parks were maintained regularly or if the parks were too noisy or crowded, and etc.<br>\n",
    "- For police_call_count above 3000, I noticed that these zip zones are all highly urbanized areas that are closed to the downtown of San Diego, so it makes sense that these areas have more police calls since they may have more population and therefore, more incidents. <br><br>\n",
    "However, these all reveals that there are limitations of this analysis.<br>\n",
    "But for now, I will just try to make 2 analysis, one with outliers and one without.\n",
    "\n"
   ]
  },
  {
   "cell_type": "code",
   "execution_count": 25,
   "metadata": {},
   "outputs": [
    {
     "name": "stdout",
     "output_type": "stream",
     "text": [
      "AxesSubplot(0.125,0.125;0.352273x0.755)\n",
      "AxesSubplot(0.547727,0.125;0.352273x0.755)\n"
     ]
    },
    {
     "data": {
      "image/png": "[encoded data removed]",
      "text/plain": [
       "<Figure size 432x288 with 2 Axes>"
      ]
     },
     "metadata": {
      "needs_background": "light"
     },
     "output_type": "display_data"
    }
   ],
   "source": [
    "#Remove the outliers, and save them to a new dataframe df\n",
    "df = merged_df[merged_df['police_call_count'] < 3000 ]\n",
    "df = df[df['average_review'] > 3 ] \n",
    "#Print the boxplot of df\n",
    "plt.subplot(1, 2, 1)\n",
    "print(df.boxplot(column=['police_call_count']))\n",
    "plt.subplot(1, 2, 2)\n",
    "print(df.boxplot(column=['average_review']))"
   ]
  },
  {
   "cell_type": "markdown",
   "metadata": {},
   "source": [
    "Figure 2: Boxplot of columns in df (merged_df without outliers)"
   ]
  },
  {
   "cell_type": "markdown",
   "metadata": {},
   "source": [
    "Now we have a dataframe called df without outliers."
   ]
  },
  {
   "cell_type": "code",
   "execution_count": 26,
   "metadata": {},
   "outputs": [
    {
     "name": "stderr",
     "output_type": "stream",
     "text": [
      "C:\\ProgramData\\Anaconda3\\lib\\site-packages\\seaborn\\distributions.py:2551: FutureWarning: `distplot` is a deprecated function and will be removed in a future version. Please adapt your code to use either `displot` (a figure-level function with similar flexibility) or `histplot` (an axes-level function for histograms).\n",
      "  warnings.warn(msg, FutureWarning)\n"
     ]
    },
    {
     "data": {
      "text/plain": [
       "Text(0.5, 1.0, 'avg_review (with outliers)')"
      ]
     },
     "execution_count": 26,
     "metadata": {},
     "output_type": "execute_result"
    },
    {
     "data": {
      "image/png": "[encoded data removed]",
      "text/plain": [
       "<Figure size 432x288 with 2 Axes>"
      ]
     },
     "metadata": {
      "needs_background": "light"
     },
     "output_type": "display_data"
    }
   ],
   "source": [
    "#Print the distribution of average_review colmun, with outliers and without.\n",
    "plt.subplots_adjust(hspace = 11)\n",
    "plt.subplot(1, 2, 1)\n",
    "ax = sns.distplot(df['average_review'], kde=False,color='#3BC4C7')\n",
    "ax.set_title('avg_review (without outliers)')\n",
    "ax.set_ylabel('frequency')\n",
    "plt.subplot(1, 2, 2)\n",
    "bx = sns.distplot(merged_df['average_review'], kde=False,color='#FF6699')\n",
    "bx.set_title('avg_review (with outliers)')\n"
   ]
  },
  {
   "cell_type": "markdown",
   "metadata": {},
   "source": [
    "Figure 3: Distributions of average_review for dataframe with and without outliers.<br>\n",
    "With outliers, the distribution is left-skewed.<br>\n",
    "Without outliers, the distribution looks a little like a normal distribution."
   ]
  },
  {
   "cell_type": "code",
   "execution_count": 27,
   "metadata": {},
   "outputs": [
    {
     "data": {
      "text/plain": [
       "Text(0.5, 1.0, 'police_call(with outliers)')"
      ]
     },
     "execution_count": 27,
     "metadata": {},
     "output_type": "execute_result"
    },
    {
     "data": {
      "image/png": "[encoded data removed]",
      "text/plain": [
       "<Figure size 432x288 with 2 Axes>"
      ]
     },
     "metadata": {
      "needs_background": "light"
     },
     "output_type": "display_data"
    }
   ],
   "source": [
    "#Print the distribution of police_call_count colmun, with outliers and without.\n",
    "plt.subplot(1, 2, 1)\n",
    "ax = sns.distplot(df['police_call_count'], kde=False,color='#3BC4C7')\n",
    "ax.set_title('police_call(without outliers)')\n",
    "ax.set_ylabel('frequency')\n",
    "plt.subplot(1, 2, 2)\n",
    "bx = sns.distplot(merged_df['police_call_count'], kde=False,color='#FF6699')\n",
    "bx.set_title('police_call(with outliers)')\n"
   ]
  },
  {
   "cell_type": "markdown",
   "metadata": {},
   "source": [
    "Figure 4: Distributions of police_call_count for dataframe with and without outliers.<br>\n",
    "For both data, the majority of police call count is less than 1000."
   ]
  },
  {
   "cell_type": "markdown",
   "metadata": {},
   "source": [
    "## Linear Regression\n",
    "\n",
    "To identify the relationship between average yelp ratings of and police call count of different zip zone in San Diego, I'm going to be using a linear regression model to find the best fit line."
   ]
  },
  {
   "cell_type": "markdown",
   "metadata": {},
   "source": [
    "### Without outliers"
   ]
  },
  {
   "cell_type": "code",
   "execution_count": 28,
   "metadata": {},
   "outputs": [
    {
     "name": "stdout",
     "output_type": "stream",
     "text": [
      "                            OLS Regression Results                            \n",
      "==============================================================================\n",
      "Dep. Variable:      police_call_count   R-squared:                       0.065\n",
      "Model:                            OLS   Adj. R-squared:                  0.051\n",
      "Method:                 Least Squares   F-statistic:                     4.407\n",
      "Date:                Wed, 16 Dec 2020   Prob (F-statistic):             0.0398\n",
      "Time:                        15:43:45   Log-Likelihood:                -527.88\n",
      "No. Observations:                  65   AIC:                             1060.\n",
      "Df Residuals:                      63   BIC:                             1064.\n",
      "Df Model:                           1                                         \n",
      "Covariance Type:            nonrobust                                         \n",
      "==================================================================================\n",
      "                     coef    std err          t      P>|t|      [0.025      0.975]\n",
      "----------------------------------------------------------------------------------\n",
      "Intercept       2943.9244   1052.162      2.798      0.007     841.346    5046.503\n",
      "average_review  -534.7253    254.709     -2.099      0.040   -1043.720     -25.730\n",
      "==============================================================================\n",
      "Omnibus:                        9.506   Durbin-Watson:                   1.618\n",
      "Prob(Omnibus):                  0.009   Jarque-Bera (JB):               10.082\n",
      "Skew:                           0.965   Prob(JB):                      0.00647\n",
      "Kurtosis:                       3.032   Cond. No.                         44.8\n",
      "==============================================================================\n",
      "\n",
      "Notes:\n",
      "[1] Standard Errors assume that the covariance matrix of the errors is correctly specified.\n"
     ]
    }
   ],
   "source": [
    "#Creat linear regression model without outliers\n",
    "outcome, predictors = patsy.dmatrices('police_call_count ~ average_review', df)\n",
    "mod = sm.OLS(outcome, predictors)\n",
    "res = mod.fit()\n",
    "print(res.summary())"
   ]
  },
  {
   "cell_type": "code",
   "execution_count": 29,
   "metadata": {},
   "outputs": [
    {
     "data": {
      "image/png": "[encoded data removed]",
      "text/plain": [
       "<Figure size 432x288 with 1 Axes>"
      ]
     },
     "metadata": {
      "needs_background": "light"
     },
     "output_type": "display_data"
    }
   ],
   "source": [
    "#plot the original data\n",
    "sns.scatterplot(x='average_review', y='police_call_count', data=df ,color='#3BC4C7')\n",
    "\n",
    "#generate model fit line\n",
    "xs = np.arange(df['average_review'].min(), df['average_review'].max())\n",
    "ys = -534.7253  * xs + 2943.9244\n",
    "ax =plt.plot(xs, ys, 'k', linewidth=2, label='Model')\n",
    "\n",
    "plt.xlabel('average_review')\n",
    "plt.ylabel('police_call_count')\n",
    "plt.title('Relationship between average_review and police_call_counts')\n",
    "plt.legend();"
   ]
  },
  {
   "cell_type": "markdown",
   "metadata": {},
   "source": [
    "Figure 5: The line generated from the linear regression model suggests there may be a negative correlation between the police call count and average yelp review when the outlies are removed. The lower the police call count, the higher the average yelp rating. However, since R-squared is very small, we don't have strong confidence to conclude this relation."
   ]
  },
  {
   "cell_type": "markdown",
   "metadata": {},
   "source": [
    "### With outliers"
   ]
  },
  {
   "cell_type": "code",
   "execution_count": 30,
   "metadata": {},
   "outputs": [
    {
     "name": "stdout",
     "output_type": "stream",
     "text": [
      "                            OLS Regression Results                            \n",
      "==============================================================================\n",
      "Dep. Variable:      police_call_count   R-squared:                       0.002\n",
      "Model:                            OLS   Adj. R-squared:                 -0.011\n",
      "Method:                 Least Squares   F-statistic:                    0.1400\n",
      "Date:                Wed, 16 Dec 2020   Prob (F-statistic):              0.709\n",
      "Time:                        15:43:45   Log-Likelihood:                -698.38\n",
      "No. Observations:                  79   AIC:                             1401.\n",
      "Df Residuals:                      77   BIC:                             1405.\n",
      "Df Model:                           1                                         \n",
      "Covariance Type:            nonrobust                                         \n",
      "==================================================================================\n",
      "                     coef    std err          t      P>|t|      [0.025      0.975]\n",
      "----------------------------------------------------------------------------------\n",
      "Intercept        720.9142   1121.943      0.643      0.522   -1513.159    2954.987\n",
      "average_review   104.7442    279.954      0.374      0.709    -452.715     662.204\n",
      "==============================================================================\n",
      "Omnibus:                       64.892   Durbin-Watson:                   1.410\n",
      "Prob(Omnibus):                  0.000   Jarque-Bera (JB):              323.213\n",
      "Skew:                           2.629   Prob(JB):                     6.53e-71\n",
      "Kurtosis:                      11.399   Cond. No.                         25.0\n",
      "==============================================================================\n",
      "\n",
      "Notes:\n",
      "[1] Standard Errors assume that the covariance matrix of the errors is correctly specified.\n"
     ]
    }
   ],
   "source": [
    "#Creat linear regression model with outliers\n",
    "outcome, predictors = patsy.dmatrices('police_call_count ~ average_review', merged_df)\n",
    "mod = sm.OLS(outcome, predictors)\n",
    "res = mod.fit()\n",
    "print(res.summary())"
   ]
  },
  {
   "cell_type": "code",
   "execution_count": 31,
   "metadata": {},
   "outputs": [
    {
     "data": {
      "image/png": "[encoded data removed]",
      "text/plain": [
       "<Figure size 432x288 with 1 Axes>"
      ]
     },
     "metadata": {
      "needs_background": "light"
     },
     "output_type": "display_data"
    }
   ],
   "source": [
    "#plot original data\n",
    "sns.scatterplot(x='average_review', y='police_call_count', data=merged_df, color='#FF6699')\n",
    "\n",
    "#generate model fit line\n",
    "xs = np.arange(merged_df['average_review'].min(), merged_df['average_review'].max())\n",
    "ys = 104.7442 * xs + 720.9142\n",
    "ax =plt.plot(xs, ys, 'k', linewidth=2, label='Model')\n",
    "\n",
    "plt.xlabel('average_review')\n",
    "plt.ylabel('police_call_count')\n",
    "plt.title('Relationship between average_review and police_call_counts')\n",
    "plt.legend();"
   ]
  },
  {
   "cell_type": "markdown",
   "metadata": {},
   "source": [
    "Figure 5: The line generated from the linear regression model suggests when outliers are not removed, there may be a slight positive correlation between the police call count and average yelp review. The higher the police call count, the lower the average yelp rating. However, as we can see that there are data obviously skewing the results, and its R-squared is extremely small, so we won't have any confidence to conclude this relation."
   ]
  },
  {
   "cell_type": "markdown",
   "metadata": {},
   "source": [
    "## Results\n"
   ]
  },
  {
   "cell_type": "markdown",
   "metadata": {},
   "source": [
    "It seems that when the average yelp reviews are above 3, and when some of the zipcode closed to San Diego downtown were removed, there is a small trend that the lower the police call count, the higher the average yelp rating."
   ]
  },
  {
   "cell_type": "markdown",
   "metadata": {},
   "source": [
    "# Ethics & Privacy"
   ]
  },
  {
   "cell_type": "markdown",
   "metadata": {},
   "source": [
    "The datasets were given to me so I assume that I have permissions to use them for analysis. Also, since they were given to me by academic faculties,I assume that their privacy were carefully checked by professionals before I use them for analysis. Depending on what is avaliable to me, the two data sets I used were avaliable for the pulic to view. The yelp data set is accessible to the public via yelp's website, and the police call data set is acessible to public through San Diego government's website.\n",
    "\n",
    "However, although the police call data is accessible to the public, one area to be concerned about privacy is the information identifying the people that making those calls. There incident number for each call is avalible in this data set. It is highly possible that these numbers are associated with people's private information like name, IDs, phone numbers, and etc in somewhere of the government's database. It is possible that people have acess to it will break people's privacy using those incident number. But since this information is not useful in this analysis, it was removed. Another potential area for concern would be the privacy or the people who rated the parks on yelp. However, this would not be a problem in our case since all the private information does not exist in our yelp data, so there's no way to identify the users who rated the parks.\n",
    "\n",
    "Also, there is potential for bias in how the data were collected. For the police call data, I'm not too certain about how the priority of each call was determined, but I assume that they were determined by human beings, who always have their subjective opinions. For example, as we all know the problem between police and racism is really severe, which means it is possible that police department would be more cautious when the suspects were related to certain races. Also,the values for the priorities in the data set are not entirely consistent with the government's official definition, which results to me making assumptions that priority 1 is corresponding to very urgent incident. But since the official definitions are not consistent with the actual data, it is possible that my assumption is wrong. Another potential bias is that the yelp reviews are not representative of the entire population. Some people may have higher expectations for parks, and some may not. Also, it is likely that some people have opinions on the parks, but didn't post reviews on yelp. People who are more likely to write a review online might bias the yelp dataset. While these biases are unavoidable, it is important to note their potential to influence the data.\n",
    "\n",
    "One possible unintended consequence of this analysis could be emphasizing negative qualities of an individual park of San Diego. Even though the reviews for each parks and the police call count of each area are avaliable to public, this analysis could potentially build a relationship between crimes and low rating parks in people's subconscious. But this consequence may be unavoidable considering the research questions seeks to understand what is the relationship between them, but still, it is necessary that people who read this analysis trying to understand it objectively."
   ]
  },
  {
   "cell_type": "markdown",
   "metadata": {},
   "source": [
    "# Conclusion & Discussion"
   ]
  },
  {
   "cell_type": "markdown",
   "metadata": {},
   "source": [
    "In this project, I intended to find the relationship between the average yelp ratings and the number of urgent police calls of different zip zones of San Diego. To see if yelp information of parks might be able to provide us information related to the public safety. I firstly extract raw address of each police call using geopy, then extract the zipcode data from the well organized yelp data directly. After that, I calculated the police call frequency of each zip zone and calculated the average yelp reviews of different zip zones. Then, I merged these two information to be able to look at the average yelp scores side to side with the number of police call. Next, I cleanned the data, and then found out that there are outliers in each data. For the yelp data, outliers occurred in low ratings, and for police call data, outliers occurred in highly urbanized areas that are closed to downtown San Diego. Then, I created another dataframe contains no outliers. For both data with and without outliers, I plotted the relationship between average yelp scores and number of urgent police calls and used linear regression to create a best fit line using linear regression to better visualize their correlation. Based on the results, I found there seem to be a negative correlation between the average yelp scores and the number of police calls when the outliers are cleanned, and a positve correlation between them when outliers were kept. However, the R-suqared for both model is very small, but for the one with outliers, it is much smaller, which indicates that the negative correlation produced by data without outliers may be more trustworthy, which indicates that my hypothesis seems to be correct.\n",
    "\n",
    "However, there were several limitations to this project. First is that when I transformed the raw address of each police call to zipcode using geopy, many data were lost. Some of them were not successfully transformed into proper zipcode of San Diego. Another limitation is that when I merged the average yelp ratings and the police call count data together, 25% of the orignial average rating data were lost. These lost data have the potential to greatly influence the result of this analysis if they were not lost. Besides, the use of a simple linear regression model seems not to be the best approach to analyzing the data. Given more time I would have liked to explore other models that better account for other variables. For example, I noticed that zip zones closed to the downtown have much more police calls than others. This makes sense because they may have more population. And more population could mean more reviews, when more people expressed their opinions, the rating would tend to be less extreme values. Therefore, population could be a confounding variable here. Also, the poverty levels can also influence the number of police calls, and it can also somewhat indicate how much fund the local government could use to maintain parks. So it is also a confounding variable, which could be considered in future analysis. Another limitation was that the average yelp ratings may not be the best indication of parks' quality. It is highly possible that some people have opinions on the parks, but didn't post reviews on yelp or there are some people overexpressed their dissatisfaction. What is more, the official description of the police call data is not consistent with the actual data, which means what I have assumed that the prioirty 1 is urgent could be totall opposite. Also,dataset could be using outdated information. Although we know that he police call data is for 2019, but we have no idea about when is the yelp rating data collected. Besides,yelp ratings seem to be accumulated, which means when things have changed, the reviews made years ago would still be there and influence our analysis. What is more, I was assuming that the yelp data contains only parks' reviews, but since they are collected from Yelp's API, which means they were not checked and proofread by professionals, my assumption could be totally wrong. Also, the data only included information in San Diego, so the results could not be applied stately or nationally.\n",
    "\n",
    "Overall, I think this project may help to provide further insight into the relationship between the quality of parks and safety of different areas. It could help inform state and local Parks& Recreation and public safety department that how data from online park reviews might provide valuable information related to a location's urgent incidents frequency."
   ]
  },
  {
   "cell_type": "code",
   "execution_count": null,
   "metadata": {},
   "outputs": [],
   "source": []
  }
 ],
 "metadata": {
  "kernelspec": {
   "display_name": "Python 3",
   "language": "python",
   "name": "python3"
  },
  "language_info": {
   "codemirror_mode": {
    "name": "ipython",
    "version": 3
   },
   "file_extension": ".py",
   "mimetype": "text/x-python",
   "name": "python",
   "nbconvert_exporter": "python",
   "pygments_lexer": "ipython3",
   "version": "3.8.5"
  }
 },
 "nbformat": 4,
 "nbformat_minor": 4
}
