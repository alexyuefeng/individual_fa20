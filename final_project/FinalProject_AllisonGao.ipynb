{
 "cells": [
  {
   "cell_type": "markdown",
   "metadata": {},
   "source": [
    "# COGS 108 - Final Project"
   ]
  },
  {
   "cell_type": "markdown",
   "metadata": {},
   "source": [
    "# Overview\n",
    "In this project, I intended to identify the revenues and expenses of four different fundings types for San Diego Parks & Recreation budget. These four types are \"General Fund\", \"Enterprise Funds\", \"Capital Project Fund\" and \"Special Revenue Fund\". I looked at a dataset of San Diego operating budget with the amount of revenue and expenses for Parks & Recreation funds. From this analysis, I found that General Fund for San Diego Parks & Recreation use had the highest revenues and expenses while Capital Project Funds had the lowest revenues and expenses. "
   ]
  },
  {
   "cell_type": "markdown",
   "metadata": {},
   "source": [
    "# Name & GitHub\n",
    "- Name: Allison Gao\n",
    "- GitHub Username: AllisonGao"
   ]
  },
  {
   "cell_type": "markdown",
   "metadata": {},
   "source": [
    "# Research Question\n",
    "What is the relationship and distribution of revenue and expenses for four categories of funds for Parks & Recreation: General fund; Special Revenue Fund; Enterprise Fund; Capital Project Fund? What can we learn and foresee from the distribution of money? For this data analysis, we will specifically looking at fundings in San Diego Parks & Recreation."
   ]
  },
  {
   "cell_type": "markdown",
   "metadata": {},
   "source": [
    "# Background and Prior Work\n",
    "Funding and Budgeting are important measures for the government to carry out city operations and services. A fund is a separate fiscal and accounting entity with a self-balancing set of accounts recording cash and other financial resources, together with all related liabilities and residual equities or balances, or changes therein(1). \n",
    "\n",
    "In San Diego Parks & Recreation department, there are four major funding types: General Fund, Enterprise Funds, Capital Project Fund and Special Revenue Fund. Each accounts for different levels of reveneus and expenses. The General Fund is where the government accounts for everything not reported in another fund; Special revenue fund is for reporting specific revenue sources that are limited to being used for a particular purpose; Capital project fund tracks the accumulation and use of resources for constructing, acquiring, and rehabilitating capital assets, such as buildings and roads; Enterprise fund is a self-supporting government fund that sells goods and services to the public for a fee(3).\n",
    "\n",
    "Why should we care about the distribution and trend of the avenues and expenses of funds? Recording and regularly reviewing the expenses gives us a good idea of the revenue earned against the money spent. It helps the administration pinpoint unnecessary expenditures and know when it’s time and how to cut costs to maintain profitability. Ultimately, this helps the government plan for the future of Parks & Recreation development and maintenance in San Diego County with more clarity and confidence(2).\n",
    "\n",
    "\n",
    "\n",
    "### Refrences(include links):\n",
    "- 1)https://nces.ed.gov/pubs2009/fin_acct/chapter6_1.asp\n",
    "- 2)https://www.summitfr.com/examining-business-expenses-is-a-measure-of-success/\n",
    "- 3)https://www.gasb.org/cs/ContentServer?cid=1176156737123&d=Touch&pagename=GASB%2FGASBContent_C%2FUsersArticlePage"
   ]
  },
  {
   "cell_type": "markdown",
   "metadata": {},
   "source": [
    "# Hypothesis\n",
    "I hypothesize that Capital Project Fund would have the lowest expense since the dataset was recored in recent years and few major new parks & recreation was built; Enterprise Funds would have the highest revenue since the fund was meant to sell service and self-support."
   ]
  },
  {
   "cell_type": "markdown",
   "metadata": {},
   "source": [
    "# Datasets\n",
    "### Dataset 1:\n",
    "\n",
    "- Dataset Name: actuals_operating_datasd\n",
    "- Link to the dataset: no link, dataset was provided through Github\n",
    "- Number of observations: 454891 observations\n",
    "\n",
    "This dataset provides information on the amount of revenue and expenses go into Parks & Recreation in San Diego and specified the type of fundings. \n",
    "\n",
    "### Dataset 2:\n",
    "\n",
    "- Dataset Name: operating_actuals_dictionary_datasd\n",
    "- Link to the dataset: no link, dataset was provided through Github\n",
    "- Number of observations: 7 observations\n",
    "\n",
    "This dataset serves as the dictionary for dataset 1."
   ]
  },
  {
   "cell_type": "markdown",
   "metadata": {},
   "source": [
    "# Setup"
   ]
  },
  {
   "cell_type": "code",
   "execution_count": 1,
   "metadata": {},
   "outputs": [],
   "source": [
    "#import libraries needed for project\n",
    "import numpy as np\n",
    "import pandas as pd\n",
    "import matplotlib.pyplot as plt\n",
    "import seaborn as sns"
   ]
  },
  {
   "cell_type": "markdown",
   "metadata": {},
   "source": [
    "# Data Cleaning"
   ]
  },
  {
   "cell_type": "code",
   "execution_count": 2,
   "metadata": {},
   "outputs": [],
   "source": [
    "#load the datasets used for analysis\n",
    "df_budget = pd.read_csv('actuals_operating_datasd.csv')\n",
    "df_budget_dictionary = pd.read_csv('operating_actuals_dictionary_datasd.csv')"
   ]
  },
  {
   "cell_type": "markdown",
   "metadata": {},
   "source": [
    "First take a look at the dictionary for the main dataset we are going to use to get a better understanding of which data should be preserved and which should be dropped. We quickly noticed that explanation for \"report_fy\" in the df_budget was missing here. However, we can logically predict that \"report_fy\" stands for \"the fiscal year in which the data were reported, which will not be particularly analyzed in the project."
   ]
  },
  {
   "cell_type": "code",
   "execution_count": 3,
   "metadata": {},
   "outputs": [
    {
     "data": {
      "text/html": [
       "<div>\n",
       "<style scoped>\n",
       "    .dataframe tbody tr th:only-of-type {\n",
       "        vertical-align: middle;\n",
       "    }\n",
       "\n",
       "    .dataframe tbody tr th {\n",
       "        vertical-align: top;\n",
       "    }\n",
       "\n",
       "    .dataframe thead th {\n",
       "        text-align: right;\n",
       "    }\n",
       "</style>\n",
       "<table border=\"1\" class=\"dataframe\">\n",
       "  <thead>\n",
       "    <tr style=\"text-align: right;\">\n",
       "      <th></th>\n",
       "      <th>field</th>\n",
       "      <th>description</th>\n",
       "      <th>possible_values</th>\n",
       "    </tr>\n",
       "  </thead>\n",
       "  <tbody>\n",
       "    <tr>\n",
       "      <th>0</th>\n",
       "      <td>amount</td>\n",
       "      <td>Amount spent</td>\n",
       "      <td>NaN</td>\n",
       "    </tr>\n",
       "    <tr>\n",
       "      <th>1</th>\n",
       "      <td>fund_type</td>\n",
       "      <td>Groups funds by general purpose</td>\n",
       "      <td>NaN</td>\n",
       "    </tr>\n",
       "    <tr>\n",
       "      <th>2</th>\n",
       "      <td>fund_number</td>\n",
       "      <td>Uniquely identifies the fund. Capital funds ar...</td>\n",
       "      <td>NaN</td>\n",
       "    </tr>\n",
       "    <tr>\n",
       "      <th>3</th>\n",
       "      <td>dept_name</td>\n",
       "      <td>Department name</td>\n",
       "      <td>NaN</td>\n",
       "    </tr>\n",
       "    <tr>\n",
       "      <th>4</th>\n",
       "      <td>funds_center_number</td>\n",
       "      <td>Unique identifier for a funds center. A funds ...</td>\n",
       "      <td>NaN</td>\n",
       "    </tr>\n",
       "    <tr>\n",
       "      <th>5</th>\n",
       "      <td>account</td>\n",
       "      <td>Describes the smallest subset of an account gr...</td>\n",
       "      <td>NaN</td>\n",
       "    </tr>\n",
       "    <tr>\n",
       "      <th>6</th>\n",
       "      <td>account_number</td>\n",
       "      <td>Uniquely identifies an expense or revenue acco...</td>\n",
       "      <td>NaN</td>\n",
       "    </tr>\n",
       "  </tbody>\n",
       "</table>\n",
       "</div>"
      ],
      "text/plain": [
       "                 field                                        description  \\\n",
       "0               amount                                       Amount spent   \n",
       "1            fund_type                    Groups funds by general purpose   \n",
       "2          fund_number  Uniquely identifies the fund. Capital funds ar...   \n",
       "3            dept_name                                    Department name   \n",
       "4  funds_center_number  Unique identifier for a funds center. A funds ...   \n",
       "5              account  Describes the smallest subset of an account gr...   \n",
       "6       account_number  Uniquely identifies an expense or revenue acco...   \n",
       "\n",
       "   possible_values  \n",
       "0              NaN  \n",
       "1              NaN  \n",
       "2              NaN  \n",
       "3              NaN  \n",
       "4              NaN  \n",
       "5              NaN  \n",
       "6              NaN  "
      ]
     },
     "execution_count": 3,
     "metadata": {},
     "output_type": "execute_result"
    }
   ],
   "source": [
    "#display dictionary\n",
    "df_budget_dictionary"
   ]
  },
  {
   "cell_type": "markdown",
   "metadata": {},
   "source": [
    "Since I will only be analyzing over revenues and expenses on \"Parks & Recreation\" in San Diego, I will start with slicing the data and save it in a new dataframe named df_park_budget."
   ]
  },
  {
   "cell_type": "code",
   "execution_count": 4,
   "metadata": {},
   "outputs": [
    {
     "data": {
      "text/html": [
       "<div>\n",
       "<style scoped>\n",
       "    .dataframe tbody tr th:only-of-type {\n",
       "        vertical-align: middle;\n",
       "    }\n",
       "\n",
       "    .dataframe tbody tr th {\n",
       "        vertical-align: top;\n",
       "    }\n",
       "\n",
       "    .dataframe thead th {\n",
       "        text-align: right;\n",
       "    }\n",
       "</style>\n",
       "<table border=\"1\" class=\"dataframe\">\n",
       "  <thead>\n",
       "    <tr style=\"text-align: right;\">\n",
       "      <th></th>\n",
       "      <th>amount</th>\n",
       "      <th>report_fy</th>\n",
       "      <th>fund_type</th>\n",
       "      <th>fund_number</th>\n",
       "      <th>dept_name</th>\n",
       "      <th>funds_center_number</th>\n",
       "      <th>account</th>\n",
       "      <th>account_number</th>\n",
       "    </tr>\n",
       "  </thead>\n",
       "  <tbody>\n",
       "    <tr>\n",
       "      <th>8111</th>\n",
       "      <td>75.52</td>\n",
       "      <td>17</td>\n",
       "      <td>General Fund</td>\n",
       "      <td>100000</td>\n",
       "      <td>Parks &amp; Recreation</td>\n",
       "      <td>1714110001</td>\n",
       "      <td>Graffitti Control Restitution</td>\n",
       "      <td>417024</td>\n",
       "    </tr>\n",
       "    <tr>\n",
       "      <th>8112</th>\n",
       "      <td>156.84</td>\n",
       "      <td>17</td>\n",
       "      <td>General Fund</td>\n",
       "      <td>100000</td>\n",
       "      <td>Parks &amp; Recreation</td>\n",
       "      <td>1714110001</td>\n",
       "      <td>Repair Damages Recovered</td>\n",
       "      <td>423106</td>\n",
       "    </tr>\n",
       "    <tr>\n",
       "      <th>8113</th>\n",
       "      <td>-6478.12</td>\n",
       "      <td>17</td>\n",
       "      <td>General Fund</td>\n",
       "      <td>100000</td>\n",
       "      <td>Parks &amp; Recreation</td>\n",
       "      <td>1714110001</td>\n",
       "      <td>Salaried Wages</td>\n",
       "      <td>500011</td>\n",
       "    </tr>\n",
       "    <tr>\n",
       "      <th>8114</th>\n",
       "      <td>-188.86</td>\n",
       "      <td>17</td>\n",
       "      <td>General Fund</td>\n",
       "      <td>100000</td>\n",
       "      <td>Parks &amp; Recreation</td>\n",
       "      <td>1714110001</td>\n",
       "      <td>Supp Pens Sav Plan Mandatory</td>\n",
       "      <td>502021</td>\n",
       "    </tr>\n",
       "    <tr>\n",
       "      <th>8115</th>\n",
       "      <td>-181.19</td>\n",
       "      <td>17</td>\n",
       "      <td>General Fund</td>\n",
       "      <td>100000</td>\n",
       "      <td>Parks &amp; Recreation</td>\n",
       "      <td>1714110001</td>\n",
       "      <td>Supp Pens Sav Plan Voluntary</td>\n",
       "      <td>502022</td>\n",
       "    </tr>\n",
       "    <tr>\n",
       "      <th>...</th>\n",
       "      <td>...</td>\n",
       "      <td>...</td>\n",
       "      <td>...</td>\n",
       "      <td>...</td>\n",
       "      <td>...</td>\n",
       "      <td>...</td>\n",
       "      <td>...</td>\n",
       "      <td>...</td>\n",
       "    </tr>\n",
       "    <tr>\n",
       "      <th>450333</th>\n",
       "      <td>281118.00</td>\n",
       "      <td>19</td>\n",
       "      <td>Enterprise Funds</td>\n",
       "      <td>700043</td>\n",
       "      <td>Parks &amp; Recreation</td>\n",
       "      <td>1714161317</td>\n",
       "      <td>Rent Expense (Non-Discretionary)</td>\n",
       "      <td>512217</td>\n",
       "    </tr>\n",
       "    <tr>\n",
       "      <th>450334</th>\n",
       "      <td>7.52</td>\n",
       "      <td>19</td>\n",
       "      <td>Enterprise Funds</td>\n",
       "      <td>700043</td>\n",
       "      <td>Parks &amp; Recreation</td>\n",
       "      <td>1714161317</td>\n",
       "      <td>Wireless Stipend</td>\n",
       "      <td>512245</td>\n",
       "    </tr>\n",
       "    <tr>\n",
       "      <th>450335</th>\n",
       "      <td>104533.52</td>\n",
       "      <td>19</td>\n",
       "      <td>Enterprise Funds</td>\n",
       "      <td>700043</td>\n",
       "      <td>Parks &amp; Recreation</td>\n",
       "      <td>1714161317</td>\n",
       "      <td>Electric Services</td>\n",
       "      <td>514100</td>\n",
       "    </tr>\n",
       "    <tr>\n",
       "      <th>450336</th>\n",
       "      <td>557.23</td>\n",
       "      <td>19</td>\n",
       "      <td>Enterprise Funds</td>\n",
       "      <td>700043</td>\n",
       "      <td>Parks &amp; Recreation</td>\n",
       "      <td>1714161317</td>\n",
       "      <td>Gas Services</td>\n",
       "      <td>514101</td>\n",
       "    </tr>\n",
       "    <tr>\n",
       "      <th>450337</th>\n",
       "      <td>26.42</td>\n",
       "      <td>19</td>\n",
       "      <td>Enterprise Funds</td>\n",
       "      <td>700043</td>\n",
       "      <td>Parks &amp; Recreation</td>\n",
       "      <td>1714161317</td>\n",
       "      <td>Transportation Allowance</td>\n",
       "      <td>516015</td>\n",
       "    </tr>\n",
       "  </tbody>\n",
       "</table>\n",
       "<p>89855 rows × 8 columns</p>\n",
       "</div>"
      ],
      "text/plain": [
       "           amount  report_fy         fund_type  fund_number  \\\n",
       "8111        75.52         17      General Fund       100000   \n",
       "8112       156.84         17      General Fund       100000   \n",
       "8113     -6478.12         17      General Fund       100000   \n",
       "8114      -188.86         17      General Fund       100000   \n",
       "8115      -181.19         17      General Fund       100000   \n",
       "...           ...        ...               ...          ...   \n",
       "450333  281118.00         19  Enterprise Funds       700043   \n",
       "450334       7.52         19  Enterprise Funds       700043   \n",
       "450335  104533.52         19  Enterprise Funds       700043   \n",
       "450336     557.23         19  Enterprise Funds       700043   \n",
       "450337      26.42         19  Enterprise Funds       700043   \n",
       "\n",
       "                 dept_name  funds_center_number  \\\n",
       "8111    Parks & Recreation           1714110001   \n",
       "8112    Parks & Recreation           1714110001   \n",
       "8113    Parks & Recreation           1714110001   \n",
       "8114    Parks & Recreation           1714110001   \n",
       "8115    Parks & Recreation           1714110001   \n",
       "...                    ...                  ...   \n",
       "450333  Parks & Recreation           1714161317   \n",
       "450334  Parks & Recreation           1714161317   \n",
       "450335  Parks & Recreation           1714161317   \n",
       "450336  Parks & Recreation           1714161317   \n",
       "450337  Parks & Recreation           1714161317   \n",
       "\n",
       "                                 account  account_number  \n",
       "8111       Graffitti Control Restitution          417024  \n",
       "8112            Repair Damages Recovered          423106  \n",
       "8113                      Salaried Wages          500011  \n",
       "8114        Supp Pens Sav Plan Mandatory          502021  \n",
       "8115        Supp Pens Sav Plan Voluntary          502022  \n",
       "...                                  ...             ...  \n",
       "450333  Rent Expense (Non-Discretionary)          512217  \n",
       "450334                  Wireless Stipend          512245  \n",
       "450335                 Electric Services          514100  \n",
       "450336                      Gas Services          514101  \n",
       "450337          Transportation Allowance          516015  \n",
       "\n",
       "[89855 rows x 8 columns]"
      ]
     },
     "execution_count": 4,
     "metadata": {},
     "output_type": "execute_result"
    }
   ],
   "source": [
    "#slice data \n",
    "df_park_budget = df_budget.loc[df_budget['dept_name'] == 'Parks & Recreation']\n",
    "\n",
    "df_park_budget\n",
    "\n"
   ]
  },
  {
   "cell_type": "markdown",
   "metadata": {},
   "source": [
    "To make the dataset more manageable, I dropped the colums with information that I won't be using for this analysis(report_fy; fund_number ; funds_center_number; account). This could be one of the limitations of the analysis since these information could have potentially been applicable to this project.\n",
    "\n",
    "I also reset the index for the dataset for clearer interpretation."
   ]
  },
  {
   "cell_type": "code",
   "execution_count": 5,
   "metadata": {},
   "outputs": [
    {
     "data": {
      "text/html": [
       "<div>\n",
       "<style scoped>\n",
       "    .dataframe tbody tr th:only-of-type {\n",
       "        vertical-align: middle;\n",
       "    }\n",
       "\n",
       "    .dataframe tbody tr th {\n",
       "        vertical-align: top;\n",
       "    }\n",
       "\n",
       "    .dataframe thead th {\n",
       "        text-align: right;\n",
       "    }\n",
       "</style>\n",
       "<table border=\"1\" class=\"dataframe\">\n",
       "  <thead>\n",
       "    <tr style=\"text-align: right;\">\n",
       "      <th></th>\n",
       "      <th>amount</th>\n",
       "      <th>fund_type</th>\n",
       "      <th>dept_name</th>\n",
       "      <th>account_number</th>\n",
       "    </tr>\n",
       "  </thead>\n",
       "  <tbody>\n",
       "    <tr>\n",
       "      <th>0</th>\n",
       "      <td>75.52</td>\n",
       "      <td>General Fund</td>\n",
       "      <td>Parks &amp; Recreation</td>\n",
       "      <td>417024</td>\n",
       "    </tr>\n",
       "    <tr>\n",
       "      <th>1</th>\n",
       "      <td>156.84</td>\n",
       "      <td>General Fund</td>\n",
       "      <td>Parks &amp; Recreation</td>\n",
       "      <td>423106</td>\n",
       "    </tr>\n",
       "    <tr>\n",
       "      <th>2</th>\n",
       "      <td>-6478.12</td>\n",
       "      <td>General Fund</td>\n",
       "      <td>Parks &amp; Recreation</td>\n",
       "      <td>500011</td>\n",
       "    </tr>\n",
       "    <tr>\n",
       "      <th>3</th>\n",
       "      <td>-188.86</td>\n",
       "      <td>General Fund</td>\n",
       "      <td>Parks &amp; Recreation</td>\n",
       "      <td>502021</td>\n",
       "    </tr>\n",
       "    <tr>\n",
       "      <th>4</th>\n",
       "      <td>-181.19</td>\n",
       "      <td>General Fund</td>\n",
       "      <td>Parks &amp; Recreation</td>\n",
       "      <td>502022</td>\n",
       "    </tr>\n",
       "    <tr>\n",
       "      <th>...</th>\n",
       "      <td>...</td>\n",
       "      <td>...</td>\n",
       "      <td>...</td>\n",
       "      <td>...</td>\n",
       "    </tr>\n",
       "    <tr>\n",
       "      <th>89850</th>\n",
       "      <td>281118.00</td>\n",
       "      <td>Enterprise Funds</td>\n",
       "      <td>Parks &amp; Recreation</td>\n",
       "      <td>512217</td>\n",
       "    </tr>\n",
       "    <tr>\n",
       "      <th>89851</th>\n",
       "      <td>7.52</td>\n",
       "      <td>Enterprise Funds</td>\n",
       "      <td>Parks &amp; Recreation</td>\n",
       "      <td>512245</td>\n",
       "    </tr>\n",
       "    <tr>\n",
       "      <th>89852</th>\n",
       "      <td>104533.52</td>\n",
       "      <td>Enterprise Funds</td>\n",
       "      <td>Parks &amp; Recreation</td>\n",
       "      <td>514100</td>\n",
       "    </tr>\n",
       "    <tr>\n",
       "      <th>89853</th>\n",
       "      <td>557.23</td>\n",
       "      <td>Enterprise Funds</td>\n",
       "      <td>Parks &amp; Recreation</td>\n",
       "      <td>514101</td>\n",
       "    </tr>\n",
       "    <tr>\n",
       "      <th>89854</th>\n",
       "      <td>26.42</td>\n",
       "      <td>Enterprise Funds</td>\n",
       "      <td>Parks &amp; Recreation</td>\n",
       "      <td>516015</td>\n",
       "    </tr>\n",
       "  </tbody>\n",
       "</table>\n",
       "<p>89855 rows × 4 columns</p>\n",
       "</div>"
      ],
      "text/plain": [
       "          amount         fund_type           dept_name  account_number\n",
       "0          75.52      General Fund  Parks & Recreation          417024\n",
       "1         156.84      General Fund  Parks & Recreation          423106\n",
       "2       -6478.12      General Fund  Parks & Recreation          500011\n",
       "3        -188.86      General Fund  Parks & Recreation          502021\n",
       "4        -181.19      General Fund  Parks & Recreation          502022\n",
       "...          ...               ...                 ...             ...\n",
       "89850  281118.00  Enterprise Funds  Parks & Recreation          512217\n",
       "89851       7.52  Enterprise Funds  Parks & Recreation          512245\n",
       "89852  104533.52  Enterprise Funds  Parks & Recreation          514100\n",
       "89853     557.23  Enterprise Funds  Parks & Recreation          514101\n",
       "89854      26.42  Enterprise Funds  Parks & Recreation          516015\n",
       "\n",
       "[89855 rows x 4 columns]"
      ]
     },
     "execution_count": 5,
     "metadata": {},
     "output_type": "execute_result"
    }
   ],
   "source": [
    "#reset index for dataset\n",
    "df_park_budget = df_park_budget.reset_index()\n",
    "\n",
    "#drop columns not needed for analysis\n",
    "df_park_budget = df_park_budget.drop(['index', 'report_fy', 'fund_number', 'funds_center_number', 'account'], axis=1)\n",
    "\n",
    "df_park_budget"
   ]
  },
  {
   "cell_type": "markdown",
   "metadata": {},
   "source": [
    "From dictionary we know that the first digit of \"account_number\" indicates different meanings. \"4\" stands for revenues while \"5\" stands for expenses. Thus, I create a function to specify this information and replace \"account_number\" column with a new column \"account_type\" which has possible values of \"revenue\" or \"expense\"."
   ]
  },
  {
   "cell_type": "code",
   "execution_count": 6,
   "metadata": {},
   "outputs": [
    {
     "data": {
      "text/html": [
       "<div>\n",
       "<style scoped>\n",
       "    .dataframe tbody tr th:only-of-type {\n",
       "        vertical-align: middle;\n",
       "    }\n",
       "\n",
       "    .dataframe tbody tr th {\n",
       "        vertical-align: top;\n",
       "    }\n",
       "\n",
       "    .dataframe thead th {\n",
       "        text-align: right;\n",
       "    }\n",
       "</style>\n",
       "<table border=\"1\" class=\"dataframe\">\n",
       "  <thead>\n",
       "    <tr style=\"text-align: right;\">\n",
       "      <th></th>\n",
       "      <th>amount</th>\n",
       "      <th>fund_type</th>\n",
       "      <th>dept_name</th>\n",
       "      <th>account_type</th>\n",
       "    </tr>\n",
       "  </thead>\n",
       "  <tbody>\n",
       "    <tr>\n",
       "      <th>0</th>\n",
       "      <td>75.52</td>\n",
       "      <td>General Fund</td>\n",
       "      <td>Parks &amp; Recreation</td>\n",
       "      <td>revenue</td>\n",
       "    </tr>\n",
       "    <tr>\n",
       "      <th>1</th>\n",
       "      <td>156.84</td>\n",
       "      <td>General Fund</td>\n",
       "      <td>Parks &amp; Recreation</td>\n",
       "      <td>revenue</td>\n",
       "    </tr>\n",
       "    <tr>\n",
       "      <th>2</th>\n",
       "      <td>-6478.12</td>\n",
       "      <td>General Fund</td>\n",
       "      <td>Parks &amp; Recreation</td>\n",
       "      <td>expense</td>\n",
       "    </tr>\n",
       "    <tr>\n",
       "      <th>3</th>\n",
       "      <td>-188.86</td>\n",
       "      <td>General Fund</td>\n",
       "      <td>Parks &amp; Recreation</td>\n",
       "      <td>expense</td>\n",
       "    </tr>\n",
       "    <tr>\n",
       "      <th>4</th>\n",
       "      <td>-181.19</td>\n",
       "      <td>General Fund</td>\n",
       "      <td>Parks &amp; Recreation</td>\n",
       "      <td>expense</td>\n",
       "    </tr>\n",
       "    <tr>\n",
       "      <th>...</th>\n",
       "      <td>...</td>\n",
       "      <td>...</td>\n",
       "      <td>...</td>\n",
       "      <td>...</td>\n",
       "    </tr>\n",
       "    <tr>\n",
       "      <th>89850</th>\n",
       "      <td>281118.00</td>\n",
       "      <td>Enterprise Funds</td>\n",
       "      <td>Parks &amp; Recreation</td>\n",
       "      <td>expense</td>\n",
       "    </tr>\n",
       "    <tr>\n",
       "      <th>89851</th>\n",
       "      <td>7.52</td>\n",
       "      <td>Enterprise Funds</td>\n",
       "      <td>Parks &amp; Recreation</td>\n",
       "      <td>expense</td>\n",
       "    </tr>\n",
       "    <tr>\n",
       "      <th>89852</th>\n",
       "      <td>104533.52</td>\n",
       "      <td>Enterprise Funds</td>\n",
       "      <td>Parks &amp; Recreation</td>\n",
       "      <td>expense</td>\n",
       "    </tr>\n",
       "    <tr>\n",
       "      <th>89853</th>\n",
       "      <td>557.23</td>\n",
       "      <td>Enterprise Funds</td>\n",
       "      <td>Parks &amp; Recreation</td>\n",
       "      <td>expense</td>\n",
       "    </tr>\n",
       "    <tr>\n",
       "      <th>89854</th>\n",
       "      <td>26.42</td>\n",
       "      <td>Enterprise Funds</td>\n",
       "      <td>Parks &amp; Recreation</td>\n",
       "      <td>expense</td>\n",
       "    </tr>\n",
       "  </tbody>\n",
       "</table>\n",
       "<p>89855 rows × 4 columns</p>\n",
       "</div>"
      ],
      "text/plain": [
       "          amount         fund_type           dept_name account_type\n",
       "0          75.52      General Fund  Parks & Recreation      revenue\n",
       "1         156.84      General Fund  Parks & Recreation      revenue\n",
       "2       -6478.12      General Fund  Parks & Recreation      expense\n",
       "3        -188.86      General Fund  Parks & Recreation      expense\n",
       "4        -181.19      General Fund  Parks & Recreation      expense\n",
       "...          ...               ...                 ...          ...\n",
       "89850  281118.00  Enterprise Funds  Parks & Recreation      expense\n",
       "89851       7.52  Enterprise Funds  Parks & Recreation      expense\n",
       "89852  104533.52  Enterprise Funds  Parks & Recreation      expense\n",
       "89853     557.23  Enterprise Funds  Parks & Recreation      expense\n",
       "89854      26.42  Enterprise Funds  Parks & Recreation      expense\n",
       "\n",
       "[89855 rows x 4 columns]"
      ]
     },
     "execution_count": 6,
     "metadata": {},
     "output_type": "execute_result"
    }
   ],
   "source": [
    "#function to convert account_number to account_type\n",
    "def convert_label(num):\n",
    "    num = str(num)[:1]\n",
    "    if num == '4':\n",
    "        return 'revenue'\n",
    "    else:\n",
    "        return 'expense'\n",
    "\n",
    "#apply function to column 'account_number', add as new column 'account_type'\n",
    "df_park_budget['account_type'] = df_park_budget['account_number'].apply(convert_label)\n",
    "\n",
    "#drop column 'account_type'\n",
    "df_park_budget = df_park_budget.drop(['account_number'], axis=1)\n",
    "\n",
    "df_park_budget"
   ]
  },
  {
   "cell_type": "markdown",
   "metadata": {},
   "source": [
    "We then notice some of the number in \"amount\" is negative for expense and some of them are positive for expense. To remain consistent throughout the analysis, I create a function to make sure all values in \"amount\" column are positive."
   ]
  },
  {
   "cell_type": "code",
   "execution_count": 7,
   "metadata": {},
   "outputs": [
    {
     "data": {
      "text/html": [
       "<div>\n",
       "<style scoped>\n",
       "    .dataframe tbody tr th:only-of-type {\n",
       "        vertical-align: middle;\n",
       "    }\n",
       "\n",
       "    .dataframe tbody tr th {\n",
       "        vertical-align: top;\n",
       "    }\n",
       "\n",
       "    .dataframe thead th {\n",
       "        text-align: right;\n",
       "    }\n",
       "</style>\n",
       "<table border=\"1\" class=\"dataframe\">\n",
       "  <thead>\n",
       "    <tr style=\"text-align: right;\">\n",
       "      <th></th>\n",
       "      <th>amount</th>\n",
       "      <th>fund_type</th>\n",
       "      <th>dept_name</th>\n",
       "      <th>account_type</th>\n",
       "    </tr>\n",
       "  </thead>\n",
       "  <tbody>\n",
       "    <tr>\n",
       "      <th>0</th>\n",
       "      <td>75.52</td>\n",
       "      <td>General Fund</td>\n",
       "      <td>Parks &amp; Recreation</td>\n",
       "      <td>revenue</td>\n",
       "    </tr>\n",
       "    <tr>\n",
       "      <th>1</th>\n",
       "      <td>156.84</td>\n",
       "      <td>General Fund</td>\n",
       "      <td>Parks &amp; Recreation</td>\n",
       "      <td>revenue</td>\n",
       "    </tr>\n",
       "    <tr>\n",
       "      <th>2</th>\n",
       "      <td>6478.12</td>\n",
       "      <td>General Fund</td>\n",
       "      <td>Parks &amp; Recreation</td>\n",
       "      <td>expense</td>\n",
       "    </tr>\n",
       "    <tr>\n",
       "      <th>3</th>\n",
       "      <td>188.86</td>\n",
       "      <td>General Fund</td>\n",
       "      <td>Parks &amp; Recreation</td>\n",
       "      <td>expense</td>\n",
       "    </tr>\n",
       "    <tr>\n",
       "      <th>4</th>\n",
       "      <td>181.19</td>\n",
       "      <td>General Fund</td>\n",
       "      <td>Parks &amp; Recreation</td>\n",
       "      <td>expense</td>\n",
       "    </tr>\n",
       "    <tr>\n",
       "      <th>...</th>\n",
       "      <td>...</td>\n",
       "      <td>...</td>\n",
       "      <td>...</td>\n",
       "      <td>...</td>\n",
       "    </tr>\n",
       "    <tr>\n",
       "      <th>89850</th>\n",
       "      <td>281118.00</td>\n",
       "      <td>Enterprise Funds</td>\n",
       "      <td>Parks &amp; Recreation</td>\n",
       "      <td>expense</td>\n",
       "    </tr>\n",
       "    <tr>\n",
       "      <th>89851</th>\n",
       "      <td>7.52</td>\n",
       "      <td>Enterprise Funds</td>\n",
       "      <td>Parks &amp; Recreation</td>\n",
       "      <td>expense</td>\n",
       "    </tr>\n",
       "    <tr>\n",
       "      <th>89852</th>\n",
       "      <td>104533.52</td>\n",
       "      <td>Enterprise Funds</td>\n",
       "      <td>Parks &amp; Recreation</td>\n",
       "      <td>expense</td>\n",
       "    </tr>\n",
       "    <tr>\n",
       "      <th>89853</th>\n",
       "      <td>557.23</td>\n",
       "      <td>Enterprise Funds</td>\n",
       "      <td>Parks &amp; Recreation</td>\n",
       "      <td>expense</td>\n",
       "    </tr>\n",
       "    <tr>\n",
       "      <th>89854</th>\n",
       "      <td>26.42</td>\n",
       "      <td>Enterprise Funds</td>\n",
       "      <td>Parks &amp; Recreation</td>\n",
       "      <td>expense</td>\n",
       "    </tr>\n",
       "  </tbody>\n",
       "</table>\n",
       "<p>89855 rows × 4 columns</p>\n",
       "</div>"
      ],
      "text/plain": [
       "          amount         fund_type           dept_name account_type\n",
       "0          75.52      General Fund  Parks & Recreation      revenue\n",
       "1         156.84      General Fund  Parks & Recreation      revenue\n",
       "2        6478.12      General Fund  Parks & Recreation      expense\n",
       "3         188.86      General Fund  Parks & Recreation      expense\n",
       "4         181.19      General Fund  Parks & Recreation      expense\n",
       "...          ...               ...                 ...          ...\n",
       "89850  281118.00  Enterprise Funds  Parks & Recreation      expense\n",
       "89851       7.52  Enterprise Funds  Parks & Recreation      expense\n",
       "89852  104533.52  Enterprise Funds  Parks & Recreation      expense\n",
       "89853     557.23  Enterprise Funds  Parks & Recreation      expense\n",
       "89854      26.42  Enterprise Funds  Parks & Recreation      expense\n",
       "\n",
       "[89855 rows x 4 columns]"
      ]
     },
     "execution_count": 7,
     "metadata": {},
     "output_type": "execute_result"
    }
   ],
   "source": [
    "#function to convert 'amount' to be consistenly positive\n",
    "def convert_value(input):\n",
    "    if input <= 0:\n",
    "        input = -1 * input\n",
    "        return input\n",
    "    else:\n",
    "        return input\n",
    "    \n",
    "#apply fuction to column 'amount'\n",
    "df_park_budget['amount'] = df_park_budget['amount'].apply(convert_value)\n",
    "\n",
    "df_park_budget"
   ]
  },
  {
   "cell_type": "markdown",
   "metadata": {},
   "source": [
    "After the data cleaning process, we ended up with a dataframe that specifies the fund type with four possible values, account type with two possible values and amount of money per transaction."
   ]
  },
  {
   "cell_type": "markdown",
   "metadata": {},
   "source": [
    "# Data Analysis & Results"
   ]
  },
  {
   "cell_type": "markdown",
   "metadata": {},
   "source": [
    "Since we are trying to study the trend of revenues and expenses among four different fund types, we groupby the \"fund_type\" to take a look at the statistics."
   ]
  },
  {
   "cell_type": "code",
   "execution_count": 8,
   "metadata": {},
   "outputs": [
    {
     "data": {
      "text/html": [
       "<div>\n",
       "<style scoped>\n",
       "    .dataframe tbody tr th:only-of-type {\n",
       "        vertical-align: middle;\n",
       "    }\n",
       "\n",
       "    .dataframe tbody tr th {\n",
       "        vertical-align: top;\n",
       "    }\n",
       "\n",
       "    .dataframe thead tr th {\n",
       "        text-align: left;\n",
       "    }\n",
       "\n",
       "    .dataframe thead tr:last-of-type th {\n",
       "        text-align: right;\n",
       "    }\n",
       "</style>\n",
       "<table border=\"1\" class=\"dataframe\">\n",
       "  <thead>\n",
       "    <tr>\n",
       "      <th></th>\n",
       "      <th colspan=\"8\" halign=\"left\">amount</th>\n",
       "    </tr>\n",
       "    <tr>\n",
       "      <th></th>\n",
       "      <th>count</th>\n",
       "      <th>mean</th>\n",
       "      <th>std</th>\n",
       "      <th>min</th>\n",
       "      <th>25%</th>\n",
       "      <th>50%</th>\n",
       "      <th>75%</th>\n",
       "      <th>max</th>\n",
       "    </tr>\n",
       "    <tr>\n",
       "      <th>fund_type</th>\n",
       "      <th></th>\n",
       "      <th></th>\n",
       "      <th></th>\n",
       "      <th></th>\n",
       "      <th></th>\n",
       "      <th></th>\n",
       "      <th></th>\n",
       "      <th></th>\n",
       "    </tr>\n",
       "  </thead>\n",
       "  <tbody>\n",
       "    <tr>\n",
       "      <th>Capital Project Funds</th>\n",
       "      <td>6.0</td>\n",
       "      <td>62693.650000</td>\n",
       "      <td>15784.949468</td>\n",
       "      <td>42506.04</td>\n",
       "      <td>49474.2575</td>\n",
       "      <td>70378.910</td>\n",
       "      <td>73991.7275</td>\n",
       "      <td>75196.00</td>\n",
       "    </tr>\n",
       "    <tr>\n",
       "      <th>Enterprise Funds</th>\n",
       "      <td>9266.0</td>\n",
       "      <td>34670.517512</td>\n",
       "      <td>305764.203997</td>\n",
       "      <td>0.01</td>\n",
       "      <td>318.2800</td>\n",
       "      <td>1526.905</td>\n",
       "      <td>6816.2400</td>\n",
       "      <td>11102062.38</td>\n",
       "    </tr>\n",
       "    <tr>\n",
       "      <th>General Fund</th>\n",
       "      <td>72386.0</td>\n",
       "      <td>16601.039963</td>\n",
       "      <td>124646.054261</td>\n",
       "      <td>0.01</td>\n",
       "      <td>175.9850</td>\n",
       "      <td>984.000</td>\n",
       "      <td>4930.0150</td>\n",
       "      <td>10191392.00</td>\n",
       "    </tr>\n",
       "    <tr>\n",
       "      <th>Special Revenue Funds</th>\n",
       "      <td>8197.0</td>\n",
       "      <td>60943.925909</td>\n",
       "      <td>452643.128473</td>\n",
       "      <td>0.01</td>\n",
       "      <td>342.2600</td>\n",
       "      <td>2635.000</td>\n",
       "      <td>16660.2900</td>\n",
       "      <td>11110140.52</td>\n",
       "    </tr>\n",
       "  </tbody>\n",
       "</table>\n",
       "</div>"
      ],
      "text/plain": [
       "                        amount                                         \\\n",
       "                         count          mean            std       min   \n",
       "fund_type                                                               \n",
       "Capital Project Funds      6.0  62693.650000   15784.949468  42506.04   \n",
       "Enterprise Funds        9266.0  34670.517512  305764.203997      0.01   \n",
       "General Fund           72386.0  16601.039963  124646.054261      0.01   \n",
       "Special Revenue Funds   8197.0  60943.925909  452643.128473      0.01   \n",
       "\n",
       "                                                                       \n",
       "                              25%        50%         75%          max  \n",
       "fund_type                                                              \n",
       "Capital Project Funds  49474.2575  70378.910  73991.7275     75196.00  \n",
       "Enterprise Funds         318.2800   1526.905   6816.2400  11102062.38  \n",
       "General Fund             175.9850    984.000   4930.0150  10191392.00  \n",
       "Special Revenue Funds    342.2600   2635.000  16660.2900  11110140.52  "
      ]
     },
     "execution_count": 8,
     "metadata": {},
     "output_type": "execute_result"
    }
   ],
   "source": [
    "#group dateframe by fund_type\n",
    "df_stats = df_park_budget.groupby(['fund_type'])\n",
    "\n",
    "#describe the updated dataframe\n",
    "df_stats.describe()"
   ]
  },
  {
   "cell_type": "code",
   "execution_count": 9,
   "metadata": {},
   "outputs": [
    {
     "data": {
      "text/html": [
       "<div>\n",
       "<style scoped>\n",
       "    .dataframe tbody tr th:only-of-type {\n",
       "        vertical-align: middle;\n",
       "    }\n",
       "\n",
       "    .dataframe tbody tr th {\n",
       "        vertical-align: top;\n",
       "    }\n",
       "\n",
       "    .dataframe thead th {\n",
       "        text-align: right;\n",
       "    }\n",
       "</style>\n",
       "<table border=\"1\" class=\"dataframe\">\n",
       "  <thead>\n",
       "    <tr style=\"text-align: right;\">\n",
       "      <th></th>\n",
       "      <th>revenue</th>\n",
       "      <th>expense</th>\n",
       "    </tr>\n",
       "  </thead>\n",
       "  <tbody>\n",
       "    <tr>\n",
       "      <th>Capital Project Funds</th>\n",
       "      <td>0.0</td>\n",
       "      <td>376161.9</td>\n",
       "    </tr>\n",
       "  </tbody>\n",
       "</table>\n",
       "</div>"
      ],
      "text/plain": [
       "                       revenue   expense\n",
       "Capital Project Funds      0.0  376161.9"
      ]
     },
     "execution_count": 9,
     "metadata": {},
     "output_type": "execute_result"
    }
   ],
   "source": [
    "#generate dataframe df_capital which has rows for revenues in Capital Project Funds\n",
    "df_capital = df_park_budget.loc[(df_park_budget['fund_type'] == 'Capital Project Funds') & (df_park_budget['account_type'] == 'revenue')]\n",
    "#sum up the revenue of Capital Project Funds \n",
    "capital_revenue = df_capital['amount'].sum()\n",
    "\n",
    "#generate dataframe df_capital which has rows for expense in Capital Project Funds\n",
    "df_capital = df_park_budget.loc[(df_park_budget['fund_type'] == 'Capital Project Funds') & (df_park_budget['account_type'] == 'expense')]\n",
    "#sum up the expense of Capital Project Funds\n",
    "capital_expense = df_capital['amount'].sum()\n",
    "\n",
    "#generate dataframe df_capital which include total amount of revenue and expense for Capital Project Funds\n",
    "data1 = [{'revenue': capital_revenue, 'expense':capital_expense}]\n",
    "df_capital = pd.DataFrame(data1, index=['Capital Project Funds'], columns=['revenue', 'expense'])\n",
    "\n",
    "df_capital"
   ]
  },
  {
   "cell_type": "code",
   "execution_count": 10,
   "metadata": {},
   "outputs": [
    {
     "data": {
      "text/plain": [
       "<matplotlib.legend.Legend at 0x7f6b1bb71b10>"
      ]
     },
     "execution_count": 10,
     "metadata": {},
     "output_type": "execute_result"
    },
    {
     "data": {
      "image/png": "[encoded data removed]",
      "text/plain": [
       "<Figure size 1440x720 with 1 Axes>"
      ]
     },
     "metadata": {
      "needs_background": "light"
     },
     "output_type": "display_data"
    }
   ],
   "source": [
    "#visualize bar plot for df_capital\n",
    "ax = df_capital.plot.bar(rot=0, figsize=(20,10), fontsize=20)\n",
    "ax.set_title('Revenue vs. Expense for Capital Project Funds', fontsize=40)\n",
    "ax.set_ylabel('amount of money', fontsize=20)\n",
    "plt.legend(fontsize=30)"
   ]
  },
  {
   "cell_type": "code",
   "execution_count": 11,
   "metadata": {},
   "outputs": [
    {
     "data": {
      "text/html": [
       "<div>\n",
       "<style scoped>\n",
       "    .dataframe tbody tr th:only-of-type {\n",
       "        vertical-align: middle;\n",
       "    }\n",
       "\n",
       "    .dataframe tbody tr th {\n",
       "        vertical-align: top;\n",
       "    }\n",
       "\n",
       "    .dataframe thead th {\n",
       "        text-align: right;\n",
       "    }\n",
       "</style>\n",
       "<table border=\"1\" class=\"dataframe\">\n",
       "  <thead>\n",
       "    <tr style=\"text-align: right;\">\n",
       "      <th></th>\n",
       "      <th>revenue</th>\n",
       "      <th>expense</th>\n",
       "    </tr>\n",
       "  </thead>\n",
       "  <tbody>\n",
       "    <tr>\n",
       "      <th>General Fund</th>\n",
       "      <td>3.278722e+08</td>\n",
       "      <td>8.738107e+08</td>\n",
       "    </tr>\n",
       "  </tbody>\n",
       "</table>\n",
       "</div>"
      ],
      "text/plain": [
       "                   revenue       expense\n",
       "General Fund  3.278722e+08  8.738107e+08"
      ]
     },
     "execution_count": 11,
     "metadata": {},
     "output_type": "execute_result"
    }
   ],
   "source": [
    "#generate dataframe df_general which has rows for revenues in General Funds\n",
    "df_general = df_park_budget.loc[(df_park_budget['fund_type'] == 'General Fund') & (df_park_budget['account_type'] == 'revenue')]\n",
    "#sum up the revenue of General Funds \n",
    "general_revenue = df_general['amount'].sum()\n",
    "\n",
    "#generate dataframe df_general which has rows for expense in General Funds\n",
    "df_general = df_park_budget.loc[(df_park_budget['fund_type'] == 'General Fund') & (df_park_budget['account_type'] == 'expense')]\n",
    "#sum up the expense of General Funds\n",
    "general_expense = df_general['amount'].sum()\n",
    "\n",
    "#generate dataframe df_general which include total amount of revenue and expense for General Fund\n",
    "data2 = [{'revenue': general_revenue, 'expense':general_expense}]\n",
    "df_general = pd.DataFrame(data2, index=['General Fund'], columns=['revenue', 'expense'])\n",
    "\n",
    "df_general"
   ]
  },
  {
   "cell_type": "code",
   "execution_count": 12,
   "metadata": {},
   "outputs": [
    {
     "data": {
      "text/plain": [
       "<matplotlib.legend.Legend at 0x7f6b18fbbf10>"
      ]
     },
     "execution_count": 12,
     "metadata": {},
     "output_type": "execute_result"
    },
    {
     "data": {
      "image/png": "[encoded data removed]",
      "text/plain": [
       "<Figure size 1440x720 with 1 Axes>"
      ]
     },
     "metadata": {
      "needs_background": "light"
     },
     "output_type": "display_data"
    }
   ],
   "source": [
    "#visualize bar plot for df_general\n",
    "ax = df_general.plot.bar(rot=0, figsize=(20,10), fontsize=20)\n",
    "ax.set_title('Revenue vs. Expense for General Fund', fontsize=40)\n",
    "ax.set_ylabel('amount of money', fontsize=20)\n",
    "plt.legend(fontsize=30)"
   ]
  },
  {
   "cell_type": "code",
   "execution_count": 13,
   "metadata": {},
   "outputs": [
    {
     "data": {
      "text/html": [
       "<div>\n",
       "<style scoped>\n",
       "    .dataframe tbody tr th:only-of-type {\n",
       "        vertical-align: middle;\n",
       "    }\n",
       "\n",
       "    .dataframe tbody tr th {\n",
       "        vertical-align: top;\n",
       "    }\n",
       "\n",
       "    .dataframe thead th {\n",
       "        text-align: right;\n",
       "    }\n",
       "</style>\n",
       "<table border=\"1\" class=\"dataframe\">\n",
       "  <thead>\n",
       "    <tr style=\"text-align: right;\">\n",
       "      <th></th>\n",
       "      <th>revenue</th>\n",
       "      <th>expense</th>\n",
       "    </tr>\n",
       "  </thead>\n",
       "  <tbody>\n",
       "    <tr>\n",
       "      <th>Enterprise Funds</th>\n",
       "      <td>1.780796e+08</td>\n",
       "      <td>1.431774e+08</td>\n",
       "    </tr>\n",
       "  </tbody>\n",
       "</table>\n",
       "</div>"
      ],
      "text/plain": [
       "                       revenue       expense\n",
       "Enterprise Funds  1.780796e+08  1.431774e+08"
      ]
     },
     "execution_count": 13,
     "metadata": {},
     "output_type": "execute_result"
    }
   ],
   "source": [
    "#generate dataframe df_enterprise which has rows for revenues in Enterprise Funds\n",
    "df_enterprise = df_park_budget.loc[(df_park_budget['fund_type'] == 'Enterprise Funds') & (df_park_budget['account_type'] == 'revenue')]\n",
    "#sum up the revenue of Enterprise Funds \n",
    "enterprise_revenue = df_enterprise['amount'].sum()\n",
    "\n",
    "#generate dataframe df_enterprise which has rows for expense in Enterprise Funds\n",
    "df_enterprise = df_park_budget.loc[(df_park_budget['fund_type'] == 'Enterprise Funds') & (df_park_budget['account_type'] == 'expense')]\n",
    "#sum up the expense of Enterprise Funds\n",
    "enterprise_expense = df_enterprise['amount'].sum()\n",
    "\n",
    "#generate dataframe df_enterprise which include total amount of revenue and expense for Enterprise Fund\n",
    "data3 = [{'revenue': enterprise_revenue, 'expense':enterprise_expense}]\n",
    "df_enterprise = pd.DataFrame(data3, index=['Enterprise Funds'], columns=['revenue', 'expense'])\n",
    "\n",
    "df_enterprise"
   ]
  },
  {
   "cell_type": "code",
   "execution_count": 14,
   "metadata": {},
   "outputs": [
    {
     "data": {
      "text/plain": [
       "<matplotlib.legend.Legend at 0x7f6b18fcbf50>"
      ]
     },
     "execution_count": 14,
     "metadata": {},
     "output_type": "execute_result"
    },
    {
     "data": {
      "image/png": "[encoded data removed]",
      "text/plain": [
       "<Figure size 1440x720 with 1 Axes>"
      ]
     },
     "metadata": {
      "needs_background": "light"
     },
     "output_type": "display_data"
    }
   ],
   "source": [
    "#visualize bar plot for df_enterprise\n",
    "ax = df_enterprise.plot.bar(rot=0, figsize=(20,10), fontsize=20)\n",
    "ax.set_title('Revenue vs. Expense for Enterprise Funds', fontsize=40)\n",
    "ax.set_ylabel('amount of money', fontsize=20)\n",
    "plt.legend(fontsize=30)"
   ]
  },
  {
   "cell_type": "code",
   "execution_count": 15,
   "metadata": {},
   "outputs": [
    {
     "data": {
      "text/html": [
       "<div>\n",
       "<style scoped>\n",
       "    .dataframe tbody tr th:only-of-type {\n",
       "        vertical-align: middle;\n",
       "    }\n",
       "\n",
       "    .dataframe tbody tr th {\n",
       "        vertical-align: top;\n",
       "    }\n",
       "\n",
       "    .dataframe thead th {\n",
       "        text-align: right;\n",
       "    }\n",
       "</style>\n",
       "<table border=\"1\" class=\"dataframe\">\n",
       "  <thead>\n",
       "    <tr style=\"text-align: right;\">\n",
       "      <th></th>\n",
       "      <th>revenue</th>\n",
       "      <th>expense</th>\n",
       "    </tr>\n",
       "  </thead>\n",
       "  <tbody>\n",
       "    <tr>\n",
       "      <th>Special Revenue Funds</th>\n",
       "      <td>1.780796e+08</td>\n",
       "      <td>1.431774e+08</td>\n",
       "    </tr>\n",
       "  </tbody>\n",
       "</table>\n",
       "</div>"
      ],
      "text/plain": [
       "                            revenue       expense\n",
       "Special Revenue Funds  1.780796e+08  1.431774e+08"
      ]
     },
     "execution_count": 15,
     "metadata": {},
     "output_type": "execute_result"
    }
   ],
   "source": [
    "#generate dataframe df_special which has rows for revenues in Special Revenue Funds\n",
    "df_special = df_park_budget.loc[(df_park_budget['fund_type'] == 'Special Revenue Funds') & (df_park_budget['account_type'] == 'revenue')]\n",
    "#sum up the revenue of Special Revenue Funds \n",
    "special_revenue = df_special['amount'].sum()\n",
    "\n",
    "#generate dataframe df_special which has rows for expense in Special Revenue Funds\n",
    "df_special = df_park_budget.loc[(df_park_budget['fund_type'] == 'Special Revenue Funds') & (df_park_budget['account_type'] == 'expense')]\n",
    "#sum up the expense of Special Revenue Funds\n",
    "special_expense = df_special['amount'].sum()\n",
    "\n",
    "#generate dataframe df_special which include total amount of revenue and expense for Special Revenue Fund\n",
    "data4 = [{'revenue': special_revenue, 'expense':special_expense}]\n",
    "df_special = pd.DataFrame(data3, index=['Special Revenue Funds'], columns=['revenue', 'expense'])\n",
    "\n",
    "df_special"
   ]
  },
  {
   "cell_type": "code",
   "execution_count": 16,
   "metadata": {},
   "outputs": [
    {
     "data": {
      "text/plain": [
       "<matplotlib.legend.Legend at 0x7f6b18f014d0>"
      ]
     },
     "execution_count": 16,
     "metadata": {},
     "output_type": "execute_result"
    },
    {
     "data": {
      "image/png": "[encoded data removed]",
      "text/plain": [
       "<Figure size 1440x720 with 1 Axes>"
      ]
     },
     "metadata": {
      "needs_background": "light"
     },
     "output_type": "display_data"
    }
   ],
   "source": [
    "#visualize bar plot for df_special\n",
    "ax = df_special.plot.bar(rot=0, figsize=(20,10), fontsize=20)\n",
    "ax.set_title('Revenue vs. Expense for Special Revenue Funds', fontsize=40)\n",
    "ax.set_ylabel('amount of money', fontsize=20)\n",
    "plt.legend(fontsize=30)"
   ]
  },
  {
   "cell_type": "code",
   "execution_count": 17,
   "metadata": {},
   "outputs": [
    {
     "data": {
      "text/html": [
       "<div>\n",
       "<style scoped>\n",
       "    .dataframe tbody tr th:only-of-type {\n",
       "        vertical-align: middle;\n",
       "    }\n",
       "\n",
       "    .dataframe tbody tr th {\n",
       "        vertical-align: top;\n",
       "    }\n",
       "\n",
       "    .dataframe thead th {\n",
       "        text-align: right;\n",
       "    }\n",
       "</style>\n",
       "<table border=\"1\" class=\"dataframe\">\n",
       "  <thead>\n",
       "    <tr style=\"text-align: right;\">\n",
       "      <th></th>\n",
       "      <th>fund_type</th>\n",
       "      <th>revenue</th>\n",
       "      <th>expense</th>\n",
       "    </tr>\n",
       "  </thead>\n",
       "  <tbody>\n",
       "    <tr>\n",
       "      <th>0</th>\n",
       "      <td>Capital Project Funds</td>\n",
       "      <td>0.000000e+00</td>\n",
       "      <td>3.761619e+05</td>\n",
       "    </tr>\n",
       "    <tr>\n",
       "      <th>1</th>\n",
       "      <td>General Fund</td>\n",
       "      <td>3.278722e+08</td>\n",
       "      <td>8.738107e+08</td>\n",
       "    </tr>\n",
       "    <tr>\n",
       "      <th>2</th>\n",
       "      <td>Enterprise Funds</td>\n",
       "      <td>1.780796e+08</td>\n",
       "      <td>1.431774e+08</td>\n",
       "    </tr>\n",
       "    <tr>\n",
       "      <th>3</th>\n",
       "      <td>Special Revenue Funds</td>\n",
       "      <td>1.995244e+08</td>\n",
       "      <td>3.000330e+08</td>\n",
       "    </tr>\n",
       "  </tbody>\n",
       "</table>\n",
       "</div>"
      ],
      "text/plain": [
       "               fund_type       revenue       expense\n",
       "0  Capital Project Funds  0.000000e+00  3.761619e+05\n",
       "1           General Fund  3.278722e+08  8.738107e+08\n",
       "2       Enterprise Funds  1.780796e+08  1.431774e+08\n",
       "3  Special Revenue Funds  1.995244e+08  3.000330e+08"
      ]
     },
     "execution_count": 17,
     "metadata": {},
     "output_type": "execute_result"
    }
   ],
   "source": [
    "#combine four fund types and its revenue and expense into a final dataframe\n",
    "data5 = {'fund_type': ['Capital Project Funds', 'General Fund', 'Enterprise Funds', 'Special Revenue Funds'], 'revenue': [capital_revenue, general_revenue, enterprise_revenue, special_revenue], 'expense':[capital_expense, general_expense, enterprise_expense, special_expense]}\n",
    "df_final = pd.DataFrame(data5)\n",
    "\n",
    "df_final\n",
    "\n"
   ]
  },
  {
   "cell_type": "code",
   "execution_count": 18,
   "metadata": {},
   "outputs": [
    {
     "data": {
      "text/html": [
       "<div>\n",
       "<style scoped>\n",
       "    .dataframe tbody tr th:only-of-type {\n",
       "        vertical-align: middle;\n",
       "    }\n",
       "\n",
       "    .dataframe tbody tr th {\n",
       "        vertical-align: top;\n",
       "    }\n",
       "\n",
       "    .dataframe thead th {\n",
       "        text-align: right;\n",
       "    }\n",
       "</style>\n",
       "<table border=\"1\" class=\"dataframe\">\n",
       "  <thead>\n",
       "    <tr style=\"text-align: right;\">\n",
       "      <th></th>\n",
       "      <th>fund_type</th>\n",
       "      <th>revenue</th>\n",
       "      <th>expense</th>\n",
       "    </tr>\n",
       "  </thead>\n",
       "  <tbody>\n",
       "    <tr>\n",
       "      <th>0</th>\n",
       "      <td>Capital Project Funds</td>\n",
       "      <td>0.0</td>\n",
       "      <td>376162.0</td>\n",
       "    </tr>\n",
       "    <tr>\n",
       "      <th>1</th>\n",
       "      <td>General Fund</td>\n",
       "      <td>327872190.0</td>\n",
       "      <td>873810689.0</td>\n",
       "    </tr>\n",
       "    <tr>\n",
       "      <th>2</th>\n",
       "      <td>Enterprise Funds</td>\n",
       "      <td>178079630.0</td>\n",
       "      <td>143177385.0</td>\n",
       "    </tr>\n",
       "    <tr>\n",
       "      <th>3</th>\n",
       "      <td>Special Revenue Funds</td>\n",
       "      <td>199524384.0</td>\n",
       "      <td>300032976.0</td>\n",
       "    </tr>\n",
       "  </tbody>\n",
       "</table>\n",
       "</div>"
      ],
      "text/plain": [
       "               fund_type      revenue      expense\n",
       "0  Capital Project Funds          0.0     376162.0\n",
       "1           General Fund  327872190.0  873810689.0\n",
       "2       Enterprise Funds  178079630.0  143177385.0\n",
       "3  Special Revenue Funds  199524384.0  300032976.0"
      ]
     },
     "execution_count": 18,
     "metadata": {},
     "output_type": "execute_result"
    }
   ],
   "source": [
    "#round up the value in columns 'revenue' and 'expense' for easier visualization later\n",
    "df_final['revenue'] = df_final['revenue'].round()\n",
    "df_final['expense'] = df_final['expense'].round()\n",
    "\n",
    "df_final"
   ]
  },
  {
   "cell_type": "code",
   "execution_count": 19,
   "metadata": {},
   "outputs": [
    {
     "data": {
      "text/plain": [
       "<matplotlib.legend.Legend at 0x7f6b18eaaa10>"
      ]
     },
     "execution_count": 19,
     "metadata": {},
     "output_type": "execute_result"
    },
    {
     "data": {
      "image/png": "[encoded data removed]",
      "text/plain": [
       "<Figure size 1440x720 with 1 Axes>"
      ]
     },
     "metadata": {
      "needs_background": "light"
     },
     "output_type": "display_data"
    }
   ],
   "source": [
    "#visualize grouped bar plots of df_final\n",
    "ax = df_final.plot.bar(x='fund_type', figsize=(20,10), fontsize=20, rot=0)\n",
    "for p in ax.patches:\n",
    "    ax.annotate(str(p.get_height()), (p.get_x() * 1.005, p.get_height() * 1.005))\n",
    "    \n",
    "ax.set_title('Revenue vs. Expense Among Funds', fontsize=40)\n",
    "ax.set_ylabel('amount of money', fontsize=20)\n",
    "plt.legend(fontsize=30)"
   ]
  },
  {
   "cell_type": "markdown",
   "metadata": {},
   "source": [
    "# Ethics & Privacy\n",
    "The curated dataset was given for use in this particular data analysis project by Prof.Ellis in COGS 108, UCSD. Also, the original dataset is available for the general public to view on data.sandiego.gov. Thus, I have the full permission to run analysis on these data. \n",
    "\n",
    "A potential area for concern would be the privacy of people who recorded the data. However, the dataset primarily focus on the operating costs of different deparments on a county level and no identifiable personal information is included. Thus, privacy will not be concerned.\n",
    "\n",
    "There is potential for data inaccuracy since it invloves massive amounts observations from various types of departments. 454891 observations were recorded throughout years and the data may subject to human error in the documenting process. \n",
    "\n",
    "One possible unintended consequences of this analysis could be negatively emphasizing the excessive amount of expenses, since 80% of funding comes from taxes citizens pay. But this consequnece may be unavoidable since this analysis aims to provide insights on the distribution of both revenues and expenses among different funding types of San Diego Parks & Recreation."
   ]
  },
  {
   "cell_type": "markdown",
   "metadata": {},
   "source": [
    "# Conclusion & Discussion"
   ]
  },
  {
   "cell_type": "markdown",
   "metadata": {},
   "source": [
    "In this analysis, I studied the distribution of revenues and expenses among different types of fundings, which could potentially assist San Diego administration in future budgeting for the maintenance and development of San Diego parks & recreation. First, I dropped columns that were not used in the later analysis to avoid complication. Then, I worte function to transform ambiguous number, which stands for the cost type, to String values which clearly indicate whether the cost is revenue or expense. I then noticed the inconsistence in expression in the \"amount\" column, thus, I wrote a function to transform all value to be positive regardless of its cost type. After getting done with the cleaning, I moved on the data analysis and visualization by first grouping the types of fund and summing up their revenues and expenses individually. Accroding the bar plots and grouped bar plot generated during the visualization, we came to the conclusion that my hypothesis was partially correct. The Capital Project Fund indeed have the lowest expense. However, the Enterprise Funds did not have the highest revenue. It is the General Fund that has the highest revenues and expenses at the same time. \n",
    "\n",
    "I acknowledged that there were potential limitations to this project which may affect the results I got. I dropped the colums with information that I won't be using for the analysis during cleaning. This could be one of the limitations of the analysis since these information could have potentially been applicable to this project. Another limitation could be the use of bar plots, which may not have been the best approach to analyze the data.\n",
    "\n",
    "This project may help the administration pinpoint unnecessary expenditures and know when it’s time and how to cut costs to maintain profitability and make the best use of funds. Ultimately, this helps the government plan for the future of Parks & Recreation development and maintenance in San Diego County with more clarity and confidence."
   ]
  }
 ],
 "metadata": {
  "kernelspec": {
   "display_name": "Python 3",
   "language": "python",
   "name": "python3"
  },
  "language_info": {
   "codemirror_mode": {
    "name": "ipython",
    "version": 3
   },
   "file_extension": ".py",
   "mimetype": "text/x-python",
   "name": "python",
   "nbconvert_exporter": "python",
   "pygments_lexer": "ipython3",
   "version": "3.7.6"
  }
 },
 "nbformat": 4,
 "nbformat_minor": 4
}
