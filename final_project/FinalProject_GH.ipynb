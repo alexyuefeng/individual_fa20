{
 "cells": [
  {
   "cell_type": "markdown",
   "metadata": {},
   "source": [
    "# COGS 108 - Final Project "
   ]
  },
  {
   "cell_type": "markdown",
   "metadata": {},
   "source": [
    "# Overview"
   ]
  },
  {
   "cell_type": "markdown",
   "metadata": {},
   "source": [
    "Yelp reviews can be an important tool for a parks and recreation agency in understanding where their parks are successful and where improvements can be made. However, when it comes time to make decisions regarding the allocation of funds, unprocessed Yelp reviews do little for decision making. Data science can help agencies turn the raw and anecdotal data of Yelp into a more quantitative gauge of public interest in their parks."
   ]
  },
  {
   "cell_type": "markdown",
   "metadata": {},
   "source": [
    "# Name & GitHub ID\n",
    "\n",
    "- Name: Ryan Posey\n",
    "- GitHub Username: rmposey"
   ]
  },
  {
   "cell_type": "markdown",
   "metadata": {},
   "source": [
    "# Research Question"
   ]
  },
  {
   "cell_type": "markdown",
   "metadata": {},
   "source": [
    "What qualities, attractions, or components of a park do visitors value most? Using natural language procecssing techniques on a sample of Yelp reviews, I will attempt to determine what aspects of San Diego parks made visits worthwhile to citizens and tourists."
   ]
  },
  {
   "cell_type": "markdown",
   "metadata": {},
   "source": [
    "## Background and Prior Work"
   ]
  },
  {
   "cell_type": "markdown",
   "metadata": {},
   "source": [
    "Parks and recreation departments are only beginning to embrace the power of data science to solve problems and make decisions. Outlining the possibilities of using data is a presentation from the Nation Recreation and Parks Association(NRPA) entitled \"Using Data at Park and Recreation Agencies\" It notes that while many Parks directors agree that the role in analyzing data in order to drive decisions is important, there are still many bureaucratic challenges that limit access to data. The study shows that among the most important uses for data analytics in the Parks sector are the monitoring of \"facility usage\", \"program performance\", and \"capital investment decisions\". using Yelp review data could prove to be a useful tool in measuring the public's interest in parks, whether it may \n",
    "\n",
    "An article from Buro Happold, a site created by engineers and designers, focuses on how big data can shape the future of parks. They delve into the use of GPS data from social media companies in order to create the parks of the future. While this may be an appealing idea and may provide a lot of data, I believe this brings the operation into an ethical grey area and would avoid using data like this at all costs. Since the users are not knowledgeable about the use of data for the purpose of improving parks(even if it is to create something positive), it should not be used for. this project. This is a controversial use of data that many users may not know they're giving away. In the eyes of many people, it is up to the government to put regulations on tech companies collecting massive amounts of data this way. So it would be a terrible look for a public agency to actually use such data. Even if the purpose is to help create nicer parks for people, it would set a dangerous precedent for the Parks and Recreation Department to use data in this way(even if security agencies are likely doing so already).\n",
    "\n",
    "\n",
    "Using Yelp data could prove to be a useful tool in measuring the public's interest in parks, whether it is the overall ratings of parks in comparison with one another, or analysis of the specific text of the review. In this analysis, I attempt to do the latter, using NLP to gauge interest in specific aspects of parks in San Diego.\n",
    "\n",
    "\n",
    "References:\n",
    "- 1)https://www.nrpa.org/contentassets/f768428a39aa4035ae55b2aaff372617/data-analysis-park-and-recreation.pdf\n",
    "- 2)https://www.burohappold.com/news/using-big-data-create-parks-public-spaces-people-love/"
   ]
  },
  {
   "cell_type": "markdown",
   "metadata": {},
   "source": [
    "# Hypothesis\n"
   ]
  },
  {
   "cell_type": "markdown",
   "metadata": {},
   "source": [
    "By analysing the Yelp review text of San Diego parks, I believe there will be apparent patterns in frequency of words and phrases associated with both positive and negative reviews."
   ]
  },
  {
   "cell_type": "markdown",
   "metadata": {},
   "source": [
    "# Dataset(s)"
   ]
  },
  {
   "cell_type": "markdown",
   "metadata": {},
   "source": [
    "### SD Parks Yelp Reviews\n",
    "- Dataset Name: `yelp_SD_reviews.csv`\n",
    "- Link to the dataset: https://raw.githubusercontent.com/COGS108/individual_fa20/master/data/yelp_SD_reviews.csv\n",
    "- Number of observations: 2332\n",
    "\n",
    "This dataset contains actual text from 2332 Yelp reviews of parks and other attractions under the control of the San Diego Parks and Recreation department. It contains three columns of data: 'id'(name of park), 'rating'(out of 5, as left by user), and 'text'(the review itself)."
   ]
  },
  {
   "cell_type": "markdown",
   "metadata": {},
   "source": [
    "# Setup"
   ]
  },
  {
   "cell_type": "markdown",
   "metadata": {},
   "source": [
    "Import the necessary "
   ]
  },
  {
   "cell_type": "code",
   "execution_count": 1,
   "metadata": {},
   "outputs": [],
   "source": [
    "import pandas as pd\n",
    "import numpy as np\n",
    "import seaborn as sns\n",
    "import matplotlib.pyplot as plt\n",
    "from collections import Counter\n",
    "from sklearn.feature_extraction.text import TfidfVectorizer\n",
    "\n",
    "import nltk\n",
    "from nltk.collocations import *\n",
    "from nltk.tokenize import word_tokenize\n",
    "from nltk.corpus import stopwords"
   ]
  },
  {
   "cell_type": "code",
   "execution_count": 2,
   "metadata": {},
   "outputs": [
    {
     "name": "stderr",
     "output_type": "stream",
     "text": [
      "[nltk_data] Downloading package punkt to /home/rmposey/nltk_data...\n",
      "[nltk_data]   Package punkt is already up-to-date!\n",
      "[nltk_data] Downloading package stopwords to\n",
      "[nltk_data]     /home/rmposey/nltk_data...\n",
      "[nltk_data]   Package stopwords is already up-to-date!\n",
      "[nltk_data] Downloading package averaged_perceptron_tagger to\n",
      "[nltk_data]     /home/rmposey/nltk_data...\n",
      "[nltk_data]   Package averaged_perceptron_tagger is already up-to-\n",
      "[nltk_data]       date!\n",
      "[nltk_data] Downloading package maxent_ne_chunker to\n",
      "[nltk_data]     /home/rmposey/nltk_data...\n",
      "[nltk_data]   Package maxent_ne_chunker is already up-to-date!\n",
      "[nltk_data] Downloading package words to /home/rmposey/nltk_data...\n",
      "[nltk_data]   Package words is already up-to-date!\n",
      "[nltk_data] Downloading package treebank to /home/rmposey/nltk_data...\n",
      "[nltk_data]   Package treebank is already up-to-date!\n"
     ]
    },
    {
     "data": {
      "text/plain": [
       "True"
      ]
     },
     "execution_count": 2,
     "metadata": {},
     "output_type": "execute_result"
    }
   ],
   "source": [
    "nltk.download('punkt')\n",
    "nltk.download('stopwords')\n",
    "nltk.download('averaged_perceptron_tagger')\n",
    "nltk.download('maxent_ne_chunker')\n",
    "nltk.download('words')\n",
    "nltk.download('treebank')"
   ]
  },
  {
   "cell_type": "markdown",
   "metadata": {},
   "source": [
    "# Data Cleaning"
   ]
  },
  {
   "cell_type": "markdown",
   "metadata": {},
   "source": [
    "### Step 1: Load the datasets into pandas dataframes"
   ]
  },
  {
   "cell_type": "code",
   "execution_count": 3,
   "metadata": {},
   "outputs": [
    {
     "data": {
      "text/html": [
       "<div>\n",
       "<style scoped>\n",
       "    .dataframe tbody tr th:only-of-type {\n",
       "        vertical-align: middle;\n",
       "    }\n",
       "\n",
       "    .dataframe tbody tr th {\n",
       "        vertical-align: top;\n",
       "    }\n",
       "\n",
       "    .dataframe thead th {\n",
       "        text-align: right;\n",
       "    }\n",
       "</style>\n",
       "<table border=\"1\" class=\"dataframe\">\n",
       "  <thead>\n",
       "    <tr style=\"text-align: right;\">\n",
       "      <th></th>\n",
       "      <th>id</th>\n",
       "      <th>rating</th>\n",
       "      <th>text</th>\n",
       "    </tr>\n",
       "  </thead>\n",
       "  <tbody>\n",
       "    <tr>\n",
       "      <th>0</th>\n",
       "      <td>Balboa Park</td>\n",
       "      <td>5</td>\n",
       "      <td>Balboa Park is a must see when coming to San D...</td>\n",
       "    </tr>\n",
       "    <tr>\n",
       "      <th>1</th>\n",
       "      <td>Balboa Park</td>\n",
       "      <td>5</td>\n",
       "      <td>Beautiful grounds even to take a stroll during...</td>\n",
       "    </tr>\n",
       "    <tr>\n",
       "      <th>2</th>\n",
       "      <td>Balboa Park</td>\n",
       "      <td>5</td>\n",
       "      <td>Beautiful sightseeing in San Diego. Lots of wa...</td>\n",
       "    </tr>\n",
       "    <tr>\n",
       "      <th>3</th>\n",
       "      <td>Civita Park</td>\n",
       "      <td>5</td>\n",
       "      <td>Was invited to child's B-Day party pre Covid-1...</td>\n",
       "    </tr>\n",
       "    <tr>\n",
       "      <th>4</th>\n",
       "      <td>Civita Park</td>\n",
       "      <td>5</td>\n",
       "      <td>Pretty nice park, beautiful design.  Anyone is...</td>\n",
       "    </tr>\n",
       "    <tr>\n",
       "      <th>...</th>\n",
       "      <td>...</td>\n",
       "      <td>...</td>\n",
       "      <td>...</td>\n",
       "    </tr>\n",
       "    <tr>\n",
       "      <th>2328</th>\n",
       "      <td>Petco Park</td>\n",
       "      <td>5</td>\n",
       "      <td>I have visited over 27 MLB Ballparks including...</td>\n",
       "    </tr>\n",
       "    <tr>\n",
       "      <th>2329</th>\n",
       "      <td>Ann D. L'Heureux Memorial Dog Park</td>\n",
       "      <td>4</td>\n",
       "      <td>No grass here but it's a great dog park. if yo...</td>\n",
       "    </tr>\n",
       "    <tr>\n",
       "      <th>2330</th>\n",
       "      <td>Ann D. L'Heureux Memorial Dog Park</td>\n",
       "      <td>3</td>\n",
       "      <td>I love taking our cholate lab here, however, t...</td>\n",
       "    </tr>\n",
       "    <tr>\n",
       "      <th>2331</th>\n",
       "      <td>Ann D. L'Heureux Memorial Dog Park</td>\n",
       "      <td>3</td>\n",
       "      <td>Pretty small dog park overall. The center of t...</td>\n",
       "    </tr>\n",
       "    <tr>\n",
       "      <th>2332</th>\n",
       "      <td>Fairbrook Farm</td>\n",
       "      <td>5</td>\n",
       "      <td>Super friendly staff! I always feel welcome an...</td>\n",
       "    </tr>\n",
       "  </tbody>\n",
       "</table>\n",
       "<p>2333 rows × 3 columns</p>\n",
       "</div>"
      ],
      "text/plain": [
       "                                      id  rating  \\\n",
       "0                            Balboa Park       5   \n",
       "1                            Balboa Park       5   \n",
       "2                            Balboa Park       5   \n",
       "3                            Civita Park       5   \n",
       "4                            Civita Park       5   \n",
       "...                                  ...     ...   \n",
       "2328                          Petco Park       5   \n",
       "2329  Ann D. L'Heureux Memorial Dog Park       4   \n",
       "2330  Ann D. L'Heureux Memorial Dog Park       3   \n",
       "2331  Ann D. L'Heureux Memorial Dog Park       3   \n",
       "2332                      Fairbrook Farm       5   \n",
       "\n",
       "                                                   text  \n",
       "0     Balboa Park is a must see when coming to San D...  \n",
       "1     Beautiful grounds even to take a stroll during...  \n",
       "2     Beautiful sightseeing in San Diego. Lots of wa...  \n",
       "3     Was invited to child's B-Day party pre Covid-1...  \n",
       "4     Pretty nice park, beautiful design.  Anyone is...  \n",
       "...                                                 ...  \n",
       "2328  I have visited over 27 MLB Ballparks including...  \n",
       "2329  No grass here but it's a great dog park. if yo...  \n",
       "2330  I love taking our cholate lab here, however, t...  \n",
       "2331  Pretty small dog park overall. The center of t...  \n",
       "2332  Super friendly staff! I always feel welcome an...  \n",
       "\n",
       "[2333 rows x 3 columns]"
      ]
     },
     "execution_count": 3,
     "metadata": {},
     "output_type": "execute_result"
    }
   ],
   "source": [
    "df_review = pd.read_csv('https://raw.githubusercontent.com/COGS108/individual_fa20/master/data/yelp_SD_reviews.csv')\n",
    "df_review"
   ]
  },
  {
   "cell_type": "markdown",
   "metadata": {},
   "source": [
    "### Step 2: Check the length of our reviews"
   ]
  },
  {
   "cell_type": "code",
   "execution_count": 4,
   "metadata": {},
   "outputs": [],
   "source": [
    "df_review['length'] = df_review['text'].apply(len)"
   ]
  },
  {
   "cell_type": "markdown",
   "metadata": {},
   "source": [
    "Plot the length of reviews categorized by the rating the review recieved. From these histograms we can immediately tell that there are a lot more four and five star reviews than there are in the one to three star range. Additionally, it seems that most reviews are around the length of 150 characters. "
   ]
  },
  {
   "cell_type": "code",
   "execution_count": 5,
   "metadata": {},
   "outputs": [
    {
     "data": {
      "text/plain": [
       "<seaborn.axisgrid.FacetGrid at 0x7f870c097750>"
      ]
     },
     "execution_count": 5,
     "metadata": {},
     "output_type": "execute_result"
    },
    {
     "data": {
      "image/png": "[encoded data removed]",
      "text/plain": [
       "<Figure size 1080x216 with 5 Axes>"
      ]
     },
     "metadata": {
      "needs_background": "light"
     },
     "output_type": "display_data"
    }
   ],
   "source": [
    "length_hist = sns.FacetGrid(df_review, col='rating')\n",
    "length_hist.map(plt.hist, 'length')"
   ]
  },
  {
   "cell_type": "markdown",
   "metadata": {},
   "source": [
    "### Step 3: Separate positive and negative reviews\n",
    "We will put 4 and 5 star reviews in the positive dataframe and put 1, 2, and 3 star reviews in the negative dataframe. While 3 stars is not necessarily a completely negative review, that level of review shows that there is still room for improvement in that visitor's experience, so we will put in the negative category. "
   ]
  },
  {
   "cell_type": "code",
   "execution_count": 6,
   "metadata": {},
   "outputs": [],
   "source": [
    "df_pos = df_review[df_review['rating'] > 3]\n",
    "df_neg = df_review[df_review['rating'] <= 3]"
   ]
  },
  {
   "cell_type": "markdown",
   "metadata": {},
   "source": [
    "Reset the indices of our two new dataframes."
   ]
  },
  {
   "cell_type": "code",
   "execution_count": 7,
   "metadata": {},
   "outputs": [],
   "source": [
    "df_pos = df_pos.reset_index(drop = True)\n",
    "df_neg = df_neg.reset_index(drop = True)"
   ]
  },
  {
   "cell_type": "markdown",
   "metadata": {},
   "source": [
    "Convert all characters in the 'text' column to lowercase."
   ]
  },
  {
   "cell_type": "code",
   "execution_count": 8,
   "metadata": {},
   "outputs": [],
   "source": [
    "df_pos['text'] = df_pos['text'].str.lower()\n",
    "df_neg['text'] = df_neg['text'].str.lower()"
   ]
  },
  {
   "cell_type": "markdown",
   "metadata": {},
   "source": [
    "Remove punctuation from the 'text' column."
   ]
  },
  {
   "cell_type": "code",
   "execution_count": 9,
   "metadata": {},
   "outputs": [],
   "source": [
    "df_pos[\"text\"] = df_pos['text'].str.replace('[^\\w\\s]','')\n",
    "df_neg[\"text\"] = df_neg['text'].str.replace('[^\\w\\s]','')\n",
    "df_pos[\"text\"] = df_pos['text'].str.replace('\\n',' ')\n",
    "df_neg[\"text\"] = df_neg['text'].str.replace('\\n',' ')"
   ]
  },
  {
   "cell_type": "markdown",
   "metadata": {},
   "source": [
    "Tokenize the words in the 'text' columns and add them to two new lists."
   ]
  },
  {
   "cell_type": "code",
   "execution_count": 10,
   "metadata": {},
   "outputs": [],
   "source": [
    "pos_tokens = []\n",
    "neg_tokens = []\n",
    "for x in df_pos['text']:\n",
    "    pos_tokens.extend(nltk.word_tokenize(x))\n",
    "for x in df_neg['text']:\n",
    "    neg_tokens.extend(nltk.word_tokenize(x))"
   ]
  },
  {
   "cell_type": "markdown",
   "metadata": {},
   "source": [
    "Remove stopwords from positive and negative word lists."
   ]
  },
  {
   "cell_type": "code",
   "execution_count": 11,
   "metadata": {},
   "outputs": [],
   "source": [
    "stop_words = stopwords.words('english')\n",
    "pos_counts = Counter(pos_tokens)\n",
    "neg_counts = Counter(neg_tokens)\n",
    "for stop in nltk.corpus.stopwords.words('english'):\n",
    "    if stop in pos_counts:\n",
    "        pos_counts.pop(stop) \n",
    "    if stop in neg_counts:\n",
    "        neg_counts.pop(stop)"
   ]
  },
  {
   "cell_type": "markdown",
   "metadata": {},
   "source": [
    "# Data Analysis & Results"
   ]
  },
  {
   "cell_type": "markdown",
   "metadata": {},
   "source": [
    "## Term Frequency"
   ]
  },
  {
   "cell_type": "markdown",
   "metadata": {},
   "source": [
    "First, let's take a look at the most common words that appear in the positive reviews."
   ]
  },
  {
   "cell_type": "code",
   "execution_count": 12,
   "metadata": {},
   "outputs": [
    {
     "data": {
      "text/plain": [
       "[('park', 602),\n",
       " ('great', 325),\n",
       " ('place', 301),\n",
       " ('san', 206),\n",
       " ('time', 191),\n",
       " ('nice', 185),\n",
       " ('diego', 182),\n",
       " ('one', 181),\n",
       " ('love', 174),\n",
       " ('little', 147),\n",
       " ('area', 141),\n",
       " ('get', 134),\n",
       " ('beach', 127),\n",
       " ('beautiful', 126),\n",
       " ('good', 126),\n",
       " ('parking', 123),\n",
       " ('ive', 111),\n",
       " ('well', 110),\n",
       " ('really', 109),\n",
       " ('dog', 107),\n",
       " ('years', 107),\n",
       " ('like', 105),\n",
       " ('go', 105),\n",
       " ('first', 102),\n",
       " ('best', 99),\n",
       " ('kids', 96),\n",
       " ('people', 95),\n",
       " ('walk', 94),\n",
       " ('lot', 94),\n",
       " ('covid', 93)]"
      ]
     },
     "execution_count": 12,
     "metadata": {},
     "output_type": "execute_result"
    }
   ],
   "source": [
    "pos_counts.most_common(30)"
   ]
  },
  {
   "cell_type": "markdown",
   "metadata": {},
   "source": [
    "Next, let's do the same thing for the negative reviews."
   ]
  },
  {
   "cell_type": "code",
   "execution_count": 13,
   "metadata": {},
   "outputs": [
    {
     "data": {
      "text/plain": [
       "[('park', 156),\n",
       " ('place', 64),\n",
       " ('nice', 45),\n",
       " ('dog', 45),\n",
       " ('time', 42),\n",
       " ('one', 41),\n",
       " ('good', 36),\n",
       " ('great', 34),\n",
       " ('like', 33),\n",
       " ('years', 31),\n",
       " ('area', 30),\n",
       " ('2', 30),\n",
       " ('parking', 29),\n",
       " ('people', 29),\n",
       " ('first', 27),\n",
       " ('lived', 27),\n",
       " ('dont', 25),\n",
       " ('really', 25),\n",
       " ('little', 24),\n",
       " ('review', 24),\n",
       " ('get', 24),\n",
       " ('san', 24),\n",
       " ('lot', 24),\n",
       " ('management', 24),\n",
       " ('many', 24),\n",
       " ('small', 23),\n",
       " ('well', 22),\n",
       " ('come', 22),\n",
       " ('even', 22),\n",
       " ('kids', 21)]"
      ]
     },
     "execution_count": 13,
     "metadata": {},
     "output_type": "execute_result"
    }
   ],
   "source": [
    "neg_counts.most_common(30)"
   ]
  },
  {
   "cell_type": "markdown",
   "metadata": {},
   "source": [
    "While it's nice that people think that the parks are \"amazing\" and \"beautiful,\" in a review that we already know is positve, these types of terms are effectively stop words. I will remove some of the these words from our lists, so that we can more easily see the elements from the park that are important to visitors.I will create a list of words that appear frequenlty in both lists, and then remove them from the positive and negative lists. Then we'll take a look at the frequencies again."
   ]
  },
  {
   "cell_type": "code",
   "execution_count": 28,
   "metadata": {},
   "outputs": [],
   "source": [
    "freq_words = ['park','get','city','also','san','diego', 'went','see','around','ever','lived','years','like','great',\n",
    "              'good','place','nice','time','one','fun','come','im','many','best','love','beautiful','ive','well',\n",
    "              'really','amazing','always','lots','take','lot','go','came','since','back','going','right','us','review',\n",
    "             'spot','dont','times','much']\n",
    "for word in freq_words:\n",
    "    if word in pos_counts:\n",
    "        pos_counts.pop(word)\n",
    "    if word in neg_counts:\n",
    "        neg_counts.pop(word)"
   ]
  },
  {
   "cell_type": "code",
   "execution_count": 29,
   "metadata": {
    "scrolled": true
   },
   "outputs": [
    {
     "data": {
      "text/plain": [
       "[('little', 147),\n",
       " ('area', 141),\n",
       " ('beach', 127),\n",
       " ('parking', 123),\n",
       " ('dog', 107),\n",
       " ('first', 102),\n",
       " ('kids', 96),\n",
       " ('people', 95),\n",
       " ('walk', 94),\n",
       " ('covid', 93),\n",
       " ('play', 88),\n",
       " ('trail', 86),\n",
       " ('day', 85),\n",
       " ('family', 81),\n",
       " ('small', 75),\n",
       " ('clean', 72),\n",
       " ('playground', 71),\n",
       " ('hike', 67),\n",
       " ('experience', 63),\n",
       " ('neighborhood', 61),\n",
       " ('friendly', 60),\n",
       " ('food', 59),\n",
       " ('theres', 58),\n",
       " ('find', 58),\n",
       " ('easy', 58),\n",
       " ('service', 58),\n",
       " ('old', 57),\n",
       " ('home', 57),\n",
       " ('open', 55),\n",
       " ('found', 55)]"
      ]
     },
     "execution_count": 29,
     "metadata": {},
     "output_type": "execute_result"
    }
   ],
   "source": [
    "pos_counts.most_common(30)"
   ]
  },
  {
   "cell_type": "code",
   "execution_count": 30,
   "metadata": {},
   "outputs": [
    {
     "data": {
      "text/plain": [
       "[('dog', 45),\n",
       " ('area', 30),\n",
       " ('2', 30),\n",
       " ('parking', 29),\n",
       " ('people', 29),\n",
       " ('first', 27),\n",
       " ('little', 24),\n",
       " ('management', 24),\n",
       " ('small', 23),\n",
       " ('even', 22),\n",
       " ('kids', 21),\n",
       " ('would', 21),\n",
       " ('property', 21),\n",
       " ('trail', 20),\n",
       " ('large', 17),\n",
       " ('cant', 17),\n",
       " ('open', 16),\n",
       " ('used', 16),\n",
       " ('play', 16),\n",
       " ('playground', 15),\n",
       " ('never', 15),\n",
       " ('3', 15),\n",
       " ('service', 15),\n",
       " ('apartment', 14),\n",
       " ('theres', 14),\n",
       " ('bad', 14),\n",
       " ('homeless', 14),\n",
       " ('trails', 14),\n",
       " ('location', 14),\n",
       " ('moved', 14)]"
      ]
     },
     "execution_count": 30,
     "metadata": {},
     "output_type": "execute_result"
    }
   ],
   "source": [
    "neg_counts.most_common(30)"
   ]
  },
  {
   "cell_type": "markdown",
   "metadata": {},
   "source": [
    "These at a glance seem to be more useful than the first iteration of the most frequent words. Let's plot frequent words in positive reviews and take a look at the results"
   ]
  },
  {
   "cell_type": "code",
   "execution_count": 31,
   "metadata": {},
   "outputs": [
    {
     "data": {
      "image/png": "[encoded data removed]",
      "text/plain": [
       "<Figure size 432x288 with 1 Axes>"
      ]
     },
     "metadata": {
      "needs_background": "light"
     },
     "output_type": "display_data"
    }
   ],
   "source": [
    "pos_top20 = pos_counts.most_common(20)\n",
    "plt.barh([it[0] for it in pos_top20], [it[1] for it in pos_top20])\n",
    "plt.title('Word Frequency(Positive Reviews)');\n",
    "plt.xlabel('Frequency');"
   ]
  },
  {
   "cell_type": "markdown",
   "metadata": {},
   "source": [
    "Plotting the 20 most frequent words in negative reviews"
   ]
  },
  {
   "cell_type": "code",
   "execution_count": 32,
   "metadata": {},
   "outputs": [
    {
     "data": {
      "image/png": "[encoded data removed]",
      "text/plain": [
       "<Figure size 432x288 with 1 Axes>"
      ]
     },
     "metadata": {
      "needs_background": "light"
     },
     "output_type": "display_data"
    }
   ],
   "source": [
    "neg_top20 = neg_counts.most_common(20)\n",
    "plt.barh([it[0] for it in neg_top20], [it[1] for it in neg_top20])\n",
    "plt.title('Term Frequency(Negative Reviews)');\n",
    "plt.xlabel('Frequency');"
   ]
  },
  {
   "cell_type": "markdown",
   "metadata": {},
   "source": [
    "We can infer that some of the most important elements of a park have to do with frequently appearing terms like \"playground\", \"dog\", \"parking\", \"trail\", and \"hike\". These patterns can provide a jumping off point for future research into how these items are successful in some parks and how they can be improved in others."
   ]
  },
  {
   "cell_type": "markdown",
   "metadata": {},
   "source": [
    "## Frequency of 2 and 3 Word Combinations"
   ]
  },
  {
   "cell_type": "markdown",
   "metadata": {},
   "source": [
    "Having seen what the frequency of single words in the review data looks like, let's now take a look at sets of two and three words that frequently appear in conjunction with one another using the nltk.collocations package."
   ]
  },
  {
   "cell_type": "code",
   "execution_count": 33,
   "metadata": {},
   "outputs": [],
   "source": [
    "bigram_measures = nltk.collocations.BigramAssocMeasures()\n",
    "trigram_measures = nltk.collocations.TrigramAssocMeasures()"
   ]
  },
  {
   "cell_type": "markdown",
   "metadata": {},
   "source": [
    "Frequent word pairings in positive reviews"
   ]
  },
  {
   "cell_type": "code",
   "execution_count": 34,
   "metadata": {},
   "outputs": [
    {
     "name": "stdout",
     "output_type": "stream",
     "text": [
      "[('shake', 'shack'), ('bowling', 'alley'), ('trash', 'cans'), ('bob', 'hope'), ('gaslamp', 'quarter'), ('jury', 'duty'), ('united', 'states'), ('pleasantly', 'surprised'), ('real', 'estate'), ('lets', 'face'), ('stumbled', 'upon'), ('businesses', 'operating'), ('wood', 'chips'), ('double', 'peak'), ('bankers', 'hill'), ('chula', 'vista'), ('normal', 'heights'), ('torrey', 'pines'), ('tap', 'room'), ('mira', 'mesa'), ('fresh', 'air'), ('extra', 'mile'), ('manager', 'melissa'), ('sunset', 'cliffs'), ('swing', 'set')]\n"
     ]
    }
   ],
   "source": [
    "finder = BigramCollocationFinder.from_words(pos_tokens)\n",
    "finder.apply_freq_filter(3)\n",
    "print(finder.nbest(bigram_measures.pmi, 25))"
   ]
  },
  {
   "cell_type": "markdown",
   "metadata": {},
   "source": [
    "Frequent 3-word phrases in positive reviews"
   ]
  },
  {
   "cell_type": "code",
   "execution_count": 35,
   "metadata": {},
   "outputs": [
    {
     "name": "stdout",
     "output_type": "stream",
     "text": [
      "[('price', 'of', 'admission'), ('will', 'definitely', 'be'), ('above', 'and', 'beyond'), ('i', 'cant', 'believe'), ('i', 'highly', 'recommend'), ('hidden', 'gem', 'in'), ('in', 'la', 'jolla'), ('worth', 'the', 'price'), ('san', 'diego', 'county'), ('my', 'favorite', 'places'), ('a', 'hidden', 'gem'), ('if', 'you', 'want'), ('i', 'grew', 'up'), ('so', 'much', 'fun'), ('of', 'la', 'jolla'), ('love', 'coming', 'here'), ('hard', 'to', 'find'), ('of', 'san', 'diegos'), ('been', 'coming', 'here'), ('as', 'well', 'as'), ('in', 'san', 'diego'), ('plenty', 'of', 'space'), ('right', 'next', 'to'), ('across', 'the', 'street'), ('due', 'to', 'covid')]\n"
     ]
    }
   ],
   "source": [
    "finder2 = TrigramCollocationFinder.from_words(pos_tokens)\n",
    "finder2.apply_freq_filter(5)\n",
    "print(finder2.nbest(trigram_measures.pmi, 25))"
   ]
  },
  {
   "cell_type": "markdown",
   "metadata": {},
   "source": [
    "Frequent word pairings in negative reviews"
   ]
  },
  {
   "cell_type": "code",
   "execution_count": 36,
   "metadata": {},
   "outputs": [
    {
     "name": "stdout",
     "output_type": "stream",
     "text": [
      "[('la', 'jolla'), ('san', 'diego'), ('ive', 'been'), ('property', 'management'), ('one', 'star'), ('if', 'youre'), ('years', 'ago'), ('parking', 'lot'), ('my', 'husband'), ('my', 'daughter'), ('you', 'want'), ('if', 'you'), ('so', 'many'), ('came', 'here'), ('lived', 'here'), ('plenty', 'of'), ('all', 'over'), ('would', 'be'), ('you', 'can'), ('come', 'here'), ('do', 'not'), ('lots', 'of'), ('we', 'were'), ('have', 'lived'), ('you', 'cant')]\n"
     ]
    }
   ],
   "source": [
    "finder3 = BigramCollocationFinder.from_words(neg_tokens)\n",
    "finder3.apply_freq_filter(5)\n",
    "print(finder3.nbest(bigram_measures.pmi, 25))"
   ]
  },
  {
   "cell_type": "markdown",
   "metadata": {},
   "source": [
    "Frequent 3-word phrases in negative reviews"
   ]
  },
  {
   "cell_type": "code",
   "execution_count": 37,
   "metadata": {},
   "outputs": [
    {
     "name": "stdout",
     "output_type": "stream",
     "text": [
      "[('if', 'you', 'want'), ('across', 'the', 'street'), ('in', 'san', 'diego'), ('plenty', 'of', 'parking'), ('lived', 'here', 'for'), ('used', 'to', 'be'), ('my', 'husband', 'and'), ('if', 'you', 'are'), ('the', 'parking', 'lot'), ('i', 'have', 'lived'), ('i', 'lived', 'here'), ('there', 'is', 'no'), ('husband', 'and', 'i'), ('a', 'lot', 'of'), ('this', 'place', 'is'), ('dog', 'park', 'is'), ('in', 'the', 'area'), ('this', 'park', 'is'), ('there', 'is', 'a'), ('to', 'this', 'park'), ('to', 'be', 'a'), ('and', 'i', 'have'), ('this', 'is', 'a'), ('park', 'is', 'a'), ('the', 'park', 'is')]\n"
     ]
    }
   ],
   "source": [
    "finder4 = TrigramCollocationFinder.from_words(neg_tokens)\n",
    "finder4.apply_freq_filter(5)\n",
    "print(finder4.nbest(trigram_measures.pmi, 25))"
   ]
  },
  {
   "cell_type": "markdown",
   "metadata": {},
   "source": [
    "## TF-IDF"
   ]
  },
  {
   "cell_type": "markdown",
   "metadata": {},
   "source": [
    "I was not quite satisfied with simply calculating the frequency of words in reviews, so I decided to analyze the same datasets again using a Term Frequency-Inverse Document Frequency(TF-IDF) apporach to the problem. I'll start by creatinf a TfidfVectorizer object."
   ]
  },
  {
   "cell_type": "code",
   "execution_count": 38,
   "metadata": {},
   "outputs": [],
   "source": [
    "tfidf = TfidfVectorizer(analyzer='word', sublinear_tf=True, tokenizer=nltk.word_tokenize)"
   ]
  },
  {
   "cell_type": "code",
   "execution_count": 39,
   "metadata": {
    "scrolled": true
   },
   "outputs": [
    {
     "name": "stderr",
     "output_type": "stream",
     "text": [
      "/opt/conda/lib/python3.7/site-packages/sklearn/feature_extraction/text.py:507: UserWarning: The parameter 'token_pattern' will not be used since 'tokenizer' is not None'\n",
      "  warnings.warn(\"The parameter 'token_pattern' will not be used\"\n"
     ]
    }
   ],
   "source": [
    "tdidf_pos = tfidf.fit(df_pos['text'])\n",
    "tdidf_neg = tfidf.fit(df_neg['text'])"
   ]
  },
  {
   "cell_type": "code",
   "execution_count": 45,
   "metadata": {},
   "outputs": [],
   "source": [
    "top20_words_pos = [it[0] for it in pos_top20]\n",
    "IDF_weights_pos = [tfidf.idf_[tfidf.vocabulary_[token]] for token in top20_words_pos]\n",
    "\n",
    "top20_words_neg = [it[0] for it in neg_top20]\n",
    "IDF_weights_neg = [tfidf.idf_[tfidf.vocabulary_[token]] for token in top20_words_neg]"
   ]
  },
  {
   "cell_type": "markdown",
   "metadata": {},
   "source": [
    "Now let's plot the Inverse Document Frequency of the Top 20 words we looked at earlier"
   ]
  },
  {
   "cell_type": "code",
   "execution_count": 46,
   "metadata": {},
   "outputs": [
    {
     "data": {
      "image/png": "[encoded data removed]",
      "text/plain": [
       "<Figure size 432x288 with 1 Axes>"
      ]
     },
     "metadata": {
      "needs_background": "light"
     },
     "output_type": "display_data"
    }
   ],
   "source": [
    "plt.barh(top20_words_pos, IDF_weights_pos)\n",
    "plt.title('Inverse Document Frequency(Positive Reviews)');\n",
    "plt.xlabel('IDF Score');"
   ]
  },
  {
   "cell_type": "code",
   "execution_count": 47,
   "metadata": {},
   "outputs": [
    {
     "data": {
      "image/png": "[encoded data removed]",
      "text/plain": [
       "<Figure size 432x288 with 1 Axes>"
      ]
     },
     "metadata": {
      "needs_background": "light"
     },
     "output_type": "display_data"
    }
   ],
   "source": [
    "plt.barh(top20_words_neg, IDF_weights_neg)\n",
    "plt.title('Inverse Document Frequency(Negative Reviews)');\n",
    "plt.xlabel('IDF Score');"
   ]
  },
  {
   "cell_type": "markdown",
   "metadata": {},
   "source": [
    "Next, let's take a look at the words with the highest inverse document frequency. These words may not have shown up in the top 20 due to the large number of what were effectively stop words('large', 'would', etc.)."
   ]
  },
  {
   "cell_type": "code",
   "execution_count": 63,
   "metadata": {},
   "outputs": [],
   "source": [
    "inds_pos = np.argsort(tfidf.idf_)[::-1][:10]\n",
    "top_IDF_tokens_pos = [list(tfidf.vocabulary_)[ind] for ind in inds]\n",
    "top_IDF_scores_pos = tfidf.idf_[inds]"
   ]
  },
  {
   "cell_type": "code",
   "execution_count": 61,
   "metadata": {},
   "outputs": [
    {
     "data": {
      "image/png": "[encoded data removed]",
      "text/plain": [
       "<Figure size 432x288 with 1 Axes>"
      ]
     },
     "metadata": {
      "needs_background": "light"
     },
     "output_type": "display_data"
    }
   ],
   "source": [
    "plt.barh(top_IDF_tokens_pos, top_IDF_scores_pos)\n",
    "plt.title('Inverse Document Frequency');\n",
    "plt.xlabel('IDF Score');"
   ]
  },
  {
   "cell_type": "markdown",
   "metadata": {},
   "source": [
    "# Ethics & Privacy"
   ]
  },
  {
   "cell_type": "markdown",
   "metadata": {},
   "source": [
    "Ethics and Privacy are of the utmost importance when conducting a data science project, particularly when the project is being conducted by a government agency. As this project is being conducted in the interest of a public agency, it would be best to err on the side of caution and anonymity with regards to personal information. The names, usernames, and any other personal information from the people who made reviews was removed from the data before any analysis was done. The only information that could be traced back to a particular user was the review itself. However, Yelp's privacy policy covers this sort of issue:\n",
    "\n",
    "    \"Public Content: The information that you post to the Site is intended for public consumption, including your reviews, tips, photos, check-ins, comments, likes, Talk posts, bookmarks, friends, lists, compliments, and account profile. We may display this information on the Site, share it with businesses, and further distribute it to a wider audience through third party sites and services\"(yelp.com).\n",
    "\n",
    "Because the review was posted to Yelp publicly and the user agreed to Yelp's terms of service, the data is available to the public. Even with this in mind, the data analysis done in this project does not concern itself with the specifics of each review, instead it tokenizes the words and looks for trends in frequency of specific terms and shot phrases. Therefore, any kind of publicly available report on this study would not contain any data that could be traced back to an individual.\n",
    "\n",
    "With this in mind, privacy and ethics are not synonymous. The most private data science exploration could still be unethical in its intentions or implementation. The project at hand, however, is not malicious or unethical in the slightest. The purpose of this analysis was to organize and analyze data in an effort to provide better parks for residents of San Diego and visitors. Using data to make more informed decisions about allocation of funds will contribute to better parks as well as more efficient use of tax revenue from San Diegans. Better parks would presumably increase tourism, help small businesses, and create places for people to enjoy.\n"
   ]
  },
  {
   "cell_type": "markdown",
   "metadata": {},
   "source": [
    "# Conclusion & Discussion"
   ]
  },
  {
   "cell_type": "markdown",
   "metadata": {},
   "source": [
    "Using Yelp reviews to ascertain the points of interest of parks in San Diego proved to be a moderately useful analysis. It is clear further data collection is required and more complex analysis is necessary in order to gain enough information about how to best use resources to improve San Diego parks. With regards to what went well in this analysis, I think that determining the frequency of terms in the Yelp reviews yielded some useful directions that further research look follow. we saw from the positive review frequencies that \"dog\", \"trail\", \"hike\", and \"clean\" were in a significant number of reviews. On the other side, we saw that \"parking\", \"playground\", \"management\", and \"trail\" came up often in negative reviews. One could search a little further down the list and perhaps take some more time to eliminate the effective stopwords like \"even\" and \"people\" that may not merit consideration in planning a parks budget.\n",
    "\n",
    "With an understanding of how this analysis went, I have a number of ideas for how to improve this analysis and build on it in the future. Because I am still not very comfortable with Python, I spent a great deal of time dealing with bugs, going through tutorials from class, and reading documentation for pandas, scikitlearn, and nltk, so I wasn't able to dig as deep into the data as I would have liked to. In the future, I would like to revisit this project and delve a little deeper into the analysis I was doing on TF-IDF for the dataset. I would like to compare the reviews not only to each other, but to a wider dataset of yelp review text. I believe a deeper exploration in this area would help me weed out some of the terms that were not useful to an analysis. Additionally, I would have liked to have been able to spend more time parsing through the collocation data. I would like to eliminate the pairs and triplets that contain only stopwords and I would also like to figure out a way to rank them against one another. Perhaps some more time spent reading the documentation from nltk could help with this. \n",
    "\n",
    "Overall, I feel that my hypothesis was somewhat supported, though not to the degree that I would have hoped. I was able to find frequencies of words and phrases that may indicate trends in the public's general priorities when it comes to parks. This alone, however, is not enough information to use in fiscal decision-making for a government agency. If conducting this analysis for the San Diego Parks and Recreation department, I would consider this more of an exploratory analysis to help inform topics for future data science projects in the department. The next steps would be to conduct more specific analysis on the topics that came up frequently in this study. One might consider looking at data from other parks departments across the country that had success in the areas discovered here. While this analysis doesn't provide a specific budget plan for the SD Parks and Recreation Department, there is certainly value in ascertaining the priorities of the public and getting a head start on future data science projects.\n"
   ]
  },
  {
   "cell_type": "code",
   "execution_count": null,
   "metadata": {},
   "outputs": [],
   "source": []
  }
 ],
 "metadata": {
  "kernelspec": {
   "display_name": "Python 3",
   "language": "python",
   "name": "python3"
  },
  "language_info": {
   "codemirror_mode": {
    "name": "ipython",
    "version": 3
   },
   "file_extension": ".py",
   "mimetype": "text/x-python",
   "name": "python",
   "nbconvert_exporter": "python",
   "pygments_lexer": "ipython3",
   "version": "3.7.6"
  }
 },
 "nbformat": 4,
 "nbformat_minor": 2
}
