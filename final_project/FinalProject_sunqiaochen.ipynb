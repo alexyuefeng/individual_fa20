{
 "cells": [
  {
   "cell_type": "markdown",
   "metadata": {},
   "source": [
    "# COGS 108 - Final Project "
   ]
  },
  {
   "cell_type": "markdown",
   "metadata": {},
   "source": [
    "# Overview"
   ]
  },
  {
   "cell_type": "markdown",
   "metadata": {},
   "source": [
    "In the project, I would like to find out whether the size of parks in San Diego and yelp reviews counts of parks have correlation with the overall ratings on rating platforms - yelp. I mainly used dataset of \"Park Locations Data\" and \"San Diego Parks Yelp Data\" for parks that are located in San Diego. Based on the analysis, I found out that there is a slight positive linear relationship between the size and yelp ratings of parks. Also, there is a obvious positive linear correlation between the yelp review counts of parks and the ratings of parks."
   ]
  },
  {
   "cell_type": "markdown",
   "metadata": {},
   "source": [
    "# Name & GitHub ID\n",
    "\n",
    "- Name: QIAOCHEN SUN\n",
    "- GitHub Username: sunqiaochen"
   ]
  },
  {
   "cell_type": "markdown",
   "metadata": {},
   "source": [
    "# Research Question"
   ]
  },
  {
   "cell_type": "markdown",
   "metadata": {},
   "source": [
    "Do the size and yelp review numbers of parks in San Diego correlate with the park rating on rating platforms -- yelp? All parks of this analysis are located in San Diego."
   ]
  },
  {
   "cell_type": "markdown",
   "metadata": {},
   "source": [
    "## Background and Prior Work"
   ]
  },
  {
   "cell_type": "markdown",
   "metadata": {},
   "source": [
    "As one of the most famous tourism cities in the United States, there are plenty of parks in San Diego. The parks have different types in San Diego. Regional Parks, Shoreline Parks, and Skate Parks are three main types of parks in San Diego. For example, one very reputated park called Balboa Park is one of regional parks in San Diego. Also, we could know that there are 42,263 acres of developed and undeveloped park land, joint use and open space [1]. From the documentation, we could know that the unit of parks area is acres, which are known in our \"Park Locations Data\".\n",
    "\n",
    "Yelp is a popular site, where users are able to rate parks and write reviews in the comment section. After having fun in the park, people could give their own opinions and ratings on yelp websites. In this way, yelp website has gradually became a site that people will check before choosing parks.In my project, I try to find out that do the size and number of yelp reviews of parks in San Diego have correlation with the overall ratings on yelp. However, sometimes yelp ratings will be affected by other things that are unpredictable. For example, some people tend to give lower rating if they met some bad luck things in the parks, but bad luck has no relationship with the quality of parks. Therefore, the ratings might not be 100% accuracy even though the ratings could reflect the quality of parks in most of situations[2].\n",
    "\n",
    "In my research, I found one paper that study the relationship between yelp review numbers and yelp ratings. The result shows that the impact of consumer reviews on the restaurant industry: (1) 5-7 percent increase in review counts leads to a one-star increase rating in Yelp (2) this effect is driven by independent restaurants; ratings do not affect restaurants with chain affiliation, and (3) chain restaurants have declined in market share as Yelp penetration has increased. From the results, we could find out that review counts do affect the ratings on yelp website, which provide reference for my project [3].\n",
    "\n",
    "\n",
    "\n",
    "\n",
    "References (include links):\n",
    "- 1) https://www.sandiego.gov/sites/default/files/fastfacts.pdf\n",
    "- 2) https://hbswk.hbs.edu/item/the-yelp-factor-are-consumer-reviews-good-for-business\n",
    "- 3) https://www.hbs.edu/faculty/Publication%20Files/12-016_a7e4a5a2-03f9-490d-b093-8f951238dba2.pdf"
   ]
  },
  {
   "cell_type": "markdown",
   "metadata": {},
   "source": [
    "# Hypothesis\n"
   ]
  },
  {
   "cell_type": "markdown",
   "metadata": {},
   "source": [
    "Based on the parks in my own city, with higher ratings on the website, the parks seem to be larger than other smaller parks, because if one park is very large, it means that there are more places to take a walk, do sports. Therefore, there is a positive relationship between the size of parks and the ratings of parks on yelp. Therefore, one of my hypothsis is that if the park rating on yelp is higher, the park will have more area and space. What's more, there is also a positive relationship between the yelp review counts of parks in San Diego and the ratings of parks on yelp, which means if one park have higher ratings on yelp, this park will have more yelp review numbers."
   ]
  },
  {
   "cell_type": "markdown",
   "metadata": {},
   "source": [
    "# Dataset(s)"
   ]
  },
  {
   "cell_type": "markdown",
   "metadata": {},
   "source": [
    "- Dataset Name: ***Park Locations Data***(1), ***San Diego Parks Yelp Data***(2)\n",
    "- Link to the dataset:(1):https://data.sandiego.gov/datasets/park-locations/ (2):https://www.yelp.com/developers/documentation/v3/business_search \n",
    "\n",
    "I will use two datasets that are provided by professor in my analysis. For Park Location Data, the form is geojson file that contains 8 features. The 8 features are ***the id of the park***, ***the park name***, ***the park alias***, ***gis_acres*** (the area of each park), ***park_type***, ***location***, ***owner***, ***geometry*** (coordinate of parks). This dataset has 2769 rows x 8 columns and I mainly use three features in the dataset -- ***park name***, ***alias***(another name of parks) and ***gis_acres*** (the area of the each park). For San Diego Parks Yelp Data, I use \"yelp_SD_parks.csv\" data which is in csv file. For \"yelp_SD_parks.csv\", I mainly utilize three features -- ***name*** (park name), ***rating***, ***review count***. The size of this dataset is 833 rows × 3 columns.\n",
    "\n",
    "Since I want to find out the relationship between the size of parks and the ratings of parks, I need to combine these two features together. I will utilize merge to combine ***Park Location Data*** and ***yelp_SD_parks.csv data*** by the name of the parks. There might be some inconsistants between these two dataset, but I will choose the parks in both of the data to do analysis."
   ]
  },
  {
   "cell_type": "markdown",
   "metadata": {},
   "source": [
    "# Setup"
   ]
  },
  {
   "cell_type": "code",
   "execution_count": 1,
   "metadata": {},
   "outputs": [],
   "source": [
    "import pandas as pd\n",
    "import json\n",
    "import geopandas as gpd\n",
    "\n",
    "import numpy as np\n",
    "import matplotlib.pyplot as plt\n",
    "import seaborn as sns\n",
    "import shapely.geometry as shp\n",
    "import sklearn.neighbors as skn\n",
    "import sklearn.metrics as skm\n",
    "from mpl_toolkits.axes_grid1 import make_axes_locatable\n",
    "\n",
    "import warnings\n",
    "import descartes\n",
    "import seaborn as sns"
   ]
  },
  {
   "cell_type": "code",
   "execution_count": 2,
   "metadata": {},
   "outputs": [],
   "source": [
    "# read data\n",
    "df_park = gpd.read_file(\"parks_datasd.geojson\")\n",
    "df_yelp_park = pd.read_csv(\"yelp_SD_parks.csv\")"
   ]
  },
  {
   "cell_type": "markdown",
   "metadata": {},
   "source": [
    "# Data Cleaning"
   ]
  },
  {
   "cell_type": "markdown",
   "metadata": {},
   "source": [
    "***Remove columns that I do not need in three datasets***"
   ]
  },
  {
   "cell_type": "code",
   "execution_count": 4,
   "metadata": {},
   "outputs": [
    {
     "data": {
      "text/html": [
       "<div>\n",
       "<style scoped>\n",
       "    .dataframe tbody tr th:only-of-type {\n",
       "        vertical-align: middle;\n",
       "    }\n",
       "\n",
       "    .dataframe tbody tr th {\n",
       "        vertical-align: top;\n",
       "    }\n",
       "\n",
       "    .dataframe thead th {\n",
       "        text-align: right;\n",
       "    }\n",
       "</style>\n",
       "<table border=\"1\" class=\"dataframe\">\n",
       "  <thead>\n",
       "    <tr style=\"text-align: right;\">\n",
       "      <th></th>\n",
       "      <th>name</th>\n",
       "      <th>alias</th>\n",
       "      <th>gis_acres</th>\n",
       "    </tr>\n",
       "  </thead>\n",
       "  <tbody>\n",
       "    <tr>\n",
       "      <th>0</th>\n",
       "      <td>South Carlsbad SB</td>\n",
       "      <td>South Carlsbad State Beach</td>\n",
       "      <td>115.895878</td>\n",
       "    </tr>\n",
       "    <tr>\n",
       "      <th>1</th>\n",
       "      <td>Torrey Pines SB</td>\n",
       "      <td>Torrey Pines State Beach</td>\n",
       "      <td>67.294309</td>\n",
       "    </tr>\n",
       "    <tr>\n",
       "      <th>2</th>\n",
       "      <td>Ruocco Park</td>\n",
       "      <td>Ruocco Park</td>\n",
       "      <td>3.312526</td>\n",
       "    </tr>\n",
       "    <tr>\n",
       "      <th>3</th>\n",
       "      <td>Tuna Harbor Park</td>\n",
       "      <td>Tuna Harbor Park</td>\n",
       "      <td>0.639035</td>\n",
       "    </tr>\n",
       "    <tr>\n",
       "      <th>4</th>\n",
       "      <td>San Diego Bayfront Park</td>\n",
       "      <td>San Diego Bayfront Park</td>\n",
       "      <td>3.669272</td>\n",
       "    </tr>\n",
       "    <tr>\n",
       "      <th>...</th>\n",
       "      <td>...</td>\n",
       "      <td>...</td>\n",
       "      <td>...</td>\n",
       "    </tr>\n",
       "    <tr>\n",
       "      <th>2764</th>\n",
       "      <td>San Luis Rey River Park</td>\n",
       "      <td>San Luis Rey River Park</td>\n",
       "      <td>712.262117</td>\n",
       "    </tr>\n",
       "    <tr>\n",
       "      <th>2765</th>\n",
       "      <td>Horse Creek Ridge Sports Park</td>\n",
       "      <td>Horse Creek Ridge Sports Park</td>\n",
       "      <td>8.398529</td>\n",
       "    </tr>\n",
       "    <tr>\n",
       "      <th>2766</th>\n",
       "      <td></td>\n",
       "      <td>Harmony Grove Village 4th of July Park</td>\n",
       "      <td>2.510408</td>\n",
       "    </tr>\n",
       "    <tr>\n",
       "      <th>2767</th>\n",
       "      <td>Harmony Grove Community Park</td>\n",
       "      <td>Harmony Grove Village Community Park</td>\n",
       "      <td>3.575260</td>\n",
       "    </tr>\n",
       "    <tr>\n",
       "      <th>2768</th>\n",
       "      <td>Harmony Grove Equestrian Park</td>\n",
       "      <td>Harmony Grove Village Equestrian Park</td>\n",
       "      <td>3.647259</td>\n",
       "    </tr>\n",
       "  </tbody>\n",
       "</table>\n",
       "<p>2769 rows × 3 columns</p>\n",
       "</div>"
      ],
      "text/plain": [
       "                               name                                   alias  \\\n",
       "0                 South Carlsbad SB              South Carlsbad State Beach   \n",
       "1                   Torrey Pines SB                Torrey Pines State Beach   \n",
       "2                       Ruocco Park                             Ruocco Park   \n",
       "3                  Tuna Harbor Park                        Tuna Harbor Park   \n",
       "4           San Diego Bayfront Park                 San Diego Bayfront Park   \n",
       "...                             ...                                     ...   \n",
       "2764        San Luis Rey River Park                 San Luis Rey River Park   \n",
       "2765  Horse Creek Ridge Sports Park           Horse Creek Ridge Sports Park   \n",
       "2766                                 Harmony Grove Village 4th of July Park   \n",
       "2767   Harmony Grove Community Park    Harmony Grove Village Community Park   \n",
       "2768  Harmony Grove Equestrian Park   Harmony Grove Village Equestrian Park   \n",
       "\n",
       "       gis_acres  \n",
       "0     115.895878  \n",
       "1      67.294309  \n",
       "2       3.312526  \n",
       "3       0.639035  \n",
       "4       3.669272  \n",
       "...          ...  \n",
       "2764  712.262117  \n",
       "2765    8.398529  \n",
       "2766    2.510408  \n",
       "2767    3.575260  \n",
       "2768    3.647259  \n",
       "\n",
       "[2769 rows x 3 columns]"
      ]
     },
     "execution_count": 4,
     "metadata": {},
     "output_type": "execute_result"
    }
   ],
   "source": [
    "# df_park data set\n",
    "df_park = pd.DataFrame(df_park[['name','alias','gis_acres']])\n",
    "df_park"
   ]
  },
  {
   "cell_type": "code",
   "execution_count": 5,
   "metadata": {},
   "outputs": [
    {
     "data": {
      "text/html": [
       "<div>\n",
       "<style scoped>\n",
       "    .dataframe tbody tr th:only-of-type {\n",
       "        vertical-align: middle;\n",
       "    }\n",
       "\n",
       "    .dataframe tbody tr th {\n",
       "        vertical-align: top;\n",
       "    }\n",
       "\n",
       "    .dataframe thead th {\n",
       "        text-align: right;\n",
       "    }\n",
       "</style>\n",
       "<table border=\"1\" class=\"dataframe\">\n",
       "  <thead>\n",
       "    <tr style=\"text-align: right;\">\n",
       "      <th></th>\n",
       "      <th>name</th>\n",
       "      <th>rating</th>\n",
       "      <th>review_count</th>\n",
       "      <th>is_closed</th>\n",
       "    </tr>\n",
       "  </thead>\n",
       "  <tbody>\n",
       "    <tr>\n",
       "      <th>0</th>\n",
       "      <td>Balboa Park</td>\n",
       "      <td>5.0</td>\n",
       "      <td>2105</td>\n",
       "      <td>False</td>\n",
       "    </tr>\n",
       "    <tr>\n",
       "      <th>1</th>\n",
       "      <td>Civita Park</td>\n",
       "      <td>4.5</td>\n",
       "      <td>46</td>\n",
       "      <td>False</td>\n",
       "    </tr>\n",
       "    <tr>\n",
       "      <th>2</th>\n",
       "      <td>Waterfront Park</td>\n",
       "      <td>4.5</td>\n",
       "      <td>242</td>\n",
       "      <td>False</td>\n",
       "    </tr>\n",
       "    <tr>\n",
       "      <th>3</th>\n",
       "      <td>Trolley Barn Park</td>\n",
       "      <td>4.5</td>\n",
       "      <td>102</td>\n",
       "      <td>False</td>\n",
       "    </tr>\n",
       "    <tr>\n",
       "      <th>4</th>\n",
       "      <td>Bay View Park</td>\n",
       "      <td>5.0</td>\n",
       "      <td>42</td>\n",
       "      <td>False</td>\n",
       "    </tr>\n",
       "    <tr>\n",
       "      <th>...</th>\n",
       "      <td>...</td>\n",
       "      <td>...</td>\n",
       "      <td>...</td>\n",
       "      <td>...</td>\n",
       "    </tr>\n",
       "    <tr>\n",
       "      <th>828</th>\n",
       "      <td>Del Cerro - San Diego</td>\n",
       "      <td>4.5</td>\n",
       "      <td>12</td>\n",
       "      <td>False</td>\n",
       "    </tr>\n",
       "    <tr>\n",
       "      <th>829</th>\n",
       "      <td>San Diego Metropolitan Transit System</td>\n",
       "      <td>2.5</td>\n",
       "      <td>268</td>\n",
       "      <td>False</td>\n",
       "    </tr>\n",
       "    <tr>\n",
       "      <th>830</th>\n",
       "      <td>Petco Park</td>\n",
       "      <td>4.0</td>\n",
       "      <td>1667</td>\n",
       "      <td>False</td>\n",
       "    </tr>\n",
       "    <tr>\n",
       "      <th>831</th>\n",
       "      <td>Ann D. L'Heureux Memorial Dog Park</td>\n",
       "      <td>3.0</td>\n",
       "      <td>50</td>\n",
       "      <td>False</td>\n",
       "    </tr>\n",
       "    <tr>\n",
       "      <th>832</th>\n",
       "      <td>Fairbrook Farm</td>\n",
       "      <td>5.0</td>\n",
       "      <td>1</td>\n",
       "      <td>False</td>\n",
       "    </tr>\n",
       "  </tbody>\n",
       "</table>\n",
       "<p>833 rows × 4 columns</p>\n",
       "</div>"
      ],
      "text/plain": [
       "                                      name  rating  review_count  is_closed\n",
       "0                              Balboa Park     5.0          2105      False\n",
       "1                              Civita Park     4.5            46      False\n",
       "2                          Waterfront Park     4.5           242      False\n",
       "3                        Trolley Barn Park     4.5           102      False\n",
       "4                            Bay View Park     5.0            42      False\n",
       "..                                     ...     ...           ...        ...\n",
       "828                  Del Cerro - San Diego     4.5            12      False\n",
       "829  San Diego Metropolitan Transit System     2.5           268      False\n",
       "830                             Petco Park     4.0          1667      False\n",
       "831     Ann D. L'Heureux Memorial Dog Park     3.0            50      False\n",
       "832                         Fairbrook Farm     5.0             1      False\n",
       "\n",
       "[833 rows x 4 columns]"
      ]
     },
     "execution_count": 5,
     "metadata": {},
     "output_type": "execute_result"
    }
   ],
   "source": [
    "# df_yelp_park data\n",
    "df_yelp_park = pd.DataFrame(df_yelp_park[['name','rating','review_count','is_closed']])\n",
    "df_yelp_park"
   ]
  },
  {
   "cell_type": "markdown",
   "metadata": {},
   "source": [
    "***In this part, I need to do something that make name of parks consistent. I plan to make all names in lowercase so that it is easy to merge different dataset. I also need to rename some columns to perform better data analysis***"
   ]
  },
  {
   "cell_type": "markdown",
   "metadata": {},
   "source": [
    "df_park"
   ]
  },
  {
   "cell_type": "code",
   "execution_count": 8,
   "metadata": {},
   "outputs": [],
   "source": [
    "# function to lower the name\n",
    "def lower(s):\n",
    "    return s.lower()\n",
    "\n",
    "# df_park\n",
    "# lower all the name and sort them\n",
    "df_park['name'] = df_park['name'].apply(lower)\n",
    "df_park = df_park.sort_values(by='name')"
   ]
  },
  {
   "cell_type": "code",
   "execution_count": 9,
   "metadata": {},
   "outputs": [],
   "source": [
    "# drop the rows that miss at least one data"
   ]
  },
  {
   "cell_type": "code",
   "execution_count": 10,
   "metadata": {},
   "outputs": [
    {
     "data": {
      "text/html": [
       "<div>\n",
       "<style scoped>\n",
       "    .dataframe tbody tr th:only-of-type {\n",
       "        vertical-align: middle;\n",
       "    }\n",
       "\n",
       "    .dataframe tbody tr th {\n",
       "        vertical-align: top;\n",
       "    }\n",
       "\n",
       "    .dataframe thead th {\n",
       "        text-align: right;\n",
       "    }\n",
       "</style>\n",
       "<table border=\"1\" class=\"dataframe\">\n",
       "  <thead>\n",
       "    <tr style=\"text-align: right;\">\n",
       "      <th></th>\n",
       "      <th>name</th>\n",
       "      <th>alias</th>\n",
       "      <th>gis_acres</th>\n",
       "    </tr>\n",
       "  </thead>\n",
       "  <tbody>\n",
       "    <tr>\n",
       "      <th>0</th>\n",
       "      <td>30th st mp</td>\n",
       "      <td>30th St Park</td>\n",
       "      <td>0.228497</td>\n",
       "    </tr>\n",
       "    <tr>\n",
       "      <th>1</th>\n",
       "      <td>32nd st canyon os</td>\n",
       "      <td>32nd St Canyon Open Space</td>\n",
       "      <td>0.195944</td>\n",
       "    </tr>\n",
       "    <tr>\n",
       "      <th>2</th>\n",
       "      <td>32nd st canyon os</td>\n",
       "      <td>32nd St Canyon Open Space</td>\n",
       "      <td>0.407552</td>\n",
       "    </tr>\n",
       "    <tr>\n",
       "      <th>3</th>\n",
       "      <td>32nd st canyon os</td>\n",
       "      <td>32nd St Canyon Open Space</td>\n",
       "      <td>0.063489</td>\n",
       "    </tr>\n",
       "    <tr>\n",
       "      <th>4</th>\n",
       "      <td>32nd st canyon os</td>\n",
       "      <td>32nd St Canyon Open Space</td>\n",
       "      <td>0.255463</td>\n",
       "    </tr>\n",
       "    <tr>\n",
       "      <th>...</th>\n",
       "      <td>...</td>\n",
       "      <td>...</td>\n",
       "      <td>...</td>\n",
       "    </tr>\n",
       "    <tr>\n",
       "      <th>2750</th>\n",
       "      <td>woodland park</td>\n",
       "      <td>Woodland Park</td>\n",
       "      <td>14.672094</td>\n",
       "    </tr>\n",
       "    <tr>\n",
       "      <th>2751</th>\n",
       "      <td>yacht club promenade pocket park</td>\n",
       "      <td>Yacht Club Promenade Pocket Park</td>\n",
       "      <td>0.498868</td>\n",
       "    </tr>\n",
       "    <tr>\n",
       "      <th>2752</th>\n",
       "      <td>z st mp</td>\n",
       "      <td>Z St Park</td>\n",
       "      <td>0.365955</td>\n",
       "    </tr>\n",
       "    <tr>\n",
       "      <th>2753</th>\n",
       "      <td>zena mp</td>\n",
       "      <td>Zena Park</td>\n",
       "      <td>0.063096</td>\n",
       "    </tr>\n",
       "    <tr>\n",
       "      <th>2754</th>\n",
       "      <td>zone 5 park</td>\n",
       "      <td>Zone 5 Park</td>\n",
       "      <td>12.291078</td>\n",
       "    </tr>\n",
       "  </tbody>\n",
       "</table>\n",
       "<p>2755 rows × 3 columns</p>\n",
       "</div>"
      ],
      "text/plain": [
       "                                  name                             alias  \\\n",
       "0                           30th st mp                      30th St Park   \n",
       "1                    32nd st canyon os         32nd St Canyon Open Space   \n",
       "2                    32nd st canyon os         32nd St Canyon Open Space   \n",
       "3                    32nd st canyon os         32nd St Canyon Open Space   \n",
       "4                    32nd st canyon os         32nd St Canyon Open Space   \n",
       "...                                ...                               ...   \n",
       "2750                     woodland park                     Woodland Park   \n",
       "2751  yacht club promenade pocket park  Yacht Club Promenade Pocket Park   \n",
       "2752                           z st mp                         Z St Park   \n",
       "2753                           zena mp                         Zena Park   \n",
       "2754                       zone 5 park                       Zone 5 Park   \n",
       "\n",
       "      gis_acres  \n",
       "0      0.228497  \n",
       "1      0.195944  \n",
       "2      0.407552  \n",
       "3      0.063489  \n",
       "4      0.255463  \n",
       "...         ...  \n",
       "2750  14.672094  \n",
       "2751   0.498868  \n",
       "2752   0.365955  \n",
       "2753   0.063096  \n",
       "2754  12.291078  \n",
       "\n",
       "[2755 rows x 3 columns]"
      ]
     },
     "execution_count": 10,
     "metadata": {},
     "output_type": "execute_result"
    }
   ],
   "source": [
    "df_park.index = range(0,2769)\n",
    "df_park = df_park.drop(list(range(0,14)))\n",
    "df_park.index = range(0,2755)\n",
    "df_park"
   ]
  },
  {
   "cell_type": "markdown",
   "metadata": {},
   "source": [
    "df_yelp_park"
   ]
  },
  {
   "cell_type": "code",
   "execution_count": 11,
   "metadata": {},
   "outputs": [
    {
     "data": {
      "text/html": [
       "<div>\n",
       "<style scoped>\n",
       "    .dataframe tbody tr th:only-of-type {\n",
       "        vertical-align: middle;\n",
       "    }\n",
       "\n",
       "    .dataframe tbody tr th {\n",
       "        vertical-align: top;\n",
       "    }\n",
       "\n",
       "    .dataframe thead th {\n",
       "        text-align: right;\n",
       "    }\n",
       "</style>\n",
       "<table border=\"1\" class=\"dataframe\">\n",
       "  <thead>\n",
       "    <tr style=\"text-align: right;\">\n",
       "      <th></th>\n",
       "      <th>name</th>\n",
       "      <th>rating</th>\n",
       "      <th>review_count</th>\n",
       "      <th>is_closed</th>\n",
       "    </tr>\n",
       "  </thead>\n",
       "  <tbody>\n",
       "    <tr>\n",
       "      <th>0</th>\n",
       "      <td>13th &amp; market</td>\n",
       "      <td>3.5</td>\n",
       "      <td>85</td>\n",
       "      <td>False</td>\n",
       "    </tr>\n",
       "    <tr>\n",
       "      <th>1</th>\n",
       "      <td>1935 cactus garden</td>\n",
       "      <td>5.0</td>\n",
       "      <td>1</td>\n",
       "      <td>False</td>\n",
       "    </tr>\n",
       "    <tr>\n",
       "      <th>2</th>\n",
       "      <td>4s patriot park</td>\n",
       "      <td>4.5</td>\n",
       "      <td>16</td>\n",
       "      <td>False</td>\n",
       "    </tr>\n",
       "    <tr>\n",
       "      <th>3</th>\n",
       "      <td>4s ranch community park</td>\n",
       "      <td>5.0</td>\n",
       "      <td>17</td>\n",
       "      <td>False</td>\n",
       "    </tr>\n",
       "    <tr>\n",
       "      <th>4</th>\n",
       "      <td>5 star dealer school</td>\n",
       "      <td>5.0</td>\n",
       "      <td>1</td>\n",
       "      <td>False</td>\n",
       "    </tr>\n",
       "    <tr>\n",
       "      <th>...</th>\n",
       "      <td>...</td>\n",
       "      <td>...</td>\n",
       "      <td>...</td>\n",
       "      <td>...</td>\n",
       "    </tr>\n",
       "    <tr>\n",
       "      <th>828</th>\n",
       "      <td>working class</td>\n",
       "      <td>4.5</td>\n",
       "      <td>498</td>\n",
       "      <td>False</td>\n",
       "    </tr>\n",
       "    <tr>\n",
       "      <th>829</th>\n",
       "      <td>you &amp; yours distilling co</td>\n",
       "      <td>5.0</td>\n",
       "      <td>185</td>\n",
       "      <td>False</td>\n",
       "    </tr>\n",
       "    <tr>\n",
       "      <th>830</th>\n",
       "      <td>zeglio custom clothiers</td>\n",
       "      <td>5.0</td>\n",
       "      <td>51</td>\n",
       "      <td>False</td>\n",
       "    </tr>\n",
       "    <tr>\n",
       "      <th>831</th>\n",
       "      <td>zeglio custom clothiers</td>\n",
       "      <td>5.0</td>\n",
       "      <td>25</td>\n",
       "      <td>False</td>\n",
       "    </tr>\n",
       "    <tr>\n",
       "      <th>832</th>\n",
       "      <td>zoro garden</td>\n",
       "      <td>4.0</td>\n",
       "      <td>11</td>\n",
       "      <td>False</td>\n",
       "    </tr>\n",
       "  </tbody>\n",
       "</table>\n",
       "<p>833 rows × 4 columns</p>\n",
       "</div>"
      ],
      "text/plain": [
       "                          name  rating  review_count  is_closed\n",
       "0                13th & market     3.5            85      False\n",
       "1           1935 cactus garden     5.0             1      False\n",
       "2              4s patriot park     4.5            16      False\n",
       "3      4s ranch community park     5.0            17      False\n",
       "4         5 star dealer school     5.0             1      False\n",
       "..                         ...     ...           ...        ...\n",
       "828              working class     4.5           498      False\n",
       "829  you & yours distilling co     5.0           185      False\n",
       "830    zeglio custom clothiers     5.0            51      False\n",
       "831    zeglio custom clothiers     5.0            25      False\n",
       "832                zoro garden     4.0            11      False\n",
       "\n",
       "[833 rows x 4 columns]"
      ]
     },
     "execution_count": 11,
     "metadata": {},
     "output_type": "execute_result"
    }
   ],
   "source": [
    "df_yelp_park['name'] = df_yelp_park['name'].apply(lower)\n",
    "df_yelp_park = df_yelp_park.sort_values(by='name')\n",
    "df_yelp_park.index = range(0,833)\n",
    "df_yelp_park"
   ]
  },
  {
   "cell_type": "markdown",
   "metadata": {},
   "source": [
    "***Merge datasets*** :At here I only merge two dataset(df_yelp_parks and df_parks), because the name in group_yelp_review dataframe is very wired and do not have common parks name with these two dataset, so I choose to not merge group_yelp_review.\n",
    "Due to many reasons, even though there are 833 datasets in ***df_yelp_park***, and there are 2755 datasets in ***df_park**, there are plenty of spaces like school, and garden which cannot count as park and the name of one park will be different based on two datasets. Therefore, there are only 67 overlapped park name, which is enough for our analysis.\n"
   ]
  },
  {
   "cell_type": "code",
   "execution_count": 13,
   "metadata": {},
   "outputs": [
    {
     "data": {
      "text/html": [
       "<div>\n",
       "<style scoped>\n",
       "    .dataframe tbody tr th:only-of-type {\n",
       "        vertical-align: middle;\n",
       "    }\n",
       "\n",
       "    .dataframe tbody tr th {\n",
       "        vertical-align: top;\n",
       "    }\n",
       "\n",
       "    .dataframe thead th {\n",
       "        text-align: right;\n",
       "    }\n",
       "</style>\n",
       "<table border=\"1\" class=\"dataframe\">\n",
       "  <thead>\n",
       "    <tr style=\"text-align: right;\">\n",
       "      <th></th>\n",
       "      <th>name</th>\n",
       "      <th>rating</th>\n",
       "      <th>review_count</th>\n",
       "      <th>is_closed</th>\n",
       "      <th>alias</th>\n",
       "      <th>gis_acres</th>\n",
       "    </tr>\n",
       "  </thead>\n",
       "  <tbody>\n",
       "    <tr>\n",
       "      <th>0</th>\n",
       "      <td>4s ranch community park</td>\n",
       "      <td>5.0</td>\n",
       "      <td>17</td>\n",
       "      <td>False</td>\n",
       "      <td>4S Ranch Community Park</td>\n",
       "      <td>3.241830</td>\n",
       "    </tr>\n",
       "    <tr>\n",
       "      <th>1</th>\n",
       "      <td>balboa park</td>\n",
       "      <td>5.0</td>\n",
       "      <td>2105</td>\n",
       "      <td>False</td>\n",
       "      <td>Balboa Park</td>\n",
       "      <td>1089.476460</td>\n",
       "    </tr>\n",
       "    <tr>\n",
       "      <th>2</th>\n",
       "      <td>big rock park</td>\n",
       "      <td>4.5</td>\n",
       "      <td>31</td>\n",
       "      <td>False</td>\n",
       "      <td>Big Rock Park</td>\n",
       "      <td>5.674329</td>\n",
       "    </tr>\n",
       "    <tr>\n",
       "      <th>3</th>\n",
       "      <td>blue sky ecological reserve</td>\n",
       "      <td>4.5</td>\n",
       "      <td>55</td>\n",
       "      <td>False</td>\n",
       "      <td>Blue Sky Ecological Reserve</td>\n",
       "      <td>12.452234</td>\n",
       "    </tr>\n",
       "    <tr>\n",
       "      <th>4</th>\n",
       "      <td>blue sky ecological reserve</td>\n",
       "      <td>4.5</td>\n",
       "      <td>55</td>\n",
       "      <td>False</td>\n",
       "      <td>Blue Sky Ranch Ecological Reserve</td>\n",
       "      <td>83.767053</td>\n",
       "    </tr>\n",
       "    <tr>\n",
       "      <th>...</th>\n",
       "      <td>...</td>\n",
       "      <td>...</td>\n",
       "      <td>...</td>\n",
       "      <td>...</td>\n",
       "      <td>...</td>\n",
       "      <td>...</td>\n",
       "    </tr>\n",
       "    <tr>\n",
       "      <th>62</th>\n",
       "      <td>sunset park</td>\n",
       "      <td>3.5</td>\n",
       "      <td>2</td>\n",
       "      <td>False</td>\n",
       "      <td>Sunset Park</td>\n",
       "      <td>6.769626</td>\n",
       "    </tr>\n",
       "    <tr>\n",
       "      <th>63</th>\n",
       "      <td>sunset park</td>\n",
       "      <td>3.5</td>\n",
       "      <td>2</td>\n",
       "      <td>False</td>\n",
       "      <td>Sunset Park</td>\n",
       "      <td>17.630280</td>\n",
       "    </tr>\n",
       "    <tr>\n",
       "      <th>64</th>\n",
       "      <td>sunset view park</td>\n",
       "      <td>4.5</td>\n",
       "      <td>5</td>\n",
       "      <td>False</td>\n",
       "      <td>Sunset View Park</td>\n",
       "      <td>11.768480</td>\n",
       "    </tr>\n",
       "    <tr>\n",
       "      <th>65</th>\n",
       "      <td>torrey pines state reserve</td>\n",
       "      <td>4.5</td>\n",
       "      <td>1319</td>\n",
       "      <td>False</td>\n",
       "      <td>Torrey Pines State Reserve</td>\n",
       "      <td>198.780945</td>\n",
       "    </tr>\n",
       "    <tr>\n",
       "      <th>66</th>\n",
       "      <td>waterfront park</td>\n",
       "      <td>4.5</td>\n",
       "      <td>242</td>\n",
       "      <td>False</td>\n",
       "      <td>Waterfront Park</td>\n",
       "      <td>12.693865</td>\n",
       "    </tr>\n",
       "  </tbody>\n",
       "</table>\n",
       "<p>67 rows × 6 columns</p>\n",
       "</div>"
      ],
      "text/plain": [
       "                           name  rating  review_count  is_closed  \\\n",
       "0       4s ranch community park     5.0            17      False   \n",
       "1                   balboa park     5.0          2105      False   \n",
       "2                 big rock park     4.5            31      False   \n",
       "3   blue sky ecological reserve     4.5            55      False   \n",
       "4   blue sky ecological reserve     4.5            55      False   \n",
       "..                          ...     ...           ...        ...   \n",
       "62                  sunset park     3.5             2      False   \n",
       "63                  sunset park     3.5             2      False   \n",
       "64             sunset view park     4.5             5      False   \n",
       "65   torrey pines state reserve     4.5          1319      False   \n",
       "66              waterfront park     4.5           242      False   \n",
       "\n",
       "                                alias    gis_acres  \n",
       "0             4S Ranch Community Park     3.241830  \n",
       "1                         Balboa Park  1089.476460  \n",
       "2                       Big Rock Park     5.674329  \n",
       "3         Blue Sky Ecological Reserve    12.452234  \n",
       "4   Blue Sky Ranch Ecological Reserve    83.767053  \n",
       "..                                ...          ...  \n",
       "62                        Sunset Park     6.769626  \n",
       "63                        Sunset Park    17.630280  \n",
       "64                   Sunset View Park    11.768480  \n",
       "65         Torrey Pines State Reserve   198.780945  \n",
       "66                    Waterfront Park    12.693865  \n",
       "\n",
       "[67 rows x 6 columns]"
      ]
     },
     "execution_count": 13,
     "metadata": {},
     "output_type": "execute_result"
    }
   ],
   "source": [
    "#at here we only merge two dataset(df_yelp_parks and df_parks), because the name in group_yelp_review dataframe is very wired\n",
    "#and do not have common parks name with these two dataset, so we choose to not merge group_yelp_review.\n",
    "combined = pd.merge(df_yelp_park, df_park, on='name')\n",
    "combined"
   ]
  },
  {
   "cell_type": "markdown",
   "metadata": {},
   "source": [
    "# Data Analysis & Results"
   ]
  },
  {
   "cell_type": "markdown",
   "metadata": {},
   "source": [
    "### Data visualization"
   ]
  },
  {
   "cell_type": "markdown",
   "metadata": {},
   "source": [
    "First, I need to check the distributions of **rating**, **gis_acres**, and **review_count**"
   ]
  },
  {
   "cell_type": "code",
   "execution_count": 14,
   "metadata": {},
   "outputs": [
    {
     "data": {
      "text/plain": [
       "Text(0, 0.5, 'frequency')"
      ]
     },
     "execution_count": 14,
     "metadata": {},
     "output_type": "execute_result"
    },
    {
     "data": {
      "image/png": "[encoded data removed]",
      "text/plain": [
       "<Figure size 432x288 with 1 Axes>"
      ]
     },
     "metadata": {
      "needs_background": "light"
     },
     "output_type": "display_data"
    }
   ],
   "source": [
    "ax = sns.distplot(combined['rating'])\n",
    "ax.set_title('Parks rating Distribution')\n",
    "ax.set_ylabel('frequency')"
   ]
  },
  {
   "cell_type": "markdown",
   "metadata": {},
   "source": [
    "Figure 1: This figure illustrate the overall distribution of ratings of differet parks in San Diego. We could see that almost half of parks in combined dataset have 4.5 ratings and these are small number of parks have ratings that under 3.5 ratings."
   ]
  },
  {
   "cell_type": "code",
   "execution_count": 15,
   "metadata": {},
   "outputs": [
    {
     "data": {
      "text/plain": [
       "Text(0, 0.5, 'frequency')"
      ]
     },
     "execution_count": 15,
     "metadata": {},
     "output_type": "execute_result"
    },
    {
     "data": {
      "image/png": "[encoded data removed]",
      "text/plain": [
       "<Figure size 432x288 with 1 Axes>"
      ]
     },
     "metadata": {
      "needs_background": "light"
     },
     "output_type": "display_data"
    }
   ],
   "source": [
    "ax = sns.distplot(combined['gis_acres'])\n",
    "ax.set_title('Parks area Distribution')\n",
    "ax.set_ylabel('frequency')"
   ]
  },
  {
   "cell_type": "markdown",
   "metadata": {},
   "source": [
    "Figure 2: This figure illustrate the overall distribution of area of differet parks in San Diego. We could see that most of parks in combined dataset have less than 100 acres area, but there are some exceptions that affect the overall distributions. Therefore, I decide to limit the area number under 100 acres to make another distributions."
   ]
  },
  {
   "cell_type": "code",
   "execution_count": 16,
   "metadata": {},
   "outputs": [
    {
     "data": {
      "text/html": [
       "<div>\n",
       "<style scoped>\n",
       "    .dataframe tbody tr th:only-of-type {\n",
       "        vertical-align: middle;\n",
       "    }\n",
       "\n",
       "    .dataframe tbody tr th {\n",
       "        vertical-align: top;\n",
       "    }\n",
       "\n",
       "    .dataframe thead th {\n",
       "        text-align: right;\n",
       "    }\n",
       "</style>\n",
       "<table border=\"1\" class=\"dataframe\">\n",
       "  <thead>\n",
       "    <tr style=\"text-align: right;\">\n",
       "      <th></th>\n",
       "      <th>name</th>\n",
       "      <th>rating</th>\n",
       "      <th>review_count</th>\n",
       "      <th>is_closed</th>\n",
       "      <th>alias</th>\n",
       "      <th>gis_acres</th>\n",
       "    </tr>\n",
       "  </thead>\n",
       "  <tbody>\n",
       "    <tr>\n",
       "      <th>0</th>\n",
       "      <td>4s ranch community park</td>\n",
       "      <td>5.0</td>\n",
       "      <td>17</td>\n",
       "      <td>False</td>\n",
       "      <td>4S Ranch Community Park</td>\n",
       "      <td>3.241830</td>\n",
       "    </tr>\n",
       "    <tr>\n",
       "      <th>2</th>\n",
       "      <td>big rock park</td>\n",
       "      <td>4.5</td>\n",
       "      <td>31</td>\n",
       "      <td>False</td>\n",
       "      <td>Big Rock Park</td>\n",
       "      <td>5.674329</td>\n",
       "    </tr>\n",
       "    <tr>\n",
       "      <th>3</th>\n",
       "      <td>blue sky ecological reserve</td>\n",
       "      <td>4.5</td>\n",
       "      <td>55</td>\n",
       "      <td>False</td>\n",
       "      <td>Blue Sky Ecological Reserve</td>\n",
       "      <td>12.452234</td>\n",
       "    </tr>\n",
       "    <tr>\n",
       "      <th>4</th>\n",
       "      <td>blue sky ecological reserve</td>\n",
       "      <td>4.5</td>\n",
       "      <td>55</td>\n",
       "      <td>False</td>\n",
       "      <td>Blue Sky Ranch Ecological Reserve</td>\n",
       "      <td>83.767053</td>\n",
       "    </tr>\n",
       "    <tr>\n",
       "      <th>5</th>\n",
       "      <td>borrego springs park</td>\n",
       "      <td>5.0</td>\n",
       "      <td>3</td>\n",
       "      <td>False</td>\n",
       "      <td>Borrego Springs County Park</td>\n",
       "      <td>15.979215</td>\n",
       "    </tr>\n",
       "    <tr>\n",
       "      <th>6</th>\n",
       "      <td>briercrest park</td>\n",
       "      <td>4.0</td>\n",
       "      <td>20</td>\n",
       "      <td>False</td>\n",
       "      <td>Briercrest Park</td>\n",
       "      <td>3.473216</td>\n",
       "    </tr>\n",
       "    <tr>\n",
       "      <th>8</th>\n",
       "      <td>centennial park</td>\n",
       "      <td>4.5</td>\n",
       "      <td>37</td>\n",
       "      <td>False</td>\n",
       "      <td>Centennial Park</td>\n",
       "      <td>1.778897</td>\n",
       "    </tr>\n",
       "    <tr>\n",
       "      <th>9</th>\n",
       "      <td>centennial park</td>\n",
       "      <td>4.5</td>\n",
       "      <td>37</td>\n",
       "      <td>False</td>\n",
       "      <td>Centennial Park</td>\n",
       "      <td>1.656224</td>\n",
       "    </tr>\n",
       "    <tr>\n",
       "      <th>10</th>\n",
       "      <td>chicano park</td>\n",
       "      <td>4.5</td>\n",
       "      <td>86</td>\n",
       "      <td>False</td>\n",
       "      <td>Chicano Park</td>\n",
       "      <td>0.514463</td>\n",
       "    </tr>\n",
       "    <tr>\n",
       "      <th>11</th>\n",
       "      <td>collier park</td>\n",
       "      <td>3.5</td>\n",
       "      <td>2</td>\n",
       "      <td>False</td>\n",
       "      <td>Collier County Park</td>\n",
       "      <td>8.149171</td>\n",
       "    </tr>\n",
       "  </tbody>\n",
       "</table>\n",
       "</div>"
      ],
      "text/plain": [
       "                           name  rating  review_count  is_closed  \\\n",
       "0       4s ranch community park     5.0            17      False   \n",
       "2                 big rock park     4.5            31      False   \n",
       "3   blue sky ecological reserve     4.5            55      False   \n",
       "4   blue sky ecological reserve     4.5            55      False   \n",
       "5          borrego springs park     5.0             3      False   \n",
       "6               briercrest park     4.0            20      False   \n",
       "8               centennial park     4.5            37      False   \n",
       "9               centennial park     4.5            37      False   \n",
       "10                 chicano park     4.5            86      False   \n",
       "11                 collier park     3.5             2      False   \n",
       "\n",
       "                                alias  gis_acres  \n",
       "0             4S Ranch Community Park   3.241830  \n",
       "2                       Big Rock Park   5.674329  \n",
       "3         Blue Sky Ecological Reserve  12.452234  \n",
       "4   Blue Sky Ranch Ecological Reserve  83.767053  \n",
       "5         Borrego Springs County Park  15.979215  \n",
       "6                     Briercrest Park   3.473216  \n",
       "8                     Centennial Park   1.778897  \n",
       "9                     Centennial Park   1.656224  \n",
       "10                       Chicano Park   0.514463  \n",
       "11                Collier County Park   8.149171  "
      ]
     },
     "execution_count": 16,
     "metadata": {},
     "output_type": "execute_result"
    }
   ],
   "source": [
    "# get the dataset that gis_acres < 100 acres\n",
    "combine = combined[combined['gis_acres'] <= 100]\n",
    "combine[:10]"
   ]
  },
  {
   "cell_type": "code",
   "execution_count": 17,
   "metadata": {},
   "outputs": [
    {
     "data": {
      "text/plain": [
       "Text(0, 0.5, 'frequency')"
      ]
     },
     "execution_count": 17,
     "metadata": {},
     "output_type": "execute_result"
    },
    {
     "data": {
      "image/png": "[encoded data removed]",
      "text/plain": [
       "<Figure size 432x288 with 1 Axes>"
      ]
     },
     "metadata": {
      "needs_background": "light"
     },
     "output_type": "display_data"
    }
   ],
   "source": [
    "ax = sns.distplot(combine['gis_acres'])\n",
    "ax.set_title('Parks area Distribution')\n",
    "ax.set_ylabel('frequency')"
   ]
  },
  {
   "cell_type": "markdown",
   "metadata": {},
   "source": [
    "Figure 3: After cutting the dataset, we could find out that most of parks only have about 10 acres, which is not very large. Only few parks that have area larger than 100 acres."
   ]
  },
  {
   "cell_type": "code",
   "execution_count": 18,
   "metadata": {},
   "outputs": [
    {
     "data": {
      "text/plain": [
       "Text(0, 0.5, 'frequency')"
      ]
     },
     "execution_count": 18,
     "metadata": {},
     "output_type": "execute_result"
    },
    {
     "data": {
      "image/png": "[encoded data removed]",
      "text/plain": [
       "<Figure size 432x288 with 1 Axes>"
      ]
     },
     "metadata": {
      "needs_background": "light"
     },
     "output_type": "display_data"
    }
   ],
   "source": [
    "ax = sns.distplot(combine['review_count'])\n",
    "ax.set_title('Parks review_counts Distribution')\n",
    "ax.set_ylabel('frequency')"
   ]
  },
  {
   "cell_type": "markdown",
   "metadata": {},
   "source": [
    "Figure 4: We have same situation like area data above. Most of number of reviews are under about 120 times. Therefore, we need to make another plot."
   ]
  },
  {
   "cell_type": "code",
   "execution_count": 19,
   "metadata": {},
   "outputs": [
    {
     "data": {
      "text/html": [
       "<div>\n",
       "<style scoped>\n",
       "    .dataframe tbody tr th:only-of-type {\n",
       "        vertical-align: middle;\n",
       "    }\n",
       "\n",
       "    .dataframe tbody tr th {\n",
       "        vertical-align: top;\n",
       "    }\n",
       "\n",
       "    .dataframe thead th {\n",
       "        text-align: right;\n",
       "    }\n",
       "</style>\n",
       "<table border=\"1\" class=\"dataframe\">\n",
       "  <thead>\n",
       "    <tr style=\"text-align: right;\">\n",
       "      <th></th>\n",
       "      <th>name</th>\n",
       "      <th>rating</th>\n",
       "      <th>review_count</th>\n",
       "      <th>is_closed</th>\n",
       "      <th>alias</th>\n",
       "      <th>gis_acres</th>\n",
       "    </tr>\n",
       "  </thead>\n",
       "  <tbody>\n",
       "    <tr>\n",
       "      <th>0</th>\n",
       "      <td>4s ranch community park</td>\n",
       "      <td>5.0</td>\n",
       "      <td>17</td>\n",
       "      <td>False</td>\n",
       "      <td>4S Ranch Community Park</td>\n",
       "      <td>3.241830</td>\n",
       "    </tr>\n",
       "    <tr>\n",
       "      <th>2</th>\n",
       "      <td>big rock park</td>\n",
       "      <td>4.5</td>\n",
       "      <td>31</td>\n",
       "      <td>False</td>\n",
       "      <td>Big Rock Park</td>\n",
       "      <td>5.674329</td>\n",
       "    </tr>\n",
       "    <tr>\n",
       "      <th>3</th>\n",
       "      <td>blue sky ecological reserve</td>\n",
       "      <td>4.5</td>\n",
       "      <td>55</td>\n",
       "      <td>False</td>\n",
       "      <td>Blue Sky Ecological Reserve</td>\n",
       "      <td>12.452234</td>\n",
       "    </tr>\n",
       "    <tr>\n",
       "      <th>4</th>\n",
       "      <td>blue sky ecological reserve</td>\n",
       "      <td>4.5</td>\n",
       "      <td>55</td>\n",
       "      <td>False</td>\n",
       "      <td>Blue Sky Ranch Ecological Reserve</td>\n",
       "      <td>83.767053</td>\n",
       "    </tr>\n",
       "    <tr>\n",
       "      <th>5</th>\n",
       "      <td>borrego springs park</td>\n",
       "      <td>5.0</td>\n",
       "      <td>3</td>\n",
       "      <td>False</td>\n",
       "      <td>Borrego Springs County Park</td>\n",
       "      <td>15.979215</td>\n",
       "    </tr>\n",
       "    <tr>\n",
       "      <th>6</th>\n",
       "      <td>briercrest park</td>\n",
       "      <td>4.0</td>\n",
       "      <td>20</td>\n",
       "      <td>False</td>\n",
       "      <td>Briercrest Park</td>\n",
       "      <td>3.473216</td>\n",
       "    </tr>\n",
       "    <tr>\n",
       "      <th>8</th>\n",
       "      <td>centennial park</td>\n",
       "      <td>4.5</td>\n",
       "      <td>37</td>\n",
       "      <td>False</td>\n",
       "      <td>Centennial Park</td>\n",
       "      <td>1.778897</td>\n",
       "    </tr>\n",
       "    <tr>\n",
       "      <th>9</th>\n",
       "      <td>centennial park</td>\n",
       "      <td>4.5</td>\n",
       "      <td>37</td>\n",
       "      <td>False</td>\n",
       "      <td>Centennial Park</td>\n",
       "      <td>1.656224</td>\n",
       "    </tr>\n",
       "    <tr>\n",
       "      <th>10</th>\n",
       "      <td>chicano park</td>\n",
       "      <td>4.5</td>\n",
       "      <td>86</td>\n",
       "      <td>False</td>\n",
       "      <td>Chicano Park</td>\n",
       "      <td>0.514463</td>\n",
       "    </tr>\n",
       "    <tr>\n",
       "      <th>11</th>\n",
       "      <td>collier park</td>\n",
       "      <td>3.5</td>\n",
       "      <td>2</td>\n",
       "      <td>False</td>\n",
       "      <td>Collier County Park</td>\n",
       "      <td>8.149171</td>\n",
       "    </tr>\n",
       "  </tbody>\n",
       "</table>\n",
       "</div>"
      ],
      "text/plain": [
       "                           name  rating  review_count  is_closed  \\\n",
       "0       4s ranch community park     5.0            17      False   \n",
       "2                 big rock park     4.5            31      False   \n",
       "3   blue sky ecological reserve     4.5            55      False   \n",
       "4   blue sky ecological reserve     4.5            55      False   \n",
       "5          borrego springs park     5.0             3      False   \n",
       "6               briercrest park     4.0            20      False   \n",
       "8               centennial park     4.5            37      False   \n",
       "9               centennial park     4.5            37      False   \n",
       "10                 chicano park     4.5            86      False   \n",
       "11                 collier park     3.5             2      False   \n",
       "\n",
       "                                alias  gis_acres  \n",
       "0             4S Ranch Community Park   3.241830  \n",
       "2                       Big Rock Park   5.674329  \n",
       "3         Blue Sky Ecological Reserve  12.452234  \n",
       "4   Blue Sky Ranch Ecological Reserve  83.767053  \n",
       "5         Borrego Springs County Park  15.979215  \n",
       "6                     Briercrest Park   3.473216  \n",
       "8                     Centennial Park   1.778897  \n",
       "9                     Centennial Park   1.656224  \n",
       "10                       Chicano Park   0.514463  \n",
       "11                Collier County Park   8.149171  "
      ]
     },
     "execution_count": 19,
     "metadata": {},
     "output_type": "execute_result"
    }
   ],
   "source": [
    "combine = combined[combined['review_count'] <= 120]\n",
    "combine[:10]"
   ]
  },
  {
   "cell_type": "code",
   "execution_count": 20,
   "metadata": {},
   "outputs": [
    {
     "data": {
      "text/plain": [
       "Text(0, 0.5, 'frequency')"
      ]
     },
     "execution_count": 20,
     "metadata": {},
     "output_type": "execute_result"
    },
    {
     "data": {
      "image/png": "[encoded data removed]",
      "text/plain": [
       "<Figure size 432x288 with 1 Axes>"
      ]
     },
     "metadata": {
      "needs_background": "light"
     },
     "output_type": "display_data"
    }
   ],
   "source": [
    "ax = sns.distplot(combine['review_count'])\n",
    "ax.set_title('Parks review_counts Distribution')\n",
    "ax.set_ylabel('frequency')"
   ]
  },
  {
   "cell_type": "markdown",
   "metadata": {},
   "source": [
    "Figure 5: Seems like we have a right skewed distribution here. Most of number of reviews are less than 100 times and right skewed."
   ]
  },
  {
   "cell_type": "code",
   "execution_count": 21,
   "metadata": {},
   "outputs": [],
   "source": [
    "#transform to be able to see the absolute change instead of the relative change because there are some outliers in the data\n",
    "combined['rating'] = np.log10(combined['rating'])\n",
    "combined['gis_acres'] = np.log10(combined['gis_acres'])"
   ]
  },
  {
   "cell_type": "code",
   "execution_count": 27,
   "metadata": {},
   "outputs": [
    {
     "data": {
      "text/plain": [
       "Text(0.5, 1.0, 'Relationship between yelp rating and area of parks')"
      ]
     },
     "execution_count": 27,
     "metadata": {},
     "output_type": "execute_result"
    },
    {
     "data": {
      "image/png": "[encoded data removed]",
      "text/plain": [
       "<Figure size 432x288 with 1 Axes>"
      ]
     },
     "metadata": {
      "needs_background": "light"
     },
     "output_type": "display_data"
    }
   ],
   "source": [
    "sns.regplot(x=\"rating\",\n",
    "            y=\"gis_acres\", \n",
    "            ci=None,\n",
    "            data=combined)\n",
    "ax = sns.scatterplot(x='rating', y='gis_acres', data=combined)\n",
    "ax.set_title('Relationship between yelp rating and area of parks')"
   ]
  },
  {
   "cell_type": "markdown",
   "metadata": {},
   "source": [
    "Figure 6: Based on this scatterplot it seems like there is a little positive correlation between yelp rating and area of parks."
   ]
  },
  {
   "cell_type": "code",
   "execution_count": 478,
   "metadata": {},
   "outputs": [],
   "source": [
    "combined['review_count'] = np.log10(combined['review_count'])"
   ]
  },
  {
   "cell_type": "code",
   "execution_count": 28,
   "metadata": {},
   "outputs": [
    {
     "data": {
      "text/plain": [
       "Text(0.5, 1.0, 'Relationship between yelp rating and review counts')"
      ]
     },
     "execution_count": 28,
     "metadata": {},
     "output_type": "execute_result"
    },
    {
     "data": {
      "image/png": "[encoded data removed]",
      "text/plain": [
       "<Figure size 432x288 with 1 Axes>"
      ]
     },
     "metadata": {
      "needs_background": "light"
     },
     "output_type": "display_data"
    }
   ],
   "source": [
    "sns.regplot(x=\"rating\",\n",
    "            y=\"review_count\", \n",
    "            ci=None,\n",
    "            data=combined)\n",
    "ax = sns.scatterplot(x='rating', y='review_count', data=combined)\n",
    "ax.set_title('Relationship between yelp rating and review counts')"
   ]
  },
  {
   "cell_type": "markdown",
   "metadata": {},
   "source": [
    "figure 7: Based on this scatterplot it seems like with higher ratings of parks on yelp, yelp review counts of parks will be larger"
   ]
  },
  {
   "cell_type": "markdown",
   "metadata": {},
   "source": [
    "# Ethics & Privacy"
   ]
  },
  {
   "cell_type": "markdown",
   "metadata": {},
   "source": [
    "I am doing individual project of COGS 108, which means all my datasets were given by my professor, so I do have permission to use these datasets. My professor provided all links to given datasets, so I think the sources of datasets are very ethical and secure.\n",
    "\n",
    "I do not think there are some privacy problems in my project. First, all my datasets are accessible to the public, which means we could all parse the data from governmnet websites. Second, the datasets are all about public parks, so I do not think there will be some personal privacy problems of public parks. Third, I used yelp data in my analysis and all yelp data are shown on yelp website, which means every one could access the data.\n",
    "\n",
    "There is potential bias in my data. For yelp dataset that I used, many people do not have yelp accounts, so even though they have some thoughts about the parks, they will not have any comments on the yelp website. I found out most of yelp users are under 40 years old, which means I cannot collect opinions of elder people.\n",
    "\n",
    "One of possible consequences considering equitable impact of my analysis could be that my results might influence the way people choose parks. If people read my research and are influenced by my research, they might choose parks that have more yelp reviews or choose the larger parks to have fun instead of choosing random parks, which are unfair for smaller parks or parks with less yelp reviews or even those parks are not on yelp website. However, I believe this research is only for Cogs108 class, so if we do not put this research online, there will not be any problems."
   ]
  },
  {
   "cell_type": "markdown",
   "metadata": {},
   "source": [
    "# Conclusion & Discussion"
   ]
  },
  {
   "cell_type": "markdown",
   "metadata": {},
   "source": [
    "In this project, I try to find out the question that do the size and number of yelp reviews of parks in San Diego have correlation with the overall ratings on yelp. I utilized two datasets in my project. First one is ***Park Locations Data***, and the second one is ***San Diego Parks Yelp Data***. After performing data cleaning, data analysis, I concluded that there is a slight positive linear relationship between the size and yelp ratings of parks. The higher ratings on yelp, the larger the park is in San Diego. Also, there is a positive linear correlation between the yelp review counts of parks and the ratings of parks. In the analysis, I first utilized data cleaning to clean two datasets and used \"merge\" to combine them together. In the combined dataframe, I have park name, yelp rating, review number, and gis-acres(area of parks). After performing data cleaning, I started to do data analysis and data visualization to show the relationships. I utilized seaborn package to plot displot and scatter plot to find the positive linear relationship between park area and parks yelp rating. And the linear relationship between parks yelp review counts and parks yelp rating. It seems like my hypothesis is correct based on my analysis and conclusions.\n",
    "\n",
    "One limitation is that the data I used could be bias, because most of yelp users are young people. Therefore, it is very hard to collect the opinions of older people. Another limitation is that the way I combined these two datasets are merging by the name of park name. However, the naming method might be different between these two datasets, so I only found 65 overlapped park names."
   ]
  }
 ],
 "metadata": {
  "kernelspec": {
   "display_name": "Python 3",
   "language": "python",
   "name": "python3"
  },
  "language_info": {
   "codemirror_mode": {
    "name": "ipython",
    "version": 3
   },
   "file_extension": ".py",
   "mimetype": "text/x-python",
   "name": "python",
   "nbconvert_exporter": "python",
   "pygments_lexer": "ipython3",
   "version": "3.8.3"
  }
 },
 "nbformat": 4,
 "nbformat_minor": 2
}
