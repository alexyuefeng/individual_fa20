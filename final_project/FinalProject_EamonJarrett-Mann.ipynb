{
 "cells": [
  {
   "cell_type": "markdown",
   "metadata": {},
   "source": [
    "# COGS 108 - Final Project "
   ]
  },
  {
   "cell_type": "markdown",
   "metadata": {},
   "source": [
    "# Overview"
   ]
  },
  {
   "cell_type": "markdown",
   "metadata": {},
   "source": [
    "San Diego parks have a wide array of city-funded amenities. Which of these do San Diegans actually like?"
   ]
  },
  {
   "cell_type": "markdown",
   "metadata": {},
   "source": [
    "# Name & GitHub\n",
    "\n",
    "- Name: Eamon Jarrett-Mann\n",
    "- GitHub Username: EamonJarrett-Mann"
   ]
  },
  {
   "cell_type": "markdown",
   "metadata": {},
   "source": [
    "# Research Question"
   ]
  },
  {
   "cell_type": "markdown",
   "metadata": {},
   "source": [
    "How can the city best spend money to increase use/enjoyment of pre-existing parks?"
   ]
  },
  {
   "cell_type": "markdown",
   "metadata": {},
   "source": [
    "## Background and Prior Work"
   ]
  },
  {
   "cell_type": "markdown",
   "metadata": {},
   "source": [
    "\n",
    "Study 1) suggested that the presence of certain facilities promoted physical activity more than others: \"Although grass fields and baseball fields had the most visitors, the majority of people in them were observed being sedentary (54% AND 69%, respectively). While fitness rooms had fewer visitors...more people engaged in vigrorous activity (n=158) than walking(n=57) or being sedentary (n=135)\" The study assigned Energy expenditure (EE) scores to activities and showed that use different facilities created large differences in EE score. \"...the highest EE score being for pools, followed by fitness rooms and basketball courts.\"\n",
    "\n",
    "In a similar vein, study 2) suggests that having park events is the strongest correlation with park use and community physical activity.\n",
    "\n",
    "Clearly, it doesn't make sense for San Diego to spend money on programs that primarily alter the habits of already active people. (Ie. get La Jolla trophy wives to attend cycling classes at community parks instead of soulcycle) So this complicates the question: which programs/facilities most encourage people who do not engage in physical activity to begin to do so? \n",
    "\n",
    "References (include links):\n",
    "- 1)https://www.researchgate.net/profile/Edwin_Gomez6/publication/270952346_Attitudes_about_urban_nature_parks_A_case_study_of_users_and_nonusers_in_Portland_Oregon/links/5d51722ea6fdcc370a8f95c8/Attitudes-about-urban-nature-parks-A-case-study-of-users-and-nonusers-in-Portland-Oregon.pdf#page=76\n",
    "- 2) https://www.ncbi.nlm.nih.gov/pmc/articles/PMC2821457/"
   ]
  },
  {
   "cell_type": "markdown",
   "metadata": {},
   "source": [
    "# Hypothesis\n"
   ]
  },
  {
   "cell_type": "markdown",
   "metadata": {},
   "source": [
    "I think that adding more adult centers, weight rooms and tiny tot rooms will get more people to use the parks. "
   ]
  },
  {
   "cell_type": "markdown",
   "metadata": {},
   "source": [
    "# Dataset(s)"
   ]
  },
  {
   "cell_type": "markdown",
   "metadata": {},
   "source": [
    "\n",
    "- Dataset Name: rec_centers_datasd.geojson\n",
    "- Link to the dataset:  https://data.sandiego.gov/datasets/recreation-center-locations/\n",
    "- Number of observations: 57\n",
    " \n",
    "Dataset about the recreation facilities from the parks that have them. In particular, I will be looking at the binary variables that give the existence of certain facilities at that park.\n",
    "\n",
    "- Dataset Name: yelp_SD_parks.csv\n",
    "- Link to the dataset:  https://github.com/COGS108/individual_fa20/tree/master/data\n",
    "- Number of observations: 833\n",
    "\n",
    "Overall yelp rating and review counts for San Diego parks and recreation centers, along with other metadata that will be ignored in this analysis.\n",
    "\n",
    "\n",
    "To combine the dataframes, I cleaned the names in yelp by converting Recreation to Rec in the yelp set and then joining on the park_name and rec_bldg attributes in the rec_centers dataset. I dropped all of  the ones with missing values, leaving me with only 17 observations."
   ]
  },
  {
   "cell_type": "markdown",
   "metadata": {},
   "source": [
    "# Setup"
   ]
  },
  {
   "cell_type": "code",
   "execution_count": 77,
   "metadata": {},
   "outputs": [],
   "source": [
    "import pandas as pd\n",
    "import geopandas\n",
    "rec_cen = geopandas.read_file('/Users/eamonjarrett-mann/Documents/GitHub/individual_fa20/data/rec_centers_datasd.geojson')\n",
    "yelp_rates = pd.read_csv('/Users/eamonjarrett-mann/Documents/GitHub/individual_fa20/data/yelp_SD_parks.csv')"
   ]
  },
  {
   "cell_type": "markdown",
   "metadata": {},
   "source": [
    "# Data Cleaning"
   ]
  },
  {
   "cell_type": "markdown",
   "metadata": {},
   "source": [
    "I took the data that seemed to be about the particular facilities contained in the rec center datatset & joined them with the yelp ratings as best I could. Other join criteria that were attempted & were inadequate include the longitude/latitude and the zip code. "
   ]
  },
  {
   "cell_type": "code",
   "execution_count": 78,
   "metadata": {},
   "outputs": [
    {
     "name": "stdout",
     "output_type": "stream",
     "text": [
      "17\n"
     ]
    },
    {
     "data": {
      "text/html": [
       "<div>\n",
       "<style scoped>\n",
       "    .dataframe tbody tr th:only-of-type {\n",
       "        vertical-align: middle;\n",
       "    }\n",
       "\n",
       "    .dataframe tbody tr th {\n",
       "        vertical-align: top;\n",
       "    }\n",
       "\n",
       "    .dataframe thead th {\n",
       "        text-align: right;\n",
       "    }\n",
       "</style>\n",
       "<table border=\"1\" class=\"dataframe\">\n",
       "  <thead>\n",
       "    <tr style=\"text-align: right;\">\n",
       "      <th></th>\n",
       "      <th>adult_ctr</th>\n",
       "      <th>comp_rm</th>\n",
       "      <th>dance_rm</th>\n",
       "      <th>game_rm</th>\n",
       "      <th>gymnasium</th>\n",
       "      <th>kiln</th>\n",
       "      <th>kiln_rm</th>\n",
       "      <th>kitchen</th>\n",
       "      <th>multp_rm</th>\n",
       "      <th>stage</th>\n",
       "      <th>teen_ctr</th>\n",
       "      <th>tinytot_rm</th>\n",
       "      <th>weight_rm</th>\n",
       "      <th>rating</th>\n",
       "      <th>review_count</th>\n",
       "    </tr>\n",
       "    <tr>\n",
       "      <th>park_name</th>\n",
       "      <th></th>\n",
       "      <th></th>\n",
       "      <th></th>\n",
       "      <th></th>\n",
       "      <th></th>\n",
       "      <th></th>\n",
       "      <th></th>\n",
       "      <th></th>\n",
       "      <th></th>\n",
       "      <th></th>\n",
       "      <th></th>\n",
       "      <th></th>\n",
       "      <th></th>\n",
       "      <th></th>\n",
       "      <th></th>\n",
       "    </tr>\n",
       "  </thead>\n",
       "  <tbody>\n",
       "    <tr>\n",
       "      <td>allied gardens community park</td>\n",
       "      <td>0</td>\n",
       "      <td>0</td>\n",
       "      <td>0</td>\n",
       "      <td>1</td>\n",
       "      <td>1</td>\n",
       "      <td>1</td>\n",
       "      <td>1</td>\n",
       "      <td>1</td>\n",
       "      <td>3</td>\n",
       "      <td>0</td>\n",
       "      <td>0</td>\n",
       "      <td>0</td>\n",
       "      <td>0</td>\n",
       "      <td>4.50</td>\n",
       "      <td>18.00</td>\n",
       "    </tr>\n",
       "    <tr>\n",
       "      <td>balboa park</td>\n",
       "      <td>1</td>\n",
       "      <td>0</td>\n",
       "      <td>1</td>\n",
       "      <td>1</td>\n",
       "      <td>3</td>\n",
       "      <td>1</td>\n",
       "      <td>1</td>\n",
       "      <td>1</td>\n",
       "      <td>4</td>\n",
       "      <td>0</td>\n",
       "      <td>1</td>\n",
       "      <td>0</td>\n",
       "      <td>0</td>\n",
       "      <td>5.00</td>\n",
       "      <td>2,105.00</td>\n",
       "    </tr>\n",
       "    <tr>\n",
       "      <td>canyonside community park</td>\n",
       "      <td>0</td>\n",
       "      <td>0</td>\n",
       "      <td>0</td>\n",
       "      <td>1</td>\n",
       "      <td>1</td>\n",
       "      <td>0</td>\n",
       "      <td>0</td>\n",
       "      <td>0</td>\n",
       "      <td>2</td>\n",
       "      <td>0</td>\n",
       "      <td>0</td>\n",
       "      <td>0</td>\n",
       "      <td>0</td>\n",
       "      <td>4.50</td>\n",
       "      <td>7.00</td>\n",
       "    </tr>\n",
       "    <tr>\n",
       "      <td>carmel valley towncenter community park</td>\n",
       "      <td>0</td>\n",
       "      <td>0</td>\n",
       "      <td>0</td>\n",
       "      <td>0</td>\n",
       "      <td>1</td>\n",
       "      <td>0</td>\n",
       "      <td>0</td>\n",
       "      <td>1</td>\n",
       "      <td>2</td>\n",
       "      <td>0</td>\n",
       "      <td>0</td>\n",
       "      <td>0</td>\n",
       "      <td>0</td>\n",
       "      <td>3.50</td>\n",
       "      <td>27.00</td>\n",
       "    </tr>\n",
       "    <tr>\n",
       "      <td>encanto community park</td>\n",
       "      <td>0</td>\n",
       "      <td>0</td>\n",
       "      <td>0</td>\n",
       "      <td>1</td>\n",
       "      <td>1</td>\n",
       "      <td>1</td>\n",
       "      <td>1</td>\n",
       "      <td>1</td>\n",
       "      <td>3</td>\n",
       "      <td>0</td>\n",
       "      <td>0</td>\n",
       "      <td>0</td>\n",
       "      <td>1</td>\n",
       "      <td>3.50</td>\n",
       "      <td>3.00</td>\n",
       "    </tr>\n",
       "  </tbody>\n",
       "</table>\n",
       "</div>"
      ],
      "text/plain": [
       "                                         adult_ctr  comp_rm  dance_rm  \\\n",
       "park_name                                                               \n",
       "allied gardens community park                    0        0         0   \n",
       "balboa park                                      1        0         1   \n",
       "canyonside community park                        0        0         0   \n",
       "carmel valley towncenter community park          0        0         0   \n",
       "encanto community park                           0        0         0   \n",
       "\n",
       "                                         game_rm  gymnasium  kiln  kiln_rm  \\\n",
       "park_name                                                                    \n",
       "allied gardens community park                  1          1     1        1   \n",
       "balboa park                                    1          3     1        1   \n",
       "canyonside community park                      1          1     0        0   \n",
       "carmel valley towncenter community park        0          1     0        0   \n",
       "encanto community park                         1          1     1        1   \n",
       "\n",
       "                                         kitchen  multp_rm  stage  teen_ctr  \\\n",
       "park_name                                                                     \n",
       "allied gardens community park                  1         3      0         0   \n",
       "balboa park                                    1         4      0         1   \n",
       "canyonside community park                      0         2      0         0   \n",
       "carmel valley towncenter community park        1         2      0         0   \n",
       "encanto community park                         1         3      0         0   \n",
       "\n",
       "                                         tinytot_rm  weight_rm  rating  \\\n",
       "park_name                                                                \n",
       "allied gardens community park                     0          0    4.50   \n",
       "balboa park                                       0          0    5.00   \n",
       "canyonside community park                         0          0    4.50   \n",
       "carmel valley towncenter community park           0          0    3.50   \n",
       "encanto community park                            0          1    3.50   \n",
       "\n",
       "                                         review_count  \n",
       "park_name                                              \n",
       "allied gardens community park                   18.00  \n",
       "balboa park                                  2,105.00  \n",
       "canyonside community park                        7.00  \n",
       "carmel valley towncenter community park         27.00  \n",
       "encanto community park                           3.00  "
      ]
     },
     "execution_count": 78,
     "metadata": {},
     "output_type": "execute_result"
    }
   ],
   "source": [
    "rec_cen = rec_cen[['rec_bldg', 'park_name','adult_ctr', 'comfort_st', 'comp_rm',\n",
    "       'dance_rm', 'game_rm', 'gymnasium', 'kiln', 'kiln_rm', 'kitchen',\n",
    "       'multp_rm', 'racqb_ct', 'stage', 'teen_ctr', 'tinytot_rm', 'weight_rm']]\n",
    "#select relevant features\n",
    "yelp_rates = yelp_rates[yelp_rates['is_closed'] == False]\n",
    "#Drop out closed facilities\n",
    "yelp_rates.name = yelp_rates.name.str.replace('Recreation', 'Rec')\n",
    "#transform recreation to rec so they match those in the rec_cen set\n",
    "yelp_rates.name = yelp_rates.name.str.lower()\n",
    "rec_cen.park_name = rec_cen.park_name.str.lower()\n",
    "rec_cen.rec_bldg = rec_cen.rec_bldg.str.lower()\n",
    "yelp_rates = yelp_rates[['rating', 'review_count','name']]\n",
    "#select relevant features\n",
    "joint = rec_cen.join(yelp_rates.set_index('name'), on = 'park_name', rsuffix = '_sd', lsuffix= '_yelp').dropna()\n",
    "joint = joint.append(rec_cen.join(yelp_rates.set_index('name'), on = 'rec_bldg', rsuffix = '_sd', lsuffix= '_yelp').dropna())\n",
    "#combine datasets\n",
    "#I noted that 'racqb_ct' and 'comfort_st' don't occur at all in the joint dataframe, they\n",
    "#will not be considered\n",
    "#Note: Balboa park has multiple facilities, so we will group those facilities into one row\n",
    "#the facilities will be summed, as some can occur multiple times\n",
    "joint = joint.groupby('park_name').agg({'adult_ctr': sum, 'comp_rm': sum, 'dance_rm' : sum, 'game_rm' : sum,\n",
    "       'gymnasium' : sum, 'kiln' : sum, 'kiln_rm': sum, 'kitchen': sum, 'multp_rm': sum, 'stage': sum,\n",
    "       'teen_ctr' : sum, 'tinytot_rm' : sum, 'weight_rm' : sum, 'rating' : 'min', 'review_count' : min})\n",
    "print(len(joint))\n",
    "joint.head()"
   ]
  },
  {
   "cell_type": "markdown",
   "metadata": {},
   "source": [
    "# Data Analysis & Results"
   ]
  },
  {
   "cell_type": "markdown",
   "metadata": {},
   "source": [
    "First, let's take a look at the ratings that we we see."
   ]
  },
  {
   "cell_type": "code",
   "execution_count": 61,
   "metadata": {},
   "outputs": [
    {
     "data": {
      "text/plain": [
       "Text(0, 0.5, 'Occurences')"
      ]
     },
     "execution_count": 61,
     "metadata": {},
     "output_type": "execute_result"
    },
    {
     "data": {
      "image/png": "[encoded data removed]",
      "text/plain": [
       "<Figure size 432x288 with 1 Axes>"
      ]
     },
     "metadata": {
      "needs_background": "light"
     },
     "output_type": "display_data"
    }
   ],
   "source": [
    "ax = joint.hist(column = ['rating'], grid = False, sharex=True, sharey=True)[0]#plot()\n",
    "ax[0].set_xlabel('Star rating')\n",
    "ax[0].set_ylabel('Occurences')"
   ]
  },
  {
   "cell_type": "markdown",
   "metadata": {},
   "source": [
    "Let's take a quick look to see if any of the attributes are missing, if the max is 0 we will drop that column, as it does not make sense to look at a feature that is constantly 0."
   ]
  },
  {
   "cell_type": "code",
   "execution_count": 62,
   "metadata": {},
   "outputs": [
    {
     "data": {
      "text/html": [
       "<div>\n",
       "<style scoped>\n",
       "    .dataframe tbody tr th:only-of-type {\n",
       "        vertical-align: middle;\n",
       "    }\n",
       "\n",
       "    .dataframe tbody tr th {\n",
       "        vertical-align: top;\n",
       "    }\n",
       "\n",
       "    .dataframe thead th {\n",
       "        text-align: right;\n",
       "    }\n",
       "</style>\n",
       "<table border=\"1\" class=\"dataframe\">\n",
       "  <thead>\n",
       "    <tr style=\"text-align: right;\">\n",
       "      <th></th>\n",
       "      <th>adult_ctr</th>\n",
       "      <th>comp_rm</th>\n",
       "      <th>dance_rm</th>\n",
       "      <th>game_rm</th>\n",
       "      <th>gymnasium</th>\n",
       "      <th>kiln</th>\n",
       "      <th>kiln_rm</th>\n",
       "      <th>kitchen</th>\n",
       "      <th>multp_rm</th>\n",
       "      <th>stage</th>\n",
       "      <th>teen_ctr</th>\n",
       "      <th>tinytot_rm</th>\n",
       "      <th>weight_rm</th>\n",
       "      <th>rating</th>\n",
       "      <th>review_count</th>\n",
       "    </tr>\n",
       "  </thead>\n",
       "  <tbody>\n",
       "    <tr>\n",
       "      <td>count</td>\n",
       "      <td>17.00</td>\n",
       "      <td>17.00</td>\n",
       "      <td>17.00</td>\n",
       "      <td>17.00</td>\n",
       "      <td>17.00</td>\n",
       "      <td>17.00</td>\n",
       "      <td>17.00</td>\n",
       "      <td>17.00</td>\n",
       "      <td>17.00</td>\n",
       "      <td>17.00</td>\n",
       "      <td>17.00</td>\n",
       "      <td>17.00</td>\n",
       "      <td>17.00</td>\n",
       "      <td>17.00</td>\n",
       "      <td>17.00</td>\n",
       "    </tr>\n",
       "    <tr>\n",
       "      <td>mean</td>\n",
       "      <td>0.12</td>\n",
       "      <td>0.06</td>\n",
       "      <td>0.24</td>\n",
       "      <td>0.41</td>\n",
       "      <td>1.06</td>\n",
       "      <td>0.47</td>\n",
       "      <td>0.47</td>\n",
       "      <td>0.94</td>\n",
       "      <td>2.59</td>\n",
       "      <td>0.06</td>\n",
       "      <td>0.29</td>\n",
       "      <td>0.06</td>\n",
       "      <td>0.24</td>\n",
       "      <td>4.03</td>\n",
       "      <td>135.59</td>\n",
       "    </tr>\n",
       "    <tr>\n",
       "      <td>std</td>\n",
       "      <td>0.33</td>\n",
       "      <td>0.24</td>\n",
       "      <td>0.44</td>\n",
       "      <td>0.51</td>\n",
       "      <td>0.56</td>\n",
       "      <td>0.51</td>\n",
       "      <td>0.51</td>\n",
       "      <td>0.24</td>\n",
       "      <td>0.71</td>\n",
       "      <td>0.24</td>\n",
       "      <td>0.47</td>\n",
       "      <td>0.24</td>\n",
       "      <td>0.44</td>\n",
       "      <td>0.65</td>\n",
       "      <td>507.59</td>\n",
       "    </tr>\n",
       "    <tr>\n",
       "      <td>min</td>\n",
       "      <td>0.00</td>\n",
       "      <td>0.00</td>\n",
       "      <td>0.00</td>\n",
       "      <td>0.00</td>\n",
       "      <td>0.00</td>\n",
       "      <td>0.00</td>\n",
       "      <td>0.00</td>\n",
       "      <td>0.00</td>\n",
       "      <td>1.00</td>\n",
       "      <td>0.00</td>\n",
       "      <td>0.00</td>\n",
       "      <td>0.00</td>\n",
       "      <td>0.00</td>\n",
       "      <td>3.00</td>\n",
       "      <td>3.00</td>\n",
       "    </tr>\n",
       "    <tr>\n",
       "      <td>25%</td>\n",
       "      <td>0.00</td>\n",
       "      <td>0.00</td>\n",
       "      <td>0.00</td>\n",
       "      <td>0.00</td>\n",
       "      <td>1.00</td>\n",
       "      <td>0.00</td>\n",
       "      <td>0.00</td>\n",
       "      <td>1.00</td>\n",
       "      <td>2.00</td>\n",
       "      <td>0.00</td>\n",
       "      <td>0.00</td>\n",
       "      <td>0.00</td>\n",
       "      <td>0.00</td>\n",
       "      <td>3.50</td>\n",
       "      <td>5.00</td>\n",
       "    </tr>\n",
       "    <tr>\n",
       "      <td>50%</td>\n",
       "      <td>0.00</td>\n",
       "      <td>0.00</td>\n",
       "      <td>0.00</td>\n",
       "      <td>0.00</td>\n",
       "      <td>1.00</td>\n",
       "      <td>0.00</td>\n",
       "      <td>0.00</td>\n",
       "      <td>1.00</td>\n",
       "      <td>3.00</td>\n",
       "      <td>0.00</td>\n",
       "      <td>0.00</td>\n",
       "      <td>0.00</td>\n",
       "      <td>0.00</td>\n",
       "      <td>4.00</td>\n",
       "      <td>9.00</td>\n",
       "    </tr>\n",
       "    <tr>\n",
       "      <td>75%</td>\n",
       "      <td>0.00</td>\n",
       "      <td>0.00</td>\n",
       "      <td>0.00</td>\n",
       "      <td>1.00</td>\n",
       "      <td>1.00</td>\n",
       "      <td>1.00</td>\n",
       "      <td>1.00</td>\n",
       "      <td>1.00</td>\n",
       "      <td>3.00</td>\n",
       "      <td>0.00</td>\n",
       "      <td>1.00</td>\n",
       "      <td>0.00</td>\n",
       "      <td>0.00</td>\n",
       "      <td>4.50</td>\n",
       "      <td>18.00</td>\n",
       "    </tr>\n",
       "    <tr>\n",
       "      <td>max</td>\n",
       "      <td>1.00</td>\n",
       "      <td>1.00</td>\n",
       "      <td>1.00</td>\n",
       "      <td>1.00</td>\n",
       "      <td>3.00</td>\n",
       "      <td>1.00</td>\n",
       "      <td>1.00</td>\n",
       "      <td>1.00</td>\n",
       "      <td>4.00</td>\n",
       "      <td>1.00</td>\n",
       "      <td>1.00</td>\n",
       "      <td>1.00</td>\n",
       "      <td>1.00</td>\n",
       "      <td>5.00</td>\n",
       "      <td>2,105.00</td>\n",
       "    </tr>\n",
       "  </tbody>\n",
       "</table>\n",
       "</div>"
      ],
      "text/plain": [
       "       adult_ctr  comp_rm  dance_rm  game_rm  gymnasium  kiln  kiln_rm  \\\n",
       "count      17.00    17.00     17.00    17.00      17.00 17.00    17.00   \n",
       "mean        0.12     0.06      0.24     0.41       1.06  0.47     0.47   \n",
       "std         0.33     0.24      0.44     0.51       0.56  0.51     0.51   \n",
       "min         0.00     0.00      0.00     0.00       0.00  0.00     0.00   \n",
       "25%         0.00     0.00      0.00     0.00       1.00  0.00     0.00   \n",
       "50%         0.00     0.00      0.00     0.00       1.00  0.00     0.00   \n",
       "75%         0.00     0.00      0.00     1.00       1.00  1.00     1.00   \n",
       "max         1.00     1.00      1.00     1.00       3.00  1.00     1.00   \n",
       "\n",
       "       kitchen  multp_rm  stage  teen_ctr  tinytot_rm  weight_rm  rating  \\\n",
       "count    17.00     17.00  17.00     17.00       17.00      17.00   17.00   \n",
       "mean      0.94      2.59   0.06      0.29        0.06       0.24    4.03   \n",
       "std       0.24      0.71   0.24      0.47        0.24       0.44    0.65   \n",
       "min       0.00      1.00   0.00      0.00        0.00       0.00    3.00   \n",
       "25%       1.00      2.00   0.00      0.00        0.00       0.00    3.50   \n",
       "50%       1.00      3.00   0.00      0.00        0.00       0.00    4.00   \n",
       "75%       1.00      3.00   0.00      1.00        0.00       0.00    4.50   \n",
       "max       1.00      4.00   1.00      1.00        1.00       1.00    5.00   \n",
       "\n",
       "       review_count  \n",
       "count         17.00  \n",
       "mean         135.59  \n",
       "std          507.59  \n",
       "min            3.00  \n",
       "25%            5.00  \n",
       "50%            9.00  \n",
       "75%           18.00  \n",
       "max        2,105.00  "
      ]
     },
     "execution_count": 62,
     "metadata": {},
     "output_type": "execute_result"
    }
   ],
   "source": [
    "pd.options.display.float_format = '{:,.2f}'.format\n",
    "#thanks, stackoverflow \n",
    "#https://stackoverflow.com/questions/20937538/how-to-display-pandas-dataframe-of-floats-using-a-format-string-for-columns\n",
    "joint.describe()"
   ]
  },
  {
   "cell_type": "code",
   "execution_count": 64,
   "metadata": {},
   "outputs": [
    {
     "data": {
      "text/plain": [
       "adult_ctr    -0.02\n",
       "comp_rm      -0.01\n",
       "dance_rm     -0.14\n",
       "game_rm       0.06\n",
       "gymnasium     0.17\n",
       "kiln         -0.32\n",
       "kiln_rm      -0.32\n",
       "kitchen      -0.19\n",
       "multp_rm     -0.31\n",
       "stage        -0.01\n",
       "teen_ctr      0.17\n",
       "tinytot_rm   -0.41\n",
       "weight_rm    -0.25\n",
       "dtype: float64"
      ]
     },
     "execution_count": 64,
     "metadata": {},
     "output_type": "execute_result"
    }
   ],
   "source": [
    "joint[['adult_ctr', 'comp_rm', 'dance_rm', 'game_rm',\n",
    "       'gymnasium', 'kiln', 'kiln_rm', 'kitchen', 'multp_rm', 'stage',\n",
    "       'teen_ctr', 'tinytot_rm', 'weight_rm']].corrwith(joint.rating)"
   ]
  },
  {
   "cell_type": "markdown",
   "metadata": {},
   "source": [
    "This is funny, it seems like there is negative correlation between most of the possible facilities and the overall rating of that location. Let's take a look of the distributions of the positively correlated ones."
   ]
  },
  {
   "cell_type": "code",
   "execution_count": 94,
   "metadata": {},
   "outputs": [
    {
     "data": {
      "text/plain": [
       "Text(0.5, 1.0, 'Rating with gymnasium')"
      ]
     },
     "execution_count": 94,
     "metadata": {},
     "output_type": "execute_result"
    },
    {
     "data": {
      "image/png": "[encoded data removed]",
      "text/plain": [
       "<Figure size 432x288 with 1 Axes>"
      ]
     },
     "metadata": {
      "needs_background": "light"
     },
     "output_type": "display_data"
    }
   ],
   "source": [
    "ax = joint[joint['gymnasium'] >= 1].hist(column = ['rating'], grid = False, sharex=True, sharey=True)[0]\n",
    "ax[0].set_xlabel('Star rating')\n",
    "ax[0].set_ylabel('Occurences')\n",
    "ax[0].set_title('Rating with gymnasium')"
   ]
  },
  {
   "cell_type": "markdown",
   "metadata": {},
   "source": [
    "This distribution is pretty much the original one seen above."
   ]
  },
  {
   "cell_type": "code",
   "execution_count": 88,
   "metadata": {},
   "outputs": [
    {
     "data": {
      "text/plain": [
       "Text(0.5, 1.0, 'Rating with Teen Center')"
      ]
     },
     "execution_count": 88,
     "metadata": {},
     "output_type": "execute_result"
    },
    {
     "data": {
      "image/png": "[encoded data removed]",
      "text/plain": [
       "<Figure size 432x288 with 1 Axes>"
      ]
     },
     "metadata": {
      "needs_background": "light"
     },
     "output_type": "display_data"
    }
   ],
   "source": [
    "ax = joint[joint['teen_ctr'] == 1].hist(column = ['rating'], grid = False, sharex=True, sharey=True)[0]\n",
    "ax[0].set_xlabel('Star rating')\n",
    "ax[0].set_ylabel('Occurences')\n",
    "ax[0].set_title('Rating with Teen Center')"
   ]
  },
  {
   "cell_type": "code",
   "execution_count": 91,
   "metadata": {},
   "outputs": [
    {
     "data": {
      "text/html": [
       "<div>\n",
       "<style scoped>\n",
       "    .dataframe tbody tr th:only-of-type {\n",
       "        vertical-align: middle;\n",
       "    }\n",
       "\n",
       "    .dataframe tbody tr th {\n",
       "        vertical-align: top;\n",
       "    }\n",
       "\n",
       "    .dataframe thead th {\n",
       "        text-align: right;\n",
       "    }\n",
       "</style>\n",
       "<table border=\"1\" class=\"dataframe\">\n",
       "  <thead>\n",
       "    <tr style=\"text-align: right;\">\n",
       "      <th></th>\n",
       "      <th>adult_ctr</th>\n",
       "      <th>comp_rm</th>\n",
       "      <th>dance_rm</th>\n",
       "      <th>game_rm</th>\n",
       "      <th>gymnasium</th>\n",
       "      <th>kiln</th>\n",
       "      <th>kiln_rm</th>\n",
       "      <th>kitchen</th>\n",
       "      <th>multp_rm</th>\n",
       "      <th>stage</th>\n",
       "      <th>teen_ctr</th>\n",
       "      <th>tinytot_rm</th>\n",
       "      <th>weight_rm</th>\n",
       "      <th>rating</th>\n",
       "      <th>review_count</th>\n",
       "    </tr>\n",
       "    <tr>\n",
       "      <th>park_name</th>\n",
       "      <th></th>\n",
       "      <th></th>\n",
       "      <th></th>\n",
       "      <th></th>\n",
       "      <th></th>\n",
       "      <th></th>\n",
       "      <th></th>\n",
       "      <th></th>\n",
       "      <th></th>\n",
       "      <th></th>\n",
       "      <th></th>\n",
       "      <th></th>\n",
       "      <th></th>\n",
       "      <th></th>\n",
       "      <th></th>\n",
       "    </tr>\n",
       "  </thead>\n",
       "  <tbody>\n",
       "    <tr>\n",
       "      <td>north park community park</td>\n",
       "      <td>1</td>\n",
       "      <td>0</td>\n",
       "      <td>1</td>\n",
       "      <td>1</td>\n",
       "      <td>1</td>\n",
       "      <td>1</td>\n",
       "      <td>1</td>\n",
       "      <td>1</td>\n",
       "      <td>3</td>\n",
       "      <td>0</td>\n",
       "      <td>1</td>\n",
       "      <td>1</td>\n",
       "      <td>0</td>\n",
       "      <td>3.00</td>\n",
       "      <td>37.00</td>\n",
       "    </tr>\n",
       "  </tbody>\n",
       "</table>\n",
       "</div>"
      ],
      "text/plain": [
       "                           adult_ctr  comp_rm  dance_rm  game_rm  gymnasium  \\\n",
       "park_name                                                                     \n",
       "north park community park          1        0         1        1          1   \n",
       "\n",
       "                           kiln  kiln_rm  kitchen  multp_rm  stage  teen_ctr  \\\n",
       "park_name                                                                      \n",
       "north park community park     1        1        1         3      0         1   \n",
       "\n",
       "                           tinytot_rm  weight_rm  rating  review_count  \n",
       "park_name                                                               \n",
       "north park community park           1          0    3.00         37.00  "
      ]
     },
     "execution_count": 91,
     "metadata": {},
     "output_type": "execute_result"
    }
   ],
   "source": [
    "joint[(joint['teen_ctr'] == 1) & (joint['rating'] == 3)]"
   ]
  },
  {
   "cell_type": "markdown",
   "metadata": {},
   "source": [
    "It looks like both of teen centers and gymnasiums are associated with higher overall yelp ratings for the parks that contain them."
   ]
  },
  {
   "cell_type": "markdown",
   "metadata": {},
   "source": [
    "# Ethics & Privacy"
   ]
  },
  {
   "cell_type": "markdown",
   "metadata": {},
   "source": [
    "This project does not bring up any privacy concerns that I can think of. That said, it can be ethically problematic to base the design of parks on yelp reviews. The stereotype is that yelp users tend to be yuppies (young, white & affluent), so this sample is not necessarily representative of the needs of the city. In fact, with a quick peek at the text of the reviews, all the ones I saw were in english! There are certainly San Diegans who exclusively speak other languages (namely Spanish) and they need to be considered when designing parks. This concern is magnified in neighberhoods predominantly made up of Mexican Americans, which are common in greater San Diego."
   ]
  },
  {
   "cell_type": "markdown",
   "metadata": {},
   "source": [
    "# Conclusion & Discussion"
   ]
  },
  {
   "cell_type": "markdown",
   "metadata": {},
   "source": [
    "The dataset that I ended up using was extremely small (only 17 rec centers!). One of the limitations of its size is that one or two outliers can make the results seem more meaningful than they are. In this case, Balboa park may be that outlier: it has a 5 star rating with 3 gymnasiums & a teen center. Balboa park is awesome, but it obviously is not realistic to make every park in greater San Diego into Balboa park. \n"
   ]
  },
  {
   "cell_type": "markdown",
   "metadata": {},
   "source": [
    "Another issue with this analysis is that the actual reviews were not dealt with at all: maybe someone loved the facilities at North Park community park, but gave it a low yelp review because the hours were wrong on yelp or there were too many homeless people for their liking. Without a more in-depth analysis of people's feelings toward specific attributes of facilities, it is hard to say that their ratings are because of the facilities or the other (often silly) things that yelp reviewers complain about (e.g. best pizza of my life, but I had to wait 15 minutes, 3/5).\n",
    "\n",
    "To deal with the bias of yelp reviewers, it may be a good idea to look at the reviews more in-depth. Social security data could be used to guess the user's age. Further, the reviews can be normalized based on how they tend to review (a user who gives 98% 5-star reviews giving a 4-star is bad, but for someone who gives 2.6 on average giving a 4-star is great). In addition, the non-age demographics of users could be evaluated. Then, you could scale use these 'fixed' reviews in ways similar to political pollsters to optimize parks by neighborhood. That is, you can use census data on the makeup of San Diego neighberhoods along with data about how certain demographics feel about park features to make the parks the best they can be for the neighborhoods they serve.  "
   ]
  },
  {
   "cell_type": "code",
   "execution_count": null,
   "metadata": {},
   "outputs": [],
   "source": []
  }
 ],
 "metadata": {
  "kernelspec": {
   "display_name": "Python 3",
   "language": "python",
   "name": "python3"
  },
  "language_info": {
   "codemirror_mode": {
    "name": "ipython",
    "version": 3
   },
   "file_extension": ".py",
   "mimetype": "text/x-python",
   "name": "python",
   "nbconvert_exporter": "python",
   "pygments_lexer": "ipython3",
   "version": "3.7.2"
  }
 },
 "nbformat": 4,
 "nbformat_minor": 2
}
