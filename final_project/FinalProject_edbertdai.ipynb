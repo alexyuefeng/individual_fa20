{
 "cells": [
  {
   "cell_type": "markdown",
   "metadata": {},
   "source": [
    "# COGS 108 - Final Project "
   ]
  },
  {
   "cell_type": "markdown",
   "metadata": {},
   "source": [
    "# Overview"
   ]
  },
  {
   "cell_type": "markdown",
   "metadata": {},
   "source": [
    "In this project, I analyzed the relationship between parkland and poverty rates as well as parkland and unemployment rates. My goal was to figure out if there were any patterns between these variables so that I could reasonably predict the economic welfare of an area based on the number of parks there are. I concluded that there are no relationships between these variables."
   ]
  },
  {
   "cell_type": "markdown",
   "metadata": {},
   "source": [
    "# Name & GitHub\n",
    "\n",
    "- Name: Edbert Dai\n",
    "- GitHub Username: edbertdai"
   ]
  },
  {
   "cell_type": "markdown",
   "metadata": {},
   "source": [
    "# Research Question"
   ]
  },
  {
   "cell_type": "markdown",
   "metadata": {},
   "source": [
    "Does the presence of more parkland in an area reflect the economic welfare of the people living in that area? Specifically, do the number of parks affect the poverty and unemployment rates?"
   ]
  },
  {
   "cell_type": "markdown",
   "metadata": {},
   "source": [
    "## Background and Prior Work"
   ]
  },
  {
   "cell_type": "markdown",
   "metadata": {},
   "source": [
    "Parks are an important fixture of city planning and their importance to the local economy is often touted as being one of the main reasons to build them. Parks agencies across the country have created more than 1.1 million jobs and more than $166 billion in economic activity.<sup>[1]</sup> The presence of parks also increases property values which is a result of the demand generated from people preferring properties in close proximity to parks.<sup>[1][2]</sup> Places that have parks tend to attract and retain affluent people as well as \"knowledge workers\" which are people who have jobs that do not pertain to physical labor.<sup>[3]</sup>\n",
    "\n",
    "\n",
    "Unfortunately, despite this, people still face unemployment and poverty is a reality. The percentage of San Diego County residents in poverty is around 13\\% for individuals and 9\\% for families while the unemployment rate is around 7\\%.<sup>[4]</sup> The poverty rate around the county ranges widely from as low as 5\\% in Poway to as high as 32\\% in El Cajon. A study conducted in a Southern California city found that parks in higher poverty areas were smaller than those in lower-poverty areas.<sup>[5]</sup> Parks reportedly also reduce employment as employers factor in the quality of life when choosing areas to do business in.<sup>[2]</sup>\n",
    "\n",
    "My project will be looking at how parks affect the economic welfare of the immediate population. The factors I am looking into are the poverty and unemployment rates. I intend to link the welfare of people living in census tracts to the amount of parkland in the zip code where the census tract is located.\n",
    "\n",
    "References (include links):\n",
    "- 1) https://www.nrpa.org/siteassets/research/economic-impact-study-summary-2020.pdf\n",
    "- 2) http://recreation1.townofmanchester.org/index.cfm/benefits-of-recreation/\n",
    "- 3) https://conservationtools.org/guides/98-economic-benefits-of-parks\n",
    "- 4) https://sandag.org/uploads/publicationid/publicationid_1813_17012.pdf\n",
    "- 5) https://www.ncbi.nlm.nih.gov/pmc/articles/PMC3646794/"
   ]
  },
  {
   "cell_type": "markdown",
   "metadata": {},
   "source": [
    "# Hypothesis\n"
   ]
  },
  {
   "cell_type": "markdown",
   "metadata": {},
   "source": [
    "The amount of parkland in an area will be representative of the welfare of the people living there. If there are a lot of parks, the poverty and unemployment rates will be low. Conversely, fewer or no parks will increase poverty and unemployment."
   ]
  },
  {
   "cell_type": "markdown",
   "metadata": {},
   "source": [
    "# Dataset(s)"
   ]
  },
  {
   "cell_type": "markdown",
   "metadata": {},
   "source": [
    "- Dataset Name: CalEnviroScreen 2.0\n",
    "- Link to the dataset: https://data.ca.gov/dataset/calenviroscreen-2-0\n",
    "- Number of observations: 8035\n",
    "\n",
    "This dataset is provided by the Office of Environmental Health Hazard Assessment (OEHHA). It contains environmental pollution and socioeconomic data for census tracts in California in 2010. In addition, it has the coordinates, county name, zip codes for each census tract.\n",
    "\n",
    "- Dataset Name: Park Locations\n",
    "- Link to the dataset: https://data.sandiego.gov/datasets/park-locations/\n",
    "- Number of observations: 2769\n",
    "\n",
    "This dataset is provided by the City of San Diego. It lists all the names of parks in San Diego County, their location boundries, surface areas by acre, type, and owner.\n",
    "\n",
    "- Dataset Name: Zip Codes\n",
    "- Link to the dataset: https://data.sandiegocounty.gov/Maps-and-Geographical-Resources/Zip-Codes/vsuf-uefy\n",
    "- Number of observations: 122\n",
    "\n",
    "This dataset is provided by San Diego County. It provides the geometry of the boundries for each zip code in San Diego County.\n",
    "\n",
    "I plan to merge the Park Locations and Zip Codes datasets by intersecting their geometries to determine which zip code each park is in. I am also going to use Park Locations to calculate the acerage of parkland in each zip code and then insert that data into CalEnviroScreen 2.0 for each census tract based on the zip code."
   ]
  },
  {
   "cell_type": "markdown",
   "metadata": {},
   "source": [
    "# Setup"
   ]
  },
  {
   "cell_type": "code",
   "execution_count": 1,
   "metadata": {
    "scrolled": true
   },
   "outputs": [],
   "source": [
    "# Import libraries\n",
    "import geopandas as gpd\n",
    "import pandas as pd\n",
    "import patsy\n",
    "import matplotlib.pyplot as plt\n",
    "import seaborn as sns\n",
    "import statsmodels.api as sm\n",
    "\n",
    "# Read datasets\n",
    "enviro_df = pd.read_csv('../data/calenviroscreen-final-report.csv')\n",
    "parks_df = gpd.read_file('../data/parks_datasd.geojson')\n",
    "zip_df = gpd.read_file('../data/Zip Codes.geojson')"
   ]
  },
  {
   "cell_type": "markdown",
   "metadata": {},
   "source": [
    "# Data Cleaning"
   ]
  },
  {
   "cell_type": "markdown",
   "metadata": {},
   "source": [
    "First, I needed to narrow down the CalEnviroScreen data to only those about San Diego. I needed to get the zip code for each census tract, so I extracted the zip code from the location column and placed that into a new column. I then dropped the rows from both the CalEnviroScreen and parks data that I won't use for the analysis. Finally, I renamed the columns for clarity and consistency."
   ]
  },
  {
   "cell_type": "code",
   "execution_count": 2,
   "metadata": {},
   "outputs": [],
   "source": [
    "# Filter environmental data to those from San Diego\n",
    "enviro_df = enviro_df[enviro_df['California County'] == 'San Diego']\n",
    "\n",
    "# Extract zip code from location column and place into new column\n",
    "enviro_df['zip'] = enviro_df['Location 1'].str.extract(r'(\\d{5}\\-?\\d{0,4})')\n",
    "\n",
    "# Drop unnecessary columns\n",
    "enviro_df = enviro_df[['Census Tract', 'Total Population', 'Poverty', 'Unemployment', 'zip']]\n",
    "parks_df = parks_df[['name', 'gis_acres', 'geometry']]\n",
    "zip_df = zip_df[['zip', 'geometry']]\n",
    "\n",
    "# Rename columns\n",
    "enviro_df = enviro_df.rename(columns={'Census Tract': 'census_tract', 'Total Population': 'population', 'Poverty': 'poverty_percent', 'Unemployment': 'unemployment_percent'})\n",
    "parks_df = parks_df.rename(columns={'gis_acres': 'acres'})"
   ]
  },
  {
   "cell_type": "markdown",
   "metadata": {},
   "source": [
    "Here, I did a geopandas spatial join between the parks and zip code data to extract the zip codes that each park is in. This involved finding the intersection of the geometries of the two datasets."
   ]
  },
  {
   "cell_type": "code",
   "execution_count": 3,
   "metadata": {},
   "outputs": [],
   "source": [
    "# Spatial join between parks and zip code datasets\n",
    "parks_df = gpd.sjoin(parks_df, zip_df, how='left')\n",
    "\n",
    "# Drop index_right column\n",
    "parks_df = parks_df.drop(columns=['index_right'])"
   ]
  },
  {
   "cell_type": "markdown",
   "metadata": {},
   "source": [
    "Before proceeding further, I wanted to check if any parks were not assigned to a zip code. I found one park that didn't have a zip code and also found that the geometry of the park is not within a zip code. I then check if that park was assigned a zip code using another portion of the geometry and find that it was. I can then safely drop the nan values."
   ]
  },
  {
   "cell_type": "code",
   "execution_count": 4,
   "metadata": {
    "scrolled": true
   },
   "outputs": [
    {
     "data": {
      "text/html": [
       "<div>\n",
       "<style scoped>\n",
       "    .dataframe tbody tr th:only-of-type {\n",
       "        vertical-align: middle;\n",
       "    }\n",
       "\n",
       "    .dataframe tbody tr th {\n",
       "        vertical-align: top;\n",
       "    }\n",
       "\n",
       "    .dataframe thead th {\n",
       "        text-align: right;\n",
       "    }\n",
       "</style>\n",
       "<table border=\"1\" class=\"dataframe\">\n",
       "  <thead>\n",
       "    <tr style=\"text-align: right;\">\n",
       "      <th></th>\n",
       "      <th>name</th>\n",
       "      <th>acres</th>\n",
       "      <th>geometry</th>\n",
       "      <th>zip</th>\n",
       "    </tr>\n",
       "  </thead>\n",
       "  <tbody>\n",
       "    <tr>\n",
       "      <th>74</th>\n",
       "      <td>Leucadia SB</td>\n",
       "      <td>4.247821</td>\n",
       "      <td>POLYGON ((-117.30451 33.06264, -117.30452 33.0...</td>\n",
       "      <td>NaN</td>\n",
       "    </tr>\n",
       "  </tbody>\n",
       "</table>\n",
       "</div>"
      ],
      "text/plain": [
       "           name     acres                                           geometry  \\\n",
       "74  Leucadia SB  4.247821  POLYGON ((-117.30451 33.06264, -117.30452 33.0...   \n",
       "\n",
       "    zip  \n",
       "74  NaN  "
      ]
     },
     "execution_count": 4,
     "metadata": {},
     "output_type": "execute_result"
    }
   ],
   "source": [
    "# Check for parks not assigned a zip code\n",
    "parks_df[parks_df['zip'].isna()]"
   ]
  },
  {
   "cell_type": "code",
   "execution_count": 5,
   "metadata": {},
   "outputs": [
    {
     "data": {
      "text/html": [
       "<div>\n",
       "<style scoped>\n",
       "    .dataframe tbody tr th:only-of-type {\n",
       "        vertical-align: middle;\n",
       "    }\n",
       "\n",
       "    .dataframe tbody tr th {\n",
       "        vertical-align: top;\n",
       "    }\n",
       "\n",
       "    .dataframe thead th {\n",
       "        text-align: right;\n",
       "    }\n",
       "</style>\n",
       "<table border=\"1\" class=\"dataframe\">\n",
       "  <thead>\n",
       "    <tr style=\"text-align: right;\">\n",
       "      <th></th>\n",
       "      <th>name</th>\n",
       "      <th>acres</th>\n",
       "      <th>geometry</th>\n",
       "      <th>zip</th>\n",
       "    </tr>\n",
       "  </thead>\n",
       "  <tbody>\n",
       "    <tr>\n",
       "      <th>74</th>\n",
       "      <td>Leucadia SB</td>\n",
       "      <td>4.247821</td>\n",
       "      <td>POLYGON ((-117.30451 33.06264, -117.30452 33.0...</td>\n",
       "      <td>NaN</td>\n",
       "    </tr>\n",
       "    <tr>\n",
       "      <th>391</th>\n",
       "      <td>Leucadia SB</td>\n",
       "      <td>11.696144</td>\n",
       "      <td>POLYGON ((-117.30451 33.06264, -117.30428 33.0...</td>\n",
       "      <td>92024</td>\n",
       "    </tr>\n",
       "  </tbody>\n",
       "</table>\n",
       "</div>"
      ],
      "text/plain": [
       "            name      acres  \\\n",
       "74   Leucadia SB   4.247821   \n",
       "391  Leucadia SB  11.696144   \n",
       "\n",
       "                                              geometry    zip  \n",
       "74   POLYGON ((-117.30451 33.06264, -117.30452 33.0...    NaN  \n",
       "391  POLYGON ((-117.30451 33.06264, -117.30428 33.0...  92024  "
      ]
     },
     "execution_count": 5,
     "metadata": {},
     "output_type": "execute_result"
    }
   ],
   "source": [
    "# Check if park was assigned a zip code under different geometry\n",
    "parks_df[parks_df['name'] == 'Leucadia SB']"
   ]
  },
  {
   "cell_type": "code",
   "execution_count": 6,
   "metadata": {},
   "outputs": [
    {
     "data": {
      "text/html": [
       "<div>\n",
       "<style scoped>\n",
       "    .dataframe tbody tr th:only-of-type {\n",
       "        vertical-align: middle;\n",
       "    }\n",
       "\n",
       "    .dataframe tbody tr th {\n",
       "        vertical-align: top;\n",
       "    }\n",
       "\n",
       "    .dataframe thead th {\n",
       "        text-align: right;\n",
       "    }\n",
       "</style>\n",
       "<table border=\"1\" class=\"dataframe\">\n",
       "  <thead>\n",
       "    <tr style=\"text-align: right;\">\n",
       "      <th></th>\n",
       "      <th>name</th>\n",
       "      <th>acres</th>\n",
       "      <th>geometry</th>\n",
       "      <th>zip</th>\n",
       "    </tr>\n",
       "  </thead>\n",
       "  <tbody>\n",
       "    <tr>\n",
       "      <th>0</th>\n",
       "      <td>South Carlsbad SB</td>\n",
       "      <td>115.895878</td>\n",
       "      <td>MULTIPOLYGON (((-117.31431 33.09015, -117.3142...</td>\n",
       "      <td>92008</td>\n",
       "    </tr>\n",
       "    <tr>\n",
       "      <th>0</th>\n",
       "      <td>South Carlsbad SB</td>\n",
       "      <td>115.895878</td>\n",
       "      <td>MULTIPOLYGON (((-117.31431 33.09015, -117.3142...</td>\n",
       "      <td>92011</td>\n",
       "    </tr>\n",
       "    <tr>\n",
       "      <th>0</th>\n",
       "      <td>South Carlsbad SB</td>\n",
       "      <td>115.895878</td>\n",
       "      <td>MULTIPOLYGON (((-117.31431 33.09015, -117.3142...</td>\n",
       "      <td>92024</td>\n",
       "    </tr>\n",
       "    <tr>\n",
       "      <th>1</th>\n",
       "      <td>Torrey Pines SB</td>\n",
       "      <td>67.294309</td>\n",
       "      <td>POLYGON ((-117.26147 32.93883, -117.26181 32.9...</td>\n",
       "      <td>92014</td>\n",
       "    </tr>\n",
       "    <tr>\n",
       "      <th>1</th>\n",
       "      <td>Torrey Pines SB</td>\n",
       "      <td>67.294309</td>\n",
       "      <td>POLYGON ((-117.26147 32.93883, -117.26181 32.9...</td>\n",
       "      <td>92037</td>\n",
       "    </tr>\n",
       "    <tr>\n",
       "      <th>...</th>\n",
       "      <td>...</td>\n",
       "      <td>...</td>\n",
       "      <td>...</td>\n",
       "      <td>...</td>\n",
       "    </tr>\n",
       "    <tr>\n",
       "      <th>2764</th>\n",
       "      <td>San Luis Rey River Park</td>\n",
       "      <td>712.262117</td>\n",
       "      <td>MULTIPOLYGON (((-117.17632 33.31105, -117.1766...</td>\n",
       "      <td>92003</td>\n",
       "    </tr>\n",
       "    <tr>\n",
       "      <th>2765</th>\n",
       "      <td>Horse Creek Ridge Sports Park</td>\n",
       "      <td>8.398529</td>\n",
       "      <td>POLYGON ((-117.15413 33.35376, -117.15413 33.3...</td>\n",
       "      <td>92028</td>\n",
       "    </tr>\n",
       "    <tr>\n",
       "      <th>2766</th>\n",
       "      <td></td>\n",
       "      <td>2.510408</td>\n",
       "      <td>POLYGON ((-117.13226 33.10238, -117.13225 33.1...</td>\n",
       "      <td>92029</td>\n",
       "    </tr>\n",
       "    <tr>\n",
       "      <th>2767</th>\n",
       "      <td>Harmony Grove Community Park</td>\n",
       "      <td>3.575260</td>\n",
       "      <td>POLYGON ((-117.13391 33.09869, -117.13376 33.0...</td>\n",
       "      <td>92029</td>\n",
       "    </tr>\n",
       "    <tr>\n",
       "      <th>2768</th>\n",
       "      <td>Harmony Grove Equestrian Park</td>\n",
       "      <td>3.647259</td>\n",
       "      <td>POLYGON ((-117.13258 33.09964, -117.13258 33.0...</td>\n",
       "      <td>92029</td>\n",
       "    </tr>\n",
       "  </tbody>\n",
       "</table>\n",
       "<p>3079 rows × 4 columns</p>\n",
       "</div>"
      ],
      "text/plain": [
       "                               name       acres  \\\n",
       "0                 South Carlsbad SB  115.895878   \n",
       "0                 South Carlsbad SB  115.895878   \n",
       "0                 South Carlsbad SB  115.895878   \n",
       "1                   Torrey Pines SB   67.294309   \n",
       "1                   Torrey Pines SB   67.294309   \n",
       "...                             ...         ...   \n",
       "2764        San Luis Rey River Park  712.262117   \n",
       "2765  Horse Creek Ridge Sports Park    8.398529   \n",
       "2766                                   2.510408   \n",
       "2767   Harmony Grove Community Park    3.575260   \n",
       "2768  Harmony Grove Equestrian Park    3.647259   \n",
       "\n",
       "                                               geometry    zip  \n",
       "0     MULTIPOLYGON (((-117.31431 33.09015, -117.3142...  92008  \n",
       "0     MULTIPOLYGON (((-117.31431 33.09015, -117.3142...  92011  \n",
       "0     MULTIPOLYGON (((-117.31431 33.09015, -117.3142...  92024  \n",
       "1     POLYGON ((-117.26147 32.93883, -117.26181 32.9...  92014  \n",
       "1     POLYGON ((-117.26147 32.93883, -117.26181 32.9...  92037  \n",
       "...                                                 ...    ...  \n",
       "2764  MULTIPOLYGON (((-117.17632 33.31105, -117.1766...  92003  \n",
       "2765  POLYGON ((-117.15413 33.35376, -117.15413 33.3...  92028  \n",
       "2766  POLYGON ((-117.13226 33.10238, -117.13225 33.1...  92029  \n",
       "2767  POLYGON ((-117.13391 33.09869, -117.13376 33.0...  92029  \n",
       "2768  POLYGON ((-117.13258 33.09964, -117.13258 33.0...  92029  \n",
       "\n",
       "[3079 rows x 4 columns]"
      ]
     },
     "execution_count": 6,
     "metadata": {},
     "output_type": "execute_result"
    }
   ],
   "source": [
    "# Drop nan values\n",
    "parks_df = parks_df.dropna(subset=['zip'])\n",
    "\n",
    "parks_df"
   ]
  },
  {
   "cell_type": "markdown",
   "metadata": {},
   "source": [
    "I needed to check why some census tracts don't have data for poverty percentages. Using the census tract maps on the OEHHA website, I found that these census tracts correspond to military installations. As residents of military installations typically have their housing paid for and a sufficient salary, I will assume that the poverty percentage is extremely low to none. I drop these rows as they may skew the analysis."
   ]
  },
  {
   "cell_type": "code",
   "execution_count": 7,
   "metadata": {
    "scrolled": true
   },
   "outputs": [
    {
     "data": {
      "text/html": [
       "<div>\n",
       "<style scoped>\n",
       "    .dataframe tbody tr th:only-of-type {\n",
       "        vertical-align: middle;\n",
       "    }\n",
       "\n",
       "    .dataframe tbody tr th {\n",
       "        vertical-align: top;\n",
       "    }\n",
       "\n",
       "    .dataframe thead th {\n",
       "        text-align: right;\n",
       "    }\n",
       "</style>\n",
       "<table border=\"1\" class=\"dataframe\">\n",
       "  <thead>\n",
       "    <tr style=\"text-align: right;\">\n",
       "      <th></th>\n",
       "      <th>census_tract</th>\n",
       "      <th>population</th>\n",
       "      <th>poverty_percent</th>\n",
       "      <th>unemployment_percent</th>\n",
       "      <th>zip</th>\n",
       "    </tr>\n",
       "  </thead>\n",
       "  <tbody>\n",
       "    <tr>\n",
       "      <th>5568</th>\n",
       "      <td>6073003800</td>\n",
       "      <td>6530</td>\n",
       "      <td>NaN</td>\n",
       "      <td>NaN</td>\n",
       "      <td>92136</td>\n",
       "    </tr>\n",
       "    <tr>\n",
       "      <th>6856</th>\n",
       "      <td>6073010900</td>\n",
       "      <td>1750</td>\n",
       "      <td>NaN</td>\n",
       "      <td>3.53</td>\n",
       "      <td>92118</td>\n",
       "    </tr>\n",
       "    <tr>\n",
       "      <th>7512</th>\n",
       "      <td>6073009901</td>\n",
       "      <td>626</td>\n",
       "      <td>NaN</td>\n",
       "      <td>NaN</td>\n",
       "      <td>92106</td>\n",
       "    </tr>\n",
       "    <tr>\n",
       "      <th>7565</th>\n",
       "      <td>6073013417</td>\n",
       "      <td>2087</td>\n",
       "      <td>NaN</td>\n",
       "      <td>10.86</td>\n",
       "      <td>91913</td>\n",
       "    </tr>\n",
       "    <tr>\n",
       "      <th>7694</th>\n",
       "      <td>6073011300</td>\n",
       "      <td>6520</td>\n",
       "      <td>NaN</td>\n",
       "      <td>NaN</td>\n",
       "      <td>92135</td>\n",
       "    </tr>\n",
       "    <tr>\n",
       "      <th>7829</th>\n",
       "      <td>6073008336</td>\n",
       "      <td>2332</td>\n",
       "      <td>NaN</td>\n",
       "      <td>9.94</td>\n",
       "      <td>92129</td>\n",
       "    </tr>\n",
       "    <tr>\n",
       "      <th>8020</th>\n",
       "      <td>6073005500</td>\n",
       "      <td>198</td>\n",
       "      <td>NaN</td>\n",
       "      <td>NaN</td>\n",
       "      <td>92134</td>\n",
       "    </tr>\n",
       "    <tr>\n",
       "      <th>8021</th>\n",
       "      <td>6073006200</td>\n",
       "      <td>144</td>\n",
       "      <td>NaN</td>\n",
       "      <td>NaN</td>\n",
       "      <td>92101</td>\n",
       "    </tr>\n",
       "    <tr>\n",
       "      <th>8022</th>\n",
       "      <td>6073006300</td>\n",
       "      <td>3435</td>\n",
       "      <td>NaN</td>\n",
       "      <td>NaN</td>\n",
       "      <td>92140</td>\n",
       "    </tr>\n",
       "    <tr>\n",
       "      <th>8023</th>\n",
       "      <td>6073009902</td>\n",
       "      <td>2</td>\n",
       "      <td>NaN</td>\n",
       "      <td>NaN</td>\n",
       "      <td>92118</td>\n",
       "    </tr>\n",
       "  </tbody>\n",
       "</table>\n",
       "</div>"
      ],
      "text/plain": [
       "      census_tract  population  poverty_percent  unemployment_percent    zip\n",
       "5568    6073003800        6530              NaN                   NaN  92136\n",
       "6856    6073010900        1750              NaN                  3.53  92118\n",
       "7512    6073009901         626              NaN                   NaN  92106\n",
       "7565    6073013417        2087              NaN                 10.86  91913\n",
       "7694    6073011300        6520              NaN                   NaN  92135\n",
       "7829    6073008336        2332              NaN                  9.94  92129\n",
       "8020    6073005500         198              NaN                   NaN  92134\n",
       "8021    6073006200         144              NaN                   NaN  92101\n",
       "8022    6073006300        3435              NaN                   NaN  92140\n",
       "8023    6073009902           2              NaN                   NaN  92118"
      ]
     },
     "execution_count": 7,
     "metadata": {},
     "output_type": "execute_result"
    }
   ],
   "source": [
    "# Check for nan values in poverty_percent column\n",
    "enviro_df[enviro_df['poverty_percent'].isna()]"
   ]
  },
  {
   "cell_type": "code",
   "execution_count": 8,
   "metadata": {},
   "outputs": [
    {
     "data": {
      "text/html": [
       "<div>\n",
       "<style scoped>\n",
       "    .dataframe tbody tr th:only-of-type {\n",
       "        vertical-align: middle;\n",
       "    }\n",
       "\n",
       "    .dataframe tbody tr th {\n",
       "        vertical-align: top;\n",
       "    }\n",
       "\n",
       "    .dataframe thead th {\n",
       "        text-align: right;\n",
       "    }\n",
       "</style>\n",
       "<table border=\"1\" class=\"dataframe\">\n",
       "  <thead>\n",
       "    <tr style=\"text-align: right;\">\n",
       "      <th></th>\n",
       "      <th>census_tract</th>\n",
       "      <th>population</th>\n",
       "      <th>poverty_percent</th>\n",
       "      <th>unemployment_percent</th>\n",
       "      <th>zip</th>\n",
       "    </tr>\n",
       "  </thead>\n",
       "  <tbody>\n",
       "    <tr>\n",
       "      <th>165</th>\n",
       "      <td>6073005000</td>\n",
       "      <td>2227</td>\n",
       "      <td>74.855946</td>\n",
       "      <td>NaN</td>\n",
       "      <td>92113</td>\n",
       "    </tr>\n",
       "    <tr>\n",
       "      <th>299</th>\n",
       "      <td>6073003601</td>\n",
       "      <td>3250</td>\n",
       "      <td>76.636392</td>\n",
       "      <td>17.84</td>\n",
       "      <td>92113</td>\n",
       "    </tr>\n",
       "    <tr>\n",
       "      <th>370</th>\n",
       "      <td>6073004900</td>\n",
       "      <td>5028</td>\n",
       "      <td>70.019802</td>\n",
       "      <td>13.77</td>\n",
       "      <td>92113</td>\n",
       "    </tr>\n",
       "    <tr>\n",
       "      <th>466</th>\n",
       "      <td>6073003902</td>\n",
       "      <td>4927</td>\n",
       "      <td>76.470588</td>\n",
       "      <td>19.39</td>\n",
       "      <td>92113</td>\n",
       "    </tr>\n",
       "    <tr>\n",
       "      <th>805</th>\n",
       "      <td>6073003901</td>\n",
       "      <td>4241</td>\n",
       "      <td>79.242069</td>\n",
       "      <td>28.52</td>\n",
       "      <td>92113</td>\n",
       "    </tr>\n",
       "    <tr>\n",
       "      <th>...</th>\n",
       "      <td>...</td>\n",
       "      <td>...</td>\n",
       "      <td>...</td>\n",
       "      <td>...</td>\n",
       "      <td>...</td>\n",
       "    </tr>\n",
       "    <tr>\n",
       "      <th>7904</th>\n",
       "      <td>6073017053</td>\n",
       "      <td>3364</td>\n",
       "      <td>5.335027</td>\n",
       "      <td>4.95</td>\n",
       "      <td>92064</td>\n",
       "    </tr>\n",
       "    <tr>\n",
       "      <th>7908</th>\n",
       "      <td>6073008102</td>\n",
       "      <td>3395</td>\n",
       "      <td>5.771725</td>\n",
       "      <td>4.82</td>\n",
       "      <td>92037</td>\n",
       "    </tr>\n",
       "    <tr>\n",
       "      <th>7943</th>\n",
       "      <td>6073007907</td>\n",
       "      <td>3048</td>\n",
       "      <td>35.107914</td>\n",
       "      <td>2.58</td>\n",
       "      <td>92109</td>\n",
       "    </tr>\n",
       "    <tr>\n",
       "      <th>7951</th>\n",
       "      <td>6073007301</td>\n",
       "      <td>4948</td>\n",
       "      <td>30.536181</td>\n",
       "      <td>7.50</td>\n",
       "      <td>92107</td>\n",
       "    </tr>\n",
       "    <tr>\n",
       "      <th>7961</th>\n",
       "      <td>6073008003</td>\n",
       "      <td>3334</td>\n",
       "      <td>15.695364</td>\n",
       "      <td>2.69</td>\n",
       "      <td>92109</td>\n",
       "    </tr>\n",
       "  </tbody>\n",
       "</table>\n",
       "<p>617 rows × 5 columns</p>\n",
       "</div>"
      ],
      "text/plain": [
       "      census_tract  population  poverty_percent  unemployment_percent    zip\n",
       "165     6073005000        2227        74.855946                   NaN  92113\n",
       "299     6073003601        3250        76.636392                 17.84  92113\n",
       "370     6073004900        5028        70.019802                 13.77  92113\n",
       "466     6073003902        4927        76.470588                 19.39  92113\n",
       "805     6073003901        4241        79.242069                 28.52  92113\n",
       "...            ...         ...              ...                   ...    ...\n",
       "7904    6073017053        3364         5.335027                  4.95  92064\n",
       "7908    6073008102        3395         5.771725                  4.82  92037\n",
       "7943    6073007907        3048        35.107914                  2.58  92109\n",
       "7951    6073007301        4948        30.536181                  7.50  92107\n",
       "7961    6073008003        3334        15.695364                  2.69  92109\n",
       "\n",
       "[617 rows x 5 columns]"
      ]
     },
     "execution_count": 8,
     "metadata": {},
     "output_type": "execute_result"
    }
   ],
   "source": [
    "# Drop nan values\n",
    "enviro_df = enviro_df.dropna(subset=['poverty_percent'])\n",
    "\n",
    "enviro_df"
   ]
  },
  {
   "cell_type": "markdown",
   "metadata": {},
   "source": [
    "There are only two observations that have nan values for unemployment percent. I checked the OEHHA maps for these census tracts and I couldn't come to a conclusion why this is the case. As there are only two observations of this sort, I will drop them and not include these data points in the analysis. I also made sure to take note of this."
   ]
  },
  {
   "cell_type": "code",
   "execution_count": 9,
   "metadata": {},
   "outputs": [
    {
     "data": {
      "text/html": [
       "<div>\n",
       "<style scoped>\n",
       "    .dataframe tbody tr th:only-of-type {\n",
       "        vertical-align: middle;\n",
       "    }\n",
       "\n",
       "    .dataframe tbody tr th {\n",
       "        vertical-align: top;\n",
       "    }\n",
       "\n",
       "    .dataframe thead th {\n",
       "        text-align: right;\n",
       "    }\n",
       "</style>\n",
       "<table border=\"1\" class=\"dataframe\">\n",
       "  <thead>\n",
       "    <tr style=\"text-align: right;\">\n",
       "      <th></th>\n",
       "      <th>census_tract</th>\n",
       "      <th>population</th>\n",
       "      <th>poverty_percent</th>\n",
       "      <th>unemployment_percent</th>\n",
       "      <th>zip</th>\n",
       "    </tr>\n",
       "  </thead>\n",
       "  <tbody>\n",
       "    <tr>\n",
       "      <th>165</th>\n",
       "      <td>6073005000</td>\n",
       "      <td>2227</td>\n",
       "      <td>74.855946</td>\n",
       "      <td>NaN</td>\n",
       "      <td>92113</td>\n",
       "    </tr>\n",
       "    <tr>\n",
       "      <th>4595</th>\n",
       "      <td>6073006600</td>\n",
       "      <td>1920</td>\n",
       "      <td>47.180548</td>\n",
       "      <td>NaN</td>\n",
       "      <td>92110</td>\n",
       "    </tr>\n",
       "  </tbody>\n",
       "</table>\n",
       "</div>"
      ],
      "text/plain": [
       "      census_tract  population  poverty_percent  unemployment_percent    zip\n",
       "165     6073005000        2227        74.855946                   NaN  92113\n",
       "4595    6073006600        1920        47.180548                   NaN  92110"
      ]
     },
     "execution_count": 9,
     "metadata": {},
     "output_type": "execute_result"
    }
   ],
   "source": [
    "enviro_df[enviro_df['unemployment_percent'].isna()]"
   ]
  },
  {
   "cell_type": "code",
   "execution_count": 10,
   "metadata": {},
   "outputs": [
    {
     "data": {
      "text/html": [
       "<div>\n",
       "<style scoped>\n",
       "    .dataframe tbody tr th:only-of-type {\n",
       "        vertical-align: middle;\n",
       "    }\n",
       "\n",
       "    .dataframe tbody tr th {\n",
       "        vertical-align: top;\n",
       "    }\n",
       "\n",
       "    .dataframe thead th {\n",
       "        text-align: right;\n",
       "    }\n",
       "</style>\n",
       "<table border=\"1\" class=\"dataframe\">\n",
       "  <thead>\n",
       "    <tr style=\"text-align: right;\">\n",
       "      <th></th>\n",
       "      <th>census_tract</th>\n",
       "      <th>population</th>\n",
       "      <th>poverty_percent</th>\n",
       "      <th>unemployment_percent</th>\n",
       "      <th>zip</th>\n",
       "    </tr>\n",
       "  </thead>\n",
       "  <tbody>\n",
       "    <tr>\n",
       "      <th>299</th>\n",
       "      <td>6073003601</td>\n",
       "      <td>3250</td>\n",
       "      <td>76.636392</td>\n",
       "      <td>17.84</td>\n",
       "      <td>92113</td>\n",
       "    </tr>\n",
       "    <tr>\n",
       "      <th>370</th>\n",
       "      <td>6073004900</td>\n",
       "      <td>5028</td>\n",
       "      <td>70.019802</td>\n",
       "      <td>13.77</td>\n",
       "      <td>92113</td>\n",
       "    </tr>\n",
       "    <tr>\n",
       "      <th>466</th>\n",
       "      <td>6073003902</td>\n",
       "      <td>4927</td>\n",
       "      <td>76.470588</td>\n",
       "      <td>19.39</td>\n",
       "      <td>92113</td>\n",
       "    </tr>\n",
       "    <tr>\n",
       "      <th>805</th>\n",
       "      <td>6073003901</td>\n",
       "      <td>4241</td>\n",
       "      <td>79.242069</td>\n",
       "      <td>28.52</td>\n",
       "      <td>92113</td>\n",
       "    </tr>\n",
       "    <tr>\n",
       "      <th>807</th>\n",
       "      <td>6073005100</td>\n",
       "      <td>7140</td>\n",
       "      <td>69.253137</td>\n",
       "      <td>25.23</td>\n",
       "      <td>92113</td>\n",
       "    </tr>\n",
       "    <tr>\n",
       "      <th>...</th>\n",
       "      <td>...</td>\n",
       "      <td>...</td>\n",
       "      <td>...</td>\n",
       "      <td>...</td>\n",
       "      <td>...</td>\n",
       "    </tr>\n",
       "    <tr>\n",
       "      <th>7904</th>\n",
       "      <td>6073017053</td>\n",
       "      <td>3364</td>\n",
       "      <td>5.335027</td>\n",
       "      <td>4.95</td>\n",
       "      <td>92064</td>\n",
       "    </tr>\n",
       "    <tr>\n",
       "      <th>7908</th>\n",
       "      <td>6073008102</td>\n",
       "      <td>3395</td>\n",
       "      <td>5.771725</td>\n",
       "      <td>4.82</td>\n",
       "      <td>92037</td>\n",
       "    </tr>\n",
       "    <tr>\n",
       "      <th>7943</th>\n",
       "      <td>6073007907</td>\n",
       "      <td>3048</td>\n",
       "      <td>35.107914</td>\n",
       "      <td>2.58</td>\n",
       "      <td>92109</td>\n",
       "    </tr>\n",
       "    <tr>\n",
       "      <th>7951</th>\n",
       "      <td>6073007301</td>\n",
       "      <td>4948</td>\n",
       "      <td>30.536181</td>\n",
       "      <td>7.50</td>\n",
       "      <td>92107</td>\n",
       "    </tr>\n",
       "    <tr>\n",
       "      <th>7961</th>\n",
       "      <td>6073008003</td>\n",
       "      <td>3334</td>\n",
       "      <td>15.695364</td>\n",
       "      <td>2.69</td>\n",
       "      <td>92109</td>\n",
       "    </tr>\n",
       "  </tbody>\n",
       "</table>\n",
       "<p>615 rows × 5 columns</p>\n",
       "</div>"
      ],
      "text/plain": [
       "      census_tract  population  poverty_percent  unemployment_percent    zip\n",
       "299     6073003601        3250        76.636392                 17.84  92113\n",
       "370     6073004900        5028        70.019802                 13.77  92113\n",
       "466     6073003902        4927        76.470588                 19.39  92113\n",
       "805     6073003901        4241        79.242069                 28.52  92113\n",
       "807     6073005100        7140        69.253137                 25.23  92113\n",
       "...            ...         ...              ...                   ...    ...\n",
       "7904    6073017053        3364         5.335027                  4.95  92064\n",
       "7908    6073008102        3395         5.771725                  4.82  92037\n",
       "7943    6073007907        3048        35.107914                  2.58  92109\n",
       "7951    6073007301        4948        30.536181                  7.50  92107\n",
       "7961    6073008003        3334        15.695364                  2.69  92109\n",
       "\n",
       "[615 rows x 5 columns]"
      ]
     },
     "execution_count": 10,
     "metadata": {},
     "output_type": "execute_result"
    }
   ],
   "source": [
    "enviro_df = enviro_df.dropna(subset=['unemployment_percent'])\n",
    "\n",
    "enviro_df"
   ]
  },
  {
   "cell_type": "markdown",
   "metadata": {},
   "source": [
    "I wanted to compute the total park area for each census tract in the environmental dataset. I took the park data, grouped it by zip, and then summed the acres. I created a function that replaces a zip code with the summed park acreage and applied that function to the environmental dataset."
   ]
  },
  {
   "cell_type": "code",
   "execution_count": 11,
   "metadata": {},
   "outputs": [
    {
     "data": {
      "text/html": [
       "<div>\n",
       "<style scoped>\n",
       "    .dataframe tbody tr th:only-of-type {\n",
       "        vertical-align: middle;\n",
       "    }\n",
       "\n",
       "    .dataframe tbody tr th {\n",
       "        vertical-align: top;\n",
       "    }\n",
       "\n",
       "    .dataframe thead th {\n",
       "        text-align: right;\n",
       "    }\n",
       "</style>\n",
       "<table border=\"1\" class=\"dataframe\">\n",
       "  <thead>\n",
       "    <tr style=\"text-align: right;\">\n",
       "      <th></th>\n",
       "      <th>census_tract</th>\n",
       "      <th>population</th>\n",
       "      <th>poverty_percent</th>\n",
       "      <th>unemployment_percent</th>\n",
       "      <th>zip</th>\n",
       "      <th>park_acres</th>\n",
       "    </tr>\n",
       "  </thead>\n",
       "  <tbody>\n",
       "    <tr>\n",
       "      <th>299</th>\n",
       "      <td>6073003601</td>\n",
       "      <td>3250</td>\n",
       "      <td>76.636392</td>\n",
       "      <td>17.84</td>\n",
       "      <td>92113</td>\n",
       "      <td>108.966269</td>\n",
       "    </tr>\n",
       "    <tr>\n",
       "      <th>370</th>\n",
       "      <td>6073004900</td>\n",
       "      <td>5028</td>\n",
       "      <td>70.019802</td>\n",
       "      <td>13.77</td>\n",
       "      <td>92113</td>\n",
       "      <td>108.966269</td>\n",
       "    </tr>\n",
       "    <tr>\n",
       "      <th>466</th>\n",
       "      <td>6073003902</td>\n",
       "      <td>4927</td>\n",
       "      <td>76.470588</td>\n",
       "      <td>19.39</td>\n",
       "      <td>92113</td>\n",
       "      <td>108.966269</td>\n",
       "    </tr>\n",
       "    <tr>\n",
       "      <th>805</th>\n",
       "      <td>6073003901</td>\n",
       "      <td>4241</td>\n",
       "      <td>79.242069</td>\n",
       "      <td>28.52</td>\n",
       "      <td>92113</td>\n",
       "      <td>108.966269</td>\n",
       "    </tr>\n",
       "    <tr>\n",
       "      <th>807</th>\n",
       "      <td>6073005100</td>\n",
       "      <td>7140</td>\n",
       "      <td>69.253137</td>\n",
       "      <td>25.23</td>\n",
       "      <td>92113</td>\n",
       "      <td>108.966269</td>\n",
       "    </tr>\n",
       "    <tr>\n",
       "      <th>...</th>\n",
       "      <td>...</td>\n",
       "      <td>...</td>\n",
       "      <td>...</td>\n",
       "      <td>...</td>\n",
       "      <td>...</td>\n",
       "      <td>...</td>\n",
       "    </tr>\n",
       "    <tr>\n",
       "      <th>7904</th>\n",
       "      <td>6073017053</td>\n",
       "      <td>3364</td>\n",
       "      <td>5.335027</td>\n",
       "      <td>4.95</td>\n",
       "      <td>92064</td>\n",
       "      <td>3905.410576</td>\n",
       "    </tr>\n",
       "    <tr>\n",
       "      <th>7908</th>\n",
       "      <td>6073008102</td>\n",
       "      <td>3395</td>\n",
       "      <td>5.771725</td>\n",
       "      <td>4.82</td>\n",
       "      <td>92037</td>\n",
       "      <td>2821.156510</td>\n",
       "    </tr>\n",
       "    <tr>\n",
       "      <th>7943</th>\n",
       "      <td>6073007907</td>\n",
       "      <td>3048</td>\n",
       "      <td>35.107914</td>\n",
       "      <td>2.58</td>\n",
       "      <td>92109</td>\n",
       "      <td>4281.131053</td>\n",
       "    </tr>\n",
       "    <tr>\n",
       "      <th>7951</th>\n",
       "      <td>6073007301</td>\n",
       "      <td>4948</td>\n",
       "      <td>30.536181</td>\n",
       "      <td>7.50</td>\n",
       "      <td>92107</td>\n",
       "      <td>4295.509503</td>\n",
       "    </tr>\n",
       "    <tr>\n",
       "      <th>7961</th>\n",
       "      <td>6073008003</td>\n",
       "      <td>3334</td>\n",
       "      <td>15.695364</td>\n",
       "      <td>2.69</td>\n",
       "      <td>92109</td>\n",
       "      <td>4281.131053</td>\n",
       "    </tr>\n",
       "  </tbody>\n",
       "</table>\n",
       "<p>615 rows × 6 columns</p>\n",
       "</div>"
      ],
      "text/plain": [
       "      census_tract  population  poverty_percent  unemployment_percent    zip  \\\n",
       "299     6073003601        3250        76.636392                 17.84  92113   \n",
       "370     6073004900        5028        70.019802                 13.77  92113   \n",
       "466     6073003902        4927        76.470588                 19.39  92113   \n",
       "805     6073003901        4241        79.242069                 28.52  92113   \n",
       "807     6073005100        7140        69.253137                 25.23  92113   \n",
       "...            ...         ...              ...                   ...    ...   \n",
       "7904    6073017053        3364         5.335027                  4.95  92064   \n",
       "7908    6073008102        3395         5.771725                  4.82  92037   \n",
       "7943    6073007907        3048        35.107914                  2.58  92109   \n",
       "7951    6073007301        4948        30.536181                  7.50  92107   \n",
       "7961    6073008003        3334        15.695364                  2.69  92109   \n",
       "\n",
       "       park_acres  \n",
       "299    108.966269  \n",
       "370    108.966269  \n",
       "466    108.966269  \n",
       "805    108.966269  \n",
       "807    108.966269  \n",
       "...           ...  \n",
       "7904  3905.410576  \n",
       "7908  2821.156510  \n",
       "7943  4281.131053  \n",
       "7951  4295.509503  \n",
       "7961  4281.131053  \n",
       "\n",
       "[615 rows x 6 columns]"
      ]
     },
     "execution_count": 11,
     "metadata": {},
     "output_type": "execute_result"
    }
   ],
   "source": [
    "# Compute the total park acreage for a zip code\n",
    "acres_df = parks_df.groupby(by=['zip'], as_index=False)['acres'].sum()\n",
    "\n",
    "# Function to apply the total park acreage for a zip code\n",
    "def apply_park_acres(zip):\n",
    "    try:\n",
    "        return acres_df[acres_df['zip'] == zip]['acres'].item()\n",
    "    except:\n",
    "        return 0\n",
    "\n",
    "# Copy over zip codes to new column so they can be transformed\n",
    "enviro_df = enviro_df.copy()\n",
    "enviro_df['park_acres'] = enviro_df['zip']\n",
    "\n",
    "# Apply compute_park_acres\n",
    "enviro_df['park_acres'] = enviro_df['park_acres'].apply(apply_park_acres)\n",
    "\n",
    "enviro_df"
   ]
  },
  {
   "cell_type": "markdown",
   "metadata": {},
   "source": [
    "Here, I wanted to make sure that any zip codes with zero park acres truly have no city parks. There is one observation with no parks so I checked Google Maps to verify that there are no parks in that zip code. It turned out that this is an especially rural area with no parks at all."
   ]
  },
  {
   "cell_type": "code",
   "execution_count": 12,
   "metadata": {},
   "outputs": [
    {
     "data": {
      "text/html": [
       "<div>\n",
       "<style scoped>\n",
       "    .dataframe tbody tr th:only-of-type {\n",
       "        vertical-align: middle;\n",
       "    }\n",
       "\n",
       "    .dataframe tbody tr th {\n",
       "        vertical-align: top;\n",
       "    }\n",
       "\n",
       "    .dataframe thead th {\n",
       "        text-align: right;\n",
       "    }\n",
       "</style>\n",
       "<table border=\"1\" class=\"dataframe\">\n",
       "  <thead>\n",
       "    <tr style=\"text-align: right;\">\n",
       "      <th></th>\n",
       "      <th>census_tract</th>\n",
       "      <th>population</th>\n",
       "      <th>poverty_percent</th>\n",
       "      <th>unemployment_percent</th>\n",
       "      <th>zip</th>\n",
       "      <th>park_acres</th>\n",
       "    </tr>\n",
       "  </thead>\n",
       "  <tbody>\n",
       "    <tr>\n",
       "      <th>5367</th>\n",
       "      <td>6073019101</td>\n",
       "      <td>7458</td>\n",
       "      <td>27.907992</td>\n",
       "      <td>7.81</td>\n",
       "      <td>92061</td>\n",
       "      <td>0.0</td>\n",
       "    </tr>\n",
       "  </tbody>\n",
       "</table>\n",
       "</div>"
      ],
      "text/plain": [
       "      census_tract  population  poverty_percent  unemployment_percent    zip  \\\n",
       "5367    6073019101        7458        27.907992                  7.81  92061   \n",
       "\n",
       "      park_acres  \n",
       "5367         0.0  "
      ]
     },
     "execution_count": 12,
     "metadata": {},
     "output_type": "execute_result"
    }
   ],
   "source": [
    "# Manually check zeroed data for validity\n",
    "enviro_df[enviro_df['park_acres'] == 0]"
   ]
  },
  {
   "cell_type": "markdown",
   "metadata": {},
   "source": [
    "# Data Analysis & Results"
   ]
  },
  {
   "cell_type": "markdown",
   "metadata": {},
   "source": [
    "I started by plotting a scatter matrix of the variables I am observing to get an overall picture of how the variables interact. By doing this, I saw that there are major outliers in the park acres data which makes it hard to scout for correlation."
   ]
  },
  {
   "cell_type": "code",
   "execution_count": 13,
   "metadata": {},
   "outputs": [
    {
     "data": {
      "text/plain": [
       "array([[<AxesSubplot:xlabel='poverty_percent', ylabel='poverty_percent'>,\n",
       "        <AxesSubplot:xlabel='unemployment_percent', ylabel='poverty_percent'>,\n",
       "        <AxesSubplot:xlabel='park_acres', ylabel='poverty_percent'>],\n",
       "       [<AxesSubplot:xlabel='poverty_percent', ylabel='unemployment_percent'>,\n",
       "        <AxesSubplot:xlabel='unemployment_percent', ylabel='unemployment_percent'>,\n",
       "        <AxesSubplot:xlabel='park_acres', ylabel='unemployment_percent'>],\n",
       "       [<AxesSubplot:xlabel='poverty_percent', ylabel='park_acres'>,\n",
       "        <AxesSubplot:xlabel='unemployment_percent', ylabel='park_acres'>,\n",
       "        <AxesSubplot:xlabel='park_acres', ylabel='park_acres'>]],\n",
       "      dtype=object)"
      ]
     },
     "execution_count": 13,
     "metadata": {},
     "output_type": "execute_result"
    },
    {
     "data": {
      "image/png": "[encoded data removed]",
      "text/plain": [
       "<Figure size 1080x720 with 9 Axes>"
      ]
     },
     "metadata": {
      "needs_background": "light"
     },
     "output_type": "display_data"
    }
   ],
   "source": [
    "pd.plotting.scatter_matrix(enviro_df[['poverty_percent', 'unemployment_percent', 'park_acres']], figsize=(15, 10))"
   ]
  },
  {
   "cell_type": "markdown",
   "metadata": {},
   "source": [
    "Here, I took a look at the data for the outliers. Using the OEHHA census tract website and Google Maps, I confirmed that these data points are valid. I will leave them in as the data does not seem to have inaccuracies."
   ]
  },
  {
   "cell_type": "code",
   "execution_count": 14,
   "metadata": {},
   "outputs": [
    {
     "data": {
      "text/html": [
       "<div>\n",
       "<style scoped>\n",
       "    .dataframe tbody tr th:only-of-type {\n",
       "        vertical-align: middle;\n",
       "    }\n",
       "\n",
       "    .dataframe tbody tr th {\n",
       "        vertical-align: top;\n",
       "    }\n",
       "\n",
       "    .dataframe thead th {\n",
       "        text-align: right;\n",
       "    }\n",
       "</style>\n",
       "<table border=\"1\" class=\"dataframe\">\n",
       "  <thead>\n",
       "    <tr style=\"text-align: right;\">\n",
       "      <th></th>\n",
       "      <th>census_tract</th>\n",
       "      <th>population</th>\n",
       "      <th>poverty_percent</th>\n",
       "      <th>unemployment_percent</th>\n",
       "      <th>zip</th>\n",
       "      <th>park_acres</th>\n",
       "    </tr>\n",
       "  </thead>\n",
       "  <tbody>\n",
       "    <tr>\n",
       "      <th>4098</th>\n",
       "      <td>6073021000</td>\n",
       "      <td>4440</td>\n",
       "      <td>47.287341</td>\n",
       "      <td>13.46</td>\n",
       "      <td>92004</td>\n",
       "      <td>1.187647e+06</td>\n",
       "    </tr>\n",
       "    <tr>\n",
       "      <th>4484</th>\n",
       "      <td>6073020903</td>\n",
       "      <td>3192</td>\n",
       "      <td>35.320687</td>\n",
       "      <td>22.35</td>\n",
       "      <td>92086</td>\n",
       "      <td>9.439348e+05</td>\n",
       "    </tr>\n",
       "    <tr>\n",
       "      <th>5776</th>\n",
       "      <td>6073020904</td>\n",
       "      <td>3075</td>\n",
       "      <td>24.616329</td>\n",
       "      <td>6.56</td>\n",
       "      <td>92036</td>\n",
       "      <td>1.003049e+06</td>\n",
       "    </tr>\n",
       "    <tr>\n",
       "      <th>7130</th>\n",
       "      <td>6073020902</td>\n",
       "      <td>2122</td>\n",
       "      <td>14.163090</td>\n",
       "      <td>4.86</td>\n",
       "      <td>91916</td>\n",
       "      <td>4.061412e+04</td>\n",
       "    </tr>\n",
       "  </tbody>\n",
       "</table>\n",
       "</div>"
      ],
      "text/plain": [
       "      census_tract  population  poverty_percent  unemployment_percent    zip  \\\n",
       "4098    6073021000        4440        47.287341                 13.46  92004   \n",
       "4484    6073020903        3192        35.320687                 22.35  92086   \n",
       "5776    6073020904        3075        24.616329                  6.56  92036   \n",
       "7130    6073020902        2122        14.163090                  4.86  91916   \n",
       "\n",
       "        park_acres  \n",
       "4098  1.187647e+06  \n",
       "4484  9.439348e+05  \n",
       "5776  1.003049e+06  \n",
       "7130  4.061412e+04  "
      ]
     },
     "execution_count": 14,
     "metadata": {},
     "output_type": "execute_result"
    }
   ],
   "source": [
    "enviro_df[enviro_df['park_acres'] > 40000]"
   ]
  },
  {
   "cell_type": "markdown",
   "metadata": {},
   "source": [
    "To get a sense of how poverty and unemployment rates are distributed and to ensure the data is correct, I plotted them to visualize their distributions."
   ]
  },
  {
   "cell_type": "code",
   "execution_count": 15,
   "metadata": {},
   "outputs": [
    {
     "data": {
      "image/png": "[encoded data removed]",
      "text/plain": [
       "<Figure size 360x360 with 1 Axes>"
      ]
     },
     "metadata": {
      "needs_background": "light"
     },
     "output_type": "display_data"
    }
   ],
   "source": [
    "sns.displot(enviro_df['poverty_percent'], kde=True)\n",
    "plt.title('Poverty Rates in San Diego')\n",
    "plt.xlabel('Poverty Percentage')\n",
    "ax = plt.ylabel('Frequency')"
   ]
  },
  {
   "cell_type": "markdown",
   "metadata": {},
   "source": [
    "It appears that poverty percentage is not normally distributed. It seems that it is somewhat positively skewed which is expected as the distribution appears in line with the county poverty rate."
   ]
  },
  {
   "cell_type": "code",
   "execution_count": 16,
   "metadata": {},
   "outputs": [
    {
     "data": {
      "image/png": "[encoded data removed]",
      "text/plain": [
       "<Figure size 360x360 with 1 Axes>"
      ]
     },
     "metadata": {
      "needs_background": "light"
     },
     "output_type": "display_data"
    }
   ],
   "source": [
    "sns.displot(enviro_df['unemployment_percent'], kde=True)\n",
    "plt.title('Unemployment Rates in San Diego')\n",
    "plt.xlabel('Unemployment Percentage')\n",
    "ax = plt.ylabel('Frequency')"
   ]
  },
  {
   "cell_type": "markdown",
   "metadata": {},
   "source": [
    "It appears that unemployment percentage is not normally distributed. It seems that it is somewhat positively skewed which is expected as the distribution appears in line with the county unemployment rate.\n",
    "\n",
    "To visualize the relationship between park acreage and the other variables, I created a new dataframe that omits the outliers."
   ]
  },
  {
   "cell_type": "code",
   "execution_count": 17,
   "metadata": {},
   "outputs": [],
   "source": [
    "# Create new dataframe for visualizations\n",
    "vis_df = enviro_df[enviro_df['park_acres'] < 40000]"
   ]
  },
  {
   "cell_type": "markdown",
   "metadata": {},
   "source": [
    "I will now use the new dataframe to plot park acreage versus poverty percentage."
   ]
  },
  {
   "cell_type": "code",
   "execution_count": 18,
   "metadata": {},
   "outputs": [
    {
     "data": {
      "image/png": "[encoded data removed]",
      "text/plain": [
       "<Figure size 432x288 with 1 Axes>"
      ]
     },
     "metadata": {
      "needs_background": "light"
     },
     "output_type": "display_data"
    }
   ],
   "source": [
    "sns.scatterplot(x=vis_df['park_acres'], y=vis_df['poverty_percent'], data=vis_df)\n",
    "plt.title('Park Acreage vs. Poverty Percentage')\n",
    "plt.xlabel('Park Acreage')\n",
    "ax = plt.ylabel('Poverty Percentage')"
   ]
  },
  {
   "cell_type": "markdown",
   "metadata": {},
   "source": [
    "What I gathered from looking at the plot above is that there doesn't seem to be any particular relationship between park acreage and poverty percentage. As park acreage increases, the range of poverty rate does not seem to decrease by a substantial margin.\n",
    "\n",
    "Below, I will plot park acreage versus unemployment percentage."
   ]
  },
  {
   "cell_type": "code",
   "execution_count": 19,
   "metadata": {},
   "outputs": [
    {
     "data": {
      "image/png": "[encoded data removed]",
      "text/plain": [
       "<Figure size 432x288 with 1 Axes>"
      ]
     },
     "metadata": {
      "needs_background": "light"
     },
     "output_type": "display_data"
    }
   ],
   "source": [
    "sns.scatterplot(x=vis_df['park_acres'], y=vis_df['unemployment_percent'], data=vis_df)\n",
    "plt.title('Park Acreage vs. Unemployment Percentage')\n",
    "plt.xlabel('Park Acreage')\n",
    "ax = plt.ylabel('Unemployment Percentage')"
   ]
  },
  {
   "cell_type": "markdown",
   "metadata": {},
   "source": [
    "The plot above tells me that there isn't an obvious relationship between park acreage and unemployment percentage. As park acreage increases, the range of the unemployment rate does not seem to drastically increase or decrease. However, the two plots above are very similar which tells me that poverty and unemployment seem highly correlated.\n",
    "\n",
    "I will now check the correlation between the variables to reinforce my findings above."
   ]
  },
  {
   "cell_type": "code",
   "execution_count": 20,
   "metadata": {},
   "outputs": [
    {
     "data": {
      "text/html": [
       "<div>\n",
       "<style scoped>\n",
       "    .dataframe tbody tr th:only-of-type {\n",
       "        vertical-align: middle;\n",
       "    }\n",
       "\n",
       "    .dataframe tbody tr th {\n",
       "        vertical-align: top;\n",
       "    }\n",
       "\n",
       "    .dataframe thead th {\n",
       "        text-align: right;\n",
       "    }\n",
       "</style>\n",
       "<table border=\"1\" class=\"dataframe\">\n",
       "  <thead>\n",
       "    <tr style=\"text-align: right;\">\n",
       "      <th></th>\n",
       "      <th>census_tract</th>\n",
       "      <th>population</th>\n",
       "      <th>poverty_percent</th>\n",
       "      <th>unemployment_percent</th>\n",
       "      <th>park_acres</th>\n",
       "    </tr>\n",
       "  </thead>\n",
       "  <tbody>\n",
       "    <tr>\n",
       "      <th>census_tract</th>\n",
       "      <td>1.000000</td>\n",
       "      <td>0.138588</td>\n",
       "      <td>-0.189785</td>\n",
       "      <td>-0.082698</td>\n",
       "      <td>0.103369</td>\n",
       "    </tr>\n",
       "    <tr>\n",
       "      <th>population</th>\n",
       "      <td>0.138588</td>\n",
       "      <td>1.000000</td>\n",
       "      <td>-0.034897</td>\n",
       "      <td>0.000119</td>\n",
       "      <td>-0.035710</td>\n",
       "    </tr>\n",
       "    <tr>\n",
       "      <th>poverty_percent</th>\n",
       "      <td>-0.189785</td>\n",
       "      <td>-0.034897</td>\n",
       "      <td>1.000000</td>\n",
       "      <td>0.533545</td>\n",
       "      <td>0.010775</td>\n",
       "    </tr>\n",
       "    <tr>\n",
       "      <th>unemployment_percent</th>\n",
       "      <td>-0.082698</td>\n",
       "      <td>0.000119</td>\n",
       "      <td>0.533545</td>\n",
       "      <td>1.000000</td>\n",
       "      <td>0.061891</td>\n",
       "    </tr>\n",
       "    <tr>\n",
       "      <th>park_acres</th>\n",
       "      <td>0.103369</td>\n",
       "      <td>-0.035710</td>\n",
       "      <td>0.010775</td>\n",
       "      <td>0.061891</td>\n",
       "      <td>1.000000</td>\n",
       "    </tr>\n",
       "  </tbody>\n",
       "</table>\n",
       "</div>"
      ],
      "text/plain": [
       "                      census_tract  population  poverty_percent  \\\n",
       "census_tract              1.000000    0.138588        -0.189785   \n",
       "population                0.138588    1.000000        -0.034897   \n",
       "poverty_percent          -0.189785   -0.034897         1.000000   \n",
       "unemployment_percent     -0.082698    0.000119         0.533545   \n",
       "park_acres                0.103369   -0.035710         0.010775   \n",
       "\n",
       "                      unemployment_percent  park_acres  \n",
       "census_tract                     -0.082698    0.103369  \n",
       "population                        0.000119   -0.035710  \n",
       "poverty_percent                   0.533545    0.010775  \n",
       "unemployment_percent              1.000000    0.061891  \n",
       "park_acres                        0.061891    1.000000  "
      ]
     },
     "execution_count": 20,
     "metadata": {},
     "output_type": "execute_result"
    }
   ],
   "source": [
    "enviro_df.corr()"
   ]
  },
  {
   "cell_type": "markdown",
   "metadata": {},
   "source": [
    "From the correlation matrix above, I can conclude that park acreage in an area is not very correlated with either poverty percentage or unemployment percentage. Poverty percentage and unemployment percentage correlate which is typical so I know the data is not incorrectly entered.\n",
    "\n",
    "I wanted to ensure that I am not missing anything, so below I will create a linear regression model for each pair of variables used in the scatterplots."
   ]
  },
  {
   "cell_type": "code",
   "execution_count": 21,
   "metadata": {},
   "outputs": [
    {
     "name": "stdout",
     "output_type": "stream",
     "text": [
      "                            OLS Regression Results                            \n",
      "==============================================================================\n",
      "Dep. Variable:        poverty_percent   R-squared:                       0.000\n",
      "Model:                            OLS   Adj. R-squared:                 -0.002\n",
      "Method:                 Least Squares   F-statistic:                   0.07117\n",
      "Date:                Wed, 16 Dec 2020   Prob (F-statistic):              0.790\n",
      "Time:                        01:41:00   Log-Likelihood:                -2662.2\n",
      "No. Observations:                 615   AIC:                             5328.\n",
      "Df Residuals:                     613   BIC:                             5337.\n",
      "Df Model:                           1                                         \n",
      "Covariance Type:            nonrobust                                         \n",
      "==============================================================================\n",
      "                 coef    std err          t      P>|t|      [0.025      0.975]\n",
      "------------------------------------------------------------------------------\n",
      "Intercept     32.2780      0.745     43.321      0.000      30.815      33.741\n",
      "park_acres  2.707e-06   1.01e-05      0.267      0.790   -1.72e-05    2.26e-05\n",
      "==============================================================================\n",
      "Omnibus:                       44.447   Durbin-Watson:                   0.820\n",
      "Prob(Omnibus):                  0.000   Jarque-Bera (JB):               49.426\n",
      "Skew:                           0.667   Prob(JB):                     1.85e-11\n",
      "Kurtosis:                       2.616   Cond. No.                     7.38e+04\n",
      "==============================================================================\n",
      "\n",
      "Notes:\n",
      "[1] Standard Errors assume that the covariance matrix of the errors is correctly specified.\n",
      "[2] The condition number is large, 7.38e+04. This might indicate that there are\n",
      "strong multicollinearity or other numerical problems.\n"
     ]
    }
   ],
   "source": [
    "# Perform linear regression on poverty_percent and park_acres\n",
    "outcome_1, predictors_1 = patsy.dmatrices('poverty_percent ~ park_acres', enviro_df)\n",
    "mod_1 = sm.OLS(outcome_1, predictors_1)\n",
    "res_1 = mod_1.fit()\n",
    "print(res_1.summary())"
   ]
  },
  {
   "cell_type": "markdown",
   "metadata": {},
   "source": [
    "Both the R-squared value and p-value are high so my model suggests that there is likely no relationship between park acreage and poverty percentage."
   ]
  },
  {
   "cell_type": "code",
   "execution_count": 22,
   "metadata": {},
   "outputs": [
    {
     "name": "stdout",
     "output_type": "stream",
     "text": [
      "                             OLS Regression Results                             \n",
      "================================================================================\n",
      "Dep. Variable:     unemployment_percent   R-squared:                       0.004\n",
      "Model:                              OLS   Adj. R-squared:                  0.002\n",
      "Method:                   Least Squares   F-statistic:                     2.357\n",
      "Date:                  Wed, 16 Dec 2020   Prob (F-statistic):              0.125\n",
      "Time:                          01:41:00   Log-Likelihood:                -1781.6\n",
      "No. Observations:                   615   AIC:                             3567.\n",
      "Df Residuals:                       613   BIC:                             3576.\n",
      "Df Model:                             1                                         \n",
      "Covariance Type:              nonrobust                                         \n",
      "==============================================================================\n",
      "                 coef    std err          t      P>|t|      [0.025      0.975]\n",
      "------------------------------------------------------------------------------\n",
      "Intercept      9.9018      0.178     55.642      0.000       9.552      10.251\n",
      "park_acres  3.721e-06   2.42e-06      1.535      0.125   -1.04e-06    8.48e-06\n",
      "==============================================================================\n",
      "Omnibus:                       49.058   Durbin-Watson:                   1.286\n",
      "Prob(Omnibus):                  0.000   Jarque-Bera (JB):               58.877\n",
      "Skew:                           0.717   Prob(JB):                     1.64e-13\n",
      "Kurtosis:                       3.488   Cond. No.                     7.38e+04\n",
      "==============================================================================\n",
      "\n",
      "Notes:\n",
      "[1] Standard Errors assume that the covariance matrix of the errors is correctly specified.\n",
      "[2] The condition number is large, 7.38e+04. This might indicate that there are\n",
      "strong multicollinearity or other numerical problems.\n"
     ]
    }
   ],
   "source": [
    "# Perform linear regression on unemployment_percent and park_acres\n",
    "outcome_2, predictors_2 = patsy.dmatrices('unemployment_percent ~ park_acres', enviro_df)\n",
    "mod_2 = sm.OLS(outcome_2, predictors_2)\n",
    "res_2 = mod_2.fit()\n",
    "print(res_2.summary())"
   ]
  },
  {
   "cell_type": "markdown",
   "metadata": {},
   "source": [
    "Both the R-squared value and p-value are high so this model tells us that a relationship between park acreage and unemployment percentage is highly unlikely.\n",
    "\n",
    "I can conclude that there is no relationship between any of the variables in this analysis."
   ]
  },
  {
   "cell_type": "markdown",
   "metadata": {},
   "source": [
    "# Ethics & Privacy"
   ]
  },
  {
   "cell_type": "markdown",
   "metadata": {},
   "source": [
    "The datasets were provided by OEHHA, the City of San Diego, and San Diego County for public use, so I have permission to use them for my analysis. The park data is licensed under the PDDL license which declares it as public domain. Since the data is public-facing without barriers, the agencies handling the data have presumably removed any personally identifiable information. For my analysis, I did not require or use any private information. \n",
    "\n",
    "As for data bias, the OEHHA data may be biased as it categorizes information based on census tracts which may or may not be arbitrarily decided on. The fact that some areas were excluded and had missing data may also be a source of bias in the dataset. I acknowledge that my analysis will be affected by this potential bias and I look into why these data are missing and how I will incorporate this into my analysis. The ethics of my project have to be discussed as I am generalizing the welfare of populations based on these boundaries. Some groups of people may be unfairly judged based on the fact that they are living within certain census tracts. Since my analysis does not use any personal or race information, there it is hard to discriminate or draw any conclusions to certain demographics based on my analysis alone."
   ]
  },
  {
   "cell_type": "markdown",
   "metadata": {},
   "source": [
    "# Conclusion & Discussion"
   ]
  },
  {
   "cell_type": "markdown",
   "metadata": {},
   "source": [
    "In this project, I set out to find the relationship between parkland and poverty rates as well as parkland and unemployment rates to judge how parks affect the economic welfare of populations. After conducting my analysis, I can conclude that in San Diego there is no relationship between parks and poverty as well as parks and unemployment rates. This disproved my hypothesis which was that there would be some relationship between these variables.\n",
    "\n",
    "I had to relate two datasets with one containing the socioeconomic data by census tract and the other containing the geometries of each park. I started by assigning a zip code to each park and computing the acreage of parkland in each zip code. I then assigned each census tract a zip code and used zip codes to assign the amount of parkland each census tract has access to. A problem I ran into while cleaning was that there were missing values for poverty rates and unemployment rates for certain census tracts. I ultimately decided to not include these in my analysis as most could be explained as being military installations and the remaining few were unlikely to skew the analysis. I proceeded to explore the data by plotting the variables on graphs to visualize any correlations they may have. This led to me not finding any correlations so I confirmed this by running a linear regression which also turned up the same results.\n",
    "\n",
    "This project brought insight into how parks affect and reflect the welfare of the people they serve. It can help lead the discussion about how to better improve the park system without unnecessarily building more parks. Hopefully, my analysis will better allocate city park resources to other sectors that will improve the quality of city parks and in turn positively affect the living standards of city residents. There are some limitations of my project which may have affected my conclusion. The first is that I could not include every census tract due to missing data. Most of these census tracts justified to not be included in the analysis but some I could not explain although these were few. Another limitation is that I assumed that people in census tracts are in the same vicinity of parks in the entire zip code they reside in rather than just the census tract. This may have affected the results as it increased the area that would be considered accessible. Another consideration is that the data is slightly outdated as the park data is from 2020 but the poverty and unemployment rate data is from 2010. I had to operate under the assumption that no new parks were built."
   ]
  }
 ],
 "metadata": {
  "kernelspec": {
   "display_name": "Python 3",
   "language": "python",
   "name": "python3"
  },
  "language_info": {
   "codemirror_mode": {
    "name": "ipython",
    "version": 3
   },
   "file_extension": ".py",
   "mimetype": "text/x-python",
   "name": "python",
   "nbconvert_exporter": "python",
   "pygments_lexer": "ipython3",
   "version": "3.8.3"
  }
 },
 "nbformat": 4,
 "nbformat_minor": 2
}
