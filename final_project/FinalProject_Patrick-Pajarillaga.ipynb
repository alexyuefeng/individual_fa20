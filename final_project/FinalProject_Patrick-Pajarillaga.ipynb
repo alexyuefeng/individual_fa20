{
 "cells": [
  {
   "cell_type": "markdown",
   "metadata": {},
   "source": [
    "# COGS 108 - Final Project "
   ]
  },
  {
   "cell_type": "markdown",
   "metadata": {},
   "source": [
    "# Overview"
   ]
  },
  {
   "cell_type": "markdown",
   "metadata": {},
   "source": [
    "Location and distance are very important factors in the choosing of a place to go.  When someone wants to go somewhere, we often check upon reviews to see if it worth their time.  This can be said for many locations, but the focus here is on Public Parks.  Since distance is a consideration on what park people choose to attend, I wanted test that assumption of distance being related to the park's review.  After an analysis of this topic, the data does not show much of a relationship between the locational distance of a park and its rating."
   ]
  },
  {
   "cell_type": "markdown",
   "metadata": {},
   "source": [
    "# Name & GitHub ID\n",
    "\n",
    "- Name: Patrick Pajarillaga\n",
    "- GitHub Username: Patrick-Pajarillaga\n",
    "- PID: A14580692"
   ]
  },
  {
   "cell_type": "markdown",
   "metadata": {},
   "source": [
    "# Research Question"
   ]
  },
  {
   "cell_type": "markdown",
   "metadata": {},
   "source": [
    "Is there a relationship between the distance of a park in San Diego County from the San Diego city center and how rated it is on Yelp?"
   ]
  },
  {
   "cell_type": "markdown",
   "metadata": {},
   "source": [
    "## Background and Prior Work"
   ]
  },
  {
   "cell_type": "markdown",
   "metadata": {},
   "source": [
    "San Diego county itself encoupasses an area of 4,526 mi², starting from the US-Mexico border to the South and the city of San Clemente to the North. San Diego is considered to be an area that takes pride in its parks and park facilities.  With well known institutions such as Balboa Park and Kate Sessions, there are an endless variety of them within the county.  What does vary is how highly regarded some of these parks are when noted on different review sites.\n",
    "\n",
    "There are many review sites that provide reviews for different parks based in San Diego county.  These often include: Yelp, Trip Advisor, and Google Reviews.  For the purposes of this analysis, Yelp will be used.  Yelp reviews contain a system that is based on a 0 to 5 scale (5 Star System).  The higher the rating, the more liked and well recieved the park/location is based on a multitude of users within the app.\n",
    "\n",
    "One similar study done is based on an article written by Matt Murphy called, \"How Does Location Influence Beer Ratings?\".  In this article he found that the location of where the brew was related to what review a person gave on that specific beer.  While this study does not have park and recreation data, it does do a relationship analysis between a rating and a location, which is similar to the study being done here.\n",
    "\n",
    "References:\n",
    "- https://beergraphs.com/bg/11-how-does-location-influence-beer-ratings/\n",
    "- https://www.sandiego.gov/parks-and-recreation\n",
    "- https://www.sandiegocounty.gov/economicroundtable/docs/ertfact2014.pdf\n",
    "- https://www.yelp.com/"
   ]
  },
  {
   "cell_type": "markdown",
   "metadata": {},
   "source": [
    "# Hypothesis\n"
   ]
  },
  {
   "cell_type": "markdown",
   "metadata": {},
   "source": [
    "I believe that there is no relationship between the distance of a park compared to its rating on Yelp. Traveling \n",
    "some distance would not adversely affect how one would think about a park; people will judge it based on other characteristics \n",
    "such as its cleanliness, and or its appearance.  In terms of null hypothesis and alternative hypothesis; the H0: There is no relationship between distance and rating (slope = 0), Ha: There is a relationship between distance and rating. (slope != 0)"
   ]
  },
  {
   "cell_type": "markdown",
   "metadata": {},
   "source": [
    "# Dataset(s)"
   ]
  },
  {
   "cell_type": "markdown",
   "metadata": {},
   "source": [
    "- Dataset Name: San Diego Parks Yelp Data\n",
    "- Link to Dataset: https://www.yelp.com/\n",
    "- Note: Hand Curated Dataset using Yelp API created by Prof Ellis.\n",
    "- Num of Observations: 833\n",
    "- Num of Columns: 10\n",
    "\n",
    "This is the main dataset I will be using to answer the above research question.  The specific features to be used in this dataset would be the ratings, the longitude, and the latitude columns to perform my linear regression analysis.\n",
    "\n",
    "*Not Really a Dataset, but a DataPoint Used\n",
    "- Datapoint Name: San Diego, CA, USA Geographic Information\n",
    "- Link to DataPoint: https://www.latlong.net/place/san-diego-ca-usa-7073.html\n",
    "\n",
    "This is not to be considered as a dataset, but regardless it is data nonetheless.  This point is the center of San Diego used to calculate the distance between the parks and San Diego center."
   ]
  },
  {
   "cell_type": "markdown",
   "metadata": {},
   "source": [
    "# Setup"
   ]
  },
  {
   "cell_type": "code",
   "execution_count": 24,
   "metadata": {},
   "outputs": [],
   "source": [
    "import pandas as pd\n",
    "import geopandas as gpd\n",
    "import matplotlib.pyplot as plt\n",
    "from shapely.geometry import Point, Polygon\n",
    "from patsy import dmatrices\n",
    "import statsmodels.api as sm\n",
    "import math\n",
    "import numpy as np"
   ]
  },
  {
   "cell_type": "markdown",
   "metadata": {},
   "source": [
    "# Data Cleaning"
   ]
  },
  {
   "cell_type": "markdown",
   "metadata": {},
   "source": [
    "The data itself does not need too much cleaning, all it needs are conversions so that distance calculations can be made.  The longitudinal and latitudinal values can be made into Point Objects for easier distance calculations to SD center."
   ]
  },
  {
   "cell_type": "code",
   "execution_count": 2,
   "metadata": {},
   "outputs": [
    {
     "data": {
      "text/html": [
       "<div>\n",
       "<style scoped>\n",
       "    .dataframe tbody tr th:only-of-type {\n",
       "        vertical-align: middle;\n",
       "    }\n",
       "\n",
       "    .dataframe tbody tr th {\n",
       "        vertical-align: top;\n",
       "    }\n",
       "\n",
       "    .dataframe thead th {\n",
       "        text-align: right;\n",
       "    }\n",
       "</style>\n",
       "<table border=\"1\" class=\"dataframe\">\n",
       "  <thead>\n",
       "    <tr style=\"text-align: right;\">\n",
       "      <th></th>\n",
       "      <th>name</th>\n",
       "      <th>address</th>\n",
       "      <th>phone</th>\n",
       "      <th>id</th>\n",
       "      <th>url</th>\n",
       "      <th>rating</th>\n",
       "      <th>review_count</th>\n",
       "      <th>longitude</th>\n",
       "      <th>latitude</th>\n",
       "      <th>is_closed</th>\n",
       "    </tr>\n",
       "  </thead>\n",
       "  <tbody>\n",
       "    <tr>\n",
       "      <th>0</th>\n",
       "      <td>Balboa Park</td>\n",
       "      <td>1549 El Prado San Diego, CA 92101</td>\n",
       "      <td>1.619239e+10</td>\n",
       "      <td>9M_FW_-Ipx93I36w-_ykBg</td>\n",
       "      <td>https://www.yelp.com/biz/balboa-park-san-diego...</td>\n",
       "      <td>5.0</td>\n",
       "      <td>2105</td>\n",
       "      <td>-117.153150</td>\n",
       "      <td>32.734502</td>\n",
       "      <td>False</td>\n",
       "    </tr>\n",
       "    <tr>\n",
       "      <th>1</th>\n",
       "      <td>Civita Park</td>\n",
       "      <td>7960 Civita Blvd San Diego, CA 92108</td>\n",
       "      <td>NaN</td>\n",
       "      <td>3AEHjqNrTmggA6G9VdhQfg</td>\n",
       "      <td>https://www.yelp.com/biz/civita-park-san-diego...</td>\n",
       "      <td>4.5</td>\n",
       "      <td>46</td>\n",
       "      <td>-117.147278</td>\n",
       "      <td>32.778315</td>\n",
       "      <td>False</td>\n",
       "    </tr>\n",
       "    <tr>\n",
       "      <th>2</th>\n",
       "      <td>Waterfront Park</td>\n",
       "      <td>1600 Pacific Hwy San Diego, CA 92101</td>\n",
       "      <td>1.619233e+10</td>\n",
       "      <td>3unbJeYrn1RmInZGmjp80g</td>\n",
       "      <td>https://www.yelp.com/biz/waterfront-park-san-d...</td>\n",
       "      <td>4.5</td>\n",
       "      <td>242</td>\n",
       "      <td>-117.172479</td>\n",
       "      <td>32.721952</td>\n",
       "      <td>False</td>\n",
       "    </tr>\n",
       "    <tr>\n",
       "      <th>3</th>\n",
       "      <td>Trolley Barn Park</td>\n",
       "      <td>Adams Ave And Florida St San Diego, CA 92116</td>\n",
       "      <td>NaN</td>\n",
       "      <td>PvHxIYrmaiFKdWUDTMDzcg</td>\n",
       "      <td>https://www.yelp.com/biz/trolley-barn-park-san...</td>\n",
       "      <td>4.5</td>\n",
       "      <td>102</td>\n",
       "      <td>-117.143789</td>\n",
       "      <td>32.762463</td>\n",
       "      <td>False</td>\n",
       "    </tr>\n",
       "    <tr>\n",
       "      <th>4</th>\n",
       "      <td>Bay View Park</td>\n",
       "      <td>413 1st St Coronado, CA 92118</td>\n",
       "      <td>NaN</td>\n",
       "      <td>6IF4VB9-fkv_F-LBvG8ppQ</td>\n",
       "      <td>https://www.yelp.com/biz/bay-view-park-coronad...</td>\n",
       "      <td>5.0</td>\n",
       "      <td>42</td>\n",
       "      <td>-117.178967</td>\n",
       "      <td>32.701785</td>\n",
       "      <td>False</td>\n",
       "    </tr>\n",
       "  </tbody>\n",
       "</table>\n",
       "</div>"
      ],
      "text/plain": [
       "                name                                       address  \\\n",
       "0        Balboa Park             1549 El Prado San Diego, CA 92101   \n",
       "1        Civita Park          7960 Civita Blvd San Diego, CA 92108   \n",
       "2    Waterfront Park          1600 Pacific Hwy San Diego, CA 92101   \n",
       "3  Trolley Barn Park  Adams Ave And Florida St San Diego, CA 92116   \n",
       "4      Bay View Park                 413 1st St Coronado, CA 92118   \n",
       "\n",
       "          phone                      id  \\\n",
       "0  1.619239e+10  9M_FW_-Ipx93I36w-_ykBg   \n",
       "1           NaN  3AEHjqNrTmggA6G9VdhQfg   \n",
       "2  1.619233e+10  3unbJeYrn1RmInZGmjp80g   \n",
       "3           NaN  PvHxIYrmaiFKdWUDTMDzcg   \n",
       "4           NaN  6IF4VB9-fkv_F-LBvG8ppQ   \n",
       "\n",
       "                                                 url  rating  review_count  \\\n",
       "0  https://www.yelp.com/biz/balboa-park-san-diego...     5.0          2105   \n",
       "1  https://www.yelp.com/biz/civita-park-san-diego...     4.5            46   \n",
       "2  https://www.yelp.com/biz/waterfront-park-san-d...     4.5           242   \n",
       "3  https://www.yelp.com/biz/trolley-barn-park-san...     4.5           102   \n",
       "4  https://www.yelp.com/biz/bay-view-park-coronad...     5.0            42   \n",
       "\n",
       "    longitude   latitude  is_closed  \n",
       "0 -117.153150  32.734502      False  \n",
       "1 -117.147278  32.778315      False  \n",
       "2 -117.172479  32.721952      False  \n",
       "3 -117.143789  32.762463      False  \n",
       "4 -117.178967  32.701785      False  "
      ]
     },
     "execution_count": 2,
     "metadata": {},
     "output_type": "execute_result"
    }
   ],
   "source": [
    "#Load in the Dataset\n",
    "yelp = pd.read_csv(\"data/yelp_SD_parks.csv\")\n",
    "yelp.head()"
   ]
  },
  {
   "cell_type": "code",
   "execution_count": 3,
   "metadata": {},
   "outputs": [
    {
     "data": {
      "text/html": [
       "<div>\n",
       "<style scoped>\n",
       "    .dataframe tbody tr th:only-of-type {\n",
       "        vertical-align: middle;\n",
       "    }\n",
       "\n",
       "    .dataframe tbody tr th {\n",
       "        vertical-align: top;\n",
       "    }\n",
       "\n",
       "    .dataframe thead th {\n",
       "        text-align: right;\n",
       "    }\n",
       "</style>\n",
       "<table border=\"1\" class=\"dataframe\">\n",
       "  <thead>\n",
       "    <tr style=\"text-align: right;\">\n",
       "      <th></th>\n",
       "      <th>name</th>\n",
       "      <th>address</th>\n",
       "      <th>phone</th>\n",
       "      <th>id</th>\n",
       "      <th>url</th>\n",
       "      <th>rating</th>\n",
       "      <th>review_count</th>\n",
       "      <th>longitude</th>\n",
       "      <th>latitude</th>\n",
       "      <th>is_closed</th>\n",
       "    </tr>\n",
       "  </thead>\n",
       "  <tbody>\n",
       "    <tr>\n",
       "      <th>0</th>\n",
       "      <td>False</td>\n",
       "      <td>False</td>\n",
       "      <td>False</td>\n",
       "      <td>False</td>\n",
       "      <td>False</td>\n",
       "      <td>False</td>\n",
       "      <td>False</td>\n",
       "      <td>False</td>\n",
       "      <td>False</td>\n",
       "      <td>False</td>\n",
       "    </tr>\n",
       "    <tr>\n",
       "      <th>1</th>\n",
       "      <td>False</td>\n",
       "      <td>False</td>\n",
       "      <td>True</td>\n",
       "      <td>False</td>\n",
       "      <td>False</td>\n",
       "      <td>False</td>\n",
       "      <td>False</td>\n",
       "      <td>False</td>\n",
       "      <td>False</td>\n",
       "      <td>False</td>\n",
       "    </tr>\n",
       "    <tr>\n",
       "      <th>2</th>\n",
       "      <td>False</td>\n",
       "      <td>False</td>\n",
       "      <td>False</td>\n",
       "      <td>False</td>\n",
       "      <td>False</td>\n",
       "      <td>False</td>\n",
       "      <td>False</td>\n",
       "      <td>False</td>\n",
       "      <td>False</td>\n",
       "      <td>False</td>\n",
       "    </tr>\n",
       "    <tr>\n",
       "      <th>3</th>\n",
       "      <td>False</td>\n",
       "      <td>False</td>\n",
       "      <td>True</td>\n",
       "      <td>False</td>\n",
       "      <td>False</td>\n",
       "      <td>False</td>\n",
       "      <td>False</td>\n",
       "      <td>False</td>\n",
       "      <td>False</td>\n",
       "      <td>False</td>\n",
       "    </tr>\n",
       "    <tr>\n",
       "      <th>4</th>\n",
       "      <td>False</td>\n",
       "      <td>False</td>\n",
       "      <td>True</td>\n",
       "      <td>False</td>\n",
       "      <td>False</td>\n",
       "      <td>False</td>\n",
       "      <td>False</td>\n",
       "      <td>False</td>\n",
       "      <td>False</td>\n",
       "      <td>False</td>\n",
       "    </tr>\n",
       "    <tr>\n",
       "      <th>...</th>\n",
       "      <td>...</td>\n",
       "      <td>...</td>\n",
       "      <td>...</td>\n",
       "      <td>...</td>\n",
       "      <td>...</td>\n",
       "      <td>...</td>\n",
       "      <td>...</td>\n",
       "      <td>...</td>\n",
       "      <td>...</td>\n",
       "      <td>...</td>\n",
       "    </tr>\n",
       "    <tr>\n",
       "      <th>828</th>\n",
       "      <td>False</td>\n",
       "      <td>False</td>\n",
       "      <td>False</td>\n",
       "      <td>False</td>\n",
       "      <td>False</td>\n",
       "      <td>False</td>\n",
       "      <td>False</td>\n",
       "      <td>False</td>\n",
       "      <td>False</td>\n",
       "      <td>False</td>\n",
       "    </tr>\n",
       "    <tr>\n",
       "      <th>829</th>\n",
       "      <td>False</td>\n",
       "      <td>False</td>\n",
       "      <td>False</td>\n",
       "      <td>False</td>\n",
       "      <td>False</td>\n",
       "      <td>False</td>\n",
       "      <td>False</td>\n",
       "      <td>False</td>\n",
       "      <td>False</td>\n",
       "      <td>False</td>\n",
       "    </tr>\n",
       "    <tr>\n",
       "      <th>830</th>\n",
       "      <td>False</td>\n",
       "      <td>False</td>\n",
       "      <td>False</td>\n",
       "      <td>False</td>\n",
       "      <td>False</td>\n",
       "      <td>False</td>\n",
       "      <td>False</td>\n",
       "      <td>False</td>\n",
       "      <td>False</td>\n",
       "      <td>False</td>\n",
       "    </tr>\n",
       "    <tr>\n",
       "      <th>831</th>\n",
       "      <td>False</td>\n",
       "      <td>False</td>\n",
       "      <td>False</td>\n",
       "      <td>False</td>\n",
       "      <td>False</td>\n",
       "      <td>False</td>\n",
       "      <td>False</td>\n",
       "      <td>False</td>\n",
       "      <td>False</td>\n",
       "      <td>False</td>\n",
       "    </tr>\n",
       "    <tr>\n",
       "      <th>832</th>\n",
       "      <td>False</td>\n",
       "      <td>False</td>\n",
       "      <td>False</td>\n",
       "      <td>False</td>\n",
       "      <td>False</td>\n",
       "      <td>False</td>\n",
       "      <td>False</td>\n",
       "      <td>False</td>\n",
       "      <td>False</td>\n",
       "      <td>False</td>\n",
       "    </tr>\n",
       "  </tbody>\n",
       "</table>\n",
       "<p>833 rows × 10 columns</p>\n",
       "</div>"
      ],
      "text/plain": [
       "      name  address  phone     id    url  rating  review_count  longitude  \\\n",
       "0    False    False  False  False  False   False         False      False   \n",
       "1    False    False   True  False  False   False         False      False   \n",
       "2    False    False  False  False  False   False         False      False   \n",
       "3    False    False   True  False  False   False         False      False   \n",
       "4    False    False   True  False  False   False         False      False   \n",
       "..     ...      ...    ...    ...    ...     ...           ...        ...   \n",
       "828  False    False  False  False  False   False         False      False   \n",
       "829  False    False  False  False  False   False         False      False   \n",
       "830  False    False  False  False  False   False         False      False   \n",
       "831  False    False  False  False  False   False         False      False   \n",
       "832  False    False  False  False  False   False         False      False   \n",
       "\n",
       "     latitude  is_closed  \n",
       "0       False      False  \n",
       "1       False      False  \n",
       "2       False      False  \n",
       "3       False      False  \n",
       "4       False      False  \n",
       "..        ...        ...  \n",
       "828     False      False  \n",
       "829     False      False  \n",
       "830     False      False  \n",
       "831     False      False  \n",
       "832     False      False  \n",
       "\n",
       "[833 rows x 10 columns]"
      ]
     },
     "execution_count": 3,
     "metadata": {},
     "output_type": "execute_result"
    }
   ],
   "source": [
    "#Check for any empty values in dataset\n",
    "yelp.isna()"
   ]
  },
  {
   "cell_type": "code",
   "execution_count": 4,
   "metadata": {},
   "outputs": [
    {
     "data": {
      "text/html": [
       "<div>\n",
       "<style scoped>\n",
       "    .dataframe tbody tr th:only-of-type {\n",
       "        vertical-align: middle;\n",
       "    }\n",
       "\n",
       "    .dataframe tbody tr th {\n",
       "        vertical-align: top;\n",
       "    }\n",
       "\n",
       "    .dataframe thead th {\n",
       "        text-align: right;\n",
       "    }\n",
       "</style>\n",
       "<table border=\"1\" class=\"dataframe\">\n",
       "  <thead>\n",
       "    <tr style=\"text-align: right;\">\n",
       "      <th></th>\n",
       "      <th>name</th>\n",
       "      <th>address</th>\n",
       "      <th>phone</th>\n",
       "      <th>id</th>\n",
       "      <th>url</th>\n",
       "      <th>rating</th>\n",
       "      <th>review_count</th>\n",
       "      <th>longitude</th>\n",
       "      <th>latitude</th>\n",
       "      <th>is_closed</th>\n",
       "      <th>geometry</th>\n",
       "    </tr>\n",
       "  </thead>\n",
       "  <tbody>\n",
       "    <tr>\n",
       "      <th>0</th>\n",
       "      <td>Balboa Park</td>\n",
       "      <td>1549 El Prado San Diego, CA 92101</td>\n",
       "      <td>1.619239e+10</td>\n",
       "      <td>9M_FW_-Ipx93I36w-_ykBg</td>\n",
       "      <td>https://www.yelp.com/biz/balboa-park-san-diego...</td>\n",
       "      <td>5.0</td>\n",
       "      <td>2105</td>\n",
       "      <td>-117.153150</td>\n",
       "      <td>32.734502</td>\n",
       "      <td>False</td>\n",
       "      <td>POINT (-117.15315 32.73450)</td>\n",
       "    </tr>\n",
       "    <tr>\n",
       "      <th>1</th>\n",
       "      <td>Civita Park</td>\n",
       "      <td>7960 Civita Blvd San Diego, CA 92108</td>\n",
       "      <td>NaN</td>\n",
       "      <td>3AEHjqNrTmggA6G9VdhQfg</td>\n",
       "      <td>https://www.yelp.com/biz/civita-park-san-diego...</td>\n",
       "      <td>4.5</td>\n",
       "      <td>46</td>\n",
       "      <td>-117.147278</td>\n",
       "      <td>32.778315</td>\n",
       "      <td>False</td>\n",
       "      <td>POINT (-117.14728 32.77831)</td>\n",
       "    </tr>\n",
       "    <tr>\n",
       "      <th>2</th>\n",
       "      <td>Waterfront Park</td>\n",
       "      <td>1600 Pacific Hwy San Diego, CA 92101</td>\n",
       "      <td>1.619233e+10</td>\n",
       "      <td>3unbJeYrn1RmInZGmjp80g</td>\n",
       "      <td>https://www.yelp.com/biz/waterfront-park-san-d...</td>\n",
       "      <td>4.5</td>\n",
       "      <td>242</td>\n",
       "      <td>-117.172479</td>\n",
       "      <td>32.721952</td>\n",
       "      <td>False</td>\n",
       "      <td>POINT (-117.17248 32.72195)</td>\n",
       "    </tr>\n",
       "    <tr>\n",
       "      <th>3</th>\n",
       "      <td>Trolley Barn Park</td>\n",
       "      <td>Adams Ave And Florida St San Diego, CA 92116</td>\n",
       "      <td>NaN</td>\n",
       "      <td>PvHxIYrmaiFKdWUDTMDzcg</td>\n",
       "      <td>https://www.yelp.com/biz/trolley-barn-park-san...</td>\n",
       "      <td>4.5</td>\n",
       "      <td>102</td>\n",
       "      <td>-117.143789</td>\n",
       "      <td>32.762463</td>\n",
       "      <td>False</td>\n",
       "      <td>POINT (-117.14379 32.76246)</td>\n",
       "    </tr>\n",
       "    <tr>\n",
       "      <th>4</th>\n",
       "      <td>Bay View Park</td>\n",
       "      <td>413 1st St Coronado, CA 92118</td>\n",
       "      <td>NaN</td>\n",
       "      <td>6IF4VB9-fkv_F-LBvG8ppQ</td>\n",
       "      <td>https://www.yelp.com/biz/bay-view-park-coronad...</td>\n",
       "      <td>5.0</td>\n",
       "      <td>42</td>\n",
       "      <td>-117.178967</td>\n",
       "      <td>32.701785</td>\n",
       "      <td>False</td>\n",
       "      <td>POINT (-117.17897 32.70179)</td>\n",
       "    </tr>\n",
       "  </tbody>\n",
       "</table>\n",
       "</div>"
      ],
      "text/plain": [
       "                name                                       address  \\\n",
       "0        Balboa Park             1549 El Prado San Diego, CA 92101   \n",
       "1        Civita Park          7960 Civita Blvd San Diego, CA 92108   \n",
       "2    Waterfront Park          1600 Pacific Hwy San Diego, CA 92101   \n",
       "3  Trolley Barn Park  Adams Ave And Florida St San Diego, CA 92116   \n",
       "4      Bay View Park                 413 1st St Coronado, CA 92118   \n",
       "\n",
       "          phone                      id  \\\n",
       "0  1.619239e+10  9M_FW_-Ipx93I36w-_ykBg   \n",
       "1           NaN  3AEHjqNrTmggA6G9VdhQfg   \n",
       "2  1.619233e+10  3unbJeYrn1RmInZGmjp80g   \n",
       "3           NaN  PvHxIYrmaiFKdWUDTMDzcg   \n",
       "4           NaN  6IF4VB9-fkv_F-LBvG8ppQ   \n",
       "\n",
       "                                                 url  rating  review_count  \\\n",
       "0  https://www.yelp.com/biz/balboa-park-san-diego...     5.0          2105   \n",
       "1  https://www.yelp.com/biz/civita-park-san-diego...     4.5            46   \n",
       "2  https://www.yelp.com/biz/waterfront-park-san-d...     4.5           242   \n",
       "3  https://www.yelp.com/biz/trolley-barn-park-san...     4.5           102   \n",
       "4  https://www.yelp.com/biz/bay-view-park-coronad...     5.0            42   \n",
       "\n",
       "    longitude   latitude  is_closed                     geometry  \n",
       "0 -117.153150  32.734502      False  POINT (-117.15315 32.73450)  \n",
       "1 -117.147278  32.778315      False  POINT (-117.14728 32.77831)  \n",
       "2 -117.172479  32.721952      False  POINT (-117.17248 32.72195)  \n",
       "3 -117.143789  32.762463      False  POINT (-117.14379 32.76246)  \n",
       "4 -117.178967  32.701785      False  POINT (-117.17897 32.70179)  "
      ]
     },
     "execution_count": 4,
     "metadata": {},
     "output_type": "execute_result"
    }
   ],
   "source": [
    "#Covnert Coordinates into Points so that distance can be calculated easier\n",
    "crs = {'init': 'espg:4326'}\n",
    "geometry = [Point(xy) for xy in zip(yelp['longitude'], yelp['latitude'])]\n",
    "yelp_geo = gpd.GeoDataFrame(yelp, geometry=geometry, crs=\"EPSG:4326\")\n",
    "yelp_geo.head()"
   ]
  },
  {
   "cell_type": "code",
   "execution_count": 5,
   "metadata": {},
   "outputs": [
    {
     "data": {
      "text/html": [
       "<div>\n",
       "<style scoped>\n",
       "    .dataframe tbody tr th:only-of-type {\n",
       "        vertical-align: middle;\n",
       "    }\n",
       "\n",
       "    .dataframe tbody tr th {\n",
       "        vertical-align: top;\n",
       "    }\n",
       "\n",
       "    .dataframe thead th {\n",
       "        text-align: right;\n",
       "    }\n",
       "</style>\n",
       "<table border=\"1\" class=\"dataframe\">\n",
       "  <thead>\n",
       "    <tr style=\"text-align: right;\">\n",
       "      <th></th>\n",
       "      <th>name</th>\n",
       "      <th>address</th>\n",
       "      <th>phone</th>\n",
       "      <th>id</th>\n",
       "      <th>url</th>\n",
       "      <th>rating</th>\n",
       "      <th>review_count</th>\n",
       "      <th>longitude</th>\n",
       "      <th>latitude</th>\n",
       "      <th>is_closed</th>\n",
       "      <th>geometry</th>\n",
       "      <th>distance</th>\n",
       "    </tr>\n",
       "  </thead>\n",
       "  <tbody>\n",
       "    <tr>\n",
       "      <th>0</th>\n",
       "      <td>Balboa Park</td>\n",
       "      <td>1549 El Prado San Diego, CA 92101</td>\n",
       "      <td>1.619239e+10</td>\n",
       "      <td>9M_FW_-Ipx93I36w-_ykBg</td>\n",
       "      <td>https://www.yelp.com/biz/balboa-park-san-diego...</td>\n",
       "      <td>5.0</td>\n",
       "      <td>2105</td>\n",
       "      <td>-117.153150</td>\n",
       "      <td>32.734502</td>\n",
       "      <td>False</td>\n",
       "      <td>POINT (-117.15315 32.73450)</td>\n",
       "      <td>0.020375</td>\n",
       "    </tr>\n",
       "    <tr>\n",
       "      <th>1</th>\n",
       "      <td>Civita Park</td>\n",
       "      <td>7960 Civita Blvd San Diego, CA 92108</td>\n",
       "      <td>NaN</td>\n",
       "      <td>3AEHjqNrTmggA6G9VdhQfg</td>\n",
       "      <td>https://www.yelp.com/biz/civita-park-san-diego...</td>\n",
       "      <td>4.5</td>\n",
       "      <td>46</td>\n",
       "      <td>-117.147278</td>\n",
       "      <td>32.778315</td>\n",
       "      <td>False</td>\n",
       "      <td>POINT (-117.14728 32.77831)</td>\n",
       "      <td>0.064084</td>\n",
       "    </tr>\n",
       "    <tr>\n",
       "      <th>2</th>\n",
       "      <td>Waterfront Park</td>\n",
       "      <td>1600 Pacific Hwy San Diego, CA 92101</td>\n",
       "      <td>1.619233e+10</td>\n",
       "      <td>3unbJeYrn1RmInZGmjp80g</td>\n",
       "      <td>https://www.yelp.com/biz/waterfront-park-san-d...</td>\n",
       "      <td>4.5</td>\n",
       "      <td>242</td>\n",
       "      <td>-117.172479</td>\n",
       "      <td>32.721952</td>\n",
       "      <td>False</td>\n",
       "      <td>POINT (-117.17248 32.72195)</td>\n",
       "      <td>0.012978</td>\n",
       "    </tr>\n",
       "    <tr>\n",
       "      <th>3</th>\n",
       "      <td>Trolley Barn Park</td>\n",
       "      <td>Adams Ave And Florida St San Diego, CA 92116</td>\n",
       "      <td>NaN</td>\n",
       "      <td>PvHxIYrmaiFKdWUDTMDzcg</td>\n",
       "      <td>https://www.yelp.com/biz/trolley-barn-park-san...</td>\n",
       "      <td>4.5</td>\n",
       "      <td>102</td>\n",
       "      <td>-117.143789</td>\n",
       "      <td>32.762463</td>\n",
       "      <td>False</td>\n",
       "      <td>POINT (-117.14379 32.76246)</td>\n",
       "      <td>0.049826</td>\n",
       "    </tr>\n",
       "    <tr>\n",
       "      <th>4</th>\n",
       "      <td>Bay View Park</td>\n",
       "      <td>413 1st St Coronado, CA 92118</td>\n",
       "      <td>NaN</td>\n",
       "      <td>6IF4VB9-fkv_F-LBvG8ppQ</td>\n",
       "      <td>https://www.yelp.com/biz/bay-view-park-coronad...</td>\n",
       "      <td>5.0</td>\n",
       "      <td>42</td>\n",
       "      <td>-117.178967</td>\n",
       "      <td>32.701785</td>\n",
       "      <td>False</td>\n",
       "      <td>POINT (-117.17897 32.70179)</td>\n",
       "      <td>0.022679</td>\n",
       "    </tr>\n",
       "  </tbody>\n",
       "</table>\n",
       "</div>"
      ],
      "text/plain": [
       "                name                                       address  \\\n",
       "0        Balboa Park             1549 El Prado San Diego, CA 92101   \n",
       "1        Civita Park          7960 Civita Blvd San Diego, CA 92108   \n",
       "2    Waterfront Park          1600 Pacific Hwy San Diego, CA 92101   \n",
       "3  Trolley Barn Park  Adams Ave And Florida St San Diego, CA 92116   \n",
       "4      Bay View Park                 413 1st St Coronado, CA 92118   \n",
       "\n",
       "          phone                      id  \\\n",
       "0  1.619239e+10  9M_FW_-Ipx93I36w-_ykBg   \n",
       "1           NaN  3AEHjqNrTmggA6G9VdhQfg   \n",
       "2  1.619233e+10  3unbJeYrn1RmInZGmjp80g   \n",
       "3           NaN  PvHxIYrmaiFKdWUDTMDzcg   \n",
       "4           NaN  6IF4VB9-fkv_F-LBvG8ppQ   \n",
       "\n",
       "                                                 url  rating  review_count  \\\n",
       "0  https://www.yelp.com/biz/balboa-park-san-diego...     5.0          2105   \n",
       "1  https://www.yelp.com/biz/civita-park-san-diego...     4.5            46   \n",
       "2  https://www.yelp.com/biz/waterfront-park-san-d...     4.5           242   \n",
       "3  https://www.yelp.com/biz/trolley-barn-park-san...     4.5           102   \n",
       "4  https://www.yelp.com/biz/bay-view-park-coronad...     5.0            42   \n",
       "\n",
       "    longitude   latitude  is_closed                     geometry  distance  \n",
       "0 -117.153150  32.734502      False  POINT (-117.15315 32.73450)  0.020375  \n",
       "1 -117.147278  32.778315      False  POINT (-117.14728 32.77831)  0.064084  \n",
       "2 -117.172479  32.721952      False  POINT (-117.17248 32.72195)  0.012978  \n",
       "3 -117.143789  32.762463      False  POINT (-117.14379 32.76246)  0.049826  \n",
       "4 -117.178967  32.701785      False  POINT (-117.17897 32.70179)  0.022679  "
      ]
     },
     "execution_count": 5,
     "metadata": {},
     "output_type": "execute_result"
    }
   ],
   "source": [
    "#Crate a Point Object that holds Center of SD\n",
    "center_SD = Point(-117.161087, 32.715736)\n",
    "\n",
    "#Helper Function to Calculate distance from Center to Park\n",
    "def distance_to_center(point):\n",
    "    return center_SD.distance(point)\n",
    "\n",
    "#Calculate the distance for all the parks in dataset\n",
    "yelp_geo['distance'] = yelp_geo['geometry'].apply(distance_to_center)\n",
    "yelp_geo.head()"
   ]
  },
  {
   "cell_type": "markdown",
   "metadata": {},
   "source": [
    "# Data Analysis & Results"
   ]
  },
  {
   "cell_type": "markdown",
   "metadata": {},
   "source": [
    "First we check the distributions of distance and reviews, and remove any outliers"
   ]
  },
  {
   "cell_type": "code",
   "execution_count": 34,
   "metadata": {},
   "outputs": [
    {
     "data": {
      "text/plain": [
       "Text(0, 0.5, 'Frequency')"
      ]
     },
     "execution_count": 34,
     "metadata": {},
     "output_type": "execute_result"
    },
    {
     "data": {
      "image/png": "[encoded data removed]",
      "text/plain": [
       "<Figure size 432x288 with 1 Axes>"
      ]
     },
     "metadata": {
      "needs_background": "light"
     },
     "output_type": "display_data"
    }
   ],
   "source": [
    "#Remove any serious outliers on the data\n",
    "yelp_geo = yelp_geo[yelp_geo[\"distance\"] < 1000]\n",
    "\n",
    "#dist for distance\n",
    "plt.hist(x=yelp_geo[\"distance\"])\n",
    "plt.title(\"Distribution of Distance\")\n",
    "plt.xlabel('Distance (Degree Distance)')\n",
    "plt.ylabel('Frequency')"
   ]
  },
  {
   "cell_type": "markdown",
   "metadata": {},
   "source": [
    "The distribution of distance seems to be highly skewed to the right, so we apply a log transformation to make the distribution more normally distributed"
   ]
  },
  {
   "cell_type": "code",
   "execution_count": 33,
   "metadata": {},
   "outputs": [
    {
     "data": {
      "text/plain": [
       "Text(0, 0.5, 'Frequency')"
      ]
     },
     "execution_count": 33,
     "metadata": {},
     "output_type": "execute_result"
    },
    {
     "data": {
      "image/png": "[encoded data removed]",
      "text/plain": [
       "<Figure size 432x288 with 1 Axes>"
      ]
     },
     "metadata": {
      "needs_background": "light"
     },
     "output_type": "display_data"
    }
   ],
   "source": [
    "#Apply log transform to get an almost normal distribution\n",
    "yelp_geo[\"distance_log\"] = yelp_geo[\"distance\"].apply(math.log10)\n",
    "plt.hist(x=yelp_geo[\"distance_log\"])\n",
    "plt.title(\"Distribution of Log Distance\")\n",
    "plt.xlabel('Log Distance')\n",
    "plt.ylabel('Frequency')"
   ]
  },
  {
   "cell_type": "code",
   "execution_count": 32,
   "metadata": {},
   "outputs": [
    {
     "data": {
      "text/plain": [
       "Text(0, 0.5, 'Frequency')"
      ]
     },
     "execution_count": 32,
     "metadata": {},
     "output_type": "execute_result"
    },
    {
     "data": {
      "image/png": "[encoded data removed]",
      "text/plain": [
       "<Figure size 432x288 with 1 Axes>"
      ]
     },
     "metadata": {
      "needs_background": "light"
     },
     "output_type": "display_data"
    }
   ],
   "source": [
    "plt.hist(x=yelp_geo[\"rating\"])\n",
    "plt.title(\"Distribution of Ratings\")\n",
    "plt.xlabel('Ratings')\n",
    "plt.ylabel('Frequency')"
   ]
  },
  {
   "cell_type": "markdown",
   "metadata": {},
   "source": [
    "Although there is a left skew, we can maintain the ratings as they are since it is not as skewwed as distance."
   ]
  },
  {
   "cell_type": "code",
   "execution_count": 20,
   "metadata": {},
   "outputs": [
    {
     "data": {
      "text/plain": [
       "Text(450.78343014768444, 0.5, 'Latitude')"
      ]
     },
     "execution_count": 20,
     "metadata": {},
     "output_type": "execute_result"
    },
    {
     "data": {
      "image/png": "[encoded data removed]",
      "text/plain": [
       "<Figure size 1440x720 with 2 Axes>"
      ]
     },
     "metadata": {
      "needs_background": "light"
     },
     "output_type": "display_data"
    }
   ],
   "source": [
    "fig, ax = plt.subplots(figsize=(20, 10))\n",
    "plt.title(\"Distance of Park to San Diego Center\")\n",
    "yelp_geo.plot(ax=ax,column='distance', legend=True)\n",
    "plt.plot(-117.161087, 32.715736, color='red', marker='o')\n",
    "ax.set_xlabel('Longitude')\n",
    "ax.set_ylabel('Latitude')"
   ]
  },
  {
   "cell_type": "markdown",
   "metadata": {},
   "source": [
    "This is just a side visualization used to picture the distance away the parks are from the city center laid out using the actual coordinates of the parks."
   ]
  },
  {
   "cell_type": "markdown",
   "metadata": {},
   "source": [
    "Then we check the scatterplot between Rating and Log Distance to see any irregulatiries and use a visual check to see any linear relationship"
   ]
  },
  {
   "cell_type": "code",
   "execution_count": 19,
   "metadata": {},
   "outputs": [
    {
     "data": {
      "text/plain": [
       "Text(0.5, 1.0, 'Log Distance vs. Rating of SD Park')"
      ]
     },
     "execution_count": 19,
     "metadata": {},
     "output_type": "execute_result"
    },
    {
     "data": {
      "image/png": "[encoded data removed]",
      "text/plain": [
       "<Figure size 1440x720 with 1 Axes>"
      ]
     },
     "metadata": {
      "needs_background": "light"
     },
     "output_type": "display_data"
    }
   ],
   "source": [
    "fig, ax = plt.subplots(figsize=(20, 10))\n",
    "s = plt.scatter(x=yelp_geo['distance_log'], y=yelp_geo['rating'])\n",
    "ax.set_xlabel('Log Distance')\n",
    "ax.set_ylabel('Rating')\n",
    "plt.title(\"Log Distance vs. Rating of SD Park\")"
   ]
  },
  {
   "cell_type": "markdown",
   "metadata": {},
   "source": [
    "Afterwards we perform a linear regression analysis using patsy and statsmodels to get the slope, intercept, p-value, and std error."
   ]
  },
  {
   "cell_type": "code",
   "execution_count": 23,
   "metadata": {},
   "outputs": [
    {
     "name": "stdout",
     "output_type": "stream",
     "text": [
      "                            OLS Regression Results                            \n",
      "==============================================================================\n",
      "Dep. Variable:                 rating   R-squared:                       0.001\n",
      "Model:                            OLS   Adj. R-squared:                  0.000\n",
      "Method:                 Least Squares   F-statistic:                     1.131\n",
      "Date:                Wed, 16 Dec 2020   Prob (F-statistic):              0.288\n",
      "Time:                        07:16:26   Log-Likelihood:                -990.58\n",
      "No. Observations:                 832   AIC:                             1985.\n",
      "Df Residuals:                     830   BIC:                             1995.\n",
      "Df Model:                           1                                         \n",
      "Covariance Type:            nonrobust                                         \n",
      "================================================================================\n",
      "                   coef    std err          t      P>|t|      [0.025      0.975]\n",
      "--------------------------------------------------------------------------------\n",
      "Intercept        4.0945      0.059     69.967      0.000       3.980       4.209\n",
      "distance_log     0.0523      0.049      1.063      0.288      -0.044       0.149\n",
      "==============================================================================\n",
      "Omnibus:                      168.114   Durbin-Watson:                   1.514\n",
      "Prob(Omnibus):                  0.000   Jarque-Bera (JB):              316.193\n",
      "Skew:                          -1.184   Prob(JB):                     2.19e-69\n",
      "Kurtosis:                       4.874   Cond. No.                         4.05\n",
      "==============================================================================\n",
      "\n",
      "Warnings:\n",
      "[1] Standard Errors assume that the covariance matrix of the errors is correctly specified.\n"
     ]
    }
   ],
   "source": [
    "#Perform Linear Regression on the Dataset between distance log and rating\n",
    "outcome, predictor = dmatrices('rating ~ distance_log', yelp_geo)\n",
    "\n",
    "mod = sm.OLS(outcome, predictor)\n",
    "\n",
    "res = mod.fit()\n",
    "print(res.summary())"
   ]
  },
  {
   "cell_type": "markdown",
   "metadata": {},
   "source": [
    "Since the p-value of distance_log seems to be a significant number above normal test p-values (p = 0.05, 0.1, etc) and that the slope is almost near 0 (std error helps to provide the range of values the slope can be), it can be concluded that since we do not reject the Null Hyposis, there seems to be no relationship between distance and ratings."
   ]
  },
  {
   "cell_type": "code",
   "execution_count": 35,
   "metadata": {},
   "outputs": [
    {
     "data": {
      "text/plain": [
       "<matplotlib.legend.Legend at 0x7f52922c61d0>"
      ]
     },
     "execution_count": 35,
     "metadata": {},
     "output_type": "execute_result"
    },
    {
     "data": {
      "image/png": "[encoded data removed]",
      "text/plain": [
       "<Figure size 1440x720 with 1 Axes>"
      ]
     },
     "metadata": {
      "needs_background": "light"
     },
     "output_type": "display_data"
    }
   ],
   "source": [
    "fig, ax = plt.subplots(figsize=(20, 10))\n",
    "s = plt.scatter(x=yelp_geo['distance_log'], y=yelp_geo['rating'])\n",
    "ax.set_xlabel('Log Distance')\n",
    "ax.set_ylabel('Rating')\n",
    "plt.title(\"Log Distance vs. Rating of SD Park\")\n",
    "\n",
    "xs = np.arange(yelp_geo['distance_log'].min(), yelp_geo['distance_log'].max())\n",
    "ys = 4.0945 + 0.0523 * xs\n",
    "plt.plot(xs, ys, '--k', linewidth=4, label=\"Linear Model\")\n",
    "plt.legend()"
   ]
  },
  {
   "cell_type": "markdown",
   "metadata": {},
   "source": [
    "Here I am just plotting a line through the data using the values from the linear regression to just visualize how that line fits through that data"
   ]
  },
  {
   "cell_type": "markdown",
   "metadata": {},
   "source": [
    "# Ethics & Privacy"
   ]
  },
  {
   "cell_type": "markdown",
   "metadata": {},
   "source": [
    "The data itself was collected through Yelp and that there is ethical concerns there in that the Yelp data can be used to trace back to indiviual users. However, the dataset of Yelp reviews only shows the average rating of the location, and not any personal identifications, so privacy is maintaned there.  There are other concerns that of use of this analysis might be extrapolated to other counties in California/US, but there is no guarantee that this model would suit other counties, since there are differences in population density, landscape, and much more.  Mitigating this problem requires clear indications such as warnings on the results that signify that this should only be used for San Diego, not for other areas like Orange County.\n",
    "Another consideration to make is that this is open-source data to be used.  However, if this data is used in a commerical sense, then there is problems to face there, but this is for an educational purpose so there is no issues."
   ]
  },
  {
   "cell_type": "markdown",
   "metadata": {},
   "source": [
    "# Conclusion & Discussion"
   ]
  },
  {
   "cell_type": "markdown",
   "metadata": {},
   "source": [
    "Based on the analysis, I can conclude that the distance away a San Diego park is, is not reflective in the ratings/view of the park itself.\n",
    "\n",
    "The data from yelp reviews showcased fairly normal distributions with slight skews and when plotted against each other showed no irregularities. Then, by using a linear regression model, that regression showcased that there is no relationship between these two factors based upon p-value testing and an analysis between the slope and the standard error.\n",
    "\n",
    "A limitation this project holds is that this model can really only be used for San Diego, since it only used San Diego data not the data of other counties.  Another thing is that the reviews themselves are heavily distributed towards the 4 - 5 range, and that can be attributed to the nature of giving a review on Yelp.  Most cases, people that are satisfied give a location the 5 star rating.  This is not reflective of a true rating of the location, since 5 would indicate the highest, but if they are just satisfied they should only give something more relfective based on the scale."
   ]
  }
 ],
 "metadata": {
  "kernelspec": {
   "display_name": "Python 3",
   "language": "python",
   "name": "python3"
  },
  "language_info": {
   "codemirror_mode": {
    "name": "ipython",
    "version": 3
   },
   "file_extension": ".py",
   "mimetype": "text/x-python",
   "name": "python",
   "nbconvert_exporter": "python",
   "pygments_lexer": "ipython3",
   "version": "3.7.6"
  }
 },
 "nbformat": 4,
 "nbformat_minor": 2
}
