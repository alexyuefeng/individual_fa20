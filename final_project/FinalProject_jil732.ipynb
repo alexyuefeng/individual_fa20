{
 "cells": [
  {
   "cell_type": "markdown",
   "metadata": {},
   "source": [
    "# COGS 108 - Final Project "
   ]
  },
  {
   "cell_type": "markdown",
   "metadata": {},
   "source": [
    "# Overview"
   ]
  },
  {
   "cell_type": "markdown",
   "metadata": {},
   "source": [
    "*Fill in your overview here*\n",
    "\n",
    "Unlike other business, parks usually are not very popular to be reviewed on Yelp. It's very interesting to see if some areas in San Diego are  more likely to receive park reviews, and why.\n",
    "\n",
    "This project analyzed Yelp review data, labelled each park with the census tract in San Diego, and compared different factors that may affect the number of total reviews for each census tract. But there are no strong evidence to conclude they have statistically significant relationships."
   ]
  },
  {
   "cell_type": "markdown",
   "metadata": {},
   "source": [
    "# Name & GitHub\n",
    "\n",
    "- Name: Jinmou Li\n",
    "- GitHub Username: jil732"
   ]
  },
  {
   "cell_type": "markdown",
   "metadata": {},
   "source": [
    "# Research Question"
   ]
  },
  {
   "cell_type": "markdown",
   "metadata": {},
   "source": [
    "*Fill in your research question here*\n",
    "\n",
    "Why do different areas in San Diego have different average number of reviews for review parks and recreation centers on Yelp?"
   ]
  },
  {
   "cell_type": "markdown",
   "metadata": {},
   "source": [
    "## Background and Prior Work"
   ]
  },
  {
   "cell_type": "markdown",
   "metadata": {},
   "source": [
    "*Fill in your background and prior work here* \n",
    "\n",
    "People are very used to reviewing restruants and other places on Yelp, but what about parks and recreation centers?\n",
    "\n",
    "Yelp is known for the platform to review businesses (1). Usually when people don't know if a local business is good, such as a resturant, they will refer to the reviews on Yelp. On the other hand, parks are usually operated by the city, and not usually labelled as local business.\n",
    "\n",
    "\"A park is an area of natural, semi-natural or planted space set aside for human enjoyment and recreation or for the protection of wildlife or natural habitats. Urban parks are green spaces set aside for recreation inside towns and cities. National parks and country parks are green spaces used for recreation in the countryside. State parks and provincial parks are administered by sub-national government states and agencies\" (2).\n",
    "\n",
    "\"A recreation center is a place for recreational activities usually administered by a municipal government agency.\" (3)\n",
    "\n",
    "\"A census tract, census area, census district or meshblock[1] is a geographic region defined for the purpose of taking a census.[2] Sometimes these coincide with the limits of cities, towns or other administrative areas[2] and several tracts commonly exist within a county. Census tracts represent the smallest territorial entity for which population data are available in many countries.[3] In the United States, census tracts are subdivided into block groups and census blocks\" (4). In this project, we use the census tract as the geography unit for our data.\n",
    "\n",
    "The number of prior work on what motivates people to leave more reviews on Yelp for San Diego parks and recreation centers is very limited. As a result, I didn't have the luck to find any related work before the deadline of this project. I defintiely hope to invest more time on this part and unfortunately I don't think I can include any here.\n",
    "\n",
    "For the gerneral number of reviews on Yelp, I found some information online (5). First, businesses on Yelp should encourage the customers to post reviews on Yelp. If there is any park that encourages the customers to do so, it's reasonable to expect them to have more reviews. But I don't have the data on this so it's not included in this project. Second, businesses should try to offer exclusive deals for customers using Yelp. I don't think this makes sense for most parks.\n",
    "\n",
    "A most similar work to this project is (6). It is related since it's also spatial analysis and focused on clusters of business. For this project, however, we don't necessarily analysze the clustering of parks.\n",
    "\n",
    "References (include links):\n",
    "- 1) https://en.wikipedia.org/wiki/Yelp\n",
    "- 2) https://en.wikipedia.org/wiki/Park\n",
    "- 3) https://en.wikipedia.org/wiki/Recreation#Recreation_center\n",
    "- 4) https://en.wikipedia.org/wiki/Census_tract\n",
    "- 5) https://www.webstaurantstore.com/article/36/how-to-get-more-yelp-reviews.html\n",
    "- 6) https://opengeospatialdata.springeropen.com/articles/10.1186/s40965-017-0020-9"
   ]
  },
  {
   "cell_type": "markdown",
   "metadata": {},
   "source": [
    "# Hypothesis\n"
   ]
  },
  {
   "cell_type": "markdown",
   "metadata": {},
   "source": [
    "*Fill in your hypotheses here*\n",
    "\n",
    "The areas with the most popular parks are more likely to have higher average number of reviews on Yelp.\n",
    "\n",
    "Reason: since we are calculating the average, the parks with the most reviews naturally will affect the average number in each area."
   ]
  },
  {
   "cell_type": "markdown",
   "metadata": {},
   "source": [
    "# Dataset(s)"
   ]
  },
  {
   "cell_type": "markdown",
   "metadata": {},
   "source": [
    "*Fill in your dataset information here*\n",
    "\n",
    "(Copy this information for each dataset)\n",
    "- Dataset Name:\n",
    "- Link to the dataset:\n",
    "- Number of observations:\n",
    "\n",
    "1-2 sentences describing each dataset. \n",
    "\n",
    "If you plan to use multiple datasets, add 1-2 sentences about how you plan to combine these datasets.\n",
    "\n",
    "- Dataset Name: Park Locations Data\n",
    "  - Link to the dataset: https://data.sandiego.gov/datasets/park-locations/\n",
    "  - Number of observations: 2769\n",
    "  - Used only to get the names of some San Diego parks and recreation centers\n",
    "\n",
    "- Dataset Name: Rec Center Locations Data\n",
    "  - Link to the dataset: https://data.sandiego.gov/datasets/recreation-center-locations/\n",
    "  - Number of observations: 57\n",
    "  - Used only to get the names of some San Diego parks and recreation centers\n",
    "\n",
    "- Dataset Name: Joint Use Parks Data\n",
    "  - Link to the dataset: https://data.sandiego.gov/datasets/joint-use/\n",
    "  - Number of observations: 96\n",
    "  - Used only to get the names of some San Diego parks and recreation centers\n",
    "\n",
    "- Dataset Name: Yelp Data for San Diego Parks\n",
    "  - Link to the dataset: https://github.com/COGS108/individual_fa20/blob/master/data/yelp_SD_parks.csv\n",
    "  - Number of observations: 833\n",
    "\n",
    "- Dataset Name: California Environmental Health Screening Data\n",
    "  - Link to the dataset: https://data.ca.gov/dataset/calenviroscreen-2-0\n",
    "  - Number of observations: 8035\n",
    "\n",
    "- Dataset Name: 2019 TIGER/Line® Shapefiles: Census Tracts\n",
    "  - Link to the dataset: https://www.census.gov/cgi-bin/geo/shapefiles/index.php?year=2019&layergroup=Census+Tracts\n",
    "  - Number of observations: 8057\n",
    "\n",
    "- Dataset Name: ADDRESS_APN\n",
    "  - Link to the dataset: https://rdw.sandag.org/Account/gisdtview?dir=Address\n",
    "  - Number of observations: 1166568\n",
    "  - Used only to get zip codes of San Diego\n",
    "  \n",
    "### How to combine\n",
    "\n",
    "For the first 3 data sets, they are used only to get a set of names of San Diego parks and recreastion ceters to filter the data of the yelp data.\n",
    "\n",
    "The screening data and the census tract data are combined with the tract ID, and used to label the yelp data and visualize the distribution of average review counts.\n",
    "\n",
    "Those 2 data sets are combined with the yelp data using the latitude and longitude.\n",
    "\n",
    "For the last dataset, its only use is to get San Diego zip codes."
   ]
  },
  {
   "cell_type": "markdown",
   "metadata": {},
   "source": [
    "# Setup"
   ]
  },
  {
   "cell_type": "code",
   "execution_count": 1,
   "metadata": {},
   "outputs": [],
   "source": [
    "## YOUR CODE HERE\n",
    "import warnings\n",
    "warnings.filterwarnings('ignore')\n",
    "\n",
    "import numpy as np\n",
    "import pandas as pd\n",
    "import geopandas as gpd\n",
    "import matplotlib.pyplot as plt\n",
    "   \n",
    "import seaborn as sns\n",
    "sns.set()\n",
    "sns.set_context('talk')\n",
    "\n",
    "import re\n",
    "from scipy.spatial import cKDTree\n",
    "\n",
    "from shapely.ops import nearest_points\n",
    "\n",
    "import patsy\n",
    "import statsmodels.api as sm\n",
    "import scipy.stats as stats"
   ]
  },
  {
   "cell_type": "markdown",
   "metadata": {},
   "source": [
    "# Data Cleaning"
   ]
  },
  {
   "cell_type": "markdown",
   "metadata": {},
   "source": [
    "Describe your data cleaning steps here.\n",
    "\n",
    "After converting the strings to lower cases, unnecessary data are dropped, either because those columns are not used in this project or the rows do not belong to San Diego."
   ]
  },
  {
   "cell_type": "code",
   "execution_count": null,
   "metadata": {},
   "outputs": [],
   "source": [
    "# Read the data\n",
    "\n",
    "df_parkl = gpd.read_file('../data/parks_datasd.geojson')\n",
    "df_dict_parkl = pd.read_csv('../data/parks_dictionary_datasd.csv')\n",
    "df_recl = gpd.read_file('../data/rec_centers_datasd.geojson')\n",
    "df_joint = gpd.read_file('../data/joint_use_datasd.geojson')\n",
    "\n",
    "df_ypark = pd.read_csv('../data/yelp_SD_parks.csv', dtype={'phone':str})\n",
    "\n",
    "df_dict_screen = pd.read_excel('../data/cal-enviro-screen-data-dictionary.xlsx')\n",
    "df_screen = pd.read_csv('../data/calenviroscreen-final-report.csv')\n",
    "\n",
    "gdf_census_tracts = gpd.read_file('../data/tl_2019_06_tract/tl_2019_06_tract.shp')\n",
    "gdf_census_tracts['GEOID'] = gdf_census_tracts['GEOID'].apply(int)\n",
    "\n",
    "shp_address_apn = gpd.read_file('../data/Address_APN/ADDRESS_APN.shp')"
   ]
  },
  {
   "cell_type": "code",
   "execution_count": null,
   "metadata": {
    "scrolled": false
   },
   "outputs": [],
   "source": [
    "# Shape of data\n",
    "\n",
    "print(df_parkl.shape)\n",
    "print(df_recl.shape)\n",
    "print(df_joint.shape)\n",
    "print(df_ypark.shape)\n",
    "print(df_screen.shape)\n",
    "print(gdf_census_tracts.shape)\n",
    "print(shp_address_apn.shape)"
   ]
  },
  {
   "cell_type": "markdown",
   "metadata": {},
   "source": [
    "## Quick peek for each dataset:"
   ]
  },
  {
   "cell_type": "code",
   "execution_count": null,
   "metadata": {},
   "outputs": [],
   "source": [
    "df_parkl.dtypes"
   ]
  },
  {
   "cell_type": "code",
   "execution_count": null,
   "metadata": {},
   "outputs": [],
   "source": [
    "df_dict_parkl"
   ]
  },
  {
   "cell_type": "code",
   "execution_count": null,
   "metadata": {},
   "outputs": [],
   "source": [
    "df_parkl.head()"
   ]
  },
  {
   "cell_type": "code",
   "execution_count": null,
   "metadata": {},
   "outputs": [],
   "source": [
    "df_recl.dtypes"
   ]
  },
  {
   "cell_type": "code",
   "execution_count": null,
   "metadata": {
    "scrolled": false
   },
   "outputs": [],
   "source": [
    "df_recl.head()"
   ]
  },
  {
   "cell_type": "code",
   "execution_count": null,
   "metadata": {},
   "outputs": [],
   "source": [
    "df_joint.dtypes"
   ]
  },
  {
   "cell_type": "code",
   "execution_count": null,
   "metadata": {},
   "outputs": [],
   "source": [
    "df_joint.head()"
   ]
  },
  {
   "cell_type": "code",
   "execution_count": null,
   "metadata": {},
   "outputs": [],
   "source": [
    "df_ypark.dtypes"
   ]
  },
  {
   "cell_type": "code",
   "execution_count": null,
   "metadata": {},
   "outputs": [],
   "source": [
    "df_ypark.head()"
   ]
  },
  {
   "cell_type": "code",
   "execution_count": null,
   "metadata": {},
   "outputs": [],
   "source": [
    "# Number of parks\n",
    "len(df_ypark)"
   ]
  },
  {
   "cell_type": "code",
   "execution_count": null,
   "metadata": {},
   "outputs": [],
   "source": [
    "# Number of parks with less than 50 reviews\n",
    "len(df_ypark[df_ypark['review_count'] < 50])"
   ]
  },
  {
   "cell_type": "code",
   "execution_count": null,
   "metadata": {},
   "outputs": [],
   "source": [
    "# Number of parks with less than 100 reviews\n",
    "len(df_ypark[df_ypark['review_count'] < 100])"
   ]
  },
  {
   "cell_type": "code",
   "execution_count": null,
   "metadata": {
    "scrolled": false
   },
   "outputs": [],
   "source": [
    "# Dictionary of screen data\n",
    "df_dict_screen"
   ]
  },
  {
   "cell_type": "code",
   "execution_count": null,
   "metadata": {},
   "outputs": [],
   "source": [
    "df_screen.dtypes"
   ]
  },
  {
   "cell_type": "code",
   "execution_count": null,
   "metadata": {},
   "outputs": [],
   "source": [
    "df_screen.head()"
   ]
  },
  {
   "cell_type": "code",
   "execution_count": null,
   "metadata": {},
   "outputs": [],
   "source": [
    "# List the counties in the dataset\n",
    "df_screen['California County'].unique()"
   ]
  },
  {
   "cell_type": "code",
   "execution_count": null,
   "metadata": {},
   "outputs": [],
   "source": [
    "gdf_census_tracts.dtypes"
   ]
  },
  {
   "cell_type": "code",
   "execution_count": null,
   "metadata": {
    "scrolled": false
   },
   "outputs": [],
   "source": [
    "gdf_census_tracts.head()"
   ]
  },
  {
   "cell_type": "code",
   "execution_count": null,
   "metadata": {},
   "outputs": [],
   "source": [
    "shp_address_apn.dtypes"
   ]
  },
  {
   "cell_type": "code",
   "execution_count": null,
   "metadata": {},
   "outputs": [],
   "source": [
    "shp_address_apn.head()"
   ]
  },
  {
   "cell_type": "markdown",
   "metadata": {},
   "source": [
    "## To lower names"
   ]
  },
  {
   "cell_type": "code",
   "execution_count": null,
   "metadata": {},
   "outputs": [],
   "source": [
    "## YOUR CODE HERE\n",
    "## FEEL FREE TO ADD MULTIPLE CELLS PER SECTION\n",
    "\n",
    "df_parkl['name'] = df_parkl['name'].apply(str.lower)\n",
    "df_parkl['alias'] = df_parkl['alias'].apply(str.lower)\n",
    "\n",
    "df_recl['rec_bldg'] = df_recl['rec_bldg'].apply(str.lower)\n",
    "df_recl['park_name'] = df_recl['park_name'].apply(str.lower)\n",
    "\n",
    "df_joint['name'] = df_joint['name'].apply(str.lower)\n",
    "df_joint['facility'] = df_joint['facility'].apply(str.lower)\n",
    "\n",
    "df_ypark['name'] = df_ypark['name'].apply(str.lower)\n",
    "\n",
    "shp_address_apn.dropna(inplace=True, subset=['COMMUNITY', 'ADDRZIP'])\n",
    "shp_address_apn['COMMUNITY'] = shp_address_apn['COMMUNITY'].apply(str.lower)"
   ]
  },
  {
   "cell_type": "markdown",
   "metadata": {},
   "source": [
    "### Get the set of \"all\" possiable names of parks and recreations"
   ]
  },
  {
   "cell_type": "code",
   "execution_count": null,
   "metadata": {},
   "outputs": [],
   "source": [
    "set_park_rec = set(df_parkl['name']).union(\n",
    "    set(df_parkl['alias'])\n",
    ").union(\n",
    "    set(df_recl['rec_bldg'])\n",
    ").union(\n",
    "    set(df_recl['park_name'])\n",
    ").union(\n",
    "    set(df_joint['name'])\n",
    ").union(\n",
    "    set(df_joint['facility'])\n",
    ")\n",
    "\n",
    "len(set_park_rec)"
   ]
  },
  {
   "cell_type": "markdown",
   "metadata": {},
   "source": [
    "### Drop the non-park and non-recreation yelp reviews"
   ]
  },
  {
   "cell_type": "code",
   "execution_count": null,
   "metadata": {
    "scrolled": false
   },
   "outputs": [],
   "source": [
    "tmp_to_drop = df_ypark[~df_ypark.apply(\n",
    "    lambda x: \n",
    "    (x['name'] in set_park_rec) or\n",
    "    any(keyword in x['name'] for keyword in [\n",
    "        'park', 'complex', 'recreation', 'preserve', 'trail', 'pools', 'cove', 'national',\n",
    "        'beach', 'shores', 'garden', 'plaza', 'reserve', 'playground', 'lake', 'mountain',\n",
    "        'peak', 'canyon', 'rock', 'landing', 'italy', 'island', 'youth', 'boardwalk', 'photography',\n",
    "        'kayak', 'community', 'zoo', 'seaworld', 'village', 'valley', 'museum', 'center', 'theatre',\n",
    "        'pool', 'bridge', 'path', 'aquarium', 'utc', 'racetrack', 'falls', 'old globe', 'tour', 'golf',\n",
    "        'marathon', 'ranch', 'crown point', 'bay of play', 'lighthouse', 'landscape', 'aquaplex',\n",
    "        'skyride', 'viewpoint', 'field', 'diego bay', 'summit'\n",
    "    ])\n",
    ", axis=1)]\n",
    "tmp_to_drop.sort_values(by=['review_count'], ascending=False).head()"
   ]
  },
  {
   "cell_type": "code",
   "execution_count": null,
   "metadata": {},
   "outputs": [],
   "source": [
    "df_ypark = df_ypark[df_ypark.apply(\n",
    "    lambda x: \n",
    "    (x['name'] in set_park_rec) or\n",
    "    any(keyword in x['name'] for keyword in [\n",
    "        'park', 'complex', 'recreation', 'preserve', 'trail', 'pools', 'cove', 'national',\n",
    "        'beach', 'shores', 'garden', 'plaza', 'reserve', 'playground', 'lake', 'mountain',\n",
    "        'peak', 'canyon', 'rock', 'landing', 'italy', 'island', 'youth', 'boardwalk', 'photography',\n",
    "        'kayak', 'community', 'zoo', 'seaworld', 'village', 'valley', 'museum', 'center', 'theatre',\n",
    "        'pool', 'bridge', 'path', 'aquarium', 'utc', 'racetrack', 'falls', 'old globe', 'tour', 'golf',\n",
    "        'marathon', 'ranch', 'crown point', 'bay of play', 'lighthouse', 'landscape', 'aquaplex',\n",
    "        'skyride', 'viewpoint', 'field', 'diego bay', 'summit'\n",
    "    ]) and (not ('restaurant' in x['name'])),\n",
    "axis=1)]\n",
    "\n",
    "len(df_ypark)"
   ]
  },
  {
   "cell_type": "code",
   "execution_count": null,
   "metadata": {},
   "outputs": [],
   "source": [
    "df_ypark.head()"
   ]
  },
  {
   "cell_type": "markdown",
   "metadata": {},
   "source": [
    "## Drop useless columns"
   ]
  },
  {
   "cell_type": "code",
   "execution_count": null,
   "metadata": {},
   "outputs": [],
   "source": [
    "df_ypark.drop(inplace=True, columns=['phone', 'id', 'url', 'is_closed'])\n",
    "df_screen.drop(inplace=True, columns=['Click for interactive map', 'Hyperlink'])\n",
    "gdf_census_tracts.drop(inplace=True, columns=['STATEFP', 'COUNTYFP', 'TRACTCE', 'NAME', 'NAMELSAD', 'MTFCC', 'FUNCSTAT', 'ALAND', 'AWATER'])\n",
    "shp_address_apn = shp_address_apn[['COMMUNITY', 'ADDRZIP']].drop_duplicates()"
   ]
  },
  {
   "cell_type": "markdown",
   "metadata": {},
   "source": [
    "## Drop useless dataframe"
   ]
  },
  {
   "cell_type": "code",
   "execution_count": null,
   "metadata": {},
   "outputs": [],
   "source": [
    "df_parkl = None\n",
    "df_recl = None\n",
    "df_joint = None"
   ]
  },
  {
   "cell_type": "markdown",
   "metadata": {},
   "source": [
    "## Drop null rows and useless data"
   ]
  },
  {
   "cell_type": "code",
   "execution_count": null,
   "metadata": {},
   "outputs": [],
   "source": [
    "df_ypark.isnull().sum()"
   ]
  },
  {
   "cell_type": "code",
   "execution_count": null,
   "metadata": {},
   "outputs": [],
   "source": [
    "df_ypark.dropna(inplace=True)"
   ]
  },
  {
   "cell_type": "code",
   "execution_count": null,
   "metadata": {},
   "outputs": [],
   "source": [
    "# Only analysze San Diego data\n",
    "df_screen = df_screen[df_screen['California County'] == 'San Diego'].drop(columns=['California County'])"
   ]
  },
  {
   "cell_type": "code",
   "execution_count": null,
   "metadata": {},
   "outputs": [],
   "source": [
    "df_screen.isnull().sum()"
   ]
  },
  {
   "cell_type": "code",
   "execution_count": null,
   "metadata": {},
   "outputs": [],
   "source": [
    "df_screen.dropna(inplace=True)"
   ]
  },
  {
   "cell_type": "code",
   "execution_count": null,
   "metadata": {},
   "outputs": [],
   "source": [
    "gdf_census_tracts.isnull().sum()"
   ]
  },
  {
   "cell_type": "code",
   "execution_count": null,
   "metadata": {},
   "outputs": [],
   "source": [
    "# Only collect San Diego census tracts\n",
    "census_tracts_sd = set(df_screen['Census Tract'])"
   ]
  },
  {
   "cell_type": "code",
   "execution_count": null,
   "metadata": {},
   "outputs": [],
   "source": [
    "gdf_census_tracts.isnull().sum()"
   ]
  },
  {
   "cell_type": "code",
   "execution_count": null,
   "metadata": {},
   "outputs": [],
   "source": [
    "gdf_census_tracts = gdf_census_tracts[gdf_census_tracts['GEOID'].isin(census_tracts_sd)]\n",
    "gdf_census_tracts.plot(figsize=(10,10), edgecolor=\"purple\", facecolor=\"None\")"
   ]
  },
  {
   "cell_type": "markdown",
   "metadata": {},
   "source": [
    "## Plot the data and furtuher drop unnecessary rows"
   ]
  },
  {
   "cell_type": "markdown",
   "metadata": {},
   "source": [
    "### Extract latitude and longtitude informaiton"
   ]
  },
  {
   "cell_type": "code",
   "execution_count": null,
   "metadata": {},
   "outputs": [],
   "source": [
    "# Extract latitude and longtitude from Location 1\n",
    "df_screen_location_pattern = re.compile(r\"\"\".+\\n\\((?P<latitude>[-+]?\\d*\\.\\d+|\\d+?), (?P<longitude>[-+]?\\d*\\.\\d+|\\d+?)\\)\"\"\")\n",
    "\n",
    "def extract_screen_location(s):\n",
    "    m = df_screen_location_pattern.match(s)\n",
    "\n",
    "    la = float(m.group('latitude'))\n",
    "    lo = float(m.group('longitude'))\n",
    "\n",
    "    return (la, lo)\n",
    "\n",
    "df_screen = df_screen.join(df_screen['Location 1'].apply(\n",
    "    lambda x: pd.Series(extract_screen_location(x), index=['latitude', 'longitude']))).drop(columns=['Location 1'])"
   ]
  },
  {
   "cell_type": "code",
   "execution_count": null,
   "metadata": {
    "scrolled": false
   },
   "outputs": [],
   "source": [
    "# Plot the distribution of the park relative to the census tracts\n",
    "gdf_ypark = gpd.GeoDataFrame(df_ypark, geometry=gpd.points_from_xy(df_ypark.longitude, df_ypark.latitude))\n",
    "gdf_screen = gpd.GeoDataFrame(df_screen, geometry=gpd.points_from_xy(df_screen.longitude, df_screen.latitude))\n",
    "\n",
    "fig_park_screen, ax_park_screen = plt.subplots(figsize = (40,40)) \n",
    "gdf_census_tracts.plot(edgecolor=\"purple\", facecolor=\"None\", ax=ax_park_screen)\n",
    "gdf_screen.plot(edgecolor=\"Cyan\", facecolor=\"None\", ax=ax_park_screen)\n",
    "gdf_ypark.plot(edgecolor=\"None\", facecolor=\"Red\", ax=ax_park_screen)\n",
    "\n",
    "ax_park_screen.set_ylabel('latitude')\n",
    "ax_park_screen.set_xlabel('longitude')\n",
    "ax_park_screen.set_title('Park distribution reletive to census tracts')"
   ]
  },
  {
   "cell_type": "markdown",
   "metadata": {},
   "source": [
    "From the graph, we can simply count and see there are about 20 parks that are not in San Diego census tracts.\n",
    "\n",
    "Let's try to remove them from the data."
   ]
  },
  {
   "cell_type": "code",
   "execution_count": null,
   "metadata": {},
   "outputs": [],
   "source": [
    "zip_code_sd_partial = set(shp_address_apn['ADDRZIP'].unique())"
   ]
  },
  {
   "cell_type": "code",
   "execution_count": null,
   "metadata": {},
   "outputs": [],
   "source": [
    "tmp_to_drop = df_ypark[~df_ypark.apply(\n",
    "    lambda x: \n",
    "    (x['address'][-5:] in zip_code_sd_partial) or\n",
    "    ('San Diego' in x['address']) or\n",
    "    ('La Jolla' in x['address'])\n",
    ", axis=1)]\n",
    "\n",
    "print(len(tmp_to_drop))\n",
    "tmp_to_drop"
   ]
  },
  {
   "cell_type": "markdown",
   "metadata": {},
   "source": [
    "This is a good-enough approximation for the data points to drop. Let's remove them from our dataframe."
   ]
  },
  {
   "cell_type": "code",
   "execution_count": null,
   "metadata": {},
   "outputs": [],
   "source": [
    "df_ypark = df_ypark[df_ypark.apply(\n",
    "    lambda x: \n",
    "    (x['address'][-5:] in zip_code_sd_partial) or\n",
    "    ('San Diego' in x['address']) or\n",
    "    ('La Jolla' in x['address'])\n",
    ", axis=1)]"
   ]
  },
  {
   "cell_type": "markdown",
   "metadata": {},
   "source": [
    "Let's check the cleaned data."
   ]
  },
  {
   "cell_type": "code",
   "execution_count": null,
   "metadata": {},
   "outputs": [],
   "source": [
    "# Reset the index after dropping\n",
    "df_ypark.reset_index(inplace=True, drop=True)\n",
    "df_screen.reset_index(inplace=True, drop=True)\n",
    "gdf_census_tracts.reset_index(inplace=True, drop=True)\n",
    "shp_address_apn.reset_index(inplace=True, drop=True)"
   ]
  },
  {
   "cell_type": "code",
   "execution_count": null,
   "metadata": {},
   "outputs": [],
   "source": [
    "# Check the shapes\n",
    "print(df_ypark.shape)\n",
    "print(df_screen.shape)\n",
    "print(gdf_census_tracts.shape)\n",
    "print(shp_address_apn.shape)"
   ]
  },
  {
   "cell_type": "code",
   "execution_count": null,
   "metadata": {},
   "outputs": [],
   "source": [
    "# Check the columns and types\n",
    "df_ypark.dtypes"
   ]
  },
  {
   "cell_type": "code",
   "execution_count": null,
   "metadata": {},
   "outputs": [],
   "source": [
    "df_screen.dtypes"
   ]
  },
  {
   "cell_type": "code",
   "execution_count": null,
   "metadata": {},
   "outputs": [],
   "source": [
    "gdf_census_tracts.dtypes"
   ]
  },
  {
   "cell_type": "code",
   "execution_count": null,
   "metadata": {},
   "outputs": [],
   "source": [
    "shp_address_apn.dtypes"
   ]
  },
  {
   "cell_type": "code",
   "execution_count": null,
   "metadata": {},
   "outputs": [],
   "source": [
    "# Plot the distribution of parks\n",
    "gdf_ypark = gpd.GeoDataFrame(df_ypark, geometry=gpd.points_from_xy(df_ypark.longitude, df_ypark.latitude))\n",
    "gdf_screen = gpd.GeoDataFrame(df_screen, geometry=gpd.points_from_xy(df_screen.longitude, df_screen.latitude))\n",
    "\n",
    "fig_park_screen, ax_park_screen = plt.subplots(figsize = (40,40)) \n",
    "gdf_census_tracts.plot(edgecolor=\"purple\", facecolor=\"None\", ax=ax_park_screen)\n",
    "gdf_screen.plot(edgecolor=\"Cyan\", facecolor=\"None\", ax=ax_park_screen)\n",
    "gdf_ypark.plot(edgecolor=\"None\", facecolor=\"Red\", ax=ax_park_screen)\n",
    "\n",
    "ax_park_screen.set_ylabel('latitude')\n",
    "ax_park_screen.set_xlabel('longitude')\n",
    "ax_park_screen.set_title('Park distribution reletive to census tracts')"
   ]
  },
  {
   "cell_type": "markdown",
   "metadata": {},
   "source": [
    "# Data Analysis & Results"
   ]
  },
  {
   "cell_type": "markdown",
   "metadata": {},
   "source": [
    "Include cells that describe the steps in your data analysis."
   ]
  },
  {
   "cell_type": "markdown",
   "metadata": {},
   "source": [
    "## EDA\n",
    "\n",
    "What distributions do your variables take?\n",
    "\n",
    "* The review_count is skewed, details (with graphs) are shown later\n",
    "\n",
    "Are there any outliers?\n",
    "\n",
    "* Yes, and they are also shown later. And the spatial outliers are removed in the last section\n",
    "\n",
    "Relationship between variables?\n",
    "\n",
    "* They are seemingly independent and the analysis will try to find any linear relationship\n",
    "  \n",
    "## Analysis\n",
    "\n",
    "What approaches did you use? Why?\n",
    "\n",
    "* I used cKDTree to find the nearest census tract center for each park, beacuse it's fast and accuracte enough for the purpose of this project\n",
    "* I used correlation analysis, specifically the Spearman rank-order correlation coefficient, because it does not assume the data to be normally distributed and it gives p-value\n",
    "* I used OLS regression, because it's efficient and reliable to analyze the linear relationship among multiple variable and it also outputs p-value\n",
    "\n",
    "What were the results?\n",
    "\n",
    "* None of the proposed factors that may affect the average number of reviews are proved to be statically significant\n",
    "\n",
    "What were your interpretation of these findings\n",
    "\n",
    "* It's very reasonable, considering most people do not care the review counts on Yelps for parks\n",
    "* Details are included in the discussion\n",
    "\n",
    "## Data Visualization \n",
    "\n",
    "Included in the following cells"
   ]
  },
  {
   "cell_type": "markdown",
   "metadata": {},
   "source": [
    "## Analysis"
   ]
  },
  {
   "cell_type": "code",
   "execution_count": null,
   "metadata": {},
   "outputs": [],
   "source": [
    "ax_review_distplot = sns.distplot(df_ypark['review_count'], bins=30, kde=False, color='#686868');\n",
    "sns.despine()\n",
    "ax_review_distplot.set_title('')\n",
    "ax_review_distplot.set_ylabel('Frequency')\n",
    "ax_review_distplot.set_xlabel('review_count');"
   ]
  },
  {
   "cell_type": "markdown",
   "metadata": {},
   "source": [
    "We can see the review_count for parks are very skewed."
   ]
  },
  {
   "cell_type": "markdown",
   "metadata": {},
   "source": [
    "## Calculate the nearest census tract\n",
    "\n",
    "We first use cKDTree to label each park with the nearest census tract.\n",
    "\n",
    "Note we don't analyze the exact boundary of the tracts,"
   ]
  },
  {
   "cell_type": "code",
   "execution_count": null,
   "metadata": {},
   "outputs": [],
   "source": [
    "## YOUR CODE HERE\n",
    "## FEEL FREE TO ADD MULTIPLE CELLS PER SECTION\n",
    "\n",
    "df_ypark = df_ypark.assign(\n",
    "    Tract=[df_screen.at[idx, 'Census Tract'] for idx in cKDTree(df_screen[['longitude', 'latitude']]).query(df_ypark[['longitude', 'latitude']])[1]]\n",
    ")"
   ]
  },
  {
   "cell_type": "code",
   "execution_count": null,
   "metadata": {},
   "outputs": [],
   "source": [
    "# Check the value counts\n",
    "ypark_tract_counts = df_ypark['Tract'].value_counts()"
   ]
  },
  {
   "cell_type": "code",
   "execution_count": null,
   "metadata": {},
   "outputs": [],
   "source": [
    "# Check the distribution\n",
    "ypark_tract_counts.sort_values()"
   ]
  },
  {
   "cell_type": "markdown",
   "metadata": {},
   "source": [
    "It seems that only 4 tracts have more than 9 parks, which seems a good distribution for mapping purpose. There is no big clustering."
   ]
  },
  {
   "cell_type": "code",
   "execution_count": null,
   "metadata": {},
   "outputs": [],
   "source": [
    "# Number of tracts with only 1 park\n",
    "ypark_tract_counts.where(ypark_tract_counts == 1, 0).sum()"
   ]
  },
  {
   "cell_type": "code",
   "execution_count": null,
   "metadata": {},
   "outputs": [],
   "source": [
    "# Number of tracts with at least 1 park\n",
    "len(df_ypark['Tract'].unique())"
   ]
  },
  {
   "cell_type": "code",
   "execution_count": null,
   "metadata": {},
   "outputs": [],
   "source": [
    "# Number of tracts with 0 park\n",
    "len(df_screen['Census Tract'].unique()) - len(df_ypark['Tract'].unique())"
   ]
  },
  {
   "cell_type": "code",
   "execution_count": null,
   "metadata": {},
   "outputs": [],
   "source": [
    "# Calculate the average of review counts for each census tract\n",
    "df_tract_review = df_ypark.groupby('Tract')['review_count'].mean().to_frame().reset_index()\n",
    "df_tract_review.head()"
   ]
  },
  {
   "cell_type": "code",
   "execution_count": null,
   "metadata": {},
   "outputs": [],
   "source": [
    "# Use 0 as the average for the tracts without parks\n",
    "df_tract_review_zero = pd.DataFrame(list(set(df_screen['Census Tract'].unique())-set(df_tract_review['Tract'].unique())), columns=['Tract'])\n",
    "df_tract_review_zero['review_count'] = float(0)\n",
    "df_tract_review = pd.concat([df_tract_review, df_tract_review_zero]).sort_values(by=['Tract']).reset_index(drop=True)\n",
    "df_tract_review.head()"
   ]
  },
  {
   "cell_type": "code",
   "execution_count": null,
   "metadata": {},
   "outputs": [],
   "source": [
    "# Check the distribution and variance\n",
    "df_tract_review.sort_values(by=['review_count'], ascending=False)[:10]"
   ]
  },
  {
   "cell_type": "code",
   "execution_count": null,
   "metadata": {},
   "outputs": [],
   "source": [
    "df_tract_review.var()"
   ]
  },
  {
   "cell_type": "markdown",
   "metadata": {},
   "source": [
    "From above, however, we see the average number of reviews have non-minor variance, and the largest one is more than 2 times larger than the second largets value.\n",
    "\n",
    "We visualize them on the map to have to better idea."
   ]
  },
  {
   "cell_type": "code",
   "execution_count": null,
   "metadata": {},
   "outputs": [],
   "source": [
    "df_tract_review = df_tract_review.merge(gdf_census_tracts[['GEOID', 'geometry']], left_on='Tract', right_on='GEOID').drop(columns=['GEOID'])\n",
    "gdf_tract_review = gpd.GeoDataFrame(df_tract_review, geometry='geometry')\n",
    "gdf_tract_review.head()"
   ]
  },
  {
   "cell_type": "code",
   "execution_count": null,
   "metadata": {},
   "outputs": [],
   "source": [
    "fig_tract_review, ax_tract_review = plt.subplots(figsize = (40,40)) \n",
    "gdf_tract_review.boundary.plot(edgecolor=\"purple\", facecolor=\"None\", ax=ax_tract_review);\n",
    "gdf_tract_review.plot(column='review_count', cmap='Reds', ax=ax_tract_review)\n",
    "ax_tract_review.set_ylabel('latitude')\n",
    "ax_tract_review.set_xlabel('longitude')\n",
    "ax_tract_review.set_title('Choropleth Map for Average Review Count')"
   ]
  },
  {
   "cell_type": "markdown",
   "metadata": {},
   "source": [
    "From the graph, we can see there are few tracts with very high average review counts.\n",
    "\n",
    "For other tracts, there is not hugh difference considering there are a limited number of popular parks in San Diego."
   ]
  },
  {
   "cell_type": "markdown",
   "metadata": {},
   "source": [
    "As a result, we try to visualize the distribution of the review counts without the most popular ones and see what happens."
   ]
  },
  {
   "cell_type": "code",
   "execution_count": null,
   "metadata": {},
   "outputs": [],
   "source": [
    "# Find the most popular parks and check their tracts\n",
    "df_ypark.sort_values(by=['review_count'], ascending=False).head(10)"
   ]
  },
  {
   "cell_type": "code",
   "execution_count": null,
   "metadata": {},
   "outputs": [],
   "source": [
    "# Let's remove the top 4 and see what happens\n",
    "df_ypark_trimed = df_ypark[~df_ypark['name'].isin(set(['san diego zoo', 'seaworld san diego', 'san diego zoo safari park', 'balboa park']))]\n",
    "\n",
    "df_tract_review_trimed = df_ypark_trimed.groupby('Tract')['review_count'].mean().to_frame().reset_index()\n",
    "\n",
    "df_tract_review_zero_trimed = pd.DataFrame(list(set(df_screen['Census Tract'].unique())-set(df_tract_review_trimed['Tract'].unique())), columns=['Tract'])\n",
    "df_tract_review_zero_trimed['review_count'] = float(0)\n",
    "df_tract_review_trimed = pd.concat([df_tract_review_trimed, df_tract_review_zero_trimed]).sort_values(by=['Tract']).reset_index(drop=True)\n",
    "\n",
    "df_tract_review_trimed = df_tract_review_trimed.merge(gdf_census_tracts[['GEOID', 'geometry']], left_on='Tract', right_on='GEOID').drop(columns=['GEOID'])\n",
    "gdf_tract_review_trimed = gpd.GeoDataFrame(df_tract_review_trimed, geometry='geometry')\n",
    "\n",
    "fig_tract_review_trimed, ax_tract_review_trimed = plt.subplots(figsize = (40,40)) \n",
    "gdf_tract_review_trimed.boundary.plot(edgecolor=\"purple\", facecolor=\"None\", ax=ax_tract_review_trimed);\n",
    "gdf_tract_review_trimed.plot(column='review_count', cmap='Reds', ax=ax_tract_review_trimed)\n",
    "\n",
    "ax_tract_review_trimed.set_ylabel('latitude')\n",
    "ax_tract_review_trimed.set_xlabel('longitude')\n",
    "ax_tract_review_trimed.set_title('Choropleth Map for Average Review Count without Most Popular Parks')"
   ]
  },
  {
   "cell_type": "code",
   "execution_count": null,
   "metadata": {
    "scrolled": false
   },
   "outputs": [],
   "source": [
    "df_ypark_trimed.sort_values(by=['review_count'], ascending=False).head(10)"
   ]
  },
  {
   "cell_type": "markdown",
   "metadata": {},
   "source": [
    "### Analysis on trimmed dataset and map\n",
    "\n",
    "When removing several outliers, we can see more tracts are having similarlly many review counts.\n",
    "\n",
    "This is a hint that it's very likely for the popular parks to be the driving factors for review counts.\n",
    "\n",
    "Let's go back to the complete dataset (not trimmed one)\n",
    "\n",
    "Next step is to see if this is caused by the most popular parks in San Diego."
   ]
  },
  {
   "cell_type": "markdown",
   "metadata": {},
   "source": [
    "Because many tracts do not have any park, and our focus is the park not each tract, let's ignore the tracts with no park."
   ]
  },
  {
   "cell_type": "code",
   "execution_count": null,
   "metadata": {},
   "outputs": [],
   "source": [
    "# Analyze the tracts with at least one park\n",
    "df_tract_review_one = df_tract_review[df_tract_review['review_count'] != 0]\n",
    "gdf_tract_review_one = gpd.GeoDataFrame(df_tract_review_one, geometry='geometry')\n",
    "\n",
    "fig_tract_review_one, ax_tract_review_one = plt.subplots(figsize = (40,40)) \n",
    "gdf_tract_review_one.boundary.plot(edgecolor=\"purple\", facecolor=\"None\", ax=ax_tract_review_one);\n",
    "gdf_tract_review_one.plot(column='review_count', cmap='Reds', ax=ax_tract_review_one)\n",
    "\n",
    "ax_tract_review_one.set_ylabel('latitude')\n",
    "ax_tract_review_one.set_xlabel('longitude')\n",
    "ax_tract_review_one.set_title('Choropleth Map for Average Review Count with At Least One Park')"
   ]
  },
  {
   "cell_type": "markdown",
   "metadata": {},
   "source": [
    "This map is simply what we have seen without the census tracts with no parks."
   ]
  },
  {
   "cell_type": "markdown",
   "metadata": {},
   "source": [
    "To begin with, let's check the distribution of the reveiw_count (i.e. the popularity of parks)"
   ]
  },
  {
   "cell_type": "code",
   "execution_count": null,
   "metadata": {},
   "outputs": [],
   "source": [
    "ax_tract_distplot = sns.distplot(df_tract_review_one['review_count'], bins=30, kde=False, color='#686868');\n",
    "sns.despine()\n",
    "ax_tract_distplot.set_title('')\n",
    "ax_tract_distplot.set_ylabel('Frequency')\n",
    "ax_tract_distplot.set_xlabel('review_count');"
   ]
  },
  {
   "cell_type": "markdown",
   "metadata": {},
   "source": [
    "We can see the data is very skewed."
   ]
  },
  {
   "cell_type": "code",
   "execution_count": null,
   "metadata": {},
   "outputs": [],
   "source": [
    "ax_tract_distplot = sns.distplot(df_tract_review_one[df_tract_review_one['review_count'] > 500]['review_count'], bins=30, kde=False, color='#686868');\n",
    "sns.despine()\n",
    "ax_tract_distplot.set_title('')\n",
    "ax_tract_distplot.set_ylabel('Frequency')\n",
    "ax_tract_distplot.set_xlabel('review_count > 500');"
   ]
  },
  {
   "cell_type": "markdown",
   "metadata": {},
   "source": [
    "We can see there are only 7 parks with review_count > 500."
   ]
  },
  {
   "cell_type": "code",
   "execution_count": null,
   "metadata": {},
   "outputs": [],
   "source": [
    "ax_tract_distplot = sns.distplot(df_tract_review_one[df_tract_review_one['review_count'] < 500]['review_count'], bins=30, kde=False, color='#686868');\n",
    "sns.despine()\n",
    "ax_tract_distplot.set_title('')\n",
    "ax_tract_distplot.set_ylabel('Frequency')\n",
    "ax_tract_distplot.set_xlabel('review_count < 500');"
   ]
  },
  {
   "cell_type": "markdown",
   "metadata": {},
   "source": [
    "This is the distribution for parks with review_count < 500.\n",
    "\n",
    "It's still very skewed."
   ]
  },
  {
   "cell_type": "code",
   "execution_count": null,
   "metadata": {},
   "outputs": [],
   "source": [
    "ax_tract_distplot = sns.distplot(df_tract_review_one[df_tract_review_one['review_count'] < 200]['review_count'], bins=30, kde=False, color='#686868');\n",
    "sns.despine()\n",
    "ax_tract_distplot.set_title('')\n",
    "ax_tract_distplot.set_ylabel('Frequency')\n",
    "ax_tract_distplot.set_xlabel('review_count < 200');"
   ]
  },
  {
   "cell_type": "markdown",
   "metadata": {},
   "source": [
    "Even for the parks with review_count < 200, it's still highly skewed. A lot of parks do not have more than 50 reviews."
   ]
  },
  {
   "cell_type": "markdown",
   "metadata": {},
   "source": [
    "### Analysis on park popularity\n",
    "\n",
    "From the histrams, we can see for the majority of the data points, the parks do not have more than 50 reviews.\n",
    "\n",
    "And for the rest of the dataset, only a few parks have more than 100 reviews."
   ]
  },
  {
   "cell_type": "markdown",
   "metadata": {},
   "source": [
    "Let's check the parks in the tracts with the highest review_count"
   ]
  },
  {
   "cell_type": "code",
   "execution_count": null,
   "metadata": {},
   "outputs": [],
   "source": [
    "df_tract_review_one.sort_values(by=['review_count'], ascending=False).head()"
   ]
  },
  {
   "cell_type": "code",
   "execution_count": null,
   "metadata": {},
   "outputs": [],
   "source": [
    "df_ypark_popular = df_ypark[df_ypark['Tract'].isin(\n",
    "    set(df_tract_review_one.sort_values(by=['review_count'], ascending=False).head(10)['Tract'])\n",
    ")].sort_values(by=['Tract'])\n",
    "df_ypark_popular.head()"
   ]
  },
  {
   "cell_type": "code",
   "execution_count": null,
   "metadata": {},
   "outputs": [],
   "source": [
    "df_ypark_popular.groupby('Tract')['review_count'].count().sort_values()"
   ]
  },
  {
   "cell_type": "markdown",
   "metadata": {},
   "source": [
    "We can see for the tracts with most review_count, many only have one or two parks that are extremely popular.\n",
    "\n",
    "Let's try to visualize the distribution after dropping those tracts."
   ]
  },
  {
   "cell_type": "code",
   "execution_count": null,
   "metadata": {},
   "outputs": [],
   "source": [
    "set_partial_popular = set(['6073008901','6073017021','6073020710', '6073007301', '6073009805', '6073021800', '6073005100','6073008312'])\n",
    "df_tract_review_tail = df_tract_review_one[~df_tract_review_one['Tract'].isin(set_partial_popular)]\n",
    "gdf_tract_review_tail = gpd.GeoDataFrame(df_tract_review_tail, geometry='geometry')\n",
    "\n",
    "fig_tract_review_tail, ax_tract_review_tail = plt.subplots(figsize = (40,40)) \n",
    "gdf_tract_review_tail.boundary.plot(edgecolor=\"purple\", facecolor=\"None\", ax=ax_tract_review_tail);\n",
    "gdf_tract_review_tail.plot(column='review_count', cmap='Reds', ax=ax_tract_review_tail)\n",
    "gdf_ypark.plot(edgecolor=\"None\", facecolor=\"Red\", ax=ax_tract_review_tail)\n",
    "\n",
    "ax_tract_review_tail.set_ylabel('latitude')\n",
    "ax_tract_review_tail.set_xlabel('longitude')\n",
    "ax_tract_review_tail.set_title('Choropleth Map for Average Review Count without Most Popular Parks')"
   ]
  },
  {
   "cell_type": "markdown",
   "metadata": {},
   "source": [
    "From the first sight, we can see the more parks on tract has, it's more likely to have higher number of reviews.\n",
    "\n",
    "Let's verify this by calculating the correlation between the number of parks and the number of reviews.\n",
    "\n",
    "For this project, we use an **alpha significance value of 0.05**."
   ]
  },
  {
   "cell_type": "markdown",
   "metadata": {},
   "source": [
    "We calculate the correlation and the p-value between the number of the reviews and\n",
    "\n",
    "* number of parks\n",
    "* number of parks with more than 100 reviews\n",
    "* number of parks with more than 200 reviews\n",
    "* number of parks that is the top 100 popular ones"
   ]
  },
  {
   "cell_type": "code",
   "execution_count": null,
   "metadata": {},
   "outputs": [],
   "source": [
    "set_top_popular_parks = set(df_ypark.sort_values(by='review_count').head(100)['name'])"
   ]
  },
  {
   "cell_type": "code",
   "execution_count": null,
   "metadata": {},
   "outputs": [],
   "source": [
    "df_tract_review = df_tract_review.merge(\n",
    "    df_ypark.groupby('Tract').count().reset_index()[['Tract', 'name']].rename(columns={'name':'park_count'}),\n",
    "    on='Tract').merge(\n",
    "    df_ypark[df_ypark['review_count'] > 100].groupby('Tract').count().reset_index()[['Tract', 'name']].rename(columns={'name':'popular_park_count'}),\n",
    "    on='Tract').merge(\n",
    "    df_ypark[df_ypark['review_count'] > 200].groupby('Tract').count().reset_index()[['Tract', 'name']].rename(columns={'name':'very_popular_park_count'}),\n",
    "    on='Tract').merge(\n",
    "    df_ypark[df_ypark['name'].isin(set_top_popular_parks)].groupby('Tract').count().reset_index()[['Tract', 'name']].rename(columns={'name':'top_popular_park_count'}),\n",
    "    on='Tract')\n",
    "df_tract_review.head()"
   ]
  },
  {
   "cell_type": "code",
   "execution_count": null,
   "metadata": {},
   "outputs": [],
   "source": [
    "stats.spearmanr(df_tract_review['review_count'], df_tract_review['park_count'])"
   ]
  },
  {
   "cell_type": "code",
   "execution_count": null,
   "metadata": {},
   "outputs": [],
   "source": [
    "stats.spearmanr(df_tract_review['review_count'], df_tract_review['popular_park_count'])"
   ]
  },
  {
   "cell_type": "code",
   "execution_count": null,
   "metadata": {},
   "outputs": [],
   "source": [
    "stats.spearmanr(df_tract_review['review_count'], df_tract_review['very_popular_park_count'])"
   ]
  },
  {
   "cell_type": "code",
   "execution_count": null,
   "metadata": {},
   "outputs": [],
   "source": [
    "stats.spearmanr(df_tract_review['review_count'], df_tract_review['top_popular_park_count'])"
   ]
  },
  {
   "cell_type": "markdown",
   "metadata": {},
   "source": [
    "### Analysis on correlation with number of parks\n",
    "\n",
    "None of the p-values are small enough to reject the hypothesis.\n",
    "\n",
    "This means the number of reviews are positively correlated with the number of the parks with more than 100 or 200 reviews, but this is not statically significant."
   ]
  },
  {
   "cell_type": "markdown",
   "metadata": {},
   "source": [
    "We try to calculate the correlation between the review_count and other data of each tract and see if there is anything interesting."
   ]
  },
  {
   "cell_type": "code",
   "execution_count": null,
   "metadata": {},
   "outputs": [],
   "source": [
    "df_tract_merged = df_tract_review.merge(df_screen, left_on='Tract', right_on='Census Tract').drop(columns=['Census Tract'])\n",
    "df_tract_merged.head()"
   ]
  },
  {
   "cell_type": "code",
   "execution_count": null,
   "metadata": {},
   "outputs": [],
   "source": [
    "df_tract_merged.corr(method='spearman')['review_count'].sort_values(ascending=False).head(15)"
   ]
  },
  {
   "cell_type": "code",
   "execution_count": null,
   "metadata": {},
   "outputs": [],
   "source": [
    "stats.spearmanr(df_tract_merged['review_count'], df_tract_merged['Traffic'])"
   ]
  },
  {
   "cell_type": "code",
   "execution_count": null,
   "metadata": {},
   "outputs": [],
   "source": [
    "stats.spearmanr(df_tract_merged['review_count'], df_tract_merged['Poverty'])"
   ]
  },
  {
   "cell_type": "code",
   "execution_count": null,
   "metadata": {},
   "outputs": [],
   "source": [
    "stats.spearmanr(df_tract_merged['review_count'], df_tract_merged['Solid Waste'])"
   ]
  },
  {
   "cell_type": "code",
   "execution_count": null,
   "metadata": {},
   "outputs": [],
   "source": [
    "stats.spearmanr(df_tract_merged['review_count'], df_tract_merged['Pesticides'])"
   ]
  },
  {
   "cell_type": "markdown",
   "metadata": {},
   "source": [
    "### Analysis on correlation\n",
    "\n",
    "None of those are statically significant, even though Traffic and Poverty seems to be more correlated."
   ]
  },
  {
   "cell_type": "code",
   "execution_count": null,
   "metadata": {},
   "outputs": [],
   "source": [
    "outcome_review, predictors_review = patsy.dmatrices('review_count ~ park_count + popular_park_count + very_popular_park_count + top_popular_park_count', df_tract_merged)\n",
    "mod_review = sm.OLS(outcome_review, predictors_review)\n",
    "res_review = mod_review.fit()"
   ]
  },
  {
   "cell_type": "code",
   "execution_count": null,
   "metadata": {},
   "outputs": [],
   "source": [
    "print(res_review.summary())"
   ]
  },
  {
   "cell_type": "code",
   "execution_count": null,
   "metadata": {},
   "outputs": [],
   "source": [
    "outcome_review, predictors_review = patsy.dmatrices('review_count ~ park_count + popular_park_count + very_popular_park_count + top_popular_park_count + Traffic + Poverty + Q(\"Solid Waste\") + Pesticides', df_tract_merged)\n",
    "mod_review = sm.OLS(outcome_review, predictors_review)\n",
    "res_review = mod_review.fit()"
   ]
  },
  {
   "cell_type": "code",
   "execution_count": null,
   "metadata": {
    "scrolled": false
   },
   "outputs": [],
   "source": [
    "print(res_review.summary())"
   ]
  },
  {
   "cell_type": "markdown",
   "metadata": {},
   "source": [
    "### Analysis on OLS Regression\n",
    "\n",
    "Based on all the p values, we don't have strong evidence to say any of the factors significantly affect the number of reviews.\n",
    "\n",
    "This is reasonable. Since none of those factors will directly push any person to leave more reviews on Yelps for parks."
   ]
  },
  {
   "cell_type": "markdown",
   "metadata": {},
   "source": [
    "## Result\n",
    "\n",
    "From all the analysis above, we fail to support our hypothesis with statictically significant evidence. Thus we cannot make conclusion on whether more popular parks means more average reviews on Yelp.\n",
    "\n",
    "If we slightly loosen the threshold, we can see the number of parks with more than 100 reviews (i.e. the gerneally more popular parks) have positive correleation coefficient with the number of reviews."
   ]
  },
  {
   "cell_type": "markdown",
   "metadata": {},
   "source": [
    "# Ethics & Privacy"
   ]
  },
  {
   "cell_type": "markdown",
   "metadata": {},
   "source": [
    "*Fill in your ethics & privacy discussion here*\n",
    "\n",
    "This project did not use any personal information. All the data do not direct relate to any individual. For the Yelp data, it may relate to single business, but as the number of reviews do not have any harm on them, and all the inforamtion are public, it does not have high threats towards ethics or privacy.\n",
    "\n",
    "Did you have permission to use this data / use it for this purpose?\n",
    "\n",
    "* Yes.\n",
    "\n",
    "Are there privacy concerns regarding your datasets that you need to deal with, and/or terms of use that you need to comply with?\n",
    "\n",
    "* No.\n",
    "\n",
    "Are there potential biases in your dataset(s), in terms of who it composes, and how it was collected, that may be problematic in terms of it allowing for equitable analysis? (For example, does your data exclude particular populations, or is it likely to reflect particular human biases in a way that could be a problem?)\n",
    "\n",
    "* Yes. Not everyone leaves reviews on Yelp. In fact, most people do not review parks on Yelp. The data collected may have strong bias towards the people who are active on Yelp and who likes to leave reviews.\n",
    "* But this is not problematic in terms of it allowing for equitable analysis\n",
    "* Our research goal itself is why for the people who did leave reviews on Yelp behave differently\n",
    "\n",
    "Are there any other issues related to your topic area, data, and/or analyses that are potentially problematic in terms of data privacy and equitable impact?\n",
    "\n",
    "* One potential that may be problematic in terms of equitable impact is that many people without enough income do not have access to the internet and do not have the ability to review on Yelp\n",
    "\n",
    "How will you handle issues you identified?\n",
    "\n",
    "* This issue is beyond the scope of this project, as we only want to know about the people who did review on Yelp\n",
    "* If we need to consider those, we need to fundamentally change our reserach question. We cannot include any specific online platform at all\n",
    "* Even we only consider paper-based census, it still suffers from the possible lack of coverage\n",
    "* Thus we highlight the platform we conduct the research, i.e. Yelp"
   ]
  },
  {
   "cell_type": "markdown",
   "metadata": {},
   "source": [
    "# Conclusion & Discussion"
   ]
  },
  {
   "cell_type": "markdown",
   "metadata": {},
   "source": [
    "*Fill in your discussion information here*\n",
    "\n",
    "This project analyzed the distribution of the average number of reviews on Yelp for San Diego parks and recreation centers. The primary data used were the Yelp review data and the question is why do different areas in San Diego have different average number of reviews.\n",
    "\n",
    "My analysis used Spearman rank-order correlation coefficient measure and OLS regression to check the correlation coefficients and the corresponding p-values. No significant relationship can be supported by strong evidence. The number of popular parks do not have statistically significant linear relationships with the average number of reviews. Thus I cannot support the hypothesis.\n",
    "\n",
    "The limitations are clear: I don't have the data of most factors that directly push more people to leave more Yelp reviews. Also the popular parks are defined with the number of review_count as well. So essentially speaking the analysis is based only on one data. There is no other better souce of the list of popular parks in San Diego used in this project.\n",
    "\n",
    "Another limitation is the labelling. I used the census tract to label each sub-area of San Diego. But in real life it may be more useful to label using the larger neighborhoods.\n",
    "\n",
    "This work does not have direct impacts on the society. It might help people to better understand the parks of San Diego, understand what parks or recreation centers are most popular on Yelp, understand that the popular parks do not distribute uniformally across the whole San Diego county (i.e. a few census tracts have the top popular parks). This may help us to not only think about the access to parks of San Diego residents only but also consider the reviews for the parks."
   ]
  }
 ],
 "metadata": {
  "kernelspec": {
   "display_name": "Python 3",
   "language": "python",
   "name": "python3"
  },
  "language_info": {
   "codemirror_mode": {
    "name": "ipython",
    "version": 3
   },
   "file_extension": ".py",
   "mimetype": "text/x-python",
   "name": "python",
   "nbconvert_exporter": "python",
   "pygments_lexer": "ipython3",
   "version": "3.6.6"
  }
 },
 "nbformat": 4,
 "nbformat_minor": 2
}
