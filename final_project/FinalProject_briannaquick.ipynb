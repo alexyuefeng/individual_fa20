{
 "cells": [
  {
   "cell_type": "markdown",
   "metadata": {},
   "source": [
    "# COGS 108 - Final Project "
   ]
  },
  {
   "cell_type": "markdown",
   "metadata": {},
   "source": [
    "# Overview"
   ]
  },
  {
   "cell_type": "markdown",
   "metadata": {},
   "source": [
    "In this project, I examined the relationship between San Diego's budget data and it's crime data for the years of 2017 through 2019. The goal was to find a correlation between budget and crime and to see if they influenced each other. The results of my analysis are that there is no clear correlation between these variables since between 2017 and 2018, there was a crime decrease and 2018 to 2019 saw an increase all while budget steadily increased over the years. In conclusion, there is more research to be done between crime and police budget data and also crime and other forms of budget data. "
   ]
  },
  {
   "cell_type": "markdown",
   "metadata": {},
   "source": [
    "# Name & GitHub\n",
    "\n",
    "- Name: Brianna Quick\n",
    "- GitHub Username: briannaquick"
   ]
  },
  {
   "cell_type": "markdown",
   "metadata": {},
   "source": [
    "# Research Question"
   ]
  },
  {
   "cell_type": "markdown",
   "metadata": {},
   "source": [
    "Does budget data and crime data have a positive or negative correlation for the city of San Diego from 2017 to 2019?"
   ]
  },
  {
   "cell_type": "markdown",
   "metadata": {},
   "source": [
    "## Background and Prior Work"
   ]
  },
  {
   "cell_type": "markdown",
   "metadata": {},
   "source": [
    "In these tumulutous times, there has been one seemingly big question that society has been pondering on. Will reducing police budget help in solving the systemic racism taking place and reduce the numbers of injustice appearing throughout the U.S., especially the disproportional murder of black folks by police brutality? Or will in fact, the opposite happens, less police spending can cause an increase in police brutality? Both sides seem to have an argument backed up by data.\n",
    "\n",
    "\n",
    "Earlier this year, we observed an increase in crime in many cities across the U.S.. Some, including to President Trump,  believe it is due to the recent calls to defund the police, but this article posted by the Washington Post, says otherwise. \"The spike is related in complex ways to both the coronavirus pandemic and social unrest over police violence ... the looming reductions in policing and other city services are much more likely to result from revenue shortfalls caused by the coronavirus than from the demands of protesters.\" (Rosenfeld, Washington Post, 2020) This article blames social unrest and panic due to the Pandemic for the increase in crime in many cities, dismantling the belief that it as due to decreases in police spending. \n",
    "\n",
    "However, other sources seem to see an opposite trend than what people are calling for. In Minneosota, the Minneapolis City Council voted to defund the police department and redistribute it's funds to a community-based system of policing. With the current data, this seems to have backfired. \"The Minneapolis Police Department’s crime data reflects a rise in assaults, robberies, and homicides, as well as property crimes and arson.\" And going as far to say that, \"more people have been murdered in the first nine months of 2020 than in all of 2019.\" (Royal Alexander, Shreveport Times, 2020) We could never know if this increase in crime in Minneapolis was due to a decrease in spending or just civil unrest due to these trying times, but more data seems to be needed to understand the correlation. \n",
    "\n",
    "Finally, this source gives hard data on this trend Nationwide. This article from Politico seems to support a compromise between the two sides. Thomas and Jin write, \"Studies have shown that an increase in sworn police officers reduces instances of crime. \"However, increases in other factors — such as social welfare, access to health care, employment and other social services — have also been shown to decrease crime rates.\" (Thomas & Jin, Politco, 2020) It is unclear whether the decrease in crime rates is due to an increase in police budget or an increase in societal spending towards school, health services, and other welfare programs but it is safe to say that it is a healthy combination of both. \n",
    "\n",
    "Because of this confusion between sides and clear causations, it is critical for data on these issues. Data scientists can significantly help in defining trends that seem unclear without the mountains of data to analyze. My research will specifically focus on the city of San Diego and it's budget and crime rates. If we could find a clear trend between these variables, we can then come up with a clear answer to this daunting question and hopefully create a better future with less injustice. \n",
    "\n",
    "References (include links):\n",
    "- 1) As U.S. crime rates dropped, local police spending soared: https://www.politico.com/interactives/2020/police-budget-spending-george-floyd-defund/\n",
    "- 2) City that defunded police shocked by crime increase: https://www.shreveporttimes.com/story/opinion/columnists/2020/09/25/royal-alexander-city-defunded-police-sees-increase-crime/3522771001/\n",
    "- 3) Crime is up. But it’s not because people are criticizing the police: \n",
    "https://www.washingtonpost.com/outlook/2020/09/14/crime-increase-pandemic-protests/\n"
   ]
  },
  {
   "cell_type": "markdown",
   "metadata": {},
   "source": [
    "# Hypothesis\n"
   ]
  },
  {
   "cell_type": "markdown",
   "metadata": {},
   "source": [
    "I predict that an increase in police spending will also correlate with a decrease in crime rates in San Diego during 2017 - 2020. This is because prior work on these issues resulted in this trend and I believe an increase in police budget will cause an increase in funding for not only policing services but also social services, including health care, schooling, and societal reforms. "
   ]
  },
  {
   "cell_type": "markdown",
   "metadata": {},
   "source": [
    "# Dataset(s)"
   ]
  },
  {
   "cell_type": "markdown",
   "metadata": {},
   "source": [
    "\n",
    "- Dataset Name: San Diego Budget Data\n",
    "- Link to the dataset: https://data.sandiego.gov/datasets/operating-actuals/\n",
    "- Number of observations: 454,891\n",
    "- Description: This dataset shows the the amount of dollars spent throughout the city to fund operations and services. \n",
    "\n",
    "\n",
    "\n",
    "- Dataset Name: San Diego Crime Data\n",
    "- Link to the dataset: https://data.sandiego.gov/datasets/police-calls-for-service/\n",
    "- Number of observations: 1,742,003 (for all three years)\n",
    "- Description: This data provides calls dispatched by the San Diego Police Department's communications dispatch center. Data regarding sensitice incidents is not included.\n",
    "\n"
   ]
  },
  {
   "cell_type": "markdown",
   "metadata": {},
   "source": [
    "# Setup"
   ]
  },
  {
   "cell_type": "code",
   "execution_count": 1,
   "metadata": {},
   "outputs": [],
   "source": [
    "#imports\n",
    "\n",
    "%matplotlib inline\n",
    "\n",
    "import numpy as np\n",
    "import pandas as pd\n",
    "import matplotlib.pyplot as plt\n",
    "\n",
    "import seaborn as sns\n",
    "sns.set()\n",
    "sns.set_context('talk')\n",
    "\n",
    "import warnings\n",
    "warnings.filterwarnings('ignore')\n",
    "\n",
    "import patsy\n",
    "import statsmodels.api as sm\n",
    "import scipy.stats as stats\n",
    "from scipy.stats import ttest_ind, chisquare, normaltest\n"
   ]
  },
  {
   "cell_type": "markdown",
   "metadata": {},
   "source": [
    "# Reading Files\n",
    "\n",
    "- Budget Data \n",
    "- Police Calls Data (2017 - 2020)\n",
    "- Police Dictionary"
   ]
  },
  {
   "cell_type": "code",
   "execution_count": 2,
   "metadata": {},
   "outputs": [],
   "source": [
    "#read in budget data\n",
    "df_budget = pd.read_csv('actuals_operating_datasd.csv')"
   ]
  },
  {
   "cell_type": "code",
   "execution_count": 3,
   "metadata": {},
   "outputs": [
    {
     "data": {
      "text/html": [
       "<div>\n",
       "<style scoped>\n",
       "    .dataframe tbody tr th:only-of-type {\n",
       "        vertical-align: middle;\n",
       "    }\n",
       "\n",
       "    .dataframe tbody tr th {\n",
       "        vertical-align: top;\n",
       "    }\n",
       "\n",
       "    .dataframe thead th {\n",
       "        text-align: right;\n",
       "    }\n",
       "</style>\n",
       "<table border=\"1\" class=\"dataframe\">\n",
       "  <thead>\n",
       "    <tr style=\"text-align: right;\">\n",
       "      <th></th>\n",
       "      <th>amount</th>\n",
       "      <th>report_fy</th>\n",
       "      <th>fund_type</th>\n",
       "      <th>fund_number</th>\n",
       "      <th>dept_name</th>\n",
       "      <th>funds_center_number</th>\n",
       "      <th>account</th>\n",
       "      <th>account_number</th>\n",
       "    </tr>\n",
       "  </thead>\n",
       "  <tbody>\n",
       "    <tr>\n",
       "      <th>0</th>\n",
       "      <td>349193.50</td>\n",
       "      <td>17</td>\n",
       "      <td>General Fund</td>\n",
       "      <td>100000</td>\n",
       "      <td>Office of the Chief Operating Officer</td>\n",
       "      <td>1001000011</td>\n",
       "      <td>Salaried Wages</td>\n",
       "      <td>500011</td>\n",
       "    </tr>\n",
       "    <tr>\n",
       "      <th>1</th>\n",
       "      <td>23875.99</td>\n",
       "      <td>17</td>\n",
       "      <td>General Fund</td>\n",
       "      <td>100000</td>\n",
       "      <td>Office of the Chief Operating Officer</td>\n",
       "      <td>1001000011</td>\n",
       "      <td>Vacation</td>\n",
       "      <td>500014</td>\n",
       "    </tr>\n",
       "    <tr>\n",
       "      <th>2</th>\n",
       "      <td>7449.95</td>\n",
       "      <td>17</td>\n",
       "      <td>General Fund</td>\n",
       "      <td>100000</td>\n",
       "      <td>Office of the Chief Operating Officer</td>\n",
       "      <td>1001000011</td>\n",
       "      <td>Sick Leave/Vacation Accrual</td>\n",
       "      <td>500015</td>\n",
       "    </tr>\n",
       "    <tr>\n",
       "      <th>3</th>\n",
       "      <td>2942.31</td>\n",
       "      <td>17</td>\n",
       "      <td>General Fund</td>\n",
       "      <td>100000</td>\n",
       "      <td>Office of the Chief Operating Officer</td>\n",
       "      <td>1001000011</td>\n",
       "      <td>A/L Bereavement Pay</td>\n",
       "      <td>500016</td>\n",
       "    </tr>\n",
       "    <tr>\n",
       "      <th>4</th>\n",
       "      <td>1532.45</td>\n",
       "      <td>17</td>\n",
       "      <td>General Fund</td>\n",
       "      <td>100000</td>\n",
       "      <td>Office of the Chief Operating Officer</td>\n",
       "      <td>1001000011</td>\n",
       "      <td>Vacation Pay In Lieu</td>\n",
       "      <td>500017</td>\n",
       "    </tr>\n",
       "  </tbody>\n",
       "</table>\n",
       "</div>"
      ],
      "text/plain": [
       "      amount  report_fy     fund_type  fund_number  \\\n",
       "0  349193.50         17  General Fund       100000   \n",
       "1   23875.99         17  General Fund       100000   \n",
       "2    7449.95         17  General Fund       100000   \n",
       "3    2942.31         17  General Fund       100000   \n",
       "4    1532.45         17  General Fund       100000   \n",
       "\n",
       "                               dept_name  funds_center_number  \\\n",
       "0  Office of the Chief Operating Officer           1001000011   \n",
       "1  Office of the Chief Operating Officer           1001000011   \n",
       "2  Office of the Chief Operating Officer           1001000011   \n",
       "3  Office of the Chief Operating Officer           1001000011   \n",
       "4  Office of the Chief Operating Officer           1001000011   \n",
       "\n",
       "                       account  account_number  \n",
       "0               Salaried Wages          500011  \n",
       "1                     Vacation          500014  \n",
       "2  Sick Leave/Vacation Accrual          500015  \n",
       "3          A/L Bereavement Pay          500016  \n",
       "4         Vacation Pay In Lieu          500017  "
      ]
     },
     "execution_count": 3,
     "metadata": {},
     "output_type": "execute_result"
    }
   ],
   "source": [
    "#check it out\n",
    "df_budget.head()"
   ]
  },
  {
   "cell_type": "code",
   "execution_count": 4,
   "metadata": {},
   "outputs": [],
   "source": [
    "#read in police call data for 2020\n",
    "df_calls20 = pd.read_csv('pd_calls_for_service_2020_datasd.csv')"
   ]
  },
  {
   "cell_type": "code",
   "execution_count": 5,
   "metadata": {},
   "outputs": [
    {
     "data": {
      "text/html": [
       "<div>\n",
       "<style scoped>\n",
       "    .dataframe tbody tr th:only-of-type {\n",
       "        vertical-align: middle;\n",
       "    }\n",
       "\n",
       "    .dataframe tbody tr th {\n",
       "        vertical-align: top;\n",
       "    }\n",
       "\n",
       "    .dataframe thead th {\n",
       "        text-align: right;\n",
       "    }\n",
       "</style>\n",
       "<table border=\"1\" class=\"dataframe\">\n",
       "  <thead>\n",
       "    <tr style=\"text-align: right;\">\n",
       "      <th></th>\n",
       "      <th>incident_num</th>\n",
       "      <th>date_time</th>\n",
       "      <th>day_of_week</th>\n",
       "      <th>address_number_primary</th>\n",
       "      <th>address_dir_primary</th>\n",
       "      <th>address_road_primary</th>\n",
       "      <th>address_sfx_primary</th>\n",
       "      <th>address_dir_intersecting</th>\n",
       "      <th>address_road_intersecting</th>\n",
       "      <th>address_sfx_intersecting</th>\n",
       "      <th>call_type</th>\n",
       "      <th>disposition</th>\n",
       "      <th>beat</th>\n",
       "      <th>priority</th>\n",
       "    </tr>\n",
       "  </thead>\n",
       "  <tbody>\n",
       "    <tr>\n",
       "      <th>0</th>\n",
       "      <td>E20010000001</td>\n",
       "      <td>2020-01-01 00:00:09</td>\n",
       "      <td>4</td>\n",
       "      <td>400</td>\n",
       "      <td>NaN</td>\n",
       "      <td>06TH</td>\n",
       "      <td>AVE</td>\n",
       "      <td>NaN</td>\n",
       "      <td>NaN</td>\n",
       "      <td>NaN</td>\n",
       "      <td>11-8</td>\n",
       "      <td>A</td>\n",
       "      <td>523</td>\n",
       "      <td>0</td>\n",
       "    </tr>\n",
       "    <tr>\n",
       "      <th>1</th>\n",
       "      <td>E20010000002</td>\n",
       "      <td>2020-01-01 00:00:20</td>\n",
       "      <td>4</td>\n",
       "      <td>5000</td>\n",
       "      <td>NaN</td>\n",
       "      <td>UNIVERSITY</td>\n",
       "      <td>AVE</td>\n",
       "      <td>NaN</td>\n",
       "      <td>NaN</td>\n",
       "      <td>NaN</td>\n",
       "      <td>FD</td>\n",
       "      <td>K</td>\n",
       "      <td>826</td>\n",
       "      <td>2</td>\n",
       "    </tr>\n",
       "    <tr>\n",
       "      <th>2</th>\n",
       "      <td>E20010000003</td>\n",
       "      <td>2020-01-01 00:00:21</td>\n",
       "      <td>4</td>\n",
       "      <td>800</td>\n",
       "      <td>NaN</td>\n",
       "      <td>SAWTELLE</td>\n",
       "      <td>AVE</td>\n",
       "      <td>NaN</td>\n",
       "      <td>NaN</td>\n",
       "      <td>NaN</td>\n",
       "      <td>AU1</td>\n",
       "      <td>W</td>\n",
       "      <td>434</td>\n",
       "      <td>1</td>\n",
       "    </tr>\n",
       "    <tr>\n",
       "      <th>3</th>\n",
       "      <td>E20010000004</td>\n",
       "      <td>2020-01-01 00:00:32</td>\n",
       "      <td>4</td>\n",
       "      <td>5000</td>\n",
       "      <td>NaN</td>\n",
       "      <td>UNIVERSITY</td>\n",
       "      <td>AVE</td>\n",
       "      <td>NaN</td>\n",
       "      <td>NaN</td>\n",
       "      <td>NaN</td>\n",
       "      <td>FD</td>\n",
       "      <td>K</td>\n",
       "      <td>826</td>\n",
       "      <td>2</td>\n",
       "    </tr>\n",
       "    <tr>\n",
       "      <th>4</th>\n",
       "      <td>E20010000005</td>\n",
       "      <td>2020-01-01 00:00:42</td>\n",
       "      <td>4</td>\n",
       "      <td>5200</td>\n",
       "      <td>NaN</td>\n",
       "      <td>CLAIREMONT MESA</td>\n",
       "      <td>BLV</td>\n",
       "      <td>NaN</td>\n",
       "      <td>NaN</td>\n",
       "      <td>NaN</td>\n",
       "      <td>415V</td>\n",
       "      <td>K</td>\n",
       "      <td>111</td>\n",
       "      <td>1</td>\n",
       "    </tr>\n",
       "  </tbody>\n",
       "</table>\n",
       "</div>"
      ],
      "text/plain": [
       "   incident_num            date_time  day_of_week  address_number_primary  \\\n",
       "0  E20010000001  2020-01-01 00:00:09            4                     400   \n",
       "1  E20010000002  2020-01-01 00:00:20            4                    5000   \n",
       "2  E20010000003  2020-01-01 00:00:21            4                     800   \n",
       "3  E20010000004  2020-01-01 00:00:32            4                    5000   \n",
       "4  E20010000005  2020-01-01 00:00:42            4                    5200   \n",
       "\n",
       "  address_dir_primary address_road_primary address_sfx_primary  \\\n",
       "0                 NaN                 06TH                 AVE   \n",
       "1                 NaN           UNIVERSITY                 AVE   \n",
       "2                 NaN             SAWTELLE                 AVE   \n",
       "3                 NaN           UNIVERSITY                 AVE   \n",
       "4                 NaN      CLAIREMONT MESA                 BLV   \n",
       "\n",
       "   address_dir_intersecting address_road_intersecting  \\\n",
       "0                       NaN                       NaN   \n",
       "1                       NaN                       NaN   \n",
       "2                       NaN                       NaN   \n",
       "3                       NaN                       NaN   \n",
       "4                       NaN                       NaN   \n",
       "\n",
       "   address_sfx_intersecting call_type disposition  beat  priority  \n",
       "0                       NaN      11-8           A   523         0  \n",
       "1                       NaN        FD           K   826         2  \n",
       "2                       NaN       AU1           W   434         1  \n",
       "3                       NaN        FD           K   826         2  \n",
       "4                       NaN      415V           K   111         1  "
      ]
     },
     "execution_count": 5,
     "metadata": {},
     "output_type": "execute_result"
    }
   ],
   "source": [
    "#check it out\n",
    "df_calls20.head()"
   ]
  },
  {
   "cell_type": "code",
   "execution_count": 6,
   "metadata": {},
   "outputs": [],
   "source": [
    "#read in police call data for 2019\n",
    "df_calls19 = pd.read_csv('pd_calls_for_service_2019_datasd.csv')"
   ]
  },
  {
   "cell_type": "code",
   "execution_count": 7,
   "metadata": {},
   "outputs": [
    {
     "data": {
      "text/html": [
       "<div>\n",
       "<style scoped>\n",
       "    .dataframe tbody tr th:only-of-type {\n",
       "        vertical-align: middle;\n",
       "    }\n",
       "\n",
       "    .dataframe tbody tr th {\n",
       "        vertical-align: top;\n",
       "    }\n",
       "\n",
       "    .dataframe thead th {\n",
       "        text-align: right;\n",
       "    }\n",
       "</style>\n",
       "<table border=\"1\" class=\"dataframe\">\n",
       "  <thead>\n",
       "    <tr style=\"text-align: right;\">\n",
       "      <th></th>\n",
       "      <th>incident_num</th>\n",
       "      <th>date_time</th>\n",
       "      <th>day_of_week</th>\n",
       "      <th>address_number_primary</th>\n",
       "      <th>address_dir_primary</th>\n",
       "      <th>address_road_primary</th>\n",
       "      <th>address_sfx_primary</th>\n",
       "      <th>address_dir_intersecting</th>\n",
       "      <th>address_road_intersecting</th>\n",
       "      <th>address_sfx_intersecting</th>\n",
       "      <th>call_type</th>\n",
       "      <th>disposition</th>\n",
       "      <th>beat</th>\n",
       "      <th>priority</th>\n",
       "    </tr>\n",
       "  </thead>\n",
       "  <tbody>\n",
       "    <tr>\n",
       "      <th>0</th>\n",
       "      <td>E19010000001</td>\n",
       "      <td>2019-01-01 00:00:01</td>\n",
       "      <td>1</td>\n",
       "      <td>3800</td>\n",
       "      <td>NaN</td>\n",
       "      <td>NATIONAL</td>\n",
       "      <td>AVE</td>\n",
       "      <td>NaN</td>\n",
       "      <td>NaN</td>\n",
       "      <td>NaN</td>\n",
       "      <td>AU1</td>\n",
       "      <td>DUP</td>\n",
       "      <td>441</td>\n",
       "      <td>1</td>\n",
       "    </tr>\n",
       "    <tr>\n",
       "      <th>1</th>\n",
       "      <td>E19010000002</td>\n",
       "      <td>2019-01-01 00:00:04</td>\n",
       "      <td>1</td>\n",
       "      <td>6500</td>\n",
       "      <td>NaN</td>\n",
       "      <td>REFLECTION</td>\n",
       "      <td>DR</td>\n",
       "      <td>NaN</td>\n",
       "      <td>NaN</td>\n",
       "      <td>NaN</td>\n",
       "      <td>415</td>\n",
       "      <td>K</td>\n",
       "      <td>321</td>\n",
       "      <td>2</td>\n",
       "    </tr>\n",
       "    <tr>\n",
       "      <th>2</th>\n",
       "      <td>E19010000003</td>\n",
       "      <td>2019-01-01 00:00:09</td>\n",
       "      <td>1</td>\n",
       "      <td>0</td>\n",
       "      <td>NaN</td>\n",
       "      <td>06TH</td>\n",
       "      <td>AVE</td>\n",
       "      <td>NaN</td>\n",
       "      <td>ISLAND</td>\n",
       "      <td>NaN</td>\n",
       "      <td>FD</td>\n",
       "      <td>K</td>\n",
       "      <td>523</td>\n",
       "      <td>2</td>\n",
       "    </tr>\n",
       "    <tr>\n",
       "      <th>3</th>\n",
       "      <td>E19010000004</td>\n",
       "      <td>2019-01-01 00:00:19</td>\n",
       "      <td>1</td>\n",
       "      <td>0</td>\n",
       "      <td>NaN</td>\n",
       "      <td>VESTA</td>\n",
       "      <td>ST</td>\n",
       "      <td>NaN</td>\n",
       "      <td>MAIN</td>\n",
       "      <td>NaN</td>\n",
       "      <td>AU1</td>\n",
       "      <td>W</td>\n",
       "      <td>511</td>\n",
       "      <td>1</td>\n",
       "    </tr>\n",
       "    <tr>\n",
       "      <th>4</th>\n",
       "      <td>E19010000005</td>\n",
       "      <td>2019-01-01 00:00:31</td>\n",
       "      <td>1</td>\n",
       "      <td>0</td>\n",
       "      <td>NaN</td>\n",
       "      <td>04TH</td>\n",
       "      <td>AVE</td>\n",
       "      <td>NaN</td>\n",
       "      <td>ISLAND</td>\n",
       "      <td>NaN</td>\n",
       "      <td>586</td>\n",
       "      <td>CAN</td>\n",
       "      <td>523</td>\n",
       "      <td>4</td>\n",
       "    </tr>\n",
       "  </tbody>\n",
       "</table>\n",
       "</div>"
      ],
      "text/plain": [
       "   incident_num            date_time  day_of_week  address_number_primary  \\\n",
       "0  E19010000001  2019-01-01 00:00:01            1                    3800   \n",
       "1  E19010000002  2019-01-01 00:00:04            1                    6500   \n",
       "2  E19010000003  2019-01-01 00:00:09            1                       0   \n",
       "3  E19010000004  2019-01-01 00:00:19            1                       0   \n",
       "4  E19010000005  2019-01-01 00:00:31            1                       0   \n",
       "\n",
       "  address_dir_primary address_road_primary address_sfx_primary  \\\n",
       "0                 NaN             NATIONAL                 AVE   \n",
       "1                 NaN           REFLECTION                  DR   \n",
       "2                 NaN                 06TH                 AVE   \n",
       "3                 NaN                VESTA                  ST   \n",
       "4                 NaN                 04TH                 AVE   \n",
       "\n",
       "   address_dir_intersecting address_road_intersecting  \\\n",
       "0                       NaN                       NaN   \n",
       "1                       NaN                       NaN   \n",
       "2                       NaN                    ISLAND   \n",
       "3                       NaN                      MAIN   \n",
       "4                       NaN                    ISLAND   \n",
       "\n",
       "   address_sfx_intersecting call_type disposition  beat  priority  \n",
       "0                       NaN       AU1         DUP   441         1  \n",
       "1                       NaN       415           K   321         2  \n",
       "2                       NaN        FD           K   523         2  \n",
       "3                       NaN       AU1           W   511         1  \n",
       "4                       NaN       586         CAN   523         4  "
      ]
     },
     "execution_count": 7,
     "metadata": {},
     "output_type": "execute_result"
    }
   ],
   "source": [
    "#check it out\n",
    "df_calls19.head()"
   ]
  },
  {
   "cell_type": "code",
   "execution_count": 8,
   "metadata": {},
   "outputs": [],
   "source": [
    "#read in police call data for 2018\n",
    "df_calls18 = pd.read_csv('pd_calls_for_service_2018_datasd.csv')"
   ]
  },
  {
   "cell_type": "code",
   "execution_count": 9,
   "metadata": {},
   "outputs": [
    {
     "data": {
      "text/html": [
       "<div>\n",
       "<style scoped>\n",
       "    .dataframe tbody tr th:only-of-type {\n",
       "        vertical-align: middle;\n",
       "    }\n",
       "\n",
       "    .dataframe tbody tr th {\n",
       "        vertical-align: top;\n",
       "    }\n",
       "\n",
       "    .dataframe thead th {\n",
       "        text-align: right;\n",
       "    }\n",
       "</style>\n",
       "<table border=\"1\" class=\"dataframe\">\n",
       "  <thead>\n",
       "    <tr style=\"text-align: right;\">\n",
       "      <th></th>\n",
       "      <th>incident_num</th>\n",
       "      <th>date_time</th>\n",
       "      <th>day_of_week</th>\n",
       "      <th>address_number_primary</th>\n",
       "      <th>address_dir_primary</th>\n",
       "      <th>address_road_primary</th>\n",
       "      <th>address_sfx_primary</th>\n",
       "      <th>address_dir_intersecting</th>\n",
       "      <th>address_road_intersecting</th>\n",
       "      <th>address_sfx_intersecting</th>\n",
       "      <th>call_type</th>\n",
       "      <th>disposition</th>\n",
       "      <th>beat</th>\n",
       "      <th>priority</th>\n",
       "    </tr>\n",
       "  </thead>\n",
       "  <tbody>\n",
       "    <tr>\n",
       "      <th>0</th>\n",
       "      <td>E18010000001</td>\n",
       "      <td>2018-01-01 00:00:09</td>\n",
       "      <td>0</td>\n",
       "      <td>0</td>\n",
       "      <td>NaN</td>\n",
       "      <td>MONROE</td>\n",
       "      <td>AVE</td>\n",
       "      <td>NaN</td>\n",
       "      <td>PARK</td>\n",
       "      <td>NaN</td>\n",
       "      <td>FD</td>\n",
       "      <td>K</td>\n",
       "      <td>624</td>\n",
       "      <td>2</td>\n",
       "    </tr>\n",
       "    <tr>\n",
       "      <th>1</th>\n",
       "      <td>E18010000002</td>\n",
       "      <td>2018-01-01 00:00:41</td>\n",
       "      <td>0</td>\n",
       "      <td>0</td>\n",
       "      <td>NaN</td>\n",
       "      <td>MAIN</td>\n",
       "      <td>ST</td>\n",
       "      <td>NaN</td>\n",
       "      <td>THOR</td>\n",
       "      <td>NaN</td>\n",
       "      <td>AU1</td>\n",
       "      <td>W</td>\n",
       "      <td>511</td>\n",
       "      <td>1</td>\n",
       "    </tr>\n",
       "    <tr>\n",
       "      <th>2</th>\n",
       "      <td>E18010000003</td>\n",
       "      <td>2018-01-01 00:00:52</td>\n",
       "      <td>0</td>\n",
       "      <td>4300</td>\n",
       "      <td>NaN</td>\n",
       "      <td>OCEAN</td>\n",
       "      <td>BLV</td>\n",
       "      <td>NaN</td>\n",
       "      <td>NaN</td>\n",
       "      <td>NaN</td>\n",
       "      <td>1016</td>\n",
       "      <td>A</td>\n",
       "      <td>122</td>\n",
       "      <td>2</td>\n",
       "    </tr>\n",
       "    <tr>\n",
       "      <th>3</th>\n",
       "      <td>E18010000004</td>\n",
       "      <td>2018-01-01 00:00:55</td>\n",
       "      <td>0</td>\n",
       "      <td>4500</td>\n",
       "      <td>NaN</td>\n",
       "      <td>BOYLSTON</td>\n",
       "      <td>ST</td>\n",
       "      <td>NaN</td>\n",
       "      <td>NaN</td>\n",
       "      <td>NaN</td>\n",
       "      <td>AU1</td>\n",
       "      <td>W</td>\n",
       "      <td>445</td>\n",
       "      <td>1</td>\n",
       "    </tr>\n",
       "    <tr>\n",
       "      <th>4</th>\n",
       "      <td>E18010000005</td>\n",
       "      <td>2018-01-01 00:00:56</td>\n",
       "      <td>0</td>\n",
       "      <td>0</td>\n",
       "      <td>NaN</td>\n",
       "      <td>04TH</td>\n",
       "      <td>AVE</td>\n",
       "      <td>NaN</td>\n",
       "      <td>ISLAND</td>\n",
       "      <td>NaN</td>\n",
       "      <td>1151</td>\n",
       "      <td>O</td>\n",
       "      <td>523</td>\n",
       "      <td>3</td>\n",
       "    </tr>\n",
       "  </tbody>\n",
       "</table>\n",
       "</div>"
      ],
      "text/plain": [
       "   incident_num            date_time  day_of_week  address_number_primary  \\\n",
       "0  E18010000001  2018-01-01 00:00:09            0                       0   \n",
       "1  E18010000002  2018-01-01 00:00:41            0                       0   \n",
       "2  E18010000003  2018-01-01 00:00:52            0                    4300   \n",
       "3  E18010000004  2018-01-01 00:00:55            0                    4500   \n",
       "4  E18010000005  2018-01-01 00:00:56            0                       0   \n",
       "\n",
       "  address_dir_primary address_road_primary address_sfx_primary  \\\n",
       "0                 NaN               MONROE                 AVE   \n",
       "1                 NaN                 MAIN                  ST   \n",
       "2                 NaN                OCEAN                 BLV   \n",
       "3                 NaN             BOYLSTON                  ST   \n",
       "4                 NaN                 04TH                 AVE   \n",
       "\n",
       "   address_dir_intersecting address_road_intersecting  \\\n",
       "0                       NaN                      PARK   \n",
       "1                       NaN                      THOR   \n",
       "2                       NaN                       NaN   \n",
       "3                       NaN                       NaN   \n",
       "4                       NaN                    ISLAND   \n",
       "\n",
       "   address_sfx_intersecting call_type disposition  beat  priority  \n",
       "0                       NaN        FD           K   624         2  \n",
       "1                       NaN       AU1           W   511         1  \n",
       "2                       NaN      1016           A   122         2  \n",
       "3                       NaN       AU1           W   445         1  \n",
       "4                       NaN      1151           O   523         3  "
      ]
     },
     "execution_count": 9,
     "metadata": {},
     "output_type": "execute_result"
    }
   ],
   "source": [
    "#check it out\n",
    "df_calls18.head()"
   ]
  },
  {
   "cell_type": "code",
   "execution_count": 10,
   "metadata": {},
   "outputs": [],
   "source": [
    "#read in police call data for 2017\n",
    "df_calls17 = pd.read_csv('pd_calls_for_service_2017_datasd_v1.csv')"
   ]
  },
  {
   "cell_type": "code",
   "execution_count": 11,
   "metadata": {},
   "outputs": [
    {
     "data": {
      "text/html": [
       "<div>\n",
       "<style scoped>\n",
       "    .dataframe tbody tr th:only-of-type {\n",
       "        vertical-align: middle;\n",
       "    }\n",
       "\n",
       "    .dataframe tbody tr th {\n",
       "        vertical-align: top;\n",
       "    }\n",
       "\n",
       "    .dataframe thead th {\n",
       "        text-align: right;\n",
       "    }\n",
       "</style>\n",
       "<table border=\"1\" class=\"dataframe\">\n",
       "  <thead>\n",
       "    <tr style=\"text-align: right;\">\n",
       "      <th></th>\n",
       "      <th>incident_num</th>\n",
       "      <th>date_time</th>\n",
       "      <th>day_of_week</th>\n",
       "      <th>address_number_primary</th>\n",
       "      <th>address_dir_primary</th>\n",
       "      <th>address_road_primary</th>\n",
       "      <th>address_sfx_primary</th>\n",
       "      <th>address_dir_intersecting</th>\n",
       "      <th>address_road_intersecting</th>\n",
       "      <th>address_sfx_intersecting</th>\n",
       "      <th>call_type</th>\n",
       "      <th>disposition</th>\n",
       "      <th>beat</th>\n",
       "      <th>priority</th>\n",
       "    </tr>\n",
       "  </thead>\n",
       "  <tbody>\n",
       "    <tr>\n",
       "      <th>0</th>\n",
       "      <td>P17010000001</td>\n",
       "      <td>2017-01-01 00:00:09</td>\n",
       "      <td>6</td>\n",
       "      <td>0</td>\n",
       "      <td>NaN</td>\n",
       "      <td>CHP INFO LOG</td>\n",
       "      <td>NaN</td>\n",
       "      <td>NaN</td>\n",
       "      <td>NaN</td>\n",
       "      <td>NaN</td>\n",
       "      <td>INFOCHP</td>\n",
       "      <td>K</td>\n",
       "      <td>999.0</td>\n",
       "      <td>4</td>\n",
       "    </tr>\n",
       "    <tr>\n",
       "      <th>1</th>\n",
       "      <td>P17010000002</td>\n",
       "      <td>2017-01-01 00:00:10</td>\n",
       "      <td>6</td>\n",
       "      <td>0</td>\n",
       "      <td>NaN</td>\n",
       "      <td>SHOPS INFO LOG</td>\n",
       "      <td>NaN</td>\n",
       "      <td>NaN</td>\n",
       "      <td>NaN</td>\n",
       "      <td>NaN</td>\n",
       "      <td>SHOPS</td>\n",
       "      <td>K</td>\n",
       "      <td>999.0</td>\n",
       "      <td>4</td>\n",
       "    </tr>\n",
       "    <tr>\n",
       "      <th>2</th>\n",
       "      <td>P17010000004</td>\n",
       "      <td>2017-01-01 00:00:25</td>\n",
       "      <td>6</td>\n",
       "      <td>1500</td>\n",
       "      <td>NaN</td>\n",
       "      <td>CARAMAY</td>\n",
       "      <td>PL</td>\n",
       "      <td>NaN</td>\n",
       "      <td>NaN</td>\n",
       "      <td>NaN</td>\n",
       "      <td>AU1</td>\n",
       "      <td>CAN</td>\n",
       "      <td>723.0</td>\n",
       "      <td>1</td>\n",
       "    </tr>\n",
       "    <tr>\n",
       "      <th>3</th>\n",
       "      <td>P17010000005</td>\n",
       "      <td>2017-01-01 00:00:34</td>\n",
       "      <td>6</td>\n",
       "      <td>2800</td>\n",
       "      <td>NaN</td>\n",
       "      <td>GARNET</td>\n",
       "      <td>AV</td>\n",
       "      <td>NaN</td>\n",
       "      <td>NaN</td>\n",
       "      <td>NaN</td>\n",
       "      <td>T</td>\n",
       "      <td>O</td>\n",
       "      <td>122.0</td>\n",
       "      <td>1</td>\n",
       "    </tr>\n",
       "    <tr>\n",
       "      <th>4</th>\n",
       "      <td>P17010000006</td>\n",
       "      <td>2017-01-01 00:01:23</td>\n",
       "      <td>6</td>\n",
       "      <td>300</td>\n",
       "      <td>NaN</td>\n",
       "      <td>47TH</td>\n",
       "      <td>ST</td>\n",
       "      <td>NaN</td>\n",
       "      <td>NaN</td>\n",
       "      <td>NaN</td>\n",
       "      <td>245</td>\n",
       "      <td>R</td>\n",
       "      <td>446.0</td>\n",
       "      <td>1</td>\n",
       "    </tr>\n",
       "  </tbody>\n",
       "</table>\n",
       "</div>"
      ],
      "text/plain": [
       "   incident_num            date_time  day_of_week  address_number_primary  \\\n",
       "0  P17010000001  2017-01-01 00:00:09            6                       0   \n",
       "1  P17010000002  2017-01-01 00:00:10            6                       0   \n",
       "2  P17010000004  2017-01-01 00:00:25            6                    1500   \n",
       "3  P17010000005  2017-01-01 00:00:34            6                    2800   \n",
       "4  P17010000006  2017-01-01 00:01:23            6                     300   \n",
       "\n",
       "  address_dir_primary address_road_primary address_sfx_primary  \\\n",
       "0                 NaN         CHP INFO LOG                 NaN   \n",
       "1                 NaN       SHOPS INFO LOG                 NaN   \n",
       "2                 NaN              CARAMAY                  PL   \n",
       "3                 NaN               GARNET                  AV   \n",
       "4                 NaN                 47TH                  ST   \n",
       "\n",
       "  address_dir_intersecting address_road_intersecting address_sfx_intersecting  \\\n",
       "0                      NaN                       NaN                      NaN   \n",
       "1                      NaN                       NaN                      NaN   \n",
       "2                      NaN                       NaN                      NaN   \n",
       "3                      NaN                       NaN                      NaN   \n",
       "4                      NaN                       NaN                      NaN   \n",
       "\n",
       "  call_type disposition   beat priority  \n",
       "0   INFOCHP           K  999.0        4  \n",
       "1     SHOPS           K  999.0        4  \n",
       "2       AU1         CAN  723.0        1  \n",
       "3         T           O  122.0        1  \n",
       "4       245           R  446.0        1  "
      ]
     },
     "execution_count": 11,
     "metadata": {},
     "output_type": "execute_result"
    }
   ],
   "source": [
    "#check it out\n",
    "df_calls17.head()"
   ]
  },
  {
   "cell_type": "code",
   "execution_count": 12,
   "metadata": {},
   "outputs": [],
   "source": [
    "#read in police call dictionary\n",
    "df_dict = pd.read_csv('pd_calls_for_service_dictionary_datasd.csv')"
   ]
  },
  {
   "cell_type": "code",
   "execution_count": 13,
   "metadata": {},
   "outputs": [
    {
     "data": {
      "text/html": [
       "<div>\n",
       "<style scoped>\n",
       "    .dataframe tbody tr th:only-of-type {\n",
       "        vertical-align: middle;\n",
       "    }\n",
       "\n",
       "    .dataframe tbody tr th {\n",
       "        vertical-align: top;\n",
       "    }\n",
       "\n",
       "    .dataframe thead th {\n",
       "        text-align: right;\n",
       "    }\n",
       "</style>\n",
       "<table border=\"1\" class=\"dataframe\">\n",
       "  <thead>\n",
       "    <tr style=\"text-align: right;\">\n",
       "      <th></th>\n",
       "      <th>field</th>\n",
       "      <th>description</th>\n",
       "      <th>possible_values</th>\n",
       "    </tr>\n",
       "  </thead>\n",
       "  <tbody>\n",
       "    <tr>\n",
       "      <th>0</th>\n",
       "      <td>incident_num</td>\n",
       "      <td>Unique Incident Identifier</td>\n",
       "      <td>NaN</td>\n",
       "    </tr>\n",
       "    <tr>\n",
       "      <th>1</th>\n",
       "      <td>date_time</td>\n",
       "      <td>Date / Time in 24 Hour Format</td>\n",
       "      <td>NaN</td>\n",
       "    </tr>\n",
       "    <tr>\n",
       "      <th>2</th>\n",
       "      <td>day</td>\n",
       "      <td>Day of the week</td>\n",
       "      <td>(1 = Sunday, 2 = Monday ...)</td>\n",
       "    </tr>\n",
       "    <tr>\n",
       "      <th>3</th>\n",
       "      <td>address_number_primary</td>\n",
       "      <td>Street Number of Incident, Abstracted to block...</td>\n",
       "      <td>NaN</td>\n",
       "    </tr>\n",
       "    <tr>\n",
       "      <th>4</th>\n",
       "      <td>address_dir_primary</td>\n",
       "      <td>Direction of street in address</td>\n",
       "      <td>ex: 123 W El Cajon Bl</td>\n",
       "    </tr>\n",
       "  </tbody>\n",
       "</table>\n",
       "</div>"
      ],
      "text/plain": [
       "                    field                                        description  \\\n",
       "0            incident_num                         Unique Incident Identifier   \n",
       "1               date_time                      Date / Time in 24 Hour Format   \n",
       "2                     day                                    Day of the week   \n",
       "3  address_number_primary  Street Number of Incident, Abstracted to block...   \n",
       "4     address_dir_primary                     Direction of street in address   \n",
       "\n",
       "                possible_values  \n",
       "0                           NaN  \n",
       "1                           NaN  \n",
       "2  (1 = Sunday, 2 = Monday ...)  \n",
       "3                           NaN  \n",
       "4         ex: 123 W El Cajon Bl  "
      ]
     },
     "execution_count": 13,
     "metadata": {},
     "output_type": "execute_result"
    }
   ],
   "source": [
    "#check it out\n",
    "df_dict.head()"
   ]
  },
  {
   "cell_type": "markdown",
   "metadata": {},
   "source": [
    "# Data Cleaning"
   ]
  },
  {
   "cell_type": "markdown",
   "metadata": {},
   "source": [
    "- # **Budget Data**\n"
   ]
  },
  {
   "cell_type": "code",
   "execution_count": 14,
   "metadata": {},
   "outputs": [],
   "source": [
    "#renaming columns\n",
    "\n",
    "df_budget.columns = ['amount', 'year', 'fund_type', 'fund_number', 'dept_name', 'fund_center_number', 'account', 'account_number']"
   ]
  },
  {
   "cell_type": "code",
   "execution_count": 15,
   "metadata": {},
   "outputs": [
    {
     "data": {
      "text/plain": [
       "array([17, 14, 13, 12, 16, 15, 11, 18, 19])"
      ]
     },
     "execution_count": 15,
     "metadata": {},
     "output_type": "execute_result"
    }
   ],
   "source": [
    "#checking unique values in year\n",
    "df_budget['year'].unique()"
   ]
  },
  {
   "cell_type": "code",
   "execution_count": 16,
   "metadata": {},
   "outputs": [
    {
     "data": {
      "text/plain": [
       "array(['Office of the Chief Operating Officer', 'Council District 1',\n",
       "       'Council District 2', 'Council District 3', 'Council District 4',\n",
       "       'Council District 5', 'Council District 6', 'Council District 7',\n",
       "       'Council District 8', 'Council District 9',\n",
       "       'Council Administration', 'City Clerk',\n",
       "       'Independent Budget Analyst', 'City Attorney', 'Personnel',\n",
       "       'Ethics Commission', 'Office of the City Auditor',\n",
       "       'Assistant Chief Operating Officer', 'Performance & Analytics',\n",
       "       'Human Resources', 'Department of Information Technology',\n",
       "       'Economic Development', 'Internal Operations',\n",
       "       'Office of the Mayor', 'Communications', 'Chief Financial Officer',\n",
       "       'City Comptroller', 'Debt Management', 'Financial Management',\n",
       "       'Purchasing & Contracting', 'City Treasurer',\n",
       "       'Smart & Sustainable Communities', 'Development Services',\n",
       "       'Real Estate Assets', 'Planning', 'Library', 'Parks & Recreation',\n",
       "       'Fire-Rescue', 'Police', 'Office of Homeland Security',\n",
       "       'Public Utilities', 'Infrastructure/Public Works',\n",
       "       'Facilities Services', 'Environmental Services', 'Transportation',\n",
       "       'Public Works - Contracts', 'Major Revenues', 'Citywide Expenses',\n",
       "       'Public Facilities Planning', 'Cultural Affairs',\n",
       "       'Citywide Other/Special Funds',\n",
       "       'City Planning & Community Investments', 'Stadium Operations',\n",
       "       'Special Events & Filming', 'Special Promotional Programs',\n",
       "       'PETCO Park', 'Emergency Medical Services',\n",
       "       'Concourse & Parking Garage', 'Airports', 'Fleet Operations',\n",
       "       'Risk Management', 'Engineering & Capital Projects',\n",
       "       'Citywide Administration', 'Civic & Urban Initiatives', 'Water',\n",
       "       'Storm Water', 'Metropolitan Wastewater Muni',\n",
       "       'Metropolitan Wastewater Metro', 'Redevelopment',\n",
       "       'RDA - City Heights', 'RDA - North Bay',\n",
       "       'Enterprise Resource Planning', 'RDA - Centre City',\n",
       "       'RDA - Horton Plaza', 'RDA - College Grove', 'RDA - Barrio Logan',\n",
       "       'RDA - Naval Training Center', 'RDA - Linda Vista',\n",
       "       'RDA - San Ysidro', 'RDA - Central Imperial', 'RDA - Crossroads',\n",
       "       'Legacy Postings', 'HUD Programs Administration',\n",
       "       'Office of Boards & Commissions', 'Government Affairs',\n",
       "       'Department of Finance', 'Neighborhood Services', 'Sustainability',\n",
       "       'Redevelopment Agency'], dtype=object)"
      ]
     },
     "execution_count": 16,
     "metadata": {},
     "output_type": "execute_result"
    }
   ],
   "source": [
    "#checking unique values in department names\n",
    "df_budget['dept_name'].unique()"
   ]
  },
  {
   "cell_type": "code",
   "execution_count": 17,
   "metadata": {},
   "outputs": [],
   "source": [
    "#dropping rows with no values\n",
    "df_budget = df_budget.dropna(how = 'all')"
   ]
  },
  {
   "cell_type": "code",
   "execution_count": 18,
   "metadata": {},
   "outputs": [
    {
     "data": {
      "text/html": [
       "<div>\n",
       "<style scoped>\n",
       "    .dataframe tbody tr th:only-of-type {\n",
       "        vertical-align: middle;\n",
       "    }\n",
       "\n",
       "    .dataframe tbody tr th {\n",
       "        vertical-align: top;\n",
       "    }\n",
       "\n",
       "    .dataframe thead th {\n",
       "        text-align: right;\n",
       "    }\n",
       "</style>\n",
       "<table border=\"1\" class=\"dataframe\">\n",
       "  <thead>\n",
       "    <tr style=\"text-align: right;\">\n",
       "      <th></th>\n",
       "      <th>amount</th>\n",
       "      <th>year</th>\n",
       "      <th>fund_type</th>\n",
       "      <th>fund_number</th>\n",
       "      <th>dept_name</th>\n",
       "      <th>fund_center_number</th>\n",
       "      <th>account</th>\n",
       "      <th>account_number</th>\n",
       "    </tr>\n",
       "  </thead>\n",
       "  <tbody>\n",
       "    <tr>\n",
       "      <th>0</th>\n",
       "      <td>349193.50</td>\n",
       "      <td>17</td>\n",
       "      <td>General Fund</td>\n",
       "      <td>100000</td>\n",
       "      <td>Office of the Chief Operating Officer</td>\n",
       "      <td>1001000011</td>\n",
       "      <td>Salaried Wages</td>\n",
       "      <td>500011</td>\n",
       "    </tr>\n",
       "    <tr>\n",
       "      <th>1</th>\n",
       "      <td>23875.99</td>\n",
       "      <td>17</td>\n",
       "      <td>General Fund</td>\n",
       "      <td>100000</td>\n",
       "      <td>Office of the Chief Operating Officer</td>\n",
       "      <td>1001000011</td>\n",
       "      <td>Vacation</td>\n",
       "      <td>500014</td>\n",
       "    </tr>\n",
       "    <tr>\n",
       "      <th>2</th>\n",
       "      <td>7449.95</td>\n",
       "      <td>17</td>\n",
       "      <td>General Fund</td>\n",
       "      <td>100000</td>\n",
       "      <td>Office of the Chief Operating Officer</td>\n",
       "      <td>1001000011</td>\n",
       "      <td>Sick Leave/Vacation Accrual</td>\n",
       "      <td>500015</td>\n",
       "    </tr>\n",
       "    <tr>\n",
       "      <th>3</th>\n",
       "      <td>2942.31</td>\n",
       "      <td>17</td>\n",
       "      <td>General Fund</td>\n",
       "      <td>100000</td>\n",
       "      <td>Office of the Chief Operating Officer</td>\n",
       "      <td>1001000011</td>\n",
       "      <td>A/L Bereavement Pay</td>\n",
       "      <td>500016</td>\n",
       "    </tr>\n",
       "    <tr>\n",
       "      <th>4</th>\n",
       "      <td>1532.45</td>\n",
       "      <td>17</td>\n",
       "      <td>General Fund</td>\n",
       "      <td>100000</td>\n",
       "      <td>Office of the Chief Operating Officer</td>\n",
       "      <td>1001000011</td>\n",
       "      <td>Vacation Pay In Lieu</td>\n",
       "      <td>500017</td>\n",
       "    </tr>\n",
       "    <tr>\n",
       "      <th>...</th>\n",
       "      <td>...</td>\n",
       "      <td>...</td>\n",
       "      <td>...</td>\n",
       "      <td>...</td>\n",
       "      <td>...</td>\n",
       "      <td>...</td>\n",
       "      <td>...</td>\n",
       "      <td>...</td>\n",
       "    </tr>\n",
       "    <tr>\n",
       "      <th>454886</th>\n",
       "      <td>145.00</td>\n",
       "      <td>19</td>\n",
       "      <td>Special Revenue Funds</td>\n",
       "      <td>720057</td>\n",
       "      <td>Public Works - Contracts</td>\n",
       "      <td>2117000012</td>\n",
       "      <td>Equipment Rental - Motive Pool</td>\n",
       "      <td>512145</td>\n",
       "    </tr>\n",
       "    <tr>\n",
       "      <th>454887</th>\n",
       "      <td>300.00</td>\n",
       "      <td>19</td>\n",
       "      <td>Special Revenue Funds</td>\n",
       "      <td>720057</td>\n",
       "      <td>Public Works - Contracts</td>\n",
       "      <td>2117000012</td>\n",
       "      <td>Promotion/Recognition - City Employees</td>\n",
       "      <td>512175</td>\n",
       "    </tr>\n",
       "    <tr>\n",
       "      <th>454888</th>\n",
       "      <td>517.44</td>\n",
       "      <td>19</td>\n",
       "      <td>Special Revenue Funds</td>\n",
       "      <td>720057</td>\n",
       "      <td>Public Works - Contracts</td>\n",
       "      <td>2117000012</td>\n",
       "      <td>Wireless Stipend</td>\n",
       "      <td>512245</td>\n",
       "    </tr>\n",
       "    <tr>\n",
       "      <th>454889</th>\n",
       "      <td>8109.59</td>\n",
       "      <td>19</td>\n",
       "      <td>Special Revenue Funds</td>\n",
       "      <td>720057</td>\n",
       "      <td>Public Works - Contracts</td>\n",
       "      <td>2117000012</td>\n",
       "      <td>Hardware/Software - Discretionary</td>\n",
       "      <td>513104</td>\n",
       "    </tr>\n",
       "    <tr>\n",
       "      <th>454890</th>\n",
       "      <td>189.52</td>\n",
       "      <td>19</td>\n",
       "      <td>Special Revenue Funds</td>\n",
       "      <td>720057</td>\n",
       "      <td>Public Works - Contracts</td>\n",
       "      <td>2117000012</td>\n",
       "      <td>Capital Expense - Software</td>\n",
       "      <td>560060</td>\n",
       "    </tr>\n",
       "  </tbody>\n",
       "</table>\n",
       "<p>454891 rows × 8 columns</p>\n",
       "</div>"
      ],
      "text/plain": [
       "           amount  year              fund_type  fund_number  \\\n",
       "0       349193.50    17           General Fund       100000   \n",
       "1        23875.99    17           General Fund       100000   \n",
       "2         7449.95    17           General Fund       100000   \n",
       "3         2942.31    17           General Fund       100000   \n",
       "4         1532.45    17           General Fund       100000   \n",
       "...           ...   ...                    ...          ...   \n",
       "454886     145.00    19  Special Revenue Funds       720057   \n",
       "454887     300.00    19  Special Revenue Funds       720057   \n",
       "454888     517.44    19  Special Revenue Funds       720057   \n",
       "454889    8109.59    19  Special Revenue Funds       720057   \n",
       "454890     189.52    19  Special Revenue Funds       720057   \n",
       "\n",
       "                                    dept_name  fund_center_number  \\\n",
       "0       Office of the Chief Operating Officer          1001000011   \n",
       "1       Office of the Chief Operating Officer          1001000011   \n",
       "2       Office of the Chief Operating Officer          1001000011   \n",
       "3       Office of the Chief Operating Officer          1001000011   \n",
       "4       Office of the Chief Operating Officer          1001000011   \n",
       "...                                       ...                 ...   \n",
       "454886               Public Works - Contracts          2117000012   \n",
       "454887               Public Works - Contracts          2117000012   \n",
       "454888               Public Works - Contracts          2117000012   \n",
       "454889               Public Works - Contracts          2117000012   \n",
       "454890               Public Works - Contracts          2117000012   \n",
       "\n",
       "                                       account  account_number  \n",
       "0                               Salaried Wages          500011  \n",
       "1                                     Vacation          500014  \n",
       "2                  Sick Leave/Vacation Accrual          500015  \n",
       "3                          A/L Bereavement Pay          500016  \n",
       "4                         Vacation Pay In Lieu          500017  \n",
       "...                                        ...             ...  \n",
       "454886          Equipment Rental - Motive Pool          512145  \n",
       "454887  Promotion/Recognition - City Employees          512175  \n",
       "454888                        Wireless Stipend          512245  \n",
       "454889       Hardware/Software - Discretionary          513104  \n",
       "454890              Capital Expense - Software          560060  \n",
       "\n",
       "[454891 rows x 8 columns]"
      ]
     },
     "execution_count": 18,
     "metadata": {},
     "output_type": "execute_result"
    }
   ],
   "source": [
    "df_budget"
   ]
  },
  {
   "cell_type": "code",
   "execution_count": 19,
   "metadata": {},
   "outputs": [
    {
     "data": {
      "text/plain": [
       "(454891, 8)"
      ]
     },
     "execution_count": 19,
     "metadata": {},
     "output_type": "execute_result"
    }
   ],
   "source": [
    "df_budget.shape"
   ]
  },
  {
   "cell_type": "code",
   "execution_count": 20,
   "metadata": {},
   "outputs": [],
   "source": [
    "#narrowing budget data to only police departments\n",
    "df_police = df_budget[df_budget['dept_name'].str.contains(\"Police\")]"
   ]
  },
  {
   "cell_type": "code",
   "execution_count": 21,
   "metadata": {},
   "outputs": [
    {
     "data": {
      "text/html": [
       "<div>\n",
       "<style scoped>\n",
       "    .dataframe tbody tr th:only-of-type {\n",
       "        vertical-align: middle;\n",
       "    }\n",
       "\n",
       "    .dataframe tbody tr th {\n",
       "        vertical-align: top;\n",
       "    }\n",
       "\n",
       "    .dataframe thead th {\n",
       "        text-align: right;\n",
       "    }\n",
       "</style>\n",
       "<table border=\"1\" class=\"dataframe\">\n",
       "  <thead>\n",
       "    <tr style=\"text-align: right;\">\n",
       "      <th></th>\n",
       "      <th>amount</th>\n",
       "      <th>year</th>\n",
       "      <th>fund_type</th>\n",
       "      <th>fund_number</th>\n",
       "      <th>dept_name</th>\n",
       "      <th>fund_center_number</th>\n",
       "      <th>account</th>\n",
       "      <th>account_number</th>\n",
       "    </tr>\n",
       "  </thead>\n",
       "  <tbody>\n",
       "    <tr>\n",
       "      <th>18684</th>\n",
       "      <td>133519.39</td>\n",
       "      <td>17</td>\n",
       "      <td>General Fund</td>\n",
       "      <td>100000</td>\n",
       "      <td>Police</td>\n",
       "      <td>1914000001</td>\n",
       "      <td>Emergency Cost Rec Prog</td>\n",
       "      <td>416019</td>\n",
       "    </tr>\n",
       "    <tr>\n",
       "      <th>18685</th>\n",
       "      <td>184548.00</td>\n",
       "      <td>17</td>\n",
       "      <td>General Fund</td>\n",
       "      <td>100000</td>\n",
       "      <td>Police</td>\n",
       "      <td>1914000001</td>\n",
       "      <td>Revenue from Other Agencies</td>\n",
       "      <td>420001</td>\n",
       "    </tr>\n",
       "    <tr>\n",
       "      <th>18686</th>\n",
       "      <td>3.41</td>\n",
       "      <td>17</td>\n",
       "      <td>General Fund</td>\n",
       "      <td>100000</td>\n",
       "      <td>Police</td>\n",
       "      <td>1914000001</td>\n",
       "      <td>Fingerprinting Fees</td>\n",
       "      <td>422046</td>\n",
       "    </tr>\n",
       "    <tr>\n",
       "      <th>18687</th>\n",
       "      <td>26047.81</td>\n",
       "      <td>17</td>\n",
       "      <td>General Fund</td>\n",
       "      <td>100000</td>\n",
       "      <td>Police</td>\n",
       "      <td>1914000001</td>\n",
       "      <td>Service Charges Other</td>\n",
       "      <td>422082</td>\n",
       "    </tr>\n",
       "    <tr>\n",
       "      <th>18688</th>\n",
       "      <td>672761.29</td>\n",
       "      <td>17</td>\n",
       "      <td>General Fund</td>\n",
       "      <td>100000</td>\n",
       "      <td>Police</td>\n",
       "      <td>1914000001</td>\n",
       "      <td>Services to Other Agencies</td>\n",
       "      <td>422303</td>\n",
       "    </tr>\n",
       "  </tbody>\n",
       "</table>\n",
       "</div>"
      ],
      "text/plain": [
       "          amount  year     fund_type  fund_number dept_name  \\\n",
       "18684  133519.39    17  General Fund       100000    Police   \n",
       "18685  184548.00    17  General Fund       100000    Police   \n",
       "18686       3.41    17  General Fund       100000    Police   \n",
       "18687   26047.81    17  General Fund       100000    Police   \n",
       "18688  672761.29    17  General Fund       100000    Police   \n",
       "\n",
       "       fund_center_number                      account  account_number  \n",
       "18684          1914000001      Emergency Cost Rec Prog          416019  \n",
       "18685          1914000001  Revenue from Other Agencies          420001  \n",
       "18686          1914000001          Fingerprinting Fees          422046  \n",
       "18687          1914000001        Service Charges Other          422082  \n",
       "18688          1914000001   Services to Other Agencies          422303  "
      ]
     },
     "execution_count": 21,
     "metadata": {},
     "output_type": "execute_result"
    }
   ],
   "source": [
    "df_police.head()"
   ]
  },
  {
   "cell_type": "code",
   "execution_count": 22,
   "metadata": {},
   "outputs": [
    {
     "data": {
      "text/plain": [
       "(37404, 8)"
      ]
     },
     "execution_count": 22,
     "metadata": {},
     "output_type": "execute_result"
    }
   ],
   "source": [
    "df_police.shape"
   ]
  },
  {
   "cell_type": "code",
   "execution_count": 23,
   "metadata": {},
   "outputs": [],
   "source": [
    "#let's only include data from 2017 through 2020 since we only read in those from the other dataset \n",
    "df_police = df_police[df_police['year'] >= 17]"
   ]
  },
  {
   "cell_type": "code",
   "execution_count": 24,
   "metadata": {},
   "outputs": [
    {
     "data": {
      "text/plain": [
       "array([17, 18, 19])"
      ]
     },
     "execution_count": 24,
     "metadata": {},
     "output_type": "execute_result"
    }
   ],
   "source": [
    "#checking for years of police data\n",
    "df_police['year'].unique()"
   ]
  },
  {
   "cell_type": "code",
   "execution_count": 25,
   "metadata": {},
   "outputs": [
    {
     "data": {
      "text/plain": [
       "(14533, 8)"
      ]
     },
     "execution_count": 25,
     "metadata": {},
     "output_type": "execute_result"
    }
   ],
   "source": [
    "df_police.shape"
   ]
  },
  {
   "cell_type": "markdown",
   "metadata": {},
   "source": [
    "- # **Service Calls**"
   ]
  },
  {
   "cell_type": "code",
   "execution_count": 26,
   "metadata": {},
   "outputs": [],
   "source": [
    "#let's change the date_time column to only include the year for our analysis\n",
    "df_calls19['date_time'] = '2019'"
   ]
  },
  {
   "cell_type": "code",
   "execution_count": 27,
   "metadata": {},
   "outputs": [
    {
     "data": {
      "text/html": [
       "<div>\n",
       "<style scoped>\n",
       "    .dataframe tbody tr th:only-of-type {\n",
       "        vertical-align: middle;\n",
       "    }\n",
       "\n",
       "    .dataframe tbody tr th {\n",
       "        vertical-align: top;\n",
       "    }\n",
       "\n",
       "    .dataframe thead th {\n",
       "        text-align: right;\n",
       "    }\n",
       "</style>\n",
       "<table border=\"1\" class=\"dataframe\">\n",
       "  <thead>\n",
       "    <tr style=\"text-align: right;\">\n",
       "      <th></th>\n",
       "      <th>incident_num</th>\n",
       "      <th>date_time</th>\n",
       "      <th>day_of_week</th>\n",
       "      <th>address_number_primary</th>\n",
       "      <th>address_dir_primary</th>\n",
       "      <th>address_road_primary</th>\n",
       "      <th>address_sfx_primary</th>\n",
       "      <th>address_dir_intersecting</th>\n",
       "      <th>address_road_intersecting</th>\n",
       "      <th>address_sfx_intersecting</th>\n",
       "      <th>call_type</th>\n",
       "      <th>disposition</th>\n",
       "      <th>beat</th>\n",
       "      <th>priority</th>\n",
       "    </tr>\n",
       "  </thead>\n",
       "  <tbody>\n",
       "    <tr>\n",
       "      <th>0</th>\n",
       "      <td>E19010000001</td>\n",
       "      <td>2019</td>\n",
       "      <td>1</td>\n",
       "      <td>3800</td>\n",
       "      <td>NaN</td>\n",
       "      <td>NATIONAL</td>\n",
       "      <td>AVE</td>\n",
       "      <td>NaN</td>\n",
       "      <td>NaN</td>\n",
       "      <td>NaN</td>\n",
       "      <td>AU1</td>\n",
       "      <td>DUP</td>\n",
       "      <td>441</td>\n",
       "      <td>1</td>\n",
       "    </tr>\n",
       "    <tr>\n",
       "      <th>1</th>\n",
       "      <td>E19010000002</td>\n",
       "      <td>2019</td>\n",
       "      <td>1</td>\n",
       "      <td>6500</td>\n",
       "      <td>NaN</td>\n",
       "      <td>REFLECTION</td>\n",
       "      <td>DR</td>\n",
       "      <td>NaN</td>\n",
       "      <td>NaN</td>\n",
       "      <td>NaN</td>\n",
       "      <td>415</td>\n",
       "      <td>K</td>\n",
       "      <td>321</td>\n",
       "      <td>2</td>\n",
       "    </tr>\n",
       "    <tr>\n",
       "      <th>2</th>\n",
       "      <td>E19010000003</td>\n",
       "      <td>2019</td>\n",
       "      <td>1</td>\n",
       "      <td>0</td>\n",
       "      <td>NaN</td>\n",
       "      <td>06TH</td>\n",
       "      <td>AVE</td>\n",
       "      <td>NaN</td>\n",
       "      <td>ISLAND</td>\n",
       "      <td>NaN</td>\n",
       "      <td>FD</td>\n",
       "      <td>K</td>\n",
       "      <td>523</td>\n",
       "      <td>2</td>\n",
       "    </tr>\n",
       "    <tr>\n",
       "      <th>3</th>\n",
       "      <td>E19010000004</td>\n",
       "      <td>2019</td>\n",
       "      <td>1</td>\n",
       "      <td>0</td>\n",
       "      <td>NaN</td>\n",
       "      <td>VESTA</td>\n",
       "      <td>ST</td>\n",
       "      <td>NaN</td>\n",
       "      <td>MAIN</td>\n",
       "      <td>NaN</td>\n",
       "      <td>AU1</td>\n",
       "      <td>W</td>\n",
       "      <td>511</td>\n",
       "      <td>1</td>\n",
       "    </tr>\n",
       "    <tr>\n",
       "      <th>4</th>\n",
       "      <td>E19010000005</td>\n",
       "      <td>2019</td>\n",
       "      <td>1</td>\n",
       "      <td>0</td>\n",
       "      <td>NaN</td>\n",
       "      <td>04TH</td>\n",
       "      <td>AVE</td>\n",
       "      <td>NaN</td>\n",
       "      <td>ISLAND</td>\n",
       "      <td>NaN</td>\n",
       "      <td>586</td>\n",
       "      <td>CAN</td>\n",
       "      <td>523</td>\n",
       "      <td>4</td>\n",
       "    </tr>\n",
       "  </tbody>\n",
       "</table>\n",
       "</div>"
      ],
      "text/plain": [
       "   incident_num date_time  day_of_week  address_number_primary  \\\n",
       "0  E19010000001      2019            1                    3800   \n",
       "1  E19010000002      2019            1                    6500   \n",
       "2  E19010000003      2019            1                       0   \n",
       "3  E19010000004      2019            1                       0   \n",
       "4  E19010000005      2019            1                       0   \n",
       "\n",
       "  address_dir_primary address_road_primary address_sfx_primary  \\\n",
       "0                 NaN             NATIONAL                 AVE   \n",
       "1                 NaN           REFLECTION                  DR   \n",
       "2                 NaN                 06TH                 AVE   \n",
       "3                 NaN                VESTA                  ST   \n",
       "4                 NaN                 04TH                 AVE   \n",
       "\n",
       "   address_dir_intersecting address_road_intersecting  \\\n",
       "0                       NaN                       NaN   \n",
       "1                       NaN                       NaN   \n",
       "2                       NaN                    ISLAND   \n",
       "3                       NaN                      MAIN   \n",
       "4                       NaN                    ISLAND   \n",
       "\n",
       "   address_sfx_intersecting call_type disposition  beat  priority  \n",
       "0                       NaN       AU1         DUP   441         1  \n",
       "1                       NaN       415           K   321         2  \n",
       "2                       NaN        FD           K   523         2  \n",
       "3                       NaN       AU1           W   511         1  \n",
       "4                       NaN       586         CAN   523         4  "
      ]
     },
     "execution_count": 27,
     "metadata": {},
     "output_type": "execute_result"
    }
   ],
   "source": [
    "df_calls19.head()"
   ]
  },
  {
   "cell_type": "code",
   "execution_count": 28,
   "metadata": {},
   "outputs": [],
   "source": [
    "df_calls18['date_time'] = '2018'"
   ]
  },
  {
   "cell_type": "code",
   "execution_count": 29,
   "metadata": {},
   "outputs": [],
   "source": [
    "df_calls17['date_time'] = '2017'"
   ]
  },
  {
   "cell_type": "code",
   "execution_count": 30,
   "metadata": {},
   "outputs": [],
   "source": [
    "#let's combine all the Police service calls for the years 2017 - 2020\n",
    "df_calls = pd.concat([df_calls17, df_calls18])"
   ]
  },
  {
   "cell_type": "code",
   "execution_count": 31,
   "metadata": {},
   "outputs": [],
   "source": [
    "df_calls = pd.concat([df_calls, df_calls19])"
   ]
  },
  {
   "cell_type": "code",
   "execution_count": 32,
   "metadata": {},
   "outputs": [
    {
     "data": {
      "text/html": [
       "<div>\n",
       "<style scoped>\n",
       "    .dataframe tbody tr th:only-of-type {\n",
       "        vertical-align: middle;\n",
       "    }\n",
       "\n",
       "    .dataframe tbody tr th {\n",
       "        vertical-align: top;\n",
       "    }\n",
       "\n",
       "    .dataframe thead th {\n",
       "        text-align: right;\n",
       "    }\n",
       "</style>\n",
       "<table border=\"1\" class=\"dataframe\">\n",
       "  <thead>\n",
       "    <tr style=\"text-align: right;\">\n",
       "      <th></th>\n",
       "      <th>incident_num</th>\n",
       "      <th>date_time</th>\n",
       "      <th>day_of_week</th>\n",
       "      <th>address_number_primary</th>\n",
       "      <th>address_dir_primary</th>\n",
       "      <th>address_road_primary</th>\n",
       "      <th>address_sfx_primary</th>\n",
       "      <th>address_dir_intersecting</th>\n",
       "      <th>address_road_intersecting</th>\n",
       "      <th>address_sfx_intersecting</th>\n",
       "      <th>call_type</th>\n",
       "      <th>disposition</th>\n",
       "      <th>beat</th>\n",
       "      <th>priority</th>\n",
       "    </tr>\n",
       "  </thead>\n",
       "  <tbody>\n",
       "    <tr>\n",
       "      <th>0</th>\n",
       "      <td>P17010000001</td>\n",
       "      <td>2017</td>\n",
       "      <td>6</td>\n",
       "      <td>0</td>\n",
       "      <td>NaN</td>\n",
       "      <td>CHP INFO LOG</td>\n",
       "      <td>NaN</td>\n",
       "      <td>NaN</td>\n",
       "      <td>NaN</td>\n",
       "      <td>NaN</td>\n",
       "      <td>INFOCHP</td>\n",
       "      <td>K</td>\n",
       "      <td>999.0</td>\n",
       "      <td>4</td>\n",
       "    </tr>\n",
       "    <tr>\n",
       "      <th>1</th>\n",
       "      <td>P17010000002</td>\n",
       "      <td>2017</td>\n",
       "      <td>6</td>\n",
       "      <td>0</td>\n",
       "      <td>NaN</td>\n",
       "      <td>SHOPS INFO LOG</td>\n",
       "      <td>NaN</td>\n",
       "      <td>NaN</td>\n",
       "      <td>NaN</td>\n",
       "      <td>NaN</td>\n",
       "      <td>SHOPS</td>\n",
       "      <td>K</td>\n",
       "      <td>999.0</td>\n",
       "      <td>4</td>\n",
       "    </tr>\n",
       "    <tr>\n",
       "      <th>2</th>\n",
       "      <td>P17010000004</td>\n",
       "      <td>2017</td>\n",
       "      <td>6</td>\n",
       "      <td>1500</td>\n",
       "      <td>NaN</td>\n",
       "      <td>CARAMAY</td>\n",
       "      <td>PL</td>\n",
       "      <td>NaN</td>\n",
       "      <td>NaN</td>\n",
       "      <td>NaN</td>\n",
       "      <td>AU1</td>\n",
       "      <td>CAN</td>\n",
       "      <td>723.0</td>\n",
       "      <td>1</td>\n",
       "    </tr>\n",
       "    <tr>\n",
       "      <th>3</th>\n",
       "      <td>P17010000005</td>\n",
       "      <td>2017</td>\n",
       "      <td>6</td>\n",
       "      <td>2800</td>\n",
       "      <td>NaN</td>\n",
       "      <td>GARNET</td>\n",
       "      <td>AV</td>\n",
       "      <td>NaN</td>\n",
       "      <td>NaN</td>\n",
       "      <td>NaN</td>\n",
       "      <td>T</td>\n",
       "      <td>O</td>\n",
       "      <td>122.0</td>\n",
       "      <td>1</td>\n",
       "    </tr>\n",
       "    <tr>\n",
       "      <th>4</th>\n",
       "      <td>P17010000006</td>\n",
       "      <td>2017</td>\n",
       "      <td>6</td>\n",
       "      <td>300</td>\n",
       "      <td>NaN</td>\n",
       "      <td>47TH</td>\n",
       "      <td>ST</td>\n",
       "      <td>NaN</td>\n",
       "      <td>NaN</td>\n",
       "      <td>NaN</td>\n",
       "      <td>245</td>\n",
       "      <td>R</td>\n",
       "      <td>446.0</td>\n",
       "      <td>1</td>\n",
       "    </tr>\n",
       "  </tbody>\n",
       "</table>\n",
       "</div>"
      ],
      "text/plain": [
       "   incident_num date_time  day_of_week  address_number_primary  \\\n",
       "0  P17010000001      2017            6                       0   \n",
       "1  P17010000002      2017            6                       0   \n",
       "2  P17010000004      2017            6                    1500   \n",
       "3  P17010000005      2017            6                    2800   \n",
       "4  P17010000006      2017            6                     300   \n",
       "\n",
       "  address_dir_primary address_road_primary address_sfx_primary  \\\n",
       "0                 NaN         CHP INFO LOG                 NaN   \n",
       "1                 NaN       SHOPS INFO LOG                 NaN   \n",
       "2                 NaN              CARAMAY                  PL   \n",
       "3                 NaN               GARNET                  AV   \n",
       "4                 NaN                 47TH                  ST   \n",
       "\n",
       "  address_dir_intersecting address_road_intersecting address_sfx_intersecting  \\\n",
       "0                      NaN                       NaN                      NaN   \n",
       "1                      NaN                       NaN                      NaN   \n",
       "2                      NaN                       NaN                      NaN   \n",
       "3                      NaN                       NaN                      NaN   \n",
       "4                      NaN                       NaN                      NaN   \n",
       "\n",
       "  call_type disposition   beat priority  \n",
       "0   INFOCHP           K  999.0        4  \n",
       "1     SHOPS           K  999.0        4  \n",
       "2       AU1         CAN  723.0        1  \n",
       "3         T           O  122.0        1  \n",
       "4       245           R  446.0        1  "
      ]
     },
     "execution_count": 32,
     "metadata": {},
     "output_type": "execute_result"
    }
   ],
   "source": [
    "df_calls.head()"
   ]
  },
  {
   "cell_type": "code",
   "execution_count": 33,
   "metadata": {},
   "outputs": [
    {
     "data": {
      "text/plain": [
       "(1742003, 14)"
      ]
     },
     "execution_count": 33,
     "metadata": {},
     "output_type": "execute_result"
    }
   ],
   "source": [
    "#let's see how gigantic this dataframe is because I'm curious\n",
    "df_calls.shape"
   ]
  },
  {
   "cell_type": "code",
   "execution_count": 34,
   "metadata": {},
   "outputs": [
    {
     "data": {
      "text/plain": [
       "'2017'"
      ]
     },
     "execution_count": 34,
     "metadata": {},
     "output_type": "execute_result"
    }
   ],
   "source": [
    "#double checking it's in the right order (chronologically)\n",
    "df_calls['date_time'].iloc[0]"
   ]
  },
  {
   "cell_type": "code",
   "execution_count": 35,
   "metadata": {
    "scrolled": true
   },
   "outputs": [
    {
     "data": {
      "text/plain": [
       "'2019'"
      ]
     },
     "execution_count": 35,
     "metadata": {},
     "output_type": "execute_result"
    }
   ],
   "source": [
    "df_calls['date_time'].iloc[-1]"
   ]
  },
  {
   "cell_type": "code",
   "execution_count": 36,
   "metadata": {},
   "outputs": [],
   "source": [
    "#now let's clean - drop unnecessary columns\n",
    "\n",
    "df_calls = df_calls.drop(columns = ['incident_num', 'address_number_primary', 'address_dir_primary', 'address_dir_intersecting',\n",
    "                                    'address_road_intersecting', 'address_sfx_intersecting'])"
   ]
  },
  {
   "cell_type": "code",
   "execution_count": 37,
   "metadata": {},
   "outputs": [],
   "source": [
    "#rename columns of dataframe\n",
    "\n",
    "df_calls.columns = ['year', 'day', 'street_name', 'abbre', 'call_type', \n",
    "                               'disposition', 'beat', 'priority']"
   ]
  },
  {
   "cell_type": "code",
   "execution_count": 38,
   "metadata": {},
   "outputs": [
    {
     "data": {
      "text/html": [
       "<div>\n",
       "<style scoped>\n",
       "    .dataframe tbody tr th:only-of-type {\n",
       "        vertical-align: middle;\n",
       "    }\n",
       "\n",
       "    .dataframe tbody tr th {\n",
       "        vertical-align: top;\n",
       "    }\n",
       "\n",
       "    .dataframe thead th {\n",
       "        text-align: right;\n",
       "    }\n",
       "</style>\n",
       "<table border=\"1\" class=\"dataframe\">\n",
       "  <thead>\n",
       "    <tr style=\"text-align: right;\">\n",
       "      <th></th>\n",
       "      <th>year</th>\n",
       "      <th>day</th>\n",
       "      <th>street_name</th>\n",
       "      <th>abbre</th>\n",
       "      <th>call_type</th>\n",
       "      <th>disposition</th>\n",
       "      <th>beat</th>\n",
       "      <th>priority</th>\n",
       "    </tr>\n",
       "  </thead>\n",
       "  <tbody>\n",
       "    <tr>\n",
       "      <th>0</th>\n",
       "      <td>2017</td>\n",
       "      <td>6</td>\n",
       "      <td>CHP INFO LOG</td>\n",
       "      <td>NaN</td>\n",
       "      <td>INFOCHP</td>\n",
       "      <td>K</td>\n",
       "      <td>999.0</td>\n",
       "      <td>4</td>\n",
       "    </tr>\n",
       "    <tr>\n",
       "      <th>1</th>\n",
       "      <td>2017</td>\n",
       "      <td>6</td>\n",
       "      <td>SHOPS INFO LOG</td>\n",
       "      <td>NaN</td>\n",
       "      <td>SHOPS</td>\n",
       "      <td>K</td>\n",
       "      <td>999.0</td>\n",
       "      <td>4</td>\n",
       "    </tr>\n",
       "    <tr>\n",
       "      <th>2</th>\n",
       "      <td>2017</td>\n",
       "      <td>6</td>\n",
       "      <td>CARAMAY</td>\n",
       "      <td>PL</td>\n",
       "      <td>AU1</td>\n",
       "      <td>CAN</td>\n",
       "      <td>723.0</td>\n",
       "      <td>1</td>\n",
       "    </tr>\n",
       "    <tr>\n",
       "      <th>3</th>\n",
       "      <td>2017</td>\n",
       "      <td>6</td>\n",
       "      <td>GARNET</td>\n",
       "      <td>AV</td>\n",
       "      <td>T</td>\n",
       "      <td>O</td>\n",
       "      <td>122.0</td>\n",
       "      <td>1</td>\n",
       "    </tr>\n",
       "    <tr>\n",
       "      <th>4</th>\n",
       "      <td>2017</td>\n",
       "      <td>6</td>\n",
       "      <td>47TH</td>\n",
       "      <td>ST</td>\n",
       "      <td>245</td>\n",
       "      <td>R</td>\n",
       "      <td>446.0</td>\n",
       "      <td>1</td>\n",
       "    </tr>\n",
       "  </tbody>\n",
       "</table>\n",
       "</div>"
      ],
      "text/plain": [
       "   year  day     street_name abbre call_type disposition   beat priority\n",
       "0  2017    6    CHP INFO LOG   NaN   INFOCHP           K  999.0        4\n",
       "1  2017    6  SHOPS INFO LOG   NaN     SHOPS           K  999.0        4\n",
       "2  2017    6         CARAMAY    PL       AU1         CAN  723.0        1\n",
       "3  2017    6          GARNET    AV         T           O  122.0        1\n",
       "4  2017    6            47TH    ST       245           R  446.0        1"
      ]
     },
     "execution_count": 38,
     "metadata": {},
     "output_type": "execute_result"
    }
   ],
   "source": [
    "df_calls.head()"
   ]
  },
  {
   "cell_type": "code",
   "execution_count": 39,
   "metadata": {},
   "outputs": [
    {
     "data": {
      "text/plain": [
       "year           1742003\n",
       "day            1742003\n",
       "street_name    1741362\n",
       "abbre          1587039\n",
       "call_type      1736662\n",
       "disposition    1736143\n",
       "beat           1741439\n",
       "priority       1742003\n",
       "dtype: int64"
      ]
     },
     "execution_count": 39,
     "metadata": {},
     "output_type": "execute_result"
    }
   ],
   "source": [
    "#total calls for all three years\n",
    "df_calls.count()"
   ]
  },
  {
   "cell_type": "code",
   "execution_count": 40,
   "metadata": {},
   "outputs": [
    {
     "data": {
      "text/html": [
       "<div>\n",
       "<style scoped>\n",
       "    .dataframe tbody tr th:only-of-type {\n",
       "        vertical-align: middle;\n",
       "    }\n",
       "\n",
       "    .dataframe tbody tr th {\n",
       "        vertical-align: top;\n",
       "    }\n",
       "\n",
       "    .dataframe thead th {\n",
       "        text-align: right;\n",
       "    }\n",
       "</style>\n",
       "<table border=\"1\" class=\"dataframe\">\n",
       "  <thead>\n",
       "    <tr style=\"text-align: right;\">\n",
       "      <th></th>\n",
       "      <th>year</th>\n",
       "      <th>day</th>\n",
       "      <th>street_name</th>\n",
       "      <th>abbre</th>\n",
       "      <th>call_type</th>\n",
       "      <th>disposition</th>\n",
       "      <th>beat</th>\n",
       "      <th>priority</th>\n",
       "    </tr>\n",
       "  </thead>\n",
       "  <tbody>\n",
       "    <tr>\n",
       "      <th>0</th>\n",
       "      <td>2017</td>\n",
       "      <td>6</td>\n",
       "      <td>CHP INFO LOG</td>\n",
       "      <td>NaN</td>\n",
       "      <td>INFOCHP</td>\n",
       "      <td>K</td>\n",
       "      <td>999.0</td>\n",
       "      <td>4</td>\n",
       "    </tr>\n",
       "    <tr>\n",
       "      <th>1</th>\n",
       "      <td>2017</td>\n",
       "      <td>6</td>\n",
       "      <td>SHOPS INFO LOG</td>\n",
       "      <td>NaN</td>\n",
       "      <td>SHOPS</td>\n",
       "      <td>K</td>\n",
       "      <td>999.0</td>\n",
       "      <td>4</td>\n",
       "    </tr>\n",
       "    <tr>\n",
       "      <th>2</th>\n",
       "      <td>2017</td>\n",
       "      <td>6</td>\n",
       "      <td>CARAMAY</td>\n",
       "      <td>PL</td>\n",
       "      <td>AU1</td>\n",
       "      <td>CAN</td>\n",
       "      <td>723.0</td>\n",
       "      <td>1</td>\n",
       "    </tr>\n",
       "    <tr>\n",
       "      <th>3</th>\n",
       "      <td>2017</td>\n",
       "      <td>6</td>\n",
       "      <td>GARNET</td>\n",
       "      <td>AV</td>\n",
       "      <td>T</td>\n",
       "      <td>O</td>\n",
       "      <td>122.0</td>\n",
       "      <td>1</td>\n",
       "    </tr>\n",
       "    <tr>\n",
       "      <th>4</th>\n",
       "      <td>2017</td>\n",
       "      <td>6</td>\n",
       "      <td>47TH</td>\n",
       "      <td>ST</td>\n",
       "      <td>245</td>\n",
       "      <td>R</td>\n",
       "      <td>446.0</td>\n",
       "      <td>1</td>\n",
       "    </tr>\n",
       "    <tr>\n",
       "      <th>...</th>\n",
       "      <td>...</td>\n",
       "      <td>...</td>\n",
       "      <td>...</td>\n",
       "      <td>...</td>\n",
       "      <td>...</td>\n",
       "      <td>...</td>\n",
       "      <td>...</td>\n",
       "      <td>...</td>\n",
       "    </tr>\n",
       "    <tr>\n",
       "      <th>590962</th>\n",
       "      <td>2019</td>\n",
       "      <td>3</td>\n",
       "      <td>OCEAN</td>\n",
       "      <td>BLV</td>\n",
       "      <td>FOOT</td>\n",
       "      <td>CAN</td>\n",
       "      <td>122</td>\n",
       "      <td>3</td>\n",
       "    </tr>\n",
       "    <tr>\n",
       "      <th>590963</th>\n",
       "      <td>2019</td>\n",
       "      <td>3</td>\n",
       "      <td>RUFFIN</td>\n",
       "      <td>RD</td>\n",
       "      <td>415N</td>\n",
       "      <td>K</td>\n",
       "      <td>311</td>\n",
       "      <td>3</td>\n",
       "    </tr>\n",
       "    <tr>\n",
       "      <th>590964</th>\n",
       "      <td>2019</td>\n",
       "      <td>3</td>\n",
       "      <td>04TH</td>\n",
       "      <td>AVE</td>\n",
       "      <td>1016</td>\n",
       "      <td>A</td>\n",
       "      <td>-1</td>\n",
       "      <td>2</td>\n",
       "    </tr>\n",
       "    <tr>\n",
       "      <th>590965</th>\n",
       "      <td>2019</td>\n",
       "      <td>3</td>\n",
       "      <td>04TH</td>\n",
       "      <td>AVE</td>\n",
       "      <td>1016</td>\n",
       "      <td>A</td>\n",
       "      <td>523</td>\n",
       "      <td>2</td>\n",
       "    </tr>\n",
       "    <tr>\n",
       "      <th>590966</th>\n",
       "      <td>2019</td>\n",
       "      <td>3</td>\n",
       "      <td>LAKE ATLIN</td>\n",
       "      <td>AVE</td>\n",
       "      <td>AU1</td>\n",
       "      <td>W</td>\n",
       "      <td>324</td>\n",
       "      <td>1</td>\n",
       "    </tr>\n",
       "  </tbody>\n",
       "</table>\n",
       "<p>1742003 rows × 8 columns</p>\n",
       "</div>"
      ],
      "text/plain": [
       "        year  day     street_name abbre call_type disposition   beat priority\n",
       "0       2017    6    CHP INFO LOG   NaN   INFOCHP           K  999.0        4\n",
       "1       2017    6  SHOPS INFO LOG   NaN     SHOPS           K  999.0        4\n",
       "2       2017    6         CARAMAY    PL       AU1         CAN  723.0        1\n",
       "3       2017    6          GARNET    AV         T           O  122.0        1\n",
       "4       2017    6            47TH    ST       245           R  446.0        1\n",
       "...      ...  ...             ...   ...       ...         ...    ...      ...\n",
       "590962  2019    3           OCEAN   BLV      FOOT         CAN    122        3\n",
       "590963  2019    3          RUFFIN    RD      415N           K    311        3\n",
       "590964  2019    3            04TH   AVE      1016           A     -1        2\n",
       "590965  2019    3            04TH   AVE      1016           A    523        2\n",
       "590966  2019    3      LAKE ATLIN   AVE       AU1           W    324        1\n",
       "\n",
       "[1742003 rows x 8 columns]"
      ]
     },
     "execution_count": 40,
     "metadata": {},
     "output_type": "execute_result"
    }
   ],
   "source": [
    "df_calls"
   ]
  },
  {
   "cell_type": "markdown",
   "metadata": {},
   "source": [
    "# Data Analysis & Results"
   ]
  },
  {
   "cell_type": "markdown",
   "metadata": {},
   "source": [
    "Include cells that describe the steps in your data analysis."
   ]
  },
  {
   "cell_type": "code",
   "execution_count": 41,
   "metadata": {},
   "outputs": [],
   "source": [
    "#let's chart the number of police calls for every year "
   ]
  },
  {
   "cell_type": "code",
   "execution_count": 42,
   "metadata": {},
   "outputs": [
    {
     "data": {
      "image/png": "[encoded data removed]",
      "text/plain": [
       "<Figure size 432x288 with 1 Axes>"
      ]
     },
     "metadata": {},
     "output_type": "display_data"
    }
   ],
   "source": [
    "calls = sns.countplot(x = 'year', data = df_calls, palette = \"Set3\")\n",
    "\n",
    "calls.set_title('Number of Calls Per Year')\n",
    "\n",
    "f1 = plt.gcf()"
   ]
  },
  {
   "cell_type": "code",
   "execution_count": 43,
   "metadata": {},
   "outputs": [
    {
     "data": {
      "text/plain": [
       "(580577, 8)"
      ]
     },
     "execution_count": 43,
     "metadata": {},
     "output_type": "execute_result"
    }
   ],
   "source": [
    "#let's try to count the actual number of calls per year so we can better see the distribution \n",
    "\n",
    "df_calls[df_calls['year'] == '2017'].shape"
   ]
  },
  {
   "cell_type": "code",
   "execution_count": 44,
   "metadata": {},
   "outputs": [
    {
     "data": {
      "text/plain": [
       "(570459, 8)"
      ]
     },
     "execution_count": 44,
     "metadata": {},
     "output_type": "execute_result"
    }
   ],
   "source": [
    "df_calls[df_calls['year'] == '2018'].shape"
   ]
  },
  {
   "cell_type": "code",
   "execution_count": 45,
   "metadata": {},
   "outputs": [
    {
     "data": {
      "text/plain": [
       "(590967, 8)"
      ]
     },
     "execution_count": 45,
     "metadata": {},
     "output_type": "execute_result"
    }
   ],
   "source": [
    "df_calls[df_calls['year'] == '2019'].shape"
   ]
  },
  {
   "cell_type": "code",
   "execution_count": 46,
   "metadata": {},
   "outputs": [],
   "source": [
    "#approximately 10,000 call decrease from 2017 to 2018 but a 20,000 call increase from 2018 to 2019"
   ]
  },
  {
   "cell_type": "code",
   "execution_count": 47,
   "metadata": {},
   "outputs": [
    {
     "data": {
      "text/plain": [
       "Text(0.5, 1.0, 'Police Budget Over Years')"
      ]
     },
     "execution_count": 47,
     "metadata": {},
     "output_type": "execute_result"
    },
    {
     "data": {
      "image/png": "[encoded data removed]",
      "text/plain": [
       "<Figure size 432x288 with 1 Axes>"
      ]
     },
     "metadata": {},
     "output_type": "display_data"
    }
   ],
   "source": [
    "#how police budget has changed over time\n",
    "\n",
    "budget = sns.lineplot(x = \"year\", y = \"amount\",\n",
    "             data = df_police, color = 'purple', estimator = 'mean')\n",
    "\n",
    "budget.set_title('Police Budget Over Years')\n",
    " "
   ]
  },
  {
   "cell_type": "code",
   "execution_count": 48,
   "metadata": {},
   "outputs": [
    {
     "data": {
      "text/plain": [
       "<bound method Series.unique of 18684                      Emergency Cost Rec Prog\n",
       "18685                  Revenue from Other Agencies\n",
       "18686                          Fingerprinting Fees\n",
       "18687                        Service Charges Other\n",
       "18688                   Services to Other Agencies\n",
       "                            ...                   \n",
       "432998    Miscellaneous Professional/Technical Ser\n",
       "432999                        Misc. Fees & Charges\n",
       "433000              Computer Maintenance/Contracts\n",
       "433001           Hardware/Software - Discretionary\n",
       "433002                           Cap Exp-Equipment\n",
       "Name: account, Length: 14533, dtype: object>"
      ]
     },
     "execution_count": 48,
     "metadata": {},
     "output_type": "execute_result"
    }
   ],
   "source": [
    "df_police['account'].unique"
   ]
  },
  {
   "cell_type": "code",
   "execution_count": 49,
   "metadata": {},
   "outputs": [
    {
     "data": {
      "text/plain": [
       "<seaborn.axisgrid.FacetGrid at 0x7fbe77374410>"
      ]
     },
     "execution_count": 49,
     "metadata": {},
     "output_type": "execute_result"
    },
    {
     "data": {
      "image/png": "[encoded data removed]",
      "text/plain": [
       "<Figure size 681.65x432 with 1 Axes>"
      ]
     },
     "metadata": {},
     "output_type": "display_data"
    }
   ],
   "source": [
    "#let's compare the amount of money per year also considering where it came from \n",
    "sns.catplot(\n",
    "    data = df_police, kind = \"bar\",\n",
    "    x = \"year\", y = \"amount\", hue = \"fund_type\",\n",
    "    ci = \"sd\", palette = \"Set1\", alpha = .5, height = 6)"
   ]
  },
  {
   "cell_type": "code",
   "execution_count": 50,
   "metadata": {},
   "outputs": [
    {
     "data": {
      "text/plain": [
       "array([], dtype=object)"
      ]
     },
     "execution_count": 50,
     "metadata": {},
     "output_type": "execute_result"
    }
   ],
   "source": [
    "#general funds seem to stay steady over the years, while special revenue funds seem to have dramatically increased in 2019\n",
    "\n",
    "df_budget[(df_budget['year'] == '2019') & (df_budget['fund_type'] == 'Special Revenue Funds')]['account'].unique()"
   ]
  },
  {
   "cell_type": "markdown",
   "metadata": {},
   "source": [
    "# Ethics & Privacy"
   ]
  },
  {
   "cell_type": "markdown",
   "metadata": {},
   "source": [
    "There are always ethical concerns when dealing with real data. Initially in the police call data, address numbers of where incidents occurred were included as well as street names and abbreviations. To ensure privacy of addresses, I dropped the address numbers column as it could be invasion of privacy, but did leave in address street names and abbreviations for context. In the budget dataset for the City of San Diego there is no concern for individual privacy and all the information is publicly available. However, there are always unethical ways to utilize data; in misconstruing information or trying to falsify facts to fit the experimenters needs. As ethics are always a concern, so is potential bias. Both datasets were found on the City of San Diego's database website and I am assuming that all information they consist of is correct and true, done by professional data scientists. "
   ]
  },
  {
   "cell_type": "markdown",
   "metadata": {},
   "source": [
    "# Conclusion & Discussion"
   ]
  },
  {
   "cell_type": "markdown",
   "metadata": {},
   "source": [
    "## **Limitations**\n",
    "\n",
    "\n",
    "When downloading data, I decided to include the years 2017 until 2019 since that is when the two datasets overlap in time. Even though 2020 data for Police Service Calls was available, the data is unfinished and there was no 2020 data for the San Diego budget, so it was left out to avoid confounds and confusion. Also, I could have downloaded more service call data for years 2016 and 2015 since those also overlap with budget data, but I was trying to save download space on my computer. \n",
    "\n",
    "Potential confounds are also a concern for data. The \"crime\" data is the amount of service calls for the year to the San Diego Police Department. There is also a disclaimer before the data on the website mentioning the exclusion of all sensitive crimes, including but not limited too domestic violence, suicides, and stalkings. Because of this exclusion, this is not a complete list of crime due to ethical and privacy concerns. Also, this data does not necessarily include all crime for the city as some calls may have not been made or calls including no crime were made. This is simply a general estimate of the crimes committed for this specific year in San Diego. \n",
    "\n",
    "Furthermore, the \"Police Budget\" data used was found using the word \"Police\" in the account category which means similar accounts such as \"Fire-Rescue\" or other public services were not included in this data to determine the relationship between the number of police calls made with the police budget. This is a general estimate of the Police budget for the specific year in San Diego. \n",
    "\n",
    "## **Results**\n",
    "\n",
    "Finally, there is approximately a 10,000 call decrease from 2017 to 2018 but a 20,000 call increase from 2018 to 2019 for the police call service dataset, while the police budget data seems to increase steadily over the years. There was a huge increase in Special Revenue Funds observed in 2019 as opposed to other years, yet a drastic increase in service calls (est. 20,000). This seems to suggest no clear correlation between number of calls for service in a year and the police budget since one year it decreases and the other increases as budget steadily increases, but more research is to be done. What may be interesting to examine is the budget for public services as opposed to police budget so we may observe a trend in the budget for the public and the number of service calls made in a given year.  "
   ]
  }
 ],
 "metadata": {
  "kernelspec": {
   "display_name": "Python 3",
   "language": "python",
   "name": "python3"
  },
  "language_info": {
   "codemirror_mode": {
    "name": "ipython",
    "version": 3
   },
   "file_extension": ".py",
   "mimetype": "text/x-python",
   "name": "python",
   "nbconvert_exporter": "python",
   "pygments_lexer": "ipython3",
   "version": "3.7.6"
  }
 },
 "nbformat": 4,
 "nbformat_minor": 2
}
