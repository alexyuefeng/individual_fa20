{
 "cells": [
  {
   "cell_type": "markdown",
   "metadata": {},
   "source": [
    "# COGS 108 - Final Project"
   ]
  },
  {
   "cell_type": "markdown",
   "metadata": {},
   "source": [
    "# Overview"
   ]
  },
  {
   "cell_type": "markdown",
   "metadata": {},
   "source": [
    "In this project, I tried to find the best indicator, acreage of parks or the sentiment score of the review to predict yelp ratings.After using a linear regression model, I found that acres of parks did not significantly predict yelp ratings. While the sentiment score of the review did significantly predict the yelp ratings. "
   ]
  },
  {
   "cell_type": "markdown",
   "metadata": {},
   "source": [
    "# Name & GitHub ID"
   ]
  },
  {
   "cell_type": "markdown",
   "metadata": {},
   "source": [
    "- Name: Jason Alexander Kaharudin\n",
    "- GitHub Username: Jason-Alex-Kaharudin"
   ]
  },
  {
   "cell_type": "markdown",
   "metadata": {},
   "source": [
    "# Research Question"
   ]
  },
  {
   "cell_type": "markdown",
   "metadata": {},
   "source": [
    "Which is a better predictor for yelp ratings, acreage of parks in San Diego or the sentiment score of the review? This analysis will specifically look at parks in San Diego."
   ]
  },
  {
   "cell_type": "markdown",
   "metadata": {},
   "source": [
    "## Background and Prior Work\n",
    "\n",
    "Parks play a key role in the wellfare and wellbeing of people in a community. There are many studies that show that quality parks with good facilities provide numerous health benefits such as reductions in stress, lower blood pressue and improvements to overall fitness. The benefits also cross into the members of the community; world renowned parks known for their beauty such as Balboa Park represents a sense of pride and a positive perception of quality of life for the people in San Diego.\n",
    "\n",
    "With that said, San Diego's park system can be further improved. \"The Trust For Public Land\" ranks which cities in the United States have the best parks, ranking San Diego to be #18 for the year 2020 with Minneapolis currently holding the #1 spot. By looking at the top 5 parks, it is noticable that they have high scores in Access (the portion of residents within a 10-minute walking distance to a park), Investment(park spending per resident) and Acreage of parks(how big the park is). With this metric, we can narrow the area of focus for improvement by assessing the relationship between overall satisfaction of parks and acreage of parks. This would give a clear direction to improving San Diego's parks in the next 5 years.\n",
    "\n",
    "\n",
    "References (include links):\n",
    "\n",
    "- 1) https://recreation.eku.edu/importance-parks-and-recreation#:~:text=Parks%20and%20protected%20public%20lands,with%20nature%20and%20recreate%20outdoors\n",
    "\n",
    "- 2) https://www.tpl.org/city/san-diego-california\n",
    "\n",
    "- 3) https://sharpencx.com/blog/5-minute-customer-satisfaction-analysis/\n",
    "\n",
    "- 4) https://data.ca.gov/dataset/park-beach-open-space-or-coastline-access\n",
    "- 5) https://www.nrpa.org/our-work/Three-Pillars/health-wellness/ParksandHealth/fact-sheets/parks-improved-mental-health-quality-life/"
   ]
  },
  {
   "cell_type": "markdown",
   "metadata": {},
   "source": [
    "# Hypothesis\n",
    "\n",
    "I suspect that both acreage of parks and the sentiment of the review will be strong predictors of the yelp rating. I speculate that an increase in park acreage will allow the parks and recreation department to see an increase in overall satisfaction of parks, that is yelp ratings that are scored 4 or 5 out of a possible score of 5. This is because I assume that bigger parks would provide visitors with many facilities."
   ]
  },
  {
   "cell_type": "markdown",
   "metadata": {},
   "source": [
    "# Dataset(s)\n",
    "\n",
    "The ideal dataset would show the factors influencing perceptions of parks in San Diego. Factors such as accessibility of parks, different types of amenities and acreage of parks would be ideal variables to measure against the perception of residents. The perception of parks can be obtained through yelp reviews of parks in San Diego. The ideal dataset would conist of an overall rating, out of 5 and review text for sentiment analysis.\n",
    "\n",
    "The measurement of perception/attitudes would take the approach similar to that of customer satisfaction(CSAT) analysis. This will help us empirically measure perception/attitudes. Budget and expenditure of respective parks and recreation departments will also be useful in explaining the variable of the investment aspect. Ideally, 50 observations of these variables from the top 50 in the ParkScore ranking would help us identify what the top cities are doing right and not doing enough. Park locations in a geojson format will also be useful. This will allow us to visually understand how big parks are and thus find a relationship with the ratings of the park. The data would be in an organized csv file that can be easily processed into a data frame. Geojson files will also be easily processed for data wrangling and visualization. \n",
    "\n",
    "\n",
    "- Dataset Name: Yelp data for parks in San Diego\n",
    "- Link to the dataset: https://www.yelp.com/developers/documentation/v3/business_reviews\n",
    "- Number of observations: 2333 observations\n",
    "\n",
    "This dataset provides reviews for individual parks in San Diego. It includes the rating (out of 5) and a review in text. \n",
    "\n",
    "- Dataset Name: San Diego parks locations data\n",
    "- Link to the dataset: https://data.sandiego.gov/datasets/park-locations/\n",
    "- Number of observations: 2769 observations\n",
    "\n",
    "This dataset provides location data for parks in San Diego in geojson format. \n",
    "\n",
    "- Dataset Name: San Diego boundary map\n",
    "- Link to the dataset: https://data.sandiego.gov/datasets/san-diego-boundary/\n",
    "- Number of observations: 5 observations\n",
    "\n",
    "This dataset provides the boundaries for San Diego in geojson format.\n",
    "\n",
    "\n",
    "I plan to combine the parks location dataset and yelp review dataset by the park name. So each park name that exists in both datasets will be the finalized observations used for analysis. The San Diego boundary map will be used for visualization purposese."
   ]
  },
  {
   "cell_type": "markdown",
   "metadata": {},
   "source": [
    "# Setup"
   ]
  },
  {
   "cell_type": "code",
   "execution_count": 1,
   "metadata": {},
   "outputs": [],
   "source": [
    "#libraries needed for final project\n",
    "import numpy as np\n",
    "import pandas as pd\n",
    "import geopandas as gpd\n",
    "import matplotlib.pyplot as plt\n",
    "import seaborn as sns\n",
    "import patsy\n",
    "import statsmodels.api as sm\n",
    "from nltk.sentiment.vader import SentimentIntensityAnalyzer"
   ]
  },
  {
   "cell_type": "markdown",
   "metadata": {},
   "source": [
    "# Data Cleaning\n",
    "\n",
    "Include cells that describe the steps in your data analysis"
   ]
  },
  {
   "cell_type": "code",
   "execution_count": 2,
   "metadata": {},
   "outputs": [],
   "source": [
    "#load the datasets for analysis\n",
    "parkLoc_df = gpd.read_file(\"parks_datasd.geojson\")\n",
    "yelp_df = pd.read_csv('yelp_SD_reviews.csv')\n",
    "# import sd map for background\n",
    "sd_map = gpd.read_file('san_diego_boundary_datasd.geojson')"
   ]
  },
  {
   "cell_type": "markdown",
   "metadata": {},
   "source": [
    "## Dropping columns & Cleaning\n",
    "\n",
    "In order to make the dataset more manageable, I will drop the columns with information that I will not be using in the analysis. The Yelp reviews dataset already have sufficient and related columns for this analysis, so that will be left unchanged. On the other hand, the parks data for San Diego has some columns that are not necessary for this analysis. These columns are noted below."
   ]
  },
  {
   "cell_type": "code",
   "execution_count": 3,
   "metadata": {},
   "outputs": [],
   "source": [
    "parkLoc_df = parkLoc_df.drop(['name','objectid','location','owner'], axis = 1)"
   ]
  },
  {
   "cell_type": "code",
   "execution_count": 4,
   "metadata": {
    "scrolled": true
   },
   "outputs": [
    {
     "data": {
      "text/html": [
       "<div>\n",
       "<style scoped>\n",
       "    .dataframe tbody tr th:only-of-type {\n",
       "        vertical-align: middle;\n",
       "    }\n",
       "\n",
       "    .dataframe tbody tr th {\n",
       "        vertical-align: top;\n",
       "    }\n",
       "\n",
       "    .dataframe thead th {\n",
       "        text-align: right;\n",
       "    }\n",
       "</style>\n",
       "<table border=\"1\" class=\"dataframe\">\n",
       "  <thead>\n",
       "    <tr style=\"text-align: right;\">\n",
       "      <th></th>\n",
       "      <th>alias</th>\n",
       "      <th>gis_acres</th>\n",
       "      <th>park_type</th>\n",
       "      <th>geometry</th>\n",
       "    </tr>\n",
       "  </thead>\n",
       "  <tbody>\n",
       "    <tr>\n",
       "      <th>0</th>\n",
       "      <td>South Carlsbad State Beach</td>\n",
       "      <td>115.895878</td>\n",
       "      <td>State</td>\n",
       "      <td>MULTIPOLYGON (((-117.31431 33.09015, -117.3142...</td>\n",
       "    </tr>\n",
       "    <tr>\n",
       "      <th>1</th>\n",
       "      <td>Torrey Pines State Beach</td>\n",
       "      <td>67.294309</td>\n",
       "      <td>State</td>\n",
       "      <td>POLYGON ((-117.26147 32.93883, -117.26181 32.9...</td>\n",
       "    </tr>\n",
       "    <tr>\n",
       "      <th>2</th>\n",
       "      <td>Ruocco Park</td>\n",
       "      <td>3.312526</td>\n",
       "      <td>Local</td>\n",
       "      <td>POLYGON ((-117.17298 32.71167, -117.17303 32.7...</td>\n",
       "    </tr>\n",
       "    <tr>\n",
       "      <th>3</th>\n",
       "      <td>Tuna Harbor Park</td>\n",
       "      <td>0.639035</td>\n",
       "      <td>Local</td>\n",
       "      <td>POLYGON ((-117.17260 32.71160, -117.17268 32.7...</td>\n",
       "    </tr>\n",
       "    <tr>\n",
       "      <th>4</th>\n",
       "      <td>San Diego Bayfront Park</td>\n",
       "      <td>3.669272</td>\n",
       "      <td>Local</td>\n",
       "      <td>MULTIPOLYGON (((-117.16074 32.70407, -117.1594...</td>\n",
       "    </tr>\n",
       "  </tbody>\n",
       "</table>\n",
       "</div>"
      ],
      "text/plain": [
       "                        alias   gis_acres park_type  \\\n",
       "0  South Carlsbad State Beach  115.895878     State   \n",
       "1    Torrey Pines State Beach   67.294309     State   \n",
       "2                 Ruocco Park    3.312526     Local   \n",
       "3            Tuna Harbor Park    0.639035     Local   \n",
       "4     San Diego Bayfront Park    3.669272     Local   \n",
       "\n",
       "                                            geometry  \n",
       "0  MULTIPOLYGON (((-117.31431 33.09015, -117.3142...  \n",
       "1  POLYGON ((-117.26147 32.93883, -117.26181 32.9...  \n",
       "2  POLYGON ((-117.17298 32.71167, -117.17303 32.7...  \n",
       "3  POLYGON ((-117.17260 32.71160, -117.17268 32.7...  \n",
       "4  MULTIPOLYGON (((-117.16074 32.70407, -117.1594...  "
      ]
     },
     "execution_count": 4,
     "metadata": {},
     "output_type": "execute_result"
    }
   ],
   "source": [
    "parkLoc_df.head()"
   ]
  },
  {
   "cell_type": "markdown",
   "metadata": {},
   "source": [
    "## Merging Dataframes\n",
    "\n",
    "Once I have dropped the columns with information that will not be used in the analysis, I will merge the two datasets based on each park name. Note that in doing so, some observations from the parks dataset will be lost. The observations that are not in the merged dataset means that there is no review associated with the given park or there is no associated park location for the given review. \n",
    "\n",
    "Column names will also be renamed to names with simple and clear descriptions. Note that for the column name 'geometry', I will leave unchange, for visualization purposes. With that said, the geometry column holds POLYGON data that maps a geographical location for the given observation."
   ]
  },
  {
   "cell_type": "code",
   "execution_count": 5,
   "metadata": {
    "scrolled": true
   },
   "outputs": [
    {
     "data": {
      "text/html": [
       "<div>\n",
       "<style scoped>\n",
       "    .dataframe tbody tr th:only-of-type {\n",
       "        vertical-align: middle;\n",
       "    }\n",
       "\n",
       "    .dataframe tbody tr th {\n",
       "        vertical-align: top;\n",
       "    }\n",
       "\n",
       "    .dataframe thead th {\n",
       "        text-align: right;\n",
       "    }\n",
       "</style>\n",
       "<table border=\"1\" class=\"dataframe\">\n",
       "  <thead>\n",
       "    <tr style=\"text-align: right;\">\n",
       "      <th></th>\n",
       "      <th>Park_Name</th>\n",
       "      <th>Acres</th>\n",
       "      <th>park_type</th>\n",
       "      <th>geometry</th>\n",
       "      <th>Yelp_Rating</th>\n",
       "      <th>Review_Text</th>\n",
       "    </tr>\n",
       "  </thead>\n",
       "  <tbody>\n",
       "    <tr>\n",
       "      <th>0</th>\n",
       "      <td>Torrey Pines State Beach</td>\n",
       "      <td>67.294309</td>\n",
       "      <td>State</td>\n",
       "      <td>POLYGON ((-117.26147 32.93883, -117.26181 32.9...</td>\n",
       "      <td>5</td>\n",
       "      <td>Torrey Pines State Beach has a special place i...</td>\n",
       "    </tr>\n",
       "    <tr>\n",
       "      <th>1</th>\n",
       "      <td>Torrey Pines State Beach</td>\n",
       "      <td>67.294309</td>\n",
       "      <td>State</td>\n",
       "      <td>POLYGON ((-117.26147 32.93883, -117.26181 32.9...</td>\n",
       "      <td>4</td>\n",
       "      <td>Beautiful beach. Easy access and was easy to f...</td>\n",
       "    </tr>\n",
       "    <tr>\n",
       "      <th>2</th>\n",
       "      <td>Torrey Pines State Beach</td>\n",
       "      <td>67.294309</td>\n",
       "      <td>State</td>\n",
       "      <td>POLYGON ((-117.26147 32.93883, -117.26181 32.9...</td>\n",
       "      <td>5</td>\n",
       "      <td>As soon as we arrived at the beach to park, it...</td>\n",
       "    </tr>\n",
       "    <tr>\n",
       "      <th>3</th>\n",
       "      <td>Ruocco Park</td>\n",
       "      <td>3.312526</td>\n",
       "      <td>Local</td>\n",
       "      <td>POLYGON ((-117.17298 32.71167, -117.17303 32.7...</td>\n",
       "      <td>3</td>\n",
       "      <td>A pleasant park along a beautiful waterfront t...</td>\n",
       "    </tr>\n",
       "    <tr>\n",
       "      <th>4</th>\n",
       "      <td>Ruocco Park</td>\n",
       "      <td>3.312526</td>\n",
       "      <td>Local</td>\n",
       "      <td>POLYGON ((-117.17298 32.71167, -117.17303 32.7...</td>\n",
       "      <td>5</td>\n",
       "      <td>I visited a few times on my recent trip to San...</td>\n",
       "    </tr>\n",
       "    <tr>\n",
       "      <th>...</th>\n",
       "      <td>...</td>\n",
       "      <td>...</td>\n",
       "      <td>...</td>\n",
       "      <td>...</td>\n",
       "      <td>...</td>\n",
       "      <td>...</td>\n",
       "    </tr>\n",
       "    <tr>\n",
       "      <th>535</th>\n",
       "      <td>Waterfront Park</td>\n",
       "      <td>12.693865</td>\n",
       "      <td>Regional</td>\n",
       "      <td>POLYGON ((-117.17156 32.72450, -117.17280 32.7...</td>\n",
       "      <td>5</td>\n",
       "      <td>Definitely worth the price of admission.\\n\\nIf...</td>\n",
       "    </tr>\n",
       "    <tr>\n",
       "      <th>536</th>\n",
       "      <td>Waterfront Park</td>\n",
       "      <td>12.693865</td>\n",
       "      <td>Regional</td>\n",
       "      <td>POLYGON ((-117.17156 32.72450, -117.17280 32.7...</td>\n",
       "      <td>4</td>\n",
       "      <td>Well First I got here and I was quite amazed a...</td>\n",
       "    </tr>\n",
       "    <tr>\n",
       "      <th>537</th>\n",
       "      <td>4S Ranch Community Park</td>\n",
       "      <td>3.241830</td>\n",
       "      <td>Local</td>\n",
       "      <td>POLYGON ((-117.11610 33.00321, -117.11583 33.0...</td>\n",
       "      <td>5</td>\n",
       "      <td>The sports facility here is awesome! It's a pr...</td>\n",
       "    </tr>\n",
       "    <tr>\n",
       "      <th>538</th>\n",
       "      <td>4S Ranch Community Park</td>\n",
       "      <td>3.241830</td>\n",
       "      <td>Local</td>\n",
       "      <td>POLYGON ((-117.11610 33.00321, -117.11583 33.0...</td>\n",
       "      <td>4</td>\n",
       "      <td>The location have two parks, one is 4s communi...</td>\n",
       "    </tr>\n",
       "    <tr>\n",
       "      <th>539</th>\n",
       "      <td>4S Ranch Community Park</td>\n",
       "      <td>3.241830</td>\n",
       "      <td>Local</td>\n",
       "      <td>POLYGON ((-117.11610 33.00321, -117.11583 33.0...</td>\n",
       "      <td>5</td>\n",
       "      <td>Great park for kids. Large playground plus eas...</td>\n",
       "    </tr>\n",
       "  </tbody>\n",
       "</table>\n",
       "<p>540 rows × 6 columns</p>\n",
       "</div>"
      ],
      "text/plain": [
       "                    Park_Name      Acres park_type  \\\n",
       "0    Torrey Pines State Beach  67.294309     State   \n",
       "1    Torrey Pines State Beach  67.294309     State   \n",
       "2    Torrey Pines State Beach  67.294309     State   \n",
       "3                 Ruocco Park   3.312526     Local   \n",
       "4                 Ruocco Park   3.312526     Local   \n",
       "..                        ...        ...       ...   \n",
       "535           Waterfront Park  12.693865  Regional   \n",
       "536           Waterfront Park  12.693865  Regional   \n",
       "537   4S Ranch Community Park   3.241830     Local   \n",
       "538   4S Ranch Community Park   3.241830     Local   \n",
       "539   4S Ranch Community Park   3.241830     Local   \n",
       "\n",
       "                                              geometry  Yelp_Rating  \\\n",
       "0    POLYGON ((-117.26147 32.93883, -117.26181 32.9...            5   \n",
       "1    POLYGON ((-117.26147 32.93883, -117.26181 32.9...            4   \n",
       "2    POLYGON ((-117.26147 32.93883, -117.26181 32.9...            5   \n",
       "3    POLYGON ((-117.17298 32.71167, -117.17303 32.7...            3   \n",
       "4    POLYGON ((-117.17298 32.71167, -117.17303 32.7...            5   \n",
       "..                                                 ...          ...   \n",
       "535  POLYGON ((-117.17156 32.72450, -117.17280 32.7...            5   \n",
       "536  POLYGON ((-117.17156 32.72450, -117.17280 32.7...            4   \n",
       "537  POLYGON ((-117.11610 33.00321, -117.11583 33.0...            5   \n",
       "538  POLYGON ((-117.11610 33.00321, -117.11583 33.0...            4   \n",
       "539  POLYGON ((-117.11610 33.00321, -117.11583 33.0...            5   \n",
       "\n",
       "                                           Review_Text  \n",
       "0    Torrey Pines State Beach has a special place i...  \n",
       "1    Beautiful beach. Easy access and was easy to f...  \n",
       "2    As soon as we arrived at the beach to park, it...  \n",
       "3    A pleasant park along a beautiful waterfront t...  \n",
       "4    I visited a few times on my recent trip to San...  \n",
       "..                                                 ...  \n",
       "535  Definitely worth the price of admission.\\n\\nIf...  \n",
       "536  Well First I got here and I was quite amazed a...  \n",
       "537  The sports facility here is awesome! It's a pr...  \n",
       "538  The location have two parks, one is 4s communi...  \n",
       "539  Great park for kids. Large playground plus eas...  \n",
       "\n",
       "[540 rows x 6 columns]"
      ]
     },
     "execution_count": 5,
     "metadata": {},
     "output_type": "execute_result"
    }
   ],
   "source": [
    "parkLoc_df.rename(columns={'alias':'Park_Name', 'gis_acres': 'Acres'}, inplace= True)\n",
    "yelp_df.rename(columns={'id':'Park_Name', 'rating':'Yelp_Rating', 'text': 'Review_Text'}, inplace = True)\n",
    "\n",
    "\n",
    "main_df = pd.merge(parkLoc_df, yelp_df, on=['Park_Name'])\n",
    "main_df = main_df.dropna()\n",
    "\n",
    "main_df"
   ]
  },
  {
   "cell_type": "markdown",
   "metadata": {},
   "source": [
    "Before any other analysis, I will first perform a sentiment analysis on the given review text for each observation. I will be using the 'SentimentIntensityAnalyzer()' function from the nltk library to analyze the sentiment of the review. This sentiment score will be stored in a new column."
   ]
  },
  {
   "cell_type": "code",
   "execution_count": 6,
   "metadata": {},
   "outputs": [
    {
     "name": "stderr",
     "output_type": "stream",
     "text": [
      "[nltk_data] Downloading package vader_lexicon to\n",
      "[nltk_data]     /home/jkaharud/nltk_data...\n",
      "[nltk_data]   Package vader_lexicon is already up-to-date!\n"
     ]
    }
   ],
   "source": [
    "### Sentiment analysis\n",
    "import nltk\n",
    "nltk.downloader.download('vader_lexicon')\n",
    "analyzer = SentimentIntensityAnalyzer()"
   ]
  },
  {
   "cell_type": "code",
   "execution_count": 7,
   "metadata": {},
   "outputs": [
    {
     "data": {
      "text/html": [
       "<div>\n",
       "<style scoped>\n",
       "    .dataframe tbody tr th:only-of-type {\n",
       "        vertical-align: middle;\n",
       "    }\n",
       "\n",
       "    .dataframe tbody tr th {\n",
       "        vertical-align: top;\n",
       "    }\n",
       "\n",
       "    .dataframe thead th {\n",
       "        text-align: right;\n",
       "    }\n",
       "</style>\n",
       "<table border=\"1\" class=\"dataframe\">\n",
       "  <thead>\n",
       "    <tr style=\"text-align: right;\">\n",
       "      <th></th>\n",
       "      <th>Park_Name</th>\n",
       "      <th>Acres</th>\n",
       "      <th>park_type</th>\n",
       "      <th>geometry</th>\n",
       "      <th>Yelp_Rating</th>\n",
       "      <th>Review_Text</th>\n",
       "      <th>Scores</th>\n",
       "    </tr>\n",
       "  </thead>\n",
       "  <tbody>\n",
       "    <tr>\n",
       "      <th>0</th>\n",
       "      <td>Torrey Pines State Beach</td>\n",
       "      <td>67.294309</td>\n",
       "      <td>State</td>\n",
       "      <td>POLYGON ((-117.26147 32.93883, -117.26181 32.9...</td>\n",
       "      <td>5</td>\n",
       "      <td>Torrey Pines State Beach has a special place i...</td>\n",
       "      <td>{'neg': 0.0, 'neu': 0.864, 'pos': 0.136, 'comp...</td>\n",
       "    </tr>\n",
       "    <tr>\n",
       "      <th>1</th>\n",
       "      <td>Torrey Pines State Beach</td>\n",
       "      <td>67.294309</td>\n",
       "      <td>State</td>\n",
       "      <td>POLYGON ((-117.26147 32.93883, -117.26181 32.9...</td>\n",
       "      <td>4</td>\n",
       "      <td>Beautiful beach. Easy access and was easy to f...</td>\n",
       "      <td>{'neg': 0.0, 'neu': 0.64, 'pos': 0.36, 'compou...</td>\n",
       "    </tr>\n",
       "    <tr>\n",
       "      <th>2</th>\n",
       "      <td>Torrey Pines State Beach</td>\n",
       "      <td>67.294309</td>\n",
       "      <td>State</td>\n",
       "      <td>POLYGON ((-117.26147 32.93883, -117.26181 32.9...</td>\n",
       "      <td>5</td>\n",
       "      <td>As soon as we arrived at the beach to park, it...</td>\n",
       "      <td>{'neg': 0.0, 'neu': 1.0, 'pos': 0.0, 'compound...</td>\n",
       "    </tr>\n",
       "    <tr>\n",
       "      <th>3</th>\n",
       "      <td>Ruocco Park</td>\n",
       "      <td>3.312526</td>\n",
       "      <td>Local</td>\n",
       "      <td>POLYGON ((-117.17298 32.71167, -117.17303 32.7...</td>\n",
       "      <td>3</td>\n",
       "      <td>A pleasant park along a beautiful waterfront t...</td>\n",
       "      <td>{'neg': 0.0, 'neu': 0.569, 'pos': 0.431, 'comp...</td>\n",
       "    </tr>\n",
       "    <tr>\n",
       "      <th>4</th>\n",
       "      <td>Ruocco Park</td>\n",
       "      <td>3.312526</td>\n",
       "      <td>Local</td>\n",
       "      <td>POLYGON ((-117.17298 32.71167, -117.17303 32.7...</td>\n",
       "      <td>5</td>\n",
       "      <td>I visited a few times on my recent trip to San...</td>\n",
       "      <td>{'neg': 0.064, 'neu': 0.848, 'pos': 0.088, 'co...</td>\n",
       "    </tr>\n",
       "    <tr>\n",
       "      <th>...</th>\n",
       "      <td>...</td>\n",
       "      <td>...</td>\n",
       "      <td>...</td>\n",
       "      <td>...</td>\n",
       "      <td>...</td>\n",
       "      <td>...</td>\n",
       "      <td>...</td>\n",
       "    </tr>\n",
       "    <tr>\n",
       "      <th>535</th>\n",
       "      <td>Waterfront Park</td>\n",
       "      <td>12.693865</td>\n",
       "      <td>Regional</td>\n",
       "      <td>POLYGON ((-117.17156 32.72450, -117.17280 32.7...</td>\n",
       "      <td>5</td>\n",
       "      <td>Definitely worth the price of admission.\\n\\nIf...</td>\n",
       "      <td>{'neg': 0.0, 'neu': 0.602, 'pos': 0.398, 'comp...</td>\n",
       "    </tr>\n",
       "    <tr>\n",
       "      <th>536</th>\n",
       "      <td>Waterfront Park</td>\n",
       "      <td>12.693865</td>\n",
       "      <td>Regional</td>\n",
       "      <td>POLYGON ((-117.17156 32.72450, -117.17280 32.7...</td>\n",
       "      <td>4</td>\n",
       "      <td>Well First I got here and I was quite amazed a...</td>\n",
       "      <td>{'neg': 0.0, 'neu': 0.834, 'pos': 0.166, 'comp...</td>\n",
       "    </tr>\n",
       "    <tr>\n",
       "      <th>537</th>\n",
       "      <td>4S Ranch Community Park</td>\n",
       "      <td>3.241830</td>\n",
       "      <td>Local</td>\n",
       "      <td>POLYGON ((-117.11610 33.00321, -117.11583 33.0...</td>\n",
       "      <td>5</td>\n",
       "      <td>The sports facility here is awesome! It's a pr...</td>\n",
       "      <td>{'neg': 0.0, 'neu': 0.743, 'pos': 0.257, 'comp...</td>\n",
       "    </tr>\n",
       "    <tr>\n",
       "      <th>538</th>\n",
       "      <td>4S Ranch Community Park</td>\n",
       "      <td>3.241830</td>\n",
       "      <td>Local</td>\n",
       "      <td>POLYGON ((-117.11610 33.00321, -117.11583 33.0...</td>\n",
       "      <td>4</td>\n",
       "      <td>The location have two parks, one is 4s communi...</td>\n",
       "      <td>{'neg': 0.0, 'neu': 0.901, 'pos': 0.099, 'comp...</td>\n",
       "    </tr>\n",
       "    <tr>\n",
       "      <th>539</th>\n",
       "      <td>4S Ranch Community Park</td>\n",
       "      <td>3.241830</td>\n",
       "      <td>Local</td>\n",
       "      <td>POLYGON ((-117.11610 33.00321, -117.11583 33.0...</td>\n",
       "      <td>5</td>\n",
       "      <td>Great park for kids. Large playground plus eas...</td>\n",
       "      <td>{'neg': 0.0, 'neu': 0.564, 'pos': 0.436, 'comp...</td>\n",
       "    </tr>\n",
       "  </tbody>\n",
       "</table>\n",
       "<p>540 rows × 7 columns</p>\n",
       "</div>"
      ],
      "text/plain": [
       "                    Park_Name      Acres park_type  \\\n",
       "0    Torrey Pines State Beach  67.294309     State   \n",
       "1    Torrey Pines State Beach  67.294309     State   \n",
       "2    Torrey Pines State Beach  67.294309     State   \n",
       "3                 Ruocco Park   3.312526     Local   \n",
       "4                 Ruocco Park   3.312526     Local   \n",
       "..                        ...        ...       ...   \n",
       "535           Waterfront Park  12.693865  Regional   \n",
       "536           Waterfront Park  12.693865  Regional   \n",
       "537   4S Ranch Community Park   3.241830     Local   \n",
       "538   4S Ranch Community Park   3.241830     Local   \n",
       "539   4S Ranch Community Park   3.241830     Local   \n",
       "\n",
       "                                              geometry  Yelp_Rating  \\\n",
       "0    POLYGON ((-117.26147 32.93883, -117.26181 32.9...            5   \n",
       "1    POLYGON ((-117.26147 32.93883, -117.26181 32.9...            4   \n",
       "2    POLYGON ((-117.26147 32.93883, -117.26181 32.9...            5   \n",
       "3    POLYGON ((-117.17298 32.71167, -117.17303 32.7...            3   \n",
       "4    POLYGON ((-117.17298 32.71167, -117.17303 32.7...            5   \n",
       "..                                                 ...          ...   \n",
       "535  POLYGON ((-117.17156 32.72450, -117.17280 32.7...            5   \n",
       "536  POLYGON ((-117.17156 32.72450, -117.17280 32.7...            4   \n",
       "537  POLYGON ((-117.11610 33.00321, -117.11583 33.0...            5   \n",
       "538  POLYGON ((-117.11610 33.00321, -117.11583 33.0...            4   \n",
       "539  POLYGON ((-117.11610 33.00321, -117.11583 33.0...            5   \n",
       "\n",
       "                                           Review_Text  \\\n",
       "0    Torrey Pines State Beach has a special place i...   \n",
       "1    Beautiful beach. Easy access and was easy to f...   \n",
       "2    As soon as we arrived at the beach to park, it...   \n",
       "3    A pleasant park along a beautiful waterfront t...   \n",
       "4    I visited a few times on my recent trip to San...   \n",
       "..                                                 ...   \n",
       "535  Definitely worth the price of admission.\\n\\nIf...   \n",
       "536  Well First I got here and I was quite amazed a...   \n",
       "537  The sports facility here is awesome! It's a pr...   \n",
       "538  The location have two parks, one is 4s communi...   \n",
       "539  Great park for kids. Large playground plus eas...   \n",
       "\n",
       "                                                Scores  \n",
       "0    {'neg': 0.0, 'neu': 0.864, 'pos': 0.136, 'comp...  \n",
       "1    {'neg': 0.0, 'neu': 0.64, 'pos': 0.36, 'compou...  \n",
       "2    {'neg': 0.0, 'neu': 1.0, 'pos': 0.0, 'compound...  \n",
       "3    {'neg': 0.0, 'neu': 0.569, 'pos': 0.431, 'comp...  \n",
       "4    {'neg': 0.064, 'neu': 0.848, 'pos': 0.088, 'co...  \n",
       "..                                                 ...  \n",
       "535  {'neg': 0.0, 'neu': 0.602, 'pos': 0.398, 'comp...  \n",
       "536  {'neg': 0.0, 'neu': 0.834, 'pos': 0.166, 'comp...  \n",
       "537  {'neg': 0.0, 'neu': 0.743, 'pos': 0.257, 'comp...  \n",
       "538  {'neg': 0.0, 'neu': 0.901, 'pos': 0.099, 'comp...  \n",
       "539  {'neg': 0.0, 'neu': 0.564, 'pos': 0.436, 'comp...  \n",
       "\n",
       "[540 rows x 7 columns]"
      ]
     },
     "execution_count": 7,
     "metadata": {},
     "output_type": "execute_result"
    }
   ],
   "source": [
    "main_df['Scores'] = main_df['Review_Text'].apply(lambda x: analyzer.polarity_scores(x))\n",
    "main_df"
   ]
  },
  {
   "cell_type": "markdown",
   "metadata": {},
   "source": [
    "The scores column stores the result of the sentiment analyzer. Showing the negative, positive, neutral and compound score of the text review. However, we are only interested in the compound score which represents the overall sentiment of the review. Thus we will be adding a new column to store that value and removing the Scores column."
   ]
  },
  {
   "cell_type": "code",
   "execution_count": 8,
   "metadata": {},
   "outputs": [
    {
     "data": {
      "text/html": [
       "<div>\n",
       "<style scoped>\n",
       "    .dataframe tbody tr th:only-of-type {\n",
       "        vertical-align: middle;\n",
       "    }\n",
       "\n",
       "    .dataframe tbody tr th {\n",
       "        vertical-align: top;\n",
       "    }\n",
       "\n",
       "    .dataframe thead th {\n",
       "        text-align: right;\n",
       "    }\n",
       "</style>\n",
       "<table border=\"1\" class=\"dataframe\">\n",
       "  <thead>\n",
       "    <tr style=\"text-align: right;\">\n",
       "      <th></th>\n",
       "      <th>Park_Name</th>\n",
       "      <th>Acres</th>\n",
       "      <th>park_type</th>\n",
       "      <th>geometry</th>\n",
       "      <th>Yelp_Rating</th>\n",
       "      <th>Review_Text</th>\n",
       "      <th>Scores</th>\n",
       "      <th>Sentiment_Score</th>\n",
       "    </tr>\n",
       "  </thead>\n",
       "  <tbody>\n",
       "    <tr>\n",
       "      <th>0</th>\n",
       "      <td>Torrey Pines State Beach</td>\n",
       "      <td>67.294309</td>\n",
       "      <td>State</td>\n",
       "      <td>POLYGON ((-117.26147 32.93883, -117.26181 32.9...</td>\n",
       "      <td>5</td>\n",
       "      <td>Torrey Pines State Beach has a special place i...</td>\n",
       "      <td>{'neg': 0.0, 'neu': 0.864, 'pos': 0.136, 'comp...</td>\n",
       "      <td>0.5267</td>\n",
       "    </tr>\n",
       "    <tr>\n",
       "      <th>1</th>\n",
       "      <td>Torrey Pines State Beach</td>\n",
       "      <td>67.294309</td>\n",
       "      <td>State</td>\n",
       "      <td>POLYGON ((-117.26147 32.93883, -117.26181 32.9...</td>\n",
       "      <td>4</td>\n",
       "      <td>Beautiful beach. Easy access and was easy to f...</td>\n",
       "      <td>{'neg': 0.0, 'neu': 0.64, 'pos': 0.36, 'compou...</td>\n",
       "      <td>0.9081</td>\n",
       "    </tr>\n",
       "    <tr>\n",
       "      <th>2</th>\n",
       "      <td>Torrey Pines State Beach</td>\n",
       "      <td>67.294309</td>\n",
       "      <td>State</td>\n",
       "      <td>POLYGON ((-117.26147 32.93883, -117.26181 32.9...</td>\n",
       "      <td>5</td>\n",
       "      <td>As soon as we arrived at the beach to park, it...</td>\n",
       "      <td>{'neg': 0.0, 'neu': 1.0, 'pos': 0.0, 'compound...</td>\n",
       "      <td>0.0000</td>\n",
       "    </tr>\n",
       "    <tr>\n",
       "      <th>3</th>\n",
       "      <td>Ruocco Park</td>\n",
       "      <td>3.312526</td>\n",
       "      <td>Local</td>\n",
       "      <td>POLYGON ((-117.17298 32.71167, -117.17303 32.7...</td>\n",
       "      <td>3</td>\n",
       "      <td>A pleasant park along a beautiful waterfront t...</td>\n",
       "      <td>{'neg': 0.0, 'neu': 0.569, 'pos': 0.431, 'comp...</td>\n",
       "      <td>0.9168</td>\n",
       "    </tr>\n",
       "    <tr>\n",
       "      <th>4</th>\n",
       "      <td>Ruocco Park</td>\n",
       "      <td>3.312526</td>\n",
       "      <td>Local</td>\n",
       "      <td>POLYGON ((-117.17298 32.71167, -117.17303 32.7...</td>\n",
       "      <td>5</td>\n",
       "      <td>I visited a few times on my recent trip to San...</td>\n",
       "      <td>{'neg': 0.064, 'neu': 0.848, 'pos': 0.088, 'co...</td>\n",
       "      <td>0.1935</td>\n",
       "    </tr>\n",
       "  </tbody>\n",
       "</table>\n",
       "</div>"
      ],
      "text/plain": [
       "                  Park_Name      Acres park_type  \\\n",
       "0  Torrey Pines State Beach  67.294309     State   \n",
       "1  Torrey Pines State Beach  67.294309     State   \n",
       "2  Torrey Pines State Beach  67.294309     State   \n",
       "3               Ruocco Park   3.312526     Local   \n",
       "4               Ruocco Park   3.312526     Local   \n",
       "\n",
       "                                            geometry  Yelp_Rating  \\\n",
       "0  POLYGON ((-117.26147 32.93883, -117.26181 32.9...            5   \n",
       "1  POLYGON ((-117.26147 32.93883, -117.26181 32.9...            4   \n",
       "2  POLYGON ((-117.26147 32.93883, -117.26181 32.9...            5   \n",
       "3  POLYGON ((-117.17298 32.71167, -117.17303 32.7...            3   \n",
       "4  POLYGON ((-117.17298 32.71167, -117.17303 32.7...            5   \n",
       "\n",
       "                                         Review_Text  \\\n",
       "0  Torrey Pines State Beach has a special place i...   \n",
       "1  Beautiful beach. Easy access and was easy to f...   \n",
       "2  As soon as we arrived at the beach to park, it...   \n",
       "3  A pleasant park along a beautiful waterfront t...   \n",
       "4  I visited a few times on my recent trip to San...   \n",
       "\n",
       "                                              Scores  Sentiment_Score  \n",
       "0  {'neg': 0.0, 'neu': 0.864, 'pos': 0.136, 'comp...           0.5267  \n",
       "1  {'neg': 0.0, 'neu': 0.64, 'pos': 0.36, 'compou...           0.9081  \n",
       "2  {'neg': 0.0, 'neu': 1.0, 'pos': 0.0, 'compound...           0.0000  \n",
       "3  {'neg': 0.0, 'neu': 0.569, 'pos': 0.431, 'comp...           0.9168  \n",
       "4  {'neg': 0.064, 'neu': 0.848, 'pos': 0.088, 'co...           0.1935  "
      ]
     },
     "execution_count": 8,
     "metadata": {},
     "output_type": "execute_result"
    }
   ],
   "source": [
    "main_df['Sentiment_Score'] = main_df['Scores'].apply(lambda score_dict: score_dict['compound'])\n",
    "main_df.head()"
   ]
  },
  {
   "cell_type": "code",
   "execution_count": 9,
   "metadata": {},
   "outputs": [
    {
     "data": {
      "text/html": [
       "<div>\n",
       "<style scoped>\n",
       "    .dataframe tbody tr th:only-of-type {\n",
       "        vertical-align: middle;\n",
       "    }\n",
       "\n",
       "    .dataframe tbody tr th {\n",
       "        vertical-align: top;\n",
       "    }\n",
       "\n",
       "    .dataframe thead th {\n",
       "        text-align: right;\n",
       "    }\n",
       "</style>\n",
       "<table border=\"1\" class=\"dataframe\">\n",
       "  <thead>\n",
       "    <tr style=\"text-align: right;\">\n",
       "      <th></th>\n",
       "      <th>Park_Name</th>\n",
       "      <th>Acres</th>\n",
       "      <th>park_type</th>\n",
       "      <th>geometry</th>\n",
       "      <th>Yelp_Rating</th>\n",
       "      <th>Review_Text</th>\n",
       "      <th>Sentiment_Score</th>\n",
       "    </tr>\n",
       "  </thead>\n",
       "  <tbody>\n",
       "    <tr>\n",
       "      <th>0</th>\n",
       "      <td>Torrey Pines State Beach</td>\n",
       "      <td>67.294309</td>\n",
       "      <td>State</td>\n",
       "      <td>POLYGON ((-117.26147 32.93883, -117.26181 32.9...</td>\n",
       "      <td>5</td>\n",
       "      <td>Torrey Pines State Beach has a special place i...</td>\n",
       "      <td>0.5267</td>\n",
       "    </tr>\n",
       "    <tr>\n",
       "      <th>1</th>\n",
       "      <td>Torrey Pines State Beach</td>\n",
       "      <td>67.294309</td>\n",
       "      <td>State</td>\n",
       "      <td>POLYGON ((-117.26147 32.93883, -117.26181 32.9...</td>\n",
       "      <td>4</td>\n",
       "      <td>Beautiful beach. Easy access and was easy to f...</td>\n",
       "      <td>0.9081</td>\n",
       "    </tr>\n",
       "    <tr>\n",
       "      <th>2</th>\n",
       "      <td>Torrey Pines State Beach</td>\n",
       "      <td>67.294309</td>\n",
       "      <td>State</td>\n",
       "      <td>POLYGON ((-117.26147 32.93883, -117.26181 32.9...</td>\n",
       "      <td>5</td>\n",
       "      <td>As soon as we arrived at the beach to park, it...</td>\n",
       "      <td>0.0000</td>\n",
       "    </tr>\n",
       "    <tr>\n",
       "      <th>3</th>\n",
       "      <td>Ruocco Park</td>\n",
       "      <td>3.312526</td>\n",
       "      <td>Local</td>\n",
       "      <td>POLYGON ((-117.17298 32.71167, -117.17303 32.7...</td>\n",
       "      <td>3</td>\n",
       "      <td>A pleasant park along a beautiful waterfront t...</td>\n",
       "      <td>0.9168</td>\n",
       "    </tr>\n",
       "    <tr>\n",
       "      <th>4</th>\n",
       "      <td>Ruocco Park</td>\n",
       "      <td>3.312526</td>\n",
       "      <td>Local</td>\n",
       "      <td>POLYGON ((-117.17298 32.71167, -117.17303 32.7...</td>\n",
       "      <td>5</td>\n",
       "      <td>I visited a few times on my recent trip to San...</td>\n",
       "      <td>0.1935</td>\n",
       "    </tr>\n",
       "    <tr>\n",
       "      <th>...</th>\n",
       "      <td>...</td>\n",
       "      <td>...</td>\n",
       "      <td>...</td>\n",
       "      <td>...</td>\n",
       "      <td>...</td>\n",
       "      <td>...</td>\n",
       "      <td>...</td>\n",
       "    </tr>\n",
       "    <tr>\n",
       "      <th>535</th>\n",
       "      <td>Waterfront Park</td>\n",
       "      <td>12.693865</td>\n",
       "      <td>Regional</td>\n",
       "      <td>POLYGON ((-117.17156 32.72450, -117.17280 32.7...</td>\n",
       "      <td>5</td>\n",
       "      <td>Definitely worth the price of admission.\\n\\nIf...</td>\n",
       "      <td>0.9423</td>\n",
       "    </tr>\n",
       "    <tr>\n",
       "      <th>536</th>\n",
       "      <td>Waterfront Park</td>\n",
       "      <td>12.693865</td>\n",
       "      <td>Regional</td>\n",
       "      <td>POLYGON ((-117.17156 32.72450, -117.17280 32.7...</td>\n",
       "      <td>4</td>\n",
       "      <td>Well First I got here and I was quite amazed a...</td>\n",
       "      <td>0.6801</td>\n",
       "    </tr>\n",
       "    <tr>\n",
       "      <th>537</th>\n",
       "      <td>4S Ranch Community Park</td>\n",
       "      <td>3.241830</td>\n",
       "      <td>Local</td>\n",
       "      <td>POLYGON ((-117.11610 33.00321, -117.11583 33.0...</td>\n",
       "      <td>5</td>\n",
       "      <td>The sports facility here is awesome! It's a pr...</td>\n",
       "      <td>0.8221</td>\n",
       "    </tr>\n",
       "    <tr>\n",
       "      <th>538</th>\n",
       "      <td>4S Ranch Community Park</td>\n",
       "      <td>3.241830</td>\n",
       "      <td>Local</td>\n",
       "      <td>POLYGON ((-117.11610 33.00321, -117.11583 33.0...</td>\n",
       "      <td>4</td>\n",
       "      <td>The location have two parks, one is 4s communi...</td>\n",
       "      <td>0.4939</td>\n",
       "    </tr>\n",
       "    <tr>\n",
       "      <th>539</th>\n",
       "      <td>4S Ranch Community Park</td>\n",
       "      <td>3.241830</td>\n",
       "      <td>Local</td>\n",
       "      <td>POLYGON ((-117.11610 33.00321, -117.11583 33.0...</td>\n",
       "      <td>5</td>\n",
       "      <td>Great park for kids. Large playground plus eas...</td>\n",
       "      <td>0.9476</td>\n",
       "    </tr>\n",
       "  </tbody>\n",
       "</table>\n",
       "<p>540 rows × 7 columns</p>\n",
       "</div>"
      ],
      "text/plain": [
       "                    Park_Name      Acres park_type  \\\n",
       "0    Torrey Pines State Beach  67.294309     State   \n",
       "1    Torrey Pines State Beach  67.294309     State   \n",
       "2    Torrey Pines State Beach  67.294309     State   \n",
       "3                 Ruocco Park   3.312526     Local   \n",
       "4                 Ruocco Park   3.312526     Local   \n",
       "..                        ...        ...       ...   \n",
       "535           Waterfront Park  12.693865  Regional   \n",
       "536           Waterfront Park  12.693865  Regional   \n",
       "537   4S Ranch Community Park   3.241830     Local   \n",
       "538   4S Ranch Community Park   3.241830     Local   \n",
       "539   4S Ranch Community Park   3.241830     Local   \n",
       "\n",
       "                                              geometry  Yelp_Rating  \\\n",
       "0    POLYGON ((-117.26147 32.93883, -117.26181 32.9...            5   \n",
       "1    POLYGON ((-117.26147 32.93883, -117.26181 32.9...            4   \n",
       "2    POLYGON ((-117.26147 32.93883, -117.26181 32.9...            5   \n",
       "3    POLYGON ((-117.17298 32.71167, -117.17303 32.7...            3   \n",
       "4    POLYGON ((-117.17298 32.71167, -117.17303 32.7...            5   \n",
       "..                                                 ...          ...   \n",
       "535  POLYGON ((-117.17156 32.72450, -117.17280 32.7...            5   \n",
       "536  POLYGON ((-117.17156 32.72450, -117.17280 32.7...            4   \n",
       "537  POLYGON ((-117.11610 33.00321, -117.11583 33.0...            5   \n",
       "538  POLYGON ((-117.11610 33.00321, -117.11583 33.0...            4   \n",
       "539  POLYGON ((-117.11610 33.00321, -117.11583 33.0...            5   \n",
       "\n",
       "                                           Review_Text  Sentiment_Score  \n",
       "0    Torrey Pines State Beach has a special place i...           0.5267  \n",
       "1    Beautiful beach. Easy access and was easy to f...           0.9081  \n",
       "2    As soon as we arrived at the beach to park, it...           0.0000  \n",
       "3    A pleasant park along a beautiful waterfront t...           0.9168  \n",
       "4    I visited a few times on my recent trip to San...           0.1935  \n",
       "..                                                 ...              ...  \n",
       "535  Definitely worth the price of admission.\\n\\nIf...           0.9423  \n",
       "536  Well First I got here and I was quite amazed a...           0.6801  \n",
       "537  The sports facility here is awesome! It's a pr...           0.8221  \n",
       "538  The location have two parks, one is 4s communi...           0.4939  \n",
       "539  Great park for kids. Large playground plus eas...           0.9476  \n",
       "\n",
       "[540 rows x 7 columns]"
      ]
     },
     "execution_count": 9,
     "metadata": {},
     "output_type": "execute_result"
    }
   ],
   "source": [
    "main_df = main_df.drop(['Scores'], axis = 1)\n",
    "main_df"
   ]
  },
  {
   "cell_type": "markdown",
   "metadata": {},
   "source": [
    "Before moving on to further cleaning, check for any null or none values in the dataset"
   ]
  },
  {
   "cell_type": "code",
   "execution_count": 10,
   "metadata": {},
   "outputs": [
    {
     "data": {
      "text/plain": [
       "Park_Name          False\n",
       "Acres              False\n",
       "park_type          False\n",
       "geometry           False\n",
       "Yelp_Rating        False\n",
       "Review_Text        False\n",
       "Sentiment_Score    False\n",
       "dtype: bool"
      ]
     },
     "execution_count": 10,
     "metadata": {},
     "output_type": "execute_result"
    }
   ],
   "source": [
    "main_df.isnull().any()"
   ]
  },
  {
   "cell_type": "markdown",
   "metadata": {},
   "source": [
    "Since there are multiple reviews per park, I will take the average Yelp rating for each park and store it in a new column. It is not possible to add the Yelp ratings to form a joint rating since Yelp ratings are at a maximum score of 5. I will also be averaging the sentiment score of the review for each park."
   ]
  },
  {
   "cell_type": "code",
   "execution_count": 11,
   "metadata": {
    "scrolled": true
   },
   "outputs": [
    {
     "data": {
      "text/html": [
       "<div>\n",
       "<style scoped>\n",
       "    .dataframe tbody tr th:only-of-type {\n",
       "        vertical-align: middle;\n",
       "    }\n",
       "\n",
       "    .dataframe tbody tr th {\n",
       "        vertical-align: top;\n",
       "    }\n",
       "\n",
       "    .dataframe thead th {\n",
       "        text-align: right;\n",
       "    }\n",
       "</style>\n",
       "<table border=\"1\" class=\"dataframe\">\n",
       "  <thead>\n",
       "    <tr style=\"text-align: right;\">\n",
       "      <th></th>\n",
       "      <th>Average_Sentiment</th>\n",
       "      <th>Average_Rating</th>\n",
       "    </tr>\n",
       "    <tr>\n",
       "      <th>Park_Name</th>\n",
       "      <th></th>\n",
       "      <th></th>\n",
       "    </tr>\n",
       "  </thead>\n",
       "  <tbody>\n",
       "    <tr>\n",
       "      <th>4S Ranch Community Park</th>\n",
       "      <td>0.754533</td>\n",
       "      <td>4.666667</td>\n",
       "    </tr>\n",
       "    <tr>\n",
       "      <th>Ashley Falls Park</th>\n",
       "      <td>0.531300</td>\n",
       "      <td>4.500000</td>\n",
       "    </tr>\n",
       "    <tr>\n",
       "      <th>Balboa Park</th>\n",
       "      <td>0.752533</td>\n",
       "      <td>5.000000</td>\n",
       "    </tr>\n",
       "    <tr>\n",
       "      <th>Big Rock Park</th>\n",
       "      <td>0.668733</td>\n",
       "      <td>4.333333</td>\n",
       "    </tr>\n",
       "    <tr>\n",
       "      <th>Black Mountain Open Space Park</th>\n",
       "      <td>0.336667</td>\n",
       "      <td>4.333333</td>\n",
       "    </tr>\n",
       "    <tr>\n",
       "      <th>...</th>\n",
       "      <td>...</td>\n",
       "      <td>...</td>\n",
       "    </tr>\n",
       "    <tr>\n",
       "      <th>Vista Pacifica Park</th>\n",
       "      <td>0.361200</td>\n",
       "      <td>4.000000</td>\n",
       "    </tr>\n",
       "    <tr>\n",
       "      <th>Waterfront Park</th>\n",
       "      <td>0.802300</td>\n",
       "      <td>4.666667</td>\n",
       "    </tr>\n",
       "    <tr>\n",
       "      <th>Western Hills Park</th>\n",
       "      <td>0.176967</td>\n",
       "      <td>3.333333</td>\n",
       "    </tr>\n",
       "    <tr>\n",
       "      <th>Westview Park</th>\n",
       "      <td>0.702067</td>\n",
       "      <td>4.000000</td>\n",
       "    </tr>\n",
       "    <tr>\n",
       "      <th>Windwood Park</th>\n",
       "      <td>0.504333</td>\n",
       "      <td>3.666667</td>\n",
       "    </tr>\n",
       "  </tbody>\n",
       "</table>\n",
       "<p>110 rows × 2 columns</p>\n",
       "</div>"
      ],
      "text/plain": [
       "                                Average_Sentiment  Average_Rating\n",
       "Park_Name                                                        \n",
       "4S Ranch Community Park                  0.754533        4.666667\n",
       "Ashley Falls Park                        0.531300        4.500000\n",
       "Balboa Park                              0.752533        5.000000\n",
       "Big Rock Park                            0.668733        4.333333\n",
       "Black Mountain Open Space Park           0.336667        4.333333\n",
       "...                                           ...             ...\n",
       "Vista Pacifica Park                      0.361200        4.000000\n",
       "Waterfront Park                          0.802300        4.666667\n",
       "Western Hills Park                       0.176967        3.333333\n",
       "Westview Park                            0.702067        4.000000\n",
       "Windwood Park                            0.504333        3.666667\n",
       "\n",
       "[110 rows x 2 columns]"
      ]
     },
     "execution_count": 11,
     "metadata": {},
     "output_type": "execute_result"
    }
   ],
   "source": [
    "table = pd.pivot_table(main_df, values = ['Yelp_Rating', 'Sentiment_Score'], index =['Park_Name'])\n",
    "table.rename(columns = {'Yelp_Rating' : 'Average_Rating', 'Sentiment_Score': 'Average_Sentiment'}, inplace = True)\n",
    "\n",
    "table"
   ]
  },
  {
   "cell_type": "code",
   "execution_count": 12,
   "metadata": {},
   "outputs": [
    {
     "data": {
      "text/html": [
       "<div>\n",
       "<style scoped>\n",
       "    .dataframe tbody tr th:only-of-type {\n",
       "        vertical-align: middle;\n",
       "    }\n",
       "\n",
       "    .dataframe tbody tr th {\n",
       "        vertical-align: top;\n",
       "    }\n",
       "\n",
       "    .dataframe thead th {\n",
       "        text-align: right;\n",
       "    }\n",
       "</style>\n",
       "<table border=\"1\" class=\"dataframe\">\n",
       "  <thead>\n",
       "    <tr style=\"text-align: right;\">\n",
       "      <th></th>\n",
       "      <th>Park_Name</th>\n",
       "      <th>Acres</th>\n",
       "      <th>park_type</th>\n",
       "      <th>geometry</th>\n",
       "      <th>Yelp_Rating</th>\n",
       "      <th>Review_Text</th>\n",
       "      <th>Average_Sentiment</th>\n",
       "      <th>Average_Rating</th>\n",
       "    </tr>\n",
       "  </thead>\n",
       "  <tbody>\n",
       "    <tr>\n",
       "      <th>0</th>\n",
       "      <td>Torrey Pines State Beach</td>\n",
       "      <td>67.294309</td>\n",
       "      <td>State</td>\n",
       "      <td>POLYGON ((-117.26147 32.93883, -117.26181 32.9...</td>\n",
       "      <td>5</td>\n",
       "      <td>Torrey Pines State Beach has a special place i...</td>\n",
       "      <td>0.478267</td>\n",
       "      <td>4.666667</td>\n",
       "    </tr>\n",
       "    <tr>\n",
       "      <th>1</th>\n",
       "      <td>Torrey Pines State Beach</td>\n",
       "      <td>67.294309</td>\n",
       "      <td>State</td>\n",
       "      <td>POLYGON ((-117.26147 32.93883, -117.26181 32.9...</td>\n",
       "      <td>4</td>\n",
       "      <td>Beautiful beach. Easy access and was easy to f...</td>\n",
       "      <td>0.478267</td>\n",
       "      <td>4.666667</td>\n",
       "    </tr>\n",
       "    <tr>\n",
       "      <th>2</th>\n",
       "      <td>Torrey Pines State Beach</td>\n",
       "      <td>67.294309</td>\n",
       "      <td>State</td>\n",
       "      <td>POLYGON ((-117.26147 32.93883, -117.26181 32.9...</td>\n",
       "      <td>5</td>\n",
       "      <td>As soon as we arrived at the beach to park, it...</td>\n",
       "      <td>0.478267</td>\n",
       "      <td>4.666667</td>\n",
       "    </tr>\n",
       "    <tr>\n",
       "      <th>3</th>\n",
       "      <td>Ruocco Park</td>\n",
       "      <td>3.312526</td>\n",
       "      <td>Local</td>\n",
       "      <td>POLYGON ((-117.17298 32.71167, -117.17303 32.7...</td>\n",
       "      <td>3</td>\n",
       "      <td>A pleasant park along a beautiful waterfront t...</td>\n",
       "      <td>0.685700</td>\n",
       "      <td>4.333333</td>\n",
       "    </tr>\n",
       "    <tr>\n",
       "      <th>4</th>\n",
       "      <td>Ruocco Park</td>\n",
       "      <td>3.312526</td>\n",
       "      <td>Local</td>\n",
       "      <td>POLYGON ((-117.17298 32.71167, -117.17303 32.7...</td>\n",
       "      <td>5</td>\n",
       "      <td>I visited a few times on my recent trip to San...</td>\n",
       "      <td>0.685700</td>\n",
       "      <td>4.333333</td>\n",
       "    </tr>\n",
       "    <tr>\n",
       "      <th>...</th>\n",
       "      <td>...</td>\n",
       "      <td>...</td>\n",
       "      <td>...</td>\n",
       "      <td>...</td>\n",
       "      <td>...</td>\n",
       "      <td>...</td>\n",
       "      <td>...</td>\n",
       "      <td>...</td>\n",
       "    </tr>\n",
       "    <tr>\n",
       "      <th>535</th>\n",
       "      <td>Waterfront Park</td>\n",
       "      <td>12.693865</td>\n",
       "      <td>Regional</td>\n",
       "      <td>POLYGON ((-117.17156 32.72450, -117.17280 32.7...</td>\n",
       "      <td>5</td>\n",
       "      <td>Definitely worth the price of admission.\\n\\nIf...</td>\n",
       "      <td>0.802300</td>\n",
       "      <td>4.666667</td>\n",
       "    </tr>\n",
       "    <tr>\n",
       "      <th>536</th>\n",
       "      <td>Waterfront Park</td>\n",
       "      <td>12.693865</td>\n",
       "      <td>Regional</td>\n",
       "      <td>POLYGON ((-117.17156 32.72450, -117.17280 32.7...</td>\n",
       "      <td>4</td>\n",
       "      <td>Well First I got here and I was quite amazed a...</td>\n",
       "      <td>0.802300</td>\n",
       "      <td>4.666667</td>\n",
       "    </tr>\n",
       "    <tr>\n",
       "      <th>537</th>\n",
       "      <td>4S Ranch Community Park</td>\n",
       "      <td>3.241830</td>\n",
       "      <td>Local</td>\n",
       "      <td>POLYGON ((-117.11610 33.00321, -117.11583 33.0...</td>\n",
       "      <td>5</td>\n",
       "      <td>The sports facility here is awesome! It's a pr...</td>\n",
       "      <td>0.754533</td>\n",
       "      <td>4.666667</td>\n",
       "    </tr>\n",
       "    <tr>\n",
       "      <th>538</th>\n",
       "      <td>4S Ranch Community Park</td>\n",
       "      <td>3.241830</td>\n",
       "      <td>Local</td>\n",
       "      <td>POLYGON ((-117.11610 33.00321, -117.11583 33.0...</td>\n",
       "      <td>4</td>\n",
       "      <td>The location have two parks, one is 4s communi...</td>\n",
       "      <td>0.754533</td>\n",
       "      <td>4.666667</td>\n",
       "    </tr>\n",
       "    <tr>\n",
       "      <th>539</th>\n",
       "      <td>4S Ranch Community Park</td>\n",
       "      <td>3.241830</td>\n",
       "      <td>Local</td>\n",
       "      <td>POLYGON ((-117.11610 33.00321, -117.11583 33.0...</td>\n",
       "      <td>5</td>\n",
       "      <td>Great park for kids. Large playground plus eas...</td>\n",
       "      <td>0.754533</td>\n",
       "      <td>4.666667</td>\n",
       "    </tr>\n",
       "  </tbody>\n",
       "</table>\n",
       "<p>540 rows × 8 columns</p>\n",
       "</div>"
      ],
      "text/plain": [
       "                    Park_Name      Acres park_type  \\\n",
       "0    Torrey Pines State Beach  67.294309     State   \n",
       "1    Torrey Pines State Beach  67.294309     State   \n",
       "2    Torrey Pines State Beach  67.294309     State   \n",
       "3                 Ruocco Park   3.312526     Local   \n",
       "4                 Ruocco Park   3.312526     Local   \n",
       "..                        ...        ...       ...   \n",
       "535           Waterfront Park  12.693865  Regional   \n",
       "536           Waterfront Park  12.693865  Regional   \n",
       "537   4S Ranch Community Park   3.241830     Local   \n",
       "538   4S Ranch Community Park   3.241830     Local   \n",
       "539   4S Ranch Community Park   3.241830     Local   \n",
       "\n",
       "                                              geometry  Yelp_Rating  \\\n",
       "0    POLYGON ((-117.26147 32.93883, -117.26181 32.9...            5   \n",
       "1    POLYGON ((-117.26147 32.93883, -117.26181 32.9...            4   \n",
       "2    POLYGON ((-117.26147 32.93883, -117.26181 32.9...            5   \n",
       "3    POLYGON ((-117.17298 32.71167, -117.17303 32.7...            3   \n",
       "4    POLYGON ((-117.17298 32.71167, -117.17303 32.7...            5   \n",
       "..                                                 ...          ...   \n",
       "535  POLYGON ((-117.17156 32.72450, -117.17280 32.7...            5   \n",
       "536  POLYGON ((-117.17156 32.72450, -117.17280 32.7...            4   \n",
       "537  POLYGON ((-117.11610 33.00321, -117.11583 33.0...            5   \n",
       "538  POLYGON ((-117.11610 33.00321, -117.11583 33.0...            4   \n",
       "539  POLYGON ((-117.11610 33.00321, -117.11583 33.0...            5   \n",
       "\n",
       "                                           Review_Text  Average_Sentiment  \\\n",
       "0    Torrey Pines State Beach has a special place i...           0.478267   \n",
       "1    Beautiful beach. Easy access and was easy to f...           0.478267   \n",
       "2    As soon as we arrived at the beach to park, it...           0.478267   \n",
       "3    A pleasant park along a beautiful waterfront t...           0.685700   \n",
       "4    I visited a few times on my recent trip to San...           0.685700   \n",
       "..                                                 ...                ...   \n",
       "535  Definitely worth the price of admission.\\n\\nIf...           0.802300   \n",
       "536  Well First I got here and I was quite amazed a...           0.802300   \n",
       "537  The sports facility here is awesome! It's a pr...           0.754533   \n",
       "538  The location have two parks, one is 4s communi...           0.754533   \n",
       "539  Great park for kids. Large playground plus eas...           0.754533   \n",
       "\n",
       "     Average_Rating  \n",
       "0          4.666667  \n",
       "1          4.666667  \n",
       "2          4.666667  \n",
       "3          4.333333  \n",
       "4          4.333333  \n",
       "..              ...  \n",
       "535        4.666667  \n",
       "536        4.666667  \n",
       "537        4.666667  \n",
       "538        4.666667  \n",
       "539        4.666667  \n",
       "\n",
       "[540 rows x 8 columns]"
      ]
     },
     "execution_count": 12,
     "metadata": {},
     "output_type": "execute_result"
    }
   ],
   "source": [
    "df = pd.merge(main_df, table, on=['Park_Name'])\n",
    "df = df.drop(['Sentiment_Score'], axis = 1)\n",
    "df"
   ]
  },
  {
   "cell_type": "code",
   "execution_count": 13,
   "metadata": {},
   "outputs": [
    {
     "data": {
      "text/html": [
       "<div>\n",
       "<style scoped>\n",
       "    .dataframe tbody tr th:only-of-type {\n",
       "        vertical-align: middle;\n",
       "    }\n",
       "\n",
       "    .dataframe tbody tr th {\n",
       "        vertical-align: top;\n",
       "    }\n",
       "\n",
       "    .dataframe thead th {\n",
       "        text-align: right;\n",
       "    }\n",
       "</style>\n",
       "<table border=\"1\" class=\"dataframe\">\n",
       "  <thead>\n",
       "    <tr style=\"text-align: right;\">\n",
       "      <th></th>\n",
       "      <th></th>\n",
       "      <th>Acres</th>\n",
       "      <th>park_type</th>\n",
       "      <th>Review_Text</th>\n",
       "      <th>geometry</th>\n",
       "      <th>Average_Rating</th>\n",
       "      <th>Average_Sentiment</th>\n",
       "    </tr>\n",
       "    <tr>\n",
       "      <th>Park_Name</th>\n",
       "      <th>Yelp_Rating</th>\n",
       "      <th></th>\n",
       "      <th></th>\n",
       "      <th></th>\n",
       "      <th></th>\n",
       "      <th></th>\n",
       "      <th></th>\n",
       "    </tr>\n",
       "  </thead>\n",
       "  <tbody>\n",
       "    <tr>\n",
       "      <th rowspan=\"2\" valign=\"top\">4S Ranch Community Park</th>\n",
       "      <th>4</th>\n",
       "      <td>3.241830</td>\n",
       "      <td>Local</td>\n",
       "      <td>The location have two parks, one is 4s communi...</td>\n",
       "      <td>POLYGON ((-117.11610 33.00321, -117.11583 33.0...</td>\n",
       "      <td>4.666667</td>\n",
       "      <td>0.754533</td>\n",
       "    </tr>\n",
       "    <tr>\n",
       "      <th>5</th>\n",
       "      <td>3.241830</td>\n",
       "      <td>Local</td>\n",
       "      <td>Great park for kids. Large playground plus eas...</td>\n",
       "      <td>POLYGON ((-117.11610 33.00321, -117.11583 33.0...</td>\n",
       "      <td>4.666667</td>\n",
       "      <td>0.754533</td>\n",
       "    </tr>\n",
       "    <tr>\n",
       "      <th rowspan=\"2\" valign=\"top\">Ashley Falls Park</th>\n",
       "      <th>4</th>\n",
       "      <td>11.660442</td>\n",
       "      <td>Local</td>\n",
       "      <td>came here for a kids birthday party...not my f...</td>\n",
       "      <td>POLYGON ((-117.20788 32.95706, -117.20788 32.9...</td>\n",
       "      <td>4.500000</td>\n",
       "      <td>0.531300</td>\n",
       "    </tr>\n",
       "    <tr>\n",
       "      <th>5</th>\n",
       "      <td>11.660442</td>\n",
       "      <td>Local</td>\n",
       "      <td>New playground for my 4 yo and 10month old. Bu...</td>\n",
       "      <td>POLYGON ((-117.20788 32.95706, -117.20788 32.9...</td>\n",
       "      <td>4.500000</td>\n",
       "      <td>0.531300</td>\n",
       "    </tr>\n",
       "    <tr>\n",
       "      <th>Balboa Park</th>\n",
       "      <th>5</th>\n",
       "      <td>1089.476460</td>\n",
       "      <td>Regional</td>\n",
       "      <td>Balboa Park is a must see when coming to San D...</td>\n",
       "      <td>MULTIPOLYGON (((-117.15296 32.74370, -117.1529...</td>\n",
       "      <td>5.000000</td>\n",
       "      <td>0.752533</td>\n",
       "    </tr>\n",
       "    <tr>\n",
       "      <th>...</th>\n",
       "      <th>...</th>\n",
       "      <td>...</td>\n",
       "      <td>...</td>\n",
       "      <td>...</td>\n",
       "      <td>...</td>\n",
       "      <td>...</td>\n",
       "      <td>...</td>\n",
       "    </tr>\n",
       "    <tr>\n",
       "      <th rowspan=\"2\" valign=\"top\">Western Hills Park</th>\n",
       "      <th>2</th>\n",
       "      <td>12.823290</td>\n",
       "      <td>Local</td>\n",
       "      <td>I almost got a ticket there for having my dog ...</td>\n",
       "      <td>POLYGON ((-117.19465 32.78693, -117.19495 32.7...</td>\n",
       "      <td>3.333333</td>\n",
       "      <td>0.176967</td>\n",
       "    </tr>\n",
       "    <tr>\n",
       "      <th>4</th>\n",
       "      <td>12.823290</td>\n",
       "      <td>Local</td>\n",
       "      <td>Hey now, who doesn't like a nice park? This is...</td>\n",
       "      <td>POLYGON ((-117.19465 32.78693, -117.19495 32.7...</td>\n",
       "      <td>3.333333</td>\n",
       "      <td>0.176967</td>\n",
       "    </tr>\n",
       "    <tr>\n",
       "      <th>Westview Park</th>\n",
       "      <th>4</th>\n",
       "      <td>8.645989</td>\n",
       "      <td>Local</td>\n",
       "      <td>This park is literally across the street from ...</td>\n",
       "      <td>POLYGON ((-117.11933 32.92419, -117.12114 32.9...</td>\n",
       "      <td>4.000000</td>\n",
       "      <td>0.702067</td>\n",
       "    </tr>\n",
       "    <tr>\n",
       "      <th rowspan=\"2\" valign=\"top\">Windwood Park</th>\n",
       "      <th>3</th>\n",
       "      <td>1.173010</td>\n",
       "      <td>Local</td>\n",
       "      <td>My dog found it unbelievable that this park wa...</td>\n",
       "      <td>POLYGON ((-117.22491 32.94784, -117.22490 32.9...</td>\n",
       "      <td>3.666667</td>\n",
       "      <td>0.504333</td>\n",
       "    </tr>\n",
       "    <tr>\n",
       "      <th>4</th>\n",
       "      <td>1.173010</td>\n",
       "      <td>Local</td>\n",
       "      <td>Kind of hard to find if you don't live in the ...</td>\n",
       "      <td>POLYGON ((-117.22491 32.94784, -117.22490 32.9...</td>\n",
       "      <td>3.666667</td>\n",
       "      <td>0.504333</td>\n",
       "    </tr>\n",
       "  </tbody>\n",
       "</table>\n",
       "<p>216 rows × 6 columns</p>\n",
       "</div>"
      ],
      "text/plain": [
       "                                           Acres park_type  \\\n",
       "Park_Name               Yelp_Rating                          \n",
       "4S Ranch Community Park 4               3.241830     Local   \n",
       "                        5               3.241830     Local   \n",
       "Ashley Falls Park       4              11.660442     Local   \n",
       "                        5              11.660442     Local   \n",
       "Balboa Park             5            1089.476460  Regional   \n",
       "...                                          ...       ...   \n",
       "Western Hills Park      2              12.823290     Local   \n",
       "                        4              12.823290     Local   \n",
       "Westview Park           4               8.645989     Local   \n",
       "Windwood Park           3               1.173010     Local   \n",
       "                        4               1.173010     Local   \n",
       "\n",
       "                                                                           Review_Text  \\\n",
       "Park_Name               Yelp_Rating                                                      \n",
       "4S Ranch Community Park 4            The location have two parks, one is 4s communi...   \n",
       "                        5            Great park for kids. Large playground plus eas...   \n",
       "Ashley Falls Park       4            came here for a kids birthday party...not my f...   \n",
       "                        5            New playground for my 4 yo and 10month old. Bu...   \n",
       "Balboa Park             5            Balboa Park is a must see when coming to San D...   \n",
       "...                                                                                ...   \n",
       "Western Hills Park      2            I almost got a ticket there for having my dog ...   \n",
       "                        4            Hey now, who doesn't like a nice park? This is...   \n",
       "Westview Park           4            This park is literally across the street from ...   \n",
       "Windwood Park           3            My dog found it unbelievable that this park wa...   \n",
       "                        4            Kind of hard to find if you don't live in the ...   \n",
       "\n",
       "                                                                              geometry  \\\n",
       "Park_Name               Yelp_Rating                                                      \n",
       "4S Ranch Community Park 4            POLYGON ((-117.11610 33.00321, -117.11583 33.0...   \n",
       "                        5            POLYGON ((-117.11610 33.00321, -117.11583 33.0...   \n",
       "Ashley Falls Park       4            POLYGON ((-117.20788 32.95706, -117.20788 32.9...   \n",
       "                        5            POLYGON ((-117.20788 32.95706, -117.20788 32.9...   \n",
       "Balboa Park             5            MULTIPOLYGON (((-117.15296 32.74370, -117.1529...   \n",
       "...                                                                                ...   \n",
       "Western Hills Park      2            POLYGON ((-117.19465 32.78693, -117.19495 32.7...   \n",
       "                        4            POLYGON ((-117.19465 32.78693, -117.19495 32.7...   \n",
       "Westview Park           4            POLYGON ((-117.11933 32.92419, -117.12114 32.9...   \n",
       "Windwood Park           3            POLYGON ((-117.22491 32.94784, -117.22490 32.9...   \n",
       "                        4            POLYGON ((-117.22491 32.94784, -117.22490 32.9...   \n",
       "\n",
       "                                     Average_Rating  Average_Sentiment  \n",
       "Park_Name               Yelp_Rating                                     \n",
       "4S Ranch Community Park 4                  4.666667           0.754533  \n",
       "                        5                  4.666667           0.754533  \n",
       "Ashley Falls Park       4                  4.500000           0.531300  \n",
       "                        5                  4.500000           0.531300  \n",
       "Balboa Park             5                  5.000000           0.752533  \n",
       "...                                             ...                ...  \n",
       "Western Hills Park      2                  3.333333           0.176967  \n",
       "                        4                  3.333333           0.176967  \n",
       "Westview Park           4                  4.000000           0.702067  \n",
       "Windwood Park           3                  3.666667           0.504333  \n",
       "                        4                  3.666667           0.504333  \n",
       "\n",
       "[216 rows x 6 columns]"
      ]
     },
     "execution_count": 13,
     "metadata": {},
     "output_type": "execute_result"
    }
   ],
   "source": [
    "agg_function = {'Acres':'first', 'park_type':'first', 'Review_Text': 'first', 'geometry': 'first', 'Average_Rating': 'first', 'Average_Sentiment': 'first'}\n",
    "\n",
    "clean_df = df.sort_values('Park_Name').groupby(['Park_Name', 'Yelp_Rating']).aggregate(agg_function)\n",
    "clean_df"
   ]
  },
  {
   "cell_type": "markdown",
   "metadata": {},
   "source": [
    "Finally, checking for null values again just to be sure:"
   ]
  },
  {
   "cell_type": "code",
   "execution_count": 14,
   "metadata": {},
   "outputs": [
    {
     "data": {
      "text/plain": [
       "Acres                False\n",
       "park_type            False\n",
       "Review_Text          False\n",
       "geometry             False\n",
       "Average_Rating       False\n",
       "Average_Sentiment    False\n",
       "dtype: bool"
      ]
     },
     "execution_count": 14,
     "metadata": {},
     "output_type": "execute_result"
    }
   ],
   "source": [
    "clean_df.isnull().any()"
   ]
  },
  {
   "cell_type": "markdown",
   "metadata": {},
   "source": [
    "# Data Analysis & Results"
   ]
  },
  {
   "cell_type": "markdown",
   "metadata": {},
   "source": [
    "## Data Visualization\n",
    "\n",
    "To get a better understanding of the data, it is useful to plot some visualizations. I will be using a choropleth map to show the acreage of parks across San Diego. Scatterplots will also be used to show a general, bird's eye view of the data."
   ]
  },
  {
   "cell_type": "code",
   "execution_count": 15,
   "metadata": {},
   "outputs": [
    {
     "data": {
      "text/plain": [
       "<matplotlib.axes._subplots.AxesSubplot at 0x7f5d004768d0>"
      ]
     },
     "execution_count": 15,
     "metadata": {},
     "output_type": "execute_result"
    },
    {
     "data": {
      "image/png": "[encoded data removed]",
      "text/plain": [
       "<Figure size 720x1152 with 2 Axes>"
      ]
     },
     "metadata": {
      "needs_background": "light"
     },
     "output_type": "display_data"
    }
   ],
   "source": [
    "from mpl_toolkits.axes_grid1 import make_axes_locatable\n",
    "\n",
    "fig, ax = plt.subplots(1, figsize = (10,16))\n",
    "ax.set_title('Acres per Park in San Diego')\n",
    "ax.axis('off')\n",
    "divider = make_axes_locatable(ax)\n",
    "cax = divider.append_axes(\"right\", size=\"5%\", pad=0.1)\n",
    "\n",
    "sd_map.plot(ax=ax, color='#B7B7B7')\n",
    "main_df.plot(column='Acres', \n",
    "             ax = ax,\n",
    "             cmap = 'GnBu',\n",
    "             legend = True,\n",
    "             cax = cax,\n",
    "             edgecolor='#5C5160',\n",
    "             linewidth=0.4\n",
    "            )"
   ]
  },
  {
   "cell_type": "markdown",
   "metadata": {},
   "source": [
    "Figure 1: Choropleth map of parks in San Diego. Darker colors correspond to a park with high acres while lighter colors correspond to parks with low acres. "
   ]
  },
  {
   "cell_type": "code",
   "execution_count": 16,
   "metadata": {},
   "outputs": [
    {
     "data": {
      "text/html": [
       "<div>\n",
       "<style scoped>\n",
       "    .dataframe tbody tr th:only-of-type {\n",
       "        vertical-align: middle;\n",
       "    }\n",
       "\n",
       "    .dataframe tbody tr th {\n",
       "        vertical-align: top;\n",
       "    }\n",
       "\n",
       "    .dataframe thead th {\n",
       "        text-align: right;\n",
       "    }\n",
       "</style>\n",
       "<table border=\"1\" class=\"dataframe\">\n",
       "  <thead>\n",
       "    <tr style=\"text-align: right;\">\n",
       "      <th></th>\n",
       "      <th>Acres</th>\n",
       "      <th>Average_Rating</th>\n",
       "      <th>Average_Sentiment</th>\n",
       "    </tr>\n",
       "  </thead>\n",
       "  <tbody>\n",
       "    <tr>\n",
       "      <th>count</th>\n",
       "      <td>216.000000</td>\n",
       "      <td>216.000000</td>\n",
       "      <td>216.000000</td>\n",
       "    </tr>\n",
       "    <tr>\n",
       "      <th>mean</th>\n",
       "      <td>98.575233</td>\n",
       "      <td>4.038272</td>\n",
       "      <td>0.477488</td>\n",
       "    </tr>\n",
       "    <tr>\n",
       "      <th>std</th>\n",
       "      <td>457.168375</td>\n",
       "      <td>0.731009</td>\n",
       "      <td>0.245006</td>\n",
       "    </tr>\n",
       "    <tr>\n",
       "      <th>min</th>\n",
       "      <td>0.455256</td>\n",
       "      <td>1.000000</td>\n",
       "      <td>-0.636900</td>\n",
       "    </tr>\n",
       "    <tr>\n",
       "      <th>25%</th>\n",
       "      <td>3.312526</td>\n",
       "      <td>3.666667</td>\n",
       "      <td>0.331800</td>\n",
       "    </tr>\n",
       "    <tr>\n",
       "      <th>50%</th>\n",
       "      <td>8.617300</td>\n",
       "      <td>4.333333</td>\n",
       "      <td>0.491560</td>\n",
       "    </tr>\n",
       "    <tr>\n",
       "      <th>75%</th>\n",
       "      <td>14.760567</td>\n",
       "      <td>4.666667</td>\n",
       "      <td>0.658117</td>\n",
       "    </tr>\n",
       "    <tr>\n",
       "      <th>max</th>\n",
       "      <td>4108.397150</td>\n",
       "      <td>5.000000</td>\n",
       "      <td>0.940633</td>\n",
       "    </tr>\n",
       "  </tbody>\n",
       "</table>\n",
       "</div>"
      ],
      "text/plain": [
       "             Acres  Average_Rating  Average_Sentiment\n",
       "count   216.000000      216.000000         216.000000\n",
       "mean     98.575233        4.038272           0.477488\n",
       "std     457.168375        0.731009           0.245006\n",
       "min       0.455256        1.000000          -0.636900\n",
       "25%       3.312526        3.666667           0.331800\n",
       "50%       8.617300        4.333333           0.491560\n",
       "75%      14.760567        4.666667           0.658117\n",
       "max    4108.397150        5.000000           0.940633"
      ]
     },
     "execution_count": 16,
     "metadata": {},
     "output_type": "execute_result"
    }
   ],
   "source": [
    "clean_df.describe()"
   ]
  },
  {
   "cell_type": "code",
   "execution_count": 17,
   "metadata": {},
   "outputs": [
    {
     "name": "stderr",
     "output_type": "stream",
     "text": [
      "/opt/conda/lib/python3.7/site-packages/pandas/plotting/_matplotlib/tools.py:307: MatplotlibDeprecationWarning: \n",
      "The rowNum attribute was deprecated in Matplotlib 3.2 and will be removed two minor releases later. Use ax.get_subplotspec().rowspan.start instead.\n",
      "  layout[ax.rowNum, ax.colNum] = ax.get_visible()\n",
      "/opt/conda/lib/python3.7/site-packages/pandas/plotting/_matplotlib/tools.py:307: MatplotlibDeprecationWarning: \n",
      "The colNum attribute was deprecated in Matplotlib 3.2 and will be removed two minor releases later. Use ax.get_subplotspec().colspan.start instead.\n",
      "  layout[ax.rowNum, ax.colNum] = ax.get_visible()\n",
      "/opt/conda/lib/python3.7/site-packages/pandas/plotting/_matplotlib/tools.py:313: MatplotlibDeprecationWarning: \n",
      "The rowNum attribute was deprecated in Matplotlib 3.2 and will be removed two minor releases later. Use ax.get_subplotspec().rowspan.start instead.\n",
      "  if not layout[ax.rowNum + 1, ax.colNum]:\n",
      "/opt/conda/lib/python3.7/site-packages/pandas/plotting/_matplotlib/tools.py:313: MatplotlibDeprecationWarning: \n",
      "The colNum attribute was deprecated in Matplotlib 3.2 and will be removed two minor releases later. Use ax.get_subplotspec().colspan.start instead.\n",
      "  if not layout[ax.rowNum + 1, ax.colNum]:\n"
     ]
    },
    {
     "data": {
      "text/plain": [
       "array([[<matplotlib.axes._subplots.AxesSubplot object at 0x7f5d4c584110>,\n",
       "        <matplotlib.axes._subplots.AxesSubplot object at 0x7f5d00414850>,\n",
       "        <matplotlib.axes._subplots.AxesSubplot object at 0x7f5d0040fd50>],\n",
       "       [<matplotlib.axes._subplots.AxesSubplot object at 0x7f5d004257d0>,\n",
       "        <matplotlib.axes._subplots.AxesSubplot object at 0x7f5d005c6550>,\n",
       "        <matplotlib.axes._subplots.AxesSubplot object at 0x7f5d005d97d0>],\n",
       "       [<matplotlib.axes._subplots.AxesSubplot object at 0x7f5d00533bd0>,\n",
       "        <matplotlib.axes._subplots.AxesSubplot object at 0x7f5d0056b1d0>,\n",
       "        <matplotlib.axes._subplots.AxesSubplot object at 0x7f5d00559f50>]],\n",
       "      dtype=object)"
      ]
     },
     "execution_count": 17,
     "metadata": {},
     "output_type": "execute_result"
    },
    {
     "data": {
      "image/png": "[encoded data removed]",
      "text/plain": [
       "<Figure size 1080x720 with 9 Axes>"
      ]
     },
     "metadata": {
      "needs_background": "light"
     },
     "output_type": "display_data"
    }
   ],
   "source": [
    "pd.plotting.scatter_matrix(clean_df[['Acres','Average_Sentiment', 'Average_Rating']], figsize = (15,10))"
   ]
  },
  {
   "cell_type": "markdown",
   "metadata": {},
   "source": [
    "Figure 2: Scatterplot matrix of the imporant columns in main_df.\n",
    "\n",
    "As we can see from figure 2, the average rating for the parks are generally in the high values (above 3.0). The parks in San Diego also cluster around the 0-1500 acres, with an outlier of 4000 acres. We can also see that the average sentiment score is around 0.4-06.\n",
    "\n",
    "These observations are also confirmed by the useful tool provided by the pandas library: the parks in San Diego does not have an even spread in terms of acres. We see that there is a high of 4108.39 acres with a mean of 98.57 acres and a high standard deviation of 457.16 acres. Average sentiment score has a mean of 0.477 and a standard deviation of 0.245"
   ]
  },
  {
   "cell_type": "code",
   "execution_count": 18,
   "metadata": {},
   "outputs": [
    {
     "data": {
      "text/plain": [
       "Text(0, 0.5, 'frequency')"
      ]
     },
     "execution_count": 18,
     "metadata": {},
     "output_type": "execute_result"
    },
    {
     "data": {
      "image/png": "[encoded data removed]",
      "text/plain": [
       "<Figure size 432x288 with 1 Axes>"
      ]
     },
     "metadata": {
      "needs_background": "light"
     },
     "output_type": "display_data"
    }
   ],
   "source": [
    "ax = sns.distplot(clean_df['Average_Rating'], kde=False)\n",
    "ax.set_title('Average Yelp Rating Distribution')\n",
    "ax.set_ylabel('frequency')"
   ]
  },
  {
   "cell_type": "markdown",
   "metadata": {},
   "source": [
    "Figure 3: Distribution of average Yelp rating"
   ]
  },
  {
   "cell_type": "code",
   "execution_count": 19,
   "metadata": {
    "scrolled": true
   },
   "outputs": [
    {
     "data": {
      "text/plain": [
       "Text(0, 0.5, 'frequency')"
      ]
     },
     "execution_count": 19,
     "metadata": {},
     "output_type": "execute_result"
    },
    {
     "data": {
      "image/png": "[encoded data removed]",
      "text/plain": [
       "<Figure size 432x288 with 1 Axes>"
      ]
     },
     "metadata": {
      "needs_background": "light"
     },
     "output_type": "display_data"
    }
   ],
   "source": [
    "ax = sns.distplot(clean_df['Average_Sentiment'], kde=False)\n",
    "ax.set_title('Average Sentiment Score Distribution')\n",
    "ax.set_ylabel('frequency')"
   ]
  },
  {
   "cell_type": "markdown",
   "metadata": {},
   "source": [
    "Figure 4: Distribution of review lengths"
   ]
  },
  {
   "cell_type": "code",
   "execution_count": 20,
   "metadata": {},
   "outputs": [
    {
     "data": {
      "text/plain": [
       "Text(0, 0.5, 'frequency')"
      ]
     },
     "execution_count": 20,
     "metadata": {},
     "output_type": "execute_result"
    },
    {
     "data": {
      "image/png": "[encoded data removed]",
      "text/plain": [
       "<Figure size 432x288 with 1 Axes>"
      ]
     },
     "metadata": {
      "needs_background": "light"
     },
     "output_type": "display_data"
    }
   ],
   "source": [
    "ax = sns.distplot(clean_df['Acres'], kde=False)\n",
    "ax.set_title('Acres of Parks Distribution')\n",
    "ax.set_ylabel('frequency')"
   ]
  },
  {
   "cell_type": "markdown",
   "metadata": {},
   "source": [
    "Figure 5: Distribution of acres of parks in San Diego"
   ]
  },
  {
   "cell_type": "code",
   "execution_count": 21,
   "metadata": {},
   "outputs": [
    {
     "data": {
      "text/plain": [
       "<seaborn.axisgrid.FacetGrid at 0x7f5cfda88250>"
      ]
     },
     "execution_count": 21,
     "metadata": {},
     "output_type": "execute_result"
    },
    {
     "data": {
      "image/png": "[encoded data removed]",
      "text/plain": [
       "<Figure size 360x360 with 1 Axes>"
      ]
     },
     "metadata": {
      "needs_background": "light"
     },
     "output_type": "display_data"
    }
   ],
   "source": [
    "sns.lmplot(x = 'Acres', y = 'Average_Rating', data = clean_df)"
   ]
  },
  {
   "cell_type": "markdown",
   "metadata": {},
   "source": [
    "Figure 6: Plot of acres against average Yelp rating with an autogenerated line of best fit provided by sns library"
   ]
  },
  {
   "cell_type": "code",
   "execution_count": 22,
   "metadata": {},
   "outputs": [
    {
     "data": {
      "text/plain": [
       "<seaborn.axisgrid.FacetGrid at 0x7f5cfda03750>"
      ]
     },
     "execution_count": 22,
     "metadata": {},
     "output_type": "execute_result"
    },
    {
     "data": {
      "image/png": "[encoded data removed]",
      "text/plain": [
       "<Figure size 360x360 with 1 Axes>"
      ]
     },
     "metadata": {
      "needs_background": "light"
     },
     "output_type": "display_data"
    }
   ],
   "source": [
    "sns.lmplot(x = 'Average_Sentiment', y = 'Average_Rating', data = clean_df)"
   ]
  },
  {
   "cell_type": "markdown",
   "metadata": {},
   "source": [
    "Figure 7: Plot of review length against average Yelp rating with an autogenerated line of best fit provided by sns library"
   ]
  },
  {
   "cell_type": "markdown",
   "metadata": {},
   "source": [
    "## Linear Regression\n",
    "For this analysis, I will use a linear regression model to identify relationship between review lengths on Yelp and acres of a park with the average Yelp rating. This model can also be used as a predictive analysis. The function check_p_val will asses whether or not to reject or accept the null hypothesis. For each model, the null hypothesis will suggest that the given indicator is not a good predictor for average Yelp rating."
   ]
  },
  {
   "cell_type": "code",
   "execution_count": 23,
   "metadata": {},
   "outputs": [],
   "source": [
    "def check_p_val(p_val, alpha):\n",
    "\n",
    "    if p_val < alpha:\n",
    "        print('We have evidence to reject the null hypothesis.')\n",
    "    else:\n",
    "        print('We do not have evidence to reject the null hypothesis.')"
   ]
  },
  {
   "cell_type": "markdown",
   "metadata": {},
   "source": [
    "##  Linear model(1) will plot Acres against Average rating"
   ]
  },
  {
   "cell_type": "code",
   "execution_count": 24,
   "metadata": {
    "scrolled": true
   },
   "outputs": [
    {
     "name": "stdout",
     "output_type": "stream",
     "text": [
      "                            OLS Regression Results                            \n",
      "==============================================================================\n",
      "Dep. Variable:         Average_Rating   R-squared:                       0.020\n",
      "Model:                            OLS   Adj. R-squared:                  0.016\n",
      "Method:                 Least Squares   F-statistic:                     4.433\n",
      "Date:                Wed, 16 Dec 2020   Prob (F-statistic):             0.0364\n",
      "Time:                        20:43:41   Log-Likelihood:                -236.10\n",
      "No. Observations:                 216   AIC:                             476.2\n",
      "Df Residuals:                     214   BIC:                             482.9\n",
      "Df Model:                           1                                         \n",
      "Covariance Type:            nonrobust                                         \n",
      "==============================================================================\n",
      "                 coef    std err          t      P>|t|      [0.025      0.975]\n",
      "------------------------------------------------------------------------------\n",
      "Intercept      4.0158      0.050     79.544      0.000       3.916       4.115\n",
      "Acres          0.0002      0.000      2.105      0.036    1.45e-05       0.000\n",
      "==============================================================================\n",
      "Omnibus:                       51.372   Durbin-Watson:                   0.961\n",
      "Prob(Omnibus):                  0.000   Jarque-Bera (JB):               90.436\n",
      "Skew:                          -1.233   Prob(JB):                     2.30e-20\n",
      "Kurtosis:                       4.992   Cond. No.                         477.\n",
      "==============================================================================\n",
      "\n",
      "Warnings:\n",
      "[1] Standard Errors assume that the covariance matrix of the errors is correctly specified.\n"
     ]
    }
   ],
   "source": [
    "outcome, predictors = patsy.dmatrices('Average_Rating ~ Acres', clean_df)\n",
    "mod = sm.OLS(outcome, predictors)\n",
    "res = mod.fit()\n",
    "print(res.summary())"
   ]
  },
  {
   "cell_type": "markdown",
   "metadata": {},
   "source": [
    "From the results of the first model, we can see that the P-value of acres is 0.036."
   ]
  },
  {
   "cell_type": "code",
   "execution_count": null,
   "metadata": {},
   "outputs": [],
   "source": [
    "check_p_val(0.036, 0.01)"
   ]
  },
  {
   "cell_type": "markdown",
   "metadata": {},
   "source": [
    "##  Linear model(2) will plot review length against Average rating"
   ]
  },
  {
   "cell_type": "code",
   "execution_count": 25,
   "metadata": {
    "scrolled": true
   },
   "outputs": [
    {
     "name": "stdout",
     "output_type": "stream",
     "text": [
      "                            OLS Regression Results                            \n",
      "==============================================================================\n",
      "Dep. Variable:         Average_Rating   R-squared:                       0.292\n",
      "Model:                            OLS   Adj. R-squared:                  0.288\n",
      "Method:                 Least Squares   F-statistic:                     88.11\n",
      "Date:                Wed, 16 Dec 2020   Prob (F-statistic):           9.46e-18\n",
      "Time:                        20:43:43   Log-Likelihood:                -201.07\n",
      "No. Observations:                 216   AIC:                             406.1\n",
      "Df Residuals:                     214   BIC:                             412.9\n",
      "Df Model:                           1                                         \n",
      "Covariance Type:            nonrobust                                         \n",
      "=====================================================================================\n",
      "                        coef    std err          t      P>|t|      [0.025      0.975]\n",
      "-------------------------------------------------------------------------------------\n",
      "Intercept             3.2689      0.092     35.500      0.000       3.087       3.450\n",
      "Average_Sentiment     1.6113      0.172      9.387      0.000       1.273       1.950\n",
      "==============================================================================\n",
      "Omnibus:                       12.014   Durbin-Watson:                   0.989\n",
      "Prob(Omnibus):                  0.002   Jarque-Bera (JB):               12.424\n",
      "Skew:                          -0.570   Prob(JB):                      0.00201\n",
      "Kurtosis:                       3.288   Cond. No.                         5.07\n",
      "==============================================================================\n",
      "\n",
      "Warnings:\n",
      "[1] Standard Errors assume that the covariance matrix of the errors is correctly specified.\n"
     ]
    }
   ],
   "source": [
    "outcome, predictors = patsy.dmatrices('Average_Rating ~ Average_Sentiment', clean_df)\n",
    "mod = sm.OLS(outcome, predictors)\n",
    "res = mod.fit()\n",
    "print(res.summary())"
   ]
  },
  {
   "cell_type": "markdown",
   "metadata": {},
   "source": [
    "From the results of the first model, we can see that the P-value of acres is 0.000."
   ]
  },
  {
   "cell_type": "code",
   "execution_count": 26,
   "metadata": {},
   "outputs": [
    {
     "name": "stdout",
     "output_type": "stream",
     "text": [
      "We have evidence to reject the null hypothesis.\n"
     ]
    }
   ],
   "source": [
    "check_p_val(0.00, 0.01)"
   ]
  },
  {
   "cell_type": "markdown",
   "metadata": {},
   "source": [
    "# Ethics & Privacy\n",
    "\n",
    "Since the dataset was given for the final project, permissions were granted to use these data. The yelp data was obtained through a public API. The San Diego parks and boundary data is also publicly available through San Diego's city website. \n",
    "\n",
    "Luckily, the dataset that was used in this analysis did not contain any personal information. In the yelp review data, only the rating and review in text and which park was provided. It did not contain any information regarding who was reviewing the park. San Diego's park location and boundary data are all publicly available in the internet. Essentially, the data used can be found publicly and easily through google maps.\n",
    "\n",
    "There are some potential biases in the review of the data. There are many factors influencing the person's yelp review. These factors include purpose of visit, time of day/year, weather and if there exists some recreation facilities that are not available for use during time of review. Since we mainly considering the local people of San Diego, we do not know if the rating was given by a tourist or a local resident. This could skew the rating because there could be a bias in tourists to give a higher rating as compared to local residents who use the facilities regularly and expect proper facilities and safety of parks."
   ]
  },
  {
   "cell_type": "markdown",
   "metadata": {},
   "source": [
    "# Conclusion & Discussion\n",
    "\n",
    "This project aims to find an indicator that would best predict average yelp ratings for parks in San Dieog. To achieve this, I chose acreage of parks and the sentiment score of the review text. This project used two main datasets: yelp reviews for parks in San Diego and park locations in San Diego. Initially, the raw dataset needed to be cleaned, removing any data that were not being used in this analysis. I then merged the two datasets on each park name and calculated the average yelp rating and sentiment score of the review. To get a better understanding of the data, I used scatterplots and a simple point graph to get a visual representation of the relationship between acres of parks and sentiment score with yelp ratings. Next, I used a linear regression model to predict the yelp ratings. Using an alpha value of 0.01, I found that the sentiment score was a much stronger predictor as compared to the acreage of parks. \n",
    "\n",
    "The limitations of this analysis include the choice of model being used and the choice of predictor. Firsly, a simple linear regression model may not have been the best model to use to find the best predictor. Given the length of the project, other models may have been a better choice. For example, using an unsupervised learning model like clustering to identify the patterns in the data that relate to yelp ratings. \n",
    "\n",
    "Furthermore, the yelp rating dataset might have affected the results of the analysis. From the scatterplot we can see that the yelp ratings were mostly positive, in the range of 3.5-5 out of possible score of 5. Working with a limited dataset and skewed dataset will affect the accuracy of the results. The acres of parks also do not provide the detailed enough information regarding park characteristics. A big park could fit in many recreational facilities, or it may not.\n",
    "\n",
    "This analysis could be used by the parks and recreation department of San Diego to improve overall satisfactions of parks users (to increase yelp rating average of parks)."
   ]
  }
 ],
 "metadata": {
  "kernelspec": {
   "display_name": "Python 3",
   "language": "python",
   "name": "python3"
  },
  "language_info": {
   "codemirror_mode": {
    "name": "ipython",
    "version": 3
   },
   "file_extension": ".py",
   "mimetype": "text/x-python",
   "name": "python",
   "nbconvert_exporter": "python",
   "pygments_lexer": "ipython3",
   "version": "3.7.6"
  }
 },
 "nbformat": 4,
 "nbformat_minor": 4
}
