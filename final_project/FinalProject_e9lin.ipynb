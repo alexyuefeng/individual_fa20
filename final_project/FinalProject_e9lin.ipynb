{
 "cells": [
  {
   "cell_type": "markdown",
   "metadata": {},
   "source": [
    "# COGS 108 - Final Project "
   ]
  },
  {
   "cell_type": "markdown",
   "metadata": {},
   "source": [
    "# Overview"
   ]
  },
  {
   "cell_type": "markdown",
   "metadata": {},
   "source": [
    "This project is to determine whether or not there is a relationship between the quality of a park in the city of San Diego and the street overall condition index (OCI) score of the corresponding street where the park is located. After parsing through the two datasets, I was able to use a linear regression model and correlation to find the answer. The results of my project is that there is not a relationship between the quality of a San Diego park and the street OCI score."
   ]
  },
  {
   "cell_type": "markdown",
   "metadata": {},
   "source": [
    "# Name & GitHub ID\n",
    "\n",
    "- Name: Erinna Lin\n",
    "- GitHub Username: e9lin"
   ]
  },
  {
   "cell_type": "markdown",
   "metadata": {},
   "source": [
    "# Research Question"
   ]
  },
  {
   "cell_type": "markdown",
   "metadata": {},
   "source": [
    "Is there a relationship between the quality of the park and the overall condition index of the street where the park is located?"
   ]
  },
  {
   "cell_type": "markdown",
   "metadata": {},
   "source": [
    "## Background and Prior Work"
   ]
  },
  {
   "cell_type": "markdown",
   "metadata": {},
   "source": [
    "From the information that I gathered from a San Diego opinions website, the city of San Diego will be retiring a fee system that funds parks, among other public amenities (Reference 1). The city would be using the fees from developers to fund public amenities. However, this means because developers only invest in neighborhoods that are nice, only the nice, wealthy neighboorhoods would continue to be able to make improvements to the parks. However, the low-income neighborhoods would not be able to get the necessary additions and improvements to the parks in their neighborhoods because there would be less developers investing in those neighborhoods (Reference 1). This results in a perpetuated cycle that the public amenities in nice neighborhoods are constantly improving, while that of low-income neighborhoods are continually being worn down and not upgraded. This is related to my research question because public amenities and the infrastructure of the city are connected because both are budgeted from the city.\n",
    "\n",
    "To further provide evidence that San Diego's budget affects its infrastructure, there have been a huge budget cut to the city of San Diego and COVID-19 has also heavily affected the budget of infrastructure (Reference 2). In July, the infrastructure budget of San Diego has been cut by 10% compared to last year (Reference 2). This means that the infrastructure of the city will continue to deteriorate, especially in the parts of the city that already has poor infrastructure.\n",
    "\n",
    "There has not been a lot of prior research done on the relationship between infrastructure and public amenities in San Diego. However, because the city is planning to switch to a system that undermine the infrastructure and public amenities of low-income neighborhoods, it is important to see if there is a relationship between the quality of infrastructure and that of public amenities. Additionally, because of the economic consequences of COVID-19, there will be a funding gap of $2.16 billion for the city's infrastructure budget (Reference 3). I want to see if there is a relationship between infrastructure and public amenities that may be able to predict if this funding gap could also affect public amenities, like parks. \n",
    "\n",
    "References:\n",
    "- 1) https://www.voiceofsandiego.org/topics/government/if-your-local-park-sucks-this-is-probably-why/\n",
    "- 2) https://www.kpbs.org/news/2020/apr/30/san-diegos-infrastructure-problems-expected-grow-c/\n",
    "- 3) https://inewsource.org/2020/05/06/mayor-san-diego-infrastructure-barbara-bry-todd-gloria/"
   ]
  },
  {
   "cell_type": "markdown",
   "metadata": {},
   "source": [
    "# Hypothesis\n"
   ]
  },
  {
   "cell_type": "markdown",
   "metadata": {},
   "source": [
    "My hypothesis is that there is a significant relationship between the quality of the park and the overall condition index of the street where the park is located. I would think that because both the street infrastructure and the parks are both financially cared for by the City of San Diego, in a neighborhood that has poor street infrastructure, the public amenities would be rated lower than that of a neighborhood that has well-maintained street infrastructure."
   ]
  },
  {
   "cell_type": "markdown",
   "metadata": {},
   "source": [
    "# Dataset(s)"
   ]
  },
  {
   "cell_type": "markdown",
   "metadata": {},
   "source": [
    "### Dataset 1:\n",
    "- Dataset Name: Yelp Data for San Diego Parks\n",
    "- Link to the dataset: https://github.com/e9lin/individual_fa20/blob/master/data/yelp_SD_parks.csv\n",
    "- Source: https://www.yelp.com/\n",
    "- Number of observations: 833\n",
    "\n",
    "I chose the Yelp Dataset because I wanted to use the rating system as a way to get feedback about the parks from the public. Additionally, Yelp had the address of the parks within the dataset.\n",
    "\n",
    "\n",
    "### Dataset 2:\n",
    "- Dataset Name: City of San Diego Streets Overall Condition Index (OCI)\n",
    "- Link to the dataset: https://github.com/e9lin/individual_fa20/blob/master/data/streets_oci_2015_datasd.csv\n",
    "- Source: https://data.sandiego.gov/datasets/streets-overall-condition-index/\n",
    "- Number of observations: 30712\n",
    "\n",
    "I chose the streets overall condition index because the city of San Diego provided each street and the corresponding score to keep track of the condition that the streets are in.\n",
    "\n",
    "I plan on compare these two datasets to each other by using Yelp's park rating and the streets overall condition index to see if there is a relationship between the public's opinion on the parks and the condition of the street that the park is on."
   ]
  },
  {
   "cell_type": "markdown",
   "metadata": {},
   "source": [
    "# Setup"
   ]
  },
  {
   "cell_type": "code",
   "execution_count": 1,
   "metadata": {},
   "outputs": [],
   "source": [
    "import pandas as pd\n",
    "import numpy as np\n",
    "import requests\n",
    "import io\n",
    "\n",
    "# Import seaborn and apply its plotting styles\n",
    "import seaborn as sns\n",
    "sns.set(style=\"white\", font_scale=2)\n",
    "\n",
    "# import matplotlib\n",
    "import matplotlib as mpl\n",
    "import matplotlib.pyplot as plt\n",
    "# set plotting size parameter\n",
    "plt.rcParams['figure.figsize'] = (17, 7)\n",
    "\n",
    "# Statmodels & patsy\n",
    "import patsy\n",
    "import statsmodels.api as sm\n",
    "\n",
    "import warnings\n",
    "warnings.filterwarnings('ignore')\n",
    "\n",
    "from scipy.stats import skewnorm"
   ]
  },
  {
   "cell_type": "code",
   "execution_count": 2,
   "metadata": {},
   "outputs": [],
   "source": [
    "#Import California Environmental Health Screening Data csv file\n",
    "\n",
    "url_oci = \"https://raw.githubusercontent.com/e9lin/individual_fa20/master/data/streets_oci_2015_datasd.csv\"\n",
    "download_oci = requests.get(url_oci).content\n",
    "df_oci = pd.read_csv(io.StringIO(download_oci.decode('utf-8')))\n",
    "\n",
    "#Import Import Yelp SD Park Information csv file\n",
    "\n",
    "url_parkinfo = \"https://raw.githubusercontent.com/e9lin/individual_fa20/master/data/yelp_SD_parks.csv\"\n",
    "download_parkinfo = requests.get(url_parkinfo).content\n",
    "df_parkinfo = pd.read_csv(io.StringIO(download_parkinfo.decode('utf-8')))"
   ]
  },
  {
   "cell_type": "markdown",
   "metadata": {},
   "source": [
    "# Data Cleaning"
   ]
  },
  {
   "cell_type": "markdown",
   "metadata": {},
   "source": [
    "### Yelp Parks Dataset: \n",
    "\n",
    "#### METHODS\n",
    "1. Loop through Address Column in Park Info Dataframe; Outputs only the Street Name in a Separate List.\n",
    "2. Drop all columns besides name, rating & street.\n",
    "3. Add Address List back into Park Information Dataframe.\n",
    "4. Remove rows that have null in Street Name.\n",
    "5. Drop all columns besides name, rating & street.\n",
    "6. Standardize street names to all lowercase.\n",
    "7. Standardize 'ave', 'drive', 'road', 'street', 'parkway', 'trail', 'place' to 'av', 'dr', 'rd', 'st', 'pkwy', 'trl'\n",
    "\n",
    "\n",
    "   - The data is not the cleanest because there were duplicates parks as well as misspelled addresses.\n",
    "   - The data was given to me in a useable format as a .csv file.\n",
    "   - I didn't have to pre-process the dataset.\n",
    "\n",
    "\n",
    "### City of San Diego Streets Overall Condition Index (OCI):\n",
    "\n",
    "#### METHODS\n",
    "1. Drop all columns besides street & oci.\n",
    "2. Combine all the repeating streets, and average the OCI score between them.\n",
    "3. Standardize street names to all lowercase\n",
    "4. Loop through OCI dataset to match Street Name to find OCI average score.\n",
    "5. Add this score to new column in Analysis Dataframe.\n",
    "\n",
    "\n",
    "   - The data is pretty clean, with the exception of many duplicate street names.\n",
    "   - I found this dataset from the City of San Diego's website as a usable .csv file.\n",
    "   - I didn't have to pre-process the dataset."
   ]
  },
  {
   "cell_type": "code",
   "execution_count": 3,
   "metadata": {},
   "outputs": [
    {
     "data": {
      "text/html": [
       "<div>\n",
       "<style scoped>\n",
       "    .dataframe tbody tr th:only-of-type {\n",
       "        vertical-align: middle;\n",
       "    }\n",
       "\n",
       "    .dataframe tbody tr th {\n",
       "        vertical-align: top;\n",
       "    }\n",
       "\n",
       "    .dataframe thead th {\n",
       "        text-align: right;\n",
       "    }\n",
       "</style>\n",
       "<table border=\"1\" class=\"dataframe\">\n",
       "  <thead>\n",
       "    <tr style=\"text-align: right;\">\n",
       "      <th></th>\n",
       "      <th>name</th>\n",
       "      <th>address</th>\n",
       "      <th>phone</th>\n",
       "      <th>id</th>\n",
       "      <th>url</th>\n",
       "      <th>rating</th>\n",
       "      <th>review_count</th>\n",
       "      <th>longitude</th>\n",
       "      <th>latitude</th>\n",
       "      <th>is_closed</th>\n",
       "    </tr>\n",
       "  </thead>\n",
       "  <tbody>\n",
       "    <tr>\n",
       "      <th>0</th>\n",
       "      <td>Balboa Park</td>\n",
       "      <td>1549 El Prado San Diego, CA 92101</td>\n",
       "      <td>1.619239e+10</td>\n",
       "      <td>9M_FW_-Ipx93I36w-_ykBg</td>\n",
       "      <td>https://www.yelp.com/biz/balboa-park-san-diego...</td>\n",
       "      <td>5.0</td>\n",
       "      <td>2105</td>\n",
       "      <td>-117.153150</td>\n",
       "      <td>32.734502</td>\n",
       "      <td>False</td>\n",
       "    </tr>\n",
       "    <tr>\n",
       "      <th>1</th>\n",
       "      <td>Civita Park</td>\n",
       "      <td>7960 Civita Blvd San Diego, CA 92108</td>\n",
       "      <td>NaN</td>\n",
       "      <td>3AEHjqNrTmggA6G9VdhQfg</td>\n",
       "      <td>https://www.yelp.com/biz/civita-park-san-diego...</td>\n",
       "      <td>4.5</td>\n",
       "      <td>46</td>\n",
       "      <td>-117.147278</td>\n",
       "      <td>32.778315</td>\n",
       "      <td>False</td>\n",
       "    </tr>\n",
       "    <tr>\n",
       "      <th>2</th>\n",
       "      <td>Waterfront Park</td>\n",
       "      <td>1600 Pacific Hwy San Diego, CA 92101</td>\n",
       "      <td>1.619233e+10</td>\n",
       "      <td>3unbJeYrn1RmInZGmjp80g</td>\n",
       "      <td>https://www.yelp.com/biz/waterfront-park-san-d...</td>\n",
       "      <td>4.5</td>\n",
       "      <td>242</td>\n",
       "      <td>-117.172479</td>\n",
       "      <td>32.721952</td>\n",
       "      <td>False</td>\n",
       "    </tr>\n",
       "    <tr>\n",
       "      <th>3</th>\n",
       "      <td>Trolley Barn Park</td>\n",
       "      <td>Adams Ave And Florida St San Diego, CA 92116</td>\n",
       "      <td>NaN</td>\n",
       "      <td>PvHxIYrmaiFKdWUDTMDzcg</td>\n",
       "      <td>https://www.yelp.com/biz/trolley-barn-park-san...</td>\n",
       "      <td>4.5</td>\n",
       "      <td>102</td>\n",
       "      <td>-117.143789</td>\n",
       "      <td>32.762463</td>\n",
       "      <td>False</td>\n",
       "    </tr>\n",
       "    <tr>\n",
       "      <th>4</th>\n",
       "      <td>Bay View Park</td>\n",
       "      <td>413 1st St Coronado, CA 92118</td>\n",
       "      <td>NaN</td>\n",
       "      <td>6IF4VB9-fkv_F-LBvG8ppQ</td>\n",
       "      <td>https://www.yelp.com/biz/bay-view-park-coronad...</td>\n",
       "      <td>5.0</td>\n",
       "      <td>42</td>\n",
       "      <td>-117.178967</td>\n",
       "      <td>32.701785</td>\n",
       "      <td>False</td>\n",
       "    </tr>\n",
       "  </tbody>\n",
       "</table>\n",
       "</div>"
      ],
      "text/plain": [
       "                name                                       address  \\\n",
       "0        Balboa Park             1549 El Prado San Diego, CA 92101   \n",
       "1        Civita Park          7960 Civita Blvd San Diego, CA 92108   \n",
       "2    Waterfront Park          1600 Pacific Hwy San Diego, CA 92101   \n",
       "3  Trolley Barn Park  Adams Ave And Florida St San Diego, CA 92116   \n",
       "4      Bay View Park                 413 1st St Coronado, CA 92118   \n",
       "\n",
       "          phone                      id  \\\n",
       "0  1.619239e+10  9M_FW_-Ipx93I36w-_ykBg   \n",
       "1           NaN  3AEHjqNrTmggA6G9VdhQfg   \n",
       "2  1.619233e+10  3unbJeYrn1RmInZGmjp80g   \n",
       "3           NaN  PvHxIYrmaiFKdWUDTMDzcg   \n",
       "4           NaN  6IF4VB9-fkv_F-LBvG8ppQ   \n",
       "\n",
       "                                                 url  rating  review_count  \\\n",
       "0  https://www.yelp.com/biz/balboa-park-san-diego...     5.0          2105   \n",
       "1  https://www.yelp.com/biz/civita-park-san-diego...     4.5            46   \n",
       "2  https://www.yelp.com/biz/waterfront-park-san-d...     4.5           242   \n",
       "3  https://www.yelp.com/biz/trolley-barn-park-san...     4.5           102   \n",
       "4  https://www.yelp.com/biz/bay-view-park-coronad...     5.0            42   \n",
       "\n",
       "    longitude   latitude  is_closed  \n",
       "0 -117.153150  32.734502      False  \n",
       "1 -117.147278  32.778315      False  \n",
       "2 -117.172479  32.721952      False  \n",
       "3 -117.143789  32.762463      False  \n",
       "4 -117.178967  32.701785      False  "
      ]
     },
     "execution_count": 3,
     "metadata": {},
     "output_type": "execute_result"
    }
   ],
   "source": [
    "#Original Yelp Park Info Dataset Summary\n",
    "df_parkinfo.head()"
   ]
  },
  {
   "cell_type": "code",
   "execution_count": 4,
   "metadata": {},
   "outputs": [],
   "source": [
    "#Loop through Address Column in Park Info Dataframe; Outputs only the Street Name in a Separate List\n",
    "\n",
    "street_exts = ['Ave', 'St', 'Blvd', 'Pkwy', 'Dr', 'Rd', 'Way', 'Trl', 'Pl', 'Road', 'Drive', 'Street']\n",
    "address_list = []\n",
    "for address in df_parkinfo['address']:\n",
    "    address_array = address.split()\n",
    "    if 'San Diego' not in address:\n",
    "        address_list.append(np.nan)\n",
    "    elif 'Calle' in address:\n",
    "        address_list.append(address[address.find('Calle'):address.find('San Diego')])\n",
    "    elif 'Via' in address:\n",
    "        address_list.append(address[address.find('Via'):address.find('San Diego')])\n",
    "    elif address_array[1] == 'Camino':\n",
    "        if 'Ste' in address:\n",
    "            address_list.append(address[address.find('Camino'):address.find('Ste')])\n",
    "        else:\n",
    "            address_list.append(address[address.find('Camino'):address.find('San Diego')])\n",
    "    elif 'El' in address:\n",
    "        if 'Ste' in address:\n",
    "            address_list.append(address[address.find('El'):address.find('Ste')])\n",
    "        else:\n",
    "            address_list.append(address[address.find('El'):address.find('San Diego')])\n",
    "    elif address_array[0].replace('-','').isdigit():\n",
    "        concat_address = ''\n",
    "        correct_format = False\n",
    "        for x in range(1,len(address_array)):\n",
    "            if address_array[x] in street_exts:\n",
    "                concat_address = concat_address + ' ' + address_array[x]\n",
    "                address_list.append(concat_address.strip())\n",
    "                correct_format = True\n",
    "                break\n",
    "            elif address_array[x] == 'Ste' :\n",
    "                address_list.append(concat_address.strip())\n",
    "                correct_format = True\n",
    "                break\n",
    "            else:\n",
    "                concat_address = concat_address + ' ' + address_array[x]\n",
    "        if not correct_format:\n",
    "            address_list.append(np.nan)\n",
    "    elif not address_array[0].replace('-','').isdigit():\n",
    "        concat_address = ''\n",
    "        correct_format = False\n",
    "        for x in range(0,len(address_array)):\n",
    "            if (x == 0 or x == 1) and address_array[x].lower() == 'and' :\n",
    "                continue\n",
    "            if x == 0:\n",
    "                if  address_array[x].lower() == 'and' or address_array[1].lower() == 'and': \n",
    "                    continue\n",
    "            if x == 0 and '/' in address_array[x]:\n",
    "                continue\n",
    "            if address_array[x] in street_exts:\n",
    "                concat_address = concat_address + ' ' + address_array[x]\n",
    "                address_list.append(concat_address.strip())\n",
    "                correct_format = True\n",
    "                break\n",
    "            elif address_array[x] == 'Ste' :\n",
    "                address_list.append(concat_address.strip())\n",
    "                correct_format = True\n",
    "                break\n",
    "            else:\n",
    "                concat_address = concat_address + ' ' + address_array[x]\n",
    "        if not correct_format:\n",
    "            address_list.append(np.nan)\n",
    "    else:\n",
    "        address_list.append(np.nan)"
   ]
  },
  {
   "cell_type": "code",
   "execution_count": 5,
   "metadata": {},
   "outputs": [
    {
     "name": "stdout",
     "output_type": "stream",
     "text": [
      "Index(['name', 'address', 'phone', 'id', 'url', 'rating', 'review_count',\n",
      "       'longitude', 'latitude', 'is_closed'],\n",
      "      dtype='object')\n"
     ]
    }
   ],
   "source": [
    "#Print column names to find which to drop in Park Info dataset.\n",
    "\n",
    "print (df_parkinfo.columns)"
   ]
  },
  {
   "cell_type": "code",
   "execution_count": 6,
   "metadata": {},
   "outputs": [],
   "source": [
    "#Drop all columns besides name, rating & street in Parks Info dataset.\n",
    "\n",
    "df_parkinfo = df_parkinfo.drop(columns = ['address', 'phone', 'id', 'url', 'review_count', 'longitude',\n",
    "                                          'latitude', 'is_closed'])"
   ]
  },
  {
   "cell_type": "code",
   "execution_count": 7,
   "metadata": {},
   "outputs": [
    {
     "data": {
      "text/html": [
       "<div>\n",
       "<style scoped>\n",
       "    .dataframe tbody tr th:only-of-type {\n",
       "        vertical-align: middle;\n",
       "    }\n",
       "\n",
       "    .dataframe tbody tr th {\n",
       "        vertical-align: top;\n",
       "    }\n",
       "\n",
       "    .dataframe thead th {\n",
       "        text-align: right;\n",
       "    }\n",
       "</style>\n",
       "<table border=\"1\" class=\"dataframe\">\n",
       "  <thead>\n",
       "    <tr style=\"text-align: right;\">\n",
       "      <th></th>\n",
       "      <th>name</th>\n",
       "      <th>rating</th>\n",
       "      <th>street</th>\n",
       "    </tr>\n",
       "  </thead>\n",
       "  <tbody>\n",
       "    <tr>\n",
       "      <th>0</th>\n",
       "      <td>Balboa Park</td>\n",
       "      <td>5.0</td>\n",
       "      <td>El Prado</td>\n",
       "    </tr>\n",
       "    <tr>\n",
       "      <th>1</th>\n",
       "      <td>Civita Park</td>\n",
       "      <td>4.5</td>\n",
       "      <td>Civita Blvd</td>\n",
       "    </tr>\n",
       "    <tr>\n",
       "      <th>2</th>\n",
       "      <td>Waterfront Park</td>\n",
       "      <td>4.5</td>\n",
       "      <td>NaN</td>\n",
       "    </tr>\n",
       "    <tr>\n",
       "      <th>3</th>\n",
       "      <td>Trolley Barn Park</td>\n",
       "      <td>4.5</td>\n",
       "      <td>Adams Ave</td>\n",
       "    </tr>\n",
       "    <tr>\n",
       "      <th>4</th>\n",
       "      <td>Bay View Park</td>\n",
       "      <td>5.0</td>\n",
       "      <td>NaN</td>\n",
       "    </tr>\n",
       "  </tbody>\n",
       "</table>\n",
       "</div>"
      ],
      "text/plain": [
       "                name  rating       street\n",
       "0        Balboa Park     5.0    El Prado \n",
       "1        Civita Park     4.5  Civita Blvd\n",
       "2    Waterfront Park     4.5          NaN\n",
       "3  Trolley Barn Park     4.5    Adams Ave\n",
       "4      Bay View Park     5.0          NaN"
      ]
     },
     "execution_count": 7,
     "metadata": {},
     "output_type": "execute_result"
    }
   ],
   "source": [
    "#Add Address List back into Park Information Dataframe.\n",
    "\n",
    "df_parkinfo['street'] = address_list\n",
    "df_parkinfo.head()"
   ]
  },
  {
   "cell_type": "code",
   "execution_count": 8,
   "metadata": {},
   "outputs": [
    {
     "data": {
      "text/html": [
       "<div>\n",
       "<style scoped>\n",
       "    .dataframe tbody tr th:only-of-type {\n",
       "        vertical-align: middle;\n",
       "    }\n",
       "\n",
       "    .dataframe tbody tr th {\n",
       "        vertical-align: top;\n",
       "    }\n",
       "\n",
       "    .dataframe thead th {\n",
       "        text-align: right;\n",
       "    }\n",
       "</style>\n",
       "<table border=\"1\" class=\"dataframe\">\n",
       "  <thead>\n",
       "    <tr style=\"text-align: right;\">\n",
       "      <th></th>\n",
       "      <th>name</th>\n",
       "      <th>rating</th>\n",
       "      <th>street</th>\n",
       "    </tr>\n",
       "  </thead>\n",
       "  <tbody>\n",
       "    <tr>\n",
       "      <th>0</th>\n",
       "      <td>Balboa Park</td>\n",
       "      <td>5.0</td>\n",
       "      <td>El Prado</td>\n",
       "    </tr>\n",
       "    <tr>\n",
       "      <th>1</th>\n",
       "      <td>Civita Park</td>\n",
       "      <td>4.5</td>\n",
       "      <td>Civita Blvd</td>\n",
       "    </tr>\n",
       "    <tr>\n",
       "      <th>2</th>\n",
       "      <td>Trolley Barn Park</td>\n",
       "      <td>4.5</td>\n",
       "      <td>Adams Ave</td>\n",
       "    </tr>\n",
       "    <tr>\n",
       "      <th>3</th>\n",
       "      <td>Centrum Park</td>\n",
       "      <td>3.5</td>\n",
       "      <td>Lightwave Ave</td>\n",
       "    </tr>\n",
       "    <tr>\n",
       "      <th>4</th>\n",
       "      <td>Presidio Park</td>\n",
       "      <td>4.5</td>\n",
       "      <td>Jackson St</td>\n",
       "    </tr>\n",
       "  </tbody>\n",
       "</table>\n",
       "</div>"
      ],
      "text/plain": [
       "                name  rating         street\n",
       "0        Balboa Park     5.0      El Prado \n",
       "1        Civita Park     4.5    Civita Blvd\n",
       "2  Trolley Barn Park     4.5      Adams Ave\n",
       "3       Centrum Park     3.5  Lightwave Ave\n",
       "4      Presidio Park     4.5     Jackson St"
      ]
     },
     "execution_count": 8,
     "metadata": {},
     "output_type": "execute_result"
    }
   ],
   "source": [
    "#Remove rows that have null in Street Name & reset index in Park Info dataset.\n",
    "\n",
    "df_parkinfo = df_parkinfo.dropna()\n",
    "df_parkinfo = df_parkinfo.reset_index(drop=True)\n",
    "df_parkinfo.head()"
   ]
  },
  {
   "cell_type": "code",
   "execution_count": 9,
   "metadata": {},
   "outputs": [
    {
     "data": {
      "text/html": [
       "<div>\n",
       "<style scoped>\n",
       "    .dataframe tbody tr th:only-of-type {\n",
       "        vertical-align: middle;\n",
       "    }\n",
       "\n",
       "    .dataframe tbody tr th {\n",
       "        vertical-align: top;\n",
       "    }\n",
       "\n",
       "    .dataframe thead th {\n",
       "        text-align: right;\n",
       "    }\n",
       "</style>\n",
       "<table border=\"1\" class=\"dataframe\">\n",
       "  <thead>\n",
       "    <tr style=\"text-align: right;\">\n",
       "      <th></th>\n",
       "      <th>name</th>\n",
       "      <th>rating</th>\n",
       "      <th>street</th>\n",
       "    </tr>\n",
       "  </thead>\n",
       "  <tbody>\n",
       "    <tr>\n",
       "      <th>0</th>\n",
       "      <td>Balboa Park</td>\n",
       "      <td>5.0</td>\n",
       "      <td>el prado</td>\n",
       "    </tr>\n",
       "    <tr>\n",
       "      <th>1</th>\n",
       "      <td>Civita Park</td>\n",
       "      <td>4.5</td>\n",
       "      <td>civita blvd</td>\n",
       "    </tr>\n",
       "    <tr>\n",
       "      <th>2</th>\n",
       "      <td>Trolley Barn Park</td>\n",
       "      <td>4.5</td>\n",
       "      <td>adams ave</td>\n",
       "    </tr>\n",
       "    <tr>\n",
       "      <th>3</th>\n",
       "      <td>Centrum Park</td>\n",
       "      <td>3.5</td>\n",
       "      <td>lightwave ave</td>\n",
       "    </tr>\n",
       "    <tr>\n",
       "      <th>4</th>\n",
       "      <td>Presidio Park</td>\n",
       "      <td>4.5</td>\n",
       "      <td>jackson st</td>\n",
       "    </tr>\n",
       "  </tbody>\n",
       "</table>\n",
       "</div>"
      ],
      "text/plain": [
       "                name  rating         street\n",
       "0        Balboa Park     5.0      el prado \n",
       "1        Civita Park     4.5    civita blvd\n",
       "2  Trolley Barn Park     4.5      adams ave\n",
       "3       Centrum Park     3.5  lightwave ave\n",
       "4      Presidio Park     4.5     jackson st"
      ]
     },
     "execution_count": 9,
     "metadata": {},
     "output_type": "execute_result"
    }
   ],
   "source": [
    "#Standardize street names to all lowercase in Park Info dataset.\n",
    "\n",
    "df_parkinfo['street'] = df_parkinfo['street'].str.lower()\n",
    "df_parkinfo.head()"
   ]
  },
  {
   "cell_type": "code",
   "execution_count": 10,
   "metadata": {},
   "outputs": [],
   "source": [
    "#Function to standardize street extension (ave, drive, etc.)\n",
    "def standardize_street_ext(string):\n",
    "    \n",
    "    string = string.lower()\n",
    "    string = string.strip()\n",
    "    \n",
    "    if 'ave' in string:\n",
    "        output = string.replace('ave', 'av')\n",
    "    elif 'drive' in string:\n",
    "        output = string.replace('drive', 'dr')\n",
    "    elif 'road' in string:\n",
    "        output = string.replace('road', 'rd')\n",
    "    elif 'street' in string:\n",
    "        output = string.replace('street', 'st')\n",
    "    elif 'parkway' in string:\n",
    "        output = string.replace('parkway', 'pkwy')\n",
    "    elif 'trail' in string:\n",
    "        output = string.replace('trail','trl')\n",
    "    elif 'place' in string:\n",
    "        output = string.replace('place','plc')\n",
    "    else:\n",
    "        output = string\n",
    "    \n",
    "    return output"
   ]
  },
  {
   "cell_type": "code",
   "execution_count": 11,
   "metadata": {},
   "outputs": [
    {
     "data": {
      "text/html": [
       "<div>\n",
       "<style scoped>\n",
       "    .dataframe tbody tr th:only-of-type {\n",
       "        vertical-align: middle;\n",
       "    }\n",
       "\n",
       "    .dataframe tbody tr th {\n",
       "        vertical-align: top;\n",
       "    }\n",
       "\n",
       "    .dataframe thead th {\n",
       "        text-align: right;\n",
       "    }\n",
       "</style>\n",
       "<table border=\"1\" class=\"dataframe\">\n",
       "  <thead>\n",
       "    <tr style=\"text-align: right;\">\n",
       "      <th></th>\n",
       "      <th>name</th>\n",
       "      <th>rating</th>\n",
       "      <th>street</th>\n",
       "    </tr>\n",
       "  </thead>\n",
       "  <tbody>\n",
       "    <tr>\n",
       "      <th>0</th>\n",
       "      <td>Balboa Park</td>\n",
       "      <td>5.0</td>\n",
       "      <td>el prado</td>\n",
       "    </tr>\n",
       "    <tr>\n",
       "      <th>1</th>\n",
       "      <td>Civita Park</td>\n",
       "      <td>4.5</td>\n",
       "      <td>civita blvd</td>\n",
       "    </tr>\n",
       "    <tr>\n",
       "      <th>2</th>\n",
       "      <td>Trolley Barn Park</td>\n",
       "      <td>4.5</td>\n",
       "      <td>adams av</td>\n",
       "    </tr>\n",
       "    <tr>\n",
       "      <th>3</th>\n",
       "      <td>Centrum Park</td>\n",
       "      <td>3.5</td>\n",
       "      <td>lightwav av</td>\n",
       "    </tr>\n",
       "    <tr>\n",
       "      <th>4</th>\n",
       "      <td>Presidio Park</td>\n",
       "      <td>4.5</td>\n",
       "      <td>jackson st</td>\n",
       "    </tr>\n",
       "  </tbody>\n",
       "</table>\n",
       "</div>"
      ],
      "text/plain": [
       "                name  rating       street\n",
       "0        Balboa Park     5.0     el prado\n",
       "1        Civita Park     4.5  civita blvd\n",
       "2  Trolley Barn Park     4.5     adams av\n",
       "3       Centrum Park     3.5  lightwav av\n",
       "4      Presidio Park     4.5   jackson st"
      ]
     },
     "execution_count": 11,
     "metadata": {},
     "output_type": "execute_result"
    }
   ],
   "source": [
    "#Standardize street extension in Park Info dataset.\n",
    "\n",
    "df_parkinfo['street'] = df_parkinfo['street'].apply(standardize_street_ext)\n",
    "df_parkinfo.head()"
   ]
  },
  {
   "cell_type": "code",
   "execution_count": 12,
   "metadata": {},
   "outputs": [],
   "source": [
    "#Function to Standardize numerical street names.\n",
    "def standardize_num_street(string):\n",
    "    \n",
    "    string = string.lower()\n",
    "    string = string.strip()\n",
    "    \n",
    "    if string.find('0') == 0:\n",
    "        output = string[1:]\n",
    "    else:\n",
    "        output = string\n",
    "    \n",
    "    return output"
   ]
  },
  {
   "cell_type": "code",
   "execution_count": 13,
   "metadata": {},
   "outputs": [
    {
     "data": {
      "text/html": [
       "<div>\n",
       "<style scoped>\n",
       "    .dataframe tbody tr th:only-of-type {\n",
       "        vertical-align: middle;\n",
       "    }\n",
       "\n",
       "    .dataframe tbody tr th {\n",
       "        vertical-align: top;\n",
       "    }\n",
       "\n",
       "    .dataframe thead th {\n",
       "        text-align: right;\n",
       "    }\n",
       "</style>\n",
       "<table border=\"1\" class=\"dataframe\">\n",
       "  <thead>\n",
       "    <tr style=\"text-align: right;\">\n",
       "      <th></th>\n",
       "      <th>name</th>\n",
       "      <th>rating</th>\n",
       "      <th>street</th>\n",
       "    </tr>\n",
       "  </thead>\n",
       "  <tbody>\n",
       "    <tr>\n",
       "      <th>0</th>\n",
       "      <td>Balboa Park</td>\n",
       "      <td>5.0</td>\n",
       "      <td>el prado</td>\n",
       "    </tr>\n",
       "    <tr>\n",
       "      <th>1</th>\n",
       "      <td>Civita Park</td>\n",
       "      <td>4.5</td>\n",
       "      <td>civita blvd</td>\n",
       "    </tr>\n",
       "    <tr>\n",
       "      <th>2</th>\n",
       "      <td>Trolley Barn Park</td>\n",
       "      <td>4.5</td>\n",
       "      <td>adams av</td>\n",
       "    </tr>\n",
       "    <tr>\n",
       "      <th>3</th>\n",
       "      <td>Centrum Park</td>\n",
       "      <td>3.5</td>\n",
       "      <td>lightwav av</td>\n",
       "    </tr>\n",
       "    <tr>\n",
       "      <th>4</th>\n",
       "      <td>Presidio Park</td>\n",
       "      <td>4.5</td>\n",
       "      <td>jackson st</td>\n",
       "    </tr>\n",
       "  </tbody>\n",
       "</table>\n",
       "</div>"
      ],
      "text/plain": [
       "                name  rating       street\n",
       "0        Balboa Park     5.0     el prado\n",
       "1        Civita Park     4.5  civita blvd\n",
       "2  Trolley Barn Park     4.5     adams av\n",
       "3       Centrum Park     3.5  lightwav av\n",
       "4      Presidio Park     4.5   jackson st"
      ]
     },
     "execution_count": 13,
     "metadata": {},
     "output_type": "execute_result"
    }
   ],
   "source": [
    "#Standardize numerical street names in Park Info dataset.\n",
    "\n",
    "df_parkinfo['street'] = df_parkinfo['street'].apply(standardize_num_street)\n",
    "df_parkinfo.head()"
   ]
  },
  {
   "cell_type": "code",
   "execution_count": 14,
   "metadata": {},
   "outputs": [
    {
     "data": {
      "text/html": [
       "<div>\n",
       "<style scoped>\n",
       "    .dataframe tbody tr th:only-of-type {\n",
       "        vertical-align: middle;\n",
       "    }\n",
       "\n",
       "    .dataframe tbody tr th {\n",
       "        vertical-align: top;\n",
       "    }\n",
       "\n",
       "    .dataframe thead th {\n",
       "        text-align: right;\n",
       "    }\n",
       "</style>\n",
       "<table border=\"1\" class=\"dataframe\">\n",
       "  <thead>\n",
       "    <tr style=\"text-align: right;\">\n",
       "      <th></th>\n",
       "      <th>name</th>\n",
       "      <th>street</th>\n",
       "      <th>rating</th>\n",
       "    </tr>\n",
       "  </thead>\n",
       "  <tbody>\n",
       "    <tr>\n",
       "      <th>0</th>\n",
       "      <td>Balboa Park</td>\n",
       "      <td>el prado</td>\n",
       "      <td>5.0</td>\n",
       "    </tr>\n",
       "    <tr>\n",
       "      <th>1</th>\n",
       "      <td>Civita Park</td>\n",
       "      <td>civita blvd</td>\n",
       "      <td>4.5</td>\n",
       "    </tr>\n",
       "    <tr>\n",
       "      <th>2</th>\n",
       "      <td>Trolley Barn Park</td>\n",
       "      <td>adams av</td>\n",
       "      <td>4.5</td>\n",
       "    </tr>\n",
       "    <tr>\n",
       "      <th>3</th>\n",
       "      <td>Centrum Park</td>\n",
       "      <td>lightwav av</td>\n",
       "      <td>3.5</td>\n",
       "    </tr>\n",
       "    <tr>\n",
       "      <th>4</th>\n",
       "      <td>Presidio Park</td>\n",
       "      <td>jackson st</td>\n",
       "      <td>4.5</td>\n",
       "    </tr>\n",
       "  </tbody>\n",
       "</table>\n",
       "</div>"
      ],
      "text/plain": [
       "                name       street  rating\n",
       "0        Balboa Park     el prado     5.0\n",
       "1        Civita Park  civita blvd     4.5\n",
       "2  Trolley Barn Park     adams av     4.5\n",
       "3       Centrum Park  lightwav av     3.5\n",
       "4      Presidio Park   jackson st     4.5"
      ]
     },
     "execution_count": 14,
     "metadata": {},
     "output_type": "execute_result"
    }
   ],
   "source": [
    "#Reorder columns in Parks Info dataset.\n",
    "\n",
    "df_parkinfo = df_parkinfo[['name', 'street', 'rating']]\n",
    "df_oci = df_oci.reset_index(drop=True)\n",
    "df_parkinfo.head()"
   ]
  },
  {
   "cell_type": "code",
   "execution_count": 15,
   "metadata": {},
   "outputs": [
    {
     "data": {
      "text/html": [
       "<div>\n",
       "<style scoped>\n",
       "    .dataframe tbody tr th:only-of-type {\n",
       "        vertical-align: middle;\n",
       "    }\n",
       "\n",
       "    .dataframe tbody tr th {\n",
       "        vertical-align: top;\n",
       "    }\n",
       "\n",
       "    .dataframe thead th {\n",
       "        text-align: right;\n",
       "    }\n",
       "</style>\n",
       "<table border=\"1\" class=\"dataframe\">\n",
       "  <thead>\n",
       "    <tr style=\"text-align: right;\">\n",
       "      <th></th>\n",
       "      <th>seg_id</th>\n",
       "      <th>oci</th>\n",
       "      <th>street</th>\n",
       "      <th>street_from</th>\n",
       "      <th>street_to</th>\n",
       "      <th>seg_length_ft</th>\n",
       "      <th>seg_width_ft</th>\n",
       "      <th>func_class</th>\n",
       "      <th>pvm_class</th>\n",
       "      <th>area_sq_ft</th>\n",
       "      <th>oci_desc</th>\n",
       "      <th>oci_wt</th>\n",
       "    </tr>\n",
       "  </thead>\n",
       "  <tbody>\n",
       "    <tr>\n",
       "      <th>0</th>\n",
       "      <td>SA-000003</td>\n",
       "      <td>65.14</td>\n",
       "      <td>ALLEY</td>\n",
       "      <td>NaN</td>\n",
       "      <td>NaN</td>\n",
       "      <td>772.7258</td>\n",
       "      <td>30.0</td>\n",
       "      <td>Alley</td>\n",
       "      <td>PCC Jointed Concrete</td>\n",
       "      <td>23181.774</td>\n",
       "      <td>Fair</td>\n",
       "      <td>1.510061e+06</td>\n",
       "    </tr>\n",
       "    <tr>\n",
       "      <th>1</th>\n",
       "      <td>SA-000004</td>\n",
       "      <td>67.45</td>\n",
       "      <td>ALLEY</td>\n",
       "      <td>NaN</td>\n",
       "      <td>NaN</td>\n",
       "      <td>196.0025</td>\n",
       "      <td>30.0</td>\n",
       "      <td>Alley</td>\n",
       "      <td>PCC Jointed Concrete</td>\n",
       "      <td>5880.075</td>\n",
       "      <td>Fair</td>\n",
       "      <td>3.966111e+05</td>\n",
       "    </tr>\n",
       "    <tr>\n",
       "      <th>2</th>\n",
       "      <td>SA-000005</td>\n",
       "      <td>70.88</td>\n",
       "      <td>ALLEY</td>\n",
       "      <td>NaN</td>\n",
       "      <td>NaN</td>\n",
       "      <td>395.0049</td>\n",
       "      <td>30.0</td>\n",
       "      <td>Alley</td>\n",
       "      <td>PCC Jointed Concrete</td>\n",
       "      <td>11850.147</td>\n",
       "      <td>Good</td>\n",
       "      <td>8.399384e+05</td>\n",
       "    </tr>\n",
       "    <tr>\n",
       "      <th>3</th>\n",
       "      <td>SA-000006</td>\n",
       "      <td>84.00</td>\n",
       "      <td>ALLEY</td>\n",
       "      <td>NaN</td>\n",
       "      <td>NaN</td>\n",
       "      <td>192.0025</td>\n",
       "      <td>30.0</td>\n",
       "      <td>Alley</td>\n",
       "      <td>PCC Jointed Concrete</td>\n",
       "      <td>5760.075</td>\n",
       "      <td>Good</td>\n",
       "      <td>4.838463e+05</td>\n",
       "    </tr>\n",
       "    <tr>\n",
       "      <th>4</th>\n",
       "      <td>SA-000008</td>\n",
       "      <td>79.24</td>\n",
       "      <td>ALLEY</td>\n",
       "      <td>NaN</td>\n",
       "      <td>NaN</td>\n",
       "      <td>251.7540</td>\n",
       "      <td>30.0</td>\n",
       "      <td>Alley</td>\n",
       "      <td>PCC Jointed Concrete</td>\n",
       "      <td>7552.620</td>\n",
       "      <td>Good</td>\n",
       "      <td>5.984696e+05</td>\n",
       "    </tr>\n",
       "  </tbody>\n",
       "</table>\n",
       "</div>"
      ],
      "text/plain": [
       "      seg_id    oci street street_from street_to  seg_length_ft  seg_width_ft  \\\n",
       "0  SA-000003  65.14  ALLEY         NaN       NaN       772.7258          30.0   \n",
       "1  SA-000004  67.45  ALLEY         NaN       NaN       196.0025          30.0   \n",
       "2  SA-000005  70.88  ALLEY         NaN       NaN       395.0049          30.0   \n",
       "3  SA-000006  84.00  ALLEY         NaN       NaN       192.0025          30.0   \n",
       "4  SA-000008  79.24  ALLEY         NaN       NaN       251.7540          30.0   \n",
       "\n",
       "  func_class             pvm_class  area_sq_ft oci_desc        oci_wt  \n",
       "0      Alley  PCC Jointed Concrete   23181.774     Fair  1.510061e+06  \n",
       "1      Alley  PCC Jointed Concrete    5880.075     Fair  3.966111e+05  \n",
       "2      Alley  PCC Jointed Concrete   11850.147     Good  8.399384e+05  \n",
       "3      Alley  PCC Jointed Concrete    5760.075     Good  4.838463e+05  \n",
       "4      Alley  PCC Jointed Concrete    7552.620     Good  5.984696e+05  "
      ]
     },
     "execution_count": 15,
     "metadata": {},
     "output_type": "execute_result"
    }
   ],
   "source": [
    "#Original City of San Diego Street OCI Dataset Summary\n",
    "df_oci.head()"
   ]
  },
  {
   "cell_type": "code",
   "execution_count": 16,
   "metadata": {},
   "outputs": [
    {
     "data": {
      "text/html": [
       "<div>\n",
       "<style scoped>\n",
       "    .dataframe tbody tr th:only-of-type {\n",
       "        vertical-align: middle;\n",
       "    }\n",
       "\n",
       "    .dataframe tbody tr th {\n",
       "        vertical-align: top;\n",
       "    }\n",
       "\n",
       "    .dataframe thead th {\n",
       "        text-align: right;\n",
       "    }\n",
       "</style>\n",
       "<table border=\"1\" class=\"dataframe\">\n",
       "  <thead>\n",
       "    <tr style=\"text-align: right;\">\n",
       "      <th></th>\n",
       "      <th>oci</th>\n",
       "      <th>street</th>\n",
       "    </tr>\n",
       "  </thead>\n",
       "  <tbody>\n",
       "    <tr>\n",
       "      <th>0</th>\n",
       "      <td>65.14</td>\n",
       "      <td>ALLEY</td>\n",
       "    </tr>\n",
       "    <tr>\n",
       "      <th>1</th>\n",
       "      <td>67.45</td>\n",
       "      <td>ALLEY</td>\n",
       "    </tr>\n",
       "    <tr>\n",
       "      <th>2</th>\n",
       "      <td>70.88</td>\n",
       "      <td>ALLEY</td>\n",
       "    </tr>\n",
       "    <tr>\n",
       "      <th>3</th>\n",
       "      <td>84.00</td>\n",
       "      <td>ALLEY</td>\n",
       "    </tr>\n",
       "    <tr>\n",
       "      <th>4</th>\n",
       "      <td>79.24</td>\n",
       "      <td>ALLEY</td>\n",
       "    </tr>\n",
       "  </tbody>\n",
       "</table>\n",
       "</div>"
      ],
      "text/plain": [
       "     oci street\n",
       "0  65.14  ALLEY\n",
       "1  67.45  ALLEY\n",
       "2  70.88  ALLEY\n",
       "3  84.00  ALLEY\n",
       "4  79.24  ALLEY"
      ]
     },
     "execution_count": 16,
     "metadata": {},
     "output_type": "execute_result"
    }
   ],
   "source": [
    "#Drop all columns besides street & oci in OCI dataset\n",
    "\n",
    "df_oci = df_oci.drop(columns = ['seg_id', 'street_from', 'street_to', 'seg_length_ft', 'seg_width_ft',\n",
    "                                'func_class', 'pvm_class', 'area_sq_ft', 'oci_desc', 'oci_wt'])\n",
    "df_oci.head()"
   ]
  },
  {
   "cell_type": "code",
   "execution_count": 17,
   "metadata": {},
   "outputs": [
    {
     "data": {
      "text/html": [
       "<div>\n",
       "<style scoped>\n",
       "    .dataframe tbody tr th:only-of-type {\n",
       "        vertical-align: middle;\n",
       "    }\n",
       "\n",
       "    .dataframe tbody tr th {\n",
       "        vertical-align: top;\n",
       "    }\n",
       "\n",
       "    .dataframe thead th {\n",
       "        text-align: right;\n",
       "    }\n",
       "</style>\n",
       "<table border=\"1\" class=\"dataframe\">\n",
       "  <thead>\n",
       "    <tr style=\"text-align: right;\">\n",
       "      <th></th>\n",
       "      <th>street</th>\n",
       "      <th>oci</th>\n",
       "    </tr>\n",
       "  </thead>\n",
       "  <tbody>\n",
       "    <tr>\n",
       "      <th>0</th>\n",
       "      <td>01ST AV</td>\n",
       "      <td>69.884865</td>\n",
       "    </tr>\n",
       "    <tr>\n",
       "      <th>1</th>\n",
       "      <td>02ND AV</td>\n",
       "      <td>70.527083</td>\n",
       "    </tr>\n",
       "    <tr>\n",
       "      <th>2</th>\n",
       "      <td>03RD AV</td>\n",
       "      <td>68.674108</td>\n",
       "    </tr>\n",
       "    <tr>\n",
       "      <th>3</th>\n",
       "      <td>04TH AV</td>\n",
       "      <td>75.434667</td>\n",
       "    </tr>\n",
       "    <tr>\n",
       "      <th>4</th>\n",
       "      <td>05TH AV</td>\n",
       "      <td>83.127689</td>\n",
       "    </tr>\n",
       "  </tbody>\n",
       "</table>\n",
       "</div>"
      ],
      "text/plain": [
       "    street        oci\n",
       "0  01ST AV  69.884865\n",
       "1  02ND AV  70.527083\n",
       "2  03RD AV  68.674108\n",
       "3  04TH AV  75.434667\n",
       "4  05TH AV  83.127689"
      ]
     },
     "execution_count": 17,
     "metadata": {},
     "output_type": "execute_result"
    }
   ],
   "source": [
    "#Combine all the repeating streets, and average the OCI score between them.\n",
    "\n",
    "df_oci = df_oci.groupby('street'). mean()\n",
    "df_oci = df_oci.reset_index(drop=False)\n",
    "df_oci.head()"
   ]
  },
  {
   "cell_type": "code",
   "execution_count": 18,
   "metadata": {},
   "outputs": [
    {
     "data": {
      "text/html": [
       "<div>\n",
       "<style scoped>\n",
       "    .dataframe tbody tr th:only-of-type {\n",
       "        vertical-align: middle;\n",
       "    }\n",
       "\n",
       "    .dataframe tbody tr th {\n",
       "        vertical-align: top;\n",
       "    }\n",
       "\n",
       "    .dataframe thead th {\n",
       "        text-align: right;\n",
       "    }\n",
       "</style>\n",
       "<table border=\"1\" class=\"dataframe\">\n",
       "  <thead>\n",
       "    <tr style=\"text-align: right;\">\n",
       "      <th></th>\n",
       "      <th>street</th>\n",
       "      <th>oci</th>\n",
       "    </tr>\n",
       "  </thead>\n",
       "  <tbody>\n",
       "    <tr>\n",
       "      <th>0</th>\n",
       "      <td>01st av</td>\n",
       "      <td>69.884865</td>\n",
       "    </tr>\n",
       "    <tr>\n",
       "      <th>1</th>\n",
       "      <td>02nd av</td>\n",
       "      <td>70.527083</td>\n",
       "    </tr>\n",
       "    <tr>\n",
       "      <th>2</th>\n",
       "      <td>03rd av</td>\n",
       "      <td>68.674108</td>\n",
       "    </tr>\n",
       "    <tr>\n",
       "      <th>3</th>\n",
       "      <td>04th av</td>\n",
       "      <td>75.434667</td>\n",
       "    </tr>\n",
       "    <tr>\n",
       "      <th>4</th>\n",
       "      <td>05th av</td>\n",
       "      <td>83.127689</td>\n",
       "    </tr>\n",
       "  </tbody>\n",
       "</table>\n",
       "</div>"
      ],
      "text/plain": [
       "    street        oci\n",
       "0  01st av  69.884865\n",
       "1  02nd av  70.527083\n",
       "2  03rd av  68.674108\n",
       "3  04th av  75.434667\n",
       "4  05th av  83.127689"
      ]
     },
     "execution_count": 18,
     "metadata": {},
     "output_type": "execute_result"
    }
   ],
   "source": [
    "#Standardize street names to all lowercase in OCI dataset.\n",
    "\n",
    "df_oci['street'] = df_oci['street'].str.lower()\n",
    "df_oci.head()"
   ]
  },
  {
   "cell_type": "code",
   "execution_count": 19,
   "metadata": {},
   "outputs": [
    {
     "data": {
      "text/html": [
       "<div>\n",
       "<style scoped>\n",
       "    .dataframe tbody tr th:only-of-type {\n",
       "        vertical-align: middle;\n",
       "    }\n",
       "\n",
       "    .dataframe tbody tr th {\n",
       "        vertical-align: top;\n",
       "    }\n",
       "\n",
       "    .dataframe thead th {\n",
       "        text-align: right;\n",
       "    }\n",
       "</style>\n",
       "<table border=\"1\" class=\"dataframe\">\n",
       "  <thead>\n",
       "    <tr style=\"text-align: right;\">\n",
       "      <th></th>\n",
       "      <th>street</th>\n",
       "      <th>oci</th>\n",
       "    </tr>\n",
       "  </thead>\n",
       "  <tbody>\n",
       "    <tr>\n",
       "      <th>0</th>\n",
       "      <td>01st av</td>\n",
       "      <td>69.884865</td>\n",
       "    </tr>\n",
       "    <tr>\n",
       "      <th>1</th>\n",
       "      <td>02nd av</td>\n",
       "      <td>70.527083</td>\n",
       "    </tr>\n",
       "    <tr>\n",
       "      <th>2</th>\n",
       "      <td>03rd av</td>\n",
       "      <td>68.674108</td>\n",
       "    </tr>\n",
       "    <tr>\n",
       "      <th>3</th>\n",
       "      <td>04th av</td>\n",
       "      <td>75.434667</td>\n",
       "    </tr>\n",
       "    <tr>\n",
       "      <th>4</th>\n",
       "      <td>05th av</td>\n",
       "      <td>83.127689</td>\n",
       "    </tr>\n",
       "  </tbody>\n",
       "</table>\n",
       "</div>"
      ],
      "text/plain": [
       "    street        oci\n",
       "0  01st av  69.884865\n",
       "1  02nd av  70.527083\n",
       "2  03rd av  68.674108\n",
       "3  04th av  75.434667\n",
       "4  05th av  83.127689"
      ]
     },
     "execution_count": 19,
     "metadata": {},
     "output_type": "execute_result"
    }
   ],
   "source": [
    "#Standardize street extension in OCI dataset.\n",
    "df_oci['street'] = df_oci['street'].apply(standardize_street_ext)\n",
    "df_oci.head()"
   ]
  },
  {
   "cell_type": "code",
   "execution_count": 20,
   "metadata": {},
   "outputs": [
    {
     "data": {
      "text/html": [
       "<div>\n",
       "<style scoped>\n",
       "    .dataframe tbody tr th:only-of-type {\n",
       "        vertical-align: middle;\n",
       "    }\n",
       "\n",
       "    .dataframe tbody tr th {\n",
       "        vertical-align: top;\n",
       "    }\n",
       "\n",
       "    .dataframe thead th {\n",
       "        text-align: right;\n",
       "    }\n",
       "</style>\n",
       "<table border=\"1\" class=\"dataframe\">\n",
       "  <thead>\n",
       "    <tr style=\"text-align: right;\">\n",
       "      <th></th>\n",
       "      <th>street</th>\n",
       "      <th>oci</th>\n",
       "    </tr>\n",
       "  </thead>\n",
       "  <tbody>\n",
       "    <tr>\n",
       "      <th>0</th>\n",
       "      <td>1st av</td>\n",
       "      <td>69.884865</td>\n",
       "    </tr>\n",
       "    <tr>\n",
       "      <th>1</th>\n",
       "      <td>2nd av</td>\n",
       "      <td>70.527083</td>\n",
       "    </tr>\n",
       "    <tr>\n",
       "      <th>2</th>\n",
       "      <td>3rd av</td>\n",
       "      <td>68.674108</td>\n",
       "    </tr>\n",
       "    <tr>\n",
       "      <th>3</th>\n",
       "      <td>4th av</td>\n",
       "      <td>75.434667</td>\n",
       "    </tr>\n",
       "    <tr>\n",
       "      <th>4</th>\n",
       "      <td>5th av</td>\n",
       "      <td>83.127689</td>\n",
       "    </tr>\n",
       "  </tbody>\n",
       "</table>\n",
       "</div>"
      ],
      "text/plain": [
       "   street        oci\n",
       "0  1st av  69.884865\n",
       "1  2nd av  70.527083\n",
       "2  3rd av  68.674108\n",
       "3  4th av  75.434667\n",
       "4  5th av  83.127689"
      ]
     },
     "execution_count": 20,
     "metadata": {},
     "output_type": "execute_result"
    }
   ],
   "source": [
    "#Standardize numerical street names in OCI dataset.\n",
    "\n",
    "df_oci['street'] = df_oci['street'].apply(standardize_num_street)\n",
    "df_oci.head()"
   ]
  },
  {
   "cell_type": "markdown",
   "metadata": {},
   "source": [
    "# Data Analysis & Results"
   ]
  },
  {
   "cell_type": "markdown",
   "metadata": {},
   "source": [
    "Include cells that describe the steps in your data analysis."
   ]
  },
  {
   "cell_type": "markdown",
   "metadata": {},
   "source": [
    "#### Method\n",
    "1. Duplicate Park Info dataframe to create Analysis dataframe\n",
    "2. Turn OCI dataframe columns into lists.\n",
    "3. Loop through each row in streets column of Analysis dataframe to find corresponding OCI score. Add corresponding OCI scores to a new list.\n",
    "4. Add new list of corresponding OCI scores to a new column in Analysis dataframe.\n",
    "5. Drop all rows that has null values."
   ]
  },
  {
   "cell_type": "code",
   "execution_count": 21,
   "metadata": {},
   "outputs": [
    {
     "data": {
      "text/html": [
       "<div>\n",
       "<style scoped>\n",
       "    .dataframe tbody tr th:only-of-type {\n",
       "        vertical-align: middle;\n",
       "    }\n",
       "\n",
       "    .dataframe tbody tr th {\n",
       "        vertical-align: top;\n",
       "    }\n",
       "\n",
       "    .dataframe thead th {\n",
       "        text-align: right;\n",
       "    }\n",
       "</style>\n",
       "<table border=\"1\" class=\"dataframe\">\n",
       "  <thead>\n",
       "    <tr style=\"text-align: right;\">\n",
       "      <th></th>\n",
       "      <th>name</th>\n",
       "      <th>street</th>\n",
       "      <th>rating</th>\n",
       "    </tr>\n",
       "  </thead>\n",
       "  <tbody>\n",
       "    <tr>\n",
       "      <th>0</th>\n",
       "      <td>Balboa Park</td>\n",
       "      <td>el prado</td>\n",
       "      <td>5.0</td>\n",
       "    </tr>\n",
       "    <tr>\n",
       "      <th>1</th>\n",
       "      <td>Civita Park</td>\n",
       "      <td>civita blvd</td>\n",
       "      <td>4.5</td>\n",
       "    </tr>\n",
       "    <tr>\n",
       "      <th>2</th>\n",
       "      <td>Trolley Barn Park</td>\n",
       "      <td>adams av</td>\n",
       "      <td>4.5</td>\n",
       "    </tr>\n",
       "    <tr>\n",
       "      <th>3</th>\n",
       "      <td>Centrum Park</td>\n",
       "      <td>lightwav av</td>\n",
       "      <td>3.5</td>\n",
       "    </tr>\n",
       "    <tr>\n",
       "      <th>4</th>\n",
       "      <td>Presidio Park</td>\n",
       "      <td>jackson st</td>\n",
       "      <td>4.5</td>\n",
       "    </tr>\n",
       "  </tbody>\n",
       "</table>\n",
       "</div>"
      ],
      "text/plain": [
       "                name       street  rating\n",
       "0        Balboa Park     el prado     5.0\n",
       "1        Civita Park  civita blvd     4.5\n",
       "2  Trolley Barn Park     adams av     4.5\n",
       "3       Centrum Park  lightwav av     3.5\n",
       "4      Presidio Park   jackson st     4.5"
      ]
     },
     "execution_count": 21,
     "metadata": {},
     "output_type": "execute_result"
    }
   ],
   "source": [
    "#Duplicate Park Info to make Analysis Dataframe\n",
    "df_analysis = df_parkinfo\n",
    "df_analysis.head()"
   ]
  },
  {
   "cell_type": "code",
   "execution_count": 22,
   "metadata": {},
   "outputs": [],
   "source": [
    "#Turn OCI dataframe columns into lists.\n",
    "oci_street_list = df_oci['street'].tolist()\n",
    "oci_scores_list = df_oci['oci'].tolist()"
   ]
  },
  {
   "cell_type": "code",
   "execution_count": 23,
   "metadata": {},
   "outputs": [],
   "source": [
    "#Add OCI scores for corresponding streets into new list.\n",
    "new_oci_list = []\n",
    "\n",
    "for street in df_analysis['street']:\n",
    "    if street in oci_street_list:\n",
    "        new_oci_list.append(oci_scores_list[oci_street_list.index(street)])\n",
    "    else:\n",
    "        new_oci_list.append(np.nan)"
   ]
  },
  {
   "cell_type": "code",
   "execution_count": 24,
   "metadata": {},
   "outputs": [
    {
     "data": {
      "text/html": [
       "<div>\n",
       "<style scoped>\n",
       "    .dataframe tbody tr th:only-of-type {\n",
       "        vertical-align: middle;\n",
       "    }\n",
       "\n",
       "    .dataframe tbody tr th {\n",
       "        vertical-align: top;\n",
       "    }\n",
       "\n",
       "    .dataframe thead th {\n",
       "        text-align: right;\n",
       "    }\n",
       "</style>\n",
       "<table border=\"1\" class=\"dataframe\">\n",
       "  <thead>\n",
       "    <tr style=\"text-align: right;\">\n",
       "      <th></th>\n",
       "      <th>name</th>\n",
       "      <th>street</th>\n",
       "      <th>rating</th>\n",
       "      <th>oci</th>\n",
       "    </tr>\n",
       "  </thead>\n",
       "  <tbody>\n",
       "    <tr>\n",
       "      <th>0</th>\n",
       "      <td>Balboa Park</td>\n",
       "      <td>el prado</td>\n",
       "      <td>5.0</td>\n",
       "      <td>80.710000</td>\n",
       "    </tr>\n",
       "    <tr>\n",
       "      <th>1</th>\n",
       "      <td>Civita Park</td>\n",
       "      <td>civita blvd</td>\n",
       "      <td>4.5</td>\n",
       "      <td>NaN</td>\n",
       "    </tr>\n",
       "    <tr>\n",
       "      <th>2</th>\n",
       "      <td>Trolley Barn Park</td>\n",
       "      <td>adams av</td>\n",
       "      <td>4.5</td>\n",
       "      <td>78.565681</td>\n",
       "    </tr>\n",
       "    <tr>\n",
       "      <th>3</th>\n",
       "      <td>Centrum Park</td>\n",
       "      <td>lightwav av</td>\n",
       "      <td>3.5</td>\n",
       "      <td>87.347333</td>\n",
       "    </tr>\n",
       "    <tr>\n",
       "      <th>4</th>\n",
       "      <td>Presidio Park</td>\n",
       "      <td>jackson st</td>\n",
       "      <td>4.5</td>\n",
       "      <td>54.077000</td>\n",
       "    </tr>\n",
       "  </tbody>\n",
       "</table>\n",
       "</div>"
      ],
      "text/plain": [
       "                name       street  rating        oci\n",
       "0        Balboa Park     el prado     5.0  80.710000\n",
       "1        Civita Park  civita blvd     4.5        NaN\n",
       "2  Trolley Barn Park     adams av     4.5  78.565681\n",
       "3       Centrum Park  lightwav av     3.5  87.347333\n",
       "4      Presidio Park   jackson st     4.5  54.077000"
      ]
     },
     "execution_count": 24,
     "metadata": {},
     "output_type": "execute_result"
    }
   ],
   "source": [
    "#Create new column from corresponding OCI scores in Analysis Dataframe.\n",
    "\n",
    "df_analysis['oci'] = new_oci_list\n",
    "df_analysis.head()"
   ]
  },
  {
   "cell_type": "code",
   "execution_count": 25,
   "metadata": {},
   "outputs": [
    {
     "data": {
      "text/html": [
       "<div>\n",
       "<style scoped>\n",
       "    .dataframe tbody tr th:only-of-type {\n",
       "        vertical-align: middle;\n",
       "    }\n",
       "\n",
       "    .dataframe tbody tr th {\n",
       "        vertical-align: top;\n",
       "    }\n",
       "\n",
       "    .dataframe thead th {\n",
       "        text-align: right;\n",
       "    }\n",
       "</style>\n",
       "<table border=\"1\" class=\"dataframe\">\n",
       "  <thead>\n",
       "    <tr style=\"text-align: right;\">\n",
       "      <th></th>\n",
       "      <th>name</th>\n",
       "      <th>street</th>\n",
       "      <th>rating</th>\n",
       "      <th>oci</th>\n",
       "    </tr>\n",
       "  </thead>\n",
       "  <tbody>\n",
       "    <tr>\n",
       "      <th>0</th>\n",
       "      <td>Balboa Park</td>\n",
       "      <td>el prado</td>\n",
       "      <td>5.0</td>\n",
       "      <td>80.710000</td>\n",
       "    </tr>\n",
       "    <tr>\n",
       "      <th>1</th>\n",
       "      <td>Trolley Barn Park</td>\n",
       "      <td>adams av</td>\n",
       "      <td>4.5</td>\n",
       "      <td>78.565681</td>\n",
       "    </tr>\n",
       "    <tr>\n",
       "      <th>2</th>\n",
       "      <td>Centrum Park</td>\n",
       "      <td>lightwav av</td>\n",
       "      <td>3.5</td>\n",
       "      <td>87.347333</td>\n",
       "    </tr>\n",
       "    <tr>\n",
       "      <th>3</th>\n",
       "      <td>Presidio Park</td>\n",
       "      <td>jackson st</td>\n",
       "      <td>4.5</td>\n",
       "      <td>54.077000</td>\n",
       "    </tr>\n",
       "    <tr>\n",
       "      <th>4</th>\n",
       "      <td>Kate O Sessions Memorial Park</td>\n",
       "      <td>soledad rd</td>\n",
       "      <td>4.5</td>\n",
       "      <td>61.263846</td>\n",
       "    </tr>\n",
       "  </tbody>\n",
       "</table>\n",
       "</div>"
      ],
      "text/plain": [
       "                            name       street  rating        oci\n",
       "0                    Balboa Park     el prado     5.0  80.710000\n",
       "1              Trolley Barn Park     adams av     4.5  78.565681\n",
       "2                   Centrum Park  lightwav av     3.5  87.347333\n",
       "3                  Presidio Park   jackson st     4.5  54.077000\n",
       "4  Kate O Sessions Memorial Park   soledad rd     4.5  61.263846"
      ]
     },
     "execution_count": 25,
     "metadata": {},
     "output_type": "execute_result"
    }
   ],
   "source": [
    "#Remove rows that have null in oci & reset index in Analysis Dataframe.\n",
    "\n",
    "df_analysis = df_analysis.dropna()\n",
    "df_analysis = df_analysis.reset_index(drop=True)\n",
    "df_analysis.head()"
   ]
  },
  {
   "cell_type": "markdown",
   "metadata": {},
   "source": [
    "## Data Visualizations"
   ]
  },
  {
   "cell_type": "code",
   "execution_count": 26,
   "metadata": {},
   "outputs": [
    {
     "data": {
      "image/png": "[encoded data removed]",
      "text/plain": [
       "<Figure size 1224x504 with 1 Axes>"
      ]
     },
     "metadata": {},
     "output_type": "display_data"
    }
   ],
   "source": [
    "#Histogram of the OCI dataset\n",
    "histogram_oci = sns.distplot(df_analysis['oci'], kde = False)\n",
    "histogram_oci.set(xlabel= 'Street Overall Condition Index')\n",
    "histogram_oci.set_title('Histogram of OCI Dataset');"
   ]
  },
  {
   "cell_type": "markdown",
   "metadata": {},
   "source": [
    "The histogram above displays the amount of the OCI scores that were given to the streets of San Diego. This shows that the city of San Diego gives a score over 50 for the majority of their streets. This implies that the streets within San Diego are in better-than-average condition."
   ]
  },
  {
   "cell_type": "code",
   "execution_count": 27,
   "metadata": {},
   "outputs": [
    {
     "data": {
      "image/png": "[encoded data removed]",
      "text/plain": [
       "<Figure size 1224x504 with 1 Axes>"
      ]
     },
     "metadata": {},
     "output_type": "display_data"
    }
   ],
   "source": [
    "#Histogram of the Yelp Parks Rating dataset\n",
    "histogram_yelp = sns.distplot(df_analysis['rating'], kde = False)\n",
    "histogram_yelp.set(xlabel= 'Yelp Park Rating')\n",
    "histogram_yelp.set_title('Histogram of Yelp Park Rating Dataset');"
   ]
  },
  {
   "cell_type": "markdown",
   "metadata": {},
   "source": [
    "The histogram above displays the Yelp ratings of parks within the city of San Diego. This shows that the majority of the parks are rated above 2.5, which implies that the parks within San Diego are better than average by the public's standard."
   ]
  },
  {
   "cell_type": "markdown",
   "metadata": {},
   "source": [
    "## Results"
   ]
  },
  {
   "cell_type": "code",
   "execution_count": 28,
   "metadata": {},
   "outputs": [
    {
     "data": {
      "image/png": "[encoded data removed]",
      "text/plain": [
       "<Figure size 1224x504 with 1 Axes>"
      ]
     },
     "metadata": {},
     "output_type": "display_data"
    }
   ],
   "source": [
    "#Plot a scatterplot of OCI scores and Yelp Ratings from the Analysis Dataframe.\n",
    "    \n",
    "scatterplot = sns.scatterplot(x='oci', y='rating', alpha=0.3, data=df_analysis, s=100)\n",
    "plt.ylim(ymin=0)\n",
    "plt.xlabel('OCI on Street')\n",
    "plt.ylabel('Yelp Park Ratings')\n",
    "scatterplot.set_title('Scatterplot of Yelp Park Ratings and OCI Scores');"
   ]
  },
  {
   "cell_type": "code",
   "execution_count": 29,
   "metadata": {},
   "outputs": [],
   "source": [
    "#whether OCI Score (predictor) impacts Yelp Rating (outcome).\n",
    "outcome, predictors = patsy.dmatrices('rating ~ oci', df_analysis)"
   ]
  },
  {
   "cell_type": "code",
   "execution_count": 30,
   "metadata": {},
   "outputs": [
    {
     "name": "stdout",
     "output_type": "stream",
     "text": [
      "                            OLS Regression Results                            \n",
      "==============================================================================\n",
      "Dep. Variable:                 rating   R-squared:                       0.000\n",
      "Model:                            OLS   Adj. R-squared:                 -0.003\n",
      "Method:                 Least Squares   F-statistic:                   0.02054\n",
      "Date:                Wed, 16 Dec 2020   Prob (F-statistic):              0.886\n",
      "Time:                        00:48:23   Log-Likelihood:                -462.51\n",
      "No. Observations:                 384   AIC:                             929.0\n",
      "Df Residuals:                     382   BIC:                             936.9\n",
      "Df Model:                           1                                         \n",
      "Covariance Type:            nonrobust                                         \n",
      "==============================================================================\n",
      "                 coef    std err          t      P>|t|      [0.025      0.975]\n",
      "------------------------------------------------------------------------------\n",
      "Intercept      3.9364      0.293     13.456      0.000       3.361       4.512\n",
      "oci            0.0006      0.004      0.143      0.886      -0.007       0.009\n",
      "==============================================================================\n",
      "Omnibus:                       62.163   Durbin-Watson:                   1.505\n",
      "Prob(Omnibus):                  0.000   Jarque-Bera (JB):               93.695\n",
      "Skew:                          -1.023   Prob(JB):                     4.51e-21\n",
      "Kurtosis:                       4.294   Cond. No.                         512.\n",
      "==============================================================================\n",
      "\n",
      "Warnings:\n",
      "[1] Standard Errors assume that the covariance matrix of the errors is correctly specified.\n"
     ]
    }
   ],
   "source": [
    "#run and fit model\n",
    "mod = sm.OLS(outcome, predictors)\n",
    "\n",
    "res = mod.fit()\n",
    "\n",
    "print(res.summary())"
   ]
  },
  {
   "cell_type": "markdown",
   "metadata": {},
   "source": [
    "If the OCI Score was 0, the Yelp Rating would be 3.9364. For every 1 unit increase in OCI Score, you expect to see a 0.0006 unit increase in Yelp Rating. In addition to this, the p-Value is 0.886, which is much higher than my alpha of 0.01. This means that the streets OCI score cannot significantly predict the Yelp ratings of parks on the corresponding street."
   ]
  },
  {
   "cell_type": "markdown",
   "metadata": {},
   "source": [
    "## Correlation"
   ]
  },
  {
   "cell_type": "code",
   "execution_count": 31,
   "metadata": {
    "scrolled": false
   },
   "outputs": [
    {
     "data": {
      "text/html": [
       "<div>\n",
       "<style scoped>\n",
       "    .dataframe tbody tr th:only-of-type {\n",
       "        vertical-align: middle;\n",
       "    }\n",
       "\n",
       "    .dataframe tbody tr th {\n",
       "        vertical-align: top;\n",
       "    }\n",
       "\n",
       "    .dataframe thead th {\n",
       "        text-align: right;\n",
       "    }\n",
       "</style>\n",
       "<table border=\"1\" class=\"dataframe\">\n",
       "  <thead>\n",
       "    <tr style=\"text-align: right;\">\n",
       "      <th></th>\n",
       "      <th>rating</th>\n",
       "      <th>oci</th>\n",
       "    </tr>\n",
       "  </thead>\n",
       "  <tbody>\n",
       "    <tr>\n",
       "      <th>rating</th>\n",
       "      <td>1.000000</td>\n",
       "      <td>0.007333</td>\n",
       "    </tr>\n",
       "    <tr>\n",
       "      <th>oci</th>\n",
       "      <td>0.007333</td>\n",
       "      <td>1.000000</td>\n",
       "    </tr>\n",
       "  </tbody>\n",
       "</table>\n",
       "</div>"
      ],
      "text/plain": [
       "          rating       oci\n",
       "rating  1.000000  0.007333\n",
       "oci     0.007333  1.000000"
      ]
     },
     "execution_count": 31,
     "metadata": {},
     "output_type": "execute_result"
    }
   ],
   "source": [
    "#Correlation between OCI & Rating\n",
    "corrs = df_analysis.corr()\n",
    "corrs"
   ]
  },
  {
   "cell_type": "markdown",
   "metadata": {},
   "source": [
    "The correlation between the OCI street scores and the Yelp ratings of parks along the corresponding streets is 0.0073, which shows that there is little to no correlation between the two variables."
   ]
  },
  {
   "cell_type": "markdown",
   "metadata": {},
   "source": [
    "# Ethics & Privacy"
   ]
  },
  {
   "cell_type": "markdown",
   "metadata": {},
   "source": [
    "Because both of my datasets were published to the public, I had permission to use them for my project. There were not privacy concerns with both of my datasets because I did not use any private information from either datasets, since I dropped any of the columns that may have had phone numbers, or specific addresses. The potential biases that the OCI dataset could have is because the data is collected by the city emmployees, there could be a bias to score the streets higher than they should be scored so that there would be less streets that would need to be budgeted to be fixed. Additionally, the Yelp parks rating dataset could potentially contain human biases because each park rating is composed of many individual human responses. "
   ]
  },
  {
   "cell_type": "markdown",
   "metadata": {},
   "source": [
    "# Conclusion & Discussion"
   ]
  },
  {
   "cell_type": "markdown",
   "metadata": {},
   "source": [
    "The main goal of my project is to answer my research question of whether there is a relationship between the Yelp park ratings and City of San Diego's Streets Overall Conditions Index scores. I used a dataset from Yelp that included the address as well as the rating of each park and a dataset from the City of San Diego that included street names within San Diego as well as the corresponding street overall conditions index (OCI) scores. My analysis included histograms of each dataset, a scatterplot of the datasets compared to each other, and a linear regressions model. My results included a p-Value of 0.886 and a correlation of 0.0073. From my results, I concluded that there was very little to no correlation between the two datasets. I also concluded that the streets OCI scores cannotsignificantly predict the Yelp ratings of parks on the corresponding street.\n",
    "\n",
    "A limitation to the Yelp park rating dataset that used was that the Yelp ratings are not precise decimals that are the average of all of the individual ratings. This means that the only values that Yelp ratings dataset would have are between 1 and 5 in 0.5 increments, which does not allow for precise comparison between the OCI scores and the Yelp park ratings. The impact of this project is that it shows that there is no correlation between the quality of the street infrastructure and the quality of the parks that are on the corresponding streets. This may imply that despite poor street infrastructure, the quality of public amenities like parks could still be in high quality."
   ]
  }
 ],
 "metadata": {
  "kernelspec": {
   "display_name": "Python 3",
   "language": "python",
   "name": "python3"
  },
  "language_info": {
   "codemirror_mode": {
    "name": "ipython",
    "version": 3
   },
   "file_extension": ".py",
   "mimetype": "text/x-python",
   "name": "python",
   "nbconvert_exporter": "python",
   "pygments_lexer": "ipython3",
   "version": "3.8.3"
  }
 },
 "nbformat": 4,
 "nbformat_minor": 2
}
