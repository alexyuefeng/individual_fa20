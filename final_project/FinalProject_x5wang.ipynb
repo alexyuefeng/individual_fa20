{
 "cells": [
  {
   "cell_type": "markdown",
   "metadata": {},
   "source": [
    "# COGS 108 - Final Project "
   ]
  },
  {
   "cell_type": "markdown",
   "metadata": {},
   "source": [
    "# Overview"
   ]
  },
  {
   "cell_type": "markdown",
   "metadata": {},
   "source": [
    "This project analyzes San Diego Park Yelp reviews data by text analysis. First, I found the most common words in those reviews; then, I used improved technique TF-IDF to find the most unique and important words; finally, I used Support Vector Machine to classify and predict the five-rate parks from reviews. "
   ]
  },
  {
   "cell_type": "markdown",
   "metadata": {},
   "source": [
    "# Name & GitHub ID\n",
    "\n",
    "- Name: Xinkai Wang\n",
    "- GitHub Username: x5wang"
   ]
  },
  {
   "cell_type": "markdown",
   "metadata": {},
   "source": [
    "# Research Question"
   ]
  },
  {
   "cell_type": "markdown",
   "metadata": {},
   "source": [
    "How do most people evaluate San Diego Parks? Could we infer a person's rating of a park from his/her review?"
   ]
  },
  {
   "cell_type": "markdown",
   "metadata": {},
   "source": [
    "## Background and Prior Work"
   ]
  },
  {
   "cell_type": "markdown",
   "metadata": {},
   "source": [
    "Parks are important components of people's lives in a city, particularly in San Diego where parks offer people a place to chill out and enjoy their free time. Hence, it is important to hear from people: if people talk about something a lot, then it is prabably a distinguishing feature of San Diego Parks to be preserved; otherwise, if the parks have some features intended to be compelling but not in reality, then those are the places where San Diego Parks could be improved. \n",
    "\n",
    "Currently, articles and journals focus on the access and facilities San Diego Parks could improve on. By looking at the most popular words from reviews, we could gain some insights in what the popular facilities are and how people think of them, like dog area, parking lots, walk roads, etc. Specifically, San Diego Parks manage to provide sports facilities, so we can see what sports facilities people mention often to determine what kinds of spaces should be incorporated. \n",
    "\n",
    "For this project, we are not focusing on sports facilities, but how people evaluate San Diego Parks in general and how positive their evaluations are. Then, further analyses could be done to select the words related to facilities to accomplish the tasks many articles and journals are considering. If people want to learn more about San Diego Parks, please take a look at the resources below:\n",
    "\n",
    "First, it is helpful to have access to all the locations of parks and recreation centers in San Diego. We can take a look at the official website of San Diego government that provided the authentative data, including the basic information of each location of parks and recreation centers. They are referenced in links 1 and 2. \n",
    "\n",
    "Second, there is a website that provides the \"concept design\" for many San Diego parks, and each design contains the map of the park as well as the park facilities inside the park. This is the background information to consider the inclusion of specific park elements such as trees, dog zones, benches as possibly the major factors that make the park more popular than others. It is referenced in link 3. \n",
    "\n",
    "Third, there is a relevant research that concerns about what groups of youths are involved in parks and recreation centers. Indeed, park and recreation facilities play a large role for youths, and by understanding how the specific factors like age, gender make some places more popular, we could know more about what facilities to be incorporated to better suit for the needs of the majority group of youths who are more likely to spend time in parks and recreation centers in San Diego. It is referenced in link 4. \n",
    "\n",
    "References:\n",
    "- 1) Park Locations: https://data.sandiego.gov/datasets/park-locations/\n",
    "- 2) Recreation Center Locations: https://data.sandiego.gov/datasets/recreation-center-locations/\n",
    "- 3) Parks Development Plans: https://www.sdparks.org/content/sdparks/en/AboutUs/Plans/ParksImprovementPlan.html\n",
    "- 4) Parks and Recreation Centers for promoting youth physical activities: https://journals.sagepub.com/doi/abs/10.1177/1524839903258222?casa_token=zY4_gBWhS8IAAAAA%3Ap_asa_O6u4EuifWqB_G7J8XRx7DGqibROZNJpKHZ6lea2Gvr958MVPN_L5QGsdx_yW2ZR0UGvITd&"
   ]
  },
  {
   "cell_type": "markdown",
   "metadata": {},
   "source": [
    "# Hypothesis\n"
   ]
  },
  {
   "cell_type": "markdown",
   "metadata": {},
   "source": [
    "Many people tend to use general words like \"great\", \"nice\", possibly features like \"dog area\", \"bench\", since we are considering the most common words; also, we might be able to construct a model to predict 5-rate parks pretty accurately from reviews, since typically 5.0 ratings are with lots of positive words to be identified. "
   ]
  },
  {
   "cell_type": "markdown",
   "metadata": {},
   "source": [
    "# Dataset(s)"
   ]
  },
  {
   "cell_type": "markdown",
   "metadata": {},
   "source": [
    "- Dataset Name: San Diego Park Information\n",
    "- Link to the dataset: https://www.yelp.com/\n",
    "- Number of observations: 833\n",
    "\n",
    "This dataset contains basic information about each of the 833 San Diego Parks, as well as the rating and review counts of each park. \n",
    "\n",
    "- Dataset Name: San Diego Park Reviews\n",
    "- Link to the dataset: https://www.yelp.com/\n",
    "- Number of observations: 2333\n",
    "\n",
    "This dataset contains 2333 ratings of various San Diego Parks along with the text of the associated reviews from the ratings. "
   ]
  },
  {
   "cell_type": "markdown",
   "metadata": {},
   "source": [
    "# Setup"
   ]
  },
  {
   "cell_type": "markdown",
   "metadata": {},
   "source": [
    "Let's first import the relevant packages. "
   ]
  },
  {
   "cell_type": "code",
   "execution_count": 1,
   "metadata": {},
   "outputs": [],
   "source": [
    "# numpy, pandas, matplotlib, seaborn setup\n",
    "import numpy as np\n",
    "import pandas as pd\n",
    "import matplotlib.pyplot as plt\n",
    "plt.rcParams['figure.figsize'] = (17, 7)\n",
    "plt.rcParams.update({'font.size': 14})\n",
    "import seaborn as sns\n",
    "\n",
    "# import natural language toolkit\n",
    "import nltk"
   ]
  },
  {
   "cell_type": "markdown",
   "metadata": {},
   "source": [
    "Below is the head data to take a look. "
   ]
  },
  {
   "cell_type": "code",
   "execution_count": 2,
   "metadata": {},
   "outputs": [
    {
     "data": {
      "text/html": [
       "<div>\n",
       "<style scoped>\n",
       "    .dataframe tbody tr th:only-of-type {\n",
       "        vertical-align: middle;\n",
       "    }\n",
       "\n",
       "    .dataframe tbody tr th {\n",
       "        vertical-align: top;\n",
       "    }\n",
       "\n",
       "    .dataframe thead th {\n",
       "        text-align: right;\n",
       "    }\n",
       "</style>\n",
       "<table border=\"1\" class=\"dataframe\">\n",
       "  <thead>\n",
       "    <tr style=\"text-align: right;\">\n",
       "      <th></th>\n",
       "      <th>name</th>\n",
       "      <th>address</th>\n",
       "      <th>phone</th>\n",
       "      <th>id</th>\n",
       "      <th>url</th>\n",
       "      <th>rating</th>\n",
       "      <th>review_count</th>\n",
       "      <th>longitude</th>\n",
       "      <th>latitude</th>\n",
       "      <th>is_closed</th>\n",
       "    </tr>\n",
       "  </thead>\n",
       "  <tbody>\n",
       "    <tr>\n",
       "      <th>0</th>\n",
       "      <td>Balboa Park</td>\n",
       "      <td>1549 El Prado San Diego, CA 92101</td>\n",
       "      <td>1.619239e+10</td>\n",
       "      <td>9M_FW_-Ipx93I36w-_ykBg</td>\n",
       "      <td>https://www.yelp.com/biz/balboa-park-san-diego...</td>\n",
       "      <td>5.0</td>\n",
       "      <td>2105</td>\n",
       "      <td>-117.153150</td>\n",
       "      <td>32.734502</td>\n",
       "      <td>False</td>\n",
       "    </tr>\n",
       "    <tr>\n",
       "      <th>1</th>\n",
       "      <td>Civita Park</td>\n",
       "      <td>7960 Civita Blvd San Diego, CA 92108</td>\n",
       "      <td>NaN</td>\n",
       "      <td>3AEHjqNrTmggA6G9VdhQfg</td>\n",
       "      <td>https://www.yelp.com/biz/civita-park-san-diego...</td>\n",
       "      <td>4.5</td>\n",
       "      <td>46</td>\n",
       "      <td>-117.147278</td>\n",
       "      <td>32.778315</td>\n",
       "      <td>False</td>\n",
       "    </tr>\n",
       "    <tr>\n",
       "      <th>2</th>\n",
       "      <td>Waterfront Park</td>\n",
       "      <td>1600 Pacific Hwy San Diego, CA 92101</td>\n",
       "      <td>1.619233e+10</td>\n",
       "      <td>3unbJeYrn1RmInZGmjp80g</td>\n",
       "      <td>https://www.yelp.com/biz/waterfront-park-san-d...</td>\n",
       "      <td>4.5</td>\n",
       "      <td>242</td>\n",
       "      <td>-117.172479</td>\n",
       "      <td>32.721952</td>\n",
       "      <td>False</td>\n",
       "    </tr>\n",
       "    <tr>\n",
       "      <th>3</th>\n",
       "      <td>Trolley Barn Park</td>\n",
       "      <td>Adams Ave And Florida St San Diego, CA 92116</td>\n",
       "      <td>NaN</td>\n",
       "      <td>PvHxIYrmaiFKdWUDTMDzcg</td>\n",
       "      <td>https://www.yelp.com/biz/trolley-barn-park-san...</td>\n",
       "      <td>4.5</td>\n",
       "      <td>102</td>\n",
       "      <td>-117.143789</td>\n",
       "      <td>32.762463</td>\n",
       "      <td>False</td>\n",
       "    </tr>\n",
       "    <tr>\n",
       "      <th>4</th>\n",
       "      <td>Bay View Park</td>\n",
       "      <td>413 1st St Coronado, CA 92118</td>\n",
       "      <td>NaN</td>\n",
       "      <td>6IF4VB9-fkv_F-LBvG8ppQ</td>\n",
       "      <td>https://www.yelp.com/biz/bay-view-park-coronad...</td>\n",
       "      <td>5.0</td>\n",
       "      <td>42</td>\n",
       "      <td>-117.178967</td>\n",
       "      <td>32.701785</td>\n",
       "      <td>False</td>\n",
       "    </tr>\n",
       "  </tbody>\n",
       "</table>\n",
       "</div>"
      ],
      "text/plain": [
       "                name                                       address  \\\n",
       "0        Balboa Park             1549 El Prado San Diego, CA 92101   \n",
       "1        Civita Park          7960 Civita Blvd San Diego, CA 92108   \n",
       "2    Waterfront Park          1600 Pacific Hwy San Diego, CA 92101   \n",
       "3  Trolley Barn Park  Adams Ave And Florida St San Diego, CA 92116   \n",
       "4      Bay View Park                 413 1st St Coronado, CA 92118   \n",
       "\n",
       "          phone                      id  \\\n",
       "0  1.619239e+10  9M_FW_-Ipx93I36w-_ykBg   \n",
       "1           NaN  3AEHjqNrTmggA6G9VdhQfg   \n",
       "2  1.619233e+10  3unbJeYrn1RmInZGmjp80g   \n",
       "3           NaN  PvHxIYrmaiFKdWUDTMDzcg   \n",
       "4           NaN  6IF4VB9-fkv_F-LBvG8ppQ   \n",
       "\n",
       "                                                 url  rating  review_count  \\\n",
       "0  https://www.yelp.com/biz/balboa-park-san-diego...     5.0          2105   \n",
       "1  https://www.yelp.com/biz/civita-park-san-diego...     4.5            46   \n",
       "2  https://www.yelp.com/biz/waterfront-park-san-d...     4.5           242   \n",
       "3  https://www.yelp.com/biz/trolley-barn-park-san...     4.5           102   \n",
       "4  https://www.yelp.com/biz/bay-view-park-coronad...     5.0            42   \n",
       "\n",
       "    longitude   latitude  is_closed  \n",
       "0 -117.153150  32.734502      False  \n",
       "1 -117.147278  32.778315      False  \n",
       "2 -117.172479  32.721952      False  \n",
       "3 -117.143789  32.762463      False  \n",
       "4 -117.178967  32.701785      False  "
      ]
     },
     "execution_count": 2,
     "metadata": {},
     "output_type": "execute_result"
    }
   ],
   "source": [
    "df_parks = pd.read_csv('yelp_SD_parks.csv')\n",
    "df_parks.head()"
   ]
  },
  {
   "cell_type": "code",
   "execution_count": 3,
   "metadata": {},
   "outputs": [
    {
     "data": {
      "text/html": [
       "<div>\n",
       "<style scoped>\n",
       "    .dataframe tbody tr th:only-of-type {\n",
       "        vertical-align: middle;\n",
       "    }\n",
       "\n",
       "    .dataframe tbody tr th {\n",
       "        vertical-align: top;\n",
       "    }\n",
       "\n",
       "    .dataframe thead th {\n",
       "        text-align: right;\n",
       "    }\n",
       "</style>\n",
       "<table border=\"1\" class=\"dataframe\">\n",
       "  <thead>\n",
       "    <tr style=\"text-align: right;\">\n",
       "      <th></th>\n",
       "      <th>id</th>\n",
       "      <th>rating</th>\n",
       "      <th>text</th>\n",
       "    </tr>\n",
       "  </thead>\n",
       "  <tbody>\n",
       "    <tr>\n",
       "      <th>0</th>\n",
       "      <td>Balboa Park</td>\n",
       "      <td>5</td>\n",
       "      <td>Balboa Park is a must see when coming to San D...</td>\n",
       "    </tr>\n",
       "    <tr>\n",
       "      <th>1</th>\n",
       "      <td>Balboa Park</td>\n",
       "      <td>5</td>\n",
       "      <td>Beautiful grounds even to take a stroll during...</td>\n",
       "    </tr>\n",
       "    <tr>\n",
       "      <th>2</th>\n",
       "      <td>Balboa Park</td>\n",
       "      <td>5</td>\n",
       "      <td>Beautiful sightseeing in San Diego. Lots of wa...</td>\n",
       "    </tr>\n",
       "    <tr>\n",
       "      <th>3</th>\n",
       "      <td>Civita Park</td>\n",
       "      <td>5</td>\n",
       "      <td>Was invited to child's B-Day party pre Covid-1...</td>\n",
       "    </tr>\n",
       "    <tr>\n",
       "      <th>4</th>\n",
       "      <td>Civita Park</td>\n",
       "      <td>5</td>\n",
       "      <td>Pretty nice park, beautiful design.  Anyone is...</td>\n",
       "    </tr>\n",
       "  </tbody>\n",
       "</table>\n",
       "</div>"
      ],
      "text/plain": [
       "            id  rating                                               text\n",
       "0  Balboa Park       5  Balboa Park is a must see when coming to San D...\n",
       "1  Balboa Park       5  Beautiful grounds even to take a stroll during...\n",
       "2  Balboa Park       5  Beautiful sightseeing in San Diego. Lots of wa...\n",
       "3  Civita Park       5  Was invited to child's B-Day party pre Covid-1...\n",
       "4  Civita Park       5  Pretty nice park, beautiful design.  Anyone is..."
      ]
     },
     "execution_count": 3,
     "metadata": {},
     "output_type": "execute_result"
    }
   ],
   "source": [
    "df_reviews = pd.read_csv('yelp_SD_reviews.csv')\n",
    "df_reviews.head()"
   ]
  },
  {
   "cell_type": "code",
   "execution_count": 4,
   "metadata": {},
   "outputs": [
    {
     "name": "stdout",
     "output_type": "stream",
     "text": [
      "(833, 10) (2333, 3)\n"
     ]
    }
   ],
   "source": [
    "# information about rows and columns\n",
    "print(df_parks.shape, df_reviews.shape)"
   ]
  },
  {
   "cell_type": "markdown",
   "metadata": {},
   "source": [
    "# Data Cleaning"
   ]
  },
  {
   "cell_type": "markdown",
   "metadata": {},
   "source": [
    "We need to check how may nonresponses there are from each variable. "
   ]
  },
  {
   "cell_type": "code",
   "execution_count": 5,
   "metadata": {},
   "outputs": [
    {
     "data": {
      "text/plain": [
       "name              0\n",
       "address           0\n",
       "phone           254\n",
       "id                0\n",
       "url               0\n",
       "rating            0\n",
       "review_count      0\n",
       "longitude         1\n",
       "latitude          1\n",
       "is_closed         0\n",
       "dtype: int64"
      ]
     },
     "execution_count": 5,
     "metadata": {},
     "output_type": "execute_result"
    }
   ],
   "source": [
    "df_parks.isnull().sum()"
   ]
  },
  {
   "cell_type": "markdown",
   "metadata": {},
   "source": [
    "Since we do not need the specific park details for our analysis, we can just drop those columns. "
   ]
  },
  {
   "cell_type": "code",
   "execution_count": 6,
   "metadata": {},
   "outputs": [
    {
     "data": {
      "text/html": [
       "<div>\n",
       "<style scoped>\n",
       "    .dataframe tbody tr th:only-of-type {\n",
       "        vertical-align: middle;\n",
       "    }\n",
       "\n",
       "    .dataframe tbody tr th {\n",
       "        vertical-align: top;\n",
       "    }\n",
       "\n",
       "    .dataframe thead th {\n",
       "        text-align: right;\n",
       "    }\n",
       "</style>\n",
       "<table border=\"1\" class=\"dataframe\">\n",
       "  <thead>\n",
       "    <tr style=\"text-align: right;\">\n",
       "      <th></th>\n",
       "      <th>name</th>\n",
       "      <th>rating</th>\n",
       "      <th>review_count</th>\n",
       "    </tr>\n",
       "  </thead>\n",
       "  <tbody>\n",
       "    <tr>\n",
       "      <th>0</th>\n",
       "      <td>Balboa Park</td>\n",
       "      <td>5.0</td>\n",
       "      <td>2105</td>\n",
       "    </tr>\n",
       "    <tr>\n",
       "      <th>1</th>\n",
       "      <td>Civita Park</td>\n",
       "      <td>4.5</td>\n",
       "      <td>46</td>\n",
       "    </tr>\n",
       "    <tr>\n",
       "      <th>2</th>\n",
       "      <td>Waterfront Park</td>\n",
       "      <td>4.5</td>\n",
       "      <td>242</td>\n",
       "    </tr>\n",
       "    <tr>\n",
       "      <th>3</th>\n",
       "      <td>Trolley Barn Park</td>\n",
       "      <td>4.5</td>\n",
       "      <td>102</td>\n",
       "    </tr>\n",
       "    <tr>\n",
       "      <th>4</th>\n",
       "      <td>Bay View Park</td>\n",
       "      <td>5.0</td>\n",
       "      <td>42</td>\n",
       "    </tr>\n",
       "  </tbody>\n",
       "</table>\n",
       "</div>"
      ],
      "text/plain": [
       "                name  rating  review_count\n",
       "0        Balboa Park     5.0          2105\n",
       "1        Civita Park     4.5            46\n",
       "2    Waterfront Park     4.5           242\n",
       "3  Trolley Barn Park     4.5           102\n",
       "4      Bay View Park     5.0            42"
      ]
     },
     "execution_count": 6,
     "metadata": {},
     "output_type": "execute_result"
    }
   ],
   "source": [
    "df_parks = df_parks[['name', 'rating', 'review_count']]\n",
    "df_parks.head()"
   ]
  },
  {
   "cell_type": "markdown",
   "metadata": {},
   "source": [
    "Then, we check the other dataset, and there are no null values, so we do not need to worry about cleaning the data. "
   ]
  },
  {
   "cell_type": "code",
   "execution_count": 7,
   "metadata": {},
   "outputs": [
    {
     "data": {
      "text/plain": [
       "id        0\n",
       "rating    0\n",
       "text      0\n",
       "dtype: int64"
      ]
     },
     "execution_count": 7,
     "metadata": {},
     "output_type": "execute_result"
    }
   ],
   "source": [
    "# how many nonresponses\n",
    "df_reviews.isnull().sum()"
   ]
  },
  {
   "cell_type": "markdown",
   "metadata": {},
   "source": [
    "# Data Analysis & Results"
   ]
  },
  {
   "cell_type": "markdown",
   "metadata": {},
   "source": [
    "We can first visualize the distributions of ratings to get a sense of how well people evaluate those parks. "
   ]
  },
  {
   "cell_type": "code",
   "execution_count": 8,
   "metadata": {},
   "outputs": [
    {
     "data": {
      "text/plain": [
       "<seaborn.axisgrid.FacetGrid at 0x7fc2d0ee7340>"
      ]
     },
     "execution_count": 8,
     "metadata": {},
     "output_type": "execute_result"
    },
    {
     "data": {
      "image/png": "[encoded data removed]",
      "text/plain": [
       "<Figure size 360x360 with 1 Axes>"
      ]
     },
     "metadata": {
      "needs_background": "light"
     },
     "output_type": "display_data"
    }
   ],
   "source": [
    "sns.displot(df_parks['rating'], bins=8)"
   ]
  },
  {
   "cell_type": "code",
   "execution_count": 9,
   "metadata": {},
   "outputs": [
    {
     "data": {
      "text/plain": [
       "<seaborn.axisgrid.FacetGrid at 0x7fc2d1100ca0>"
      ]
     },
     "execution_count": 9,
     "metadata": {},
     "output_type": "execute_result"
    },
    {
     "data": {
      "image/png": "[encoded data removed]",
      "text/plain": [
       "<Figure size 360x360 with 1 Axes>"
      ]
     },
     "metadata": {
      "needs_background": "light"
     },
     "output_type": "display_data"
    }
   ],
   "source": [
    "sns.displot(df_reviews['rating'], bins=8)"
   ]
  },
  {
   "cell_type": "markdown",
   "metadata": {},
   "source": [
    "Both graphs are strongly skewed to the left, so people's reviews of the parks are fairly good. "
   ]
  },
  {
   "cell_type": "code",
   "execution_count": 47,
   "metadata": {},
   "outputs": [
    {
     "data": {
      "text/plain": [
       "<matplotlib.collections.PathCollection at 0x7fc2d263d610>"
      ]
     },
     "execution_count": 47,
     "metadata": {},
     "output_type": "execute_result"
    },
    {
     "data": {
      "image/png": "[encoded data removed]",
      "text/plain": [
       "<Figure size 1224x504 with 1 Axes>"
      ]
     },
     "metadata": {
      "needs_background": "light"
     },
     "output_type": "display_data"
    }
   ],
   "source": [
    "plt.scatter(df_parks['rating'], df_parks['review_count'])"
   ]
  },
  {
   "cell_type": "markdown",
   "metadata": {},
   "source": [
    "As we can see, there are more variations of review counts and higher review counts for 4.0 rating, and there are less variations and lower review counts for ratings both higher and lower from 4.0. \n",
    "\n",
    "Then, we are going to preprocess those reviews to trim the data. First, we will tokenize the words to separate them out from a sentence. "
   ]
  },
  {
   "cell_type": "code",
   "execution_count": 10,
   "metadata": {},
   "outputs": [],
   "source": [
    "## import word tokenizer\n",
    "from nltk.tokenize import word_tokenize"
   ]
  },
  {
   "cell_type": "code",
   "execution_count": 11,
   "metadata": {},
   "outputs": [
    {
     "name": "stdout",
     "output_type": "stream",
     "text": [
      "['SOOO', 'beautiful', '.', 'My', 'best', 'friend', 'and', 'I', 'discovered', 'this', 'park', 'today', 'and', 'it', 'is', 'so', 'peaceful', 'and', 'has', 'tons', 'of', 'shade', '.', 'Such', 'a', 'friendly', 'environment', '..']\n"
     ]
    }
   ],
   "source": [
    "tokenized_word = word_tokenize(df_reviews.loc[100,'text'])\n",
    "print(tokenized_word)"
   ]
  },
  {
   "cell_type": "markdown",
   "metadata": {},
   "source": [
    "Here, we have added a new column with tokenized words. "
   ]
  },
  {
   "cell_type": "code",
   "execution_count": 12,
   "metadata": {},
   "outputs": [
    {
     "data": {
      "text/html": [
       "<div>\n",
       "<style scoped>\n",
       "    .dataframe tbody tr th:only-of-type {\n",
       "        vertical-align: middle;\n",
       "    }\n",
       "\n",
       "    .dataframe tbody tr th {\n",
       "        vertical-align: top;\n",
       "    }\n",
       "\n",
       "    .dataframe thead th {\n",
       "        text-align: right;\n",
       "    }\n",
       "</style>\n",
       "<table border=\"1\" class=\"dataframe\">\n",
       "  <thead>\n",
       "    <tr style=\"text-align: right;\">\n",
       "      <th></th>\n",
       "      <th>id</th>\n",
       "      <th>rating</th>\n",
       "      <th>text</th>\n",
       "      <th>token</th>\n",
       "    </tr>\n",
       "  </thead>\n",
       "  <tbody>\n",
       "    <tr>\n",
       "      <th>0</th>\n",
       "      <td>Balboa Park</td>\n",
       "      <td>5</td>\n",
       "      <td>Balboa Park is a must see when coming to San D...</td>\n",
       "      <td>[Balboa, Park, is, a, must, see, when, coming,...</td>\n",
       "    </tr>\n",
       "    <tr>\n",
       "      <th>1</th>\n",
       "      <td>Balboa Park</td>\n",
       "      <td>5</td>\n",
       "      <td>Beautiful grounds even to take a stroll during...</td>\n",
       "      <td>[Beautiful, grounds, even, to, take, a, stroll...</td>\n",
       "    </tr>\n",
       "    <tr>\n",
       "      <th>2</th>\n",
       "      <td>Balboa Park</td>\n",
       "      <td>5</td>\n",
       "      <td>Beautiful sightseeing in San Diego. Lots of wa...</td>\n",
       "      <td>[Beautiful, sightseeing, in, San, Diego, ., Lo...</td>\n",
       "    </tr>\n",
       "    <tr>\n",
       "      <th>3</th>\n",
       "      <td>Civita Park</td>\n",
       "      <td>5</td>\n",
       "      <td>Was invited to child's B-Day party pre Covid-1...</td>\n",
       "      <td>[Was, invited, to, child, 's, B-Day, party, pr...</td>\n",
       "    </tr>\n",
       "    <tr>\n",
       "      <th>4</th>\n",
       "      <td>Civita Park</td>\n",
       "      <td>5</td>\n",
       "      <td>Pretty nice park, beautiful design.  Anyone is...</td>\n",
       "      <td>[Pretty, nice, park, ,, beautiful, design, ., ...</td>\n",
       "    </tr>\n",
       "  </tbody>\n",
       "</table>\n",
       "</div>"
      ],
      "text/plain": [
       "            id  rating                                               text  \\\n",
       "0  Balboa Park       5  Balboa Park is a must see when coming to San D...   \n",
       "1  Balboa Park       5  Beautiful grounds even to take a stroll during...   \n",
       "2  Balboa Park       5  Beautiful sightseeing in San Diego. Lots of wa...   \n",
       "3  Civita Park       5  Was invited to child's B-Day party pre Covid-1...   \n",
       "4  Civita Park       5  Pretty nice park, beautiful design.  Anyone is...   \n",
       "\n",
       "                                               token  \n",
       "0  [Balboa, Park, is, a, must, see, when, coming,...  \n",
       "1  [Beautiful, grounds, even, to, take, a, stroll...  \n",
       "2  [Beautiful, sightseeing, in, San, Diego, ., Lo...  \n",
       "3  [Was, invited, to, child, 's, B-Day, party, pr...  \n",
       "4  [Pretty, nice, park, ,, beautiful, design, ., ...  "
      ]
     },
     "execution_count": 12,
     "metadata": {},
     "output_type": "execute_result"
    }
   ],
   "source": [
    "df_reviews['token'] = df_reviews['text'].apply(word_tokenize)\n",
    "df_reviews.head()"
   ]
  },
  {
   "cell_type": "markdown",
   "metadata": {},
   "source": [
    "There are lots of words called stop words that are not meaningful, so we can just eliminate those words to filter the sentences. "
   ]
  },
  {
   "cell_type": "code",
   "execution_count": 13,
   "metadata": {},
   "outputs": [
    {
     "name": "stdout",
     "output_type": "stream",
     "text": [
      "{'your', 'nor', 'whom', 'during', 'd', 'was', 'ain', 'hadn', 'ma', 'isn', 'in', 'yourself', 'below', 'own', \"wasn't\", 'only', 'weren', \"mightn't\", 'by', 'wasn', 'll', 'herself', 'now', 'while', \"haven't\", 'and', 'have', 'once', 'a', 'himself', 'off', 'other', 'through', 'm', 'is', 'hers', 'to', 'won', 'theirs', 'or', 'their', 'ours', \"wouldn't\", 'she', 'those', 'yourselves', 'same', 'should', 'as', \"didn't\", 'them', 'too', 'what', \"mustn't\", 'has', 'further', 'all', \"should've\", 'from', 'who', 'will', 'did', 'how', 'just', 'into', \"hadn't\", \"hasn't\", 'until', 'her', \"she's\", 'this', 'before', 'then', 'can', 'because', 'you', 'our', 'with', 'both', 'needn', 'hasn', 'but', \"shouldn't\", \"shan't\", 'of', 'his', 'the', 'over', 'don', 'here', 'couldn', 'out', 'down', 'at', \"aren't\", 'these', 'were', 'mightn', 'be', 'than', 'no', \"you're\", 'do', 'there', 'haven', 't', \"you'll\", 'him', 'mustn', 'wouldn', \"you've\", 'any', 'few', 'its', 'i', 'doesn', 'myself', 'where', 'some', 'such', 'that', 'not', 'shan', 'y', \"couldn't\", 'up', 'having', 'why', 'which', 'ourselves', 'each', 'doing', 'between', 'we', 'it', \"that'll\", 're', 'being', \"it's\", 'most', 's', 'are', 'for', 'against', \"needn't\", \"weren't\", 'when', 'my', 'been', 'yours', 'he', 'does', 'didn', \"isn't\", 'if', 'more', 'they', 'themselves', 'itself', 'on', 'above', 'again', 'about', 've', 'aren', 'shouldn', \"won't\", 'o', 'me', 'an', 'very', \"doesn't\", \"don't\", 'so', \"you'd\", 'am', 'had', 'after', 'under'}\n"
     ]
    }
   ],
   "source": [
    "# import stop words\n",
    "from nltk.corpus import stopwords\n",
    "stop_words = set(stopwords.words('english'))\n",
    "\n",
    "# look at stop words\n",
    "print(stop_words)"
   ]
  },
  {
   "cell_type": "code",
   "execution_count": 14,
   "metadata": {},
   "outputs": [
    {
     "name": "stdout",
     "output_type": "stream",
     "text": [
      "Tokenized Sentence: ['SOOO', 'beautiful', '.', 'My', 'best', 'friend', 'and', 'I', 'discovered', 'this', 'park', 'today', 'and', 'it', 'is', 'so', 'peaceful', 'and', 'has', 'tons', 'of', 'shade', '.', 'Such', 'a', 'friendly', 'environment', '..']\n",
      "Filtered Sentence: ['SOOO', 'beautiful', '.', 'My', 'best', 'friend', 'I', 'discovered', 'park', 'today', 'peaceful', 'tons', 'shade', '.', 'Such', 'friendly', 'environment', '..']\n"
     ]
    }
   ],
   "source": [
    "# example of removing stop words\n",
    "filtered_sent = []\n",
    "for w in tokenized_word:\n",
    "    if w not in stop_words:\n",
    "        filtered_sent.append(w)\n",
    "print(\"Tokenized Sentence:\", tokenized_word)\n",
    "print(\"Filtered Sentence:\", filtered_sent)"
   ]
  },
  {
   "cell_type": "code",
   "execution_count": 15,
   "metadata": {
    "scrolled": false
   },
   "outputs": [
    {
     "data": {
      "text/html": [
       "<div>\n",
       "<style scoped>\n",
       "    .dataframe tbody tr th:only-of-type {\n",
       "        vertical-align: middle;\n",
       "    }\n",
       "\n",
       "    .dataframe tbody tr th {\n",
       "        vertical-align: top;\n",
       "    }\n",
       "\n",
       "    .dataframe thead th {\n",
       "        text-align: right;\n",
       "    }\n",
       "</style>\n",
       "<table border=\"1\" class=\"dataframe\">\n",
       "  <thead>\n",
       "    <tr style=\"text-align: right;\">\n",
       "      <th></th>\n",
       "      <th>id</th>\n",
       "      <th>rating</th>\n",
       "      <th>text</th>\n",
       "      <th>token</th>\n",
       "      <th>stop</th>\n",
       "    </tr>\n",
       "  </thead>\n",
       "  <tbody>\n",
       "    <tr>\n",
       "      <th>0</th>\n",
       "      <td>Balboa Park</td>\n",
       "      <td>5</td>\n",
       "      <td>Balboa Park is a must see when coming to San D...</td>\n",
       "      <td>[Balboa, Park, is, a, must, see, when, coming,...</td>\n",
       "      <td>[Balboa, Park, must, see, coming, San, Diego, ...</td>\n",
       "    </tr>\n",
       "    <tr>\n",
       "      <th>1</th>\n",
       "      <td>Balboa Park</td>\n",
       "      <td>5</td>\n",
       "      <td>Beautiful grounds even to take a stroll during...</td>\n",
       "      <td>[Beautiful, grounds, even, to, take, a, stroll...</td>\n",
       "      <td>[Beautiful, grounds, even, take, stroll, Covid...</td>\n",
       "    </tr>\n",
       "    <tr>\n",
       "      <th>2</th>\n",
       "      <td>Balboa Park</td>\n",
       "      <td>5</td>\n",
       "      <td>Beautiful sightseeing in San Diego. Lots of wa...</td>\n",
       "      <td>[Beautiful, sightseeing, in, San, Diego, ., Lo...</td>\n",
       "      <td>[Beautiful, sightseeing, San, Diego, ., Lots, ...</td>\n",
       "    </tr>\n",
       "    <tr>\n",
       "      <th>3</th>\n",
       "      <td>Civita Park</td>\n",
       "      <td>5</td>\n",
       "      <td>Was invited to child's B-Day party pre Covid-1...</td>\n",
       "      <td>[Was, invited, to, child, 's, B-Day, party, pr...</td>\n",
       "      <td>[Was, invited, child, 's, B-Day, party, pre, C...</td>\n",
       "    </tr>\n",
       "    <tr>\n",
       "      <th>4</th>\n",
       "      <td>Civita Park</td>\n",
       "      <td>5</td>\n",
       "      <td>Pretty nice park, beautiful design.  Anyone is...</td>\n",
       "      <td>[Pretty, nice, park, ,, beautiful, design, ., ...</td>\n",
       "      <td>[Pretty, nice, park, ,, beautiful, design, ., ...</td>\n",
       "    </tr>\n",
       "  </tbody>\n",
       "</table>\n",
       "</div>"
      ],
      "text/plain": [
       "            id  rating                                               text  \\\n",
       "0  Balboa Park       5  Balboa Park is a must see when coming to San D...   \n",
       "1  Balboa Park       5  Beautiful grounds even to take a stroll during...   \n",
       "2  Balboa Park       5  Beautiful sightseeing in San Diego. Lots of wa...   \n",
       "3  Civita Park       5  Was invited to child's B-Day party pre Covid-1...   \n",
       "4  Civita Park       5  Pretty nice park, beautiful design.  Anyone is...   \n",
       "\n",
       "                                               token  \\\n",
       "0  [Balboa, Park, is, a, must, see, when, coming,...   \n",
       "1  [Beautiful, grounds, even, to, take, a, stroll...   \n",
       "2  [Beautiful, sightseeing, in, San, Diego, ., Lo...   \n",
       "3  [Was, invited, to, child, 's, B-Day, party, pr...   \n",
       "4  [Pretty, nice, park, ,, beautiful, design, ., ...   \n",
       "\n",
       "                                                stop  \n",
       "0  [Balboa, Park, must, see, coming, San, Diego, ...  \n",
       "1  [Beautiful, grounds, even, take, stroll, Covid...  \n",
       "2  [Beautiful, sightseeing, San, Diego, ., Lots, ...  \n",
       "3  [Was, invited, child, 's, B-Day, party, pre, C...  \n",
       "4  [Pretty, nice, park, ,, beautiful, design, ., ...  "
      ]
     },
     "execution_count": 15,
     "metadata": {},
     "output_type": "execute_result"
    }
   ],
   "source": [
    "df_reviews['stop'] = df_reviews['token'].apply(lambda x: [item for item in x if item not in stop_words])\n",
    "df_reviews.head()"
   ]
  },
  {
   "cell_type": "markdown",
   "metadata": {},
   "source": [
    "Next, the words have different forms, so we need to standardize those words by stemming. "
   ]
  },
  {
   "cell_type": "code",
   "execution_count": 16,
   "metadata": {},
   "outputs": [
    {
     "name": "stdout",
     "output_type": "stream",
     "text": [
      "Filtered Sentence: ['SOOO', 'beautiful', '.', 'My', 'best', 'friend', 'I', 'discovered', 'park', 'today', 'peaceful', 'tons', 'shade', '.', 'Such', 'friendly', 'environment', '..']\n",
      "Stemmed Sentence: ['sooo', 'beauti', '.', 'My', 'best', 'friend', 'I', 'discov', 'park', 'today', 'peac', 'ton', 'shade', '.', 'such', 'friendli', 'environ', '..']\n"
     ]
    }
   ],
   "source": [
    "# stemming\n",
    "from nltk.stem import PorterStemmer\n",
    "\n",
    "ps = PorterStemmer()\n",
    "\n",
    "stemmed_words = []\n",
    "for w in filtered_sent:\n",
    "    stemmed_words.append(ps.stem(w))\n",
    "\n",
    "print(\"Filtered Sentence:\", filtered_sent)\n",
    "print(\"Stemmed Sentence:\", stemmed_words)"
   ]
  },
  {
   "cell_type": "code",
   "execution_count": 17,
   "metadata": {
    "scrolled": true
   },
   "outputs": [
    {
     "data": {
      "text/html": [
       "<div>\n",
       "<style scoped>\n",
       "    .dataframe tbody tr th:only-of-type {\n",
       "        vertical-align: middle;\n",
       "    }\n",
       "\n",
       "    .dataframe tbody tr th {\n",
       "        vertical-align: top;\n",
       "    }\n",
       "\n",
       "    .dataframe thead th {\n",
       "        text-align: right;\n",
       "    }\n",
       "</style>\n",
       "<table border=\"1\" class=\"dataframe\">\n",
       "  <thead>\n",
       "    <tr style=\"text-align: right;\">\n",
       "      <th></th>\n",
       "      <th>id</th>\n",
       "      <th>rating</th>\n",
       "      <th>text</th>\n",
       "      <th>token</th>\n",
       "      <th>stop</th>\n",
       "      <th>stem</th>\n",
       "    </tr>\n",
       "  </thead>\n",
       "  <tbody>\n",
       "    <tr>\n",
       "      <th>0</th>\n",
       "      <td>Balboa Park</td>\n",
       "      <td>5</td>\n",
       "      <td>Balboa Park is a must see when coming to San D...</td>\n",
       "      <td>[Balboa, Park, is, a, must, see, when, coming,...</td>\n",
       "      <td>[Balboa, Park, must, see, coming, San, Diego, ...</td>\n",
       "      <td>[balboa, park, must, see, come, san, diego, .,...</td>\n",
       "    </tr>\n",
       "    <tr>\n",
       "      <th>1</th>\n",
       "      <td>Balboa Park</td>\n",
       "      <td>5</td>\n",
       "      <td>Beautiful grounds even to take a stroll during...</td>\n",
       "      <td>[Beautiful, grounds, even, to, take, a, stroll...</td>\n",
       "      <td>[Beautiful, grounds, even, take, stroll, Covid...</td>\n",
       "      <td>[beauti, ground, even, take, stroll, covid, 's...</td>\n",
       "    </tr>\n",
       "    <tr>\n",
       "      <th>2</th>\n",
       "      <td>Balboa Park</td>\n",
       "      <td>5</td>\n",
       "      <td>Beautiful sightseeing in San Diego. Lots of wa...</td>\n",
       "      <td>[Beautiful, sightseeing, in, San, Diego, ., Lo...</td>\n",
       "      <td>[Beautiful, sightseeing, San, Diego, ., Lots, ...</td>\n",
       "      <td>[beauti, sightse, san, diego, ., lot, walkway,...</td>\n",
       "    </tr>\n",
       "    <tr>\n",
       "      <th>3</th>\n",
       "      <td>Civita Park</td>\n",
       "      <td>5</td>\n",
       "      <td>Was invited to child's B-Day party pre Covid-1...</td>\n",
       "      <td>[Was, invited, to, child, 's, B-Day, party, pr...</td>\n",
       "      <td>[Was, invited, child, 's, B-Day, party, pre, C...</td>\n",
       "      <td>[wa, invit, child, 's, b-day, parti, pre, covi...</td>\n",
       "    </tr>\n",
       "    <tr>\n",
       "      <th>4</th>\n",
       "      <td>Civita Park</td>\n",
       "      <td>5</td>\n",
       "      <td>Pretty nice park, beautiful design.  Anyone is...</td>\n",
       "      <td>[Pretty, nice, park, ,, beautiful, design, ., ...</td>\n",
       "      <td>[Pretty, nice, park, ,, beautiful, design, ., ...</td>\n",
       "      <td>[pretti, nice, park, ,, beauti, design, ., any...</td>\n",
       "    </tr>\n",
       "  </tbody>\n",
       "</table>\n",
       "</div>"
      ],
      "text/plain": [
       "            id  rating                                               text  \\\n",
       "0  Balboa Park       5  Balboa Park is a must see when coming to San D...   \n",
       "1  Balboa Park       5  Beautiful grounds even to take a stroll during...   \n",
       "2  Balboa Park       5  Beautiful sightseeing in San Diego. Lots of wa...   \n",
       "3  Civita Park       5  Was invited to child's B-Day party pre Covid-1...   \n",
       "4  Civita Park       5  Pretty nice park, beautiful design.  Anyone is...   \n",
       "\n",
       "                                               token  \\\n",
       "0  [Balboa, Park, is, a, must, see, when, coming,...   \n",
       "1  [Beautiful, grounds, even, to, take, a, stroll...   \n",
       "2  [Beautiful, sightseeing, in, San, Diego, ., Lo...   \n",
       "3  [Was, invited, to, child, 's, B-Day, party, pr...   \n",
       "4  [Pretty, nice, park, ,, beautiful, design, ., ...   \n",
       "\n",
       "                                                stop  \\\n",
       "0  [Balboa, Park, must, see, coming, San, Diego, ...   \n",
       "1  [Beautiful, grounds, even, take, stroll, Covid...   \n",
       "2  [Beautiful, sightseeing, San, Diego, ., Lots, ...   \n",
       "3  [Was, invited, child, 's, B-Day, party, pre, C...   \n",
       "4  [Pretty, nice, park, ,, beautiful, design, ., ...   \n",
       "\n",
       "                                                stem  \n",
       "0  [balboa, park, must, see, come, san, diego, .,...  \n",
       "1  [beauti, ground, even, take, stroll, covid, 's...  \n",
       "2  [beauti, sightse, san, diego, ., lot, walkway,...  \n",
       "3  [wa, invit, child, 's, b-day, parti, pre, covi...  \n",
       "4  [pretti, nice, park, ,, beauti, design, ., any...  "
      ]
     },
     "execution_count": 17,
     "metadata": {},
     "output_type": "execute_result"
    }
   ],
   "source": [
    "df_reviews['stem'] = df_reviews['stop'].apply(lambda x: [ps.stem(y) for y in x])\n",
    "df_reviews.head()"
   ]
  },
  {
   "cell_type": "code",
   "execution_count": 18,
   "metadata": {},
   "outputs": [
    {
     "name": "stdout",
     "output_type": "stream",
     "text": [
      "0     0        balboa\n",
      "      1          park\n",
      "      2          must\n",
      "      3           see\n",
      "      4          come\n",
      "              ...    \n",
      "2332  14       highli\n",
      "      15    recommend\n",
      "      16    fairbrook\n",
      "      17         farm\n",
      "      18            !\n",
      "Length: 49068, dtype: object\n"
     ]
    }
   ],
   "source": [
    "# get series of all words after stemming\n",
    "words = df_reviews['stem'].apply(pd.Series).stack()\n",
    "print(words)"
   ]
  },
  {
   "cell_type": "markdown",
   "metadata": {},
   "source": [
    "Until this point we have preprocessed the words and we can visualize the most frequent words in reviews. "
   ]
  },
  {
   "cell_type": "code",
   "execution_count": 19,
   "metadata": {},
   "outputs": [],
   "source": [
    "from nltk.probability import FreqDist\n",
    "import string\n",
    "\n",
    "# calculation word frequency\n",
    "fdist_words = FreqDist(words)\n",
    "\n",
    "# remove punctuation counts\n",
    "for punc in string.punctuation:\n",
    "    del fdist_words[punc]"
   ]
  },
  {
   "cell_type": "code",
   "execution_count": 20,
   "metadata": {},
   "outputs": [
    {
     "data": {
      "text/plain": [
       "FreqDist({'...': 2187, 'I': 1737, 'park': 964, \"'s\": 510, 'the': 496, 'place': 404, 'thi': 364, 'great': 361, 'time': 302, 'It': 301, ...})"
      ]
     },
     "execution_count": 20,
     "metadata": {},
     "output_type": "execute_result"
    }
   ],
   "source": [
    "fdist_words"
   ]
  },
  {
   "cell_type": "code",
   "execution_count": 21,
   "metadata": {},
   "outputs": [
    {
     "data": {
      "image/png": "[encoded data removed]",
      "text/plain": [
       "<Figure size 1224x504 with 1 Axes>"
      ]
     },
     "metadata": {
      "needs_background": "light"
     },
     "output_type": "display_data"
    },
    {
     "data": {
      "text/plain": [
       "<AxesSubplot:xlabel='Samples', ylabel='Counts'>"
      ]
     },
     "execution_count": 21,
     "metadata": {},
     "output_type": "execute_result"
    }
   ],
   "source": [
    "# Frequency Distribution Plot - top 20 words used most frequently in reviews\n",
    "fdist_words.plot(20, cumulative=False)"
   ]
  },
  {
   "cell_type": "markdown",
   "metadata": {},
   "source": [
    "From this plot, \"great\", \"love\", \"nice\" are the distinguishing positive words, which are consistent with the high ratings of San Diego Parks; besides, those words are pretty general, which is consistent with our expectation. \n",
    "\n",
    "Next, we are doing a sentiment analysis. "
   ]
  },
  {
   "cell_type": "code",
   "execution_count": 22,
   "metadata": {},
   "outputs": [],
   "source": [
    "from nltk.sentiment.vader import SentimentIntensityAnalyzer \n",
    "analyser = SentimentIntensityAnalyzer()"
   ]
  },
  {
   "cell_type": "code",
   "execution_count": 23,
   "metadata": {},
   "outputs": [],
   "source": [
    "# get list of the 'sentences' (responses) from each individual\n",
    "words_list = list(df_reviews['text'].values)"
   ]
  },
  {
   "cell_type": "code",
   "execution_count": 24,
   "metadata": {},
   "outputs": [],
   "source": [
    "# create function that will output dataframe \n",
    "# that stores sentiment information\n",
    "def get_sentiments(input_list):\n",
    "    \n",
    "    output = pd.DataFrame()\n",
    "\n",
    "    for sentence in input_list:\n",
    "        ss = analyser.polarity_scores(sentence)\n",
    "        ss['sentence'] = sentence\n",
    "        output = output.append(ss, ignore_index=True)\n",
    "\n",
    "    return output"
   ]
  },
  {
   "cell_type": "code",
   "execution_count": 25,
   "metadata": {},
   "outputs": [
    {
     "data": {
      "text/html": [
       "<div>\n",
       "<style scoped>\n",
       "    .dataframe tbody tr th:only-of-type {\n",
       "        vertical-align: middle;\n",
       "    }\n",
       "\n",
       "    .dataframe tbody tr th {\n",
       "        vertical-align: top;\n",
       "    }\n",
       "\n",
       "    .dataframe thead th {\n",
       "        text-align: right;\n",
       "    }\n",
       "</style>\n",
       "<table border=\"1\" class=\"dataframe\">\n",
       "  <thead>\n",
       "    <tr style=\"text-align: right;\">\n",
       "      <th></th>\n",
       "      <th>compound</th>\n",
       "      <th>neg</th>\n",
       "      <th>neu</th>\n",
       "      <th>pos</th>\n",
       "      <th>sentence</th>\n",
       "    </tr>\n",
       "  </thead>\n",
       "  <tbody>\n",
       "    <tr>\n",
       "      <th>0</th>\n",
       "      <td>0.4215</td>\n",
       "      <td>0.0</td>\n",
       "      <td>0.909</td>\n",
       "      <td>0.091</td>\n",
       "      <td>Balboa Park is a must see when coming to San D...</td>\n",
       "    </tr>\n",
       "    <tr>\n",
       "      <th>1</th>\n",
       "      <td>0.9001</td>\n",
       "      <td>0.0</td>\n",
       "      <td>0.621</td>\n",
       "      <td>0.379</td>\n",
       "      <td>Beautiful grounds even to take a stroll during...</td>\n",
       "    </tr>\n",
       "    <tr>\n",
       "      <th>2</th>\n",
       "      <td>0.9360</td>\n",
       "      <td>0.0</td>\n",
       "      <td>0.557</td>\n",
       "      <td>0.443</td>\n",
       "      <td>Beautiful sightseeing in San Diego. Lots of wa...</td>\n",
       "    </tr>\n",
       "    <tr>\n",
       "      <th>3</th>\n",
       "      <td>0.8916</td>\n",
       "      <td>0.0</td>\n",
       "      <td>0.674</td>\n",
       "      <td>0.326</td>\n",
       "      <td>Was invited to child's B-Day party pre Covid-1...</td>\n",
       "    </tr>\n",
       "    <tr>\n",
       "      <th>4</th>\n",
       "      <td>0.9610</td>\n",
       "      <td>0.0</td>\n",
       "      <td>0.507</td>\n",
       "      <td>0.493</td>\n",
       "      <td>Pretty nice park, beautiful design.  Anyone is...</td>\n",
       "    </tr>\n",
       "  </tbody>\n",
       "</table>\n",
       "</div>"
      ],
      "text/plain": [
       "   compound  neg    neu    pos  \\\n",
       "0    0.4215  0.0  0.909  0.091   \n",
       "1    0.9001  0.0  0.621  0.379   \n",
       "2    0.9360  0.0  0.557  0.443   \n",
       "3    0.8916  0.0  0.674  0.326   \n",
       "4    0.9610  0.0  0.507  0.493   \n",
       "\n",
       "                                            sentence  \n",
       "0  Balboa Park is a must see when coming to San D...  \n",
       "1  Beautiful grounds even to take a stroll during...  \n",
       "2  Beautiful sightseeing in San Diego. Lots of wa...  \n",
       "3  Was invited to child's B-Day party pre Covid-1...  \n",
       "4  Pretty nice park, beautiful design.  Anyone is...  "
      ]
     },
     "execution_count": 25,
     "metadata": {},
     "output_type": "execute_result"
    }
   ],
   "source": [
    "# get sentiment measures\n",
    "sentiments = get_sentiments(words_list)\n",
    "sentiments.head()"
   ]
  },
  {
   "cell_type": "code",
   "execution_count": 26,
   "metadata": {},
   "outputs": [
    {
     "data": {
      "text/html": [
       "<div>\n",
       "<style scoped>\n",
       "    .dataframe tbody tr th:only-of-type {\n",
       "        vertical-align: middle;\n",
       "    }\n",
       "\n",
       "    .dataframe tbody tr th {\n",
       "        vertical-align: top;\n",
       "    }\n",
       "\n",
       "    .dataframe thead th {\n",
       "        text-align: right;\n",
       "    }\n",
       "</style>\n",
       "<table border=\"1\" class=\"dataframe\">\n",
       "  <thead>\n",
       "    <tr style=\"text-align: right;\">\n",
       "      <th></th>\n",
       "      <th>compound</th>\n",
       "      <th>neg</th>\n",
       "      <th>neu</th>\n",
       "      <th>pos</th>\n",
       "    </tr>\n",
       "  </thead>\n",
       "  <tbody>\n",
       "    <tr>\n",
       "      <th>count</th>\n",
       "      <td>2333.000000</td>\n",
       "      <td>2333.000000</td>\n",
       "      <td>2333.000000</td>\n",
       "      <td>2333.000000</td>\n",
       "    </tr>\n",
       "    <tr>\n",
       "      <th>mean</th>\n",
       "      <td>0.450423</td>\n",
       "      <td>0.030794</td>\n",
       "      <td>0.797502</td>\n",
       "      <td>0.171698</td>\n",
       "    </tr>\n",
       "    <tr>\n",
       "      <th>std</th>\n",
       "      <td>0.451691</td>\n",
       "      <td>0.059343</td>\n",
       "      <td>0.126518</td>\n",
       "      <td>0.128245</td>\n",
       "    </tr>\n",
       "    <tr>\n",
       "      <th>min</th>\n",
       "      <td>-0.918400</td>\n",
       "      <td>0.000000</td>\n",
       "      <td>0.343000</td>\n",
       "      <td>0.000000</td>\n",
       "    </tr>\n",
       "    <tr>\n",
       "      <th>25%</th>\n",
       "      <td>0.077200</td>\n",
       "      <td>0.000000</td>\n",
       "      <td>0.714000</td>\n",
       "      <td>0.082000</td>\n",
       "    </tr>\n",
       "    <tr>\n",
       "      <th>50%</th>\n",
       "      <td>0.611400</td>\n",
       "      <td>0.000000</td>\n",
       "      <td>0.804000</td>\n",
       "      <td>0.158000</td>\n",
       "    </tr>\n",
       "    <tr>\n",
       "      <th>75%</th>\n",
       "      <td>0.815800</td>\n",
       "      <td>0.054000</td>\n",
       "      <td>0.891000</td>\n",
       "      <td>0.256000</td>\n",
       "    </tr>\n",
       "    <tr>\n",
       "      <th>max</th>\n",
       "      <td>0.976300</td>\n",
       "      <td>0.506000</td>\n",
       "      <td>1.000000</td>\n",
       "      <td>0.622000</td>\n",
       "    </tr>\n",
       "  </tbody>\n",
       "</table>\n",
       "</div>"
      ],
      "text/plain": [
       "          compound          neg          neu          pos\n",
       "count  2333.000000  2333.000000  2333.000000  2333.000000\n",
       "mean      0.450423     0.030794     0.797502     0.171698\n",
       "std       0.451691     0.059343     0.126518     0.128245\n",
       "min      -0.918400     0.000000     0.343000     0.000000\n",
       "25%       0.077200     0.000000     0.714000     0.082000\n",
       "50%       0.611400     0.000000     0.804000     0.158000\n",
       "75%       0.815800     0.054000     0.891000     0.256000\n",
       "max       0.976300     0.506000     1.000000     0.622000"
      ]
     },
     "execution_count": 26,
     "metadata": {},
     "output_type": "execute_result"
    }
   ],
   "source": [
    "sentiments.describe()"
   ]
  },
  {
   "cell_type": "markdown",
   "metadata": {},
   "source": [
    "We can see that most words are neutral, which might be fact-based (people could just say we went to the park on Sunday and did some exercise) or due to the commonality of neutral words in sentences. Except those neutral words, 85% of the words are positive, and the rest 15% are negative, which indicates that people have good reviews for San Diego Parks in general. In the most extreme case, if we take a look at the maximum value in neg column, only 50% words are negative, so there are no mostly negative reviews. "
   ]
  },
  {
   "cell_type": "code",
   "execution_count": 27,
   "metadata": {},
   "outputs": [
    {
     "data": {
      "image/png": "[encoded data removed]",
      "text/plain": [
       "<Figure size 1224x504 with 1 Axes>"
      ]
     },
     "metadata": {
      "needs_background": "light"
     },
     "output_type": "display_data"
    }
   ],
   "source": [
    "sentiments['compound'].plot.density()\n",
    "plt.xlabel('Compound Sentiment Scores')\n",
    "plt.xlim(-1,1);"
   ]
  },
  {
   "cell_type": "markdown",
   "metadata": {},
   "source": [
    "There is a local maximum at 0, which represents some commonality of neutral words, but the global maximum is around 0.8 and much higher than the rest densities, which also proves that San Diego Parks review are pretty good. "
   ]
  },
  {
   "cell_type": "markdown",
   "metadata": {},
   "source": [
    "# TF-IDF"
   ]
  },
  {
   "cell_type": "markdown",
   "metadata": {},
   "source": [
    "Then, we will calculate TF-IDF to decrease the weights of commonly used words while increase the weights of words typically not widespread in documents. This can help us find the most unique and important words and exclude some neutral words. "
   ]
  },
  {
   "cell_type": "code",
   "execution_count": 28,
   "metadata": {},
   "outputs": [],
   "source": [
    "import string \n",
    "\n",
    "# lowercase text\n",
    "words = list(map(str.lower, words_list))\n",
    "\n",
    "# remove punctuation\n",
    "for c in string.punctuation:\n",
    "    words = str(words).replace(c, \"\")\n",
    "\n",
    "words = [words]"
   ]
  },
  {
   "cell_type": "code",
   "execution_count": 29,
   "metadata": {},
   "outputs": [],
   "source": [
    "from sklearn.feature_extraction.text import TfidfVectorizer"
   ]
  },
  {
   "cell_type": "code",
   "execution_count": 30,
   "metadata": {},
   "outputs": [],
   "source": [
    "# create vectorizer\n",
    "tfidf = TfidfVectorizer(sublinear_tf=True,\n",
    "                        analyzer='word',\n",
    "                        max_features=200,\n",
    "                        tokenizer=word_tokenize,\n",
    "                        stop_words=stop_words)"
   ]
  },
  {
   "cell_type": "code",
   "execution_count": 31,
   "metadata": {},
   "outputs": [
    {
     "name": "stderr",
     "output_type": "stream",
     "text": [
      "/Users/x5wang/opt/anaconda3/lib/python3.8/site-packages/sklearn/feature_extraction/text.py:383: UserWarning: Your stop_words may be inconsistent with your preprocessing. Tokenizing the stop words generated tokens [\"'d\", \"'ll\", \"'re\", \"'s\", \"'ve\", 'could', 'might', 'must', \"n't\", 'need', 'sha', 'wo', 'would'] not in stop_words.\n",
      "  warnings.warn('Your stop_words may be inconsistent with '\n"
     ]
    }
   ],
   "source": [
    "# calculate TF-IDF\n",
    "reviews_tfidf = pd.DataFrame(tfidf.fit_transform(words).toarray())\n",
    "reviews_tfidf.columns = tfidf.get_feature_names()"
   ]
  },
  {
   "cell_type": "code",
   "execution_count": 56,
   "metadata": {},
   "outputs": [
    {
     "data": {
      "text/html": [
       "<div>\n",
       "<style scoped>\n",
       "    .dataframe tbody tr th:only-of-type {\n",
       "        vertical-align: middle;\n",
       "    }\n",
       "\n",
       "    .dataframe tbody tr th {\n",
       "        vertical-align: top;\n",
       "    }\n",
       "\n",
       "    .dataframe thead th {\n",
       "        text-align: right;\n",
       "    }\n",
       "</style>\n",
       "<table border=\"1\" class=\"dataframe\">\n",
       "  <thead>\n",
       "    <tr style=\"text-align: right;\">\n",
       "      <th></th>\n",
       "      <th>park</th>\n",
       "      <th>place</th>\n",
       "      <th>great</th>\n",
       "      <th>time</th>\n",
       "      <th>san</th>\n",
       "      <th>nice</th>\n",
       "      <th>one</th>\n",
       "      <th>diego</th>\n",
       "      <th>love</th>\n",
       "      <th>little</th>\n",
       "      <th>area</th>\n",
       "      <th>get</th>\n",
       "      <th>good</th>\n",
       "      <th>dog</th>\n",
       "      <th>parking</th>\n",
       "      <th>like</th>\n",
       "      <th>years</th>\n",
       "      <th>well</th>\n",
       "      <th>really</th>\n",
       "      <th>beach</th>\n",
       "    </tr>\n",
       "  </thead>\n",
       "  <tbody>\n",
       "    <tr>\n",
       "      <th>0</th>\n",
       "      <td>0.105185</td>\n",
       "      <td>0.095137</td>\n",
       "      <td>0.094943</td>\n",
       "      <td>0.089067</td>\n",
       "      <td>0.088947</td>\n",
       "      <td>0.088582</td>\n",
       "      <td>0.088207</td>\n",
       "      <td>0.087085</td>\n",
       "      <td>0.085637</td>\n",
       "      <td>0.084852</td>\n",
       "      <td>0.084105</td>\n",
       "      <td>0.083759</td>\n",
       "      <td>0.083672</td>\n",
       "      <td>0.083133</td>\n",
       "      <td>0.082856</td>\n",
       "      <td>0.081789</td>\n",
       "      <td>0.081586</td>\n",
       "      <td>0.081275</td>\n",
       "      <td>0.081275</td>\n",
       "      <td>0.081064</td>\n",
       "    </tr>\n",
       "  </tbody>\n",
       "</table>\n",
       "</div>"
      ],
      "text/plain": [
       "       park     place     great      time       san      nice       one  \\\n",
       "0  0.105185  0.095137  0.094943  0.089067  0.088947  0.088582  0.088207   \n",
       "\n",
       "      diego      love    little      area       get      good       dog  \\\n",
       "0  0.087085  0.085637  0.084852  0.084105  0.083759  0.083672  0.083133   \n",
       "\n",
       "    parking      like     years      well    really     beach  \n",
       "0  0.082856  0.081789  0.081586  0.081275  0.081275  0.081064  "
      ]
     },
     "execution_count": 56,
     "metadata": {},
     "output_type": "execute_result"
    }
   ],
   "source": [
    "reviews_tfidf.sort_values(by=0, axis=1, ascending=False).iloc[:,:20]"
   ]
  },
  {
   "cell_type": "markdown",
   "metadata": {},
   "source": [
    "We can see that many features like \"dog areas\", \"parking\", \"beach\" increase their representation, and those features could be helpful to know to design parks in ways that people like more. Also, there are more generally positive words like \"good\", \"like\", and \"well\". "
   ]
  },
  {
   "cell_type": "markdown",
   "metadata": {},
   "source": [
    "# Support Vector Machine and Cross-Validation"
   ]
  },
  {
   "cell_type": "markdown",
   "metadata": {},
   "source": [
    "Now, we answering the second research question: could we infer a person's rating of a park from his/her review? First, we select the columns we need. "
   ]
  },
  {
   "cell_type": "code",
   "execution_count": 33,
   "metadata": {},
   "outputs": [
    {
     "data": {
      "text/html": [
       "<div>\n",
       "<style scoped>\n",
       "    .dataframe tbody tr th:only-of-type {\n",
       "        vertical-align: middle;\n",
       "    }\n",
       "\n",
       "    .dataframe tbody tr th {\n",
       "        vertical-align: top;\n",
       "    }\n",
       "\n",
       "    .dataframe thead th {\n",
       "        text-align: right;\n",
       "    }\n",
       "</style>\n",
       "<table border=\"1\" class=\"dataframe\">\n",
       "  <thead>\n",
       "    <tr style=\"text-align: right;\">\n",
       "      <th></th>\n",
       "      <th>rating</th>\n",
       "      <th>text</th>\n",
       "    </tr>\n",
       "  </thead>\n",
       "  <tbody>\n",
       "    <tr>\n",
       "      <th>0</th>\n",
       "      <td>5</td>\n",
       "      <td>Balboa Park is a must see when coming to San D...</td>\n",
       "    </tr>\n",
       "    <tr>\n",
       "      <th>1</th>\n",
       "      <td>5</td>\n",
       "      <td>Beautiful grounds even to take a stroll during...</td>\n",
       "    </tr>\n",
       "    <tr>\n",
       "      <th>2</th>\n",
       "      <td>5</td>\n",
       "      <td>Beautiful sightseeing in San Diego. Lots of wa...</td>\n",
       "    </tr>\n",
       "    <tr>\n",
       "      <th>3</th>\n",
       "      <td>5</td>\n",
       "      <td>Was invited to child's B-Day party pre Covid-1...</td>\n",
       "    </tr>\n",
       "    <tr>\n",
       "      <th>4</th>\n",
       "      <td>5</td>\n",
       "      <td>Pretty nice park, beautiful design.  Anyone is...</td>\n",
       "    </tr>\n",
       "  </tbody>\n",
       "</table>\n",
       "</div>"
      ],
      "text/plain": [
       "   rating                                               text\n",
       "0       5  Balboa Park is a must see when coming to San D...\n",
       "1       5  Beautiful grounds even to take a stroll during...\n",
       "2       5  Beautiful sightseeing in San Diego. Lots of wa...\n",
       "3       5  Was invited to child's B-Day party pre Covid-1...\n",
       "4       5  Pretty nice park, beautiful design.  Anyone is..."
      ]
     },
     "execution_count": 33,
     "metadata": {},
     "output_type": "execute_result"
    }
   ],
   "source": [
    "df_reviews = df_reviews[['rating', 'text']]\n",
    "df_reviews.head()"
   ]
  },
  {
   "cell_type": "markdown",
   "metadata": {},
   "source": [
    "We randomly sort the data frame to make sure training and testing data are randomly selected and can be representative of all parks within the dataset. "
   ]
  },
  {
   "cell_type": "code",
   "execution_count": 34,
   "metadata": {},
   "outputs": [
    {
     "data": {
      "text/html": [
       "<div>\n",
       "<style scoped>\n",
       "    .dataframe tbody tr th:only-of-type {\n",
       "        vertical-align: middle;\n",
       "    }\n",
       "\n",
       "    .dataframe tbody tr th {\n",
       "        vertical-align: top;\n",
       "    }\n",
       "\n",
       "    .dataframe thead th {\n",
       "        text-align: right;\n",
       "    }\n",
       "</style>\n",
       "<table border=\"1\" class=\"dataframe\">\n",
       "  <thead>\n",
       "    <tr style=\"text-align: right;\">\n",
       "      <th></th>\n",
       "      <th>rating</th>\n",
       "      <th>text</th>\n",
       "    </tr>\n",
       "  </thead>\n",
       "  <tbody>\n",
       "    <tr>\n",
       "      <th>0</th>\n",
       "      <td>5</td>\n",
       "      <td>Southwest middle school is a great school that...</td>\n",
       "    </tr>\n",
       "    <tr>\n",
       "      <th>1</th>\n",
       "      <td>5</td>\n",
       "      <td>Love these apartment homes, but nothing comes ...</td>\n",
       "    </tr>\n",
       "    <tr>\n",
       "      <th>2</th>\n",
       "      <td>4</td>\n",
       "      <td>I have 2 daughters enrolled at CDC. The time t...</td>\n",
       "    </tr>\n",
       "    <tr>\n",
       "      <th>3</th>\n",
       "      <td>5</td>\n",
       "      <td>Enjoyable Bridge there are many different Brid...</td>\n",
       "    </tr>\n",
       "    <tr>\n",
       "      <th>4</th>\n",
       "      <td>5</td>\n",
       "      <td>I never expected to give a review to an apartm...</td>\n",
       "    </tr>\n",
       "  </tbody>\n",
       "</table>\n",
       "</div>"
      ],
      "text/plain": [
       "   rating                                               text\n",
       "0       5  Southwest middle school is a great school that...\n",
       "1       5  Love these apartment homes, but nothing comes ...\n",
       "2       4  I have 2 daughters enrolled at CDC. The time t...\n",
       "3       5  Enjoyable Bridge there are many different Brid...\n",
       "4       5  I never expected to give a review to an apartm..."
      ]
     },
     "execution_count": 34,
     "metadata": {},
     "output_type": "execute_result"
    }
   ],
   "source": [
    "# randomly sort data frame\n",
    "df_reviews = df_reviews.sample(frac=1, random_state=200).reset_index(drop=True)\n",
    "df_reviews.head()"
   ]
  },
  {
   "cell_type": "markdown",
   "metadata": {},
   "source": [
    "Since we are interested in predicting 5-rate parks, we need to label rating of 5 as 1.0 and other ratings as 0.0. "
   ]
  },
  {
   "cell_type": "code",
   "execution_count": 35,
   "metadata": {},
   "outputs": [],
   "source": [
    "def convert_label(label):\n",
    "    if(label == 5):\n",
    "        return 1.0\n",
    "    else:\n",
    "        return 0.0\n",
    "    return label"
   ]
  },
  {
   "cell_type": "code",
   "execution_count": 36,
   "metadata": {
    "scrolled": true
   },
   "outputs": [
    {
     "data": {
      "text/html": [
       "<div>\n",
       "<style scoped>\n",
       "    .dataframe tbody tr th:only-of-type {\n",
       "        vertical-align: middle;\n",
       "    }\n",
       "\n",
       "    .dataframe tbody tr th {\n",
       "        vertical-align: top;\n",
       "    }\n",
       "\n",
       "    .dataframe thead th {\n",
       "        text-align: right;\n",
       "    }\n",
       "</style>\n",
       "<table border=\"1\" class=\"dataframe\">\n",
       "  <thead>\n",
       "    <tr style=\"text-align: right;\">\n",
       "      <th></th>\n",
       "      <th>rating</th>\n",
       "      <th>text</th>\n",
       "      <th>y</th>\n",
       "    </tr>\n",
       "  </thead>\n",
       "  <tbody>\n",
       "    <tr>\n",
       "      <th>0</th>\n",
       "      <td>5</td>\n",
       "      <td>Southwest middle school is a great school that...</td>\n",
       "      <td>1.0</td>\n",
       "    </tr>\n",
       "    <tr>\n",
       "      <th>1</th>\n",
       "      <td>5</td>\n",
       "      <td>Love these apartment homes, but nothing comes ...</td>\n",
       "      <td>1.0</td>\n",
       "    </tr>\n",
       "    <tr>\n",
       "      <th>2</th>\n",
       "      <td>4</td>\n",
       "      <td>I have 2 daughters enrolled at CDC. The time t...</td>\n",
       "      <td>0.0</td>\n",
       "    </tr>\n",
       "    <tr>\n",
       "      <th>3</th>\n",
       "      <td>5</td>\n",
       "      <td>Enjoyable Bridge there are many different Brid...</td>\n",
       "      <td>1.0</td>\n",
       "    </tr>\n",
       "    <tr>\n",
       "      <th>4</th>\n",
       "      <td>5</td>\n",
       "      <td>I never expected to give a review to an apartm...</td>\n",
       "      <td>1.0</td>\n",
       "    </tr>\n",
       "  </tbody>\n",
       "</table>\n",
       "</div>"
      ],
      "text/plain": [
       "   rating                                               text    y\n",
       "0       5  Southwest middle school is a great school that...  1.0\n",
       "1       5  Love these apartment homes, but nothing comes ...  1.0\n",
       "2       4  I have 2 daughters enrolled at CDC. The time t...  0.0\n",
       "3       5  Enjoyable Bridge there are many different Brid...  1.0\n",
       "4       5  I never expected to give a review to an apartm...  1.0"
      ]
     },
     "execution_count": 36,
     "metadata": {},
     "output_type": "execute_result"
    }
   ],
   "source": [
    "df_reviews['y'] = df_reviews['rating'].apply(convert_label)\n",
    "df_reviews.head()"
   ]
  },
  {
   "cell_type": "code",
   "execution_count": 37,
   "metadata": {},
   "outputs": [],
   "source": [
    "# scikit-learn imports\n",
    "#   SVM (Support Vector Machine) classifer \n",
    "#   Vectorizer, which transforms text data into bag-of-words feature\n",
    "#   TF-IDF Vectorizer that first removes widely used words in the dataset and then transforms test data\n",
    "#   Metrics functions to evaluate performance\n",
    "from sklearn.svm import SVC\n",
    "from sklearn.feature_extraction.text import CountVectorizer, TfidfVectorizer\n",
    "from sklearn.metrics import classification_report, precision_recall_fscore_support"
   ]
  },
  {
   "cell_type": "code",
   "execution_count": 38,
   "metadata": {},
   "outputs": [],
   "source": [
    "vectorizer = CountVectorizer(analyzer='word', max_features=2000, \n",
    "                             tokenizer=word_tokenize, stop_words=stopwords.words('english'))"
   ]
  },
  {
   "cell_type": "code",
   "execution_count": 39,
   "metadata": {},
   "outputs": [
    {
     "name": "stderr",
     "output_type": "stream",
     "text": [
      "/Users/x5wang/opt/anaconda3/lib/python3.8/site-packages/sklearn/feature_extraction/text.py:383: UserWarning: Your stop_words may be inconsistent with your preprocessing. Tokenizing the stop words generated tokens [\"'d\", \"'ll\", \"'re\", \"'s\", \"'ve\", 'could', 'might', 'must', \"n't\", 'need', 'sha', 'wo', 'would'] not in stop_words.\n",
      "  warnings.warn('Your stop_words may be inconsistent with '\n"
     ]
    }
   ],
   "source": [
    "df_X = vectorizer.fit_transform(df_reviews['text']).toarray()\n",
    "df_y = np.array(df_reviews['y'])"
   ]
  },
  {
   "cell_type": "markdown",
   "metadata": {},
   "source": [
    "Now, we use 80% as training data and 20% as testing data. Then, we train the SVM model using the training data. "
   ]
  },
  {
   "cell_type": "code",
   "execution_count": 40,
   "metadata": {},
   "outputs": [],
   "source": [
    "num_training = int(0.8*len(df_reviews))\n",
    "\n",
    "df_train_X = df_X[:num_training]\n",
    "df_train_y = df_y[:num_training]\n",
    "df_test_X = df_X[num_training:]\n",
    "df_test_y = df_y[num_training:]"
   ]
  },
  {
   "cell_type": "code",
   "execution_count": 41,
   "metadata": {},
   "outputs": [],
   "source": [
    "def train_SVM(X, y, kernel='linear'):\n",
    "    clf = SVC(kernel=kernel)\n",
    "    return clf.fit(X, y)"
   ]
  },
  {
   "cell_type": "code",
   "execution_count": 42,
   "metadata": {},
   "outputs": [],
   "source": [
    "df_clf = train_SVM(df_train_X, df_train_y)"
   ]
  },
  {
   "cell_type": "markdown",
   "metadata": {},
   "source": [
    "First, we test our model on our existing training data. The accuracy is 98% percent, which is high enough as expected. "
   ]
  },
  {
   "cell_type": "code",
   "execution_count": 43,
   "metadata": {},
   "outputs": [],
   "source": [
    "df_predicted_train_y = df_clf.predict(df_train_X)\n",
    "df_predicted_test_y = df_clf.predict(df_test_X)"
   ]
  },
  {
   "cell_type": "code",
   "execution_count": 44,
   "metadata": {},
   "outputs": [
    {
     "name": "stdout",
     "output_type": "stream",
     "text": [
      "              precision    recall  f1-score   support\n",
      "\n",
      "         0.0       0.98      0.98      0.98       774\n",
      "         1.0       0.98      0.99      0.99      1092\n",
      "\n",
      "    accuracy                           0.98      1866\n",
      "   macro avg       0.98      0.98      0.98      1866\n",
      "weighted avg       0.98      0.98      0.98      1866\n",
      "\n"
     ]
    }
   ],
   "source": [
    "print(classification_report(df_train_y, df_predicted_train_y))"
   ]
  },
  {
   "cell_type": "code",
   "execution_count": 45,
   "metadata": {},
   "outputs": [
    {
     "name": "stdout",
     "output_type": "stream",
     "text": [
      "              precision    recall  f1-score   support\n",
      "\n",
      "         0.0       0.55      0.53      0.54       195\n",
      "         1.0       0.67      0.69      0.68       272\n",
      "\n",
      "    accuracy                           0.63       467\n",
      "   macro avg       0.61      0.61      0.61       467\n",
      "weighted avg       0.62      0.63      0.62       467\n",
      "\n"
     ]
    }
   ],
   "source": [
    "print(classification_report(df_test_y, df_predicted_test_y))"
   ]
  },
  {
   "cell_type": "markdown",
   "metadata": {},
   "source": [
    "Here we uses cross-validation, and the accuracy is 63%, which is not really good, but it does have a higher chance to identify 5.0 rating parks than random. "
   ]
  },
  {
   "cell_type": "markdown",
   "metadata": {},
   "source": [
    "# Ethics & Privacy"
   ]
  },
  {
   "cell_type": "markdown",
   "metadata": {},
   "source": [
    "1. Yelp Reviews are open to the public, so it should be permitted to use the data; however, if I need to analyze a specific review, I should cite the source link where the review comes from to prevent any privacy concerns. Also, I did not use any specific park information for analysis, so this avoids chances to expose any identifiable information from the parks data. \n",
    "2. One potential bias might be that I did not visualize where the parks are located. Many parks in the dataset might be those in special areas or neighborhoods in San Diego due to population size, transportation, and other shopping malls nearby, etc. Hence, the parks in the dataset might not be representative of all parks distributed in San Diego. If this happens, I may reconsider the dataset and use the strategy of stratified random samples, so that I would select a number of parks in each neighborhood in San Diego. \n",
    "3. There might be specific low rating reviews that might not be appropriate to analyze due to their negativities, so I only discussed the general outcomes from those reviews. "
   ]
  },
  {
   "cell_type": "markdown",
   "metadata": {},
   "source": [
    "# Conclusion & Discussion"
   ]
  },
  {
   "cell_type": "markdown",
   "metadata": {},
   "source": [
    "The data we mainly focused on is the park reviews, and we did text and sentiment analysis on those reviews; also, we constructed the SVM model to classify 5-rating and non 5-rating from those reviews. \n",
    "\n",
    "In conclusion, San Diego Parks have pretty positive reviews and \"dog area\", \"parking\" and \"beach\" are some of the most popular attractions or facilities in consideration. However, the SVM model might not be as useful as expected, probably due to a large variation of important review themes and key words to be predicted, but it generally could serve for the purpose of identifying high rating parks from reviews. \n",
    "\n",
    "The data has one limitation: the original reviews are long and when scraped from API, they are abbreviated so that we omitted the latter part of those reviews, which could contain some useful content for analysis. Hence, to improve on the project, we need to get more complete review data from websites. \n",
    "\n",
    "Finally, this suggests that San Diego parks are great to visit for both residents and travelers! Also, the SVM could be improved by subsequent projects, and I hypothesize that there could be lots of features that make a park earn 5.0 rating. Hopefully people not familiar with the conditions of San Diego Parks could learn from this project and new landscape designers could gain a better understanding of how to make their parks more popular!"
   ]
  }
 ],
 "metadata": {
  "kernelspec": {
   "display_name": "Python 3",
   "language": "python",
   "name": "python3"
  },
  "language_info": {
   "codemirror_mode": {
    "name": "ipython",
    "version": 3
   },
   "file_extension": ".py",
   "mimetype": "text/x-python",
   "name": "python",
   "nbconvert_exporter": "python",
   "pygments_lexer": "ipython3",
   "version": "3.8.5"
  }
 },
 "nbformat": 4,
 "nbformat_minor": 2
}
