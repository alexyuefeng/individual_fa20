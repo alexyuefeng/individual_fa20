{
 "cells": [
  {
   "cell_type": "markdown",
   "metadata": {},
   "source": [
    "# COGS 108 - Final Project "
   ]
  },
  {
   "cell_type": "markdown",
   "metadata": {},
   "source": [
    "# Overview"
   ]
  },
  {
   "cell_type": "markdown",
   "metadata": {},
   "source": [
    "This project explored whether or not there was a relationship between the number of amenities (ex: playground, lake, walkways, etc.) in a park and the park's rating through analyzing data from Yelp park reviews. After extracting and counting amenity keywords from the text reviews, park ratings and park amenity counts were plotted against each other and evaluated. Ultimately, it was found that there is little to no correlation between amount of amenities and park ratings."
   ]
  },
  {
   "cell_type": "markdown",
   "metadata": {},
   "source": [
    "# Name & GitHub ID\n",
    "\n",
    "- Name: Xinyun Sara Yu\n",
    "- GitHub ID: 59596004"
   ]
  },
  {
   "cell_type": "markdown",
   "metadata": {},
   "source": [
    "# Research Question"
   ]
  },
  {
   "cell_type": "markdown",
   "metadata": {},
   "source": [
    "The research question I would like to ask focuses on how to maintain/increase San Diego park popularity; the specific question being: *Is there a relationship between the amount of amenities in a park and the park's public rating?*"
   ]
  },
  {
   "cell_type": "markdown",
   "metadata": {},
   "source": [
    "## Background and Prior Work"
   ]
  },
  {
   "cell_type": "markdown",
   "metadata": {},
   "source": [
    "In general, my research question deals with understanding the relationship between park amenities and park popularity. The National Recreation and Park Association (NRPA) asked a similar question (how can neighborhood parks attract more users?) and discussed a study on parks to find out what types of people were using parks, what amenities they used, and what factors led to more park usage (1). It was found that parks were busiest in the afternoons and on weekends, males frequented parks more than females, and adding a new park amenity (ex: tennis courts, playgrounds, etc.) was correlated with a 2 percent increase in the amount of park-goers and physical activity in the park. In addition, amenities such as walking paths and gymnasiums encouraged the most physical activity, however, walking paths existed in less than 30 percent of parks surveyed and gymnasiums in only 9 percent. Lastly, parks with walking loops had 80 percent more users than parks without; every new supervised activity added was associated with a 50 percent increase in park engagement, and marketing efforts correlated with a 62 percent increase in park-goers. NRPA concluded that marketing, investment in park amenities, and adding supervised activities may help increase park popularity.\n",
    "\n",
    "A report from City Parks Alliance (2) discussed how SOPARC (Systematic Observation of Play and Recreation in Communities), a park measurement tool, helped track user activity, activity types, age, gender, and ethnicity, as well as park accessibility, safety, and usability. Data was collected through direct observation and passive techniques (ex: ground sensors, cellular device detectors in benches). It was found in one study that better walking routes to and from parks could lead to dog owners engaging in more physical activity rather than driving. In another study, it was found that a park having playgrounds, basketball courts, more sidewalks, and safer intersections in the surrounding neighborhoods were all correlated with higher park use in children. Overall, through these findings, there seems to be promise that the quantity of park amenities may be associated with park popularity.\n",
    "\n",
    "References (include links):\n",
    "\n",
    "(1) Cohen, D. A., & Leuschner, K. (n.d.). How Can Neighborhood Parks Attract More Users?: Feature: Parks and Recreation Magazine: NRPA. Retrieved from https://www.nrpa.org/parks-recreation-magazine/2017/july/how-can-neighborhood-parks-attract-more-users/\n",
    "\n",
    "(2) Wagoner, C. V. (2019, March 24). Active Parks, Healthy Cities: Recommendations from the National Study of Neighborhood Parks. Retrieved from https://cityparksalliance.org/resource/active-parks-healthy-cities/ "
   ]
  },
  {
   "cell_type": "markdown",
   "metadata": {},
   "source": [
    "# Hypothesis\n"
   ]
  },
  {
   "cell_type": "markdown",
   "metadata": {},
   "source": [
    "I hypothesize that the more amenities a park has, the higher the park's rating will be. I imagine parks that offer more amenities will give people more things to do, such as: host birthday parties, play frisbee with friends, have a group picnic, etc. "
   ]
  },
  {
   "cell_type": "markdown",
   "metadata": {},
   "source": [
    "# Dataset(s)"
   ]
  },
  {
   "cell_type": "markdown",
   "metadata": {},
   "source": [
    "- Dataset Name: yelp_SD_parks.csv\n",
    "- Link to the dataset: Dataset provided by Professor\n",
    "- Number of observations: 833\n",
    "\n",
    "The yelp_SD_parks.csv dataset contains the name, address, phone, id, website url, rating, review count, longitude & latitude coordinates, and open/closed status of 833 various parks, beaches, gardens, schools, apartments, farms, museums etc. in San Diego. \n",
    "\n",
    "- Dataset Name: yelp_SD_reviews.csv\n",
    "- Link to the dataset: Dataset provided by Professor\n",
    "- Number of observations: 2333\n",
    "\n",
    "The yelp_SD_reviews.csv dataset contains the id (name), rating, and text reviews of various parks, beaches, gardens, schools, etc. in San Diego. There are about 2 to 5 different text reviews for each establishment listed. \n",
    "\n",
    "I plan to utilize the name, rating, and review count columns from yelp_SD_parks.csv and the text reviews from yelp_SD_reviews.csv to carry out analysis for this project."
   ]
  },
  {
   "cell_type": "markdown",
   "metadata": {},
   "source": [
    "# Setup"
   ]
  },
  {
   "cell_type": "code",
   "execution_count": 1,
   "metadata": {},
   "outputs": [],
   "source": [
    "# imports\n",
    "import numpy as np\n",
    "import pandas as pd\n",
    "import matplotlib.pyplot as plt\n",
    "\n",
    "import seaborn as sns\n",
    "sns.set()\n",
    "sns.set_context('talk')\n",
    "\n",
    "import re\n",
    "\n",
    "import patsy\n",
    "import statsmodels.api as sm"
   ]
  },
  {
   "cell_type": "code",
   "execution_count": 2,
   "metadata": {},
   "outputs": [],
   "source": [
    "# reading in data\n",
    "parks_url = 'https://raw.githubusercontent.com/XinyunSaraYu/individual_fa20/master/data/yelp_SD_parks.csv'\n",
    "df_parks = pd.read_csv(parks_url)\n",
    "\n",
    "reviews_url = 'https://raw.githubusercontent.com/XinyunSaraYu/individual_fa20/master/data/yelp_SD_reviews.csv'\n",
    "df_reviews = pd.read_csv(reviews_url)"
   ]
  },
  {
   "cell_type": "markdown",
   "metadata": {},
   "source": [
    "# Data Cleaning"
   ]
  },
  {
   "cell_type": "markdown",
   "metadata": {},
   "source": [
    "### Step 1: Drop Unnecessary Columns"
   ]
  },
  {
   "cell_type": "markdown",
   "metadata": {},
   "source": [
    "In this section, all the columns that won't be used in this project are removed."
   ]
  },
  {
   "cell_type": "code",
   "execution_count": 3,
   "metadata": {},
   "outputs": [
    {
     "data": {
      "text/html": [
       "<div>\n",
       "<style scoped>\n",
       "    .dataframe tbody tr th:only-of-type {\n",
       "        vertical-align: middle;\n",
       "    }\n",
       "\n",
       "    .dataframe tbody tr th {\n",
       "        vertical-align: top;\n",
       "    }\n",
       "\n",
       "    .dataframe thead th {\n",
       "        text-align: right;\n",
       "    }\n",
       "</style>\n",
       "<table border=\"1\" class=\"dataframe\">\n",
       "  <thead>\n",
       "    <tr style=\"text-align: right;\">\n",
       "      <th></th>\n",
       "      <th>name</th>\n",
       "      <th>rating</th>\n",
       "      <th>review_count</th>\n",
       "    </tr>\n",
       "  </thead>\n",
       "  <tbody>\n",
       "    <tr>\n",
       "      <th>0</th>\n",
       "      <td>Balboa Park</td>\n",
       "      <td>5.0</td>\n",
       "      <td>2105</td>\n",
       "    </tr>\n",
       "    <tr>\n",
       "      <th>1</th>\n",
       "      <td>Civita Park</td>\n",
       "      <td>4.5</td>\n",
       "      <td>46</td>\n",
       "    </tr>\n",
       "    <tr>\n",
       "      <th>2</th>\n",
       "      <td>Waterfront Park</td>\n",
       "      <td>4.5</td>\n",
       "      <td>242</td>\n",
       "    </tr>\n",
       "    <tr>\n",
       "      <th>3</th>\n",
       "      <td>Trolley Barn Park</td>\n",
       "      <td>4.5</td>\n",
       "      <td>102</td>\n",
       "    </tr>\n",
       "    <tr>\n",
       "      <th>4</th>\n",
       "      <td>Bay View Park</td>\n",
       "      <td>5.0</td>\n",
       "      <td>42</td>\n",
       "    </tr>\n",
       "  </tbody>\n",
       "</table>\n",
       "</div>"
      ],
      "text/plain": [
       "                name  rating  review_count\n",
       "0        Balboa Park     5.0          2105\n",
       "1        Civita Park     4.5            46\n",
       "2    Waterfront Park     4.5           242\n",
       "3  Trolley Barn Park     4.5           102\n",
       "4      Bay View Park     5.0            42"
      ]
     },
     "execution_count": 3,
     "metadata": {},
     "output_type": "execute_result"
    }
   ],
   "source": [
    "# cleaning df_parks\n",
    "df_parks = df_parks.drop(columns = ['address','phone', 'id', 'url', 'longitude', 'latitude', 'is_closed'])\n",
    "df_parks.head()"
   ]
  },
  {
   "cell_type": "code",
   "execution_count": 4,
   "metadata": {},
   "outputs": [
    {
     "data": {
      "text/html": [
       "<div>\n",
       "<style scoped>\n",
       "    .dataframe tbody tr th:only-of-type {\n",
       "        vertical-align: middle;\n",
       "    }\n",
       "\n",
       "    .dataframe tbody tr th {\n",
       "        vertical-align: top;\n",
       "    }\n",
       "\n",
       "    .dataframe thead th {\n",
       "        text-align: right;\n",
       "    }\n",
       "</style>\n",
       "<table border=\"1\" class=\"dataframe\">\n",
       "  <thead>\n",
       "    <tr style=\"text-align: right;\">\n",
       "      <th></th>\n",
       "      <th>id</th>\n",
       "      <th>text</th>\n",
       "    </tr>\n",
       "  </thead>\n",
       "  <tbody>\n",
       "    <tr>\n",
       "      <th>0</th>\n",
       "      <td>Balboa Park</td>\n",
       "      <td>Balboa Park is a must see when coming to San D...</td>\n",
       "    </tr>\n",
       "    <tr>\n",
       "      <th>1</th>\n",
       "      <td>Balboa Park</td>\n",
       "      <td>Beautiful grounds even to take a stroll during...</td>\n",
       "    </tr>\n",
       "    <tr>\n",
       "      <th>2</th>\n",
       "      <td>Balboa Park</td>\n",
       "      <td>Beautiful sightseeing in San Diego. Lots of wa...</td>\n",
       "    </tr>\n",
       "    <tr>\n",
       "      <th>3</th>\n",
       "      <td>Civita Park</td>\n",
       "      <td>Was invited to child's B-Day party pre Covid-1...</td>\n",
       "    </tr>\n",
       "    <tr>\n",
       "      <th>4</th>\n",
       "      <td>Civita Park</td>\n",
       "      <td>Pretty nice park, beautiful design.  Anyone is...</td>\n",
       "    </tr>\n",
       "  </tbody>\n",
       "</table>\n",
       "</div>"
      ],
      "text/plain": [
       "            id                                               text\n",
       "0  Balboa Park  Balboa Park is a must see when coming to San D...\n",
       "1  Balboa Park  Beautiful grounds even to take a stroll during...\n",
       "2  Balboa Park  Beautiful sightseeing in San Diego. Lots of wa...\n",
       "3  Civita Park  Was invited to child's B-Day party pre Covid-1...\n",
       "4  Civita Park  Pretty nice park, beautiful design.  Anyone is..."
      ]
     },
     "execution_count": 4,
     "metadata": {},
     "output_type": "execute_result"
    }
   ],
   "source": [
    "# cleaning df_reviews\n",
    "df_reviews = df_reviews.drop(columns = ['rating'])\n",
    "df_reviews.head()"
   ]
  },
  {
   "cell_type": "markdown",
   "metadata": {},
   "source": [
    "### Step 2: Drop Unnecessary/Repeating Rows"
   ]
  },
  {
   "cell_type": "markdown",
   "metadata": {},
   "source": [
    "Both datasets contain information about various San Diego establishments that are not parks (beaches, nail & spa, schools, etc.), so rows with unnecessary or repeating data are removed here."
   ]
  },
  {
   "cell_type": "code",
   "execution_count": 5,
   "metadata": {},
   "outputs": [
    {
     "data": {
      "text/plain": [
       "name            221\n",
       "rating          221\n",
       "review_count    221\n",
       "dtype: int64"
      ]
     },
     "execution_count": 5,
     "metadata": {},
     "output_type": "execute_result"
    }
   ],
   "source": [
    "# drop all non-park values in the name column of df_parks \n",
    "df_parks = df_parks[df_parks['name'].str.contains('Park')]\n",
    "to_drop = ['Pack & Park', 'Parker', 'North Park', 'Apartments', 'Historic', 'Memorial', 'Theme Parks', 'Inn', 'Golf', 'Zoo', 'Terrace', 'Park Villas', 'Park-it-on-Market', 'Park Diplomat']\n",
    "df_parks = df_parks[~df_parks['name'].str.contains('|'.join(to_drop))]\n",
    "\n",
    "# drop all duplicate park names in df_parks\n",
    "df_parks = df_parks.drop_duplicates(subset = 'name', keep = 'last')\n",
    "df_parks.count()"
   ]
  },
  {
   "cell_type": "code",
   "execution_count": 6,
   "metadata": {},
   "outputs": [],
   "source": [
    "# drop all non-park values in the id column of df_reviews\n",
    "df_reviews = df_reviews[df_reviews['id'].str.contains('Park')]\n",
    "to_drop = ['Pack & Park', 'Parker', 'North Park', 'Apartments', 'Historic', 'Memorial', 'Theme Parks', 'Inn', 'Golf', 'Zoo', 'Terrace', 'Park Villas', 'Park-it-on-Market', 'Park Diplomat']\n",
    "df_reviews = df_reviews[~df_reviews['id'].str.contains('|'.join(to_drop))]"
   ]
  },
  {
   "cell_type": "markdown",
   "metadata": {},
   "source": [
    "### Step 3: Combine Rows for df_reviews"
   ]
  },
  {
   "cell_type": "markdown",
   "metadata": {},
   "source": [
    "The dataframe df_reviews has multiple different text review rows for each park, so all text reviews for each park are organized and combined here."
   ]
  },
  {
   "cell_type": "code",
   "execution_count": 7,
   "metadata": {},
   "outputs": [
    {
     "data": {
      "text/html": [
       "<div>\n",
       "<style scoped>\n",
       "    .dataframe tbody tr th:only-of-type {\n",
       "        vertical-align: middle;\n",
       "    }\n",
       "\n",
       "    .dataframe tbody tr th {\n",
       "        vertical-align: top;\n",
       "    }\n",
       "\n",
       "    .dataframe thead th {\n",
       "        text-align: right;\n",
       "    }\n",
       "</style>\n",
       "<table border=\"1\" class=\"dataframe\">\n",
       "  <thead>\n",
       "    <tr style=\"text-align: right;\">\n",
       "      <th></th>\n",
       "      <th>id</th>\n",
       "      <th>text</th>\n",
       "    </tr>\n",
       "  </thead>\n",
       "  <tbody>\n",
       "    <tr>\n",
       "      <th>0</th>\n",
       "      <td>Balboa Park</td>\n",
       "      <td>Balboa Park is a must see when coming to San D...</td>\n",
       "    </tr>\n",
       "    <tr>\n",
       "      <th>3</th>\n",
       "      <td>Civita Park</td>\n",
       "      <td>Was invited to child's B-Day party pre Covid-1...</td>\n",
       "    </tr>\n",
       "    <tr>\n",
       "      <th>6</th>\n",
       "      <td>Waterfront Park</td>\n",
       "      <td>After eating brunch in Little Italy, we decide...</td>\n",
       "    </tr>\n",
       "    <tr>\n",
       "      <th>9</th>\n",
       "      <td>Trolley Barn Park</td>\n",
       "      <td>What a beautiful and welcoming park!  I have b...</td>\n",
       "    </tr>\n",
       "    <tr>\n",
       "      <th>12</th>\n",
       "      <td>Bay View Park</td>\n",
       "      <td>I LOVE this spot!!! So beautiful at night!! Th...</td>\n",
       "    </tr>\n",
       "  </tbody>\n",
       "</table>\n",
       "</div>"
      ],
      "text/plain": [
       "                   id                                               text\n",
       "0         Balboa Park  Balboa Park is a must see when coming to San D...\n",
       "3         Civita Park  Was invited to child's B-Day party pre Covid-1...\n",
       "6     Waterfront Park  After eating brunch in Little Italy, we decide...\n",
       "9   Trolley Barn Park  What a beautiful and welcoming park!  I have b...\n",
       "12      Bay View Park  I LOVE this spot!!! So beautiful at night!! Th..."
      ]
     },
     "execution_count": 7,
     "metadata": {},
     "output_type": "execute_result"
    }
   ],
   "source": [
    "df_reviews['text'] = df_reviews.groupby(['id'])['text'].transform(lambda x : ' '.join(x))\n",
    "df_reviews = df_reviews.drop_duplicates()\n",
    "df_reviews.head()"
   ]
  },
  {
   "cell_type": "markdown",
   "metadata": {},
   "source": [
    "### Step 4: Count Amenities for Each Park"
   ]
  },
  {
   "cell_type": "markdown",
   "metadata": {},
   "source": [
    "Amenity keywords are defined in a list and then extracted from the text review column of df_reviews and listed in a new 'amenities' column. Unique amenity keywords are counted and the total count is put inside a new 'amenity_count' column."
   ]
  },
  {
   "cell_type": "code",
   "execution_count": 8,
   "metadata": {},
   "outputs": [],
   "source": [
    "# list of amenity keywords to search for within 'text' column of df_reviews\n",
    "amenities_keywords = ['beautiful', 'view', 'scenic', 'gorgeous', 'playground', 'play structure', 'children\\'s area', 'play area', 'lake', 'pond', 'water', 'walkway', 'trail', 'walking path', 'poop bag', 'waste bag', 'pets allowed', 'pet friendly', 'wide', 'large', 'restroom', 'bathroom', 'stage', 'amphitheater', 'lawn', 'nature', 'grass', 'grassy', 'green', 'trees', 'pavilion', 'pavillion', 'gazebo', 'shade', 'shady', 'rec center', 'recreation center', 'basketball', 'b-ball', 'pool', 'bbq', 'safe', 'clean', 'family friendly', 'track', 'field', 'quiet', 'seesaw', 'jungle gym', 'fountain', 'parking', 'bench', 'sand', 'mural', 'tennis', 'baseball', 'soccer', 'sports facility', 'weight room']\n",
    "\n",
    "# extract all matching keywords into a new 'amenities' column in df_reviews\n",
    "extract = df_reviews['text'].str.findall('(' + '|'.join(amenities_keywords) + ')', flags = re.IGNORECASE) \n",
    "df_reviews['amenities'] = extract.str.join(', ')"
   ]
  },
  {
   "cell_type": "code",
   "execution_count": 9,
   "metadata": {},
   "outputs": [],
   "source": [
    "# function for grouping similar amenities\n",
    "def grouping_keywords(string):    \n",
    "    string = string.lower()\n",
    "\n",
    "# replacing words related to scenery\n",
    "    string = string.replace('beautiful', 'nice scenery')\n",
    "    string = string.replace('view', 'nice scenery')\n",
    "    string = string.replace('scenic', 'nice scenery')\n",
    "    string = string.replace('gorgeous', 'nice scenery')\n",
    "    \n",
    "# replacing words related to playground\n",
    "    string = string.replace('play structure', 'playground')\n",
    "    string = string.replace('children\\'s area', 'playground')\n",
    "    string = string.replace('play area', 'playground')\n",
    "\n",
    "# replacing words related to pet friendly amenities\n",
    "    string = string.replace('poop bag', 'pet friendly')\n",
    "    string = string.replace('waste bag', 'pet friendly')\n",
    "    string = string.replace('pets allowed', 'pet friendly')\n",
    "\n",
    "# replacing words related to restroom\n",
    "    string = string.replace('bathroom', 'restroom')\n",
    "    \n",
    "# replacing words related to grass\n",
    "    string = string.replace('grassy', 'grass')\n",
    "    string = string.replace('green', 'grass')\n",
    "    \n",
    "# replacing words related to shade\n",
    "    string = string.replace('shady', 'shade')\n",
    "\n",
    "# replacing words related to rec center\n",
    "    string = string.replace('recreation center', 'rec center')\n",
    "    \n",
    "# replacing words related to basketball\n",
    "    string = string.replace('b-ball', 'basketball')\n",
    "    \n",
    "    return string"
   ]
  },
  {
   "cell_type": "code",
   "execution_count": 10,
   "metadata": {},
   "outputs": [],
   "source": [
    "# apply function to 'amenities' column\n",
    "df_reviews['amenities'] = df_reviews['amenities'].apply(grouping_keywords)\n",
    "\n",
    "# drop 'text' column of df_reviews\n",
    "df_reviews = df_reviews.drop(columns = ['text'])"
   ]
  },
  {
   "cell_type": "code",
   "execution_count": 11,
   "metadata": {},
   "outputs": [],
   "source": [
    "# function for splitting strings in 'amenities' column and removing duplicate amenities\n",
    "def split_count(string):\n",
    "\n",
    "    if string == '':\n",
    "        return 0\n",
    "    \n",
    "    string_list = string.split(', ')\n",
    "\n",
    "    string_list = list(dict.fromkeys(string_list))\n",
    "\n",
    "    return len(string_list)"
   ]
  },
  {
   "cell_type": "code",
   "execution_count": 12,
   "metadata": {},
   "outputs": [],
   "source": [
    "# apply function to create new 'amenity_count' column\n",
    "df_reviews['amenity_count'] = df_reviews['amenities'].apply(split_count)"
   ]
  },
  {
   "cell_type": "markdown",
   "metadata": {},
   "source": [
    "### Step 5: Combine & Finalize Dataframe"
   ]
  },
  {
   "cell_type": "markdown",
   "metadata": {},
   "source": [
    "Here, the df_parks and df_reviews dataframes are merged into a single dataframe. The dataframe is now ready for analysis."
   ]
  },
  {
   "cell_type": "code",
   "execution_count": 13,
   "metadata": {},
   "outputs": [
    {
     "data": {
      "text/html": [
       "<div>\n",
       "<style scoped>\n",
       "    .dataframe tbody tr th:only-of-type {\n",
       "        vertical-align: middle;\n",
       "    }\n",
       "\n",
       "    .dataframe tbody tr th {\n",
       "        vertical-align: top;\n",
       "    }\n",
       "\n",
       "    .dataframe thead th {\n",
       "        text-align: right;\n",
       "    }\n",
       "</style>\n",
       "<table border=\"1\" class=\"dataframe\">\n",
       "  <thead>\n",
       "    <tr style=\"text-align: right;\">\n",
       "      <th></th>\n",
       "      <th>name</th>\n",
       "      <th>rating</th>\n",
       "      <th>amenities</th>\n",
       "      <th>amenity_count</th>\n",
       "    </tr>\n",
       "  </thead>\n",
       "  <tbody>\n",
       "    <tr>\n",
       "      <th>0</th>\n",
       "      <td>Balboa Park</td>\n",
       "      <td>5.0</td>\n",
       "      <td>nice scenery, nice scenery, walkway, nice scen...</td>\n",
       "      <td>2</td>\n",
       "    </tr>\n",
       "    <tr>\n",
       "      <th>1</th>\n",
       "      <td>Civita Park</td>\n",
       "      <td>4.5</td>\n",
       "      <td>family friendly, nice scenery, wide, safe, pla...</td>\n",
       "      <td>5</td>\n",
       "    </tr>\n",
       "    <tr>\n",
       "      <th>2</th>\n",
       "      <td>Waterfront Park</td>\n",
       "      <td>4.5</td>\n",
       "      <td>water, nice scenery, nice scenery, water, clea...</td>\n",
       "      <td>4</td>\n",
       "    </tr>\n",
       "    <tr>\n",
       "      <th>3</th>\n",
       "      <td>Trolley Barn Park</td>\n",
       "      <td>4.5</td>\n",
       "      <td>nice scenery, pet friendly, playground, grass,...</td>\n",
       "      <td>4</td>\n",
       "    </tr>\n",
       "    <tr>\n",
       "      <th>4</th>\n",
       "      <td>Bay View Park</td>\n",
       "      <td>5.0</td>\n",
       "      <td>nice scenery, nice scenery, parking</td>\n",
       "      <td>2</td>\n",
       "    </tr>\n",
       "    <tr>\n",
       "      <th>...</th>\n",
       "      <td>...</td>\n",
       "      <td>...</td>\n",
       "      <td>...</td>\n",
       "      <td>...</td>\n",
       "    </tr>\n",
       "    <tr>\n",
       "      <th>216</th>\n",
       "      <td>Saratoga Park</td>\n",
       "      <td>5.0</td>\n",
       "      <td>field, baseball</td>\n",
       "      <td>2</td>\n",
       "    </tr>\n",
       "    <tr>\n",
       "      <th>217</th>\n",
       "      <td>Spreckels Park</td>\n",
       "      <td>4.5</td>\n",
       "      <td>playground, restroom</td>\n",
       "      <td>2</td>\n",
       "    </tr>\n",
       "    <tr>\n",
       "      <th>218</th>\n",
       "      <td>Pioneer Park</td>\n",
       "      <td>3.5</td>\n",
       "      <td>quiet, parking, nature, trees, nice scenery, w...</td>\n",
       "      <td>10</td>\n",
       "    </tr>\n",
       "    <tr>\n",
       "      <th>219</th>\n",
       "      <td>Capehart Dog Park</td>\n",
       "      <td>3.0</td>\n",
       "      <td></td>\n",
       "      <td>0</td>\n",
       "    </tr>\n",
       "    <tr>\n",
       "      <th>220</th>\n",
       "      <td>Petco Park</td>\n",
       "      <td>4.0</td>\n",
       "      <td>field, nice scenery</td>\n",
       "      <td>2</td>\n",
       "    </tr>\n",
       "  </tbody>\n",
       "</table>\n",
       "<p>221 rows × 4 columns</p>\n",
       "</div>"
      ],
      "text/plain": [
       "                  name  rating  \\\n",
       "0          Balboa Park     5.0   \n",
       "1          Civita Park     4.5   \n",
       "2      Waterfront Park     4.5   \n",
       "3    Trolley Barn Park     4.5   \n",
       "4        Bay View Park     5.0   \n",
       "..                 ...     ...   \n",
       "216      Saratoga Park     5.0   \n",
       "217     Spreckels Park     4.5   \n",
       "218       Pioneer Park     3.5   \n",
       "219  Capehart Dog Park     3.0   \n",
       "220         Petco Park     4.0   \n",
       "\n",
       "                                             amenities  amenity_count  \n",
       "0    nice scenery, nice scenery, walkway, nice scen...              2  \n",
       "1    family friendly, nice scenery, wide, safe, pla...              5  \n",
       "2    water, nice scenery, nice scenery, water, clea...              4  \n",
       "3    nice scenery, pet friendly, playground, grass,...              4  \n",
       "4                  nice scenery, nice scenery, parking              2  \n",
       "..                                                 ...            ...  \n",
       "216                                    field, baseball              2  \n",
       "217                               playground, restroom              2  \n",
       "218  quiet, parking, nature, trees, nice scenery, w...             10  \n",
       "219                                                                 0  \n",
       "220                                field, nice scenery              2  \n",
       "\n",
       "[221 rows x 4 columns]"
      ]
     },
     "execution_count": 13,
     "metadata": {},
     "output_type": "execute_result"
    }
   ],
   "source": [
    "# combine dataframes\n",
    "df = pd.merge(left = df_parks, right = df_reviews, left_on = 'name', right_on = 'id')\n",
    "df = df.drop(columns = {'id', 'review_count'})\n",
    "df"
   ]
  },
  {
   "cell_type": "markdown",
   "metadata": {},
   "source": [
    "# Data Analysis & Results"
   ]
  },
  {
   "cell_type": "markdown",
   "metadata": {},
   "source": [
    "First off, to get a sense of the data, the description table below shows some information about the distributions. Mean park ratings is around 4.05 while mean amount of amenities is about 3.2."
   ]
  },
  {
   "cell_type": "code",
   "execution_count": 14,
   "metadata": {},
   "outputs": [
    {
     "data": {
      "text/html": [
       "<div>\n",
       "<style scoped>\n",
       "    .dataframe tbody tr th:only-of-type {\n",
       "        vertical-align: middle;\n",
       "    }\n",
       "\n",
       "    .dataframe tbody tr th {\n",
       "        vertical-align: top;\n",
       "    }\n",
       "\n",
       "    .dataframe thead th {\n",
       "        text-align: right;\n",
       "    }\n",
       "</style>\n",
       "<table border=\"1\" class=\"dataframe\">\n",
       "  <thead>\n",
       "    <tr style=\"text-align: right;\">\n",
       "      <th></th>\n",
       "      <th>rating</th>\n",
       "      <th>amenity_count</th>\n",
       "    </tr>\n",
       "  </thead>\n",
       "  <tbody>\n",
       "    <tr>\n",
       "      <th>count</th>\n",
       "      <td>221.000000</td>\n",
       "      <td>221.00000</td>\n",
       "    </tr>\n",
       "    <tr>\n",
       "      <th>mean</th>\n",
       "      <td>4.052036</td>\n",
       "      <td>3.20362</td>\n",
       "    </tr>\n",
       "    <tr>\n",
       "      <th>std</th>\n",
       "      <td>0.684741</td>\n",
       "      <td>2.32754</td>\n",
       "    </tr>\n",
       "    <tr>\n",
       "      <th>min</th>\n",
       "      <td>1.000000</td>\n",
       "      <td>0.00000</td>\n",
       "    </tr>\n",
       "    <tr>\n",
       "      <th>25%</th>\n",
       "      <td>3.500000</td>\n",
       "      <td>2.00000</td>\n",
       "    </tr>\n",
       "    <tr>\n",
       "      <th>50%</th>\n",
       "      <td>4.000000</td>\n",
       "      <td>3.00000</td>\n",
       "    </tr>\n",
       "    <tr>\n",
       "      <th>75%</th>\n",
       "      <td>4.500000</td>\n",
       "      <td>4.00000</td>\n",
       "    </tr>\n",
       "    <tr>\n",
       "      <th>max</th>\n",
       "      <td>5.000000</td>\n",
       "      <td>12.00000</td>\n",
       "    </tr>\n",
       "  </tbody>\n",
       "</table>\n",
       "</div>"
      ],
      "text/plain": [
       "           rating  amenity_count\n",
       "count  221.000000      221.00000\n",
       "mean     4.052036        3.20362\n",
       "std      0.684741        2.32754\n",
       "min      1.000000        0.00000\n",
       "25%      3.500000        2.00000\n",
       "50%      4.000000        3.00000\n",
       "75%      4.500000        4.00000\n",
       "max      5.000000       12.00000"
      ]
     },
     "execution_count": 14,
     "metadata": {},
     "output_type": "execute_result"
    }
   ],
   "source": [
    "df.describe()"
   ]
  },
  {
   "cell_type": "markdown",
   "metadata": {},
   "source": [
    "### Data Visualization"
   ]
  },
  {
   "cell_type": "markdown",
   "metadata": {},
   "source": [
    "Below are graphs depicting amenity count distribution and park rating distribution."
   ]
  },
  {
   "cell_type": "code",
   "execution_count": 15,
   "metadata": {},
   "outputs": [
    {
     "data": {
      "text/plain": [
       "Text(0, 0.5, 'Frequency')"
      ]
     },
     "execution_count": 15,
     "metadata": {},
     "output_type": "execute_result"
    },
    {
     "data": {
      "image/png": "[encoded data removed]",
      "text/plain": [
       "<Figure size 432x288 with 1 Axes>"
      ]
     },
     "metadata": {},
     "output_type": "display_data"
    }
   ],
   "source": [
    "# plot the frequency of amenity counts\n",
    "amenity_plot = sns.distplot(df['amenity_count'], kde = False, color = 'green')\n",
    "amenity_plot.set_title('Amenity Count Distribution')\n",
    "amenity_plot.set_ylabel('Frequency')"
   ]
  },
  {
   "cell_type": "markdown",
   "metadata": {},
   "source": [
    "Looking at the plot, most amenity counts fall between 0 and 5. "
   ]
  },
  {
   "cell_type": "code",
   "execution_count": 16,
   "metadata": {},
   "outputs": [
    {
     "data": {
      "text/plain": [
       "Text(0, 0.5, 'Frequency')"
      ]
     },
     "execution_count": 16,
     "metadata": {},
     "output_type": "execute_result"
    },
    {
     "data": {
      "image/png": "[encoded data removed]",
      "text/plain": [
       "<Figure size 432x288 with 1 Axes>"
      ]
     },
     "metadata": {},
     "output_type": "display_data"
    }
   ],
   "source": [
    "# plot the frequency of park ratings\n",
    "rating_plot = sns.distplot(df['rating'], kde = False, color = 'green')\n",
    "rating_plot.set_title('Park Rating Distribution')\n",
    "rating_plot.set_ylabel('Frequency')"
   ]
  },
  {
   "cell_type": "markdown",
   "metadata": {},
   "source": [
    "There are very few ratings below 3.5. The majority fall around 4.5."
   ]
  },
  {
   "cell_type": "code",
   "execution_count": 17,
   "metadata": {},
   "outputs": [
    {
     "data": {
      "image/png": "[encoded data removed]",
      "text/plain": [
       "<Figure size 432x288 with 1 Axes>"
      ]
     },
     "metadata": {},
     "output_type": "display_data"
    }
   ],
   "source": [
    "# scatterplot showing relationship between park amenity count and rating\n",
    "amenity_rating_plot = df.plot.scatter(x = 'amenity_count', y = 'rating', title = 'Relationship Between Park Amenity Count & Rating', color = 'green')"
   ]
  },
  {
   "cell_type": "markdown",
   "metadata": {},
   "source": [
    "Looking at the scatterplot alone, it is difficult to determine if there is an actual relationship between park amenity count and rating."
   ]
  },
  {
   "cell_type": "markdown",
   "metadata": {},
   "source": [
    "### Linear Regression"
   ]
  },
  {
   "cell_type": "markdown",
   "metadata": {},
   "source": [
    "Here, linear regression is used to analyze the relationship between amenity count and rating through generating the line-of-best-fit."
   ]
  },
  {
   "cell_type": "code",
   "execution_count": 18,
   "metadata": {},
   "outputs": [
    {
     "name": "stdout",
     "output_type": "stream",
     "text": [
      "                            OLS Regression Results                            \n",
      "==============================================================================\n",
      "Dep. Variable:                 rating   R-squared:                       0.005\n",
      "Model:                            OLS   Adj. R-squared:                  0.000\n",
      "Method:                 Least Squares   F-statistic:                     1.002\n",
      "Date:                Thu, 10 Dec 2020   Prob (F-statistic):              0.318\n",
      "Time:                        00:04:10   Log-Likelihood:                -228.88\n",
      "No. Observations:                 221   AIC:                             461.8\n",
      "Df Residuals:                     219   BIC:                             468.6\n",
      "Df Model:                           1                                         \n",
      "Covariance Type:            nonrobust                                         \n",
      "=================================================================================\n",
      "                    coef    std err          t      P>|t|      [0.025      0.975]\n",
      "---------------------------------------------------------------------------------\n",
      "Intercept         3.9884      0.078     50.821      0.000       3.834       4.143\n",
      "amenity_count     0.0199      0.020      1.001      0.318      -0.019       0.059\n",
      "==============================================================================\n",
      "Omnibus:                       65.093   Durbin-Watson:                   2.133\n",
      "Prob(Omnibus):                  0.000   Jarque-Bera (JB):              157.012\n",
      "Skew:                          -1.338   Prob(JB):                     8.04e-35\n",
      "Kurtosis:                       6.144   Cond. No.                         7.03\n",
      "==============================================================================\n",
      "\n",
      "Warnings:\n",
      "[1] Standard Errors assume that the covariance matrix of the errors is correctly specified.\n"
     ]
    }
   ],
   "source": [
    "# making a model\n",
    "outcome, predictors = patsy.dmatrices('rating ~ amenity_count', df)\n",
    "mod = sm.OLS(outcome, predictors)\n",
    "res = mod.fit()\n",
    "print(res.summary())"
   ]
  },
  {
   "cell_type": "code",
   "execution_count": 19,
   "metadata": {},
   "outputs": [
    {
     "data": {
      "text/plain": [
       "[<matplotlib.lines.Line2D at 0x175a5a447c0>]"
      ]
     },
     "execution_count": 19,
     "metadata": {},
     "output_type": "execute_result"
    },
    {
     "data": {
      "image/png": "[encoded data removed]",
      "text/plain": [
       "<Figure size 432x288 with 1 Axes>"
      ]
     },
     "metadata": {},
     "output_type": "display_data"
    }
   ],
   "source": [
    "# plot scatter plot with line of best fit\n",
    "amenity_rating_plot = df.plot.scatter(x = 'amenity_count', y = 'rating', title = 'Relationship Between Park Amenity Count & Rating', color = 'green')\n",
    "\n",
    "x = np.arange(df['amenity_count'].min(), df['amenity_count'].max())\n",
    "y = 0.0199 * x + 3.9884\n",
    "plt.plot(x, y, '-')"
   ]
  },
  {
   "cell_type": "markdown",
   "metadata": {},
   "source": [
    "Based on the line-of-best-fit, there seems to be a very small positive correlation between amenity count and park rating. "
   ]
  },
  {
   "cell_type": "code",
   "execution_count": 20,
   "metadata": {},
   "outputs": [
    {
     "data": {
      "text/html": [
       "<div>\n",
       "<style scoped>\n",
       "    .dataframe tbody tr th:only-of-type {\n",
       "        vertical-align: middle;\n",
       "    }\n",
       "\n",
       "    .dataframe tbody tr th {\n",
       "        vertical-align: top;\n",
       "    }\n",
       "\n",
       "    .dataframe thead th {\n",
       "        text-align: right;\n",
       "    }\n",
       "</style>\n",
       "<table border=\"1\" class=\"dataframe\">\n",
       "  <thead>\n",
       "    <tr style=\"text-align: right;\">\n",
       "      <th></th>\n",
       "      <th>rating</th>\n",
       "      <th>amenity_count</th>\n",
       "    </tr>\n",
       "  </thead>\n",
       "  <tbody>\n",
       "    <tr>\n",
       "      <th>rating</th>\n",
       "      <td>1.000000</td>\n",
       "      <td>0.067474</td>\n",
       "    </tr>\n",
       "    <tr>\n",
       "      <th>amenity_count</th>\n",
       "      <td>0.067474</td>\n",
       "      <td>1.000000</td>\n",
       "    </tr>\n",
       "  </tbody>\n",
       "</table>\n",
       "</div>"
      ],
      "text/plain": [
       "                 rating  amenity_count\n",
       "rating         1.000000       0.067474\n",
       "amenity_count  0.067474       1.000000"
      ]
     },
     "execution_count": 20,
     "metadata": {},
     "output_type": "execute_result"
    }
   ],
   "source": [
    "df.corr()"
   ]
  },
  {
   "cell_type": "markdown",
   "metadata": {},
   "source": [
    "Specifically, about 6.75% correlation."
   ]
  },
  {
   "cell_type": "markdown",
   "metadata": {},
   "source": [
    "# Ethics & Privacy"
   ]
  },
  {
   "cell_type": "markdown",
   "metadata": {},
   "source": [
    "In terms of ethics and privacy, the data used in this project does not contain personal or sensitive information since it is all public San Diego park/establishments data. In addition, the text reviews do not include the reviewer's username or any identifiable information on the user who submitted the review. Potential biases regarding the data are that all the text reviews were extracted from Yelp, so there are no reviews from people who do not use Yelp or have a Yelp account but did not leave a review. Furthermore, park experiences may differ from person to person, and so even among users who left a review, they may not have mentioned all the amenities of the park they visited, which poses a great bias since the amenity count in this project depends largely on counting keywords mentioned in the text reviews. In addition, the text reviews are shortened versions of their original Yelp entries and the number of text reviews listed for each park in the dataset vary from 2 to 5, all of which may impact amenity count. Lastly, the zip code/location of the parks may influence park popularity and ratings, especially if a certain area of San Diego gets more traffic compared to other more quiet areas and the park happens to be in a busy and convenient place.\n",
    "\n",
    "To handle these issues, I think collecting text reviews from multiple rating platforms may help lessen the bias slightly. Also, scanning through numerous complete text reviews of each park for amenity keywords may improve the validity of project results. Overall, there are definitely weak areas in this project, however, I hope to continue learning and growing in the field of data science. "
   ]
  },
  {
   "cell_type": "markdown",
   "metadata": {},
   "source": [
    "# Conclusion & Discussion"
   ]
  },
  {
   "cell_type": "markdown",
   "metadata": {},
   "source": [
    "Original Research Question: *Is there a relationship between the amount of amenities in a park and the park's public rating?*\n",
    "\n",
    "Ultimately, no, in this project it was found there is no relationship between the amount of amenities in a park and the park's rating. My hypothesis that the more amenities a park has the higher the park's rating will be is wrong. Overall, the amenity counts for each park tended to be low while the park ratings were high. When amenity counts and park ratings were plotted together, no visible relationship was shown. After applying the line-of-best-fit to the data, a very small positive correlation was displayed between amenity counts and park ratings, however, it is too small to be of any significance. \n",
    "\n",
    "Limitations of this project consist of counting amenities using the Yelp text reviews. The text reviews in the data were only a snippet of their original size, therefore there may have been many additional amenity keywords mentioned that were unable to be counted. In addition, some parks had more reviews listed than others, which tilts the balance of keywords in the data. Though it was an interesting process extracting and counting keywords from the text reviews, there were many factors involved that may have increased the amount of bias in the data.\n",
    "\n",
    "I think this type of project can be beneficial to society when it comes to city planning and figuring out how to increase park engagement. Many factors come together to create a good park that is popular with locals and tourists alike, and I think asking these types of data science questions is the first step towards learning how to design better parks and improve people's lives in small ways."
   ]
  }
 ],
 "metadata": {
  "kernelspec": {
   "display_name": "Python 3",
   "language": "python",
   "name": "python3"
  },
  "language_info": {
   "codemirror_mode": {
    "name": "ipython",
    "version": 3
   },
   "file_extension": ".py",
   "mimetype": "text/x-python",
   "name": "python",
   "nbconvert_exporter": "python",
   "pygments_lexer": "ipython3",
   "version": "3.8.3"
  }
 },
 "nbformat": 4,
 "nbformat_minor": 4
}
