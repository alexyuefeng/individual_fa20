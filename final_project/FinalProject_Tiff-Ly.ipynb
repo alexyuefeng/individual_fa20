{
 "cells": [
  {
   "cell_type": "markdown",
   "metadata": {},
   "source": [
    "# COGS 108 - Final Project "
   ]
  },
  {
   "cell_type": "markdown",
   "metadata": {},
   "source": [
    "# Overview\n"
   ]
  },
  {
   "cell_type": "markdown",
   "metadata": {},
   "source": [
    "In this project I explored the effects of San Diego zip code population sizes and their median incomes on the quality of nearby parks, which was gauged by the average Yelp ratings of said parks. In an attempt to answer this question I curated a dataframe consisting of Yelp reviews on San Diego parks, population size in the parks' zip codes, and the median household and individual incomes. The analysis consisted of plots to visualize trends and relationships and k-tests between different variables. The data analysis produced debateable results as the data set was quite small and revealed little correlation but significant p-values."
   ]
  },
  {
   "cell_type": "markdown",
   "metadata": {},
   "source": [
    "# Names & GitHub ID\n",
    "\n",
    "- Name: Tiffany Ly\n",
    "- GitHub Username: Tiff-Ly"
   ]
  },
  {
   "cell_type": "markdown",
   "metadata": {},
   "source": [
    "# Research Question"
   ]
  },
  {
   "cell_type": "markdown",
   "metadata": {},
   "source": [
    "How does population size and median incomes affect the quality of nearby parks in San Diego?"
   ]
  },
  {
   "cell_type": "markdown",
   "metadata": {},
   "source": [
    "## Background and Prior Work"
   ]
  },
  {
   "cell_type": "markdown",
   "metadata": {},
   "source": [
    "San Diego Parks and Recreations owns and runs 58 recreation centers and 275 playgrounds (reference 3). Parks and Recreations also oversees specific open spaces, cemeteries, and water parks (reference 3). This encompasses over 42,000 acres of land, which must be routinely maintained. Naturally, proper budgeting for these public spaces is vital in keeping them safe and up-to-date. \n",
    "  \n",
    "The operation of San Diego parks and open spaces is crucial for promoting healthy and active lifestyles for all San Diegans (reference 1). It is important to offer the same enriching environments to communities to draw in more diversity to all parts of the county. In order to keep all spaces up-to-date and accessible to San Diegans, budgeting plays a huge role in determining how and which parks receive more maintenance and renovations. \n",
    "    \n",
    "Currently the budget for parks and recreation is about 55.8 million dollars (reference 4), most of which appears to be allocated towards wealthy or newer communities (reference 2). Richer neighborhoods tend to have better parks and spaces as they receive more in developmental impact fees, fees paid by developers to the city to build new roads, parks and other amenities. Poorer communities on the other hand receive far less of these fees, thus having more run down facilities. A proposed change to the budget plan would be to allocate funds more proportionally, based upon population size in conjunction with median incomes. It is presumed that areas with more foot traffic will see more wear on its parks and open spaces, so more money will be needed to maintain these facilities.\n",
    "\n",
    "\n",
    "References:\n",
    "- 1) https://www.sandiego.gov/park-and-recreation/general-info\n",
    "- 2) https://www.voiceofsandiego.org/topics/government/if-your-local-park-sucks-this-is-probably-why/\n",
    "- 3) https://www.sandiego.gov/sites/default/files/fiscal_year_2020_parks_and_recreation_department_capital_improvement_program_adopted_budget.pdf\n",
    "- 4) https://www.sandiegocounty.gov/content/dam/sdc/auditor/pdf/caoplan_20-22.pdf"
   ]
  },
  {
   "cell_type": "markdown",
   "metadata": {},
   "source": [
    "# Hypothesis\n"
   ]
  },
  {
   "cell_type": "markdown",
   "metadata": {},
   "source": [
    "I hypothesize that the larger the population size and the higher the median incomes are the better the nearby parks will be. This is because there are more individuals in the nearby vicinity of these parks, which should result in more foot traffic and eventually more repairs/renovations long term as well as just a larger amount of funds being allocated to this area because of the bigger population size. "
   ]
  },
  {
   "cell_type": "markdown",
   "metadata": {},
   "source": [
    "# Dataset(s)"
   ]
  },
  {
   "cell_type": "markdown",
   "metadata": {},
   "source": [
    "With multiple data sets I plan to use the yelp reviews for the ratings and location of parks, and the US zip code data for population size, household and individual income medians as well as unemployment rates. \n",
    "\n",
    "\n",
    "- Dataset Name: San Diego Parks Yelp\n",
    "- Link to the dataset:  https://www.yelp.com/ (data curated by Prof Ellis)\n",
    "- Number of observations: 833\n",
    "- This data provides the ratings of different parks around San Diego County as well as their locations.\n",
    "\n",
    "\n",
    "- Dataset Name: US Zip Codes Database\n",
    "- Link to the dataset: https://simplemaps.com/data/us-zips\n",
    "- Number of observations: 33,097\n",
    "- This database provides demographic information (e.g. population size, income, unemployment) for all states and territories of the US.  \n",
    "\n",
    "\n",
    "- Dataset Name: List of San Diego City Council Districts by Zip Code (*Not used in final dataframe)\n",
    "- Link to the dataset: https://www.sandiego.gov/sites/default/files/list_of_san_diego_city_council_districts_by_zip_code.pdf\n",
    "- Number of observations: 57\n",
    "- This data contains lists of zip codes the different San Diego council districts oversee."
   ]
  },
  {
   "cell_type": "markdown",
   "metadata": {},
   "source": [
    "# Setup"
   ]
  },
  {
   "cell_type": "code",
   "execution_count": 1,
   "metadata": {},
   "outputs": [],
   "source": [
    "import pandas as pd\n",
    "import numpy as np\n",
    "import seaborn as sns\n",
    "import matplotlib.pyplot as plt\n",
    "import patsy\n",
    "import statsmodels.api as sm"
   ]
  },
  {
   "cell_type": "markdown",
   "metadata": {},
   "source": [
    "# Data Cleaning"
   ]
  },
  {
   "cell_type": "markdown",
   "metadata": {},
   "source": [
    "All the datasets have uniform entries so I don't need to adjust the entries too much. I stripped some information to make it its own column and adjusted some of the data types, but over all the data is pretty clean.\n",
    "\n",
    "First the datasets must be pulled into this notebook, which is done in the cell below."
   ]
  },
  {
   "cell_type": "code",
   "execution_count": 2,
   "metadata": {},
   "outputs": [],
   "source": [
    "zip_data = pd.read_csv('uszips.csv')\n",
    "yelp_df = pd.read_csv('yelp_SD_parks.csv')"
   ]
  },
  {
   "cell_type": "markdown",
   "metadata": {},
   "source": [
    "From the zip code dataset I already know which columns I need for my analysis."
   ]
  },
  {
   "cell_type": "code",
   "execution_count": 3,
   "metadata": {},
   "outputs": [],
   "source": [
    "zip_data = zip_data[['zip', 'population', 'income_household_median', 'income_individual_median']]"
   ]
  },
  {
   "cell_type": "markdown",
   "metadata": {},
   "source": [
    "In order to get the population sizes of each park's zip code I have to split the zip code from the address column."
   ]
  },
  {
   "cell_type": "code",
   "execution_count": 4,
   "metadata": {},
   "outputs": [],
   "source": [
    "yelp_df['zip_code'] = yelp_df['address'].apply(lambda x: x.split('CA '))"
   ]
  },
  {
   "cell_type": "code",
   "execution_count": 5,
   "metadata": {},
   "outputs": [],
   "source": [
    "def strip_zip(x):\n",
    "    '''Strips all zip codes from the address column.'\n",
    "    \n",
    "    Parameters\n",
    "    ----------\n",
    "    x : string\n",
    "        A provided address.\n",
    "        \n",
    "    Returns\n",
    "    -------\n",
    "    output : 'Error' or int\n",
    "        A zip code as an integer.\n",
    "    '''\n",
    "    \n",
    "    if len(x) != 2:\n",
    "        return 'Error'\n",
    "    else:\n",
    "        return int(x[1].strip())\n",
    "    \n",
    "yelp_df['zip_code'] = yelp_df['zip_code'].apply(strip_zip)"
   ]
  },
  {
   "cell_type": "code",
   "execution_count": 6,
   "metadata": {},
   "outputs": [
    {
     "data": {
      "text/html": [
       "<div>\n",
       "<style scoped>\n",
       "    .dataframe tbody tr th:only-of-type {\n",
       "        vertical-align: middle;\n",
       "    }\n",
       "\n",
       "    .dataframe tbody tr th {\n",
       "        vertical-align: top;\n",
       "    }\n",
       "\n",
       "    .dataframe thead th {\n",
       "        text-align: right;\n",
       "    }\n",
       "</style>\n",
       "<table border=\"1\" class=\"dataframe\">\n",
       "  <thead>\n",
       "    <tr style=\"text-align: right;\">\n",
       "      <th></th>\n",
       "      <th>name</th>\n",
       "      <th>address</th>\n",
       "      <th>phone</th>\n",
       "      <th>id</th>\n",
       "      <th>url</th>\n",
       "      <th>rating</th>\n",
       "      <th>review_count</th>\n",
       "      <th>longitude</th>\n",
       "      <th>latitude</th>\n",
       "      <th>is_closed</th>\n",
       "      <th>zip_code</th>\n",
       "    </tr>\n",
       "  </thead>\n",
       "  <tbody>\n",
       "    <tr>\n",
       "      <th>0</th>\n",
       "      <td>Balboa Park</td>\n",
       "      <td>1549 El Prado San Diego, CA 92101</td>\n",
       "      <td>1.619239e+10</td>\n",
       "      <td>9M_FW_-Ipx93I36w-_ykBg</td>\n",
       "      <td>https://www.yelp.com/biz/balboa-park-san-diego...</td>\n",
       "      <td>5.0</td>\n",
       "      <td>2105</td>\n",
       "      <td>-117.153150</td>\n",
       "      <td>32.734502</td>\n",
       "      <td>False</td>\n",
       "      <td>92101</td>\n",
       "    </tr>\n",
       "    <tr>\n",
       "      <th>1</th>\n",
       "      <td>Civita Park</td>\n",
       "      <td>7960 Civita Blvd San Diego, CA 92108</td>\n",
       "      <td>NaN</td>\n",
       "      <td>3AEHjqNrTmggA6G9VdhQfg</td>\n",
       "      <td>https://www.yelp.com/biz/civita-park-san-diego...</td>\n",
       "      <td>4.5</td>\n",
       "      <td>46</td>\n",
       "      <td>-117.147278</td>\n",
       "      <td>32.778315</td>\n",
       "      <td>False</td>\n",
       "      <td>92108</td>\n",
       "    </tr>\n",
       "    <tr>\n",
       "      <th>2</th>\n",
       "      <td>Waterfront Park</td>\n",
       "      <td>1600 Pacific Hwy San Diego, CA 92101</td>\n",
       "      <td>1.619233e+10</td>\n",
       "      <td>3unbJeYrn1RmInZGmjp80g</td>\n",
       "      <td>https://www.yelp.com/biz/waterfront-park-san-d...</td>\n",
       "      <td>4.5</td>\n",
       "      <td>242</td>\n",
       "      <td>-117.172479</td>\n",
       "      <td>32.721952</td>\n",
       "      <td>False</td>\n",
       "      <td>92101</td>\n",
       "    </tr>\n",
       "    <tr>\n",
       "      <th>3</th>\n",
       "      <td>Trolley Barn Park</td>\n",
       "      <td>Adams Ave And Florida St San Diego, CA 92116</td>\n",
       "      <td>NaN</td>\n",
       "      <td>PvHxIYrmaiFKdWUDTMDzcg</td>\n",
       "      <td>https://www.yelp.com/biz/trolley-barn-park-san...</td>\n",
       "      <td>4.5</td>\n",
       "      <td>102</td>\n",
       "      <td>-117.143789</td>\n",
       "      <td>32.762463</td>\n",
       "      <td>False</td>\n",
       "      <td>92116</td>\n",
       "    </tr>\n",
       "    <tr>\n",
       "      <th>4</th>\n",
       "      <td>Bay View Park</td>\n",
       "      <td>413 1st St Coronado, CA 92118</td>\n",
       "      <td>NaN</td>\n",
       "      <td>6IF4VB9-fkv_F-LBvG8ppQ</td>\n",
       "      <td>https://www.yelp.com/biz/bay-view-park-coronad...</td>\n",
       "      <td>5.0</td>\n",
       "      <td>42</td>\n",
       "      <td>-117.178967</td>\n",
       "      <td>32.701785</td>\n",
       "      <td>False</td>\n",
       "      <td>92118</td>\n",
       "    </tr>\n",
       "  </tbody>\n",
       "</table>\n",
       "</div>"
      ],
      "text/plain": [
       "                name                                       address  \\\n",
       "0        Balboa Park             1549 El Prado San Diego, CA 92101   \n",
       "1        Civita Park          7960 Civita Blvd San Diego, CA 92108   \n",
       "2    Waterfront Park          1600 Pacific Hwy San Diego, CA 92101   \n",
       "3  Trolley Barn Park  Adams Ave And Florida St San Diego, CA 92116   \n",
       "4      Bay View Park                 413 1st St Coronado, CA 92118   \n",
       "\n",
       "          phone                      id  \\\n",
       "0  1.619239e+10  9M_FW_-Ipx93I36w-_ykBg   \n",
       "1           NaN  3AEHjqNrTmggA6G9VdhQfg   \n",
       "2  1.619233e+10  3unbJeYrn1RmInZGmjp80g   \n",
       "3           NaN  PvHxIYrmaiFKdWUDTMDzcg   \n",
       "4           NaN  6IF4VB9-fkv_F-LBvG8ppQ   \n",
       "\n",
       "                                                 url  rating  review_count  \\\n",
       "0  https://www.yelp.com/biz/balboa-park-san-diego...     5.0          2105   \n",
       "1  https://www.yelp.com/biz/civita-park-san-diego...     4.5            46   \n",
       "2  https://www.yelp.com/biz/waterfront-park-san-d...     4.5           242   \n",
       "3  https://www.yelp.com/biz/trolley-barn-park-san...     4.5           102   \n",
       "4  https://www.yelp.com/biz/bay-view-park-coronad...     5.0            42   \n",
       "\n",
       "    longitude   latitude  is_closed zip_code  \n",
       "0 -117.153150  32.734502      False    92101  \n",
       "1 -117.147278  32.778315      False    92108  \n",
       "2 -117.172479  32.721952      False    92101  \n",
       "3 -117.143789  32.762463      False    92116  \n",
       "4 -117.178967  32.701785      False    92118  "
      ]
     },
     "execution_count": 6,
     "metadata": {},
     "output_type": "execute_result"
    }
   ],
   "source": [
    "yelp_df = yelp_df[yelp_df['zip_code'] != 'Error'] \n",
    "yelp_df.head()"
   ]
  },
  {
   "cell_type": "code",
   "execution_count": 7,
   "metadata": {},
   "outputs": [],
   "source": [
    "# There are quite a few entries in this dataset that don't pertain to parks\n",
    "# So it's important to drop these before moving onto the analysis\n",
    "\n",
    "def name_filter(name):\n",
    "    '''Drops yelp reviews of places that aren't parks.'\n",
    "    \n",
    "    Parameters\n",
    "    ----------\n",
    "    name : str\n",
    "        Name of the place being reviewed.\n",
    "        \n",
    "    Returns\n",
    "    -------\n",
    "    name: string or 'Not a Park'\n",
    "        The name of the park being reviewed.\n",
    "    '''\n",
    "    \n",
    "    name = name.lower()\n",
    "    \n",
    "    if 'north park' in name:\n",
    "        return 'Not a Park'\n",
    "    elif 'park' in name:\n",
    "        return name\n",
    "    else:\n",
    "        return 'Not a Park'   "
   ]
  },
  {
   "cell_type": "markdown",
   "metadata": {},
   "source": [
    "The district data below was originally intended to add further context on zip codes and possible correlations between the quality of parks and certain council districts, however the data was ultimately omitted from the dataframe as it's not one of the specific variables I'm interested in."
   ]
  },
  {
   "cell_type": "code",
   "execution_count": 8,
   "metadata": {},
   "outputs": [],
   "source": [
    "District_dict = {\n",
    "    'Council District 1' : [92014, 92037, 92038, 92067, 92093, 92121, 92122, 92130],\n",
    "    'Council District 2' : [92117, 92111, 92109, 92108, 92107, 92106],\n",
    "    'Council District 3': [92101, 92102, 92103, 92104, 92105, 92110, 92116, 92132, 92134],\n",
    "    'Council District 4': [92102, 92105, 92113, 92114, 92115, 92139],\n",
    "    'Council District 5' :[92127, 92128, 92129, 92131],\n",
    "    'Council District 6' : [92111, 92117, 92121, 92123, 92126, 92129, 92145],\n",
    "    'Council District 7' : [92108, 92111, 92119, 92120, 92123, 92124, 92171],\n",
    "    'Council District 8' : [92102, 92113, 92154, 92173],\n",
    "    'Council District 9' : [92102, 92104, 92105, 92113, 92115, 92116]\n",
    "}\n",
    "\n",
    "def find_district(zip_co):\n",
    "    '''Categorizes each zip code under a council district'\n",
    "    \n",
    "    Parameters\n",
    "    ----------\n",
    "    zip_co : int\n",
    "        A zip code of a park.\n",
    "        \n",
    "    Returns\n",
    "    -------\n",
    "    ret : string or 'Error'\n",
    "        A secific council district.\n",
    "    '''\n",
    "    \n",
    "    ret = None\n",
    "    for key, value in District_dict.items():\n",
    "        if zip_co in value:\n",
    "            ret = key\n",
    "        else:\n",
    "            continue\n",
    "    if ret is None:\n",
    "        return 'Error'\n",
    "    return ret\n",
    "        \n",
    "    \n",
    "yelp_df['district'] = yelp_df.zip_code.apply(find_district)\n",
    "all_data = pd.merge(yelp_df, zip_data, left_on = 'zip_code', right_on = 'zip')"
   ]
  },
  {
   "cell_type": "code",
   "execution_count": 9,
   "metadata": {},
   "outputs": [],
   "source": [
    "all_data = all_data.drop(['phone', 'id', 'url', 'longitude', 'latitude', 'is_closed'], axis = 1)\n"
   ]
  },
  {
   "cell_type": "code",
   "execution_count": 10,
   "metadata": {},
   "outputs": [],
   "source": [
    "all_data = all_data.reset_index(drop = True)"
   ]
  },
  {
   "cell_type": "code",
   "execution_count": 11,
   "metadata": {},
   "outputs": [],
   "source": [
    "districts = yelp_df[yelp_df['district'] != 'Error']\n",
    "districts = districts.reset_index(drop=True)"
   ]
  },
  {
   "cell_type": "code",
   "execution_count": 12,
   "metadata": {},
   "outputs": [],
   "source": [
    "all_data = pd.merge(districts, all_data, left_on = 'zip_code', right_on = 'zip')"
   ]
  },
  {
   "cell_type": "code",
   "execution_count": 13,
   "metadata": {},
   "outputs": [],
   "source": [
    "all_data['zip'] = all_data['zip'].astype(str)"
   ]
  },
  {
   "cell_type": "markdown",
   "metadata": {},
   "source": [
    "Some errors arose when I was moving around some code, some columns ended up being duplicated in the final data frame. So this code here was to try and get it back to a nice format with only the information I needed."
   ]
  },
  {
   "cell_type": "code",
   "execution_count": 14,
   "metadata": {
    "scrolled": false
   },
   "outputs": [],
   "source": [
    "all_data = all_data.fillna(0)\n",
    "all_data = all_data.drop_duplicates(subset = ['name_x'])\n",
    "all_data.name_x = all_data.name_x.apply(name_filter)\n",
    "all_data = all_data[all_data['name_x'] != 'Not a Park']\n"
   ]
  },
  {
   "cell_type": "code",
   "execution_count": 15,
   "metadata": {},
   "outputs": [],
   "source": [
    "all_data = all_data.reset_index(drop=True)\n",
    "all_data = all_data[['name_x', 'rating_x', 'review_count_x', 'population', 'income_household_median', 'income_individual_median']]\n",
    "all_data.columns = ['name', 'rating', 'review_count', 'population', 'income_household_median', 'income_individual_median']"
   ]
  },
  {
   "cell_type": "code",
   "execution_count": 16,
   "metadata": {},
   "outputs": [
    {
     "data": {
      "text/html": [
       "<div>\n",
       "<style scoped>\n",
       "    .dataframe tbody tr th:only-of-type {\n",
       "        vertical-align: middle;\n",
       "    }\n",
       "\n",
       "    .dataframe tbody tr th {\n",
       "        vertical-align: top;\n",
       "    }\n",
       "\n",
       "    .dataframe thead th {\n",
       "        text-align: right;\n",
       "    }\n",
       "</style>\n",
       "<table border=\"1\" class=\"dataframe\">\n",
       "  <thead>\n",
       "    <tr style=\"text-align: right;\">\n",
       "      <th></th>\n",
       "      <th>name</th>\n",
       "      <th>rating</th>\n",
       "      <th>review_count</th>\n",
       "      <th>population</th>\n",
       "      <th>income_household_median</th>\n",
       "      <th>income_individual_median</th>\n",
       "    </tr>\n",
       "  </thead>\n",
       "  <tbody>\n",
       "    <tr>\n",
       "      <th>0</th>\n",
       "      <td>balboa park</td>\n",
       "      <td>5.0</td>\n",
       "      <td>2105</td>\n",
       "      <td>39313.0</td>\n",
       "      <td>66202.0</td>\n",
       "      <td>44668.0</td>\n",
       "    </tr>\n",
       "    <tr>\n",
       "      <th>1</th>\n",
       "      <td>waterfront park</td>\n",
       "      <td>4.5</td>\n",
       "      <td>242</td>\n",
       "      <td>39313.0</td>\n",
       "      <td>66202.0</td>\n",
       "      <td>44668.0</td>\n",
       "    </tr>\n",
       "    <tr>\n",
       "      <th>2</th>\n",
       "      <td>pioneer park</td>\n",
       "      <td>4.0</td>\n",
       "      <td>55</td>\n",
       "      <td>39313.0</td>\n",
       "      <td>66202.0</td>\n",
       "      <td>44668.0</td>\n",
       "    </tr>\n",
       "    <tr>\n",
       "      <th>3</th>\n",
       "      <td>harbor island park</td>\n",
       "      <td>4.5</td>\n",
       "      <td>71</td>\n",
       "      <td>39313.0</td>\n",
       "      <td>66202.0</td>\n",
       "      <td>44668.0</td>\n",
       "    </tr>\n",
       "    <tr>\n",
       "      <th>4</th>\n",
       "      <td>golden hill park</td>\n",
       "      <td>4.0</td>\n",
       "      <td>35</td>\n",
       "      <td>39313.0</td>\n",
       "      <td>66202.0</td>\n",
       "      <td>44668.0</td>\n",
       "    </tr>\n",
       "    <tr>\n",
       "      <th>...</th>\n",
       "      <td>...</td>\n",
       "      <td>...</td>\n",
       "      <td>...</td>\n",
       "      <td>...</td>\n",
       "      <td>...</td>\n",
       "      <td>...</td>\n",
       "    </tr>\n",
       "    <tr>\n",
       "      <th>189</th>\n",
       "      <td>ruocco park</td>\n",
       "      <td>4.0</td>\n",
       "      <td>18</td>\n",
       "      <td>0.0</td>\n",
       "      <td>0.0</td>\n",
       "      <td>0.0</td>\n",
       "    </tr>\n",
       "    <tr>\n",
       "      <th>190</th>\n",
       "      <td>sabre springs park</td>\n",
       "      <td>4.5</td>\n",
       "      <td>3</td>\n",
       "      <td>51066.0</td>\n",
       "      <td>97952.0</td>\n",
       "      <td>50344.0</td>\n",
       "    </tr>\n",
       "    <tr>\n",
       "      <th>191</th>\n",
       "      <td>south creek neighborhood park</td>\n",
       "      <td>4.5</td>\n",
       "      <td>9</td>\n",
       "      <td>51066.0</td>\n",
       "      <td>97952.0</td>\n",
       "      <td>50344.0</td>\n",
       "    </tr>\n",
       "    <tr>\n",
       "      <th>192</th>\n",
       "      <td>carmel mountain ranch community park</td>\n",
       "      <td>4.0</td>\n",
       "      <td>18</td>\n",
       "      <td>51066.0</td>\n",
       "      <td>97952.0</td>\n",
       "      <td>50344.0</td>\n",
       "    </tr>\n",
       "    <tr>\n",
       "      <th>193</th>\n",
       "      <td>highland ranch park</td>\n",
       "      <td>4.0</td>\n",
       "      <td>16</td>\n",
       "      <td>51066.0</td>\n",
       "      <td>97952.0</td>\n",
       "      <td>50344.0</td>\n",
       "    </tr>\n",
       "  </tbody>\n",
       "</table>\n",
       "<p>194 rows × 6 columns</p>\n",
       "</div>"
      ],
      "text/plain": [
       "                                     name  rating  review_count  population  \\\n",
       "0                             balboa park     5.0          2105     39313.0   \n",
       "1                         waterfront park     4.5           242     39313.0   \n",
       "2                            pioneer park     4.0            55     39313.0   \n",
       "3                      harbor island park     4.5            71     39313.0   \n",
       "4                        golden hill park     4.0            35     39313.0   \n",
       "..                                    ...     ...           ...         ...   \n",
       "189                           ruocco park     4.0            18         0.0   \n",
       "190                    sabre springs park     4.5             3     51066.0   \n",
       "191         south creek neighborhood park     4.5             9     51066.0   \n",
       "192  carmel mountain ranch community park     4.0            18     51066.0   \n",
       "193                   highland ranch park     4.0            16     51066.0   \n",
       "\n",
       "     income_household_median  income_individual_median  \n",
       "0                    66202.0                   44668.0  \n",
       "1                    66202.0                   44668.0  \n",
       "2                    66202.0                   44668.0  \n",
       "3                    66202.0                   44668.0  \n",
       "4                    66202.0                   44668.0  \n",
       "..                       ...                       ...  \n",
       "189                      0.0                       0.0  \n",
       "190                  97952.0                   50344.0  \n",
       "191                  97952.0                   50344.0  \n",
       "192                  97952.0                   50344.0  \n",
       "193                  97952.0                   50344.0  \n",
       "\n",
       "[194 rows x 6 columns]"
      ]
     },
     "execution_count": 16,
     "metadata": {},
     "output_type": "execute_result"
    }
   ],
   "source": [
    "# This is the final dataframe I will be using for my analysis portion of the project\n",
    "all_data"
   ]
  },
  {
   "cell_type": "markdown",
   "metadata": {},
   "source": [
    "# Data Analysis "
   ]
  },
  {
   "cell_type": "markdown",
   "metadata": {},
   "source": [
    "#### EDA\n",
    "For the start of my EDA I just want to see the general distribution of all my individual data pieces and see if there are any extreme outliers and possible explanations for them."
   ]
  },
  {
   "cell_type": "markdown",
   "metadata": {},
   "source": [
    "The ratings data has a peak at 4.5 stars, there's also a tail trailing to the left. This means that the majority of the park ratings are fairly positive though with some lower ratings. I wouldn't consider any of this data outliers or extreme values because the ratings are already confined to a scale between 1 and 5."
   ]
  },
  {
   "cell_type": "code",
   "execution_count": 17,
   "metadata": {},
   "outputs": [
    {
     "data": {
      "text/plain": [
       "Text(0.5, 1.0, 'Frequency of Yelp Ratings')"
      ]
     },
     "execution_count": 17,
     "metadata": {},
     "output_type": "execute_result"
    },
    {
     "data": {
      "image/png": "[encoded data removed]",
      "text/plain": [
       "<Figure size 432x288 with 1 Axes>"
      ]
     },
     "metadata": {
      "needs_background": "light"
     },
     "output_type": "display_data"
    }
   ],
   "source": [
    "# dist. of yelp ratings\n",
    "x = all_data.rating\n",
    "rating_dist = sns.distplot(x)\n",
    "\n",
    "rating_dist.set(xlim = (0, 5), ylim = (0, 1))\n",
    "plt.xlabel('Rating', fontsize = 15)\n",
    "plt.ylabel('Frequency', fontsize = 15)\n",
    "plt.title(\"Frequency of Yelp Ratings\", fontsize = 16)"
   ]
  },
  {
   "cell_type": "markdown",
   "metadata": {},
   "source": [
    "In the cell below you can see that the majority of parks being reviewed has a population between 30,000 and 60,000."
   ]
  },
  {
   "cell_type": "code",
   "execution_count": 18,
   "metadata": {
    "scrolled": true
   },
   "outputs": [
    {
     "data": {
      "text/plain": [
       "Text(0.5, 1.0, 'Distribution of Population Sizes Across San Diego')"
      ]
     },
     "execution_count": 18,
     "metadata": {},
     "output_type": "execute_result"
    },
    {
     "data": {
      "image/png": "[encoded data removed]",
      "text/plain": [
       "<Figure size 432x288 with 1 Axes>"
      ]
     },
     "metadata": {
      "needs_background": "light"
     },
     "output_type": "display_data"
    }
   ],
   "source": [
    "# dist. of populations from all the different zip codes\n",
    "x = all_data.population\n",
    "pop_dist = sns.distplot(x)\n",
    "\n",
    "plt.xlabel('Population', fontsize = 15)\n",
    "plt.ylabel('Frequency', fontsize = 15)\n",
    "plt.title(\"Distribution of Population Sizes Across San Diego\", fontsize = 16)"
   ]
  },
  {
   "cell_type": "markdown",
   "metadata": {},
   "source": [
    "The plot below suggests that the most rated parks' populations' had household incomes between 60,000 and 80,000 dollars."
   ]
  },
  {
   "cell_type": "code",
   "execution_count": 19,
   "metadata": {},
   "outputs": [
    {
     "data": {
      "text/plain": [
       "Text(0.5, 1.0, 'Distribution of Median Household Incomes Across San Diego')"
      ]
     },
     "execution_count": 19,
     "metadata": {},
     "output_type": "execute_result"
    },
    {
     "data": {
      "image/png": "[encoded data removed]",
      "text/plain": [
       "<Figure size 432x288 with 1 Axes>"
      ]
     },
     "metadata": {
      "needs_background": "light"
     },
     "output_type": "display_data"
    }
   ],
   "source": [
    "# dist. of household median incomes of all the zip codes\n",
    "x = all_data.income_household_median\n",
    "house_dist = sns.distplot(x)\n",
    "\n",
    "plt.xlabel('Median Household Income', fontsize = 15)\n",
    "plt.ylabel('Frequency', fontsize = 15)\n",
    "plt.title(\"Distribution of Median Household Incomes Across San Diego\", fontsize = 16)"
   ]
  },
  {
   "cell_type": "markdown",
   "metadata": {},
   "source": [
    "The plot below suggests that the most rated parks' populations' had individual incomes between 40,000 and 45,000 dollars."
   ]
  },
  {
   "cell_type": "code",
   "execution_count": 20,
   "metadata": {},
   "outputs": [
    {
     "data": {
      "text/plain": [
       "Text(0.5, 1.0, 'Distribution of Median Individual Incomes Across San Diego')"
      ]
     },
     "execution_count": 20,
     "metadata": {},
     "output_type": "execute_result"
    },
    {
     "data": {
      "image/png": "[encoded data removed]",
      "text/plain": [
       "<Figure size 432x288 with 1 Axes>"
      ]
     },
     "metadata": {
      "needs_background": "light"
     },
     "output_type": "display_data"
    }
   ],
   "source": [
    "# dist. of individual median incomes of all the zip codes\n",
    "x = all_data.income_individual_median\n",
    "ind_dist = sns.distplot(x)\n",
    "\n",
    "plt.xlabel('Median Individual Income', fontsize = 15)\n",
    "plt.ylabel('Frequency', fontsize = 15)\n",
    "plt.title(\"Distribution of Median Individual Incomes Across San Diego\", fontsize = 16)"
   ]
  },
  {
   "cell_type": "markdown",
   "metadata": {},
   "source": [
    "Now I want to see if there's any trends between different variables in the data. To get a general idea of this I have plotted a scatter matrix in the cell below. From these visualizations, there are no clear trends between ratings and the other variables. "
   ]
  },
  {
   "cell_type": "code",
   "execution_count": 21,
   "metadata": {
    "scrolled": true
   },
   "outputs": [
    {
     "data": {
      "text/plain": [
       "array([[<matplotlib.axes._subplots.AxesSubplot object at 0x0000020D65278F48>,\n",
       "        <matplotlib.axes._subplots.AxesSubplot object at 0x0000020D653A5148>,\n",
       "        <matplotlib.axes._subplots.AxesSubplot object at 0x0000020D65352748>,\n",
       "        <matplotlib.axes._subplots.AxesSubplot object at 0x0000020D64E083C8>],\n",
       "       [<matplotlib.axes._subplots.AxesSubplot object at 0x0000020D64E42348>,\n",
       "        <matplotlib.axes._subplots.AxesSubplot object at 0x0000020D651293C8>,\n",
       "        <matplotlib.axes._subplots.AxesSubplot object at 0x0000020D65167FC8>,\n",
       "        <matplotlib.axes._subplots.AxesSubplot object at 0x0000020D6519B608>],\n",
       "       [<matplotlib.axes._subplots.AxesSubplot object at 0x0000020D651A6208>,\n",
       "        <matplotlib.axes._subplots.AxesSubplot object at 0x0000020D6545F3C8>,\n",
       "        <matplotlib.axes._subplots.AxesSubplot object at 0x0000020D65A458C8>,\n",
       "        <matplotlib.axes._subplots.AxesSubplot object at 0x0000020D65A7E9C8>],\n",
       "       [<matplotlib.axes._subplots.AxesSubplot object at 0x0000020D65AB7A88>,\n",
       "        <matplotlib.axes._subplots.AxesSubplot object at 0x0000020D65AF0BC8>,\n",
       "        <matplotlib.axes._subplots.AxesSubplot object at 0x0000020D65B28CC8>,\n",
       "        <matplotlib.axes._subplots.AxesSubplot object at 0x0000020D65B60D88>]],\n",
       "      dtype=object)"
      ]
     },
     "execution_count": 21,
     "metadata": {},
     "output_type": "execute_result"
    },
    {
     "data": {
      "image/png": "[encoded data removed]",
      "text/plain": [
       "<Figure size 1080x1080 with 16 Axes>"
      ]
     },
     "metadata": {
      "needs_background": "light"
     },
     "output_type": "display_data"
    }
   ],
   "source": [
    "pd.plotting.scatter_matrix(all_data[['rating','population','income_individual_median', \n",
    "                                     'income_household_median']], figsize=(15, 15))"
   ]
  },
  {
   "cell_type": "markdown",
   "metadata": {},
   "source": [
    "#### Further Analysis\n",
    "Now after some basic EDA I'm looking deeper into the data to find correlations to help make inferences to answer my question. I will also run some k-tests with the variables, as opposed to a t-test, since the data is nonparametric."
   ]
  },
  {
   "cell_type": "code",
   "execution_count": 22,
   "metadata": {},
   "outputs": [
    {
     "data": {
      "text/html": [
       "<div>\n",
       "<style scoped>\n",
       "    .dataframe tbody tr th:only-of-type {\n",
       "        vertical-align: middle;\n",
       "    }\n",
       "\n",
       "    .dataframe tbody tr th {\n",
       "        vertical-align: top;\n",
       "    }\n",
       "\n",
       "    .dataframe thead th {\n",
       "        text-align: right;\n",
       "    }\n",
       "</style>\n",
       "<table border=\"1\" class=\"dataframe\">\n",
       "  <thead>\n",
       "    <tr style=\"text-align: right;\">\n",
       "      <th></th>\n",
       "      <th>rating</th>\n",
       "      <th>review_count</th>\n",
       "      <th>population</th>\n",
       "      <th>income_household_median</th>\n",
       "      <th>income_individual_median</th>\n",
       "    </tr>\n",
       "  </thead>\n",
       "  <tbody>\n",
       "    <tr>\n",
       "      <th>count</th>\n",
       "      <td>194.000000</td>\n",
       "      <td>194.000000</td>\n",
       "      <td>194.000000</td>\n",
       "      <td>194.000000</td>\n",
       "      <td>194.000000</td>\n",
       "    </tr>\n",
       "    <tr>\n",
       "      <th>mean</th>\n",
       "      <td>4.012887</td>\n",
       "      <td>65.329897</td>\n",
       "      <td>45837.948454</td>\n",
       "      <td>86553.835052</td>\n",
       "      <td>43571.020619</td>\n",
       "    </tr>\n",
       "    <tr>\n",
       "      <th>std</th>\n",
       "      <td>0.748808</td>\n",
       "      <td>215.563353</td>\n",
       "      <td>17473.801343</td>\n",
       "      <td>30338.900663</td>\n",
       "      <td>14400.415053</td>\n",
       "    </tr>\n",
       "    <tr>\n",
       "      <th>min</th>\n",
       "      <td>1.000000</td>\n",
       "      <td>1.000000</td>\n",
       "      <td>0.000000</td>\n",
       "      <td>0.000000</td>\n",
       "      <td>0.000000</td>\n",
       "    </tr>\n",
       "    <tr>\n",
       "      <th>25%</th>\n",
       "      <td>3.500000</td>\n",
       "      <td>5.000000</td>\n",
       "      <td>33767.000000</td>\n",
       "      <td>66202.000000</td>\n",
       "      <td>35545.000000</td>\n",
       "    </tr>\n",
       "    <tr>\n",
       "      <th>50%</th>\n",
       "      <td>4.000000</td>\n",
       "      <td>12.500000</td>\n",
       "      <td>45202.000000</td>\n",
       "      <td>77774.000000</td>\n",
       "      <td>43888.000000</td>\n",
       "    </tr>\n",
       "    <tr>\n",
       "      <th>75%</th>\n",
       "      <td>4.500000</td>\n",
       "      <td>46.750000</td>\n",
       "      <td>55316.000000</td>\n",
       "      <td>104990.500000</td>\n",
       "      <td>50127.000000</td>\n",
       "    </tr>\n",
       "    <tr>\n",
       "      <th>max</th>\n",
       "      <td>5.000000</td>\n",
       "      <td>2105.000000</td>\n",
       "      <td>86811.000000</td>\n",
       "      <td>149344.000000</td>\n",
       "      <td>74631.000000</td>\n",
       "    </tr>\n",
       "  </tbody>\n",
       "</table>\n",
       "</div>"
      ],
      "text/plain": [
       "           rating  review_count    population  income_household_median  \\\n",
       "count  194.000000    194.000000    194.000000               194.000000   \n",
       "mean     4.012887     65.329897  45837.948454             86553.835052   \n",
       "std      0.748808    215.563353  17473.801343             30338.900663   \n",
       "min      1.000000      1.000000      0.000000                 0.000000   \n",
       "25%      3.500000      5.000000  33767.000000             66202.000000   \n",
       "50%      4.000000     12.500000  45202.000000             77774.000000   \n",
       "75%      4.500000     46.750000  55316.000000            104990.500000   \n",
       "max      5.000000   2105.000000  86811.000000            149344.000000   \n",
       "\n",
       "       income_individual_median  \n",
       "count                194.000000  \n",
       "mean               43571.020619  \n",
       "std                14400.415053  \n",
       "min                    0.000000  \n",
       "25%                35545.000000  \n",
       "50%                43888.000000  \n",
       "75%                50127.000000  \n",
       "max                74631.000000  "
      ]
     },
     "execution_count": 22,
     "metadata": {},
     "output_type": "execute_result"
    }
   ],
   "source": [
    "# descriptive summary of all variables\n",
    "desc = all_data.describe()\n",
    "desc"
   ]
  },
  {
   "cell_type": "markdown",
   "metadata": {},
   "source": [
    "The correlations between ratings and the other variables are not that large, based off this I predict that I will fail to reject null hypothesis."
   ]
  },
  {
   "cell_type": "code",
   "execution_count": 23,
   "metadata": {
    "scrolled": false
   },
   "outputs": [
    {
     "data": {
      "text/html": [
       "<div>\n",
       "<style scoped>\n",
       "    .dataframe tbody tr th:only-of-type {\n",
       "        vertical-align: middle;\n",
       "    }\n",
       "\n",
       "    .dataframe tbody tr th {\n",
       "        vertical-align: top;\n",
       "    }\n",
       "\n",
       "    .dataframe thead th {\n",
       "        text-align: right;\n",
       "    }\n",
       "</style>\n",
       "<table border=\"1\" class=\"dataframe\">\n",
       "  <thead>\n",
       "    <tr style=\"text-align: right;\">\n",
       "      <th></th>\n",
       "      <th>rating</th>\n",
       "      <th>review_count</th>\n",
       "      <th>population</th>\n",
       "      <th>income_household_median</th>\n",
       "      <th>income_individual_median</th>\n",
       "    </tr>\n",
       "  </thead>\n",
       "  <tbody>\n",
       "    <tr>\n",
       "      <th>rating</th>\n",
       "      <td>1.000000</td>\n",
       "      <td>0.100910</td>\n",
       "      <td>-0.099350</td>\n",
       "      <td>0.271303</td>\n",
       "      <td>0.262580</td>\n",
       "    </tr>\n",
       "    <tr>\n",
       "      <th>review_count</th>\n",
       "      <td>0.100910</td>\n",
       "      <td>1.000000</td>\n",
       "      <td>-0.104503</td>\n",
       "      <td>-0.117032</td>\n",
       "      <td>-0.016286</td>\n",
       "    </tr>\n",
       "    <tr>\n",
       "      <th>population</th>\n",
       "      <td>-0.099350</td>\n",
       "      <td>-0.104503</td>\n",
       "      <td>1.000000</td>\n",
       "      <td>-0.065398</td>\n",
       "      <td>-0.262873</td>\n",
       "    </tr>\n",
       "    <tr>\n",
       "      <th>income_household_median</th>\n",
       "      <td>0.271303</td>\n",
       "      <td>-0.117032</td>\n",
       "      <td>-0.065398</td>\n",
       "      <td>1.000000</td>\n",
       "      <td>0.909565</td>\n",
       "    </tr>\n",
       "    <tr>\n",
       "      <th>income_individual_median</th>\n",
       "      <td>0.262580</td>\n",
       "      <td>-0.016286</td>\n",
       "      <td>-0.262873</td>\n",
       "      <td>0.909565</td>\n",
       "      <td>1.000000</td>\n",
       "    </tr>\n",
       "  </tbody>\n",
       "</table>\n",
       "</div>"
      ],
      "text/plain": [
       "                            rating  review_count  population  \\\n",
       "rating                    1.000000      0.100910   -0.099350   \n",
       "review_count              0.100910      1.000000   -0.104503   \n",
       "population               -0.099350     -0.104503    1.000000   \n",
       "income_household_median   0.271303     -0.117032   -0.065398   \n",
       "income_individual_median  0.262580     -0.016286   -0.262873   \n",
       "\n",
       "                          income_household_median  income_individual_median  \n",
       "rating                                   0.271303                  0.262580  \n",
       "review_count                            -0.117032                 -0.016286  \n",
       "population                              -0.065398                 -0.262873  \n",
       "income_household_median                  1.000000                  0.909565  \n",
       "income_individual_median                 0.909565                  1.000000  "
      ]
     },
     "execution_count": 23,
     "metadata": {},
     "output_type": "execute_result"
    }
   ],
   "source": [
    "# testing to find the correlation coefficients between the variables\n",
    "corrs = all_data.corr()\n",
    "corrs"
   ]
  },
  {
   "cell_type": "markdown",
   "metadata": {},
   "source": [
    "The k-tests will be run on rating, population, and household and individual incomes.\n",
    "\n",
    "In the cell below the first test compares ratings to population and both income variables. Population and household median incomes have smaller p-values meaning they are more likely to have an effect on ratings than individual median incomes. "
   ]
  },
  {
   "cell_type": "code",
   "execution_count": 24,
   "metadata": {
    "scrolled": false
   },
   "outputs": [
    {
     "name": "stdout",
     "output_type": "stream",
     "text": [
      "                            OLS Regression Results                            \n",
      "==============================================================================\n",
      "Dep. Variable:                 rating   R-squared:                       0.080\n",
      "Model:                            OLS   Adj. R-squared:                  0.066\n",
      "Method:                 Least Squares   F-statistic:                     5.530\n",
      "Date:                Sun, 13 Dec 2020   Prob (F-statistic):            0.00116\n",
      "Time:                        15:47:30   Log-Likelihood:                -210.53\n",
      "No. Observations:                 194   AIC:                             429.1\n",
      "Df Residuals:                     190   BIC:                             442.1\n",
      "Df Model:                           3                                         \n",
      "Covariance Type:            nonrobust                                         \n",
      "============================================================================================\n",
      "                               coef    std err          t      P>|t|      [0.025      0.975]\n",
      "--------------------------------------------------------------------------------------------\n",
      "Intercept                    3.6107      0.259     13.928      0.000       3.099       4.122\n",
      "population               -3.569e-06   3.43e-06     -1.041      0.299   -1.03e-05    3.19e-06\n",
      "income_household_median   6.708e-06   4.58e-06      1.463      0.145   -2.34e-06    1.58e-05\n",
      "income_individual_median -3.399e-07   9.99e-06     -0.034      0.973      -2e-05    1.94e-05\n",
      "==============================================================================\n",
      "Omnibus:                       49.679   Durbin-Watson:                   1.969\n",
      "Prob(Omnibus):                  0.000   Jarque-Bera (JB):               97.649\n",
      "Skew:                          -1.228   Prob(JB):                     6.25e-22\n",
      "Kurtosis:                       5.460   Cond. No.                     5.56e+05\n",
      "==============================================================================\n",
      "\n",
      "Warnings:\n",
      "[1] Standard Errors assume that the covariance matrix of the errors is correctly specified.\n",
      "[2] The condition number is large, 5.56e+05. This might indicate that there are\n",
      "strong multicollinearity or other numerical problems.\n"
     ]
    }
   ],
   "source": [
    "outcome, predictors = patsy.dmatrices('rating ~ population + income_household_median + income_individual_median', all_data)\n",
    "mod = sm.OLS(outcome, predictors)  \n",
    "res = mod.fit()\n",
    "print(res.summary())"
   ]
  },
  {
   "cell_type": "markdown",
   "metadata": {},
   "source": [
    "The cell below is a k-test on ratings and population, the p value is quite low meaning there may be an affect of population on ratings of parks."
   ]
  },
  {
   "cell_type": "code",
   "execution_count": 25,
   "metadata": {},
   "outputs": [
    {
     "name": "stdout",
     "output_type": "stream",
     "text": [
      "                            OLS Regression Results                            \n",
      "==============================================================================\n",
      "Dep. Variable:                 rating   R-squared:                       0.010\n",
      "Model:                            OLS   Adj. R-squared:                  0.005\n",
      "Method:                 Least Squares   F-statistic:                     1.914\n",
      "Date:                Sun, 13 Dec 2020   Prob (F-statistic):              0.168\n",
      "Time:                        15:47:30   Log-Likelihood:                -217.69\n",
      "No. Observations:                 194   AIC:                             439.4\n",
      "Df Residuals:                     192   BIC:                             445.9\n",
      "Df Model:                           1                                         \n",
      "Covariance Type:            nonrobust                                         \n",
      "==============================================================================\n",
      "                 coef    std err          t      P>|t|      [0.025      0.975]\n",
      "------------------------------------------------------------------------------\n",
      "Intercept      4.2080      0.151     27.884      0.000       3.910       4.506\n",
      "population -4.257e-06   3.08e-06     -1.383      0.168   -1.03e-05    1.81e-06\n",
      "==============================================================================\n",
      "Omnibus:                       61.570   Durbin-Watson:                   1.833\n",
      "Prob(Omnibus):                  0.000   Jarque-Bera (JB):              145.426\n",
      "Skew:                          -1.422   Prob(JB):                     2.64e-32\n",
      "Kurtosis:                       6.147   Cond. No.                     1.38e+05\n",
      "==============================================================================\n",
      "\n",
      "Warnings:\n",
      "[1] Standard Errors assume that the covariance matrix of the errors is correctly specified.\n",
      "[2] The condition number is large, 1.38e+05. This might indicate that there are\n",
      "strong multicollinearity or other numerical problems.\n"
     ]
    }
   ],
   "source": [
    "outcome, predictors = patsy.dmatrices('rating ~ population', all_data)\n",
    "mod = sm.OLS(outcome, predictors)  \n",
    "res = mod.fit()\n",
    "print(res.summary())"
   ]
  },
  {
   "cell_type": "markdown",
   "metadata": {},
   "source": [
    "The two cells below test household and individual median incomes to park ratings. Both resulted in a p value of 0, suggesting a large effect from both variables. However, these values will not be taken at face value, more discussion on these results will come later."
   ]
  },
  {
   "cell_type": "code",
   "execution_count": 26,
   "metadata": {},
   "outputs": [
    {
     "name": "stdout",
     "output_type": "stream",
     "text": [
      "                            OLS Regression Results                            \n",
      "==============================================================================\n",
      "Dep. Variable:                 rating   R-squared:                       0.069\n",
      "Model:                            OLS   Adj. R-squared:                  0.064\n",
      "Method:                 Least Squares   F-statistic:                     14.22\n",
      "Date:                Sun, 13 Dec 2020   Prob (F-statistic):           0.000217\n",
      "Time:                        15:47:30   Log-Likelihood:                -211.72\n",
      "No. Observations:                 194   AIC:                             427.4\n",
      "Df Residuals:                     192   BIC:                             434.0\n",
      "Df Model:                           1                                         \n",
      "Covariance Type:            nonrobust                                         \n",
      "============================================================================================\n",
      "                               coef    std err          t      P>|t|      [0.025      0.975]\n",
      "--------------------------------------------------------------------------------------------\n",
      "Intercept                    3.4180      0.166     20.575      0.000       3.090       3.746\n",
      "income_individual_median  1.365e-05   3.62e-06      3.771      0.000    6.51e-06    2.08e-05\n",
      "==============================================================================\n",
      "Omnibus:                       49.388   Durbin-Watson:                   1.957\n",
      "Prob(Omnibus):                  0.000   Jarque-Bera (JB):               95.195\n",
      "Skew:                          -1.232   Prob(JB):                     2.13e-21\n",
      "Kurtosis:                       5.389   Cond. No.                     1.47e+05\n",
      "==============================================================================\n",
      "\n",
      "Warnings:\n",
      "[1] Standard Errors assume that the covariance matrix of the errors is correctly specified.\n",
      "[2] The condition number is large, 1.47e+05. This might indicate that there are\n",
      "strong multicollinearity or other numerical problems.\n"
     ]
    }
   ],
   "source": [
    "outcome, predictors = patsy.dmatrices('rating ~  income_individual_median', all_data)\n",
    "mod = sm.OLS(outcome, predictors)  \n",
    "res = mod.fit()\n",
    "print(res.summary())"
   ]
  },
  {
   "cell_type": "code",
   "execution_count": 27,
   "metadata": {},
   "outputs": [
    {
     "name": "stdout",
     "output_type": "stream",
     "text": [
      "                            OLS Regression Results                            \n",
      "==============================================================================\n",
      "Dep. Variable:                 rating   R-squared:                       0.074\n",
      "Model:                            OLS   Adj. R-squared:                  0.069\n",
      "Method:                 Least Squares   F-statistic:                     15.26\n",
      "Date:                Sun, 13 Dec 2020   Prob (F-statistic):           0.000130\n",
      "Time:                        15:47:30   Log-Likelihood:                -211.24\n",
      "No. Observations:                 194   AIC:                             426.5\n",
      "Df Residuals:                     192   BIC:                             433.0\n",
      "Df Model:                           1                                         \n",
      "Covariance Type:            nonrobust                                         \n",
      "===========================================================================================\n",
      "                              coef    std err          t      P>|t|      [0.025      0.975]\n",
      "-------------------------------------------------------------------------------------------\n",
      "Intercept                   3.4333      0.157     21.841      0.000       3.123       3.743\n",
      "income_household_median  6.696e-06   1.71e-06      3.906      0.000    3.31e-06    1.01e-05\n",
      "==============================================================================\n",
      "Omnibus:                       47.485   Durbin-Watson:                   1.960\n",
      "Prob(Omnibus):                  0.000   Jarque-Bera (JB):               89.643\n",
      "Skew:                          -1.195   Prob(JB):                     3.42e-20\n",
      "Kurtosis:                       5.319   Cond. No.                     2.78e+05\n",
      "==============================================================================\n",
      "\n",
      "Warnings:\n",
      "[1] Standard Errors assume that the covariance matrix of the errors is correctly specified.\n",
      "[2] The condition number is large, 2.78e+05. This might indicate that there are\n",
      "strong multicollinearity or other numerical problems.\n"
     ]
    }
   ],
   "source": [
    "outcome, predictors = patsy.dmatrices('rating ~ income_household_median', all_data)\n",
    "mod = sm.OLS(outcome, predictors)  \n",
    "res = mod.fit()\n",
    "print(res.summary())"
   ]
  },
  {
   "cell_type": "markdown",
   "metadata": {},
   "source": [
    "#### Results\n",
    "The results of this analysis suggests that both household and individual median incomes have a strong effect on park quality, which is gauged by park ratings on Yelp. There also appears to be some effect from the population as the p-value is almost 0. However, this analysis is ultimately inconclusive as the dataset used is quite small once all the data was wrangled.  "
   ]
  },
  {
   "cell_type": "markdown",
   "metadata": {},
   "source": [
    "# Ethics & Privacy"
   ]
  },
  {
   "cell_type": "markdown",
   "metadata": {},
   "source": [
    "For the San Diego parks Yelp dataset all the information within the dataset is already publicly available for all Yelp users. There is no personal information linked to the entries in this data set, therefore there are no clear privacy issues. As for the US zip codes database, all the data was compiled from multiple reliable sources including the U.S. Postal Service, U.S. Census Bureau, and the IRS. It should be noted that certain zip codes will have relatively small populations, which would make it easier to identify individuals when given demographic information, though no such data of that nature exists in my dataframe. The zip code database is compliant with the Safe Harbor Methods for privacy, which then carried over to the dataset used here. Although privacy is secured in my data, the questions asked and analysis conducted may lead to unethical use. The questions asked in this project pertain to incomes in different regions of San Diego, the budgetary decisions made based on the analysis done may harm minority or lower-income groups, two groups that often overlap. Perhaps if the data frame was larger the results would be very different and thus change how the data can be misused, but it is always important to make sure that vulnerable groups are protected.  "
   ]
  },
  {
   "cell_type": "markdown",
   "metadata": {},
   "source": [
    "# Conclusion and Discussion "
   ]
  },
  {
   "cell_type": "markdown",
   "metadata": {},
   "source": [
    "The goal of this project was to see if there is any relationship between the population size and median incomes with the quality of nearby parks. This question was asked to help answer a larger question of how to audit the San Diego Parks and Recreation budget for the next 5 years. From this data analysis I conclude that the median incomes (both household and individual) in different areas of San Diego _may_ have an affect on the quality of parks. \n",
    "\n",
    "The results are inconclusive because the dataset after cleaning and wrangling became quite small, thus there were not enough pieces of data to perform an accurate analysis. Because of this, my answer to the overarching question of how to audit the San Diego Parks and Rec funds would be to do more data analysis on larger datasets, and then perhaps the uncertain results of this analysis can be magnified. It's important to note that the data frame did not span all reaches of San Diego County and its parks, which without a doubt affected all the variables' distributions and correlations. So, further analysis could be beneficial in supporting the little correlation found here. Although it seems plausible that areas with a wealthier population will have better parks in comparison to lower-income areas, my data analysis just cannot be used to definitively support this.\n",
    "\n",
    "If this data analysis were to be continued using larger and more informative datasets, stronger relationships may become more apparent. If that were the case, those results could be used to help benefit underrepresented or neglected areas of San Diego. After all, one of the main missions of the Parks and Recreation department is to provide the finest parks and open spaces for all San Diegans to promote happy and healthy living. If only the most populated or wealthiest areas of San Diego had nice and well kept parks, it would not be very fair for the citizens in other areas. So I believe that this work could be used to help provide parks and facilities of the same high standards to all parts of the county. "
   ]
  }
 ],
 "metadata": {
  "kernelspec": {
   "display_name": "Python 3",
   "language": "python",
   "name": "python3"
  },
  "language_info": {
   "codemirror_mode": {
    "name": "ipython",
    "version": 3
   },
   "file_extension": ".py",
   "mimetype": "text/x-python",
   "name": "python",
   "nbconvert_exporter": "python",
   "pygments_lexer": "ipython3",
   "version": "3.7.6"
  }
 },
 "nbformat": 4,
 "nbformat_minor": 2
}
