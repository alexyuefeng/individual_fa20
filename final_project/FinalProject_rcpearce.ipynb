{
 "cells": [
  {
   "cell_type": "markdown",
   "metadata": {},
   "source": [
    "# COGS 108 Final Project"
   ]
  },
  {
   "cell_type": "markdown",
   "metadata": {},
   "source": [
    "## Overview\n",
    "\n",
    "In this project I analyzed the effects of pollutant burden and disadvantaged population characteristics on park ratings, hoping to determine which areas should be prioritized by the San Diego parks department in terms of improving parks. I used Yelp reviews and the metrics provided by CalEnviroScreen 2.0."
   ]
  },
  {
   "cell_type": "markdown",
   "metadata": {},
   "source": [
    "## Name & GitHub ID\n",
    "\n",
    "Name: Rahul Pearce\n",
    "\n",
    "GitHub ID: rcpearce"
   ]
  },
  {
   "cell_type": "markdown",
   "metadata": {},
   "source": [
    "## Research Question\n",
    "\n",
    "Are park ratings in a given San Diego County area more affected by population characteristic factors or pollutant burden factors?"
   ]
  },
  {
   "cell_type": "markdown",
   "metadata": {},
   "source": [
    "## Background and Prior Work\n",
    "\n",
    "   Pollutant burden is a metric used in environmental studies to determine how unsafe an environment is to live in. It takes into account factors such as drinking water contamination, traffic density, and particulate matter density to provide a holistic representation of an area's air and water safety. Such considerations are important when one has an interest in public health [1]; monitoring pollutant burden can elucidate areas in which state or local governments should invest funds to improve quality of life. Health risks associated with a high pollutant burden include premature mortality, cardiovascular and respiratory disease, and asthma [1]. To reduce disease burden, it makes sense to target pollutant burden in affected areas.\n",
    "   \n",
    "   Population characteristic scores, as produced by CalEnviroScreen 2.0, include level of education, employment, and linguistic isolation. This score is created in conjunction with the pollutant burden in order to assess all the factors that may contribute to a negative environment in a community. Often, people living in areas with worse population characteristic scores also face worse access to clean drinking water and more exposure to pollutant burden.\n",
    "   \n",
    "   A solution to these compounding issues could be parks. Communities affected by harmful pollution and disadvantaged population characteristic scores often are people of color. According to researchers in King County Seattle, less than half of the residents who live in majority-people of color neighborhoods live within half a mile of a park [2]. Parks can decrease environmental burden, providing trees and foliage that both provide fresher air and reduce harsh temperatures [3]. It seems that the SD parks department should seek to improve public health by focusing their efforts in areas affected by these factors. This project aims to assess whether areas with higher population characteristic scores or areas with higher pollutant burden scores should be prioritized.\n",
    "   \n",
    "References\n",
    "\n",
    "[1] Outdoor air pollution: Assessing the environmental burden of disease at national and local levels. Bart Ostro. Accessed 14 December 2020.\n",
    "https://www.who.int/quantifying_ehimpacts/publications/ebd5.pdf\n",
    "\n",
    "[2] Arakaki, Elena et al. June 2019 \"Connecting People to Parks in King County: A Transit-to-Parks GIS Analysis\" The Wilderness Society. https://www.wilderness.org/sites/default/files/media/file/Report-Transit%20to%20Parks%20King%20County.pdf\n",
    "\n",
    "[3] The Heat Is On: A Trust for Public Land Special Report\n",
    "https://www.tpl.org/sites/default/files/The-Heat-is-on_A-Trust-for-Public-Land_special-report.pdf accessed 10/22/20\n",
    "   "
   ]
  },
  {
   "cell_type": "markdown",
   "metadata": {},
   "source": [
    "## Hypothesis\n",
    "\n",
    "I hypothesize that areas with a higher pollutant burden will have lower Yelp ratings, as air quality will have a drastic impact on park quality. "
   ]
  },
  {
   "cell_type": "markdown",
   "metadata": {},
   "source": [
    "## Datasets\n",
    "\n",
    "I will be using two datasets. One is the Cal Enviro Screen 2.0 final report, which reports on pollutant burden and population characteristic scores, as well as their percentiles and the factors that contribute to each score. The observations of this dataset are census tracts, with about 8035 observations spanning the state of California. The second dataset I am using includes names of parks, their locations, and average yelp ratings. This dataset has about 830 observations. I plan to combine these datasets using zipcodes, and compare areas with relatively high pollutant burden with areas with relatively high population characteristic scores in terms of the average ratings of parks in those areas.\n",
    "\n",
    "CES 2.0 Source: https://data.ca.gov/dataset/calenviroscreen-2-0\n",
    "\n",
    "Rating Source: https://www.yelp.com/developers/documentation/v3/business_search"
   ]
  },
  {
   "cell_type": "markdown",
   "metadata": {},
   "source": [
    "## Setup"
   ]
  },
  {
   "cell_type": "code",
   "execution_count": 1,
   "metadata": {},
   "outputs": [],
   "source": [
    "import numpy as np\n",
    "import pandas as pd\n",
    "import seaborn as sns\n",
    "import re\n",
    "\n",
    "#Import data; CES dataset provides health factors and yelp dataset\n",
    "#provides information on parks.\n",
    "health = pd.read_csv('calenviroscreen-final-report.csv')\n",
    "parks = pd.read_csv('yelp_SD_parks.csv')"
   ]
  },
  {
   "cell_type": "markdown",
   "metadata": {},
   "source": [
    "## Data Cleaning"
   ]
  },
  {
   "cell_type": "markdown",
   "metadata": {},
   "source": [
    "On viewing the Yelp and CalEnviroScreen 2.0 datasets, multiple issues arise. Firstly, the Yelp dataset includes many entries that are not actually parks, including restaurants, monuments, and even the DMV. I fix this by extracting only those entries with \"Park\" in the name. The CES data includes entries from all over California, but I am only interested in those entries from San Diego County. Additionally, neither of the datasets I have chosen actually have a column for zipcode, but both have a column that includes the zipcode; I extract it and make a new column in each dataset. I also shorten the Yelp parks dataset to only the variables that I am interested in."
   ]
  },
  {
   "cell_type": "code",
   "execution_count": 2,
   "metadata": {},
   "outputs": [],
   "source": [
    "# Want to look at San Diego County Only; dataset is reduced to around \n",
    "#650 entries\n",
    "health = health[health[\"California County\"] == \"San Diego\"]\n",
    "\n",
    "#Location 1 Column Contains the Zipcode; Want to Extract\n",
    "health[\"Location 1\"] = health[\"Location 1\"].str.split('\\n').str[0]\n"
   ]
  },
  {
   "cell_type": "markdown",
   "metadata": {},
   "source": [
    "After removing the longitudinal/latitudinal data, I created a function using regex that would allow me to extract numeric data from the Location 1 column. This allowed me to create a zipcode column in my dataframe."
   ]
  },
  {
   "cell_type": "code",
   "execution_count": 3,
   "metadata": {},
   "outputs": [],
   "source": [
    "#Create function that will extract numbers from a string\n",
    "def zip(string):\n",
    "    return re.findall('[0-9]+', string)\n",
    "\n",
    "#Apply function to health (CES) dataset; function returns a string\n",
    "#so needs to be converted back into a series\n",
    "health[\"Zip\"] = health[\"Location 1\"].apply(zip)\n",
    "health[\"Zip\"] = health[\"Zip\"].apply(pd.Series)\n",
    "\n",
    "#Pare down to the variables I want\n",
    "health = health[[\"Zip\", \"Pollution Burden Pctl\", \"Pop. Char. Pctl\"]]"
   ]
  },
  {
   "cell_type": "code",
   "execution_count": 4,
   "metadata": {},
   "outputs": [],
   "source": [
    "#Remove entries from the dataset that are not parks; dataset\n",
    "#is reduced to 275 entries.\n",
    "parks = parks[parks['name'].str.contains('Park')]\n",
    "\n",
    "#Extract zipcode from address column\n",
    "parks[\"Zip\"] = parks[\"address\"].str[-5:]\n",
    "\n",
    "#Remove unwanted variables\n",
    "parks = parks[[\"Zip\", \"review_count\", \"rating\"]]"
   ]
  },
  {
   "cell_type": "markdown",
   "metadata": {},
   "source": [
    "Here, I realize that there is a very large number of zipcodes, meaning that the number of observations in each one will not be sufficiently large enough to directly compare zipcodes. Since the CES provides percentiles for each of the scores it reports, I can instead break up the zipcodes into groups based on those percentiles. First, I find groupwise means by zipcodes to prepare for my exploratory analyses."
   ]
  },
  {
   "cell_type": "code",
   "execution_count": 5,
   "metadata": {},
   "outputs": [
    {
     "data": {
      "text/html": [
       "<div>\n",
       "<style scoped>\n",
       "    .dataframe tbody tr th:only-of-type {\n",
       "        vertical-align: middle;\n",
       "    }\n",
       "\n",
       "    .dataframe tbody tr th {\n",
       "        vertical-align: top;\n",
       "    }\n",
       "\n",
       "    .dataframe thead th {\n",
       "        text-align: right;\n",
       "    }\n",
       "</style>\n",
       "<table border=\"1\" class=\"dataframe\">\n",
       "  <thead>\n",
       "    <tr style=\"text-align: right;\">\n",
       "      <th></th>\n",
       "      <th>Zip</th>\n",
       "      <th>rating</th>\n",
       "      <th>Pop. Char. Pctl</th>\n",
       "      <th>Pollution Burden Pctl</th>\n",
       "    </tr>\n",
       "  </thead>\n",
       "  <tbody>\n",
       "    <tr>\n",
       "      <th>0</th>\n",
       "      <td>91902</td>\n",
       "      <td>4.500000</td>\n",
       "      <td>33.672000</td>\n",
       "      <td>18.664000</td>\n",
       "    </tr>\n",
       "    <tr>\n",
       "      <th>1</th>\n",
       "      <td>91910</td>\n",
       "      <td>3.666667</td>\n",
       "      <td>55.707647</td>\n",
       "      <td>31.100000</td>\n",
       "    </tr>\n",
       "    <tr>\n",
       "      <th>2</th>\n",
       "      <td>91914</td>\n",
       "      <td>4.000000</td>\n",
       "      <td>17.150000</td>\n",
       "      <td>4.210000</td>\n",
       "    </tr>\n",
       "    <tr>\n",
       "      <th>3</th>\n",
       "      <td>91915</td>\n",
       "      <td>4.500000</td>\n",
       "      <td>8.390000</td>\n",
       "      <td>20.136667</td>\n",
       "    </tr>\n",
       "    <tr>\n",
       "      <th>4</th>\n",
       "      <td>91932</td>\n",
       "      <td>4.000000</td>\n",
       "      <td>57.053333</td>\n",
       "      <td>14.283333</td>\n",
       "    </tr>\n",
       "  </tbody>\n",
       "</table>\n",
       "</div>"
      ],
      "text/plain": [
       "     Zip    rating  Pop. Char. Pctl  Pollution Burden Pctl\n",
       "0  91902  4.500000        33.672000              18.664000\n",
       "1  91910  3.666667        55.707647              31.100000\n",
       "2  91914  4.000000        17.150000               4.210000\n",
       "3  91915  4.500000         8.390000              20.136667\n",
       "4  91932  4.000000        57.053333              14.283333"
      ]
     },
     "execution_count": 5,
     "metadata": {},
     "output_type": "execute_result"
    }
   ],
   "source": [
    "healthmeans = health.groupby(['Zip'])['Pop. Char. Pctl', \n",
    "                        'Pollution Burden Pctl'].mean().reset_index()\n",
    "\n",
    "parkmeans = parks.groupby(['Zip'])['rating'].mean().reset_index()\n",
    "\n",
    "master = parkmeans.merge(healthmeans, on='Zip')\n",
    "\n",
    "#Finally, the dataset that I want to use for my analyses\n",
    "master.head()"
   ]
  },
  {
   "cell_type": "markdown",
   "metadata": {},
   "source": [
    "## Data Analysis & Results"
   ]
  },
  {
   "cell_type": "markdown",
   "metadata": {},
   "source": [
    "EDA\n",
    "\n",
    "I want to start off by looking at the distributions of my data."
   ]
  },
  {
   "cell_type": "code",
   "execution_count": 6,
   "metadata": {},
   "outputs": [
    {
     "data": {
      "text/plain": [
       "array([[<matplotlib.axes._subplots.AxesSubplot object at 0x7fed8edf1790>]],\n",
       "      dtype=object)"
      ]
     },
     "execution_count": 6,
     "metadata": {},
     "output_type": "execute_result"
    },
    {
     "data": {
      "image/png": "[encoded data removed]",
      "text/plain": [
       "<Figure size 432x288 with 1 Axes>"
      ]
     },
     "metadata": {
      "needs_background": "light"
     },
     "output_type": "display_data"
    }
   ],
   "source": [
    "master.hist(column = \"Pop. Char. Pctl\")\n"
   ]
  },
  {
   "cell_type": "markdown",
   "metadata": {},
   "source": [
    "The population characteristic scores are extremely skewed, nowhere near a normal distribution. This tells me that San Diego has many areas where levels of disadvantage in the population are low."
   ]
  },
  {
   "cell_type": "code",
   "execution_count": 7,
   "metadata": {},
   "outputs": [
    {
     "data": {
      "text/plain": [
       "array([[<matplotlib.axes._subplots.AxesSubplot object at 0x7fed8dd4cd10>]],\n",
       "      dtype=object)"
      ]
     },
     "execution_count": 7,
     "metadata": {},
     "output_type": "execute_result"
    },
    {
     "data": {
      "image/png": "[encoded data removed]",
      "text/plain": [
       "<Figure size 432x288 with 1 Axes>"
      ]
     },
     "metadata": {
      "needs_background": "light"
     },
     "output_type": "display_data"
    }
   ],
   "source": [
    "master.hist(column = \"rating\")"
   ]
  },
  {
   "cell_type": "markdown",
   "metadata": {},
   "source": [
    "The ratings seem to follow a roughly normal distribution, with a couple of outliers on the lower end. Depending on how many reviews went into those ratings, they may have to be removed."
   ]
  },
  {
   "cell_type": "code",
   "execution_count": 8,
   "metadata": {},
   "outputs": [
    {
     "data": {
      "text/plain": [
       "array([[<matplotlib.axes._subplots.AxesSubplot object at 0x7fed8dd43890>]],\n",
       "      dtype=object)"
      ]
     },
     "execution_count": 8,
     "metadata": {},
     "output_type": "execute_result"
    },
    {
     "data": {
      "image/png": "[encoded data removed]",
      "text/plain": [
       "<Figure size 432x288 with 1 Axes>"
      ]
     },
     "metadata": {
      "needs_background": "light"
     },
     "output_type": "display_data"
    }
   ],
   "source": [
    "master.hist(column = 'Pollution Burden Pctl')"
   ]
  },
  {
   "cell_type": "markdown",
   "metadata": {},
   "source": [
    "The pollution burden distribution follows a roughly normal distribution with a skew to the right, indicating that there are some areas which experience significantly more pollutant burden than the majority."
   ]
  },
  {
   "cell_type": "markdown",
   "metadata": {},
   "source": [
    "## Ethics & Privacy\n",
    "\n",
    "   There should be no concerns about ethical issues or invasion of privacy with respect to this study. At no point are any individuals' private information put at risk; in fact, this study does not involve information regarding individuals whatsoever. The data is open for use and therefore no issues regarding permissions should arise either. There is, however, potential for bias in use of Yelp reviews as a proxy for park quality. Reviews will likely come from exclusively English speakers, and also likely come from visitors rather than actual residents living nearby the parks. While the average park ratings are helpful for a relative comparison of parks in various areas, they may not be a perfect metric of park quality. Specifically, they may not adequately reflect the opinions of people who often visit those parks but rather lend disproportionate weight to the impressions of rare visitors."
   ]
  },
  {
   "cell_type": "markdown",
   "metadata": {},
   "source": [
    "## Conclusion and Discussion"
   ]
  }
 ],
 "metadata": {
  "kernelspec": {
   "display_name": "Python 3 (clean)",
   "language": "python",
   "name": "python3_clean"
  },
  "language_info": {
   "codemirror_mode": {
    "name": "ipython",
    "version": 3
   },
   "file_extension": ".py",
   "mimetype": "text/x-python",
   "name": "python",
   "nbconvert_exporter": "python",
   "pygments_lexer": "ipython3",
   "version": "3.7.6"
  }
 },
 "nbformat": 4,
 "nbformat_minor": 4
}
