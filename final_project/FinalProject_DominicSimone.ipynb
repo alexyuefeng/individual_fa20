{
 "cells": [
  {
   "cell_type": "markdown",
   "metadata": {},
   "source": [
    "# COGS 108 - Final Project "
   ]
  },
  {
   "cell_type": "markdown",
   "metadata": {},
   "source": [
    "# Overview"
   ]
  },
  {
   "cell_type": "markdown",
   "metadata": {},
   "source": [
    "There are a surprising number of parks in San Diego. Many of them are rated on Yelp, and this analysis will look to discover the relationship between the overall rating of the park with the popularity of that park; measured in terms of how many people left a review. Many parks will not have many reviews, so in which case we will attempt to build a predictor that will predict rating based on review text so in the future in-person comments or other forms of feedback can be incorporated with Yelp reviews to better gauge the quality of these parks.\n",
    "\n",
    "As it will turn out, the majority of the highest rated parks will have less than 30 reviews while the more popular ones will be rated at about a half of a star or a full star less. We will also be unable to build a quality predictor because our review texts are truncated; leaving us with a predictor that attempts to predict rating based on just the first portion of the review. This predictor will be a little better than trivial, and it's accuracy decreases if we try to include a bag of words representation of the truncated text as a feature."
   ]
  },
  {
   "cell_type": "markdown",
   "metadata": {},
   "source": [
    "# Name & GitHub\n",
    "\n",
    "- Name: Dominic Simone\n",
    "- GitHub Username: DominicSimone"
   ]
  },
  {
   "cell_type": "markdown",
   "metadata": {},
   "source": [
    "# Research Question"
   ]
  },
  {
   "cell_type": "markdown",
   "metadata": {},
   "source": [
    "Are the most popular parks rated as the highest quality? In the case of parks with very few ratings, if people tend to avoid submitting online ratings, can we get feedback from people at the park and estimate a rating from that feedback? In more practical terms, how good of a predictor can we build that predicts rating based on review text?"
   ]
  },
  {
   "cell_type": "markdown",
   "metadata": {},
   "source": [
    "## Background and Prior Work"
   ]
  },
  {
   "cell_type": "markdown",
   "metadata": {},
   "source": [
    "Using Yelp data to create predictors is not a new task, and it has been used successfully in the past to achieve pretty high accuracies [1]. This article uses scraped Yelp data to create a predictor that predicts restaurant rating from review text using sentiment analysis and bag of word features to achieve a 97% accurate model, which has the potential to be overfit. We will use similar methods in this analysis to create a predictor to predict park rating from review text.\n",
    "\n",
    "Unfortunately, it seems as though our dataset is somewhat small. It could be the case that not many people leave reviews on Yelp about parks. There are other ways to predict visitor satisfaction outside of reading reviews hosted on a third party site. In a study that collected responses to questionnaires from visitors, many categories of park attributes are identified that are predictive of a visitors satisfaction, with the most predictive category being maintenance of the park [2]. This includes no litter, no vandalism, working restrooms, clean benches, things that have to do with the physical well being of the park. To better understand the quality of San Diego's parks, it would be a good idea to go beyond Yelp reviews and, like in the paper linked in [2], serve questionnaires to visitors themselves and gather more detailed feedback that way.\n",
    "\n",
    "Using the types of park data and questionnaire results used in that study would create a much more accurate model than the one created in this analysis. However, we don't have the time or financial budget to accomodate such an in-depth approach and will be sticking with Yelp reviews.\n",
    "\n",
    "References:\n",
    "- 1) Web Scraping Yelp, Text Mining and Sentiment Analysis for Restaurant Reviews \n",
    "    - https://medium.com/@kborole7/web-scraping-yelp-text-mining-and-sentiment-analysis-for-restaurant-reviews-ea500e1ef84d\n",
    "- 2) Manageable Predictors of Park Visitor Satisfaction: Maintenance and Personnel\n",
    "    - http://staff.washington.edu/kwolf/Archive/Classes/ESRM304_SocSci/304%20Soc%20Sci%20Lab%20Articles/Fletcher_2003.pdf"
   ]
  },
  {
   "cell_type": "markdown",
   "metadata": {},
   "source": [
    "# Hypothesis\n"
   ]
  },
  {
   "cell_type": "markdown",
   "metadata": {},
   "source": [
    "On the subject of popularity, I would expect that the more popular parks (parks with the highest number of ratings) would tend to be higher rated, as more people are attending these parks. \n",
    "\n",
    "On the subject of predictors, I would also expect that features derived from review text would be a good predictor of the rating associated with that review text."
   ]
  },
  {
   "cell_type": "markdown",
   "metadata": {},
   "source": [
    "# Dataset(s)"
   ]
  },
  {
   "cell_type": "markdown",
   "metadata": {},
   "source": [
    "**San Diego Parks Yelp Data**\n",
    "   - Yelp Data for San Diego Parks\n",
    "       - Source: https://www.yelp.com/ (Prof Ellis curated this data)\n",
    "       - Dataset (CSV, Park Information): yelp_SD_parks.csv  \n",
    "            - This data set contains 2333 samples of yelp reviews that are made of id, rating and text pairs. The id represents the park that was rated, the rating is on a scale from 1 to 5, and the text is the text of the review.\n",
    "       - Dataset (CSV, Reviews): yelp_SD_reviews.csv\n",
    "           - This data set contains 832 rows of park information that corresponds to the previous review information, and the data we are using are\tname, overall rating, and review count for every national park."
   ]
  },
  {
   "cell_type": "markdown",
   "metadata": {},
   "source": [
    "# Setup"
   ]
  },
  {
   "cell_type": "code",
   "execution_count": 1,
   "metadata": {},
   "outputs": [],
   "source": [
    "import random\n",
    "import string\n",
    "import pandas as pd\n",
    "import matplotlib.pyplot as plt\n",
    "import seaborn as sns\n",
    "sns.set_theme()\n",
    "from collections import defaultdict\n",
    "from nltk.sentiment.vader import SentimentIntensityAnalyzer\n",
    "from nltk.stem.porter import *\n",
    "from sklearn.feature_extraction.text import TfidfVectorizer\n",
    "from sklearn.metrics import r2_score\n",
    "from sklearn.linear_model import LinearRegression\n",
    "from sklearn.neural_network import MLPRegressor"
   ]
  },
  {
   "cell_type": "markdown",
   "metadata": {},
   "source": [
    "# Data Cleaning"
   ]
  },
  {
   "cell_type": "markdown",
   "metadata": {},
   "source": [
    "The dictionary data required very little cleaning; we only needed to drop a row where the park was closed as well as drop a number of unused columns for convenience."
   ]
  },
  {
   "cell_type": "code",
   "execution_count": 3,
   "metadata": {},
   "outputs": [],
   "source": [
    "df_yelp = pd.read_csv('../data/yelp_SD_reviews.csv')\n",
    "df_yelp_dict = pd.read_csv('../data/yelp_SD_parks.csv')\n",
    "\n",
    "df_yelp_dict = df_yelp_dict[df_yelp_dict['is_closed'] == False]\n",
    "df_yelp_dict = df_yelp_dict.drop(['phone', 'id', 'address', 'url', 'is_closed'], axis=1)"
   ]
  },
  {
   "cell_type": "markdown",
   "metadata": {},
   "source": [
    "The review data was not missing any values and no review was left blank, so no cleaning needed to be done here."
   ]
  },
  {
   "cell_type": "code",
   "execution_count": 4,
   "metadata": {},
   "outputs": [
    {
     "name": "stdout",
     "output_type": "stream",
     "text": [
      "id        False\n",
      "rating    False\n",
      "text      False\n",
      "dtype: bool\n"
     ]
    },
    {
     "data": {
      "text/html": [
       "<div>\n",
       "<style scoped>\n",
       "    .dataframe tbody tr th:only-of-type {\n",
       "        vertical-align: middle;\n",
       "    }\n",
       "\n",
       "    .dataframe tbody tr th {\n",
       "        vertical-align: top;\n",
       "    }\n",
       "\n",
       "    .dataframe thead th {\n",
       "        text-align: right;\n",
       "    }\n",
       "</style>\n",
       "<table border=\"1\" class=\"dataframe\">\n",
       "  <thead>\n",
       "    <tr style=\"text-align: right;\">\n",
       "      <th></th>\n",
       "      <th>id</th>\n",
       "      <th>rating</th>\n",
       "      <th>text</th>\n",
       "    </tr>\n",
       "  </thead>\n",
       "  <tbody>\n",
       "  </tbody>\n",
       "</table>\n",
       "</div>"
      ],
      "text/plain": [
       "Empty DataFrame\n",
       "Columns: [id, rating, text]\n",
       "Index: []"
      ]
     },
     "execution_count": 4,
     "metadata": {},
     "output_type": "execute_result"
    }
   ],
   "source": [
    "print(df_yelp.isna().any())\n",
    "df_yelp[df_yelp['text'] == '']"
   ]
  },
  {
   "cell_type": "markdown",
   "metadata": {},
   "source": [
    "For some use later in the analysis, we need to derive the sentiment from all the review text."
   ]
  },
  {
   "cell_type": "code",
   "execution_count": 5,
   "metadata": {},
   "outputs": [],
   "source": [
    "analyzer = SentimentIntensityAnalyzer()\n",
    "polarities = [analyzer.polarity_scores(d) for d in df_yelp['text']]\n",
    "df_yelp['neg'] = [p['neg'] for p in polarities]\n",
    "df_yelp['pos'] = [p['pos'] for p in polarities]\n",
    "df_yelp['neu'] = [p['neu'] for p in polarities]\n",
    "df_yelp['compound'] = [p['compound'] for p in polarities]"
   ]
  },
  {
   "cell_type": "code",
   "execution_count": 6,
   "metadata": {},
   "outputs": [
    {
     "data": {
      "text/html": [
       "<div>\n",
       "<style scoped>\n",
       "    .dataframe tbody tr th:only-of-type {\n",
       "        vertical-align: middle;\n",
       "    }\n",
       "\n",
       "    .dataframe tbody tr th {\n",
       "        vertical-align: top;\n",
       "    }\n",
       "\n",
       "    .dataframe thead th {\n",
       "        text-align: right;\n",
       "    }\n",
       "</style>\n",
       "<table border=\"1\" class=\"dataframe\">\n",
       "  <thead>\n",
       "    <tr style=\"text-align: right;\">\n",
       "      <th></th>\n",
       "      <th>id</th>\n",
       "      <th>rating</th>\n",
       "      <th>text</th>\n",
       "      <th>neg</th>\n",
       "      <th>pos</th>\n",
       "      <th>neu</th>\n",
       "      <th>compound</th>\n",
       "    </tr>\n",
       "  </thead>\n",
       "  <tbody>\n",
       "    <tr>\n",
       "      <th>0</th>\n",
       "      <td>Balboa Park</td>\n",
       "      <td>5</td>\n",
       "      <td>Balboa Park is a must see when coming to San D...</td>\n",
       "      <td>0.0</td>\n",
       "      <td>0.091</td>\n",
       "      <td>0.909</td>\n",
       "      <td>0.4215</td>\n",
       "    </tr>\n",
       "  </tbody>\n",
       "</table>\n",
       "</div>"
      ],
      "text/plain": [
       "            id  rating                                               text  \\\n",
       "0  Balboa Park       5  Balboa Park is a must see when coming to San D...   \n",
       "\n",
       "   neg    pos    neu  compound  \n",
       "0  0.0  0.091  0.909    0.4215  "
      ]
     },
     "execution_count": 6,
     "metadata": {},
     "output_type": "execute_result"
    }
   ],
   "source": [
    "df_yelp.head(1)"
   ]
  },
  {
   "cell_type": "markdown",
   "metadata": {},
   "source": [
    "Also construct a bag of words representation of the reviews to use in our predictor later."
   ]
  },
  {
   "cell_type": "code",
   "execution_count": 7,
   "metadata": {},
   "outputs": [],
   "source": [
    "wordCount = defaultdict(int)\n",
    "totalWords = 0\n",
    "\n",
    "punct = string.punctuation\n",
    "stemmer = PorterStemmer()\n",
    "\n",
    "for d in df_yelp['text'].values:\n",
    "    t = d.lower() # lowercase string\n",
    "    t = [c for c in t if not (c in punct)] # non-punct characters\n",
    "    t = ''.join(t) # convert back to string\n",
    "    words = t.strip().split() # tokenizes\n",
    "    for w in words:\n",
    "        #w = stemmer.stem(w)\n",
    "        totalWords += 1\n",
    "        wordCount[w] += 1"
   ]
  },
  {
   "cell_type": "code",
   "execution_count": 8,
   "metadata": {},
   "outputs": [
    {
     "data": {
      "text/plain": [
       "[(2976, 'the'), (2205, 'and'), (2108, 'a')]"
      ]
     },
     "execution_count": 8,
     "metadata": {},
     "output_type": "execute_result"
    }
   ],
   "source": [
    "counts = [(wordCount[w], w) for w in wordCount]\n",
    "counts.sort()\n",
    "counts.reverse()\n",
    "counts[:3]"
   ]
  },
  {
   "cell_type": "code",
   "execution_count": 9,
   "metadata": {},
   "outputs": [],
   "source": [
    "# Use the top 100-1000 words \n",
    "words = [w[1] for w in counts[100:1000]]\n",
    "wordId = dict(zip(words, range(len(words))))\n",
    "wordSet = set(words)"
   ]
  },
  {
   "cell_type": "markdown",
   "metadata": {},
   "source": [
    "# Data Analysis & Results"
   ]
  },
  {
   "cell_type": "markdown",
   "metadata": {},
   "source": [
    "### Exploratory Data Analysis\n"
   ]
  },
  {
   "cell_type": "markdown",
   "metadata": {},
   "source": [
    "Basic shape and layout of our two related datasets."
   ]
  },
  {
   "cell_type": "code",
   "execution_count": 10,
   "metadata": {
    "scrolled": true
   },
   "outputs": [
    {
     "name": "stdout",
     "output_type": "stream",
     "text": [
      "(832, 5)\n"
     ]
    },
    {
     "data": {
      "text/html": [
       "<div>\n",
       "<style scoped>\n",
       "    .dataframe tbody tr th:only-of-type {\n",
       "        vertical-align: middle;\n",
       "    }\n",
       "\n",
       "    .dataframe tbody tr th {\n",
       "        vertical-align: top;\n",
       "    }\n",
       "\n",
       "    .dataframe thead th {\n",
       "        text-align: right;\n",
       "    }\n",
       "</style>\n",
       "<table border=\"1\" class=\"dataframe\">\n",
       "  <thead>\n",
       "    <tr style=\"text-align: right;\">\n",
       "      <th></th>\n",
       "      <th>name</th>\n",
       "      <th>rating</th>\n",
       "      <th>review_count</th>\n",
       "      <th>longitude</th>\n",
       "      <th>latitude</th>\n",
       "    </tr>\n",
       "  </thead>\n",
       "  <tbody>\n",
       "    <tr>\n",
       "      <th>0</th>\n",
       "      <td>Balboa Park</td>\n",
       "      <td>5.0</td>\n",
       "      <td>2105</td>\n",
       "      <td>-117.153150</td>\n",
       "      <td>32.734502</td>\n",
       "    </tr>\n",
       "    <tr>\n",
       "      <th>1</th>\n",
       "      <td>Civita Park</td>\n",
       "      <td>4.5</td>\n",
       "      <td>46</td>\n",
       "      <td>-117.147278</td>\n",
       "      <td>32.778315</td>\n",
       "    </tr>\n",
       "  </tbody>\n",
       "</table>\n",
       "</div>"
      ],
      "text/plain": [
       "          name  rating  review_count   longitude   latitude\n",
       "0  Balboa Park     5.0          2105 -117.153150  32.734502\n",
       "1  Civita Park     4.5            46 -117.147278  32.778315"
      ]
     },
     "execution_count": 10,
     "metadata": {},
     "output_type": "execute_result"
    }
   ],
   "source": [
    "print(df_yelp_dict.shape)\n",
    "df_yelp_dict.head(2)"
   ]
  },
  {
   "cell_type": "code",
   "execution_count": 11,
   "metadata": {},
   "outputs": [
    {
     "name": "stdout",
     "output_type": "stream",
     "text": [
      "(2333, 7)\n"
     ]
    },
    {
     "data": {
      "text/html": [
       "<div>\n",
       "<style scoped>\n",
       "    .dataframe tbody tr th:only-of-type {\n",
       "        vertical-align: middle;\n",
       "    }\n",
       "\n",
       "    .dataframe tbody tr th {\n",
       "        vertical-align: top;\n",
       "    }\n",
       "\n",
       "    .dataframe thead th {\n",
       "        text-align: right;\n",
       "    }\n",
       "</style>\n",
       "<table border=\"1\" class=\"dataframe\">\n",
       "  <thead>\n",
       "    <tr style=\"text-align: right;\">\n",
       "      <th></th>\n",
       "      <th>id</th>\n",
       "      <th>rating</th>\n",
       "      <th>text</th>\n",
       "      <th>neg</th>\n",
       "      <th>pos</th>\n",
       "      <th>neu</th>\n",
       "      <th>compound</th>\n",
       "    </tr>\n",
       "  </thead>\n",
       "  <tbody>\n",
       "    <tr>\n",
       "      <th>0</th>\n",
       "      <td>Balboa Park</td>\n",
       "      <td>5</td>\n",
       "      <td>Balboa Park is a must see when coming to San D...</td>\n",
       "      <td>0.0</td>\n",
       "      <td>0.091</td>\n",
       "      <td>0.909</td>\n",
       "      <td>0.4215</td>\n",
       "    </tr>\n",
       "    <tr>\n",
       "      <th>1</th>\n",
       "      <td>Balboa Park</td>\n",
       "      <td>5</td>\n",
       "      <td>Beautiful grounds even to take a stroll during...</td>\n",
       "      <td>0.0</td>\n",
       "      <td>0.379</td>\n",
       "      <td>0.621</td>\n",
       "      <td>0.9001</td>\n",
       "    </tr>\n",
       "  </tbody>\n",
       "</table>\n",
       "</div>"
      ],
      "text/plain": [
       "            id  rating                                               text  \\\n",
       "0  Balboa Park       5  Balboa Park is a must see when coming to San D...   \n",
       "1  Balboa Park       5  Beautiful grounds even to take a stroll during...   \n",
       "\n",
       "   neg    pos    neu  compound  \n",
       "0  0.0  0.091  0.909    0.4215  \n",
       "1  0.0  0.379  0.621    0.9001  "
      ]
     },
     "execution_count": 11,
     "metadata": {},
     "output_type": "execute_result"
    }
   ],
   "source": [
    "print(df_yelp.shape)\n",
    "df_yelp.head(2)"
   ]
  },
  {
   "cell_type": "markdown",
   "metadata": {},
   "source": [
    "---\n",
    "Overall distribution of individual ratings; most people gave 5 stars with the fewest number of people giving 2 stars. This is surprising as I would expect the most common review to be either 3 or 4 stars. Either the San Diego parks are high quality or park attendees tend to give high reviews."
   ]
  },
  {
   "cell_type": "code",
   "execution_count": 12,
   "metadata": {},
   "outputs": [
    {
     "data": {
      "image/png": "[encoded data removed]",
      "text/plain": [
       "<Figure size 432x288 with 1 Axes>"
      ]
     },
     "metadata": {},
     "output_type": "display_data"
    }
   ],
   "source": [
    "ax = sns.histplot(df_yelp['rating'].values)\n",
    "ax.set_xlabel('Rating')\n",
    "_ = ax.set_title('Frequency of ratings across all reviews')"
   ]
  },
  {
   "cell_type": "markdown",
   "metadata": {},
   "source": [
    "Distribution of parks overall ratings; most were between 3.5 to 5 stars with very few under 3 stars. This is a somewhat expected result based on the last graph as most reviews were either 4 or 5 stars."
   ]
  },
  {
   "cell_type": "code",
   "execution_count": 13,
   "metadata": {},
   "outputs": [
    {
     "data": {
      "image/png": "[encoded data removed]",
      "text/plain": [
       "<Figure size 432x288 with 1 Axes>"
      ]
     },
     "metadata": {},
     "output_type": "display_data"
    }
   ],
   "source": [
    "ax = sns.histplot(df_yelp_dict['rating'].values)\n",
    "ax.set_xlabel('Rating')\n",
    "_ = ax.set_title('Frequency of overall park ratings')"
   ]
  },
  {
   "cell_type": "markdown",
   "metadata": {},
   "source": [
    "Distribution of the number of reviews; very few parks had over 200 reviews"
   ]
  },
  {
   "cell_type": "code",
   "execution_count": 14,
   "metadata": {},
   "outputs": [
    {
     "data": {
      "image/png": "[encoded data removed]",
      "text/plain": [
       "<Figure size 432x288 with 1 Axes>"
      ]
     },
     "metadata": {},
     "output_type": "display_data"
    }
   ],
   "source": [
    "# Distribution of the number of reviews; very few parks had over 200 reviews\n",
    "ax = sns.histplot(df_yelp_dict['review_count'].values, bins=100)\n",
    "ax.set_title('Frequency of Total Park Reviews')\n",
    "_ = ax.set_xlabel('Number of reviews')"
   ]
  },
  {
   "cell_type": "markdown",
   "metadata": {},
   "source": [
    "Looking in more detail, it looks like 75% of parks had less than 110 reviews, and 50% had less than 22. With 832 parks total, this means that over 400 parks had less than 22 reviews total. There are a few reasons why this could be the case. These parks could be smaller and less attended and thus have less reviews, this dataset could be incomplete or from an unknown time frame, or maybe people don't leave park reviews on yelp particularly often. This would be a good section for future investigation."
   ]
  },
  {
   "cell_type": "code",
   "execution_count": 15,
   "metadata": {},
   "outputs": [
    {
     "data": {
      "text/plain": [
       "count      832.000000\n",
       "mean       201.486779\n",
       "std        745.191428\n",
       "min          1.000000\n",
       "25%          6.000000\n",
       "50%         22.000000\n",
       "75%        109.000000\n",
       "max      14195.000000\n",
       "Name: review_count, dtype: float64"
      ]
     },
     "execution_count": 15,
     "metadata": {},
     "output_type": "execute_result"
    }
   ],
   "source": [
    "df_yelp_dict['review_count'].describe()"
   ]
  },
  {
   "cell_type": "markdown",
   "metadata": {},
   "source": [
    "How does the number of reviews relate to the rating? Seems like there are plenty of high quality parks that have low review counts. However, this is not super clear with the wide range of review counts."
   ]
  },
  {
   "cell_type": "code",
   "execution_count": 16,
   "metadata": {},
   "outputs": [
    {
     "data": {
      "image/png": "[encoded data removed]",
      "text/plain": [
       "<Figure size 432x288 with 1 Axes>"
      ]
     },
     "metadata": {},
     "output_type": "display_data"
    }
   ],
   "source": [
    "ax = sns.boxplot(data=df_yelp_dict, y='review_count', x='rating')\n",
    "_ = ax.set_title('Overall Park Rating vs Review Count')"
   ]
  },
  {
   "cell_type": "markdown",
   "metadata": {},
   "source": [
    "Cut off the extreme review count scores and it seems like many five star parks had very few reviews. So it seems like the answer to our question of 'Are the most rated parks rated the highest?' as no, since the majority of 5 star parks have fewer than 100 reviews."
   ]
  },
  {
   "cell_type": "code",
   "execution_count": 17,
   "metadata": {},
   "outputs": [
    {
     "data": {
      "image/png": "[encoded data removed]",
      "text/plain": [
       "<Figure size 432x288 with 1 Axes>"
      ]
     },
     "metadata": {},
     "output_type": "display_data"
    }
   ],
   "source": [
    "ax = sns.boxplot(data=df_yelp_dict, y='review_count', x='rating')\n",
    "ax.set_ylim([0, 500])\n",
    "_ = ax.set_title('Overall Park Rating vs Review Count')"
   ]
  },
  {
   "cell_type": "markdown",
   "metadata": {},
   "source": [
    "How does positivity of the review text relate to the rating? Turns out, it's not as direct of a relationship as expected which doesn't bode well for our future predictor. There is a lot of overlap in each of the boxplots, so having a high positivity score on a review doesn't necessarily mean that the review gave a high rating.\n"
   ]
  },
  {
   "cell_type": "code",
   "execution_count": 18,
   "metadata": {},
   "outputs": [
    {
     "data": {
      "image/png": "[encoded data removed]",
      "text/plain": [
       "<Figure size 432x288 with 1 Axes>"
      ]
     },
     "metadata": {},
     "output_type": "display_data"
    }
   ],
   "source": [
    "ax = sns.boxplot(data=df_yelp, x='rating', y='pos')\n",
    "_ = ax.set_title('Review Rating vs Positivity Score')"
   ]
  },
  {
   "cell_type": "markdown",
   "metadata": {},
   "source": [
    "### Analysis"
   ]
  },
  {
   "cell_type": "markdown",
   "metadata": {},
   "source": [
    "Let's see if we can build a multi-layer perceptron predictor out of the review text that can correctly predict rating from input text. I will shuffle the input data and use 90% of it for training, and 10% of it for testing."
   ]
  },
  {
   "cell_type": "code",
   "execution_count": 19,
   "metadata": {},
   "outputs": [],
   "source": [
    "def text(t):\n",
    "    feat = [0]*len(wordSet)\n",
    "    t = t.lower() # lowercase string\n",
    "    t = [c for c in t if not (c in punct)] # non-punct characters\n",
    "    t = ''.join(t) # convert back to string\n",
    "    words = t.strip().split() # tokenizes\n",
    "    for w in words:\n",
    "        if not (w in wordSet): continue\n",
    "        feat[wordId[w]] += 1\n",
    "    feat.append(1)\n",
    "    return feat"
   ]
  },
  {
   "cell_type": "code",
   "execution_count": 21,
   "metadata": {},
   "outputs": [],
   "source": [
    "feat = []\n",
    "rows = df_yelp.values\n",
    "for i in range(len(rows)):\n",
    "    r = [rows[i][1], 1, polarities[i]['pos'], *text(rows[i][2])]\n",
    "    feat.append(r)"
   ]
  },
  {
   "cell_type": "code",
   "execution_count": 25,
   "metadata": {},
   "outputs": [],
   "source": [
    "random.shuffle(feat)\n",
    "X = [f[1:] for f in feat]\n",
    "y = [f[0] for f in feat]\n",
    "\n",
    "Xtrain = X[:int(len(X) * 0.9)]\n",
    "Xtest = X[int(len(X) * 0.9):]\n",
    "\n",
    "ytrain = y[:int(len(y) * 0.9)]\n",
    "ytest = y[int(len(y) * 0.9):]"
   ]
  },
  {
   "cell_type": "code",
   "execution_count": 36,
   "metadata": {},
   "outputs": [
    {
     "data": {
      "text/plain": [
       "MLPRegressor()"
      ]
     },
     "execution_count": 36,
     "metadata": {},
     "output_type": "execute_result"
    }
   ],
   "source": [
    "mod = MLPRegressor()\n",
    "mod_text = MLPRegressor()\n",
    "mod.fit([d[1:3] for d in Xtrain], ytrain)\n",
    "mod_text.fit(Xtrain, ytrain)"
   ]
  },
  {
   "cell_type": "code",
   "execution_count": 37,
   "metadata": {},
   "outputs": [
    {
     "name": "stdout",
     "output_type": "stream",
     "text": [
      "Positivity only r2 score:  0.07157124030740891\n",
      "Positivity + bag of words r2 score:  -0.36747831125977237\n"
     ]
    }
   ],
   "source": [
    "pred = mod.predict([d[1:3] for d in Xtest])\n",
    "pred_text = mod_text.predict(Xtest)\n",
    "\n",
    "print('Positivity only r2 score: ', r2_score(ytest, pred))\n",
    "print('Positivity + bag of words r2 score: ', r2_score(ytest, pred_text))"
   ]
  },
  {
   "cell_type": "markdown",
   "metadata": {},
   "source": [
    "With a test set R^2 score of only about 0.09, our model manages to capture about 9% of the variation in the data. This is pretty bad, and tells us that our predictor is not much better than just predicting the average all the time. Adding in a bag of words representation of the text on top of the positive sentiment score worsens the accuracy of the model. There are a few problems with our model. Most notably, the text data looks like the following:"
   ]
  },
  {
   "cell_type": "code",
   "execution_count": 34,
   "metadata": {},
   "outputs": [
    {
     "data": {
      "text/plain": [
       "\"Balboa Park is a must see when coming to San Diego. If you are a resident, it's nice to realize that every time you do come here, there are different things...\""
      ]
     },
     "execution_count": 34,
     "metadata": {},
     "output_type": "execute_result"
    }
   ],
   "source": [
    "df_yelp['text'].values[0]"
   ]
  },
  {
   "cell_type": "code",
   "execution_count": 33,
   "metadata": {},
   "outputs": [
    {
     "data": {
      "text/plain": [
       "0.9322760394342049"
      ]
     },
     "execution_count": 33,
     "metadata": {},
     "output_type": "execute_result"
    }
   ],
   "source": [
    "n = 0\n",
    "for t in df_yelp['text'].values:\n",
    "    if t[-3:] == '...':\n",
    "        n += 1\n",
    "n / len(df_yelp)"
   ]
  },
  {
   "cell_type": "markdown",
   "metadata": {},
   "source": [
    "In these reviews we see that 93% of reviews  are truncated, leaving an unknown amount of text out of each review. This excluded text could be very important to the overall meaning of each review and is affecting the accuracy of our model with respect to both the sentiment analyzer and the bag of words representation. This is likely why we are seeing such low accuracies from our text-derived predictor, as well as a decrease in accuracy when we try to incorporate a bag of words representation of the text into our model.\n",
    "\n",
    "We saw in the exploratory data analysis that the parks with the most reviews were not the highest rated; in fact, the heavy majority of 5 star parks received less than 30 reviews each. We also saw that building a predictor based on this text data is a flawed approach since so much of the text is truncated to an unknown degree. In order to build a more insightful analysis, we would need additional data."
   ]
  },
  {
   "cell_type": "markdown",
   "metadata": {},
   "source": [
    "# Ethics & Privacy"
   ]
  },
  {
   "cell_type": "markdown",
   "metadata": {},
   "source": [
    "This data was retrieved by Prof Ellis through Yelp's API, and as such we have full permission to use it for non-commercial use according to their Terms of Use.\n",
    "\n",
    "There is no PII in this dataset, and there is no date associated with each review that could link the review to one specific person. \n",
    "\n",
    "We saw in our exploratory analysis that the majority of reviews were a 5. This is a genuine bias that influences our analysis, but not in a significant way.\n",
    "\n",
    "Since we are not drawing conclusions about who is likely to attend a park and since we have no data about the individuals who left each review, we don't need to worry about excluding particular populations. There is likely a section of the population that is more likely to go or more able to go to a state park but we are unable to determine what it is from this data. This is not problematic for this analysis."
   ]
  },
  {
   "cell_type": "markdown",
   "metadata": {},
   "source": [
    "# Conclusion & Discussion"
   ]
  },
  {
   "cell_type": "markdown",
   "metadata": {},
   "source": [
    "We were able to answer both of our research questions with this analysis.\n",
    "\n",
    "We saw in the exploratory data analysis that most national parks had less than 22 reviews, and that most parks with an overall rating of 5 stars had less than 30 reviews, while the more popular ones will be rated at about a half of a star or a full star less. So from this data, we can tell that there are a number of high quality parks that have far fewer visitors than perhaps they deserve.\n",
    "\n",
    "We were also be unable to build a quality predictor because our review texts are truncated; leaving us with a predictor that attempts to predict rating based on just the first portion of the review. This was a huge limitation of this project and makes predictions with text derived features not viable. In order to make a predictor like this possible, we would need a more complete set of text feedback.\n",
    "\n",
    "Knowing these two conclusions, it would seem that many high quality parks are either not getting the visitation they deserve or not getting enough online feedback. In the former case, it would be beneficial to advertise these parks to the surrounding area or make them more accessible to increase the number of visitors, which would benefit both the visitors and the parks themselves. The visitors get to experience high quality parks and the parks may be able to get more funding as more people enjoy them or financially support them through merchandise or vote for budget increases."
   ]
  },
  {
   "cell_type": "code",
   "execution_count": null,
   "metadata": {},
   "outputs": [],
   "source": []
  }
 ],
 "metadata": {
  "kernelspec": {
   "display_name": "Python 3",
   "language": "python",
   "name": "python3"
  },
  "language_info": {
   "codemirror_mode": {
    "name": "ipython",
    "version": 3
   },
   "file_extension": ".py",
   "mimetype": "text/x-python",
   "name": "python",
   "nbconvert_exporter": "python",
   "pygments_lexer": "ipython3",
   "version": "3.6.10"
  }
 },
 "nbformat": 4,
 "nbformat_minor": 2
}
