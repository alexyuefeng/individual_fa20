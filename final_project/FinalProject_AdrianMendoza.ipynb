{
 "cells": [
  {
   "cell_type": "markdown",
   "metadata": {},
   "source": [
    "# COGS 108 - Final Project "
   ]
  },
  {
   "cell_type": "markdown",
   "metadata": {},
   "source": [
    "# Overview"
   ]
  },
  {
   "cell_type": "markdown",
   "metadata": {},
   "source": [
    "*In this project, I intend to identify a relationship between the frequency of crime near a park and whether or not they have a Rec Center. I use datasets particular to San Diego parks to predict the Yelp rating a park gets in San Diego. From this analysis, I found *"
   ]
  },
  {
   "cell_type": "markdown",
   "metadata": {},
   "source": [
    "# Name & GitHub\n",
    "\n",
    "- Name: Adrian Mendoza\n",
    "- GitHub Username: AdrianMendozaCodes"
   ]
  },
  {
   "cell_type": "markdown",
   "metadata": {},
   "source": [
    "# Research Question"
   ]
  },
  {
   "cell_type": "markdown",
   "metadata": {},
   "source": [
    "*Can factors such as a Park having a Rec Center and the number of crimes near the park predict the rating a park will get on a Yelp Review. For this study I will only focus on parks in San Diego.*"
   ]
  },
  {
   "cell_type": "markdown",
   "metadata": {},
   "source": [
    "## Background and Prior Work"
   ]
  },
  {
   "cell_type": "markdown",
   "metadata": {},
   "source": [
    "View the rating of parks in San Diego there seems to be more positive comments and thus postive reviews for higher rated parks. Therefore, the more postive reviews may be correlated to a park having a Rec Center and having low number of crimes occur near the park. One speculation that comes to mind is that poorer areas will not have a Rec Center and will have gangs which will mean high crime rates near the park. Growing up in a poor area in LA and having a Rec Center in the park nearest me only made the park safe during the day, but once evening/night time came the gangs would take over the park thus make over the park not a good park. Out of a rating of 5 I would give it a 3 at most. It will be interseting to see how parks with high crimes near them rate with and without a Rec Center.\n",
    "\n",
    "I could not find any research done on how crime rates near a park in San Diego affect its yelp rating, but I did find that San Diego restaurants make a lot of money off of tourist dollars and if they have a negative Yelp reviews it could cause the business a lot of money.(1) In the same way if parks are getting bad reviews what's to stop the County officals from lowering the funding of the park in following years, potentially causing the park to shut down.\n",
    "\n",
    "In another article the 2020 COVID-19 virus has caused an ambundance of negative reivews to arise on Yelp for resturants. In nature resturants cannot function as quickly and effectiently as they once were pre COVID-19 and bacause of this resurants' ratings are beginning to fall due to impatient customers.(2) In the same manner I think that if crimes begin to increase near parks that are rated high, those same customers might make new reviews with low ratings, again potentially causing the park to lose funds.\n",
    "\n",
    "\n",
    "References (include links):\n",
    "- 1)https://www.sandiegoreader.com/news/2015/oct/07/cover-yelp-giveth-and-yelp-taketh-away/\n",
    "- 2)https://www.nbcsandiego.com/news/local/restaurant-owners-ask-for-patience-customers-leave-poor-yelp-reviews-during-pandemic/2391291/\n"
   ]
  },
  {
   "cell_type": "markdown",
   "metadata": {},
   "source": [
    "# Hypothesis\n"
   ]
  },
  {
   "cell_type": "markdown",
   "metadata": {},
   "source": [
    "*I hypothesize that parks that do not have a Rec Center and have a high number of crime rate we will see a low rating on Yelp predicted. Likewise, parks that have Rec Centers and low crime rates we will find high rating on Yelp. \n",
    "\n",
    "Based off of the two reference I gave replacing resurants with low ratings on Yelp with parks I feel confident to assume that parks with low ratings will have less funding meaning no Rec Center and potentially high crime rate.*"
   ]
  },
  {
   "cell_type": "markdown",
   "metadata": {},
   "source": [
    "# Dataset(s)"
   ]
  },
  {
   "cell_type": "markdown",
   "metadata": {},
   "source": [
    "Datasets \n",
    "- rec_centers_datasd.geojson\n",
    "- yelp_SD_parks.csv\n",
    "- pd_calls_for_service_2019_datasd.csv\n",
    "- pd_calls_for_service_2020_datasd.csv\n",
    "\n",
    "    rec_centers_datasd.geojson\n",
    "        - This has 57 observations\n",
    "        - This dataset \n",
    "        \n",
    "    yelp_SD_parks.csv\n",
    "        - This has 833 observations\n",
    "        - This dataset         \n",
    "    \n",
    "    pd_calls_for_service_2019_datasd.csv\n",
    "        - This has 590967 observations\n",
    "        - This dataset         \n",
    "    \n",
    "    pd_calls_for_service_2020_datasd.csv\n",
    "        - This has 522569 observations\n",
    "        - This dataset   "
   ]
  },
  {
   "cell_type": "markdown",
   "metadata": {},
   "source": [
    "# Setup"
   ]
  },
  {
   "cell_type": "code",
   "execution_count": 1,
   "metadata": {},
   "outputs": [],
   "source": [
    "%matplotlib inline\n",
    "import numpy as np\n",
    "import geopandas as gpd\n",
    "import pandas as pd\n",
    "import matplotlib.pyplot as plt\n",
    "\n",
    "import warnings\n",
    "warnings.filterwarnings('ignore')\n",
    "\n",
    "import patsy\n",
    "import statsmodels.api as sm\n",
    "import scipy.stats as stats\n",
    "from scipy.stats import ttest_ind, chisquare, normaltest"
   ]
  },
  {
   "cell_type": "markdown",
   "metadata": {},
   "source": [
    "# Data Loading"
   ]
  },
  {
   "cell_type": "code",
   "execution_count": 2,
   "metadata": {},
   "outputs": [],
   "source": [
    "world = gpd.read_file('rec_centers_datasd.geojson')\n",
    "yelp_parks_df = pd.read_csv('yelp_SD_parks.csv')\n",
    "pd_calls_2019_df = pd.read_csv('pd_calls_for_service_2019_datasd.csv')\n",
    "pd_calls_2020_df = pd.read_csv('pd_calls_for_service_2020_datasd.csv')\n"
   ]
  },
  {
   "cell_type": "markdown",
   "metadata": {},
   "source": [
    "# Data Cleaning"
   ]
  },
  {
   "cell_type": "code",
   "execution_count": 3,
   "metadata": {},
   "outputs": [],
   "source": [
    "def standardize_string(string):\n",
    "    \n",
    "    string = string.lower()\n",
    "    string = string.strip()\n",
    "    \n",
    "    return string"
   ]
  },
  {
   "cell_type": "code",
   "execution_count": 4,
   "metadata": {},
   "outputs": [
    {
     "data": {
      "text/html": [
       "<div>\n",
       "<style scoped>\n",
       "    .dataframe tbody tr th:only-of-type {\n",
       "        vertical-align: middle;\n",
       "    }\n",
       "\n",
       "    .dataframe tbody tr th {\n",
       "        vertical-align: top;\n",
       "    }\n",
       "\n",
       "    .dataframe thead th {\n",
       "        text-align: right;\n",
       "    }\n",
       "</style>\n",
       "<table border=\"1\" class=\"dataframe\">\n",
       "  <thead>\n",
       "    <tr style=\"text-align: right;\">\n",
       "      <th></th>\n",
       "      <th>name</th>\n",
       "      <th>address</th>\n",
       "      <th>rating</th>\n",
       "      <th>review_count</th>\n",
       "      <th>has_Center</th>\n",
       "      <th>report_count</th>\n",
       "    </tr>\n",
       "  </thead>\n",
       "  <tbody>\n",
       "    <tr>\n",
       "      <th>1</th>\n",
       "      <td>civita park</td>\n",
       "      <td>7960 civita blvd san diego, ca 92108</td>\n",
       "      <td>4.5</td>\n",
       "      <td>46</td>\n",
       "      <td>0</td>\n",
       "      <td>201.0</td>\n",
       "    </tr>\n",
       "    <tr>\n",
       "      <th>2</th>\n",
       "      <td>waterfront park</td>\n",
       "      <td>1600 pacific hwy san diego, ca 92101</td>\n",
       "      <td>4.5</td>\n",
       "      <td>242</td>\n",
       "      <td>0</td>\n",
       "      <td>4247.0</td>\n",
       "    </tr>\n",
       "    <tr>\n",
       "      <th>3</th>\n",
       "      <td>trolley barn park</td>\n",
       "      <td>adams ave and florida st san diego, ca 92116</td>\n",
       "      <td>4.5</td>\n",
       "      <td>102</td>\n",
       "      <td>0</td>\n",
       "      <td>1069.0</td>\n",
       "    </tr>\n",
       "    <tr>\n",
       "      <th>4</th>\n",
       "      <td>bay view park</td>\n",
       "      <td>413 1st st coronado, ca 92118</td>\n",
       "      <td>5.0</td>\n",
       "      <td>42</td>\n",
       "      <td>0</td>\n",
       "      <td>460.0</td>\n",
       "    </tr>\n",
       "    <tr>\n",
       "      <th>5</th>\n",
       "      <td>centrum park</td>\n",
       "      <td>8578 lightwave ave san diego, ca 92123</td>\n",
       "      <td>3.5</td>\n",
       "      <td>22</td>\n",
       "      <td>0</td>\n",
       "      <td>263.0</td>\n",
       "    </tr>\n",
       "    <tr>\n",
       "      <th>...</th>\n",
       "      <td>...</td>\n",
       "      <td>...</td>\n",
       "      <td>...</td>\n",
       "      <td>...</td>\n",
       "      <td>...</td>\n",
       "      <td>...</td>\n",
       "    </tr>\n",
       "    <tr>\n",
       "      <th>827</th>\n",
       "      <td>rio vista trolley station</td>\n",
       "      <td>2185 station village way san diego, ca 92108</td>\n",
       "      <td>3.5</td>\n",
       "      <td>10</td>\n",
       "      <td>0</td>\n",
       "      <td>120.0</td>\n",
       "    </tr>\n",
       "    <tr>\n",
       "      <th>829</th>\n",
       "      <td>san diego metropolitan transit system</td>\n",
       "      <td>1255 imperial ave ste 1000 san diego, ca 92101</td>\n",
       "      <td>2.5</td>\n",
       "      <td>268</td>\n",
       "      <td>0</td>\n",
       "      <td>5.0</td>\n",
       "    </tr>\n",
       "    <tr>\n",
       "      <th>830</th>\n",
       "      <td>petco park</td>\n",
       "      <td>100 park blvd san diego, ca 92101</td>\n",
       "      <td>4.0</td>\n",
       "      <td>1667</td>\n",
       "      <td>0</td>\n",
       "      <td>10058.0</td>\n",
       "    </tr>\n",
       "    <tr>\n",
       "      <th>831</th>\n",
       "      <td>ann d. l'heureux memorial dog park</td>\n",
       "      <td>2700 carlsbad village dr carlsbad, ca 92008</td>\n",
       "      <td>3.0</td>\n",
       "      <td>50</td>\n",
       "      <td>0</td>\n",
       "      <td>1.0</td>\n",
       "    </tr>\n",
       "    <tr>\n",
       "      <th>832</th>\n",
       "      <td>fairbrook farm</td>\n",
       "      <td>4949 s mission rd fallbrook, ca 92028</td>\n",
       "      <td>5.0</td>\n",
       "      <td>1</td>\n",
       "      <td>0</td>\n",
       "      <td>11.0</td>\n",
       "    </tr>\n",
       "  </tbody>\n",
       "</table>\n",
       "<p>653 rows × 6 columns</p>\n",
       "</div>"
      ],
      "text/plain": [
       "                                      name  \\\n",
       "1                              civita park   \n",
       "2                          waterfront park   \n",
       "3                        trolley barn park   \n",
       "4                            bay view park   \n",
       "5                             centrum park   \n",
       "..                                     ...   \n",
       "827              rio vista trolley station   \n",
       "829  san diego metropolitan transit system   \n",
       "830                             petco park   \n",
       "831     ann d. l'heureux memorial dog park   \n",
       "832                         fairbrook farm   \n",
       "\n",
       "                                            address  rating  review_count  \\\n",
       "1              7960 civita blvd san diego, ca 92108     4.5            46   \n",
       "2              1600 pacific hwy san diego, ca 92101     4.5           242   \n",
       "3      adams ave and florida st san diego, ca 92116     4.5           102   \n",
       "4                     413 1st st coronado, ca 92118     5.0            42   \n",
       "5            8578 lightwave ave san diego, ca 92123     3.5            22   \n",
       "..                                              ...     ...           ...   \n",
       "827    2185 station village way san diego, ca 92108     3.5            10   \n",
       "829  1255 imperial ave ste 1000 san diego, ca 92101     2.5           268   \n",
       "830               100 park blvd san diego, ca 92101     4.0          1667   \n",
       "831     2700 carlsbad village dr carlsbad, ca 92008     3.0            50   \n",
       "832           4949 s mission rd fallbrook, ca 92028     5.0             1   \n",
       "\n",
       "     has_Center  report_count  \n",
       "1             0         201.0  \n",
       "2             0        4247.0  \n",
       "3             0        1069.0  \n",
       "4             0         460.0  \n",
       "5             0         263.0  \n",
       "..          ...           ...  \n",
       "827           0         120.0  \n",
       "829           0           5.0  \n",
       "830           0       10058.0  \n",
       "831           0           1.0  \n",
       "832           0          11.0  \n",
       "\n",
       "[653 rows x 6 columns]"
      ]
     },
     "execution_count": 4,
     "metadata": {},
     "output_type": "execute_result"
    }
   ],
   "source": [
    "world = world[['park_name', 'address']]\n",
    "yelp_parks_df = yelp_parks_df[['name', 'address', 'rating', 'review_count']]\n",
    "pd_calls_2019_df = pd_calls_2019_df[['address_road_primary', 'address_sfx_primary', 'priority']]\n",
    "pd_calls_2020_df = pd_calls_2020_df[['address_road_primary', 'address_sfx_primary', 'priority']]\n",
    "\n",
    "#clean pd_calls_2020_df to only have full address and report count for each address\n",
    "pd_calls_2020_df.insert(0, \"full_addr\", pd_calls_2020_df['address_road_primary']+ ' ' + pd_calls_2020_df['address_sfx_primary'])\n",
    "df_2020 = pd.DataFrame(pd_calls_2020_df['full_addr'].value_counts())\n",
    "df_2020 = df_2020.sort_index(ascending=True)\n",
    "df_2020.reset_index(inplace=True)\n",
    "df_2020 = df_2020.rename(columns = {'index':'full_addr', 'full_addr':'report_count'})\n",
    "df_2020\n",
    "\n",
    "#clean pd_calls_2019_df to only have full address and report count for each address\n",
    "pd_calls_2019_df = pd_calls_2019_df.dropna()\n",
    "pd_calls_2019_df.insert(0, \"full_addr\", pd_calls_2019_df['address_road_primary']+ ' ' + pd_calls_2019_df['address_sfx_primary'])\n",
    "df_2019 = pd.DataFrame(pd_calls_2019_df['full_addr'].value_counts())\n",
    "df_2019 = df_2019.sort_index(ascending=True)\n",
    "df_2019.reset_index(inplace=True)\n",
    "df_2019 = df_2019.rename(columns = {'index':'full_addr', 'full_addr':'report_count'})\n",
    "df_2019\n",
    "\n",
    "merge = df_2020.merge(df_2019, left_on='full_addr', right_on='full_addr', how='outer')\n",
    "merge = merge.sort_values('full_addr', ascending=True)\n",
    "merge = merge.fillna(0)\n",
    "merge.insert(1, \"report_count\", merge['report_count_x'] + merge['report_count_y'])\n",
    "pd_calls = merge[['full_addr', 'report_count']]\n",
    "for x, y in pd_calls['full_addr'].items():\n",
    "    if(y.startswith(\"0\")):\n",
    "        pd_calls.loc[x, 'full_addr'] = y.replace(\"0\",\"\",1)\n",
    "\n",
    "\n",
    "#Revmove duplicates of parks with the same name and only keep park name of where there is a center and address\n",
    "#centers[['park_name','address']]\n",
    "centers = world.drop_duplicates(subset = [\"park_name\"], keep='first')\n",
    "\n",
    "\n",
    "\n",
    "#Add a new column to tell if a park has a center or not\n",
    "#yelp_parks_df[['name','address', ..., 'has_Center']]\n",
    "yelp_parks_df['has_Center'] = 0\n",
    "yelp_parks_df['report_count'] = 0\n",
    "\n",
    "#Normalize names\n",
    "pd_calls['full_addr'] = pd_calls['full_addr'].apply(standardize_string)\n",
    "centers['park_name'] = centers['park_name'].apply(standardize_string)\n",
    "centers['address'] = centers['address'].apply(standardize_string)\n",
    "yelp_parks_df['name'] = yelp_parks_df['name'].apply(standardize_string)\n",
    "yelp_parks_df['address'] = yelp_parks_df['address'].apply(standardize_string)\n",
    "\n",
    "#Assign a 1 in has_Center to every park that has a center in yelp_parks_df\n",
    "for indx, address in centers['park_name'].items():\n",
    "    for ind, addy in yelp_parks_df['name'].items():\n",
    "        if(address in addy):\n",
    "            yelp_parks_df.loc[ind,'has_Center'] = 1\n",
    "\n",
    "for indx, name in centers['address'].items():\n",
    "    for ind, names in yelp_parks_df['address'].items():\n",
    "        if(name in names):\n",
    "            yelp_parks_df.loc[ind,'has_Center'] = 1\n",
    "\n",
    "for indx, address in pd_calls['full_addr'].items():\n",
    "    for ind, addy in yelp_parks_df['address'].items():\n",
    "        if(address in addy):\n",
    "            yelp_parks_df.loc[ind,'report_count'] = pd_calls.loc[indx, 'report_count']\n",
    "\n",
    "y = yelp_parks_df[yelp_parks_df['report_count'] > 0]\n",
    "y\n",
    "\n",
    "\n"
   ]
  },
  {
   "cell_type": "markdown",
   "metadata": {},
   "source": [
    "# Plotting"
   ]
  },
  {
   "cell_type": "code",
   "execution_count": 5,
   "metadata": {},
   "outputs": [
    {
     "data": {
      "image/png": "[encoded data removed]",
      "text/plain": [
       "<Figure size 2160x1800 with 1 Axes>"
      ]
     },
     "metadata": {
      "needs_background": "light"
     },
     "output_type": "display_data"
    }
   ],
   "source": [
    "park_hasCenter = yelp_parks_df[['name','has_Center']]\n",
    "\n",
    "plot1 = park_hasCenter.plot.bar(figsize=(30,25))\n",
    "plot1 = plt.xlabel('Park Name')\n",
    "plot1 = plt.ylabel('Has Rec Center')\n",
    "plot1 = plt.rcParams.update({'font.size': 21})\n",
    "plot1 = plt.gcf()\n"
   ]
  },
  {
   "cell_type": "markdown",
   "metadata": {},
   "source": [
    "# Data Analysis & Results"
   ]
  },
  {
   "cell_type": "code",
   "execution_count": null,
   "metadata": {},
   "outputs": [],
   "source": []
  },
  {
   "cell_type": "markdown",
   "metadata": {},
   "source": [
    "# Ethics & Privacy"
   ]
  },
  {
   "cell_type": "markdown",
   "metadata": {},
   "source": [
    "*Fill in your ethics & privacy discussion here*"
   ]
  },
  {
   "cell_type": "markdown",
   "metadata": {},
   "source": [
    "# Conclusion & Discussion"
   ]
  },
  {
   "cell_type": "markdown",
   "metadata": {},
   "source": [
    "*Fill in your discussion information here*"
   ]
  }
 ],
 "metadata": {
  "kernelspec": {
   "display_name": "Python 3",
   "language": "python",
   "name": "python3"
  },
  "language_info": {
   "codemirror_mode": {
    "name": "ipython",
    "version": 3
   },
   "file_extension": ".py",
   "mimetype": "text/x-python",
   "name": "python",
   "nbconvert_exporter": "python",
   "pygments_lexer": "ipython3",
   "version": "3.7.6"
  }
 },
 "nbformat": 4,
 "nbformat_minor": 2
}
