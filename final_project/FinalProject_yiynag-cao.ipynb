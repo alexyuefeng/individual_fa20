{
 "cells": [
  {
   "cell_type": "markdown",
   "metadata": {},
   "source": [
    "# COGS 108 - Final Project "
   ]
  },
  {
   "cell_type": "markdown",
   "metadata": {},
   "source": [
    "# Overview"
   ]
  },
  {
   "cell_type": "markdown",
   "metadata": {},
   "source": [
    "In the project, I will use TF-IDF to analyze the yelp reviews of parks in San Diego, find whether the ratings and comments are matched, and if it is matched, what features do people like the most about the parks in San Diego.\n",
    "The result is that the accuracy of the testing data is 80% and validation is 79%. This means that most of the ratings and comments are matched. The most liked features are bridge, hotel, trolley, party and so on. In this way, to attrct more visitors to the parks in San Diego, the city might add on or maintain these elements for its parks."
   ]
  },
  {
   "cell_type": "markdown",
   "metadata": {},
   "source": [
    "# Name & GitHub\n",
    "\n",
    "- Name: Yiyang Cao\n",
    "- GitHub Username: yiyang-cao"
   ]
  },
  {
   "cell_type": "markdown",
   "metadata": {},
   "source": [
    "# Research Question"
   ]
  },
  {
   "cell_type": "markdown",
   "metadata": {},
   "source": [
    "For the comments and ratings about the parks in San Diego, do they match each other? (For high ratings, the comments are relatively positive. For low ratings, the comments are relatively negative.) If they match, what features do people like the most?"
   ]
  },
  {
   "cell_type": "markdown",
   "metadata": {},
   "source": [
    "## Background and Prior Work"
   ]
  },
  {
   "cell_type": "markdown",
   "metadata": {},
   "source": [
    "For San Diego parks and recreation programs, there are over 42,000 acres of park assets, which includes almost 27,000 acres of open space and aquatic areas. The Department provides a wide variety of opportunities with over 400 parks, including Balboa Park and Mission Bay Park and 25.9 miles of oceanfront shoreline. Open space areas conserve and protect a rich variety of sensitive habitat and cultural history and provide educational opportunities in a natural setting. Recreational programs include ceramics, learn-to-swim, karate, gymnastics, dance, organized sports, golf, day camps, holiday events, senior and teen activities, tiny tot classes, therapeutic recreation activities, nature programs and much more.\n",
    "\n",
    "Recent research suggests that reviews found on social networks and review sites like Yelp may not be as reliable as people think. According to this study, roughly 20% of restaurant reviews (positive and negative) are fake.\n",
    "91% of people trust online reviews as much as personal recommendations - but about 20% of reviews are fake\n",
    "Fake reviews have created problems for both honest businesses and consumers, and it's easy to see why. Each additional one-star Yelp rating causes an increase in business revenue as high as 9 percent. Since reviews directly impact revenue, this creates motivation for businesses to improve their Yelp page. Some businesses take extreme and/or dishonest measures to do so.\n",
    "\n",
    "References (include links):\n",
    "- 1)https://www.sandiego.gov/park-and-recreation/general-info\n",
    "- 2)https://blog.reputationx.com/are-online-reviews-reliable#:~:text=Recent%20research%20suggests%20that%20reviews,positive%20and%20negative)%20are%20fake."
   ]
  },
  {
   "cell_type": "markdown",
   "metadata": {},
   "source": [
    "# Hypothesis"
   ]
  },
  {
   "cell_type": "markdown",
   "metadata": {},
   "source": [
    "The comments and ratings match each other since I believe most of the people would rate and comment honestly and because of parks are not like other profitable businesses, the fake reviews shown above might not be applied here."
   ]
  },
  {
   "cell_type": "markdown",
   "metadata": {},
   "source": [
    "# Dataset(s)"
   ]
  },
  {
   "cell_type": "markdown",
   "metadata": {},
   "source": [
    "- Dataset Name: yelp_SD_reviews.csv\n",
    "- Link to the dataset:\n",
    "- Number of observations: 3\n",
    "\n",
    "\n",
    "\n"
   ]
  },
  {
   "cell_type": "markdown",
   "metadata": {},
   "source": [
    "# Setup"
   ]
  },
  {
   "cell_type": "code",
   "execution_count": 1,
   "metadata": {},
   "outputs": [],
   "source": [
    "import numpy as np\n",
    "import pandas as pd\n",
    "import matplotlib.pyplot as plt\n",
    "import seaborn as sns\n",
    "\n",
    "# Import nltk package \n",
    "import nltk\n",
    "from nltk.tokenize import word_tokenize\n",
    "from nltk.corpus import stopwords\n",
    "\n",
    "# import random for randomizing\n",
    "import random\n",
    "\n",
    "# scikit-learn imports\n",
    "from sklearn.svm import SVC\n",
    "from sklearn.feature_extraction.text import TfidfVectorizer\n",
    "from sklearn.metrics import classification_report, precision_recall_fscore_support\n",
    "\n",
    "# silence warnings\n",
    "import warnings\n",
    "warnings.filterwarnings('ignore')"
   ]
  },
  {
   "cell_type": "code",
   "execution_count": 2,
   "metadata": {},
   "outputs": [
    {
     "name": "stderr",
     "output_type": "stream",
     "text": [
      "[nltk_data] Downloading package punkt to /Users/jiushou/nltk_data...\n",
      "[nltk_data]   Package punkt is already up-to-date!\n",
      "[nltk_data] Downloading package stopwords to\n",
      "[nltk_data]     /Users/jiushou/nltk_data...\n",
      "[nltk_data]   Package stopwords is already up-to-date!\n"
     ]
    },
    {
     "data": {
      "text/plain": [
       "True"
      ]
     },
     "execution_count": 2,
     "metadata": {},
     "output_type": "execute_result"
    }
   ],
   "source": [
    "nltk.download('punkt')\n",
    "nltk.download('stopwords')"
   ]
  },
  {
   "cell_type": "code",
   "execution_count": 3,
   "metadata": {},
   "outputs": [
    {
     "data": {
      "text/html": [
       "<div>\n",
       "<style scoped>\n",
       "    .dataframe tbody tr th:only-of-type {\n",
       "        vertical-align: middle;\n",
       "    }\n",
       "\n",
       "    .dataframe tbody tr th {\n",
       "        vertical-align: top;\n",
       "    }\n",
       "\n",
       "    .dataframe thead th {\n",
       "        text-align: right;\n",
       "    }\n",
       "</style>\n",
       "<table border=\"1\" class=\"dataframe\">\n",
       "  <thead>\n",
       "    <tr style=\"text-align: right;\">\n",
       "      <th></th>\n",
       "      <th>id</th>\n",
       "      <th>rating</th>\n",
       "      <th>text</th>\n",
       "    </tr>\n",
       "  </thead>\n",
       "  <tbody>\n",
       "    <tr>\n",
       "      <td>0</td>\n",
       "      <td>Balboa Park</td>\n",
       "      <td>5</td>\n",
       "      <td>Balboa Park is a must see when coming to San D...</td>\n",
       "    </tr>\n",
       "    <tr>\n",
       "      <td>1</td>\n",
       "      <td>Balboa Park</td>\n",
       "      <td>5</td>\n",
       "      <td>Beautiful grounds even to take a stroll during...</td>\n",
       "    </tr>\n",
       "    <tr>\n",
       "      <td>2</td>\n",
       "      <td>Balboa Park</td>\n",
       "      <td>5</td>\n",
       "      <td>Beautiful sightseeing in San Diego. Lots of wa...</td>\n",
       "    </tr>\n",
       "    <tr>\n",
       "      <td>3</td>\n",
       "      <td>Civita Park</td>\n",
       "      <td>5</td>\n",
       "      <td>Was invited to child's B-Day party pre Covid-1...</td>\n",
       "    </tr>\n",
       "    <tr>\n",
       "      <td>4</td>\n",
       "      <td>Civita Park</td>\n",
       "      <td>5</td>\n",
       "      <td>Pretty nice park, beautiful design.  Anyone is...</td>\n",
       "    </tr>\n",
       "    <tr>\n",
       "      <td>...</td>\n",
       "      <td>...</td>\n",
       "      <td>...</td>\n",
       "      <td>...</td>\n",
       "    </tr>\n",
       "    <tr>\n",
       "      <td>2328</td>\n",
       "      <td>Petco Park</td>\n",
       "      <td>5</td>\n",
       "      <td>I have visited over 27 MLB Ballparks including...</td>\n",
       "    </tr>\n",
       "    <tr>\n",
       "      <td>2329</td>\n",
       "      <td>Ann D. L'Heureux Memorial Dog Park</td>\n",
       "      <td>4</td>\n",
       "      <td>No grass here but it's a great dog park. if yo...</td>\n",
       "    </tr>\n",
       "    <tr>\n",
       "      <td>2330</td>\n",
       "      <td>Ann D. L'Heureux Memorial Dog Park</td>\n",
       "      <td>3</td>\n",
       "      <td>I love taking our cholate lab here, however, t...</td>\n",
       "    </tr>\n",
       "    <tr>\n",
       "      <td>2331</td>\n",
       "      <td>Ann D. L'Heureux Memorial Dog Park</td>\n",
       "      <td>3</td>\n",
       "      <td>Pretty small dog park overall. The center of t...</td>\n",
       "    </tr>\n",
       "    <tr>\n",
       "      <td>2332</td>\n",
       "      <td>Fairbrook Farm</td>\n",
       "      <td>5</td>\n",
       "      <td>Super friendly staff! I always feel welcome an...</td>\n",
       "    </tr>\n",
       "  </tbody>\n",
       "</table>\n",
       "<p>2333 rows × 3 columns</p>\n",
       "</div>"
      ],
      "text/plain": [
       "                                      id  rating  \\\n",
       "0                            Balboa Park       5   \n",
       "1                            Balboa Park       5   \n",
       "2                            Balboa Park       5   \n",
       "3                            Civita Park       5   \n",
       "4                            Civita Park       5   \n",
       "...                                  ...     ...   \n",
       "2328                          Petco Park       5   \n",
       "2329  Ann D. L'Heureux Memorial Dog Park       4   \n",
       "2330  Ann D. L'Heureux Memorial Dog Park       3   \n",
       "2331  Ann D. L'Heureux Memorial Dog Park       3   \n",
       "2332                      Fairbrook Farm       5   \n",
       "\n",
       "                                                   text  \n",
       "0     Balboa Park is a must see when coming to San D...  \n",
       "1     Beautiful grounds even to take a stroll during...  \n",
       "2     Beautiful sightseeing in San Diego. Lots of wa...  \n",
       "3     Was invited to child's B-Day party pre Covid-1...  \n",
       "4     Pretty nice park, beautiful design.  Anyone is...  \n",
       "...                                                 ...  \n",
       "2328  I have visited over 27 MLB Ballparks including...  \n",
       "2329  No grass here but it's a great dog park. if yo...  \n",
       "2330  I love taking our cholate lab here, however, t...  \n",
       "2331  Pretty small dog park overall. The center of t...  \n",
       "2332  Super friendly staff! I always feel welcome an...  \n",
       "\n",
       "[2333 rows x 3 columns]"
      ]
     },
     "execution_count": 3,
     "metadata": {},
     "output_type": "execute_result"
    }
   ],
   "source": [
    "df = pd.read_csv('Desktop/individual_fa20/data/yelp_SD_reviews.csv')\n",
    "df"
   ]
  },
  {
   "cell_type": "markdown",
   "metadata": {},
   "source": [
    "# Data Cleaning"
   ]
  },
  {
   "cell_type": "markdown",
   "metadata": {},
   "source": [
    "Describe your data cleaning steps here."
   ]
  },
  {
   "cell_type": "code",
   "execution_count": 4,
   "metadata": {},
   "outputs": [
    {
     "data": {
      "text/plain": [
       "id        False\n",
       "rating    False\n",
       "text      False\n",
       "dtype: bool"
      ]
     },
     "execution_count": 4,
     "metadata": {},
     "output_type": "execute_result"
    }
   ],
   "source": [
    "# determine which columns have missing data\n",
    "df.isna().any()"
   ]
  },
  {
   "cell_type": "code",
   "execution_count": 5,
   "metadata": {},
   "outputs": [
    {
     "data": {
      "text/plain": [
       "0"
      ]
     },
     "execution_count": 5,
     "metadata": {},
     "output_type": "execute_result"
    }
   ],
   "source": [
    "var_missing = sum(df.isna().sum())\n",
    "var_missing"
   ]
  },
  {
   "cell_type": "code",
   "execution_count": 6,
   "metadata": {},
   "outputs": [],
   "source": [
    "# rename column\n",
    "df = df.rename({'id':'park_name'}, axis='columns')"
   ]
  },
  {
   "cell_type": "markdown",
   "metadata": {},
   "source": [
    "# Data Analysis & Results"
   ]
  },
  {
   "cell_type": "markdown",
   "metadata": {},
   "source": [
    "Include cells that describe the steps in your data analysis."
   ]
  },
  {
   "cell_type": "code",
   "execution_count": 7,
   "metadata": {},
   "outputs": [
    {
     "data": {
      "image/png": "[encoded data removed]",
      "text/plain": [
       "<Figure size 432x288 with 1 Axes>"
      ]
     },
     "metadata": {
      "needs_background": "light"
     },
     "output_type": "display_data"
    }
   ],
   "source": [
    "# distribution of rating\n",
    "sns.distplot(df['rating'], kde=False, bins=25);\n",
    "\n",
    "f1 = plt.gcf()"
   ]
  },
  {
   "cell_type": "code",
   "execution_count": null,
   "metadata": {},
   "outputs": [],
   "source": []
  },
  {
   "cell_type": "code",
   "execution_count": 8,
   "metadata": {},
   "outputs": [],
   "source": [
    "# convert rating greater than 3 to most like, less than or equal to 3 to least like\n",
    "def convert_rating(rate):\n",
    "    if rate>3:\n",
    "        return 1.0\n",
    "    else:\n",
    "        return 0.0"
   ]
  },
  {
   "cell_type": "code",
   "execution_count": 9,
   "metadata": {},
   "outputs": [
    {
     "data": {
      "text/html": [
       "<div>\n",
       "<style scoped>\n",
       "    .dataframe tbody tr th:only-of-type {\n",
       "        vertical-align: middle;\n",
       "    }\n",
       "\n",
       "    .dataframe tbody tr th {\n",
       "        vertical-align: top;\n",
       "    }\n",
       "\n",
       "    .dataframe thead th {\n",
       "        text-align: right;\n",
       "    }\n",
       "</style>\n",
       "<table border=\"1\" class=\"dataframe\">\n",
       "  <thead>\n",
       "    <tr style=\"text-align: right;\">\n",
       "      <th></th>\n",
       "      <th>park_name</th>\n",
       "      <th>rating</th>\n",
       "      <th>text</th>\n",
       "      <th>most_least</th>\n",
       "    </tr>\n",
       "  </thead>\n",
       "  <tbody>\n",
       "    <tr>\n",
       "      <td>0</td>\n",
       "      <td>Balboa Park</td>\n",
       "      <td>5</td>\n",
       "      <td>Balboa Park is a must see when coming to San D...</td>\n",
       "      <td>1.0</td>\n",
       "    </tr>\n",
       "    <tr>\n",
       "      <td>1</td>\n",
       "      <td>Balboa Park</td>\n",
       "      <td>5</td>\n",
       "      <td>Beautiful grounds even to take a stroll during...</td>\n",
       "      <td>1.0</td>\n",
       "    </tr>\n",
       "    <tr>\n",
       "      <td>2</td>\n",
       "      <td>Balboa Park</td>\n",
       "      <td>5</td>\n",
       "      <td>Beautiful sightseeing in San Diego. Lots of wa...</td>\n",
       "      <td>1.0</td>\n",
       "    </tr>\n",
       "    <tr>\n",
       "      <td>3</td>\n",
       "      <td>Civita Park</td>\n",
       "      <td>5</td>\n",
       "      <td>Was invited to child's B-Day party pre Covid-1...</td>\n",
       "      <td>1.0</td>\n",
       "    </tr>\n",
       "    <tr>\n",
       "      <td>4</td>\n",
       "      <td>Civita Park</td>\n",
       "      <td>5</td>\n",
       "      <td>Pretty nice park, beautiful design.  Anyone is...</td>\n",
       "      <td>1.0</td>\n",
       "    </tr>\n",
       "  </tbody>\n",
       "</table>\n",
       "</div>"
      ],
      "text/plain": [
       "     park_name  rating                                               text  \\\n",
       "0  Balboa Park       5  Balboa Park is a must see when coming to San D...   \n",
       "1  Balboa Park       5  Beautiful grounds even to take a stroll during...   \n",
       "2  Balboa Park       5  Beautiful sightseeing in San Diego. Lots of wa...   \n",
       "3  Civita Park       5  Was invited to child's B-Day party pre Covid-1...   \n",
       "4  Civita Park       5  Pretty nice park, beautiful design.  Anyone is...   \n",
       "\n",
       "   most_least  \n",
       "0         1.0  \n",
       "1         1.0  \n",
       "2         1.0  \n",
       "3         1.0  \n",
       "4         1.0  "
      ]
     },
     "execution_count": 9,
     "metadata": {},
     "output_type": "execute_result"
    }
   ],
   "source": [
    "df['most_least'] = df['rating'].apply(convert_rating)\n",
    "df.head()"
   ]
  },
  {
   "cell_type": "code",
   "execution_count": 10,
   "metadata": {},
   "outputs": [
    {
     "data": {
      "image/png": "[encoded data removed]",
      "text/plain": [
       "<Figure size 432x288 with 1 Axes>"
      ]
     },
     "metadata": {
      "needs_background": "light"
     },
     "output_type": "display_data"
    }
   ],
   "source": [
    "# distribution of most_least\n",
    "sns.distplot(df['most_least'], kde=False, bins=25);\n",
    "\n",
    "f1 = plt.gcf()"
   ]
  },
  {
   "cell_type": "code",
   "execution_count": 11,
   "metadata": {},
   "outputs": [
    {
     "data": {
      "text/html": [
       "<div>\n",
       "<style scoped>\n",
       "    .dataframe tbody tr th:only-of-type {\n",
       "        vertical-align: middle;\n",
       "    }\n",
       "\n",
       "    .dataframe tbody tr th {\n",
       "        vertical-align: top;\n",
       "    }\n",
       "\n",
       "    .dataframe thead th {\n",
       "        text-align: right;\n",
       "    }\n",
       "</style>\n",
       "<table border=\"1\" class=\"dataframe\">\n",
       "  <thead>\n",
       "    <tr style=\"text-align: right;\">\n",
       "      <th></th>\n",
       "      <th>park_name</th>\n",
       "      <th>rating</th>\n",
       "      <th>text</th>\n",
       "      <th>most_least</th>\n",
       "    </tr>\n",
       "  </thead>\n",
       "  <tbody>\n",
       "    <tr>\n",
       "      <td>0</td>\n",
       "      <td>Southwest Middle School</td>\n",
       "      <td>5</td>\n",
       "      <td>Southwest middle school is a great school that...</td>\n",
       "      <td>1.0</td>\n",
       "    </tr>\n",
       "    <tr>\n",
       "      <td>1</td>\n",
       "      <td>Del Rio Apartment Homes</td>\n",
       "      <td>5</td>\n",
       "      <td>Love these apartment homes, but nothing comes ...</td>\n",
       "      <td>1.0</td>\n",
       "    </tr>\n",
       "    <tr>\n",
       "      <td>2</td>\n",
       "      <td>Sandburg Child Development Center</td>\n",
       "      <td>4</td>\n",
       "      <td>I have 2 daughters enrolled at CDC. The time t...</td>\n",
       "      <td>1.0</td>\n",
       "    </tr>\n",
       "    <tr>\n",
       "      <td>3</td>\n",
       "      <td>Quince Street Bridge</td>\n",
       "      <td>5</td>\n",
       "      <td>Enjoyable Bridge there are many different Brid...</td>\n",
       "      <td>1.0</td>\n",
       "    </tr>\n",
       "    <tr>\n",
       "      <td>4</td>\n",
       "      <td>La Jolla International Gardens</td>\n",
       "      <td>5</td>\n",
       "      <td>I never expected to give a review to an apartm...</td>\n",
       "      <td>1.0</td>\n",
       "    </tr>\n",
       "  </tbody>\n",
       "</table>\n",
       "</div>"
      ],
      "text/plain": [
       "                           park_name  rating  \\\n",
       "0            Southwest Middle School       5   \n",
       "1            Del Rio Apartment Homes       5   \n",
       "2  Sandburg Child Development Center       4   \n",
       "3               Quince Street Bridge       5   \n",
       "4     La Jolla International Gardens       5   \n",
       "\n",
       "                                                text  most_least  \n",
       "0  Southwest middle school is a great school that...         1.0  \n",
       "1  Love these apartment homes, but nothing comes ...         1.0  \n",
       "2  I have 2 daughters enrolled at CDC. The time t...         1.0  \n",
       "3  Enjoyable Bridge there are many different Brid...         1.0  \n",
       "4  I never expected to give a review to an apartm...         1.0  "
      ]
     },
     "execution_count": 11,
     "metadata": {},
     "output_type": "execute_result"
    }
   ],
   "source": [
    "# randomly sort data frame\n",
    "df = df.sample(frac=1, random_state=200).reset_index(drop=True)\n",
    "df.head()"
   ]
  },
  {
   "cell_type": "code",
   "execution_count": 12,
   "metadata": {},
   "outputs": [
    {
     "data": {
      "text/plain": [
       "(2333, 4)"
      ]
     },
     "execution_count": 12,
     "metadata": {},
     "output_type": "execute_result"
    }
   ],
   "source": [
    "df.shape"
   ]
  },
  {
   "cell_type": "code",
   "execution_count": 13,
   "metadata": {},
   "outputs": [],
   "source": [
    "# Train/Test\n",
    "df_traintest = df.iloc[:int(len(df)*0.8)]\n",
    "\n",
    "# Validation\n",
    "df_validation = df.iloc[int(len(df)*0.8):]"
   ]
  },
  {
   "cell_type": "code",
   "execution_count": 14,
   "metadata": {},
   "outputs": [],
   "source": [
    "# Create vectorizer & specify parameters\n",
    "tfidf = TfidfVectorizer(sublinear_tf=True, \n",
    "                        analyzer='word',   \n",
    "                        max_features=500, \n",
    "                        tokenizer=word_tokenize)"
   ]
  },
  {
   "cell_type": "code",
   "execution_count": 15,
   "metadata": {},
   "outputs": [],
   "source": [
    "tfidf_X = tfidf.fit_transform(df_traintest['text']).toarray()"
   ]
  },
  {
   "cell_type": "code",
   "execution_count": 16,
   "metadata": {},
   "outputs": [
    {
     "data": {
      "text/html": [
       "<div>\n",
       "<style scoped>\n",
       "    .dataframe tbody tr th:only-of-type {\n",
       "        vertical-align: middle;\n",
       "    }\n",
       "\n",
       "    .dataframe tbody tr th {\n",
       "        vertical-align: top;\n",
       "    }\n",
       "\n",
       "    .dataframe thead th {\n",
       "        text-align: right;\n",
       "    }\n",
       "</style>\n",
       "<table border=\"1\" class=\"dataframe\">\n",
       "  <thead>\n",
       "    <tr style=\"text-align: right;\">\n",
       "      <th></th>\n",
       "      <th>token</th>\n",
       "      <th>weight</th>\n",
       "    </tr>\n",
       "  </thead>\n",
       "  <tbody>\n",
       "    <tr>\n",
       "      <td>80</td>\n",
       "      <td>bridge</td>\n",
       "      <td>6.134193</td>\n",
       "    </tr>\n",
       "    <tr>\n",
       "      <td>213</td>\n",
       "      <td>hotel</td>\n",
       "      <td>6.047181</td>\n",
       "    </tr>\n",
       "    <tr>\n",
       "      <td>283</td>\n",
       "      <td>moving</td>\n",
       "      <td>5.967139</td>\n",
       "    </tr>\n",
       "    <tr>\n",
       "      <td>447</td>\n",
       "      <td>trolley</td>\n",
       "      <td>5.967139</td>\n",
       "    </tr>\n",
       "    <tr>\n",
       "      <td>351</td>\n",
       "      <td>rent</td>\n",
       "      <td>5.893031</td>\n",
       "    </tr>\n",
       "  </tbody>\n",
       "</table>\n",
       "</div>"
      ],
      "text/plain": [
       "       token    weight\n",
       "80    bridge  6.134193\n",
       "213    hotel  6.047181\n",
       "283   moving  5.967139\n",
       "447  trolley  5.967139\n",
       "351     rent  5.893031"
      ]
     },
     "execution_count": 16,
     "metadata": {},
     "output_type": "execute_result"
    }
   ],
   "source": [
    "# get IDF to visuzlize\n",
    "idf = tfidf.idf_\n",
    "rr = dict(zip(tfidf.fit(df_traintest['text']).get_feature_names(), idf))\n",
    "\n",
    "token_weight = pd.DataFrame.from_dict(rr, orient='index').reset_index()\n",
    "token_weight.columns=('token','weight')\n",
    "token_weight = token_weight.sort_values(by='weight', ascending=False)\n",
    "token_weight.head()"
   ]
  },
  {
   "cell_type": "code",
   "execution_count": 17,
   "metadata": {},
   "outputs": [
    {
     "data": {
      "image/png": "[encoded data removed]",
      "text/plain": [
       "<Figure size 1080x360 with 1 Axes>"
      ]
     },
     "metadata": {
      "needs_background": "light"
     },
     "output_type": "display_data"
    }
   ],
   "source": [
    "sns.barplot(x='token', \n",
    "            y='weight', \n",
    "            data=token_weight[0:10], \n",
    "            color=\"gray\")            \n",
    "plt.title(\"Inverse Document Frequency(IDF) per token\")\n",
    "fig = plt.gcf()\n",
    "fig.set_size_inches(15,5);"
   ]
  },
  {
   "cell_type": "code",
   "execution_count": 18,
   "metadata": {},
   "outputs": [],
   "source": [
    "# specify outcome variable\n",
    "tfidf_Y = np.array(df_traintest['most_least'])"
   ]
  },
  {
   "cell_type": "code",
   "execution_count": 19,
   "metadata": {},
   "outputs": [
    {
     "name": "stdout",
     "output_type": "stream",
     "text": [
      "1492 374\n"
     ]
    }
   ],
   "source": [
    "# specify training and test\n",
    "num_training = int(len(df_traintest)*0.8)\n",
    "num_testing = len(df_traintest)-num_training\n",
    "\n",
    "print(num_training, num_testing)"
   ]
  },
  {
   "cell_type": "code",
   "execution_count": 20,
   "metadata": {},
   "outputs": [],
   "source": [
    "# get data\n",
    "# because rows have been randomized previously\n",
    "tfidf_train_X = tfidf_X[:num_training]\n",
    "tfidf_train_Y = tfidf_Y[:num_training]\n",
    "tfidf_test_X = tfidf_X[num_training:]\n",
    "tfidf_test_Y = tfidf_Y[num_training:]"
   ]
  },
  {
   "cell_type": "code",
   "execution_count": 21,
   "metadata": {},
   "outputs": [],
   "source": [
    "def train_SVM(X, Y, kernel='linear'):\n",
    "    model = SVC(kernel=kernel)\n",
    "    model.fit(X, Y)\n",
    "    return model"
   ]
  },
  {
   "cell_type": "code",
   "execution_count": 22,
   "metadata": {},
   "outputs": [],
   "source": [
    "# train model\n",
    "svm_model = train_SVM(tfidf_train_X, tfidf_train_Y)"
   ]
  },
  {
   "cell_type": "code",
   "execution_count": 23,
   "metadata": {},
   "outputs": [],
   "source": [
    "# predict on training\n",
    "df_predicted_train_Y = svm_model.predict(tfidf_train_X)"
   ]
  },
  {
   "cell_type": "code",
   "execution_count": 24,
   "metadata": {},
   "outputs": [
    {
     "data": {
      "text/plain": [
       "1.0    1436\n",
       "0.0      56\n",
       "dtype: int64"
      ]
     },
     "execution_count": 24,
     "metadata": {},
     "output_type": "execute_result"
    }
   ],
   "source": [
    "# see how many were predicted most vs. least\n",
    "pd.Series(df_predicted_train_Y).value_counts()"
   ]
  },
  {
   "cell_type": "code",
   "execution_count": 25,
   "metadata": {},
   "outputs": [],
   "source": [
    "# predict on testing\n",
    "df_predicted_test_Y = svm_model.predict(tfidf_test_X)"
   ]
  },
  {
   "cell_type": "code",
   "execution_count": 26,
   "metadata": {},
   "outputs": [
    {
     "data": {
      "text/plain": [
       "1.0    360\n",
       "0.0     14\n",
       "dtype: int64"
      ]
     },
     "execution_count": 26,
     "metadata": {},
     "output_type": "execute_result"
    }
   ],
   "source": [
    "# see how many were predicted most vs. least\n",
    "pd.Series(df_predicted_test_Y).value_counts()"
   ]
  },
  {
   "cell_type": "code",
   "execution_count": 27,
   "metadata": {},
   "outputs": [
    {
     "name": "stdout",
     "output_type": "stream",
     "text": [
      "              precision    recall  f1-score   support\n",
      "\n",
      "         0.0       0.98      0.20      0.33       282\n",
      "         1.0       0.84      1.00      0.91      1210\n",
      "\n",
      "    accuracy                           0.85      1492\n",
      "   macro avg       0.91      0.60      0.62      1492\n",
      "weighted avg       0.87      0.85      0.80      1492\n",
      "\n"
     ]
    }
   ],
   "source": [
    "print(classification_report(tfidf_train_Y, df_predicted_train_Y))"
   ]
  },
  {
   "cell_type": "code",
   "execution_count": 28,
   "metadata": {},
   "outputs": [
    {
     "name": "stdout",
     "output_type": "stream",
     "text": [
      "              precision    recall  f1-score   support\n",
      "\n",
      "         0.0       0.57      0.10      0.18        77\n",
      "         1.0       0.81      0.98      0.89       297\n",
      "\n",
      "    accuracy                           0.80       374\n",
      "   macro avg       0.69      0.54      0.53       374\n",
      "weighted avg       0.76      0.80      0.74       374\n",
      "\n"
     ]
    }
   ],
   "source": [
    "print(classification_report(tfidf_test_Y, df_predicted_test_Y))"
   ]
  },
  {
   "cell_type": "code",
   "execution_count": 29,
   "metadata": {},
   "outputs": [
    {
     "name": "stdout",
     "output_type": "stream",
     "text": [
      "              precision    recall  f1-score   support\n",
      "\n",
      "         0.0       0.40      0.02      0.04        99\n",
      "         1.0       0.79      0.99      0.88       368\n",
      "\n",
      "    accuracy                           0.79       467\n",
      "   macro avg       0.60      0.51      0.46       467\n",
      "weighted avg       0.71      0.79      0.70       467\n",
      "\n"
     ]
    }
   ],
   "source": [
    "# the ground truth\n",
    "tfidf_vaidation_Y = np.array(df_validation['most_least'])\n",
    "\n",
    "# predicted values from class responses\n",
    "tfidf_validation_X = tfidf.fit_transform(df_validation['text']).toarray()\n",
    "df_predicted_validation_Y = svm_model.predict(tfidf_validation_X)\n",
    "\n",
    "# assess accuracy\n",
    "print(classification_report(tfidf_vaidation_Y, df_predicted_validation_Y))"
   ]
  },
  {
   "cell_type": "markdown",
   "metadata": {},
   "source": [
    "# Ethics & Privacy"
   ]
  },
  {
   "cell_type": "markdown",
   "metadata": {},
   "source": [
    "To begin with, the analysis conducted only for San Diego city; there is a danger that the results of this analysis could be used to describe parks all over the country, which would be wrong. One ethics concern from the start of this analysis, is the bias that comes from choosing data only from the city of San Diego. One way to reduce this bias is using data from varied sources aditional to the department. \n",
    "In addition, the data only includes parks in San Diego, there is a danger that the results of this analysis could be used to describe recreations or other public facilities in San Diego, which would be wrong.\n",
    "Finally, the favorite features found through IDF only captures the most liked elements but that does not mean that other features are not good. In this way, they could be used to argue against the importance of these parks, which is not the goal of the analysis."
   ]
  },
  {
   "cell_type": "markdown",
   "metadata": {},
   "source": [
    "# Conclusion & Discussion"
   ]
  },
  {
   "cell_type": "markdown",
   "metadata": {},
   "source": [
    "To begin with, I used the data of yelp review about the parks in San Diego, including the name of the park, the rating from 1 to 5, and the comments. By analyzing this data, I want to find out the accuracy of the rating and comments. Also, if it is accurate, what features do people like the most for the parks in San Diego. In this way, the city will know what kinds of parks are most interesting for people, so it could either maintain these features or add on these features for the park.\n",
    "\n",
    "To analyze the comments, I used TF-IDF to do the text analysis. I first converted the rating above 3 to 1.0(most like) and others to be 0.0(least like). Then spliting the randomnized datasets into training data, testing data and validating data. Then getting IDF to visuzlize the most weighted words on training and testing data, finding the most liked features such as \"bridge\",\"hotel\",and \"party\". Next, Using SVM to train and predict the training data, finding the accuracy is 85%. Then did the same thing on test data and validation data, and the accuracy is 80% and 79%.\n",
    "\n",
    "From the analysis, I found that the accuracy is around 80% which means most of the comments and ratings are matched but there are still part of the comments or ratings that might be fake. The most liked features are bridge, hotel, moving, trolley and so on. However, this result might not be the most accurate result due to the limitations of this project. For example, I converted all ratings less than or equal to 3 as 0.0. But in reality, rating 3 does not mean that people do not like it at all, most of the times it means not good but not bad. In this project, I treated it as least like which might affect the result. And there might be other limitations that affect the result such as the option of TF-IDF model."
   ]
  },
  {
   "cell_type": "code",
   "execution_count": null,
   "metadata": {},
   "outputs": [],
   "source": []
  }
 ],
 "metadata": {
  "kernelspec": {
   "display_name": "Python 3",
   "language": "python",
   "name": "python3"
  },
  "language_info": {
   "codemirror_mode": {
    "name": "ipython",
    "version": 3
   },
   "file_extension": ".py",
   "mimetype": "text/x-python",
   "name": "python",
   "nbconvert_exporter": "python",
   "pygments_lexer": "ipython3",
   "version": "3.7.4"
  }
 },
 "nbformat": 4,
 "nbformat_minor": 2
}
