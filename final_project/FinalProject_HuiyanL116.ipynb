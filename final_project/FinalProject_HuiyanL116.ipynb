{
 "cells": [
  {
   "cell_type": "markdown",
   "metadata": {},
   "source": [
    "# COGS 108 - Final Project "
   ]
  },
  {
   "cell_type": "markdown",
   "metadata": {},
   "source": [
    "# Overview"
   ]
  },
  {
   "cell_type": "markdown",
   "metadata": {},
   "source": [
    "Parks and public recreational services are important aspects of our life. Good parks enhance life quality and community awareness. And park amenities can range widely from playgrounds, dog parks, to elder services. When considering all the features a park can include, playgrounds are the most common. While using a playground can increase social contact and social behaviors, we also want to know whether is a critical aspect to increasing the feeling of happiness during people's visit. On the other hand, there might also be people that are not in particular favor of playgrounds. This data science project intends to analyze the sentiment difference between reviews on parks with playgrounds and without. And through the sentiment analysis, we can conclude that there is a slight difference within the sentiment between the reviews of parks with and without a playground. The sentiment for the reviews for parks with a playground is slightly more positive. "
   ]
  },
  {
   "cell_type": "markdown",
   "metadata": {},
   "source": [
    "# Name & GitHub\n",
    "\n",
    "- Name: Huiyan(Morgan) Li\n",
    "- GitHub Username: HuiyanL116"
   ]
  },
  {
   "cell_type": "markdown",
   "metadata": {},
   "source": [
    "# Research Question"
   ]
  },
  {
   "cell_type": "markdown",
   "metadata": {},
   "source": [
    "Do people generally have a better time and leave more positive ratings in a park that has a playground?"
   ]
  },
  {
   "cell_type": "markdown",
   "metadata": {},
   "source": [
    "## Background and Prior Work"
   ]
  },
  {
   "cell_type": "markdown",
   "metadata": {},
   "source": [
    "The public park is an important part of the recreational resource that forms many people's daily routine. And the playground is an important feature that many parks include to attract visitors. Most children enjoying their time spent on a playground, and parents might also enjoy spending time with their children. However, there might also be people that think having a playground creates noise and trouble. And it might also not be very convenient if children are constantly running around. Thus, I decided to see if having a playground generally gives people a better time or not.\n",
    "\n",
    "First of all, I noticed within a survey result that 74% of people said visiting the park, playgrounds, dog parks, and other open spaces are their favorite activities (1). Although we don't know what portion of people is particularly in favor of playgrounds, it is still one of people's favorite features. This might imply that people generally do have a better time in a park with playgrounds. Additionally, I noticed another research done to figure out what attracts people to open community parks that people are attracted more to user-oriented spaces with facilities rather than ornamental vegetation (2). This means that playgrounds might be a major purpose for a park visit. If the purpose of a park visit is to visit its playground, it is reasonable that people will have a good time. Finally, a BBC news report also suggests that playing and playful engagements between parents and children increase the general happiness of both children and parents (3). This is a very strong supportive finding to the opinion that parks with playgrounds generally gives people a better time, since the existence of playgrounds almost certainly means there will be playful engagements between parents and children. And parents will then be more positive when leaving a comment for these parks. \n",
    "\n",
    "References:\n",
    "\n",
    "(1): https://www.theparkcatalog.com/blog/survey-people-visit-parks-park-bench/\n",
    "\n",
    "(2): www.ncbi.nlm.nih.gov/pmc/articles/PMC4962185/\n",
    "\n",
    "(3): https://www.bbc.com/news/education-28658441"
   ]
  },
  {
   "cell_type": "markdown",
   "metadata": {},
   "source": [
    "# Hypothesis\n"
   ]
  },
  {
   "cell_type": "markdown",
   "metadata": {},
   "source": [
    "People do generally have a better time and leave more positive ratings at parks that have a playground."
   ]
  },
  {
   "cell_type": "markdown",
   "metadata": {},
   "source": [
    "# Dataset(s)"
   ]
  },
  {
   "cell_type": "markdown",
   "metadata": {},
   "source": [
    "- Dataset Name: Yelp Data for San Diego Parks\n",
    "- Link to the dataset: https://www.yelp.com/ \n",
    "    - Documentation (APIs used to collect data shared above): https://www.yelp.com/developers/documentation/v3/business_reviews\n",
    "- Number of observations: 2333 rows * 3 columns\n",
    "\n",
    "This dataset includes yelp score ratings and text reviews for parks within San Diego. The 'id' column provides the name of the park. The 'rating' column provides ordinal score ratings by park visitors. The 'text' column provides the text comment park visitors gave for particular parks. "
   ]
  },
  {
   "cell_type": "markdown",
   "metadata": {},
   "source": [
    "# Setup"
   ]
  },
  {
   "cell_type": "code",
   "execution_count": 1,
   "metadata": {},
   "outputs": [
    {
     "name": "stderr",
     "output_type": "stream",
     "text": [
      "[nltk_data] Downloading package stopwords to /home/hul001/nltk_data...\n",
      "[nltk_data]   Package stopwords is already up-to-date!\n",
      "[nltk_data] Downloading package punkt to /home/hul001/nltk_data...\n",
      "[nltk_data]   Package punkt is already up-to-date!\n"
     ]
    },
    {
     "data": {
      "text/plain": [
       "True"
      ]
     },
     "execution_count": 1,
     "metadata": {},
     "output_type": "execute_result"
    }
   ],
   "source": [
    "#import libraries needed \n",
    "\n",
    "import numpy as np\n",
    "import pandas as pd\n",
    "\n",
    "import matplotlib.pyplot as plt\n",
    "import matplotlib as mpl\n",
    "\n",
    "import seaborn as sns\n",
    "\n",
    "#ignore warnings\n",
    "import warnings\n",
    "warnings.filterwarnings('ignore')\n",
    "\n",
    "#import natural language toolkit\n",
    "import nltk\n",
    "\n",
    "# download stopwords & punkt\n",
    "nltk.download('stopwords')\n",
    "nltk.download('punkt')"
   ]
  },
  {
   "cell_type": "markdown",
   "metadata": {},
   "source": [
    "# Data Cleaning"
   ]
  },
  {
   "cell_type": "markdown",
   "metadata": {},
   "source": [
    "First of all, I load the data file needed:"
   ]
  },
  {
   "cell_type": "code",
   "execution_count": 2,
   "metadata": {},
   "outputs": [],
   "source": [
    "park_df = pd.read_csv('yelp_SD_reviews.csv')"
   ]
  },
  {
   "cell_type": "markdown",
   "metadata": {},
   "source": [
    "Then I looked up all parks that contains a playground from google map and yelp, and combined them into a new dataframe:"
   ]
  },
  {
   "cell_type": "code",
   "execution_count": 3,
   "metadata": {},
   "outputs": [],
   "source": [
    "childPark_df = park_df[park_df['id'].isin(['Balboa Park','Waterfront Park','Bonita Cove Park','Mission Bay Playground',\n",
    "                                             'Childrens Playground', 'Bonita Cove Park','Fanuel Street Park',\n",
    "                                            'Kellogg Park','San Dieguito County Park','Collier County Park','Encinitas Community Park',\n",
    "                                            'Cottonwood Creek Park','Moonlight Beach','Felicita County Park','Kit Carson Park','Grape Day Park',\n",
    "                                            'Coronado Tidelands Park',\"Children's Ethnobotany Garden\",'Cadman Park Leash-Free Area',\n",
    "                                            'Sixth Avenue Playground','Pepper Grove','Lake Murray Community Park','Trolley Barn Park',\n",
    "                                             'Waterfront Park Playground','North Park Community Park','Easting Park','Murray Ridge Park',\n",
    "                                            'Bird Park Playground','Morley Field Playground','4S Ranch Heritage Park','Lindbergh Neighborhood Park',\n",
    "                                            'Views West Neighborhood Park','Carmel Del Mar Park','Lake View Park','Pioneer Park - Private Park',\n",
    "                                            'Oak Park','Princess Del Cerro Park','Nature Exploration Area','4S Ranch Community Park','Westview Park',\n",
    "                                            'Kate Sessions Park','Carmel Del Mar Park','Oak Park','Pioneer Park - Private Park','Princess Del Cerro Park',\n",
    "                                            'Torrey Del Mar Neighborhood Park','Gershwin Park','Cabrillo Heights Park','Torrey Hills Park','Montclair Neighborhood Park'\n",
    "                                            'Linda Vista Community park','De Anza Cove Park','Lopez Ridge Park','University Gardens Park','Ward Canyon Neighborhood Park'\n",
    "                                              'Hilltop Community Park','Tot Lot Recreational Park','Scripps Ranch Community Park','Marcy Park','Hilltop Park and Recreation Center',\n",
    "                                              'Gotham Poured Rubber Corperation','Balboa Park Kids Playground','Sixth Avenue Playground - Balboa Park',\n",
    "                                              'Centennial Park','Tweet Street Park','Briercrest Park','Fiesta Island','Kensington Mini Park','MacArthur Park'])].reset_index()\n"
   ]
  },
  {
   "cell_type": "markdown",
   "metadata": {},
   "source": [
    "I then removed the parks with playground from the original dataframe:"
   ]
  },
  {
   "cell_type": "code",
   "execution_count": 4,
   "metadata": {},
   "outputs": [],
   "source": [
    "cond = park_df['id'].isin(childPark_df['id'])\n",
    "park_df.drop(park_df[cond].index, inplace = True)\n",
    "park_df = park_df.reset_index()"
   ]
  },
  {
   "cell_type": "markdown",
   "metadata": {},
   "source": [
    "# Data Analysis & Results"
   ]
  },
  {
   "cell_type": "markdown",
   "metadata": {},
   "source": [
    "I graphed the "
   ]
  },
  {
   "cell_type": "code",
   "execution_count": 5,
   "metadata": {
    "scrolled": true
   },
   "outputs": [
    {
     "data": {
      "image/png": "[encoded data removed]",
      "text/plain": [
       "<Figure size 1224x504 with 1 Axes>"
      ]
     },
     "metadata": {
      "needs_background": "light"
     },
     "output_type": "display_data"
    }
   ],
   "source": [
    "plt.rcParams['figure.figsize'] = (17, 7) \n",
    "plt.title('Ratings for parks without playgroud', loc='left')\n",
    "sns.distplot(park_df['rating']);\n",
    "f1 = plt.gcf()"
   ]
  },
  {
   "cell_type": "code",
   "execution_count": 6,
   "metadata": {},
   "outputs": [
    {
     "data": {
      "image/png": "[encoded data removed]",
      "text/plain": [
       "<Figure size 1224x504 with 1 Axes>"
      ]
     },
     "metadata": {
      "needs_background": "light"
     },
     "output_type": "display_data"
    }
   ],
   "source": [
    "plt.rcParams['figure.figsize'] = (17, 7) \n",
    "plt.title('Ratings for parks with playgroud', loc='left')\n",
    "sns.distplot(childPark_df['rating']);\n",
    "f1 = plt.gcf()"
   ]
  },
  {
   "cell_type": "markdown",
   "metadata": {},
   "source": [
    "From the histogram we can see the distributions are not very different. We can only see an increase in rating number 4 for parks with a playground.\n",
    "Thus, I decided to a sentiment analysis to see if people give generally more positive ratings when the park has a playground. "
   ]
  },
  {
   "cell_type": "markdown",
   "metadata": {},
   "source": [
    "I first check the frequency for some words of interest for both dataframe:"
   ]
  },
  {
   "cell_type": "code",
   "execution_count": 7,
   "metadata": {},
   "outputs": [],
   "source": [
    "def check_word_freq(df1, df2, word):\n",
    "    withPlayground = df1['text'].str.lower().str.contains(word).sum()/df1['text'].notnull().sum()\n",
    "    withoutPlayground = df2['text'].str.lower().str.contains(word).sum()/df2['text'].notnull().sum()\n",
    "    out = pd.DataFrame({'with_playground': [withPlayground], 'without_playground': [withoutPlayground]})\n",
    "    return out"
   ]
  },
  {
   "cell_type": "markdown",
   "metadata": {},
   "source": [
    "Check for the word \"enjoy\""
   ]
  },
  {
   "cell_type": "code",
   "execution_count": 8,
   "metadata": {},
   "outputs": [
    {
     "data": {
      "text/html": [
       "<div>\n",
       "<style scoped>\n",
       "    .dataframe tbody tr th:only-of-type {\n",
       "        vertical-align: middle;\n",
       "    }\n",
       "\n",
       "    .dataframe tbody tr th {\n",
       "        vertical-align: top;\n",
       "    }\n",
       "\n",
       "    .dataframe thead th {\n",
       "        text-align: right;\n",
       "    }\n",
       "</style>\n",
       "<table border=\"1\" class=\"dataframe\">\n",
       "  <thead>\n",
       "    <tr style=\"text-align: right;\">\n",
       "      <th></th>\n",
       "      <th>with_playground</th>\n",
       "      <th>without_playground</th>\n",
       "    </tr>\n",
       "  </thead>\n",
       "  <tbody>\n",
       "    <tr>\n",
       "      <th>0</th>\n",
       "      <td>0.0625</td>\n",
       "      <td>0.040391</td>\n",
       "    </tr>\n",
       "  </tbody>\n",
       "</table>\n",
       "</div>"
      ],
      "text/plain": [
       "   with_playground  without_playground\n",
       "0           0.0625            0.040391"
      ]
     },
     "execution_count": 8,
     "metadata": {},
     "output_type": "execute_result"
    }
   ],
   "source": [
    "check_word_freq(childPark_df, park_df, 'enjoy')"
   ]
  },
  {
   "cell_type": "markdown",
   "metadata": {},
   "source": [
    "Check for the word \"fun\""
   ]
  },
  {
   "cell_type": "code",
   "execution_count": 9,
   "metadata": {},
   "outputs": [
    {
     "data": {
      "text/html": [
       "<div>\n",
       "<style scoped>\n",
       "    .dataframe tbody tr th:only-of-type {\n",
       "        vertical-align: middle;\n",
       "    }\n",
       "\n",
       "    .dataframe tbody tr th {\n",
       "        vertical-align: top;\n",
       "    }\n",
       "\n",
       "    .dataframe thead th {\n",
       "        text-align: right;\n",
       "    }\n",
       "</style>\n",
       "<table border=\"1\" class=\"dataframe\">\n",
       "  <thead>\n",
       "    <tr style=\"text-align: right;\">\n",
       "      <th></th>\n",
       "      <th>with_playground</th>\n",
       "      <th>without_playground</th>\n",
       "    </tr>\n",
       "  </thead>\n",
       "  <tbody>\n",
       "    <tr>\n",
       "      <th>0</th>\n",
       "      <td>0.0125</td>\n",
       "      <td>0.033733</td>\n",
       "    </tr>\n",
       "  </tbody>\n",
       "</table>\n",
       "</div>"
      ],
      "text/plain": [
       "   with_playground  without_playground\n",
       "0           0.0125            0.033733"
      ]
     },
     "execution_count": 9,
     "metadata": {},
     "output_type": "execute_result"
    }
   ],
   "source": [
    "check_word_freq(childPark_df, park_df, 'fun')"
   ]
  },
  {
   "cell_type": "markdown",
   "metadata": {},
   "source": [
    "Check for the word \"love\""
   ]
  },
  {
   "cell_type": "code",
   "execution_count": 10,
   "metadata": {},
   "outputs": [
    {
     "data": {
      "text/html": [
       "<div>\n",
       "<style scoped>\n",
       "    .dataframe tbody tr th:only-of-type {\n",
       "        vertical-align: middle;\n",
       "    }\n",
       "\n",
       "    .dataframe tbody tr th {\n",
       "        vertical-align: top;\n",
       "    }\n",
       "\n",
       "    .dataframe thead th {\n",
       "        text-align: right;\n",
       "    }\n",
       "</style>\n",
       "<table border=\"1\" class=\"dataframe\">\n",
       "  <thead>\n",
       "    <tr style=\"text-align: right;\">\n",
       "      <th></th>\n",
       "      <th>with_playground</th>\n",
       "      <th>without_playground</th>\n",
       "    </tr>\n",
       "  </thead>\n",
       "  <tbody>\n",
       "    <tr>\n",
       "      <th>0</th>\n",
       "      <td>0.1375</td>\n",
       "      <td>0.101642</td>\n",
       "    </tr>\n",
       "  </tbody>\n",
       "</table>\n",
       "</div>"
      ],
      "text/plain": [
       "   with_playground  without_playground\n",
       "0           0.1375            0.101642"
      ]
     },
     "execution_count": 10,
     "metadata": {},
     "output_type": "execute_result"
    }
   ],
   "source": [
    "check_word_freq(childPark_df, park_df, 'love')"
   ]
  },
  {
   "cell_type": "markdown",
   "metadata": {},
   "source": [
    "Check for the word \"boring\""
   ]
  },
  {
   "cell_type": "code",
   "execution_count": 11,
   "metadata": {},
   "outputs": [
    {
     "data": {
      "text/html": [
       "<div>\n",
       "<style scoped>\n",
       "    .dataframe tbody tr th:only-of-type {\n",
       "        vertical-align: middle;\n",
       "    }\n",
       "\n",
       "    .dataframe tbody tr th {\n",
       "        vertical-align: top;\n",
       "    }\n",
       "\n",
       "    .dataframe thead th {\n",
       "        text-align: right;\n",
       "    }\n",
       "</style>\n",
       "<table border=\"1\" class=\"dataframe\">\n",
       "  <thead>\n",
       "    <tr style=\"text-align: right;\">\n",
       "      <th></th>\n",
       "      <th>with_playground</th>\n",
       "      <th>without_playground</th>\n",
       "    </tr>\n",
       "  </thead>\n",
       "  <tbody>\n",
       "    <tr>\n",
       "      <th>0</th>\n",
       "      <td>0.0</td>\n",
       "      <td>0.000888</td>\n",
       "    </tr>\n",
       "  </tbody>\n",
       "</table>\n",
       "</div>"
      ],
      "text/plain": [
       "   with_playground  without_playground\n",
       "0              0.0            0.000888"
      ]
     },
     "execution_count": 11,
     "metadata": {},
     "output_type": "execute_result"
    }
   ],
   "source": [
    "check_word_freq(childPark_df, park_df, 'boring')"
   ]
  },
  {
   "cell_type": "markdown",
   "metadata": {},
   "source": [
    "Then I perform the sentiment analysis:"
   ]
  },
  {
   "cell_type": "markdown",
   "metadata": {},
   "source": [
    "First, I tokenize the reviews:"
   ]
  },
  {
   "cell_type": "code",
   "execution_count": 12,
   "metadata": {},
   "outputs": [],
   "source": [
    "# import word tokenizer\n",
    "from nltk.tokenize import word_tokenize"
   ]
  },
  {
   "cell_type": "code",
   "execution_count": 13,
   "metadata": {},
   "outputs": [],
   "source": [
    "# tokennize park reviews without and with playground(s)\n",
    "park_df['withoutPlayground_token'] = park_df['text'].apply(word_tokenize) \n",
    "childPark_df['withPlayground_token'] = childPark_df['text'].apply(word_tokenize) "
   ]
  },
  {
   "cell_type": "markdown",
   "metadata": {},
   "source": [
    "Then I clean up the stop words:"
   ]
  },
  {
   "cell_type": "code",
   "execution_count": 14,
   "metadata": {},
   "outputs": [],
   "source": [
    "# import stop words\n",
    "from nltk.corpus import stopwords\n",
    "stop_words = set(stopwords.words('english'))"
   ]
  },
  {
   "cell_type": "code",
   "execution_count": 15,
   "metadata": {},
   "outputs": [],
   "source": [
    "# create new column removing all stop words\n",
    "park_df['withoutPlayground_stop'] = park_df['withoutPlayground_token'].apply(lambda x: [item for item in x if item not in stop_words])\n",
    "childPark_df['withPlayground_stop'] = childPark_df['withPlayground_token'].apply(lambda x: [item for item in x if item not in stop_words])"
   ]
  },
  {
   "cell_type": "markdown",
   "metadata": {},
   "source": [
    "Then I perform stemming to make the text analyzable:"
   ]
  },
  {
   "cell_type": "code",
   "execution_count": 16,
   "metadata": {},
   "outputs": [],
   "source": [
    "# get the stem for all tokens within the datasets\n",
    "from nltk.stem import PorterStemmer\n",
    "\n",
    "ps = PorterStemmer()\n",
    "\n",
    "park_df['withoutPlayground_stem'] = park_df['withoutPlayground_stop'].apply(lambda x: [ps.stem(y) for y in x])\n",
    "childPark_df['withPlayground_stem'] = childPark_df['withPlayground_stop'].apply(lambda x: [ps.stem(y) for y in x])"
   ]
  },
  {
   "cell_type": "code",
   "execution_count": 17,
   "metadata": {},
   "outputs": [],
   "source": [
    "# get series of all most frequent words for both set of reviews after stemming\n",
    "withPlayground = childPark_df['withPlayground_stem'].apply(pd.Series).stack()"
   ]
  },
  {
   "cell_type": "code",
   "execution_count": 18,
   "metadata": {},
   "outputs": [],
   "source": [
    "# import FreqDist to calculate frequency and plot a graph accordingly\n",
    "from nltk.probability import FreqDist\n",
    "import string\n",
    "\n",
    "# calculation word frequency\n",
    "fdist_withPlayground = FreqDist(withPlayground)\n",
    "\n",
    "# remove punctuation counts\n",
    "for punc in string.punctuation:\n",
    "    del fdist_withPlayground[punc]"
   ]
  },
  {
   "cell_type": "markdown",
   "metadata": {},
   "source": [
    "Plot graph to visualize these words:"
   ]
  },
  {
   "cell_type": "code",
   "execution_count": 19,
   "metadata": {},
   "outputs": [
    {
     "data": {
      "image/png": "[encoded data removed]",
      "text/plain": [
       "<Figure size 1224x504 with 1 Axes>"
      ]
     },
     "metadata": {
      "needs_background": "light"
     },
     "output_type": "display_data"
    },
    {
     "data": {
      "text/plain": [
       "<matplotlib.axes._subplots.AxesSubplot at 0x7f1ff0c928d0>"
      ]
     },
     "execution_count": 19,
     "metadata": {},
     "output_type": "execute_result"
    }
   ],
   "source": [
    "# plot frequency distribution to see the most frequent words\n",
    "fdist_withPlayground.plot(20, cumulative=False)"
   ]
  },
  {
   "cell_type": "markdown",
   "metadata": {},
   "source": [
    "Then we analyze the overall sentiment:"
   ]
  },
  {
   "cell_type": "code",
   "execution_count": 20,
   "metadata": {},
   "outputs": [],
   "source": [
    "# compare text to the VADER lexicon to get a measure of overall sentiment in the reviews\n",
    "from nltk.sentiment.vader import SentimentIntensityAnalyzer \n",
    "analyser = SentimentIntensityAnalyzer()"
   ]
  },
  {
   "cell_type": "code",
   "execution_count": 21,
   "metadata": {},
   "outputs": [],
   "source": [
    "# get list of the 'sentences' (responses) from each individual\n",
    "without_list = list(park_df['text'].values)\n",
    "with_list = list(childPark_df['text'].values)"
   ]
  },
  {
   "cell_type": "code",
   "execution_count": 22,
   "metadata": {},
   "outputs": [],
   "source": [
    "# create function that will output dataframe that stores sentiment information\n",
    "def get_sentiments(input_list):\n",
    "    \n",
    "    output = pd.DataFrame()\n",
    "\n",
    "    for sentence in input_list:\n",
    "        ss = analyser.polarity_scores(sentence)\n",
    "        ss['sentence'] = sentence\n",
    "        output = output.append(ss, ignore_index=True)\n",
    "\n",
    "    return output"
   ]
  },
  {
   "cell_type": "code",
   "execution_count": 23,
   "metadata": {},
   "outputs": [],
   "source": [
    "# get sentiment measures\n",
    "withoutP_sentiments = get_sentiments(without_list)\n",
    "withP_sentiments = get_sentiments(with_list)"
   ]
  },
  {
   "cell_type": "code",
   "execution_count": 24,
   "metadata": {},
   "outputs": [
    {
     "data": {
      "text/html": [
       "<div>\n",
       "<style scoped>\n",
       "    .dataframe tbody tr th:only-of-type {\n",
       "        vertical-align: middle;\n",
       "    }\n",
       "\n",
       "    .dataframe tbody tr th {\n",
       "        vertical-align: top;\n",
       "    }\n",
       "\n",
       "    .dataframe thead th {\n",
       "        text-align: right;\n",
       "    }\n",
       "</style>\n",
       "<table border=\"1\" class=\"dataframe\">\n",
       "  <thead>\n",
       "    <tr style=\"text-align: right;\">\n",
       "      <th></th>\n",
       "      <th>compound</th>\n",
       "      <th>neg</th>\n",
       "      <th>neu</th>\n",
       "      <th>pos</th>\n",
       "    </tr>\n",
       "  </thead>\n",
       "  <tbody>\n",
       "    <tr>\n",
       "      <th>count</th>\n",
       "      <td>2253.000000</td>\n",
       "      <td>2253.000000</td>\n",
       "      <td>2253.000000</td>\n",
       "      <td>2253.000000</td>\n",
       "    </tr>\n",
       "    <tr>\n",
       "      <th>mean</th>\n",
       "      <td>0.446918</td>\n",
       "      <td>0.031052</td>\n",
       "      <td>0.798150</td>\n",
       "      <td>0.170792</td>\n",
       "    </tr>\n",
       "    <tr>\n",
       "      <th>std</th>\n",
       "      <td>0.451659</td>\n",
       "      <td>0.059614</td>\n",
       "      <td>0.126889</td>\n",
       "      <td>0.128252</td>\n",
       "    </tr>\n",
       "    <tr>\n",
       "      <th>min</th>\n",
       "      <td>-0.918400</td>\n",
       "      <td>0.000000</td>\n",
       "      <td>0.343000</td>\n",
       "      <td>0.000000</td>\n",
       "    </tr>\n",
       "    <tr>\n",
       "      <th>25%</th>\n",
       "      <td>0.076600</td>\n",
       "      <td>0.000000</td>\n",
       "      <td>0.714000</td>\n",
       "      <td>0.081000</td>\n",
       "    </tr>\n",
       "    <tr>\n",
       "      <th>50%</th>\n",
       "      <td>0.599400</td>\n",
       "      <td>0.000000</td>\n",
       "      <td>0.804000</td>\n",
       "      <td>0.157000</td>\n",
       "    </tr>\n",
       "    <tr>\n",
       "      <th>75%</th>\n",
       "      <td>0.812600</td>\n",
       "      <td>0.054000</td>\n",
       "      <td>0.892000</td>\n",
       "      <td>0.255000</td>\n",
       "    </tr>\n",
       "    <tr>\n",
       "      <th>max</th>\n",
       "      <td>0.976300</td>\n",
       "      <td>0.506000</td>\n",
       "      <td>1.000000</td>\n",
       "      <td>0.622000</td>\n",
       "    </tr>\n",
       "  </tbody>\n",
       "</table>\n",
       "</div>"
      ],
      "text/plain": [
       "          compound          neg          neu          pos\n",
       "count  2253.000000  2253.000000  2253.000000  2253.000000\n",
       "mean      0.446918     0.031052     0.798150     0.170792\n",
       "std       0.451659     0.059614     0.126889     0.128252\n",
       "min      -0.918400     0.000000     0.343000     0.000000\n",
       "25%       0.076600     0.000000     0.714000     0.081000\n",
       "50%       0.599400     0.000000     0.804000     0.157000\n",
       "75%       0.812600     0.054000     0.892000     0.255000\n",
       "max       0.976300     0.506000     1.000000     0.622000"
      ]
     },
     "execution_count": 24,
     "metadata": {},
     "output_type": "execute_result"
    }
   ],
   "source": [
    "# to get a sense of the values stored in each of these dataframes, first of all parks without playground\n",
    "withoutP_sentiments.describe()"
   ]
  },
  {
   "cell_type": "code",
   "execution_count": 25,
   "metadata": {},
   "outputs": [
    {
     "data": {
      "text/html": [
       "<div>\n",
       "<style scoped>\n",
       "    .dataframe tbody tr th:only-of-type {\n",
       "        vertical-align: middle;\n",
       "    }\n",
       "\n",
       "    .dataframe tbody tr th {\n",
       "        vertical-align: top;\n",
       "    }\n",
       "\n",
       "    .dataframe thead th {\n",
       "        text-align: right;\n",
       "    }\n",
       "</style>\n",
       "<table border=\"1\" class=\"dataframe\">\n",
       "  <thead>\n",
       "    <tr style=\"text-align: right;\">\n",
       "      <th></th>\n",
       "      <th>compound</th>\n",
       "      <th>neg</th>\n",
       "      <th>neu</th>\n",
       "      <th>pos</th>\n",
       "    </tr>\n",
       "  </thead>\n",
       "  <tbody>\n",
       "    <tr>\n",
       "      <th>count</th>\n",
       "      <td>80.000000</td>\n",
       "      <td>80.000000</td>\n",
       "      <td>80.000000</td>\n",
       "      <td>80.000000</td>\n",
       "    </tr>\n",
       "    <tr>\n",
       "      <th>mean</th>\n",
       "      <td>0.549139</td>\n",
       "      <td>0.023525</td>\n",
       "      <td>0.779262</td>\n",
       "      <td>0.197200</td>\n",
       "    </tr>\n",
       "    <tr>\n",
       "      <th>std</th>\n",
       "      <td>0.444076</td>\n",
       "      <td>0.050936</td>\n",
       "      <td>0.114785</td>\n",
       "      <td>0.126205</td>\n",
       "    </tr>\n",
       "    <tr>\n",
       "      <th>min</th>\n",
       "      <td>-0.822500</td>\n",
       "      <td>0.000000</td>\n",
       "      <td>0.518000</td>\n",
       "      <td>0.000000</td>\n",
       "    </tr>\n",
       "    <tr>\n",
       "      <th>25%</th>\n",
       "      <td>0.439400</td>\n",
       "      <td>0.000000</td>\n",
       "      <td>0.695000</td>\n",
       "      <td>0.107750</td>\n",
       "    </tr>\n",
       "    <tr>\n",
       "      <th>50%</th>\n",
       "      <td>0.710700</td>\n",
       "      <td>0.000000</td>\n",
       "      <td>0.796500</td>\n",
       "      <td>0.183000</td>\n",
       "    </tr>\n",
       "    <tr>\n",
       "      <th>75%</th>\n",
       "      <td>0.858875</td>\n",
       "      <td>0.000000</td>\n",
       "      <td>0.865000</td>\n",
       "      <td>0.301750</td>\n",
       "    </tr>\n",
       "    <tr>\n",
       "      <th>max</th>\n",
       "      <td>0.955600</td>\n",
       "      <td>0.272000</td>\n",
       "      <td>1.000000</td>\n",
       "      <td>0.443000</td>\n",
       "    </tr>\n",
       "  </tbody>\n",
       "</table>\n",
       "</div>"
      ],
      "text/plain": [
       "        compound        neg        neu        pos\n",
       "count  80.000000  80.000000  80.000000  80.000000\n",
       "mean    0.549139   0.023525   0.779262   0.197200\n",
       "std     0.444076   0.050936   0.114785   0.126205\n",
       "min    -0.822500   0.000000   0.518000   0.000000\n",
       "25%     0.439400   0.000000   0.695000   0.107750\n",
       "50%     0.710700   0.000000   0.796500   0.183000\n",
       "75%     0.858875   0.000000   0.865000   0.301750\n",
       "max     0.955600   0.272000   1.000000   0.443000"
      ]
     },
     "execution_count": 25,
     "metadata": {},
     "output_type": "execute_result"
    }
   ],
   "source": [
    "# sentiment measures for parks with playground\n",
    "withP_sentiments.describe()"
   ]
  },
  {
   "cell_type": "code",
   "execution_count": 26,
   "metadata": {},
   "outputs": [
    {
     "data": {
      "image/png": "[encoded data removed]",
      "text/plain": [
       "<Figure size 1224x504 with 1 Axes>"
      ]
     },
     "metadata": {
      "needs_background": "light"
     },
     "output_type": "display_data"
    }
   ],
   "source": [
    "#compare the distribution of the compound metric between the two analyses\n",
    "withoutP_sentiments['compound'].plot.density(label='without_playground')\n",
    "withP_sentiments['compound'].plot.density(label='with_playground')\n",
    "plt.legend()\n",
    "plt.xlabel('Compound Sentiment Scores')\n",
    "plt.xlim(-1,1);"
   ]
  },
  {
   "cell_type": "code",
   "execution_count": 27,
   "metadata": {},
   "outputs": [
    {
     "data": {
      "text/html": [
       "<div>\n",
       "<style scoped>\n",
       "    .dataframe tbody tr th:only-of-type {\n",
       "        vertical-align: middle;\n",
       "    }\n",
       "\n",
       "    .dataframe tbody tr th {\n",
       "        vertical-align: top;\n",
       "    }\n",
       "\n",
       "    .dataframe thead th {\n",
       "        text-align: right;\n",
       "    }\n",
       "</style>\n",
       "<table border=\"1\" class=\"dataframe\">\n",
       "  <thead>\n",
       "    <tr style=\"text-align: right;\">\n",
       "      <th></th>\n",
       "      <th>compound</th>\n",
       "      <th>neg</th>\n",
       "      <th>neu</th>\n",
       "      <th>pos</th>\n",
       "      <th>sentence</th>\n",
       "      <th>which</th>\n",
       "    </tr>\n",
       "  </thead>\n",
       "  <tbody>\n",
       "    <tr>\n",
       "      <th>0</th>\n",
       "      <td>0.8916</td>\n",
       "      <td>0.0</td>\n",
       "      <td>0.674</td>\n",
       "      <td>0.326</td>\n",
       "      <td>Was invited to child's B-Day party pre Covid-1...</td>\n",
       "      <td>without_playground</td>\n",
       "    </tr>\n",
       "    <tr>\n",
       "      <th>1</th>\n",
       "      <td>0.9610</td>\n",
       "      <td>0.0</td>\n",
       "      <td>0.507</td>\n",
       "      <td>0.493</td>\n",
       "      <td>Pretty nice park, beautiful design.  Anyone is...</td>\n",
       "      <td>without_playground</td>\n",
       "    </tr>\n",
       "    <tr>\n",
       "      <th>2</th>\n",
       "      <td>0.8555</td>\n",
       "      <td>0.0</td>\n",
       "      <td>0.749</td>\n",
       "      <td>0.251</td>\n",
       "      <td>We love Civita Park for its wide open spaces t...</td>\n",
       "      <td>without_playground</td>\n",
       "    </tr>\n",
       "    <tr>\n",
       "      <th>3</th>\n",
       "      <td>0.9336</td>\n",
       "      <td>0.0</td>\n",
       "      <td>0.647</td>\n",
       "      <td>0.353</td>\n",
       "      <td>I LOVE this spot!!! So beautiful at night!! Th...</td>\n",
       "      <td>without_playground</td>\n",
       "    </tr>\n",
       "    <tr>\n",
       "      <th>4</th>\n",
       "      <td>0.7264</td>\n",
       "      <td>0.0</td>\n",
       "      <td>0.816</td>\n",
       "      <td>0.184</td>\n",
       "      <td>I took my kids here on a week day before The 4...</td>\n",
       "      <td>without_playground</td>\n",
       "    </tr>\n",
       "  </tbody>\n",
       "</table>\n",
       "</div>"
      ],
      "text/plain": [
       "   compound  neg    neu    pos  \\\n",
       "0    0.8916  0.0  0.674  0.326   \n",
       "1    0.9610  0.0  0.507  0.493   \n",
       "2    0.8555  0.0  0.749  0.251   \n",
       "3    0.9336  0.0  0.647  0.353   \n",
       "4    0.7264  0.0  0.816  0.184   \n",
       "\n",
       "                                            sentence               which  \n",
       "0  Was invited to child's B-Day party pre Covid-1...  without_playground  \n",
       "1  Pretty nice park, beautiful design.  Anyone is...  without_playground  \n",
       "2  We love Civita Park for its wide open spaces t...  without_playground  \n",
       "3  I LOVE this spot!!! So beautiful at night!! Th...  without_playground  \n",
       "4  I took my kids here on a week day before The 4...  without_playground  "
      ]
     },
     "execution_count": 27,
     "metadata": {},
     "output_type": "execute_result"
    }
   ],
   "source": [
    "# include label for boxplot\n",
    "withoutP_sentiments['which'] = 'without_playground'\n",
    "withP_sentiments['which'] = 'with_playground'\n",
    "# concatenate data frames together\n",
    "compound_out = pd.concat([withoutP_sentiments, withP_sentiments])\n",
    "compound_out.head()"
   ]
  },
  {
   "cell_type": "code",
   "execution_count": 28,
   "metadata": {},
   "outputs": [
    {
     "data": {
      "image/png": "[encoded data removed]",
      "text/plain": [
       "<Figure size 1224x504 with 1 Axes>"
      ]
     },
     "metadata": {
      "needs_background": "light"
     },
     "output_type": "display_data"
    }
   ],
   "source": [
    "# plot compound by resonse type\n",
    "sns.boxplot(data=compound_out, x='which', y='compound')\n",
    "plt.xlabel('text_ratings');"
   ]
  },
  {
   "cell_type": "markdown",
   "metadata": {},
   "source": [
    "# Ethics & Privacy"
   ]
  },
  {
   "cell_type": "markdown",
   "metadata": {},
   "source": [
    "The first critical issue regarding ethics and privacy is removing any personal information that is identifiable to protect others' privacy. Since we are using reviews from Yelp, it is important that we remove information such as username, user ID, etc. This step is done before I imported the data. Other information about the park can be used directly. \n",
    "\n",
    "Another issue to consider is that I only used ratings from Yelp, thus, it might not be adequate to generalize the result to every single people within San Diego. This is because Yelp users might only include people from certain age groups and internet habits. Also, there might be users of other different websites and applications that we did not take into consideration. These factors mean that the data collection process is biased (no random selection), thus we should acknowledge the potential influence on the result of such bias. Furthermore, it is not appropriate to generalize the results to all park visitors within the United States, because we only used data of park visitors within San Diego. \n"
   ]
  },
  {
   "cell_type": "markdown",
   "metadata": {},
   "source": [
    "# Conclusion & Discussion"
   ]
  },
  {
   "cell_type": "markdown",
   "metadata": {},
   "source": [
    "Based on the analysis, we can conclude that the sentiment of the reviews for parks with a playground is slightly more positive, and the original hypothesis was correct. \n",
    "\n",
    "However, there are limitations to my analysis. First of all, we don't know the timespan the reviews we collected. There might be park renovations in between that might alter our classification. Also, we only considered review from one application. It might be better if we considered from multiple platforms. Additionally, the difference between the compound sentiment score is quite small. It might not be appropriate to generate such a conclusion if our data set for parks with a playground was larger. \n",
    "\n",
    "Finally, we cannot establish any causal relationship between the existence of parks and people's happiness when visiting. There are confounding variables such as other amenities within the park, the size of the park, and the time when people are visiting."
   ]
  }
 ],
 "metadata": {
  "kernelspec": {
   "display_name": "Python 3",
   "language": "python",
   "name": "python3"
  },
  "language_info": {
   "codemirror_mode": {
    "name": "ipython",
    "version": 3
   },
   "file_extension": ".py",
   "mimetype": "text/x-python",
   "name": "python",
   "nbconvert_exporter": "python",
   "pygments_lexer": "ipython3",
   "version": "3.7.6"
  }
 },
 "nbformat": 4,
 "nbformat_minor": 2
}
