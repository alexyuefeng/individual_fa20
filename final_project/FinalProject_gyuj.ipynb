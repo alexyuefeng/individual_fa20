{
 "cells": [
  {
   "cell_type": "markdown",
   "metadata": {},
   "source": [
    "# COGS 108 - Final Project "
   ]
  },
  {
   "cell_type": "markdown",
   "metadata": {},
   "source": [
    "# Overview"
   ]
  },
  {
   "cell_type": "markdown",
   "metadata": {},
   "source": [
    "There had been a recent fund provided by the government for funding of San Diego parks. However, out of hundreds of parks to consider, it is hard to discern which parks should be prioritized to receive the funding. As an article mentions, similar to our current society stereotype that \"the richer get richer, the poorer gets poorer\", the parks that are popular and in better neighborhoods are frequented more, and enjoyed more by its visitors. To enhance the qualities and refurbish the facilities of the worn down parks that people do not visit as often, the funds should be directed upgrading those parks. With the data provided and seeing the relationships between number of reviews and ratings, I was able to extract a list of parks that should be prioritized for those funds. "
   ]
  },
  {
   "cell_type": "markdown",
   "metadata": {},
   "source": [
    "# Name & GitHub ID\n",
    "\n",
    "- Name: Gyujin Hong\n",
    "- GitHub Username: gyuj"
   ]
  },
  {
   "cell_type": "markdown",
   "metadata": {},
   "source": [
    "# Research Question"
   ]
  },
  {
   "cell_type": "markdown",
   "metadata": {},
   "source": [
    "How will location and zip code of a park affect its popularity and satisfaction level in San Diego? Are these qualities related? How can we find out which parks will need to be prioritized for funding with data provided for those four qualities mentioned above?"
   ]
  },
  {
   "cell_type": "markdown",
   "metadata": {},
   "source": [
    "## Background and Prior Work"
   ]
  },
  {
   "cell_type": "markdown",
   "metadata": {},
   "source": [
    "San Diego is loved by its residents for its spacious region, proximity to the coast, and its relaxed community. An important recreational feature that is a necessity for families and individuals in this city are parks, which provide fresh air and open fields for various leisure activities. As beautiful and precious they are to the community they belong in, they do require a lot care and funds to be kept at a good presentable condition to satisfy the residents who frequent their use. However, there are more than just a few hundred parks in San Diego alone - it is difficult to discern which of them should receive the extra expenses to be refurnished. Therefore, using the dataset provided by Professor Ellis, we will visualize the data, looking for correlation between zip codes and higher ratings through yelp by users. The predicted outcome is that specific regions within the San Diego county that have higher ratings will have better furnished parks and do not need the extra funding to upgrade their facilities. \n",
    "\n",
    "Some background search on what has been previously done regarding this subject by *TSDF* showed that \"the new report finds that the communities that historically suffer from the greatest inequities in usable green space are those with higher concentrations of lower-income households, as well as communities with greater racial and ethnic diversity.\" As mentioned by this article, it supports the idea that specific zip codes, which pertain to similar income-level households as well, also determine the satisfactory level that the parks provide to the surrounding residents. From this, we can see that lower-income household zip coded parks should be better funded to provide better experiences to its residents. \n",
    "\n",
    "This seems like an issue that has been realized by other writers and reporters as well, when seen through an article through *Voice of San Diego*, \"Richer, newer San Diego neighborhoods have amassed millions in fees paid by developers used to build things like parks, roads and libraries while older and generally poorer neighborhoods collect much less.\"  Hopefully further analysis on concrete datasets will bring better funding to the needed communities. A part of this has taken effect, as mentioned in the foremost mentioned article by TSDF, where funding has been granted to non-profit organizations saw the need for lower-income neighborhoods to be funded. Through this research correlating the satisfactory levels with zip codes, one can see clearly the relationship between specific regions and difference in conditions of parks, and hopefully thorough funding can be executed. \n",
    "\n",
    "Through the research conducting with the given dataset below, we will ultimately be able identify which zip codes have parks that should come in priority for funding for its facilities through seeing which parks residents frequent the use of mostly, by identifying which parks with high number of reviews *and* high ratings are located in which zip codes.   \n",
    "\n",
    "\n",
    "References (include links):\n",
    "- 1) TSDF https://www.sdfoundation.org/news-events/sdf-news/the-san-diego-foundation-launches-new-parks-report-and-increases-access-to-nature-with-344990-in-grants/\n",
    "- 2) Elmer, Mackenzie https://www.voiceofsandiego.org/topics/government/if-your-local-park-sucks-this-is-probably-why/ "
   ]
  },
  {
   "cell_type": "markdown",
   "metadata": {},
   "source": [
    "# Hypothesis\n"
   ]
  },
  {
   "cell_type": "markdown",
   "metadata": {},
   "source": [
    "The parks with higher ratings will have significantly high number of reviews, as mentioned in article from above that the richer neighborhood parks get more funds, and the lower-income household neighborhood parks do not. Similar idea, the more satisfying a park is, the more residents will frequent the use of. Therefore, the zip code in the wealthier neighborhoods will be more furnished and have parks with better ratings, because residents will tend to find *nicer* parks. "
   ]
  },
  {
   "cell_type": "markdown",
   "metadata": {},
   "source": [
    "# Dataset(s)"
   ]
  },
  {
   "cell_type": "markdown",
   "metadata": {},
   "source": [
    "\n",
    "- Dataset Name: Yelp SD Parks\n",
    "- Link to the dataset: https://github.com/COGS108/individual_fa20/tree/master/data\n",
    "- Number of observations: 3,332\n",
    "\n",
    "CSV Dataset on Yelp dataset for San Diego parks, with locations and  ratings. Number of ratings taken into account are provided, and the ratings are averages. "
   ]
  },
  {
   "cell_type": "markdown",
   "metadata": {},
   "source": [
    "# Setup"
   ]
  },
  {
   "cell_type": "code",
   "execution_count": 1,
   "metadata": {},
   "outputs": [],
   "source": [
    "# Importing libraries\n",
    "import numpy as np\n",
    "import pandas as pd\n",
    "import matplotlib.pyplot as plt\n",
    "import seaborn as sns\n",
    "\n",
    "# Configuring libraries\n",
    "sns.set()\n",
    "sns.set_context('talk')"
   ]
  },
  {
   "cell_type": "code",
   "execution_count": 2,
   "metadata": {},
   "outputs": [],
   "source": [
    "# Reading in data\n",
    "df_info = pd.read_csv('https://raw.githubusercontent.com/COGS108/individual_fa20/master/data/yelp_SD_parks.csv')"
   ]
  },
  {
   "cell_type": "markdown",
   "metadata": {},
   "source": [
    "# Data Cleaning"
   ]
  },
  {
   "cell_type": "markdown",
   "metadata": {},
   "source": [
    "Describe your data cleaning steps here."
   ]
  },
  {
   "cell_type": "code",
   "execution_count": 3,
   "metadata": {},
   "outputs": [],
   "source": [
    "# Drop unnecessary columns\n",
    "df_info = df_info.drop(columns = ['phone', 'id', 'url', 'longitude', 'latitude', 'is_closed'])"
   ]
  },
  {
   "cell_type": "code",
   "execution_count": 4,
   "metadata": {},
   "outputs": [
    {
     "data": {
      "text/html": [
       "<div>\n",
       "<style scoped>\n",
       "    .dataframe tbody tr th:only-of-type {\n",
       "        vertical-align: middle;\n",
       "    }\n",
       "\n",
       "    .dataframe tbody tr th {\n",
       "        vertical-align: top;\n",
       "    }\n",
       "\n",
       "    .dataframe thead th {\n",
       "        text-align: right;\n",
       "    }\n",
       "</style>\n",
       "<table border=\"1\" class=\"dataframe\">\n",
       "  <thead>\n",
       "    <tr style=\"text-align: right;\">\n",
       "      <th></th>\n",
       "      <th>name</th>\n",
       "      <th>address</th>\n",
       "      <th>rating</th>\n",
       "      <th>review_count</th>\n",
       "    </tr>\n",
       "  </thead>\n",
       "  <tbody>\n",
       "    <tr>\n",
       "      <th>0</th>\n",
       "      <td>Balboa Park</td>\n",
       "      <td>1549 El Prado San Diego, CA 92101</td>\n",
       "      <td>5.0</td>\n",
       "      <td>2105</td>\n",
       "    </tr>\n",
       "    <tr>\n",
       "      <th>1</th>\n",
       "      <td>Civita Park</td>\n",
       "      <td>7960 Civita Blvd San Diego, CA 92108</td>\n",
       "      <td>4.5</td>\n",
       "      <td>46</td>\n",
       "    </tr>\n",
       "    <tr>\n",
       "      <th>2</th>\n",
       "      <td>Waterfront Park</td>\n",
       "      <td>1600 Pacific Hwy San Diego, CA 92101</td>\n",
       "      <td>4.5</td>\n",
       "      <td>242</td>\n",
       "    </tr>\n",
       "    <tr>\n",
       "      <th>3</th>\n",
       "      <td>Trolley Barn Park</td>\n",
       "      <td>Adams Ave And Florida St San Diego, CA 92116</td>\n",
       "      <td>4.5</td>\n",
       "      <td>102</td>\n",
       "    </tr>\n",
       "    <tr>\n",
       "      <th>4</th>\n",
       "      <td>Bay View Park</td>\n",
       "      <td>413 1st St Coronado, CA 92118</td>\n",
       "      <td>5.0</td>\n",
       "      <td>42</td>\n",
       "    </tr>\n",
       "  </tbody>\n",
       "</table>\n",
       "</div>"
      ],
      "text/plain": [
       "                name                                       address  rating  \\\n",
       "0        Balboa Park             1549 El Prado San Diego, CA 92101     5.0   \n",
       "1        Civita Park          7960 Civita Blvd San Diego, CA 92108     4.5   \n",
       "2    Waterfront Park          1600 Pacific Hwy San Diego, CA 92101     4.5   \n",
       "3  Trolley Barn Park  Adams Ave And Florida St San Diego, CA 92116     4.5   \n",
       "4      Bay View Park                 413 1st St Coronado, CA 92118     5.0   \n",
       "\n",
       "   review_count  \n",
       "0          2105  \n",
       "1            46  \n",
       "2           242  \n",
       "3           102  \n",
       "4            42  "
      ]
     },
     "execution_count": 4,
     "metadata": {},
     "output_type": "execute_result"
    }
   ],
   "source": [
    "# Visualize data we have so far\n",
    "df_info.head()"
   ]
  },
  {
   "cell_type": "code",
   "execution_count": 5,
   "metadata": {},
   "outputs": [
    {
     "data": {
      "text/plain": [
       "(833, 4)"
      ]
     },
     "execution_count": 5,
     "metadata": {},
     "output_type": "execute_result"
    }
   ],
   "source": [
    "# Clean up address column to only include zip code\n",
    "address_zipcode = pd.Series(df_info['address'])\n",
    "address_zipcode = address_zipcode.str.slice(start=-5)\n",
    "\n",
    "# New zip code column saved \n",
    "address_zipcode.head()\n",
    "\n",
    "# Push back changes to address column in original df\n",
    "df_info['address'] = address_zipcode\n",
    "\n",
    "df_info.shape"
   ]
  },
  {
   "cell_type": "code",
   "execution_count": 6,
   "metadata": {},
   "outputs": [
    {
     "data": {
      "text/plain": [
       "1       62\n",
       "2       37\n",
       "3       37\n",
       "4       34\n",
       "7       29\n",
       "        ..\n",
       "147      1\n",
       "146      1\n",
       "145      1\n",
       "345      1\n",
       "3051     1\n",
       "Name: review_count, Length: 267, dtype: int64"
      ]
     },
     "execution_count": 6,
     "metadata": {},
     "output_type": "execute_result"
    }
   ],
   "source": [
    "# Clean up ranges of review counts, exclude outliers for cleaner data visualization\n",
    "df_info['review_count'].unique\n",
    "df_info['review_count'].value_counts()"
   ]
  },
  {
   "cell_type": "code",
   "execution_count": 7,
   "metadata": {},
   "outputs": [
    {
     "data": {
      "text/plain": [
       "<matplotlib.axes._subplots.AxesSubplot at 0x7f842463fa10>"
      ]
     },
     "execution_count": 7,
     "metadata": {},
     "output_type": "execute_result"
    },
    {
     "data": {
      "image/png": "[encoded data removed]",
      "text/plain": [
       "<Figure size 432x288 with 1 Axes>"
      ]
     },
     "metadata": {},
     "output_type": "display_data"
    }
   ],
   "source": [
    "# Visualize results, zip code on x axis and ratings on y to see correlations\n",
    "\n",
    "# Plot_1\n",
    "sns.scatterplot(x = df_info['review_count'], y = df_info['rating'])"
   ]
  },
  {
   "cell_type": "code",
   "execution_count": 8,
   "metadata": {},
   "outputs": [],
   "source": [
    "# Get an idea of up to which range to include in plot by above function, execute to dropping unnecessaries\n",
    "df_info = df_info.drop(df_info.loc[df_info['review_count'] > 2000].index)"
   ]
  },
  {
   "cell_type": "code",
   "execution_count": 9,
   "metadata": {},
   "outputs": [
    {
     "data": {
      "text/plain": [
       "<matplotlib.axes._subplots.AxesSubplot at 0x7f82c3c4f610>"
      ]
     },
     "execution_count": 9,
     "metadata": {},
     "output_type": "execute_result"
    },
    {
     "data": {
      "image/png": "[encoded data removed]",
      "text/plain": [
       "<Figure size 432x288 with 1 Axes>"
      ]
     },
     "metadata": {},
     "output_type": "display_data"
    }
   ],
   "source": [
    "# Visualize results, zip code on x axis and ratings on y to see correlations\n",
    "\n",
    "# Plot_2\n",
    "sns.scatterplot(x = df_info['review_count'], y = df_info['rating'])"
   ]
  },
  {
   "cell_type": "markdown",
   "metadata": {},
   "source": [
    "# Data Analysis & Results"
   ]
  },
  {
   "cell_type": "markdown",
   "metadata": {},
   "source": [
    "Include cells that describe the steps in your data analysis."
   ]
  },
  {
   "cell_type": "code",
   "execution_count": 10,
   "metadata": {},
   "outputs": [
    {
     "data": {
      "text/plain": [
       "<matplotlib.axes._subplots.AxesSubplot at 0x7f82c3c0c6d0>"
      ]
     },
     "execution_count": 10,
     "metadata": {},
     "output_type": "execute_result"
    },
    {
     "data": {
      "image/png": "[encoded data removed]",
      "text/plain": [
       "<Figure size 432x288 with 1 Axes>"
      ]
     },
     "metadata": {},
     "output_type": "display_data"
    }
   ],
   "source": [
    "# Extension of steps done above;\n",
    "# magnifying more upon data visualization to highlight our focus of the research: \n",
    "# finding which zip codes to direct the funds to.\n",
    "\n",
    "# Plot_3\n",
    "df_info = df_info.drop(df_info.loc[df_info['review_count'] > 500].index)\n",
    "sns.scatterplot(x = df_info['review_count'], y = df_info['rating'])"
   ]
  },
  {
   "cell_type": "code",
   "execution_count": 11,
   "metadata": {},
   "outputs": [
    {
     "data": {
      "text/html": [
       "<div>\n",
       "<style scoped>\n",
       "    .dataframe tbody tr th:only-of-type {\n",
       "        vertical-align: middle;\n",
       "    }\n",
       "\n",
       "    .dataframe tbody tr th {\n",
       "        vertical-align: top;\n",
       "    }\n",
       "\n",
       "    .dataframe thead th {\n",
       "        text-align: right;\n",
       "    }\n",
       "</style>\n",
       "<table border=\"1\" class=\"dataframe\">\n",
       "  <thead>\n",
       "    <tr style=\"text-align: right;\">\n",
       "      <th></th>\n",
       "      <th>name</th>\n",
       "      <th>address</th>\n",
       "      <th>rating</th>\n",
       "      <th>review_count</th>\n",
       "    </tr>\n",
       "  </thead>\n",
       "  <tbody>\n",
       "    <tr>\n",
       "      <th>129</th>\n",
       "      <td>Parkside Park</td>\n",
       "      <td>92139</td>\n",
       "      <td>2.5</td>\n",
       "      <td>8</td>\n",
       "    </tr>\n",
       "    <tr>\n",
       "      <th>134</th>\n",
       "      <td>City of Lakeside</td>\n",
       "      <td>92040</td>\n",
       "      <td>1.0</td>\n",
       "      <td>1</td>\n",
       "    </tr>\n",
       "    <tr>\n",
       "      <th>147</th>\n",
       "      <td>Lamar Park</td>\n",
       "      <td>91977</td>\n",
       "      <td>1.5</td>\n",
       "      <td>12</td>\n",
       "    </tr>\n",
       "    <tr>\n",
       "      <th>155</th>\n",
       "      <td>Sunnyslope Park</td>\n",
       "      <td>92102</td>\n",
       "      <td>1.0</td>\n",
       "      <td>1</td>\n",
       "    </tr>\n",
       "    <tr>\n",
       "      <th>158</th>\n",
       "      <td>MG Properties Group</td>\n",
       "      <td>92121</td>\n",
       "      <td>2.0</td>\n",
       "      <td>26</td>\n",
       "    </tr>\n",
       "    <tr>\n",
       "      <th>178</th>\n",
       "      <td>Memorial Park</td>\n",
       "      <td>91910</td>\n",
       "      <td>2.5</td>\n",
       "      <td>8</td>\n",
       "    </tr>\n",
       "    <tr>\n",
       "      <th>261</th>\n",
       "      <td>Damato Skatepark</td>\n",
       "      <td>92124</td>\n",
       "      <td>2.5</td>\n",
       "      <td>7</td>\n",
       "    </tr>\n",
       "    <tr>\n",
       "      <th>324</th>\n",
       "      <td>Curtis Management Company, Inc</td>\n",
       "      <td>92008</td>\n",
       "      <td>2.0</td>\n",
       "      <td>50</td>\n",
       "    </tr>\n",
       "    <tr>\n",
       "      <th>338</th>\n",
       "      <td>Costa Verde Center</td>\n",
       "      <td>92122</td>\n",
       "      <td>2.5</td>\n",
       "      <td>22</td>\n",
       "    </tr>\n",
       "    <tr>\n",
       "      <th>355</th>\n",
       "      <td>Park Diplomat</td>\n",
       "      <td>92103</td>\n",
       "      <td>2.5</td>\n",
       "      <td>15</td>\n",
       "    </tr>\n",
       "    <tr>\n",
       "      <th>373</th>\n",
       "      <td>Hoban Management</td>\n",
       "      <td>92020</td>\n",
       "      <td>1.5</td>\n",
       "      <td>34</td>\n",
       "    </tr>\n",
       "    <tr>\n",
       "      <th>374</th>\n",
       "      <td>CIS Investments</td>\n",
       "      <td>92108</td>\n",
       "      <td>2.0</td>\n",
       "      <td>14</td>\n",
       "    </tr>\n",
       "    <tr>\n",
       "      <th>392</th>\n",
       "      <td>Aztec Pacific Apartments</td>\n",
       "      <td>92115</td>\n",
       "      <td>2.5</td>\n",
       "      <td>22</td>\n",
       "    </tr>\n",
       "    <tr>\n",
       "      <th>393</th>\n",
       "      <td>Carriage House</td>\n",
       "      <td>92115</td>\n",
       "      <td>1.0</td>\n",
       "      <td>2</td>\n",
       "    </tr>\n",
       "    <tr>\n",
       "      <th>394</th>\n",
       "      <td>Penthouse Apartments</td>\n",
       "      <td>92115</td>\n",
       "      <td>1.5</td>\n",
       "      <td>14</td>\n",
       "    </tr>\n",
       "    <tr>\n",
       "      <th>398</th>\n",
       "      <td>Collier Park</td>\n",
       "      <td>91941</td>\n",
       "      <td>2.0</td>\n",
       "      <td>8</td>\n",
       "    </tr>\n",
       "    <tr>\n",
       "      <th>404</th>\n",
       "      <td>Mission Hills Open Space</td>\n",
       "      <td>92103</td>\n",
       "      <td>2.5</td>\n",
       "      <td>3</td>\n",
       "    </tr>\n",
       "    <tr>\n",
       "      <th>415</th>\n",
       "      <td>Loma Village</td>\n",
       "      <td>92110</td>\n",
       "      <td>2.5</td>\n",
       "      <td>23</td>\n",
       "    </tr>\n",
       "    <tr>\n",
       "      <th>416</th>\n",
       "      <td>Lincoln Military Housing - The Village at Serr...</td>\n",
       "      <td>92123</td>\n",
       "      <td>1.5</td>\n",
       "      <td>25</td>\n",
       "    </tr>\n",
       "    <tr>\n",
       "      <th>433</th>\n",
       "      <td>Horton Plaza Christmas Tree Lighting</td>\n",
       "      <td>92101</td>\n",
       "      <td>2.5</td>\n",
       "      <td>2</td>\n",
       "    </tr>\n",
       "    <tr>\n",
       "      <th>439</th>\n",
       "      <td>IRS</td>\n",
       "      <td>92101</td>\n",
       "      <td>2.5</td>\n",
       "      <td>44</td>\n",
       "    </tr>\n",
       "    <tr>\n",
       "      <th>442</th>\n",
       "      <td>Superior Court of California, County of San Di...</td>\n",
       "      <td>92101</td>\n",
       "      <td>2.5</td>\n",
       "      <td>19</td>\n",
       "    </tr>\n",
       "    <tr>\n",
       "      <th>443</th>\n",
       "      <td>Nestor Neighborhood Park</td>\n",
       "      <td>92154</td>\n",
       "      <td>2.0</td>\n",
       "      <td>1</td>\n",
       "    </tr>\n",
       "    <tr>\n",
       "      <th>457</th>\n",
       "      <td>Winchester</td>\n",
       "      <td>92054</td>\n",
       "      <td>2.5</td>\n",
       "      <td>44</td>\n",
       "    </tr>\n",
       "    <tr>\n",
       "      <th>461</th>\n",
       "      <td>Ward Canyon Dog Park</td>\n",
       "      <td>92116</td>\n",
       "      <td>2.5</td>\n",
       "      <td>23</td>\n",
       "    </tr>\n",
       "    <tr>\n",
       "      <th>491</th>\n",
       "      <td>Melroy Property Management</td>\n",
       "      <td>92117</td>\n",
       "      <td>2.0</td>\n",
       "      <td>48</td>\n",
       "    </tr>\n",
       "    <tr>\n",
       "      <th>506</th>\n",
       "      <td>Penasquitas Casa Blanca</td>\n",
       "      <td>92129</td>\n",
       "      <td>1.0</td>\n",
       "      <td>1</td>\n",
       "    </tr>\n",
       "    <tr>\n",
       "      <th>511</th>\n",
       "      <td>Van Dam Peak</td>\n",
       "      <td>92128</td>\n",
       "      <td>2.5</td>\n",
       "      <td>7</td>\n",
       "    </tr>\n",
       "    <tr>\n",
       "      <th>517</th>\n",
       "      <td>Adobe Bluffs Elementary School</td>\n",
       "      <td>92129</td>\n",
       "      <td>2.5</td>\n",
       "      <td>3</td>\n",
       "    </tr>\n",
       "    <tr>\n",
       "      <th>532</th>\n",
       "      <td>San Diego Airport Taxi</td>\n",
       "      <td>92103</td>\n",
       "      <td>2.0</td>\n",
       "      <td>7</td>\n",
       "    </tr>\n",
       "    <tr>\n",
       "      <th>544</th>\n",
       "      <td>Villa De La Paz</td>\n",
       "      <td>91977</td>\n",
       "      <td>2.5</td>\n",
       "      <td>3</td>\n",
       "    </tr>\n",
       "    <tr>\n",
       "      <th>545</th>\n",
       "      <td>Casa La Paz Apartments</td>\n",
       "      <td>91911</td>\n",
       "      <td>1.0</td>\n",
       "      <td>5</td>\n",
       "    </tr>\n",
       "    <tr>\n",
       "      <th>548</th>\n",
       "      <td>Keiller Danny L MD Urology</td>\n",
       "      <td>92103</td>\n",
       "      <td>1.5</td>\n",
       "      <td>4</td>\n",
       "    </tr>\n",
       "    <tr>\n",
       "      <th>568</th>\n",
       "      <td>Lakeview Mobile Estates</td>\n",
       "      <td>92078</td>\n",
       "      <td>1.0</td>\n",
       "      <td>1</td>\n",
       "    </tr>\n",
       "    <tr>\n",
       "      <th>572</th>\n",
       "      <td>Vista Terrace Neighborhood Park</td>\n",
       "      <td>92173</td>\n",
       "      <td>1.0</td>\n",
       "      <td>1</td>\n",
       "    </tr>\n",
       "    <tr>\n",
       "      <th>692</th>\n",
       "      <td>Aurora At Riviera Del Sol Hoa</td>\n",
       "      <td>92154</td>\n",
       "      <td>1.0</td>\n",
       "      <td>1</td>\n",
       "    </tr>\n",
       "    <tr>\n",
       "      <th>702</th>\n",
       "      <td>Dorothy Petway Neighborhood Park</td>\n",
       "      <td>92113</td>\n",
       "      <td>1.5</td>\n",
       "      <td>3</td>\n",
       "    </tr>\n",
       "    <tr>\n",
       "      <th>706</th>\n",
       "      <td>La Jolla Del Rey Apts.</td>\n",
       "      <td>92122</td>\n",
       "      <td>2.5</td>\n",
       "      <td>7</td>\n",
       "    </tr>\n",
       "    <tr>\n",
       "      <th>707</th>\n",
       "      <td>Avia La Jolla Apartments</td>\n",
       "      <td>92122</td>\n",
       "      <td>2.5</td>\n",
       "      <td>7</td>\n",
       "    </tr>\n",
       "    <tr>\n",
       "      <th>709</th>\n",
       "      <td>Villa La Jolla Townhomes Association</td>\n",
       "      <td>92037</td>\n",
       "      <td>2.5</td>\n",
       "      <td>3</td>\n",
       "    </tr>\n",
       "    <tr>\n",
       "      <th>710</th>\n",
       "      <td>Town Park Villas</td>\n",
       "      <td>92122</td>\n",
       "      <td>1.5</td>\n",
       "      <td>8</td>\n",
       "    </tr>\n",
       "    <tr>\n",
       "      <th>713</th>\n",
       "      <td>Village View Apartments</td>\n",
       "      <td>92122</td>\n",
       "      <td>1.5</td>\n",
       "      <td>16</td>\n",
       "    </tr>\n",
       "    <tr>\n",
       "      <th>715</th>\n",
       "      <td>Pernicano Realty &amp; Management Company</td>\n",
       "      <td>92108</td>\n",
       "      <td>2.5</td>\n",
       "      <td>82</td>\n",
       "    </tr>\n",
       "    <tr>\n",
       "      <th>731</th>\n",
       "      <td>Angelo Italy Formal Wear</td>\n",
       "      <td>91910</td>\n",
       "      <td>2.5</td>\n",
       "      <td>31</td>\n",
       "    </tr>\n",
       "    <tr>\n",
       "      <th>754</th>\n",
       "      <td>Otay Mesa Port of Entry</td>\n",
       "      <td>92154</td>\n",
       "      <td>2.5</td>\n",
       "      <td>45</td>\n",
       "    </tr>\n",
       "    <tr>\n",
       "      <th>767</th>\n",
       "      <td>The Transit Store</td>\n",
       "      <td>92101</td>\n",
       "      <td>2.5</td>\n",
       "      <td>16</td>\n",
       "    </tr>\n",
       "    <tr>\n",
       "      <th>768</th>\n",
       "      <td>Fifth Avenue Trolley Station</td>\n",
       "      <td>92101</td>\n",
       "      <td>2.5</td>\n",
       "      <td>6</td>\n",
       "    </tr>\n",
       "    <tr>\n",
       "      <th>826</th>\n",
       "      <td>Mission San Diego Trolley Station</td>\n",
       "      <td>92108</td>\n",
       "      <td>2.0</td>\n",
       "      <td>7</td>\n",
       "    </tr>\n",
       "  </tbody>\n",
       "</table>\n",
       "</div>"
      ],
      "text/plain": [
       "                                                  name address  rating  \\\n",
       "129                                      Parkside Park   92139     2.5   \n",
       "134                                   City of Lakeside   92040     1.0   \n",
       "147                                         Lamar Park   91977     1.5   \n",
       "155                                    Sunnyslope Park   92102     1.0   \n",
       "158                                MG Properties Group   92121     2.0   \n",
       "178                                      Memorial Park   91910     2.5   \n",
       "261                                   Damato Skatepark   92124     2.5   \n",
       "324                     Curtis Management Company, Inc   92008     2.0   \n",
       "338                                 Costa Verde Center   92122     2.5   \n",
       "355                                      Park Diplomat   92103     2.5   \n",
       "373                                   Hoban Management   92020     1.5   \n",
       "374                                    CIS Investments   92108     2.0   \n",
       "392                           Aztec Pacific Apartments   92115     2.5   \n",
       "393                                     Carriage House   92115     1.0   \n",
       "394                               Penthouse Apartments   92115     1.5   \n",
       "398                                       Collier Park   91941     2.0   \n",
       "404                           Mission Hills Open Space   92103     2.5   \n",
       "415                                       Loma Village   92110     2.5   \n",
       "416  Lincoln Military Housing - The Village at Serr...   92123     1.5   \n",
       "433               Horton Plaza Christmas Tree Lighting   92101     2.5   \n",
       "439                                                IRS   92101     2.5   \n",
       "442  Superior Court of California, County of San Di...   92101     2.5   \n",
       "443                           Nestor Neighborhood Park   92154     2.0   \n",
       "457                                         Winchester   92054     2.5   \n",
       "461                               Ward Canyon Dog Park   92116     2.5   \n",
       "491                         Melroy Property Management   92117     2.0   \n",
       "506                            Penasquitas Casa Blanca   92129     1.0   \n",
       "511                                       Van Dam Peak   92128     2.5   \n",
       "517                     Adobe Bluffs Elementary School   92129     2.5   \n",
       "532                             San Diego Airport Taxi   92103     2.0   \n",
       "544                                    Villa De La Paz   91977     2.5   \n",
       "545                             Casa La Paz Apartments   91911     1.0   \n",
       "548                         Keiller Danny L MD Urology   92103     1.5   \n",
       "568                            Lakeview Mobile Estates   92078     1.0   \n",
       "572                    Vista Terrace Neighborhood Park   92173     1.0   \n",
       "692                      Aurora At Riviera Del Sol Hoa   92154     1.0   \n",
       "702                   Dorothy Petway Neighborhood Park   92113     1.5   \n",
       "706                             La Jolla Del Rey Apts.   92122     2.5   \n",
       "707                           Avia La Jolla Apartments   92122     2.5   \n",
       "709               Villa La Jolla Townhomes Association   92037     2.5   \n",
       "710                                   Town Park Villas   92122     1.5   \n",
       "713                            Village View Apartments   92122     1.5   \n",
       "715              Pernicano Realty & Management Company   92108     2.5   \n",
       "731                           Angelo Italy Formal Wear   91910     2.5   \n",
       "754                            Otay Mesa Port of Entry   92154     2.5   \n",
       "767                                  The Transit Store   92101     2.5   \n",
       "768                       Fifth Avenue Trolley Station   92101     2.5   \n",
       "826                  Mission San Diego Trolley Station   92108     2.0   \n",
       "\n",
       "     review_count  \n",
       "129             8  \n",
       "134             1  \n",
       "147            12  \n",
       "155             1  \n",
       "158            26  \n",
       "178             8  \n",
       "261             7  \n",
       "324            50  \n",
       "338            22  \n",
       "355            15  \n",
       "373            34  \n",
       "374            14  \n",
       "392            22  \n",
       "393             2  \n",
       "394            14  \n",
       "398             8  \n",
       "404             3  \n",
       "415            23  \n",
       "416            25  \n",
       "433             2  \n",
       "439            44  \n",
       "442            19  \n",
       "443             1  \n",
       "457            44  \n",
       "461            23  \n",
       "491            48  \n",
       "506             1  \n",
       "511             7  \n",
       "517             3  \n",
       "532             7  \n",
       "544             3  \n",
       "545             5  \n",
       "548             4  \n",
       "568             1  \n",
       "572             1  \n",
       "692             1  \n",
       "702             3  \n",
       "706             7  \n",
       "707             7  \n",
       "709             3  \n",
       "710             8  \n",
       "713            16  \n",
       "715            82  \n",
       "731            31  \n",
       "754            45  \n",
       "767            16  \n",
       "768             6  \n",
       "826             7  "
      ]
     },
     "execution_count": 11,
     "metadata": {},
     "output_type": "execute_result"
    }
   ],
   "source": [
    "# List of parks that should be focused for funding, with lowest ratings and reviews\n",
    "df_low_rating = df_info[df_info['rating']<3]\n",
    "df_low_overall = df_low_rating[df_low_rating['review_count']<100]\n",
    "df_low_overall"
   ]
  },
  {
   "cell_type": "code",
   "execution_count": 12,
   "metadata": {},
   "outputs": [
    {
     "data": {
      "text/plain": [
       "(48, 4)"
      ]
     },
     "execution_count": 12,
     "metadata": {},
     "output_type": "execute_result"
    }
   ],
   "source": [
    "df_low_overall.shape"
   ]
  },
  {
   "cell_type": "markdown",
   "metadata": {},
   "source": [
    "The parks that should be prioritized for funding for refurnishing are those 48 parks above that have the lowest ratings and the number of reviews. The names of the parks are provided, and this shortened list from the previous 764 names of parks. "
   ]
  },
  {
   "cell_type": "markdown",
   "metadata": {},
   "source": [
    "The plot above supports our hypothesis that the higher rating a park gets, the more reviews, and visitors the park has. The portion of the above data is the lower left corner of the entire plot, the parks that have less than 100 reviews and less than rating points of 3. These parks are the ones that need to be focused with funds for refurnishing, and attracting more visitors of. "
   ]
  },
  {
   "cell_type": "markdown",
   "metadata": {},
   "source": [
    "As labeled, plot 1 and 2 provided a visualization that supported the idea that popular parks will have higher numbers of reviews. Through the outliers that were present before they were sliced off, we are able to note that there are *no* outliers at all where the ratings are low; for parks that had low ratings, people did not bother to post a lot of reviews of them on yelp, which can also imply that these parks were not visited as much as others. "
   ]
  },
  {
   "cell_type": "markdown",
   "metadata": {},
   "source": [
    "# Ethics & Privacy"
   ]
  },
  {
   "cell_type": "markdown",
   "metadata": {},
   "source": [
    "Data gathered are solely on parks, therefore it does not pertain to any breaches on privacy issues in collecting and plotting this data publicly. The parks are out on the public for public use, and the addresses of the parks as well as the numbers are made available on the internet, accessible to anyone who has a need for them. As for the data gathered from Yelp, on the ratings made by individuals on the parks, the names of those who made the ratings were not disclosed, and no identity tags are made available through the data gathered for this research. \n",
    "\n",
    "The ethics that the resulting conclusion of this study is based on might have flaws - that the less popular parks will be correlated with lower-income household neighborhoods. However, the dataset just provides a visualization for which parks were both low in review counts and rating points *significantly* in comparison to the majority of other parks in the county of San Diego. "
   ]
  },
  {
   "cell_type": "markdown",
   "metadata": {},
   "source": [
    "# Conclusion & Discussion"
   ]
  },
  {
   "cell_type": "markdown",
   "metadata": {},
   "source": [
    "Although the final conclusion could have been thoroughly supported with comparison against another dataset that provided the relational income level of the neighborhood with its representative zip code, that could have breached the privacy policy for the comprised zip codes. The income levels of the broad region represented by a zip code might potentially harm the residents of the zip code, and some might disagree, for income levels will vary within those regions. Some might feel wronged by the labeling of a income level for their location of residency, and lowered prices for estate owners might also not have agreed with the income level and zip code association information being publicized. \n",
    "\n",
    "I was able to accomplish what my research study had hoped to find - a relationship between the number of ratings for a park through Yelp in San Diego and the average of rating points by those reviews. I was able to conclude by visualizing the outliers through Plot 1 and Plot 2 that only the parks that were reviewed with a rating more than 3, at a minimum, were reviewed by a large number of reviews up to 2000. However, the parks that were rated less that 3 points out of 5 rarely had reviews more than 200, most were merged from ranges up to 100 numbers of reviews. Finallyl, I was able to extract 48 parks out of the 764 that I started with, that should be prioritized for fundings for refurnishments. "
   ]
  }
 ],
 "metadata": {
  "kernelspec": {
   "display_name": "Python 3",
   "language": "python",
   "name": "python3"
  },
  "language_info": {
   "codemirror_mode": {
    "name": "ipython",
    "version": 3
   },
   "file_extension": ".py",
   "mimetype": "text/x-python",
   "name": "python",
   "nbconvert_exporter": "python",
   "pygments_lexer": "ipython3",
   "version": "3.7.6"
  }
 },
 "nbformat": 4,
 "nbformat_minor": 2
}
