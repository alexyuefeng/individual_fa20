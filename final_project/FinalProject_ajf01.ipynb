{
 "cells": [
  {
   "cell_type": "markdown",
   "metadata": {},
   "source": [
    "# COGS 108 - Final Project "
   ]
  },
  {
   "cell_type": "markdown",
   "metadata": {},
   "source": [
    "# Overview"
   ]
  },
  {
   "cell_type": "markdown",
   "metadata": {},
   "source": [
    "I decided to conduct research on whether San Diego park Yelp ratings could be predicted with only the location of these parks represented by longitude and latitude values. I performed a few different analytical methods such as checking feature correlations and creating a machine learning model. The results from my analysis show that there is no correlation between San Diego park Yelp ratings and park locations represented by longitude and latitude values."
   ]
  },
  {
   "cell_type": "markdown",
   "metadata": {},
   "source": [
    "# Name & GitHub\n",
    "\n",
    "- Name: Anthony Fong\n",
    "- GitHub Username: ajf01"
   ]
  },
  {
   "cell_type": "markdown",
   "metadata": {},
   "source": [
    "# Research Question"
   ]
  },
  {
   "cell_type": "markdown",
   "metadata": {},
   "source": [
    "Does the location of a park represented by their longitude and latitude values determine their Yelp ratings?"
   ]
  },
  {
   "cell_type": "markdown",
   "metadata": {},
   "source": [
    "## Background and Prior Work"
   ]
  },
  {
   "cell_type": "markdown",
   "metadata": {},
   "source": [
    "When deciding where a business should be built there are many things to take into consideration. One of the most important things to decide on is location. Forbes, one of Americas leading business magazines, in one of their online articles explains how even with the rise of online commerce location will always play a role in business development (Forbes). Though does this concept apply to public parks? Parks, as explained by Eastern Kentucky Univeristy, have the social purpose to \"provide identity for citizens and are a major factor in the perception of quality of life in a given community\"  (Eastern Kentucky University). So, if parks carry meaning only for their given community then location should not effect the rating of a park. Rather the quality of the park should be the only factor in ratings. To test this theory is why I have proposed a research question to investigate whether parks longitude and latitude values determine their Yelp ratings.\n",
    "\n",
    "Currently I have not found any previous research done on my specific research question. The closest thing I could find is a blog post made on WEBEminence by Ryan Bowman on a related topic. Ryan Bowman hosts a Q&A series called WEask.tv. In his WEBEminence blog post he covers how location can affect the ranking system on Google (WEBEminence). Depending on where the location of a business is Google may rank them highly and return the business often in search queries or not. This research shows that at the very least Google can affect how many people know about a park based on its location. Though this does not imply that the location of a park will effect their yelp rating. Even if there is lower attendence to a park due to their location, those who end up visiting the park should in theory still rate the park based on the quality.\n",
    "\n",
    "References (include links):\n",
    "- 1) Forbes (https://www.forbes.com/sites/williamcraig/2015/01/16/why-location-does-and-doesnt-matter-for-entrepreneurial-success/?sh=554914624bf6)\n",
    "\n",
    "- 2) Eastern Kentucky University (https://recreation.eku.edu/importance-parks-and-recreation)\n",
    "\n",
    "- 3) WEBEminence (https://webeminence.com/physical-location-proximiity-google-rankings/)"
   ]
  },
  {
   "cell_type": "markdown",
   "metadata": {},
   "source": [
    "# Hypothesis\n"
   ]
  },
  {
   "cell_type": "markdown",
   "metadata": {},
   "source": [
    "My hypothesis is that San Diego parks and their locations as represented by longitude and latitude values do not determine their Yelp ratings. I believe this hypothesis to be true, because a park holds value in the community it is in. If I wanted to go for a stroll or play basketball I would go to my local park not a park in a nice location."
   ]
  },
  {
   "cell_type": "markdown",
   "metadata": {},
   "source": [
    "# Dataset(s)"
   ]
  },
  {
   "cell_type": "markdown",
   "metadata": {},
   "source": [
    "- Dataset Name: San Diego Parks Yelp Data (yelp_SD_parks.csv)\n",
    "- Link to the dataset: https://www.yelp.com/\n",
    "- Number of observations: 833\n",
    "\n",
    "The first dataset I used was the San Diego parks yelp ratings data which contained information on the average rating for a park in San Diego. The dataset had 833 observations with 10 columns and contained information on what the park is called, where it is located, what the phone number is if the park has one, the url to the yelp page, the amount of reviews the park has, and what the average rating for the park is. For my analysis specifically I used the columns rating, longitude, and latitude.\n",
    "\n",
    "- Dataset Name: San Diego Parks Yelp Data (yelp_SD_reviews.csv)\n",
    "- Link to the dataset: https://www.yelp.com/\n",
    "- Number of observations: 2333\n",
    "\n",
    "The second dataset I used was the San Diego parks yelp reviews data which contained information on what review and rating was left for a park by a yelp user. The dataset had 2333 observations with 3 columns and contained information on what park is being reviewed, what rating a user gave that park, and what written review was left by the user. For my analysis specifically I used the columns rating and text.\n",
    "\n",
    "I am using two datasets, and since they are both from the same source I plan to merge them together. I will be merging the two yelp datasets together using an inner join. The key column for yelp_SD_parks.csv will be name and the key column for yelp_SD_reviews.csv will be id."
   ]
  },
  {
   "cell_type": "markdown",
   "metadata": {},
   "source": [
    "# Setup"
   ]
  },
  {
   "cell_type": "code",
   "execution_count": 2,
   "metadata": {},
   "outputs": [],
   "source": [
    "import numpy as np\n",
    "import pandas as pd\n",
    "\n",
    "# Import seaborn and apply its plotting styles\n",
    "import seaborn as sns\n",
    "sns.set(style=\"white\", font_scale=2)\n",
    "\n",
    "# import matplotlib\n",
    "import matplotlib as mpl\n",
    "import matplotlib.pyplot as plt\n",
    "# set plotting size parameter\n",
    "plt.rcParams['figure.figsize'] = (15, 5)\n",
    "\n",
    "from sklearn.model_selection import train_test_split\n",
    "from sklearn.linear_model import LogisticRegression\n",
    "\n",
    "#improve resolution\n",
    "#comment this line if erroring on your machine/screen\n",
    "%config InlineBackend.figure_format ='retina'"
   ]
  },
  {
   "cell_type": "markdown",
   "metadata": {},
   "source": [
    "# Data Cleaning"
   ]
  },
  {
   "cell_type": "markdown",
   "metadata": {},
   "source": [
    "I first started out my data cleaning by reading in the data of both datasets I am using. Both datasets were already in csv files so there was no issues with reading in the data using pandas read_csv method. After I read in the datasets I used the pandas head method to get oriented with what both datasets had to offer. Once I found the necessary columns I needed I dropped the rest to minimize the dataframe size. I then merged both datasets together on the name column found in yelp_SD_parks.csv and the id column found in yelp_SD_reviews.csv. Once I merged the datasets together I dropped the columns I used to merge the datasets as I would not need them for my research question. I also renamed rating_y to rating.\n",
    "\n",
    "Now that I had my merged dataset with only the features I wanted I decided to check for NaN values. I found that there was only one NaN value at row 679. I decided to drop this row as the NaN values appeared in both the longitude and latitude feature columns. Since my research question requires information from both those columns I had no use for a row where they were NaN. I also could not discover their values through other columns, and imputation would not work here either.\n",
    "\n",
    "After I removed the single row that contained NaN values I reset the index. I also created two new columns that I added to the dataframe. One column I named review_len and it stored the length of every review in terms of the amount of characters in the review string. Another column I named dog and it stored binary values 1 for if a review had the word dog in it, and 0 if the review did not have the word dog in it. I planned to use these two additional columns to see if rating might have a correlation with columns that are not related to location. After all these steps I determined the dataset to be clean and ready to go as there were no missing values, all columns stored the data type they should, and any unnecessary columns were removed."
   ]
  },
  {
   "cell_type": "code",
   "execution_count": 3,
   "metadata": {},
   "outputs": [],
   "source": [
    "yelp = pd.read_csv('../data/yelp_SD_parks.csv')\n",
    "reviews = pd.read_csv('../data/yelp_SD_reviews.csv')"
   ]
  },
  {
   "cell_type": "code",
   "execution_count": 4,
   "metadata": {},
   "outputs": [
    {
     "data": {
      "text/html": [
       "<div>\n",
       "<style scoped>\n",
       "    .dataframe tbody tr th:only-of-type {\n",
       "        vertical-align: middle;\n",
       "    }\n",
       "\n",
       "    .dataframe tbody tr th {\n",
       "        vertical-align: top;\n",
       "    }\n",
       "\n",
       "    .dataframe thead th {\n",
       "        text-align: right;\n",
       "    }\n",
       "</style>\n",
       "<table border=\"1\" class=\"dataframe\">\n",
       "  <thead>\n",
       "    <tr style=\"text-align: right;\">\n",
       "      <th></th>\n",
       "      <th>name</th>\n",
       "      <th>address</th>\n",
       "      <th>phone</th>\n",
       "      <th>id</th>\n",
       "      <th>url</th>\n",
       "      <th>rating</th>\n",
       "      <th>review_count</th>\n",
       "      <th>longitude</th>\n",
       "      <th>latitude</th>\n",
       "      <th>is_closed</th>\n",
       "    </tr>\n",
       "  </thead>\n",
       "  <tbody>\n",
       "    <tr>\n",
       "      <td>0</td>\n",
       "      <td>Balboa Park</td>\n",
       "      <td>1549 El Prado San Diego, CA 92101</td>\n",
       "      <td>1.619239e+10</td>\n",
       "      <td>9M_FW_-Ipx93I36w-_ykBg</td>\n",
       "      <td>https://www.yelp.com/biz/balboa-park-san-diego...</td>\n",
       "      <td>5.0</td>\n",
       "      <td>2105</td>\n",
       "      <td>-117.153150</td>\n",
       "      <td>32.734502</td>\n",
       "      <td>False</td>\n",
       "    </tr>\n",
       "    <tr>\n",
       "      <td>1</td>\n",
       "      <td>Civita Park</td>\n",
       "      <td>7960 Civita Blvd San Diego, CA 92108</td>\n",
       "      <td>NaN</td>\n",
       "      <td>3AEHjqNrTmggA6G9VdhQfg</td>\n",
       "      <td>https://www.yelp.com/biz/civita-park-san-diego...</td>\n",
       "      <td>4.5</td>\n",
       "      <td>46</td>\n",
       "      <td>-117.147278</td>\n",
       "      <td>32.778315</td>\n",
       "      <td>False</td>\n",
       "    </tr>\n",
       "    <tr>\n",
       "      <td>2</td>\n",
       "      <td>Waterfront Park</td>\n",
       "      <td>1600 Pacific Hwy San Diego, CA 92101</td>\n",
       "      <td>1.619233e+10</td>\n",
       "      <td>3unbJeYrn1RmInZGmjp80g</td>\n",
       "      <td>https://www.yelp.com/biz/waterfront-park-san-d...</td>\n",
       "      <td>4.5</td>\n",
       "      <td>242</td>\n",
       "      <td>-117.172479</td>\n",
       "      <td>32.721952</td>\n",
       "      <td>False</td>\n",
       "    </tr>\n",
       "    <tr>\n",
       "      <td>3</td>\n",
       "      <td>Trolley Barn Park</td>\n",
       "      <td>Adams Ave And Florida St San Diego, CA 92116</td>\n",
       "      <td>NaN</td>\n",
       "      <td>PvHxIYrmaiFKdWUDTMDzcg</td>\n",
       "      <td>https://www.yelp.com/biz/trolley-barn-park-san...</td>\n",
       "      <td>4.5</td>\n",
       "      <td>102</td>\n",
       "      <td>-117.143789</td>\n",
       "      <td>32.762463</td>\n",
       "      <td>False</td>\n",
       "    </tr>\n",
       "    <tr>\n",
       "      <td>4</td>\n",
       "      <td>Bay View Park</td>\n",
       "      <td>413 1st St Coronado, CA 92118</td>\n",
       "      <td>NaN</td>\n",
       "      <td>6IF4VB9-fkv_F-LBvG8ppQ</td>\n",
       "      <td>https://www.yelp.com/biz/bay-view-park-coronad...</td>\n",
       "      <td>5.0</td>\n",
       "      <td>42</td>\n",
       "      <td>-117.178967</td>\n",
       "      <td>32.701785</td>\n",
       "      <td>False</td>\n",
       "    </tr>\n",
       "  </tbody>\n",
       "</table>\n",
       "</div>"
      ],
      "text/plain": [
       "                name                                       address  \\\n",
       "0        Balboa Park             1549 El Prado San Diego, CA 92101   \n",
       "1        Civita Park          7960 Civita Blvd San Diego, CA 92108   \n",
       "2    Waterfront Park          1600 Pacific Hwy San Diego, CA 92101   \n",
       "3  Trolley Barn Park  Adams Ave And Florida St San Diego, CA 92116   \n",
       "4      Bay View Park                 413 1st St Coronado, CA 92118   \n",
       "\n",
       "          phone                      id  \\\n",
       "0  1.619239e+10  9M_FW_-Ipx93I36w-_ykBg   \n",
       "1           NaN  3AEHjqNrTmggA6G9VdhQfg   \n",
       "2  1.619233e+10  3unbJeYrn1RmInZGmjp80g   \n",
       "3           NaN  PvHxIYrmaiFKdWUDTMDzcg   \n",
       "4           NaN  6IF4VB9-fkv_F-LBvG8ppQ   \n",
       "\n",
       "                                                 url  rating  review_count  \\\n",
       "0  https://www.yelp.com/biz/balboa-park-san-diego...     5.0          2105   \n",
       "1  https://www.yelp.com/biz/civita-park-san-diego...     4.5            46   \n",
       "2  https://www.yelp.com/biz/waterfront-park-san-d...     4.5           242   \n",
       "3  https://www.yelp.com/biz/trolley-barn-park-san...     4.5           102   \n",
       "4  https://www.yelp.com/biz/bay-view-park-coronad...     5.0            42   \n",
       "\n",
       "    longitude   latitude  is_closed  \n",
       "0 -117.153150  32.734502      False  \n",
       "1 -117.147278  32.778315      False  \n",
       "2 -117.172479  32.721952      False  \n",
       "3 -117.143789  32.762463      False  \n",
       "4 -117.178967  32.701785      False  "
      ]
     },
     "execution_count": 4,
     "metadata": {},
     "output_type": "execute_result"
    }
   ],
   "source": [
    "yelp.head()"
   ]
  },
  {
   "cell_type": "code",
   "execution_count": 5,
   "metadata": {},
   "outputs": [
    {
     "data": {
      "text/html": [
       "<div>\n",
       "<style scoped>\n",
       "    .dataframe tbody tr th:only-of-type {\n",
       "        vertical-align: middle;\n",
       "    }\n",
       "\n",
       "    .dataframe tbody tr th {\n",
       "        vertical-align: top;\n",
       "    }\n",
       "\n",
       "    .dataframe thead th {\n",
       "        text-align: right;\n",
       "    }\n",
       "</style>\n",
       "<table border=\"1\" class=\"dataframe\">\n",
       "  <thead>\n",
       "    <tr style=\"text-align: right;\">\n",
       "      <th></th>\n",
       "      <th>id</th>\n",
       "      <th>rating</th>\n",
       "      <th>text</th>\n",
       "    </tr>\n",
       "  </thead>\n",
       "  <tbody>\n",
       "    <tr>\n",
       "      <td>0</td>\n",
       "      <td>Balboa Park</td>\n",
       "      <td>5</td>\n",
       "      <td>Balboa Park is a must see when coming to San D...</td>\n",
       "    </tr>\n",
       "    <tr>\n",
       "      <td>1</td>\n",
       "      <td>Balboa Park</td>\n",
       "      <td>5</td>\n",
       "      <td>Beautiful grounds even to take a stroll during...</td>\n",
       "    </tr>\n",
       "    <tr>\n",
       "      <td>2</td>\n",
       "      <td>Balboa Park</td>\n",
       "      <td>5</td>\n",
       "      <td>Beautiful sightseeing in San Diego. Lots of wa...</td>\n",
       "    </tr>\n",
       "    <tr>\n",
       "      <td>3</td>\n",
       "      <td>Civita Park</td>\n",
       "      <td>5</td>\n",
       "      <td>Was invited to child's B-Day party pre Covid-1...</td>\n",
       "    </tr>\n",
       "    <tr>\n",
       "      <td>4</td>\n",
       "      <td>Civita Park</td>\n",
       "      <td>5</td>\n",
       "      <td>Pretty nice park, beautiful design.  Anyone is...</td>\n",
       "    </tr>\n",
       "  </tbody>\n",
       "</table>\n",
       "</div>"
      ],
      "text/plain": [
       "            id  rating                                               text\n",
       "0  Balboa Park       5  Balboa Park is a must see when coming to San D...\n",
       "1  Balboa Park       5  Beautiful grounds even to take a stroll during...\n",
       "2  Balboa Park       5  Beautiful sightseeing in San Diego. Lots of wa...\n",
       "3  Civita Park       5  Was invited to child's B-Day party pre Covid-1...\n",
       "4  Civita Park       5  Pretty nice park, beautiful design.  Anyone is..."
      ]
     },
     "execution_count": 5,
     "metadata": {},
     "output_type": "execute_result"
    }
   ],
   "source": [
    "reviews.head()"
   ]
  },
  {
   "cell_type": "code",
   "execution_count": 6,
   "metadata": {},
   "outputs": [],
   "source": [
    "yelp = yelp.drop(columns=['phone','id','url','is_closed'])\n",
    "combined = yelp.merge(reviews,left_on='name',right_on='id')"
   ]
  },
  {
   "cell_type": "code",
   "execution_count": 7,
   "metadata": {},
   "outputs": [
    {
     "data": {
      "text/html": [
       "<div>\n",
       "<style scoped>\n",
       "    .dataframe tbody tr th:only-of-type {\n",
       "        vertical-align: middle;\n",
       "    }\n",
       "\n",
       "    .dataframe tbody tr th {\n",
       "        vertical-align: top;\n",
       "    }\n",
       "\n",
       "    .dataframe thead th {\n",
       "        text-align: right;\n",
       "    }\n",
       "</style>\n",
       "<table border=\"1\" class=\"dataframe\">\n",
       "  <thead>\n",
       "    <tr style=\"text-align: right;\">\n",
       "      <th></th>\n",
       "      <th>name</th>\n",
       "      <th>address</th>\n",
       "      <th>rating_x</th>\n",
       "      <th>review_count</th>\n",
       "      <th>longitude</th>\n",
       "      <th>latitude</th>\n",
       "      <th>id</th>\n",
       "      <th>rating_y</th>\n",
       "      <th>text</th>\n",
       "    </tr>\n",
       "  </thead>\n",
       "  <tbody>\n",
       "    <tr>\n",
       "      <td>0</td>\n",
       "      <td>Balboa Park</td>\n",
       "      <td>1549 El Prado San Diego, CA 92101</td>\n",
       "      <td>5.0</td>\n",
       "      <td>2105</td>\n",
       "      <td>-117.153150</td>\n",
       "      <td>32.734502</td>\n",
       "      <td>Balboa Park</td>\n",
       "      <td>5</td>\n",
       "      <td>Balboa Park is a must see when coming to San D...</td>\n",
       "    </tr>\n",
       "    <tr>\n",
       "      <td>1</td>\n",
       "      <td>Balboa Park</td>\n",
       "      <td>1549 El Prado San Diego, CA 92101</td>\n",
       "      <td>5.0</td>\n",
       "      <td>2105</td>\n",
       "      <td>-117.153150</td>\n",
       "      <td>32.734502</td>\n",
       "      <td>Balboa Park</td>\n",
       "      <td>5</td>\n",
       "      <td>Beautiful grounds even to take a stroll during...</td>\n",
       "    </tr>\n",
       "    <tr>\n",
       "      <td>2</td>\n",
       "      <td>Balboa Park</td>\n",
       "      <td>1549 El Prado San Diego, CA 92101</td>\n",
       "      <td>5.0</td>\n",
       "      <td>2105</td>\n",
       "      <td>-117.153150</td>\n",
       "      <td>32.734502</td>\n",
       "      <td>Balboa Park</td>\n",
       "      <td>5</td>\n",
       "      <td>Beautiful sightseeing in San Diego. Lots of wa...</td>\n",
       "    </tr>\n",
       "    <tr>\n",
       "      <td>3</td>\n",
       "      <td>Civita Park</td>\n",
       "      <td>7960 Civita Blvd San Diego, CA 92108</td>\n",
       "      <td>4.5</td>\n",
       "      <td>46</td>\n",
       "      <td>-117.147278</td>\n",
       "      <td>32.778315</td>\n",
       "      <td>Civita Park</td>\n",
       "      <td>5</td>\n",
       "      <td>Was invited to child's B-Day party pre Covid-1...</td>\n",
       "    </tr>\n",
       "    <tr>\n",
       "      <td>4</td>\n",
       "      <td>Civita Park</td>\n",
       "      <td>7960 Civita Blvd San Diego, CA 92108</td>\n",
       "      <td>4.5</td>\n",
       "      <td>46</td>\n",
       "      <td>-117.147278</td>\n",
       "      <td>32.778315</td>\n",
       "      <td>Civita Park</td>\n",
       "      <td>5</td>\n",
       "      <td>Pretty nice park, beautiful design.  Anyone is...</td>\n",
       "    </tr>\n",
       "    <tr>\n",
       "      <td>...</td>\n",
       "      <td>...</td>\n",
       "      <td>...</td>\n",
       "      <td>...</td>\n",
       "      <td>...</td>\n",
       "      <td>...</td>\n",
       "      <td>...</td>\n",
       "      <td>...</td>\n",
       "      <td>...</td>\n",
       "      <td>...</td>\n",
       "    </tr>\n",
       "    <tr>\n",
       "      <td>2414</td>\n",
       "      <td>Petco Park</td>\n",
       "      <td>100 Park Blvd San Diego, CA 92101</td>\n",
       "      <td>4.0</td>\n",
       "      <td>1667</td>\n",
       "      <td>-117.157054</td>\n",
       "      <td>32.707246</td>\n",
       "      <td>Petco Park</td>\n",
       "      <td>5</td>\n",
       "      <td>I have visited over 27 MLB Ballparks including...</td>\n",
       "    </tr>\n",
       "    <tr>\n",
       "      <td>2415</td>\n",
       "      <td>Ann D. L'Heureux Memorial Dog Park</td>\n",
       "      <td>2700 Carlsbad Village Dr Carlsbad, CA 92008</td>\n",
       "      <td>3.0</td>\n",
       "      <td>50</td>\n",
       "      <td>-117.316419</td>\n",
       "      <td>33.171137</td>\n",
       "      <td>Ann D. L'Heureux Memorial Dog Park</td>\n",
       "      <td>4</td>\n",
       "      <td>No grass here but it's a great dog park. if yo...</td>\n",
       "    </tr>\n",
       "    <tr>\n",
       "      <td>2416</td>\n",
       "      <td>Ann D. L'Heureux Memorial Dog Park</td>\n",
       "      <td>2700 Carlsbad Village Dr Carlsbad, CA 92008</td>\n",
       "      <td>3.0</td>\n",
       "      <td>50</td>\n",
       "      <td>-117.316419</td>\n",
       "      <td>33.171137</td>\n",
       "      <td>Ann D. L'Heureux Memorial Dog Park</td>\n",
       "      <td>3</td>\n",
       "      <td>I love taking our cholate lab here, however, t...</td>\n",
       "    </tr>\n",
       "    <tr>\n",
       "      <td>2417</td>\n",
       "      <td>Ann D. L'Heureux Memorial Dog Park</td>\n",
       "      <td>2700 Carlsbad Village Dr Carlsbad, CA 92008</td>\n",
       "      <td>3.0</td>\n",
       "      <td>50</td>\n",
       "      <td>-117.316419</td>\n",
       "      <td>33.171137</td>\n",
       "      <td>Ann D. L'Heureux Memorial Dog Park</td>\n",
       "      <td>3</td>\n",
       "      <td>Pretty small dog park overall. The center of t...</td>\n",
       "    </tr>\n",
       "    <tr>\n",
       "      <td>2418</td>\n",
       "      <td>Fairbrook Farm</td>\n",
       "      <td>4949 S Mission Rd Fallbrook, CA 92028</td>\n",
       "      <td>5.0</td>\n",
       "      <td>1</td>\n",
       "      <td>-117.227747</td>\n",
       "      <td>33.302164</td>\n",
       "      <td>Fairbrook Farm</td>\n",
       "      <td>5</td>\n",
       "      <td>Super friendly staff! I always feel welcome an...</td>\n",
       "    </tr>\n",
       "  </tbody>\n",
       "</table>\n",
       "<p>2419 rows × 9 columns</p>\n",
       "</div>"
      ],
      "text/plain": [
       "                                    name  \\\n",
       "0                            Balboa Park   \n",
       "1                            Balboa Park   \n",
       "2                            Balboa Park   \n",
       "3                            Civita Park   \n",
       "4                            Civita Park   \n",
       "...                                  ...   \n",
       "2414                          Petco Park   \n",
       "2415  Ann D. L'Heureux Memorial Dog Park   \n",
       "2416  Ann D. L'Heureux Memorial Dog Park   \n",
       "2417  Ann D. L'Heureux Memorial Dog Park   \n",
       "2418                      Fairbrook Farm   \n",
       "\n",
       "                                          address  rating_x  review_count  \\\n",
       "0               1549 El Prado San Diego, CA 92101       5.0          2105   \n",
       "1               1549 El Prado San Diego, CA 92101       5.0          2105   \n",
       "2               1549 El Prado San Diego, CA 92101       5.0          2105   \n",
       "3            7960 Civita Blvd San Diego, CA 92108       4.5            46   \n",
       "4            7960 Civita Blvd San Diego, CA 92108       4.5            46   \n",
       "...                                           ...       ...           ...   \n",
       "2414            100 Park Blvd San Diego, CA 92101       4.0          1667   \n",
       "2415  2700 Carlsbad Village Dr Carlsbad, CA 92008       3.0            50   \n",
       "2416  2700 Carlsbad Village Dr Carlsbad, CA 92008       3.0            50   \n",
       "2417  2700 Carlsbad Village Dr Carlsbad, CA 92008       3.0            50   \n",
       "2418        4949 S Mission Rd Fallbrook, CA 92028       5.0             1   \n",
       "\n",
       "       longitude   latitude                                  id  rating_y  \\\n",
       "0    -117.153150  32.734502                         Balboa Park         5   \n",
       "1    -117.153150  32.734502                         Balboa Park         5   \n",
       "2    -117.153150  32.734502                         Balboa Park         5   \n",
       "3    -117.147278  32.778315                         Civita Park         5   \n",
       "4    -117.147278  32.778315                         Civita Park         5   \n",
       "...          ...        ...                                 ...       ...   \n",
       "2414 -117.157054  32.707246                          Petco Park         5   \n",
       "2415 -117.316419  33.171137  Ann D. L'Heureux Memorial Dog Park         4   \n",
       "2416 -117.316419  33.171137  Ann D. L'Heureux Memorial Dog Park         3   \n",
       "2417 -117.316419  33.171137  Ann D. L'Heureux Memorial Dog Park         3   \n",
       "2418 -117.227747  33.302164                      Fairbrook Farm         5   \n",
       "\n",
       "                                                   text  \n",
       "0     Balboa Park is a must see when coming to San D...  \n",
       "1     Beautiful grounds even to take a stroll during...  \n",
       "2     Beautiful sightseeing in San Diego. Lots of wa...  \n",
       "3     Was invited to child's B-Day party pre Covid-1...  \n",
       "4     Pretty nice park, beautiful design.  Anyone is...  \n",
       "...                                                 ...  \n",
       "2414  I have visited over 27 MLB Ballparks including...  \n",
       "2415  No grass here but it's a great dog park. if yo...  \n",
       "2416  I love taking our cholate lab here, however, t...  \n",
       "2417  Pretty small dog park overall. The center of t...  \n",
       "2418  Super friendly staff! I always feel welcome an...  \n",
       "\n",
       "[2419 rows x 9 columns]"
      ]
     },
     "execution_count": 7,
     "metadata": {},
     "output_type": "execute_result"
    }
   ],
   "source": [
    "combined"
   ]
  },
  {
   "cell_type": "code",
   "execution_count": 8,
   "metadata": {},
   "outputs": [],
   "source": [
    "combined = combined.drop(columns=['name','address','rating_x','id'])\n",
    "combined = combined.rename(columns={'rating_y': 'rating'})"
   ]
  },
  {
   "cell_type": "code",
   "execution_count": 9,
   "metadata": {},
   "outputs": [
    {
     "data": {
      "text/html": [
       "<div>\n",
       "<style scoped>\n",
       "    .dataframe tbody tr th:only-of-type {\n",
       "        vertical-align: middle;\n",
       "    }\n",
       "\n",
       "    .dataframe tbody tr th {\n",
       "        vertical-align: top;\n",
       "    }\n",
       "\n",
       "    .dataframe thead th {\n",
       "        text-align: right;\n",
       "    }\n",
       "</style>\n",
       "<table border=\"1\" class=\"dataframe\">\n",
       "  <thead>\n",
       "    <tr style=\"text-align: right;\">\n",
       "      <th></th>\n",
       "      <th>review_count</th>\n",
       "      <th>longitude</th>\n",
       "      <th>latitude</th>\n",
       "      <th>rating</th>\n",
       "      <th>text</th>\n",
       "    </tr>\n",
       "  </thead>\n",
       "  <tbody>\n",
       "    <tr>\n",
       "      <td>679</td>\n",
       "      <td>1</td>\n",
       "      <td>NaN</td>\n",
       "      <td>NaN</td>\n",
       "      <td>4</td>\n",
       "      <td>A nice neighborhood park a couple blocks from ...</td>\n",
       "    </tr>\n",
       "  </tbody>\n",
       "</table>\n",
       "</div>"
      ],
      "text/plain": [
       "     review_count  longitude  latitude  rating  \\\n",
       "679             1        NaN       NaN       4   \n",
       "\n",
       "                                                  text  \n",
       "679  A nice neighborhood park a couple blocks from ...  "
      ]
     },
     "execution_count": 9,
     "metadata": {},
     "output_type": "execute_result"
    }
   ],
   "source": [
    "combined[combined.isna().any(axis=1)]"
   ]
  },
  {
   "cell_type": "code",
   "execution_count": 10,
   "metadata": {},
   "outputs": [],
   "source": [
    "combined = combined.drop(679).reset_index(drop=True)"
   ]
  },
  {
   "cell_type": "code",
   "execution_count": 11,
   "metadata": {},
   "outputs": [],
   "source": [
    "review_len = [len(x) for x in combined['text']]\n",
    "combined['review_len'] = review_len\n",
    "dog = [1 if 'dog' in x.lower() else 0 for x in combined['text']]\n",
    "combined['dog'] = dog"
   ]
  },
  {
   "cell_type": "code",
   "execution_count": 12,
   "metadata": {},
   "outputs": [
    {
     "data": {
      "text/html": [
       "<div>\n",
       "<style scoped>\n",
       "    .dataframe tbody tr th:only-of-type {\n",
       "        vertical-align: middle;\n",
       "    }\n",
       "\n",
       "    .dataframe tbody tr th {\n",
       "        vertical-align: top;\n",
       "    }\n",
       "\n",
       "    .dataframe thead th {\n",
       "        text-align: right;\n",
       "    }\n",
       "</style>\n",
       "<table border=\"1\" class=\"dataframe\">\n",
       "  <thead>\n",
       "    <tr style=\"text-align: right;\">\n",
       "      <th></th>\n",
       "      <th>review_count</th>\n",
       "      <th>longitude</th>\n",
       "      <th>latitude</th>\n",
       "      <th>rating</th>\n",
       "      <th>text</th>\n",
       "      <th>review_len</th>\n",
       "      <th>dog</th>\n",
       "    </tr>\n",
       "  </thead>\n",
       "  <tbody>\n",
       "    <tr>\n",
       "      <td>0</td>\n",
       "      <td>2105</td>\n",
       "      <td>-117.153150</td>\n",
       "      <td>32.734502</td>\n",
       "      <td>5</td>\n",
       "      <td>Balboa Park is a must see when coming to San D...</td>\n",
       "      <td>159</td>\n",
       "      <td>0</td>\n",
       "    </tr>\n",
       "    <tr>\n",
       "      <td>1</td>\n",
       "      <td>2105</td>\n",
       "      <td>-117.153150</td>\n",
       "      <td>32.734502</td>\n",
       "      <td>5</td>\n",
       "      <td>Beautiful grounds even to take a stroll during...</td>\n",
       "      <td>124</td>\n",
       "      <td>1</td>\n",
       "    </tr>\n",
       "    <tr>\n",
       "      <td>2</td>\n",
       "      <td>2105</td>\n",
       "      <td>-117.153150</td>\n",
       "      <td>32.734502</td>\n",
       "      <td>5</td>\n",
       "      <td>Beautiful sightseeing in San Diego. Lots of wa...</td>\n",
       "      <td>159</td>\n",
       "      <td>0</td>\n",
       "    </tr>\n",
       "    <tr>\n",
       "      <td>3</td>\n",
       "      <td>46</td>\n",
       "      <td>-117.147278</td>\n",
       "      <td>32.778315</td>\n",
       "      <td>5</td>\n",
       "      <td>Was invited to child's B-Day party pre Covid-1...</td>\n",
       "      <td>151</td>\n",
       "      <td>0</td>\n",
       "    </tr>\n",
       "    <tr>\n",
       "      <td>4</td>\n",
       "      <td>46</td>\n",
       "      <td>-117.147278</td>\n",
       "      <td>32.778315</td>\n",
       "      <td>5</td>\n",
       "      <td>Pretty nice park, beautiful design.  Anyone is...</td>\n",
       "      <td>155</td>\n",
       "      <td>0</td>\n",
       "    </tr>\n",
       "    <tr>\n",
       "      <td>...</td>\n",
       "      <td>...</td>\n",
       "      <td>...</td>\n",
       "      <td>...</td>\n",
       "      <td>...</td>\n",
       "      <td>...</td>\n",
       "      <td>...</td>\n",
       "      <td>...</td>\n",
       "    </tr>\n",
       "    <tr>\n",
       "      <td>2413</td>\n",
       "      <td>1667</td>\n",
       "      <td>-117.157054</td>\n",
       "      <td>32.707246</td>\n",
       "      <td>5</td>\n",
       "      <td>I have visited over 27 MLB Ballparks including...</td>\n",
       "      <td>154</td>\n",
       "      <td>0</td>\n",
       "    </tr>\n",
       "    <tr>\n",
       "      <td>2414</td>\n",
       "      <td>50</td>\n",
       "      <td>-117.316419</td>\n",
       "      <td>33.171137</td>\n",
       "      <td>4</td>\n",
       "      <td>No grass here but it's a great dog park. if yo...</td>\n",
       "      <td>154</td>\n",
       "      <td>1</td>\n",
       "    </tr>\n",
       "    <tr>\n",
       "      <td>2415</td>\n",
       "      <td>50</td>\n",
       "      <td>-117.316419</td>\n",
       "      <td>33.171137</td>\n",
       "      <td>3</td>\n",
       "      <td>I love taking our cholate lab here, however, t...</td>\n",
       "      <td>82</td>\n",
       "      <td>0</td>\n",
       "    </tr>\n",
       "    <tr>\n",
       "      <td>2416</td>\n",
       "      <td>50</td>\n",
       "      <td>-117.316419</td>\n",
       "      <td>33.171137</td>\n",
       "      <td>3</td>\n",
       "      <td>Pretty small dog park overall. The center of t...</td>\n",
       "      <td>155</td>\n",
       "      <td>1</td>\n",
       "    </tr>\n",
       "    <tr>\n",
       "      <td>2417</td>\n",
       "      <td>1</td>\n",
       "      <td>-117.227747</td>\n",
       "      <td>33.302164</td>\n",
       "      <td>5</td>\n",
       "      <td>Super friendly staff! I always feel welcome an...</td>\n",
       "      <td>117</td>\n",
       "      <td>0</td>\n",
       "    </tr>\n",
       "  </tbody>\n",
       "</table>\n",
       "<p>2418 rows × 7 columns</p>\n",
       "</div>"
      ],
      "text/plain": [
       "      review_count   longitude   latitude  rating  \\\n",
       "0             2105 -117.153150  32.734502       5   \n",
       "1             2105 -117.153150  32.734502       5   \n",
       "2             2105 -117.153150  32.734502       5   \n",
       "3               46 -117.147278  32.778315       5   \n",
       "4               46 -117.147278  32.778315       5   \n",
       "...            ...         ...        ...     ...   \n",
       "2413          1667 -117.157054  32.707246       5   \n",
       "2414            50 -117.316419  33.171137       4   \n",
       "2415            50 -117.316419  33.171137       3   \n",
       "2416            50 -117.316419  33.171137       3   \n",
       "2417             1 -117.227747  33.302164       5   \n",
       "\n",
       "                                                   text  review_len  dog  \n",
       "0     Balboa Park is a must see when coming to San D...         159    0  \n",
       "1     Beautiful grounds even to take a stroll during...         124    1  \n",
       "2     Beautiful sightseeing in San Diego. Lots of wa...         159    0  \n",
       "3     Was invited to child's B-Day party pre Covid-1...         151    0  \n",
       "4     Pretty nice park, beautiful design.  Anyone is...         155    0  \n",
       "...                                                 ...         ...  ...  \n",
       "2413  I have visited over 27 MLB Ballparks including...         154    0  \n",
       "2414  No grass here but it's a great dog park. if yo...         154    1  \n",
       "2415  I love taking our cholate lab here, however, t...          82    0  \n",
       "2416  Pretty small dog park overall. The center of t...         155    1  \n",
       "2417  Super friendly staff! I always feel welcome an...         117    0  \n",
       "\n",
       "[2418 rows x 7 columns]"
      ]
     },
     "execution_count": 12,
     "metadata": {},
     "output_type": "execute_result"
    }
   ],
   "source": [
    "combined"
   ]
  },
  {
   "cell_type": "markdown",
   "metadata": {},
   "source": [
    "# Data Analysis & Results"
   ]
  },
  {
   "cell_type": "markdown",
   "metadata": {},
   "source": [
    "## EDA"
   ]
  },
  {
   "cell_type": "markdown",
   "metadata": {},
   "source": [
    "Utilized the pandas corr and describe function to gain insight on variable correlations and descriptive statistics for each column"
   ]
  },
  {
   "cell_type": "code",
   "execution_count": 13,
   "metadata": {},
   "outputs": [
    {
     "data": {
      "text/html": [
       "<div>\n",
       "<style scoped>\n",
       "    .dataframe tbody tr th:only-of-type {\n",
       "        vertical-align: middle;\n",
       "    }\n",
       "\n",
       "    .dataframe tbody tr th {\n",
       "        vertical-align: top;\n",
       "    }\n",
       "\n",
       "    .dataframe thead th {\n",
       "        text-align: right;\n",
       "    }\n",
       "</style>\n",
       "<table border=\"1\" class=\"dataframe\">\n",
       "  <thead>\n",
       "    <tr style=\"text-align: right;\">\n",
       "      <th></th>\n",
       "      <th>review_count</th>\n",
       "      <th>longitude</th>\n",
       "      <th>latitude</th>\n",
       "      <th>rating</th>\n",
       "      <th>review_len</th>\n",
       "      <th>dog</th>\n",
       "    </tr>\n",
       "  </thead>\n",
       "  <tbody>\n",
       "    <tr>\n",
       "      <td>review_count</td>\n",
       "      <td>1.000000</td>\n",
       "      <td>-0.008849</td>\n",
       "      <td>-0.068894</td>\n",
       "      <td>0.106820</td>\n",
       "      <td>0.015161</td>\n",
       "      <td>-0.036206</td>\n",
       "    </tr>\n",
       "    <tr>\n",
       "      <td>longitude</td>\n",
       "      <td>-0.008849</td>\n",
       "      <td>1.000000</td>\n",
       "      <td>-0.674873</td>\n",
       "      <td>0.012861</td>\n",
       "      <td>0.000422</td>\n",
       "      <td>-0.010826</td>\n",
       "    </tr>\n",
       "    <tr>\n",
       "      <td>latitude</td>\n",
       "      <td>-0.068894</td>\n",
       "      <td>-0.674873</td>\n",
       "      <td>1.000000</td>\n",
       "      <td>-0.001798</td>\n",
       "      <td>-0.007253</td>\n",
       "      <td>0.042162</td>\n",
       "    </tr>\n",
       "    <tr>\n",
       "      <td>rating</td>\n",
       "      <td>0.106820</td>\n",
       "      <td>0.012861</td>\n",
       "      <td>-0.001798</td>\n",
       "      <td>1.000000</td>\n",
       "      <td>-0.011674</td>\n",
       "      <td>-0.051147</td>\n",
       "    </tr>\n",
       "    <tr>\n",
       "      <td>review_len</td>\n",
       "      <td>0.015161</td>\n",
       "      <td>0.000422</td>\n",
       "      <td>-0.007253</td>\n",
       "      <td>-0.011674</td>\n",
       "      <td>1.000000</td>\n",
       "      <td>-0.006814</td>\n",
       "    </tr>\n",
       "    <tr>\n",
       "      <td>dog</td>\n",
       "      <td>-0.036206</td>\n",
       "      <td>-0.010826</td>\n",
       "      <td>0.042162</td>\n",
       "      <td>-0.051147</td>\n",
       "      <td>-0.006814</td>\n",
       "      <td>1.000000</td>\n",
       "    </tr>\n",
       "  </tbody>\n",
       "</table>\n",
       "</div>"
      ],
      "text/plain": [
       "              review_count  longitude  latitude    rating  review_len  \\\n",
       "review_count      1.000000  -0.008849 -0.068894  0.106820    0.015161   \n",
       "longitude        -0.008849   1.000000 -0.674873  0.012861    0.000422   \n",
       "latitude         -0.068894  -0.674873  1.000000 -0.001798   -0.007253   \n",
       "rating            0.106820   0.012861 -0.001798  1.000000   -0.011674   \n",
       "review_len        0.015161   0.000422 -0.007253 -0.011674    1.000000   \n",
       "dog              -0.036206  -0.010826  0.042162 -0.051147   -0.006814   \n",
       "\n",
       "                   dog  \n",
       "review_count -0.036206  \n",
       "longitude    -0.010826  \n",
       "latitude      0.042162  \n",
       "rating       -0.051147  \n",
       "review_len   -0.006814  \n",
       "dog           1.000000  "
      ]
     },
     "execution_count": 13,
     "metadata": {},
     "output_type": "execute_result"
    }
   ],
   "source": [
    "combined.corr()"
   ]
  },
  {
   "cell_type": "code",
   "execution_count": 14,
   "metadata": {},
   "outputs": [
    {
     "data": {
      "text/html": [
       "<div>\n",
       "<style scoped>\n",
       "    .dataframe tbody tr th:only-of-type {\n",
       "        vertical-align: middle;\n",
       "    }\n",
       "\n",
       "    .dataframe tbody tr th {\n",
       "        vertical-align: top;\n",
       "    }\n",
       "\n",
       "    .dataframe thead th {\n",
       "        text-align: right;\n",
       "    }\n",
       "</style>\n",
       "<table border=\"1\" class=\"dataframe\">\n",
       "  <thead>\n",
       "    <tr style=\"text-align: right;\">\n",
       "      <th></th>\n",
       "      <th>review_count</th>\n",
       "      <th>longitude</th>\n",
       "      <th>latitude</th>\n",
       "      <th>rating</th>\n",
       "      <th>review_len</th>\n",
       "      <th>dog</th>\n",
       "    </tr>\n",
       "  </thead>\n",
       "  <tbody>\n",
       "    <tr>\n",
       "      <td>count</td>\n",
       "      <td>2418.000000</td>\n",
       "      <td>2418.000000</td>\n",
       "      <td>2418.000000</td>\n",
       "      <td>2418.000000</td>\n",
       "      <td>2418.000000</td>\n",
       "      <td>2418.000000</td>\n",
       "    </tr>\n",
       "    <tr>\n",
       "      <td>mean</td>\n",
       "      <td>209.132341</td>\n",
       "      <td>-117.174287</td>\n",
       "      <td>32.847480</td>\n",
       "      <td>4.178246</td>\n",
       "      <td>153.842018</td>\n",
       "      <td>0.063689</td>\n",
       "    </tr>\n",
       "    <tr>\n",
       "      <td>std</td>\n",
       "      <td>755.751799</td>\n",
       "      <td>0.172263</td>\n",
       "      <td>0.228117</td>\n",
       "      <td>1.240300</td>\n",
       "      <td>10.855687</td>\n",
       "      <td>0.244249</td>\n",
       "    </tr>\n",
       "    <tr>\n",
       "      <td>min</td>\n",
       "      <td>1.000000</td>\n",
       "      <td>-118.641880</td>\n",
       "      <td>32.532675</td>\n",
       "      <td>1.000000</td>\n",
       "      <td>34.000000</td>\n",
       "      <td>0.000000</td>\n",
       "    </tr>\n",
       "    <tr>\n",
       "      <td>25%</td>\n",
       "      <td>7.000000</td>\n",
       "      <td>-117.219174</td>\n",
       "      <td>32.731552</td>\n",
       "      <td>4.000000</td>\n",
       "      <td>154.000000</td>\n",
       "      <td>0.000000</td>\n",
       "    </tr>\n",
       "    <tr>\n",
       "      <td>50%</td>\n",
       "      <td>25.000000</td>\n",
       "      <td>-117.158731</td>\n",
       "      <td>32.780510</td>\n",
       "      <td>5.000000</td>\n",
       "      <td>156.000000</td>\n",
       "      <td>0.000000</td>\n",
       "    </tr>\n",
       "    <tr>\n",
       "      <td>75%</td>\n",
       "      <td>122.750000</td>\n",
       "      <td>-117.110592</td>\n",
       "      <td>32.906693</td>\n",
       "      <td>5.000000</td>\n",
       "      <td>158.000000</td>\n",
       "      <td>0.000000</td>\n",
       "    </tr>\n",
       "    <tr>\n",
       "      <td>max</td>\n",
       "      <td>14195.000000</td>\n",
       "      <td>-116.377618</td>\n",
       "      <td>34.297157</td>\n",
       "      <td>5.000000</td>\n",
       "      <td>160.000000</td>\n",
       "      <td>1.000000</td>\n",
       "    </tr>\n",
       "  </tbody>\n",
       "</table>\n",
       "</div>"
      ],
      "text/plain": [
       "       review_count    longitude     latitude       rating   review_len  \\\n",
       "count   2418.000000  2418.000000  2418.000000  2418.000000  2418.000000   \n",
       "mean     209.132341  -117.174287    32.847480     4.178246   153.842018   \n",
       "std      755.751799     0.172263     0.228117     1.240300    10.855687   \n",
       "min        1.000000  -118.641880    32.532675     1.000000    34.000000   \n",
       "25%        7.000000  -117.219174    32.731552     4.000000   154.000000   \n",
       "50%       25.000000  -117.158731    32.780510     5.000000   156.000000   \n",
       "75%      122.750000  -117.110592    32.906693     5.000000   158.000000   \n",
       "max    14195.000000  -116.377618    34.297157     5.000000   160.000000   \n",
       "\n",
       "               dog  \n",
       "count  2418.000000  \n",
       "mean      0.063689  \n",
       "std       0.244249  \n",
       "min       0.000000  \n",
       "25%       0.000000  \n",
       "50%       0.000000  \n",
       "75%       0.000000  \n",
       "max       1.000000  "
      ]
     },
     "execution_count": 14,
     "metadata": {},
     "output_type": "execute_result"
    }
   ],
   "source": [
    "combined.describe()"
   ]
  },
  {
   "cell_type": "markdown",
   "metadata": {},
   "source": [
    "Checked the distribution of ratings using the value_counts method and got the average review length per star rating"
   ]
  },
  {
   "cell_type": "code",
   "execution_count": 15,
   "metadata": {},
   "outputs": [
    {
     "data": {
      "text/plain": [
       "5    1406\n",
       "4     533\n",
       "1     211\n",
       "3     194\n",
       "2      74\n",
       "Name: rating, dtype: int64"
      ]
     },
     "execution_count": 15,
     "metadata": {},
     "output_type": "execute_result"
    }
   ],
   "source": [
    "combined['rating'].value_counts()"
   ]
  },
  {
   "cell_type": "code",
   "execution_count": 16,
   "metadata": {},
   "outputs": [
    {
     "data": {
      "text/html": [
       "<div>\n",
       "<style scoped>\n",
       "    .dataframe tbody tr th:only-of-type {\n",
       "        vertical-align: middle;\n",
       "    }\n",
       "\n",
       "    .dataframe tbody tr th {\n",
       "        vertical-align: top;\n",
       "    }\n",
       "\n",
       "    .dataframe thead th {\n",
       "        text-align: right;\n",
       "    }\n",
       "</style>\n",
       "<table border=\"1\" class=\"dataframe\">\n",
       "  <thead>\n",
       "    <tr style=\"text-align: right;\">\n",
       "      <th></th>\n",
       "      <th>review_count</th>\n",
       "      <th>longitude</th>\n",
       "      <th>latitude</th>\n",
       "      <th>review_len</th>\n",
       "      <th>dog</th>\n",
       "    </tr>\n",
       "    <tr>\n",
       "      <th>rating</th>\n",
       "      <th></th>\n",
       "      <th></th>\n",
       "      <th></th>\n",
       "      <th></th>\n",
       "      <th></th>\n",
       "    </tr>\n",
       "  </thead>\n",
       "  <tbody>\n",
       "    <tr>\n",
       "      <td>1</td>\n",
       "      <td>72.672986</td>\n",
       "      <td>-117.184536</td>\n",
       "      <td>32.855290</td>\n",
       "      <td>154.189573</td>\n",
       "      <td>0.061611</td>\n",
       "    </tr>\n",
       "    <tr>\n",
       "      <td>2</td>\n",
       "      <td>61.324324</td>\n",
       "      <td>-117.188772</td>\n",
       "      <td>32.835251</td>\n",
       "      <td>154.783784</td>\n",
       "      <td>0.094595</td>\n",
       "    </tr>\n",
       "    <tr>\n",
       "      <td>3</td>\n",
       "      <td>78.809278</td>\n",
       "      <td>-117.169272</td>\n",
       "      <td>32.842845</td>\n",
       "      <td>153.036082</td>\n",
       "      <td>0.103093</td>\n",
       "    </tr>\n",
       "    <tr>\n",
       "      <td>4</td>\n",
       "      <td>127.594747</td>\n",
       "      <td>-117.168136</td>\n",
       "      <td>32.845885</td>\n",
       "      <td>154.198874</td>\n",
       "      <td>0.095685</td>\n",
       "    </tr>\n",
       "    <tr>\n",
       "      <td>5</td>\n",
       "      <td>286.282361</td>\n",
       "      <td>-117.175011</td>\n",
       "      <td>32.848195</td>\n",
       "      <td>153.716216</td>\n",
       "      <td>0.044808</td>\n",
       "    </tr>\n",
       "  </tbody>\n",
       "</table>\n",
       "</div>"
      ],
      "text/plain": [
       "        review_count   longitude   latitude  review_len       dog\n",
       "rating                                                           \n",
       "1          72.672986 -117.184536  32.855290  154.189573  0.061611\n",
       "2          61.324324 -117.188772  32.835251  154.783784  0.094595\n",
       "3          78.809278 -117.169272  32.842845  153.036082  0.103093\n",
       "4         127.594747 -117.168136  32.845885  154.198874  0.095685\n",
       "5         286.282361 -117.175011  32.848195  153.716216  0.044808"
      ]
     },
     "execution_count": 16,
     "metadata": {},
     "output_type": "execute_result"
    }
   ],
   "source": [
    "combined.groupby('rating').mean()"
   ]
  },
  {
   "cell_type": "markdown",
   "metadata": {},
   "source": [
    "#### Visualizations"
   ]
  },
  {
   "cell_type": "markdown",
   "metadata": {},
   "source": [
    "Created a scatterplot to check the relationship between the length of a review in characters and the rating given. It seems that for the most part there is no real correlation. There are 5 star ratings for reviews with as little as 80 characters and as much as 160 characters. There are a few outliers that have 5 star reviews with only 60 characters."
   ]
  },
  {
   "cell_type": "code",
   "execution_count": 17,
   "metadata": {},
   "outputs": [
    {
     "data": {
      "image/png": "[encoded data removed]",
      "text/plain": [
       "<Figure size 1080x360 with 1 Axes>"
      ]
     },
     "metadata": {
      "image/png": {
       "height": 342,
       "width": 899
      }
     },
     "output_type": "display_data"
    }
   ],
   "source": [
    "sns.scatterplot(x='review_len', y='rating', data=combined, s=80)\n",
    "plt.xlabel('Review Length In Characters')\n",
    "plt.ylabel('Rating');"
   ]
  },
  {
   "cell_type": "markdown",
   "metadata": {},
   "source": [
    "Histograms of both the ratings and review length in characters were created below. These plots show the distribution of values for both review length and ratings. It is clear that both features are left skewed from the distributions shown below. This means that the dataset is not very balanced. Most ratings are 5 stars and most reviews are around 150 characters. The distributions are not normal and as such many assumptions made for neat and clean data can not be made here."
   ]
  },
  {
   "cell_type": "code",
   "execution_count": 18,
   "metadata": {},
   "outputs": [
    {
     "data": {
      "image/png": "[encoded data removed]",
      "text/plain": [
       "<Figure size 1080x360 with 2 Axes>"
      ]
     },
     "metadata": {
      "image/png": {
       "height": 342,
       "width": 873
      }
     },
     "output_type": "display_data"
    }
   ],
   "source": [
    "plt.subplot(1, 2, 1)\n",
    "sns.distplot(combined['rating'])\n",
    "plt.xlabel('Rating')\n",
    "\n",
    "plt.subplot(1, 2, 2)\n",
    "sns.distplot(combined['review_len'])\n",
    "plt.xlabel('Review Length In Characters');"
   ]
  },
  {
   "cell_type": "markdown",
   "metadata": {},
   "source": [
    "Histograms of both the longitude and latitude values were created below. These plots show the distribution of values for both longitude and latitude. Longitude appears somewhat normal with a slight skew to the left, and latitude appears to be right skewed. Though notice how the values do not change much on the x-axis. This is to be expected as all parks are located in San Diego so their longitude and latitude values should be relatively close together. These histograms merely show that most parks in the data are relatively close together with a few parks being built on the outskirts of San Diego."
   ]
  },
  {
   "cell_type": "code",
   "execution_count": 19,
   "metadata": {},
   "outputs": [
    {
     "data": {
      "image/png": "[encoded data removed]",
      "text/plain": [
       "<Figure size 1080x360 with 2 Axes>"
      ]
     },
     "metadata": {
      "image/png": {
       "height": 347,
       "width": 873
      }
     },
     "output_type": "display_data"
    }
   ],
   "source": [
    "plt.subplot(1, 2, 1)\n",
    "sns.distplot(combined['longitude'])\n",
    "plt.xlabel('Longitude Values')\n",
    "\n",
    "plt.subplot(1, 2, 2)\n",
    "sns.distplot(combined['latitude'])\n",
    "plt.xlabel('Latitude Values');"
   ]
  },
  {
   "cell_type": "markdown",
   "metadata": {},
   "source": [
    "## Analysis"
   ]
  },
  {
   "cell_type": "markdown",
   "metadata": {},
   "source": [
    "I tried to determine correlation between variables using the pandas built in corr function and different types of plots created using seaborn. I choose to use the pandas corr function as it directly tells me the correlation between variables. The visualizations I created allowed me to check the distribution of values in my features. Through these plots I was able to reaffirm the results from the pandas corr function.\n",
    "\n",
    "Below I have code that trains a logistic regression model using features found in my table. Logistic regression was chosen here as I treated predicting the discrete 5 ratings as a classification problem. I wanted to conduct an ablation study approach to see if a machine learning model could discover any relationships between features that I was unable to find through my methods. A total of 4 ablation studies were conducted with a different set of features removed or added to the analysis each time.\n",
    "\n",
    "My results for all my approaches showed that there is no correlation between the location of a park and the Yelp rating it receives. Using the pandas corr function it was shown that rating had close to 0 correlation with both longitude and latitude values. Using the visualizations it was shown that rating is not normally distributed, and most ratings are 5 stars. Longitude and latitude, however, had different looking distributions. This means that longitude and latitude were unlikely to predict rating as the distributions do not align. Through logistic regression and standard ablation study approaches it was shown that no matter what combination of features longitutde and latitude did not score a high accuracy with predicting ratings. In fact all accurracies scored below 25%."
   ]
  },
  {
   "cell_type": "markdown",
   "metadata": {},
   "source": [
    "First ablation study using only longitude and latitude to predict rating. The code below uses train_test_split from sklearn to randomly split the dataset into training and test sets. I then train the logistic regression model using the training set and create predictions with the test set. A for loop is used to check the accuracy of the model."
   ]
  },
  {
   "cell_type": "code",
   "execution_count": 20,
   "metadata": {},
   "outputs": [],
   "source": [
    "abl_study = combined.drop(columns=['review_count', 'text', 'rating', 'review_len', 'dog'])\n",
    "x_train,x_test,y_train,y_test=train_test_split(abl_study,combined['rating'],test_size=0.3)"
   ]
  },
  {
   "cell_type": "code",
   "execution_count": 21,
   "metadata": {},
   "outputs": [],
   "source": [
    "clf = LogisticRegression(class_weight='balanced',max_iter=500).fit(x_train,y_train)\n",
    "pred = clf.predict(x_test)"
   ]
  },
  {
   "cell_type": "code",
   "execution_count": 22,
   "metadata": {},
   "outputs": [
    {
     "data": {
      "text/plain": [
       "{'Accuracy': 0.2369146005509642}"
      ]
     },
     "execution_count": 22,
     "metadata": {},
     "output_type": "execute_result"
    }
   ],
   "source": [
    "correct = 0\n",
    "y_lst = y_test.tolist()\n",
    "for x in range(len(pred)):\n",
    "    if pred[x] == y_lst[x]:\n",
    "        correct += 1\n",
    "\n",
    "# accuracy\n",
    "accuracy = correct/len(pred)\n",
    "{'Accuracy':accuracy}"
   ]
  },
  {
   "cell_type": "markdown",
   "metadata": {},
   "source": [
    "Second ablation study using longitude, latitude, and review_len to predict rating. The code below uses train_test_split from sklearn to randomly split the dataset into training and test sets. I then train the logistic regression model using the training set and create predictions with the test set. A for loop is used to check the accuracy of the model."
   ]
  },
  {
   "cell_type": "code",
   "execution_count": 23,
   "metadata": {},
   "outputs": [],
   "source": [
    "abl_study2 = combined.drop(columns=['review_count', 'text', 'rating', 'dog'])\n",
    "x_train2,x_test2,y_train2,y_test2=train_test_split(abl_study2,combined['rating'],test_size=0.3)"
   ]
  },
  {
   "cell_type": "code",
   "execution_count": 24,
   "metadata": {},
   "outputs": [],
   "source": [
    "clf2 = LogisticRegression(class_weight='balanced',max_iter=500).fit(x_train2,y_train2)\n",
    "pred2 = clf2.predict(x_test2)"
   ]
  },
  {
   "cell_type": "code",
   "execution_count": 25,
   "metadata": {},
   "outputs": [
    {
     "data": {
      "text/plain": [
       "{'Accuracy': 0.05371900826446281}"
      ]
     },
     "execution_count": 25,
     "metadata": {},
     "output_type": "execute_result"
    }
   ],
   "source": [
    "correct2 = 0\n",
    "y_lst2 = y_test2.tolist()\n",
    "for x in range(len(pred2)):\n",
    "    if pred2[x] == y_lst2[x]:\n",
    "        correct2 += 1\n",
    "\n",
    "# accuracy\n",
    "{'Accuracy': correct2/len(pred2)}"
   ]
  },
  {
   "cell_type": "markdown",
   "metadata": {},
   "source": [
    "Third ablation study using every column but text to predict rating. The code below uses train_test_split from sklearn to randomly split the dataset into training and test sets. I then train the logistic regression model using the training set and create predictions with the test set. A for loop is used to check the accuracy of the model."
   ]
  },
  {
   "cell_type": "code",
   "execution_count": 26,
   "metadata": {},
   "outputs": [],
   "source": [
    "abl_study3 = combined.drop(columns=['text', 'rating'])\n",
    "x_train3,x_test3,y_train3,y_test3=train_test_split(abl_study3,combined['rating'],test_size=0.3)"
   ]
  },
  {
   "cell_type": "code",
   "execution_count": 27,
   "metadata": {},
   "outputs": [],
   "source": [
    "clf3 = LogisticRegression(class_weight='balanced',max_iter=500).fit(x_train3,y_train3)\n",
    "pred3 = clf3.predict(x_test3)"
   ]
  },
  {
   "cell_type": "code",
   "execution_count": 28,
   "metadata": {},
   "outputs": [
    {
     "data": {
      "text/plain": [
       "{'Accuracy': 0.2231404958677686}"
      ]
     },
     "execution_count": 28,
     "metadata": {},
     "output_type": "execute_result"
    }
   ],
   "source": [
    "correct3 = 0\n",
    "y_lst3 = y_test3.tolist()\n",
    "for x in range(len(pred3)):\n",
    "    if pred3[x] == y_lst3[x]:\n",
    "        correct3 += 1\n",
    "\n",
    "# accuracy\n",
    "{'Accuracy': correct3/len(pred3)}"
   ]
  },
  {
   "cell_type": "markdown",
   "metadata": {},
   "source": [
    "Fourth ablation study using every column but longitude, latitude, and text to predict rating. The code below uses train_test_split from sklearn to randomly split the dataset into training and test sets. I then train the logistic regression model using the training set and create predictions with the test set. A for loop is used to check the accuracy of the model."
   ]
  },
  {
   "cell_type": "code",
   "execution_count": 29,
   "metadata": {},
   "outputs": [],
   "source": [
    "abl_study4 = combined.drop(columns=['longitude', 'latitude', 'text', 'rating'])\n",
    "x_train4,x_test4,y_train4,y_test4=train_test_split(abl_study4,combined['rating'],test_size=0.3)"
   ]
  },
  {
   "cell_type": "code",
   "execution_count": 30,
   "metadata": {},
   "outputs": [],
   "source": [
    "clf4 = LogisticRegression(class_weight='balanced',max_iter=500).fit(x_train4,y_train4)\n",
    "pred4 = clf4.predict(x_test4)"
   ]
  },
  {
   "cell_type": "code",
   "execution_count": 31,
   "metadata": {},
   "outputs": [
    {
     "data": {
      "text/plain": [
       "{'Accuracy': 0.19421487603305784}"
      ]
     },
     "execution_count": 31,
     "metadata": {},
     "output_type": "execute_result"
    }
   ],
   "source": [
    "correct4 = 0\n",
    "y_lst4 = y_test4.tolist()\n",
    "for x in range(len(pred4)):\n",
    "    if pred4[x] == y_lst4[x]:\n",
    "        correct4 += 1\n",
    "\n",
    "# accuracy\n",
    "{'Accuracy': correct4/len(pred4)}"
   ]
  },
  {
   "cell_type": "markdown",
   "metadata": {},
   "source": [
    "# Ethics & Privacy"
   ]
  },
  {
   "cell_type": "markdown",
   "metadata": {},
   "source": [
    "There are ethical and privacy related issues involving my research question and dataset. Yelp is a platform where users give ratings and write reviews for locations they have been to. When scraping for this data it is imperative that user identifying information is removed as the users on Yelp did not give consent to be part of my research. The dataset I used for this specific project was scraped by professor Ellis so for the most part any user identifying information was already removed ahead of time.\n",
    "\n",
    "There is still the question of whether I am allowed to use this data to begin with. Since the data was scraped through Yelp's api I believe that I am allowed to use this data. Nothing was scraped using third party software, and all guidelines defined by the Yelp api were followed. The research question I am asking, however, does pose a large ethical concern. My findings if they turned out to be against my hypothesis, could change where cities decide to build their parks. This could leave areas deemed as less \"desirable\" to be negatively impacted as the city may choose to build the park somewhere more \"desireable\". To adress this issue I would be certain to advise the city council, or whoever read my report that the data I have is limited. I am only using one platform for all my review data which is hardly representative of the San Diego city population. As such my results should not be taken as absolutes, and my research here is merely something to think about as a side note.\n",
    "\n",
    "Though as mentioned there is bias in the data I used. Yelp data of course only carries information from Yelp users. This does not encompass all visitors of San Diego parks. There might be many individuals who disliked, liked, or did not care about a park's location, but because they did not write about it on Yelp they would not be represented in the data. Unfortunately I do not have access to an ideal dataset, and as such I can not get full representation from the entire city of San Diego. As such I must again caution the use of my research results in a general format. My research pertains to the parks available in San Diego only, and only utilizes reviews found on Yelp."
   ]
  },
  {
   "cell_type": "markdown",
   "metadata": {},
   "source": [
    "# Conclusion & Discussion"
   ]
  },
  {
   "cell_type": "markdown",
   "metadata": {},
   "source": [
    "The research question I set out to answer is does the location of San Diego parks represented by longitutde and latitude values determine their ratings on Yelp. To conduct research on this research question I utilized the Yelp datasets provided by professor Ellis. The two datasets provided information on a variety of things such as what the average rating for a park is, what the individual user rating for a park is, the review a user left, the longitude and latitude of the park, etc. I began my analysis by cleaning and formatting the data to the way I wanted it. I removed all unnecessary columns and any rows containing NaN values. I then checked the distribution of rating values as well as the correlation between rating and every other column. Lastly I created a machine learning model using logistic regression to try and predict rating given the limited information I had from the Yelp data.\n",
    "\n",
    "From my analysis I can conclude that my original hypothesis is correct. A parks longitude and latitude values do not determine the rating for the park given on Yelp. Rating had 0.012861 and -0.001798 as correlation values for longitude and latitude respectively. These are extremely small values close to zero. So, technically rating had a positive correlation with longitude values and a negative correlation with latitude values, but the correlation is so small I will be treating it as zero correlation. The logistic regression model also could not find any relationship between rating and longitude or latitude values having scored a 23.97% accuracy when trying to predict rating with only longitude and latitude values. This score is worse than a trivial predicter that only predicts 5 star for every park.\n",
    "\n",
    "Even if my results support my hypothesis there is still a chance my hypothesis could be wrong as there were limitations on this research. The dataset I used was missing many features from Yelp that could have been helpful in the research. One such feature missing was time a review was made. Perhaps there is a correlation between what time a review is made, and what location a user decides to go to. The dataset was also very imbalanced. More than half the Yelp ratings were 5 stars. Very few individuals gave ratings below 5 stars, so it is difficult to determine correlation between variables when the dataset is so imbalanced. There is also of course the limitation that my data only contains Yelp users. My research results could be used to determine where San Diego future parks will be built. Since my results show that Yelp ratings are not determined by the location of a park represented by longitude and latitude values local authorities may think that parks can be built anywhere and people will still enjoy them. I want to make clear that my research had limitations from the datasets, and that no concrete stance should be made from my research results alone."
   ]
  }
 ],
 "metadata": {
  "kernelspec": {
   "display_name": "Python 3",
   "language": "python",
   "name": "python3"
  },
  "language_info": {
   "codemirror_mode": {
    "name": "ipython",
    "version": 3
   },
   "file_extension": ".py",
   "mimetype": "text/x-python",
   "name": "python",
   "nbconvert_exporter": "python",
   "pygments_lexer": "ipython3",
   "version": "3.7.4"
  }
 },
 "nbformat": 4,
 "nbformat_minor": 2
}
