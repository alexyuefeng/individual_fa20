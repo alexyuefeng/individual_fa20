{
 "cells": [
  {
   "cell_type": "markdown",
   "metadata": {},
   "source": [
    "# COGS 108 - Final Project - SD Parks & Police Calls"
   ]
  },
  {
   "cell_type": "markdown",
   "metadata": {},
   "source": [
    "# Overview"
   ]
  },
  {
   "cell_type": "markdown",
   "metadata": {},
   "source": [
    "My project analyzes the relationship between San Diego Parks and San Diego Police calls for service. The data I used for my analysis was for the year 2020 and was obtained from the official San Diego government website. My goal was to quantify police calls for service and determine whether any adjustments need to be made to the operating hours of San Diego parks or to police patrols in the vicinity of parks to maximize safety. Ultimately, no significant relationship was found between the operating hours of San Diego parks and police calls for service, but parks located in the vicinity of beats with high call frequency should be assessed further."
   ]
  },
  {
   "cell_type": "markdown",
   "metadata": {},
   "source": [
    "# Name & GitHub ID\n",
    "\n",
    "- Name: Randale Liwanag\n",
    "- GitHub Username: randaleliwanag"
   ]
  },
  {
   "cell_type": "markdown",
   "metadata": {},
   "source": [
    "# Research Question"
   ]
  },
  {
   "cell_type": "markdown",
   "metadata": {},
   "source": [
    "What is the relationship between operating hours for San Diego Parks and the number of police calls for service? Is this relationship dependent on the time of day, day of the week, or month of the year?"
   ]
  },
  {
   "cell_type": "markdown",
   "metadata": {},
   "source": [
    "## Background and Prior Work"
   ]
  },
  {
   "cell_type": "markdown",
   "metadata": {},
   "source": [
    "The first thing I wanted to do was find out if there has been any kind of comparative research done regarding crime and city parks. I came across a research article published on the CDC's website that studied the relationship between crime and visits to parks in Greensboro, North Carolina. They measured all crimes and their vicinity to parks and homes. They also examined how these incidences affected park visits, duration of those visits, and park rating. What they found was that increased crime in parks and near homes were associated with fewer park visits. In other words, people are less likely to visit parks if they have a fear of being the victim of a crime.\n",
    "\n",
    "In order to get a better understanding of how to relate the police calls for service to San Diego Parks, I thought it would be important to find out what the operating hours of the parks were. Additionally, I wanted to see if any changes to the San Diego Parks operating policies were adjusted throughout the year due to the COVID-19 pandemic. This may provide even more insight on the data. This information was obtained by the San Diego Parks website.\n",
    "\n",
    "References (include links):\n",
    "- 1) https://www.cdc.gov/pcd/issues/2020/19_0434.htm\n",
    "- 2) https://www.sdparks.org/content/sdparks/en/AboutUs/Hours.html\n",
    "- 3) https://www.sdparks.org/content/sdparks/en/news-events/news-stories/COVID-19Response.html"
   ]
  },
  {
   "cell_type": "markdown",
   "metadata": {},
   "source": [
    "# Hypothesis\n"
   ]
  },
  {
   "cell_type": "markdown",
   "metadata": {},
   "source": [
    "I hypothesize that more police calls for service happen during later hours in the day and outside of San Diego park operating hours. My assumption is that most crimes happen at night due to the criminals' ability to use darkness as concealment for their crimes. "
   ]
  },
  {
   "cell_type": "markdown",
   "metadata": {},
   "source": [
    "# Dataset(s)"
   ]
  },
  {
   "cell_type": "markdown",
   "metadata": {},
   "source": [
    "- Dataset Name: Police Calls For Service 2020\n",
    "- Link to the dataset: http://seshat.datasd.org/pd/pd_calls_for_service_2020_datasd.csv\n",
    "- Number of observations: 522569 rows x 14 columns\n",
    "\n",
    "This particular dataset logs each call to San Diego emergency services. Each incident includes an incident number, time and date, day of the week, address/cross streets, call type, disposition, beat, and priority."
   ]
  },
  {
   "cell_type": "markdown",
   "metadata": {},
   "source": [
    "# Setup"
   ]
  },
  {
   "cell_type": "code",
   "execution_count": 1,
   "metadata": {},
   "outputs": [],
   "source": [
    "# Imports.\n",
    "import numpy as np\n",
    "import pandas as pd\n",
    "import matplotlib.pyplot as plt\n",
    "\n",
    "import seaborn as sns\n",
    "sns.set()\n",
    "sns.set_context('talk')"
   ]
  },
  {
   "cell_type": "code",
   "execution_count": 2,
   "metadata": {},
   "outputs": [
    {
     "data": {
      "text/html": [
       "<div>\n",
       "<style scoped>\n",
       "    .dataframe tbody tr th:only-of-type {\n",
       "        vertical-align: middle;\n",
       "    }\n",
       "\n",
       "    .dataframe tbody tr th {\n",
       "        vertical-align: top;\n",
       "    }\n",
       "\n",
       "    .dataframe thead th {\n",
       "        text-align: right;\n",
       "    }\n",
       "</style>\n",
       "<table border=\"1\" class=\"dataframe\">\n",
       "  <thead>\n",
       "    <tr style=\"text-align: right;\">\n",
       "      <th></th>\n",
       "      <th>incident_num</th>\n",
       "      <th>date_time</th>\n",
       "      <th>day_of_week</th>\n",
       "      <th>address_number_primary</th>\n",
       "      <th>address_dir_primary</th>\n",
       "      <th>address_road_primary</th>\n",
       "      <th>address_sfx_primary</th>\n",
       "      <th>address_dir_intersecting</th>\n",
       "      <th>address_road_intersecting</th>\n",
       "      <th>address_sfx_intersecting</th>\n",
       "      <th>call_type</th>\n",
       "      <th>disposition</th>\n",
       "      <th>beat</th>\n",
       "      <th>priority</th>\n",
       "    </tr>\n",
       "  </thead>\n",
       "  <tbody>\n",
       "    <tr>\n",
       "      <th>0</th>\n",
       "      <td>E20010000001</td>\n",
       "      <td>2020-01-01 00:00:09</td>\n",
       "      <td>4</td>\n",
       "      <td>400</td>\n",
       "      <td>NaN</td>\n",
       "      <td>06TH</td>\n",
       "      <td>AVE</td>\n",
       "      <td>NaN</td>\n",
       "      <td>NaN</td>\n",
       "      <td>NaN</td>\n",
       "      <td>11-8</td>\n",
       "      <td>A</td>\n",
       "      <td>523</td>\n",
       "      <td>0</td>\n",
       "    </tr>\n",
       "    <tr>\n",
       "      <th>1</th>\n",
       "      <td>E20010000002</td>\n",
       "      <td>2020-01-01 00:00:20</td>\n",
       "      <td>4</td>\n",
       "      <td>5000</td>\n",
       "      <td>NaN</td>\n",
       "      <td>UNIVERSITY</td>\n",
       "      <td>AVE</td>\n",
       "      <td>NaN</td>\n",
       "      <td>NaN</td>\n",
       "      <td>NaN</td>\n",
       "      <td>FD</td>\n",
       "      <td>K</td>\n",
       "      <td>826</td>\n",
       "      <td>2</td>\n",
       "    </tr>\n",
       "    <tr>\n",
       "      <th>2</th>\n",
       "      <td>E20010000003</td>\n",
       "      <td>2020-01-01 00:00:21</td>\n",
       "      <td>4</td>\n",
       "      <td>800</td>\n",
       "      <td>NaN</td>\n",
       "      <td>SAWTELLE</td>\n",
       "      <td>AVE</td>\n",
       "      <td>NaN</td>\n",
       "      <td>NaN</td>\n",
       "      <td>NaN</td>\n",
       "      <td>AU1</td>\n",
       "      <td>W</td>\n",
       "      <td>434</td>\n",
       "      <td>1</td>\n",
       "    </tr>\n",
       "    <tr>\n",
       "      <th>3</th>\n",
       "      <td>E20010000004</td>\n",
       "      <td>2020-01-01 00:00:32</td>\n",
       "      <td>4</td>\n",
       "      <td>5000</td>\n",
       "      <td>NaN</td>\n",
       "      <td>UNIVERSITY</td>\n",
       "      <td>AVE</td>\n",
       "      <td>NaN</td>\n",
       "      <td>NaN</td>\n",
       "      <td>NaN</td>\n",
       "      <td>FD</td>\n",
       "      <td>K</td>\n",
       "      <td>826</td>\n",
       "      <td>2</td>\n",
       "    </tr>\n",
       "    <tr>\n",
       "      <th>4</th>\n",
       "      <td>E20010000005</td>\n",
       "      <td>2020-01-01 00:00:42</td>\n",
       "      <td>4</td>\n",
       "      <td>5200</td>\n",
       "      <td>NaN</td>\n",
       "      <td>CLAIREMONT MESA</td>\n",
       "      <td>BLV</td>\n",
       "      <td>NaN</td>\n",
       "      <td>NaN</td>\n",
       "      <td>NaN</td>\n",
       "      <td>415V</td>\n",
       "      <td>K</td>\n",
       "      <td>111</td>\n",
       "      <td>1</td>\n",
       "    </tr>\n",
       "    <tr>\n",
       "      <th>...</th>\n",
       "      <td>...</td>\n",
       "      <td>...</td>\n",
       "      <td>...</td>\n",
       "      <td>...</td>\n",
       "      <td>...</td>\n",
       "      <td>...</td>\n",
       "      <td>...</td>\n",
       "      <td>...</td>\n",
       "      <td>...</td>\n",
       "      <td>...</td>\n",
       "      <td>...</td>\n",
       "      <td>...</td>\n",
       "      <td>...</td>\n",
       "      <td>...</td>\n",
       "    </tr>\n",
       "    <tr>\n",
       "      <th>522564</th>\n",
       "      <td>E20120001602</td>\n",
       "      <td>2020-12-01 23:23:01</td>\n",
       "      <td>3</td>\n",
       "      <td>1200</td>\n",
       "      <td>NaN</td>\n",
       "      <td>K</td>\n",
       "      <td>ST</td>\n",
       "      <td>NaN</td>\n",
       "      <td>NaN</td>\n",
       "      <td>NaN</td>\n",
       "      <td>MPSSTP</td>\n",
       "      <td>K</td>\n",
       "      <td>521</td>\n",
       "      <td>2</td>\n",
       "    </tr>\n",
       "    <tr>\n",
       "      <th>522565</th>\n",
       "      <td>E20120001605</td>\n",
       "      <td>2020-12-01 23:28:18</td>\n",
       "      <td>3</td>\n",
       "      <td>5800</td>\n",
       "      <td>NaN</td>\n",
       "      <td>STREAMVIEW</td>\n",
       "      <td>DR</td>\n",
       "      <td>NaN</td>\n",
       "      <td>NaN</td>\n",
       "      <td>NaN</td>\n",
       "      <td>417</td>\n",
       "      <td>K</td>\n",
       "      <td>823</td>\n",
       "      <td>0</td>\n",
       "    </tr>\n",
       "    <tr>\n",
       "      <th>522566</th>\n",
       "      <td>E20120001608</td>\n",
       "      <td>2020-12-01 23:33:18</td>\n",
       "      <td>3</td>\n",
       "      <td>100</td>\n",
       "      <td>E</td>\n",
       "      <td>CALLE PRIMERA</td>\n",
       "      <td>NaN</td>\n",
       "      <td>NaN</td>\n",
       "      <td>NaN</td>\n",
       "      <td>NaN</td>\n",
       "      <td>T</td>\n",
       "      <td>K</td>\n",
       "      <td>712</td>\n",
       "      <td>2</td>\n",
       "    </tr>\n",
       "    <tr>\n",
       "      <th>522567</th>\n",
       "      <td>E20120001616</td>\n",
       "      <td>2020-12-01 23:48:27</td>\n",
       "      <td>3</td>\n",
       "      <td>100</td>\n",
       "      <td>NaN</td>\n",
       "      <td>06TH</td>\n",
       "      <td>AVE</td>\n",
       "      <td>NaN</td>\n",
       "      <td>NaN</td>\n",
       "      <td>NaN</td>\n",
       "      <td>SELENF</td>\n",
       "      <td>K</td>\n",
       "      <td>521</td>\n",
       "      <td>3</td>\n",
       "    </tr>\n",
       "    <tr>\n",
       "      <th>522568</th>\n",
       "      <td>E20120001618</td>\n",
       "      <td>2020-12-01 23:51:07</td>\n",
       "      <td>3</td>\n",
       "      <td>0</td>\n",
       "      <td>NaN</td>\n",
       "      <td>I-15</td>\n",
       "      <td>NaN</td>\n",
       "      <td>NaN</td>\n",
       "      <td>EL CAJON</td>\n",
       "      <td>NaN</td>\n",
       "      <td>T</td>\n",
       "      <td>K</td>\n",
       "      <td>825</td>\n",
       "      <td>2</td>\n",
       "    </tr>\n",
       "  </tbody>\n",
       "</table>\n",
       "<p>522569 rows × 14 columns</p>\n",
       "</div>"
      ],
      "text/plain": [
       "        incident_num            date_time  day_of_week  \\\n",
       "0       E20010000001  2020-01-01 00:00:09            4   \n",
       "1       E20010000002  2020-01-01 00:00:20            4   \n",
       "2       E20010000003  2020-01-01 00:00:21            4   \n",
       "3       E20010000004  2020-01-01 00:00:32            4   \n",
       "4       E20010000005  2020-01-01 00:00:42            4   \n",
       "...              ...                  ...          ...   \n",
       "522564  E20120001602  2020-12-01 23:23:01            3   \n",
       "522565  E20120001605  2020-12-01 23:28:18            3   \n",
       "522566  E20120001608  2020-12-01 23:33:18            3   \n",
       "522567  E20120001616  2020-12-01 23:48:27            3   \n",
       "522568  E20120001618  2020-12-01 23:51:07            3   \n",
       "\n",
       "        address_number_primary address_dir_primary address_road_primary  \\\n",
       "0                          400                 NaN                 06TH   \n",
       "1                         5000                 NaN           UNIVERSITY   \n",
       "2                          800                 NaN             SAWTELLE   \n",
       "3                         5000                 NaN           UNIVERSITY   \n",
       "4                         5200                 NaN      CLAIREMONT MESA   \n",
       "...                        ...                 ...                  ...   \n",
       "522564                    1200                 NaN                    K   \n",
       "522565                    5800                 NaN           STREAMVIEW   \n",
       "522566                     100                   E        CALLE PRIMERA   \n",
       "522567                     100                 NaN                 06TH   \n",
       "522568                       0                 NaN                 I-15   \n",
       "\n",
       "       address_sfx_primary  address_dir_intersecting  \\\n",
       "0                      AVE                       NaN   \n",
       "1                      AVE                       NaN   \n",
       "2                      AVE                       NaN   \n",
       "3                      AVE                       NaN   \n",
       "4                      BLV                       NaN   \n",
       "...                    ...                       ...   \n",
       "522564                  ST                       NaN   \n",
       "522565                  DR                       NaN   \n",
       "522566                 NaN                       NaN   \n",
       "522567                 AVE                       NaN   \n",
       "522568                 NaN                       NaN   \n",
       "\n",
       "       address_road_intersecting  address_sfx_intersecting call_type  \\\n",
       "0                            NaN                       NaN      11-8   \n",
       "1                            NaN                       NaN        FD   \n",
       "2                            NaN                       NaN       AU1   \n",
       "3                            NaN                       NaN        FD   \n",
       "4                            NaN                       NaN      415V   \n",
       "...                          ...                       ...       ...   \n",
       "522564                       NaN                       NaN    MPSSTP   \n",
       "522565                       NaN                       NaN       417   \n",
       "522566                       NaN                       NaN         T   \n",
       "522567                       NaN                       NaN    SELENF   \n",
       "522568                  EL CAJON                       NaN         T   \n",
       "\n",
       "       disposition  beat  priority  \n",
       "0                A   523         0  \n",
       "1                K   826         2  \n",
       "2                W   434         1  \n",
       "3                K   826         2  \n",
       "4                K   111         1  \n",
       "...            ...   ...       ...  \n",
       "522564           K   521         2  \n",
       "522565           K   823         0  \n",
       "522566           K   712         2  \n",
       "522567           K   521         3  \n",
       "522568           K   825         2  \n",
       "\n",
       "[522569 rows x 14 columns]"
      ]
     },
     "execution_count": 2,
     "metadata": {},
     "output_type": "execute_result"
    }
   ],
   "source": [
    "# Reading the data required for my analysis.\n",
    "df_calls20 = pd.read_csv('pd_calls_for_service_2020_datasd.csv')\n",
    "df_calls20"
   ]
  },
  {
   "cell_type": "markdown",
   "metadata": {},
   "source": [
    "# Data Cleaning"
   ]
  },
  {
   "cell_type": "markdown",
   "metadata": {},
   "source": [
    "Describe your data cleaning steps here."
   ]
  },
  {
   "cell_type": "code",
   "execution_count": 3,
   "metadata": {},
   "outputs": [],
   "source": [
    "# Dropping columns in the dataframe that are not needed for my analysis.\n",
    "df_calls20 = df_calls20.drop(columns = ['address_number_primary', 'address_dir_primary', 'address_road_primary', 'address_sfx_primary', 'address_dir_intersecting', 'address_road_intersecting', 'address_sfx_intersecting', 'call_type', 'disposition'])\n",
    "\n",
    "# Renaming the columns\n",
    "df_calls20.columns = ['Incident #', 'Date and Time', 'Day of Week', 'Beat', 'Priority']"
   ]
  },
  {
   "cell_type": "code",
   "execution_count": 4,
   "metadata": {},
   "outputs": [],
   "source": [
    "# Function to convert day from integer to string for easier readability and categorization.\n",
    "def convert_day(int):\n",
    "\n",
    "    if int == 1:\n",
    "        output = 'Sunday'\n",
    "    elif int == 2:\n",
    "        output = 'Monday'\n",
    "    elif int == 3:\n",
    "        output = 'Tuesday'\n",
    "    elif int == 4:\n",
    "        output = 'Wednesday'\n",
    "    elif int == 5:\n",
    "        output = 'Thursday'\n",
    "    elif int == 6:\n",
    "        output ='Friday'\n",
    "    elif int == 7:\n",
    "        output = 'Saturday'\n",
    "    else:\n",
    "        output = np.nan\n",
    "\n",
    "    return output"
   ]
  },
  {
   "cell_type": "code",
   "execution_count": 5,
   "metadata": {},
   "outputs": [],
   "source": [
    "# Applying function to convert day from integer to string to dataframe.\n",
    "df_calls20['Day of Week'] = df_calls20['Day of Week'].apply(convert_day)"
   ]
  },
  {
   "cell_type": "code",
   "execution_count": 6,
   "metadata": {},
   "outputs": [],
   "source": [
    "# Function to convert month from numbers to name for easier readability and categorization.\n",
    "def convert_month(string):\n",
    "\n",
    "    if '2020-01' in string:\n",
    "        output = 'January'\n",
    "    elif '2020-02' in string:\n",
    "        output = 'February'\n",
    "    elif '2020-03' in string:\n",
    "        output = 'March'\n",
    "    elif '2020-04' in string:\n",
    "        output = 'April'\n",
    "    elif '2020-05' in string:\n",
    "        output = 'May'\n",
    "    elif '2020-06' in string:\n",
    "        output = 'June'\n",
    "    elif '2020-07' in string:\n",
    "        output = 'July'\n",
    "    elif '2020-08' in string:\n",
    "        output = 'August'\n",
    "    elif '2020-09' in string:\n",
    "        output = 'September'\n",
    "    elif '2020-10' in string:\n",
    "        output = 'October'\n",
    "    elif '2020-11' in string:\n",
    "        output = 'November'\n",
    "    elif '2020-12' in string:\n",
    "        output = 'December'\n",
    "    else:\n",
    "        output = np.nan\n",
    "\n",
    "    return output"
   ]
  },
  {
   "cell_type": "code",
   "execution_count": 7,
   "metadata": {},
   "outputs": [],
   "source": [
    "# Applying function to convert month from numbers to name to dataframe and saving values to a new column named 'Month'.\n",
    "df_calls20['Month'] = df_calls20['Date and Time'].apply(convert_month)\n",
    "\n",
    "# Reordering columns\n",
    "df_calls20 = df_calls20[['Incident #', 'Month', 'Date and Time', 'Day of Week', 'Beat', 'Priority']]"
   ]
  },
  {
   "cell_type": "code",
   "execution_count": 8,
   "metadata": {},
   "outputs": [],
   "source": [
    "# Removing date, minutes, and seconds from the 'Time' column in order to show only hour and convert to integer.\n",
    "df_calls20['Date and Time'] = df_calls20['Date and Time'].str[11:13]\n",
    "\n",
    "# Renaming 'Date and Time' column to 'Hour' to reflect removal of date, minutes, and seconds from column.\n",
    "df_calls20.columns = ['Incident #', 'Month', 'Hour', 'Day of Week', 'Beat', 'Priority']"
   ]
  },
  {
   "cell_type": "code",
   "execution_count": 9,
   "metadata": {},
   "outputs": [],
   "source": [
    "# Functions to convert time to integer and classify open and closed hours to dataframes. Operating hours are dependent on month.\n",
    "def five_close(time):\n",
    "    # Format time into integer\n",
    "    time = int(time)\n",
    "\n",
    "    # Return state based on time\n",
    "    if (time < 8) or (time > 16): \n",
    "        return 'Closed' \n",
    "    else:\n",
    "        return 'Open'\n",
    "\n",
    "    \n",
    "def six_close(time):\n",
    "    # Format time into integer\n",
    "    time = int(time)\n",
    "\n",
    "    # Return state based on time\n",
    "    if (time < 8) or (time > 17): \n",
    "        return 'Closed' \n",
    "    else:\n",
    "        return 'Open'\n",
    "\n",
    "\n",
    "def seven_close(time):\n",
    "    # Format time into integer\n",
    "    time = int(time)\n",
    "\n",
    "    # Return state based on time\n",
    "    if (time < 8) or (time > 18): \n",
    "        return 'Closed' \n",
    "    else:\n",
    "        return 'Open'\n",
    "    \n",
    "\n",
    "def eight_close(time):\n",
    "    # Format time into integer\n",
    "    time = int(time)\n",
    "\n",
    "    # Return state based on time\n",
    "    if (time < 8) or (time > 19): \n",
    "        return 'Closed' \n",
    "    else:\n",
    "        return 'Open'"
   ]
  },
  {
   "cell_type": "code",
   "execution_count": 10,
   "metadata": {},
   "outputs": [],
   "source": [
    "# Applying function to convert time to integer and classify open and closed hours to dataframes for each month.\n",
    "df_calls20.loc[df_calls20['Month'] == 'January', 'Park Status'] = df_calls20.loc[df_calls20['Month'] == 'January', 'Hour'].apply(five_close)\n",
    "\n",
    "df_calls20.loc[df_calls20['Month'] == 'February', 'Park Status'] = df_calls20.loc[df_calls20['Month'] == 'February', 'Hour'].apply(six_close)\n",
    "\n",
    "df_calls20.loc[df_calls20['Month'] == 'March', 'Park Status'] = df_calls20.loc[df_calls20['Month'] == 'March', 'Hour'].apply(seven_close)\n",
    "\n",
    "df_calls20.loc[df_calls20['Month'] == 'April', 'Park Status'] = df_calls20.loc[df_calls20['Month'] == 'April', 'Hour'].apply(eight_close)\n",
    "\n",
    "df_calls20.loc[df_calls20['Month'] == 'May', 'Park Status'] = df_calls20.loc[df_calls20['Month'] == 'May', 'Hour'].apply(eight_close)\n",
    "\n",
    "df_calls20.loc[df_calls20['Month'] == 'June', 'Park Status'] = df_calls20.loc[df_calls20['Month'] == 'June', 'Hour'].apply(eight_close)\n",
    "\n",
    "df_calls20.loc[df_calls20['Month'] == 'July', 'Park Status'] = df_calls20.loc[df_calls20['Month'] == 'July', 'Hour'].apply(eight_close)\n",
    "\n",
    "df_calls20.loc[df_calls20['Month'] == 'August', 'Park Status'] = df_calls20.loc[df_calls20['Month'] == 'August', 'Hour'].apply(eight_close)\n",
    "\n",
    "df_calls20.loc[df_calls20['Month'] == 'September', 'Park Status'] = df_calls20.loc[df_calls20['Month'] == 'September', 'Hour'].apply(seven_close)\n",
    "\n",
    "df_calls20.loc[df_calls20['Month'] == 'October', 'Park Status'] = df_calls20.loc[df_calls20['Month'] == 'October', 'Hour'].apply(seven_close)\n",
    "\n",
    "df_calls20.loc[df_calls20['Month'] == 'November', 'Park Status'] = df_calls20.loc[df_calls20['Month'] == 'November', 'Hour'].apply(six_close)\n",
    "\n",
    "df_calls20.loc[df_calls20['Month'] == 'December', 'Park Status'] = df_calls20.loc[df_calls20['Month'] == 'December', 'Hour'].apply(five_close)"
   ]
  },
  {
   "cell_type": "code",
   "execution_count": 11,
   "metadata": {
    "scrolled": true
   },
   "outputs": [],
   "source": [
    "# Dropping values for the month of December due to incomplete data for the month.\n",
    "df_calls20 = df_calls20[~df_calls20['Month'].isin(['December'])]"
   ]
  },
  {
   "cell_type": "code",
   "execution_count": 12,
   "metadata": {},
   "outputs": [
    {
     "data": {
      "text/html": [
       "<div>\n",
       "<style scoped>\n",
       "    .dataframe tbody tr th:only-of-type {\n",
       "        vertical-align: middle;\n",
       "    }\n",
       "\n",
       "    .dataframe tbody tr th {\n",
       "        vertical-align: top;\n",
       "    }\n",
       "\n",
       "    .dataframe thead th {\n",
       "        text-align: right;\n",
       "    }\n",
       "</style>\n",
       "<table border=\"1\" class=\"dataframe\">\n",
       "  <thead>\n",
       "    <tr style=\"text-align: right;\">\n",
       "      <th></th>\n",
       "      <th>Incident #</th>\n",
       "      <th>Month</th>\n",
       "      <th>Hour</th>\n",
       "      <th>Day of Week</th>\n",
       "      <th>Beat</th>\n",
       "      <th>Priority</th>\n",
       "      <th>Park Status</th>\n",
       "    </tr>\n",
       "  </thead>\n",
       "  <tbody>\n",
       "    <tr>\n",
       "      <th>0</th>\n",
       "      <td>E20010000001</td>\n",
       "      <td>January</td>\n",
       "      <td>00</td>\n",
       "      <td>Wednesday</td>\n",
       "      <td>523</td>\n",
       "      <td>0</td>\n",
       "      <td>Closed</td>\n",
       "    </tr>\n",
       "    <tr>\n",
       "      <th>1</th>\n",
       "      <td>E20010000002</td>\n",
       "      <td>January</td>\n",
       "      <td>00</td>\n",
       "      <td>Wednesday</td>\n",
       "      <td>826</td>\n",
       "      <td>2</td>\n",
       "      <td>Closed</td>\n",
       "    </tr>\n",
       "    <tr>\n",
       "      <th>2</th>\n",
       "      <td>E20010000003</td>\n",
       "      <td>January</td>\n",
       "      <td>00</td>\n",
       "      <td>Wednesday</td>\n",
       "      <td>434</td>\n",
       "      <td>1</td>\n",
       "      <td>Closed</td>\n",
       "    </tr>\n",
       "    <tr>\n",
       "      <th>3</th>\n",
       "      <td>E20010000004</td>\n",
       "      <td>January</td>\n",
       "      <td>00</td>\n",
       "      <td>Wednesday</td>\n",
       "      <td>826</td>\n",
       "      <td>2</td>\n",
       "      <td>Closed</td>\n",
       "    </tr>\n",
       "    <tr>\n",
       "      <th>4</th>\n",
       "      <td>E20010000005</td>\n",
       "      <td>January</td>\n",
       "      <td>00</td>\n",
       "      <td>Wednesday</td>\n",
       "      <td>111</td>\n",
       "      <td>1</td>\n",
       "      <td>Closed</td>\n",
       "    </tr>\n",
       "    <tr>\n",
       "      <th>...</th>\n",
       "      <td>...</td>\n",
       "      <td>...</td>\n",
       "      <td>...</td>\n",
       "      <td>...</td>\n",
       "      <td>...</td>\n",
       "      <td>...</td>\n",
       "      <td>...</td>\n",
       "    </tr>\n",
       "    <tr>\n",
       "      <th>521151</th>\n",
       "      <td>E20110047691</td>\n",
       "      <td>November</td>\n",
       "      <td>23</td>\n",
       "      <td>Monday</td>\n",
       "      <td>541</td>\n",
       "      <td>2</td>\n",
       "      <td>Closed</td>\n",
       "    </tr>\n",
       "    <tr>\n",
       "      <th>521152</th>\n",
       "      <td>E20110047692</td>\n",
       "      <td>November</td>\n",
       "      <td>23</td>\n",
       "      <td>Monday</td>\n",
       "      <td>312</td>\n",
       "      <td>1</td>\n",
       "      <td>Closed</td>\n",
       "    </tr>\n",
       "    <tr>\n",
       "      <th>521153</th>\n",
       "      <td>E20110047693</td>\n",
       "      <td>November</td>\n",
       "      <td>23</td>\n",
       "      <td>Monday</td>\n",
       "      <td>511</td>\n",
       "      <td>2</td>\n",
       "      <td>Closed</td>\n",
       "    </tr>\n",
       "    <tr>\n",
       "      <th>521154</th>\n",
       "      <td>E20110047694</td>\n",
       "      <td>November</td>\n",
       "      <td>23</td>\n",
       "      <td>Monday</td>\n",
       "      <td>826</td>\n",
       "      <td>2</td>\n",
       "      <td>Closed</td>\n",
       "    </tr>\n",
       "    <tr>\n",
       "      <th>521155</th>\n",
       "      <td>E20110047695</td>\n",
       "      <td>November</td>\n",
       "      <td>23</td>\n",
       "      <td>Monday</td>\n",
       "      <td>315</td>\n",
       "      <td>2</td>\n",
       "      <td>Closed</td>\n",
       "    </tr>\n",
       "  </tbody>\n",
       "</table>\n",
       "<p>521156 rows × 7 columns</p>\n",
       "</div>"
      ],
      "text/plain": [
       "          Incident #     Month Hour Day of Week  Beat  Priority Park Status\n",
       "0       E20010000001   January   00   Wednesday   523         0      Closed\n",
       "1       E20010000002   January   00   Wednesday   826         2      Closed\n",
       "2       E20010000003   January   00   Wednesday   434         1      Closed\n",
       "3       E20010000004   January   00   Wednesday   826         2      Closed\n",
       "4       E20010000005   January   00   Wednesday   111         1      Closed\n",
       "...              ...       ...  ...         ...   ...       ...         ...\n",
       "521151  E20110047691  November   23      Monday   541         2      Closed\n",
       "521152  E20110047692  November   23      Monday   312         1      Closed\n",
       "521153  E20110047693  November   23      Monday   511         2      Closed\n",
       "521154  E20110047694  November   23      Monday   826         2      Closed\n",
       "521155  E20110047695  November   23      Monday   315         2      Closed\n",
       "\n",
       "[521156 rows x 7 columns]"
      ]
     },
     "execution_count": 12,
     "metadata": {},
     "output_type": "execute_result"
    }
   ],
   "source": [
    "df_calls20"
   ]
  },
  {
   "cell_type": "markdown",
   "metadata": {},
   "source": [
    "# Data Analysis & Results"
   ]
  },
  {
   "cell_type": "markdown",
   "metadata": {},
   "source": [
    "Include cells that describe the steps in your data analysis."
   ]
  },
  {
   "cell_type": "code",
   "execution_count": 13,
   "metadata": {
    "scrolled": true
   },
   "outputs": [
    {
     "data": {
      "text/plain": [
       "Text(0.5, 0, 'Count')"
      ]
     },
     "execution_count": 13,
     "metadata": {},
     "output_type": "execute_result"
    },
    {
     "data": {
      "image/png": "[encoded data removed]",
      "text/plain": [
       "<Figure size 432x288 with 1 Axes>"
      ]
     },
     "metadata": {},
     "output_type": "display_data"
    }
   ],
   "source": [
    "# Plotting the total number of calls per month.\n",
    "sns.countplot(y = 'Month', data = df_calls20).set_title('Calls Per Month')\n",
    "plt.xlabel('Count')"
   ]
  },
  {
   "cell_type": "code",
   "execution_count": 14,
   "metadata": {},
   "outputs": [
    {
     "data": {
      "text/plain": [
       "January      50364\n",
       "October      50136\n",
       "March        48690\n",
       "May          48670\n",
       "July         48601\n",
       "February     48497\n",
       "April        47985\n",
       "August       47860\n",
       "September    47480\n",
       "November     44593\n",
       "June         38280\n",
       "Name: Month, dtype: int64"
      ]
     },
     "execution_count": 14,
     "metadata": {},
     "output_type": "execute_result"
    }
   ],
   "source": [
    "#Counting the number of calls per month.\n",
    "\n",
    "df_calls20['Month'].value_counts()"
   ]
  },
  {
   "cell_type": "code",
   "execution_count": 15,
   "metadata": {},
   "outputs": [
    {
     "data": {
      "text/plain": [
       "Text(0.5, 0, 'Count')"
      ]
     },
     "execution_count": 15,
     "metadata": {},
     "output_type": "execute_result"
    },
    {
     "data": {
      "image/png": "[encoded data removed]",
      "text/plain": [
       "<Figure size 432x288 with 1 Axes>"
      ]
     },
     "metadata": {},
     "output_type": "display_data"
    }
   ],
   "source": [
    "# Plotting the total number of calls per day of the week.\n",
    "sns.countplot(y = 'Day of Week', data = df_calls20, order = ['Monday', 'Tuesday', 'Wednesday', 'Thursday', 'Friday', 'Saturday', 'Sunday']).set_title('Calls Per Day of Week')\n",
    "plt.xlabel('Count')"
   ]
  },
  {
   "cell_type": "code",
   "execution_count": 16,
   "metadata": {},
   "outputs": [
    {
     "data": {
      "text/plain": [
       "Thursday     77149\n",
       "Friday       76980\n",
       "Tuesday      76913\n",
       "Wednesday    76093\n",
       "Monday       75646\n",
       "Saturday     72614\n",
       "Sunday       65761\n",
       "Name: Day of Week, dtype: int64"
      ]
     },
     "execution_count": 16,
     "metadata": {},
     "output_type": "execute_result"
    }
   ],
   "source": [
    "#Counting the number of calls per day of the week.\n",
    "\n",
    "df_calls20['Day of Week'].value_counts()"
   ]
  },
  {
   "cell_type": "code",
   "execution_count": 17,
   "metadata": {},
   "outputs": [
    {
     "data": {
      "text/plain": [
       "Text(0, 0.5, 'Count')"
      ]
     },
     "execution_count": 17,
     "metadata": {},
     "output_type": "execute_result"
    },
    {
     "data": {
      "image/png": "[encoded data removed]",
      "text/plain": [
       "<Figure size 864x432 with 1 Axes>"
      ]
     },
     "metadata": {},
     "output_type": "display_data"
    }
   ],
   "source": [
    "# Plotting the total number of calls per hour.\n",
    "plt.figure(figsize = (12, 6))\n",
    "sns.countplot(x = 'Hour', data = df_calls20).set_title('Calls Per Hour')\n",
    "plt.ylabel('Count')"
   ]
  },
  {
   "cell_type": "code",
   "execution_count": 18,
   "metadata": {},
   "outputs": [
    {
     "data": {
      "text/plain": [
       "10    29927\n",
       "09    28031\n",
       "11    27995\n",
       "12    27615\n",
       "08    27094\n",
       "14    27086\n",
       "15    26793\n",
       "16    26361\n",
       "13    26271\n",
       "17    24811\n",
       "18    24034\n",
       "21    23793\n",
       "22    23764\n",
       "07    23641\n",
       "19    23333\n",
       "20    23031\n",
       "23    19982\n",
       "00    18696\n",
       "06    17194\n",
       "01    13754\n",
       "02    11068\n",
       "05    10385\n",
       "03     8742\n",
       "04     7755\n",
       "Name: Hour, dtype: int64"
      ]
     },
     "execution_count": 18,
     "metadata": {},
     "output_type": "execute_result"
    }
   ],
   "source": [
    "#Counting the number of calls per hour.\n",
    "\n",
    "df_calls20['Hour'].value_counts()"
   ]
  },
  {
   "cell_type": "code",
   "execution_count": 19,
   "metadata": {},
   "outputs": [
    {
     "data": {
      "text/plain": [
       "Text(0, 0.5, 'Count')"
      ]
     },
     "execution_count": 19,
     "metadata": {},
     "output_type": "execute_result"
    },
    {
     "data": {
      "image/png": "[encoded data removed]",
      "text/plain": [
       "<Figure size 432x288 with 1 Axes>"
      ]
     },
     "metadata": {},
     "output_type": "display_data"
    }
   ],
   "source": [
    "# Plotting the total number of calls when parks are open versus closed.\n",
    "sns.countplot(x = 'Park Status', data = df_calls20, order = ['Open', 'Closed']).set_title('# of Calls')\n",
    "plt.ylabel('Count')"
   ]
  },
  {
   "cell_type": "code",
   "execution_count": 20,
   "metadata": {},
   "outputs": [
    {
     "data": {
      "text/plain": [
       "Open      298297\n",
       "Closed    222859\n",
       "Name: Park Status, dtype: int64"
      ]
     },
     "execution_count": 20,
     "metadata": {},
     "output_type": "execute_result"
    }
   ],
   "source": [
    "#Counting the number of incidents by operating status.\n",
    "\n",
    "df_calls20['Park Status'].value_counts()"
   ]
  },
  {
   "cell_type": "code",
   "execution_count": 21,
   "metadata": {},
   "outputs": [
    {
     "data": {
      "text/plain": [
       "Text(0, 0.5, 'Count')"
      ]
     },
     "execution_count": 21,
     "metadata": {},
     "output_type": "execute_result"
    },
    {
     "data": {
      "image/png": "[encoded data removed]",
      "text/plain": [
       "<Figure size 432x288 with 1 Axes>"
      ]
     },
     "metadata": {},
     "output_type": "display_data"
    }
   ],
   "source": [
    "# Plotting the total number of calls by priority level.\n",
    "sns.countplot(df_calls20['Priority']).set_title('Calls By Priority Level')\n",
    "plt.ylabel('Count')"
   ]
  },
  {
   "cell_type": "code",
   "execution_count": 22,
   "metadata": {},
   "outputs": [
    {
     "data": {
      "text/plain": [
       "2    238439\n",
       "3    122809\n",
       "1     96377\n",
       "4     25374\n",
       "0     25016\n",
       "9     13135\n",
       "5         4\n",
       "8         1\n",
       "7         1\n",
       "Name: Priority, dtype: int64"
      ]
     },
     "execution_count": 22,
     "metadata": {},
     "output_type": "execute_result"
    }
   ],
   "source": [
    "#Counting the number of incidents by priority level.\n",
    "\n",
    "df_calls20['Priority'].value_counts()"
   ]
  },
  {
   "cell_type": "code",
   "execution_count": 23,
   "metadata": {
    "scrolled": false
   },
   "outputs": [
    {
     "data": {
      "text/plain": [
       "Text(0, 0.5, 'Count')"
      ]
     },
     "execution_count": 23,
     "metadata": {},
     "output_type": "execute_result"
    },
    {
     "data": {
      "image/png": "[encoded data removed]",
      "text/plain": [
       "<Figure size 864x576 with 1 Axes>"
      ]
     },
     "metadata": {},
     "output_type": "display_data"
    }
   ],
   "source": [
    "# Plotting the total number of calls per beat.\n",
    "plt.figure(figsize = (12, 8))\n",
    "sns.scatterplot(x = df_calls20['Beat'], y = df_calls20['Beat'].value_counts()).set_title('Calls Per Beat')\n",
    "plt.ylabel('Count')"
   ]
  },
  {
   "cell_type": "code",
   "execution_count": 24,
   "metadata": {},
   "outputs": [
    {
     "data": {
      "text/plain": [
       "521    26527\n",
       "122    22104\n",
       "611    14952\n",
       "813    14783\n",
       "627    13314\n",
       "       ...  \n",
       "144        1\n",
       "301        1\n",
       "147        1\n",
       "150        1\n",
       "0          1\n",
       "Name: Beat, Length: 245, dtype: int64"
      ]
     },
     "execution_count": 24,
     "metadata": {},
     "output_type": "execute_result"
    }
   ],
   "source": [
    "df_calls20['Beat'].value_counts()"
   ]
  },
  {
   "cell_type": "markdown",
   "metadata": {},
   "source": [
    "# Ethics & Privacy"
   ]
  },
  {
   "cell_type": "markdown",
   "metadata": {},
   "source": [
    "Although the data used in this project was provided for me, police calls for service are public record and is available for use on the official San Diego government website. No identifiable information such as names, exact addresses, phone numbers, etc. were included in these records so there was no need to remove any data from it prior to its use.\n",
    "\n",
    "It is important to note that the data used for this analysis was for the year 2020 and the information for December was incomplete due to the data being obtained in early December.  This is why I found it necessary to not included December in my data analysis because of the potential for it to skew the rest of the data. Additionally, the data for 2020 may be unique to other years due to the circumstances surrounding the COVID-19 pandemic. It may not be wise to include this data when trying to analyze multiple years. Also, this data was solely about the city of San Diego, California, so these findings may not carry over to other cities and/or states."
   ]
  },
  {
   "cell_type": "markdown",
   "metadata": {},
   "source": [
    "# Conclusion & Discussion"
   ]
  },
  {
   "cell_type": "markdown",
   "metadata": {},
   "source": [
    "Based on my analysis, there does not seem to be a relationship between police calls for service and the operating hours of the San Diego Parks and it is not significantly dependent on day of the week or month of the year. When analyzing the total calls per month, it seems as though they did not differ signicantly. June was extremely low, but I was not able to find an underlying reason for this. In terms of total of calls per day of the week, all weekdays seemed to be relatively similar. Saturday was slightly less, with Sunday being the lowest. This could be due to the fact that Sunday is the day before the start of the work/school week. I was incorrect in my hypothesis that more calls for service would happen at night due to the concealment of darkness. In fact, the peak calls for service happened in the morning and early afternoon. Calls for service slowly tapers down after around 4PM and are at their lowest in the early hours of the morning. More calls happened when parks were open versus closed, but this could be due to more people being active in the day in general. Most call priority levels were at 2, which makes sense because calls to police are generally for matters that people consider urgent. It would be wise for the city of San Diego to consider increasing police patrols and/or assessing operating hours of the parks in the vicinity of the beats with high calls for service. Considering the findings of the research publication on the CDC website mentioned earlier in my project, this can have a negative impact on the usage of the parks in those areas. "
   ]
  }
 ],
 "metadata": {
  "kernelspec": {
   "display_name": "Python 3",
   "language": "python",
   "name": "python3"
  },
  "language_info": {
   "codemirror_mode": {
    "name": "ipython",
    "version": 3
   },
   "file_extension": ".py",
   "mimetype": "text/x-python",
   "name": "python",
   "nbconvert_exporter": "python",
   "pygments_lexer": "ipython3",
   "version": "3.7.6"
  }
 },
 "nbformat": 4,
 "nbformat_minor": 2
}
