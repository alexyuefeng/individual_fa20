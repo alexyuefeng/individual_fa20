{
 "cells": [
  {
   "cell_type": "markdown",
   "metadata": {},
   "source": [
    "# COGS 108 - Final Project "
   ]
  },
  {
   "cell_type": "markdown",
   "metadata": {},
   "source": [
    "# Overview"
   ]
  },
  {
   "cell_type": "markdown",
   "metadata": {},
   "source": [
    "In this project, I used data from yelp ratings of parks and PM2.5 percentiles in air around parks in San Diego, trying to explore the relationship between them. At the end of the study, I found a slightly negative relationship between park ratings and PM2.5 percentiles in San Deigo, suggesting that the higher rating a park is, the better air quality the park has."
   ]
  },
  {
   "cell_type": "markdown",
   "metadata": {},
   "source": [
    "# Names & GitHub ID\n",
    "\n",
    "- Name: Mincheng Wang\n",
    "- GitHub Username: MChengW"
   ]
  },
  {
   "cell_type": "markdown",
   "metadata": {},
   "source": [
    "# Research Question"
   ]
  },
  {
   "cell_type": "markdown",
   "metadata": {},
   "source": [
    "Do well-developed parks in San Diego with high yelp ratings have less PM2.5 percentiles in air than the ones with low yelp ratings?\n",
    "\n"
   ]
  },
  {
   "cell_type": "markdown",
   "metadata": {},
   "source": [
    "## Background and Prior Work\n",
    "\n",
    "San Diego, with its great weather, miles of sandy beaches, and major attractions, is known worldwide as one of the best tourist destinations and a great place for residents to relax year round. It has 57 Recreation Centers, 13 Pools, 7 Skate Parks, and more than 340 parks and 25 miles of shoreline from Sunset Cliffs to La Jolla [1]. Many evidence propose that there might be a strong relationship between well-developed parks and air qualities around them. For example, natural plants, trees, or other greenry can help absorb harmful air pollution and disturbing noise [2]. They help reduce air pollution both by directly removing pollutants and by reducing air temperatures and building energy use in and near parks[3]. In addition to the direct effect of how plants can reduce pollution,helping the community build its own park helps residents gain the confidence to address long-standing environmental challenges[4].\n",
    "\n",
    "My study then will collect and analyze data to examine whether those parks in San Diego with high popularities tend to have better air qualities as well, focusing on the relationship between the yelp ratings of those parks and their PM2.5 percentiles.  \n",
    "\n",
    "References (include links):\n",
    "\n",
    "- 1)https://www.sandiego.gov/park-and-recreation/parks\n",
    "\n",
    "\n",
    "- 2)https://www.nbcnews.com/health/health-news/living-near-green-spaces-helps-you-live-longer-new-study-n556621\n",
    "\n",
    "\n",
    "- 3)https://www.nrpa.org/globalassets/research/nowak-heisler-summary.pdf\n",
    "\n",
    "\n",
    "- 4)https://inewsource.org/2017/04/10/san-diego-life-expectancy/"
   ]
  },
  {
   "cell_type": "markdown",
   "metadata": {},
   "source": [
    "# Hypothesis\n"
   ]
  },
  {
   "cell_type": "markdown",
   "metadata": {},
   "source": [
    "I hypothesize that there is a strong positive relation in San Diego between the parks with high yelp ratings and their air qualities around that region. In other words, the higher rating a park is, the less PM2.5 percentile the air would contain."
   ]
  },
  {
   "cell_type": "markdown",
   "metadata": {},
   "source": [
    "# Dataset(s)"
   ]
  },
  {
   "cell_type": "markdown",
   "metadata": {},
   "source": [
    "*Fill in your dataset information here*\n",
    "\n",
    "(Copy this information for each dataset)\n",
    "- Dataset Name: Yelp\n",
    "- Link to the dataset: https://github.com/COGS108/individual_fa20/blob/master/data/yelp_SD_parks.csv\n",
    "- Number of observations: 833\n",
    "\n",
    "This dataset provide yelp ratings, addresses, names, and other general information about parks in San Diego.\n",
    "\n",
    "- Dataset Name: California Environmental Health Screening Data\n",
    "- Link to the dataset: https://data.ca.gov/dataset/calenviroscreen-2-0/resource/6d6a9a5c-9221-4fc5-9b00-35015ae65837\n",
    "- Number of observations: 8035\n",
    "\n",
    "This dataset provide a lot of data about air qualities, water qualites, and citizens' conditions within California.\n",
    "\n",
    "I'm going to merge those two datasets based on their shared zip codes, matching the ratings with the PM2.5 percentiles information come from the same locations, to measure the relation between park ratings and PM2.5 percentiles."
   ]
  },
  {
   "cell_type": "markdown",
   "metadata": {},
   "source": [
    "# Setup"
   ]
  },
  {
   "cell_type": "code",
   "execution_count": 1,
   "metadata": {},
   "outputs": [],
   "source": [
    "## YOUR CODE HERE\n",
    "import numpy as np\n",
    "import pandas as pd\n",
    "import matplotlib.pyplot as plt\n",
    "   \n",
    "import seaborn as sns\n",
    "sns.set()\n",
    "sns.set_context('talk')\n",
    "\n",
    "import warnings\n",
    "warnings.filterwarnings('ignore')\n",
    "\n",
    "import patsy\n",
    "import statsmodels.api as sm\n",
    "import scipy.stats as stats\n",
    "from scipy.stats import ttest_ind, chisquare, normaltest"
   ]
  },
  {
   "cell_type": "markdown",
   "metadata": {},
   "source": [
    "# Data Cleaning"
   ]
  },
  {
   "cell_type": "markdown",
   "metadata": {},
   "source": [
    "Before data visulization and analysis, I have to remove all unnecessary data and merge those two datasets into one. And, most importantly, I will make sure the data of PM2.5 percentile are correctly representing the air qualities in locations near San Diego's parks. To do this, I will determine it according to whether their zip codes are shared."
   ]
  },
  {
   "cell_type": "code",
   "execution_count": 2,
   "metadata": {},
   "outputs": [],
   "source": [
    "# Load datasets\n",
    "df_park = pd.read_csv('https://raw.githubusercontent.com/COGS108/individual_fa20/master/data/yelp_SD_parks.csv')\n",
    "df_enviro = pd.read_csv('https://raw.githubusercontent.com/COGS108/individual_fa20/master/data/calenviroscreen-final-report.csv')"
   ]
  },
  {
   "cell_type": "markdown",
   "metadata": {},
   "source": [
    "## Cutting down data\n",
    "\n"
   ]
  },
  {
   "cell_type": "markdown",
   "metadata": {},
   "source": [
    "Firstly, select environmental health data specified in San Diego only."
   ]
  },
  {
   "cell_type": "code",
   "execution_count": 3,
   "metadata": {
    "scrolled": true
   },
   "outputs": [],
   "source": [
    "## YOUR CODE HERE\n",
    "## FEEL FREE TO ADD MULTIPLE CELLS PER SECTION\n",
    "df_enviro = df_enviro[df_enviro['California County']=='San Diego']"
   ]
  },
  {
   "cell_type": "markdown",
   "metadata": {},
   "source": [
    "Then, drop all unnecessaries data in both df_enviro and df_park."
   ]
  },
  {
   "cell_type": "code",
   "execution_count": 4,
   "metadata": {},
   "outputs": [
    {
     "data": {
      "text/html": [
       "<div>\n",
       "<style scoped>\n",
       "    .dataframe tbody tr th:only-of-type {\n",
       "        vertical-align: middle;\n",
       "    }\n",
       "\n",
       "    .dataframe tbody tr th {\n",
       "        vertical-align: top;\n",
       "    }\n",
       "\n",
       "    .dataframe thead th {\n",
       "        text-align: right;\n",
       "    }\n",
       "</style>\n",
       "<table border=\"1\" class=\"dataframe\">\n",
       "  <thead>\n",
       "    <tr style=\"text-align: right;\">\n",
       "      <th></th>\n",
       "      <th>California County</th>\n",
       "      <th>PM2.5</th>\n",
       "      <th>PM2.5 Pctl</th>\n",
       "      <th>Location 1</th>\n",
       "    </tr>\n",
       "  </thead>\n",
       "  <tbody>\n",
       "    <tr>\n",
       "      <th>165</th>\n",
       "      <td>San Diego</td>\n",
       "      <td>10.404164</td>\n",
       "      <td>53.69</td>\n",
       "      <td>San Diego 92113\\n(32.694850199999998, -117.141...</td>\n",
       "    </tr>\n",
       "    <tr>\n",
       "      <th>299</th>\n",
       "      <td>San Diego</td>\n",
       "      <td>10.460384</td>\n",
       "      <td>54.46</td>\n",
       "      <td>San Diego 92113\\n(32.690986199999998, -117.116...</td>\n",
       "    </tr>\n",
       "    <tr>\n",
       "      <th>370</th>\n",
       "      <td>San Diego</td>\n",
       "      <td>10.430966</td>\n",
       "      <td>54.04</td>\n",
       "      <td>San Diego 92113\\n(32.701852600000002, -117.138...</td>\n",
       "    </tr>\n",
       "    <tr>\n",
       "      <th>466</th>\n",
       "      <td>San Diego</td>\n",
       "      <td>10.449528</td>\n",
       "      <td>54.23</td>\n",
       "      <td>San Diego 92113\\n(32.696748999999997, -117.126...</td>\n",
       "    </tr>\n",
       "    <tr>\n",
       "      <th>805</th>\n",
       "      <td>San Diego</td>\n",
       "      <td>10.469327</td>\n",
       "      <td>54.63</td>\n",
       "      <td>San Diego 92113\\n(32.703556800000001, -117.126...</td>\n",
       "    </tr>\n",
       "    <tr>\n",
       "      <th>...</th>\n",
       "      <td>...</td>\n",
       "      <td>...</td>\n",
       "      <td>...</td>\n",
       "      <td>...</td>\n",
       "    </tr>\n",
       "    <tr>\n",
       "      <th>7961</th>\n",
       "      <td>San Diego</td>\n",
       "      <td>10.144104</td>\n",
       "      <td>50.77</td>\n",
       "      <td>San Diego 92109\\n(32.804769200000003, -117.254...</td>\n",
       "    </tr>\n",
       "    <tr>\n",
       "      <th>8020</th>\n",
       "      <td>San Diego</td>\n",
       "      <td>10.462676</td>\n",
       "      <td>54.51</td>\n",
       "      <td>San Diego 92134\\n(32.724121500000003, -117.146...</td>\n",
       "    </tr>\n",
       "    <tr>\n",
       "      <th>8021</th>\n",
       "      <td>San Diego</td>\n",
       "      <td>10.330472</td>\n",
       "      <td>52.91</td>\n",
       "      <td>San Diego 92101\\n(32.731728599999997, -117.190...</td>\n",
       "    </tr>\n",
       "    <tr>\n",
       "      <th>8022</th>\n",
       "      <td>San Diego</td>\n",
       "      <td>10.310135</td>\n",
       "      <td>52.61</td>\n",
       "      <td>San Diego 92140\\n(32.737718600000001, -117.197...</td>\n",
       "    </tr>\n",
       "    <tr>\n",
       "      <th>8023</th>\n",
       "      <td>San Diego</td>\n",
       "      <td>10.259275</td>\n",
       "      <td>52.01</td>\n",
       "      <td>Coronado 92118\\n(32.712243899999997, -117.1887...</td>\n",
       "    </tr>\n",
       "  </tbody>\n",
       "</table>\n",
       "<p>627 rows × 4 columns</p>\n",
       "</div>"
      ],
      "text/plain": [
       "     California County      PM2.5  PM2.5 Pctl  \\\n",
       "165          San Diego  10.404164       53.69   \n",
       "299          San Diego  10.460384       54.46   \n",
       "370          San Diego  10.430966       54.04   \n",
       "466          San Diego  10.449528       54.23   \n",
       "805          San Diego  10.469327       54.63   \n",
       "...                ...        ...         ...   \n",
       "7961         San Diego  10.144104       50.77   \n",
       "8020         San Diego  10.462676       54.51   \n",
       "8021         San Diego  10.330472       52.91   \n",
       "8022         San Diego  10.310135       52.61   \n",
       "8023         San Diego  10.259275       52.01   \n",
       "\n",
       "                                             Location 1  \n",
       "165   San Diego 92113\\n(32.694850199999998, -117.141...  \n",
       "299   San Diego 92113\\n(32.690986199999998, -117.116...  \n",
       "370   San Diego 92113\\n(32.701852600000002, -117.138...  \n",
       "466   San Diego 92113\\n(32.696748999999997, -117.126...  \n",
       "805   San Diego 92113\\n(32.703556800000001, -117.126...  \n",
       "...                                                 ...  \n",
       "7961  San Diego 92109\\n(32.804769200000003, -117.254...  \n",
       "8020  San Diego 92134\\n(32.724121500000003, -117.146...  \n",
       "8021  San Diego 92101\\n(32.731728599999997, -117.190...  \n",
       "8022  San Diego 92140\\n(32.737718600000001, -117.197...  \n",
       "8023  Coronado 92118\\n(32.712243899999997, -117.1887...  \n",
       "\n",
       "[627 rows x 4 columns]"
      ]
     },
     "execution_count": 4,
     "metadata": {},
     "output_type": "execute_result"
    }
   ],
   "source": [
    "# Drop unnecessary columns from df_enviro\n",
    "df_enviro = df_enviro.loc[:,['California County','PM2.5','PM2.5 Pctl','Location 1']]\n",
    "\n",
    "df_enviro"
   ]
  },
  {
   "cell_type": "code",
   "execution_count": 5,
   "metadata": {},
   "outputs": [
    {
     "data": {
      "text/html": [
       "<div>\n",
       "<style scoped>\n",
       "    .dataframe tbody tr th:only-of-type {\n",
       "        vertical-align: middle;\n",
       "    }\n",
       "\n",
       "    .dataframe tbody tr th {\n",
       "        vertical-align: top;\n",
       "    }\n",
       "\n",
       "    .dataframe thead th {\n",
       "        text-align: right;\n",
       "    }\n",
       "</style>\n",
       "<table border=\"1\" class=\"dataframe\">\n",
       "  <thead>\n",
       "    <tr style=\"text-align: right;\">\n",
       "      <th></th>\n",
       "      <th>name</th>\n",
       "      <th>ZIP</th>\n",
       "      <th>rating</th>\n",
       "      <th>longitude</th>\n",
       "      <th>latitude</th>\n",
       "    </tr>\n",
       "  </thead>\n",
       "  <tbody>\n",
       "    <tr>\n",
       "      <th>0</th>\n",
       "      <td>Balboa Park</td>\n",
       "      <td>92101</td>\n",
       "      <td>5.0</td>\n",
       "      <td>-117.153150</td>\n",
       "      <td>32.734502</td>\n",
       "    </tr>\n",
       "    <tr>\n",
       "      <th>1</th>\n",
       "      <td>Civita Park</td>\n",
       "      <td>92108</td>\n",
       "      <td>4.5</td>\n",
       "      <td>-117.147278</td>\n",
       "      <td>32.778315</td>\n",
       "    </tr>\n",
       "    <tr>\n",
       "      <th>2</th>\n",
       "      <td>Waterfront Park</td>\n",
       "      <td>92101</td>\n",
       "      <td>4.5</td>\n",
       "      <td>-117.172479</td>\n",
       "      <td>32.721952</td>\n",
       "    </tr>\n",
       "    <tr>\n",
       "      <th>3</th>\n",
       "      <td>Trolley Barn Park</td>\n",
       "      <td>92116</td>\n",
       "      <td>4.5</td>\n",
       "      <td>-117.143789</td>\n",
       "      <td>32.762463</td>\n",
       "    </tr>\n",
       "    <tr>\n",
       "      <th>4</th>\n",
       "      <td>Bay View Park</td>\n",
       "      <td>92118</td>\n",
       "      <td>5.0</td>\n",
       "      <td>-117.178967</td>\n",
       "      <td>32.701785</td>\n",
       "    </tr>\n",
       "    <tr>\n",
       "      <th>...</th>\n",
       "      <td>...</td>\n",
       "      <td>...</td>\n",
       "      <td>...</td>\n",
       "      <td>...</td>\n",
       "      <td>...</td>\n",
       "    </tr>\n",
       "    <tr>\n",
       "      <th>828</th>\n",
       "      <td>Del Cerro - San Diego</td>\n",
       "      <td>92120</td>\n",
       "      <td>4.5</td>\n",
       "      <td>-117.073524</td>\n",
       "      <td>32.792626</td>\n",
       "    </tr>\n",
       "    <tr>\n",
       "      <th>829</th>\n",
       "      <td>San Diego Metropolitan Transit System</td>\n",
       "      <td>92101</td>\n",
       "      <td>2.5</td>\n",
       "      <td>-117.153400</td>\n",
       "      <td>32.705760</td>\n",
       "    </tr>\n",
       "    <tr>\n",
       "      <th>830</th>\n",
       "      <td>Petco Park</td>\n",
       "      <td>92101</td>\n",
       "      <td>4.0</td>\n",
       "      <td>-117.157054</td>\n",
       "      <td>32.707246</td>\n",
       "    </tr>\n",
       "    <tr>\n",
       "      <th>831</th>\n",
       "      <td>Ann D. L'Heureux Memorial Dog Park</td>\n",
       "      <td>92008</td>\n",
       "      <td>3.0</td>\n",
       "      <td>-117.316419</td>\n",
       "      <td>33.171137</td>\n",
       "    </tr>\n",
       "    <tr>\n",
       "      <th>832</th>\n",
       "      <td>Fairbrook Farm</td>\n",
       "      <td>92028</td>\n",
       "      <td>5.0</td>\n",
       "      <td>-117.227747</td>\n",
       "      <td>33.302164</td>\n",
       "    </tr>\n",
       "  </tbody>\n",
       "</table>\n",
       "<p>833 rows × 5 columns</p>\n",
       "</div>"
      ],
      "text/plain": [
       "                                      name    ZIP  rating   longitude  \\\n",
       "0                              Balboa Park  92101     5.0 -117.153150   \n",
       "1                              Civita Park  92108     4.5 -117.147278   \n",
       "2                          Waterfront Park  92101     4.5 -117.172479   \n",
       "3                        Trolley Barn Park  92116     4.5 -117.143789   \n",
       "4                            Bay View Park  92118     5.0 -117.178967   \n",
       "..                                     ...    ...     ...         ...   \n",
       "828                  Del Cerro - San Diego  92120     4.5 -117.073524   \n",
       "829  San Diego Metropolitan Transit System  92101     2.5 -117.153400   \n",
       "830                             Petco Park  92101     4.0 -117.157054   \n",
       "831     Ann D. L'Heureux Memorial Dog Park  92008     3.0 -117.316419   \n",
       "832                         Fairbrook Farm  92028     5.0 -117.227747   \n",
       "\n",
       "      latitude  \n",
       "0    32.734502  \n",
       "1    32.778315  \n",
       "2    32.721952  \n",
       "3    32.762463  \n",
       "4    32.701785  \n",
       "..         ...  \n",
       "828  32.792626  \n",
       "829  32.705760  \n",
       "830  32.707246  \n",
       "831  33.171137  \n",
       "832  33.302164  \n",
       "\n",
       "[833 rows x 5 columns]"
      ]
     },
     "execution_count": 5,
     "metadata": {},
     "output_type": "execute_result"
    }
   ],
   "source": [
    "# Drop unnecessary columns from df_park\n",
    "df_park = df_park.loc[:,['name','address','rating','longitude','latitude']]\n",
    "\n",
    "# Remove information of address except the zip code\n",
    "df_park['address'] = df_park['address'].str[-5:]\n",
    "\n",
    "# Rename the column 'address' as 'ZIP'\n",
    "df_park = df_park.rename({'address':'ZIP'},axis='columns')\n",
    "\n",
    "df_park"
   ]
  },
  {
   "cell_type": "markdown",
   "metadata": {},
   "source": [
    "The next step is to clean up the df_enviro further. I'll separate the \"zip code\", \"longitude\", and \"latitude\" from column \"Location 1\" and assign each of them into 3 new columns"
   ]
  },
  {
   "cell_type": "code",
   "execution_count": 6,
   "metadata": {},
   "outputs": [
    {
     "data": {
      "text/html": [
       "<div>\n",
       "<style scoped>\n",
       "    .dataframe tbody tr th:only-of-type {\n",
       "        vertical-align: middle;\n",
       "    }\n",
       "\n",
       "    .dataframe tbody tr th {\n",
       "        vertical-align: top;\n",
       "    }\n",
       "\n",
       "    .dataframe thead th {\n",
       "        text-align: right;\n",
       "    }\n",
       "</style>\n",
       "<table border=\"1\" class=\"dataframe\">\n",
       "  <thead>\n",
       "    <tr style=\"text-align: right;\">\n",
       "      <th></th>\n",
       "      <th>California County</th>\n",
       "      <th>PM2.5</th>\n",
       "      <th>PM2.5 Pctl</th>\n",
       "      <th>ZIP</th>\n",
       "      <th>longitude</th>\n",
       "      <th>latitude</th>\n",
       "    </tr>\n",
       "  </thead>\n",
       "  <tbody>\n",
       "    <tr>\n",
       "      <th>165</th>\n",
       "      <td>San Diego</td>\n",
       "      <td>10.404164</td>\n",
       "      <td>53.69</td>\n",
       "      <td>92113</td>\n",
       "      <td>32.694850199999998</td>\n",
       "      <td>-117.1411746</td>\n",
       "    </tr>\n",
       "    <tr>\n",
       "      <th>299</th>\n",
       "      <td>San Diego</td>\n",
       "      <td>10.460384</td>\n",
       "      <td>54.46</td>\n",
       "      <td>92113</td>\n",
       "      <td>32.690986199999998</td>\n",
       "      <td>-117.1165151</td>\n",
       "    </tr>\n",
       "    <tr>\n",
       "      <th>370</th>\n",
       "      <td>San Diego</td>\n",
       "      <td>10.430966</td>\n",
       "      <td>54.04</td>\n",
       "      <td>92113</td>\n",
       "      <td>32.701852600000002</td>\n",
       "      <td>-117.138677</td>\n",
       "    </tr>\n",
       "    <tr>\n",
       "      <th>466</th>\n",
       "      <td>San Diego</td>\n",
       "      <td>10.449528</td>\n",
       "      <td>54.23</td>\n",
       "      <td>92113</td>\n",
       "      <td>32.696748999999997</td>\n",
       "      <td>-117.1263197</td>\n",
       "    </tr>\n",
       "    <tr>\n",
       "      <th>805</th>\n",
       "      <td>San Diego</td>\n",
       "      <td>10.469327</td>\n",
       "      <td>54.63</td>\n",
       "      <td>92113</td>\n",
       "      <td>32.703556800000001</td>\n",
       "      <td>-117.12673770000001</td>\n",
       "    </tr>\n",
       "  </tbody>\n",
       "</table>\n",
       "</div>"
      ],
      "text/plain": [
       "    California County      PM2.5  PM2.5 Pctl    ZIP           longitude  \\\n",
       "165         San Diego  10.404164       53.69  92113  32.694850199999998   \n",
       "299         San Diego  10.460384       54.46  92113  32.690986199999998   \n",
       "370         San Diego  10.430966       54.04  92113  32.701852600000002   \n",
       "466         San Diego  10.449528       54.23  92113  32.696748999999997   \n",
       "805         San Diego  10.469327       54.63  92113  32.703556800000001   \n",
       "\n",
       "                 latitude  \n",
       "165          -117.1411746  \n",
       "299          -117.1165151  \n",
       "370           -117.138677  \n",
       "466          -117.1263197  \n",
       "805   -117.12673770000001  "
      ]
     },
     "execution_count": 6,
     "metadata": {},
     "output_type": "execute_result"
    }
   ],
   "source": [
    "# Get the zip code from the 'Location 1' column\n",
    "df_enviro = df_enviro.assign(ZIP=df_enviro['Location 1'].str[10:15])\n",
    "\n",
    "# Get the longitude from the 'Location 1' column\n",
    "df_enviro = df_enviro.assign(longitude=df_enviro['Location 1'].str[17:35])\n",
    "\n",
    "# Get the latitude from the 'Location 1' column\n",
    "df_enviro = df_enviro.assign(latitude=df_enviro['Location 1'].str[36:-1])\n",
    "\n",
    "# Drop the original \"Location 1\" column\n",
    "df_enviro = df_enviro.drop(['Location 1'],axis=1)\n",
    "\n",
    "df_enviro.head()"
   ]
  },
  {
   "cell_type": "markdown",
   "metadata": {},
   "source": [
    "## Merging Dataframes"
   ]
  },
  {
   "cell_type": "markdown",
   "metadata": {},
   "source": [
    "Merge the two datasets above and name the new dataset as df. They will be merged together based on the zip code. The idea here is trying to match the ratings of parks and the PM2.5 percentiles where both of those data are shared in a similar location, indicated by the shared zip code."
   ]
  },
  {
   "cell_type": "code",
   "execution_count": 7,
   "metadata": {
    "scrolled": true
   },
   "outputs": [
    {
     "data": {
      "text/html": [
       "<div>\n",
       "<style scoped>\n",
       "    .dataframe tbody tr th:only-of-type {\n",
       "        vertical-align: middle;\n",
       "    }\n",
       "\n",
       "    .dataframe tbody tr th {\n",
       "        vertical-align: top;\n",
       "    }\n",
       "\n",
       "    .dataframe thead th {\n",
       "        text-align: right;\n",
       "    }\n",
       "</style>\n",
       "<table border=\"1\" class=\"dataframe\">\n",
       "  <thead>\n",
       "    <tr style=\"text-align: right;\">\n",
       "      <th></th>\n",
       "      <th>name</th>\n",
       "      <th>ZIP</th>\n",
       "      <th>rating</th>\n",
       "      <th>longitude_x</th>\n",
       "      <th>latitude_x</th>\n",
       "      <th>California County</th>\n",
       "      <th>PM2.5</th>\n",
       "      <th>PM2.5 Pctl</th>\n",
       "      <th>longitude_y</th>\n",
       "      <th>latitude_y</th>\n",
       "    </tr>\n",
       "  </thead>\n",
       "  <tbody>\n",
       "    <tr>\n",
       "      <th>0</th>\n",
       "      <td>Balboa Park</td>\n",
       "      <td>92101</td>\n",
       "      <td>5.0</td>\n",
       "      <td>-117.153150</td>\n",
       "      <td>32.734502</td>\n",
       "      <td>San Diego</td>\n",
       "      <td>10.414906</td>\n",
       "      <td>53.83</td>\n",
       "      <td>32.725281799999998</td>\n",
       "      <td>-117.1625607</td>\n",
       "    </tr>\n",
       "    <tr>\n",
       "      <th>1</th>\n",
       "      <td>Balboa Park</td>\n",
       "      <td>92101</td>\n",
       "      <td>5.0</td>\n",
       "      <td>-117.153150</td>\n",
       "      <td>32.734502</td>\n",
       "      <td>San Diego</td>\n",
       "      <td>10.425798</td>\n",
       "      <td>53.98</td>\n",
       "      <td>32.7155275, -117.1</td>\n",
       "      <td>21097</td>\n",
       "    </tr>\n",
       "    <tr>\n",
       "      <th>2</th>\n",
       "      <td>Balboa Park</td>\n",
       "      <td>92101</td>\n",
       "      <td>5.0</td>\n",
       "      <td>-117.153150</td>\n",
       "      <td>32.734502</td>\n",
       "      <td>San Diego</td>\n",
       "      <td>10.396018</td>\n",
       "      <td>53.56</td>\n",
       "      <td>32.7156831, -117.1</td>\n",
       "      <td>15102</td>\n",
       "    </tr>\n",
       "    <tr>\n",
       "      <th>3</th>\n",
       "      <td>Balboa Park</td>\n",
       "      <td>92101</td>\n",
       "      <td>5.0</td>\n",
       "      <td>-117.153150</td>\n",
       "      <td>32.734502</td>\n",
       "      <td>San Diego</td>\n",
       "      <td>10.475571</td>\n",
       "      <td>54.83</td>\n",
       "      <td>32.730388499999997</td>\n",
       "      <td>-117.14722380000001</td>\n",
       "    </tr>\n",
       "    <tr>\n",
       "      <th>4</th>\n",
       "      <td>Balboa Park</td>\n",
       "      <td>92101</td>\n",
       "      <td>5.0</td>\n",
       "      <td>-117.153150</td>\n",
       "      <td>32.734502</td>\n",
       "      <td>San Diego</td>\n",
       "      <td>10.386963</td>\n",
       "      <td>53.42</td>\n",
       "      <td>32.724902700000001</td>\n",
       "      <td>-117.1705898</td>\n",
       "    </tr>\n",
       "    <tr>\n",
       "      <th>...</th>\n",
       "      <td>...</td>\n",
       "      <td>...</td>\n",
       "      <td>...</td>\n",
       "      <td>...</td>\n",
       "      <td>...</td>\n",
       "      <td>...</td>\n",
       "      <td>...</td>\n",
       "      <td>...</td>\n",
       "      <td>...</td>\n",
       "      <td>...</td>\n",
       "    </tr>\n",
       "    <tr>\n",
       "      <th>5234</th>\n",
       "      <td>Fairbrook Farm</td>\n",
       "      <td>92028</td>\n",
       "      <td>5.0</td>\n",
       "      <td>-117.227747</td>\n",
       "      <td>33.302164</td>\n",
       "      <td>San Diego</td>\n",
       "      <td>7.128464</td>\n",
       "      <td>12.50</td>\n",
       "      <td>33.381264000000002</td>\n",
       "      <td>-117.2415252</td>\n",
       "    </tr>\n",
       "    <tr>\n",
       "      <th>5235</th>\n",
       "      <td>Fairbrook Farm</td>\n",
       "      <td>92028</td>\n",
       "      <td>5.0</td>\n",
       "      <td>-117.227747</td>\n",
       "      <td>33.302164</td>\n",
       "      <td>San Diego</td>\n",
       "      <td>7.075295</td>\n",
       "      <td>12.15</td>\n",
       "      <td>33.397139199999998</td>\n",
       "      <td>-117.2419463</td>\n",
       "    </tr>\n",
       "    <tr>\n",
       "      <th>5236</th>\n",
       "      <td>Fairbrook Farm</td>\n",
       "      <td>92028</td>\n",
       "      <td>5.0</td>\n",
       "      <td>-117.227747</td>\n",
       "      <td>33.302164</td>\n",
       "      <td>San Diego</td>\n",
       "      <td>7.130289</td>\n",
       "      <td>12.53</td>\n",
       "      <td>33.443077500000001</td>\n",
       "      <td>-117.3143417</td>\n",
       "    </tr>\n",
       "    <tr>\n",
       "      <th>5237</th>\n",
       "      <td>Fairbrook Farm</td>\n",
       "      <td>92028</td>\n",
       "      <td>5.0</td>\n",
       "      <td>-117.227747</td>\n",
       "      <td>33.302164</td>\n",
       "      <td>San Diego</td>\n",
       "      <td>7.364716</td>\n",
       "      <td>14.97</td>\n",
       "      <td>33.3337164, -117.1</td>\n",
       "      <td>98988</td>\n",
       "    </tr>\n",
       "    <tr>\n",
       "      <th>5238</th>\n",
       "      <td>Fairbrook Farm</td>\n",
       "      <td>92028</td>\n",
       "      <td>5.0</td>\n",
       "      <td>-117.227747</td>\n",
       "      <td>33.302164</td>\n",
       "      <td>San Diego</td>\n",
       "      <td>7.284019</td>\n",
       "      <td>13.87</td>\n",
       "      <td>33.3418007, -117.2</td>\n",
       "      <td>484329999999</td>\n",
       "    </tr>\n",
       "  </tbody>\n",
       "</table>\n",
       "<p>5239 rows × 10 columns</p>\n",
       "</div>"
      ],
      "text/plain": [
       "                name    ZIP  rating  longitude_x  latitude_x  \\\n",
       "0        Balboa Park  92101     5.0  -117.153150   32.734502   \n",
       "1        Balboa Park  92101     5.0  -117.153150   32.734502   \n",
       "2        Balboa Park  92101     5.0  -117.153150   32.734502   \n",
       "3        Balboa Park  92101     5.0  -117.153150   32.734502   \n",
       "4        Balboa Park  92101     5.0  -117.153150   32.734502   \n",
       "...              ...    ...     ...          ...         ...   \n",
       "5234  Fairbrook Farm  92028     5.0  -117.227747   33.302164   \n",
       "5235  Fairbrook Farm  92028     5.0  -117.227747   33.302164   \n",
       "5236  Fairbrook Farm  92028     5.0  -117.227747   33.302164   \n",
       "5237  Fairbrook Farm  92028     5.0  -117.227747   33.302164   \n",
       "5238  Fairbrook Farm  92028     5.0  -117.227747   33.302164   \n",
       "\n",
       "     California County      PM2.5  PM2.5 Pctl         longitude_y  \\\n",
       "0            San Diego  10.414906       53.83  32.725281799999998   \n",
       "1            San Diego  10.425798       53.98  32.7155275, -117.1   \n",
       "2            San Diego  10.396018       53.56  32.7156831, -117.1   \n",
       "3            San Diego  10.475571       54.83  32.730388499999997   \n",
       "4            San Diego  10.386963       53.42  32.724902700000001   \n",
       "...                ...        ...         ...                 ...   \n",
       "5234         San Diego   7.128464       12.50  33.381264000000002   \n",
       "5235         San Diego   7.075295       12.15  33.397139199999998   \n",
       "5236         San Diego   7.130289       12.53  33.443077500000001   \n",
       "5237         San Diego   7.364716       14.97  33.3337164, -117.1   \n",
       "5238         San Diego   7.284019       13.87  33.3418007, -117.2   \n",
       "\n",
       "                latitude_y  \n",
       "0             -117.1625607  \n",
       "1                    21097  \n",
       "2                    15102  \n",
       "3      -117.14722380000001  \n",
       "4             -117.1705898  \n",
       "...                    ...  \n",
       "5234          -117.2415252  \n",
       "5235          -117.2419463  \n",
       "5236          -117.3143417  \n",
       "5237                 98988  \n",
       "5238          484329999999  \n",
       "\n",
       "[5239 rows x 10 columns]"
      ]
     },
     "execution_count": 7,
     "metadata": {},
     "output_type": "execute_result"
    }
   ],
   "source": [
    "# Merge datasets on column 'ZIP'\n",
    "df = pd.merge(df_park, df_enviro, on='ZIP')\n",
    "\n",
    "df"
   ]
  },
  {
   "cell_type": "markdown",
   "metadata": {},
   "source": [
    "Although a few digits of longitude or latitude in rows are not matching the format to the others, our study is focusing on the relationship between the ratings and the PM2.5 percentiles. It won't interfere with our result."
   ]
  },
  {
   "cell_type": "markdown",
   "metadata": {},
   "source": [
    "Finally, make sure the data has no any missing values."
   ]
  },
  {
   "cell_type": "code",
   "execution_count": 8,
   "metadata": {},
   "outputs": [
    {
     "data": {
      "text/html": [
       "<div>\n",
       "<style scoped>\n",
       "    .dataframe tbody tr th:only-of-type {\n",
       "        vertical-align: middle;\n",
       "    }\n",
       "\n",
       "    .dataframe tbody tr th {\n",
       "        vertical-align: top;\n",
       "    }\n",
       "\n",
       "    .dataframe thead th {\n",
       "        text-align: right;\n",
       "    }\n",
       "</style>\n",
       "<table border=\"1\" class=\"dataframe\">\n",
       "  <thead>\n",
       "    <tr style=\"text-align: right;\">\n",
       "      <th></th>\n",
       "      <th>name</th>\n",
       "      <th>ZIP</th>\n",
       "      <th>rating</th>\n",
       "      <th>longitude_x</th>\n",
       "      <th>latitude_x</th>\n",
       "      <th>California County</th>\n",
       "      <th>PM2.5</th>\n",
       "      <th>PM2.5 Pctl</th>\n",
       "      <th>longitude_y</th>\n",
       "      <th>latitude_y</th>\n",
       "    </tr>\n",
       "  </thead>\n",
       "  <tbody>\n",
       "  </tbody>\n",
       "</table>\n",
       "</div>"
      ],
      "text/plain": [
       "Empty DataFrame\n",
       "Columns: [name, ZIP, rating, longitude_x, latitude_x, California County, PM2.5, PM2.5 Pctl, longitude_y, latitude_y]\n",
       "Index: []"
      ]
     },
     "execution_count": 8,
     "metadata": {},
     "output_type": "execute_result"
    }
   ],
   "source": [
    "# Check any missing values in my dataset\n",
    "missing_values = df[df.isnull().any(axis=1)]\n",
    "\n",
    "missing_values"
   ]
  },
  {
   "cell_type": "markdown",
   "metadata": {},
   "source": [
    "# Data Analysis & Results"
   ]
  },
  {
   "cell_type": "markdown",
   "metadata": {},
   "source": [
    "Include cells that describe the steps in your data analysis."
   ]
  },
  {
   "cell_type": "code",
   "execution_count": 9,
   "metadata": {
    "scrolled": true
   },
   "outputs": [
    {
     "data": {
      "text/html": [
       "<div>\n",
       "<style scoped>\n",
       "    .dataframe tbody tr th:only-of-type {\n",
       "        vertical-align: middle;\n",
       "    }\n",
       "\n",
       "    .dataframe tbody tr th {\n",
       "        vertical-align: top;\n",
       "    }\n",
       "\n",
       "    .dataframe thead th {\n",
       "        text-align: right;\n",
       "    }\n",
       "</style>\n",
       "<table border=\"1\" class=\"dataframe\">\n",
       "  <thead>\n",
       "    <tr style=\"text-align: right;\">\n",
       "      <th></th>\n",
       "      <th>rating</th>\n",
       "      <th>longitude_x</th>\n",
       "      <th>latitude_x</th>\n",
       "      <th>PM2.5</th>\n",
       "      <th>PM2.5 Pctl</th>\n",
       "    </tr>\n",
       "  </thead>\n",
       "  <tbody>\n",
       "    <tr>\n",
       "      <th>count</th>\n",
       "      <td>5239.000000</td>\n",
       "      <td>5239.000000</td>\n",
       "      <td>5239.000000</td>\n",
       "      <td>5239.000000</td>\n",
       "      <td>5239.000000</td>\n",
       "    </tr>\n",
       "    <tr>\n",
       "      <th>mean</th>\n",
       "      <td>4.028441</td>\n",
       "      <td>-117.155220</td>\n",
       "      <td>32.795335</td>\n",
       "      <td>10.339647</td>\n",
       "      <td>53.213369</td>\n",
       "    </tr>\n",
       "    <tr>\n",
       "      <th>std</th>\n",
       "      <td>0.794846</td>\n",
       "      <td>0.063858</td>\n",
       "      <td>0.115511</td>\n",
       "      <td>0.368547</td>\n",
       "      <td>4.344379</td>\n",
       "    </tr>\n",
       "    <tr>\n",
       "      <th>min</th>\n",
       "      <td>1.000000</td>\n",
       "      <td>-117.380973</td>\n",
       "      <td>32.545792</td>\n",
       "      <td>6.977767</td>\n",
       "      <td>11.330000</td>\n",
       "    </tr>\n",
       "    <tr>\n",
       "      <th>25%</th>\n",
       "      <td>3.500000</td>\n",
       "      <td>-117.197906</td>\n",
       "      <td>32.725540</td>\n",
       "      <td>10.234510</td>\n",
       "      <td>51.700000</td>\n",
       "    </tr>\n",
       "    <tr>\n",
       "      <th>50%</th>\n",
       "      <td>4.000000</td>\n",
       "      <td>-117.153400</td>\n",
       "      <td>32.761540</td>\n",
       "      <td>10.408483</td>\n",
       "      <td>53.750000</td>\n",
       "    </tr>\n",
       "    <tr>\n",
       "      <th>75%</th>\n",
       "      <td>4.500000</td>\n",
       "      <td>-117.118942</td>\n",
       "      <td>32.847289</td>\n",
       "      <td>10.530407</td>\n",
       "      <td>55.560000</td>\n",
       "    </tr>\n",
       "    <tr>\n",
       "      <th>max</th>\n",
       "      <td>5.000000</td>\n",
       "      <td>-116.886434</td>\n",
       "      <td>33.302164</td>\n",
       "      <td>10.865833</td>\n",
       "      <td>60.100000</td>\n",
       "    </tr>\n",
       "  </tbody>\n",
       "</table>\n",
       "</div>"
      ],
      "text/plain": [
       "            rating  longitude_x   latitude_x        PM2.5   PM2.5 Pctl\n",
       "count  5239.000000  5239.000000  5239.000000  5239.000000  5239.000000\n",
       "mean      4.028441  -117.155220    32.795335    10.339647    53.213369\n",
       "std       0.794846     0.063858     0.115511     0.368547     4.344379\n",
       "min       1.000000  -117.380973    32.545792     6.977767    11.330000\n",
       "25%       3.500000  -117.197906    32.725540    10.234510    51.700000\n",
       "50%       4.000000  -117.153400    32.761540    10.408483    53.750000\n",
       "75%       4.500000  -117.118942    32.847289    10.530407    55.560000\n",
       "max       5.000000  -116.886434    33.302164    10.865833    60.100000"
      ]
     },
     "execution_count": 9,
     "metadata": {},
     "output_type": "execute_result"
    }
   ],
   "source": [
    "## YOUR CODE HERE\n",
    "## FEEL FREE TO ADD MULTIPLE CELLS PER SECTION\n",
    "df.describe()"
   ]
  },
  {
   "cell_type": "code",
   "execution_count": 10,
   "metadata": {},
   "outputs": [
    {
     "data": {
      "text/plain": [
       "Text(0, 0.5, 'frequency')"
      ]
     },
     "execution_count": 10,
     "metadata": {},
     "output_type": "execute_result"
    },
    {
     "data": {
      "image/png": "[encoded data removed]",
      "text/plain": [
       "<Figure size 432x288 with 1 Axes>"
      ]
     },
     "metadata": {},
     "output_type": "display_data"
    }
   ],
   "source": [
    "ax = sns.distplot(df['rating'], kde=True)\n",
    "ax.set_title('Park Ratings Distribution')\n",
    "ax.set_ylabel('frequency')"
   ]
  },
  {
   "cell_type": "code",
   "execution_count": 11,
   "metadata": {},
   "outputs": [
    {
     "data": {
      "text/plain": [
       "Text(0, 0.5, 'frequency')"
      ]
     },
     "execution_count": 11,
     "metadata": {},
     "output_type": "execute_result"
    },
    {
     "data": {
      "image/png": "[encoded data removed]",
      "text/plain": [
       "<Figure size 432x288 with 1 Axes>"
      ]
     },
     "metadata": {},
     "output_type": "display_data"
    }
   ],
   "source": [
    "ax = sns.distplot(df['PM2.5 Pctl'], kde=True)\n",
    "ax.set_title('PM2.5 Percentile Distribution')\n",
    "ax.set_ylabel('frequency')"
   ]
  },
  {
   "cell_type": "code",
   "execution_count": 12,
   "metadata": {},
   "outputs": [
    {
     "data": {
      "text/plain": [
       "Text(0.5, 1.0, 'Relationship between Park Ratings and PM2.5 Pctl')"
      ]
     },
     "execution_count": 12,
     "metadata": {},
     "output_type": "execute_result"
    },
    {
     "data": {
      "image/png": "[encoded data removed]",
      "text/plain": [
       "<Figure size 432x288 with 1 Axes>"
      ]
     },
     "metadata": {},
     "output_type": "display_data"
    }
   ],
   "source": [
    "ax = sns.scatterplot(x='rating', y='PM2.5 Pctl', data=df)\n",
    "ax.set_title('Relationship between Park Ratings and PM2.5 Pctl')"
   ]
  },
  {
   "cell_type": "code",
   "execution_count": 13,
   "metadata": {},
   "outputs": [
    {
     "data": {
      "image/png": "[encoded data removed]",
      "text/plain": [
       "<Figure size 432x288 with 1 Axes>"
      ]
     },
     "metadata": {},
     "output_type": "display_data"
    }
   ],
   "source": [
    "sns.regplot(x=\"rating\", y=\"PM2.5 Pctl\", data=df)\n",
    "\n",
    "plt.xlabel('Park Ratings')\n",
    "plt.ylabel('PM2.5 Percentile')\n",
    "plt.title('Relationship between Park Rating and PM2.5 Percentile')\n",
    "\n",
    "f5 = plt.gcf()"
   ]
  },
  {
   "cell_type": "markdown",
   "metadata": {},
   "source": [
    "# Ethics & Privacy"
   ]
  },
  {
   "cell_type": "markdown",
   "metadata": {},
   "source": [
    "The data in this project are mostly provided for use, so it does not have ethical issues. All works I have done are followed by permissions. In this study, data all come from yelps and California Open Data Portal, which are open for public to access and use. Although the data contain a few information such as parks' addresses, zip codes, phone numbers, they are all public information that allow and hope people to know. So it doesn't involve in any ethical or privacy issues. \n",
    "\n",
    "In addition, the data and results might be biased because the study focuses on parks and air quality in San Diego only. The results can not be applied to cities throughout the U.S. or even other countries. However, people can consider the results as a reference for further studies."
   ]
  },
  {
   "cell_type": "markdown",
   "metadata": {},
   "source": [
    "# Conclusion & Discussion"
   ]
  },
  {
   "cell_type": "markdown",
   "metadata": {},
   "source": [
    "In this final project, I use data from yelp ratings and California environmental screening data, trying to figure out any relationship between parks' ratings and PM2.5 percentile around parks in San Diego. Based on the result I got above, it is obvious that there is a slightly negative relation between park ratings and PM2.5 percentile. In other words, the more rating a park gets, the less PM2.5 percentile in air the park has, meaning higher air quality or less air pollution. \n",
    "\n",
    "However, some issues also exist in my study. Firstly, my study mainly focuses on measuring PM2.5 percentile in air to examine whether the air quality is good or bad. However, air quality can also be calculated by the factor of ozone concentration, which I didn't include as a criteria in my study. What's more, the relationship between the park ratings and PM2.5 percentiles are not strong, infering that PM2.5 percentiles or even air qualities might not be fully considered as a factor when people did the park ratings."
   ]
  }
 ],
 "metadata": {
  "kernelspec": {
   "display_name": "Python 3",
   "language": "python",
   "name": "python3"
  },
  "language_info": {
   "codemirror_mode": {
    "name": "ipython",
    "version": 3
   },
   "file_extension": ".py",
   "mimetype": "text/x-python",
   "name": "python",
   "nbconvert_exporter": "python",
   "pygments_lexer": "ipython3",
   "version": "3.8.3"
  }
 },
 "nbformat": 4,
 "nbformat_minor": 2
}
