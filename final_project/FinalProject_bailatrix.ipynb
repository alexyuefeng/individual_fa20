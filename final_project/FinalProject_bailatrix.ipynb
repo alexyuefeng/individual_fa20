{
 "cells": [
  {
   "cell_type": "markdown",
   "metadata": {},
   "source": [
    "# COGS 108 - Final Project "
   ]
  },
  {
   "cell_type": "markdown",
   "metadata": {},
   "source": [
    "# Overview"
   ]
  },
  {
   "cell_type": "markdown",
   "metadata": {},
   "source": [
    "Yelp has become infamous among business owners for the open door it offers frustrated consumers who may not have had a representative experience at a facility. But are reviews really so reactive, or is there consistency between the content of a review and its rating? Are some ratings more reliable than others? It can be difficult to process blanket criticism from outsiders, but if Yelp review content had measured correlation with review rating (and therefore, ranking of the business on its site), it might provide guidance to anyone trying to use the reviews to improve the business (or park!). Unfortunately, the sentiment analysis conducted in this investigation did not demonstrate a strong statistical significance."
   ]
  },
  {
   "cell_type": "markdown",
   "metadata": {},
   "source": [
    "# Name & GitHub\n",
    "\n",
    "- Name: Bailey Passmore\n",
    "- GitHub Username: bailatrix"
   ]
  },
  {
   "cell_type": "markdown",
   "metadata": {},
   "source": [
    "# Research Question"
   ]
  },
  {
   "cell_type": "markdown",
   "metadata": {},
   "source": [
    "Is the content of a Yelp review an accurate predictor of the sentiment of its rating? Further, is the prediction quality equal for all 5 rating options, or do some ratings see more reliable predictions than others?"
   ]
  },
  {
   "cell_type": "markdown",
   "metadata": {},
   "source": [
    "## Background and Prior Work"
   ]
  },
  {
   "cell_type": "markdown",
   "metadata": {},
   "source": [
    "In past years, I worked for a contractor who was constantly battling his Yelp rating and simply could not figure out how to have a \"fair\" rating on the site. He tried getting new customers to write reviews, that worked sometimes but a lot of people didn't think it significant. He offered to help customers who didn't have a Yelp account to sign-up or even provide a monetary reward, but he was instructed his business could not involve itself in the review process like that.\n",
    "\n",
    "In fact, Yelp has a very particular set of rules[1] it expects businesses and organizations on its platform to follow to maintain good standing with consumers. Countless articles and blogs online offer suggests to improve Yelp ratings [2] and recover from bad reviews, but these results are slow to become fruitful and it begs the question, how strong is the link between review sentiment and review rating? If the caliber expected of a business owner could be expected from the consumer writing the review, the review data should contain reliable features to use in predictions.\n",
    "\n",
    "References (include links):\n",
    "- [1] https://www.reviewtrackers.com/blog/yelp-factsheet/\n",
    "- [2] https://www.wordstream.com/blog/ws/2013/07/22/yelp-reviews"
   ]
  },
  {
   "cell_type": "markdown",
   "metadata": {},
   "source": [
    "# Hypothesis"
   ]
  },
  {
   "cell_type": "markdown",
   "metadata": {},
   "source": [
    "Review content should be predictive of ratings, at least in the case of lower ratings seeing more accuracy. This could be expected because a more negative experience may standout more than a neutral or generally positive experience might, and this could inform greater detail of review."
   ]
  },
  {
   "cell_type": "markdown",
   "metadata": {},
   "source": [
    "# Dataset(s)"
   ]
  },
  {
   "cell_type": "markdown",
   "metadata": {},
   "source": [
    "- Dataset Name:    `yelp_SD_reviews.csv`\n",
    "- Number of observations:    2333\n",
    "- Link to the dataset:    https://github.com/COGS108/individual_fa20/blob/master/data/yelp_SD_reviews.csv\n",
    "- Dataset documentation:    https://github.com/COGS108/individual_fa20/blob/master/data/README.md#san-diego-parks-yelp-data\n",
    "\n",
    "This dataset makes up just over 2,000 Yelp reviews for parks in San Diego, CA, USA. The columns available are:\n",
    "* `id`:    Subject of the review (the park)\n",
    "* `rating`:    Rating of review (out of 5 stars)\n",
    "* `text`:    Text of review (raw)"
   ]
  },
  {
   "cell_type": "markdown",
   "metadata": {},
   "source": [
    "# Setup"
   ]
  },
  {
   "cell_type": "code",
   "execution_count": 1,
   "metadata": {},
   "outputs": [
    {
     "name": "stderr",
     "output_type": "stream",
     "text": [
      "[nltk_data] Downloading package punkt to /home/baileyp/nltk_data...\n",
      "[nltk_data]   Package punkt is already up-to-date!\n",
      "[nltk_data] Downloading package stopwords to\n",
      "[nltk_data]     /home/baileyp/nltk_data...\n",
      "[nltk_data]   Package stopwords is already up-to-date!\n"
     ]
    },
    {
     "data": {
      "text/plain": [
       "True"
      ]
     },
     "execution_count": 1,
     "metadata": {},
     "output_type": "execute_result"
    }
   ],
   "source": [
    "%matplotlib inline\n",
    "\n",
    "import numpy as np\n",
    "import pandas as pd\n",
    "import matplotlib.pyplot as plt\n",
    "\n",
    "import nltk\n",
    "from nltk.tokenize import word_tokenize\n",
    "from nltk.corpus import stopwords\n",
    "\n",
    "import warnings\n",
    "warnings.filterwarnings('ignore')\n",
    "\n",
    "from sklearn.svm import SVC\n",
    "from sklearn.feature_extraction.text import CountVectorizer, TfidfVectorizer\n",
    "from sklearn.metrics import classification_report, precision_recall_fscore_support\n",
    "\n",
    "nltk.download('punkt')\n",
    "nltk.download('stopwords')"
   ]
  },
  {
   "cell_type": "code",
   "execution_count": 15,
   "metadata": {},
   "outputs": [],
   "source": [
    "rev_src = '../data/yelp_SD_reviews.csv'"
   ]
  },
  {
   "cell_type": "markdown",
   "metadata": {},
   "source": [
    "# Data Cleaning"
   ]
  },
  {
   "cell_type": "markdown",
   "metadata": {},
   "source": [
    "This dataset shows a heavily redacted and anonymized version of the original sample set, so there is nothing more to reduce from the features of the data. In terms of cleanliness, it's still useful to check for null or empty values, but the dataset is in great shape for the tests applied in this investigation.\n",
    "\n",
    "The vectorizers needed for the next step of text analysis are also prepared in this section. "
   ]
  },
  {
   "cell_type": "code",
   "execution_count": 20,
   "metadata": {},
   "outputs": [
    {
     "data": {
      "text/plain": [
       "id        0\n",
       "rating    0\n",
       "text      0\n",
       "dtype: int64"
      ]
     },
     "execution_count": 20,
     "metadata": {},
     "output_type": "execute_result"
    }
   ],
   "source": [
    "rev_df = pd.read_csv( rev_src )\n",
    "rev_df.isnull().sum()"
   ]
  },
  {
   "cell_type": "code",
   "execution_count": 21,
   "metadata": {},
   "outputs": [
    {
     "data": {
      "text/plain": [
       "(2333, 3)"
      ]
     },
     "execution_count": 21,
     "metadata": {},
     "output_type": "execute_result"
    }
   ],
   "source": [
    "rev_df.shape"
   ]
  },
  {
   "cell_type": "code",
   "execution_count": 22,
   "metadata": {},
   "outputs": [
    {
     "data": {
      "text/html": [
       "<div>\n",
       "<style scoped>\n",
       "    .dataframe tbody tr th:only-of-type {\n",
       "        vertical-align: middle;\n",
       "    }\n",
       "\n",
       "    .dataframe tbody tr th {\n",
       "        vertical-align: top;\n",
       "    }\n",
       "\n",
       "    .dataframe thead th {\n",
       "        text-align: right;\n",
       "    }\n",
       "</style>\n",
       "<table border=\"1\" class=\"dataframe\">\n",
       "  <thead>\n",
       "    <tr style=\"text-align: right;\">\n",
       "      <th></th>\n",
       "      <th>id</th>\n",
       "      <th>rating</th>\n",
       "      <th>text</th>\n",
       "    </tr>\n",
       "  </thead>\n",
       "  <tbody>\n",
       "    <tr>\n",
       "      <th>0</th>\n",
       "      <td>Balboa Park</td>\n",
       "      <td>5</td>\n",
       "      <td>Balboa Park is a must see when coming to San D...</td>\n",
       "    </tr>\n",
       "    <tr>\n",
       "      <th>1</th>\n",
       "      <td>Balboa Park</td>\n",
       "      <td>5</td>\n",
       "      <td>Beautiful grounds even to take a stroll during...</td>\n",
       "    </tr>\n",
       "    <tr>\n",
       "      <th>2</th>\n",
       "      <td>Balboa Park</td>\n",
       "      <td>5</td>\n",
       "      <td>Beautiful sightseeing in San Diego. Lots of wa...</td>\n",
       "    </tr>\n",
       "    <tr>\n",
       "      <th>3</th>\n",
       "      <td>Civita Park</td>\n",
       "      <td>5</td>\n",
       "      <td>Was invited to child's B-Day party pre Covid-1...</td>\n",
       "    </tr>\n",
       "    <tr>\n",
       "      <th>4</th>\n",
       "      <td>Civita Park</td>\n",
       "      <td>5</td>\n",
       "      <td>Pretty nice park, beautiful design.  Anyone is...</td>\n",
       "    </tr>\n",
       "  </tbody>\n",
       "</table>\n",
       "</div>"
      ],
      "text/plain": [
       "            id  rating                                               text\n",
       "0  Balboa Park       5  Balboa Park is a must see when coming to San D...\n",
       "1  Balboa Park       5  Beautiful grounds even to take a stroll during...\n",
       "2  Balboa Park       5  Beautiful sightseeing in San Diego. Lots of wa...\n",
       "3  Civita Park       5  Was invited to child's B-Day party pre Covid-1...\n",
       "4  Civita Park       5  Pretty nice park, beautiful design.  Anyone is..."
      ]
     },
     "execution_count": 22,
     "metadata": {},
     "output_type": "execute_result"
    }
   ],
   "source": [
    "rev_df.head()"
   ]
  },
  {
   "cell_type": "code",
   "execution_count": 5,
   "metadata": {},
   "outputs": [],
   "source": [
    "# setup test and training sets according to 80/20 parameter\n",
    "num_training = int( 0.8 * len(rev_df) ) \n",
    "num_testing = int( 0.2 * len(rev_df) )\n",
    "\n",
    "# setup training function\n",
    "def train_SVM(X, y, kernel='linear'):\n",
    "    clf = SVC( kernel=kernel )\n",
    "    clf = clf.fit( X, y )\n",
    "    return clf"
   ]
  },
  {
   "cell_type": "code",
   "execution_count": 6,
   "metadata": {},
   "outputs": [],
   "source": [
    "# vectorizer for BoW\n",
    "vectorizer = CountVectorizer( analyzer = 'word',\n",
    "                              max_features = 2000,\n",
    "                              tokenizer = word_tokenize,\n",
    "                              stop_words = stopwords.words('english') )\n",
    "\n",
    "# vectorizer for tf-idf\n",
    "tfidf = TfidfVectorizer( sublinear_tf = True,\n",
    "                        analyzer = 'word',\n",
    "                        max_features = 2000, \n",
    "                        tokenizer = word_tokenize )"
   ]
  },
  {
   "cell_type": "markdown",
   "metadata": {},
   "source": [
    "# Data Analysis & Results"
   ]
  },
  {
   "cell_type": "code",
   "execution_count": 8,
   "metadata": {},
   "outputs": [
    {
     "data": {
      "image/png": "[encoded data removed]",
      "text/plain": [
       "<Figure size 1008x432 with 1 Axes>"
      ]
     },
     "metadata": {
      "needs_background": "light"
     },
     "output_type": "display_data"
    },
    {
     "data": {
      "text/plain": [
       "<Figure size 432x288 with 0 Axes>"
      ]
     },
     "metadata": {},
     "output_type": "display_data"
    }
   ],
   "source": [
    "# format data\n",
    "rating_count = rev_df.groupby(['rating'])['id'].count()\n",
    "plt.bar( [1, 2, 3, 4, 5], rating_count, color='lightblue', edgecolor='silver')\n",
    "\n",
    "# setup labels\n",
    "plt.xlabel('Rating', labelpad=5, fontweight='bold', fontsize='large')\n",
    "plt.ylabel('Count', labelpad=5, fontweight='bold', fontsize='large')\n",
    "plt.title('How many of each rating are in the dataset?', pad=10,\n",
    "          fontdict={'fontweight': 'bold', 'fontsize': 'x-large'})\n",
    "\n",
    "# visualization of data\n",
    "plt.gcf().set_size_inches(14, 6)\n",
    "plt.show()\n",
    "\n",
    "# Save figure as .png\n",
    "plt.savefig( \"./rating_freq.png\", bbox='tight')"
   ]
  },
  {
   "cell_type": "markdown",
   "metadata": {},
   "source": [
    "Given that 5-star ratings make up a majority of the data, the predictions from these reviews would hold the most practical significance, if any. We may be able to get reasonable inferences from 1-, 3-, and 4-star reviews from the sample size, but it would be much less likely to have any practical meaning."
   ]
  },
  {
   "cell_type": "markdown",
   "metadata": {},
   "source": [
    "Now, separately apply each of the vectorizers and print out the results from the Bag of Words (BoW) and Term Frequency - Inverse Document Frequency (Tf-Idf) classification on the train and test sets.\n",
    "\n",
    "BoW classification standardizes sentiment between the words of a sentence and their frequency within the sentence, whereas Tf-Idf considers the frequency of those same words against the whole body of reviews, potentially informing us as to whether reviews with more distinctive patterns predict rating differently than the standard BoW classifier does."
   ]
  },
  {
   "cell_type": "code",
   "execution_count": 9,
   "metadata": {},
   "outputs": [
    {
     "name": "stdout",
     "output_type": "stream",
     "text": [
      "Bag of Words (BoW) prediction:\n",
      "1) Train, 2) Test\n",
      "\n",
      "              precision    recall  f1-score   support\n",
      "\n",
      "           1       0.99      1.00      1.00       158\n",
      "           2       1.00      1.00      1.00        49\n",
      "           3       1.00      1.00      1.00       144\n",
      "           4       1.00      0.97      0.99       424\n",
      "           5       0.99      1.00      1.00      1091\n",
      "\n",
      "    accuracy                           0.99      1866\n",
      "   macro avg       1.00      0.99      1.00      1866\n",
      "weighted avg       0.99      0.99      0.99      1866\n",
      "\n",
      "              precision    recall  f1-score   support\n",
      "\n",
      "           1       0.29      0.28      0.29        43\n",
      "           2       0.08      0.05      0.06        22\n",
      "           3       0.14      0.12      0.13        42\n",
      "           4       0.20      0.18      0.19        87\n",
      "           5       0.67      0.73      0.70       273\n",
      "\n",
      "    accuracy                           0.50       467\n",
      "   macro avg       0.28      0.27      0.27       467\n",
      "weighted avg       0.47      0.50      0.49       467\n",
      "\n"
     ]
    }
   ],
   "source": [
    "# prepare respective X and Y data\n",
    "rev_X = vectorizer.fit_transform( rev_df[\"text\"] ).toarray()\n",
    "rev_y = rev_df[\"rating\"].values\n",
    "\n",
    "# collect subsets of X and Y data according to train/test parameters\n",
    "rev_train_X = rev_X[ : num_training ] \n",
    "rev_train_y = rev_y[  : num_training ]\n",
    "rev_test_X = rev_X[ num_training : ]\n",
    "rev_test_y = rev_y[ num_training : ]\n",
    "\n",
    "# setup classifier and predictions\n",
    "rev_clf = train_SVM( rev_train_X, rev_train_y )\n",
    "rev_predicted_train_y = rev_clf.predict( rev_train_X )\n",
    "rev_predicted_test_y = rev_clf.predict( rev_test_X )\n",
    "\n",
    "# display classifier reports - BoW\n",
    "print(\"Bag of Words (BoW) prediction:\\n1) Train, 2) Test\\n\")\n",
    "print(classification_report(rev_train_y, rev_predicted_train_y))\n",
    "print(classification_report(rev_test_y, rev_predicted_test_y))"
   ]
  },
  {
   "cell_type": "markdown",
   "metadata": {},
   "source": [
    "While the BoW classifier had a training accuracy of 99%, the test set was not accurate at all, dropping down to 50%."
   ]
  },
  {
   "cell_type": "code",
   "execution_count": 10,
   "metadata": {},
   "outputs": [
    {
     "name": "stdout",
     "output_type": "stream",
     "text": [
      "Term Frequency - Inverse Document Frequency (Tf-Idf) prediction:\n",
      "1) Train, 2) Test\n",
      "\n",
      "              precision    recall  f1-score   support\n",
      "\n",
      "           1       0.98      0.61      0.75       158\n",
      "           2       0.00      0.00      0.00        49\n",
      "           3       1.00      0.19      0.32       144\n",
      "           4       0.81      0.58      0.68       424\n",
      "           5       0.75      0.98      0.85      1091\n",
      "\n",
      "    accuracy                           0.77      1866\n",
      "   macro avg       0.71      0.47      0.52      1866\n",
      "weighted avg       0.78      0.77      0.74      1866\n",
      "\n",
      "              precision    recall  f1-score   support\n",
      "\n",
      "           1       0.50      0.09      0.16        43\n",
      "           2       0.00      0.00      0.00        22\n",
      "           3       0.00      0.00      0.00        42\n",
      "           4       0.30      0.10      0.15        87\n",
      "           5       0.61      0.95      0.74       273\n",
      "\n",
      "    accuracy                           0.58       467\n",
      "   macro avg       0.28      0.23      0.21       467\n",
      "weighted avg       0.46      0.58      0.48       467\n",
      "\n"
     ]
    }
   ],
   "source": [
    "# prepare X data as tfidf vector\n",
    "rev_tfidf_X = tfidf.fit_transform( rev_df['text'].values ).toarray()\n",
    "\n",
    "# collect subsets of X and Y data according to train/test parameters\n",
    "rev_train_tfidf_X = rev_tfidf_X[ : num_training ]\n",
    "rev_train_tfidf_y = rev_y[ : num_training ]\n",
    "rev_test_tfidf_X = rev_tfidf_X[ num_training : ]\n",
    "rev_test_tfidf_y = rev_y[ num_training : ]\n",
    "\n",
    "# setup classifier and predictions\n",
    "rev_tfidf_clf = train_SVM( rev_train_tfidf_X, rev_train_tfidf_y )\n",
    "rev_pred_train_tfidf_y = rev_tfidf_clf.predict( rev_train_tfidf_X )\n",
    "rev_pred_test_tfidf_y = rev_tfidf_clf.predict( rev_test_tfidf_X )\n",
    "\n",
    "# display classifier reports - TfIdf\n",
    "print(\"Term Frequency - Inverse Document Frequency (Tf-Idf) prediction:\\n1) Train, 2) Test\\n\")\n",
    "print(classification_report(rev_train_tfidf_y, rev_pred_train_tfidf_y))\n",
    "print(classification_report(rev_test_tfidf_y, rev_pred_test_tfidf_y))"
   ]
  },
  {
   "cell_type": "markdown",
   "metadata": {},
   "source": [
    "The tf-idf classifier had a lower training accuracy at 77%, but while the variance in training-to-test accuracy was lesser, so was the accuracy itself, coming down to 58% for test set."
   ]
  },
  {
   "cell_type": "markdown",
   "metadata": {},
   "source": [
    "# Ethics & Privacy"
   ]
  },
  {
   "cell_type": "markdown",
   "metadata": {},
   "source": [
    "Yelp reviews on its site include a consumer's name, Yelp standing, as well as their photo and potential other personal information. These categories of data were left out of the dataset used in this investigation because they are not relevant to potential analysis and therefore should be left anonymous. It's still possible that the text of a review contains personal information, but because we observe the data at this degree of anonymity and because the text data is processed by vectorizers and not human analysis, this is can be considered negligible.\n",
    "\n",
    "It terms of the ethics of conducting this investigation, it could be useful to the business owners and community organizers receiving (and occasionally battling) these Yelp ratings to know how reasonable the correlation between review content and review rating is in practice. On the other hand, demonstrating a lack of correlation between these could ultimately undermine the consumer's review and/or the Yelp rating system. "
   ]
  },
  {
   "cell_type": "markdown",
   "metadata": {},
   "source": [
    "# Conclusion & Discussion"
   ]
  },
  {
   "cell_type": "markdown",
   "metadata": {},
   "source": [
    "It does not appear that review content is a true predictor of a Yelp review's rating on its 5-star scale, or that any particular rating sees more accurate predictions than another. The 5-star rating in particular did see mid-high range performance in both train/test sets for both BoW and Tf-Idf, but it still did not meet the threshold for signficance. The hypothesis suggested lower ratings would be more accurate and this was not able to be addressed by the dataset or the analysis applied.\n",
    "\n",
    "This dataset was restricted by its original parameters in that it only included the Yelp reviews of parks in San Diego, which is not necessarily a large population or a common practice when visiting a park. The ratings were scattered and few for each park, although the dominant rating observed was the 5-star. Had there been anything statistically significant observed in this investigation, it would still need to be shown that this dataset could have practical significance outside of the realm of parks in San Diego."
   ]
  },
  {
   "cell_type": "code",
   "execution_count": null,
   "metadata": {},
   "outputs": [],
   "source": []
  }
 ],
 "metadata": {
  "kernelspec": {
   "display_name": "Python 3",
   "language": "python",
   "name": "python3"
  },
  "language_info": {
   "codemirror_mode": {
    "name": "ipython",
    "version": 3
   },
   "file_extension": ".py",
   "mimetype": "text/x-python",
   "name": "python",
   "nbconvert_exporter": "python",
   "pygments_lexer": "ipython3",
   "version": "3.6.8"
  }
 },
 "nbformat": 4,
 "nbformat_minor": 2
}
