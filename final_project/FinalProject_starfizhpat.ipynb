{
 "cells": [
  {
   "cell_type": "markdown",
   "metadata": {},
   "source": [
    "# COGS 108 - Final Project "
   ]
  },
  {
   "cell_type": "markdown",
   "metadata": {},
   "source": [
    "# Overview"
   ]
  },
  {
   "cell_type": "markdown",
   "metadata": {},
   "source": [
    "This project analyzes how San Diego County's Parks Master Plan effects the safety of residents of San Diego. Specifically, to see if the Crime Prevention Through Environmental Design\"(CPTED) policy in the Parks Master Plan improves the safety of the general public, this project anaylzes multiple years of the county's crime reports to see if this policy is improving public safety. From the analysis, it shows that crime rates have decreased overtime but when analyzing year to year, crime rates vary between increasing and decreasing. "
   ]
  },
  {
   "cell_type": "markdown",
   "metadata": {},
   "source": [
    "# Name & GitHub ID\n",
    "\n",
    "- Name: Patrick Liu\n",
    "- GitHub Username: starfizhpat"
   ]
  },
  {
   "cell_type": "markdown",
   "metadata": {},
   "source": [
    "# Research Question"
   ]
  },
  {
   "cell_type": "markdown",
   "metadata": {},
   "source": [
    "Has the \"Crime Prevention Through Environmental Design\"(CPTED) policy in the Parks Master Plan help decrease the crime rates in the county of San Diego?"
   ]
  },
  {
   "cell_type": "markdown",
   "metadata": {},
   "source": [
    "## Background and Prior Work"
   ]
  },
  {
   "cell_type": "markdown",
   "metadata": {},
   "source": [
    "To start, the first thing to understand is the County of San Diego's Park master plan. It takes into account the many parks and recreational areas in the county and determines what the best course of action is to maintain and improve its longevity. However, while doing this, the county must also take into account it's many county policies and ordinances and incorporate them into said plans. The main policy that this project will be focusing on is \"Crime Prevention Through Environmental Design\". This policy basically requires the design of the county's parks and recreational facilities to follow three principles: natural surveillance, natural access control,and territorial reinforcement[1]. Natural surveillance is the idea of \"minimizing ambush points and enabling the unobstructed observation of people with malevolent intent\"[5]. Natural access control is the idea of how to incorporate \"pathways, lighting and other means to direct traffic and define spaces for use\"[5]. Fianlly, territorial reinforcement is the idea of defining the seperation of private and public lands using barriers[5]. By practicing these three principles, the park's master plan should help make the county of San Diego a safer place.\n",
    "\n",
    "To measure the safeness we will basically need the log of reports from the San Diego Police Department(SDPD). How it works each report contains the location, time and type of incident. The location is represented by a \"beat\" which a unique three digit number that represents a neighborhood in the county. The time is just the typical 24 time and date representation. The type is represented by a priority and a disposition[4]. Priority is the urgency of the service and is the assigned by the dispatcher. This consists of five levels: E, 1, 2, 3, 4. E is the highest priority and means that there is an imminent threat to life. 1 is the next priority that involves serious crimes in progress and threats to life. 2 and 3 both involve complaints and minor crimes with no threat to life. 4 is the least serious of the priorities that involve minor requests for police services[3]. Disposition is the outcome of each service; this includes arrests made, reports taken, stolen/recovered vehicle, duplicate calls, and canceled calls[2].     \n",
    "\n",
    "References (include links):\n",
    "- 1) https://www.sdparks.org/content/dam/sdparks/en/pdf/Development/Parks%20Master%20Plan.pdf\n",
    "- 2) http://seshat.datasd.org/pd/pd_dispo_codes_datasd.csv\n",
    "- 3) http://seshat.datasd.org/pd/pd_cfs_priority_defs_datasd.pdf\n",
    "- 4) https://data.sandiego.gov/datasets/police-calls-for-service/\n",
    "- 5) https://www.buildings.com/articles/28187/implement-these-security-and-access-control-tips#:~:text=CPTED%20is%20a%20layered%20approach,notice%20anything%20out%20of%20place."
   ]
  },
  {
   "cell_type": "markdown",
   "metadata": {},
   "source": [
    "# Hypothesis\n"
   ]
  },
  {
   "cell_type": "markdown",
   "metadata": {},
   "source": [
    "I believe that the the CPTED policy will have reduced the crime rate in the San Diego County after each given year. Given the principles of the policy and the span of the datasets from 2015 to 2020,  find it plausible that there would have been enough time to see effects the policy has had on crime rates."
   ]
  },
  {
   "cell_type": "markdown",
   "metadata": {},
   "source": [
    "# Dataset(s)"
   ]
  },
  {
   "cell_type": "markdown",
   "metadata": {},
   "source": [
    "Dataset 1:\n",
    "- Dataset Name: Police Calls for Service 2015\n",
    "- Link to the dataset: https://data.sandiego.gov/datasets/police-calls-for-service/\n",
    "- Number of observations: 608434\n",
    "\n",
    "This data set provides all the services calls to the SDPD in 2015.\n",
    "\n",
    "Dataset 2:\n",
    "- Dataset Name: Police Calls for Service 2016\n",
    "- Link to the dataset: https://data.sandiego.gov/datasets/police-calls-for-service/\n",
    "- Number of observations: 586703\n",
    "\n",
    "This data set provides all the services calls to the SDPD in 2016.\n",
    "\n",
    "Dataset 3:\n",
    "- Dataset Name: Police Calls for Service 2017\n",
    "- Link to the dataset: https://data.sandiego.gov/datasets/police-calls-for-service/\n",
    "- Number of observations: 580577\n",
    "\n",
    "This data set provides all the services calls to the SDPD in 2017.\n",
    "\n",
    "Dataset 4:\n",
    "- Dataset Name: Police Calls for Service 2018\n",
    "- Link to the dataset: https://data.sandiego.gov/datasets/police-calls-for-service/\n",
    "- Number of observations: 570459\n",
    "\n",
    "This data set provides all the services calls to the SDPD in 2018.\n",
    "\n",
    "Dataset 5:\n",
    "- Dataset Name: Police Calls for Service 2019\n",
    "- Link to the dataset: https://data.sandiego.gov/datasets/police-calls-for-service/\n",
    "- Number of observations: 590967\n",
    "\n",
    "This data set provides all the services calls to the SDPD in 2019.\n",
    "\n",
    "Dataset 6:\n",
    "- Dataset Name: Police Calls for Service 2020\n",
    "- Link to the dataset: https://data.sandiego.gov/datasets/police-calls-for-service/\n",
    "- Number of observations: 539456\n",
    "\n",
    "This data set provides all the services calls to the SDPD in 2020.\n",
    "\n",
    "I plan to clean thes data sets to get reports based on higher dispositions, higher priority calls and valid beats and compare the differences between each set to see if there is a change. "
   ]
  },
  {
   "cell_type": "markdown",
   "metadata": {},
   "source": [
    "# Setup"
   ]
  },
  {
   "cell_type": "code",
   "execution_count": 1,
   "metadata": {},
   "outputs": [],
   "source": [
    "#imports\n",
    "%matplotlib inline\n",
    "\n",
    "import warnings\n",
    "warnings.filterwarnings('ignore')\n",
    "\n",
    "import numpy as np\n",
    "import pandas as pd\n",
    "import matplotlib.pyplot as plt\n",
    "import math as m\n",
    "   \n",
    "import seaborn as sns\n",
    "sns.set()\n",
    "sns.set_context('talk')"
   ]
  },
  {
   "cell_type": "code",
   "execution_count": 2,
   "metadata": {},
   "outputs": [],
   "source": [
    "#read data \n",
    "df_pd_2015 = pd.read_csv(\"pd_calls_for_service_2015_datasd_v1.csv\")\n",
    "df_pd_2016 = pd.read_csv(\"pd_calls_for_service_2016_datasd_v1.csv\")\n",
    "df_pd_2017 = pd.read_csv(\"pd_calls_for_service_2017_datasd_v1.csv\")\n",
    "df_pd_2018 = pd.read_csv(\"pd_calls_for_service_2018_datasd.csv\")\n",
    "df_pd_2019 = pd.read_csv(\"pd_calls_for_service_2019_datasd.csv\")\n",
    "df_pd_2020 = pd.read_csv(\"pd_calls_for_service_2020_datasd.csv\")"
   ]
  },
  {
   "cell_type": "markdown",
   "metadata": {},
   "source": [
    "# Data Cleaning"
   ]
  },
  {
   "cell_type": "code",
   "execution_count": 3,
   "metadata": {},
   "outputs": [],
   "source": [
    "#drop unnecessary columns \n",
    "df_pd_2020 = df_pd_2020.drop(columns=['incident_num', 'date_time', 'day_of_week', 'address_number_primary', \n",
    "                                      'address_dir_primary', 'address_road_primary', 'address_sfx_primary', \n",
    "                                      'address_dir_intersecting', 'address_sfx_intersecting', 'address_road_intersecting', \n",
    "                                      'call_type'])\n",
    "df_pd_2019 = df_pd_2019.drop(columns=['incident_num', 'date_time', 'day_of_week', 'address_number_primary', \n",
    "                                      'address_dir_primary', 'address_road_primary', 'address_sfx_primary', \n",
    "                                      'address_dir_intersecting', 'address_sfx_intersecting', 'address_road_intersecting', \n",
    "                                      'call_type'])\n",
    "df_pd_2018 = df_pd_2018.drop(columns=['incident_num', 'date_time', 'day_of_week', 'address_number_primary', \n",
    "                                      'address_dir_primary', 'address_road_primary', 'address_sfx_primary', \n",
    "                                      'address_dir_intersecting', 'address_sfx_intersecting', 'address_road_intersecting', \n",
    "                                      'call_type'])\n",
    "df_pd_2017 = df_pd_2017.drop(columns=['incident_num', 'date_time', 'day_of_week', 'address_number_primary', \n",
    "                                      'address_dir_primary', 'address_road_primary', 'address_sfx_primary', \n",
    "                                      'address_dir_intersecting', 'address_sfx_intersecting', 'address_road_intersecting', \n",
    "                                      'call_type'])\n",
    "df_pd_2016 = df_pd_2016.drop(columns=['incident_num', 'date_time', 'day_of_week', 'address_number_primary', \n",
    "                                      'address_dir_primary', 'address_road_primary', 'address_sfx_primary', \n",
    "                                      'address_dir_intersecting', 'address_sfx_intersecting', 'address_road_intersecting', \n",
    "                                      'call_type'])\n",
    "df_pd_2015 = df_pd_2015.drop(columns=['incident_num', 'date_time', 'day_of_week', 'address_number_primary', \n",
    "                                      'address_dir_primary', 'address_road_primary', 'address_sfx_primary', \n",
    "                                      'address_dir_intersecting', 'address_sfx_intersecting', 'address_road_intersecting', \n",
    "                                      'call_type'])"
   ]
  },
  {
   "cell_type": "code",
   "execution_count": 4,
   "metadata": {},
   "outputs": [],
   "source": [
    "#drop NaN values in the sets\n",
    "df_pd_2015 = df_pd_2015.dropna()\n",
    "df_pd_2016 = df_pd_2016.dropna()\n",
    "df_pd_2017 = df_pd_2017.dropna()\n",
    "df_pd_2018 = df_pd_2018.dropna()\n",
    "df_pd_2019 = df_pd_2019.dropna()\n",
    "df_pd_2020 = df_pd_2020.dropna()"
   ]
  },
  {
   "cell_type": "code",
   "execution_count": 5,
   "metadata": {},
   "outputs": [],
   "source": [
    "#cleans the priority column s.t. only int values were returned\n",
    "def clean_priority(x):\n",
    "    if type(x) is str:\n",
    "        if 'E' in x:\n",
    "            return 0\n",
    "        if 'P' in x:\n",
    "            x = x.strip('P')\n",
    "        if 'nan' in x:\n",
    "            return None\n",
    "    if x == None:\n",
    "        return None\n",
    "    if type(x) is float:\n",
    "        if m.isnan(x):\n",
    "            return None\n",
    "    \n",
    "    return int(x)\n",
    "\n",
    "#cleans the disposition column s.t. only valid dispositions were kept\n",
    "def clean_dis(x):\n",
    "    x = str(x)\n",
    "    if x == \"A\":\n",
    "        return x\n",
    "    if x == \"AB\":\n",
    "        return x\n",
    "    if x == \"AHR\":\n",
    "        return x\n",
    "    if x == \"R\":\n",
    "        return x\n",
    "    if x == \"RB\":\n",
    "        return x\n",
    "    if x == \"RHR\":\n",
    "        return x\n",
    "    if x == \"S\":\n",
    "        return x\n",
    "    if x == \"O\":\n",
    "        return x\n",
    "    if x == \"OHR\":\n",
    "        return x\n",
    "    if x == \"K\":\n",
    "        return x\n",
    "    if x == \"KB\":\n",
    "        return x\n",
    "    if x == \"KHR\":\n",
    "        return x\n",
    "    \n",
    "    return None\n",
    "\n",
    "# cleans the beat column s.t. int is returned\n",
    "def clean_beat(x):\n",
    "    if type(x) is float:\n",
    "        try:\n",
    "            return int(x)\n",
    "        except:\n",
    "            return None\n",
    "    if type(x) is str:\n",
    "        try:\n",
    "            return int(float(x))\n",
    "        except:\n",
    "            return None\n",
    "        \n",
    "    return int(x)\n",
    "\n",
    "# cleans the beat column s.t. only valid beat values are kept\n",
    "def find_beat(x):\n",
    "    if x >= 111 and x <= 116:\n",
    "        return x\n",
    "    if x >= 121 and x <= 124:\n",
    "        return x\n",
    "    if x == 126:\n",
    "        return x\n",
    "    \n",
    "    if x >= 231 and x <= 235:\n",
    "        return x \n",
    "    if x >= 241 and x <= 243:\n",
    "        return x \n",
    "    if x >= 245 and x <= 246:\n",
    "        return x\n",
    "    \n",
    "    if x >= 311 and x <= 316:\n",
    "        return x\n",
    "    if x >= 321 and x <= 327:\n",
    "        return x\n",
    "    \n",
    "    if x >= 431 and x <= 439:\n",
    "        return x\n",
    "    if x >= 441 and x <= 447:\n",
    "        return x\n",
    "    if x >= 451 and x <= 452:\n",
    "        return x\n",
    "    \n",
    "    if (x >= 511 and x <= 518) and (x != 513):\n",
    "        return x\n",
    "    if x >= 521 and x <= 529:\n",
    "        return x\n",
    "    if x == 531 or x == 541:\n",
    "        return x\n",
    "    \n",
    "    if x >= 611 and x <= 618:\n",
    "        return x\n",
    "    if x >= 621 and x <= 628:\n",
    "        return x\n",
    "    \n",
    "    if x >= 711 and x <= 714:\n",
    "        return x\n",
    "    if x >= 721 and x <= 725:\n",
    "        return x\n",
    "    \n",
    "    if x >= 811 and x <= 814:\n",
    "        return x\n",
    "    if x >= 821 and x <= 829:\n",
    "        return x\n",
    "    if (x >= 831 and x <= 839) or (x == 841):\n",
    "        return x\n",
    "    \n",
    "    if x >= 931 and x <= 937:\n",
    "        return x\n",
    "    \n",
    "    return None\n",
    "    "
   ]
  },
  {
   "cell_type": "code",
   "execution_count": 6,
   "metadata": {},
   "outputs": [],
   "source": [
    "# clean the disposition column and drop Nan rows\n",
    "\n",
    "df_pd_2020['disposition'] = df_pd_2020['disposition'].apply(clean_dis)\n",
    "df_pd_2019['disposition'] = df_pd_2019['disposition'].apply(clean_dis)\n",
    "df_pd_2018['disposition'] = df_pd_2018['disposition'].apply(clean_dis)\n",
    "df_pd_2017['disposition'] = df_pd_2017['disposition'].apply(clean_dis)\n",
    "df_pd_2016['disposition'] = df_pd_2016['disposition'].apply(clean_dis)\n",
    "df_pd_2015['disposition'] = df_pd_2015['disposition'].apply(clean_dis)\n",
    "\n",
    "df_pd_2015 = df_pd_2015.dropna(subset=['disposition'])\n",
    "df_pd_2016 = df_pd_2016.dropna(subset=['disposition'])\n",
    "df_pd_2017 = df_pd_2017.dropna(subset=['disposition'])\n",
    "df_pd_2018 = df_pd_2018.dropna(subset=['disposition'])\n",
    "df_pd_2019 = df_pd_2019.dropna(subset=['disposition'])\n",
    "df_pd_2020 = df_pd_2020.dropna(subset=['disposition'])"
   ]
  },
  {
   "cell_type": "code",
   "execution_count": 7,
   "metadata": {},
   "outputs": [],
   "source": [
    "# clean the priority column and drop Nan rows\n",
    "\n",
    "df_pd_2020['priority'] = df_pd_2020['priority'].apply(clean_priority)\n",
    "df_pd_2019['priority'] = df_pd_2019['priority'].apply(clean_priority)\n",
    "df_pd_2018['priority'] = df_pd_2018['priority'].apply(clean_priority)\n",
    "df_pd_2017['priority'] = df_pd_2017['priority'].apply(clean_priority)\n",
    "df_pd_2016['priority'] = df_pd_2016['priority'].apply(clean_priority)\n",
    "df_pd_2015['priority'] = df_pd_2015['priority'].apply(clean_priority)\n",
    "\n",
    "df_pd_2015 = df_pd_2015.dropna(subset=['priority'])\n",
    "df_pd_2016 = df_pd_2016.dropna(subset=['priority'])\n",
    "df_pd_2017 = df_pd_2017.dropna(subset=['priority'])\n",
    "df_pd_2018 = df_pd_2018.dropna(subset=['priority'])\n",
    "df_pd_2019 = df_pd_2019.dropna(subset=['priority'])\n",
    "df_pd_2020 = df_pd_2020.dropna(subset=['priority'])\n",
    "\n",
    "df_pd_2020 = df_pd_2020[df_pd_2020['priority'] < 4]\n",
    "df_pd_2019 = df_pd_2019[df_pd_2019['priority'] < 4]\n",
    "df_pd_2018 = df_pd_2018[df_pd_2018['priority'] < 4]\n",
    "df_pd_2017 = df_pd_2017[df_pd_2017['priority'] < 4]\n",
    "df_pd_2016 = df_pd_2016[df_pd_2016['priority'] < 4]\n",
    "df_pd_2015 = df_pd_2015[df_pd_2015['priority'] < 4]"
   ]
  },
  {
   "cell_type": "code",
   "execution_count": 8,
   "metadata": {},
   "outputs": [],
   "source": [
    "# clean the beat column, drops rows with invalid beats\n",
    "\n",
    "df_pd_2020['beat'] = df_pd_2020['beat'].apply(clean_beat)\n",
    "df_pd_2019['beat'] = df_pd_2019['beat'].apply(clean_beat)\n",
    "df_pd_2018['beat'] = df_pd_2018['beat'].apply(clean_beat)\n",
    "df_pd_2017['beat'] = df_pd_2017['beat'].apply(clean_beat)\n",
    "df_pd_2016['beat'] = df_pd_2016['beat'].apply(clean_beat)\n",
    "df_pd_2015['beat'] = df_pd_2015['beat'].apply(clean_beat)\n",
    "\n",
    "df_pd_2015 = df_pd_2015.dropna(subset=['beat'])\n",
    "df_pd_2016 = df_pd_2016.dropna(subset=['beat'])\n",
    "df_pd_2017 = df_pd_2017.dropna(subset=['beat'])\n",
    "df_pd_2018 = df_pd_2018.dropna(subset=['beat'])\n",
    "df_pd_2019 = df_pd_2019.dropna(subset=['beat'])\n",
    "df_pd_2020 = df_pd_2020.dropna(subset=['beat'])\n",
    "\n",
    "df_pd_2020['beat'] = df_pd_2020['beat'].astype(int)\n",
    "df_pd_2019['beat'] = df_pd_2019['beat'].astype(int)\n",
    "df_pd_2018['beat'] = df_pd_2018['beat'].astype(int)\n",
    "df_pd_2017['beat'] = df_pd_2017['beat'].astype(int)\n",
    "df_pd_2016['beat'] = df_pd_2016['beat'].astype(int)\n",
    "df_pd_2015['beat'] = df_pd_2015['beat'].astype(int)\n",
    "\n",
    "df_pd_2020 = df_pd_2020[df_pd_2020['beat'] > 100]\n",
    "df_pd_2019 = df_pd_2019[df_pd_2019['beat'] > 100]\n",
    "df_pd_2018 = df_pd_2018[df_pd_2018['beat'] > 100]\n",
    "df_pd_2017 = df_pd_2017[df_pd_2017['beat'] > 100]\n",
    "df_pd_2016 = df_pd_2016[df_pd_2016['beat'] > 100]\n",
    "df_pd_2015 = df_pd_2015[df_pd_2015['beat'] > 100]\n",
    "\n",
    "df_pd_2020['beat'] = df_pd_2020['beat'].apply(find_beat)\n",
    "df_pd_2019['beat'] = df_pd_2019['beat'].apply(find_beat)\n",
    "df_pd_2018['beat'] = df_pd_2018['beat'].apply(find_beat)\n",
    "df_pd_2017['beat'] = df_pd_2017['beat'].apply(find_beat)\n",
    "df_pd_2016['beat'] = df_pd_2016['beat'].apply(find_beat)\n",
    "df_pd_2015['beat'] = df_pd_2015['beat'].apply(find_beat)\n",
    "\n",
    "df_pd_2015 = df_pd_2015.dropna(subset=['beat'])\n",
    "df_pd_2016 = df_pd_2016.dropna(subset=['beat'])\n",
    "df_pd_2017 = df_pd_2017.dropna(subset=['beat'])\n",
    "df_pd_2018 = df_pd_2018.dropna(subset=['beat'])\n",
    "df_pd_2019 = df_pd_2019.dropna(subset=['beat'])\n",
    "df_pd_2020 = df_pd_2020.dropna(subset=['beat'])\n",
    "\n",
    "df_pd_2020['beat'] = df_pd_2020['beat'].astype(int)\n",
    "df_pd_2019['beat'] = df_pd_2019['beat'].astype(int)\n",
    "df_pd_2018['beat'] = df_pd_2018['beat'].astype(int)\n",
    "df_pd_2017['beat'] = df_pd_2017['beat'].astype(int)\n",
    "df_pd_2016['beat'] = df_pd_2016['beat'].astype(int)\n",
    "df_pd_2015['beat'] = df_pd_2015['beat'].astype(int)"
   ]
  },
  {
   "cell_type": "markdown",
   "metadata": {},
   "source": [
    "# Data Analysis & Results"
   ]
  },
  {
   "cell_type": "code",
   "execution_count": 9,
   "metadata": {},
   "outputs": [],
   "source": [
    "# claculate the amount of services calls per year\n",
    "pd_num_of_calls_2015 = len(df_pd_2015)\n",
    "pd_num_of_calls_2016 = len(df_pd_2016)\n",
    "pd_num_of_calls_2017 = len(df_pd_2017)\n",
    "pd_num_of_calls_2018 = len(df_pd_2018)\n",
    "pd_num_of_calls_2019 = len(df_pd_2019)\n",
    "pd_num_of_calls_2020 = len(df_pd_2020)\n",
    "\n",
    "# store these values with their respective year in new dataframe\n",
    "d = {'year': [2015, 2016, 2017, 2018, 2019, 2020], \n",
    "    'amount': [pd_num_of_calls_2015, pd_num_of_calls_2016, \n",
    "                pd_num_of_calls_2017, pd_num_of_calls_2018, \n",
    "                pd_num_of_calls_2019, pd_num_of_calls_2020]}\n",
    "pd_num_calls_total = pd.DataFrame(data=d)"
   ]
  },
  {
   "cell_type": "code",
   "execution_count": 18,
   "metadata": {},
   "outputs": [
    {
     "data": {
      "text/plain": [
       "Text(0.5, 0, 'Years')"
      ]
     },
     "execution_count": 18,
     "metadata": {},
     "output_type": "execute_result"
    },
    {
     "data": {
      "image/png": "[encoded data removed]",
      "text/plain": [
       "<Figure size 432x288 with 1 Axes>"
      ]
     },
     "metadata": {},
     "output_type": "display_data"
    }
   ],
   "source": [
    "# plot the new dataframe to see changes\n",
    "\n",
    "ax = pd_num_calls_total.plot( x='year', y='amount', rot=0, title = 'Service Calls Per Years')\n",
    "ax.set_ylim((350000, 450000))\n",
    "ax.set_ylabel(\"Number of Calls\")\n",
    "ax.set_xlabel(\"Years\")"
   ]
  },
  {
   "cell_type": "code",
   "execution_count": 11,
   "metadata": {},
   "outputs": [],
   "source": [
    "# claculate the changes in amount of services calls between consecutive years\n",
    "\n",
    "num_15_16 = pd_num_of_calls_2016 - pd_num_of_calls_2015\n",
    "num_16_17 = pd_num_of_calls_2017 - pd_num_of_calls_2016\n",
    "num_17_18 = pd_num_of_calls_2018 - pd_num_of_calls_2017\n",
    "num_18_19 = pd_num_of_calls_2019 - pd_num_of_calls_2018\n",
    "num_19_20 = pd_num_of_calls_2020 - pd_num_of_calls_2019\n",
    "\n",
    "# store these values with their respective year in new dataframe\n",
    "c = {'year': [\"15'-16'\", \"16'-17'\", \"17'-18'\", \"18'-19'\", \"19'-20'\"], \n",
    "    'amount': [num_15_16, num_16_17, num_17_18, num_18_19, num_19_20]}\n",
    "\n",
    "pd_num_calls_change = pd.DataFrame(data=c)"
   ]
  },
  {
   "cell_type": "code",
   "execution_count": 16,
   "metadata": {},
   "outputs": [
    {
     "data": {
      "text/plain": [
       "Text(0.5, 0, 'Years')"
      ]
     },
     "execution_count": 16,
     "metadata": {},
     "output_type": "execute_result"
    },
    {
     "data": {
      "image/png": "[encoded data removed]",
      "text/plain": [
       "<Figure size 432x288 with 1 Axes>"
      ]
     },
     "metadata": {},
     "output_type": "display_data"
    }
   ],
   "source": [
    "# plot the new dataframe to see changes\n",
    "\n",
    "ax1 = pd_num_calls_change.plot( kind = 'bar', x='year', y='amount', rot=0, title = 'Change Of Service Calls Between Years')\n",
    "ax1.set_ylim((-35000, 35000))\n",
    "ax1.set_ylabel(\"Amount Of Change\")\n",
    "ax1.set_xlabel(\"Years\")"
   ]
  },
  {
   "cell_type": "markdown",
   "metadata": {},
   "source": [
    "# Ethics & Privacy"
   ]
  },
  {
   "cell_type": "markdown",
   "metadata": {},
   "source": [
    "For privacy, the two main things that I to be careful with were the specific addresses and the report id number. Since each report contained a unique report id value, it was important to remove this id since it can violate privacy by identifying specific people involved in a indicent. It was also crucial to remove any specific address values from the reports since those can also be used to obtain the unique report id and private information of individual people. Although I left the beats in the set, they represent vast areas like neighborhoods, so there isn't a privacy issue there.   \n",
    "\n",
    "As for ethics, this analysis was conducted specifically on the County of San Diego; every dataset reflected the county in some aspect. By analyzing the county of San Diego as a whole, there shouldn't be any bais with the results since no individual neighborhood is being compared to another neighborhood. Another bias that might concern people is that the results of this analysis was based off of only a collection of service calls. However, this shouldn't be a bais at all because these calls refect the needs and safety of the general public.    "
   ]
  },
  {
   "cell_type": "markdown",
   "metadata": {},
   "source": [
    "# Conclusion & Discussion"
   ]
  },
  {
   "cell_type": "markdown",
   "metadata": {},
   "source": [
    "Based on this analysis, I can confirm that the CPTED policy does not help decrease the crime rates in the county of San Diego after each year, proving my hypothesis wrong. Although overall the crime rate of 2020 is lower than that of 2015, my hypothesis stated that the crime rate of each year would be lower than the previous. \n",
    "\n",
    "The one issue that I encountered was that some of the data didn't match any values in the keys for disposition, priority, and beat. To fix this, I cleaned up the data s.t. only values that were valid according to the keys provided were kept and used for futher analysis. Even after I cleaning, most information in the datasets were retained. \n",
    "\n",
    "For the priority cleaning, I only kept those that were priority 3 and lower (2, 1, E) since these are the priority's that affect the safety of the public. For disposition cleaning, I drop reports that wewre duplicates or canceled since I wouldn't want to count a report twice and it a call was canceled, that means that the issue was resolved posing no threat to the safety of the public. "
   ]
  }
 ],
 "metadata": {
  "kernelspec": {
   "display_name": "Python 3",
   "language": "python",
   "name": "python3"
  },
  "language_info": {
   "codemirror_mode": {
    "name": "ipython",
    "version": 3
   },
   "file_extension": ".py",
   "mimetype": "text/x-python",
   "name": "python",
   "nbconvert_exporter": "python",
   "pygments_lexer": "ipython3",
   "version": "3.7.6"
  }
 },
 "nbformat": 4,
 "nbformat_minor": 2
}
