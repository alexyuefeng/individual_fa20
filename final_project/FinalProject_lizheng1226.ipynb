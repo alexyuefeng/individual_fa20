{
 "cells": [
  {
   "cell_type": "markdown",
   "metadata": {},
   "source": [
    "# COGS 108 - Final Project "
   ]
  },
  {
   "cell_type": "markdown",
   "metadata": {},
   "source": [
    "# Overview"
   ]
  },
  {
   "cell_type": "markdown",
   "metadata": {},
   "source": [
    "In this project, I was trying the find the relationship between the total budget that was distributed to Parks & Recreation in San Diego and the number of police calls dispatched by the San Diego Police Department across five years to see if they are correlated with each other. I used San Diego police Department's records of Police Calls over the last five years to find the total calls each year and then I used San Diego Budget Dataset to focus only on the budget for the Parks & Recreation over these years and see if there is a realtionship between these two. Based on the analysis I had, I found that total budget for Parks & Recreation is really negatively correlated with the number of police calls in San Diego over recent five years. That means if the San Diego government have more budget on the Parks and Recreation then it would probably have lower crime reports in that year associated with it. But this derived result from the analysis still has some limitation as I would include them in the section of final Conclusion & Discussion."
   ]
  },
  {
   "cell_type": "markdown",
   "metadata": {},
   "source": [
    "# Name & GitHub ID\n",
    "\n",
    "- Name: Liuyang Zheng\n",
    "- GitHub Username: lizheng1226"
   ]
  },
  {
   "cell_type": "markdown",
   "metadata": {},
   "source": [
    "# Research Question"
   ]
  },
  {
   "cell_type": "markdown",
   "metadata": {},
   "source": [
    "Is there a relationship between the total budget that was distributed to Parks & Recreation in San Diego and the number of police calls dispatched by the San Diego Police Department over the years? If so, how can we learn from the result and adjust the budget for Parks & Recreation in San Diego to decrease the crime rates in San Diego?"
   ]
  },
  {
   "cell_type": "markdown",
   "metadata": {},
   "source": [
    "## Background and Prior Work"
   ]
  },
  {
   "cell_type": "markdown",
   "metadata": {},
   "source": [
    "As of January 2020, the Parks and Recreation Department of San Diego is responsible for the management of over 400+ parks as well as 57 recreation centers and the total annual visits to all of these city's park and recreation areas are approximately reported as 55 million. However, I can barely find any information about the relationship between the total budget that was distributed to Parks & Recreation in San Diego and the number of police calls dispatched by the San Diego Police Department over the years. But I do believe there should be a relationship between these two because most of the crimes are committed because the criminals are not satified with their current life, and more budget spent on Parks & Recreation may help to release some of their pressures and anxiety. Thus, it should be an important question that deserves attention, which could help the government to adjust the budget spending and improve people's wellbeing. Overall, it's still a problem that focus on the relationship between the government spending and crime rates, and I have found serveral reseaches that talk about this topic but not necessarily focus on the Parks & Recreation budget in the government spending.\n",
    "\n",
    "From the Journal of Law and Conflict Resolution(Reference 1), we can see that there are actually researchers proposed similar question to find the determinants of crimes in terms of government spending. And the paper divides the crime into multiple different categories and see that they are related with several economic variables in terms of government spending using the regression analysis. And the result shows that \"...unemployment, median income, and gross state product varied from crime category to crime category, and varied from one year to the other...and Government spending was found to be a significant determinant of crime rate but the effect was not consistent\"(Reference 1). Thus, this research shows that government spending do have some relationships with the crimes rate, which could help me to conclude whether the spending on Parks & Recreation could also be related with crime rate in my own research.\n",
    "\n",
    "However, a similar article that was presented on theconversation.com titled \"Can parks help cities fight crime?\" gave a rather different consulsion that \"The relationship between parks and crime remains the subject of debate\"(Reference 2). And in some places like Chicago and New York City, researchers found 52% fewer crimes reported near buildings surrounded by parks and they said maybe more green space could make nearby areas safer while other regions like Austin, Philadelphia, Phoenix and San Francisco, \"violent crime was 28% to 64% higher in neighborhoods adjacent to parks than in neighborhoods located a mile from the same parks\"(Reference 2). But one thing is for sure that \"individuals in high-crime areas are relatively less satisfied with life than those who live in lowcrime counties\"(Reference 3), which means people are generally not willing to live within a high crime rate area, and if the unique relationship between the budget on Parks & Recreation and police calls in San Diego is found, it could help the San Diego government to adjust the \n",
    "government spending on Parks & Recreation and see how it could affect the crime rate in San Diego.\n",
    "\n",
    "References (include links):\n",
    "- 1) https://www.researchgate.net/publication/323591125_Estimating_the_impact_of_state_government_spending_and_the_economy_on_crime_rates\n",
    "- 2) https://theconversation.com/can-parks-help-cities-fight-crime-118322\n",
    "- 3) https://www.jstor.org/stable/10.1086/588220?seq=1#metadata_info_tab_contents"
   ]
  },
  {
   "cell_type": "markdown",
   "metadata": {},
   "source": [
    "# Hypothesis\n"
   ]
  },
  {
   "cell_type": "markdown",
   "metadata": {},
   "source": [
    "I would hypothesize that the number of police calls dispatched by the San Diego Police Department across recent five years is negatively correlated with total budget that was distributed to Parks & Recreation in San Diego. This is because I believe people's happiness is highly associated with the amount of free time they have, whether they have places to go to have fun with their family or friends, or do they have places to work out when they are free, and so forth. And all of these depend on whether the government invests enough money on the Parks & Recreation to allow everyone has access to them when they want to enjoy their leisure time and release some pressures from the work or from the family. And once people are satisfied with their lives due to government's increasing investment on Parks & Recreation, I believe the crime rate would decrease and the number of police calls received are also going to drop."
   ]
  },
  {
   "cell_type": "markdown",
   "metadata": {},
   "source": [
    "# Dataset(s)"
   ]
  },
  {
   "cell_type": "markdown",
   "metadata": {},
   "source": [
    "I am going to use the San Diego Crime Data from 2015-2019, which are composed of 5 datasets in total. And for each of these datasets, I am going to do some data cleaning and count the total number of police calls received for each year. And another dataset I am going to use is the San Diego Budget Data to account for the `amount`, `report_fy`, `dept_name`, and `account` that are associated with Parks & Recreation. All of the datasets I got were provided by the instructor in github, and I would also include the link to each of these datasets below.\n",
    "\n",
    "Dataset 1:\n",
    "- Dataset Name: pd_calls_for_service_2015_datasd_v1.csv\n",
    "- Link to the dataset: https://data.sandiego.gov/datasets/police-calls-for-service/\n",
    "- Number of observations: 608434\n",
    "\n",
    "This dataset has several important information about each call that was received by San Diego Police Department in 2015 including the street address, Unique Incident Identifier, Date / Time in 24 Hour Format, Day of the week, Type of call, Classification, San Diego PD Beat, and Priority assigned by dispatcher. But these features are not useful in my analysis and I am only going to account for the total number of police calls after doing some data cleaning.\n",
    "\n",
    "Dataset 2:\n",
    "- Dataset Name: pd_calls_for_service_2016_datasd_v1.csv\n",
    "- Link to the dataset: https://data.sandiego.gov/datasets/police-calls-for-service/\n",
    "- Number of observations: 586703\n",
    "\n",
    "This dataset has several important information about each call that was received by San Diego Police Department in 2016 including the street address, Unique Incident Identifier, Date / Time in 24 Hour Format, Day of the week, Type of call, Classification, San Diego PD Beat, and Priority assigned by dispatcher. But these features are not useful in my analysis and I am only going to account for the total number of police calls after doing some data cleaning.\n",
    "\n",
    "Dataset 3:\n",
    "- Dataset Name: pd_calls_for_service_2017_datasd_v1.csv\n",
    "- Link to the dataset: https://data.sandiego.gov/datasets/police-calls-for-service/\n",
    "- Number of observations: 580577\n",
    "\n",
    "This dataset has several important information about each call that was received by San Diego Police Department in 2017 including the street address, Unique Incident Identifier, Date / Time in 24 Hour Format, Day of the week, Type of call, Classification, San Diego PD Beat, and Priority assigned by dispatcher. But these features are not useful in my analysis and I am only going to account for the total number of police calls after doing some data cleaning.\n",
    "\n",
    "Dataset 4:\n",
    "- Dataset Name: pd_calls_for_service_2018_datasd.csv\n",
    "- Link to the dataset: https://data.sandiego.gov/datasets/police-calls-for-service/\n",
    "- Number of observations: 570459\n",
    "\n",
    "This dataset has several important information about each call that was received by San Diego Police Department in 2018 including the street address, Unique Incident Identifier, Date / Time in 24 Hour Format, Day of the week, Type of call, Classification, San Diego PD Beat, and Priority assigned by dispatcher. But these features are not useful in my analysis and I am only going to account for the total number of police calls after doing some data cleaning.\n",
    "\n",
    "Dataset 5:\n",
    "- Dataset Name: pd_calls_for_service_2019_datasd.csv\n",
    "- Link to the dataset: https://data.sandiego.gov/datasets/police-calls-for-service/\n",
    "- Number of observations: 590967\n",
    "\n",
    "This dataset has several important information about each call that was received by San Diego Police Department in 2019 including the street address, Unique Incident Identifier, Date / Time in 24 Hour Format, Day of the week, Type of call, Classification, San Diego PD Beat, and Priority assigned by dispatcher. But these features are not useful in my analysis and I am only going to account for the total number of police calls after doing some data cleaning.\n",
    "\n",
    "Dataset 6:\n",
    "- Dataset Name: actuals_operating_datasd.csv\n",
    "- Link to the dataset: https://data.sandiego.gov/datasets/operating-actuals/\n",
    "- Number of observations: 454891\n",
    "\n",
    "This dataset contains each budget that was spent on some specific `dept_name` and the category of the budget is noted as `account`. Besides, it also has the `amount` for the amount of the budget, `report_fy` for the fiscal year in which the data was reported, `fund_type` and some other features for the identification number. In my analysis, I am only going to account for `dept_name`, `amount`, `report_fy`, and `account` to calculate the budget that was spent on Parks & Recreation for each year.\n",
    "\n",
    "I don't need to merge these 6 datasets into 1 dataframe, but I would first calculate the total police calls from each of the dataset1-5 for each year and keep them all to a list, and then compare it with another list of total budget spent on Parks & Recreation each year that is derived from dataset 6."
   ]
  },
  {
   "cell_type": "markdown",
   "metadata": {},
   "source": [
    "# Setup"
   ]
  },
  {
   "cell_type": "code",
   "execution_count": 1,
   "metadata": {},
   "outputs": [],
   "source": [
    "# Imports\n",
    "import pandas as pd\n",
    "import numpy as np\n",
    "import matplotlib.pyplot as plt\n",
    "import seaborn as sns\n",
    "import math\n",
    "import warnings\n",
    "warnings.filterwarnings('ignore')\n",
    "\n",
    "import patsy\n",
    "import statsmodels.api as sm\n",
    "import scipy.stats as stats\n",
    "from scipy.stats import ttest_ind, chisquare, normaltest"
   ]
  },
  {
   "cell_type": "markdown",
   "metadata": {},
   "source": [
    "# Data Cleaning"
   ]
  },
  {
   "cell_type": "markdown",
   "metadata": {},
   "source": [
    "Read in the datasets."
   ]
  },
  {
   "cell_type": "code",
   "execution_count": 2,
   "metadata": {},
   "outputs": [],
   "source": [
    "# Read in the datasets\n",
    "budget_data = pd.read_csv(\"actuals_operating_datasd.csv\")\n",
    "calls_2015 = pd.read_csv(\"pd_calls_for_service_2015_datasd_v1.csv\", low_memory=False)\n",
    "calls_2016 = pd.read_csv(\"pd_calls_for_service_2016_datasd_v1.csv\", low_memory=False)\n",
    "calls_2017 = pd.read_csv(\"pd_calls_for_service_2017_datasd_v1.csv\", low_memory=False)\n",
    "calls_2018 = pd.read_csv(\"pd_calls_for_service_2018_datasd.csv\", low_memory=False)\n",
    "calls_2019 = pd.read_csv(\"pd_calls_for_service_2019_datasd.csv\", low_memory=False)"
   ]
  },
  {
   "cell_type": "code",
   "execution_count": 3,
   "metadata": {},
   "outputs": [
    {
     "data": {
      "text/html": [
       "<div>\n",
       "<style scoped>\n",
       "    .dataframe tbody tr th:only-of-type {\n",
       "        vertical-align: middle;\n",
       "    }\n",
       "\n",
       "    .dataframe tbody tr th {\n",
       "        vertical-align: top;\n",
       "    }\n",
       "\n",
       "    .dataframe thead th {\n",
       "        text-align: right;\n",
       "    }\n",
       "</style>\n",
       "<table border=\"1\" class=\"dataframe\">\n",
       "  <thead>\n",
       "    <tr style=\"text-align: right;\">\n",
       "      <th></th>\n",
       "      <th>amount</th>\n",
       "      <th>report_fy</th>\n",
       "      <th>fund_type</th>\n",
       "      <th>fund_number</th>\n",
       "      <th>dept_name</th>\n",
       "      <th>funds_center_number</th>\n",
       "      <th>account</th>\n",
       "      <th>account_number</th>\n",
       "    </tr>\n",
       "  </thead>\n",
       "  <tbody>\n",
       "    <tr>\n",
       "      <th>0</th>\n",
       "      <td>349193.50</td>\n",
       "      <td>17</td>\n",
       "      <td>General Fund</td>\n",
       "      <td>100000</td>\n",
       "      <td>Office of the Chief Operating Officer</td>\n",
       "      <td>1001000011</td>\n",
       "      <td>Salaried Wages</td>\n",
       "      <td>500011</td>\n",
       "    </tr>\n",
       "    <tr>\n",
       "      <th>1</th>\n",
       "      <td>23875.99</td>\n",
       "      <td>17</td>\n",
       "      <td>General Fund</td>\n",
       "      <td>100000</td>\n",
       "      <td>Office of the Chief Operating Officer</td>\n",
       "      <td>1001000011</td>\n",
       "      <td>Vacation</td>\n",
       "      <td>500014</td>\n",
       "    </tr>\n",
       "    <tr>\n",
       "      <th>2</th>\n",
       "      <td>7449.95</td>\n",
       "      <td>17</td>\n",
       "      <td>General Fund</td>\n",
       "      <td>100000</td>\n",
       "      <td>Office of the Chief Operating Officer</td>\n",
       "      <td>1001000011</td>\n",
       "      <td>Sick Leave/Vacation Accrual</td>\n",
       "      <td>500015</td>\n",
       "    </tr>\n",
       "    <tr>\n",
       "      <th>3</th>\n",
       "      <td>2942.31</td>\n",
       "      <td>17</td>\n",
       "      <td>General Fund</td>\n",
       "      <td>100000</td>\n",
       "      <td>Office of the Chief Operating Officer</td>\n",
       "      <td>1001000011</td>\n",
       "      <td>A/L Bereavement Pay</td>\n",
       "      <td>500016</td>\n",
       "    </tr>\n",
       "    <tr>\n",
       "      <th>4</th>\n",
       "      <td>1532.45</td>\n",
       "      <td>17</td>\n",
       "      <td>General Fund</td>\n",
       "      <td>100000</td>\n",
       "      <td>Office of the Chief Operating Officer</td>\n",
       "      <td>1001000011</td>\n",
       "      <td>Vacation Pay In Lieu</td>\n",
       "      <td>500017</td>\n",
       "    </tr>\n",
       "  </tbody>\n",
       "</table>\n",
       "</div>"
      ],
      "text/plain": [
       "      amount  report_fy     fund_type  fund_number  \\\n",
       "0  349193.50         17  General Fund       100000   \n",
       "1   23875.99         17  General Fund       100000   \n",
       "2    7449.95         17  General Fund       100000   \n",
       "3    2942.31         17  General Fund       100000   \n",
       "4    1532.45         17  General Fund       100000   \n",
       "\n",
       "                               dept_name  funds_center_number  \\\n",
       "0  Office of the Chief Operating Officer           1001000011   \n",
       "1  Office of the Chief Operating Officer           1001000011   \n",
       "2  Office of the Chief Operating Officer           1001000011   \n",
       "3  Office of the Chief Operating Officer           1001000011   \n",
       "4  Office of the Chief Operating Officer           1001000011   \n",
       "\n",
       "                       account  account_number  \n",
       "0               Salaried Wages          500011  \n",
       "1                     Vacation          500014  \n",
       "2  Sick Leave/Vacation Accrual          500015  \n",
       "3          A/L Bereavement Pay          500016  \n",
       "4         Vacation Pay In Lieu          500017  "
      ]
     },
     "execution_count": 3,
     "metadata": {},
     "output_type": "execute_result"
    }
   ],
   "source": [
    "budget_data.head()"
   ]
  },
  {
   "cell_type": "code",
   "execution_count": 4,
   "metadata": {},
   "outputs": [
    {
     "data": {
      "text/html": [
       "<div>\n",
       "<style scoped>\n",
       "    .dataframe tbody tr th:only-of-type {\n",
       "        vertical-align: middle;\n",
       "    }\n",
       "\n",
       "    .dataframe tbody tr th {\n",
       "        vertical-align: top;\n",
       "    }\n",
       "\n",
       "    .dataframe thead th {\n",
       "        text-align: right;\n",
       "    }\n",
       "</style>\n",
       "<table border=\"1\" class=\"dataframe\">\n",
       "  <thead>\n",
       "    <tr style=\"text-align: right;\">\n",
       "      <th></th>\n",
       "      <th>incident_num</th>\n",
       "      <th>date_time</th>\n",
       "      <th>day_of_week</th>\n",
       "      <th>address_number_primary</th>\n",
       "      <th>address_dir_primary</th>\n",
       "      <th>address_road_primary</th>\n",
       "      <th>address_sfx_primary</th>\n",
       "      <th>address_dir_intersecting</th>\n",
       "      <th>address_road_intersecting</th>\n",
       "      <th>address_sfx_intersecting</th>\n",
       "      <th>call_type</th>\n",
       "      <th>disposition</th>\n",
       "      <th>beat</th>\n",
       "      <th>priority</th>\n",
       "    </tr>\n",
       "  </thead>\n",
       "  <tbody>\n",
       "    <tr>\n",
       "      <th>0</th>\n",
       "      <td>P15010000001</td>\n",
       "      <td>2015-01-01 00:00:14</td>\n",
       "      <td>3</td>\n",
       "      <td>3800</td>\n",
       "      <td>NaN</td>\n",
       "      <td>DELTA</td>\n",
       "      <td>ST</td>\n",
       "      <td>NaN</td>\n",
       "      <td>NaN</td>\n",
       "      <td>NaN</td>\n",
       "      <td>AU1</td>\n",
       "      <td>K</td>\n",
       "      <td>443.0</td>\n",
       "      <td>1.0</td>\n",
       "    </tr>\n",
       "    <tr>\n",
       "      <th>1</th>\n",
       "      <td>P15010000002</td>\n",
       "      <td>2015-01-01 00:00:30</td>\n",
       "      <td>3</td>\n",
       "      <td>0</td>\n",
       "      <td>NaN</td>\n",
       "      <td>60TH</td>\n",
       "      <td>ST</td>\n",
       "      <td>NaN</td>\n",
       "      <td>FEDERAL</td>\n",
       "      <td>BL</td>\n",
       "      <td>AU1</td>\n",
       "      <td>DUP</td>\n",
       "      <td>433.0</td>\n",
       "      <td>1.0</td>\n",
       "    </tr>\n",
       "    <tr>\n",
       "      <th>2</th>\n",
       "      <td>P15010000003</td>\n",
       "      <td>2015-01-01 00:00:48</td>\n",
       "      <td>3</td>\n",
       "      <td>3600</td>\n",
       "      <td>NaN</td>\n",
       "      <td>LOGAN</td>\n",
       "      <td>AV</td>\n",
       "      <td>NaN</td>\n",
       "      <td>NaN</td>\n",
       "      <td>NaN</td>\n",
       "      <td>AU1</td>\n",
       "      <td>DUP</td>\n",
       "      <td>441.0</td>\n",
       "      <td>1.0</td>\n",
       "    </tr>\n",
       "    <tr>\n",
       "      <th>3</th>\n",
       "      <td>P15010000004</td>\n",
       "      <td>2015-01-01 00:00:57</td>\n",
       "      <td>3</td>\n",
       "      <td>0</td>\n",
       "      <td>NaN</td>\n",
       "      <td>33RD</td>\n",
       "      <td>ST</td>\n",
       "      <td>NaN</td>\n",
       "      <td>IMPERIAL</td>\n",
       "      <td>AV</td>\n",
       "      <td>AU1</td>\n",
       "      <td>K</td>\n",
       "      <td>512.0</td>\n",
       "      <td>1.0</td>\n",
       "    </tr>\n",
       "    <tr>\n",
       "      <th>4</th>\n",
       "      <td>P15010000005</td>\n",
       "      <td>2015-01-01 00:01:05</td>\n",
       "      <td>3</td>\n",
       "      <td>3300</td>\n",
       "      <td>NaN</td>\n",
       "      <td>43RD</td>\n",
       "      <td>ST</td>\n",
       "      <td>NaN</td>\n",
       "      <td>NaN</td>\n",
       "      <td>NaN</td>\n",
       "      <td>AU1</td>\n",
       "      <td>O</td>\n",
       "      <td>834.0</td>\n",
       "      <td>1.0</td>\n",
       "    </tr>\n",
       "  </tbody>\n",
       "</table>\n",
       "</div>"
      ],
      "text/plain": [
       "   incident_num            date_time  day_of_week  address_number_primary  \\\n",
       "0  P15010000001  2015-01-01 00:00:14            3                    3800   \n",
       "1  P15010000002  2015-01-01 00:00:30            3                       0   \n",
       "2  P15010000003  2015-01-01 00:00:48            3                    3600   \n",
       "3  P15010000004  2015-01-01 00:00:57            3                       0   \n",
       "4  P15010000005  2015-01-01 00:01:05            3                    3300   \n",
       "\n",
       "  address_dir_primary address_road_primary address_sfx_primary  \\\n",
       "0                 NaN                DELTA                  ST   \n",
       "1                 NaN                 60TH                  ST   \n",
       "2                 NaN                LOGAN                  AV   \n",
       "3                 NaN                 33RD                  ST   \n",
       "4                 NaN                 43RD                  ST   \n",
       "\n",
       "   address_dir_intersecting address_road_intersecting  \\\n",
       "0                       NaN                       NaN   \n",
       "1                       NaN                   FEDERAL   \n",
       "2                       NaN                       NaN   \n",
       "3                       NaN                  IMPERIAL   \n",
       "4                       NaN                       NaN   \n",
       "\n",
       "  address_sfx_intersecting call_type disposition   beat  priority  \n",
       "0                      NaN       AU1           K  443.0       1.0  \n",
       "1                       BL       AU1         DUP  433.0       1.0  \n",
       "2                      NaN       AU1         DUP  441.0       1.0  \n",
       "3                       AV       AU1           K  512.0       1.0  \n",
       "4                      NaN       AU1           O  834.0       1.0  "
      ]
     },
     "execution_count": 4,
     "metadata": {},
     "output_type": "execute_result"
    }
   ],
   "source": [
    "calls_2015.head()"
   ]
  },
  {
   "cell_type": "code",
   "execution_count": 5,
   "metadata": {},
   "outputs": [
    {
     "data": {
      "text/plain": [
       "amount                 False\n",
       "report_fy              False\n",
       "fund_type              False\n",
       "fund_number            False\n",
       "dept_name              False\n",
       "funds_center_number    False\n",
       "account                False\n",
       "account_number         False\n",
       "dtype: bool"
      ]
     },
     "execution_count": 5,
     "metadata": {},
     "output_type": "execute_result"
    }
   ],
   "source": [
    "# We can see that the budget data doesn't have any null values, so it's already pretty clean to use.\n",
    "budget_data.isna().any()"
   ]
  },
  {
   "cell_type": "markdown",
   "metadata": {},
   "source": [
    "Drop the unnecessary columns and rename some columns to make it clearer."
   ]
  },
  {
   "cell_type": "code",
   "execution_count": 6,
   "metadata": {},
   "outputs": [],
   "source": [
    "# Only include the columns needed to do the data analysis\n",
    "budget_data = budget_data[[\"amount\", \"report_fy\", \"dept_name\", \"account\"]]\n",
    "\n",
    "# Rename the column to make it clearer to understand\n",
    "budget_data = budget_data.rename(columns = {\"report_fy\": \"year\"})"
   ]
  },
  {
   "cell_type": "code",
   "execution_count": 7,
   "metadata": {},
   "outputs": [
    {
     "name": "stdout",
     "output_type": "stream",
     "text": [
      "int64\n"
     ]
    },
    {
     "data": {
      "text/plain": [
       "11    54957\n",
       "19    53886\n",
       "18    51715\n",
       "17    51038\n",
       "16    49808\n",
       "12    49669\n",
       "14    48204\n",
       "15    48159\n",
       "13    47455\n",
       "Name: year, dtype: int64"
      ]
     },
     "execution_count": 7,
     "metadata": {},
     "output_type": "execute_result"
    }
   ],
   "source": [
    "# Check the type of year column\n",
    "print(budget_data[\"year\"].dtypes)\n",
    "budget_data[\"year\"].value_counts()"
   ]
  },
  {
   "cell_type": "markdown",
   "metadata": {},
   "source": [
    "Transform the column to have more accurate and complete data."
   ]
  },
  {
   "cell_type": "code",
   "execution_count": 8,
   "metadata": {},
   "outputs": [],
   "source": [
    "# Complete the year column to make it clearer to understand\n",
    "budget_data[\"year\"] = budget_data[\"year\"].apply(lambda x: int(\"20\" + str(x)))"
   ]
  },
  {
   "cell_type": "code",
   "execution_count": 9,
   "metadata": {},
   "outputs": [
    {
     "data": {
      "text/plain": [
       "Parks & Recreation             89855\n",
       "Public Utilities               78711\n",
       "Police                         37404\n",
       "Environmental Services         30607\n",
       "Fire-Rescue                    29248\n",
       "                               ...  \n",
       "RDA - San Ysidro                   3\n",
       "RDA - Naval Training Center        3\n",
       "Legacy Postings                    2\n",
       "RDA - Linda Vista                  2\n",
       "RDA - City Heights                 1\n",
       "Name: dept_name, Length: 89, dtype: int64"
      ]
     },
     "execution_count": 9,
     "metadata": {},
     "output_type": "execute_result"
    }
   ],
   "source": [
    "budget_data[\"dept_name\"].value_counts()"
   ]
  },
  {
   "cell_type": "markdown",
   "metadata": {},
   "source": [
    "Only include the necessary data."
   ]
  },
  {
   "cell_type": "code",
   "execution_count": 10,
   "metadata": {},
   "outputs": [],
   "source": [
    "# To only include \n",
    "budget_data = budget_data[budget_data[\"dept_name\"] == \"Parks & Recreation\"]"
   ]
  },
  {
   "cell_type": "code",
   "execution_count": 11,
   "metadata": {},
   "outputs": [
    {
     "data": {
      "text/html": [
       "<div>\n",
       "<style scoped>\n",
       "    .dataframe tbody tr th:only-of-type {\n",
       "        vertical-align: middle;\n",
       "    }\n",
       "\n",
       "    .dataframe tbody tr th {\n",
       "        vertical-align: top;\n",
       "    }\n",
       "\n",
       "    .dataframe thead th {\n",
       "        text-align: right;\n",
       "    }\n",
       "</style>\n",
       "<table border=\"1\" class=\"dataframe\">\n",
       "  <thead>\n",
       "    <tr style=\"text-align: right;\">\n",
       "      <th></th>\n",
       "      <th>amount</th>\n",
       "      <th>year</th>\n",
       "      <th>dept_name</th>\n",
       "      <th>account</th>\n",
       "    </tr>\n",
       "  </thead>\n",
       "  <tbody>\n",
       "    <tr>\n",
       "      <th>8111</th>\n",
       "      <td>75.52</td>\n",
       "      <td>2017</td>\n",
       "      <td>Parks &amp; Recreation</td>\n",
       "      <td>Graffitti Control Restitution</td>\n",
       "    </tr>\n",
       "    <tr>\n",
       "      <th>8112</th>\n",
       "      <td>156.84</td>\n",
       "      <td>2017</td>\n",
       "      <td>Parks &amp; Recreation</td>\n",
       "      <td>Repair Damages Recovered</td>\n",
       "    </tr>\n",
       "    <tr>\n",
       "      <th>8113</th>\n",
       "      <td>-6478.12</td>\n",
       "      <td>2017</td>\n",
       "      <td>Parks &amp; Recreation</td>\n",
       "      <td>Salaried Wages</td>\n",
       "    </tr>\n",
       "    <tr>\n",
       "      <th>8114</th>\n",
       "      <td>-188.86</td>\n",
       "      <td>2017</td>\n",
       "      <td>Parks &amp; Recreation</td>\n",
       "      <td>Supp Pens Sav Plan Mandatory</td>\n",
       "    </tr>\n",
       "    <tr>\n",
       "      <th>8115</th>\n",
       "      <td>-181.19</td>\n",
       "      <td>2017</td>\n",
       "      <td>Parks &amp; Recreation</td>\n",
       "      <td>Supp Pens Sav Plan Voluntary</td>\n",
       "    </tr>\n",
       "  </tbody>\n",
       "</table>\n",
       "</div>"
      ],
      "text/plain": [
       "       amount  year           dept_name                        account\n",
       "8111    75.52  2017  Parks & Recreation  Graffitti Control Restitution\n",
       "8112   156.84  2017  Parks & Recreation       Repair Damages Recovered\n",
       "8113 -6478.12  2017  Parks & Recreation                 Salaried Wages\n",
       "8114  -188.86  2017  Parks & Recreation   Supp Pens Sav Plan Mandatory\n",
       "8115  -181.19  2017  Parks & Recreation   Supp Pens Sav Plan Voluntary"
      ]
     },
     "execution_count": 11,
     "metadata": {},
     "output_type": "execute_result"
    }
   ],
   "source": [
    "budget_data.head()"
   ]
  },
  {
   "cell_type": "markdown",
   "metadata": {},
   "source": [
    "Drop the null values that probably occur completely at random."
   ]
  },
  {
   "cell_type": "code",
   "execution_count": 12,
   "metadata": {},
   "outputs": [],
   "source": [
    "# We might notice that the datasets for the police calls have multiple missing values for most of the columns.\n",
    "# And we can also find that most of the address_road_primary values are not missing, so that means the \n",
    "# missing entries in this column probably occur completely at random and we would drop the row with this entry missing.\n",
    "calls_2015.dropna(inplace = True, subset = ['address_road_primary'], axis = 0)\n",
    "calls_2016.dropna(inplace = True, subset = ['address_road_primary'], axis = 0)\n",
    "calls_2017.dropna(inplace = True, subset = ['address_road_primary'], axis = 0)\n",
    "calls_2018.dropna(inplace = True, subset = ['address_road_primary'], axis = 0)\n",
    "calls_2019.dropna(inplace = True, subset = ['address_road_primary'], axis = 0)"
   ]
  },
  {
   "cell_type": "code",
   "execution_count": 13,
   "metadata": {},
   "outputs": [
    {
     "name": "stdout",
     "output_type": "stream",
     "text": [
      "608123 586311 580211 570289 590862\n"
     ]
    }
   ],
   "source": [
    "print(len(calls_2015), len(calls_2016), len(calls_2017), len(calls_2018), len(calls_2019))\n",
    "police_calls = [len(calls_2015), len(calls_2016), len(calls_2017), len(calls_2018), len(calls_2019)]"
   ]
  },
  {
   "cell_type": "code",
   "execution_count": 14,
   "metadata": {},
   "outputs": [
    {
     "data": {
      "image/png": "[encoded data removed]",
      "text/plain": [
       "<Figure size 432x288 with 1 Axes>"
      ]
     },
     "metadata": {
      "needs_background": "light"
     },
     "output_type": "display_data"
    }
   ],
   "source": [
    "# Use bar plot to show the distribution of the police calls across these five years.\n",
    "fig = plt.figure()\n",
    "ax = fig.add_axes([1,1,1,1])\n",
    "years = ['2015', '2016', '2017', '2018', '2019']\n",
    "ax.bar(years,police_calls)\n",
    "plt.show()"
   ]
  },
  {
   "cell_type": "markdown",
   "metadata": {},
   "source": [
    "We can see that the police calls across these 5 years are not that different from each other and they are all around 600,000 a year. Besides, there are not visable outliers in this plot."
   ]
  },
  {
   "cell_type": "markdown",
   "metadata": {},
   "source": [
    "# Data Analysis & Results"
   ]
  },
  {
   "cell_type": "markdown",
   "metadata": {},
   "source": [
    "### EDA"
   ]
  },
  {
   "cell_type": "code",
   "execution_count": 15,
   "metadata": {},
   "outputs": [
    {
     "data": {
      "text/plain": [
       "<matplotlib.axes._subplots.AxesSubplot at 0x7fb6195a7290>"
      ]
     },
     "execution_count": 15,
     "metadata": {},
     "output_type": "execute_result"
    },
    {
     "data": {
      "image/png": "[encoded data removed]",
      "text/plain": [
       "<Figure size 432x288 with 1 Axes>"
      ]
     },
     "metadata": {
      "needs_background": "light"
     },
     "output_type": "display_data"
    }
   ],
   "source": [
    "budget_data.plot.scatter(x = \"year\", y = \"amount\")"
   ]
  },
  {
   "cell_type": "markdown",
   "metadata": {},
   "source": [
    "We can see that the distribution for the budget across these years are relatively similar but has a trend of going upwards. And there are not significant outliers in the plot because we know that sometimes it's reasonale to have very large budgets on some programmes."
   ]
  },
  {
   "cell_type": "markdown",
   "metadata": {},
   "source": [
    "### Analysis"
   ]
  },
  {
   "cell_type": "markdown",
   "metadata": {},
   "source": [
    "In order to see the relationship between the budget for Parks & Recreation each year and the number of police calls each year, we would sum all of the budgets for every programmes each year and compare the distribution with that of the police calls and see how it goes."
   ]
  },
  {
   "cell_type": "code",
   "execution_count": 16,
   "metadata": {},
   "outputs": [
    {
     "data": {
      "text/plain": [
       "year\n",
       "2011    1.819405e+08\n",
       "2012    1.965323e+08\n",
       "2013    2.018419e+08\n",
       "2014    2.169659e+08\n",
       "2015    2.236179e+08\n",
       "2016    2.262815e+08\n",
       "2017    2.442289e+08\n",
       "2018    2.630864e+08\n",
       "2019    2.652765e+08\n",
       "Name: amount, dtype: float64"
      ]
     },
     "execution_count": 16,
     "metadata": {},
     "output_type": "execute_result"
    }
   ],
   "source": [
    "sum_budget = budget_data.groupby([\"year\"])[\"amount\"].sum()\n",
    "sum_budget"
   ]
  },
  {
   "cell_type": "code",
   "execution_count": 17,
   "metadata": {},
   "outputs": [
    {
     "data": {
      "text/plain": [
       "<matplotlib.axes._subplots.AxesSubplot at 0x7fb606e88b10>"
      ]
     },
     "execution_count": 17,
     "metadata": {},
     "output_type": "execute_result"
    },
    {
     "data": {
      "image/png": "[encoded data removed]",
      "text/plain": [
       "<Figure size 432x288 with 1 Axes>"
      ]
     },
     "metadata": {
      "needs_background": "light"
     },
     "output_type": "display_data"
    }
   ],
   "source": [
    "sum_budget.plot(kind = \"bar\")"
   ]
  },
  {
   "cell_type": "markdown",
   "metadata": {},
   "source": [
    "After we sum up all the budgets for every programmes each year and plot the bar chart according to the year, we may find that the total budget seems to have a trend to increase as the year increase, which doesn't quite similar to the police calls distribution from 2015 to 2019 where there seems like a drop from 2015 to 2018 and a sudden increase in 2019."
   ]
  },
  {
   "cell_type": "code",
   "execution_count": 18,
   "metadata": {},
   "outputs": [
    {
     "data": {
      "text/plain": [
       "7.076711017557659e-289"
      ]
     },
     "execution_count": 18,
     "metadata": {},
     "output_type": "execute_result"
    }
   ],
   "source": [
    "chisq, p_val_chi = stats.chisquare(police_calls, axis=None)\n",
    "p_val_chi"
   ]
  },
  {
   "cell_type": "code",
   "execution_count": 19,
   "metadata": {},
   "outputs": [
    {
     "data": {
      "text/plain": [
       "0.0"
      ]
     },
     "execution_count": 19,
     "metadata": {},
     "output_type": "execute_result"
    }
   ],
   "source": [
    "chisq, p_val_chi = stats.chisquare(sum_budget.values[4:], axis=None)\n",
    "p_val_chi"
   ]
  },
  {
   "cell_type": "markdown",
   "metadata": {},
   "source": [
    "From the Chi-squared test, we know that both of the p-value for the number of police calls and sum of total budgets over the 5 years is <= 0, which means that there are significant differences in both police calls and the sum of budgets. And it also proves that the analysis we are doing is meaningful and the relationship between this two ditrsibutions is worth comparing and finding for."
   ]
  },
  {
   "cell_type": "code",
   "execution_count": 20,
   "metadata": {},
   "outputs": [
    {
     "data": {
      "text/plain": [
       "[0.18291980549119297,\n",
       " 0.18509870399198383,\n",
       " 0.1997796573217111,\n",
       " 0.2152051622606769,\n",
       " 0.21699667093443528]"
      ]
     },
     "execution_count": 20,
     "metadata": {},
     "output_type": "execute_result"
    }
   ],
   "source": [
    "sum_budget_from2015 = list(sum_budget.values[4:])\n",
    "norm_budget = [i/sum(sum_budget_from2015) for i in sum_budget_from2015]\n",
    "norm_budget"
   ]
  },
  {
   "cell_type": "code",
   "execution_count": 21,
   "metadata": {},
   "outputs": [
    {
     "data": {
      "text/plain": [
       "[0.207140755011588,\n",
       " 0.19971108346765237,\n",
       " 0.19763328242153066,\n",
       " 0.19425361980192085,\n",
       " 0.20126125929730812]"
      ]
     },
     "execution_count": 21,
     "metadata": {},
     "output_type": "execute_result"
    }
   ],
   "source": [
    "norm_calls = [i/sum(police_calls) for i in police_calls]\n",
    "norm_calls"
   ]
  },
  {
   "cell_type": "markdown",
   "metadata": {},
   "source": [
    "We also normalized each list of values to make them camparable with each other."
   ]
  },
  {
   "cell_type": "code",
   "execution_count": 22,
   "metadata": {},
   "outputs": [
    {
     "name": "stdout",
     "output_type": "stream",
     "text": [
      "The Pearson correlation coefficient is -0.5959 with a p-value of 0.29.\n"
     ]
    }
   ],
   "source": [
    "r_val, p_val = stats.pearsonr(norm_budget, norm_calls)\n",
    "print(\"The Pearson correlation coefficient is {:1.4f} with a p-value of {:1.2f}.\".format(r_val, p_val))"
   ]
  },
  {
   "cell_type": "code",
   "execution_count": 23,
   "metadata": {},
   "outputs": [
    {
     "name": "stdout",
     "output_type": "stream",
     "text": [
      "The Spearman correlation coefficient is -0.4000 with a p-value of 0.50.\n"
     ]
    }
   ],
   "source": [
    "r_val, p_val = stats.spearmanr(norm_budget, norm_calls)\n",
    "print(\"The Spearman correlation coefficient is {:1.4f} with a p-value of {:1.2f}.\".format(r_val, p_val))"
   ]
  },
  {
   "cell_type": "markdown",
   "metadata": {},
   "source": [
    "We can see that the correlation coefficients are negative, but the p-values are rather large compare to 0.05 threshold."
   ]
  },
  {
   "cell_type": "code",
   "execution_count": 24,
   "metadata": {},
   "outputs": [
    {
     "data": {
      "text/plain": [
       "<matplotlib.legend.Legend at 0x7fb606dcbed0>"
      ]
     },
     "execution_count": 24,
     "metadata": {},
     "output_type": "execute_result"
    },
    {
     "data": {
      "image/png": "[encoded data removed]",
      "text/plain": [
       "<Figure size 432x288 with 1 Axes>"
      ]
     },
     "metadata": {
      "needs_background": "light"
     },
     "output_type": "display_data"
    }
   ],
   "source": [
    "years = [\"2015\", \"2016\", \"2017\", \"2018\", \"2019\"]\n",
    "plt.plot(years, norm_budget, label = \"budget\")\n",
    "plt.plot(years, norm_calls, label = \"police calls\")\n",
    "plt.legend(loc='upper left')"
   ]
  },
  {
   "cell_type": "markdown",
   "metadata": {},
   "source": [
    "We can see from this line plot that the budget and the police calls mainly have a rather negatively correlated relationship even though there is a inflection point starting 2019. This plot roughly matches with our hypothesis mentioned above."
   ]
  },
  {
   "cell_type": "markdown",
   "metadata": {},
   "source": [
    "# Ethics & Privacy"
   ]
  },
  {
   "cell_type": "markdown",
   "metadata": {},
   "source": [
    "For the research question part, I believe it's a well-posed question which I have already knew something about it, which means by answering this question, I could possibly help to decrease the crime rates or encourage more budgets from the government to the San Diego parks and recreation based on the answer I got and it adheres to the ethics and privacy standards.\n",
    "\n",
    "For the dataset part, I got all of the datasets I needed for this project from the websites provided by the Instructor. The budget dataset I got comes from San Diego government website and the features inside of this dataset are all very clear and transparent government budgets and funding on city's opeartions and services. And it doesn't have features about personal inforamtion or identity in this dataset, and all of the information here are free for everyone to access, so it shouldn't have any privacy or concerns related with this dataset. On the other hand, I also have datasets about police calls from each individual from 2015-2019. These datasets really contain a lot of personal information such as street address, call time, and type of the call, etc. And we should be aware of this because people actually could infer very detailed personal identities for each of these call information from the dataset and that could expose personal information to the public and cause serious privacy and ethics issues. And usually calls to the police are very personal and maybe some people would take it for bad intentions which could cause serious problems to parties involved. So we should take these datasets very seriously and eliminate any information that could expose one's perosnal identity if needed when doing the project. However, in my project, I only include the total number of phone calls received each year and try to find the general trend, so it shouldn't have any ethics and privacy issues. Also, the phone calls datasets come from government website, so it should be rather accurate and accountable and they are also open to anyone who has access to the Internet, so it shouldn't have major potential biases in the dataset. And all of the datasets are of public records which shouldn't have any subjective perosnal accounts and ethics concerns. And my analysis is also based on these accountable datasets I have, so it won't have issues in terms of data privacy and equitable impact."
   ]
  },
  {
   "cell_type": "markdown",
   "metadata": {},
   "source": [
    "# Conclusion & Discussion"
   ]
  },
  {
   "cell_type": "markdown",
   "metadata": {},
   "source": [
    "In this project, I was trying the find the relationship between the total budget that was distributed to Parks & Recreation in San Diego and the number of police calls dispatched by the San Diego Police Department across five years to see if they are correlated with each other. And in my analysis, I first did some EDA to show the distribution of the budgets across the years to see if there are any visable outliers. And then I also performed Chi-squared tests to show the significant differences in both police calls data and budget data. And then I also included Pearson and Spearman correlation coefficients to show the realtionship between the two.\n",
    "\n",
    "And the result turns out that the total budget that was distributed to Parks & Recreation in San Diego were indeed negatively correlated with the number of police calls that were received by SDPD over the last five years with correlation coefficients being -0.60 and -0.40 respectively. And this result corrsponds to my own hypothesis that these two should be negatively correlated. However, one thing about this result is that the p-values associated with these two coefficients are rather large with one being 0.29 and the other one being 0.50 which are all significantly bigger than 0.05 threshold. In other words, even though we have a result showing that these two were negatively correlated, but the p-values suggest that the correlation coefficients are not statistically significant, which means the probability of finding the current result if the correlation coefficient were in fact zero, meaning the null hypothesis, is still very high. Thus, the conclusion for the project is that although it shows a negative correlation between the total budget spent on parks & recreation each year, this result is not that convincing in terms of the big p-values we got.\n",
    "\n",
    "There are several limitations about this project. The first one is the fact that we only included data derived from recent five years to do the analysis due to the data limitations, and this would cause biased results as we don't have enough years to compare these two factors. And maybe one of the reasons why we got very large p-values is because we don't have enough data to do the analysis. Another limitation of this project is that correlation is not equivalent to causation as people would usually confuse these two. Even if they have some correlations doesn't mean one cause another one, so we still need other reseaches in the future to see if increase on total budget can really cause crime rates to drop. This work could have some impacts on the society, as people who see this project might have the interests to do the further research on the topic, and government officials might consider to increase the budget for parks and recreation, which both are beneficial to people who live in this city."
   ]
  }
 ],
 "metadata": {
  "kernelspec": {
   "display_name": "Python 3",
   "language": "python",
   "name": "python3"
  },
  "language_info": {
   "codemirror_mode": {
    "name": "ipython",
    "version": 3
   },
   "file_extension": ".py",
   "mimetype": "text/x-python",
   "name": "python",
   "nbconvert_exporter": "python",
   "pygments_lexer": "ipython3",
   "version": "3.7.6"
  }
 },
 "nbformat": 4,
 "nbformat_minor": 4
}
