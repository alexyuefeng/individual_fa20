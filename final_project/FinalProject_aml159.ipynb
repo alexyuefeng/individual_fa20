{
 "cells": [
  {
   "cell_type": "markdown",
   "metadata": {},
   "source": [
    "COGS 108- FINAL PROJECT"
   ]
  },
  {
   "cell_type": "markdown",
   "metadata": {},
   "source": [
    "NAME: Alexis Lee\n",
    "GITHUB: aml159"
   ]
  },
  {
   "cell_type": "markdown",
   "metadata": {},
   "source": [
    "Research Question:\n",
    "What are the most pleasant (safe/least police visits and best ratings) SD Parks and Rec locations?"
   ]
  },
  {
   "cell_type": "markdown",
   "metadata": {},
   "source": [
    "Hypothesis: The most pleasant SD Parks and Rec locations will be those that are more private and have scheduled activities."
   ]
  },
  {
   "cell_type": "markdown",
   "metadata": {},
   "source": [
    "Data:"
   ]
  },
  {
   "cell_type": "markdown",
   "metadata": {},
   "source": [
    "SETUP"
   ]
  },
  {
   "cell_type": "code",
   "execution_count": 88,
   "metadata": {},
   "outputs": [],
   "source": [
    "%matplotlib inline\n",
    "\n",
    "import numpy as np\n",
    "import pandas as pd\n",
    "import matplotlib.pyplot as plt"
   ]
  },
  {
   "cell_type": "code",
   "execution_count": 89,
   "metadata": {},
   "outputs": [],
   "source": [
    "yelp_info = pd.read_csv('yelp_SD_parks.csv')\n",
    "yelp_reviews = pd.read_csv('yelp_SD_reviews.csv')\n",
    "\n",
    "budget_data = pd.read_csv('actuals_operating_datasd.csv')\n",
    "budget_dic = pd.read_csv('operating_actuals_dictionary_datasd.csv')\n",
    "\n",
    "crime2019_data = pd.read_csv('pd_calls_for_service_2019_datasd.csv')\n",
    "crime2020_data = pd.read_csv('pd_calls_for_service_2020_datasd.csv')"
   ]
  },
  {
   "cell_type": "markdown",
   "metadata": {},
   "source": [
    "DATA CLEANING"
   ]
  },
  {
   "cell_type": "code",
   "execution_count": 4,
   "metadata": {},
   "outputs": [],
   "source": [
    "pb = budget_data[budget_data['dept_name']=='Parks & Recreation'].drop_duplicates(subset=[\"account\"])\n",
    "pb = pb.sort_values(by= 'account')"
   ]
  },
  {
   "cell_type": "code",
   "execution_count": 30,
   "metadata": {},
   "outputs": [],
   "source": [
    "y_info = yelp_info.drop(columns=['phone', 'id', 'url', 'longitude', 'latitude', 'is_closed'])"
   ]
  },
  {
   "cell_type": "code",
   "execution_count": null,
   "metadata": {},
   "outputs": [],
   "source": [
    "cd9 = crime2019_data.drop(columns=['incident_num', 'date_time', 'day_of_week', 'address_dir_primary', 'address_dir_intersecting', 'address_road_intersecting', 'address_sfx_intersecting'])\n",
    "cd9 = cd9.drop_duplicates(subset=['address_number_primary', 'address_road_primary', 'address_sfx_primary'])\n",
    "cd9 = cd9.dropna(subset = ['address_number_primary', 'address_road_primary', 'address_sfx_primary'])"
   ]
  },
  {
   "cell_type": "markdown",
   "metadata": {},
   "source": [
    "DATA ANALYSIS"
   ]
  },
  {
   "cell_type": "code",
   "execution_count": 53,
   "metadata": {},
   "outputs": [],
   "source": [
    "addresses = pd.DataFrame(columns=['ad'])\n",
    "for i in range(len(cd9)):\n",
    "    ad  = str.lower(str(cd9['address_number_primary'].iloc[i]))\n",
    "    ad = ad+str(' ')+str.lower(str(cd9['address_road_primary'].iloc[i]))\n",
    "    ad = ad+str(' ')+str.lower(str(cd9['address_sfx_primary'].iloc[i]))\n",
    "    addresses.loc[i,'ad']=ad"
   ]
  },
  {
   "cell_type": "code",
   "execution_count": 50,
   "metadata": {},
   "outputs": [],
   "source": [
    "num = 0\n",
    "for i in y_info['address']:\n",
    "    i=i.split(\",\", 1)[0]\n",
    "    i = i[0:i.find('San Diego')]\n",
    "    y_info.loc[num,'ad']=str.lower(i)\n",
    "    num=num+1\n"
   ]
  },
  {
   "cell_type": "code",
   "execution_count": 69,
   "metadata": {},
   "outputs": [
    {
     "data": {
      "text/plain": [
       "0         3800 national ave\n",
       "1        6500 reflection dr\n",
       "2                0 06th ave\n",
       "3                0 vesta st\n",
       "4                0 04th ave\n",
       "                ...        \n",
       "29262           0 dahlia st\n",
       "29263        9600 murray dr\n",
       "29264         0 tiverton rd\n",
       "29265      2600 cagayan ave\n",
       "29266       0 alta vista st\n",
       "Name: ad, Length: 29267, dtype: object"
      ]
     },
     "execution_count": 69,
     "metadata": {},
     "output_type": "execute_result"
    }
   ],
   "source": [
    "addresses['ad']"
   ]
  },
  {
   "cell_type": "code",
   "execution_count": 68,
   "metadata": {},
   "outputs": [
    {
     "data": {
      "text/plain": [
       "0                        1549 el prado \n",
       "1                     7960 civita blvd \n",
       "2                     1600 pacific hwy \n",
       "3             adams ave and florida st \n",
       "4                    413 1st st coronad\n",
       "                     ...               \n",
       "828                                    \n",
       "829         1255 imperial ave ste 1000 \n",
       "830                      100 park blvd \n",
       "831    2700 carlsbad village dr carlsba\n",
       "832          4949 s mission rd fallbroo\n",
       "Name: ad, Length: 833, dtype: object"
      ]
     },
     "execution_count": 68,
     "metadata": {},
     "output_type": "execute_result"
    }
   ],
   "source": [
    "y_info['ad']"
   ]
  },
  {
   "cell_type": "code",
   "execution_count": 76,
   "metadata": {},
   "outputs": [],
   "source": [
    "y_info['rat*rev']= y_info['rating']*y_info['review_count']"
   ]
  },
  {
   "cell_type": "code",
   "execution_count": 84,
   "metadata": {},
   "outputs": [
    {
     "data": {
      "text/plain": [
       "<BarContainer object of 833 artists>"
      ]
     },
     "execution_count": 84,
     "metadata": {},
     "output_type": "execute_result"
    },
    {
     "data": {
      "image/png": "[encoded data removed]",
      "text/plain": [
       "<Figure size 432x288 with 1 Axes>"
      ]
     },
     "metadata": {
      "needs_background": "light"
     },
     "output_type": "display_data"
    }
   ],
   "source": [
    "plt.bar(y_info['ad'], y_info['rat*rev'])"
   ]
  },
  {
   "cell_type": "code",
   "execution_count": 86,
   "metadata": {},
   "outputs": [
    {
     "data": {
      "text/html": [
       "<div>\n",
       "<style scoped>\n",
       "    .dataframe tbody tr th:only-of-type {\n",
       "        vertical-align: middle;\n",
       "    }\n",
       "\n",
       "    .dataframe tbody tr th {\n",
       "        vertical-align: top;\n",
       "    }\n",
       "\n",
       "    .dataframe thead th {\n",
       "        text-align: right;\n",
       "    }\n",
       "</style>\n",
       "<table border=\"1\" class=\"dataframe\">\n",
       "  <thead>\n",
       "    <tr style=\"text-align: right;\">\n",
       "      <th></th>\n",
       "      <th>name</th>\n",
       "      <th>address</th>\n",
       "      <th>rating</th>\n",
       "      <th>review_count</th>\n",
       "      <th>ad</th>\n",
       "      <th>rat*rev</th>\n",
       "    </tr>\n",
       "  </thead>\n",
       "  <tbody>\n",
       "    <tr>\n",
       "      <th>506</th>\n",
       "      <td>Penasquitas Casa Blanca</td>\n",
       "      <td>9404 Twin Trails Dr San Diego, CA 92129</td>\n",
       "      <td>1.0</td>\n",
       "      <td>1</td>\n",
       "      <td>9404 twin trails dr</td>\n",
       "      <td>1.0</td>\n",
       "    </tr>\n",
       "    <tr>\n",
       "      <th>134</th>\n",
       "      <td>City of Lakeside</td>\n",
       "      <td>12652 Woodside Ave Lakeside, CA 92040</td>\n",
       "      <td>1.0</td>\n",
       "      <td>1</td>\n",
       "      <td>12652 woodside ave lakesid</td>\n",
       "      <td>1.0</td>\n",
       "    </tr>\n",
       "    <tr>\n",
       "      <th>155</th>\n",
       "      <td>Sunnyslope Park</td>\n",
       "      <td>2600 Elm St San Diego, CA 92102</td>\n",
       "      <td>1.0</td>\n",
       "      <td>1</td>\n",
       "      <td>2600 elm st</td>\n",
       "      <td>1.0</td>\n",
       "    </tr>\n",
       "    <tr>\n",
       "      <th>568</th>\n",
       "      <td>Lakeview Mobile Estates</td>\n",
       "      <td>809 Discovery St Spc 28 San Marcos, CA 92078</td>\n",
       "      <td>1.0</td>\n",
       "      <td>1</td>\n",
       "      <td>809 discovery st spc 28 san marco</td>\n",
       "      <td>1.0</td>\n",
       "    </tr>\n",
       "    <tr>\n",
       "      <th>572</th>\n",
       "      <td>Vista Terrace Neighborhood Park</td>\n",
       "      <td>301 Athey Ave San Ysidro, CA 92173</td>\n",
       "      <td>1.0</td>\n",
       "      <td>1</td>\n",
       "      <td>301 athey ave san ysidr</td>\n",
       "      <td>1.0</td>\n",
       "    </tr>\n",
       "    <tr>\n",
       "      <th>...</th>\n",
       "      <td>...</td>\n",
       "      <td>...</td>\n",
       "      <td>...</td>\n",
       "      <td>...</td>\n",
       "      <td>...</td>\n",
       "      <td>...</td>\n",
       "    </tr>\n",
       "    <tr>\n",
       "      <th>586</th>\n",
       "      <td>CUCINA urbana</td>\n",
       "      <td>1735 Hancock St San Diego, CA 92101</td>\n",
       "      <td>4.5</td>\n",
       "      <td>3987</td>\n",
       "      <td>1735 hancock st</td>\n",
       "      <td>17941.5</td>\n",
       "    </tr>\n",
       "    <tr>\n",
       "      <th>557</th>\n",
       "      <td>San Diego Zoo</td>\n",
       "      <td>2920 Zoo Dr San Diego, CA 92101</td>\n",
       "      <td>4.5</td>\n",
       "      <td>4549</td>\n",
       "      <td>2920 zoo dr</td>\n",
       "      <td>20470.5</td>\n",
       "    </tr>\n",
       "    <tr>\n",
       "      <th>814</th>\n",
       "      <td>Hodad's</td>\n",
       "      <td>5010 Newport Ave San Diego, CA 92107</td>\n",
       "      <td>4.0</td>\n",
       "      <td>5548</td>\n",
       "      <td>5010 newport ave</td>\n",
       "      <td>22192.0</td>\n",
       "    </tr>\n",
       "    <tr>\n",
       "      <th>585</th>\n",
       "      <td>Extraordinary Desserts</td>\n",
       "      <td>1430 Union St San Diego, CA 92101</td>\n",
       "      <td>4.0</td>\n",
       "      <td>7700</td>\n",
       "      <td>1430 union st</td>\n",
       "      <td>30800.0</td>\n",
       "    </tr>\n",
       "    <tr>\n",
       "      <th>804</th>\n",
       "      <td>Phil's BBQ</td>\n",
       "      <td>3750 Sports Arena Blvd San Diego, CA 92110</td>\n",
       "      <td>4.5</td>\n",
       "      <td>14195</td>\n",
       "      <td>3750 sports arena blvd</td>\n",
       "      <td>63877.5</td>\n",
       "    </tr>\n",
       "  </tbody>\n",
       "</table>\n",
       "<p>833 rows × 6 columns</p>\n",
       "</div>"
      ],
      "text/plain": [
       "                                name  \\\n",
       "506          Penasquitas Casa Blanca   \n",
       "134                 City of Lakeside   \n",
       "155                  Sunnyslope Park   \n",
       "568          Lakeview Mobile Estates   \n",
       "572  Vista Terrace Neighborhood Park   \n",
       "..                               ...   \n",
       "586                    CUCINA urbana   \n",
       "557                    San Diego Zoo   \n",
       "814                          Hodad's   \n",
       "585           Extraordinary Desserts   \n",
       "804                       Phil's BBQ   \n",
       "\n",
       "                                          address  rating  review_count  \\\n",
       "506       9404 Twin Trails Dr San Diego, CA 92129     1.0             1   \n",
       "134         12652 Woodside Ave Lakeside, CA 92040     1.0             1   \n",
       "155               2600 Elm St San Diego, CA 92102     1.0             1   \n",
       "568  809 Discovery St Spc 28 San Marcos, CA 92078     1.0             1   \n",
       "572            301 Athey Ave San Ysidro, CA 92173     1.0             1   \n",
       "..                                            ...     ...           ...   \n",
       "586           1735 Hancock St San Diego, CA 92101     4.5          3987   \n",
       "557               2920 Zoo Dr San Diego, CA 92101     4.5          4549   \n",
       "814          5010 Newport Ave San Diego, CA 92107     4.0          5548   \n",
       "585             1430 Union St San Diego, CA 92101     4.0          7700   \n",
       "804    3750 Sports Arena Blvd San Diego, CA 92110     4.5         14195   \n",
       "\n",
       "                                    ad  rat*rev  \n",
       "506               9404 twin trails dr       1.0  \n",
       "134         12652 woodside ave lakesid      1.0  \n",
       "155                       2600 elm st       1.0  \n",
       "568  809 discovery st spc 28 san marco      1.0  \n",
       "572            301 athey ave san ysidr      1.0  \n",
       "..                                 ...      ...  \n",
       "586                   1735 hancock st   17941.5  \n",
       "557                       2920 zoo dr   20470.5  \n",
       "814                  5010 newport ave   22192.0  \n",
       "585                     1430 union st   30800.0  \n",
       "804            3750 sports arena blvd   63877.5  \n",
       "\n",
       "[833 rows x 6 columns]"
      ]
     },
     "execution_count": 86,
     "metadata": {},
     "output_type": "execute_result"
    }
   ],
   "source": [
    "y_info.sort_values(by='rat*rev')"
   ]
  }
 ],
 "metadata": {
  "kernelspec": {
   "display_name": "Python 3",
   "language": "python",
   "name": "python3"
  },
  "language_info": {
   "codemirror_mode": {
    "name": "ipython",
    "version": 3
   },
   "file_extension": ".py",
   "mimetype": "text/x-python",
   "name": "python",
   "nbconvert_exporter": "python",
   "pygments_lexer": "ipython3",
   "version": "3.7.6"
  }
 },
 "nbformat": 4,
 "nbformat_minor": 4
}
