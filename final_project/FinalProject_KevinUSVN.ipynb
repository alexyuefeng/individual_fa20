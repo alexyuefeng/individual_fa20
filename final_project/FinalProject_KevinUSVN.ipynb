{
 "cells": [
  {
   "cell_type": "markdown",
   "metadata": {},
   "source": [
    "# COGS 108 - Final Project "
   ]
  },
  {
   "cell_type": "markdown",
   "metadata": {},
   "source": [
    "# Overview"
   ]
  },
  {
   "cell_type": "markdown",
   "metadata": {},
   "source": [
    "*Fill in your overview here*"
   ]
  },
  {
   "cell_type": "markdown",
   "metadata": {},
   "source": [
    "# Name & GitHub\n",
    "\n",
    "- Name: Kevin Ly\n",
    "- GitHub Username: KevinUSVN"
   ]
  },
  {
   "cell_type": "markdown",
   "metadata": {},
   "source": [
    "# Research Question"
   ]
  },
  {
   "cell_type": "markdown",
   "metadata": {},
   "source": [
    "Does the increase of funding to homelessness housing services decrease the overall homeless population in San Diego Balboa park in the past decade (2010-2020)?"
   ]
  },
  {
   "cell_type": "markdown",
   "metadata": {},
   "source": [
    "## Background and Prior Work"
   ]
  },
  {
   "cell_type": "markdown",
   "metadata": {},
   "source": [
    "In 2017, there was crackdown among the homeless population around the city of San Diego. Homeless people was forced to live in San Diego's newer parks, such as Balboa park. This crackdown was issued to prevent additional infections of hepatitus A that killed 17 people and hospitalized more than 300 people. This article helps to determine why homeless people move into parks, how many of them, and what causes them to force to live there. The article also states the lack of homelessness services provided in San Diego parks. [1]\n",
    "\n",
    "As of 2020, a total of 4,887 homeless people in San Diego were counted, a 4 percent reduction compared to 5,082 homeless people in 2019. The article suggests there is an increase in homelessness service support that cause the reduction of homeless people living in the streets. The article notes a downward trend in the homeless population, which may suggest a decrease in homeless population in San Diego's parks. [2]\n",
    "\n",
    "References (include links):\n",
    "- 1) https://www.sandiegouniontribune.com/news/hepatitis-crisis/sd-me-homeless-camp-20170928-story.html\n",
    "- 2) https://www.sandiego.gov/mayor/news/releases/homelessness-city-san-diego-streets-drops-12-percent-annual-count"
   ]
  },
  {
   "cell_type": "markdown",
   "metadata": {},
   "source": [
    "# Hypothesis\n"
   ]
  },
  {
   "cell_type": "markdown",
   "metadata": {},
   "source": [
    "Additional funding towards homelessness housing services would slightly decrease the amount of homeless people living in San Diego Balboa park by an estimated 5% after 1 year. These fundings would help homeless people occupy a homeless housing center which they will receive basic necessities that would encourage them to stay."
   ]
  },
  {
   "cell_type": "markdown",
   "metadata": {},
   "source": [
    "# Dataset(s)"
   ]
  },
  {
   "cell_type": "markdown",
   "metadata": {},
   "source": [
    "*Fill in your dataset information here*\n",
    "\n",
    "(Copy this information for each dataset)\n",
    "- Dataset Name:\n",
    "- Link to the dataset:\n",
    "- Number of observations:\n",
    "\n",
    "1-2 sentences describing each dataset. \n",
    "\n",
    "If you plan to use multiple datasets, add 1-2 sentences about how you plan to combine these datasets."
   ]
  },
  {
   "cell_type": "markdown",
   "metadata": {},
   "source": [
    "# Setup"
   ]
  },
  {
   "cell_type": "code",
   "execution_count": 3,
   "metadata": {},
   "outputs": [],
   "source": [
    "## YOUR CODE HERE"
   ]
  },
  {
   "cell_type": "markdown",
   "metadata": {},
   "source": [
    "# Data Cleaning"
   ]
  },
  {
   "cell_type": "markdown",
   "metadata": {},
   "source": [
    "Describe your data cleaning steps here."
   ]
  },
  {
   "cell_type": "code",
   "execution_count": 4,
   "metadata": {},
   "outputs": [],
   "source": [
    "## YOUR CODE HERE\n",
    "## FEEL FREE TO ADD MULTIPLE CELLS PER SECTION"
   ]
  },
  {
   "cell_type": "markdown",
   "metadata": {},
   "source": [
    "# Data Analysis & Results"
   ]
  },
  {
   "cell_type": "markdown",
   "metadata": {},
   "source": [
    "Include cells that describe the steps in your data analysis."
   ]
  },
  {
   "cell_type": "code",
   "execution_count": 5,
   "metadata": {},
   "outputs": [],
   "source": [
    "## YOUR CODE HERE\n",
    "## FEEL FREE TO ADD MULTIPLE CELLS PER SECTION"
   ]
  },
  {
   "cell_type": "markdown",
   "metadata": {},
   "source": [
    "# Ethics & Privacy"
   ]
  },
  {
   "cell_type": "markdown",
   "metadata": {},
   "source": [
    "Data from public San Diego government websites are okay to use, however surveys among the homelessness population can be challenging. The fear among the homelessness I believe is that they will be identified by local authorities of their whereabouts and activities which will cause them to feel standoffish when answering survey questions. I believe it is in their effort to make themselves and their activities anonymous as possible for fear of being kicked out of their favorite area. To solve this issue, we should notify the homeless that the data being collected should remain anonymous and can opt out at anytime when contacted. The data collection process should anonymonize their individual data through id's."
   ]
  },
  {
   "cell_type": "markdown",
   "metadata": {},
   "source": [
    "# Conclusion & Discussion"
   ]
  },
  {
   "cell_type": "markdown",
   "metadata": {},
   "source": [
    "*Fill in your discussion information here*"
   ]
  }
 ],
 "metadata": {
  "kernelspec": {
   "display_name": "Python 3",
   "language": "python",
   "name": "python3"
  },
  "language_info": {
   "codemirror_mode": {
    "name": "ipython",
    "version": 3
   },
   "file_extension": ".py",
   "mimetype": "text/x-python",
   "name": "python",
   "nbconvert_exporter": "python",
   "pygments_lexer": "ipython3",
   "version": "3.8.5"
  }
 },
 "nbformat": 4,
 "nbformat_minor": 2
}
