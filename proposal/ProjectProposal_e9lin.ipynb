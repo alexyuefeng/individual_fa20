{
 "cells": [
  {
   "cell_type": "markdown",
   "metadata": {},
   "source": [
    "# COGS 108 - Project Proposal"
   ]
  },
  {
   "cell_type": "markdown",
   "metadata": {},
   "source": [
    "# Names & GitHub ID"
   ]
  },
  {
   "cell_type": "markdown",
   "metadata": {},
   "source": [
    "\n",
    "\n",
    "- Name: Erinna Lin\n",
    "- GitHub Username: e9lin"
   ]
  },
  {
   "cell_type": "markdown",
   "metadata": {},
   "source": [
    "# Research Question"
   ]
  },
  {
   "cell_type": "markdown",
   "metadata": {},
   "source": [
    "Is there a relationship between the amount of dog owners in an area and where the nearest leash-free dog park is located? If there isn’t, should the Parks and Recreation add more leash-free dog parks so that the dog owners have places to take their dog?"
   ]
  },
  {
   "cell_type": "markdown",
   "metadata": {},
   "source": [
    "## Background and Prior Work"
   ]
  },
  {
   "cell_type": "markdown",
   "metadata": {},
   "source": [
    "   From the information that I gathered from the City’s website, there are only 16 leash-free locations across the 9 districts of San Diego (Reference 3). From the San Diego County’s survey, there are 374,732 people that own an average of 1.4 dogs each (Reference 5). If this information is proportional to that of the City of San Diego, then the dog owners may benefit from the installation of more leash-free dog parks. Additionally, based on personal experience of going to parks that don’t allow dogs to be leash-free, there are still a lot of individuals that allow their dogs to roam free, which creates a stressful situation for those that do not want unleashed dogs to be running around. \n",
    "\n",
    "   While there are laws that prevent dogs from being unleashed, there are still plenty of owners that allow their dog to run loose (Reference 4). There are articles about how there are so many dogs being unleashed at places that they should be leashed, but there are not a lot of articles on how to solve this problem.\n",
    "\n",
    "References (include links):\n",
    "- 1) https://www.nrpa.org/parks-recreation-magazine/2015/may/the-truth-about-parks-and-dogs/\n",
    "- 2) https://journalistsresource.org/studies/society/culture/how-cities-may-benefit-from-dog-parks/\n",
    "- 3) https://www.sandiego.gov/sites/default/files/legacy/park-and-recreation/pdf/offleashmap.pdf\n",
    "- 4) https://sduptownnews.com/to-leash-or-not-to-leash/\n",
    "- 5) http://www.theanimalcouncil.com/files/NPA_1995SanDiego.pdf"
   ]
  },
  {
   "cell_type": "markdown",
   "metadata": {},
   "source": [
    "# Hypothesis\n"
   ]
  },
  {
   "cell_type": "markdown",
   "metadata": {},
   "source": [
    "I would think that if San Diego dog owners had more leash-free dog parks, they would utilize those parks, which would then allow everyone who uses parks to be more satisfied with their time at San Diego parks. Additionally, if there are more leash-free dog parks, there would be less leash law citations from dog owners bringing their unleashed dog to regular parks."
   ]
  },
  {
   "cell_type": "markdown",
   "metadata": {},
   "source": [
    "# Data"
   ]
  },
  {
   "cell_type": "markdown",
   "metadata": {},
   "source": [
    "I would have 3 ideal datasets.\n",
    "\n",
    "   The first dataset would be the amount of dog owners in each of the 9 districts throughout the last 20 years and it would be stored in a csv file. Ideally, there would be 180 observations.\n",
    "   \n",
    "   The second dataset would be the amount of leash-free dog parks there are in each district throughout the last 20 years and it would be stored in a csv file. Ideally, there would be 180 observations.\n",
    "   \n",
    "   The third dataset would be the amount of citations given due to unleashed dogs in the last 20 years and it would be stored in a csv file. Ideally, there would be 20 observations.\n"
   ]
  },
  {
   "cell_type": "markdown",
   "metadata": {},
   "source": [
    "# Ethics & Privacy"
   ]
  },
  {
   "cell_type": "markdown",
   "metadata": {},
   "source": [
    "One of the privacy concerns with the third dataset is the information about the citations and the details of individuals. To handle this issue, I would anonymize all personal details about the citation. Additionally, there may be potential biases in the first two datasets since the datasets only concern people who are dog owners. To handle this issue, I believe that the establishment of more off-leash parks will reduce the amount of illegal off-leash dogs, which benefits dog owners and non-dog owners alike."
   ]
  }
 ],
 "metadata": {
  "kernelspec": {
   "display_name": "Python 3",
   "language": "python",
   "name": "python3"
  },
  "language_info": {
   "codemirror_mode": {
    "name": "ipython",
    "version": 3
   },
   "file_extension": ".py",
   "mimetype": "text/x-python",
   "name": "python",
   "nbconvert_exporter": "python",
   "pygments_lexer": "ipython3",
   "version": "3.8.3"
  }
 },
 "nbformat": 4,
 "nbformat_minor": 2
}
