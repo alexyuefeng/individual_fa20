{
 "cells": [
  {
   "cell_type": "markdown",
   "metadata": {},
   "source": [
    "# COGS 108 - Project Proposal"
   ]
  },
  {
   "cell_type": "markdown",
   "metadata": {},
   "source": [
    "# Names & GitHub ID\n",
    "\n",
    "- Name: Ritwik Sinha\n",
    "- GitHub Username: ritwikksinha"
   ]
  },
  {
   "cell_type": "markdown",
   "metadata": {},
   "source": [
    "# Research Question"
   ]
  },
  {
   "cell_type": "markdown",
   "metadata": {},
   "source": [
    "Does the location or size of a park influence the number of visitors to that park? Does it influence the amount of funding it receives? Does it influence the amount of littering in that park?"
   ]
  },
  {
   "cell_type": "markdown",
   "metadata": {},
   "source": [
    "## Background and Prior Work"
   ]
  },
  {
   "cell_type": "markdown",
   "metadata": {},
   "source": [
    "**ScienceDirect (Elsevier):** \n",
    "\"The maximum park visits decreased exponentially as the travel distance to parks increased.\",\"Larger parks received more visits only if travel distance was taken into account.\"\n",
    "Here we see that location and size of the park make a significant impact on the number of visits to it. This would mean that large parks near highly populated areas should recieve the most visitors. We should explore if this has a direct impact on the funding it recieves and the amount of littering done in it.\n",
    "\n",
    "**USC Lusk:**\n",
    "\"Low-income and concentrated poverty areas as well as neighborhoods dominated by Latinos, African Americans, and Asian-Pacific Islanders, have dramatically lower levels of access to park resources than white dominated areas of the city\", \"Districts  with  the  highest  rates  of  park  accessibility  received  as  much  or  more  bondfunds  than  many  areas  with  higher  poverty,  higher  concentrations  of  young  people,  andbelow average park accessibility.\"\n",
    "This study by USC found out that the average income and race of the neighborhood affected the amount of park resources available to that neighborhood. Areas with older population also recieved more funding.\n",
    "\n",
    "**University of Conneticut:**\n",
    "\"The amount of small litter was best explained by median home value, with which it was positively related\", \"The amount of medium-sized litter was best explained by the model containing only median income, however this model left much of the variation unexplained\", \"The amount of large litter was best explained by the model containing only median income, however this model also left much of the variation unexplained\"\n",
    "This study by the University of Conneticut shows that the amount of small litter in a park was positively correlated with the median value of the housing around it. The amount of medium and large litter were related to the median income, although the results were not very conclusive.\n",
    "\n",
    "References (include links):\n",
    "- 1)https://www.sciencedirect.com/science/article/abs/pii/S1618866719306612\n",
    "- 2)https://lusk.usc.edu/sites/default/files/working_papers/Wolch.parks_.pdf\n",
    "- 3)https://opencommons.uconn.edu/cgi/viewcontent.cgi?article=1483&context=srhonors_theses"
   ]
  },
  {
   "cell_type": "markdown",
   "metadata": {},
   "source": [
    "# Hypothesis\n"
   ]
  },
  {
   "cell_type": "markdown",
   "metadata": {},
   "source": [
    "My main hypothesis is that the location and size of a park will directly affect number of visitors, funding and littering in that park in the following ways:\n",
    "- 1) Larger parks will get more visitors, more funding, and more littering.\n",
    "- 2) Parks in highly populated areas will get more visitors, more funding, and more littering.\n",
    "- 3) Parks in wealthier neighborhoods will get more visitors, more funding, and more littering.\n",
    "\n",
    "When people visit a park, they want a large open space with natural features that is different from the rest of the city. Larger parks will also be able to accomodate more visitors without seeming crowded, due to area. These parks will also recieve greater attention and funding. More visitors makes it harder to prevent littering.\n",
    "\n",
    "Parks in highly populated neighborhoods will recieve more visitors due to the number of people living nearby. This will lead to more littering, and more funding since the park would have more people interested in maintaining it due to convenience.\n",
    "\n",
    "Parks in wealthier neighborhoods will probably get more funding, due to the interests of the people living near it. These parks are likely to be fancier, which would attract people outside the neighborhood as well. This increases visitors, which increases littering."
   ]
  },
  {
   "cell_type": "markdown",
   "metadata": {},
   "source": [
    "# Data"
   ]
  },
  {
   "cell_type": "markdown",
   "metadata": {},
   "source": [
    "The ideal dataset would consist of one park as a single observation. The variables would be - Id, Name, Location, Total Area, Neighborhood Population, Neighborhood Median Income, Neighborhood Mean Income, Annual Funding, Amount of Littering and Monthly Visitors.\n",
    "\n",
    "Ideally, this would include all parks in San Diego county. These data would be collected in different ways. The name, area, location and annual funding of a park should be in the Parks and Recreation database. We can generate an ID for it, based on some order in the dataset. The amount of littering should be measured by weight, which would be measured by the cleanup crew. The neighborhood data would be collected through surveys. These surveys would be online, for easy collection. The location can be determined through the internet connection, and we could define \"neighborhood\" as the area within one mile of the park's outer boundary. The trickiest data to collect would be monthly visitors. The most accurate way to collect this would be to use the traffic cameras around the park to count how many people enter it. We could rely on a machine learning algorithm to recognise humans walking into the park, and use it to count how many people visit the park. We could also install a camera at each entrance of the park, and use that to determine how many people walk into the park, while ignoring people walking out of it. That would probably make it easier to train the algorithm.\n",
    "\n",
    "The data would be stored in a table, and would be updated as more data is collected. Each park would be one row, with the variables as columns. "
   ]
  },
  {
   "cell_type": "markdown",
   "metadata": {},
   "source": [
    "# Ethics & Privacy"
   ]
  },
  {
   "cell_type": "markdown",
   "metadata": {},
   "source": [
    "The main ethics & privacy concern would be of the people that are observed in the data. The surveys should remove all contact information and generalize the location of a particiapant to ensure anonymity. The cameras that count people entering the park should not identify or differentiate between individuals, for privacy concerns. The data regarding the neighborhood and visitors should be reduced to aggregate numbers, and there should be no way to single out a particular person or household using the data."
   ]
  }
 ],
 "metadata": {
  "kernelspec": {
   "display_name": "Python 3",
   "language": "python",
   "name": "python3"
  },
  "language_info": {
   "codemirror_mode": {
    "name": "ipython",
    "version": 3
   },
   "file_extension": ".py",
   "mimetype": "text/x-python",
   "name": "python",
   "nbconvert_exporter": "python",
   "pygments_lexer": "ipython3",
   "version": "3.8.3"
  }
 },
 "nbformat": 4,
 "nbformat_minor": 2
}
