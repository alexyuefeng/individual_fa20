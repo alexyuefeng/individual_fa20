{
 "cells": [
  {
   "cell_type": "markdown",
   "metadata": {},
   "source": [
    "# COGS 108 - Project Proposal"
   ]
  },
  {
   "cell_type": "markdown",
   "metadata": {},
   "source": [
    "# Names & GitHub ID\n",
    "\n",
    "- Name: Anthony Fong\n",
    "- GitHub Username: ajf01"
   ]
  },
  {
   "cell_type": "markdown",
   "metadata": {},
   "source": [
    "# Research Question"
   ]
  },
  {
   "cell_type": "markdown",
   "metadata": {},
   "source": [
    "Is there a relationship between the relative fitness of a community, and how well equipped a local park is?"
   ]
  },
  {
   "cell_type": "markdown",
   "metadata": {},
   "source": [
    "## Background and Prior Work"
   ]
  },
  {
   "cell_type": "markdown",
   "metadata": {},
   "source": [
    "It has long since been stated that Americans have an obesity issue. Many people attribute this high obesity rate with the plethora of fast food chains in America. From McDonalds to Popeyes the range of fat and greesy food seems endless. To address this health crisis many individuals have turned to parks. There are studies that have linked \"the presence of an attractive park to increases in aerobic exercise\" (Miracle). Though is attractiveness in a park really all that it takes to get people more active? What if there was an attractive park, but it had very limited equipment such as basketball courts or soccer fields. Would a lack of proper facilities in a park still promote fitness and excercise? This is why I have proposed a research question to investigate the relationship between available facilities in a park, and how fit the community surrounding the park is.\n",
    "\n",
    "It is currently well researched in both City Parks Alliance and Miracle that parks in communities both help strengthen community bonds and promote physical activity. Though not much is discussed on how well equipped a park needs to be in order to carry out those tasks. Even the two references I utilize do not specifically reference park funding with community fitness, merely that parks as a whole promote fitness. If all parks regardless of how well funded they are promote the same level of fitness, then there is hardly a reason to increase funds to parks. In contrast if poorly funded parks do not promote fitness as well then it may be necessary to redistribute park funds to decrease funding from well off parks and increase funding to other parks.\n",
    "\n",
    "Though not much research has been done on how much certain parks effect their community, City Parks Alliance did establish that \"Parks also reduce the costs of healthcare: maintaining a healthy weight saves $1,500 per person in healthcare costs per year\". So it may be economically as well as health, wise to invest more in parks that do not promote physical fitness in the community as well as other more equipped parks do.\n",
    "\n",
    "References (include links):\n",
    "- 1) City Parks Alliance (https://cityparksalliance.org/resource/parks-as-infrastructure/)\n",
    "- 2) Miracle (https://www.miracle-recreation.com/blog/benefits-of-parks-in-your-community/)"
   ]
  },
  {
   "cell_type": "markdown",
   "metadata": {},
   "source": [
    "# Hypothesis\n"
   ]
  },
  {
   "cell_type": "markdown",
   "metadata": {},
   "source": [
    "My hypothesis is if a local park is underequipped compared to the average park in the county, then the relative fitness of the community in which the park resides will be worse when compared to communities with better equipped parks. I believe this hypothesis to be true, because it does not seem likely that all parks promote the same level of physical activity. After all if I enjoy playing Basketball and my local park lacks a Basketball court, then for what reason would I have to go to the park and be physically active."
   ]
  },
  {
   "cell_type": "markdown",
   "metadata": {},
   "source": [
    "# Data"
   ]
  },
  {
   "cell_type": "markdown",
   "metadata": {},
   "source": [
    "For my research question I would focus only on the San Diego county area. As such for an ideal dataset I would like an observation for every individual living in areas considered to be \"neighborhoods\" in San Diego county. This means that homeless people, people who live in mobile homes, and people who live in their store or restaurant do not count. I would like this data to be stored in a semi-structured dataset like a CSV file. The data would be collected by a census survey of sorts. Every question asked in the survey would make up a feature or column of the dataset. One question of the survey would be are you physically active. Another question would be if their local park prompted them to be physically active. Would the destruction of the park effect your ability to be physically active. What neighborhood do you live in. How long have you lived in your neighborhood. Do you think your park is well equipped. Do you think you would be more physically active if the park had more facilities. How often do you go to the park. All the question answers should be stored as integer values in the dataset if possible. All binary answers will be 1 for yes and 0 for no. There should also be an additional column that stores a unique ID for every observation in the dataset. I would also like additional data on the physical fitness of individuals in a community. I am not sure of all aspects that make up physical fitness, but the ideal dataset would have these aspects as columns to be analyzed."
   ]
  },
  {
   "cell_type": "markdown",
   "metadata": {},
   "source": [
    "# Ethics & Privacy"
   ]
  },
  {
   "cell_type": "markdown",
   "metadata": {},
   "source": [
    "There are ethical and privacy related issues involving my research question and dataset. My research question asks about the relative fitness of a community. This is extremely private information pertaining to the physical health of individuals living in the community. The ideal dataset I proposed above also contains private information about how active an individual is or is not. For the sake of my research question and project proposal I would hope that I have access to my ideal dataset, but in reality a lot of individuals would likely not want their private information including their home address to be used. I would also be using private information to draw conclusions about how to handle funding for parks and recreations in San Diego which some may not want to be a part of. There are also biases in my data as I exclude individuals that do not live in \"neighborhoods\" such as the homeless or those that live in mobile homes or trailers. Though I do not think this bias would be a problem in terms of making an equitable analysis, as local parks are likely not designed with the thought of the homeless or mobile home dwellers at its core. So in a sense this research question is not geared towards them, so their exclusion should be permissable.\n",
    "\n",
    "There have been many issues identified thus far. Most of them are related to privacy based issues. To address this of course I would allow anyone who wants to opt out of the research to opt out. I would try to explain how their contribution in the research could allow for their local park to be better funded and convince them to stay in the research, but I would not be able to force them to stay. Of course the same applies to those who do choose to participate in the study. If they wish to opt out at anytime, they are welcome to and all pre-existing data I have collected on them would be deleted to ensure their information remains private.\n",
    "\n",
    "If the remaining observations after those who wish to opt out do so are too low, then I would have to restructure my question to be more narrow. For example I might have to reformat my research question to focus on a single neighborhood instead of the entire San Diego county. If my budget allows I might also offer compensation to those who participate in the study. Though I worry this may lead to imbalanced data where the participants may all be low income, since high income individuals would likely not care about the monetary compensation. Nonetheless if people wish to opt out they can do so, and if the remaining observations are minimal then a new research question will have to be formed to account for that."
   ]
  }
 ],
 "metadata": {
  "kernelspec": {
   "display_name": "Python 3",
   "language": "python",
   "name": "python3"
  },
  "language_info": {
   "codemirror_mode": {
    "name": "ipython",
    "version": 3
   },
   "file_extension": ".py",
   "mimetype": "text/x-python",
   "name": "python",
   "nbconvert_exporter": "python",
   "pygments_lexer": "ipython3",
   "version": "3.7.4"
  }
 },
 "nbformat": 4,
 "nbformat_minor": 2
}
