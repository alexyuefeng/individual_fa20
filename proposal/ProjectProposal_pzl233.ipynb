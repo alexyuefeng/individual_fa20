{
 "cells": [
  {
   "cell_type": "markdown",
   "metadata": {},
   "source": [
    "# COGS 108 - Project Proposal"
   ]
  },
  {
   "cell_type": "markdown",
   "metadata": {},
   "source": [
    "# Names & GitHub ID\n",
    "\n",
    "    - Name: Zhuoliang Pu\n",
    "- GitHub Username: pzl233"
   ]
  },
  {
   "cell_type": "markdown",
   "metadata": {},
   "source": [
    "# Research Question"
   ]
  },
  {
   "cell_type": "markdown",
   "metadata": {},
   "source": [
    "*What is the relationship between the number of hiking trails divides by areas and people's heart health levels in San Diego?*"
   ]
  },
  {
   "cell_type": "markdown",
   "metadata": {},
   "source": [
    "## Background and Prior Work"
   ]
  },
  {
   "cell_type": "markdown",
   "metadata": {},
   "source": [
    "Studies have shown that \"walking has the potential to play a key role in the primary and secondary prevention of cardiovascular disease.\"[2] As Harvard medical school suggests, \"like brisk walking, hiking is a good way to improve our cardiovascular fitness. And the uneven surface of hiking trails would even force our heart to work harder, which can prove a better exercise result.\"[3] Maybe it is because of this, according to San Diego county's official survey statistics, \"Hiking Trials have become the most important facilities and amenities under the parks and recreation category.\"[1] At the same time, \"88% of all respondents claimed that the Hiking Trials in San Diego are currently meeting the needs of their households.\"[1] It seems that we can conclude San Diego has spent a lot of effort on providing high quality Hiking Trials, so I want to see is there any realtionship between the number of hiking trails in communities and the heart health level of people living there. \n",
    "References (include links):\n",
    "- 1)https://www.sandiegocounty.gov/content/dam/sdc/parks/CAPRA/2.0%20EXHIBITS/2.4A%20Master%20Plan.pdf\n",
    "- 2)https://www.ncbi.nlm.nih.gov/pmc/articles/PMC3098122/\n",
    "- 3)https://www.health.harvard.edu/blog/health-benefits-of-hiking-raise-your-heart-rate-and-your-mood-2016092810414"
   ]
  },
  {
   "cell_type": "markdown",
   "metadata": {},
   "source": [
    "# Hypothesis\n"
   ]
  },
  {
   "cell_type": "markdown",
   "metadata": {},
   "source": [
    "In common sense, more hiking trials would create not only more opportunities for hiking but also a culture of hiking which pushes people to involve, and therefore reduce the possiblity for cardiovascular deseases. However, people's heart health depends on many factors, so it is likely that no conclusion could be drawn. But generally I expect a slight increase in people's cardiovascular health as the number of hiking trials increases."
   ]
  },
  {
   "cell_type": "markdown",
   "metadata": {},
   "source": [
    "# Data"
   ]
  },
  {
   "attachments": {},
   "cell_type": "markdown",
   "metadata": {},
   "source": [
    "The ideal data sets would provide \n",
    "    • The number of hiking trails divides by zip code of different years\n",
    "    • The number of heart disease cases divides by zip code of different years"
   ]
  },
  {
   "cell_type": "markdown",
   "metadata": {},
   "source": [
    "# Ethics & Privacy"
   ]
  },
  {
   "cell_type": "markdown",
   "metadata": {},
   "source": [
    "Since we are likely to accessing public health records, it would be important to remove all the personal information like IDs, accurate address and so on to maximize patients' privacy. Also, some patient's information may be collcted without informed consent, and we must exclude those in our analysis. Meanwhile, in some poverty-stricken areas, it is possible that people living there can't afford the cost for visiting a doctor, and therefore there could be missing data for them. One possible solution that I could come out is make an independent trial using data from areas with similar average income."
   ]
  }
 ],
 "metadata": {
  "kernelspec": {
   "display_name": "Python 3",
   "language": "python",
   "name": "python3"
  },
  "language_info": {
   "codemirror_mode": {
    "name": "ipython",
    "version": 3
   },
   "file_extension": ".py",
   "mimetype": "text/x-python",
   "name": "python",
   "nbconvert_exporter": "python",
   "pygments_lexer": "ipython3",
   "version": "3.7.6"
  }
 },
 "nbformat": 4,
 "nbformat_minor": 2
}
