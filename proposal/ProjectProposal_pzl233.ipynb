{
 "cells": [
  {
   "cell_type": "markdown",
   "metadata": {},
   "source": [
    "# COGS 108 - Project Proposal"
   ]
  },
  {
   "cell_type": "markdown",
   "metadata": {},
   "source": [
    "# Names & GitHub ID\n",
    "\n",
    "    - Name: Zhuoliang Pu\n",
    "- GitHub Username: pzl233"
   ]
  },
  {
   "cell_type": "markdown",
   "metadata": {},
   "source": [
    "# Research Question"
   ]
  },
  {
   "cell_type": "markdown",
   "metadata": {},
   "source": [
    "*What is the relationship between the number, total length, and difficulties of hiking trails, and the number of heart desease cases and violent crime rate in different areas divides by zipcode in San Diego?*"
   ]
  },
  {
   "cell_type": "markdown",
   "metadata": {},
   "source": [
    "## Background and Prior Work"
   ]
  },
  {
   "cell_type": "markdown",
   "metadata": {},
   "source": [
    "2020 is a very different year. One of the most significant change is that we have never recived as many \"stay safe and healthy\" as before. Safety and health have really become top priority things for people. At the same time, parks and recreations departments have admitted to improve citizens' quality of life. It would be interesting to see if there is any relationship beteewen the quality of parks, in particular, hiking tirals, and people's health and safety levels.\" \n",
    "\n",
    "In the health aspect, studies have shown that \"walking has the potential to play a key role in the primary and secondary prevention of cardiovascular disease.\"[2] As Harvard medical school suggests, \"like brisk walking, hiking is a good way to improve our cardiovascular fitness. And the uneven surface of hiking trails would even force our heart to work harder, which can prove a better exercise result.[3] Maybe it is because of this,\"hiking trials have become the most important facilities and amenities under the parks and recreation category in San Diego.\"[1] There are 198 hiking trials with a total length of 506.8 miles in San Diego[4], and another offical statistic suugests that \"88% of all respondents claimed that the Hiking Trials in San Diego are currently meeting the needs of their households.\"[1] It seems that we can conclude San Diego county government has spent a lot of effort on providing high quality Hiking Trials, so I want to see is there any realtionship between the number, total length, and difficulties of hiking trails in different communities and the number of heart disease cases of people living there. \n",
    "\n",
    "In the safety aspect,I want to exmaine the violent crime rate. Previous studies have found that \"greater violent crime was related to fewer park visits.\"[5] Also \"higher violent crime rates were related to lower park ratings.\"[5] And I would like to see is there any similar relationship between the number, total length, and difficulties of hiking trails in different communities and the violent crime rates there.\n",
    "\n",
    "References (include links):\n",
    "- 1)https://www.sandiegocounty.gov/content/dam/sdc/parks/CAPRA/2.0%20EXHIBITS/2.4A%20Master%20Plan.pdf\n",
    "- 2)https://www.ncbi.nlm.nih.gov/pmc/articles/PMC3098122/\n",
    "- 3)https://www.health.harvard.edu/blog/health-benefits-of-hiking-raise-your-heart-rate-and-your-mood-2016092810414\n",
    "- 4)http://hikingsdcounty.com/hiking-trails-san-diego-county/\n",
    "- 5)https://www.cdc.gov/pcd/issues/2020/19_0434.htm#:~:text=Greater%20violent%20crime%20in%20all,with%20high%20violent%20crime%20rates.&text=Given%20the%20importance%20of%20parks,and%2C%20therefore%2C%20public%20health."
   ]
  },
  {
   "cell_type": "markdown",
   "metadata": {},
   "source": [
    "# Hypothesis\n"
   ]
  },
  {
   "cell_type": "markdown",
   "metadata": {},
   "source": [
    "In common sense, more easily-accessible and non-challenging hiking trials would create not only more opportunities for hiking but also a culture of hiking which pushes people to involve, and therefore reduce the possiblity for cardiovascular deseases. This kind of culture could also produce better physical and mental fitness, which could possibly lead to a decrease in violent crime rate. Also, more people being outside could possible mean more anti-crime acts. So I expect a decrease in the number of cases of cardiovascular disease and violent crime rates as the total length and number of hiking trials increases and the difficulty of them decreases. "
   ]
  },
  {
   "cell_type": "markdown",
   "metadata": {},
   "source": [
    "# Data"
   ]
  },
  {
   "cell_type": "markdown",
   "metadata": {},
   "source": [
    "The ideal data sets would provide \n",
    "\n",
    "    • The recent 10 years'San Diego's hiking trial data containing:\n",
    "        Locations by zipcode\n",
    "        Length of each trail in miles\n",
    "        Difficulty of each trail from easy to difficult\n",
    "    • The recent 10 years' San Diego's heart disease data containing:\n",
    "        Locations by zipcode\n",
    "        Number of cases of those locations\n",
    "    • The recent 10 years' San Diego's violent crime rate data containing:\n",
    "        Locations by zipcode\n",
    "        Violent crime rate of those locations\n",
    "    • The recent 10 years' San Diego's household income data containing:\n",
    "        Locations by zipcode\n",
    "        The average income of those locations in USD"
   ]
  },
  {
   "cell_type": "markdown",
   "metadata": {},
   "source": [
    "# Ethics & Privacy"
   ]
  },
  {
   "cell_type": "markdown",
   "metadata": {},
   "source": [
    "If the data sets are ideal enough, they will all be pulic accessible and collected with users' permission. But there are some possiblities that some information, like patient's information may be collcted by some commercial-based health care provider without informed consent.If we are able to detect this when the given data sets are avaliable, we must exclude those in our analysis. Meanwhile, income could be a confounding variable in our analysis as it is related to violent crime rate, and in poverty-stricken areas, it is possible that people living there can't afford the cost for visiting a doctor, and therefore there could be missing data for them. Thus, we must consider it in our analysis. As for the results of this analysis, we must be awared that we could use them as reference when making policies about hiking trials, but the result may not apply to other facilities and amenities. Also, since the data we collected are all from San Diego county, the result would only have limited reference value, and we cannot just apply the result to other areas without considering this. "
   ]
  }
 ],
 "metadata": {
  "kernelspec": {
   "display_name": "Python 3",
   "language": "python",
   "name": "python3"
  },
  "language_info": {
   "codemirror_mode": {
    "name": "ipython",
    "version": 3
   },
   "file_extension": ".py",
   "mimetype": "text/x-python",
   "name": "python",
   "nbconvert_exporter": "python",
   "pygments_lexer": "ipython3",
   "version": "3.7.6"
  }
 },
 "nbformat": 4,
 "nbformat_minor": 2
}
