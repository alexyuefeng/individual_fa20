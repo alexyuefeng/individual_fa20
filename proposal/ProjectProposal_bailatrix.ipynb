{
 "cells": [
  {
   "cell_type": "markdown",
   "metadata": {},
   "source": [
    "# COGS 108 - Project Proposal"
   ]
  },
  {
   "cell_type": "markdown",
   "metadata": {},
   "source": [
    "# Names & GitHub ID\n",
    "\n",
    "- Name: Bailey Passmore\n",
    "- GitHub Username: bailatrix"
   ]
  },
  {
   "cell_type": "markdown",
   "metadata": {},
   "source": [
    "# Research Question"
   ]
  },
  {
   "cell_type": "markdown",
   "metadata": {},
   "source": [
    "Is there a correlation between a community's purchase trends of cigarettes and alcohol and their purchase trends for non-medical vitamins and supplements?"
   ]
  },
  {
   "cell_type": "markdown",
   "metadata": {},
   "source": [
    "## Background and Prior Work"
   ]
  },
  {
   "cell_type": "markdown",
   "metadata": {},
   "source": [
    "The NCBI tracked smoking, alcohol consumption, and 'sedentary lifestyle' as metrics of unhealthy behavior among youth [1], and analyzed these factors in conjunction with various reporting methods to describe perceived physical health. In fact, the CDC tracks these 3 core behaviors and displays annual results on its public website [2].\n",
    "\n",
    "Since behaviors like smoking and drinking are recognized as harmful and considered potential indicators of underlying illness, it's not uncommon for reactions from observers to include education on the matter. However, some of the education can ultimately enable to behavior much more profoundly. Winchester Hospital displays an article on its website on \"Nutrition for Smokers\" [3] and countless articles speak to excess alcohol consumption's depletion of essentional vitamins and mineral supplies in the body [4] [5]. \n",
    "\n",
    "References (include links):\n",
    "- 1) https://www.ncbi.nlm.nih.gov/pmc/articles/PMC4188876/\n",
    "- 2) https://www.cdc.gov/500cities/definitions/unhealthy-behaviors.htm\n",
    "- 3) https://www.winchesterhospital.org/health-library/article?id=21549\n",
    "- 4) https://www.healthandscience.eu/index.php?option=com_content&view=article&id=1722:alcohol-depletes-your-stores-of-vitamins-and-minerals-us&catid=20&Itemid=374&lang=us\n",
    "- 5) https://pubs.niaaa.nih.gov/publications/aa22.htm"
   ]
  },
  {
   "cell_type": "markdown",
   "metadata": {},
   "source": [
    "# Hypothesis\n"
   ]
  },
  {
   "cell_type": "markdown",
   "metadata": {},
   "source": [
    "I suspect sales of vitamins and supplements interact with sales of cigarettes and alcohol in a community as purchases of cigarettes and alcohol are more commonly a coping mechanism for an unrelated stressor than a medically-supported element of a person's health regimen. However, as these behaviors have been repeatedly recognized for their destruction to the body, cyclical purchasers may ultimately seek out more self-medication in the form of well-marketed vitamins and supplements that online evidence suggests will help their body recover from the damage of their habit(s)."
   ]
  },
  {
   "cell_type": "markdown",
   "metadata": {},
   "source": [
    "# Data"
   ]
  },
  {
   "cell_type": "markdown",
   "metadata": {},
   "source": [
    "Since specific purchasing data from local stores would be difficult to obtain, collect, and wrangle, useful datasets for this project will be city/county business license records, BBB records, or even Yelp data, and public health records for the same period of time.\n",
    "\n",
    "- Local business license / BBB / Yelp data: Should provide data on how many liquor stores, smoke/vape shops, grocery stores, vitamin shops, etc operate in community, as well as how long the business held an active license, and potential rating or review information. Any reported profit data available should also be sourced if possible.\n",
    "\n",
    "- Public health records: Underlying metric for measuring community health\n",
    "\n",
    "The goal of collecting business reporting information is to inspect a given business, particularly one that featured the sale of either vitamins/supplements or cigarettes/alcohol, and establish whether it is/was sustained by cyclical purchases of those products, or if purchase trends appear more sporadic and disjointed. In the case of sporadic sales, we would expect to see evidence of low profits, short licenses or non-renewal, and sparse ratings/reviews. "
   ]
  },
  {
   "cell_type": "markdown",
   "metadata": {},
   "source": [
    "# Ethics & Privacy"
   ]
  },
  {
   "cell_type": "markdown",
   "metadata": {},
   "source": [
    "It will be crucial to remove all personally identifiable customer information from product sale data, as well as anonymize the stores participating and potentially the community itself. The data will also be screened before analysis and non-essential datum categories will not be carried over into the analysis stage."
   ]
  }
 ],
 "metadata": {
  "kernelspec": {
   "display_name": "Python 3",
   "language": "python",
   "name": "python3"
  },
  "language_info": {
   "codemirror_mode": {
    "name": "ipython",
    "version": 3
   },
   "file_extension": ".py",
   "mimetype": "text/x-python",
   "name": "python",
   "nbconvert_exporter": "python",
   "pygments_lexer": "ipython3",
   "version": "3.6.8"
  }
 },
 "nbformat": 4,
 "nbformat_minor": 2
}
