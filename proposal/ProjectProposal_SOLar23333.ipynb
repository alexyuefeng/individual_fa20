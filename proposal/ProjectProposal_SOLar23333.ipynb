{
 "cells": [
  {
   "cell_type": "markdown",
   "metadata": {},
   "source": [
    "# COGS 108 - Project Proposal"
   ]
  },
  {
   "cell_type": "markdown",
   "metadata": {},
   "source": [
    "# Names & GitHub ID\n",
    "\n",
    "- Name: Jared Zhang\n",
    "- GitHub Username: SOLar23333"
   ]
  },
  {
   "cell_type": "markdown",
   "metadata": {},
   "source": [
    "# Research Question"
   ]
  },
  {
   "cell_type": "markdown",
   "metadata": {},
   "source": [
    "Should San Diego Zoo & Safari Park adjust their ticket prices during COVID-19 / potential future pandemic period?"
   ]
  },
  {
   "cell_type": "markdown",
   "metadata": {},
   "source": [
    "## Background and Prior Work"
   ]
  },
  {
   "cell_type": "markdown",
   "metadata": {},
   "source": [
    "My roommates and I were planning to pay a visit to San Diego Zoo and/or Safari Park since the CDC has allowed large parks to reopen. However, during such a massive pandemic, theme parks are bound to have many restrictions. Likely many entertainment options would be closed, restaurants and attractions would limit the number of people, etc. Therefore, we need some extra pushes to make our decision. Each week, we will receive a promotion mail in our mailbox from San Deigo Zoo and Safari Park, which says, \"Save $15 on a 2-in-1 ticket for both San Diego Zoo and Safari Park.\" However, I visited the San Diego Zoo once, and as far as I know, this kind of promotion is always available, not just during this particular time. My roommates and I expect at least a 20 to 30 percent discount on a regular 1-day pass; otherwise, we decided to postpone this plan.\n",
    "\n",
    "The pandemic has certainly caused huge losses and loss of visitors to these large parks. However, the animals in the zoos must be cared for, the staff must be paid, and maintaining the zoos must require a large overhead. In addition to requesting more donations on the website, could the park adjust ticket prices at particular times to attract more visitors or adjust other spending in the park to maintain profit margins?\n",
    "\n",
    "Similar works have been done before. In the article \"3 big questions facing theme parks in the post-coronavirus era\", the author talked about how long it will take theme parks to recover from the COVID-19 pandemic and how consumer behavior has changed since COVID-19. In another article, \"Going beyond ticket sales: business models of successful attractions\", I learned about some basic business models for different kinds of attractions, including wildlife-based attractions. Some other articles have explored the changes made to their business models by Disneyland and Universal Studios during COVID-19. These similar initiatives and models could potentially be used at the San Diego Zoo.\n",
    "\n",
    "\n",
    "References (include links):\n",
    "- 1)https://blooloop.com/features/covid-19-pandemic-theme-parks-future/\n",
    "- 2)https://blooloop.com/park-database-business-models/"
   ]
  },
  {
   "cell_type": "markdown",
   "metadata": {},
   "source": [
    "# Hypothesis\n"
   ]
  },
  {
   "cell_type": "markdown",
   "metadata": {},
   "source": [
    "San Diego Zoo and Safari Park may need to offer discount for their tickets to attract more visitors during this particular time. Also, adjust prices for in-park dinning / shopping to get more profit to keep the park running."
   ]
  },
  {
   "cell_type": "markdown",
   "metadata": {},
   "source": [
    "# Data"
   ]
  },
  {
   "cell_type": "markdown",
   "metadata": {},
   "source": [
    "Ideal dataset will includes:\n",
    "1. Data from the park:\n",
    "- Variable includes: Historical daily visitor numbers, average visitor ticket prices, average in-park spending, visitor satisfaction, daily operating costs, daily profits\n",
    "- Stores in CSV file\n",
    "- Observation includes: Daily data during the pandemic, daily data before the pandemic, daily data during special discount periods (e.g., holidays)\n",
    "\n",
    "2. Data from the potential visitors:\n",
    "- Variable includes: Type of tickets they would like to purchase, reasons for choosing to visit (or not to) during the pandemic, expected ticket prices, age, gender, country of residence\n",
    "- Stores in CSV or other semi-structured data file\n",
    "- Observation includes: Potential visitors"
   ]
  },
  {
   "cell_type": "markdown",
   "metadata": {},
   "source": [
    "# Ethics & Privacy"
   ]
  },
  {
   "cell_type": "markdown",
   "metadata": {},
   "source": [
    "During an epidemic, it may be unethical to try to attract tourists by adjusting prices and other measures. People should be encouraged to stay home rather than go out and play. However, it is also true that parks need to maintain the ability to be able to operate. Therefore, the premise of this investigation must be based on the guidance regulations issued by the CDC.\n",
    "\n",
    "Also, due to international travel restrictions, it is likely that the user data collected will not reach travelers from other countries. As one of San Diego's most famous attractions, international visitors may represent a significant portion of the tourist population. They may have different consumer attitudes and behaviors, and the inability to collect data on these visitors may impact the results. "
   ]
  }
 ],
 "metadata": {
  "kernelspec": {
   "display_name": "Python 3",
   "language": "python",
   "name": "python3"
  },
  "language_info": {
   "codemirror_mode": {
    "name": "ipython",
    "version": 3
   },
   "file_extension": ".py",
   "mimetype": "text/x-python",
   "name": "python",
   "nbconvert_exporter": "python",
   "pygments_lexer": "ipython3",
   "version": "3.8.3"
  }
 },
 "nbformat": 4,
 "nbformat_minor": 2
}
