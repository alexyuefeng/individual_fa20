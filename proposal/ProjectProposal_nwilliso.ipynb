{
 "cells": [
  {
   "cell_type": "markdown",
   "metadata": {},
   "source": [
    "# COGS 108 - Project Proposal"
   ]
  },
  {
   "cell_type": "markdown",
   "metadata": {},
   "source": [
    "# Names & GitHub ID\n",
    "\n",
    "- Name: Nicholas Willison\n",
    "- GitHub Username: nwilliso"
   ]
  },
  {
   "cell_type": "markdown",
   "metadata": {},
   "source": [
    "# Research Question"
   ]
  },
  {
   "cell_type": "markdown",
   "metadata": {},
   "source": [
    "Does distance from a park or acreage of the closest park affect how many crimes are committed in the surrounding area within the city of San Diego?"
   ]
  },
  {
   "cell_type": "markdown",
   "metadata": {},
   "source": [
    "## Background and Prior Work"
   ]
  },
  {
   "cell_type": "markdown",
   "metadata": {},
   "source": [
    "The city of San Diego has over 400 parks, which combined takes up more than 40,000 acres of space. There are also 90 joint use agreements with local school districts for around 370 acres of additional recreational land during non-school hours ([1]). There was a plan created in 2008 that established standards for population-based parks, community parks, neighborhood parks, recreation centers, and aquatic centers. Population-based parks are meant to serve a community plan area with a minimum of 2.8 acres per 1000 population. Community parks are meant to serve a population of 25,000 with a 13 acre minimum. Neighborhood parks are meant to be accesible by biking and walking, as well as serve a population of 5,000 within approximately 1 mile while being between 3 to 13 acres. Recreation centers are meant to serve a population of 25,000 or within approximately 3 miles, whichever is less, while aquatic centers are meant to serve a population of 50,000 or within approximately 6 miles, whichever is less. ([2]). Over the past decade, the adopted budget for San Diego's parks and recreation has almost increased by 40% ([3]). A survey conducted by the city of San Diego found that 85% and 83% of the people surveyed were staisfied with the avaliability of parks and the hours of access at parks respectively ([4]).\n",
    "\n",
    "A data analysis study by The Trust for Public Land ranked San Diego as the 18th best city in the United States based off of their ranking systems for parks, which takes into account factors such as walking distance and amount of ammenities ([5]). The University of San Diego also takes this data from The Trust for Public Land and complies the data into easy-to-view tables comparing San Diego to other surronding cities and comparable cities around the United States ([6]).\n",
    "\n",
    "There is data from the city of San Diego that gives park locations ([7]) and police calls for service (which includes the location where they were called to) ([8]), which used together would be very helpful in determining the answer to the research question. Crime mapping data also shows crimes from the previous 180 days and can be used to visually see crimes in a radius of a certain address such as parks ([9]).\n",
    "\n",
    "References (include links):\n",
    "- [1] https://www.sandiego.gov/park-and-recreation/general-info\n",
    "- [2] https://www.sandiego.gov/park-and-recreation/general-info/prstand\n",
    "- [3] https://sandiegoca.opengov.com/transparency#/8082/accountType=expenses&embed=n&breakdown=8f5df8ff-b23a-4abb-8ed8-bb74d0fb05a3&currentYearAmount=cumulative&currentYearPeriod=years&graph=bar&legendSort=desc&proration=true&saved_view=null&selection=FA2BF06FFABD119E47C08D5DE2C33D8D&projections=null&projectionType=null&highlighting=null&highlightingVariance=null&year=2020&selectedDataSetIndex=null&fiscal_start=earliest&fiscal_end=latest\n",
    "- [4] https://www.sandiego.gov/sites/default/files/sandiego_2018_survey_findings_report_-_final_0.pdf\n",
    "- [5] https://www.tpl.org/city/san-diego-california\n",
    "- [6] https://www.sandiego.edu/soles/hub-nonprofit/initiatives/dashboard/park-access.php\n",
    "- [7] https://data.sandiego.gov/datasets/park-locations/\n",
    "- [8] https://data.sandiego.gov/datasets/police-calls-for-service/\n",
    "- [9] https://www.crimemapping.com/map/location/san%20diego?id=#"
   ]
  },
  {
   "cell_type": "markdown",
   "metadata": {},
   "source": [
    "# Hypothesis\n"
   ]
  },
  {
   "cell_type": "markdown",
   "metadata": {},
   "source": [
    "I believe that there will be a lower amount of crimes in the area surrounding parks. This is because there will most likely be more people going to the parks and therefore more witnesses if someone commits a crime near the park. Also, since parks are generally open space, there is great visibility and thus a less likely chance someone would want to commit a crime out in the open."
   ]
  },
  {
   "cell_type": "markdown",
   "metadata": {},
   "source": [
    "# Data"
   ]
  },
  {
   "cell_type": "markdown",
   "metadata": {},
   "source": [
    "The ideal dataset would have as many observations as there are parks in San Diego. The observations would have the variables of name, location (longitude and latitude coordinates), and acerage of the park. I would also want to have another dataset with the observations being crimes commited in the city of San Diego (preferably all of the crimes as far back as the last park was made). The variables for this crime dataset would be type of crime (in case I find correlations with specific types of crimes), distance to closest park (or the location of the crime in coordinates so I could easily find the distance myself), and name of the closest park (to be able to use the two datasets jointly). Ideally, these datasets would be organized in .csv files and be collected by the San Diego city government to ensure their reputability."
   ]
  },
  {
   "cell_type": "markdown",
   "metadata": {},
   "source": [
    "# Ethics & Privacy"
   ]
  },
  {
   "cell_type": "markdown",
   "metadata": {},
   "source": [
    "Considering my ideal dataset, there is no personal information present and the information is avaliable to the public, so I should have no problems in regards to permission to use the data. In the not so ideal world, maybe crime datasets contain personally identifiable information, such as the criminal's name, so I must remove those for privacy concerns.\n",
    "\n",
    "In regards to ethics, there may be bias when it comes to crimes in the dataset based on the bias of the police force. It is possible crimes were committed that corrupt police officers let slip by, or someone was wrongfully arrested for a crime that was not committed. The goal with my data analysis is to be transparent as possilbe and call out the possibility that the data could be biased. There could also be the possiblity that the results from my analysis are taken as representative thorughout all cities, while in reality, it only applies to San Diego.\n",
    "\n",
    "When I get the real dataset that will be provided, I will ensure to remove any personally indentifiable information for privacy cocerns as well as, be transparent throughout my whole proccess to not unethically use the data."
   ]
  }
 ],
 "metadata": {
  "kernelspec": {
   "display_name": "Python 3",
   "language": "python",
   "name": "python3"
  },
  "language_info": {
   "codemirror_mode": {
    "name": "ipython",
    "version": 3
   },
   "file_extension": ".py",
   "mimetype": "text/x-python",
   "name": "python",
   "nbconvert_exporter": "python",
   "pygments_lexer": "ipython3",
   "version": "3.8.3"
  }
 },
 "nbformat": 4,
 "nbformat_minor": 2
}
