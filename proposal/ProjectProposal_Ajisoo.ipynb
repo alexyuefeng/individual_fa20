{
 "cells": [
  {
   "cell_type": "markdown",
   "metadata": {},
   "source": [
    "# COGS 108 - Project Proposal"
   ]
  },
  {
   "cell_type": "markdown",
   "metadata": {},
   "source": [
    "# Names & GitHub ID\n",
    "\n",
    "- Name: Andrew Chang\n",
    "- GitHub Username: Ajisoo"
   ]
  },
  {
   "cell_type": "markdown",
   "metadata": {},
   "source": [
    "# Research Question"
   ]
  },
  {
   "cell_type": "markdown",
   "metadata": {},
   "source": [
    "By how much does proximity to the beach affect vistor's enjoyment of the San Diego County's parks?"
   ]
  },
  {
   "cell_type": "markdown",
   "metadata": {},
   "source": [
    "## Background and Prior Work"
   ]
  },
  {
   "cell_type": "markdown",
   "metadata": {},
   "source": [
    "Google maps lists public parks when searching 'public parks', and lists a rating for each, decided by many users online (1) \n",
    "There are many different things to think of when choosing a park location, part of which is what types of attractions, which could include view of the ocean (2) \n",
    "\n",
    "References (include links):\n",
    "- 1) https://www.google.com/maps/search/public+parks/@32.7792145,-117.1400217,11.76z \n",
    "- 2) https://www.miracle-recreation.com/blog/guide-to-designing-park/#section1"
   ]
  },
  {
   "cell_type": "markdown",
   "metadata": {},
   "source": [
    "# Hypothesis\n"
   ]
  },
  {
   "cell_type": "markdown",
   "metadata": {},
   "source": [
    "I believe that beaches (public parks at the coast) and close parks are rated higher than those closer inland."
   ]
  },
  {
   "cell_type": "markdown",
   "metadata": {},
   "source": [
    "# Data"
   ]
  },
  {
   "cell_type": "markdown",
   "metadata": {},
   "source": [
    "The ideal data would simply be a collection of San Diego County's parks, along with their location in latitude and longitude, along with a standardized rating (maybe from 0 to 10) that represented how the general public views the park."
   ]
  },
  {
   "cell_type": "markdown",
   "metadata": {},
   "source": [
    "# Ethics & Privacy"
   ]
  },
  {
   "cell_type": "markdown",
   "metadata": {},
   "source": [
    "Because the data of ratings is based off of user submitted data, we would need to make sure that there is no personally identifiable information within the data. As the ideal data is an aggregate, I hope no changes to the data collection process would be needed. We would also have to worry about bias with real-world data. Self-selection bias for submitting reviews/rating is also a concern"
   ]
  }
 ],
 "metadata": {
  "kernelspec": {
   "display_name": "Python 3",
   "language": "python",
   "name": "python3"
  },
  "language_info": {
   "codemirror_mode": {
    "name": "ipython",
    "version": 3
   },
   "file_extension": ".py",
   "mimetype": "text/x-python",
   "name": "python",
   "nbconvert_exporter": "python",
   "pygments_lexer": "ipython3",
   "version": "3.7.9"
  }
 },
 "nbformat": 4,
 "nbformat_minor": 2
}
