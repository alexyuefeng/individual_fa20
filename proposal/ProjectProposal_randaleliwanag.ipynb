{
 "cells": [
  {
   "cell_type": "markdown",
   "metadata": {},
   "source": [
    "# COGS 108 - Project Proposal"
   ]
  },
  {
   "cell_type": "markdown",
   "metadata": {},
   "source": [
    "# Names & GitHub ID\n",
    "\n",
    "- Name: Randale Liwanag\n",
    "- GitHub Username: randaleliwanag"
   ]
  },
  {
   "cell_type": "markdown",
   "metadata": {},
   "source": [
    "# Research Question"
   ]
  },
  {
   "cell_type": "markdown",
   "metadata": {},
   "source": [
    "Are children at risk of injury due to using unsafe playground equipment in San Diego parks?  Unsafe can include equipment that is broken, excessively worn, or just dangerous in general.  If so, is it feasible to repair/replace equipment with the available parks and recreation budget?"
   ]
  },
  {
   "cell_type": "markdown",
   "metadata": {},
   "source": [
    "## Background and Prior Work"
   ]
  },
  {
   "cell_type": "markdown",
   "metadata": {},
   "source": [
    "I have done some background research on this topic.  Unfortunately, the information I was able to find may be outdated, but it can be a good foundation to build off of.  The first reference I listed is a 2013 news article about playground safety in San Diego. It includes findings of the city's independent auditor, which concluded that parks and equipment are not being inspected enough and recommended that biweekly reports to the parks should be made.  There was also concern about the available budget for playground equipment repairs and/or replacement.\n",
    "\n",
    "The second reference that I included is a more recent (2017) performance audit of the parks and recreation departments maintenance operations.  With this, I was able to get an idea of the current efforts of inspecting and maintaining parks.  It was suprising to see that the San Diego park system is the second-largest by acreage in the US.  This made me realize that a lot of time and money is required to ensure inspections and repairs are completed at all parks.  The information in this document is very valuable as it lists the number of work orders filed in the prior year for the city's playgrounds (461) and the average time is takes to complete the work order.  This tells me that playground safety is an issue that should continue to be researched.\n",
    "\n",
    "References (include links):\n",
    "- 1)  https://www.nbcsandiego.com/news/local/playground-safety-concerns-raised-by-san-diego-city-auditor-report/1960478/\n",
    "- 2)  https://www.sandiego.gov/sites/default/files/18-009_park_and_rec_maintenance.pdf"
   ]
  },
  {
   "cell_type": "markdown",
   "metadata": {},
   "source": [
    "# Hypothesis\n"
   ]
  },
  {
   "cell_type": "markdown",
   "metadata": {},
   "source": [
    "I predict that many of the playground equipment in San Diego parks will be in need to repair and/or replacement.  The parks and recreation budget may not be enough to cover the expenses so the City will need to allocate money in order to increase the budget. "
   ]
  },
  {
   "cell_type": "markdown",
   "metadata": {},
   "source": [
    "# Data"
   ]
  },
  {
   "cell_type": "markdown",
   "metadata": {},
   "source": [
    "The variables that my ideal data set would have are the names/locations of parks, the major equipment the parks have (swings, slides, jungle gym, etc.), # of work orders for that park, # of injuries/incidents for that park (if any), and the cost of repairing/replacing the equipment.\n",
    "\n",
    "The number of observations would be determined by the number of playgrounds in San Diego.  This is to allow accurate, not estimated, representation of data.\n",
    "\n",
    "The data would be collected from the current or most recent performance audit report of the parks and recreation departments maintenance operations."
   ]
  },
  {
   "cell_type": "markdown",
   "metadata": {},
   "source": [
    "# Ethics & Privacy"
   ]
  },
  {
   "cell_type": "markdown",
   "metadata": {},
   "source": [
    "The data that I have seen so far from doing background research appears to be public records with no personally identifying information recorded.  The data has already been collected and the record was published online.  Additionally, the background information that was collected was specifically for San Diego parks and not data of parks from other cities.  This is crucial because the parks and recreation department's budgets and practices are not the same throughout various cities.  It would not be fair to collect and utilize data that is not relevant to San Diego.\n",
    "\n",
    "Note:  The actual data that I will be using for this project will be provided by my Professor, so I will be assuming that I have permission to use such data.  Only then will I be able to see if any personally identifying information will need to be removed before being used in my project.  Also, I cannot attest to the methods of collection such data."
   ]
  }
 ],
 "metadata": {
  "kernelspec": {
   "display_name": "Python 3",
   "language": "python",
   "name": "python3"
  },
  "language_info": {
   "codemirror_mode": {
    "name": "ipython",
    "version": 3
   },
   "file_extension": ".py",
   "mimetype": "text/x-python",
   "name": "python",
   "nbconvert_exporter": "python",
   "pygments_lexer": "ipython3",
   "version": "3.7.6"
  }
 },
 "nbformat": 4,
 "nbformat_minor": 2
}
