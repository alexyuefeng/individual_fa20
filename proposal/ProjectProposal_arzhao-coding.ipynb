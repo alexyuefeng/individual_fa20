{
 "cells": [
  {
   "cell_type": "markdown",
   "metadata": {},
   "source": [
    "# COGS 108 - Project Proposal"
   ]
  },
  {
   "cell_type": "markdown",
   "metadata": {},
   "source": [
    "# Names & GitHub ID\n",
    "\n",
    "- Name: Alex Zhao\n",
    "- GitHub Username: arzhao-coding"
   ]
  },
  {
   "cell_type": "markdown",
   "metadata": {},
   "source": [
    "# Research Question"
   ]
  },
  {
   "cell_type": "markdown",
   "metadata": {},
   "source": [
    "Is there a relationship between the funding per area and accessibilty to park?"
   ]
  },
  {
   "cell_type": "markdown",
   "metadata": {},
   "source": [
    "## Background and Prior Work"
   ]
  },
  {
   "cell_type": "markdown",
   "metadata": {},
   "source": [
    "*Fill in your background and prior work here. Be sure to specify which statements are from which references.* \n",
    "\n",
    "References (include links):\n",
    "- 1) The Complexities of Measuring Access to Parks and Physical Activity Cites in New York City: a quanititative and qualitative approach \n",
    "- 1) Link: https://ij-healthgeographics.biomedcentral.com/articles/10.1186/1476-072X-8-34#Sec2 \n",
    "- 2) Local Government Funding Strategies for Parks and Recreation Projects \n",
    "- 2) Link: https://www.completecommunitiesde.org/planning/healthy-and-livable/local-government-funding-strategies-parks-rec/ \n"
   ]
  },
  {
   "cell_type": "markdown",
   "metadata": {},
   "source": [
    "# Hypothesis\n"
   ]
  },
  {
   "cell_type": "markdown",
   "metadata": {},
   "source": [
    "H1: More funding leads to greater park access \n",
    "H0: The amount of funding is negligible for park accessibility \n",
    "Parks are maintained by local government and receive various levels of funding from different sources. This project aims to determine whether higher funded parks promote greater accessibility guaged by Phyiscal Activity Density and Acreage Density"
   ]
  },
  {
   "cell_type": "markdown",
   "metadata": {},
   "source": [
    "# Data"
   ]
  },
  {
   "cell_type": "markdown",
   "metadata": {},
   "source": [
    "The ideal dataset would contain park demographics, funding, size, and attendance information. Having at least 1000 observations will ensure results are robust as the central limit theroem engages and a normal distribution between funding (after being logarithmically transformed) and accessibility should exist. Most of the data should exist on the parks database as funding, size, and basic demographical information are within city authority. Attendance may be trickier if no one is manually counting the amount of people coming each day. "
   ]
  },
  {
   "cell_type": "markdown",
   "metadata": {},
   "source": [
    "# Ethics & Privacy"
   ]
  },
  {
   "cell_type": "markdown",
   "metadata": {},
   "source": [
    "City data should be public so there wouldn't be any ethical concerns with using it. An issue will arise if the model follows the New York reference above and includes ethnic background information, however this is only possible with the assumption that there is data on park attendance and density mapping available. The easiest means to addressing these issues are to avoid racial biases that may exist since some parks are located in racially dominated zones."
   ]
  }
 ],
 "metadata": {
  "kernelspec": {
   "display_name": "Python 3",
   "language": "python",
   "name": "python3"
  },
  "language_info": {
   "codemirror_mode": {
    "name": "ipython",
    "version": 3
   },
   "file_extension": ".py",
   "mimetype": "text/x-python",
   "name": "python",
   "nbconvert_exporter": "python",
   "pygments_lexer": "ipython3",
   "version": "3.7.9"
  }
 },
 "nbformat": 4,
 "nbformat_minor": 2
}
