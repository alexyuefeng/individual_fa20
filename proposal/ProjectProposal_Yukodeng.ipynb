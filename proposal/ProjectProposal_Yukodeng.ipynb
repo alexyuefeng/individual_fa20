{
 "cells": [
  {
   "cell_type": "markdown",
   "metadata": {},
   "source": [
    "# COGS 108 - Project Proposal"
   ]
  },
  {
   "cell_type": "markdown",
   "metadata": {},
   "source": [
    "# Names & GitHub ID\n",
    "\n",
    "- Name: Yufei Deng\n",
    "- GitHub Username: Yukodeng"
   ]
  },
  {
   "cell_type": "markdown",
   "metadata": {},
   "source": [
    "# Research Question"
   ]
  },
  {
   "cell_type": "markdown",
   "metadata": {},
   "source": [
    "Does the pattern of visits to parks and recreation spaces in San Diego vary among social groups? Specifically, are there significant interactions between the visitors’ ethnicity, age, income level, and preference for the recreational services provided?"
   ]
  },
  {
   "cell_type": "markdown",
   "metadata": {},
   "source": [
    "## Background and Prior Work¶\n",
    "\n",
    "As San Diego County becomes more diverse in its social make-up, creating spaces for everyone's liking can be a difficult task. Aside from geographic proximity to neighborhoods, the accessibility of a recreation space is also judged by its variety of features and the services provided (e.g. natural scenes, sports grounds, themed events, educational training, etc.). Depending on its characters, the place may attract people of different age, gender, and ethnicity. For example, Balboa Park draws many visitors every year with its diverse amenities such as the art museums and the botanic gardens. Young parents could bring their babies, while elder people could enjoy a walk around the park.  Understanding what appeals to a certain social group gives powerful information for the administrators to optimize their investment and improve residents' lives.\n",
    "\n",
    "This review[1] is based on past literature studies of \"Outdoor Recreation and Ethnicity in Europe\". It intends to fill the gap in the field of studies about outdoor recreation patterns and ethnic minorities in Europe. For instance, it critiqued the lack of consistency in categorizing ethnic affiliation. The study reveals the differences in outdoor recreation patterns and accessibility between the mainstream white population and non-Western immigrants.\n",
    "\n",
    "Another study[2] gathered data from geo-located social media (GSM) as indicators of visitation to the 2143 parks across New York City. It extracts data from uploads on Flickr and Twitter to obtain the variable, park visitation rates. Then, using regression models, it tests the three potential predictors of visitation rate: 1). Park facilities and characteristics; 2). Accessibility; 3). Neighborhood socio-demographic characteristics. The study finds that, indeed, visitation increases with proximity to public transportation, water bodies, and athletic fields. However, it is negatively associated with green space and higher proportion of ethnic minorities in the neighborhood. The latter parts of the findings contrast with the results of past studies. This suggests the complexity of the problem and that the result may vary from choices of organizing data and constructing variables."
   ]
  },
  {
   "cell_type": "markdown",
   "metadata": {},
   "source": [
    "References:\n",
    "- 1) https://doi.org/10.1016/j.ufug.2011.05.002\n",
    "- 2) https://doi.org/10.1016/j.compenvurbsys.2018.01.007"
   ]
  },
  {
   "cell_type": "markdown",
   "metadata": {},
   "source": [
    "# Hypothesis\n"
   ]
  },
  {
   "cell_type": "markdown",
   "metadata": {},
   "source": [
    "Hypothesis: There is differences in recreation preference among ethnic groups. Gender, age, and income level may also interect with ethnicity to affect the pattern of park and recreation use. \n",
    "\n",
    "For example, there might be smaller effect of ethnicity on the preference for recreation activities among younger people than the elder generations.\n"
   ]
  },
  {
   "cell_type": "markdown",
   "metadata": {},
   "source": [
    "# Data"
   ]
  },
  {
   "cell_type": "markdown",
   "metadata": {},
   "source": [
    "The dataset will include all 400+ parks and additional recreation centers in San Diego as observations. Additionally, it will include variables: the types of activities, the cost for visit, the average daily visits, the ethnic make-up of the visitors, the age make-up of the visitors, the gender make-up of the visitors, the income level of the visitors (Some info can be hard to obtain without conducting surveys...)."
   ]
  },
  {
   "cell_type": "markdown",
   "metadata": {},
   "source": [
    "# Ethics & Privacy"
   ]
  },
  {
   "cell_type": "markdown",
   "metadata": {},
   "source": [
    "Doing research based on information of individuals' gender, age, ethnicity, and income level can be potentially dangerous in violating privacy if exposed to the public. Thus, it is very important to keep data anonymized. The study is aimed to understand and integrate cultural diversity into recreation facilities in San Diego to improve people's lives. Therefore, the study should take every measure to reduce bias and adhere to the basic ethical principles. After the study is being conducted, it will be made pulicly accessible online."
   ]
  }
 ],
 "metadata": {
  "kernelspec": {
   "display_name": "Python 3",
   "language": "python",
   "name": "python3"
  },
  "language_info": {
   "codemirror_mode": {
    "name": "ipython",
    "version": 3
   },
   "file_extension": ".py",
   "mimetype": "text/x-python",
   "name": "python",
   "nbconvert_exporter": "python",
   "pygments_lexer": "ipython3",
   "version": "3.8.5"
  }
 },
 "nbformat": 4,
 "nbformat_minor": 2
}
