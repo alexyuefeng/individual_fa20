{
 "cells": [
  {
   "cell_type": "code",
   "execution_count": 1,
   "metadata": {},
   "outputs": [],
   "source": [
    "%matplotlib inline\n",
    "import pandas as pd , numpy as np , matplotlib.pyplot as plt , warnings \n",
    "warnings.filterwarnings('ignore')"
   ]
  },
  {
   "cell_type": "markdown",
   "metadata": {},
   "source": [
    "# COGS 108 - Final Project"
   ]
  },
  {
   "cell_type": "markdown",
   "metadata": {},
   "source": [
    "## Overview"
   ]
  },
  {
   "cell_type": "markdown",
   "metadata": {},
   "source": [
    "Criminal activities can vary in severity, from being a mior misdemeanors to highly violent acts of felony. Regardless of the severity, however, a community would always prefer to avoid encountering any events of such nature, in the first place. It would, therefore, be rational to analyze any trends or correlation we can find on previously collected data, to make predictions and policies in the future.\n",
    "\n",
    "Through this analysis my objective was to find a trend in the time of the year as well as time of day where such events occur more, and if the amount of budget invested in crime scene response was correlated to number of such crimes occuring in a given year.\n",
    "\n"
   ]
  },
  {
   "cell_type": "markdown",
   "metadata": {},
   "source": [
    "## Name & GitHub"
   ]
  },
  {
   "cell_type": "markdown",
   "metadata": {},
   "source": [
    "Name: Aliya Paracha\n",
    "\n",
    "GitHUb Username: aliyapa"
   ]
  },
  {
   "cell_type": "markdown",
   "metadata": {},
   "source": [
    "## Research Questions"
   ]
  },
  {
   "cell_type": "markdown",
   "metadata": {},
   "source": [
    "In this study we will be focusing mainly on what might be the safer times for families and children to utilize the Parks and Recreation available in the City of San Diego. In order to best analyze this query, we will be looking into four sub questions listed below:\n",
    "\n",
    "1) Is there a trend in the time of the day where most of the calls for services are received by the SDPD?\n",
    "\n",
    "2) Is there a trend in the time of the year where most of the calls for services are received by the SDPD?\n",
    "\n",
    "3) Is there a trend in the day of the week where most of the calls for services are received by the SDPD?\n",
    "\n",
    "4) Is there a trend between the budget setaside for the Criminal Scene Response and number of calls for services received by the SDPD, in a given fiscal year?"
   ]
  },
  {
   "cell_type": "markdown",
   "metadata": {},
   "source": [
    "## Background and Prior Work"
   ]
  },
  {
   "cell_type": "markdown",
   "metadata": {},
   "source": [
    "    Parks and Recreationional activities have become a lot more common(2), as well as of a greater importance during these times of the pandemic, especilly given that during lockdowns most fitness centers have closed and children do not have the social activities they normally did when schools were open. \n",
    "\n",
    "    With that being said, however, there was a reported increase in violent crime in city neighborhoods in recent years, according to an article by Th San Diego Tribune(3). Additionally, another recent article by the same source also talked about park curfews that were being put in place in response to crime concerns, as the article stated, \"Police say curfews can be effective at reducing crime because they limit opportunities for illegal activity and provide officers with another enforcement tool\"(1).\n",
    "    \n",
    "    Therefore, with less and less safe options left for families and adults to maintain a healthier lifestyle, it would be a rather helpful study to see what are the safer times families and children, the general public, can engage in recreational activities and go to parks.\n",
    "\n",
    "\n",
    "References:\n",
    "\n",
    "\n",
    " 1)   Garrick, David. \"Park Curfews On The Rise In San Diego In Response To Crime Concerns\". San Diego Union-Tribune, 2020, https://www.sandiegouniontribune.com/communities/san-diego/story/2020-02-16/park-curfews-on-the-rise-in-san-diego-in-response-to-crime-concerns.\n",
    " \n",
    " 2)   \"Increase In Outdoor Activities Due To COVID-19\". Outdoor Industry Association, 2020, https://outdoorindustry.org/article/increase-outdoor-activities-due-covid-19/.\n",
    "    \n",
    " 3)   Moran, Greg et al. \"More City Neighborhoods See Increase In Violent Crimes, New Data Analysis Shows\". San Diego Union-Tribune, 2020, https://www.sandiegouniontribune.com/news/public-safety/story/2019-06-05/more-city-neighborhoods-see-increase-in-violent-crimes-new-data-analysis-shows.\n",
    " \n",
    " 4) FinalProject_michelemurakami.ipynb\n",
    " \n",
    "    "
   ]
  },
  {
   "cell_type": "markdown",
   "metadata": {},
   "source": [
    "## Hypothesis"
   ]
  },
  {
   "cell_type": "markdown",
   "metadata": {},
   "source": [
    "Given that I had posed three seperate questions with the interest of gaining perspective on information from a number of angels, I had three separate hypothesis corresponding to each question.\n",
    "\n",
    "Firstly, I hypothesize that there will be a trend of more calls being made during earlier in the day, when it may seem more porbable for someone to try commiting a crime, specially in isolated areas with less public; however this would also mean that any passerby may be able to witness, given that there will be daylight, hence make a call for services.\n",
    "\n",
    "Secondly, I hypothesize that there will be a trend of the calls being made more often during the warmer months as that is when people are often more agitated, leading to more criminal activities to occur; moreover,it will be more common for people to be outdoors do witness any disorderly conduct or violent crime, along with any of the calls made for the indoors witness criminal activities.\n",
    "\n",
    "Thirdly, I hypothesize that more calls may be made during the weekends than the weekdays, as people might be too busy with work or school on weekdays, making it easier for crimes to be commited, such as break ins, and public noticing it after the crime has been commited. Also more public is outdoors and moving about during the weekends, going to places, increasing the chances for the calls to be made. Lastly, a lot more parties and such events take place during the weekend too, increasing the chances of DUIs or noise disturbances being reported.\n",
    "\n",
    "Fourthly, and lastly, I hypothesize that with an increase in the budget set aside for Crime Scene Services the number of calls with reduce for that year as more patrol officers will be out and about, making it less common for public to report the crime, but rather the cops catching up to the criminals and either preventing the misdemeanor or felony to take place in the first place, or taking appropriate actions,in a timely manner."
   ]
  },
  {
   "cell_type": "markdown",
   "metadata": {},
   "source": [
    "## Dataset(s)"
   ]
  },
  {
   "cell_type": "code",
   "execution_count": null,
   "metadata": {},
   "outputs": [],
   "source": [
    "df1 =pd.read_csv('pd_calls_for_service_2020_datasd.csv')#calls for 2020\n",
    "df2 =pd.read_csv('pd_calls_for_service_2019_datasd.csv')#calls for 2019\n",
    "df3=pd.read_csv('pd_calls_for_service_2018_datasd.csv')#calls for 2018\n",
    "df4=pd.read_csv('pd_calls_for_service_2017_datasd.csv')#calls for 2017\n",
    "df5 = pd.read_csv('actuals_operating_datasd.csv')#budget per fy"
   ]
  },
  {
   "cell_type": "markdown",
   "metadata": {},
   "source": [
    "## Data Cleaning"
   ]
  },
  {
   "cell_type": "code",
   "execution_count": null,
   "metadata": {},
   "outputs": [],
   "source": [
    "#dropping unneccesary columns\n",
    "df1=df1.drop(columns=['address_road_intersecting','address_sfx_intersecting','address_dir_intersecting','address_dir_primary','address_number_primary','call_type','priority','beat','address_road_primary','address_sfx_primary','disposition'])\n",
    "df2=df2.drop(columns=['address_road_intersecting','address_sfx_intersecting','address_dir_intersecting','address_dir_primary','address_number_primary','call_type','priority','beat','address_road_primary','address_sfx_primary','disposition'])\n",
    "df3=df3.drop(columns=['address_road_intersecting','address_sfx_intersecting','address_dir_intersecting','address_dir_primary','address_number_primary','call_type','priority','beat','address_road_primary','address_sfx_primary','disposition'])\n",
    "df4=df4.drop(columns=['address_road_intersecting','address_sfx_intersecting','address_dir_intersecting','address_dir_primary','address_number_primary','call_type','priority','beat','address_road_primary','address_sfx_primary','disposition'])"
   ]
  },
  {
   "cell_type": "code",
   "execution_count": null,
   "metadata": {},
   "outputs": [],
   "source": [
    "def standardize_day_of_week(day_string):\n",
    "    day_string = day_string.replace('1','Monday')\n",
    "    day_string= day_string.replace('2','Tuesday')\n",
    "    day_string = day_string.replace('3','Wednesday')\n",
    "    day_string = day_string.replace('4','Thursday')\n",
    "    day_string = day_string.replace('5','Friday')\n",
    "    day_string = day_string.replace('6','Saturday')\n",
    "    day_string = day_string.replace('7','Sunday')\n",
    "    return day_string"
   ]
  },
  {
   "cell_type": "code",
   "execution_count": null,
   "metadata": {},
   "outputs": [],
   "source": [
    "def standardize_day_of_week_2(day_string):\n",
    "    day_string = day_string.replace('0','Monday')\n",
    "    day_string= day_string.replace('1','Tuesday')\n",
    "    day_string = day_string.replace('2','Wednesday')\n",
    "    day_string = day_string.replace('3','Thursday')\n",
    "    day_string = day_string.replace('4','Friday')\n",
    "    day_string = day_string.replace('5','Saturday')\n",
    "    day_string = day_string.replace('6','Sunday')\n",
    "    return day_string"
   ]
  },
  {
   "cell_type": "code",
   "execution_count": null,
   "metadata": {},
   "outputs": [],
   "source": [
    "def standardize_day_of_week_3(day_string):\n",
    "    day_string = day_string.replace('0','Monday')\n",
    "    day_string= day_string.replace('1','Tuesday')\n",
    "    day_string = day_string.replace('2','Wednesday')\n",
    "    day_string = day_string.replace('3','Thursday')\n",
    "    day_string = day_string.replace('4','Friday')\n",
    "    day_string = day_string.replace('5','Saturday')\n",
    "    day_string = day_string.replace('6','Sunday')\n",
    "    return day_string"
   ]
  },
  {
   "cell_type": "code",
   "execution_count": null,
   "metadata": {},
   "outputs": [],
   "source": [
    "df1['day_of_week']\n",
    "df1['day_of_week']=df1['day_of_week'].apply(str)\n",
    "df1['day_of_week']=df1['day_of_week'].apply(standardize_day_of_week)\n",
    "df2['day_of_week']=df2['day_of_week'].apply(str)\n",
    "df2['day_of_week']=df2['day_of_week'].apply(standardize_day_of_week_2)\n",
    "df3['day_of_week']=df3['day_of_week'].apply(str)\n",
    "df3['day_of_week']=df3['day_of_week'].apply(standardize_day_of_week_2)\n",
    "df4['day_of_week']=df4['day_of_week'].apply(str)\n",
    "df4['day_of_week']=df4['day_of_week'].apply(standardize_day_of_week_2)"
   ]
  },
  {
   "cell_type": "code",
   "execution_count": null,
   "metadata": {},
   "outputs": [],
   "source": [
    "df1['Dates'] = pd.to_datetime(df1['date_time']).dt.date\n",
    "df1['Time'] = pd.to_datetime(df1['date_time']).dt.time\n",
    "df2['Dates'] = pd.to_datetime(df2['date_time']).dt.date\n",
    "df2['Time'] = pd.to_datetime(df2['date_time']).dt.time\n",
    "df3['Dates'] = pd.to_datetime(df3['date_time']).dt.date\n",
    "df3['Time'] = pd.to_datetime(df3['date_time']).dt.time\n",
    "df4['Dates'] = pd.to_datetime(df4['date_time']).dt.date\n",
    "df4['Time'] = pd.to_datetime(df4['date_time']).dt.time"
   ]
  },
  {
   "cell_type": "code",
   "execution_count": null,
   "metadata": {},
   "outputs": [],
   "source": [
    "#df1=df1.drop(columns=['date_time'])\n",
    "#df2=df2.drop(columns=['date_time'])\n",
    "#df3=df3.drop(columns=['date_time'])\n",
    "#df4=df4.drop(columns=['date_time'])"
   ]
  },
  {
   "cell_type": "code",
   "execution_count": null,
   "metadata": {},
   "outputs": [],
   "source": [
    "df5 = df5[['amount','report_fy','account']]"
   ]
  },
  {
   "cell_type": "code",
   "execution_count": null,
   "metadata": {},
   "outputs": [],
   "source": [
    "df5.loc[df5['account']==\"Crime Scene Response\"]\n",
    "#df5.loc[df5['report_fy']==17]"
   ]
  },
  {
   "cell_type": "code",
   "execution_count": null,
   "metadata": {},
   "outputs": [],
   "source": [
    "#var = df5.loc[df5['account']=='Crime Scene Response']\n",
    "var2 = df5.loc[df5['account'].index.isin(['22022','371215','423836'])]"
   ]
  },
  {
   "cell_type": "code",
   "execution_count": null,
   "metadata": {},
   "outputs": [],
   "source": [
    "var2"
   ]
  },
  {
   "cell_type": "code",
   "execution_count": null,
   "metadata": {},
   "outputs": [],
   "source": [
    "total_fy_17 = df5.get_value(22022, 'amount') \n",
    "total_fy_18 = df5.get_value(371215, 'amount') \n",
    "total_fy_19 = df5.get_value(423836, 'amount') "
   ]
  },
  {
   "cell_type": "markdown",
   "metadata": {},
   "source": [
    "## Data Analysis & Results¶"
   ]
  },
  {
   "cell_type": "code",
   "execution_count": null,
   "metadata": {},
   "outputs": [],
   "source": [
    "df1['day_of_week'].value_counts().sort_index().plot(kind='line',label='Calls for services in 2020')\n",
    "df2['day_of_week'].value_counts().sort_index().plot(kind='line',label='Calls for services in 2019')\n",
    "df3['day_of_week'].value_counts().sort_index().plot(kind='line',label='Calls for services in 2018')\n",
    "df4['day_of_week'].value_counts().sort_index().plot(kind='line',label='Calls for services in 2017')\n",
    "plt.ylim(20000,100000)\n",
    "plt.legend()"
   ]
  },
  {
   "cell_type": "markdown",
   "metadata": {},
   "source": [
    "The line plot depicting a more general pattern of more calls being made during Wednesdays, Thursdays and Fridays"
   ]
  },
  {
   "cell_type": "code",
   "execution_count": null,
   "metadata": {},
   "outputs": [],
   "source": [
    "fig, axs = plt.subplots(2, 2,figsize=(12,8))\n",
    "df1['day_of_week'].value_counts().sort_index().plot(ax=axs[0,0],kind='bar',title='Weekly Calls for services in 2020',color = 'orange')\n",
    "df2['day_of_week'].value_counts().sort_index().plot(ax=axs[0,1],kind='bar',title='Weekly Calls for services in 2019',color = 'green')\n",
    "df3['day_of_week'].value_counts().sort_index().plot(ax=axs[1,0],kind='bar',title='Weekly Calls for services in 2018',color = 'purple')\n",
    "df4['day_of_week'].value_counts().sort_index().plot(ax=axs[1,1],kind='bar',title='Weekly Calls for services in 2017',color = 'red')\n",
    "fig.tight_layout()"
   ]
  },
  {
   "cell_type": "markdown",
   "metadata": {},
   "source": [
    "The bar plot depicting weekly calls separatley accrding to each year with Fridays being the highest for each year"
   ]
  },
  {
   "cell_type": "code",
   "execution_count": null,
   "metadata": {},
   "outputs": [],
   "source": [
    "new_arr1 = np.arange(1, len(df1)+1)\n",
    "new_arr2 = np.arange(1, len(df2)+1)\n",
    "new_arr3 = np.arange(1, len(df3)+1)\n",
    "new_arr4 = np.arange(1, len(df4)+1)\n",
    "df1['incident_num']=new_arr1\n",
    "df2['incident_num']=new_arr2\n",
    "df3['incident_num']=new_arr3\n",
    "df4['incident_num']=new_arr4"
   ]
  },
  {
   "cell_type": "code",
   "execution_count": null,
   "metadata": {},
   "outputs": [],
   "source": [
    "df1['month'] = pd.to_datetime(df1['Dates']).dt.month\n",
    "df2['month'] = pd.to_datetime(df2['Dates']).dt.month\n",
    "df3['month'] = pd.to_datetime(df3['Dates']).dt.month\n",
    "df4['month'] = pd.to_datetime(df4['Dates']).dt.month\n",
    "\n",
    "fig, axs = plt.subplots(2, 2,figsize=(12,8))\n",
    "df1['month'].value_counts().sort_index().plot(ax=axs[0,0],kind='bar',title='Monthly Calls for services in 2020',color = 'orange')\n",
    "df2['month'].value_counts().sort_index().plot(ax=axs[0,1],kind='bar',title='Monthly Calls for services in 2019',color = 'green')\n",
    "df3['month'].value_counts().sort_index().plot(ax=axs[1,0],kind='bar',title='Monthly Calls for services in 2018',color = 'purple')\n",
    "df4['month'].value_counts().sort_index().plot(ax=axs[1,1],kind='bar',title='Monthly Calls for services in 2017',color = 'red')\n",
    "fig.tight_layout()"
   ]
  },
  {
   "cell_type": "markdown",
   "metadata": {},
   "source": [
    "The bar plot depicting nor real pattern with what month in general had the highest calls for services"
   ]
  },
  {
   "cell_type": "code",
   "execution_count": null,
   "metadata": {},
   "outputs": [],
   "source": [
    "df1['month'].value_counts().sort_index().plot(kind='line',label='Calls for services in 2020')\n",
    "df2['month'].value_counts().sort_index().plot(kind='line',label='Calls for services in 2019')\n",
    "df3['month'].value_counts().sort_index().plot(kind='line',label='Calls for services in 2018')\n",
    "df4['month'].value_counts().sort_index().plot(kind='line',label='Calls for services in 2017')\n",
    "plt.ylim(20000,90000)\n",
    "plt.legend()"
   ]
  },
  {
   "cell_type": "markdown",
   "metadata": {},
   "source": [
    "The line plot depicting nor real pattern with what month in general had the highest calls for services"
   ]
  },
  {
   "cell_type": "code",
   "execution_count": null,
   "metadata": {},
   "outputs": [],
   "source": [
    "df1['Hour'] = pd.to_datetime(df1['date_time']).dt.hour\n",
    "df2['Hour'] = pd.to_datetime(df2['date_time']).dt.hour\n",
    "df3['Hour'] = pd.to_datetime(df3['date_time']).dt.hour\n",
    "df4['Hour'] = pd.to_datetime(df4['date_time']).dt.hour\n",
    "fig, axs = plt.subplots(2, 2,figsize=(12,8))\n",
    "df1['Hour'].value_counts().sort_index().plot(ax=axs[0,0],kind='bar',title='Daily times in 24Hr format Vs Calls for services in 2020',color = 'orange')\n",
    "df2['Hour'].value_counts().sort_index().plot(ax=axs[0,1],kind='bar',title='Daily times in 24Hr format Vs Calls for services in 2019',color = 'green')\n",
    "df3['Hour'].value_counts().sort_index().plot(ax=axs[1,0],kind='bar',title='Daily times in 24Hr format Vs Calls for services in 2018',color = 'purple')\n",
    "df4['Hour'].value_counts().sort_index().plot(ax=axs[1,1],kind='bar',title='Daily times in 24Hr format Vs Calls for services in 2017',color = 'red')\n",
    "fig.tight_layout()"
   ]
  },
  {
   "cell_type": "markdown",
   "metadata": {},
   "source": [
    "The bar plot depicting the highest calls for services being made between 9 and 11 am except 2017 when it was more common to have these calls made later in the evening"
   ]
  },
  {
   "cell_type": "code",
   "execution_count": null,
   "metadata": {},
   "outputs": [],
   "source": [
    "def autolabel(rects):\n",
    "    \"\"\"Attach a text label above each bar in *rects*, displaying its height.\"\"\"\n",
    "    for rect in rects:\n",
    "        height = rect.get_height()\n",
    "        axs.annotate('{}'.format(height),\n",
    "                    xy=(rect.get_x() + rect.get_width() / 2, height),\n",
    "                    xytext=(0, 3),  # 3 points vertical offset\n",
    "                    textcoords=\"offset points\",\n",
    "                    ha='center', va='bottom')\n",
    "        \n",
    "#gotten this function from the documentation page https://matplotlib.org/3.3.3/gallery/lines_bars_and_markers/barchart.html#sphx-glr-gallery-lines-bars-and-markers-barchart-py"
   ]
  },
  {
   "cell_type": "code",
   "execution_count": null,
   "metadata": {},
   "outputs": [],
   "source": [
    "#number of total call 17 18 19\n",
    "#df4=17 df3=18 df2=19\n",
    "labels=['Fiscal year 2017','Fiscal year 2018','Fiscal year 2019']\n",
    "numbers = [len(df4),len(df3),len(df2)]\n",
    "#budget 17 18 19\n",
    "values = [total_fy_17,total_fy_18,total_fy_19]\n",
    "x = np.arange(len(labels)) \n",
    "width = 0.35\n",
    "fig, axs = plt.subplots(figsize = (8,6))\n",
    "rects1 = axs.bar(x - width/2, numbers, width, label='Calls made to SDPD that fiscal year')\n",
    "rects2 = axs.bar(x + width/2, values, width, label='Budget for Crime Response')\n",
    "axs.set_ylabel('Yearly Report')\n",
    "axs.set_title('Total calls made vs. budget set aside for Crime Reponse')\n",
    "axs.set_xticks(x)\n",
    "axs.set_xticklabels(labels)\n",
    "axs.legend(loc='right',bbox_to_anchor=(0.9, 0.85))\n",
    "autolabel(rects1)\n",
    "autolabel(rects2)\n",
    "fig.tight_layout()\n",
    "plt.show()"
   ]
  },
  {
   "cell_type": "markdown",
   "metadata": {},
   "source": [
    "Bar plot showing budget set aside vs number of calls being made, higher budget was also resulted in higher number of calls"
   ]
  },
  {
   "cell_type": "markdown",
   "metadata": {},
   "source": [
    "## Ethics & Privacy"
   ]
  },
  {
   "cell_type": "markdown",
   "metadata": {},
   "source": [
    "   \n",
    "   With the datasets provided openly on the SanDiego.gov website, the privacy was not breeched. In addition to that, the website also mentions if needed further information we could contact them, along with the already provided explanations of codes and descriptions used in the data, giving us a nod to use the information as we see fit. Along with that, no personal information was associated to the data that was provided, but it was rather categorical data available for public knowledge.\n",
    "    \n",
    "    \n",
    "   I also believe that given that the data seemed to be from daily loggings the services do, there was a little to no chance that there were biases involved in the collection of data. However, there were inconsistencies in the way day of the week was recorded in one of the datasets that I had to manually correct; however, if the discrepancy is not observed soon enough, there is a high chance of it misleading the general public."
   ]
  },
  {
   "cell_type": "markdown",
   "metadata": {},
   "source": [
    "## Conclusion & Discussion¶"
   ]
  },
  {
   "cell_type": "markdown",
   "metadata": {},
   "source": [
    "Through the analyses that I performed, I was able to conclude that more calls were made during the early mornings, between 9am and 11 am, most commonly at 10 am, with 2017 being an exception to the trend. I believe this may prove my hypothesis correct that although there are higher chances someone might want to commit a crime in early mornings when public is too busy with their daily tasks, it is equally probable for people to witness a crime or felony being commited in broad daylight, while commuting to places. Secondly, my second hypothesis were proven incorrect as the frequency of calls made per month, in a given year, differed for each year, which would also make sense as, we have not ended this year yet, making it harder to make a conclusive observation. Additionally, my third hypothesis of more calls being made during the weekend rather than weekdays was also proven wrong, as the calls being made were pretty evenly spread through out the week, which again would be a plausable conclusion to reach as the severity of the crimes vary and so there is not a way where crimes will only be commited over one specific time of the week. Lastly, a trend was not noticed with the higher budget being set aside leading to less calls being made, in fact although the highest budget was set aside for the fiscal year of 2019, and 2019 was when the highest number of calls were made. This can be due to a few reasons, but most probably, a higher budget might mean a higher response rate and a higher number of service available to respond to begin with.\n",
    "\n",
    "Overall, I think it was rather uncomforting to know that a trend could not be seen for the time of the year or time  of the week when calls for services are more often made, that may have helped us determine how to prevent encountering dangerous situations now that we will be relying on parks and recreation so heavily. However, it was reassuring to see that the time of the day such as late afternoons and evenings, were not ones that had the highest calls made, meaning less criminal activities take place during that time, allowing the public to be safe when out during those times. It can in fact be assumed just from general knowledge and as is usually those times are when public makes use of parks and recreation to begin with.\n",
    "\n",
    "In the future, I would like to zoom in more into if there are specific areas within San Diego cities that should be avoided later in the evening."
   ]
  },
  {
   "cell_type": "code",
   "execution_count": null,
   "metadata": {},
   "outputs": [],
   "source": []
  }
 ],
 "metadata": {
  "kernelspec": {
   "display_name": "Python 3",
   "language": "python",
   "name": "python3"
  },
  "language_info": {
   "codemirror_mode": {
    "name": "ipython",
    "version": 3
   },
   "file_extension": ".py",
   "mimetype": "text/x-python",
   "name": "python",
   "nbconvert_exporter": "python",
   "pygments_lexer": "ipython3",
   "version": "3.7.6"
  }
 },
 "nbformat": 4,
 "nbformat_minor": 4
}
